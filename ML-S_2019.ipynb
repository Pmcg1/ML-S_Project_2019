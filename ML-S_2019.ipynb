{
 "cells": [
  {
   "cell_type": "markdown",
   "metadata": {},
   "source": [
    "# Machine Learning & Statistics Project 2019"
   ]
  },
  {
   "cell_type": "markdown",
   "metadata": {},
   "source": [
    "Peter McGowan\n",
    "G00190832"
   ]
  },
  {
   "cell_type": "markdown",
   "metadata": {},
   "source": [
    "## Introduction\n",
    "This jupyter notebook contains an investigation of the Boston House Prices dataset for the \"Machine-Learnign and Statistics\" Module on the GMIT HDip in Data Analytics."
   ]
  },
  {
   "cell_type": "markdown",
   "metadata": {},
   "source": [
    "## Background\n",
    "***Add background info here***"
   ]
  },
  {
   "cell_type": "markdown",
   "metadata": {},
   "source": [
    "## Starting Off\n",
    "First we will import the required python libraries."
   ]
  },
  {
   "cell_type": "code",
   "execution_count": 1,
   "metadata": {},
   "outputs": [],
   "source": [
    "# Import pandas for managing data\n",
    "# Import scipy.stats for statistical analysis\n",
    "\n",
    "# Import matplotlib.pyplot and seaborn for visualisations\n",
    "import pandas as pd\n",
    "import scipy.stats as ss\n",
    "import statsmodels.stats.weightstats as ws\n",
    "import matplotlib.pyplot as plt\n",
    "import seaborn as sns"
   ]
  },
  {
   "cell_type": "markdown",
   "metadata": {},
   "source": [
    "scikit-learn conveniently provides the Boston House Prices dataset - we will now load it."
   ]
  },
  {
   "cell_type": "markdown",
   "metadata": {},
   "source": [
    "** change this to import from keras?"
   ]
  },
  {
   "cell_type": "code",
   "execution_count": 2,
   "metadata": {},
   "outputs": [],
   "source": [
    "# Load the boston dataset from sklearn\n",
    "from sklearn.datasets import load_boston\n",
    "boston = load_boston()"
   ]
  },
  {
   "cell_type": "markdown",
   "metadata": {},
   "source": [
    "Check the keys of the dataset #Research this"
   ]
  },
  {
   "cell_type": "code",
   "execution_count": 3,
   "metadata": {},
   "outputs": [
    {
     "name": "stdout",
     "output_type": "stream",
     "text": [
      "dict_keys(['data', 'target', 'feature_names', 'DESCR', 'filename'])\n"
     ]
    }
   ],
   "source": [
    "print(boston.keys())"
   ]
  },
  {
   "cell_type": "markdown",
   "metadata": {},
   "source": [
    "The pandas library includes a versatile \"dataframe\" object - an indexed array that helps with managing multi-dimensional data."
   ]
  },
  {
   "cell_type": "code",
   "execution_count": 4,
   "metadata": {},
   "outputs": [],
   "source": [
    "# Create a dataframe from the boston house prices dataset\n",
    "df = pd.DataFrame(boston.data, columns=boston.feature_names)"
   ]
  },
  {
   "cell_type": "markdown",
   "metadata": {},
   "source": [
    "## Describe"
   ]
  },
  {
   "cell_type": "markdown",
   "metadata": {},
   "source": [
    "### Checks & Descriptive Statistics"
   ]
  },
  {
   "cell_type": "markdown",
   "metadata": {},
   "source": [
    "We'll have a look at the head and tail of the data first of all to check for any obvious issues"
   ]
  },
  {
   "cell_type": "code",
   "execution_count": 5,
   "metadata": {},
   "outputs": [
    {
     "data": {
      "text/html": [
       "<div>\n",
       "<style scoped>\n",
       "    .dataframe tbody tr th:only-of-type {\n",
       "        vertical-align: middle;\n",
       "    }\n",
       "\n",
       "    .dataframe tbody tr th {\n",
       "        vertical-align: top;\n",
       "    }\n",
       "\n",
       "    .dataframe thead th {\n",
       "        text-align: right;\n",
       "    }\n",
       "</style>\n",
       "<table border=\"1\" class=\"dataframe\">\n",
       "  <thead>\n",
       "    <tr style=\"text-align: right;\">\n",
       "      <th></th>\n",
       "      <th>CRIM</th>\n",
       "      <th>ZN</th>\n",
       "      <th>INDUS</th>\n",
       "      <th>CHAS</th>\n",
       "      <th>NOX</th>\n",
       "      <th>RM</th>\n",
       "      <th>AGE</th>\n",
       "      <th>DIS</th>\n",
       "      <th>RAD</th>\n",
       "      <th>TAX</th>\n",
       "      <th>PTRATIO</th>\n",
       "      <th>B</th>\n",
       "      <th>LSTAT</th>\n",
       "    </tr>\n",
       "  </thead>\n",
       "  <tbody>\n",
       "    <tr>\n",
       "      <th>0</th>\n",
       "      <td>0.00632</td>\n",
       "      <td>18.0</td>\n",
       "      <td>2.31</td>\n",
       "      <td>0.0</td>\n",
       "      <td>0.538</td>\n",
       "      <td>6.575</td>\n",
       "      <td>65.2</td>\n",
       "      <td>4.0900</td>\n",
       "      <td>1.0</td>\n",
       "      <td>296.0</td>\n",
       "      <td>15.3</td>\n",
       "      <td>396.90</td>\n",
       "      <td>4.98</td>\n",
       "    </tr>\n",
       "    <tr>\n",
       "      <th>1</th>\n",
       "      <td>0.02731</td>\n",
       "      <td>0.0</td>\n",
       "      <td>7.07</td>\n",
       "      <td>0.0</td>\n",
       "      <td>0.469</td>\n",
       "      <td>6.421</td>\n",
       "      <td>78.9</td>\n",
       "      <td>4.9671</td>\n",
       "      <td>2.0</td>\n",
       "      <td>242.0</td>\n",
       "      <td>17.8</td>\n",
       "      <td>396.90</td>\n",
       "      <td>9.14</td>\n",
       "    </tr>\n",
       "    <tr>\n",
       "      <th>2</th>\n",
       "      <td>0.02729</td>\n",
       "      <td>0.0</td>\n",
       "      <td>7.07</td>\n",
       "      <td>0.0</td>\n",
       "      <td>0.469</td>\n",
       "      <td>7.185</td>\n",
       "      <td>61.1</td>\n",
       "      <td>4.9671</td>\n",
       "      <td>2.0</td>\n",
       "      <td>242.0</td>\n",
       "      <td>17.8</td>\n",
       "      <td>392.83</td>\n",
       "      <td>4.03</td>\n",
       "    </tr>\n",
       "    <tr>\n",
       "      <th>3</th>\n",
       "      <td>0.03237</td>\n",
       "      <td>0.0</td>\n",
       "      <td>2.18</td>\n",
       "      <td>0.0</td>\n",
       "      <td>0.458</td>\n",
       "      <td>6.998</td>\n",
       "      <td>45.8</td>\n",
       "      <td>6.0622</td>\n",
       "      <td>3.0</td>\n",
       "      <td>222.0</td>\n",
       "      <td>18.7</td>\n",
       "      <td>394.63</td>\n",
       "      <td>2.94</td>\n",
       "    </tr>\n",
       "    <tr>\n",
       "      <th>4</th>\n",
       "      <td>0.06905</td>\n",
       "      <td>0.0</td>\n",
       "      <td>2.18</td>\n",
       "      <td>0.0</td>\n",
       "      <td>0.458</td>\n",
       "      <td>7.147</td>\n",
       "      <td>54.2</td>\n",
       "      <td>6.0622</td>\n",
       "      <td>3.0</td>\n",
       "      <td>222.0</td>\n",
       "      <td>18.7</td>\n",
       "      <td>396.90</td>\n",
       "      <td>5.33</td>\n",
       "    </tr>\n",
       "  </tbody>\n",
       "</table>\n",
       "</div>"
      ],
      "text/plain": [
       "      CRIM    ZN  INDUS  CHAS    NOX     RM   AGE     DIS  RAD    TAX  \\\n",
       "0  0.00632  18.0   2.31   0.0  0.538  6.575  65.2  4.0900  1.0  296.0   \n",
       "1  0.02731   0.0   7.07   0.0  0.469  6.421  78.9  4.9671  2.0  242.0   \n",
       "2  0.02729   0.0   7.07   0.0  0.469  7.185  61.1  4.9671  2.0  242.0   \n",
       "3  0.03237   0.0   2.18   0.0  0.458  6.998  45.8  6.0622  3.0  222.0   \n",
       "4  0.06905   0.0   2.18   0.0  0.458  7.147  54.2  6.0622  3.0  222.0   \n",
       "\n",
       "   PTRATIO       B  LSTAT  \n",
       "0     15.3  396.90   4.98  \n",
       "1     17.8  396.90   9.14  \n",
       "2     17.8  392.83   4.03  \n",
       "3     18.7  394.63   2.94  \n",
       "4     18.7  396.90   5.33  "
      ]
     },
     "execution_count": 5,
     "metadata": {},
     "output_type": "execute_result"
    }
   ],
   "source": [
    "df.head()"
   ]
  },
  {
   "cell_type": "code",
   "execution_count": 6,
   "metadata": {},
   "outputs": [
    {
     "data": {
      "text/html": [
       "<div>\n",
       "<style scoped>\n",
       "    .dataframe tbody tr th:only-of-type {\n",
       "        vertical-align: middle;\n",
       "    }\n",
       "\n",
       "    .dataframe tbody tr th {\n",
       "        vertical-align: top;\n",
       "    }\n",
       "\n",
       "    .dataframe thead th {\n",
       "        text-align: right;\n",
       "    }\n",
       "</style>\n",
       "<table border=\"1\" class=\"dataframe\">\n",
       "  <thead>\n",
       "    <tr style=\"text-align: right;\">\n",
       "      <th></th>\n",
       "      <th>CRIM</th>\n",
       "      <th>ZN</th>\n",
       "      <th>INDUS</th>\n",
       "      <th>CHAS</th>\n",
       "      <th>NOX</th>\n",
       "      <th>RM</th>\n",
       "      <th>AGE</th>\n",
       "      <th>DIS</th>\n",
       "      <th>RAD</th>\n",
       "      <th>TAX</th>\n",
       "      <th>PTRATIO</th>\n",
       "      <th>B</th>\n",
       "      <th>LSTAT</th>\n",
       "    </tr>\n",
       "  </thead>\n",
       "  <tbody>\n",
       "    <tr>\n",
       "      <th>501</th>\n",
       "      <td>0.06263</td>\n",
       "      <td>0.0</td>\n",
       "      <td>11.93</td>\n",
       "      <td>0.0</td>\n",
       "      <td>0.573</td>\n",
       "      <td>6.593</td>\n",
       "      <td>69.1</td>\n",
       "      <td>2.4786</td>\n",
       "      <td>1.0</td>\n",
       "      <td>273.0</td>\n",
       "      <td>21.0</td>\n",
       "      <td>391.99</td>\n",
       "      <td>9.67</td>\n",
       "    </tr>\n",
       "    <tr>\n",
       "      <th>502</th>\n",
       "      <td>0.04527</td>\n",
       "      <td>0.0</td>\n",
       "      <td>11.93</td>\n",
       "      <td>0.0</td>\n",
       "      <td>0.573</td>\n",
       "      <td>6.120</td>\n",
       "      <td>76.7</td>\n",
       "      <td>2.2875</td>\n",
       "      <td>1.0</td>\n",
       "      <td>273.0</td>\n",
       "      <td>21.0</td>\n",
       "      <td>396.90</td>\n",
       "      <td>9.08</td>\n",
       "    </tr>\n",
       "    <tr>\n",
       "      <th>503</th>\n",
       "      <td>0.06076</td>\n",
       "      <td>0.0</td>\n",
       "      <td>11.93</td>\n",
       "      <td>0.0</td>\n",
       "      <td>0.573</td>\n",
       "      <td>6.976</td>\n",
       "      <td>91.0</td>\n",
       "      <td>2.1675</td>\n",
       "      <td>1.0</td>\n",
       "      <td>273.0</td>\n",
       "      <td>21.0</td>\n",
       "      <td>396.90</td>\n",
       "      <td>5.64</td>\n",
       "    </tr>\n",
       "    <tr>\n",
       "      <th>504</th>\n",
       "      <td>0.10959</td>\n",
       "      <td>0.0</td>\n",
       "      <td>11.93</td>\n",
       "      <td>0.0</td>\n",
       "      <td>0.573</td>\n",
       "      <td>6.794</td>\n",
       "      <td>89.3</td>\n",
       "      <td>2.3889</td>\n",
       "      <td>1.0</td>\n",
       "      <td>273.0</td>\n",
       "      <td>21.0</td>\n",
       "      <td>393.45</td>\n",
       "      <td>6.48</td>\n",
       "    </tr>\n",
       "    <tr>\n",
       "      <th>505</th>\n",
       "      <td>0.04741</td>\n",
       "      <td>0.0</td>\n",
       "      <td>11.93</td>\n",
       "      <td>0.0</td>\n",
       "      <td>0.573</td>\n",
       "      <td>6.030</td>\n",
       "      <td>80.8</td>\n",
       "      <td>2.5050</td>\n",
       "      <td>1.0</td>\n",
       "      <td>273.0</td>\n",
       "      <td>21.0</td>\n",
       "      <td>396.90</td>\n",
       "      <td>7.88</td>\n",
       "    </tr>\n",
       "  </tbody>\n",
       "</table>\n",
       "</div>"
      ],
      "text/plain": [
       "        CRIM   ZN  INDUS  CHAS    NOX     RM   AGE     DIS  RAD    TAX  \\\n",
       "501  0.06263  0.0  11.93   0.0  0.573  6.593  69.1  2.4786  1.0  273.0   \n",
       "502  0.04527  0.0  11.93   0.0  0.573  6.120  76.7  2.2875  1.0  273.0   \n",
       "503  0.06076  0.0  11.93   0.0  0.573  6.976  91.0  2.1675  1.0  273.0   \n",
       "504  0.10959  0.0  11.93   0.0  0.573  6.794  89.3  2.3889  1.0  273.0   \n",
       "505  0.04741  0.0  11.93   0.0  0.573  6.030  80.8  2.5050  1.0  273.0   \n",
       "\n",
       "     PTRATIO       B  LSTAT  \n",
       "501     21.0  391.99   9.67  \n",
       "502     21.0  396.90   9.08  \n",
       "503     21.0  396.90   5.64  \n",
       "504     21.0  393.45   6.48  \n",
       "505     21.0  396.90   7.88  "
      ]
     },
     "execution_count": 6,
     "metadata": {},
     "output_type": "execute_result"
    }
   ],
   "source": [
    "df.tail()"
   ]
  },
  {
   "cell_type": "markdown",
   "metadata": {},
   "source": [
    "We shoud check also for missing values:"
   ]
  },
  {
   "cell_type": "code",
   "execution_count": 7,
   "metadata": {},
   "outputs": [
    {
     "data": {
      "text/plain": [
       "CRIM       0\n",
       "ZN         0\n",
       "INDUS      0\n",
       "CHAS       0\n",
       "NOX        0\n",
       "RM         0\n",
       "AGE        0\n",
       "DIS        0\n",
       "RAD        0\n",
       "TAX        0\n",
       "PTRATIO    0\n",
       "B          0\n",
       "LSTAT      0\n",
       "dtype: int64"
      ]
     },
     "execution_count": 7,
     "metadata": {},
     "output_type": "execute_result"
    }
   ],
   "source": [
    "df.isnull().sum()"
   ]
  },
  {
   "cell_type": "markdown",
   "metadata": {},
   "source": [
    "All seems to be in order so far.\n",
    "\n",
    "What do the column headers mean? We can use the following command to dive into it:"
   ]
  },
  {
   "cell_type": "code",
   "execution_count": 8,
   "metadata": {},
   "outputs": [
    {
     "name": "stdout",
     "output_type": "stream",
     "text": [
      ".. _boston_dataset:\n",
      "\n",
      "Boston house prices dataset\n",
      "---------------------------\n",
      "\n",
      "**Data Set Characteristics:**  \n",
      "\n",
      "    :Number of Instances: 506 \n",
      "\n",
      "    :Number of Attributes: 13 numeric/categorical predictive. Median Value (attribute 14) is usually the target.\n",
      "\n",
      "    :Attribute Information (in order):\n",
      "        - CRIM     per capita crime rate by town\n",
      "        - ZN       proportion of residential land zoned for lots over 25,000 sq.ft.\n",
      "        - INDUS    proportion of non-retail business acres per town\n",
      "        - CHAS     Charles River dummy variable (= 1 if tract bounds river; 0 otherwise)\n",
      "        - NOX      nitric oxides concentration (parts per 10 million)\n",
      "        - RM       average number of rooms per dwelling\n",
      "        - AGE      proportion of owner-occupied units built prior to 1940\n",
      "        - DIS      weighted distances to five Boston employment centres\n",
      "        - RAD      index of accessibility to radial highways\n",
      "        - TAX      full-value property-tax rate per $10,000\n",
      "        - PTRATIO  pupil-teacher ratio by town\n",
      "        - B        1000(Bk - 0.63)^2 where Bk is the proportion of blacks by town\n",
      "        - LSTAT    % lower status of the population\n",
      "        - MEDV     Median value of owner-occupied homes in $1000's\n",
      "\n",
      "    :Missing Attribute Values: None\n",
      "\n",
      "    :Creator: Harrison, D. and Rubinfeld, D.L.\n",
      "\n",
      "This is a copy of UCI ML housing dataset.\n",
      "https://archive.ics.uci.edu/ml/machine-learning-databases/housing/\n",
      "\n",
      "\n",
      "This dataset was taken from the StatLib library which is maintained at Carnegie Mellon University.\n",
      "\n",
      "The Boston house-price data of Harrison, D. and Rubinfeld, D.L. 'Hedonic\n",
      "prices and the demand for clean air', J. Environ. Economics & Management,\n",
      "vol.5, 81-102, 1978.   Used in Belsley, Kuh & Welsch, 'Regression diagnostics\n",
      "...', Wiley, 1980.   N.B. Various transformations are used in the table on\n",
      "pages 244-261 of the latter.\n",
      "\n",
      "The Boston house-price data has been used in many machine learning papers that address regression\n",
      "problems.   \n",
      "     \n",
      ".. topic:: References\n",
      "\n",
      "   - Belsley, Kuh & Welsch, 'Regression diagnostics: Identifying Influential Data and Sources of Collinearity', Wiley, 1980. 244-261.\n",
      "   - Quinlan,R. (1993). Combining Instance-Based and Model-Based Learning. In Proceedings on the Tenth International Conference of Machine Learning, 236-243, University of Massachusetts, Amherst. Morgan Kaufmann.\n",
      "\n"
     ]
    }
   ],
   "source": [
    "print(boston.DESCR)"
   ]
  },
  {
   "cell_type": "markdown",
   "metadata": {},
   "source": [
    "The MEDV column wasn't included in the earlier outputs.\n",
    "This is because scikit-learn assumes that you wish to use it as the 'target' of the dataset.\n",
    "We can check that its included:"
   ]
  },
  {
   "cell_type": "code",
   "execution_count": 9,
   "metadata": {},
   "outputs": [
    {
     "name": "stdout",
     "output_type": "stream",
     "text": [
      "(506,)\n"
     ]
    }
   ],
   "source": [
    "print(boston.target.shape)"
   ]
  },
  {
   "cell_type": "markdown",
   "metadata": {},
   "source": [
    "This matches the output of the DESCR command so it should be ok.\n",
    "Now we need to add it as a column to the dataframe to make our lives a bit easier later on."
   ]
  },
  {
   "cell_type": "code",
   "execution_count": 10,
   "metadata": {},
   "outputs": [],
   "source": [
    "df['MEDV'] = boston.target"
   ]
  },
  {
   "cell_type": "markdown",
   "metadata": {},
   "source": [
    "Now output the summary statistics of the dataframe to see how it looks:"
   ]
  },
  {
   "cell_type": "code",
   "execution_count": 11,
   "metadata": {},
   "outputs": [
    {
     "data": {
      "text/html": [
       "<div>\n",
       "<style scoped>\n",
       "    .dataframe tbody tr th:only-of-type {\n",
       "        vertical-align: middle;\n",
       "    }\n",
       "\n",
       "    .dataframe tbody tr th {\n",
       "        vertical-align: top;\n",
       "    }\n",
       "\n",
       "    .dataframe thead th {\n",
       "        text-align: right;\n",
       "    }\n",
       "</style>\n",
       "<table border=\"1\" class=\"dataframe\">\n",
       "  <thead>\n",
       "    <tr style=\"text-align: right;\">\n",
       "      <th></th>\n",
       "      <th>CRIM</th>\n",
       "      <th>ZN</th>\n",
       "      <th>INDUS</th>\n",
       "      <th>CHAS</th>\n",
       "      <th>NOX</th>\n",
       "      <th>RM</th>\n",
       "      <th>AGE</th>\n",
       "      <th>DIS</th>\n",
       "      <th>RAD</th>\n",
       "      <th>TAX</th>\n",
       "      <th>PTRATIO</th>\n",
       "      <th>B</th>\n",
       "      <th>LSTAT</th>\n",
       "      <th>MEDV</th>\n",
       "    </tr>\n",
       "  </thead>\n",
       "  <tbody>\n",
       "    <tr>\n",
       "      <th>count</th>\n",
       "      <td>506.000000</td>\n",
       "      <td>506.000000</td>\n",
       "      <td>506.000000</td>\n",
       "      <td>506.000000</td>\n",
       "      <td>506.000000</td>\n",
       "      <td>506.000000</td>\n",
       "      <td>506.000000</td>\n",
       "      <td>506.000000</td>\n",
       "      <td>506.000000</td>\n",
       "      <td>506.000000</td>\n",
       "      <td>506.000000</td>\n",
       "      <td>506.000000</td>\n",
       "      <td>506.000000</td>\n",
       "      <td>506.000000</td>\n",
       "    </tr>\n",
       "    <tr>\n",
       "      <th>mean</th>\n",
       "      <td>3.613524</td>\n",
       "      <td>11.363636</td>\n",
       "      <td>11.136779</td>\n",
       "      <td>0.069170</td>\n",
       "      <td>0.554695</td>\n",
       "      <td>6.284634</td>\n",
       "      <td>68.574901</td>\n",
       "      <td>3.795043</td>\n",
       "      <td>9.549407</td>\n",
       "      <td>408.237154</td>\n",
       "      <td>18.455534</td>\n",
       "      <td>356.674032</td>\n",
       "      <td>12.653063</td>\n",
       "      <td>22.532806</td>\n",
       "    </tr>\n",
       "    <tr>\n",
       "      <th>std</th>\n",
       "      <td>8.601545</td>\n",
       "      <td>23.322453</td>\n",
       "      <td>6.860353</td>\n",
       "      <td>0.253994</td>\n",
       "      <td>0.115878</td>\n",
       "      <td>0.702617</td>\n",
       "      <td>28.148861</td>\n",
       "      <td>2.105710</td>\n",
       "      <td>8.707259</td>\n",
       "      <td>168.537116</td>\n",
       "      <td>2.164946</td>\n",
       "      <td>91.294864</td>\n",
       "      <td>7.141062</td>\n",
       "      <td>9.197104</td>\n",
       "    </tr>\n",
       "    <tr>\n",
       "      <th>min</th>\n",
       "      <td>0.006320</td>\n",
       "      <td>0.000000</td>\n",
       "      <td>0.460000</td>\n",
       "      <td>0.000000</td>\n",
       "      <td>0.385000</td>\n",
       "      <td>3.561000</td>\n",
       "      <td>2.900000</td>\n",
       "      <td>1.129600</td>\n",
       "      <td>1.000000</td>\n",
       "      <td>187.000000</td>\n",
       "      <td>12.600000</td>\n",
       "      <td>0.320000</td>\n",
       "      <td>1.730000</td>\n",
       "      <td>5.000000</td>\n",
       "    </tr>\n",
       "    <tr>\n",
       "      <th>25%</th>\n",
       "      <td>0.082045</td>\n",
       "      <td>0.000000</td>\n",
       "      <td>5.190000</td>\n",
       "      <td>0.000000</td>\n",
       "      <td>0.449000</td>\n",
       "      <td>5.885500</td>\n",
       "      <td>45.025000</td>\n",
       "      <td>2.100175</td>\n",
       "      <td>4.000000</td>\n",
       "      <td>279.000000</td>\n",
       "      <td>17.400000</td>\n",
       "      <td>375.377500</td>\n",
       "      <td>6.950000</td>\n",
       "      <td>17.025000</td>\n",
       "    </tr>\n",
       "    <tr>\n",
       "      <th>50%</th>\n",
       "      <td>0.256510</td>\n",
       "      <td>0.000000</td>\n",
       "      <td>9.690000</td>\n",
       "      <td>0.000000</td>\n",
       "      <td>0.538000</td>\n",
       "      <td>6.208500</td>\n",
       "      <td>77.500000</td>\n",
       "      <td>3.207450</td>\n",
       "      <td>5.000000</td>\n",
       "      <td>330.000000</td>\n",
       "      <td>19.050000</td>\n",
       "      <td>391.440000</td>\n",
       "      <td>11.360000</td>\n",
       "      <td>21.200000</td>\n",
       "    </tr>\n",
       "    <tr>\n",
       "      <th>75%</th>\n",
       "      <td>3.677083</td>\n",
       "      <td>12.500000</td>\n",
       "      <td>18.100000</td>\n",
       "      <td>0.000000</td>\n",
       "      <td>0.624000</td>\n",
       "      <td>6.623500</td>\n",
       "      <td>94.075000</td>\n",
       "      <td>5.188425</td>\n",
       "      <td>24.000000</td>\n",
       "      <td>666.000000</td>\n",
       "      <td>20.200000</td>\n",
       "      <td>396.225000</td>\n",
       "      <td>16.955000</td>\n",
       "      <td>25.000000</td>\n",
       "    </tr>\n",
       "    <tr>\n",
       "      <th>max</th>\n",
       "      <td>88.976200</td>\n",
       "      <td>100.000000</td>\n",
       "      <td>27.740000</td>\n",
       "      <td>1.000000</td>\n",
       "      <td>0.871000</td>\n",
       "      <td>8.780000</td>\n",
       "      <td>100.000000</td>\n",
       "      <td>12.126500</td>\n",
       "      <td>24.000000</td>\n",
       "      <td>711.000000</td>\n",
       "      <td>22.000000</td>\n",
       "      <td>396.900000</td>\n",
       "      <td>37.970000</td>\n",
       "      <td>50.000000</td>\n",
       "    </tr>\n",
       "  </tbody>\n",
       "</table>\n",
       "</div>"
      ],
      "text/plain": [
       "             CRIM          ZN       INDUS        CHAS         NOX          RM  \\\n",
       "count  506.000000  506.000000  506.000000  506.000000  506.000000  506.000000   \n",
       "mean     3.613524   11.363636   11.136779    0.069170    0.554695    6.284634   \n",
       "std      8.601545   23.322453    6.860353    0.253994    0.115878    0.702617   \n",
       "min      0.006320    0.000000    0.460000    0.000000    0.385000    3.561000   \n",
       "25%      0.082045    0.000000    5.190000    0.000000    0.449000    5.885500   \n",
       "50%      0.256510    0.000000    9.690000    0.000000    0.538000    6.208500   \n",
       "75%      3.677083   12.500000   18.100000    0.000000    0.624000    6.623500   \n",
       "max     88.976200  100.000000   27.740000    1.000000    0.871000    8.780000   \n",
       "\n",
       "              AGE         DIS         RAD         TAX     PTRATIO           B  \\\n",
       "count  506.000000  506.000000  506.000000  506.000000  506.000000  506.000000   \n",
       "mean    68.574901    3.795043    9.549407  408.237154   18.455534  356.674032   \n",
       "std     28.148861    2.105710    8.707259  168.537116    2.164946   91.294864   \n",
       "min      2.900000    1.129600    1.000000  187.000000   12.600000    0.320000   \n",
       "25%     45.025000    2.100175    4.000000  279.000000   17.400000  375.377500   \n",
       "50%     77.500000    3.207450    5.000000  330.000000   19.050000  391.440000   \n",
       "75%     94.075000    5.188425   24.000000  666.000000   20.200000  396.225000   \n",
       "max    100.000000   12.126500   24.000000  711.000000   22.000000  396.900000   \n",
       "\n",
       "            LSTAT        MEDV  \n",
       "count  506.000000  506.000000  \n",
       "mean    12.653063   22.532806  \n",
       "std      7.141062    9.197104  \n",
       "min      1.730000    5.000000  \n",
       "25%      6.950000   17.025000  \n",
       "50%     11.360000   21.200000  \n",
       "75%     16.955000   25.000000  \n",
       "max     37.970000   50.000000  "
      ]
     },
     "execution_count": 11,
     "metadata": {},
     "output_type": "execute_result"
    }
   ],
   "source": [
    "df.describe()"
   ]
  },
  {
   "cell_type": "markdown",
   "metadata": {},
   "source": [
    "The data seems to have imported correctly and we now have it in a format that we can work with."
   ]
  },
  {
   "cell_type": "markdown",
   "metadata": {},
   "source": [
    "### Visualisations\n",
    "Now we can start creating plots.\n",
    "Firstly, the distribution of the Median House Value:"
   ]
  },
  {
   "cell_type": "code",
   "execution_count": 12,
   "metadata": {},
   "outputs": [
    {
     "data": {
      "text/plain": [
       "Text(0.5, 1.0, 'Distribution of Median House Value')"
      ]
     },
     "execution_count": 12,
     "metadata": {},
     "output_type": "execute_result"
    },
    {
     "data": {
      "image/png": "[encoded data removed]",
      "text/plain": [
       "<Figure size 432x288 with 1 Axes>"
      ]
     },
     "metadata": {
      "needs_background": "light"
     },
     "output_type": "display_data"
    }
   ],
   "source": [
    "sns.distplot(df['MEDV'], color='g')\n",
    "plt.xlabel('Median value of owner-occupied homes in $1000\\'s')\n",
    "plt.ylabel('Frequency')\n",
    "plt.title('Distribution of Median House Value', fontsize=14)"
   ]
  },
  {
   "cell_type": "markdown",
   "metadata": {},
   "source": [
    "We can also look at the number of rooms per dwelling like this."
   ]
  },
  {
   "cell_type": "code",
   "execution_count": 13,
   "metadata": {},
   "outputs": [
    {
     "data": {
      "text/plain": [
       "Text(0.5, 1.0, 'Distribution of Rooms')"
      ]
     },
     "execution_count": 13,
     "metadata": {},
     "output_type": "execute_result"
    },
    {
     "data": {
      "image/png": "[encoded data removed]",
      "text/plain": [
       "<Figure size 432x288 with 1 Axes>"
      ]
     },
     "metadata": {
      "needs_background": "light"
     },
     "output_type": "display_data"
    }
   ],
   "source": [
    "sns.distplot(df['RM'], color='y')\n",
    "plt.xlabel('Average number of rooms per dwelling')\n",
    "plt.ylabel('Frequency')\n",
    "plt.title('Distribution of Rooms', fontsize=14)"
   ]
  },
  {
   "cell_type": "markdown",
   "metadata": {},
   "source": [
    "What about the relationships between some of the statistics and the median house value?\n",
    "Firstly we look at DIS:"
   ]
  },
  {
   "cell_type": "code",
   "execution_count": 14,
   "metadata": {},
   "outputs": [
    {
     "data": {
      "text/plain": [
       "Text(0.5, 1.0, 'MEDV vs DIS')"
      ]
     },
     "execution_count": 14,
     "metadata": {},
     "output_type": "execute_result"
    },
    {
     "data": {
      "image/png": "[encoded data removed]",
      "text/plain": [
       "<Figure size 432x288 with 1 Axes>"
      ]
     },
     "metadata": {
      "needs_background": "light"
     },
     "output_type": "display_data"
    }
   ],
   "source": [
    "sns.scatterplot(x='MEDV', y='DIS', data=df)\n",
    "plt.xlabel('Median value of owner-occupied homes in $1000\\'s')\n",
    "\n",
    "plt.ylabel('Weighted distances to five \\nBoston employment centres')\n",
    "plt.title('MEDV vs DIS', fontsize=14)"
   ]
  },
  {
   "cell_type": "markdown",
   "metadata": {},
   "source": [
    "It is difficult to tell if a definite linear relationship exists between these variables, but an unusual vertical line of values on the MEDV=50 line stand out somewhat."
   ]
  },
  {
   "cell_type": "markdown",
   "metadata": {},
   "source": [
    "We can look at RAD also:"
   ]
  },
  {
   "cell_type": "code",
   "execution_count": 15,
   "metadata": {},
   "outputs": [
    {
     "data": {
      "text/plain": [
       "Text(0.5, 1.0, 'MEDV vs RM')"
      ]
     },
     "execution_count": 15,
     "metadata": {},
     "output_type": "execute_result"
    },
    {
     "data": {
      "image/png": "[encoded data removed]",
      "text/plain": [
       "<Figure size 432x288 with 1 Axes>"
      ]
     },
     "metadata": {
      "needs_background": "light"
     },
     "output_type": "display_data"
    }
   ],
   "source": [
    "sns.scatterplot(x='MEDV', y='RM', data=df)\n",
    "plt.xlabel('Median value of owner-occupied homes in $1000\\'s')\n",
    "plt.ylabel('Average number of rooms per dwelling')\n",
    "plt.title('MEDV vs RM', fontsize=14)"
   ]
  },
  {
   "cell_type": "markdown",
   "metadata": {},
   "source": [
    "The linear relationship is much more apparent here - however the clustering of points on the MEDV=50 mark is even more apparent in this plot. This will require further investigation. "
   ]
  },
  {
   "cell_type": "code",
   "execution_count": 16,
   "metadata": {},
   "outputs": [
    {
     "data": {
      "text/plain": [
       "Text(0.5, 1.0, 'MEDV vs RAD')"
      ]
     },
     "execution_count": 16,
     "metadata": {},
     "output_type": "execute_result"
    },
    {
     "data": {
      "image/png": "[encoded data removed]",
      "text/plain": [
       "<Figure size 432x288 with 1 Axes>"
      ]
     },
     "metadata": {
      "needs_background": "light"
     },
     "output_type": "display_data"
    }
   ],
   "source": [
    "sns.scatterplot(x='MEDV', y='RAD', data=df)\n",
    "plt.xlabel('Median value of owner-occupied homes in $1000\\'s')\n",
    "plt.ylabel('Index of accessibility to radial highways')\n",
    "plt.title('MEDV vs RAD', fontsize=14)"
   ]
  },
  {
   "cell_type": "markdown",
   "metadata": {},
   "source": [
    "This is quite a bit different to the other plots - the RAD value refers to \"index of accessibility to major highways\" - it appears that there is a broad range of houses values that have an accessibility rating between 0 and 10, then a very large gap, with a range of houses in the low- to medium price range (with a single high price outlier) with a much higher index of around 24."
   ]
  },
  {
   "cell_type": "markdown",
   "metadata": {},
   "source": [
    "Next, we can use a box and whisker plot to look at some of the descriptive statistics of the variables."
   ]
  },
  {
   "cell_type": "code",
   "execution_count": 17,
   "metadata": {},
   "outputs": [
    {
     "data": {
      "text/plain": [
       "Text(0.5, 1, 'Box and Whisker Plots for Each Variable')"
      ]
     },
     "execution_count": 17,
     "metadata": {},
     "output_type": "execute_result"
    },
    {
     "data": {
      "image/png": "[encoded data removed]",
      "text/plain": [
       "<Figure size 900x360 with 1 Axes>"
      ]
     },
     "metadata": {
      "needs_background": "light"
     },
     "output_type": "display_data"
    }
   ],
   "source": [
    "g = sns.catplot(x='value', y='variable', data=pd.melt(df), kind='box', height=5, aspect=2.5);\n",
    "plt.title('Box and Whisker Plots for Each Variable', fontsize=14)"
   ]
  },
  {
   "cell_type": "markdown",
   "metadata": {},
   "source": [
    "Clearly, they all have very distinctive characteristics - but we already have most of this information in numerical format. What this really tells us is that certain (most) variables have a good number of outliers - this will be a consideration in development of our neural network later."
   ]
  },
  {
   "cell_type": "markdown",
   "metadata": {},
   "source": [
    "## Infer"
   ]
  },
  {
   "cell_type": "code",
   "execution_count": 18,
   "metadata": {},
   "outputs": [
    {
     "data": {
      "text/plain": [
       "Text(0.5, 1.0, 'MEDV vs CHAS')"
      ]
     },
     "execution_count": 18,
     "metadata": {},
     "output_type": "execute_result"
    },
    {
     "data": {
      "image/png": "[encoded data removed]",
      "text/plain": [
       "<Figure size 432x288 with 1 Axes>"
      ]
     },
     "metadata": {
      "needs_background": "light"
     },
     "output_type": "display_data"
    }
   ],
   "source": [
    "sns.regplot(x='MEDV', y='CHAS', data=df)\n",
    "plt.xlabel('Median value of owner-occupied homes in $1000\\'s')\n",
    "plt.ylabel('Charles River dummy variable \\n(= 1 if tract bounds river; 0 otherwise)')\n",
    "plt.title('MEDV vs CHAS', fontsize=14)"
   ]
  },
  {
   "cell_type": "raw",
   "metadata": {},
   "source": [
    "First we'll display the range of house values per CHAS value, side by side on a catplot. We'll leave jitter switched on to get a better idea of the density of house."
   ]
  },
  {
   "cell_type": "markdown",
   "metadata": {},
   "source": [
    "*** Add a violin plot?? ***"
   ]
  },
  {
   "cell_type": "code",
   "execution_count": 19,
   "metadata": {},
   "outputs": [
    {
     "data": {
      "text/plain": [
       "Text(0.5, 1, 'CHAS vs MEDV')"
      ]
     },
     "execution_count": 19,
     "metadata": {},
     "output_type": "execute_result"
    },
    {
     "data": {
      "image/png": "[encoded data removed]",
      "text/plain": [
       "<Figure size 360x360 with 1 Axes>"
      ]
     },
     "metadata": {
      "needs_background": "light"
     },
     "output_type": "display_data"
    }
   ],
   "source": [
    "sns.catplot(x='CHAS', y='MEDV',  data=df)\n",
    "plt.xlabel('Charles River dummy variable \\n(= 1 if tract bounds river; 0 otherwise)')\n",
    "plt.ylabel('Median value of owner-occupied homes in $1000\\'s')\n",
    "plt.title('CHAS vs MEDV', fontsize=14)"
   ]
  },
  {
   "cell_type": "markdown",
   "metadata": {},
   "source": [
    "Now lets visualise the distribution of this using histograms with KDEs overlaid on the same plot:"
   ]
  },
  {
   "cell_type": "code",
   "execution_count": 20,
   "metadata": {},
   "outputs": [
    {
     "data": {
      "text/plain": [
       "<matplotlib.legend.Legend at 0x2dd49915488>"
      ]
     },
     "execution_count": 20,
     "metadata": {},
     "output_type": "execute_result"
    },
    {
     "data": {
      "image/png": "[encoded data removed]",
      "text/plain": [
       "<Figure size 432x288 with 1 Axes>"
      ]
     },
     "metadata": {
      "needs_background": "light"
     },
     "output_type": "display_data"
    }
   ],
   "source": [
    "# Extract subsets of the dataframe for houses on the Charles River (ry) vs houses not on it (rn)\n",
    "ry = df.loc[df['CHAS'] == 1]\n",
    "rn = df.loc[df['CHAS'] == 0]\n",
    "\n",
    "# Overlay a distplot for each on the same plot for comparison\n",
    "sns.distplot(ry['MEDV'], color='b', label = \"CHAS = 1\")\n",
    "sns.distplot(rn['MEDV'], color='r', label = \"CHAS = 0\")\n",
    "\n",
    "plt.xlabel('Average number of rooms per dwelling')\n",
    "plt.ylabel('Frequency')\n",
    "plt.title('Distribution of Median House Value', fontsize=14)\n",
    "plt.legend()"
   ]
  },
  {
   "cell_type": "markdown",
   "metadata": {},
   "source": [
    "Although the histograms of the two data sets look quite different, the shapes of the kernal density estimate plots are not dissimilar - although it can be said with reasonable confidence that the values of houses on the Charles River appear to be generally higher than those not on it. We will have to confirm this now by carrying out statistical tests using scipy."
   ]
  },
  {
   "cell_type": "markdown",
   "metadata": {},
   "source": [
    "### T-Test"
   ]
  },
  {
   "cell_type": "markdown",
   "metadata": {},
   "source": [
    "We can carry out a t-test using scipy.stats to check if there is a significant difference in median house prices between those along the Charles River and those that are not. We need to use an independent t-test."
   ]
  },
  {
   "cell_type": "markdown",
   "metadata": {},
   "source": [
    "*** should confirm that the t-test assumptions are met?"
   ]
  },
  {
   "cell_type": "markdown",
   "metadata": {},
   "source": [
    "The null hypothesis here is that the means are equal. Therefore if there is no significant difference between the means, the t-statistic should be close to 0."
   ]
  },
  {
   "cell_type": "markdown",
   "metadata": {},
   "source": [
    "First we need MEDV split into two separate sets - one where CHAS=0 and one where CHAS=1. This has already been carried out to generate the histograms above:\n",
    "* rn = dataframe containing only data on houses not along the Charles River\n",
    "* ry = dataframe containing only data on houses along the Charles River"
   ]
  },
  {
   "cell_type": "code",
   "execution_count": 21,
   "metadata": {},
   "outputs": [
    {
     "data": {
      "text/plain": [
       "Ttest_indResult(statistic=-3.996437466090509, pvalue=7.390623170519905e-05)"
      ]
     },
     "execution_count": 21,
     "metadata": {},
     "output_type": "execute_result"
    }
   ],
   "source": [
    "ss.ttest_ind(rn['MEDV'], ry['MEDV'])"
   ]
  },
  {
   "cell_type": "markdown",
   "metadata": {},
   "source": [
    "Results:\n",
    "* t-Statistic: -3.996\n",
    "* p-value: 7.391e<sup>-5</sup>"
   ]
  },
  {
   "cell_type": "markdown",
   "metadata": {},
   "source": [
    "We can also check this by carrying out the t-test using statsmodel instead:"
   ]
  },
  {
   "cell_type": "code",
   "execution_count": 22,
   "metadata": {},
   "outputs": [
    {
     "data": {
      "text/plain": [
       "(-3.9964374660905095, 7.390623170519883e-05, 504.0)"
      ]
     },
     "execution_count": 22,
     "metadata": {},
     "output_type": "execute_result"
    }
   ],
   "source": [
    "ws.ttest_ind(rn['MEDV'], ry['MEDV'])"
   ]
  },
  {
   "cell_type": "markdown",
   "metadata": {},
   "source": [
    "The results are identical - with the inclusion of the degrees of freedom (504)."
   ]
  },
  {
   "cell_type": "markdown",
   "metadata": {},
   "source": [
    "#### p-value\n",
    "We generally accept a p-value of 0.5 as being the lower bound of whether a relationship is significant or not. Our calculated p-value is sinificantly lower than this, we can therefore conclude that there is a significant difference between the means - in other words we reject the null hypothesis and can state that there is a significant difference in median house prices between those on the Charles River and those not on it."
   ]
  },
  {
   "cell_type": "markdown",
   "metadata": {},
   "source": [
    "** find reference for the above?"
   ]
  },
  {
   "cell_type": "markdown",
   "metadata": {},
   "source": [
    "### Conclusions"
   ]
  },
  {
   "cell_type": "markdown",
   "metadata": {},
   "source": [
    "We can conclude that the difference in the means is statistically significant. However we should caveat this - earlier we noted that an issue with the MEDV values - the distribution of the values indicate that the value above 50 have been truncated for some reason, this would certainly have an effect on the means."
   ]
  },
  {
   "cell_type": "markdown",
   "metadata": {},
   "source": [
    "## Predict"
   ]
  },
  {
   "cell_type": "markdown",
   "metadata": {},
   "source": [
    "We will now use the keras package to create a neural network to predict the median house price based on the datasets other variables."
   ]
  },
  {
   "cell_type": "code",
   "execution_count": 23,
   "metadata": {},
   "outputs": [
    {
     "name": "stderr",
     "output_type": "stream",
     "text": [
      "Using TensorFlow backend.\n",
      "C:\\Users\\Peter\\AppData\\Local\\Continuum\\anaconda3\\lib\\site-packages\\tensorflow\\python\\framework\\dtypes.py:526: FutureWarning: Passing (type, 1) or '1type' as a synonym of type is deprecated; in a future version of numpy, it will be understood as (type, (1,)) / '(1,)type'.\n",
      "  _np_qint8 = np.dtype([(\"qint8\", np.int8, 1)])\n",
      "C:\\Users\\Peter\\AppData\\Local\\Continuum\\anaconda3\\lib\\site-packages\\tensorflow\\python\\framework\\dtypes.py:527: FutureWarning: Passing (type, 1) or '1type' as a synonym of type is deprecated; in a future version of numpy, it will be understood as (type, (1,)) / '(1,)type'.\n",
      "  _np_quint8 = np.dtype([(\"quint8\", np.uint8, 1)])\n",
      "C:\\Users\\Peter\\AppData\\Local\\Continuum\\anaconda3\\lib\\site-packages\\tensorflow\\python\\framework\\dtypes.py:528: FutureWarning: Passing (type, 1) or '1type' as a synonym of type is deprecated; in a future version of numpy, it will be understood as (type, (1,)) / '(1,)type'.\n",
      "  _np_qint16 = np.dtype([(\"qint16\", np.int16, 1)])\n",
      "C:\\Users\\Peter\\AppData\\Local\\Continuum\\anaconda3\\lib\\site-packages\\tensorflow\\python\\framework\\dtypes.py:529: FutureWarning: Passing (type, 1) or '1type' as a synonym of type is deprecated; in a future version of numpy, it will be understood as (type, (1,)) / '(1,)type'.\n",
      "  _np_quint16 = np.dtype([(\"quint16\", np.uint16, 1)])\n",
      "C:\\Users\\Peter\\AppData\\Local\\Continuum\\anaconda3\\lib\\site-packages\\tensorflow\\python\\framework\\dtypes.py:530: FutureWarning: Passing (type, 1) or '1type' as a synonym of type is deprecated; in a future version of numpy, it will be understood as (type, (1,)) / '(1,)type'.\n",
      "  _np_qint32 = np.dtype([(\"qint32\", np.int32, 1)])\n",
      "C:\\Users\\Peter\\AppData\\Local\\Continuum\\anaconda3\\lib\\site-packages\\tensorflow\\python\\framework\\dtypes.py:535: FutureWarning: Passing (type, 1) or '1type' as a synonym of type is deprecated; in a future version of numpy, it will be understood as (type, (1,)) / '(1,)type'.\n",
      "  np_resource = np.dtype([(\"resource\", np.ubyte, 1)])\n"
     ]
    }
   ],
   "source": [
    "import keras as kr\n",
    "import numpy as np"
   ]
  },
  {
   "cell_type": "markdown",
   "metadata": {},
   "source": [
    "** need to choose variables to predict with - ideally those that correlate with the house price, may be of interest to choose several with varying degrees of correlation"
   ]
  },
  {
   "cell_type": "markdown",
   "metadata": {},
   "source": [
    "### Choosing Correlated Variables"
   ]
  },
  {
   "cell_type": "code",
   "execution_count": 24,
   "metadata": {},
   "outputs": [
    {
     "data": {
      "text/plain": [
       "Text(0.5, 1, 'Heatmap of Correlations between Variables')"
      ]
     },
     "execution_count": 24,
     "metadata": {},
     "output_type": "execute_result"
    },
    {
     "data": {
      "image/png": "[encoded data removed]",
      "text/plain": [
       "<Figure size 864x720 with 2 Axes>"
      ]
     },
     "metadata": {},
     "output_type": "display_data"
    }
   ],
   "source": [
    "# Seaborn heatmap\n",
    "sns.set(style='dark')\n",
    "\n",
    "# Mask upper triangle\n",
    "mask = np.zeros_like(df.corr(), dtype=np.bool)\n",
    "mask[np.triu_indices_from(mask)] = True\n",
    "\n",
    "plt.figure(figsize = (12,10))\n",
    "sns.heatmap(df.corr().round(2), annot=True, mask=mask, cmap='coolwarm', center=0, linewidths=0.2)\n",
    "\n",
    "plt.title('Heatmap of Correlations between Variables', fontsize=14)"
   ]
  },
  {
   "cell_type": "markdown",
   "metadata": {},
   "source": [
    "Results: 10 fields most strongly correlated with MEDV are:\n",
    "* ~~CRIM: -0.39~~\n",
    "* ~~ZN: 0.36~~\n",
    "* INDUS: -0.48\n",
    "* NOX: -0.43\n",
    "* RM: 0.7\n",
    "* ~~RAD: -0.38~~\n",
    "* TAX: -0.47\n",
    "* PTRATIO: -0.51\n",
    "* ~~B: 0.33~~\n",
    "* LSTAT: -0.74\n",
    "    \n",
    "We can use these as inputs for the model."
   ]
  },
  {
   "cell_type": "markdown",
   "metadata": {},
   "source": [
    "** need to decide on layers, numbers of neurons"
   ]
  },
  {
   "cell_type": "code",
   "execution_count": 25,
   "metadata": {},
   "outputs": [
    {
     "data": {
      "text/html": [
       "<div>\n",
       "<style scoped>\n",
       "    .dataframe tbody tr th:only-of-type {\n",
       "        vertical-align: middle;\n",
       "    }\n",
       "\n",
       "    .dataframe tbody tr th {\n",
       "        vertical-align: top;\n",
       "    }\n",
       "\n",
       "    .dataframe thead th {\n",
       "        text-align: right;\n",
       "    }\n",
       "</style>\n",
       "<table border=\"1\" class=\"dataframe\">\n",
       "  <thead>\n",
       "    <tr style=\"text-align: right;\">\n",
       "      <th></th>\n",
       "      <th>INDUS</th>\n",
       "      <th>NOX</th>\n",
       "      <th>RM</th>\n",
       "      <th>TAX</th>\n",
       "      <th>PTRATIO</th>\n",
       "      <th>LSTAT</th>\n",
       "    </tr>\n",
       "  </thead>\n",
       "  <tbody>\n",
       "    <tr>\n",
       "      <th>count</th>\n",
       "      <td>506.000000</td>\n",
       "      <td>506.000000</td>\n",
       "      <td>506.000000</td>\n",
       "      <td>506.000000</td>\n",
       "      <td>506.000000</td>\n",
       "      <td>506.000000</td>\n",
       "    </tr>\n",
       "    <tr>\n",
       "      <th>mean</th>\n",
       "      <td>11.136779</td>\n",
       "      <td>0.554695</td>\n",
       "      <td>6.284634</td>\n",
       "      <td>408.237154</td>\n",
       "      <td>18.455534</td>\n",
       "      <td>12.653063</td>\n",
       "    </tr>\n",
       "    <tr>\n",
       "      <th>std</th>\n",
       "      <td>6.860353</td>\n",
       "      <td>0.115878</td>\n",
       "      <td>0.702617</td>\n",
       "      <td>168.537116</td>\n",
       "      <td>2.164946</td>\n",
       "      <td>7.141062</td>\n",
       "    </tr>\n",
       "    <tr>\n",
       "      <th>min</th>\n",
       "      <td>0.460000</td>\n",
       "      <td>0.385000</td>\n",
       "      <td>3.561000</td>\n",
       "      <td>187.000000</td>\n",
       "      <td>12.600000</td>\n",
       "      <td>1.730000</td>\n",
       "    </tr>\n",
       "    <tr>\n",
       "      <th>25%</th>\n",
       "      <td>5.190000</td>\n",
       "      <td>0.449000</td>\n",
       "      <td>5.885500</td>\n",
       "      <td>279.000000</td>\n",
       "      <td>17.400000</td>\n",
       "      <td>6.950000</td>\n",
       "    </tr>\n",
       "    <tr>\n",
       "      <th>50%</th>\n",
       "      <td>9.690000</td>\n",
       "      <td>0.538000</td>\n",
       "      <td>6.208500</td>\n",
       "      <td>330.000000</td>\n",
       "      <td>19.050000</td>\n",
       "      <td>11.360000</td>\n",
       "    </tr>\n",
       "    <tr>\n",
       "      <th>75%</th>\n",
       "      <td>18.100000</td>\n",
       "      <td>0.624000</td>\n",
       "      <td>6.623500</td>\n",
       "      <td>666.000000</td>\n",
       "      <td>20.200000</td>\n",
       "      <td>16.955000</td>\n",
       "    </tr>\n",
       "    <tr>\n",
       "      <th>max</th>\n",
       "      <td>27.740000</td>\n",
       "      <td>0.871000</td>\n",
       "      <td>8.780000</td>\n",
       "      <td>711.000000</td>\n",
       "      <td>22.000000</td>\n",
       "      <td>37.970000</td>\n",
       "    </tr>\n",
       "  </tbody>\n",
       "</table>\n",
       "</div>"
      ],
      "text/plain": [
       "            INDUS         NOX          RM         TAX     PTRATIO       LSTAT\n",
       "count  506.000000  506.000000  506.000000  506.000000  506.000000  506.000000\n",
       "mean    11.136779    0.554695    6.284634  408.237154   18.455534   12.653063\n",
       "std      6.860353    0.115878    0.702617  168.537116    2.164946    7.141062\n",
       "min      0.460000    0.385000    3.561000  187.000000   12.600000    1.730000\n",
       "25%      5.190000    0.449000    5.885500  279.000000   17.400000    6.950000\n",
       "50%      9.690000    0.538000    6.208500  330.000000   19.050000   11.360000\n",
       "75%     18.100000    0.624000    6.623500  666.000000   20.200000   16.955000\n",
       "max     27.740000    0.871000    8.780000  711.000000   22.000000   37.970000"
      ]
     },
     "execution_count": 25,
     "metadata": {},
     "output_type": "execute_result"
    }
   ],
   "source": [
    "inputs = df[['INDUS', 'NOX', 'RM', 'TAX', 'PTRATIO', 'LSTAT']]\n",
    "inputs.describe()"
   ]
  },
  {
   "cell_type": "code",
   "execution_count": 26,
   "metadata": {},
   "outputs": [],
   "source": [
    "#inputs = df[['CRIM', 'ZN', 'INDUS', 'NOX', 'RM', 'RAD', 'TAX', 'PTRATIO', 'B', 'LSTAT']]\n",
    "#inputs.describe()"
   ]
  },
  {
   "cell_type": "code",
   "execution_count": 27,
   "metadata": {},
   "outputs": [],
   "source": [
    "outputs = df['MEDV']"
   ]
  },
  {
   "cell_type": "markdown",
   "metadata": {},
   "source": [
    "### Split Dataset"
   ]
  },
  {
   "cell_type": "markdown",
   "metadata": {},
   "source": [
    "We need to split the dataset into a training dataset and a predictions dataset."
   ]
  },
  {
   "cell_type": "code",
   "execution_count": 28,
   "metadata": {},
   "outputs": [],
   "source": [
    "import sklearn.model_selection as mod"
   ]
  },
  {
   "cell_type": "code",
   "execution_count": 29,
   "metadata": {},
   "outputs": [],
   "source": [
    "# Split the inputs and outputs into training and test sets.\n",
    "inputs_train, inputs_test, outputs_train, outputs_test = mod.train_test_split(inputs, outputs, test_size=0.2)"
   ]
  },
  {
   "cell_type": "code",
   "execution_count": 30,
   "metadata": {
    "scrolled": true
   },
   "outputs": [
    {
     "name": "stdout",
     "output_type": "stream",
     "text": [
      "            INDUS         NOX          RM         TAX     PTRATIO       LSTAT\n",
      "count  404.000000  404.000000  404.000000  404.000000  404.000000  404.000000\n",
      "mean    11.162252    0.555309    6.283505  406.220297   18.516832   12.751238\n",
      "std      6.818791    0.115604    0.680504  169.978932    2.149191    7.140013\n",
      "min      0.460000    0.385000    3.863000  187.000000   12.600000    1.920000\n",
      "25%      5.190000    0.453000    5.888750  277.000000   17.400000    7.170000\n",
      "50%      9.690000    0.538000    6.185000  329.000000   19.100000   11.570000\n",
      "75%     18.100000    0.624000    6.616500  666.000000   20.200000   16.945000\n",
      "max     27.740000    0.871000    8.780000  711.000000   22.000000   37.970000\n",
      "            INDUS         NOX          RM         TAX     PTRATIO       LSTAT\n",
      "count  102.000000  102.000000  102.000000  102.000000  102.000000  102.000000\n",
      "mean    11.035882    0.552264    6.289108  416.225490   18.212745   12.264216\n",
      "std      7.055922    0.117498    0.787763  163.272166    2.220368    7.167157\n",
      "min      1.250000    0.389000    3.561000  188.000000   12.600000    1.730000\n",
      "25%      4.930000    0.439150    5.860000  287.000000   16.675000    6.597500\n",
      "50%      9.850000    0.531000    6.247000  391.000000   18.700000   10.985000\n",
      "75%     18.100000    0.629250    6.707000  666.000000   20.200000   16.995000\n",
      "max     27.740000    0.871000    8.398000  711.000000   21.200000   30.630000\n"
     ]
    }
   ],
   "source": [
    "print(inputs_train.describe())\n",
    "print(inputs_test.describe())"
   ]
  },
  {
   "cell_type": "code",
   "execution_count": 31,
   "metadata": {
    "scrolled": true
   },
   "outputs": [
    {
     "name": "stdout",
     "output_type": "stream",
     "text": [
      "count    404.000000\n",
      "mean      22.296287\n",
      "std        9.104612\n",
      "min        5.000000\n",
      "25%       16.775000\n",
      "50%       20.950000\n",
      "75%       24.800000\n",
      "max       50.000000\n",
      "Name: MEDV, dtype: float64\n",
      "count    102.000000\n",
      "mean      23.469608\n",
      "std        9.542980\n",
      "min        7.200000\n",
      "25%       17.975000\n",
      "50%       22.100000\n",
      "75%       27.400000\n",
      "max       50.000000\n",
      "Name: MEDV, dtype: float64\n"
     ]
    }
   ],
   "source": [
    "print(outputs_train.describe())\n",
    "print(outputs_test.describe())"
   ]
  },
  {
   "cell_type": "code",
   "execution_count": 32,
   "metadata": {},
   "outputs": [
    {
     "data": {
      "text/plain": [
       "INDUS        6.070\n",
       "NOX          0.409\n",
       "RM           5.594\n",
       "TAX        345.000\n",
       "PTRATIO     18.900\n",
       "LSTAT       13.090\n",
       "Name: 68, dtype: float64"
      ]
     },
     "execution_count": 32,
     "metadata": {},
     "output_type": "execute_result"
    }
   ],
   "source": [
    "inputs_test.iloc[0]"
   ]
  },
  {
   "cell_type": "markdown",
   "metadata": {},
   "source": [
    "### Build Neural Network"
   ]
  },
  {
   "cell_type": "markdown",
   "metadata": {},
   "source": [
    "#### Preprocessing"
   ]
  },
  {
   "cell_type": "markdown",
   "metadata": {},
   "source": [
    "*** https://scikit-learn.org/stable/modules/preprocessing.html\n",
    "*** http://www.faqs.org/faqs/ai-faq/neural-nets/part2/section-16.html"
   ]
  },
  {
   "cell_type": "markdown",
   "metadata": {},
   "source": [
    "Preprocessing can help models to run more accurately and effectively by preparing the data into a more suitable form."
   ]
  },
  {
   "cell_type": "markdown",
   "metadata": {},
   "source": [
    "##### Scaling"
   ]
  },
  {
   "cell_type": "code",
   "execution_count": 33,
   "metadata": {},
   "outputs": [],
   "source": [
    "from sklearn import preprocessing"
   ]
  },
  {
   "cell_type": "code",
   "execution_count": 34,
   "metadata": {},
   "outputs": [],
   "source": [
    "#inputs_scaled = preprocessing.scaler.fit_transform(inputs_train[['CRIM', 'ZN', 'INDUS', 'NOX', 'RM', 'RAD', 'TAX', 'PTRATIO', 'B', 'LSTAT']])"
   ]
  },
  {
   "cell_type": "code",
   "execution_count": 35,
   "metadata": {},
   "outputs": [],
   "source": [
    "scaler = preprocessing.RobustScaler()"
   ]
  },
  {
   "cell_type": "markdown",
   "metadata": {},
   "source": [
    "*** http://benalexkeen.com/feature-scaling-with-scikit-learn/"
   ]
  },
  {
   "cell_type": "code",
   "execution_count": 36,
   "metadata": {},
   "outputs": [],
   "source": [
    "inputs_train_scaled = pd.DataFrame(scaler.fit_transform(inputs_train), columns=inputs.columns)"
   ]
  },
  {
   "cell_type": "code",
   "execution_count": 37,
   "metadata": {
    "scrolled": true
   },
   "outputs": [
    {
     "data": {
      "text/html": [
       "<div>\n",
       "<style scoped>\n",
       "    .dataframe tbody tr th:only-of-type {\n",
       "        vertical-align: middle;\n",
       "    }\n",
       "\n",
       "    .dataframe tbody tr th {\n",
       "        vertical-align: top;\n",
       "    }\n",
       "\n",
       "    .dataframe thead th {\n",
       "        text-align: right;\n",
       "    }\n",
       "</style>\n",
       "<table border=\"1\" class=\"dataframe\">\n",
       "  <thead>\n",
       "    <tr style=\"text-align: right;\">\n",
       "      <th></th>\n",
       "      <th>INDUS</th>\n",
       "      <th>NOX</th>\n",
       "      <th>RM</th>\n",
       "      <th>TAX</th>\n",
       "      <th>PTRATIO</th>\n",
       "      <th>LSTAT</th>\n",
       "    </tr>\n",
       "  </thead>\n",
       "  <tbody>\n",
       "    <tr>\n",
       "      <th>count</th>\n",
       "      <td>404.000000</td>\n",
       "      <td>404.000000</td>\n",
       "      <td>404.000000</td>\n",
       "      <td>404.000000</td>\n",
       "      <td>404.000000</td>\n",
       "      <td>404.000000</td>\n",
       "    </tr>\n",
       "    <tr>\n",
       "      <th>mean</th>\n",
       "      <td>0.114040</td>\n",
       "      <td>0.101222</td>\n",
       "      <td>0.135355</td>\n",
       "      <td>0.198510</td>\n",
       "      <td>-0.208274</td>\n",
       "      <td>0.120843</td>\n",
       "    </tr>\n",
       "    <tr>\n",
       "      <th>std</th>\n",
       "      <td>0.528179</td>\n",
       "      <td>0.676047</td>\n",
       "      <td>0.935080</td>\n",
       "      <td>0.436964</td>\n",
       "      <td>0.767568</td>\n",
       "      <td>0.730436</td>\n",
       "    </tr>\n",
       "    <tr>\n",
       "      <th>min</th>\n",
       "      <td>-0.714950</td>\n",
       "      <td>-0.894737</td>\n",
       "      <td>-3.190656</td>\n",
       "      <td>-0.365039</td>\n",
       "      <td>-2.321429</td>\n",
       "      <td>-0.987212</td>\n",
       "    </tr>\n",
       "    <tr>\n",
       "      <th>25%</th>\n",
       "      <td>-0.348567</td>\n",
       "      <td>-0.497076</td>\n",
       "      <td>-0.407077</td>\n",
       "      <td>-0.133676</td>\n",
       "      <td>-0.607143</td>\n",
       "      <td>-0.450128</td>\n",
       "    </tr>\n",
       "    <tr>\n",
       "      <th>50%</th>\n",
       "      <td>0.000000</td>\n",
       "      <td>0.000000</td>\n",
       "      <td>0.000000</td>\n",
       "      <td>0.000000</td>\n",
       "      <td>0.000000</td>\n",
       "      <td>0.000000</td>\n",
       "    </tr>\n",
       "    <tr>\n",
       "      <th>75%</th>\n",
       "      <td>0.651433</td>\n",
       "      <td>0.502924</td>\n",
       "      <td>0.592923</td>\n",
       "      <td>0.866324</td>\n",
       "      <td>0.392857</td>\n",
       "      <td>0.549872</td>\n",
       "    </tr>\n",
       "    <tr>\n",
       "      <th>max</th>\n",
       "      <td>1.398141</td>\n",
       "      <td>1.947368</td>\n",
       "      <td>3.565785</td>\n",
       "      <td>0.982005</td>\n",
       "      <td>1.035714</td>\n",
       "      <td>2.700767</td>\n",
       "    </tr>\n",
       "  </tbody>\n",
       "</table>\n",
       "</div>"
      ],
      "text/plain": [
       "            INDUS         NOX          RM         TAX     PTRATIO       LSTAT\n",
       "count  404.000000  404.000000  404.000000  404.000000  404.000000  404.000000\n",
       "mean     0.114040    0.101222    0.135355    0.198510   -0.208274    0.120843\n",
       "std      0.528179    0.676047    0.935080    0.436964    0.767568    0.730436\n",
       "min     -0.714950   -0.894737   -3.190656   -0.365039   -2.321429   -0.987212\n",
       "25%     -0.348567   -0.497076   -0.407077   -0.133676   -0.607143   -0.450128\n",
       "50%      0.000000    0.000000    0.000000    0.000000    0.000000    0.000000\n",
       "75%      0.651433    0.502924    0.592923    0.866324    0.392857    0.549872\n",
       "max      1.398141    1.947368    3.565785    0.982005    1.035714    2.700767"
      ]
     },
     "execution_count": 37,
     "metadata": {},
     "output_type": "execute_result"
    }
   ],
   "source": [
    "inputs_train_scaled.describe()"
   ]
  },
  {
   "cell_type": "code",
   "execution_count": 38,
   "metadata": {},
   "outputs": [],
   "source": [
    "inputs_test_scaled = pd.DataFrame(scaler.fit_transform(inputs_test), columns=inputs.columns)"
   ]
  },
  {
   "cell_type": "code",
   "execution_count": 39,
   "metadata": {
    "scrolled": true
   },
   "outputs": [
    {
     "data": {
      "text/html": [
       "<div>\n",
       "<style scoped>\n",
       "    .dataframe tbody tr th:only-of-type {\n",
       "        vertical-align: middle;\n",
       "    }\n",
       "\n",
       "    .dataframe tbody tr th {\n",
       "        vertical-align: top;\n",
       "    }\n",
       "\n",
       "    .dataframe thead th {\n",
       "        text-align: right;\n",
       "    }\n",
       "</style>\n",
       "<table border=\"1\" class=\"dataframe\">\n",
       "  <thead>\n",
       "    <tr style=\"text-align: right;\">\n",
       "      <th></th>\n",
       "      <th>INDUS</th>\n",
       "      <th>NOX</th>\n",
       "      <th>RM</th>\n",
       "      <th>TAX</th>\n",
       "      <th>PTRATIO</th>\n",
       "      <th>LSTAT</th>\n",
       "    </tr>\n",
       "  </thead>\n",
       "  <tbody>\n",
       "    <tr>\n",
       "      <th>count</th>\n",
       "      <td>102.000000</td>\n",
       "      <td>102.000000</td>\n",
       "      <td>102.000000</td>\n",
       "      <td>102.000000</td>\n",
       "      <td>102.000000</td>\n",
       "      <td>102.000000</td>\n",
       "    </tr>\n",
       "    <tr>\n",
       "      <th>mean</th>\n",
       "      <td>0.090044</td>\n",
       "      <td>0.111855</td>\n",
       "      <td>0.049714</td>\n",
       "      <td>0.066558</td>\n",
       "      <td>-0.138228</td>\n",
       "      <td>0.123031</td>\n",
       "    </tr>\n",
       "    <tr>\n",
       "      <th>std</th>\n",
       "      <td>0.535757</td>\n",
       "      <td>0.618086</td>\n",
       "      <td>0.930063</td>\n",
       "      <td>0.430797</td>\n",
       "      <td>0.629892</td>\n",
       "      <td>0.689315</td>\n",
       "    </tr>\n",
       "    <tr>\n",
       "      <th>min</th>\n",
       "      <td>-0.652999</td>\n",
       "      <td>-0.746975</td>\n",
       "      <td>-3.171192</td>\n",
       "      <td>-0.535620</td>\n",
       "      <td>-1.730496</td>\n",
       "      <td>-0.890118</td>\n",
       "    </tr>\n",
       "    <tr>\n",
       "      <th>25%</th>\n",
       "      <td>-0.373576</td>\n",
       "      <td>-0.483167</td>\n",
       "      <td>-0.456907</td>\n",
       "      <td>-0.274406</td>\n",
       "      <td>-0.574468</td>\n",
       "      <td>-0.421976</td>\n",
       "    </tr>\n",
       "    <tr>\n",
       "      <th>50%</th>\n",
       "      <td>0.000000</td>\n",
       "      <td>0.000000</td>\n",
       "      <td>0.000000</td>\n",
       "      <td>0.000000</td>\n",
       "      <td>0.000000</td>\n",
       "      <td>0.000000</td>\n",
       "    </tr>\n",
       "    <tr>\n",
       "      <th>75%</th>\n",
       "      <td>0.626424</td>\n",
       "      <td>0.516833</td>\n",
       "      <td>0.543093</td>\n",
       "      <td>0.725594</td>\n",
       "      <td>0.425532</td>\n",
       "      <td>0.578024</td>\n",
       "    </tr>\n",
       "    <tr>\n",
       "      <th>max</th>\n",
       "      <td>1.358390</td>\n",
       "      <td>1.788532</td>\n",
       "      <td>2.539551</td>\n",
       "      <td>0.844327</td>\n",
       "      <td>0.709220</td>\n",
       "      <td>1.889396</td>\n",
       "    </tr>\n",
       "  </tbody>\n",
       "</table>\n",
       "</div>"
      ],
      "text/plain": [
       "            INDUS         NOX          RM         TAX     PTRATIO       LSTAT\n",
       "count  102.000000  102.000000  102.000000  102.000000  102.000000  102.000000\n",
       "mean     0.090044    0.111855    0.049714    0.066558   -0.138228    0.123031\n",
       "std      0.535757    0.618086    0.930063    0.430797    0.629892    0.689315\n",
       "min     -0.652999   -0.746975   -3.171192   -0.535620   -1.730496   -0.890118\n",
       "25%     -0.373576   -0.483167   -0.456907   -0.274406   -0.574468   -0.421976\n",
       "50%      0.000000    0.000000    0.000000    0.000000    0.000000    0.000000\n",
       "75%      0.626424    0.516833    0.543093    0.725594    0.425532    0.578024\n",
       "max      1.358390    1.788532    2.539551    0.844327    0.709220    1.889396"
      ]
     },
     "execution_count": 39,
     "metadata": {},
     "output_type": "execute_result"
    }
   ],
   "source": [
    "inputs_test_scaled.describe()"
   ]
  },
  {
   "cell_type": "markdown",
   "metadata": {},
   "source": [
    "##### Whitening"
   ]
  },
  {
   "cell_type": "code",
   "execution_count": 40,
   "metadata": {},
   "outputs": [],
   "source": [
    "#from sklearn.decomposition import PCA\n",
    "import sklearn.decomposition as dec\n"
   ]
  },
  {
   "cell_type": "code",
   "execution_count": 41,
   "metadata": {},
   "outputs": [
    {
     "data": {
      "text/html": [
       "<div>\n",
       "<style scoped>\n",
       "    .dataframe tbody tr th:only-of-type {\n",
       "        vertical-align: middle;\n",
       "    }\n",
       "\n",
       "    .dataframe tbody tr th {\n",
       "        vertical-align: top;\n",
       "    }\n",
       "\n",
       "    .dataframe thead th {\n",
       "        text-align: right;\n",
       "    }\n",
       "</style>\n",
       "<table border=\"1\" class=\"dataframe\">\n",
       "  <thead>\n",
       "    <tr style=\"text-align: right;\">\n",
       "      <th></th>\n",
       "      <th>INDUS</th>\n",
       "      <th>NOX</th>\n",
       "      <th>RM</th>\n",
       "      <th>TAX</th>\n",
       "      <th>PTRATIO</th>\n",
       "      <th>LSTAT</th>\n",
       "    </tr>\n",
       "  </thead>\n",
       "  <tbody>\n",
       "    <tr>\n",
       "      <th>count</th>\n",
       "      <td>4.040000e+02</td>\n",
       "      <td>4.040000e+02</td>\n",
       "      <td>4.040000e+02</td>\n",
       "      <td>4.040000e+02</td>\n",
       "      <td>4.040000e+02</td>\n",
       "      <td>4.040000e+02</td>\n",
       "    </tr>\n",
       "    <tr>\n",
       "      <th>mean</th>\n",
       "      <td>1.951135e-17</td>\n",
       "      <td>-7.639653e-17</td>\n",
       "      <td>3.297692e-18</td>\n",
       "      <td>1.429000e-17</td>\n",
       "      <td>-3.077846e-17</td>\n",
       "      <td>2.748077e-18</td>\n",
       "    </tr>\n",
       "    <tr>\n",
       "      <th>std</th>\n",
       "      <td>1.000000e+00</td>\n",
       "      <td>1.000000e+00</td>\n",
       "      <td>1.000000e+00</td>\n",
       "      <td>1.000000e+00</td>\n",
       "      <td>1.000000e+00</td>\n",
       "      <td>1.000000e+00</td>\n",
       "    </tr>\n",
       "    <tr>\n",
       "      <th>min</th>\n",
       "      <td>-2.456862e+00</td>\n",
       "      <td>-2.294830e+00</td>\n",
       "      <td>-2.068283e+00</td>\n",
       "      <td>-3.689336e+00</td>\n",
       "      <td>-1.867441e+00</td>\n",
       "      <td>-2.157716e+00</td>\n",
       "    </tr>\n",
       "    <tr>\n",
       "      <th>25%</th>\n",
       "      <td>-6.860567e-01</td>\n",
       "      <td>-7.096958e-01</td>\n",
       "      <td>-6.992488e-01</td>\n",
       "      <td>-5.662776e-01</td>\n",
       "      <td>-6.080790e-01</td>\n",
       "      <td>-6.334105e-01</td>\n",
       "    </tr>\n",
       "    <tr>\n",
       "      <th>50%</th>\n",
       "      <td>-1.537055e-02</td>\n",
       "      <td>-1.493043e-01</td>\n",
       "      <td>-2.418922e-01</td>\n",
       "      <td>3.123849e-02</td>\n",
       "      <td>1.747982e-02</td>\n",
       "      <td>-1.200083e-01</td>\n",
       "    </tr>\n",
       "    <tr>\n",
       "      <th>75%</th>\n",
       "      <td>7.257751e-01</td>\n",
       "      <td>7.385134e-01</td>\n",
       "      <td>4.897630e-01</td>\n",
       "      <td>5.368179e-01</td>\n",
       "      <td>4.913676e-01</td>\n",
       "      <td>4.736761e-01</td>\n",
       "    </tr>\n",
       "    <tr>\n",
       "      <th>max</th>\n",
       "      <td>2.977583e+00</td>\n",
       "      <td>4.414889e+00</td>\n",
       "      <td>3.727522e+00</td>\n",
       "      <td>4.313283e+00</td>\n",
       "      <td>3.001726e+00</td>\n",
       "      <td>4.798825e+00</td>\n",
       "    </tr>\n",
       "  </tbody>\n",
       "</table>\n",
       "</div>"
      ],
      "text/plain": [
       "              INDUS           NOX            RM           TAX       PTRATIO  \\\n",
       "count  4.040000e+02  4.040000e+02  4.040000e+02  4.040000e+02  4.040000e+02   \n",
       "mean   1.951135e-17 -7.639653e-17  3.297692e-18  1.429000e-17 -3.077846e-17   \n",
       "std    1.000000e+00  1.000000e+00  1.000000e+00  1.000000e+00  1.000000e+00   \n",
       "min   -2.456862e+00 -2.294830e+00 -2.068283e+00 -3.689336e+00 -1.867441e+00   \n",
       "25%   -6.860567e-01 -7.096958e-01 -6.992488e-01 -5.662776e-01 -6.080790e-01   \n",
       "50%   -1.537055e-02 -1.493043e-01 -2.418922e-01  3.123849e-02  1.747982e-02   \n",
       "75%    7.257751e-01  7.385134e-01  4.897630e-01  5.368179e-01  4.913676e-01   \n",
       "max    2.977583e+00  4.414889e+00  3.727522e+00  4.313283e+00  3.001726e+00   \n",
       "\n",
       "              LSTAT  \n",
       "count  4.040000e+02  \n",
       "mean   2.748077e-18  \n",
       "std    1.000000e+00  \n",
       "min   -2.157716e+00  \n",
       "25%   -6.334105e-01  \n",
       "50%   -1.200083e-01  \n",
       "75%    4.736761e-01  \n",
       "max    4.798825e+00  "
      ]
     },
     "execution_count": 41,
     "metadata": {},
     "output_type": "execute_result"
    }
   ],
   "source": [
    "pca = dec.PCA(n_components=6, whiten=True)\n",
    "pca.fit(inputs_train_scaled)\n",
    "inputs_train_white = pd.DataFrame(pca.transform(inputs_train_scaled), columns=inputs.columns)\n",
    "inputs_train_white.describe()"
   ]
  },
  {
   "cell_type": "code",
   "execution_count": 42,
   "metadata": {},
   "outputs": [
    {
     "data": {
      "text/html": [
       "<div>\n",
       "<style scoped>\n",
       "    .dataframe tbody tr th:only-of-type {\n",
       "        vertical-align: middle;\n",
       "    }\n",
       "\n",
       "    .dataframe tbody tr th {\n",
       "        vertical-align: top;\n",
       "    }\n",
       "\n",
       "    .dataframe thead th {\n",
       "        text-align: right;\n",
       "    }\n",
       "</style>\n",
       "<table border=\"1\" class=\"dataframe\">\n",
       "  <thead>\n",
       "    <tr style=\"text-align: right;\">\n",
       "      <th></th>\n",
       "      <th>INDUS</th>\n",
       "      <th>NOX</th>\n",
       "      <th>RM</th>\n",
       "      <th>TAX</th>\n",
       "      <th>PTRATIO</th>\n",
       "      <th>LSTAT</th>\n",
       "    </tr>\n",
       "  </thead>\n",
       "  <tbody>\n",
       "    <tr>\n",
       "      <th>count</th>\n",
       "      <td>1.020000e+02</td>\n",
       "      <td>1.020000e+02</td>\n",
       "      <td>1.020000e+02</td>\n",
       "      <td>1.020000e+02</td>\n",
       "      <td>1.020000e+02</td>\n",
       "      <td>1.020000e+02</td>\n",
       "    </tr>\n",
       "    <tr>\n",
       "      <th>mean</th>\n",
       "      <td>-1.741526e-17</td>\n",
       "      <td>7.728023e-17</td>\n",
       "      <td>-5.224579e-17</td>\n",
       "      <td>-8.272250e-17</td>\n",
       "      <td>-2.612289e-17</td>\n",
       "      <td>-3.918434e-17</td>\n",
       "    </tr>\n",
       "    <tr>\n",
       "      <th>std</th>\n",
       "      <td>1.000000e+00</td>\n",
       "      <td>1.000000e+00</td>\n",
       "      <td>1.000000e+00</td>\n",
       "      <td>1.000000e+00</td>\n",
       "      <td>1.000000e+00</td>\n",
       "      <td>1.000000e+00</td>\n",
       "    </tr>\n",
       "    <tr>\n",
       "      <th>min</th>\n",
       "      <td>-1.948085e+00</td>\n",
       "      <td>-1.985914e+00</td>\n",
       "      <td>-1.843055e+00</td>\n",
       "      <td>-3.043961e+00</td>\n",
       "      <td>-1.821538e+00</td>\n",
       "      <td>-1.674933e+00</td>\n",
       "    </tr>\n",
       "    <tr>\n",
       "      <th>25%</th>\n",
       "      <td>-7.229355e-01</td>\n",
       "      <td>-7.407734e-01</td>\n",
       "      <td>-6.876213e-01</td>\n",
       "      <td>-5.471482e-01</td>\n",
       "      <td>-6.998396e-01</td>\n",
       "      <td>-7.093008e-01</td>\n",
       "    </tr>\n",
       "    <tr>\n",
       "      <th>50%</th>\n",
       "      <td>-4.201039e-02</td>\n",
       "      <td>-2.450941e-01</td>\n",
       "      <td>-1.946868e-01</td>\n",
       "      <td>3.087432e-02</td>\n",
       "      <td>1.476814e-02</td>\n",
       "      <td>-1.437090e-01</td>\n",
       "    </tr>\n",
       "    <tr>\n",
       "      <th>75%</th>\n",
       "      <td>8.285800e-01</td>\n",
       "      <td>7.945662e-01</td>\n",
       "      <td>5.206735e-01</td>\n",
       "      <td>4.234892e-01</td>\n",
       "      <td>6.393585e-01</td>\n",
       "      <td>6.196976e-01</td>\n",
       "    </tr>\n",
       "    <tr>\n",
       "      <th>max</th>\n",
       "      <td>2.465910e+00</td>\n",
       "      <td>2.941089e+00</td>\n",
       "      <td>3.082180e+00</td>\n",
       "      <td>4.914429e+00</td>\n",
       "      <td>3.029979e+00</td>\n",
       "      <td>4.339978e+00</td>\n",
       "    </tr>\n",
       "  </tbody>\n",
       "</table>\n",
       "</div>"
      ],
      "text/plain": [
       "              INDUS           NOX            RM           TAX       PTRATIO  \\\n",
       "count  1.020000e+02  1.020000e+02  1.020000e+02  1.020000e+02  1.020000e+02   \n",
       "mean  -1.741526e-17  7.728023e-17 -5.224579e-17 -8.272250e-17 -2.612289e-17   \n",
       "std    1.000000e+00  1.000000e+00  1.000000e+00  1.000000e+00  1.000000e+00   \n",
       "min   -1.948085e+00 -1.985914e+00 -1.843055e+00 -3.043961e+00 -1.821538e+00   \n",
       "25%   -7.229355e-01 -7.407734e-01 -6.876213e-01 -5.471482e-01 -6.998396e-01   \n",
       "50%   -4.201039e-02 -2.450941e-01 -1.946868e-01  3.087432e-02  1.476814e-02   \n",
       "75%    8.285800e-01  7.945662e-01  5.206735e-01  4.234892e-01  6.393585e-01   \n",
       "max    2.465910e+00  2.941089e+00  3.082180e+00  4.914429e+00  3.029979e+00   \n",
       "\n",
       "              LSTAT  \n",
       "count  1.020000e+02  \n",
       "mean  -3.918434e-17  \n",
       "std    1.000000e+00  \n",
       "min   -1.674933e+00  \n",
       "25%   -7.093008e-01  \n",
       "50%   -1.437090e-01  \n",
       "75%    6.196976e-01  \n",
       "max    4.339978e+00  "
      ]
     },
     "execution_count": 42,
     "metadata": {},
     "output_type": "execute_result"
    }
   ],
   "source": [
    "pca.fit(inputs_test_scaled)\n",
    "inputs_test_white = pd.DataFrame(pca.transform(inputs_test_scaled), columns=inputs.columns)\n",
    "inputs_test_white.describe()"
   ]
  },
  {
   "cell_type": "markdown",
   "metadata": {},
   "source": [
    "#### Keras"
   ]
  },
  {
   "cell_type": "code",
   "execution_count": 43,
   "metadata": {},
   "outputs": [],
   "source": [
    "# Create a new neural network.\n",
    "from keras.models import Sequential\n",
    "from keras.layers import Dense\n",
    "from keras.callbacks import EarlyStopping"
   ]
  },
  {
   "cell_type": "markdown",
   "metadata": {},
   "source": [
    "*** https://towardsdatascience.com/activation-functions-and-its-types-which-is-better-a9a5310cc8f"
   ]
  },
  {
   "cell_type": "markdown",
   "metadata": {},
   "source": [
    "There are many different ways to build a neural network, the accuracy will depend on the approach we take."
   ]
  },
  {
   "cell_type": "markdown",
   "metadata": {},
   "source": [
    "*** https://www.dlology.com/blog/quick-notes-on-how-to-choose-optimizer-in-keras/\n",
    "*** https://machinelearningmastery.com/how-to-choose-loss-functions-when-training-deep-learning-neural-networks/\n",
    "*** https://towardsdatascience.com/activation-functions-and-its-types-which-is-better-a9a5310cc8f"
   ]
  },
  {
   "cell_type": "markdown",
   "metadata": {},
   "source": [
    "##### Defining Functions"
   ]
  },
  {
   "cell_type": "markdown",
   "metadata": {},
   "source": [
    "It will be useful to create some functions now as some of the following work will be repetitive."
   ]
  },
  {
   "cell_type": "code",
   "execution_count": 44,
   "metadata": {},
   "outputs": [],
   "source": [
    "# Function that carries out the keras.evaluate() function and prints to a specified format\n",
    "def evaluator(evalN, modelN):\n",
    "    evalN = modelN.evaluate(inputs_test_scaled, outputs_test, verbose=0)\n",
    "    print('This model evaluates as:')\n",
    "    print('* Loss:', evalN[0])\n",
    "    print('* MAE:', evalN[1])\n",
    "    print('* Accuracy:', evalN[2])"
   ]
  },
  {
   "cell_type": "code",
   "execution_count": 45,
   "metadata": {},
   "outputs": [],
   "source": [
    "# Function that carries out the keras.predict() function and prints to a specified format\n",
    "def predictor(predN, modelN):\n",
    "    predN = modelN.predict(inputs_test_scaled.as_matrix()[0:1])\n",
    "    print('This model predicts as:')\n",
    "    print('* Predicted Value:', predN[0][0])\n",
    "    print('* Actual value:', outputs_test[0:1].iloc[0])"
   ]
  },
  {
   "cell_type": "markdown",
   "metadata": {},
   "source": [
    "#### First Attempt"
   ]
  },
  {
   "cell_type": "markdown",
   "metadata": {},
   "source": [
    "This will be a three layer neural network with densities of 100, 50 and 1."
   ]
  },
  {
   "cell_type": "markdown",
   "metadata": {},
   "source": [
    "##### Construct Model"
   ]
  },
  {
   "cell_type": "code",
   "execution_count": 46,
   "metadata": {
    "scrolled": true
   },
   "outputs": [
    {
     "name": "stdout",
     "output_type": "stream",
     "text": [
      "WARNING:tensorflow:From C:\\Users\\Peter\\AppData\\Local\\Continuum\\anaconda3\\lib\\site-packages\\tensorflow\\python\\ops\\resource_variable_ops.py:435: colocate_with (from tensorflow.python.framework.ops) is deprecated and will be removed in a future version.\n",
      "Instructions for updating:\n",
      "Colocations handled automatically by placer.\n",
      "Model: \"sequential_1\"\n",
      "_________________________________________________________________\n",
      "Layer (type)                 Output Shape              Param #   \n",
      "=================================================================\n",
      "dense_1 (Dense)              (None, 64)                448       \n",
      "_________________________________________________________________\n",
      "dense_2 (Dense)              (None, 32)                2080      \n",
      "_________________________________________________________________\n",
      "dense_3 (Dense)              (None, 1)                 33        \n",
      "=================================================================\n",
      "Total params: 2,561\n",
      "Trainable params: 2,561\n",
      "Non-trainable params: 0\n",
      "_________________________________________________________________\n"
     ]
    }
   ],
   "source": [
    "model1 = Sequential() \n",
    "\n",
    "model1.add(Dense(units=64, activation='relu', input_dim=6))\n",
    "model1.add(Dense(units=32, activation='relu'))\n",
    "model1.add(Dense(units=1))\n",
    "\n",
    "model1.compile(loss='mse', optimizer='adam', metrics=['mae', 'acc'])\n",
    "\n",
    "model1.summary()"
   ]
  },
  {
   "cell_type": "markdown",
   "metadata": {},
   "source": [
    "*** https://machinelearningmastery.com/how-to-stop-training-deep-neural-networks-at-the-right-time-using-early-stopping/"
   ]
  },
  {
   "cell_type": "code",
   "execution_count": 47,
   "metadata": {},
   "outputs": [],
   "source": [
    "earlystop = EarlyStopping(monitor='val_loss', patience=20, verbose=1, mode='min', restore_best_weights=True)"
   ]
  },
  {
   "cell_type": "code",
   "execution_count": 48,
   "metadata": {},
   "outputs": [],
   "source": [
    "#history1 = model1.fit(inputs_train_scaled, outputs_train, epochs=500, validation_data=(inputs_test_scaled, outputs_test), callbacks=[earlystop])"
   ]
  },
  {
   "cell_type": "code",
   "execution_count": 49,
   "metadata": {
    "scrolled": true
   },
   "outputs": [
    {
     "name": "stdout",
     "output_type": "stream",
     "text": [
      "WARNING:tensorflow:From C:\\Users\\Peter\\AppData\\Local\\Continuum\\anaconda3\\lib\\site-packages\\tensorflow\\python\\ops\\math_ops.py:3066: to_int32 (from tensorflow.python.ops.math_ops) is deprecated and will be removed in a future version.\n",
      "Instructions for updating:\n",
      "Use tf.cast instead.\n",
      "Train on 303 samples, validate on 101 samples\n",
      "Epoch 1/500\n",
      "303/303 [==============================] - 1s 2ms/step - loss: 580.0309 - mae: 22.1137 - acc: 0.0000e+00 - val_loss: 514.3089 - val_mae: 21.3403 - val_acc: 0.0000e+00\n",
      "Epoch 2/500\n",
      "303/303 [==============================] - 0s 42us/step - loss: 574.3133 - mae: 21.9819 - acc: 0.0000e+00 - val_loss: 508.4325 - val_mae: 21.2055 - val_acc: 0.0000e+00\n",
      "Epoch 3/500\n",
      "303/303 [==============================] - 0s 40us/step - loss: 567.6848 - mae: 21.8388 - acc: 0.0000e+00 - val_loss: 502.1359 - val_mae: 21.0598 - val_acc: 0.0000e+00\n",
      "Epoch 4/500\n",
      "303/303 [==============================] - 0s 50us/step - loss: 560.9367 - mae: 21.6854 - acc: 0.0000e+00 - val_loss: 495.3501 - val_mae: 20.9023 - val_acc: 0.0000e+00\n",
      "Epoch 5/500\n",
      "303/303 [==============================] - 0s 45us/step - loss: 553.4710 - mae: 21.5172 - acc: 0.0000e+00 - val_loss: 488.0558 - val_mae: 20.7317 - val_acc: 0.0000e+00\n",
      "Epoch 6/500\n",
      "303/303 [==============================] - 0s 49us/step - loss: 545.4498 - mae: 21.3352 - acc: 0.0000e+00 - val_loss: 480.2515 - val_mae: 20.5465 - val_acc: 0.0000e+00\n",
      "Epoch 7/500\n",
      "303/303 [==============================] - 0s 42us/step - loss: 537.0546 - mae: 21.1417 - acc: 0.0000e+00 - val_loss: 471.8504 - val_mae: 20.3452 - val_acc: 0.0000e+00\n",
      "Epoch 8/500\n",
      "303/303 [==============================] - 0s 44us/step - loss: 527.9650 - mae: 20.9278 - acc: 0.0000e+00 - val_loss: 462.7662 - val_mae: 20.1260 - val_acc: 0.0000e+00\n",
      "Epoch 9/500\n",
      "303/303 [==============================] - 0s 35us/step - loss: 517.9922 - mae: 20.6962 - acc: 0.0000e+00 - val_loss: 452.9320 - val_mae: 19.8869 - val_acc: 0.0000e+00\n",
      "Epoch 10/500\n",
      "303/303 [==============================] - 0s 42us/step - loss: 507.2147 - mae: 20.4405 - acc: 0.0000e+00 - val_loss: 442.3212 - val_mae: 19.6260 - val_acc: 0.0000e+00\n",
      "Epoch 11/500\n",
      "303/303 [==============================] - 0s 40us/step - loss: 495.7129 - mae: 20.1610 - acc: 0.0000e+00 - val_loss: 430.9131 - val_mae: 19.3414 - val_acc: 0.0000e+00\n",
      "Epoch 12/500\n",
      "303/303 [==============================] - 0s 40us/step - loss: 483.4172 - mae: 19.8571 - acc: 0.0000e+00 - val_loss: 418.7625 - val_mae: 19.0342 - val_acc: 0.0000e+00\n",
      "Epoch 13/500\n",
      "303/303 [==============================] - 0s 47us/step - loss: 469.8357 - mae: 19.5303 - acc: 0.0033 - val_loss: 405.9179 - val_mae: 18.7042 - val_acc: 0.0000e+00\n",
      "Epoch 14/500\n",
      "303/303 [==============================] - 0s 37us/step - loss: 455.9163 - mae: 19.1865 - acc: 0.0099 - val_loss: 392.2659 - val_mae: 18.3480 - val_acc: 0.0000e+00\n",
      "Epoch 15/500\n",
      "303/303 [==============================] - 0s 34us/step - loss: 441.2048 - mae: 18.8129 - acc: 0.0033 - val_loss: 377.8261 - val_mae: 17.9642 - val_acc: 0.0000e+00\n",
      "Epoch 16/500\n",
      "303/303 [==============================] - 0s 37us/step - loss: 425.2228 - mae: 18.4148 - acc: 0.0033 - val_loss: 362.7440 - val_mae: 17.5549 - val_acc: 0.0000e+00\n",
      "Epoch 17/500\n",
      "303/303 [==============================] - 0s 40us/step - loss: 408.4270 - mae: 18.0059 - acc: 0.0000e+00 - val_loss: 347.0197 - val_mae: 17.1180 - val_acc: 0.0000e+00\n",
      "Epoch 18/500\n",
      "303/303 [==============================] - 0s 37us/step - loss: 391.2168 - mae: 17.5756 - acc: 0.0000e+00 - val_loss: 330.6820 - val_mae: 16.6537 - val_acc: 0.0000e+00\n",
      "Epoch 19/500\n",
      "303/303 [==============================] - 0s 35us/step - loss: 373.0418 - mae: 17.1229 - acc: 0.0000e+00 - val_loss: 313.8602 - val_mae: 16.1631 - val_acc: 0.0000e+00\n",
      "Epoch 20/500\n",
      "303/303 [==============================] - 0s 35us/step - loss: 354.9170 - mae: 16.6566 - acc: 0.0000e+00 - val_loss: 296.5289 - val_mae: 15.6454 - val_acc: 0.0000e+00\n",
      "Epoch 21/500\n",
      "303/303 [==============================] - 0s 38us/step - loss: 335.8304 - mae: 16.1546 - acc: 0.0000e+00 - val_loss: 278.8098 - val_mae: 15.1298 - val_acc: 0.0000e+00\n",
      "Epoch 22/500\n",
      "303/303 [==============================] - 0s 37us/step - loss: 316.8018 - mae: 15.6498 - acc: 0.0000e+00 - val_loss: 260.7453 - val_mae: 14.6013 - val_acc: 0.0000e+00\n",
      "Epoch 23/500\n",
      "303/303 [==============================] - 0s 40us/step - loss: 296.2486 - mae: 15.1125 - acc: 0.0000e+00 - val_loss: 242.5608 - val_mae: 14.0600 - val_acc: 0.0000e+00\n",
      "Epoch 24/500\n",
      "303/303 [==============================] - 0s 57us/step - loss: 276.3977 - mae: 14.5724 - acc: 0.0000e+00 - val_loss: 224.1652 - val_mae: 13.5007 - val_acc: 0.0000e+00\n",
      "Epoch 25/500\n",
      "303/303 [==============================] - 0s 40us/step - loss: 255.9351 - mae: 13.9998 - acc: 0.0000e+00 - val_loss: 205.8477 - val_mae: 12.9296 - val_acc: 0.0000e+00\n",
      "Epoch 26/500\n",
      "303/303 [==============================] - 0s 50us/step - loss: 235.7938 - mae: 13.4282 - acc: 0.0066 - val_loss: 187.7841 - val_mae: 12.3360 - val_acc: 0.0000e+00\n",
      "Epoch 27/500\n",
      "303/303 [==============================] - 0s 39us/step - loss: 215.4051 - mae: 12.8144 - acc: 0.0033 - val_loss: 170.2733 - val_mae: 11.7265 - val_acc: 0.0000e+00\n",
      "Epoch 28/500\n",
      "303/303 [==============================] - 0s 47us/step - loss: 196.0558 - mae: 12.2199 - acc: 0.0000e+00 - val_loss: 153.3902 - val_mae: 11.1176 - val_acc: 0.0000e+00\n",
      "Epoch 29/500\n",
      "303/303 [==============================] - 0s 49us/step - loss: 177.5711 - mae: 11.6010 - acc: 0.0000e+00 - val_loss: 137.3142 - val_mae: 10.5039 - val_acc: 0.0000e+00\n",
      "Epoch 30/500\n",
      "303/303 [==============================] - 0s 39us/step - loss: 159.6606 - mae: 10.9914 - acc: 0.0000e+00 - val_loss: 122.3114 - val_mae: 9.8933 - val_acc: 0.0000e+00\n",
      "Epoch 31/500\n",
      "303/303 [==============================] - 0s 40us/step - loss: 142.7435 - mae: 10.3548 - acc: 0.0033 - val_loss: 108.5405 - val_mae: 9.2856 - val_acc: 0.0000e+00\n",
      "Epoch 32/500\n",
      "303/303 [==============================] - 0s 44us/step - loss: 127.5254 - mae: 9.7301 - acc: 0.0033 - val_loss: 96.1102 - val_mae: 8.6999 - val_acc: 0.0000e+00\n",
      "Epoch 33/500\n",
      "303/303 [==============================] - 0s 30us/step - loss: 114.2209 - mae: 9.1372 - acc: 0.0000e+00 - val_loss: 85.0318 - val_mae: 8.1293 - val_acc: 0.0000e+00\n",
      "Epoch 34/500\n",
      "303/303 [==============================] - 0s 32us/step - loss: 101.9198 - mae: 8.5535 - acc: 0.0033 - val_loss: 75.4763 - val_mae: 7.5718 - val_acc: 0.0000e+00\n",
      "Epoch 35/500\n",
      "303/303 [==============================] - 0s 40us/step - loss: 91.8203 - mae: 8.0168 - acc: 0.0033 - val_loss: 67.4443 - val_mae: 7.0773 - val_acc: 0.0000e+00\n",
      "Epoch 36/500\n",
      "303/303 [==============================] - 0s 44us/step - loss: 82.9949 - mae: 7.4986 - acc: 0.0033 - val_loss: 60.9212 - val_mae: 6.6599 - val_acc: 0.0000e+00\n",
      "Epoch 37/500\n",
      "303/303 [==============================] - 0s 47us/step - loss: 76.0060 - mae: 7.0526 - acc: 0.0033 - val_loss: 55.7889 - val_mae: 6.2859 - val_acc: 0.0000e+00\n",
      "Epoch 38/500\n",
      "303/303 [==============================] - 0s 34us/step - loss: 70.3337 - mae: 6.6700 - acc: 0.0000e+00 - val_loss: 51.8748 - val_mae: 5.9705 - val_acc: 0.0099\n",
      "Epoch 39/500\n",
      "303/303 [==============================] - 0s 39us/step - loss: 66.2421 - mae: 6.3749 - acc: 0.0033 - val_loss: 48.9844 - val_mae: 5.7633 - val_acc: 0.0000e+00\n",
      "Epoch 40/500\n",
      "303/303 [==============================] - 0s 44us/step - loss: 63.3133 - mae: 6.1610 - acc: 0.0165 - val_loss: 46.9378 - val_mae: 5.5979 - val_acc: 0.0000e+00\n",
      "Epoch 41/500\n",
      "303/303 [==============================] - 0s 42us/step - loss: 61.1009 - mae: 6.0055 - acc: 0.0033 - val_loss: 45.4934 - val_mae: 5.4740 - val_acc: 0.0099\n",
      "Epoch 42/500\n",
      "303/303 [==============================] - 0s 35us/step - loss: 59.5311 - mae: 5.8973 - acc: 0.0066 - val_loss: 44.3814 - val_mae: 5.4082 - val_acc: 0.0198\n",
      "Epoch 43/500\n",
      "303/303 [==============================] - 0s 40us/step - loss: 58.2774 - mae: 5.8140 - acc: 0.0132 - val_loss: 43.5396 - val_mae: 5.3657 - val_acc: 0.0099\n",
      "Epoch 44/500\n",
      "303/303 [==============================] - 0s 40us/step - loss: 57.1830 - mae: 5.7373 - acc: 0.0099 - val_loss: 42.7939 - val_mae: 5.3237 - val_acc: 0.0099\n",
      "Epoch 45/500\n",
      "303/303 [==============================] - 0s 37us/step - loss: 56.2970 - mae: 5.6716 - acc: 0.0099 - val_loss: 41.9516 - val_mae: 5.2720 - val_acc: 0.0099\n",
      "Epoch 46/500\n",
      "303/303 [==============================] - 0s 34us/step - loss: 55.2443 - mae: 5.6004 - acc: 0.0099 - val_loss: 41.1428 - val_mae: 5.2197 - val_acc: 0.0099\n",
      "Epoch 47/500\n",
      "303/303 [==============================] - 0s 54us/step - loss: 54.2324 - mae: 5.5324 - acc: 0.0099 - val_loss: 40.3022 - val_mae: 5.1633 - val_acc: 0.0099\n",
      "Epoch 48/500\n",
      "303/303 [==============================] - 0s 42us/step - loss: 53.1729 - mae: 5.4639 - acc: 0.0099 - val_loss: 39.4051 - val_mae: 5.0977 - val_acc: 0.0099\n",
      "Epoch 49/500\n",
      "303/303 [==============================] - 0s 39us/step - loss: 52.0657 - mae: 5.3932 - acc: 0.0132 - val_loss: 38.5020 - val_mae: 5.0289 - val_acc: 0.0099\n",
      "Epoch 50/500\n",
      "303/303 [==============================] - 0s 49us/step - loss: 51.0544 - mae: 5.3305 - acc: 0.0132 - val_loss: 37.5591 - val_mae: 4.9539 - val_acc: 0.0099\n",
      "Epoch 51/500\n",
      "303/303 [==============================] - 0s 45us/step - loss: 50.0016 - mae: 5.2671 - acc: 0.0099 - val_loss: 36.6595 - val_mae: 4.8827 - val_acc: 0.0099\n",
      "Epoch 52/500\n",
      "303/303 [==============================] - 0s 45us/step - loss: 48.9695 - mae: 5.2016 - acc: 0.0033 - val_loss: 35.8455 - val_mae: 4.8162 - val_acc: 0.0198\n",
      "Epoch 53/500\n",
      "303/303 [==============================] - 0s 44us/step - loss: 48.0064 - mae: 5.1436 - acc: 0.0033 - val_loss: 35.0427 - val_mae: 4.7483 - val_acc: 0.0198\n",
      "Epoch 54/500\n",
      "303/303 [==============================] - 0s 50us/step - loss: 47.0924 - mae: 5.0837 - acc: 0.0033 - val_loss: 34.2123 - val_mae: 4.6781 - val_acc: 0.0297\n",
      "Epoch 55/500\n",
      "303/303 [==============================] - 0s 49us/step - loss: 46.1542 - mae: 5.0189 - acc: 0.0033 - val_loss: 33.4720 - val_mae: 4.6208 - val_acc: 0.0297\n",
      "Epoch 56/500\n",
      "303/303 [==============================] - 0s 40us/step - loss: 45.2889 - mae: 4.9613 - acc: 0.0066 - val_loss: 32.7053 - val_mae: 4.5606 - val_acc: 0.0297\n",
      "Epoch 57/500\n",
      "303/303 [==============================] - 0s 47us/step - loss: 44.4614 - mae: 4.9038 - acc: 0.0066 - val_loss: 31.9162 - val_mae: 4.4974 - val_acc: 0.0297\n",
      "Epoch 58/500\n",
      "303/303 [==============================] - 0s 55us/step - loss: 43.6033 - mae: 4.8452 - acc: 0.0066 - val_loss: 31.2012 - val_mae: 4.4406 - val_acc: 0.0198\n",
      "Epoch 59/500\n",
      "303/303 [==============================] - 0s 44us/step - loss: 42.8105 - mae: 4.7920 - acc: 0.0066 - val_loss: 30.4943 - val_mae: 4.3856 - val_acc: 0.0198\n",
      "Epoch 60/500\n",
      "303/303 [==============================] - 0s 37us/step - loss: 42.0181 - mae: 4.7363 - acc: 0.0066 - val_loss: 29.8256 - val_mae: 4.3335 - val_acc: 0.0198\n",
      "Epoch 61/500\n",
      "303/303 [==============================] - 0s 42us/step - loss: 41.2360 - mae: 4.6817 - acc: 0.0033 - val_loss: 29.1717 - val_mae: 4.2813 - val_acc: 0.0198\n",
      "Epoch 62/500\n",
      "303/303 [==============================] - ETA: 0s - loss: 22.1580 - mae: 3.7027 - acc: 0.0000e+ - 0s 52us/step - loss: 40.4782 - mae: 4.6267 - acc: 0.0033 - val_loss: 28.5403 - val_mae: 4.2293 - val_acc: 0.0198\n",
      "Epoch 63/500\n",
      "303/303 [==============================] - 0s 47us/step - loss: 39.8090 - mae: 4.5772 - acc: 0.0033 - val_loss: 27.8875 - val_mae: 4.1753 - val_acc: 0.0198\n",
      "Epoch 64/500\n",
      "303/303 [==============================] - 0s 52us/step - loss: 39.0764 - mae: 4.5230 - acc: 0.0033 - val_loss: 27.2955 - val_mae: 4.1252 - val_acc: 0.0198\n",
      "Epoch 65/500\n",
      "303/303 [==============================] - 0s 44us/step - loss: 38.3849 - mae: 4.4717 - acc: 0.0033 - val_loss: 26.6978 - val_mae: 4.0731 - val_acc: 0.0198\n",
      "Epoch 66/500\n",
      "303/303 [==============================] - 0s 40us/step - loss: 37.7005 - mae: 4.4226 - acc: 0.0033 - val_loss: 26.1800 - val_mae: 4.0265 - val_acc: 0.0198\n",
      "Epoch 67/500\n",
      "303/303 [==============================] - 0s 47us/step - loss: 37.0947 - mae: 4.3748 - acc: 0.0033 - val_loss: 25.6757 - val_mae: 3.9801 - val_acc: 0.0198\n",
      "Epoch 68/500\n",
      "303/303 [==============================] - 0s 40us/step - loss: 36.4511 - mae: 4.3246 - acc: 0.0033 - val_loss: 25.1593 - val_mae: 3.9316 - val_acc: 0.0297\n",
      "Epoch 69/500\n",
      "303/303 [==============================] - 0s 44us/step - loss: 35.8856 - mae: 4.2797 - acc: 0.0132 - val_loss: 24.6509 - val_mae: 3.8829 - val_acc: 0.0297\n",
      "Epoch 70/500\n",
      "303/303 [==============================] - 0s 39us/step - loss: 35.2866 - mae: 4.2318 - acc: 0.0165 - val_loss: 24.1478 - val_mae: 3.8348 - val_acc: 0.0198\n",
      "Epoch 71/500\n",
      "303/303 [==============================] - 0s 37us/step - loss: 34.6947 - mae: 4.1859 - acc: 0.0165 - val_loss: 23.7195 - val_mae: 3.7918 - val_acc: 0.0297\n",
      "Epoch 72/500\n",
      "303/303 [==============================] - 0s 39us/step - loss: 34.1410 - mae: 4.1373 - acc: 0.0198 - val_loss: 23.3002 - val_mae: 3.7501 - val_acc: 0.0297\n",
      "Epoch 73/500\n",
      "303/303 [==============================] - 0s 32us/step - loss: 33.6573 - mae: 4.0935 - acc: 0.0231 - val_loss: 22.9064 - val_mae: 3.7104 - val_acc: 0.0297\n",
      "Epoch 74/500\n",
      "303/303 [==============================] - 0s 44us/step - loss: 33.1088 - mae: 4.0461 - acc: 0.0231 - val_loss: 22.5368 - val_mae: 3.6731 - val_acc: 0.0297\n",
      "Epoch 75/500\n",
      "303/303 [==============================] - 0s 39us/step - loss: 32.6372 - mae: 4.0042 - acc: 0.0231 - val_loss: 22.1672 - val_mae: 3.6356 - val_acc: 0.0297\n",
      "Epoch 76/500\n",
      "303/303 [==============================] - 0s 42us/step - loss: 32.1572 - mae: 3.9677 - acc: 0.0231 - val_loss: 21.8055 - val_mae: 3.6012 - val_acc: 0.0198\n",
      "Epoch 77/500\n",
      "303/303 [==============================] - 0s 34us/step - loss: 31.7307 - mae: 3.9301 - acc: 0.0264 - val_loss: 21.4436 - val_mae: 3.5671 - val_acc: 0.0198\n",
      "Epoch 78/500\n",
      "303/303 [==============================] - 0s 39us/step - loss: 31.2625 - mae: 3.8928 - acc: 0.0264 - val_loss: 21.1159 - val_mae: 3.5372 - val_acc: 0.0198\n",
      "Epoch 79/500\n",
      "303/303 [==============================] - 0s 30us/step - loss: 30.8406 - mae: 3.8606 - acc: 0.0198 - val_loss: 20.8175 - val_mae: 3.5093 - val_acc: 0.0198\n",
      "Epoch 80/500\n",
      "303/303 [==============================] - 0s 35us/step - loss: 30.4390 - mae: 3.8277 - acc: 0.0165 - val_loss: 20.5048 - val_mae: 3.4808 - val_acc: 0.0297\n",
      "Epoch 81/500\n",
      "303/303 [==============================] - 0s 35us/step - loss: 30.0490 - mae: 3.7997 - acc: 0.0132 - val_loss: 20.2227 - val_mae: 3.4562 - val_acc: 0.0099\n",
      "Epoch 82/500\n",
      "303/303 [==============================] - 0s 37us/step - loss: 29.6674 - mae: 3.7709 - acc: 0.0132 - val_loss: 19.9539 - val_mae: 3.4309 - val_acc: 0.0099\n",
      "Epoch 83/500\n",
      "303/303 [==============================] - 0s 35us/step - loss: 29.3266 - mae: 3.7441 - acc: 0.0165 - val_loss: 19.6897 - val_mae: 3.4054 - val_acc: 0.0297\n",
      "Epoch 84/500\n",
      "303/303 [==============================] - 0s 32us/step - loss: 28.9601 - mae: 3.7138 - acc: 0.0099 - val_loss: 19.4412 - val_mae: 3.3813 - val_acc: 0.0297\n",
      "Epoch 85/500\n",
      "303/303 [==============================] - 0s 40us/step - loss: 28.6124 - mae: 3.6861 - acc: 0.0099 - val_loss: 19.2557 - val_mae: 3.3625 - val_acc: 0.0297\n",
      "Epoch 86/500\n",
      "303/303 [==============================] - 0s 39us/step - loss: 28.2736 - mae: 3.6607 - acc: 0.0099 - val_loss: 19.0424 - val_mae: 3.3440 - val_acc: 0.0297\n",
      "Epoch 87/500\n",
      "303/303 [==============================] - 0s 35us/step - loss: 27.9838 - mae: 3.6374 - acc: 0.0132 - val_loss: 18.8313 - val_mae: 3.3250 - val_acc: 0.0297\n",
      "Epoch 88/500\n",
      "303/303 [==============================] - 0s 39us/step - loss: 27.6656 - mae: 3.6106 - acc: 0.0132 - val_loss: 18.6535 - val_mae: 3.3082 - val_acc: 0.0297\n",
      "Epoch 89/500\n",
      "303/303 [==============================] - 0s 45us/step - loss: 27.3879 - mae: 3.5894 - acc: 0.0132 - val_loss: 18.4789 - val_mae: 3.2921 - val_acc: 0.0297\n",
      "Epoch 90/500\n",
      "303/303 [==============================] - 0s 29us/step - loss: 27.1188 - mae: 3.5672 - acc: 0.0132 - val_loss: 18.2859 - val_mae: 3.2750 - val_acc: 0.0297\n",
      "Epoch 91/500\n",
      "303/303 [==============================] - 0s 42us/step - loss: 26.8468 - mae: 3.5457 - acc: 0.0132 - val_loss: 18.1077 - val_mae: 3.2599 - val_acc: 0.0297\n",
      "Epoch 92/500\n",
      "303/303 [==============================] - 0s 40us/step - loss: 26.5596 - mae: 3.5248 - acc: 0.0132 - val_loss: 17.9472 - val_mae: 3.2471 - val_acc: 0.0198\n",
      "Epoch 93/500\n",
      "303/303 [==============================] - 0s 39us/step - loss: 26.3193 - mae: 3.5036 - acc: 0.0132 - val_loss: 17.7936 - val_mae: 3.2341 - val_acc: 0.0198\n",
      "Epoch 94/500\n",
      "303/303 [==============================] - ETA: 0s - loss: 30.4196 - mae: 3.3134 - acc: 0.02 - 0s 34us/step - loss: 26.0718 - mae: 3.4839 - acc: 0.0132 - val_loss: 17.6405 - val_mae: 3.2210 - val_acc: 0.0099\n",
      "Epoch 95/500\n",
      "303/303 [==============================] - 0s 30us/step - loss: 25.8228 - mae: 3.4645 - acc: 0.0198 - val_loss: 17.5277 - val_mae: 3.2096 - val_acc: 0.0099\n",
      "Epoch 96/500\n",
      "303/303 [==============================] - ETA: 0s - loss: 28.7690 - mae: 3.5918 - acc: 0.0000e+ - 0s 35us/step - loss: 25.6048 - mae: 3.4443 - acc: 0.0198 - val_loss: 17.4030 - val_mae: 3.1974 - val_acc: 0.0099\n",
      "Epoch 97/500\n",
      "303/303 [==============================] - 0s 39us/step - loss: 25.4006 - mae: 3.4263 - acc: 0.0198 - val_loss: 17.2821 - val_mae: 3.1845 - val_acc: 0.0099\n",
      "Epoch 98/500\n",
      "303/303 [==============================] - 0s 39us/step - loss: 25.1978 - mae: 3.4094 - acc: 0.0198 - val_loss: 17.1599 - val_mae: 3.1727 - val_acc: 0.0000e+00\n",
      "Epoch 99/500\n",
      "303/303 [==============================] - 0s 30us/step - loss: 24.9844 - mae: 3.3911 - acc: 0.0165 - val_loss: 17.0502 - val_mae: 3.1616 - val_acc: 0.0000e+00\n",
      "Epoch 100/500\n",
      "303/303 [==============================] - 0s 35us/step - loss: 24.8205 - mae: 3.3754 - acc: 0.0165 - val_loss: 16.9323 - val_mae: 3.1516 - val_acc: 0.0000e+00\n",
      "Epoch 101/500\n",
      "303/303 [==============================] - 0s 34us/step - loss: 24.6324 - mae: 3.3599 - acc: 0.0165 - val_loss: 16.8445 - val_mae: 3.1420 - val_acc: 0.0000e+00\n",
      "Epoch 102/500\n",
      "303/303 [==============================] - 0s 37us/step - loss: 24.4657 - mae: 3.3456 - acc: 0.0198 - val_loss: 16.7577 - val_mae: 3.1333 - val_acc: 0.0000e+00\n",
      "Epoch 103/500\n",
      "303/303 [==============================] - 0s 32us/step - loss: 24.2761 - mae: 3.3303 - acc: 0.0198 - val_loss: 16.6704 - val_mae: 3.1241 - val_acc: 0.0000e+00\n",
      "Epoch 104/500\n",
      "303/303 [==============================] - 0s 44us/step - loss: 24.1167 - mae: 3.3191 - acc: 0.0198 - val_loss: 16.5802 - val_mae: 3.1152 - val_acc: 0.0000e+00\n",
      "Epoch 105/500\n",
      "303/303 [==============================] - 0s 37us/step - loss: 23.9728 - mae: 3.3055 - acc: 0.0198 - val_loss: 16.5102 - val_mae: 3.1067 - val_acc: 0.0000e+00\n",
      "Epoch 106/500\n",
      "303/303 [==============================] - 0s 45us/step - loss: 23.8060 - mae: 3.2919 - acc: 0.0198 - val_loss: 16.4343 - val_mae: 3.0992 - val_acc: 0.0000e+00\n",
      "Epoch 107/500\n",
      "303/303 [==============================] - 0s 30us/step - loss: 23.6637 - mae: 3.2808 - acc: 0.0198 - val_loss: 16.3731 - val_mae: 3.0930 - val_acc: 0.0000e+00\n",
      "Epoch 108/500\n",
      "303/303 [==============================] - 0s 30us/step - loss: 23.5045 - mae: 3.2677 - acc: 0.0198 - val_loss: 16.3023 - val_mae: 3.0875 - val_acc: 0.0000e+00\n",
      "Epoch 109/500\n",
      "303/303 [==============================] - 0s 37us/step - loss: 23.3854 - mae: 3.2577 - acc: 0.0165 - val_loss: 16.2411 - val_mae: 3.0829 - val_acc: 0.0000e+00\n",
      "Epoch 110/500\n",
      "303/303 [==============================] - 0s 32us/step - loss: 23.2387 - mae: 3.2459 - acc: 0.0165 - val_loss: 16.1821 - val_mae: 3.0772 - val_acc: 0.0000e+00\n",
      "Epoch 111/500\n",
      "303/303 [==============================] - 0s 37us/step - loss: 23.1060 - mae: 3.2359 - acc: 0.0165 - val_loss: 16.1235 - val_mae: 3.0728 - val_acc: 0.0000e+00\n",
      "Epoch 112/500\n",
      "303/303 [==============================] - 0s 37us/step - loss: 22.9739 - mae: 3.2264 - acc: 0.0165 - val_loss: 16.0753 - val_mae: 3.0671 - val_acc: 0.0000e+00\n",
      "Epoch 113/500\n",
      "303/303 [==============================] - 0s 37us/step - loss: 22.8486 - mae: 3.2158 - acc: 0.0165 - val_loss: 16.0308 - val_mae: 3.0610 - val_acc: 0.0000e+00\n",
      "Epoch 114/500\n",
      "303/303 [==============================] - 0s 40us/step - loss: 22.7244 - mae: 3.2054 - acc: 0.0165 - val_loss: 15.9768 - val_mae: 3.0551 - val_acc: 0.0000e+00\n",
      "Epoch 115/500\n",
      "303/303 [==============================] - 0s 35us/step - loss: 22.6109 - mae: 3.1962 - acc: 0.0165 - val_loss: 15.9092 - val_mae: 3.0494 - val_acc: 0.0000e+00\n",
      "Epoch 116/500\n",
      "303/303 [==============================] - 0s 39us/step - loss: 22.4893 - mae: 3.1870 - acc: 0.0198 - val_loss: 15.8562 - val_mae: 3.0433 - val_acc: 0.0000e+00\n",
      "Epoch 117/500\n",
      "303/303 [==============================] - 0s 40us/step - loss: 22.3808 - mae: 3.1785 - acc: 0.0198 - val_loss: 15.8079 - val_mae: 3.0385 - val_acc: 0.0000e+00\n",
      "Epoch 118/500\n",
      "303/303 [==============================] - 0s 34us/step - loss: 22.2752 - mae: 3.1698 - acc: 0.0198 - val_loss: 15.7627 - val_mae: 3.0346 - val_acc: 0.0000e+00\n",
      "Epoch 119/500\n",
      "303/303 [==============================] - 0s 42us/step - loss: 22.1558 - mae: 3.1607 - acc: 0.0198 - val_loss: 15.7316 - val_mae: 3.0293 - val_acc: 0.0000e+00\n",
      "Epoch 120/500\n",
      "303/303 [==============================] - 0s 39us/step - loss: 22.0527 - mae: 3.1526 - acc: 0.0198 - val_loss: 15.6822 - val_mae: 3.0253 - val_acc: 0.0000e+00\n",
      "Epoch 121/500\n",
      "303/303 [==============================] - 0s 39us/step - loss: 21.9468 - mae: 3.1452 - acc: 0.0198 - val_loss: 15.6345 - val_mae: 3.0204 - val_acc: 0.0000e+00\n",
      "Epoch 122/500\n",
      "303/303 [==============================] - 0s 40us/step - loss: 21.8510 - mae: 3.1370 - acc: 0.0198 - val_loss: 15.6054 - val_mae: 3.0148 - val_acc: 0.0000e+00\n",
      "Epoch 123/500\n",
      "303/303 [==============================] - 0s 42us/step - loss: 21.7440 - mae: 3.1271 - acc: 0.0198 - val_loss: 15.5578 - val_mae: 3.0095 - val_acc: 0.0000e+00\n",
      "Epoch 124/500\n",
      "303/303 [==============================] - 0s 30us/step - loss: 21.6603 - mae: 3.1217 - acc: 0.0198 - val_loss: 15.5163 - val_mae: 3.0050 - val_acc: 0.0000e+00\n",
      "Epoch 125/500\n",
      "303/303 [==============================] - 0s 37us/step - loss: 21.5653 - mae: 3.1132 - acc: 0.0198 - val_loss: 15.4760 - val_mae: 3.0002 - val_acc: 0.0000e+00\n",
      "Epoch 126/500\n",
      "303/303 [==============================] - 0s 37us/step - loss: 21.4655 - mae: 3.1053 - acc: 0.0198 - val_loss: 15.4358 - val_mae: 2.9956 - val_acc: 0.0000e+00\n",
      "Epoch 127/500\n",
      "303/303 [==============================] - 0s 32us/step - loss: 21.3817 - mae: 3.0979 - acc: 0.0198 - val_loss: 15.3968 - val_mae: 2.9907 - val_acc: 0.0000e+00\n",
      "Epoch 128/500\n",
      "303/303 [==============================] - 0s 33us/step - loss: 21.3010 - mae: 3.0895 - acc: 0.0198 - val_loss: 15.3781 - val_mae: 2.9858 - val_acc: 0.0000e+00\n",
      "Epoch 129/500\n",
      "303/303 [==============================] - 0s 42us/step - loss: 21.2107 - mae: 3.0817 - acc: 0.0198 - val_loss: 15.3412 - val_mae: 2.9815 - val_acc: 0.0000e+00\n",
      "Epoch 130/500\n",
      "303/303 [==============================] - 0s 45us/step - loss: 21.1214 - mae: 3.0759 - acc: 0.0198 - val_loss: 15.3100 - val_mae: 2.9776 - val_acc: 0.0000e+00\n",
      "Epoch 131/500\n",
      "303/303 [==============================] - 0s 72us/step - loss: 21.0353 - mae: 3.0700 - acc: 0.0198 - val_loss: 15.2725 - val_mae: 2.9736 - val_acc: 0.0000e+00\n",
      "Epoch 132/500\n",
      "303/303 [==============================] - 0s 70us/step - loss: 20.9527 - mae: 3.0653 - acc: 0.0198 - val_loss: 15.2471 - val_mae: 2.9697 - val_acc: 0.0000e+00\n",
      "Epoch 133/500\n",
      "303/303 [==============================] - 0s 40us/step - loss: 20.8665 - mae: 3.0585 - acc: 0.0198 - val_loss: 15.2074 - val_mae: 2.9652 - val_acc: 0.0099\n",
      "Epoch 134/500\n",
      "303/303 [==============================] - 0s 47us/step - loss: 20.7869 - mae: 3.0532 - acc: 0.0165 - val_loss: 15.1788 - val_mae: 2.9609 - val_acc: 0.0099\n",
      "Epoch 135/500\n",
      "303/303 [==============================] - 0s 40us/step - loss: 20.7153 - mae: 3.0472 - acc: 0.0165 - val_loss: 15.1548 - val_mae: 2.9561 - val_acc: 0.0099\n",
      "Epoch 136/500\n",
      "303/303 [==============================] - 0s 37us/step - loss: 20.6584 - mae: 3.0418 - acc: 0.0165 - val_loss: 15.1251 - val_mae: 2.9505 - val_acc: 0.0099\n",
      "Epoch 137/500\n",
      "303/303 [==============================] - 0s 39us/step - loss: 20.5788 - mae: 3.0373 - acc: 0.0165 - val_loss: 15.0966 - val_mae: 2.9480 - val_acc: 0.0099\n",
      "Epoch 138/500\n",
      "303/303 [==============================] - 0s 37us/step - loss: 20.4859 - mae: 3.0342 - acc: 0.0132 - val_loss: 15.0727 - val_mae: 2.9448 - val_acc: 0.0099\n",
      "Epoch 139/500\n",
      "303/303 [==============================] - 0s 42us/step - loss: 20.4381 - mae: 3.0314 - acc: 0.0132 - val_loss: 15.0343 - val_mae: 2.9410 - val_acc: 0.0099\n",
      "Epoch 140/500\n",
      "303/303 [==============================] - 0s 42us/step - loss: 20.3547 - mae: 3.0296 - acc: 0.0132 - val_loss: 15.0118 - val_mae: 2.9380 - val_acc: 0.0099\n",
      "Epoch 141/500\n",
      "303/303 [==============================] - 0s 34us/step - loss: 20.2806 - mae: 3.0252 - acc: 0.0132 - val_loss: 14.9850 - val_mae: 2.9341 - val_acc: 0.0099\n",
      "Epoch 142/500\n",
      "303/303 [==============================] - 0s 28us/step - loss: 20.2057 - mae: 3.0190 - acc: 0.0132 - val_loss: 14.9658 - val_mae: 2.9299 - val_acc: 0.0099\n",
      "Epoch 143/500\n",
      "303/303 [==============================] - 0s 34us/step - loss: 20.1391 - mae: 3.0133 - acc: 0.0132 - val_loss: 14.9398 - val_mae: 2.9251 - val_acc: 0.0099\n",
      "Epoch 144/500\n",
      "303/303 [==============================] - 0s 40us/step - loss: 20.0714 - mae: 3.0089 - acc: 0.0132 - val_loss: 14.9231 - val_mae: 2.9217 - val_acc: 0.0099\n",
      "Epoch 145/500\n",
      "303/303 [==============================] - 0s 42us/step - loss: 20.0059 - mae: 3.0038 - acc: 0.0132 - val_loss: 14.9048 - val_mae: 2.9188 - val_acc: 0.0099\n",
      "Epoch 146/500\n",
      "303/303 [==============================] - 0s 35us/step - loss: 19.9495 - mae: 2.9989 - acc: 0.0099 - val_loss: 14.8989 - val_mae: 2.9156 - val_acc: 0.0099\n",
      "Epoch 147/500\n",
      "303/303 [==============================] - 0s 35us/step - loss: 19.8819 - mae: 2.9927 - acc: 0.0099 - val_loss: 14.8688 - val_mae: 2.9119 - val_acc: 0.0099\n",
      "Epoch 148/500\n",
      "303/303 [==============================] - 0s 34us/step - loss: 19.8197 - mae: 2.9900 - acc: 0.0099 - val_loss: 14.8455 - val_mae: 2.9098 - val_acc: 0.0099\n",
      "Epoch 149/500\n",
      "303/303 [==============================] - 0s 39us/step - loss: 19.7512 - mae: 2.9868 - acc: 0.0099 - val_loss: 14.8181 - val_mae: 2.9060 - val_acc: 0.0099\n",
      "Epoch 150/500\n",
      "303/303 [==============================] - 0s 42us/step - loss: 19.6848 - mae: 2.9822 - acc: 0.0099 - val_loss: 14.7951 - val_mae: 2.9029 - val_acc: 0.0099\n",
      "Epoch 151/500\n",
      "303/303 [==============================] - 0s 40us/step - loss: 19.6264 - mae: 2.9799 - acc: 0.0099 - val_loss: 14.7804 - val_mae: 2.9014 - val_acc: 0.0099\n",
      "Epoch 152/500\n",
      "303/303 [==============================] - 0s 40us/step - loss: 19.5707 - mae: 2.9767 - acc: 0.0099 - val_loss: 14.7531 - val_mae: 2.8987 - val_acc: 0.0099\n",
      "Epoch 153/500\n",
      "303/303 [==============================] - 0s 42us/step - loss: 19.5119 - mae: 2.9736 - acc: 0.0099 - val_loss: 14.7391 - val_mae: 2.8975 - val_acc: 0.0099\n",
      "Epoch 154/500\n",
      "303/303 [==============================] - 0s 40us/step - loss: 19.4355 - mae: 2.9678 - acc: 0.0132 - val_loss: 14.7316 - val_mae: 2.8948 - val_acc: 0.0099\n",
      "Epoch 155/500\n",
      "303/303 [==============================] - 0s 40us/step - loss: 19.3788 - mae: 2.9631 - acc: 0.0132 - val_loss: 14.7111 - val_mae: 2.8924 - val_acc: 0.0099\n",
      "Epoch 156/500\n",
      "303/303 [==============================] - 0s 35us/step - loss: 19.3174 - mae: 2.9586 - acc: 0.0132 - val_loss: 14.6908 - val_mae: 2.8894 - val_acc: 0.0099\n",
      "Epoch 157/500\n",
      "303/303 [==============================] - 0s 37us/step - loss: 19.2573 - mae: 2.9536 - acc: 0.0132 - val_loss: 14.6715 - val_mae: 2.8855 - val_acc: 0.0099\n",
      "Epoch 158/500\n",
      "303/303 [==============================] - 0s 39us/step - loss: 19.2034 - mae: 2.9486 - acc: 0.0165 - val_loss: 14.6603 - val_mae: 2.8836 - val_acc: 0.0099\n",
      "Epoch 159/500\n",
      "303/303 [==============================] - 0s 37us/step - loss: 19.1496 - mae: 2.9427 - acc: 0.0165 - val_loss: 14.6471 - val_mae: 2.8799 - val_acc: 0.0099\n",
      "Epoch 160/500\n",
      "303/303 [==============================] - 0s 40us/step - loss: 19.0849 - mae: 2.9374 - acc: 0.0165 - val_loss: 14.6197 - val_mae: 2.8772 - val_acc: 0.0000e+00\n",
      "Epoch 161/500\n",
      "303/303 [==============================] - 0s 37us/step - loss: 19.0415 - mae: 2.9357 - acc: 0.0165 - val_loss: 14.5992 - val_mae: 2.8758 - val_acc: 0.0000e+00\n",
      "Epoch 162/500\n",
      "303/303 [==============================] - 0s 42us/step - loss: 18.9903 - mae: 2.9339 - acc: 0.0198 - val_loss: 14.5799 - val_mae: 2.8744 - val_acc: 0.0000e+00\n",
      "Epoch 163/500\n",
      "303/303 [==============================] - 0s 34us/step - loss: 18.9220 - mae: 2.9300 - acc: 0.0198 - val_loss: 14.5704 - val_mae: 2.8720 - val_acc: 0.0000e+00\n",
      "Epoch 164/500\n",
      "303/303 [==============================] - 0s 35us/step - loss: 18.8614 - mae: 2.9246 - acc: 0.0198 - val_loss: 14.5588 - val_mae: 2.8698 - val_acc: 0.0000e+00\n",
      "Epoch 165/500\n",
      "303/303 [==============================] - 0s 39us/step - loss: 18.8142 - mae: 2.9212 - acc: 0.0198 - val_loss: 14.5365 - val_mae: 2.8678 - val_acc: 0.0000e+00\n",
      "Epoch 166/500\n",
      "303/303 [==============================] - 0s 32us/step - loss: 18.7584 - mae: 2.9183 - acc: 0.0198 - val_loss: 14.5265 - val_mae: 2.8669 - val_acc: 0.0000e+00\n",
      "Epoch 167/500\n",
      "303/303 [==============================] - 0s 34us/step - loss: 18.7217 - mae: 2.9168 - acc: 0.0231 - val_loss: 14.4983 - val_mae: 2.8650 - val_acc: 0.0000e+00\n",
      "Epoch 168/500\n",
      "303/303 [==============================] - 0s 39us/step - loss: 18.6488 - mae: 2.9121 - acc: 0.0231 - val_loss: 14.4820 - val_mae: 2.8618 - val_acc: 0.0000e+00\n",
      "Epoch 169/500\n",
      "303/303 [==============================] - 0s 37us/step - loss: 18.6220 - mae: 2.9099 - acc: 0.0264 - val_loss: 14.4620 - val_mae: 2.8619 - val_acc: 0.0000e+00\n",
      "Epoch 170/500\n",
      "303/303 [==============================] - 0s 42us/step - loss: 18.5554 - mae: 2.9057 - acc: 0.0264 - val_loss: 14.4434 - val_mae: 2.8578 - val_acc: 0.0000e+00\n",
      "Epoch 171/500\n",
      "303/303 [==============================] - 0s 37us/step - loss: 18.5009 - mae: 2.9007 - acc: 0.0264 - val_loss: 14.4359 - val_mae: 2.8558 - val_acc: 0.0000e+00\n",
      "Epoch 172/500\n",
      "303/303 [==============================] - 0s 32us/step - loss: 18.4473 - mae: 2.8972 - acc: 0.0264 - val_loss: 14.4270 - val_mae: 2.8546 - val_acc: 0.0000e+00\n",
      "Epoch 173/500\n",
      "303/303 [==============================] - 0s 35us/step - loss: 18.3961 - mae: 2.8939 - acc: 0.0231 - val_loss: 14.4081 - val_mae: 2.8514 - val_acc: 0.0000e+00\n",
      "Epoch 174/500\n",
      "303/303 [==============================] - 0s 39us/step - loss: 18.3466 - mae: 2.8899 - acc: 0.0231 - val_loss: 14.3880 - val_mae: 2.8479 - val_acc: 0.0000e+00\n",
      "Epoch 175/500\n",
      "303/303 [==============================] - 0s 37us/step - loss: 18.2966 - mae: 2.8851 - acc: 0.0231 - val_loss: 14.3784 - val_mae: 2.8443 - val_acc: 0.0000e+00\n",
      "Epoch 176/500\n",
      "303/303 [==============================] - 0s 34us/step - loss: 18.2488 - mae: 2.8799 - acc: 0.0231 - val_loss: 14.3705 - val_mae: 2.8428 - val_acc: 0.0000e+00\n",
      "Epoch 177/500\n",
      "303/303 [==============================] - 0s 37us/step - loss: 18.1921 - mae: 2.8766 - acc: 0.0231 - val_loss: 14.3483 - val_mae: 2.8418 - val_acc: 0.0000e+00\n",
      "Epoch 178/500\n",
      "303/303 [==============================] - 0s 28us/step - loss: 18.1431 - mae: 2.8760 - acc: 0.0231 - val_loss: 14.3317 - val_mae: 2.8412 - val_acc: 0.0000e+00\n",
      "Epoch 179/500\n",
      "303/303 [==============================] - 0s 35us/step - loss: 18.0911 - mae: 2.8748 - acc: 0.0231 - val_loss: 14.3224 - val_mae: 2.8402 - val_acc: 0.0000e+00\n",
      "Epoch 180/500\n",
      "303/303 [==============================] - 0s 40us/step - loss: 18.0408 - mae: 2.8723 - acc: 0.0231 - val_loss: 14.3091 - val_mae: 2.8376 - val_acc: 0.0000e+00\n",
      "Epoch 181/500\n",
      "303/303 [==============================] - 0s 37us/step - loss: 18.0056 - mae: 2.8690 - acc: 0.0231 - val_loss: 14.3017 - val_mae: 2.8355 - val_acc: 0.0000e+00\n",
      "Epoch 182/500\n",
      "303/303 [==============================] - 0s 37us/step - loss: 17.9568 - mae: 2.8665 - acc: 0.0231 - val_loss: 14.2687 - val_mae: 2.8334 - val_acc: 0.0000e+00\n",
      "Epoch 183/500\n",
      "303/303 [==============================] - 0s 47us/step - loss: 17.9186 - mae: 2.8617 - acc: 0.0264 - val_loss: 14.2589 - val_mae: 2.8279 - val_acc: 0.0000e+00\n",
      "Epoch 184/500\n",
      "303/303 [==============================] - 0s 39us/step - loss: 17.8714 - mae: 2.8578 - acc: 0.0264 - val_loss: 14.2326 - val_mae: 2.8284 - val_acc: 0.0000e+00\n",
      "Epoch 185/500\n",
      "303/303 [==============================] - 0s 35us/step - loss: 17.8113 - mae: 2.8563 - acc: 0.0264 - val_loss: 14.2169 - val_mae: 2.8266 - val_acc: 0.0000e+00\n",
      "Epoch 186/500\n",
      "303/303 [==============================] - 0s 37us/step - loss: 17.7696 - mae: 2.8535 - acc: 0.0264 - val_loss: 14.2084 - val_mae: 2.8247 - val_acc: 0.0000e+00\n",
      "Epoch 187/500\n",
      "303/303 [==============================] - 0s 30us/step - loss: 17.7281 - mae: 2.8491 - acc: 0.0264 - val_loss: 14.2032 - val_mae: 2.8209 - val_acc: 0.0000e+00\n",
      "Epoch 188/500\n",
      "303/303 [==============================] - 0s 35us/step - loss: 17.6880 - mae: 2.8466 - acc: 0.0264 - val_loss: 14.1799 - val_mae: 2.8181 - val_acc: 0.0000e+00\n",
      "Epoch 189/500\n",
      "303/303 [==============================] - 0s 28us/step - loss: 17.6412 - mae: 2.8424 - acc: 0.0264 - val_loss: 14.1724 - val_mae: 2.8145 - val_acc: 0.0000e+00\n",
      "Epoch 190/500\n",
      "303/303 [==============================] - 0s 34us/step - loss: 17.6032 - mae: 2.8390 - acc: 0.0264 - val_loss: 14.1574 - val_mae: 2.8127 - val_acc: 0.0000e+00\n",
      "Epoch 191/500\n",
      "303/303 [==============================] - 0s 40us/step - loss: 17.5508 - mae: 2.8356 - acc: 0.0264 - val_loss: 14.1605 - val_mae: 2.8127 - val_acc: 0.0000e+00\n",
      "Epoch 192/500\n",
      "303/303 [==============================] - 0s 37us/step - loss: 17.5098 - mae: 2.8330 - acc: 0.0264 - val_loss: 14.1535 - val_mae: 2.8110 - val_acc: 0.0000e+00\n",
      "Epoch 193/500\n",
      "303/303 [==============================] - 0s 32us/step - loss: 17.4663 - mae: 2.8314 - acc: 0.0264 - val_loss: 14.1433 - val_mae: 2.8114 - val_acc: 0.0000e+00\n",
      "Epoch 194/500\n",
      "303/303 [==============================] - 0s 30us/step - loss: 17.4290 - mae: 2.8318 - acc: 0.0264 - val_loss: 14.1302 - val_mae: 2.8116 - val_acc: 0.0000e+00\n",
      "Epoch 195/500\n",
      "303/303 [==============================] - 0s 39us/step - loss: 17.3708 - mae: 2.8280 - acc: 0.0264 - val_loss: 14.1200 - val_mae: 2.8079 - val_acc: 0.0000e+00\n",
      "Epoch 196/500\n",
      "303/303 [==============================] - 0s 39us/step - loss: 17.3304 - mae: 2.8247 - acc: 0.0264 - val_loss: 14.1126 - val_mae: 2.8050 - val_acc: 0.0000e+00\n",
      "Epoch 197/500\n",
      "303/303 [==============================] - 0s 37us/step - loss: 17.2912 - mae: 2.8207 - acc: 0.0264 - val_loss: 14.0968 - val_mae: 2.7998 - val_acc: 0.0000e+00\n",
      "Epoch 198/500\n",
      "303/303 [==============================] - 0s 47us/step - loss: 17.2441 - mae: 2.8172 - acc: 0.0264 - val_loss: 14.0780 - val_mae: 2.7964 - val_acc: 0.0000e+00\n",
      "Epoch 199/500\n",
      "303/303 [==============================] - 0s 34us/step - loss: 17.1983 - mae: 2.8142 - acc: 0.0264 - val_loss: 14.0694 - val_mae: 2.7956 - val_acc: 0.0000e+00\n",
      "Epoch 200/500\n",
      "303/303 [==============================] - 0s 34us/step - loss: 17.1683 - mae: 2.8144 - acc: 0.0264 - val_loss: 14.0636 - val_mae: 2.7965 - val_acc: 0.0000e+00\n",
      "Epoch 201/500\n",
      "303/303 [==============================] - 0s 40us/step - loss: 17.1193 - mae: 2.8124 - acc: 0.0264 - val_loss: 14.0579 - val_mae: 2.7934 - val_acc: 0.0000e+00\n",
      "Epoch 202/500\n",
      "303/303 [==============================] - 0s 42us/step - loss: 17.0690 - mae: 2.8073 - acc: 0.0264 - val_loss: 14.0507 - val_mae: 2.7916 - val_acc: 0.0000e+00\n",
      "Epoch 203/500\n",
      "303/303 [==============================] - 0s 37us/step - loss: 17.0227 - mae: 2.8038 - acc: 0.0264 - val_loss: 14.0523 - val_mae: 2.7916 - val_acc: 0.0000e+00\n",
      "Epoch 204/500\n",
      "303/303 [==============================] - 0s 35us/step - loss: 16.9922 - mae: 2.8039 - acc: 0.0264 - val_loss: 14.0438 - val_mae: 2.7927 - val_acc: 0.0000e+00\n",
      "Epoch 205/500\n",
      "303/303 [==============================] - 0s 37us/step - loss: 16.9456 - mae: 2.8025 - acc: 0.0264 - val_loss: 14.0437 - val_mae: 2.7918 - val_acc: 0.0000e+00\n",
      "Epoch 206/500\n",
      "303/303 [==============================] - 0s 39us/step - loss: 16.9057 - mae: 2.7997 - acc: 0.0264 - val_loss: 14.0466 - val_mae: 2.7916 - val_acc: 0.0000e+00\n",
      "Epoch 207/500\n",
      "303/303 [==============================] - 0s 37us/step - loss: 16.8707 - mae: 2.7953 - acc: 0.0264 - val_loss: 14.0480 - val_mae: 2.7902 - val_acc: 0.0000e+00\n",
      "Epoch 208/500\n",
      "303/303 [==============================] - 0s 42us/step - loss: 16.8328 - mae: 2.7930 - acc: 0.0264 - val_loss: 14.0226 - val_mae: 2.7859 - val_acc: 0.0000e+00\n",
      "Epoch 209/500\n",
      "303/303 [==============================] - 0s 32us/step - loss: 16.7937 - mae: 2.7916 - acc: 0.0264 - val_loss: 14.0114 - val_mae: 2.7852 - val_acc: 0.0000e+00\n",
      "Epoch 210/500\n",
      "303/303 [==============================] - 0s 35us/step - loss: 16.7520 - mae: 2.7899 - acc: 0.0264 - val_loss: 14.0047 - val_mae: 2.7843 - val_acc: 0.0099\n",
      "Epoch 211/500\n",
      "303/303 [==============================] - 0s 34us/step - loss: 16.7023 - mae: 2.7871 - acc: 0.0264 - val_loss: 14.0005 - val_mae: 2.7833 - val_acc: 0.0000e+00\n",
      "Epoch 212/500\n",
      "303/303 [==============================] - 0s 35us/step - loss: 16.6947 - mae: 2.7875 - acc: 0.0264 - val_loss: 13.9996 - val_mae: 2.7840 - val_acc: 0.0099\n",
      "Epoch 213/500\n",
      "303/303 [==============================] - 0s 37us/step - loss: 16.6318 - mae: 2.7842 - acc: 0.0264 - val_loss: 13.9958 - val_mae: 2.7837 - val_acc: 0.0099\n",
      "Epoch 214/500\n",
      "303/303 [==============================] - 0s 30us/step - loss: 16.6039 - mae: 2.7803 - acc: 0.0264 - val_loss: 13.9988 - val_mae: 2.7817 - val_acc: 0.0099\n",
      "Epoch 215/500\n",
      "303/303 [==============================] - 0s 37us/step - loss: 16.5699 - mae: 2.7773 - acc: 0.0198 - val_loss: 14.0062 - val_mae: 2.7821 - val_acc: 0.0000e+00\n",
      "Epoch 216/500\n",
      "303/303 [==============================] - 0s 37us/step - loss: 16.5259 - mae: 2.7732 - acc: 0.0231 - val_loss: 14.0002 - val_mae: 2.7794 - val_acc: 0.0000e+00\n",
      "Epoch 217/500\n",
      "303/303 [==============================] - 0s 34us/step - loss: 16.4964 - mae: 2.7708 - acc: 0.0231 - val_loss: 13.9869 - val_mae: 2.7793 - val_acc: 0.0099\n",
      "Epoch 218/500\n",
      "303/303 [==============================] - 0s 39us/step - loss: 16.4469 - mae: 2.7686 - acc: 0.0198 - val_loss: 13.9854 - val_mae: 2.7789 - val_acc: 0.0099\n",
      "Epoch 219/500\n",
      "303/303 [==============================] - 0s 33us/step - loss: 16.4155 - mae: 2.7668 - acc: 0.0198 - val_loss: 13.9753 - val_mae: 2.7778 - val_acc: 0.0099\n",
      "Epoch 220/500\n",
      "303/303 [==============================] - 0s 35us/step - loss: 16.3768 - mae: 2.7640 - acc: 0.0198 - val_loss: 13.9681 - val_mae: 2.7776 - val_acc: 0.0099\n",
      "Epoch 221/500\n",
      "303/303 [==============================] - 0s 37us/step - loss: 16.3461 - mae: 2.7641 - acc: 0.0198 - val_loss: 13.9572 - val_mae: 2.7785 - val_acc: 0.0099\n",
      "Epoch 222/500\n",
      "303/303 [==============================] - 0s 34us/step - loss: 16.3097 - mae: 2.7614 - acc: 0.0198 - val_loss: 13.9587 - val_mae: 2.7781 - val_acc: 0.0099\n",
      "Epoch 223/500\n",
      "303/303 [==============================] - 0s 37us/step - loss: 16.2730 - mae: 2.7587 - acc: 0.0198 - val_loss: 13.9583 - val_mae: 2.7783 - val_acc: 0.0099\n",
      "Epoch 224/500\n",
      "303/303 [==============================] - 0s 40us/step - loss: 16.2376 - mae: 2.7561 - acc: 0.0198 - val_loss: 13.9631 - val_mae: 2.7778 - val_acc: 0.0099\n",
      "Epoch 225/500\n",
      "303/303 [==============================] - 0s 39us/step - loss: 16.1980 - mae: 2.7535 - acc: 0.0198 - val_loss: 13.9564 - val_mae: 2.7773 - val_acc: 0.0099\n",
      "Epoch 226/500\n",
      "303/303 [==============================] - 0s 42us/step - loss: 16.1733 - mae: 2.7519 - acc: 0.0198 - val_loss: 13.9544 - val_mae: 2.7759 - val_acc: 0.0099\n",
      "Epoch 227/500\n",
      "303/303 [==============================] - 0s 39us/step - loss: 16.1292 - mae: 2.7484 - acc: 0.0198 - val_loss: 13.9544 - val_mae: 2.7760 - val_acc: 0.0099\n",
      "Epoch 228/500\n",
      "303/303 [==============================] - 0s 37us/step - loss: 16.0977 - mae: 2.7473 - acc: 0.0198 - val_loss: 13.9376 - val_mae: 2.7758 - val_acc: 0.0099\n",
      "Epoch 229/500\n",
      "303/303 [==============================] - 0s 37us/step - loss: 16.0685 - mae: 2.7453 - acc: 0.0198 - val_loss: 13.9307 - val_mae: 2.7756 - val_acc: 0.0099\n",
      "Epoch 230/500\n",
      "303/303 [==============================] - 0s 35us/step - loss: 16.0374 - mae: 2.7444 - acc: 0.0198 - val_loss: 13.9227 - val_mae: 2.7758 - val_acc: 0.0099\n",
      "Epoch 231/500\n",
      "303/303 [==============================] - 0s 39us/step - loss: 16.0122 - mae: 2.7426 - acc: 0.0198 - val_loss: 13.9338 - val_mae: 2.7749 - val_acc: 0.0099\n",
      "Epoch 232/500\n",
      "303/303 [==============================] - 0s 42us/step - loss: 15.9726 - mae: 2.7389 - acc: 0.0198 - val_loss: 13.9273 - val_mae: 2.7756 - val_acc: 0.0099\n",
      "Epoch 233/500\n",
      "303/303 [==============================] - 0s 44us/step - loss: 15.9445 - mae: 2.7372 - acc: 0.0198 - val_loss: 13.9261 - val_mae: 2.7758 - val_acc: 0.0099\n",
      "Epoch 234/500\n",
      "303/303 [==============================] - 0s 37us/step - loss: 15.9108 - mae: 2.7351 - acc: 0.0198 - val_loss: 13.9170 - val_mae: 2.7737 - val_acc: 0.0099\n",
      "Epoch 235/500\n",
      "303/303 [==============================] - 0s 37us/step - loss: 15.8760 - mae: 2.7290 - acc: 0.0198 - val_loss: 13.9212 - val_mae: 2.7723 - val_acc: 0.0099\n",
      "Epoch 236/500\n",
      "303/303 [==============================] - 0s 30us/step - loss: 15.8507 - mae: 2.7276 - acc: 0.0198 - val_loss: 13.9208 - val_mae: 2.7729 - val_acc: 0.0099\n",
      "Epoch 237/500\n",
      "303/303 [==============================] - 0s 32us/step - loss: 15.8172 - mae: 2.7263 - acc: 0.0198 - val_loss: 13.9257 - val_mae: 2.7741 - val_acc: 0.0099\n",
      "Epoch 238/500\n",
      "303/303 [==============================] - 0s 44us/step - loss: 15.7900 - mae: 2.7250 - acc: 0.0198 - val_loss: 13.9268 - val_mae: 2.7751 - val_acc: 0.0099\n",
      "Epoch 239/500\n",
      "303/303 [==============================] - 0s 32us/step - loss: 15.7466 - mae: 2.7226 - acc: 0.0198 - val_loss: 13.9226 - val_mae: 2.7740 - val_acc: 0.0099\n",
      "Epoch 240/500\n",
      "303/303 [==============================] - 0s 32us/step - loss: 15.7247 - mae: 2.7208 - acc: 0.0165 - val_loss: 13.9371 - val_mae: 2.7744 - val_acc: 0.0099\n",
      "Epoch 241/500\n",
      "303/303 [==============================] - 0s 37us/step - loss: 15.6945 - mae: 2.7177 - acc: 0.0165 - val_loss: 13.9327 - val_mae: 2.7732 - val_acc: 0.0099\n",
      "Epoch 242/500\n",
      "303/303 [==============================] - 0s 35us/step - loss: 15.6764 - mae: 2.7148 - acc: 0.0165 - val_loss: 13.9353 - val_mae: 2.7722 - val_acc: 0.0099\n",
      "Epoch 243/500\n",
      "303/303 [==============================] - 0s 37us/step - loss: 15.6313 - mae: 2.7116 - acc: 0.0165 - val_loss: 13.9355 - val_mae: 2.7730 - val_acc: 0.0099\n",
      "Epoch 244/500\n",
      "303/303 [==============================] - 0s 28us/step - loss: 15.6143 - mae: 2.7121 - acc: 0.0165 - val_loss: 13.9202 - val_mae: 2.7729 - val_acc: 0.0099\n",
      "Epoch 245/500\n",
      "303/303 [==============================] - 0s 37us/step - loss: 15.5813 - mae: 2.7122 - acc: 0.0198 - val_loss: 13.9213 - val_mae: 2.7739 - val_acc: 0.0099\n",
      "Epoch 246/500\n",
      "303/303 [==============================] - 0s 40us/step - loss: 15.5499 - mae: 2.7115 - acc: 0.0198 - val_loss: 13.9064 - val_mae: 2.7726 - val_acc: 0.0099\n",
      "Epoch 247/500\n",
      "303/303 [==============================] - 0s 45us/step - loss: 15.5239 - mae: 2.7100 - acc: 0.0198 - val_loss: 13.8985 - val_mae: 2.7726 - val_acc: 0.0099\n",
      "Epoch 248/500\n",
      "303/303 [==============================] - 0s 37us/step - loss: 15.4981 - mae: 2.7070 - acc: 0.0198 - val_loss: 13.9080 - val_mae: 2.7726 - val_acc: 0.0099\n",
      "Epoch 249/500\n",
      "303/303 [==============================] - 0s 37us/step - loss: 15.4652 - mae: 2.7022 - acc: 0.0165 - val_loss: 13.9200 - val_mae: 2.7727 - val_acc: 0.0099\n",
      "Epoch 250/500\n",
      "303/303 [==============================] - 0s 39us/step - loss: 15.4417 - mae: 2.6993 - acc: 0.0165 - val_loss: 13.9163 - val_mae: 2.7726 - val_acc: 0.0099\n",
      "Epoch 251/500\n",
      "303/303 [==============================] - 0s 32us/step - loss: 15.4108 - mae: 2.6964 - acc: 0.0165 - val_loss: 13.9153 - val_mae: 2.7711 - val_acc: 0.0099\n",
      "Epoch 252/500\n",
      "303/303 [==============================] - 0s 39us/step - loss: 15.3890 - mae: 2.6970 - acc: 0.0165 - val_loss: 13.8879 - val_mae: 2.7680 - val_acc: 0.0099\n",
      "Epoch 253/500\n",
      "303/303 [==============================] - 0s 35us/step - loss: 15.3495 - mae: 2.6944 - acc: 0.0165 - val_loss: 13.8743 - val_mae: 2.7660 - val_acc: 0.0099\n",
      "Epoch 254/500\n",
      "303/303 [==============================] - 0s 40us/step - loss: 15.3176 - mae: 2.6924 - acc: 0.0165 - val_loss: 13.8754 - val_mae: 2.7668 - val_acc: 0.0099\n",
      "Epoch 255/500\n",
      "303/303 [==============================] - 0s 35us/step - loss: 15.2997 - mae: 2.6923 - acc: 0.0165 - val_loss: 13.8870 - val_mae: 2.7673 - val_acc: 0.0099\n",
      "Epoch 256/500\n",
      "303/303 [==============================] - 0s 44us/step - loss: 15.2753 - mae: 2.6906 - acc: 0.0165 - val_loss: 13.8696 - val_mae: 2.7668 - val_acc: 0.0099\n",
      "Epoch 257/500\n",
      "303/303 [==============================] - 0s 33us/step - loss: 15.2565 - mae: 2.6909 - acc: 0.0198 - val_loss: 13.8569 - val_mae: 2.7672 - val_acc: 0.0099\n",
      "Epoch 258/500\n",
      "303/303 [==============================] - 0s 45us/step - loss: 15.2272 - mae: 2.6891 - acc: 0.0198 - val_loss: 13.8605 - val_mae: 2.7662 - val_acc: 0.0099\n",
      "Epoch 259/500\n",
      "303/303 [==============================] - 0s 47us/step - loss: 15.1848 - mae: 2.6846 - acc: 0.0198 - val_loss: 13.8715 - val_mae: 2.7660 - val_acc: 0.0099\n",
      "Epoch 260/500\n",
      "303/303 [==============================] - 0s 28us/step - loss: 15.1611 - mae: 2.6827 - acc: 0.0198 - val_loss: 13.8737 - val_mae: 2.7664 - val_acc: 0.0099\n",
      "Epoch 261/500\n",
      "303/303 [==============================] - 0s 37us/step - loss: 15.1365 - mae: 2.6804 - acc: 0.0165 - val_loss: 13.8733 - val_mae: 2.7652 - val_acc: 0.0099\n",
      "Epoch 262/500\n",
      "303/303 [==============================] - 0s 44us/step - loss: 15.1012 - mae: 2.6761 - acc: 0.0165 - val_loss: 13.8648 - val_mae: 2.7640 - val_acc: 0.0099\n",
      "Epoch 263/500\n",
      "303/303 [==============================] - 0s 30us/step - loss: 15.0842 - mae: 2.6737 - acc: 0.0165 - val_loss: 13.8505 - val_mae: 2.7624 - val_acc: 0.0099\n",
      "Epoch 264/500\n",
      "303/303 [==============================] - 0s 44us/step - loss: 15.0561 - mae: 2.6717 - acc: 0.0198 - val_loss: 13.8568 - val_mae: 2.7639 - val_acc: 0.0099\n",
      "Epoch 265/500\n",
      "303/303 [==============================] - 0s 39us/step - loss: 15.0362 - mae: 2.6704 - acc: 0.0165 - val_loss: 13.8514 - val_mae: 2.7632 - val_acc: 0.0099\n",
      "Epoch 266/500\n",
      "303/303 [==============================] - 0s 35us/step - loss: 15.0044 - mae: 2.6682 - acc: 0.0198 - val_loss: 13.8327 - val_mae: 2.7624 - val_acc: 0.0099\n",
      "Epoch 267/500\n",
      "303/303 [==============================] - 0s 34us/step - loss: 14.9955 - mae: 2.6696 - acc: 0.0198 - val_loss: 13.8322 - val_mae: 2.7638 - val_acc: 0.0099\n",
      "Epoch 268/500\n",
      "303/303 [==============================] - 0s 34us/step - loss: 14.9508 - mae: 2.6674 - acc: 0.0165 - val_loss: 13.8374 - val_mae: 2.7646 - val_acc: 0.0099\n",
      "Epoch 269/500\n",
      "303/303 [==============================] - 0s 32us/step - loss: 14.9328 - mae: 2.6663 - acc: 0.0198 - val_loss: 13.8538 - val_mae: 2.7674 - val_acc: 0.0099\n",
      "Epoch 270/500\n",
      "303/303 [==============================] - 0s 40us/step - loss: 14.8994 - mae: 2.6624 - acc: 0.0165 - val_loss: 13.8639 - val_mae: 2.7681 - val_acc: 0.0099\n",
      "Epoch 271/500\n",
      "303/303 [==============================] - 0s 42us/step - loss: 14.8979 - mae: 2.6604 - acc: 0.0198 - val_loss: 13.8487 - val_mae: 2.7659 - val_acc: 0.0099\n",
      "Epoch 272/500\n",
      "303/303 [==============================] - 0s 39us/step - loss: 14.8600 - mae: 2.6560 - acc: 0.0165 - val_loss: 13.8421 - val_mae: 2.7658 - val_acc: 0.0099\n",
      "Epoch 273/500\n",
      "303/303 [==============================] - 0s 35us/step - loss: 14.8277 - mae: 2.6550 - acc: 0.0165 - val_loss: 13.8363 - val_mae: 2.7646 - val_acc: 0.0099\n",
      "Epoch 274/500\n",
      "303/303 [==============================] - 0s 37us/step - loss: 14.7980 - mae: 2.6530 - acc: 0.0198 - val_loss: 13.8232 - val_mae: 2.7635 - val_acc: 0.0099\n",
      "Epoch 275/500\n",
      "303/303 [==============================] - 0s 39us/step - loss: 14.7838 - mae: 2.6524 - acc: 0.0198 - val_loss: 13.8383 - val_mae: 2.7662 - val_acc: 0.0099\n",
      "Epoch 276/500\n",
      "303/303 [==============================] - 0s 35us/step - loss: 14.7529 - mae: 2.6518 - acc: 0.0198 - val_loss: 13.8087 - val_mae: 2.7638 - val_acc: 0.0099\n",
      "Epoch 277/500\n",
      "303/303 [==============================] - 0s 37us/step - loss: 14.7256 - mae: 2.6485 - acc: 0.0198 - val_loss: 13.8082 - val_mae: 2.7637 - val_acc: 0.0099\n",
      "Epoch 278/500\n",
      "303/303 [==============================] - 0s 35us/step - loss: 14.6933 - mae: 2.6456 - acc: 0.0198 - val_loss: 13.8164 - val_mae: 2.7646 - val_acc: 0.0099\n",
      "Epoch 279/500\n",
      "303/303 [==============================] - 0s 34us/step - loss: 14.6798 - mae: 2.6450 - acc: 0.0198 - val_loss: 13.8241 - val_mae: 2.7653 - val_acc: 0.0099\n",
      "Epoch 280/500\n",
      "303/303 [==============================] - 0s 35us/step - loss: 14.6480 - mae: 2.6440 - acc: 0.0198 - val_loss: 13.8265 - val_mae: 2.7661 - val_acc: 0.0099\n",
      "Epoch 281/500\n",
      "303/303 [==============================] - 0s 34us/step - loss: 14.6352 - mae: 2.6447 - acc: 0.0198 - val_loss: 13.8444 - val_mae: 2.7691 - val_acc: 0.0099\n",
      "Epoch 282/500\n",
      "303/303 [==============================] - 0s 37us/step - loss: 14.5992 - mae: 2.6439 - acc: 0.0198 - val_loss: 13.8355 - val_mae: 2.7682 - val_acc: 0.0099\n",
      "Epoch 283/500\n",
      "303/303 [==============================] - 0s 37us/step - loss: 14.5790 - mae: 2.6437 - acc: 0.0198 - val_loss: 13.8398 - val_mae: 2.7682 - val_acc: 0.0099\n",
      "Epoch 284/500\n",
      "303/303 [==============================] - 0s 37us/step - loss: 14.5546 - mae: 2.6398 - acc: 0.0198 - val_loss: 13.8192 - val_mae: 2.7651 - val_acc: 0.0099\n",
      "Epoch 285/500\n",
      "303/303 [==============================] - 0s 32us/step - loss: 14.5204 - mae: 2.6351 - acc: 0.0198 - val_loss: 13.8023 - val_mae: 2.7632 - val_acc: 0.0099\n",
      "Epoch 286/500\n",
      "303/303 [==============================] - 0s 32us/step - loss: 14.4903 - mae: 2.6319 - acc: 0.0231 - val_loss: 13.7891 - val_mae: 2.7617 - val_acc: 0.0099\n",
      "Epoch 287/500\n",
      "303/303 [==============================] - 0s 32us/step - loss: 14.4709 - mae: 2.6303 - acc: 0.0198 - val_loss: 13.7785 - val_mae: 2.7598 - val_acc: 0.0099\n",
      "Epoch 288/500\n",
      "303/303 [==============================] - 0s 34us/step - loss: 14.4432 - mae: 2.6281 - acc: 0.0198 - val_loss: 13.7789 - val_mae: 2.7599 - val_acc: 0.0099\n",
      "Epoch 289/500\n",
      "303/303 [==============================] - 0s 37us/step - loss: 14.4265 - mae: 2.6273 - acc: 0.0165 - val_loss: 13.7866 - val_mae: 2.7604 - val_acc: 0.0099\n",
      "Epoch 290/500\n",
      "303/303 [==============================] - 0s 44us/step - loss: 14.4059 - mae: 2.6260 - acc: 0.0198 - val_loss: 13.7973 - val_mae: 2.7614 - val_acc: 0.0099\n",
      "Epoch 291/500\n",
      "303/303 [==============================] - 0s 37us/step - loss: 14.3677 - mae: 2.6248 - acc: 0.0198 - val_loss: 13.8016 - val_mae: 2.7612 - val_acc: 0.0099\n",
      "Epoch 292/500\n",
      "303/303 [==============================] - 0s 37us/step - loss: 14.3600 - mae: 2.6229 - acc: 0.0198 - val_loss: 13.7758 - val_mae: 2.7580 - val_acc: 0.0099\n",
      "Epoch 293/500\n",
      "303/303 [==============================] - 0s 37us/step - loss: 14.3248 - mae: 2.6196 - acc: 0.0198 - val_loss: 13.7648 - val_mae: 2.7573 - val_acc: 0.0099\n",
      "Epoch 294/500\n",
      "303/303 [==============================] - 0s 37us/step - loss: 14.2953 - mae: 2.6177 - acc: 0.0198 - val_loss: 13.7607 - val_mae: 2.7566 - val_acc: 0.0099\n",
      "Epoch 295/500\n",
      "303/303 [==============================] - 0s 39us/step - loss: 14.2751 - mae: 2.6164 - acc: 0.0198 - val_loss: 13.7632 - val_mae: 2.7566 - val_acc: 0.0099\n",
      "Epoch 296/500\n",
      "303/303 [==============================] - 0s 34us/step - loss: 14.2474 - mae: 2.6148 - acc: 0.0231 - val_loss: 13.7521 - val_mae: 2.7550 - val_acc: 0.0099\n",
      "Epoch 297/500\n",
      "303/303 [==============================] - 0s 37us/step - loss: 14.2281 - mae: 2.6148 - acc: 0.0231 - val_loss: 13.7682 - val_mae: 2.7558 - val_acc: 0.0099\n",
      "Epoch 298/500\n",
      "303/303 [==============================] - 0s 35us/step - loss: 14.1958 - mae: 2.6121 - acc: 0.0231 - val_loss: 13.7672 - val_mae: 2.7553 - val_acc: 0.0099\n",
      "Epoch 299/500\n",
      "303/303 [==============================] - 0s 34us/step - loss: 14.1826 - mae: 2.6112 - acc: 0.0231 - val_loss: 13.7680 - val_mae: 2.7548 - val_acc: 0.0099\n",
      "Epoch 300/500\n",
      "303/303 [==============================] - 0s 39us/step - loss: 14.1659 - mae: 2.6081 - acc: 0.0198 - val_loss: 13.7501 - val_mae: 2.7532 - val_acc: 0.0099\n",
      "Epoch 301/500\n",
      "303/303 [==============================] - 0s 35us/step - loss: 14.1339 - mae: 2.6050 - acc: 0.0198 - val_loss: 13.7189 - val_mae: 2.7489 - val_acc: 0.0099\n",
      "Epoch 302/500\n",
      "303/303 [==============================] - 0s 39us/step - loss: 14.1055 - mae: 2.6018 - acc: 0.0198 - val_loss: 13.7085 - val_mae: 2.7469 - val_acc: 0.0099\n",
      "Epoch 303/500\n",
      "303/303 [==============================] - 0s 37us/step - loss: 14.0794 - mae: 2.5990 - acc: 0.0198 - val_loss: 13.7063 - val_mae: 2.7462 - val_acc: 0.0099\n",
      "Epoch 304/500\n",
      "303/303 [==============================] - 0s 40us/step - loss: 14.0610 - mae: 2.5969 - acc: 0.0198 - val_loss: 13.7083 - val_mae: 2.7459 - val_acc: 0.0099\n",
      "Epoch 305/500\n",
      "303/303 [==============================] - 0s 37us/step - loss: 14.0459 - mae: 2.5958 - acc: 0.0198 - val_loss: 13.7136 - val_mae: 2.7471 - val_acc: 0.0099\n",
      "Epoch 306/500\n",
      "303/303 [==============================] - 0s 37us/step - loss: 14.0096 - mae: 2.5932 - acc: 0.0198 - val_loss: 13.7169 - val_mae: 2.7463 - val_acc: 0.0099\n",
      "Epoch 307/500\n",
      "303/303 [==============================] - 0s 37us/step - loss: 14.0003 - mae: 2.5952 - acc: 0.0198 - val_loss: 13.6982 - val_mae: 2.7426 - val_acc: 0.0099\n",
      "Epoch 308/500\n",
      "303/303 [==============================] - 0s 37us/step - loss: 13.9688 - mae: 2.5943 - acc: 0.0198 - val_loss: 13.7022 - val_mae: 2.7426 - val_acc: 0.0099\n",
      "Epoch 309/500\n",
      "303/303 [==============================] - 0s 47us/step - loss: 13.9416 - mae: 2.5917 - acc: 0.0198 - val_loss: 13.6962 - val_mae: 2.7415 - val_acc: 0.0099\n",
      "Epoch 310/500\n",
      "303/303 [==============================] - 0s 45us/step - loss: 13.9114 - mae: 2.5889 - acc: 0.0198 - val_loss: 13.7283 - val_mae: 2.7441 - val_acc: 0.0099\n",
      "Epoch 311/500\n",
      "303/303 [==============================] - 0s 44us/step - loss: 13.8933 - mae: 2.5871 - acc: 0.0198 - val_loss: 13.7396 - val_mae: 2.7458 - val_acc: 0.0099\n",
      "Epoch 312/500\n",
      "303/303 [==============================] - 0s 42us/step - loss: 13.8563 - mae: 2.5831 - acc: 0.0198 - val_loss: 13.7303 - val_mae: 2.7437 - val_acc: 0.0099\n",
      "Epoch 313/500\n",
      "303/303 [==============================] - 0s 34us/step - loss: 13.8548 - mae: 2.5816 - acc: 0.0198 - val_loss: 13.6981 - val_mae: 2.7384 - val_acc: 0.0099\n",
      "Epoch 314/500\n",
      "303/303 [==============================] - 0s 45us/step - loss: 13.8149 - mae: 2.5787 - acc: 0.0198 - val_loss: 13.6954 - val_mae: 2.7372 - val_acc: 0.0099\n",
      "Epoch 315/500\n",
      "303/303 [==============================] - 0s 37us/step - loss: 13.7787 - mae: 2.5762 - acc: 0.0198 - val_loss: 13.6964 - val_mae: 2.7369 - val_acc: 0.0099\n",
      "Epoch 316/500\n",
      "303/303 [==============================] - 0s 35us/step - loss: 13.7473 - mae: 2.5721 - acc: 0.0198 - val_loss: 13.6870 - val_mae: 2.7349 - val_acc: 0.0099\n",
      "Epoch 317/500\n",
      "303/303 [==============================] - 0s 39us/step - loss: 13.7357 - mae: 2.5701 - acc: 0.0198 - val_loss: 13.6901 - val_mae: 2.7351 - val_acc: 0.0099\n",
      "Epoch 318/500\n",
      "303/303 [==============================] - 0s 34us/step - loss: 13.6999 - mae: 2.5670 - acc: 0.0198 - val_loss: 13.6785 - val_mae: 2.7331 - val_acc: 0.0099\n",
      "Epoch 319/500\n",
      "303/303 [==============================] - 0s 34us/step - loss: 13.6812 - mae: 2.5649 - acc: 0.0198 - val_loss: 13.6764 - val_mae: 2.7320 - val_acc: 0.0099\n",
      "Epoch 320/500\n",
      "303/303 [==============================] - 0s 44us/step - loss: 13.6490 - mae: 2.5607 - acc: 0.0198 - val_loss: 13.6522 - val_mae: 2.7281 - val_acc: 0.0099\n",
      "Epoch 321/500\n",
      "303/303 [==============================] - 0s 40us/step - loss: 13.6365 - mae: 2.5582 - acc: 0.0198 - val_loss: 13.6401 - val_mae: 2.7268 - val_acc: 0.0099\n",
      "Epoch 322/500\n",
      "303/303 [==============================] - 0s 52us/step - loss: 13.6265 - mae: 2.5580 - acc: 0.0198 - val_loss: 13.6621 - val_mae: 2.7272 - val_acc: 0.0099\n",
      "Epoch 323/500\n",
      "303/303 [==============================] - 0s 39us/step - loss: 13.5725 - mae: 2.5554 - acc: 0.0198 - val_loss: 13.6594 - val_mae: 2.7256 - val_acc: 0.0099\n",
      "Epoch 324/500\n",
      "303/303 [==============================] - 0s 40us/step - loss: 13.5487 - mae: 2.5536 - acc: 0.0198 - val_loss: 13.6547 - val_mae: 2.7243 - val_acc: 0.0099\n",
      "Epoch 325/500\n",
      "303/303 [==============================] - 0s 47us/step - loss: 13.5275 - mae: 2.5522 - acc: 0.0198 - val_loss: 13.6528 - val_mae: 2.7228 - val_acc: 0.0099\n",
      "Epoch 326/500\n",
      "303/303 [==============================] - 0s 42us/step - loss: 13.5069 - mae: 2.5489 - acc: 0.0198 - val_loss: 13.6099 - val_mae: 2.7171 - val_acc: 0.0099\n",
      "Epoch 327/500\n",
      "303/303 [==============================] - 0s 39us/step - loss: 13.4795 - mae: 2.5455 - acc: 0.0198 - val_loss: 13.6239 - val_mae: 2.7178 - val_acc: 0.0099\n",
      "Epoch 328/500\n",
      "303/303 [==============================] - 0s 45us/step - loss: 13.4708 - mae: 2.5451 - acc: 0.0198 - val_loss: 13.6188 - val_mae: 2.7171 - val_acc: 0.0099\n",
      "Epoch 329/500\n",
      "303/303 [==============================] - 0s 42us/step - loss: 13.4173 - mae: 2.5389 - acc: 0.0198 - val_loss: 13.6031 - val_mae: 2.7138 - val_acc: 0.0099\n",
      "Epoch 330/500\n",
      "303/303 [==============================] - 0s 45us/step - loss: 13.4007 - mae: 2.5370 - acc: 0.0198 - val_loss: 13.6139 - val_mae: 2.7135 - val_acc: 0.0099\n",
      "Epoch 331/500\n",
      "303/303 [==============================] - 0s 42us/step - loss: 13.3803 - mae: 2.5372 - acc: 0.0198 - val_loss: 13.6064 - val_mae: 2.7115 - val_acc: 0.0099\n",
      "Epoch 332/500\n",
      "303/303 [==============================] - 0s 39us/step - loss: 13.3379 - mae: 2.5333 - acc: 0.0198 - val_loss: 13.6186 - val_mae: 2.7131 - val_acc: 0.0099\n",
      "Epoch 333/500\n",
      "303/303 [==============================] - 0s 44us/step - loss: 13.3089 - mae: 2.5305 - acc: 0.0198 - val_loss: 13.6111 - val_mae: 2.7119 - val_acc: 0.0099\n",
      "Epoch 334/500\n",
      "303/303 [==============================] - 0s 39us/step - loss: 13.2885 - mae: 2.5285 - acc: 0.0198 - val_loss: 13.6104 - val_mae: 2.7107 - val_acc: 0.0099\n",
      "Epoch 335/500\n",
      "303/303 [==============================] - 0s 42us/step - loss: 13.2680 - mae: 2.5274 - acc: 0.0198 - val_loss: 13.6338 - val_mae: 2.7127 - val_acc: 0.0099\n",
      "Epoch 336/500\n",
      "303/303 [==============================] - 0s 42us/step - loss: 13.2405 - mae: 2.5254 - acc: 0.0198 - val_loss: 13.6218 - val_mae: 2.7107 - val_acc: 0.0099\n",
      "Epoch 337/500\n",
      "303/303 [==============================] - 0s 38us/step - loss: 13.2133 - mae: 2.5224 - acc: 0.0198 - val_loss: 13.6250 - val_mae: 2.7104 - val_acc: 0.0099\n",
      "Epoch 338/500\n",
      "303/303 [==============================] - 0s 40us/step - loss: 13.2044 - mae: 2.5203 - acc: 0.0198 - val_loss: 13.5924 - val_mae: 2.7059 - val_acc: 0.0099\n",
      "Epoch 339/500\n",
      "303/303 [==============================] - 0s 37us/step - loss: 13.1754 - mae: 2.5154 - acc: 0.0165 - val_loss: 13.5712 - val_mae: 2.7030 - val_acc: 0.0099\n",
      "Epoch 340/500\n",
      "303/303 [==============================] - 0s 40us/step - loss: 13.1445 - mae: 2.5128 - acc: 0.0165 - val_loss: 13.5859 - val_mae: 2.7022 - val_acc: 0.0099\n",
      "Epoch 341/500\n",
      "303/303 [==============================] - 0s 45us/step - loss: 13.1153 - mae: 2.5107 - acc: 0.0165 - val_loss: 13.5781 - val_mae: 2.7002 - val_acc: 0.0099\n",
      "Epoch 342/500\n",
      "303/303 [==============================] - 0s 45us/step - loss: 13.0764 - mae: 2.5082 - acc: 0.0165 - val_loss: 13.5716 - val_mae: 2.6978 - val_acc: 0.0099\n",
      "Epoch 343/500\n",
      "303/303 [==============================] - 0s 42us/step - loss: 13.0596 - mae: 2.5070 - acc: 0.0165 - val_loss: 13.5770 - val_mae: 2.6973 - val_acc: 0.0099\n",
      "Epoch 344/500\n",
      "303/303 [==============================] - 0s 42us/step - loss: 13.0348 - mae: 2.5064 - acc: 0.0165 - val_loss: 13.6084 - val_mae: 2.7001 - val_acc: 0.0099\n",
      "Epoch 345/500\n",
      "303/303 [==============================] - 0s 40us/step - loss: 13.0145 - mae: 2.5060 - acc: 0.0165 - val_loss: 13.6273 - val_mae: 2.7015 - val_acc: 0.0099\n",
      "Epoch 346/500\n",
      "303/303 [==============================] - 0s 44us/step - loss: 12.9798 - mae: 2.5023 - acc: 0.0165 - val_loss: 13.6120 - val_mae: 2.6986 - val_acc: 0.0099\n",
      "Epoch 347/500\n",
      "303/303 [==============================] - 0s 37us/step - loss: 12.9618 - mae: 2.4991 - acc: 0.0165 - val_loss: 13.6061 - val_mae: 2.6960 - val_acc: 0.0099\n",
      "Epoch 348/500\n",
      "303/303 [==============================] - 0s 44us/step - loss: 12.9310 - mae: 2.4955 - acc: 0.0165 - val_loss: 13.5653 - val_mae: 2.6904 - val_acc: 0.0099\n",
      "Epoch 349/500\n",
      "303/303 [==============================] - 0s 50us/step - loss: 12.9130 - mae: 2.4924 - acc: 0.0165 - val_loss: 13.5566 - val_mae: 2.6893 - val_acc: 0.0099\n",
      "Epoch 350/500\n",
      "303/303 [==============================] - 0s 44us/step - loss: 12.8884 - mae: 2.4891 - acc: 0.0165 - val_loss: 13.5703 - val_mae: 2.6907 - val_acc: 0.0099\n",
      "Epoch 351/500\n",
      "303/303 [==============================] - 0s 40us/step - loss: 12.8679 - mae: 2.4874 - acc: 0.0165 - val_loss: 13.5895 - val_mae: 2.6919 - val_acc: 0.0099\n",
      "Epoch 352/500\n",
      "303/303 [==============================] - 0s 37us/step - loss: 12.8699 - mae: 2.4856 - acc: 0.0165 - val_loss: 13.5841 - val_mae: 2.6911 - val_acc: 0.0099\n",
      "Epoch 353/500\n",
      "303/303 [==============================] - 0s 40us/step - loss: 12.8079 - mae: 2.4812 - acc: 0.0165 - val_loss: 13.5567 - val_mae: 2.6871 - val_acc: 0.0099\n",
      "Epoch 354/500\n",
      "303/303 [==============================] - 0s 39us/step - loss: 12.7936 - mae: 2.4783 - acc: 0.0198 - val_loss: 13.5476 - val_mae: 2.6855 - val_acc: 0.0099\n",
      "Epoch 355/500\n",
      "303/303 [==============================] - 0s 47us/step - loss: 12.7450 - mae: 2.4752 - acc: 0.0165 - val_loss: 13.5374 - val_mae: 2.6825 - val_acc: 0.0099\n",
      "Epoch 356/500\n",
      "303/303 [==============================] - 0s 44us/step - loss: 12.7237 - mae: 2.4753 - acc: 0.0165 - val_loss: 13.5168 - val_mae: 2.6787 - val_acc: 0.0099\n",
      "Epoch 357/500\n",
      "303/303 [==============================] - 0s 44us/step - loss: 12.7115 - mae: 2.4733 - acc: 0.0165 - val_loss: 13.5315 - val_mae: 2.6803 - val_acc: 0.0099\n",
      "Epoch 358/500\n",
      "303/303 [==============================] - 0s 50us/step - loss: 12.6704 - mae: 2.4720 - acc: 0.0165 - val_loss: 13.5317 - val_mae: 2.6780 - val_acc: 0.0099\n",
      "Epoch 359/500\n",
      "303/303 [==============================] - 0s 39us/step - loss: 12.6453 - mae: 2.4671 - acc: 0.0165 - val_loss: 13.5237 - val_mae: 2.6756 - val_acc: 0.0099\n",
      "Epoch 360/500\n",
      "303/303 [==============================] - 0s 55us/step - loss: 12.6146 - mae: 2.4641 - acc: 0.0165 - val_loss: 13.5424 - val_mae: 2.6768 - val_acc: 0.0099\n",
      "Epoch 361/500\n",
      "303/303 [==============================] - 0s 45us/step - loss: 12.5839 - mae: 2.4608 - acc: 0.0165 - val_loss: 13.5010 - val_mae: 2.6701 - val_acc: 0.0099\n",
      "Epoch 362/500\n",
      "303/303 [==============================] - 0s 49us/step - loss: 12.5529 - mae: 2.4570 - acc: 0.0165 - val_loss: 13.5253 - val_mae: 2.6715 - val_acc: 0.0099\n",
      "Epoch 363/500\n",
      "303/303 [==============================] - 0s 44us/step - loss: 12.5389 - mae: 2.4577 - acc: 0.0165 - val_loss: 13.5353 - val_mae: 2.6731 - val_acc: 0.0099\n",
      "Epoch 364/500\n",
      "303/303 [==============================] - 0s 44us/step - loss: 12.5276 - mae: 2.4551 - acc: 0.0165 - val_loss: 13.5236 - val_mae: 2.6706 - val_acc: 0.0099\n",
      "Epoch 365/500\n",
      "303/303 [==============================] - 0s 45us/step - loss: 12.4691 - mae: 2.4483 - acc: 0.0198 - val_loss: 13.4941 - val_mae: 2.6659 - val_acc: 0.0099\n",
      "Epoch 366/500\n",
      "303/303 [==============================] - 0s 44us/step - loss: 12.4537 - mae: 2.4460 - acc: 0.0198 - val_loss: 13.4714 - val_mae: 2.6615 - val_acc: 0.0099\n",
      "Epoch 367/500\n",
      "303/303 [==============================] - 0s 44us/step - loss: 12.4234 - mae: 2.4425 - acc: 0.0198 - val_loss: 13.4824 - val_mae: 2.6629 - val_acc: 0.0099\n",
      "Epoch 368/500\n",
      "303/303 [==============================] - 0s 39us/step - loss: 12.3877 - mae: 2.4394 - acc: 0.0198 - val_loss: 13.4550 - val_mae: 2.6576 - val_acc: 0.0099\n",
      "Epoch 369/500\n",
      "303/303 [==============================] - 0s 40us/step - loss: 12.3617 - mae: 2.4381 - acc: 0.0198 - val_loss: 13.4640 - val_mae: 2.6577 - val_acc: 0.0099\n",
      "Epoch 370/500\n",
      "303/303 [==============================] - 0s 54us/step - loss: 12.3336 - mae: 2.4349 - acc: 0.0165 - val_loss: 13.4395 - val_mae: 2.6541 - val_acc: 0.0099\n",
      "Epoch 371/500\n",
      "303/303 [==============================] - 0s 35us/step - loss: 12.3088 - mae: 2.4308 - acc: 0.0165 - val_loss: 13.4268 - val_mae: 2.6508 - val_acc: 0.0099\n",
      "Epoch 372/500\n",
      "303/303 [==============================] - 0s 45us/step - loss: 12.2832 - mae: 2.4286 - acc: 0.0165 - val_loss: 13.4062 - val_mae: 2.6480 - val_acc: 0.0099\n",
      "Epoch 373/500\n",
      "303/303 [==============================] - 0s 40us/step - loss: 12.2676 - mae: 2.4274 - acc: 0.0165 - val_loss: 13.4371 - val_mae: 2.6515 - val_acc: 0.0099\n",
      "Epoch 374/500\n",
      "303/303 [==============================] - 0s 35us/step - loss: 12.2247 - mae: 2.4232 - acc: 0.0165 - val_loss: 13.4597 - val_mae: 2.6518 - val_acc: 0.0099\n",
      "Epoch 375/500\n",
      "303/303 [==============================] - 0s 34us/step - loss: 12.1929 - mae: 2.4194 - acc: 0.0165 - val_loss: 13.4527 - val_mae: 2.6486 - val_acc: 0.0099\n",
      "Epoch 376/500\n",
      "303/303 [==============================] - 0s 42us/step - loss: 12.1802 - mae: 2.4153 - acc: 0.0198 - val_loss: 13.4171 - val_mae: 2.6429 - val_acc: 0.0099\n",
      "Epoch 377/500\n",
      "303/303 [==============================] - 0s 42us/step - loss: 12.1638 - mae: 2.4114 - acc: 0.0198 - val_loss: 13.3817 - val_mae: 2.6390 - val_acc: 0.0099\n",
      "Epoch 378/500\n",
      "303/303 [==============================] - 0s 45us/step - loss: 12.1363 - mae: 2.4066 - acc: 0.0198 - val_loss: 13.3502 - val_mae: 2.6353 - val_acc: 0.0099\n",
      "Epoch 379/500\n",
      "303/303 [==============================] - 0s 42us/step - loss: 12.1095 - mae: 2.4042 - acc: 0.0198 - val_loss: 13.3435 - val_mae: 2.6313 - val_acc: 0.0099\n",
      "Epoch 380/500\n",
      "303/303 [==============================] - 0s 47us/step - loss: 12.0684 - mae: 2.4028 - acc: 0.0165 - val_loss: 13.3403 - val_mae: 2.6309 - val_acc: 0.0099\n",
      "Epoch 381/500\n",
      "303/303 [==============================] - 0s 42us/step - loss: 12.0511 - mae: 2.4026 - acc: 0.0165 - val_loss: 13.3595 - val_mae: 2.6339 - val_acc: 0.0099\n",
      "Epoch 382/500\n",
      "303/303 [==============================] - 0s 44us/step - loss: 12.0598 - mae: 2.4036 - acc: 0.0198 - val_loss: 13.3573 - val_mae: 2.6323 - val_acc: 0.0099\n",
      "Epoch 383/500\n",
      "303/303 [==============================] - 0s 47us/step - loss: 11.9934 - mae: 2.3963 - acc: 0.0198 - val_loss: 13.3448 - val_mae: 2.6287 - val_acc: 0.0099\n",
      "Epoch 384/500\n",
      "303/303 [==============================] - 0s 45us/step - loss: 11.9644 - mae: 2.3920 - acc: 0.0198 - val_loss: 13.3368 - val_mae: 2.6273 - val_acc: 0.0099\n",
      "Epoch 385/500\n",
      "303/303 [==============================] - 0s 50us/step - loss: 11.9358 - mae: 2.3898 - acc: 0.0165 - val_loss: 13.3519 - val_mae: 2.6278 - val_acc: 0.0099\n",
      "Epoch 386/500\n",
      "303/303 [==============================] - 0s 49us/step - loss: 11.9053 - mae: 2.3845 - acc: 0.0198 - val_loss: 13.3599 - val_mae: 2.6283 - val_acc: 0.0099\n",
      "Epoch 387/500\n",
      "303/303 [==============================] - 0s 45us/step - loss: 11.8795 - mae: 2.3820 - acc: 0.0198 - val_loss: 13.3338 - val_mae: 2.6255 - val_acc: 0.0099\n",
      "Epoch 388/500\n",
      "303/303 [==============================] - 0s 45us/step - loss: 11.8546 - mae: 2.3779 - acc: 0.0198 - val_loss: 13.3164 - val_mae: 2.6232 - val_acc: 0.0099\n",
      "Epoch 389/500\n",
      "303/303 [==============================] - 0s 42us/step - loss: 11.8316 - mae: 2.3757 - acc: 0.0198 - val_loss: 13.2912 - val_mae: 2.6196 - val_acc: 0.0099\n",
      "Epoch 390/500\n",
      "303/303 [==============================] - 0s 40us/step - loss: 11.8104 - mae: 2.3727 - acc: 0.0198 - val_loss: 13.2538 - val_mae: 2.6147 - val_acc: 0.0099\n",
      "Epoch 391/500\n",
      "303/303 [==============================] - 0s 37us/step - loss: 11.7847 - mae: 2.3689 - acc: 0.0198 - val_loss: 13.2596 - val_mae: 2.6151 - val_acc: 0.0099\n",
      "Epoch 392/500\n",
      "303/303 [==============================] - 0s 40us/step - loss: 11.7939 - mae: 2.3680 - acc: 0.0198 - val_loss: 13.2802 - val_mae: 2.6192 - val_acc: 0.0099\n",
      "Epoch 393/500\n",
      "303/303 [==============================] - 0s 37us/step - loss: 11.7402 - mae: 2.3638 - acc: 0.0198 - val_loss: 13.3015 - val_mae: 2.6185 - val_acc: 0.0099\n",
      "Epoch 394/500\n",
      "303/303 [==============================] - 0s 39us/step - loss: 11.7166 - mae: 2.3627 - acc: 0.0198 - val_loss: 13.2936 - val_mae: 2.6163 - val_acc: 0.0099\n",
      "Epoch 395/500\n",
      "303/303 [==============================] - 0s 32us/step - loss: 11.6963 - mae: 2.3626 - acc: 0.0165 - val_loss: 13.3059 - val_mae: 2.6169 - val_acc: 0.0099\n",
      "Epoch 396/500\n",
      "303/303 [==============================] - 0s 34us/step - loss: 11.7002 - mae: 2.3627 - acc: 0.0165 - val_loss: 13.2901 - val_mae: 2.6140 - val_acc: 0.0099\n",
      "Epoch 397/500\n",
      "303/303 [==============================] - 0s 37us/step - loss: 11.6506 - mae: 2.3572 - acc: 0.0165 - val_loss: 13.2956 - val_mae: 2.6145 - val_acc: 0.0099\n",
      "Epoch 398/500\n",
      "303/303 [==============================] - 0s 39us/step - loss: 11.6333 - mae: 2.3539 - acc: 0.0165 - val_loss: 13.3078 - val_mae: 2.6152 - val_acc: 0.0099\n",
      "Epoch 399/500\n",
      "303/303 [==============================] - 0s 32us/step - loss: 11.6150 - mae: 2.3505 - acc: 0.0165 - val_loss: 13.3013 - val_mae: 2.6175 - val_acc: 0.0099\n",
      "Epoch 400/500\n",
      "303/303 [==============================] - 0s 34us/step - loss: 11.5918 - mae: 2.3450 - acc: 0.0165 - val_loss: 13.2878 - val_mae: 2.6146 - val_acc: 0.0099\n",
      "Epoch 401/500\n",
      "303/303 [==============================] - 0s 37us/step - loss: 11.5648 - mae: 2.3417 - acc: 0.0165 - val_loss: 13.2857 - val_mae: 2.6125 - val_acc: 0.0099\n",
      "Epoch 402/500\n",
      "303/303 [==============================] - 0s 40us/step - loss: 11.5363 - mae: 2.3388 - acc: 0.0165 - val_loss: 13.2463 - val_mae: 2.6072 - val_acc: 0.0099\n",
      "Epoch 403/500\n",
      "303/303 [==============================] - 0s 35us/step - loss: 11.5341 - mae: 2.3393 - acc: 0.0198 - val_loss: 13.2099 - val_mae: 2.6002 - val_acc: 0.0099\n",
      "Epoch 404/500\n",
      "303/303 [==============================] - 0s 35us/step - loss: 11.4958 - mae: 2.3352 - acc: 0.0198 - val_loss: 13.1944 - val_mae: 2.5976 - val_acc: 0.0099\n",
      "Epoch 405/500\n",
      "303/303 [==============================] - 0s 30us/step - loss: 11.4682 - mae: 2.3303 - acc: 0.0198 - val_loss: 13.1560 - val_mae: 2.5923 - val_acc: 0.0099\n",
      "Epoch 406/500\n",
      "303/303 [==============================] - 0s 33us/step - loss: 11.4686 - mae: 2.3291 - acc: 0.0198 - val_loss: 13.1478 - val_mae: 2.5927 - val_acc: 0.0099\n",
      "Epoch 407/500\n",
      "303/303 [==============================] - 0s 40us/step - loss: 11.4264 - mae: 2.3246 - acc: 0.0165 - val_loss: 13.1849 - val_mae: 2.5954 - val_acc: 0.0099\n",
      "Epoch 408/500\n",
      "303/303 [==============================] - 0s 40us/step - loss: 11.3992 - mae: 2.3224 - acc: 0.0165 - val_loss: 13.1776 - val_mae: 2.5938 - val_acc: 0.0099\n",
      "Epoch 409/500\n",
      "303/303 [==============================] - 0s 42us/step - loss: 11.4407 - mae: 2.3271 - acc: 0.0165 - val_loss: 13.1941 - val_mae: 2.5937 - val_acc: 0.0099\n",
      "Epoch 410/500\n",
      "303/303 [==============================] - 0s 28us/step - loss: 11.3657 - mae: 2.3221 - acc: 0.0165 - val_loss: 13.2029 - val_mae: 2.5950 - val_acc: 0.0099\n",
      "Epoch 411/500\n",
      "303/303 [==============================] - 0s 39us/step - loss: 11.3505 - mae: 2.3215 - acc: 0.0165 - val_loss: 13.2056 - val_mae: 2.5955 - val_acc: 0.0099\n",
      "Epoch 412/500\n",
      "303/303 [==============================] - 0s 44us/step - loss: 11.3218 - mae: 2.3159 - acc: 0.0165 - val_loss: 13.2200 - val_mae: 2.5958 - val_acc: 0.0099\n",
      "Epoch 413/500\n",
      "303/303 [==============================] - 0s 39us/step - loss: 11.3202 - mae: 2.3131 - acc: 0.0165 - val_loss: 13.1978 - val_mae: 2.5938 - val_acc: 0.0099\n",
      "Epoch 414/500\n",
      "303/303 [==============================] - 0s 39us/step - loss: 11.3043 - mae: 2.3118 - acc: 0.0165 - val_loss: 13.1491 - val_mae: 2.5867 - val_acc: 0.0099\n",
      "Epoch 415/500\n",
      "303/303 [==============================] - 0s 37us/step - loss: 11.2601 - mae: 2.3059 - acc: 0.0165 - val_loss: 13.1204 - val_mae: 2.5806 - val_acc: 0.0099\n",
      "Epoch 416/500\n",
      "303/303 [==============================] - 0s 35us/step - loss: 11.2577 - mae: 2.3044 - acc: 0.0165 - val_loss: 13.0906 - val_mae: 2.5759 - val_acc: 0.0099\n",
      "Epoch 417/500\n",
      "303/303 [==============================] - 0s 34us/step - loss: 11.2337 - mae: 2.3055 - acc: 0.0165 - val_loss: 13.1240 - val_mae: 2.5796 - val_acc: 0.0099\n",
      "Epoch 418/500\n",
      "303/303 [==============================] - 0s 39us/step - loss: 11.2082 - mae: 2.3017 - acc: 0.0165 - val_loss: 13.1656 - val_mae: 2.5857 - val_acc: 0.0099\n",
      "Epoch 419/500\n",
      "303/303 [==============================] - 0s 37us/step - loss: 11.1811 - mae: 2.2989 - acc: 0.0165 - val_loss: 13.1677 - val_mae: 2.5853 - val_acc: 0.0099\n",
      "Epoch 420/500\n",
      "303/303 [==============================] - 0s 37us/step - loss: 11.1673 - mae: 2.2982 - acc: 0.0165 - val_loss: 13.2008 - val_mae: 2.5894 - val_acc: 0.0099\n",
      "Epoch 421/500\n",
      "303/303 [==============================] - 0s 40us/step - loss: 11.1536 - mae: 2.2979 - acc: 0.0165 - val_loss: 13.1792 - val_mae: 2.5852 - val_acc: 0.0099\n",
      "Epoch 422/500\n",
      "303/303 [==============================] - 0s 42us/step - loss: 11.1215 - mae: 2.2941 - acc: 0.0165 - val_loss: 13.1702 - val_mae: 2.5820 - val_acc: 0.0099\n",
      "Epoch 423/500\n",
      "303/303 [==============================] - 0s 39us/step - loss: 11.1098 - mae: 2.2909 - acc: 0.0165 - val_loss: 13.1015 - val_mae: 2.5712 - val_acc: 0.0099\n",
      "Epoch 424/500\n",
      "303/303 [==============================] - 0s 42us/step - loss: 11.0986 - mae: 2.2895 - acc: 0.0165 - val_loss: 13.1167 - val_mae: 2.5719 - val_acc: 0.0099\n",
      "Epoch 425/500\n",
      "303/303 [==============================] - 0s 39us/step - loss: 11.0684 - mae: 2.2879 - acc: 0.0165 - val_loss: 13.1330 - val_mae: 2.5733 - val_acc: 0.0099\n",
      "Epoch 426/500\n",
      "303/303 [==============================] - 0s 35us/step - loss: 11.0462 - mae: 2.2841 - acc: 0.0165 - val_loss: 13.1169 - val_mae: 2.5703 - val_acc: 0.0099\n",
      "Epoch 427/500\n",
      "303/303 [==============================] - 0s 42us/step - loss: 11.0333 - mae: 2.2827 - acc: 0.0165 - val_loss: 13.1566 - val_mae: 2.5741 - val_acc: 0.0099\n",
      "Epoch 428/500\n",
      "303/303 [==============================] - 0s 34us/step - loss: 11.0382 - mae: 2.2829 - acc: 0.0165 - val_loss: 13.1788 - val_mae: 2.5761 - val_acc: 0.0099\n",
      "Epoch 429/500\n",
      "303/303 [==============================] - 0s 37us/step - loss: 10.9969 - mae: 2.2805 - acc: 0.0165 - val_loss: 13.1735 - val_mae: 2.5751 - val_acc: 0.0099\n",
      "Epoch 430/500\n",
      "303/303 [==============================] - 0s 35us/step - loss: 10.9703 - mae: 2.2758 - acc: 0.0165 - val_loss: 13.1519 - val_mae: 2.5712 - val_acc: 0.0099\n",
      "Epoch 431/500\n",
      "303/303 [==============================] - 0s 32us/step - loss: 10.9681 - mae: 2.2754 - acc: 0.0165 - val_loss: 13.1204 - val_mae: 2.5657 - val_acc: 0.0099\n",
      "Epoch 432/500\n",
      "303/303 [==============================] - 0s 37us/step - loss: 10.9340 - mae: 2.2708 - acc: 0.0165 - val_loss: 13.0968 - val_mae: 2.5619 - val_acc: 0.0099\n",
      "Epoch 433/500\n",
      "303/303 [==============================] - 0s 28us/step - loss: 10.9234 - mae: 2.2701 - acc: 0.0165 - val_loss: 13.1004 - val_mae: 2.5615 - val_acc: 0.0099\n",
      "Epoch 434/500\n",
      "303/303 [==============================] - 0s 34us/step - loss: 10.9152 - mae: 2.2683 - acc: 0.0165 - val_loss: 13.0655 - val_mae: 2.5557 - val_acc: 0.0099\n",
      "Epoch 435/500\n",
      "303/303 [==============================] - 0s 32us/step - loss: 10.8821 - mae: 2.2645 - acc: 0.0165 - val_loss: 13.0583 - val_mae: 2.5534 - val_acc: 0.0099\n",
      "Epoch 436/500\n",
      "303/303 [==============================] - 0s 32us/step - loss: 10.8683 - mae: 2.2638 - acc: 0.0165 - val_loss: 13.0593 - val_mae: 2.5521 - val_acc: 0.0099\n",
      "Epoch 437/500\n",
      "303/303 [==============================] - 0s 39us/step - loss: 10.8533 - mae: 2.2617 - acc: 0.0165 - val_loss: 13.0658 - val_mae: 2.5521 - val_acc: 0.0099\n",
      "Epoch 438/500\n",
      "303/303 [==============================] - 0s 35us/step - loss: 10.8444 - mae: 2.2586 - acc: 0.0165 - val_loss: 13.0581 - val_mae: 2.5512 - val_acc: 0.0099\n",
      "Epoch 439/500\n",
      "303/303 [==============================] - 0s 32us/step - loss: 10.8173 - mae: 2.2567 - acc: 0.0165 - val_loss: 13.0534 - val_mae: 2.5495 - val_acc: 0.0099\n",
      "Epoch 440/500\n",
      "303/303 [==============================] - 0s 30us/step - loss: 10.8128 - mae: 2.2560 - acc: 0.0165 - val_loss: 13.0739 - val_mae: 2.5517 - val_acc: 0.0099\n",
      "Epoch 441/500\n",
      "303/303 [==============================] - 0s 39us/step - loss: 10.7862 - mae: 2.2533 - acc: 0.0165 - val_loss: 13.0563 - val_mae: 2.5476 - val_acc: 0.0099\n",
      "Epoch 442/500\n",
      "303/303 [==============================] - 0s 39us/step - loss: 10.7674 - mae: 2.2538 - acc: 0.0165 - val_loss: 13.0847 - val_mae: 2.5508 - val_acc: 0.0099\n",
      "Epoch 443/500\n",
      "303/303 [==============================] - 0s 35us/step - loss: 10.7527 - mae: 2.2531 - acc: 0.0165 - val_loss: 13.1244 - val_mae: 2.5546 - val_acc: 0.0099\n",
      "Epoch 444/500\n",
      "303/303 [==============================] - 0s 55us/step - loss: 10.7274 - mae: 2.2499 - acc: 0.0165 - val_loss: 13.1419 - val_mae: 2.5563 - val_acc: 0.0099\n",
      "Epoch 445/500\n",
      "303/303 [==============================] - 0s 39us/step - loss: 10.7068 - mae: 2.2474 - acc: 0.0165 - val_loss: 13.0987 - val_mae: 2.5488 - val_acc: 0.0099\n",
      "Epoch 446/500\n",
      "303/303 [==============================] - 0s 34us/step - loss: 10.6995 - mae: 2.2447 - acc: 0.0165 - val_loss: 13.0639 - val_mae: 2.5424 - val_acc: 0.0099\n",
      "Epoch 447/500\n",
      "303/303 [==============================] - 0s 40us/step - loss: 10.6748 - mae: 2.2420 - acc: 0.0165 - val_loss: 13.0596 - val_mae: 2.5414 - val_acc: 0.0099\n",
      "Epoch 448/500\n",
      "303/303 [==============================] - 0s 40us/step - loss: 10.6574 - mae: 2.2412 - acc: 0.0165 - val_loss: 13.0640 - val_mae: 2.5419 - val_acc: 0.0099\n",
      "Epoch 449/500\n",
      "303/303 [==============================] - 0s 47us/step - loss: 10.6527 - mae: 2.2414 - acc: 0.0165 - val_loss: 13.0704 - val_mae: 2.5433 - val_acc: 0.0099\n",
      "Epoch 450/500\n",
      "303/303 [==============================] - 0s 54us/step - loss: 10.6223 - mae: 2.2368 - acc: 0.0165 - val_loss: 13.0345 - val_mae: 2.5368 - val_acc: 0.0099\n",
      "Epoch 451/500\n",
      "303/303 [==============================] - 0s 50us/step - loss: 10.6456 - mae: 2.2382 - acc: 0.0165 - val_loss: 12.9948 - val_mae: 2.5284 - val_acc: 0.0099\n",
      "Epoch 452/500\n",
      "303/303 [==============================] - 0s 35us/step - loss: 10.5837 - mae: 2.2304 - acc: 0.0165 - val_loss: 13.0142 - val_mae: 2.5302 - val_acc: 0.0099\n",
      "Epoch 453/500\n",
      "303/303 [==============================] - 0s 44us/step - loss: 10.5704 - mae: 2.2289 - acc: 0.0165 - val_loss: 13.0509 - val_mae: 2.5346 - val_acc: 0.0099\n",
      "Epoch 454/500\n",
      "303/303 [==============================] - 0s 42us/step - loss: 10.5524 - mae: 2.2293 - acc: 0.0165 - val_loss: 13.0734 - val_mae: 2.5373 - val_acc: 0.0099\n",
      "Epoch 455/500\n",
      "303/303 [==============================] - 0s 44us/step - loss: 10.5351 - mae: 2.2268 - acc: 0.0165 - val_loss: 13.0240 - val_mae: 2.5306 - val_acc: 0.0099\n",
      "Epoch 456/500\n",
      "303/303 [==============================] - 0s 54us/step - loss: 10.5393 - mae: 2.2251 - acc: 0.0165 - val_loss: 13.0173 - val_mae: 2.5266 - val_acc: 0.0099\n",
      "Epoch 457/500\n",
      "303/303 [==============================] - 0s 40us/step - loss: 10.4969 - mae: 2.2224 - acc: 0.0165 - val_loss: 13.0244 - val_mae: 2.5286 - val_acc: 0.0099\n",
      "Epoch 458/500\n",
      "303/303 [==============================] - 0s 39us/step - loss: 10.4878 - mae: 2.2202 - acc: 0.0165 - val_loss: 13.0061 - val_mae: 2.5267 - val_acc: 0.0099\n",
      "Epoch 459/500\n",
      "303/303 [==============================] - 0s 39us/step - loss: 10.4661 - mae: 2.2188 - acc: 0.0165 - val_loss: 13.0099 - val_mae: 2.5271 - val_acc: 0.0099\n",
      "Epoch 460/500\n",
      "303/303 [==============================] - 0s 40us/step - loss: 10.4431 - mae: 2.2162 - acc: 0.0165 - val_loss: 12.9914 - val_mae: 2.5228 - val_acc: 0.0099\n",
      "Epoch 461/500\n",
      "303/303 [==============================] - 0s 42us/step - loss: 10.4526 - mae: 2.2158 - acc: 0.0165 - val_loss: 12.9957 - val_mae: 2.5211 - val_acc: 0.0099\n",
      "Epoch 462/500\n",
      "303/303 [==============================] - 0s 47us/step - loss: 10.4506 - mae: 2.2150 - acc: 0.0165 - val_loss: 12.9685 - val_mae: 2.5186 - val_acc: 0.0099\n",
      "Epoch 463/500\n",
      "303/303 [==============================] - 0s 35us/step - loss: 10.4057 - mae: 2.2092 - acc: 0.0165 - val_loss: 12.9610 - val_mae: 2.5161 - val_acc: 0.0099\n",
      "Epoch 464/500\n",
      "303/303 [==============================] - 0s 40us/step - loss: 10.3949 - mae: 2.2088 - acc: 0.0165 - val_loss: 13.0257 - val_mae: 2.5236 - val_acc: 0.0099\n",
      "Epoch 465/500\n",
      "303/303 [==============================] - 0s 50us/step - loss: 10.3866 - mae: 2.2100 - acc: 0.0165 - val_loss: 13.0431 - val_mae: 2.5242 - val_acc: 0.0099\n",
      "Epoch 466/500\n",
      "303/303 [==============================] - 0s 50us/step - loss: 10.3512 - mae: 2.2059 - acc: 0.0165 - val_loss: 13.0687 - val_mae: 2.5278 - val_acc: 0.0099\n",
      "Epoch 467/500\n",
      "303/303 [==============================] - 0s 39us/step - loss: 10.3365 - mae: 2.2053 - acc: 0.0165 - val_loss: 13.0598 - val_mae: 2.5261 - val_acc: 0.0099\n",
      "Epoch 468/500\n",
      "303/303 [==============================] - 0s 45us/step - loss: 10.3323 - mae: 2.2034 - acc: 0.0165 - val_loss: 13.0410 - val_mae: 2.5227 - val_acc: 0.0099\n",
      "Epoch 469/500\n",
      "303/303 [==============================] - 0s 42us/step - loss: 10.3195 - mae: 2.2015 - acc: 0.0198 - val_loss: 13.0179 - val_mae: 2.5189 - val_acc: 0.0099\n",
      "Epoch 470/500\n",
      "303/303 [==============================] - 0s 40us/step - loss: 10.3131 - mae: 2.1990 - acc: 0.0198 - val_loss: 12.9714 - val_mae: 2.5135 - val_acc: 0.0099\n",
      "Epoch 471/500\n",
      "303/303 [==============================] - 0s 39us/step - loss: 10.2893 - mae: 2.1966 - acc: 0.0198 - val_loss: 12.9569 - val_mae: 2.5085 - val_acc: 0.0099\n",
      "Epoch 472/500\n",
      "303/303 [==============================] - 0s 42us/step - loss: 10.2835 - mae: 2.1966 - acc: 0.0165 - val_loss: 12.9340 - val_mae: 2.5032 - val_acc: 0.0099\n",
      "Epoch 473/500\n",
      "303/303 [==============================] - 0s 40us/step - loss: 10.2576 - mae: 2.1920 - acc: 0.0198 - val_loss: 12.9091 - val_mae: 2.4996 - val_acc: 0.0099\n",
      "Epoch 474/500\n",
      "303/303 [==============================] - 0s 37us/step - loss: 10.2250 - mae: 2.1900 - acc: 0.0198 - val_loss: 12.9544 - val_mae: 2.5042 - val_acc: 0.0099\n",
      "Epoch 475/500\n",
      "303/303 [==============================] - 0s 37us/step - loss: 10.2167 - mae: 2.1889 - acc: 0.0198 - val_loss: 12.9775 - val_mae: 2.5086 - val_acc: 0.0099\n",
      "Epoch 476/500\n",
      "303/303 [==============================] - 0s 37us/step - loss: 10.1858 - mae: 2.1872 - acc: 0.0198 - val_loss: 13.0489 - val_mae: 2.5183 - val_acc: 0.0099\n",
      "Epoch 477/500\n",
      "303/303 [==============================] - 0s 30us/step - loss: 10.1668 - mae: 2.1883 - acc: 0.0198 - val_loss: 13.0612 - val_mae: 2.5203 - val_acc: 0.0099\n",
      "Epoch 478/500\n",
      "303/303 [==============================] - 0s 39us/step - loss: 10.1433 - mae: 2.1860 - acc: 0.0198 - val_loss: 12.9970 - val_mae: 2.5094 - val_acc: 0.0099\n",
      "Epoch 479/500\n",
      "303/303 [==============================] - 0s 32us/step - loss: 10.1167 - mae: 2.1808 - acc: 0.0198 - val_loss: 12.9552 - val_mae: 2.5016 - val_acc: 0.0099\n",
      "Epoch 480/500\n",
      "303/303 [==============================] - 0s 35us/step - loss: 10.1032 - mae: 2.1788 - acc: 0.0198 - val_loss: 12.9626 - val_mae: 2.5018 - val_acc: 0.0099\n",
      "Epoch 481/500\n",
      "303/303 [==============================] - 0s 37us/step - loss: 10.0709 - mae: 2.1760 - acc: 0.0198 - val_loss: 12.9831 - val_mae: 2.5036 - val_acc: 0.0099\n",
      "Epoch 482/500\n",
      "303/303 [==============================] - 0s 37us/step - loss: 10.0590 - mae: 2.1745 - acc: 0.0198 - val_loss: 12.9791 - val_mae: 2.5040 - val_acc: 0.0099\n",
      "Epoch 483/500\n",
      "303/303 [==============================] - 0s 42us/step - loss: 10.0263 - mae: 2.1710 - acc: 0.0198 - val_loss: 12.9996 - val_mae: 2.5066 - val_acc: 0.0099\n",
      "Epoch 484/500\n",
      "303/303 [==============================] - 0s 44us/step - loss: 10.0059 - mae: 2.1684 - acc: 0.0231 - val_loss: 12.9847 - val_mae: 2.5034 - val_acc: 0.0099\n",
      "Epoch 485/500\n",
      "303/303 [==============================] - 0s 42us/step - loss: 9.9950 - mae: 2.1674 - acc: 0.0231 - val_loss: 12.9958 - val_mae: 2.5036 - val_acc: 0.0099\n",
      "Epoch 486/500\n",
      "303/303 [==============================] - 0s 49us/step - loss: 9.9858 - mae: 2.1673 - acc: 0.0231 - val_loss: 13.0539 - val_mae: 2.5099 - val_acc: 0.0099\n",
      "Epoch 487/500\n",
      "303/303 [==============================] - 0s 39us/step - loss: 9.9736 - mae: 2.1676 - acc: 0.0198 - val_loss: 13.0908 - val_mae: 2.5123 - val_acc: 0.0099\n",
      "Epoch 488/500\n",
      "303/303 [==============================] - 0s 40us/step - loss: 9.9656 - mae: 2.1684 - acc: 0.0198 - val_loss: 13.1428 - val_mae: 2.5193 - val_acc: 0.0099\n",
      "Epoch 489/500\n",
      "303/303 [==============================] - 0s 47us/step - loss: 9.9380 - mae: 2.1650 - acc: 0.0198 - val_loss: 13.1325 - val_mae: 2.5168 - val_acc: 0.0099\n",
      "Epoch 490/500\n",
      "303/303 [==============================] - 0s 37us/step - loss: 9.9191 - mae: 2.1632 - acc: 0.0198 - val_loss: 13.1059 - val_mae: 2.5130 - val_acc: 0.0099\n",
      "Epoch 491/500\n",
      "303/303 [==============================] - 0s 39us/step - loss: 9.9151 - mae: 2.1639 - acc: 0.0198 - val_loss: 13.0679 - val_mae: 2.5071 - val_acc: 0.0099\n",
      "Epoch 492/500\n",
      "303/303 [==============================] - 0s 34us/step - loss: 9.8967 - mae: 2.1625 - acc: 0.0198 - val_loss: 13.0748 - val_mae: 2.5073 - val_acc: 0.0099\n",
      "Epoch 493/500\n",
      "303/303 [==============================] - 0s 35us/step - loss: 9.8832 - mae: 2.1601 - acc: 0.0198 - val_loss: 13.0645 - val_mae: 2.5052 - val_acc: 0.0099\n",
      "Restoring model weights from the end of the best epoch\n",
      "Epoch 00493: early stopping\n"
     ]
    }
   ],
   "source": [
    "history1 = model1.fit(inputs_train_scaled, outputs_train, epochs=500, batch_size=101, validation_split=0.25, callbacks=[earlystop])"
   ]
  },
  {
   "cell_type": "code",
   "execution_count": 50,
   "metadata": {},
   "outputs": [
    {
     "name": "stdout",
     "output_type": "stream",
     "text": [
      "This model evaluates as:\n",
      "* Loss: 15.324186175477271\n",
      "* MAE: 2.899630069732666\n",
      "* Accuracy: 0.009803921915590763\n"
     ]
    }
   ],
   "source": [
    "evaluate1 = []\n",
    "evaluator(evaluate1, model1)"
   ]
  },
  {
   "cell_type": "code",
   "execution_count": 51,
   "metadata": {},
   "outputs": [
    {
     "name": "stdout",
     "output_type": "stream",
     "text": [
      "This model predicts as:\n",
      "* Predicted Value: 18.097046\n",
      "* Actual value: 17.4\n"
     ]
    },
    {
     "name": "stderr",
     "output_type": "stream",
     "text": [
      "C:\\Users\\Peter\\AppData\\Local\\Continuum\\anaconda3\\lib\\site-packages\\ipykernel_launcher.py:3: FutureWarning: Method .as_matrix will be removed in a future version. Use .values instead.\n",
      "  This is separate from the ipykernel package so we can avoid doing imports until\n"
     ]
    }
   ],
   "source": [
    "predict1 = []\n",
    "predictor(predict1, model1)"
   ]
  },
  {
   "cell_type": "markdown",
   "metadata": {},
   "source": [
    "##### Results"
   ]
  },
  {
   "cell_type": "markdown",
   "metadata": {},
   "source": [
    "Our basic, three layer model run with the data as-is didn't perform particularly well, although it was converging towards a solution. Normalising the data definitely made a significant improvement. We can now move on to developing the structure of the model itself to improve the accuracy."
   ]
  },
  {
   "cell_type": "markdown",
   "metadata": {},
   "source": [
    "#### Seecond Attempt - Widen"
   ]
  },
  {
   "cell_type": "markdown",
   "metadata": {},
   "source": [
    "We will develop the model more and widen it now by doubling the number of units in each hidden layer."
   ]
  },
  {
   "cell_type": "markdown",
   "metadata": {},
   "source": [
    "##### Construct Model"
   ]
  },
  {
   "cell_type": "code",
   "execution_count": 52,
   "metadata": {
    "scrolled": true
   },
   "outputs": [
    {
     "name": "stdout",
     "output_type": "stream",
     "text": [
      "Model: \"sequential_2\"\n",
      "_________________________________________________________________\n",
      "Layer (type)                 Output Shape              Param #   \n",
      "=================================================================\n",
      "dense_4 (Dense)              (None, 128)               896       \n",
      "_________________________________________________________________\n",
      "dense_5 (Dense)              (None, 64)                8256      \n",
      "_________________________________________________________________\n",
      "dense_6 (Dense)              (None, 1)                 65        \n",
      "=================================================================\n",
      "Total params: 9,217\n",
      "Trainable params: 9,217\n",
      "Non-trainable params: 0\n",
      "_________________________________________________________________\n"
     ]
    }
   ],
   "source": [
    "model2 = Sequential() \n",
    "\n",
    "model2.add(Dense(units=128, activation='relu', input_dim=6))\n",
    "model2.add(Dense(units=64, activation='relu'))\n",
    "model2.add(Dense(units=1))\n",
    "\n",
    "model2.compile(loss='mse', optimizer='adam', metrics=['mae', 'acc'])\n",
    "\n",
    "model2.summary()"
   ]
  },
  {
   "cell_type": "markdown",
   "metadata": {},
   "source": [
    "##### Training"
   ]
  },
  {
   "cell_type": "markdown",
   "metadata": {},
   "source": []
  },
  {
   "cell_type": "code",
   "execution_count": 53,
   "metadata": {
    "scrolled": true
   },
   "outputs": [
    {
     "name": "stdout",
     "output_type": "stream",
     "text": [
      "Train on 303 samples, validate on 101 samples\n",
      "Epoch 1/500\n",
      "303/303 [==============================] - 0s 1ms/step - loss: 581.0019 - mae: 22.1597 - acc: 0.0000e+00 - val_loss: 513.4531 - val_mae: 21.3467 - val_acc: 0.0000e+00\n",
      "Epoch 2/500\n",
      "303/303 [==============================] - 0s 49us/step - loss: 569.6867 - mae: 21.9182 - acc: 0.0000e+00 - val_loss: 502.9894 - val_mae: 21.1099 - val_acc: 0.0000e+00\n",
      "Epoch 3/500\n",
      "303/303 [==============================] - 0s 49us/step - loss: 557.9822 - mae: 21.6645 - acc: 0.0000e+00 - val_loss: 491.9292 - val_mae: 20.8565 - val_acc: 0.0000e+00\n",
      "Epoch 4/500\n",
      "303/303 [==============================] - 0s 47us/step - loss: 545.9353 - mae: 21.3921 - acc: 0.0000e+00 - val_loss: 480.2393 - val_mae: 20.5842 - val_acc: 0.0000e+00\n",
      "Epoch 5/500\n",
      "303/303 [==============================] - 0s 50us/step - loss: 532.2869 - mae: 21.0892 - acc: 0.0000e+00 - val_loss: 467.6642 - val_mae: 20.2866 - val_acc: 0.0000e+00\n",
      "Epoch 6/500\n",
      "303/303 [==============================] - 0s 52us/step - loss: 518.2660 - mae: 20.7667 - acc: 0.0000e+00 - val_loss: 453.9233 - val_mae: 19.9570 - val_acc: 0.0000e+00\n",
      "Epoch 7/500\n",
      "303/303 [==============================] - 0s 45us/step - loss: 502.6230 - mae: 20.4052 - acc: 0.0000e+00 - val_loss: 439.0166 - val_mae: 19.5936 - val_acc: 0.0000e+00\n",
      "Epoch 8/500\n",
      "303/303 [==============================] - 0s 52us/step - loss: 486.1331 - mae: 20.0115 - acc: 0.0000e+00 - val_loss: 422.8246 - val_mae: 19.1930 - val_acc: 0.0000e+00\n",
      "Epoch 9/500\n",
      "303/303 [==============================] - 0s 49us/step - loss: 467.7738 - mae: 19.5691 - acc: 0.0000e+00 - val_loss: 405.3709 - val_mae: 18.7516 - val_acc: 0.0000e+00\n",
      "Epoch 10/500\n",
      "303/303 [==============================] - 0s 45us/step - loss: 448.1088 - mae: 19.0869 - acc: 0.0066 - val_loss: 386.5364 - val_mae: 18.2645 - val_acc: 0.0000e+00\n",
      "Epoch 11/500\n",
      "303/303 [==============================] - 0s 40us/step - loss: 426.3887 - mae: 18.5571 - acc: 0.0033 - val_loss: 366.3104 - val_mae: 17.7283 - val_acc: 0.0000e+00\n",
      "Epoch 12/500\n",
      "303/303 [==============================] - 0s 39us/step - loss: 404.6018 - mae: 17.9882 - acc: 0.0033 - val_loss: 344.4979 - val_mae: 17.1342 - val_acc: 0.0000e+00\n",
      "Epoch 13/500\n",
      "303/303 [==============================] - 0s 42us/step - loss: 379.4649 - mae: 17.3621 - acc: 0.0033 - val_loss: 321.5057 - val_mae: 16.4846 - val_acc: 0.0000e+00\n",
      "Epoch 14/500\n",
      "303/303 [==============================] - 0s 37us/step - loss: 354.1780 - mae: 16.7015 - acc: 0.0033 - val_loss: 297.3006 - val_mae: 15.7761 - val_acc: 0.0000e+00\n",
      "Epoch 15/500\n",
      "303/303 [==============================] - 0s 35us/step - loss: 327.8523 - mae: 16.0100 - acc: 0.0000e+00 - val_loss: 272.0344 - val_mae: 15.0139 - val_acc: 0.0000e+00\n",
      "Epoch 16/500\n",
      "303/303 [==============================] - 0s 39us/step - loss: 299.1404 - mae: 15.2353 - acc: 0.0000e+00 - val_loss: 246.2962 - val_mae: 14.2286 - val_acc: 0.0000e+00\n",
      "Epoch 17/500\n",
      "303/303 [==============================] - 0s 42us/step - loss: 271.4363 - mae: 14.4666 - acc: 0.0000e+00 - val_loss: 220.1448 - val_mae: 13.3991 - val_acc: 0.0000e+00\n",
      "Epoch 18/500\n",
      "303/303 [==============================] - 0s 45us/step - loss: 242.0661 - mae: 13.6071 - acc: 0.0000e+00 - val_loss: 194.3391 - val_mae: 12.5476 - val_acc: 0.0000e+00\n",
      "Epoch 19/500\n",
      "303/303 [==============================] - 0s 35us/step - loss: 214.0713 - mae: 12.7676 - acc: 0.0000e+00 - val_loss: 169.1628 - val_mae: 11.6695 - val_acc: 0.0000e+00\n",
      "Epoch 20/500\n",
      "303/303 [==============================] - 0s 40us/step - loss: 187.0101 - mae: 11.8675 - acc: 0.0033 - val_loss: 145.2207 - val_mae: 10.7850 - val_acc: 0.0000e+00\n",
      "Epoch 21/500\n",
      "303/303 [==============================] - 0s 44us/step - loss: 160.5933 - mae: 10.9503 - acc: 0.0000e+00 - val_loss: 123.2124 - val_mae: 9.8760 - val_acc: 0.0099\n",
      "Epoch 22/500\n",
      "303/303 [==============================] - 0s 42us/step - loss: 138.5137 - mae: 10.0793 - acc: 0.0033 - val_loss: 103.3016 - val_mae: 9.0303 - val_acc: 0.0000e+00\n",
      "Epoch 23/500\n",
      "303/303 [==============================] - 0s 44us/step - loss: 118.3582 - mae: 9.2269 - acc: 0.0033 - val_loss: 86.2295 - val_mae: 8.2017 - val_acc: 0.0000e+00\n",
      "Epoch 24/500\n",
      "303/303 [==============================] - 0s 44us/step - loss: 100.2682 - mae: 8.3582 - acc: 0.0033 - val_loss: 72.4653 - val_mae: 7.4459 - val_acc: 0.0000e+00\n",
      "Epoch 25/500\n",
      "303/303 [==============================] - 0s 47us/step - loss: 86.6722 - mae: 7.5674 - acc: 0.0033 - val_loss: 61.9828 - val_mae: 6.8238 - val_acc: 0.0000e+00\n",
      "Epoch 26/500\n",
      "303/303 [==============================] - 0s 34us/step - loss: 77.1107 - mae: 7.0154 - acc: 0.0066 - val_loss: 54.5256 - val_mae: 6.2871 - val_acc: 0.0099\n",
      "Epoch 27/500\n",
      "303/303 [==============================] - 0s 40us/step - loss: 70.3692 - mae: 6.6159 - acc: 0.0066 - val_loss: 49.6715 - val_mae: 5.9488 - val_acc: 0.0099\n",
      "Epoch 28/500\n",
      "303/303 [==============================] - 0s 37us/step - loss: 66.1889 - mae: 6.3957 - acc: 0.0000e+00 - val_loss: 46.7934 - val_mae: 5.7468 - val_acc: 0.0000e+00\n",
      "Epoch 29/500\n",
      "303/303 [==============================] - 0s 45us/step - loss: 63.8470 - mae: 6.2592 - acc: 0.0000e+00 - val_loss: 44.9649 - val_mae: 5.6170 - val_acc: 0.0099\n",
      "Epoch 30/500\n",
      "303/303 [==============================] - 0s 39us/step - loss: 62.2550 - mae: 6.1449 - acc: 0.0033 - val_loss: 43.5109 - val_mae: 5.5109 - val_acc: 0.0099\n",
      "Epoch 31/500\n",
      "303/303 [==============================] - 0s 35us/step - loss: 60.7806 - mae: 6.0344 - acc: 0.0033 - val_loss: 42.1097 - val_mae: 5.4083 - val_acc: 0.0198\n",
      "Epoch 32/500\n",
      "303/303 [==============================] - 0s 40us/step - loss: 58.7683 - mae: 5.9002 - acc: 0.0033 - val_loss: 40.6535 - val_mae: 5.2934 - val_acc: 0.0198\n",
      "Epoch 33/500\n",
      "303/303 [==============================] - 0s 37us/step - loss: 56.6450 - mae: 5.7517 - acc: 0.0033 - val_loss: 39.0066 - val_mae: 5.1698 - val_acc: 0.0099\n",
      "Epoch 34/500\n",
      "303/303 [==============================] - 0s 34us/step - loss: 54.3566 - mae: 5.6028 - acc: 0.0033 - val_loss: 37.3736 - val_mae: 5.0406 - val_acc: 0.0099\n",
      "Epoch 35/500\n",
      "303/303 [==============================] - 0s 39us/step - loss: 51.9293 - mae: 5.4515 - acc: 0.0066 - val_loss: 35.7469 - val_mae: 4.9020 - val_acc: 0.0099\n",
      "Epoch 36/500\n",
      "303/303 [==============================] - 0s 39us/step - loss: 49.7149 - mae: 5.3024 - acc: 0.0033 - val_loss: 34.3488 - val_mae: 4.7756 - val_acc: 0.0099\n",
      "Epoch 37/500\n",
      "303/303 [==============================] - 0s 37us/step - loss: 47.7466 - mae: 5.1686 - acc: 0.0066 - val_loss: 32.9993 - val_mae: 4.6572 - val_acc: 0.0099\n",
      "Epoch 38/500\n",
      "303/303 [==============================] - 0s 39us/step - loss: 45.8345 - mae: 5.0464 - acc: 0.0066 - val_loss: 31.7264 - val_mae: 4.5501 - val_acc: 0.0198\n",
      "Epoch 39/500\n",
      "303/303 [==============================] - 0s 35us/step - loss: 44.2814 - mae: 4.9290 - acc: 0.0033 - val_loss: 30.5022 - val_mae: 4.4450 - val_acc: 0.0198\n",
      "Epoch 40/500\n",
      "303/303 [==============================] - 0s 40us/step - loss: 42.7233 - mae: 4.8208 - acc: 0.0033 - val_loss: 29.3175 - val_mae: 4.3417 - val_acc: 0.0099\n",
      "Epoch 41/500\n",
      "303/303 [==============================] - 0s 47us/step - loss: 41.3189 - mae: 4.7144 - acc: 0.0099 - val_loss: 28.2317 - val_mae: 4.2415 - val_acc: 0.0000e+00\n",
      "Epoch 42/500\n",
      "303/303 [==============================] - 0s 44us/step - loss: 39.9556 - mae: 4.6088 - acc: 0.0099 - val_loss: 27.2013 - val_mae: 4.1393 - val_acc: 0.0000e+00\n",
      "Epoch 43/500\n",
      "303/303 [==============================] - 0s 39us/step - loss: 38.6619 - mae: 4.5062 - acc: 0.0132 - val_loss: 26.2368 - val_mae: 4.0405 - val_acc: 0.0099\n",
      "Epoch 44/500\n",
      "303/303 [==============================] - 0s 40us/step - loss: 37.4656 - mae: 4.4108 - acc: 0.0132 - val_loss: 25.3051 - val_mae: 3.9424 - val_acc: 0.0099\n",
      "Epoch 45/500\n",
      "303/303 [==============================] - 0s 34us/step - loss: 36.3763 - mae: 4.3203 - acc: 0.0132 - val_loss: 24.4126 - val_mae: 3.8423 - val_acc: 0.0099\n",
      "Epoch 46/500\n",
      "303/303 [==============================] - 0s 35us/step - loss: 35.2579 - mae: 4.2326 - acc: 0.0165 - val_loss: 23.6361 - val_mae: 3.7556 - val_acc: 0.0099\n",
      "Epoch 47/500\n",
      "303/303 [==============================] - 0s 39us/step - loss: 34.2153 - mae: 4.1473 - acc: 0.0132 - val_loss: 22.9827 - val_mae: 3.6820 - val_acc: 0.0198\n",
      "Epoch 48/500\n",
      "303/303 [==============================] - 0s 35us/step - loss: 33.3026 - mae: 4.0674 - acc: 0.0066 - val_loss: 22.4187 - val_mae: 3.6155 - val_acc: 0.0297\n",
      "Epoch 49/500\n",
      "303/303 [==============================] - 0s 38us/step - loss: 32.4998 - mae: 3.9971 - acc: 0.0066 - val_loss: 21.8795 - val_mae: 3.5589 - val_acc: 0.0297\n",
      "Epoch 50/500\n",
      "303/303 [==============================] - 0s 37us/step - loss: 31.7351 - mae: 3.9328 - acc: 0.0066 - val_loss: 21.3678 - val_mae: 3.5046 - val_acc: 0.0198\n",
      "Epoch 51/500\n",
      "303/303 [==============================] - 0s 37us/step - loss: 31.0463 - mae: 3.8711 - acc: 0.0099 - val_loss: 20.8993 - val_mae: 3.4582 - val_acc: 0.0198\n",
      "Epoch 52/500\n",
      "303/303 [==============================] - 0s 34us/step - loss: 30.3399 - mae: 3.8136 - acc: 0.0099 - val_loss: 20.5075 - val_mae: 3.4159 - val_acc: 0.0198\n",
      "Epoch 53/500\n",
      "303/303 [==============================] - 0s 40us/step - loss: 29.6655 - mae: 3.7612 - acc: 0.0165 - val_loss: 20.1685 - val_mae: 3.3830 - val_acc: 0.0297\n",
      "Epoch 54/500\n",
      "303/303 [==============================] - 0s 37us/step - loss: 29.1135 - mae: 3.7149 - acc: 0.0165 - val_loss: 19.8462 - val_mae: 3.3519 - val_acc: 0.0297\n",
      "Epoch 55/500\n",
      "303/303 [==============================] - 0s 34us/step - loss: 28.6241 - mae: 3.6757 - acc: 0.0132 - val_loss: 19.5225 - val_mae: 3.3220 - val_acc: 0.0297\n",
      "Epoch 56/500\n",
      "303/303 [==============================] - 0s 32us/step - loss: 28.0720 - mae: 3.6315 - acc: 0.0165 - val_loss: 19.2710 - val_mae: 3.2981 - val_acc: 0.0297\n",
      "Epoch 57/500\n",
      "303/303 [==============================] - 0s 33us/step - loss: 27.6019 - mae: 3.5967 - acc: 0.0165 - val_loss: 19.0298 - val_mae: 3.2758 - val_acc: 0.0297\n",
      "Epoch 58/500\n",
      "303/303 [==============================] - 0s 40us/step - loss: 27.1645 - mae: 3.5610 - acc: 0.0165 - val_loss: 18.8132 - val_mae: 3.2564 - val_acc: 0.0297\n",
      "Epoch 59/500\n",
      "303/303 [==============================] - 0s 37us/step - loss: 26.7992 - mae: 3.5320 - acc: 0.0198 - val_loss: 18.6157 - val_mae: 3.2419 - val_acc: 0.0396\n",
      "Epoch 60/500\n",
      "303/303 [==============================] - 0s 42us/step - loss: 26.4084 - mae: 3.5003 - acc: 0.0165 - val_loss: 18.4397 - val_mae: 3.2329 - val_acc: 0.0297\n",
      "Epoch 61/500\n",
      "303/303 [==============================] - 0s 32us/step - loss: 26.0561 - mae: 3.4748 - acc: 0.0198 - val_loss: 18.2849 - val_mae: 3.2227 - val_acc: 0.0297\n",
      "Epoch 62/500\n",
      "303/303 [==============================] - 0s 39us/step - loss: 25.7318 - mae: 3.4484 - acc: 0.0132 - val_loss: 18.1583 - val_mae: 3.2154 - val_acc: 0.0198\n",
      "Epoch 63/500\n",
      "303/303 [==============================] - 0s 34us/step - loss: 25.4517 - mae: 3.4284 - acc: 0.0165 - val_loss: 18.0039 - val_mae: 3.2103 - val_acc: 0.0198\n",
      "Epoch 64/500\n",
      "303/303 [==============================] - 0s 35us/step - loss: 25.1268 - mae: 3.4075 - acc: 0.0132 - val_loss: 17.8807 - val_mae: 3.2053 - val_acc: 0.0198\n",
      "Epoch 65/500\n",
      "303/303 [==============================] - 0s 39us/step - loss: 24.8694 - mae: 3.3912 - acc: 0.0165 - val_loss: 17.7591 - val_mae: 3.1995 - val_acc: 0.0198\n",
      "Epoch 66/500\n",
      "303/303 [==============================] - 0s 37us/step - loss: 24.6265 - mae: 3.3732 - acc: 0.0165 - val_loss: 17.6504 - val_mae: 3.1927 - val_acc: 0.0198\n",
      "Epoch 67/500\n",
      "303/303 [==============================] - 0s 42us/step - loss: 24.3855 - mae: 3.3570 - acc: 0.0165 - val_loss: 17.5490 - val_mae: 3.1872 - val_acc: 0.0099\n",
      "Epoch 68/500\n",
      "303/303 [==============================] - 0s 44us/step - loss: 24.1451 - mae: 3.3383 - acc: 0.0165 - val_loss: 17.4608 - val_mae: 3.1820 - val_acc: 0.0099\n",
      "Epoch 69/500\n",
      "303/303 [==============================] - 0s 39us/step - loss: 23.9434 - mae: 3.3226 - acc: 0.0165 - val_loss: 17.3630 - val_mae: 3.1766 - val_acc: 0.0099\n",
      "Epoch 70/500\n",
      "303/303 [==============================] - 0s 49us/step - loss: 23.7284 - mae: 3.3081 - acc: 0.0165 - val_loss: 17.2697 - val_mae: 3.1711 - val_acc: 0.0099\n",
      "Epoch 71/500\n",
      "303/303 [==============================] - 0s 45us/step - loss: 23.5042 - mae: 3.2930 - acc: 0.0165 - val_loss: 17.2026 - val_mae: 3.1641 - val_acc: 0.0099\n",
      "Epoch 72/500\n",
      "303/303 [==============================] - 0s 37us/step - loss: 23.3180 - mae: 3.2778 - acc: 0.0198 - val_loss: 17.1128 - val_mae: 3.1580 - val_acc: 0.0099\n",
      "Epoch 73/500\n",
      "303/303 [==============================] - 0s 35us/step - loss: 23.1611 - mae: 3.2653 - acc: 0.0198 - val_loss: 17.0439 - val_mae: 3.1540 - val_acc: 0.0198\n",
      "Epoch 74/500\n",
      "303/303 [==============================] - 0s 40us/step - loss: 22.9557 - mae: 3.2510 - acc: 0.0231 - val_loss: 16.9760 - val_mae: 3.1478 - val_acc: 0.0198\n",
      "Epoch 75/500\n",
      "303/303 [==============================] - 0s 37us/step - loss: 22.7820 - mae: 3.2373 - acc: 0.0231 - val_loss: 16.9221 - val_mae: 3.1429 - val_acc: 0.0198\n",
      "Epoch 76/500\n",
      "303/303 [==============================] - 0s 40us/step - loss: 22.6200 - mae: 3.2234 - acc: 0.0198 - val_loss: 16.8488 - val_mae: 3.1377 - val_acc: 0.0198\n",
      "Epoch 77/500\n",
      "303/303 [==============================] - 0s 37us/step - loss: 22.4819 - mae: 3.2137 - acc: 0.0165 - val_loss: 16.7796 - val_mae: 3.1329 - val_acc: 0.0099\n",
      "Epoch 78/500\n",
      "303/303 [==============================] - 0s 40us/step - loss: 22.3160 - mae: 3.2015 - acc: 0.0198 - val_loss: 16.7112 - val_mae: 3.1277 - val_acc: 0.0099\n",
      "Epoch 79/500\n",
      "303/303 [==============================] - 0s 39us/step - loss: 22.1458 - mae: 3.1894 - acc: 0.0198 - val_loss: 16.6563 - val_mae: 3.1229 - val_acc: 0.0099\n",
      "Epoch 80/500\n",
      "303/303 [==============================] - 0s 37us/step - loss: 22.0119 - mae: 3.1761 - acc: 0.0231 - val_loss: 16.6043 - val_mae: 3.1185 - val_acc: 0.0099\n",
      "Epoch 81/500\n",
      "303/303 [==============================] - 0s 40us/step - loss: 21.8760 - mae: 3.1655 - acc: 0.0231 - val_loss: 16.5597 - val_mae: 3.1147 - val_acc: 0.0099\n",
      "Epoch 82/500\n",
      "303/303 [==============================] - 0s 38us/step - loss: 21.7482 - mae: 3.1532 - acc: 0.0198 - val_loss: 16.5062 - val_mae: 3.1099 - val_acc: 0.0099\n",
      "Epoch 83/500\n",
      "303/303 [==============================] - 0s 45us/step - loss: 21.6252 - mae: 3.1434 - acc: 0.0165 - val_loss: 16.4482 - val_mae: 3.1054 - val_acc: 0.0099\n",
      "Epoch 84/500\n",
      "303/303 [==============================] - 0s 45us/step - loss: 21.5233 - mae: 3.1362 - acc: 0.0165 - val_loss: 16.3756 - val_mae: 3.1001 - val_acc: 0.0099\n",
      "Epoch 85/500\n",
      "303/303 [==============================] - 0s 44us/step - loss: 21.3787 - mae: 3.1265 - acc: 0.0165 - val_loss: 16.3367 - val_mae: 3.0973 - val_acc: 0.0099\n",
      "Epoch 86/500\n",
      "303/303 [==============================] - 0s 42us/step - loss: 21.2717 - mae: 3.1177 - acc: 0.0165 - val_loss: 16.2926 - val_mae: 3.0920 - val_acc: 0.0000e+00\n",
      "Epoch 87/500\n",
      "303/303 [==============================] - 0s 45us/step - loss: 21.1635 - mae: 3.1090 - acc: 0.0198 - val_loss: 16.2546 - val_mae: 3.0896 - val_acc: 0.0000e+00\n",
      "Epoch 88/500\n",
      "303/303 [==============================] - 0s 42us/step - loss: 21.0410 - mae: 3.1025 - acc: 0.0198 - val_loss: 16.2013 - val_mae: 3.0861 - val_acc: 0.0000e+00\n",
      "Epoch 89/500\n",
      "303/303 [==============================] - 0s 47us/step - loss: 20.9413 - mae: 3.0955 - acc: 0.0198 - val_loss: 16.1495 - val_mae: 3.0817 - val_acc: 0.0000e+00\n",
      "Epoch 90/500\n",
      "303/303 [==============================] - 0s 32us/step - loss: 20.8450 - mae: 3.0862 - acc: 0.0198 - val_loss: 16.0992 - val_mae: 3.0748 - val_acc: 0.0000e+00\n",
      "Epoch 91/500\n",
      "303/303 [==============================] - 0s 35us/step - loss: 20.7228 - mae: 3.0747 - acc: 0.0165 - val_loss: 16.0532 - val_mae: 3.0687 - val_acc: 0.0000e+00\n",
      "Epoch 92/500\n",
      "303/303 [==============================] - 0s 34us/step - loss: 20.6268 - mae: 3.0665 - acc: 0.0165 - val_loss: 16.0072 - val_mae: 3.0647 - val_acc: 0.0000e+00\n",
      "Epoch 93/500\n",
      "303/303 [==============================] - 0s 32us/step - loss: 20.5322 - mae: 3.0609 - acc: 0.0165 - val_loss: 15.9604 - val_mae: 3.0609 - val_acc: 0.0000e+00\n",
      "Epoch 94/500\n",
      "303/303 [==============================] - 0s 44us/step - loss: 20.4289 - mae: 3.0537 - acc: 0.0165 - val_loss: 15.9058 - val_mae: 3.0543 - val_acc: 0.0000e+00\n",
      "Epoch 95/500\n",
      "303/303 [==============================] - 0s 39us/step - loss: 20.3485 - mae: 3.0496 - acc: 0.0165 - val_loss: 15.8418 - val_mae: 3.0496 - val_acc: 0.0000e+00\n",
      "Epoch 96/500\n",
      "303/303 [==============================] - 0s 40us/step - loss: 20.2516 - mae: 3.0450 - acc: 0.0165 - val_loss: 15.8070 - val_mae: 3.0457 - val_acc: 0.0000e+00\n",
      "Epoch 97/500\n",
      "303/303 [==============================] - 0s 30us/step - loss: 20.1603 - mae: 3.0367 - acc: 0.0165 - val_loss: 15.7599 - val_mae: 3.0397 - val_acc: 0.0000e+00\n",
      "Epoch 98/500\n",
      "303/303 [==============================] - 0s 40us/step - loss: 20.0589 - mae: 3.0291 - acc: 0.0165 - val_loss: 15.7200 - val_mae: 3.0344 - val_acc: 0.0000e+00\n",
      "Epoch 99/500\n",
      "303/303 [==============================] - 0s 45us/step - loss: 19.9923 - mae: 3.0249 - acc: 0.0165 - val_loss: 15.6680 - val_mae: 3.0322 - val_acc: 0.0000e+00\n",
      "Epoch 100/500\n",
      "303/303 [==============================] - 0s 35us/step - loss: 19.8936 - mae: 3.0222 - acc: 0.0165 - val_loss: 15.6345 - val_mae: 3.0293 - val_acc: 0.0000e+00\n",
      "Epoch 101/500\n",
      "303/303 [==============================] - 0s 39us/step - loss: 19.8150 - mae: 3.0177 - acc: 0.0165 - val_loss: 15.5988 - val_mae: 3.0256 - val_acc: 0.0000e+00\n",
      "Epoch 102/500\n",
      "303/303 [==============================] - 0s 32us/step - loss: 19.7270 - mae: 3.0105 - acc: 0.0165 - val_loss: 15.5774 - val_mae: 3.0182 - val_acc: 0.0000e+00\n",
      "Epoch 103/500\n",
      "303/303 [==============================] - 0s 42us/step - loss: 19.6392 - mae: 2.9991 - acc: 0.0165 - val_loss: 15.5385 - val_mae: 3.0115 - val_acc: 0.0000e+00\n",
      "Epoch 104/500\n",
      "303/303 [==============================] - 0s 39us/step - loss: 19.5565 - mae: 2.9931 - acc: 0.0165 - val_loss: 15.4924 - val_mae: 3.0073 - val_acc: 0.0000e+00\n",
      "Epoch 105/500\n",
      "303/303 [==============================] - 0s 39us/step - loss: 19.4722 - mae: 2.9864 - acc: 0.0165 - val_loss: 15.4569 - val_mae: 3.0029 - val_acc: 0.0000e+00\n",
      "Epoch 106/500\n",
      "303/303 [==============================] - 0s 37us/step - loss: 19.4006 - mae: 2.9790 - acc: 0.0165 - val_loss: 15.4193 - val_mae: 2.9961 - val_acc: 0.0000e+00\n",
      "Epoch 107/500\n",
      "303/303 [==============================] - 0s 45us/step - loss: 19.3129 - mae: 2.9716 - acc: 0.0165 - val_loss: 15.3780 - val_mae: 2.9910 - val_acc: 0.0000e+00\n",
      "Epoch 108/500\n",
      "303/303 [==============================] - 0s 37us/step - loss: 19.2600 - mae: 2.9698 - acc: 0.0165 - val_loss: 15.3300 - val_mae: 2.9904 - val_acc: 0.0000e+00\n",
      "Epoch 109/500\n",
      "303/303 [==============================] - 0s 40us/step - loss: 19.1573 - mae: 2.9657 - acc: 0.0198 - val_loss: 15.3146 - val_mae: 2.9872 - val_acc: 0.0000e+00\n",
      "Epoch 110/500\n",
      "303/303 [==============================] - 0s 44us/step - loss: 19.0908 - mae: 2.9582 - acc: 0.0198 - val_loss: 15.2740 - val_mae: 2.9811 - val_acc: 0.0000e+00\n",
      "Epoch 111/500\n",
      "303/303 [==============================] - 0s 39us/step - loss: 19.0132 - mae: 2.9529 - acc: 0.0198 - val_loss: 15.2420 - val_mae: 2.9786 - val_acc: 0.0000e+00\n",
      "Epoch 112/500\n",
      "303/303 [==============================] - 0s 44us/step - loss: 18.9352 - mae: 2.9487 - acc: 0.0198 - val_loss: 15.1993 - val_mae: 2.9750 - val_acc: 0.0000e+00\n",
      "Epoch 113/500\n",
      "303/303 [==============================] - 0s 34us/step - loss: 18.8647 - mae: 2.9473 - acc: 0.0198 - val_loss: 15.1674 - val_mae: 2.9724 - val_acc: 0.0000e+00\n",
      "Epoch 114/500\n",
      "303/303 [==============================] - 0s 37us/step - loss: 18.7811 - mae: 2.9422 - acc: 0.0198 - val_loss: 15.1344 - val_mae: 2.9684 - val_acc: 0.0000e+00\n",
      "Epoch 115/500\n",
      "303/303 [==============================] - 0s 39us/step - loss: 18.7297 - mae: 2.9387 - acc: 0.0198 - val_loss: 15.1154 - val_mae: 2.9650 - val_acc: 0.0000e+00\n",
      "Epoch 116/500\n",
      "303/303 [==============================] - 0s 40us/step - loss: 18.6470 - mae: 2.9316 - acc: 0.0198 - val_loss: 15.0889 - val_mae: 2.9603 - val_acc: 0.0000e+00\n",
      "Epoch 117/500\n",
      "303/303 [==============================] - 0s 32us/step - loss: 18.5872 - mae: 2.9257 - acc: 0.0198 - val_loss: 15.0616 - val_mae: 2.9558 - val_acc: 0.0000e+00\n",
      "Epoch 118/500\n",
      "303/303 [==============================] - 0s 37us/step - loss: 18.5204 - mae: 2.9208 - acc: 0.0198 - val_loss: 15.0493 - val_mae: 2.9544 - val_acc: 0.0000e+00\n",
      "Epoch 119/500\n",
      "303/303 [==============================] - 0s 40us/step - loss: 18.4486 - mae: 2.9183 - acc: 0.0198 - val_loss: 15.0031 - val_mae: 2.9515 - val_acc: 0.0000e+00\n",
      "Epoch 120/500\n",
      "303/303 [==============================] - 0s 57us/step - loss: 18.3805 - mae: 2.9155 - acc: 0.0198 - val_loss: 14.9715 - val_mae: 2.9482 - val_acc: 0.0000e+00\n",
      "Epoch 121/500\n",
      "303/303 [==============================] - 0s 40us/step - loss: 18.3197 - mae: 2.9115 - acc: 0.0198 - val_loss: 14.9344 - val_mae: 2.9437 - val_acc: 0.0000e+00\n",
      "Epoch 122/500\n",
      "303/303 [==============================] - 0s 39us/step - loss: 18.2566 - mae: 2.9090 - acc: 0.0198 - val_loss: 14.8976 - val_mae: 2.9398 - val_acc: 0.0000e+00\n",
      "Epoch 123/500\n",
      "303/303 [==============================] - 0s 42us/step - loss: 18.1960 - mae: 2.9049 - acc: 0.0198 - val_loss: 14.8686 - val_mae: 2.9345 - val_acc: 0.0000e+00\n",
      "Epoch 124/500\n",
      "303/303 [==============================] - 0s 37us/step - loss: 18.1284 - mae: 2.8965 - acc: 0.0198 - val_loss: 14.8488 - val_mae: 2.9298 - val_acc: 0.0000e+00\n",
      "Epoch 125/500\n",
      "303/303 [==============================] - 0s 34us/step - loss: 18.0845 - mae: 2.8929 - acc: 0.0198 - val_loss: 14.8456 - val_mae: 2.9286 - val_acc: 0.0000e+00\n",
      "Epoch 126/500\n",
      "303/303 [==============================] - 0s 35us/step - loss: 18.0113 - mae: 2.8875 - acc: 0.0198 - val_loss: 14.8131 - val_mae: 2.9241 - val_acc: 0.0000e+00\n",
      "Epoch 127/500\n",
      "303/303 [==============================] - 0s 39us/step - loss: 17.9466 - mae: 2.8830 - acc: 0.0198 - val_loss: 14.7827 - val_mae: 2.9206 - val_acc: 0.0000e+00\n",
      "Epoch 128/500\n",
      "303/303 [==============================] - 0s 34us/step - loss: 17.8948 - mae: 2.8776 - acc: 0.0198 - val_loss: 14.7645 - val_mae: 2.9160 - val_acc: 0.0000e+00\n",
      "Epoch 129/500\n",
      "303/303 [==============================] - 0s 38us/step - loss: 17.8391 - mae: 2.8736 - acc: 0.0198 - val_loss: 14.7369 - val_mae: 2.9157 - val_acc: 0.0000e+00\n",
      "Epoch 130/500\n",
      "303/303 [==============================] - 0s 39us/step - loss: 17.7841 - mae: 2.8705 - acc: 0.0198 - val_loss: 14.7107 - val_mae: 2.9110 - val_acc: 0.0000e+00\n",
      "Epoch 131/500\n",
      "303/303 [==============================] - 0s 42us/step - loss: 17.7270 - mae: 2.8649 - acc: 0.0165 - val_loss: 14.6836 - val_mae: 2.9074 - val_acc: 0.0000e+00\n",
      "Epoch 132/500\n",
      "303/303 [==============================] - 0s 39us/step - loss: 17.6708 - mae: 2.8609 - acc: 0.0165 - val_loss: 14.6596 - val_mae: 2.9052 - val_acc: 0.0000e+00\n",
      "Epoch 133/500\n",
      "303/303 [==============================] - 0s 30us/step - loss: 17.6143 - mae: 2.8589 - acc: 0.0165 - val_loss: 14.5961 - val_mae: 2.9009 - val_acc: 0.0000e+00\n",
      "Epoch 134/500\n",
      "303/303 [==============================] - 0s 32us/step - loss: 17.5828 - mae: 2.8590 - acc: 0.0165 - val_loss: 14.5593 - val_mae: 2.9019 - val_acc: 0.0000e+00\n",
      "Epoch 135/500\n",
      "303/303 [==============================] - 0s 37us/step - loss: 17.5097 - mae: 2.8571 - acc: 0.0165 - val_loss: 14.5339 - val_mae: 2.9001 - val_acc: 0.0000e+00\n",
      "Epoch 136/500\n",
      "303/303 [==============================] - 0s 35us/step - loss: 17.4641 - mae: 2.8555 - acc: 0.0165 - val_loss: 14.5199 - val_mae: 2.8969 - val_acc: 0.0000e+00\n",
      "Epoch 137/500\n",
      "303/303 [==============================] - 0s 47us/step - loss: 17.4151 - mae: 2.8508 - acc: 0.0165 - val_loss: 14.4846 - val_mae: 2.8914 - val_acc: 0.0000e+00\n",
      "Epoch 138/500\n",
      "303/303 [==============================] - 0s 35us/step - loss: 17.3623 - mae: 2.8454 - acc: 0.0165 - val_loss: 14.4801 - val_mae: 2.8901 - val_acc: 0.0000e+00\n",
      "Epoch 139/500\n",
      "303/303 [==============================] - 0s 42us/step - loss: 17.3047 - mae: 2.8419 - acc: 0.0165 - val_loss: 14.4615 - val_mae: 2.8876 - val_acc: 0.0000e+00\n",
      "Epoch 140/500\n",
      "303/303 [==============================] - 0s 37us/step - loss: 17.2533 - mae: 2.8387 - acc: 0.0165 - val_loss: 14.4449 - val_mae: 2.8839 - val_acc: 0.0000e+00\n",
      "Epoch 141/500\n",
      "303/303 [==============================] - 0s 40us/step - loss: 17.2155 - mae: 2.8343 - acc: 0.0198 - val_loss: 14.4339 - val_mae: 2.8818 - val_acc: 0.0000e+00\n",
      "Epoch 142/500\n",
      "303/303 [==============================] - 0s 32us/step - loss: 17.1577 - mae: 2.8296 - acc: 0.0198 - val_loss: 14.4123 - val_mae: 2.8784 - val_acc: 0.0000e+00\n",
      "Epoch 143/500\n",
      "303/303 [==============================] - 0s 39us/step - loss: 17.1152 - mae: 2.8276 - acc: 0.0198 - val_loss: 14.3872 - val_mae: 2.8769 - val_acc: 0.0000e+00\n",
      "Epoch 144/500\n",
      "303/303 [==============================] - 0s 45us/step - loss: 17.0684 - mae: 2.8253 - acc: 0.0198 - val_loss: 14.3544 - val_mae: 2.8733 - val_acc: 0.0000e+00\n",
      "Epoch 145/500\n",
      "303/303 [==============================] - 0s 39us/step - loss: 17.0414 - mae: 2.8248 - acc: 0.0165 - val_loss: 14.3214 - val_mae: 2.8719 - val_acc: 0.0000e+00\n",
      "Epoch 146/500\n",
      "303/303 [==============================] - 0s 39us/step - loss: 16.9662 - mae: 2.8200 - acc: 0.0165 - val_loss: 14.2948 - val_mae: 2.8668 - val_acc: 0.0000e+00\n",
      "Epoch 147/500\n",
      "303/303 [==============================] - 0s 39us/step - loss: 16.9258 - mae: 2.8138 - acc: 0.0198 - val_loss: 14.2560 - val_mae: 2.8609 - val_acc: 0.0000e+00\n",
      "Epoch 148/500\n",
      "303/303 [==============================] - 0s 40us/step - loss: 16.8947 - mae: 2.8084 - acc: 0.0231 - val_loss: 14.2473 - val_mae: 2.8581 - val_acc: 0.0000e+00\n",
      "Epoch 149/500\n",
      "303/303 [==============================] - 0s 47us/step - loss: 16.8468 - mae: 2.8046 - acc: 0.0231 - val_loss: 14.2284 - val_mae: 2.8574 - val_acc: 0.0000e+00\n",
      "Epoch 150/500\n",
      "303/303 [==============================] - 0s 47us/step - loss: 16.8010 - mae: 2.8039 - acc: 0.0198 - val_loss: 14.2295 - val_mae: 2.8601 - val_acc: 0.0000e+00\n",
      "Epoch 151/500\n",
      "303/303 [==============================] - 0s 39us/step - loss: 16.7673 - mae: 2.8041 - acc: 0.0198 - val_loss: 14.2132 - val_mae: 2.8602 - val_acc: 0.0000e+00\n",
      "Epoch 152/500\n",
      "303/303 [==============================] - 0s 32us/step - loss: 16.7003 - mae: 2.8005 - acc: 0.0198 - val_loss: 14.1611 - val_mae: 2.8527 - val_acc: 0.0000e+00\n",
      "Epoch 153/500\n",
      "303/303 [==============================] - 0s 37us/step - loss: 16.6543 - mae: 2.7960 - acc: 0.0198 - val_loss: 14.1469 - val_mae: 2.8510 - val_acc: 0.0000e+00\n",
      "Epoch 154/500\n",
      "303/303 [==============================] - 0s 40us/step - loss: 16.6036 - mae: 2.7909 - acc: 0.0198 - val_loss: 14.1220 - val_mae: 2.8471 - val_acc: 0.0000e+00\n",
      "Epoch 155/500\n",
      "303/303 [==============================] - 0s 42us/step - loss: 16.5723 - mae: 2.7875 - acc: 0.0198 - val_loss: 14.1106 - val_mae: 2.8475 - val_acc: 0.0000e+00\n",
      "Epoch 156/500\n",
      "303/303 [==============================] - 0s 42us/step - loss: 16.5502 - mae: 2.7880 - acc: 0.0198 - val_loss: 14.0870 - val_mae: 2.8456 - val_acc: 0.0000e+00\n",
      "Epoch 157/500\n",
      "303/303 [==============================] - 0s 37us/step - loss: 16.4830 - mae: 2.7847 - acc: 0.0198 - val_loss: 14.0823 - val_mae: 2.8458 - val_acc: 0.0000e+00\n",
      "Epoch 158/500\n",
      "303/303 [==============================] - 0s 44us/step - loss: 16.4460 - mae: 2.7831 - acc: 0.0198 - val_loss: 14.0739 - val_mae: 2.8451 - val_acc: 0.0000e+00\n",
      "Epoch 159/500\n",
      "303/303 [==============================] - 0s 39us/step - loss: 16.4020 - mae: 2.7810 - acc: 0.0198 - val_loss: 14.0636 - val_mae: 2.8455 - val_acc: 0.0000e+00\n",
      "Epoch 160/500\n",
      "303/303 [==============================] - 0s 37us/step - loss: 16.3547 - mae: 2.7768 - acc: 0.0198 - val_loss: 14.0366 - val_mae: 2.8427 - val_acc: 0.0000e+00\n",
      "Epoch 161/500\n",
      "303/303 [==============================] - 0s 37us/step - loss: 16.3283 - mae: 2.7750 - acc: 0.0198 - val_loss: 14.0173 - val_mae: 2.8415 - val_acc: 0.0000e+00\n",
      "Epoch 162/500\n",
      "303/303 [==============================] - 0s 39us/step - loss: 16.2739 - mae: 2.7718 - acc: 0.0198 - val_loss: 13.9829 - val_mae: 2.8382 - val_acc: 0.0000e+00\n",
      "Epoch 163/500\n",
      "303/303 [==============================] - 0s 42us/step - loss: 16.2426 - mae: 2.7683 - acc: 0.0198 - val_loss: 13.9655 - val_mae: 2.8372 - val_acc: 0.0000e+00\n",
      "Epoch 164/500\n",
      "303/303 [==============================] - 0s 42us/step - loss: 16.2032 - mae: 2.7648 - acc: 0.0198 - val_loss: 13.9421 - val_mae: 2.8355 - val_acc: 0.0000e+00\n",
      "Epoch 165/500\n",
      "303/303 [==============================] - 0s 39us/step - loss: 16.1534 - mae: 2.7586 - acc: 0.0198 - val_loss: 13.9326 - val_mae: 2.8354 - val_acc: 0.0000e+00\n",
      "Epoch 166/500\n",
      "303/303 [==============================] - 0s 35us/step - loss: 16.1156 - mae: 2.7553 - acc: 0.0198 - val_loss: 13.9062 - val_mae: 2.8327 - val_acc: 0.0000e+00\n",
      "Epoch 167/500\n",
      "303/303 [==============================] - 0s 34us/step - loss: 16.0745 - mae: 2.7518 - acc: 0.0198 - val_loss: 13.8936 - val_mae: 2.8322 - val_acc: 0.0000e+00\n",
      "Epoch 168/500\n",
      "303/303 [==============================] - ETA: 0s - loss: 18.4842 - mae: 2.8746 - acc: 0.00 - 0s 42us/step - loss: 16.0338 - mae: 2.7498 - acc: 0.0198 - val_loss: 13.8810 - val_mae: 2.8323 - val_acc: 0.0000e+00\n",
      "Epoch 169/500\n",
      "303/303 [==============================] - 0s 42us/step - loss: 16.0069 - mae: 2.7481 - acc: 0.0198 - val_loss: 13.8527 - val_mae: 2.8300 - val_acc: 0.0000e+00\n",
      "Epoch 170/500\n",
      "303/303 [==============================] - 0s 34us/step - loss: 15.9513 - mae: 2.7428 - acc: 0.0198 - val_loss: 13.8390 - val_mae: 2.8287 - val_acc: 0.0000e+00\n",
      "Epoch 171/500\n",
      "303/303 [==============================] - 0s 39us/step - loss: 15.9190 - mae: 2.7406 - acc: 0.0198 - val_loss: 13.8189 - val_mae: 2.8264 - val_acc: 0.0000e+00\n",
      "Epoch 172/500\n",
      "303/303 [==============================] - 0s 40us/step - loss: 15.8943 - mae: 2.7404 - acc: 0.0198 - val_loss: 13.8203 - val_mae: 2.8282 - val_acc: 0.0000e+00\n",
      "Epoch 173/500\n",
      "303/303 [==============================] - 0s 34us/step - loss: 15.8480 - mae: 2.7403 - acc: 0.0198 - val_loss: 13.8073 - val_mae: 2.8281 - val_acc: 0.0099\n",
      "Epoch 174/500\n",
      "303/303 [==============================] - 0s 42us/step - loss: 15.8098 - mae: 2.7374 - acc: 0.0198 - val_loss: 13.7841 - val_mae: 2.8250 - val_acc: 0.0099\n",
      "Epoch 175/500\n",
      "303/303 [==============================] - 0s 42us/step - loss: 15.7752 - mae: 2.7334 - acc: 0.0165 - val_loss: 13.7846 - val_mae: 2.8257 - val_acc: 0.0099\n",
      "Epoch 176/500\n",
      "303/303 [==============================] - 0s 40us/step - loss: 15.7534 - mae: 2.7321 - acc: 0.0198 - val_loss: 13.7840 - val_mae: 2.8274 - val_acc: 0.0099\n",
      "Epoch 177/500\n",
      "303/303 [==============================] - 0s 47us/step - loss: 15.7097 - mae: 2.7317 - acc: 0.0198 - val_loss: 13.7727 - val_mae: 2.8264 - val_acc: 0.0099\n",
      "Epoch 178/500\n",
      "303/303 [==============================] - 0s 39us/step - loss: 15.6733 - mae: 2.7286 - acc: 0.0165 - val_loss: 13.7701 - val_mae: 2.8263 - val_acc: 0.0099\n",
      "Epoch 179/500\n",
      "303/303 [==============================] - 0s 42us/step - loss: 15.6286 - mae: 2.7242 - acc: 0.0165 - val_loss: 13.7767 - val_mae: 2.8279 - val_acc: 0.0099\n",
      "Epoch 180/500\n",
      "303/303 [==============================] - 0s 37us/step - loss: 15.5983 - mae: 2.7214 - acc: 0.0132 - val_loss: 13.7663 - val_mae: 2.8275 - val_acc: 0.0099\n",
      "Epoch 181/500\n",
      "303/303 [==============================] - 0s 42us/step - loss: 15.5736 - mae: 2.7206 - acc: 0.0132 - val_loss: 13.7531 - val_mae: 2.8278 - val_acc: 0.0099\n",
      "Epoch 182/500\n",
      "303/303 [==============================] - 0s 37us/step - loss: 15.5309 - mae: 2.7174 - acc: 0.0132 - val_loss: 13.7232 - val_mae: 2.8239 - val_acc: 0.0099\n",
      "Epoch 183/500\n",
      "303/303 [==============================] - 0s 34us/step - loss: 15.5030 - mae: 2.7134 - acc: 0.0165 - val_loss: 13.6919 - val_mae: 2.8203 - val_acc: 0.0099\n",
      "Epoch 184/500\n",
      "303/303 [==============================] - 0s 40us/step - loss: 15.4682 - mae: 2.7115 - acc: 0.0132 - val_loss: 13.6785 - val_mae: 2.8194 - val_acc: 0.0099\n",
      "Epoch 185/500\n",
      "303/303 [==============================] - 0s 42us/step - loss: 15.4613 - mae: 2.7137 - acc: 0.0132 - val_loss: 13.6770 - val_mae: 2.8216 - val_acc: 0.0099\n",
      "Epoch 186/500\n",
      "303/303 [==============================] - 0s 35us/step - loss: 15.4135 - mae: 2.7099 - acc: 0.0132 - val_loss: 13.6669 - val_mae: 2.8198 - val_acc: 0.0099\n",
      "Epoch 187/500\n",
      "303/303 [==============================] - 0s 40us/step - loss: 15.3768 - mae: 2.7072 - acc: 0.0165 - val_loss: 13.6859 - val_mae: 2.8229 - val_acc: 0.0099\n",
      "Epoch 188/500\n",
      "303/303 [==============================] - 0s 39us/step - loss: 15.3384 - mae: 2.7049 - acc: 0.0132 - val_loss: 13.6761 - val_mae: 2.8216 - val_acc: 0.0099\n",
      "Epoch 189/500\n",
      "303/303 [==============================] - 0s 34us/step - loss: 15.3073 - mae: 2.6996 - acc: 0.0165 - val_loss: 13.6772 - val_mae: 2.8213 - val_acc: 0.0099\n",
      "Epoch 190/500\n",
      "303/303 [==============================] - 0s 95us/step - loss: 15.2918 - mae: 2.6984 - acc: 0.0165 - val_loss: 13.6630 - val_mae: 2.8204 - val_acc: 0.0099\n",
      "Epoch 191/500\n",
      "303/303 [==============================] - 0s 42us/step - loss: 15.2583 - mae: 2.6978 - acc: 0.0165 - val_loss: 13.6506 - val_mae: 2.8197 - val_acc: 0.0099\n",
      "Epoch 192/500\n",
      "303/303 [==============================] - 0s 40us/step - loss: 15.2333 - mae: 2.6954 - acc: 0.0165 - val_loss: 13.6216 - val_mae: 2.8156 - val_acc: 0.0099\n",
      "Epoch 193/500\n",
      "303/303 [==============================] - 0s 37us/step - loss: 15.1981 - mae: 2.6919 - acc: 0.0165 - val_loss: 13.5989 - val_mae: 2.8138 - val_acc: 0.0099\n",
      "Epoch 194/500\n",
      "303/303 [==============================] - 0s 42us/step - loss: 15.1773 - mae: 2.6950 - acc: 0.0165 - val_loss: 13.5934 - val_mae: 2.8141 - val_acc: 0.0099\n",
      "Epoch 195/500\n",
      "303/303 [==============================] - 0s 37us/step - loss: 15.1317 - mae: 2.6938 - acc: 0.0132 - val_loss: 13.5909 - val_mae: 2.8131 - val_acc: 0.0099\n",
      "Epoch 196/500\n",
      "303/303 [==============================] - 0s 40us/step - loss: 15.1126 - mae: 2.6928 - acc: 0.0165 - val_loss: 13.5822 - val_mae: 2.8124 - val_acc: 0.0099\n",
      "Epoch 197/500\n",
      "303/303 [==============================] - 0s 35us/step - loss: 15.0641 - mae: 2.6897 - acc: 0.0132 - val_loss: 13.5761 - val_mae: 2.8118 - val_acc: 0.0099\n",
      "Epoch 198/500\n",
      "303/303 [==============================] - 0s 52us/step - loss: 15.0829 - mae: 2.6857 - acc: 0.0132 - val_loss: 13.5719 - val_mae: 2.8107 - val_acc: 0.0099\n",
      "Epoch 199/500\n",
      "303/303 [==============================] - 0s 55us/step - loss: 15.0034 - mae: 2.6801 - acc: 0.0165 - val_loss: 13.5838 - val_mae: 2.8121 - val_acc: 0.0099\n",
      "Epoch 200/500\n",
      "303/303 [==============================] - 0s 40us/step - loss: 14.9882 - mae: 2.6809 - acc: 0.0165 - val_loss: 13.5935 - val_mae: 2.8139 - val_acc: 0.0099\n",
      "Epoch 201/500\n",
      "303/303 [==============================] - 0s 57us/step - loss: 14.9518 - mae: 2.6784 - acc: 0.0132 - val_loss: 13.5729 - val_mae: 2.8098 - val_acc: 0.0099\n",
      "Epoch 202/500\n",
      "303/303 [==============================] - 0s 49us/step - loss: 14.9261 - mae: 2.6739 - acc: 0.0165 - val_loss: 13.5428 - val_mae: 2.8058 - val_acc: 0.0099\n",
      "Epoch 203/500\n",
      "303/303 [==============================] - 0s 42us/step - loss: 14.9023 - mae: 2.6736 - acc: 0.0165 - val_loss: 13.5062 - val_mae: 2.8009 - val_acc: 0.0099\n",
      "Epoch 204/500\n",
      "303/303 [==============================] - 0s 42us/step - loss: 14.8716 - mae: 2.6741 - acc: 0.0132 - val_loss: 13.5112 - val_mae: 2.8026 - val_acc: 0.0099\n",
      "Epoch 205/500\n",
      "303/303 [==============================] - 0s 35us/step - loss: 14.8384 - mae: 2.6708 - acc: 0.0132 - val_loss: 13.4891 - val_mae: 2.7993 - val_acc: 0.0099\n",
      "Epoch 206/500\n",
      "303/303 [==============================] - 0s 44us/step - loss: 14.8005 - mae: 2.6672 - acc: 0.0132 - val_loss: 13.4997 - val_mae: 2.8006 - val_acc: 0.0099\n",
      "Epoch 207/500\n",
      "303/303 [==============================] - ETA: 0s - loss: 10.4556 - mae: 2.4181 - acc: 0.0000e+ - 0s 52us/step - loss: 14.7983 - mae: 2.6659 - acc: 0.0132 - val_loss: 13.5230 - val_mae: 2.8033 - val_acc: 0.0099\n",
      "Epoch 208/500\n",
      "303/303 [==============================] - 0s 47us/step - loss: 14.7741 - mae: 2.6636 - acc: 0.0132 - val_loss: 13.4956 - val_mae: 2.7995 - val_acc: 0.0099\n",
      "Epoch 209/500\n",
      "303/303 [==============================] - 0s 35us/step - loss: 14.7231 - mae: 2.6594 - acc: 0.0132 - val_loss: 13.4775 - val_mae: 2.7978 - val_acc: 0.0099\n",
      "Epoch 210/500\n",
      "303/303 [==============================] - 0s 35us/step - loss: 14.7029 - mae: 2.6598 - acc: 0.0132 - val_loss: 13.4797 - val_mae: 2.7986 - val_acc: 0.0099\n",
      "Epoch 211/500\n",
      "303/303 [==============================] - 0s 45us/step - loss: 14.6825 - mae: 2.6634 - acc: 0.0165 - val_loss: 13.4814 - val_mae: 2.7998 - val_acc: 0.0099\n",
      "Epoch 212/500\n",
      "303/303 [==============================] - 0s 45us/step - loss: 14.6483 - mae: 2.6609 - acc: 0.0132 - val_loss: 13.4782 - val_mae: 2.7981 - val_acc: 0.0099\n",
      "Epoch 213/500\n",
      "303/303 [==============================] - 0s 37us/step - loss: 14.6298 - mae: 2.6566 - acc: 0.0132 - val_loss: 13.4642 - val_mae: 2.7950 - val_acc: 0.0099\n",
      "Epoch 214/500\n",
      "303/303 [==============================] - 0s 44us/step - loss: 14.5922 - mae: 2.6513 - acc: 0.0132 - val_loss: 13.4794 - val_mae: 2.7964 - val_acc: 0.0099\n",
      "Epoch 215/500\n",
      "303/303 [==============================] - 0s 35us/step - loss: 14.5710 - mae: 2.6491 - acc: 0.0132 - val_loss: 13.4585 - val_mae: 2.7928 - val_acc: 0.0099\n",
      "Epoch 216/500\n",
      "303/303 [==============================] - 0s 37us/step - loss: 14.5543 - mae: 2.6475 - acc: 0.0132 - val_loss: 13.4624 - val_mae: 2.7938 - val_acc: 0.0099\n",
      "Epoch 217/500\n",
      "303/303 [==============================] - 0s 47us/step - loss: 14.5260 - mae: 2.6488 - acc: 0.0099 - val_loss: 13.4477 - val_mae: 2.7917 - val_acc: 0.0099\n",
      "Epoch 218/500\n",
      "303/303 [==============================] - 0s 45us/step - loss: 14.4798 - mae: 2.6467 - acc: 0.0132 - val_loss: 13.4273 - val_mae: 2.7900 - val_acc: 0.0099\n",
      "Epoch 219/500\n",
      "303/303 [==============================] - 0s 45us/step - loss: 14.4629 - mae: 2.6469 - acc: 0.0132 - val_loss: 13.4141 - val_mae: 2.7870 - val_acc: 0.0099\n",
      "Epoch 220/500\n",
      "303/303 [==============================] - 0s 54us/step - loss: 14.4502 - mae: 2.6400 - acc: 0.0132 - val_loss: 13.3920 - val_mae: 2.7832 - val_acc: 0.0099\n",
      "Epoch 221/500\n",
      "303/303 [==============================] - 0s 47us/step - loss: 14.3961 - mae: 2.6366 - acc: 0.0132 - val_loss: 13.3817 - val_mae: 2.7820 - val_acc: 0.0099\n",
      "Epoch 222/500\n",
      "303/303 [==============================] - 0s 44us/step - loss: 14.3855 - mae: 2.6355 - acc: 0.0132 - val_loss: 13.3759 - val_mae: 2.7820 - val_acc: 0.0099\n",
      "Epoch 223/500\n",
      "303/303 [==============================] - 0s 39us/step - loss: 14.3621 - mae: 2.6346 - acc: 0.0132 - val_loss: 13.3802 - val_mae: 2.7827 - val_acc: 0.0099\n",
      "Epoch 224/500\n",
      "303/303 [==============================] - 0s 39us/step - loss: 14.3374 - mae: 2.6362 - acc: 0.0132 - val_loss: 13.3832 - val_mae: 2.7829 - val_acc: 0.0099\n",
      "Epoch 225/500\n",
      "303/303 [==============================] - 0s 40us/step - loss: 14.2932 - mae: 2.6324 - acc: 0.0165 - val_loss: 13.3682 - val_mae: 2.7802 - val_acc: 0.0099\n",
      "Epoch 226/500\n",
      "303/303 [==============================] - 0s 40us/step - loss: 14.2784 - mae: 2.6288 - acc: 0.0165 - val_loss: 13.3670 - val_mae: 2.7786 - val_acc: 0.0099\n",
      "Epoch 227/500\n",
      "303/303 [==============================] - 0s 44us/step - loss: 14.2736 - mae: 2.6284 - acc: 0.0132 - val_loss: 13.3633 - val_mae: 2.7775 - val_acc: 0.0099\n",
      "Epoch 228/500\n",
      "303/303 [==============================] - 0s 40us/step - loss: 14.2213 - mae: 2.6250 - acc: 0.0132 - val_loss: 13.3732 - val_mae: 2.7784 - val_acc: 0.0099\n",
      "Epoch 229/500\n",
      "303/303 [==============================] - 0s 42us/step - loss: 14.2029 - mae: 2.6225 - acc: 0.0132 - val_loss: 13.3713 - val_mae: 2.7768 - val_acc: 0.0099\n",
      "Epoch 230/500\n",
      "303/303 [==============================] - 0s 34us/step - loss: 14.1753 - mae: 2.6201 - acc: 0.0165 - val_loss: 13.3748 - val_mae: 2.7793 - val_acc: 0.0099\n",
      "Epoch 231/500\n",
      "303/303 [==============================] - 0s 40us/step - loss: 14.1462 - mae: 2.6203 - acc: 0.0165 - val_loss: 13.3520 - val_mae: 2.7767 - val_acc: 0.0099\n",
      "Epoch 232/500\n",
      "303/303 [==============================] - 0s 37us/step - loss: 14.1371 - mae: 2.6209 - acc: 0.0165 - val_loss: 13.3484 - val_mae: 2.7774 - val_acc: 0.0099\n",
      "Epoch 233/500\n",
      "303/303 [==============================] - 0s 44us/step - loss: 14.0969 - mae: 2.6172 - acc: 0.0165 - val_loss: 13.3361 - val_mae: 2.7745 - val_acc: 0.0099\n",
      "Epoch 234/500\n",
      "303/303 [==============================] - 0s 40us/step - loss: 14.0772 - mae: 2.6145 - acc: 0.0165 - val_loss: 13.3245 - val_mae: 2.7712 - val_acc: 0.0099\n",
      "Epoch 235/500\n",
      "303/303 [==============================] - 0s 45us/step - loss: 14.0616 - mae: 2.6124 - acc: 0.0132 - val_loss: 13.3463 - val_mae: 2.7732 - val_acc: 0.0099\n",
      "Epoch 236/500\n",
      "303/303 [==============================] - 0s 39us/step - loss: 14.0369 - mae: 2.6106 - acc: 0.0165 - val_loss: 13.3305 - val_mae: 2.7694 - val_acc: 0.0099\n",
      "Epoch 237/500\n",
      "303/303 [==============================] - 0s 89us/step - loss: 14.0296 - mae: 2.6068 - acc: 0.0165 - val_loss: 13.2929 - val_mae: 2.7633 - val_acc: 0.0099\n",
      "Epoch 238/500\n",
      "303/303 [==============================] - 0s 52us/step - loss: 13.9743 - mae: 2.6028 - acc: 0.0165 - val_loss: 13.2854 - val_mae: 2.7644 - val_acc: 0.0099\n",
      "Epoch 239/500\n",
      "303/303 [==============================] - 0s 42us/step - loss: 13.9485 - mae: 2.6024 - acc: 0.0165 - val_loss: 13.2756 - val_mae: 2.7651 - val_acc: 0.0099\n",
      "Epoch 240/500\n",
      "303/303 [==============================] - 0s 37us/step - loss: 13.9211 - mae: 2.6004 - acc: 0.0165 - val_loss: 13.2518 - val_mae: 2.7624 - val_acc: 0.0099\n",
      "Epoch 241/500\n",
      "303/303 [==============================] - 0s 37us/step - loss: 13.8951 - mae: 2.5980 - acc: 0.0165 - val_loss: 13.2498 - val_mae: 2.7622 - val_acc: 0.0099\n",
      "Epoch 242/500\n",
      "303/303 [==============================] - 0s 35us/step - loss: 13.8711 - mae: 2.5964 - acc: 0.0165 - val_loss: 13.2583 - val_mae: 2.7625 - val_acc: 0.0099\n",
      "Epoch 243/500\n",
      "303/303 [==============================] - 0s 38us/step - loss: 13.8491 - mae: 2.5941 - acc: 0.0165 - val_loss: 13.2401 - val_mae: 2.7593 - val_acc: 0.0099\n",
      "Epoch 244/500\n",
      "303/303 [==============================] - 0s 37us/step - loss: 13.8587 - mae: 2.5932 - acc: 0.0132 - val_loss: 13.2372 - val_mae: 2.7568 - val_acc: 0.0099\n",
      "Epoch 245/500\n",
      "303/303 [==============================] - 0s 37us/step - loss: 13.8048 - mae: 2.5883 - acc: 0.0132 - val_loss: 13.1937 - val_mae: 2.7531 - val_acc: 0.0099\n",
      "Epoch 246/500\n",
      "303/303 [==============================] - 0s 42us/step - loss: 13.7914 - mae: 2.5855 - acc: 0.0132 - val_loss: 13.1874 - val_mae: 2.7518 - val_acc: 0.0099\n",
      "Epoch 247/500\n",
      "303/303 [==============================] - 0s 34us/step - loss: 13.7496 - mae: 2.5832 - acc: 0.0132 - val_loss: 13.1944 - val_mae: 2.7537 - val_acc: 0.0099\n",
      "Epoch 248/500\n",
      "303/303 [==============================] - 0s 39us/step - loss: 13.7526 - mae: 2.5852 - acc: 0.0132 - val_loss: 13.1850 - val_mae: 2.7560 - val_acc: 0.0099\n",
      "Epoch 249/500\n",
      "303/303 [==============================] - 0s 40us/step - loss: 13.7169 - mae: 2.5844 - acc: 0.0132 - val_loss: 13.1772 - val_mae: 2.7545 - val_acc: 0.0099\n",
      "Epoch 250/500\n",
      "303/303 [==============================] - 0s 42us/step - loss: 13.6936 - mae: 2.5837 - acc: 0.0132 - val_loss: 13.1963 - val_mae: 2.7567 - val_acc: 0.0099\n",
      "Epoch 251/500\n",
      "303/303 [==============================] - 0s 47us/step - loss: 13.6627 - mae: 2.5810 - acc: 0.0132 - val_loss: 13.2517 - val_mae: 2.7615 - val_acc: 0.0099\n",
      "Epoch 252/500\n",
      "303/303 [==============================] - 0s 37us/step - loss: 13.6320 - mae: 2.5778 - acc: 0.0132 - val_loss: 13.2426 - val_mae: 2.7589 - val_acc: 0.0099\n",
      "Epoch 253/500\n",
      "303/303 [==============================] - 0s 45us/step - loss: 13.6300 - mae: 2.5755 - acc: 0.0132 - val_loss: 13.2284 - val_mae: 2.7554 - val_acc: 0.0099\n",
      "Epoch 254/500\n",
      "303/303 [==============================] - 0s 54us/step - loss: 13.6061 - mae: 2.5738 - acc: 0.0132 - val_loss: 13.1983 - val_mae: 2.7546 - val_acc: 0.0099\n",
      "Epoch 255/500\n",
      "303/303 [==============================] - 0s 40us/step - loss: 13.5577 - mae: 2.5696 - acc: 0.0132 - val_loss: 13.1893 - val_mae: 2.7526 - val_acc: 0.0099\n",
      "Epoch 256/500\n",
      "303/303 [==============================] - 0s 40us/step - loss: 13.5534 - mae: 2.5695 - acc: 0.0132 - val_loss: 13.1998 - val_mae: 2.7547 - val_acc: 0.0099\n",
      "Epoch 257/500\n",
      "303/303 [==============================] - 0s 34us/step - loss: 13.5199 - mae: 2.5681 - acc: 0.0132 - val_loss: 13.2091 - val_mae: 2.7559 - val_acc: 0.0099\n",
      "Epoch 258/500\n",
      "303/303 [==============================] - 0s 40us/step - loss: 13.5144 - mae: 2.5688 - acc: 0.0132 - val_loss: 13.2270 - val_mae: 2.7574 - val_acc: 0.0099\n",
      "Epoch 259/500\n",
      "303/303 [==============================] - 0s 40us/step - loss: 13.4780 - mae: 2.5650 - acc: 0.0132 - val_loss: 13.1912 - val_mae: 2.7525 - val_acc: 0.0099\n",
      "Epoch 260/500\n",
      "303/303 [==============================] - 0s 35us/step - loss: 13.4622 - mae: 2.5622 - acc: 0.0132 - val_loss: 13.1651 - val_mae: 2.7483 - val_acc: 0.0099\n",
      "Epoch 261/500\n",
      "303/303 [==============================] - 0s 42us/step - loss: 13.4293 - mae: 2.5574 - acc: 0.0132 - val_loss: 13.1314 - val_mae: 2.7440 - val_acc: 0.0099\n",
      "Epoch 262/500\n",
      "303/303 [==============================] - 0s 44us/step - loss: 13.4153 - mae: 2.5566 - acc: 0.0132 - val_loss: 13.1225 - val_mae: 2.7417 - val_acc: 0.0099\n",
      "Epoch 263/500\n",
      "303/303 [==============================] - 0s 44us/step - loss: 13.3865 - mae: 2.5527 - acc: 0.0132 - val_loss: 13.1083 - val_mae: 2.7397 - val_acc: 0.0099\n",
      "Epoch 264/500\n",
      "303/303 [==============================] - 0s 44us/step - loss: 13.3638 - mae: 2.5510 - acc: 0.0132 - val_loss: 13.0961 - val_mae: 2.7395 - val_acc: 0.0099\n",
      "Epoch 265/500\n",
      "303/303 [==============================] - 0s 42us/step - loss: 13.3325 - mae: 2.5492 - acc: 0.0132 - val_loss: 13.0862 - val_mae: 2.7388 - val_acc: 0.0099\n",
      "Epoch 266/500\n",
      "303/303 [==============================] - 0s 37us/step - loss: 13.3312 - mae: 2.5492 - acc: 0.0132 - val_loss: 13.1165 - val_mae: 2.7434 - val_acc: 0.0099\n",
      "Epoch 267/500\n",
      "303/303 [==============================] - 0s 40us/step - loss: 13.3025 - mae: 2.5480 - acc: 0.0132 - val_loss: 13.0890 - val_mae: 2.7388 - val_acc: 0.0099\n",
      "Epoch 268/500\n",
      "303/303 [==============================] - 0s 40us/step - loss: 13.2765 - mae: 2.5455 - acc: 0.0132 - val_loss: 13.1090 - val_mae: 2.7410 - val_acc: 0.0099\n",
      "Epoch 269/500\n",
      "303/303 [==============================] - 0s 44us/step - loss: 13.2428 - mae: 2.5428 - acc: 0.0132 - val_loss: 13.1166 - val_mae: 2.7416 - val_acc: 0.0099\n",
      "Epoch 270/500\n",
      "303/303 [==============================] - 0s 42us/step - loss: 13.2226 - mae: 2.5414 - acc: 0.0132 - val_loss: 13.1255 - val_mae: 2.7418 - val_acc: 0.0099\n",
      "Epoch 271/500\n",
      "303/303 [==============================] - 0s 40us/step - loss: 13.2061 - mae: 2.5411 - acc: 0.0132 - val_loss: 13.1341 - val_mae: 2.7427 - val_acc: 0.0099\n",
      "Epoch 272/500\n",
      "303/303 [==============================] - 0s 49us/step - loss: 13.1836 - mae: 2.5384 - acc: 0.0132 - val_loss: 13.0675 - val_mae: 2.7349 - val_acc: 0.0099\n",
      "Epoch 273/500\n",
      "303/303 [==============================] - 0s 45us/step - loss: 13.1630 - mae: 2.5344 - acc: 0.0132 - val_loss: 13.0611 - val_mae: 2.7332 - val_acc: 0.0099\n",
      "Epoch 274/500\n",
      "303/303 [==============================] - 0s 65us/step - loss: 13.1384 - mae: 2.5312 - acc: 0.0132 - val_loss: 13.0570 - val_mae: 2.7312 - val_acc: 0.0099\n",
      "Epoch 275/500\n",
      "303/303 [==============================] - 0s 54us/step - loss: 13.1274 - mae: 2.5319 - acc: 0.0132 - val_loss: 13.1166 - val_mae: 2.7384 - val_acc: 0.0000e+00\n",
      "Epoch 276/500\n",
      "303/303 [==============================] - 0s 45us/step - loss: 13.1255 - mae: 2.5330 - acc: 0.0132 - val_loss: 13.1463 - val_mae: 2.7415 - val_acc: 0.0000e+00\n",
      "Epoch 277/500\n",
      "303/303 [==============================] - 0s 54us/step - loss: 13.0888 - mae: 2.5327 - acc: 0.0132 - val_loss: 13.1220 - val_mae: 2.7379 - val_acc: 0.0000e+00\n",
      "Epoch 278/500\n",
      "303/303 [==============================] - 0s 39us/step - loss: 13.0547 - mae: 2.5279 - acc: 0.0132 - val_loss: 13.0863 - val_mae: 2.7328 - val_acc: 0.0000e+00\n",
      "Epoch 279/500\n",
      "303/303 [==============================] - 0s 45us/step - loss: 13.0240 - mae: 2.5242 - acc: 0.0132 - val_loss: 13.0847 - val_mae: 2.7305 - val_acc: 0.0000e+00\n",
      "Epoch 280/500\n",
      "303/303 [==============================] - 0s 40us/step - loss: 13.0192 - mae: 2.5203 - acc: 0.0132 - val_loss: 13.0750 - val_mae: 2.7275 - val_acc: 0.0099\n",
      "Epoch 281/500\n",
      "303/303 [==============================] - 0s 59us/step - loss: 13.0030 - mae: 2.5211 - acc: 0.0132 - val_loss: 13.0667 - val_mae: 2.7264 - val_acc: 0.0000e+00\n",
      "Epoch 282/500\n",
      "303/303 [==============================] - 0s 74us/step - loss: 12.9670 - mae: 2.5172 - acc: 0.0132 - val_loss: 13.0408 - val_mae: 2.7236 - val_acc: 0.0000e+00\n",
      "Epoch 283/500\n",
      "303/303 [==============================] - 0s 64us/step - loss: 12.9582 - mae: 2.5158 - acc: 0.0132 - val_loss: 13.0285 - val_mae: 2.7229 - val_acc: 0.0000e+00\n",
      "Epoch 284/500\n",
      "303/303 [==============================] - 0s 45us/step - loss: 12.9275 - mae: 2.5137 - acc: 0.0132 - val_loss: 13.0335 - val_mae: 2.7237 - val_acc: 0.0000e+00\n",
      "Epoch 285/500\n",
      "303/303 [==============================] - 0s 45us/step - loss: 12.9260 - mae: 2.5150 - acc: 0.0132 - val_loss: 13.0855 - val_mae: 2.7304 - val_acc: 0.0000e+00\n",
      "Epoch 286/500\n",
      "303/303 [==============================] - 0s 35us/step - loss: 12.8973 - mae: 2.5153 - acc: 0.0132 - val_loss: 13.1035 - val_mae: 2.7314 - val_acc: 0.0000e+00\n",
      "Epoch 287/500\n",
      "303/303 [==============================] - 0s 42us/step - loss: 12.8585 - mae: 2.5131 - acc: 0.0132 - val_loss: 13.1259 - val_mae: 2.7312 - val_acc: 0.0000e+00\n",
      "Epoch 288/500\n",
      "303/303 [==============================] - 0s 40us/step - loss: 12.8585 - mae: 2.5112 - acc: 0.0132 - val_loss: 13.1433 - val_mae: 2.7299 - val_acc: 0.0000e+00\n",
      "Epoch 289/500\n",
      "303/303 [==============================] - 0s 37us/step - loss: 12.8301 - mae: 2.5101 - acc: 0.0132 - val_loss: 13.1354 - val_mae: 2.7300 - val_acc: 0.0000e+00\n",
      "Epoch 290/500\n",
      "303/303 [==============================] - 0s 37us/step - loss: 12.8188 - mae: 2.5087 - acc: 0.0132 - val_loss: 13.1216 - val_mae: 2.7288 - val_acc: 0.0000e+00\n",
      "Epoch 291/500\n",
      "303/303 [==============================] - 0s 40us/step - loss: 12.7771 - mae: 2.5029 - acc: 0.0132 - val_loss: 13.0805 - val_mae: 2.7235 - val_acc: 0.0000e+00\n",
      "Epoch 292/500\n",
      "303/303 [==============================] - 0s 44us/step - loss: 12.7880 - mae: 2.5027 - acc: 0.0132 - val_loss: 13.0347 - val_mae: 2.7171 - val_acc: 0.0000e+00\n",
      "Epoch 293/500\n",
      "303/303 [==============================] - 0s 42us/step - loss: 12.7440 - mae: 2.4970 - acc: 0.0132 - val_loss: 13.0714 - val_mae: 2.7205 - val_acc: 0.0000e+00\n",
      "Epoch 294/500\n",
      "303/303 [==============================] - 0s 39us/step - loss: 12.7502 - mae: 2.4961 - acc: 0.0132 - val_loss: 13.0369 - val_mae: 2.7134 - val_acc: 0.0000e+00\n",
      "Epoch 295/500\n",
      "303/303 [==============================] - 0s 49us/step - loss: 12.7050 - mae: 2.4928 - acc: 0.0132 - val_loss: 13.0295 - val_mae: 2.7135 - val_acc: 0.0000e+00\n",
      "Epoch 296/500\n",
      "303/303 [==============================] - 0s 39us/step - loss: 12.6954 - mae: 2.4937 - acc: 0.0132 - val_loss: 13.0908 - val_mae: 2.7211 - val_acc: 0.0000e+00\n",
      "Epoch 297/500\n",
      "303/303 [==============================] - 0s 39us/step - loss: 12.6593 - mae: 2.4926 - acc: 0.0165 - val_loss: 13.0952 - val_mae: 2.7200 - val_acc: 0.0000e+00\n",
      "Epoch 298/500\n",
      "303/303 [==============================] - 0s 35us/step - loss: 12.6401 - mae: 2.4918 - acc: 0.0132 - val_loss: 13.1082 - val_mae: 2.7203 - val_acc: 0.0000e+00\n",
      "Epoch 299/500\n",
      "303/303 [==============================] - 0s 40us/step - loss: 12.6285 - mae: 2.4915 - acc: 0.0132 - val_loss: 13.1451 - val_mae: 2.7245 - val_acc: 0.0000e+00\n",
      "Epoch 300/500\n",
      "303/303 [==============================] - 0s 39us/step - loss: 12.6210 - mae: 2.4896 - acc: 0.0132 - val_loss: 13.0866 - val_mae: 2.7173 - val_acc: 0.0000e+00\n",
      "Epoch 301/500\n",
      "303/303 [==============================] - 0s 42us/step - loss: 12.5927 - mae: 2.4849 - acc: 0.0132 - val_loss: 13.1010 - val_mae: 2.7167 - val_acc: 0.0000e+00\n",
      "Epoch 302/500\n",
      "303/303 [==============================] - 0s 34us/step - loss: 12.5683 - mae: 2.4830 - acc: 0.0165 - val_loss: 13.0831 - val_mae: 2.7157 - val_acc: 0.0000e+00\n",
      "Epoch 303/500\n",
      "303/303 [==============================] - 0s 35us/step - loss: 12.5416 - mae: 2.4816 - acc: 0.0132 - val_loss: 13.1208 - val_mae: 2.7192 - val_acc: 0.0000e+00\n",
      "Restoring model weights from the end of the best epoch\n",
      "Epoch 00303: early stopping\n"
     ]
    }
   ],
   "source": [
    "history2 = model2.fit(inputs_train_scaled, outputs_train, epochs=500, batch_size=101, validation_split=0.25, callbacks=[earlystop])"
   ]
  },
  {
   "cell_type": "code",
   "execution_count": 54,
   "metadata": {},
   "outputs": [
    {
     "name": "stdout",
     "output_type": "stream",
     "text": [
      "This model evaluates as:\n",
      "* Loss: 17.33129628499349\n",
      "* MAE: 3.0244550704956055\n",
      "* Accuracy: 0.009803921915590763\n"
     ]
    }
   ],
   "source": [
    "evaluate2 = []\n",
    "evaluator(evaluate2, model2)"
   ]
  },
  {
   "cell_type": "code",
   "execution_count": 55,
   "metadata": {},
   "outputs": [
    {
     "name": "stdout",
     "output_type": "stream",
     "text": [
      "This model predicts as:\n",
      "* Predicted Value: 18.75143\n",
      "* Actual value: 17.4\n"
     ]
    },
    {
     "name": "stderr",
     "output_type": "stream",
     "text": [
      "C:\\Users\\Peter\\AppData\\Local\\Continuum\\anaconda3\\lib\\site-packages\\ipykernel_launcher.py:3: FutureWarning: Method .as_matrix will be removed in a future version. Use .values instead.\n",
      "  This is separate from the ipykernel package so we can avoid doing imports until\n"
     ]
    }
   ],
   "source": [
    "predict2 = []\n",
    "predictor(predict2, model2)"
   ]
  },
  {
   "cell_type": "markdown",
   "metadata": {},
   "source": [
    "##### Results"
   ]
  },
  {
   "cell_type": "markdown",
   "metadata": {},
   "source": [
    "More accurate than all previous attempts:\n",
    "* Loss (Mean Squared Error): ~8\n",
    "* Mean Absolute Error: ~2.0\n",
    "* Accuracy: 0.0272"
   ]
  },
  {
   "cell_type": "markdown",
   "metadata": {},
   "source": [
    "#### Third Attempt - Deepen"
   ]
  },
  {
   "cell_type": "markdown",
   "metadata": {},
   "source": [
    "We will develop the second attempt model and deepen it now by adding another hidden layer."
   ]
  },
  {
   "cell_type": "markdown",
   "metadata": {},
   "source": [
    "##### Construct Model"
   ]
  },
  {
   "cell_type": "code",
   "execution_count": 56,
   "metadata": {
    "scrolled": true
   },
   "outputs": [
    {
     "name": "stdout",
     "output_type": "stream",
     "text": [
      "Model: \"sequential_3\"\n",
      "_________________________________________________________________\n",
      "Layer (type)                 Output Shape              Param #   \n",
      "=================================================================\n",
      "dense_7 (Dense)              (None, 256)               1792      \n",
      "_________________________________________________________________\n",
      "dense_8 (Dense)              (None, 128)               32896     \n",
      "_________________________________________________________________\n",
      "dense_9 (Dense)              (None, 64)                8256      \n",
      "_________________________________________________________________\n",
      "dense_10 (Dense)             (None, 32)                2080      \n",
      "_________________________________________________________________\n",
      "dense_11 (Dense)             (None, 1)                 33        \n",
      "=================================================================\n",
      "Total params: 45,057\n",
      "Trainable params: 45,057\n",
      "Non-trainable params: 0\n",
      "_________________________________________________________________\n"
     ]
    }
   ],
   "source": [
    "model3 = Sequential() \n",
    "\n",
    "model3.add(Dense(units=256, activation='relu', input_dim=6))\n",
    "model3.add(Dense(units=128, activation='relu'))\n",
    "model3.add(Dense(units=64, activation='relu'))\n",
    "model3.add(Dense(units=32, activation='relu'))\n",
    "model3.add(Dense(units=1))\n",
    "\n",
    "model3.compile(loss='mse', optimizer='adam', metrics=['mae', 'acc'])\n",
    "\n",
    "model3.summary()"
   ]
  },
  {
   "cell_type": "markdown",
   "metadata": {},
   "source": [
    "##### Training"
   ]
  },
  {
   "cell_type": "markdown",
   "metadata": {},
   "source": []
  },
  {
   "cell_type": "code",
   "execution_count": 57,
   "metadata": {
    "scrolled": true
   },
   "outputs": [
    {
     "name": "stdout",
     "output_type": "stream",
     "text": [
      "Train on 303 samples, validate on 101 samples\n",
      "Epoch 1/500\n",
      "303/303 [==============================] - 1s 4ms/step - loss: 595.0535 - mae: 22.4578 - acc: 0.0000e+00 - val_loss: 527.0599 - val_mae: 21.6527 - val_acc: 0.0000e+00\n",
      "Epoch 2/500\n",
      "303/303 [==============================] - 0s 104us/step - loss: 585.9374 - mae: 22.2685 - acc: 0.0000e+00 - val_loss: 519.1369 - val_mae: 21.4805 - val_acc: 0.0000e+00\n",
      "Epoch 3/500\n",
      "303/303 [==============================] - 0s 70us/step - loss: 575.9638 - mae: 22.0601 - acc: 0.0000e+00 - val_loss: 507.9026 - val_mae: 21.2297 - val_acc: 0.0000e+00\n",
      "Epoch 4/500\n",
      "303/303 [==============================] - 0s 109us/step - loss: 561.8328 - mae: 21.7611 - acc: 0.0000e+00 - val_loss: 492.5004 - val_mae: 20.8797 - val_acc: 0.0000e+00\n",
      "Epoch 5/500\n",
      "303/303 [==============================] - 0s 77us/step - loss: 542.9723 - mae: 21.3455 - acc: 0.0000e+00 - val_loss: 470.7279 - val_mae: 20.3746 - val_acc: 0.0000e+00\n",
      "Epoch 6/500\n",
      "303/303 [==============================] - 0s 89us/step - loss: 515.8545 - mae: 20.7315 - acc: 0.0000e+00 - val_loss: 439.9319 - val_mae: 19.6373 - val_acc: 0.0000e+00\n",
      "Epoch 7/500\n",
      "303/303 [==============================] - 0s 109us/step - loss: 479.0115 - mae: 19.8659 - acc: 0.0000e+00 - val_loss: 398.2288 - val_mae: 18.5865 - val_acc: 0.0000e+00\n",
      "Epoch 8/500\n",
      "303/303 [==============================] - 0s 97us/step - loss: 430.0166 - mae: 18.6329 - acc: 0.0099 - val_loss: 343.6258 - val_mae: 17.1061 - val_acc: 0.0000e+00\n",
      "Epoch 9/500\n",
      "303/303 [==============================] - 0s 95us/step - loss: 365.0402 - mae: 16.9794 - acc: 0.0000e+00 - val_loss: 275.1646 - val_mae: 15.0789 - val_acc: 0.0000e+00\n",
      "Epoch 10/500\n",
      "303/303 [==============================] - 0s 80us/step - loss: 286.8008 - mae: 14.8538 - acc: 0.0000e+00 - val_loss: 197.1502 - val_mae: 12.5943 - val_acc: 0.0000e+00\n",
      "Epoch 11/500\n",
      "303/303 [==============================] - 0s 85us/step - loss: 204.3664 - mae: 12.4272 - acc: 0.0033 - val_loss: 120.4600 - val_mae: 9.7398 - val_acc: 0.0099\n",
      "Epoch 12/500\n",
      "303/303 [==============================] - 0s 77us/step - loss: 128.3915 - mae: 9.7794 - acc: 0.0000e+00 - val_loss: 65.1542 - val_mae: 6.9742 - val_acc: 0.0000e+00\n",
      "Epoch 13/500\n",
      "303/303 [==============================] - 0s 67us/step - loss: 84.7147 - mae: 7.4662 - acc: 0.0066 - val_loss: 49.0349 - val_mae: 5.5162 - val_acc: 0.0099\n",
      "Epoch 14/500\n",
      "303/303 [==============================] - 0s 80us/step - loss: 81.2878 - mae: 6.9190 - acc: 0.0099 - val_loss: 56.4885 - val_mae: 5.9130 - val_acc: 0.0000e+00\n",
      "Epoch 15/500\n",
      "303/303 [==============================] - 0s 80us/step - loss: 89.1181 - mae: 7.2634 - acc: 0.0099 - val_loss: 53.6089 - val_mae: 5.8485 - val_acc: 0.0000e+00\n",
      "Epoch 16/500\n",
      "303/303 [==============================] - 0s 70us/step - loss: 73.3981 - mae: 6.5567 - acc: 0.0066 - val_loss: 41.7494 - val_mae: 5.2412 - val_acc: 0.0000e+00\n",
      "Epoch 17/500\n",
      "303/303 [==============================] - 0s 72us/step - loss: 54.9155 - mae: 5.5557 - acc: 0.0033 - val_loss: 38.2084 - val_mae: 5.0347 - val_acc: 0.0198\n",
      "Epoch 18/500\n",
      "303/303 [==============================] - 0s 55us/step - loss: 47.8910 - mae: 5.0819 - acc: 0.0099 - val_loss: 41.2437 - val_mae: 5.1447 - val_acc: 0.0000e+00\n",
      "Epoch 19/500\n",
      "303/303 [==============================] - 0s 54us/step - loss: 48.6423 - mae: 5.1364 - acc: 0.0132 - val_loss: 42.8015 - val_mae: 5.2711 - val_acc: 0.0000e+00\n",
      "Epoch 20/500\n",
      "303/303 [==============================] - 0s 54us/step - loss: 47.9148 - mae: 5.1231 - acc: 0.0033 - val_loss: 39.0668 - val_mae: 4.9947 - val_acc: 0.0000e+00\n",
      "Epoch 21/500\n",
      "303/303 [==============================] - 0s 42us/step - loss: 43.0310 - mae: 4.7496 - acc: 0.0066 - val_loss: 32.4167 - val_mae: 4.4339 - val_acc: 0.0099\n",
      "Epoch 22/500\n",
      "303/303 [==============================] - 0s 45us/step - loss: 36.9104 - mae: 4.2530 - acc: 0.0099 - val_loss: 27.2354 - val_mae: 4.0108 - val_acc: 0.0396\n",
      "Epoch 23/500\n",
      "303/303 [==============================] - 0s 57us/step - loss: 33.8910 - mae: 3.9770 - acc: 0.0165 - val_loss: 25.0271 - val_mae: 3.8453 - val_acc: 0.0099\n",
      "Epoch 24/500\n",
      "303/303 [==============================] - 0s 64us/step - loss: 33.4640 - mae: 4.0442 - acc: 0.0099 - val_loss: 24.3154 - val_mae: 3.8238 - val_acc: 0.0000e+00\n",
      "Epoch 25/500\n",
      "303/303 [==============================] - 0s 57us/step - loss: 32.9068 - mae: 4.0584 - acc: 0.0099 - val_loss: 23.2627 - val_mae: 3.7514 - val_acc: 0.0099\n",
      "Epoch 26/500\n",
      "303/303 [==============================] - 0s 74us/step - loss: 31.1556 - mae: 3.9164 - acc: 0.0198 - val_loss: 22.0696 - val_mae: 3.6080 - val_acc: 0.0198\n",
      "Epoch 27/500\n",
      "303/303 [==============================] - 0s 60us/step - loss: 29.5884 - mae: 3.7672 - acc: 0.0099 - val_loss: 21.6454 - val_mae: 3.5296 - val_acc: 0.0000e+00\n",
      "Epoch 28/500\n",
      "303/303 [==============================] - 0s 79us/step - loss: 28.7824 - mae: 3.6967 - acc: 0.0033 - val_loss: 21.5794 - val_mae: 3.5032 - val_acc: 0.0000e+00\n",
      "Epoch 29/500\n",
      "303/303 [==============================] - 0s 65us/step - loss: 28.2771 - mae: 3.6520 - acc: 0.0000e+00 - val_loss: 21.4139 - val_mae: 3.4788 - val_acc: 0.0000e+00\n",
      "Epoch 30/500\n",
      "303/303 [==============================] - 0s 70us/step - loss: 27.4376 - mae: 3.5784 - acc: 0.0033 - val_loss: 20.9341 - val_mae: 3.4509 - val_acc: 0.0099\n",
      "Epoch 31/500\n",
      "303/303 [==============================] - 0s 72us/step - loss: 26.5877 - mae: 3.5226 - acc: 0.0132 - val_loss: 20.5385 - val_mae: 3.4393 - val_acc: 0.0198\n",
      "Epoch 32/500\n",
      "303/303 [==============================] - 0s 65us/step - loss: 25.8753 - mae: 3.4821 - acc: 0.0297 - val_loss: 20.3249 - val_mae: 3.4429 - val_acc: 0.0099\n",
      "Epoch 33/500\n",
      "303/303 [==============================] - 0s 77us/step - loss: 25.4427 - mae: 3.4490 - acc: 0.0297 - val_loss: 20.1287 - val_mae: 3.4302 - val_acc: 0.0099\n",
      "Epoch 34/500\n",
      "303/303 [==============================] - 0s 67us/step - loss: 25.0427 - mae: 3.4181 - acc: 0.0264 - val_loss: 19.8492 - val_mae: 3.4053 - val_acc: 0.0099\n",
      "Epoch 35/500\n",
      "303/303 [==============================] - 0s 114us/step - loss: 24.5821 - mae: 3.3776 - acc: 0.0264 - val_loss: 19.5547 - val_mae: 3.3712 - val_acc: 0.0198\n",
      "Epoch 36/500\n",
      "303/303 [==============================] - 0s 90us/step - loss: 24.2145 - mae: 3.3392 - acc: 0.0264 - val_loss: 19.2359 - val_mae: 3.3432 - val_acc: 0.0198\n",
      "Epoch 37/500\n",
      "303/303 [==============================] - 0s 67us/step - loss: 23.7933 - mae: 3.3074 - acc: 0.0198 - val_loss: 18.9759 - val_mae: 3.3219 - val_acc: 0.0198\n",
      "Epoch 38/500\n",
      "303/303 [==============================] - 0s 64us/step - loss: 23.4761 - mae: 3.2837 - acc: 0.0231 - val_loss: 18.7958 - val_mae: 3.3000 - val_acc: 0.0198\n",
      "Epoch 39/500\n",
      "303/303 [==============================] - 0s 92us/step - loss: 23.1029 - mae: 3.2568 - acc: 0.0264 - val_loss: 18.5607 - val_mae: 3.2899 - val_acc: 0.0198\n",
      "Epoch 40/500\n",
      "303/303 [==============================] - 0s 74us/step - loss: 22.7850 - mae: 3.2415 - acc: 0.0231 - val_loss: 18.4269 - val_mae: 3.2891 - val_acc: 0.0099\n",
      "Epoch 41/500\n",
      "303/303 [==============================] - 0s 64us/step - loss: 22.4507 - mae: 3.2229 - acc: 0.0264 - val_loss: 18.3079 - val_mae: 3.2835 - val_acc: 0.0099\n",
      "Epoch 42/500\n",
      "303/303 [==============================] - 0s 72us/step - loss: 22.2071 - mae: 3.2055 - acc: 0.0264 - val_loss: 18.1431 - val_mae: 3.2618 - val_acc: 0.0099\n",
      "Epoch 43/500\n",
      "303/303 [==============================] - 0s 55us/step - loss: 21.9029 - mae: 3.1749 - acc: 0.0231 - val_loss: 17.9627 - val_mae: 3.2391 - val_acc: 0.0099\n",
      "Epoch 44/500\n",
      "303/303 [==============================] - 0s 69us/step - loss: 21.6616 - mae: 3.1503 - acc: 0.0231 - val_loss: 17.8008 - val_mae: 3.2221 - val_acc: 0.0099\n",
      "Epoch 45/500\n",
      "303/303 [==============================] - 0s 65us/step - loss: 21.3368 - mae: 3.1290 - acc: 0.0231 - val_loss: 17.6249 - val_mae: 3.2119 - val_acc: 0.0099\n",
      "Epoch 46/500\n",
      "303/303 [==============================] - 0s 60us/step - loss: 21.1460 - mae: 3.1164 - acc: 0.0231 - val_loss: 17.5447 - val_mae: 3.2047 - val_acc: 0.0099\n",
      "Epoch 47/500\n",
      "303/303 [==============================] - 0s 69us/step - loss: 20.8797 - mae: 3.1032 - acc: 0.0198 - val_loss: 17.3700 - val_mae: 3.1969 - val_acc: 0.0099\n",
      "Epoch 48/500\n",
      "303/303 [==============================] - 0s 52us/step - loss: 20.6373 - mae: 3.0953 - acc: 0.0198 - val_loss: 17.2051 - val_mae: 3.1849 - val_acc: 0.0000e+00\n",
      "Epoch 49/500\n",
      "303/303 [==============================] - 0s 69us/step - loss: 20.3943 - mae: 3.0797 - acc: 0.0198 - val_loss: 17.0384 - val_mae: 3.1622 - val_acc: 0.0099\n",
      "Epoch 50/500\n",
      "303/303 [==============================] - 0s 80us/step - loss: 20.1904 - mae: 3.0602 - acc: 0.0198 - val_loss: 16.8862 - val_mae: 3.1407 - val_acc: 0.0099\n",
      "Epoch 51/500\n",
      "303/303 [==============================] - 0s 67us/step - loss: 19.9841 - mae: 3.0413 - acc: 0.0165 - val_loss: 16.7646 - val_mae: 3.1309 - val_acc: 0.0000e+00\n",
      "Epoch 52/500\n",
      "303/303 [==============================] - 0s 64us/step - loss: 19.7721 - mae: 3.0299 - acc: 0.0165 - val_loss: 16.6211 - val_mae: 3.1174 - val_acc: 0.0000e+00\n",
      "Epoch 53/500\n",
      "303/303 [==============================] - 0s 67us/step - loss: 19.5889 - mae: 3.0170 - acc: 0.0165 - val_loss: 16.5391 - val_mae: 3.1110 - val_acc: 0.0000e+00\n",
      "Epoch 54/500\n",
      "303/303 [==============================] - 0s 60us/step - loss: 19.3664 - mae: 2.9990 - acc: 0.0165 - val_loss: 16.4261 - val_mae: 3.1005 - val_acc: 0.0000e+00\n",
      "Epoch 55/500\n",
      "303/303 [==============================] - 0s 54us/step - loss: 19.1698 - mae: 2.9885 - acc: 0.0165 - val_loss: 16.3011 - val_mae: 3.0904 - val_acc: 0.0000e+00\n",
      "Epoch 56/500\n",
      "303/303 [==============================] - 0s 65us/step - loss: 19.0201 - mae: 2.9880 - acc: 0.0231 - val_loss: 16.1866 - val_mae: 3.0815 - val_acc: 0.0000e+00\n",
      "Epoch 57/500\n",
      "303/303 [==============================] - 0s 65us/step - loss: 18.8411 - mae: 2.9723 - acc: 0.0231 - val_loss: 16.0596 - val_mae: 3.0593 - val_acc: 0.0000e+00\n",
      "Epoch 58/500\n",
      "303/303 [==============================] - 0s 65us/step - loss: 18.6345 - mae: 2.9512 - acc: 0.0165 - val_loss: 15.9521 - val_mae: 3.0433 - val_acc: 0.0000e+00\n",
      "Epoch 59/500\n",
      "303/303 [==============================] - 0s 104us/step - loss: 18.5088 - mae: 2.9357 - acc: 0.0231 - val_loss: 15.8452 - val_mae: 3.0255 - val_acc: 0.0000e+00\n",
      "Epoch 60/500\n",
      "303/303 [==============================] - 0s 80us/step - loss: 18.3265 - mae: 2.9162 - acc: 0.0231 - val_loss: 15.7507 - val_mae: 3.0207 - val_acc: 0.0000e+00\n",
      "Epoch 61/500\n",
      "303/303 [==============================] - 0s 87us/step - loss: 18.1654 - mae: 2.9161 - acc: 0.0264 - val_loss: 15.6778 - val_mae: 3.0218 - val_acc: 0.0000e+00\n",
      "Epoch 62/500\n",
      "303/303 [==============================] - 0s 84us/step - loss: 17.9765 - mae: 2.9141 - acc: 0.0264 - val_loss: 15.5956 - val_mae: 3.0131 - val_acc: 0.0000e+00\n",
      "Epoch 63/500\n",
      "303/303 [==============================] - 0s 121us/step - loss: 17.8174 - mae: 2.9003 - acc: 0.0264 - val_loss: 15.4368 - val_mae: 2.9887 - val_acc: 0.0000e+00\n",
      "Epoch 64/500\n",
      "303/303 [==============================] - 0s 107us/step - loss: 17.6448 - mae: 2.8802 - acc: 0.0264 - val_loss: 15.3283 - val_mae: 2.9702 - val_acc: 0.0000e+00\n",
      "Epoch 65/500\n",
      "303/303 [==============================] - 0s 82us/step - loss: 17.5342 - mae: 2.8615 - acc: 0.0231 - val_loss: 15.2692 - val_mae: 2.9561 - val_acc: 0.0000e+00\n",
      "Epoch 66/500\n",
      "303/303 [==============================] - 0s 129us/step - loss: 17.3998 - mae: 2.8426 - acc: 0.0231 - val_loss: 15.1880 - val_mae: 2.9492 - val_acc: 0.0000e+00\n",
      "Epoch 67/500\n",
      "303/303 [==============================] - 0s 74us/step - loss: 17.2176 - mae: 2.8391 - acc: 0.0231 - val_loss: 15.1041 - val_mae: 2.9461 - val_acc: 0.0000e+00\n",
      "Epoch 68/500\n",
      "303/303 [==============================] - 0s 69us/step - loss: 17.1298 - mae: 2.8440 - acc: 0.0231 - val_loss: 15.0659 - val_mae: 2.9457 - val_acc: 0.0000e+00\n",
      "Epoch 69/500\n",
      "303/303 [==============================] - 0s 64us/step - loss: 16.9720 - mae: 2.8343 - acc: 0.0264 - val_loss: 14.9927 - val_mae: 2.9380 - val_acc: 0.0000e+00\n",
      "Epoch 70/500\n",
      "303/303 [==============================] - 0s 67us/step - loss: 16.8747 - mae: 2.8327 - acc: 0.0231 - val_loss: 14.9707 - val_mae: 2.9398 - val_acc: 0.0000e+00\n",
      "Epoch 71/500\n",
      "303/303 [==============================] - 0s 67us/step - loss: 16.7323 - mae: 2.8269 - acc: 0.0231 - val_loss: 14.9375 - val_mae: 2.9317 - val_acc: 0.0000e+00\n",
      "Epoch 72/500\n",
      "303/303 [==============================] - 0s 67us/step - loss: 16.5692 - mae: 2.8055 - acc: 0.0198 - val_loss: 14.8562 - val_mae: 2.9167 - val_acc: 0.0000e+00\n",
      "Epoch 73/500\n",
      "303/303 [==============================] - 0s 54us/step - loss: 16.4474 - mae: 2.7845 - acc: 0.0264 - val_loss: 14.7793 - val_mae: 2.9070 - val_acc: 0.0000e+00\n",
      "Epoch 74/500\n",
      "303/303 [==============================] - 0s 64us/step - loss: 16.3210 - mae: 2.7806 - acc: 0.0231 - val_loss: 14.7361 - val_mae: 2.9096 - val_acc: 0.0000e+00\n",
      "Epoch 75/500\n",
      "303/303 [==============================] - 0s 65us/step - loss: 16.2001 - mae: 2.7803 - acc: 0.0231 - val_loss: 14.6636 - val_mae: 2.9046 - val_acc: 0.0000e+00\n",
      "Epoch 76/500\n",
      "303/303 [==============================] - 0s 65us/step - loss: 16.1418 - mae: 2.7728 - acc: 0.0198 - val_loss: 14.6016 - val_mae: 2.8936 - val_acc: 0.0000e+00\n",
      "Epoch 77/500\n",
      "303/303 [==============================] - 0s 59us/step - loss: 16.0038 - mae: 2.7565 - acc: 0.0264 - val_loss: 14.4698 - val_mae: 2.8811 - val_acc: 0.0000e+00\n",
      "Epoch 78/500\n",
      "303/303 [==============================] - 0s 69us/step - loss: 15.8572 - mae: 2.7517 - acc: 0.0231 - val_loss: 14.4575 - val_mae: 2.8825 - val_acc: 0.0000e+00\n",
      "Epoch 79/500\n",
      "303/303 [==============================] - 0s 69us/step - loss: 15.7594 - mae: 2.7534 - acc: 0.0231 - val_loss: 14.4852 - val_mae: 2.8908 - val_acc: 0.0000e+00\n",
      "Epoch 80/500\n",
      "303/303 [==============================] - 0s 59us/step - loss: 15.6396 - mae: 2.7463 - acc: 0.0231 - val_loss: 14.4118 - val_mae: 2.8796 - val_acc: 0.0000e+00\n",
      "Epoch 81/500\n",
      "303/303 [==============================] - 0s 64us/step - loss: 15.5278 - mae: 2.7373 - acc: 0.0165 - val_loss: 14.3502 - val_mae: 2.8690 - val_acc: 0.0000e+00\n",
      "Epoch 82/500\n",
      "303/303 [==============================] - 0s 54us/step - loss: 15.4234 - mae: 2.7286 - acc: 0.0297 - val_loss: 14.2886 - val_mae: 2.8608 - val_acc: 0.0000e+00\n",
      "Epoch 83/500\n",
      "303/303 [==============================] - 0s 72us/step - loss: 15.3457 - mae: 2.7159 - acc: 0.0297 - val_loss: 14.3183 - val_mae: 2.8641 - val_acc: 0.0000e+00\n",
      "Epoch 84/500\n",
      "303/303 [==============================] - 0s 62us/step - loss: 15.1853 - mae: 2.7105 - acc: 0.0132 - val_loss: 14.3694 - val_mae: 2.8694 - val_acc: 0.0000e+00\n",
      "Epoch 85/500\n",
      "303/303 [==============================] - 0s 72us/step - loss: 15.1182 - mae: 2.7092 - acc: 0.0132 - val_loss: 14.3485 - val_mae: 2.8667 - val_acc: 0.0099\n",
      "Epoch 86/500\n",
      "303/303 [==============================] - 0s 75us/step - loss: 15.0094 - mae: 2.6954 - acc: 0.0165 - val_loss: 14.2087 - val_mae: 2.8506 - val_acc: 0.0000e+00\n",
      "Epoch 87/500\n",
      "303/303 [==============================] - 0s 70us/step - loss: 14.9020 - mae: 2.6799 - acc: 0.0165 - val_loss: 14.0748 - val_mae: 2.8373 - val_acc: 0.0000e+00\n",
      "Epoch 88/500\n",
      "303/303 [==============================] - 0s 69us/step - loss: 14.7683 - mae: 2.6674 - acc: 0.0165 - val_loss: 14.0615 - val_mae: 2.8344 - val_acc: 0.0099\n",
      "Epoch 89/500\n",
      "303/303 [==============================] - 0s 62us/step - loss: 14.6258 - mae: 2.6662 - acc: 0.0165 - val_loss: 13.9920 - val_mae: 2.8248 - val_acc: 0.0099\n",
      "Epoch 90/500\n",
      "303/303 [==============================] - 0s 69us/step - loss: 14.5622 - mae: 2.6635 - acc: 0.0165 - val_loss: 13.9974 - val_mae: 2.8276 - val_acc: 0.0099\n",
      "Epoch 91/500\n",
      "303/303 [==============================] - 0s 60us/step - loss: 14.4382 - mae: 2.6508 - acc: 0.0165 - val_loss: 13.9605 - val_mae: 2.8198 - val_acc: 0.0099\n",
      "Epoch 92/500\n",
      "303/303 [==============================] - 0s 62us/step - loss: 14.3319 - mae: 2.6376 - acc: 0.0165 - val_loss: 13.8494 - val_mae: 2.8064 - val_acc: 0.0099\n",
      "Epoch 93/500\n",
      "303/303 [==============================] - 0s 64us/step - loss: 14.2292 - mae: 2.6256 - acc: 0.0165 - val_loss: 13.7636 - val_mae: 2.7967 - val_acc: 0.0099\n",
      "Epoch 94/500\n",
      "303/303 [==============================] - 0s 70us/step - loss: 14.1157 - mae: 2.6180 - acc: 0.0165 - val_loss: 13.6595 - val_mae: 2.7817 - val_acc: 0.0099\n",
      "Epoch 95/500\n",
      "303/303 [==============================] - 0s 62us/step - loss: 14.0224 - mae: 2.6090 - acc: 0.0165 - val_loss: 13.6558 - val_mae: 2.7805 - val_acc: 0.0099\n",
      "Epoch 96/500\n",
      "303/303 [==============================] - 0s 69us/step - loss: 13.9009 - mae: 2.6031 - acc: 0.0198 - val_loss: 13.6594 - val_mae: 2.7765 - val_acc: 0.0099\n",
      "Epoch 97/500\n",
      "303/303 [==============================] - 0s 69us/step - loss: 13.8053 - mae: 2.5918 - acc: 0.0198 - val_loss: 13.5995 - val_mae: 2.7676 - val_acc: 0.0099\n",
      "Epoch 98/500\n",
      "303/303 [==============================] - 0s 69us/step - loss: 13.6964 - mae: 2.5805 - acc: 0.0198 - val_loss: 13.5537 - val_mae: 2.7616 - val_acc: 0.0099\n",
      "Epoch 99/500\n",
      "303/303 [==============================] - 0s 60us/step - loss: 13.6087 - mae: 2.5771 - acc: 0.0198 - val_loss: 13.6320 - val_mae: 2.7654 - val_acc: 0.0099\n",
      "Epoch 100/500\n",
      "303/303 [==============================] - 0s 69us/step - loss: 13.5204 - mae: 2.5719 - acc: 0.0165 - val_loss: 13.6036 - val_mae: 2.7633 - val_acc: 0.0099\n",
      "Epoch 101/500\n",
      "303/303 [==============================] - 0s 75us/step - loss: 13.4063 - mae: 2.5607 - acc: 0.0165 - val_loss: 13.5528 - val_mae: 2.7571 - val_acc: 0.0099\n",
      "Epoch 102/500\n",
      "303/303 [==============================] - 0s 60us/step - loss: 13.3359 - mae: 2.5581 - acc: 0.0198 - val_loss: 13.5973 - val_mae: 2.7537 - val_acc: 0.0099\n",
      "Epoch 103/500\n",
      "303/303 [==============================] - 0s 55us/step - loss: 13.1983 - mae: 2.5422 - acc: 0.0198 - val_loss: 13.4366 - val_mae: 2.7355 - val_acc: 0.0099\n",
      "Epoch 104/500\n",
      "303/303 [==============================] - 0s 65us/step - loss: 13.1140 - mae: 2.5293 - acc: 0.0198 - val_loss: 13.3700 - val_mae: 2.7239 - val_acc: 0.0099\n",
      "Epoch 105/500\n",
      "303/303 [==============================] - 0s 67us/step - loss: 13.0241 - mae: 2.5202 - acc: 0.0198 - val_loss: 13.3830 - val_mae: 2.7224 - val_acc: 0.0099\n",
      "Epoch 106/500\n",
      "303/303 [==============================] - 0s 60us/step - loss: 12.9141 - mae: 2.5137 - acc: 0.0165 - val_loss: 13.3344 - val_mae: 2.7157 - val_acc: 0.0099\n",
      "Epoch 107/500\n",
      "303/303 [==============================] - 0s 62us/step - loss: 12.8300 - mae: 2.5083 - acc: 0.0165 - val_loss: 13.3935 - val_mae: 2.7164 - val_acc: 0.0099\n",
      "Epoch 108/500\n",
      "303/303 [==============================] - 0s 62us/step - loss: 12.7577 - mae: 2.5034 - acc: 0.0198 - val_loss: 13.2597 - val_mae: 2.7009 - val_acc: 0.0099\n",
      "Epoch 109/500\n",
      "303/303 [==============================] - 0s 64us/step - loss: 12.6842 - mae: 2.4914 - acc: 0.0198 - val_loss: 13.2370 - val_mae: 2.6922 - val_acc: 0.0099\n",
      "Epoch 110/500\n",
      "303/303 [==============================] - 0s 75us/step - loss: 12.5993 - mae: 2.4854 - acc: 0.0198 - val_loss: 13.3261 - val_mae: 2.6950 - val_acc: 0.0099\n",
      "Epoch 111/500\n",
      "303/303 [==============================] - 0s 84us/step - loss: 12.4555 - mae: 2.4728 - acc: 0.0198 - val_loss: 13.2506 - val_mae: 2.6849 - val_acc: 0.0099\n",
      "Epoch 112/500\n",
      "303/303 [==============================] - 0s 59us/step - loss: 12.3902 - mae: 2.4579 - acc: 0.0132 - val_loss: 13.1570 - val_mae: 2.6734 - val_acc: 0.0099\n",
      "Epoch 113/500\n",
      "303/303 [==============================] - 0s 87us/step - loss: 12.3713 - mae: 2.4514 - acc: 0.0198 - val_loss: 12.9602 - val_mae: 2.6520 - val_acc: 0.0099\n",
      "Epoch 114/500\n",
      "303/303 [==============================] - 0s 75us/step - loss: 12.2311 - mae: 2.4372 - acc: 0.0231 - val_loss: 12.9614 - val_mae: 2.6397 - val_acc: 0.0099\n",
      "Epoch 115/500\n",
      "303/303 [==============================] - 0s 69us/step - loss: 12.1658 - mae: 2.4404 - acc: 0.0198 - val_loss: 12.8769 - val_mae: 2.6307 - val_acc: 0.0099\n",
      "Epoch 116/500\n",
      "303/303 [==============================] - 0s 60us/step - loss: 12.0000 - mae: 2.4169 - acc: 0.0165 - val_loss: 12.9070 - val_mae: 2.6328 - val_acc: 0.0099\n",
      "Epoch 117/500\n",
      "303/303 [==============================] - ETA: 0s - loss: 6.3246 - mae: 1.9534 - acc: 0.039 - 0s 89us/step - loss: 11.9381 - mae: 2.4111 - acc: 0.0165 - val_loss: 12.9500 - val_mae: 2.6327 - val_acc: 0.0099\n",
      "Epoch 118/500\n",
      "303/303 [==============================] - 0s 111us/step - loss: 11.9133 - mae: 2.4130 - acc: 0.0198 - val_loss: 12.8757 - val_mae: 2.6201 - val_acc: 0.0099\n",
      "Epoch 119/500\n",
      "303/303 [==============================] - 0s 77us/step - loss: 11.7667 - mae: 2.3939 - acc: 0.0198 - val_loss: 12.9755 - val_mae: 2.6239 - val_acc: 0.0000e+00\n",
      "Epoch 120/500\n",
      "303/303 [==============================] - 0s 74us/step - loss: 11.7271 - mae: 2.3943 - acc: 0.0198 - val_loss: 12.9185 - val_mae: 2.6138 - val_acc: 0.0099\n",
      "Epoch 121/500\n",
      "303/303 [==============================] - 0s 65us/step - loss: 11.6226 - mae: 2.3851 - acc: 0.0198 - val_loss: 12.8786 - val_mae: 2.6068 - val_acc: 0.0099\n",
      "Epoch 122/500\n",
      "303/303 [==============================] - 0s 67us/step - loss: 11.5892 - mae: 2.3839 - acc: 0.0198 - val_loss: 12.8473 - val_mae: 2.5991 - val_acc: 0.0099\n",
      "Epoch 123/500\n",
      "303/303 [==============================] - 0s 49us/step - loss: 11.4547 - mae: 2.3682 - acc: 0.0165 - val_loss: 12.9020 - val_mae: 2.6027 - val_acc: 0.0099\n",
      "Epoch 124/500\n",
      "303/303 [==============================] - 0s 59us/step - loss: 11.5103 - mae: 2.3722 - acc: 0.0165 - val_loss: 13.0435 - val_mae: 2.6085 - val_acc: 0.0000e+00\n",
      "Epoch 125/500\n",
      "303/303 [==============================] - 0s 52us/step - loss: 11.3543 - mae: 2.3579 - acc: 0.0165 - val_loss: 12.8450 - val_mae: 2.5865 - val_acc: 0.0099\n",
      "Epoch 126/500\n",
      "303/303 [==============================] - 0s 50us/step - loss: 11.2533 - mae: 2.3476 - acc: 0.0198 - val_loss: 12.7170 - val_mae: 2.5659 - val_acc: 0.0099\n",
      "Epoch 127/500\n",
      "303/303 [==============================] - 0s 59us/step - loss: 11.1547 - mae: 2.3361 - acc: 0.0198 - val_loss: 12.7307 - val_mae: 2.5670 - val_acc: 0.0099\n",
      "Epoch 128/500\n",
      "303/303 [==============================] - 0s 65us/step - loss: 11.0713 - mae: 2.3304 - acc: 0.0198 - val_loss: 12.8178 - val_mae: 2.5720 - val_acc: 0.0000e+00\n",
      "Epoch 129/500\n",
      "303/303 [==============================] - 0s 69us/step - loss: 10.9960 - mae: 2.3221 - acc: 0.0165 - val_loss: 12.6704 - val_mae: 2.5521 - val_acc: 0.0000e+00\n",
      "Epoch 130/500\n",
      "303/303 [==============================] - 0s 119us/step - loss: 10.9551 - mae: 2.3208 - acc: 0.0165 - val_loss: 12.7036 - val_mae: 2.5569 - val_acc: 0.0099\n",
      "Epoch 131/500\n",
      "303/303 [==============================] - 0s 89us/step - loss: 10.9181 - mae: 2.3144 - acc: 0.0198 - val_loss: 12.7922 - val_mae: 2.5615 - val_acc: 0.0099\n",
      "Epoch 132/500\n",
      "303/303 [==============================] - 0s 84us/step - loss: 10.8262 - mae: 2.3145 - acc: 0.0198 - val_loss: 12.8745 - val_mae: 2.5623 - val_acc: 0.0000e+00\n",
      "Epoch 133/500\n",
      "303/303 [==============================] - 0s 67us/step - loss: 10.7336 - mae: 2.3029 - acc: 0.0165 - val_loss: 12.7171 - val_mae: 2.5425 - val_acc: 0.0000e+00\n",
      "Epoch 134/500\n",
      "303/303 [==============================] - 0s 69us/step - loss: 10.6539 - mae: 2.2885 - acc: 0.0198 - val_loss: 12.6313 - val_mae: 2.5329 - val_acc: 0.0000e+00\n",
      "Epoch 135/500\n",
      "303/303 [==============================] - 0s 69us/step - loss: 10.6263 - mae: 2.2832 - acc: 0.0198 - val_loss: 12.5993 - val_mae: 2.5225 - val_acc: 0.0000e+00\n",
      "Epoch 136/500\n",
      "303/303 [==============================] - 0s 59us/step - loss: 10.5502 - mae: 2.2701 - acc: 0.0198 - val_loss: 12.3896 - val_mae: 2.4967 - val_acc: 0.0000e+00\n",
      "Epoch 137/500\n",
      "303/303 [==============================] - 0s 57us/step - loss: 10.4771 - mae: 2.2615 - acc: 0.0231 - val_loss: 12.4233 - val_mae: 2.4957 - val_acc: 0.0000e+00\n",
      "Epoch 138/500\n",
      "303/303 [==============================] - 0s 57us/step - loss: 10.4409 - mae: 2.2604 - acc: 0.0231 - val_loss: 12.5209 - val_mae: 2.5059 - val_acc: 0.0000e+00\n",
      "Epoch 139/500\n",
      "303/303 [==============================] - 0s 57us/step - loss: 10.3606 - mae: 2.2540 - acc: 0.0231 - val_loss: 12.7260 - val_mae: 2.5217 - val_acc: 0.0000e+00\n",
      "Epoch 140/500\n",
      "303/303 [==============================] - 0s 50us/step - loss: 10.4294 - mae: 2.2655 - acc: 0.0231 - val_loss: 12.9391 - val_mae: 2.5378 - val_acc: 0.0000e+00\n",
      "Epoch 141/500\n",
      "303/303 [==============================] - 0s 57us/step - loss: 10.2478 - mae: 2.2497 - acc: 0.0231 - val_loss: 12.7211 - val_mae: 2.5120 - val_acc: 0.0099\n",
      "Epoch 142/500\n",
      "303/303 [==============================] - 0s 57us/step - loss: 10.2050 - mae: 2.2411 - acc: 0.0198 - val_loss: 12.6498 - val_mae: 2.5062 - val_acc: 0.0099\n",
      "Epoch 143/500\n",
      "303/303 [==============================] - 0s 52us/step - loss: 10.1217 - mae: 2.2338 - acc: 0.0198 - val_loss: 12.6842 - val_mae: 2.5061 - val_acc: 0.0000e+00\n",
      "Epoch 144/500\n",
      "303/303 [==============================] - 0s 54us/step - loss: 10.0619 - mae: 2.2254 - acc: 0.0231 - val_loss: 12.7477 - val_mae: 2.5113 - val_acc: 0.0000e+00\n",
      "Epoch 145/500\n",
      "303/303 [==============================] - 0s 57us/step - loss: 10.0067 - mae: 2.2181 - acc: 0.0198 - val_loss: 12.5846 - val_mae: 2.4867 - val_acc: 0.0000e+00\n",
      "Epoch 146/500\n",
      "303/303 [==============================] - 0s 62us/step - loss: 10.0577 - mae: 2.2150 - acc: 0.0198 - val_loss: 12.4245 - val_mae: 2.4734 - val_acc: 0.0099\n",
      "Epoch 147/500\n",
      "303/303 [==============================] - 0s 57us/step - loss: 9.8878 - mae: 2.1985 - acc: 0.0231 - val_loss: 12.3964 - val_mae: 2.4616 - val_acc: 0.0099\n",
      "Epoch 148/500\n",
      "303/303 [==============================] - 0s 55us/step - loss: 9.8817 - mae: 2.1994 - acc: 0.0231 - val_loss: 12.3817 - val_mae: 2.4609 - val_acc: 0.0099\n",
      "Epoch 149/500\n",
      "303/303 [==============================] - 0s 49us/step - loss: 9.8271 - mae: 2.1962 - acc: 0.0264 - val_loss: 12.5843 - val_mae: 2.4765 - val_acc: 0.0099\n",
      "Epoch 150/500\n",
      "303/303 [==============================] - 0s 65us/step - loss: 9.7368 - mae: 2.1812 - acc: 0.0264 - val_loss: 12.6171 - val_mae: 2.4839 - val_acc: 0.0099\n",
      "Epoch 151/500\n",
      "303/303 [==============================] - 0s 60us/step - loss: 9.7574 - mae: 2.1875 - acc: 0.0132 - val_loss: 12.5764 - val_mae: 2.4823 - val_acc: 0.0099\n",
      "Epoch 152/500\n",
      "303/303 [==============================] - 0s 60us/step - loss: 9.6448 - mae: 2.1730 - acc: 0.0231 - val_loss: 12.4935 - val_mae: 2.4604 - val_acc: 0.0099\n",
      "Epoch 153/500\n",
      "303/303 [==============================] - 0s 54us/step - loss: 9.5680 - mae: 2.1620 - acc: 0.0231 - val_loss: 12.4981 - val_mae: 2.4537 - val_acc: 0.0099\n",
      "Epoch 154/500\n",
      "303/303 [==============================] - 0s 54us/step - loss: 9.7258 - mae: 2.1820 - acc: 0.0231 - val_loss: 12.3877 - val_mae: 2.4453 - val_acc: 0.0198\n",
      "Epoch 155/500\n",
      "303/303 [==============================] - 0s 49us/step - loss: 9.6082 - mae: 2.1645 - acc: 0.0231 - val_loss: 12.9982 - val_mae: 2.5118 - val_acc: 0.0099\n",
      "Epoch 156/500\n",
      "303/303 [==============================] - 0s 54us/step - loss: 9.5149 - mae: 2.1644 - acc: 0.0165 - val_loss: 12.9045 - val_mae: 2.4982 - val_acc: 0.0099\n",
      "Epoch 157/500\n",
      "303/303 [==============================] - 0s 50us/step - loss: 9.4443 - mae: 2.1545 - acc: 0.0132 - val_loss: 12.6371 - val_mae: 2.4558 - val_acc: 0.0198\n",
      "Epoch 158/500\n",
      "303/303 [==============================] - 0s 60us/step - loss: 9.4179 - mae: 2.1415 - acc: 0.0231 - val_loss: 12.4146 - val_mae: 2.4346 - val_acc: 0.0198\n",
      "Epoch 159/500\n",
      "303/303 [==============================] - 0s 55us/step - loss: 9.3607 - mae: 2.1331 - acc: 0.0231 - val_loss: 12.8204 - val_mae: 2.4735 - val_acc: 0.0099\n",
      "Epoch 160/500\n",
      "303/303 [==============================] - 0s 57us/step - loss: 9.3211 - mae: 2.1250 - acc: 0.0231 - val_loss: 12.7155 - val_mae: 2.4634 - val_acc: 0.0099\n",
      "Epoch 161/500\n",
      "303/303 [==============================] - 0s 52us/step - loss: 9.2187 - mae: 2.1198 - acc: 0.0231 - val_loss: 12.5858 - val_mae: 2.4444 - val_acc: 0.0297\n",
      "Epoch 162/500\n",
      "303/303 [==============================] - 0s 54us/step - loss: 9.1908 - mae: 2.1163 - acc: 0.0231 - val_loss: 12.5047 - val_mae: 2.4289 - val_acc: 0.0099\n",
      "Epoch 163/500\n",
      "303/303 [==============================] - 0s 54us/step - loss: 9.1348 - mae: 2.0993 - acc: 0.0231 - val_loss: 12.6705 - val_mae: 2.4461 - val_acc: 0.0099\n",
      "Epoch 164/500\n",
      "303/303 [==============================] - 0s 59us/step - loss: 9.0579 - mae: 2.0926 - acc: 0.0231 - val_loss: 12.7831 - val_mae: 2.4539 - val_acc: 0.0099\n",
      "Epoch 165/500\n",
      "303/303 [==============================] - 0s 54us/step - loss: 9.0253 - mae: 2.0930 - acc: 0.0231 - val_loss: 12.6899 - val_mae: 2.4428 - val_acc: 0.0297\n",
      "Epoch 166/500\n",
      "303/303 [==============================] - 0s 52us/step - loss: 9.0206 - mae: 2.0935 - acc: 0.0231 - val_loss: 12.7371 - val_mae: 2.4445 - val_acc: 0.0099\n",
      "Epoch 167/500\n",
      "303/303 [==============================] - 0s 47us/step - loss: 8.9770 - mae: 2.0868 - acc: 0.0231 - val_loss: 12.6111 - val_mae: 2.4299 - val_acc: 0.0198\n",
      "Epoch 168/500\n",
      "303/303 [==============================] - 0s 60us/step - loss: 8.9711 - mae: 2.0738 - acc: 0.0297 - val_loss: 12.8610 - val_mae: 2.4514 - val_acc: 0.0099\n",
      "Restoring model weights from the end of the best epoch\n",
      "Epoch 00168: early stopping\n"
     ]
    }
   ],
   "source": [
    "history3 = model3.fit(inputs_train_scaled, outputs_train, epochs=500, batch_size=101, validation_split=0.25, callbacks=[earlystop])"
   ]
  },
  {
   "cell_type": "markdown",
   "metadata": {},
   "source": [
    "This is a noticeable improvement over the first model. It is converging more quickly, but perhaps we should increase the number of epochs to assess its accuracy."
   ]
  },
  {
   "cell_type": "code",
   "execution_count": 58,
   "metadata": {},
   "outputs": [
    {
     "name": "stdout",
     "output_type": "stream",
     "text": [
      "This model evaluates as:\n",
      "* Loss: 13.050370496862074\n",
      "* MAE: 2.6320815086364746\n",
      "* Accuracy: 0.009803921915590763\n"
     ]
    }
   ],
   "source": [
    "evaluate3 = []\n",
    "evaluator(evaluate3, model3)"
   ]
  },
  {
   "cell_type": "code",
   "execution_count": 59,
   "metadata": {},
   "outputs": [
    {
     "name": "stderr",
     "output_type": "stream",
     "text": [
      "C:\\Users\\Peter\\AppData\\Local\\Continuum\\anaconda3\\lib\\site-packages\\ipykernel_launcher.py:3: FutureWarning: Method .as_matrix will be removed in a future version. Use .values instead.\n",
      "  This is separate from the ipykernel package so we can avoid doing imports until\n"
     ]
    },
    {
     "name": "stdout",
     "output_type": "stream",
     "text": [
      "This model predicts as:\n",
      "* Predicted Value: 18.315147\n",
      "* Actual value: 17.4\n"
     ]
    }
   ],
   "source": [
    "predict3 = []\n",
    "predictor(predict3, model3)"
   ]
  },
  {
   "cell_type": "markdown",
   "metadata": {},
   "source": [
    "##### Results"
   ]
  },
  {
   "cell_type": "markdown",
   "metadata": {},
   "source": [
    "Deepening the model by adding another hidden layer has helped to increase the accuracy - therefore we can be reasonably confident that deeping the model is effective. "
   ]
  },
  {
   "cell_type": "markdown",
   "metadata": {},
   "source": [
    "##### Next Section"
   ]
  },
  {
   "cell_type": "code",
   "execution_count": 60,
   "metadata": {},
   "outputs": [
    {
     "name": "stdout",
     "output_type": "stream",
     "text": [
      "dict_keys(['val_loss', 'val_mae', 'val_acc', 'loss', 'mae', 'acc'])\n"
     ]
    }
   ],
   "source": [
    "print(history1.history.keys())"
   ]
  },
  {
   "cell_type": "code",
   "execution_count": 61,
   "metadata": {},
   "outputs": [
    {
     "name": "stdout",
     "output_type": "stream",
     "text": [
      "102/102 [==============================] - 0s 80us/step\n",
      "[15.324186175477271, 2.899630069732666, 0.009803921915590763]\n",
      "102/102 [==============================] - 0s 85us/step\n",
      "[17.33129628499349, 3.0244550704956055, 0.009803921915590763]\n",
      "102/102 [==============================] - 0s 134us/step\n",
      "[13.050370496862074, 2.6320815086364746, 0.009803921915590763]\n"
     ]
    }
   ],
   "source": [
    "print(model1.evaluate(inputs_test_scaled, outputs_test))\n",
    "print(model2.evaluate(inputs_test_scaled, outputs_test))\n",
    "print(model3.evaluate(inputs_test_scaled, outputs_test))"
   ]
  },
  {
   "cell_type": "code",
   "execution_count": 62,
   "metadata": {},
   "outputs": [
    {
     "data": {
      "text/plain": [
       "[<matplotlib.lines.Line2D at 0x2dd53e0ef48>]"
      ]
     },
     "execution_count": 62,
     "metadata": {},
     "output_type": "execute_result"
    },
    {
     "data": {
      "image/png": "[encoded data removed]",
      "text/plain": [
       "<Figure size 1440x360 with 1 Axes>"
      ]
     },
     "metadata": {},
     "output_type": "display_data"
    }
   ],
   "source": [
    "plt.figure(figsize=(20,5))\n",
    "plt.plot(history1.history['loss'], color='r')\n",
    "plt.plot(history2.history['loss'], color='g')\n",
    "plt.plot(history3.history['loss'], color='b')"
   ]
  },
  {
   "cell_type": "markdown",
   "metadata": {},
   "source": [
    "*** adjust the below to output what i want"
   ]
  },
  {
   "cell_type": "markdown",
   "metadata": {},
   "source": [
    "*** https://keras.io/visualization/"
   ]
  },
  {
   "cell_type": "markdown",
   "metadata": {},
   "source": [
    "*** https://www.tensorflow.org/guide/keras/train_and_evaluate\n",
    "*** https://stats.stackexchange.com/questions/153531/what-is-batch-size-in-neural-network"
   ]
  }
 ],
 "metadata": {
  "kernelspec": {
   "display_name": "Python 3",
   "language": "python",
   "name": "python3"
  },
  "language_info": {
   "codemirror_mode": {
    "name": "ipython",
    "version": 3
   },
   "file_extension": ".py",
   "mimetype": "text/x-python",
   "name": "python",
   "nbconvert_exporter": "python",
   "pygments_lexer": "ipython3",
   "version": "3.7.5"
  }
 },
 "nbformat": 4,
 "nbformat_minor": 4
}
