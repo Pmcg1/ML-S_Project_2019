{
 "cells": [
  {
   "cell_type": "markdown",
   "metadata": {},
   "source": [
    "# Machine Learning & Statistics Project 2019"
   ]
  },
  {
   "cell_type": "markdown",
   "metadata": {},
   "source": [
    "Peter McGowan\n",
    "G00190832"
   ]
  },
  {
   "cell_type": "markdown",
   "metadata": {},
   "source": [
    "## Introduction\n",
    "This jupyter notebook contains an investigation of the Boston House Prices dataset for the \"Machine-Learnign and Statistics\" Module on the GMIT HDip in Data Analytics."
   ]
  },
  {
   "cell_type": "markdown",
   "metadata": {},
   "source": [
    "## Background\n",
    "***Add background info here***"
   ]
  },
  {
   "cell_type": "markdown",
   "metadata": {},
   "source": [
    "## Starting Off\n",
    "First we will import the required python libraries."
   ]
  },
  {
   "cell_type": "code",
   "execution_count": 1,
   "metadata": {},
   "outputs": [],
   "source": [
    "# Import pandas for managing data\n",
    "# Import scipy.stats for statistical analysis\n",
    "\n",
    "# Import matplotlib.pyplot and seaborn for visualisations\n",
    "import pandas as pd\n",
    "import scipy.stats as ss\n",
    "import statsmodels.stats.weightstats as ws\n",
    "import matplotlib.pyplot as plt\n",
    "import seaborn as sns"
   ]
  },
  {
   "cell_type": "markdown",
   "metadata": {},
   "source": [
    "scikit-learn conveniently provides the Boston House Prices dataset - we will now load it."
   ]
  },
  {
   "cell_type": "markdown",
   "metadata": {},
   "source": [
    "** change this to import from keras?"
   ]
  },
  {
   "cell_type": "code",
   "execution_count": 2,
   "metadata": {},
   "outputs": [],
   "source": [
    "# Load the boston dataset from sklearn\n",
    "from sklearn.datasets import load_boston\n",
    "boston = load_boston()"
   ]
  },
  {
   "cell_type": "markdown",
   "metadata": {},
   "source": [
    "Check the keys of the dataset #Research this"
   ]
  },
  {
   "cell_type": "code",
   "execution_count": 3,
   "metadata": {},
   "outputs": [
    {
     "name": "stdout",
     "output_type": "stream",
     "text": [
      "dict_keys(['data', 'target', 'feature_names', 'DESCR', 'filename'])\n"
     ]
    }
   ],
   "source": [
    "print(boston.keys())"
   ]
  },
  {
   "cell_type": "markdown",
   "metadata": {},
   "source": [
    "The pandas library includes a versatile \"dataframe\" object - an indexed array that helps with managing multi-dimensional data."
   ]
  },
  {
   "cell_type": "code",
   "execution_count": 4,
   "metadata": {},
   "outputs": [],
   "source": [
    "# Create a dataframe from the boston house prices dataset\n",
    "df = pd.DataFrame(boston.data, columns=boston.feature_names)"
   ]
  },
  {
   "cell_type": "markdown",
   "metadata": {},
   "source": [
    "## Describe"
   ]
  },
  {
   "cell_type": "markdown",
   "metadata": {},
   "source": [
    "### Checks & Descriptive Statistics"
   ]
  },
  {
   "cell_type": "markdown",
   "metadata": {},
   "source": [
    "We'll have a look at the head and tail of the data first of all to check for any obvious issues"
   ]
  },
  {
   "cell_type": "code",
   "execution_count": 5,
   "metadata": {},
   "outputs": [
    {
     "data": {
      "text/html": [
       "<div>\n",
       "<style scoped>\n",
       "    .dataframe tbody tr th:only-of-type {\n",
       "        vertical-align: middle;\n",
       "    }\n",
       "\n",
       "    .dataframe tbody tr th {\n",
       "        vertical-align: top;\n",
       "    }\n",
       "\n",
       "    .dataframe thead th {\n",
       "        text-align: right;\n",
       "    }\n",
       "</style>\n",
       "<table border=\"1\" class=\"dataframe\">\n",
       "  <thead>\n",
       "    <tr style=\"text-align: right;\">\n",
       "      <th></th>\n",
       "      <th>CRIM</th>\n",
       "      <th>ZN</th>\n",
       "      <th>INDUS</th>\n",
       "      <th>CHAS</th>\n",
       "      <th>NOX</th>\n",
       "      <th>RM</th>\n",
       "      <th>AGE</th>\n",
       "      <th>DIS</th>\n",
       "      <th>RAD</th>\n",
       "      <th>TAX</th>\n",
       "      <th>PTRATIO</th>\n",
       "      <th>B</th>\n",
       "      <th>LSTAT</th>\n",
       "    </tr>\n",
       "  </thead>\n",
       "  <tbody>\n",
       "    <tr>\n",
       "      <th>0</th>\n",
       "      <td>0.00632</td>\n",
       "      <td>18.0</td>\n",
       "      <td>2.31</td>\n",
       "      <td>0.0</td>\n",
       "      <td>0.538</td>\n",
       "      <td>6.575</td>\n",
       "      <td>65.2</td>\n",
       "      <td>4.0900</td>\n",
       "      <td>1.0</td>\n",
       "      <td>296.0</td>\n",
       "      <td>15.3</td>\n",
       "      <td>396.90</td>\n",
       "      <td>4.98</td>\n",
       "    </tr>\n",
       "    <tr>\n",
       "      <th>1</th>\n",
       "      <td>0.02731</td>\n",
       "      <td>0.0</td>\n",
       "      <td>7.07</td>\n",
       "      <td>0.0</td>\n",
       "      <td>0.469</td>\n",
       "      <td>6.421</td>\n",
       "      <td>78.9</td>\n",
       "      <td>4.9671</td>\n",
       "      <td>2.0</td>\n",
       "      <td>242.0</td>\n",
       "      <td>17.8</td>\n",
       "      <td>396.90</td>\n",
       "      <td>9.14</td>\n",
       "    </tr>\n",
       "    <tr>\n",
       "      <th>2</th>\n",
       "      <td>0.02729</td>\n",
       "      <td>0.0</td>\n",
       "      <td>7.07</td>\n",
       "      <td>0.0</td>\n",
       "      <td>0.469</td>\n",
       "      <td>7.185</td>\n",
       "      <td>61.1</td>\n",
       "      <td>4.9671</td>\n",
       "      <td>2.0</td>\n",
       "      <td>242.0</td>\n",
       "      <td>17.8</td>\n",
       "      <td>392.83</td>\n",
       "      <td>4.03</td>\n",
       "    </tr>\n",
       "    <tr>\n",
       "      <th>3</th>\n",
       "      <td>0.03237</td>\n",
       "      <td>0.0</td>\n",
       "      <td>2.18</td>\n",
       "      <td>0.0</td>\n",
       "      <td>0.458</td>\n",
       "      <td>6.998</td>\n",
       "      <td>45.8</td>\n",
       "      <td>6.0622</td>\n",
       "      <td>3.0</td>\n",
       "      <td>222.0</td>\n",
       "      <td>18.7</td>\n",
       "      <td>394.63</td>\n",
       "      <td>2.94</td>\n",
       "    </tr>\n",
       "    <tr>\n",
       "      <th>4</th>\n",
       "      <td>0.06905</td>\n",
       "      <td>0.0</td>\n",
       "      <td>2.18</td>\n",
       "      <td>0.0</td>\n",
       "      <td>0.458</td>\n",
       "      <td>7.147</td>\n",
       "      <td>54.2</td>\n",
       "      <td>6.0622</td>\n",
       "      <td>3.0</td>\n",
       "      <td>222.0</td>\n",
       "      <td>18.7</td>\n",
       "      <td>396.90</td>\n",
       "      <td>5.33</td>\n",
       "    </tr>\n",
       "  </tbody>\n",
       "</table>\n",
       "</div>"
      ],
      "text/plain": [
       "      CRIM    ZN  INDUS  CHAS    NOX     RM   AGE     DIS  RAD    TAX  \\\n",
       "0  0.00632  18.0   2.31   0.0  0.538  6.575  65.2  4.0900  1.0  296.0   \n",
       "1  0.02731   0.0   7.07   0.0  0.469  6.421  78.9  4.9671  2.0  242.0   \n",
       "2  0.02729   0.0   7.07   0.0  0.469  7.185  61.1  4.9671  2.0  242.0   \n",
       "3  0.03237   0.0   2.18   0.0  0.458  6.998  45.8  6.0622  3.0  222.0   \n",
       "4  0.06905   0.0   2.18   0.0  0.458  7.147  54.2  6.0622  3.0  222.0   \n",
       "\n",
       "   PTRATIO       B  LSTAT  \n",
       "0     15.3  396.90   4.98  \n",
       "1     17.8  396.90   9.14  \n",
       "2     17.8  392.83   4.03  \n",
       "3     18.7  394.63   2.94  \n",
       "4     18.7  396.90   5.33  "
      ]
     },
     "execution_count": 5,
     "metadata": {},
     "output_type": "execute_result"
    }
   ],
   "source": [
    "df.head()"
   ]
  },
  {
   "cell_type": "code",
   "execution_count": 6,
   "metadata": {},
   "outputs": [
    {
     "data": {
      "text/html": [
       "<div>\n",
       "<style scoped>\n",
       "    .dataframe tbody tr th:only-of-type {\n",
       "        vertical-align: middle;\n",
       "    }\n",
       "\n",
       "    .dataframe tbody tr th {\n",
       "        vertical-align: top;\n",
       "    }\n",
       "\n",
       "    .dataframe thead th {\n",
       "        text-align: right;\n",
       "    }\n",
       "</style>\n",
       "<table border=\"1\" class=\"dataframe\">\n",
       "  <thead>\n",
       "    <tr style=\"text-align: right;\">\n",
       "      <th></th>\n",
       "      <th>CRIM</th>\n",
       "      <th>ZN</th>\n",
       "      <th>INDUS</th>\n",
       "      <th>CHAS</th>\n",
       "      <th>NOX</th>\n",
       "      <th>RM</th>\n",
       "      <th>AGE</th>\n",
       "      <th>DIS</th>\n",
       "      <th>RAD</th>\n",
       "      <th>TAX</th>\n",
       "      <th>PTRATIO</th>\n",
       "      <th>B</th>\n",
       "      <th>LSTAT</th>\n",
       "    </tr>\n",
       "  </thead>\n",
       "  <tbody>\n",
       "    <tr>\n",
       "      <th>501</th>\n",
       "      <td>0.06263</td>\n",
       "      <td>0.0</td>\n",
       "      <td>11.93</td>\n",
       "      <td>0.0</td>\n",
       "      <td>0.573</td>\n",
       "      <td>6.593</td>\n",
       "      <td>69.1</td>\n",
       "      <td>2.4786</td>\n",
       "      <td>1.0</td>\n",
       "      <td>273.0</td>\n",
       "      <td>21.0</td>\n",
       "      <td>391.99</td>\n",
       "      <td>9.67</td>\n",
       "    </tr>\n",
       "    <tr>\n",
       "      <th>502</th>\n",
       "      <td>0.04527</td>\n",
       "      <td>0.0</td>\n",
       "      <td>11.93</td>\n",
       "      <td>0.0</td>\n",
       "      <td>0.573</td>\n",
       "      <td>6.120</td>\n",
       "      <td>76.7</td>\n",
       "      <td>2.2875</td>\n",
       "      <td>1.0</td>\n",
       "      <td>273.0</td>\n",
       "      <td>21.0</td>\n",
       "      <td>396.90</td>\n",
       "      <td>9.08</td>\n",
       "    </tr>\n",
       "    <tr>\n",
       "      <th>503</th>\n",
       "      <td>0.06076</td>\n",
       "      <td>0.0</td>\n",
       "      <td>11.93</td>\n",
       "      <td>0.0</td>\n",
       "      <td>0.573</td>\n",
       "      <td>6.976</td>\n",
       "      <td>91.0</td>\n",
       "      <td>2.1675</td>\n",
       "      <td>1.0</td>\n",
       "      <td>273.0</td>\n",
       "      <td>21.0</td>\n",
       "      <td>396.90</td>\n",
       "      <td>5.64</td>\n",
       "    </tr>\n",
       "    <tr>\n",
       "      <th>504</th>\n",
       "      <td>0.10959</td>\n",
       "      <td>0.0</td>\n",
       "      <td>11.93</td>\n",
       "      <td>0.0</td>\n",
       "      <td>0.573</td>\n",
       "      <td>6.794</td>\n",
       "      <td>89.3</td>\n",
       "      <td>2.3889</td>\n",
       "      <td>1.0</td>\n",
       "      <td>273.0</td>\n",
       "      <td>21.0</td>\n",
       "      <td>393.45</td>\n",
       "      <td>6.48</td>\n",
       "    </tr>\n",
       "    <tr>\n",
       "      <th>505</th>\n",
       "      <td>0.04741</td>\n",
       "      <td>0.0</td>\n",
       "      <td>11.93</td>\n",
       "      <td>0.0</td>\n",
       "      <td>0.573</td>\n",
       "      <td>6.030</td>\n",
       "      <td>80.8</td>\n",
       "      <td>2.5050</td>\n",
       "      <td>1.0</td>\n",
       "      <td>273.0</td>\n",
       "      <td>21.0</td>\n",
       "      <td>396.90</td>\n",
       "      <td>7.88</td>\n",
       "    </tr>\n",
       "  </tbody>\n",
       "</table>\n",
       "</div>"
      ],
      "text/plain": [
       "        CRIM   ZN  INDUS  CHAS    NOX     RM   AGE     DIS  RAD    TAX  \\\n",
       "501  0.06263  0.0  11.93   0.0  0.573  6.593  69.1  2.4786  1.0  273.0   \n",
       "502  0.04527  0.0  11.93   0.0  0.573  6.120  76.7  2.2875  1.0  273.0   \n",
       "503  0.06076  0.0  11.93   0.0  0.573  6.976  91.0  2.1675  1.0  273.0   \n",
       "504  0.10959  0.0  11.93   0.0  0.573  6.794  89.3  2.3889  1.0  273.0   \n",
       "505  0.04741  0.0  11.93   0.0  0.573  6.030  80.8  2.5050  1.0  273.0   \n",
       "\n",
       "     PTRATIO       B  LSTAT  \n",
       "501     21.0  391.99   9.67  \n",
       "502     21.0  396.90   9.08  \n",
       "503     21.0  396.90   5.64  \n",
       "504     21.0  393.45   6.48  \n",
       "505     21.0  396.90   7.88  "
      ]
     },
     "execution_count": 6,
     "metadata": {},
     "output_type": "execute_result"
    }
   ],
   "source": [
    "df.tail()"
   ]
  },
  {
   "cell_type": "markdown",
   "metadata": {},
   "source": [
    "We shoud check also for missing values:"
   ]
  },
  {
   "cell_type": "code",
   "execution_count": 7,
   "metadata": {},
   "outputs": [
    {
     "data": {
      "text/plain": [
       "CRIM       0\n",
       "ZN         0\n",
       "INDUS      0\n",
       "CHAS       0\n",
       "NOX        0\n",
       "RM         0\n",
       "AGE        0\n",
       "DIS        0\n",
       "RAD        0\n",
       "TAX        0\n",
       "PTRATIO    0\n",
       "B          0\n",
       "LSTAT      0\n",
       "dtype: int64"
      ]
     },
     "execution_count": 7,
     "metadata": {},
     "output_type": "execute_result"
    }
   ],
   "source": [
    "df.isnull().sum()"
   ]
  },
  {
   "cell_type": "markdown",
   "metadata": {},
   "source": [
    "All seems to be in order so far.\n",
    "\n",
    "What do the column headers mean? We can use the following command to dive into it:"
   ]
  },
  {
   "cell_type": "code",
   "execution_count": 8,
   "metadata": {},
   "outputs": [
    {
     "name": "stdout",
     "output_type": "stream",
     "text": [
      ".. _boston_dataset:\n",
      "\n",
      "Boston house prices dataset\n",
      "---------------------------\n",
      "\n",
      "**Data Set Characteristics:**  \n",
      "\n",
      "    :Number of Instances: 506 \n",
      "\n",
      "    :Number of Attributes: 13 numeric/categorical predictive. Median Value (attribute 14) is usually the target.\n",
      "\n",
      "    :Attribute Information (in order):\n",
      "        - CRIM     per capita crime rate by town\n",
      "        - ZN       proportion of residential land zoned for lots over 25,000 sq.ft.\n",
      "        - INDUS    proportion of non-retail business acres per town\n",
      "        - CHAS     Charles River dummy variable (= 1 if tract bounds river; 0 otherwise)\n",
      "        - NOX      nitric oxides concentration (parts per 10 million)\n",
      "        - RM       average number of rooms per dwelling\n",
      "        - AGE      proportion of owner-occupied units built prior to 1940\n",
      "        - DIS      weighted distances to five Boston employment centres\n",
      "        - RAD      index of accessibility to radial highways\n",
      "        - TAX      full-value property-tax rate per $10,000\n",
      "        - PTRATIO  pupil-teacher ratio by town\n",
      "        - B        1000(Bk - 0.63)^2 where Bk is the proportion of blacks by town\n",
      "        - LSTAT    % lower status of the population\n",
      "        - MEDV     Median value of owner-occupied homes in $1000's\n",
      "\n",
      "    :Missing Attribute Values: None\n",
      "\n",
      "    :Creator: Harrison, D. and Rubinfeld, D.L.\n",
      "\n",
      "This is a copy of UCI ML housing dataset.\n",
      "https://archive.ics.uci.edu/ml/machine-learning-databases/housing/\n",
      "\n",
      "\n",
      "This dataset was taken from the StatLib library which is maintained at Carnegie Mellon University.\n",
      "\n",
      "The Boston house-price data of Harrison, D. and Rubinfeld, D.L. 'Hedonic\n",
      "prices and the demand for clean air', J. Environ. Economics & Management,\n",
      "vol.5, 81-102, 1978.   Used in Belsley, Kuh & Welsch, 'Regression diagnostics\n",
      "...', Wiley, 1980.   N.B. Various transformations are used in the table on\n",
      "pages 244-261 of the latter.\n",
      "\n",
      "The Boston house-price data has been used in many machine learning papers that address regression\n",
      "problems.   \n",
      "     \n",
      ".. topic:: References\n",
      "\n",
      "   - Belsley, Kuh & Welsch, 'Regression diagnostics: Identifying Influential Data and Sources of Collinearity', Wiley, 1980. 244-261.\n",
      "   - Quinlan,R. (1993). Combining Instance-Based and Model-Based Learning. In Proceedings on the Tenth International Conference of Machine Learning, 236-243, University of Massachusetts, Amherst. Morgan Kaufmann.\n",
      "\n"
     ]
    }
   ],
   "source": [
    "print(boston.DESCR)"
   ]
  },
  {
   "cell_type": "markdown",
   "metadata": {},
   "source": [
    "The MEDV column wasn't included in the earlier outputs.\n",
    "This is because scikit-learn assumes that you wish to use it as the 'target' of the dataset.\n",
    "We can check that its included:"
   ]
  },
  {
   "cell_type": "code",
   "execution_count": 9,
   "metadata": {},
   "outputs": [
    {
     "name": "stdout",
     "output_type": "stream",
     "text": [
      "(506,)\n"
     ]
    }
   ],
   "source": [
    "print(boston.target.shape)"
   ]
  },
  {
   "cell_type": "markdown",
   "metadata": {},
   "source": [
    "This matches the output of the DESCR command so it should be ok.\n",
    "Now we need to add it as a column to the dataframe to make our lives a bit easier later on."
   ]
  },
  {
   "cell_type": "code",
   "execution_count": 10,
   "metadata": {},
   "outputs": [],
   "source": [
    "df['MEDV'] = boston.target"
   ]
  },
  {
   "cell_type": "markdown",
   "metadata": {},
   "source": [
    "Now output the summary statistics of the dataframe to see how it looks:"
   ]
  },
  {
   "cell_type": "code",
   "execution_count": 11,
   "metadata": {},
   "outputs": [
    {
     "data": {
      "text/html": [
       "<div>\n",
       "<style scoped>\n",
       "    .dataframe tbody tr th:only-of-type {\n",
       "        vertical-align: middle;\n",
       "    }\n",
       "\n",
       "    .dataframe tbody tr th {\n",
       "        vertical-align: top;\n",
       "    }\n",
       "\n",
       "    .dataframe thead th {\n",
       "        text-align: right;\n",
       "    }\n",
       "</style>\n",
       "<table border=\"1\" class=\"dataframe\">\n",
       "  <thead>\n",
       "    <tr style=\"text-align: right;\">\n",
       "      <th></th>\n",
       "      <th>CRIM</th>\n",
       "      <th>ZN</th>\n",
       "      <th>INDUS</th>\n",
       "      <th>CHAS</th>\n",
       "      <th>NOX</th>\n",
       "      <th>RM</th>\n",
       "      <th>AGE</th>\n",
       "      <th>DIS</th>\n",
       "      <th>RAD</th>\n",
       "      <th>TAX</th>\n",
       "      <th>PTRATIO</th>\n",
       "      <th>B</th>\n",
       "      <th>LSTAT</th>\n",
       "      <th>MEDV</th>\n",
       "    </tr>\n",
       "  </thead>\n",
       "  <tbody>\n",
       "    <tr>\n",
       "      <th>count</th>\n",
       "      <td>506.000000</td>\n",
       "      <td>506.000000</td>\n",
       "      <td>506.000000</td>\n",
       "      <td>506.000000</td>\n",
       "      <td>506.000000</td>\n",
       "      <td>506.000000</td>\n",
       "      <td>506.000000</td>\n",
       "      <td>506.000000</td>\n",
       "      <td>506.000000</td>\n",
       "      <td>506.000000</td>\n",
       "      <td>506.000000</td>\n",
       "      <td>506.000000</td>\n",
       "      <td>506.000000</td>\n",
       "      <td>506.000000</td>\n",
       "    </tr>\n",
       "    <tr>\n",
       "      <th>mean</th>\n",
       "      <td>3.613524</td>\n",
       "      <td>11.363636</td>\n",
       "      <td>11.136779</td>\n",
       "      <td>0.069170</td>\n",
       "      <td>0.554695</td>\n",
       "      <td>6.284634</td>\n",
       "      <td>68.574901</td>\n",
       "      <td>3.795043</td>\n",
       "      <td>9.549407</td>\n",
       "      <td>408.237154</td>\n",
       "      <td>18.455534</td>\n",
       "      <td>356.674032</td>\n",
       "      <td>12.653063</td>\n",
       "      <td>22.532806</td>\n",
       "    </tr>\n",
       "    <tr>\n",
       "      <th>std</th>\n",
       "      <td>8.601545</td>\n",
       "      <td>23.322453</td>\n",
       "      <td>6.860353</td>\n",
       "      <td>0.253994</td>\n",
       "      <td>0.115878</td>\n",
       "      <td>0.702617</td>\n",
       "      <td>28.148861</td>\n",
       "      <td>2.105710</td>\n",
       "      <td>8.707259</td>\n",
       "      <td>168.537116</td>\n",
       "      <td>2.164946</td>\n",
       "      <td>91.294864</td>\n",
       "      <td>7.141062</td>\n",
       "      <td>9.197104</td>\n",
       "    </tr>\n",
       "    <tr>\n",
       "      <th>min</th>\n",
       "      <td>0.006320</td>\n",
       "      <td>0.000000</td>\n",
       "      <td>0.460000</td>\n",
       "      <td>0.000000</td>\n",
       "      <td>0.385000</td>\n",
       "      <td>3.561000</td>\n",
       "      <td>2.900000</td>\n",
       "      <td>1.129600</td>\n",
       "      <td>1.000000</td>\n",
       "      <td>187.000000</td>\n",
       "      <td>12.600000</td>\n",
       "      <td>0.320000</td>\n",
       "      <td>1.730000</td>\n",
       "      <td>5.000000</td>\n",
       "    </tr>\n",
       "    <tr>\n",
       "      <th>25%</th>\n",
       "      <td>0.082045</td>\n",
       "      <td>0.000000</td>\n",
       "      <td>5.190000</td>\n",
       "      <td>0.000000</td>\n",
       "      <td>0.449000</td>\n",
       "      <td>5.885500</td>\n",
       "      <td>45.025000</td>\n",
       "      <td>2.100175</td>\n",
       "      <td>4.000000</td>\n",
       "      <td>279.000000</td>\n",
       "      <td>17.400000</td>\n",
       "      <td>375.377500</td>\n",
       "      <td>6.950000</td>\n",
       "      <td>17.025000</td>\n",
       "    </tr>\n",
       "    <tr>\n",
       "      <th>50%</th>\n",
       "      <td>0.256510</td>\n",
       "      <td>0.000000</td>\n",
       "      <td>9.690000</td>\n",
       "      <td>0.000000</td>\n",
       "      <td>0.538000</td>\n",
       "      <td>6.208500</td>\n",
       "      <td>77.500000</td>\n",
       "      <td>3.207450</td>\n",
       "      <td>5.000000</td>\n",
       "      <td>330.000000</td>\n",
       "      <td>19.050000</td>\n",
       "      <td>391.440000</td>\n",
       "      <td>11.360000</td>\n",
       "      <td>21.200000</td>\n",
       "    </tr>\n",
       "    <tr>\n",
       "      <th>75%</th>\n",
       "      <td>3.677083</td>\n",
       "      <td>12.500000</td>\n",
       "      <td>18.100000</td>\n",
       "      <td>0.000000</td>\n",
       "      <td>0.624000</td>\n",
       "      <td>6.623500</td>\n",
       "      <td>94.075000</td>\n",
       "      <td>5.188425</td>\n",
       "      <td>24.000000</td>\n",
       "      <td>666.000000</td>\n",
       "      <td>20.200000</td>\n",
       "      <td>396.225000</td>\n",
       "      <td>16.955000</td>\n",
       "      <td>25.000000</td>\n",
       "    </tr>\n",
       "    <tr>\n",
       "      <th>max</th>\n",
       "      <td>88.976200</td>\n",
       "      <td>100.000000</td>\n",
       "      <td>27.740000</td>\n",
       "      <td>1.000000</td>\n",
       "      <td>0.871000</td>\n",
       "      <td>8.780000</td>\n",
       "      <td>100.000000</td>\n",
       "      <td>12.126500</td>\n",
       "      <td>24.000000</td>\n",
       "      <td>711.000000</td>\n",
       "      <td>22.000000</td>\n",
       "      <td>396.900000</td>\n",
       "      <td>37.970000</td>\n",
       "      <td>50.000000</td>\n",
       "    </tr>\n",
       "  </tbody>\n",
       "</table>\n",
       "</div>"
      ],
      "text/plain": [
       "             CRIM          ZN       INDUS        CHAS         NOX          RM  \\\n",
       "count  506.000000  506.000000  506.000000  506.000000  506.000000  506.000000   \n",
       "mean     3.613524   11.363636   11.136779    0.069170    0.554695    6.284634   \n",
       "std      8.601545   23.322453    6.860353    0.253994    0.115878    0.702617   \n",
       "min      0.006320    0.000000    0.460000    0.000000    0.385000    3.561000   \n",
       "25%      0.082045    0.000000    5.190000    0.000000    0.449000    5.885500   \n",
       "50%      0.256510    0.000000    9.690000    0.000000    0.538000    6.208500   \n",
       "75%      3.677083   12.500000   18.100000    0.000000    0.624000    6.623500   \n",
       "max     88.976200  100.000000   27.740000    1.000000    0.871000    8.780000   \n",
       "\n",
       "              AGE         DIS         RAD         TAX     PTRATIO           B  \\\n",
       "count  506.000000  506.000000  506.000000  506.000000  506.000000  506.000000   \n",
       "mean    68.574901    3.795043    9.549407  408.237154   18.455534  356.674032   \n",
       "std     28.148861    2.105710    8.707259  168.537116    2.164946   91.294864   \n",
       "min      2.900000    1.129600    1.000000  187.000000   12.600000    0.320000   \n",
       "25%     45.025000    2.100175    4.000000  279.000000   17.400000  375.377500   \n",
       "50%     77.500000    3.207450    5.000000  330.000000   19.050000  391.440000   \n",
       "75%     94.075000    5.188425   24.000000  666.000000   20.200000  396.225000   \n",
       "max    100.000000   12.126500   24.000000  711.000000   22.000000  396.900000   \n",
       "\n",
       "            LSTAT        MEDV  \n",
       "count  506.000000  506.000000  \n",
       "mean    12.653063   22.532806  \n",
       "std      7.141062    9.197104  \n",
       "min      1.730000    5.000000  \n",
       "25%      6.950000   17.025000  \n",
       "50%     11.360000   21.200000  \n",
       "75%     16.955000   25.000000  \n",
       "max     37.970000   50.000000  "
      ]
     },
     "execution_count": 11,
     "metadata": {},
     "output_type": "execute_result"
    }
   ],
   "source": [
    "df.describe()"
   ]
  },
  {
   "cell_type": "markdown",
   "metadata": {},
   "source": [
    "The data seems to have imported correctly and we now have it in a format that we can work with."
   ]
  },
  {
   "cell_type": "markdown",
   "metadata": {},
   "source": [
    "### Visualisations\n",
    "Now we can start creating plots.\n",
    "Firstly, the distribution of the Median House Value:"
   ]
  },
  {
   "cell_type": "code",
   "execution_count": 12,
   "metadata": {},
   "outputs": [
    {
     "data": {
      "text/plain": [
       "Text(0.5, 1.0, 'Distribution of Median House Value')"
      ]
     },
     "execution_count": 12,
     "metadata": {},
     "output_type": "execute_result"
    },
    {
     "data": {
      "image/png": "[encoded data removed]",
      "text/plain": [
       "<Figure size 432x288 with 1 Axes>"
      ]
     },
     "metadata": {
      "needs_background": "light"
     },
     "output_type": "display_data"
    }
   ],
   "source": [
    "sns.distplot(df['MEDV'], color='g')\n",
    "plt.xlabel('Median value of owner-occupied homes in $1000\\'s')\n",
    "plt.ylabel('Frequency')\n",
    "plt.title('Distribution of Median House Value', fontsize=14)"
   ]
  },
  {
   "cell_type": "markdown",
   "metadata": {},
   "source": [
    "We can also look at the number of rooms per dwelling like this."
   ]
  },
  {
   "cell_type": "code",
   "execution_count": 13,
   "metadata": {},
   "outputs": [
    {
     "data": {
      "text/plain": [
       "Text(0.5, 1.0, 'Distribution of Rooms')"
      ]
     },
     "execution_count": 13,
     "metadata": {},
     "output_type": "execute_result"
    },
    {
     "data": {
      "image/png": "[encoded data removed]",
      "text/plain": [
       "<Figure size 432x288 with 1 Axes>"
      ]
     },
     "metadata": {
      "needs_background": "light"
     },
     "output_type": "display_data"
    }
   ],
   "source": [
    "sns.distplot(df['RM'], color='y')\n",
    "plt.xlabel('Average number of rooms per dwelling')\n",
    "plt.ylabel('Frequency')\n",
    "plt.title('Distribution of Rooms', fontsize=14)"
   ]
  },
  {
   "cell_type": "markdown",
   "metadata": {},
   "source": [
    "What about the relationships between some of the statistics and the median house value?\n",
    "Firstly we look at DIS:"
   ]
  },
  {
   "cell_type": "code",
   "execution_count": 14,
   "metadata": {},
   "outputs": [
    {
     "data": {
      "text/plain": [
       "Text(0.5, 1.0, 'MEDV vs DIS')"
      ]
     },
     "execution_count": 14,
     "metadata": {},
     "output_type": "execute_result"
    },
    {
     "data": {
      "image/png": "[encoded data removed]",
      "text/plain": [
       "<Figure size 432x288 with 1 Axes>"
      ]
     },
     "metadata": {
      "needs_background": "light"
     },
     "output_type": "display_data"
    }
   ],
   "source": [
    "sns.scatterplot(x='MEDV', y='DIS', data=df)\n",
    "plt.xlabel('Median value of owner-occupied homes in $1000\\'s')\n",
    "\n",
    "plt.ylabel('Weighted distances to five \\nBoston employment centres')\n",
    "plt.title('MEDV vs DIS', fontsize=14)"
   ]
  },
  {
   "cell_type": "markdown",
   "metadata": {},
   "source": [
    "It is difficult to tell if a definite linear relationship exists between these variables, but an unusual vertical line of values on the MEDV=50 line stand out somewhat."
   ]
  },
  {
   "cell_type": "markdown",
   "metadata": {},
   "source": [
    "We can look at RAD also:"
   ]
  },
  {
   "cell_type": "code",
   "execution_count": 15,
   "metadata": {},
   "outputs": [
    {
     "data": {
      "text/plain": [
       "Text(0.5, 1.0, 'MEDV vs RM')"
      ]
     },
     "execution_count": 15,
     "metadata": {},
     "output_type": "execute_result"
    },
    {
     "data": {
      "image/png": "[encoded data removed]",
      "text/plain": [
       "<Figure size 432x288 with 1 Axes>"
      ]
     },
     "metadata": {
      "needs_background": "light"
     },
     "output_type": "display_data"
    }
   ],
   "source": [
    "sns.scatterplot(x='MEDV', y='RM', data=df)\n",
    "plt.xlabel('Median value of owner-occupied homes in $1000\\'s')\n",
    "plt.ylabel('Average number of rooms per dwelling')\n",
    "plt.title('MEDV vs RM', fontsize=14)"
   ]
  },
  {
   "cell_type": "markdown",
   "metadata": {},
   "source": [
    "The linear relationship is much more apparent here - however the clustering of points on the MEDV=50 mark is even more apparent in this plot. This will require further investigation. "
   ]
  },
  {
   "cell_type": "code",
   "execution_count": 16,
   "metadata": {},
   "outputs": [
    {
     "data": {
      "text/plain": [
       "Text(0.5, 1.0, 'MEDV vs RAD')"
      ]
     },
     "execution_count": 16,
     "metadata": {},
     "output_type": "execute_result"
    },
    {
     "data": {
      "image/png": "[encoded data removed]",
      "text/plain": [
       "<Figure size 432x288 with 1 Axes>"
      ]
     },
     "metadata": {
      "needs_background": "light"
     },
     "output_type": "display_data"
    }
   ],
   "source": [
    "sns.scatterplot(x='MEDV', y='RAD', data=df)\n",
    "plt.xlabel('Median value of owner-occupied homes in $1000\\'s')\n",
    "plt.ylabel('Index of accessibility to radial highways')\n",
    "plt.title('MEDV vs RAD', fontsize=14)"
   ]
  },
  {
   "cell_type": "markdown",
   "metadata": {},
   "source": [
    "This is quite a bit different to the other plots - the RAD value refers to \"index of accessibility to major highways\" - it appears that there is a broad range of houses values that have an accessibility rating between 0 and 10, then a very large gap, with a range of houses in the low- to medium price range (with a single high price outlier) with a much higher index of around 24."
   ]
  },
  {
   "cell_type": "markdown",
   "metadata": {},
   "source": [
    "Next, we can use a box and whisker plot to look at some of the descriptive statistics of the variables."
   ]
  },
  {
   "cell_type": "code",
   "execution_count": 17,
   "metadata": {},
   "outputs": [
    {
     "data": {
      "text/plain": [
       "Text(0.5, 1, 'Box and Whisker Plots for Each Variable')"
      ]
     },
     "execution_count": 17,
     "metadata": {},
     "output_type": "execute_result"
    },
    {
     "data": {
      "image/png": "[encoded data removed]",
      "text/plain": [
       "<Figure size 900x360 with 1 Axes>"
      ]
     },
     "metadata": {
      "needs_background": "light"
     },
     "output_type": "display_data"
    }
   ],
   "source": [
    "g = sns.catplot(x='value', y='variable', data=pd.melt(df), kind='box', height=5, aspect=2.5);\n",
    "plt.title('Box and Whisker Plots for Each Variable', fontsize=14)"
   ]
  },
  {
   "cell_type": "markdown",
   "metadata": {},
   "source": [
    "Clearly, they all have very distinctive characteristics - but we already have most of this information in numerical format. What this really tells us is that certain (most) variables have a good number of outliers - this will be a consideration in development of our neural network later."
   ]
  },
  {
   "cell_type": "markdown",
   "metadata": {},
   "source": [
    "## Infer"
   ]
  },
  {
   "cell_type": "code",
   "execution_count": 18,
   "metadata": {},
   "outputs": [
    {
     "data": {
      "text/plain": [
       "Text(0.5, 1.0, 'MEDV vs CHAS')"
      ]
     },
     "execution_count": 18,
     "metadata": {},
     "output_type": "execute_result"
    },
    {
     "data": {
      "image/png": "[encoded data removed]",
      "text/plain": [
       "<Figure size 432x288 with 1 Axes>"
      ]
     },
     "metadata": {
      "needs_background": "light"
     },
     "output_type": "display_data"
    }
   ],
   "source": [
    "sns.regplot(x='MEDV', y='CHAS', data=df)\n",
    "plt.xlabel('Median value of owner-occupied homes in $1000\\'s')\n",
    "plt.ylabel('Charles River dummy variable \\n(= 1 if tract bounds river; 0 otherwise)')\n",
    "plt.title('MEDV vs CHAS', fontsize=14)"
   ]
  },
  {
   "cell_type": "raw",
   "metadata": {},
   "source": [
    "First we'll display the range of house values per CHAS value, side by side on a catplot. We'll leave jitter switched on to get a better idea of the density of house."
   ]
  },
  {
   "cell_type": "markdown",
   "metadata": {},
   "source": [
    "*** Add a violin plot?? ***"
   ]
  },
  {
   "cell_type": "code",
   "execution_count": 19,
   "metadata": {},
   "outputs": [
    {
     "data": {
      "text/plain": [
       "Text(0.5, 1, 'CHAS vs MEDV')"
      ]
     },
     "execution_count": 19,
     "metadata": {},
     "output_type": "execute_result"
    },
    {
     "data": {
      "image/png": "[encoded data removed]",
      "text/plain": [
       "<Figure size 360x360 with 1 Axes>"
      ]
     },
     "metadata": {
      "needs_background": "light"
     },
     "output_type": "display_data"
    }
   ],
   "source": [
    "sns.catplot(x='CHAS', y='MEDV',  data=df)\n",
    "plt.xlabel('Charles River dummy variable \\n(= 1 if tract bounds river; 0 otherwise)')\n",
    "plt.ylabel('Median value of owner-occupied homes in $1000\\'s')\n",
    "plt.title('CHAS vs MEDV', fontsize=14)"
   ]
  },
  {
   "cell_type": "markdown",
   "metadata": {},
   "source": [
    "Now lets visualise the distribution of this using histograms with KDEs overlaid on the same plot:"
   ]
  },
  {
   "cell_type": "code",
   "execution_count": 20,
   "metadata": {},
   "outputs": [
    {
     "data": {
      "text/plain": [
       "<matplotlib.legend.Legend at 0x1f4af82c828>"
      ]
     },
     "execution_count": 20,
     "metadata": {},
     "output_type": "execute_result"
    },
    {
     "data": {
      "image/png": "[encoded data removed]",
      "text/plain": [
       "<Figure size 432x288 with 1 Axes>"
      ]
     },
     "metadata": {
      "needs_background": "light"
     },
     "output_type": "display_data"
    }
   ],
   "source": [
    "# Extract subsets of the dataframe for houses on the Charles River (ry) vs houses not on it (rn)\n",
    "ry = df.loc[df['CHAS'] == 1]\n",
    "rn = df.loc[df['CHAS'] == 0]\n",
    "\n",
    "# Overlay a distplot for each on the same plot for comparison\n",
    "sns.distplot(ry['MEDV'], color='b', label = \"CHAS = 1\")\n",
    "sns.distplot(rn['MEDV'], color='r', label = \"CHAS = 0\")\n",
    "\n",
    "plt.xlabel('Average number of rooms per dwelling')\n",
    "plt.ylabel('Frequency')\n",
    "plt.title('Distribution of Median House Value', fontsize=14)\n",
    "plt.legend()"
   ]
  },
  {
   "cell_type": "markdown",
   "metadata": {},
   "source": [
    "Although the histograms of the two data sets look quite different, the shapes of the kernal density estimate plots are not dissimilar - although it can be said with reasonable confidence that the values of houses on the Charles River appear to be generally higher than those not on it. We will have to confirm this now by carrying out statistical tests using scipy."
   ]
  },
  {
   "cell_type": "markdown",
   "metadata": {},
   "source": [
    "### T-Test"
   ]
  },
  {
   "cell_type": "markdown",
   "metadata": {},
   "source": [
    "We can carry out a t-test using scipy.stats to check if there is a significant difference in median house prices between those along the Charles River and those that are not. We need to use an independent t-test."
   ]
  },
  {
   "cell_type": "markdown",
   "metadata": {},
   "source": [
    "*** should confirm that the t-test assumptions are met?"
   ]
  },
  {
   "cell_type": "markdown",
   "metadata": {},
   "source": [
    "The null hypothesis here is that the means are equal. Therefore if there is no significant difference between the means, the t-statistic should be close to 0."
   ]
  },
  {
   "cell_type": "markdown",
   "metadata": {},
   "source": [
    "First we need MEDV split into two separate sets - one where CHAS=0 and one where CHAS=1. This has already been carried out to generate the histograms above:\n",
    "* rn = dataframe containing only data on houses not along the Charles River\n",
    "* ry = dataframe containing only data on houses along the Charles River"
   ]
  },
  {
   "cell_type": "code",
   "execution_count": 21,
   "metadata": {},
   "outputs": [
    {
     "data": {
      "text/plain": [
       "Ttest_indResult(statistic=-3.996437466090509, pvalue=7.390623170519905e-05)"
      ]
     },
     "execution_count": 21,
     "metadata": {},
     "output_type": "execute_result"
    }
   ],
   "source": [
    "ss.ttest_ind(rn['MEDV'], ry['MEDV'])"
   ]
  },
  {
   "cell_type": "markdown",
   "metadata": {},
   "source": [
    "Results:\n",
    "* t-Statistic: -3.996\n",
    "* p-value: 7.391e<sup>-5</sup>"
   ]
  },
  {
   "cell_type": "markdown",
   "metadata": {},
   "source": [
    "We can also check this by carrying out the t-test using statsmodel instead:"
   ]
  },
  {
   "cell_type": "code",
   "execution_count": 22,
   "metadata": {},
   "outputs": [
    {
     "data": {
      "text/plain": [
       "(-3.9964374660905095, 7.390623170519883e-05, 504.0)"
      ]
     },
     "execution_count": 22,
     "metadata": {},
     "output_type": "execute_result"
    }
   ],
   "source": [
    "ws.ttest_ind(rn['MEDV'], ry['MEDV'])"
   ]
  },
  {
   "cell_type": "markdown",
   "metadata": {},
   "source": [
    "The results are identical - with the inclusion of the degrees of freedom (504)."
   ]
  },
  {
   "cell_type": "markdown",
   "metadata": {},
   "source": [
    "#### p-value\n",
    "We generally accept a p-value of 0.5 as being the lower bound of whether a relationship is significant or not. Our calculated p-value is sinificantly lower than this, we can therefore conclude that there is a significant difference between the means - in other words we reject the null hypothesis and can state that there is a significant difference in median house prices between those on the Charles River and those not on it."
   ]
  },
  {
   "cell_type": "markdown",
   "metadata": {},
   "source": [
    "** find reference for the above?"
   ]
  },
  {
   "cell_type": "markdown",
   "metadata": {},
   "source": [
    "### Conclusions"
   ]
  },
  {
   "cell_type": "markdown",
   "metadata": {},
   "source": [
    "We can conclude that the difference in the means is statistically significant. However we should caveat this - earlier we noted that an issue with the MEDV values - the distribution of the values indicate that the value above 50 have been truncated for some reason, this would certainly have an effect on the means."
   ]
  },
  {
   "cell_type": "markdown",
   "metadata": {},
   "source": [
    "## Predict"
   ]
  },
  {
   "cell_type": "markdown",
   "metadata": {},
   "source": [
    "We will now use the keras package to create a neural network to predict the median house price based on the datasets other variables."
   ]
  },
  {
   "cell_type": "code",
   "execution_count": 23,
   "metadata": {},
   "outputs": [
    {
     "name": "stderr",
     "output_type": "stream",
     "text": [
      "Using TensorFlow backend.\n"
     ]
    }
   ],
   "source": [
    "import keras as kr\n",
    "import numpy as np"
   ]
  },
  {
   "cell_type": "markdown",
   "metadata": {},
   "source": [
    "** need to choose variables to predict with - ideally those that correlate with the house price, may be of interest to choose several with varying degrees of correlation"
   ]
  },
  {
   "cell_type": "markdown",
   "metadata": {},
   "source": [
    "### Choosing Correlated Variables"
   ]
  },
  {
   "cell_type": "code",
   "execution_count": 24,
   "metadata": {},
   "outputs": [
    {
     "data": {
      "text/plain": [
       "Text(0.5, 1, 'Heatmap of Correlations between Variables')"
      ]
     },
     "execution_count": 24,
     "metadata": {},
     "output_type": "execute_result"
    },
    {
     "data": {
      "image/png": "[encoded data removed]",
      "text/plain": [
       "<Figure size 864x720 with 2 Axes>"
      ]
     },
     "metadata": {},
     "output_type": "display_data"
    }
   ],
   "source": [
    "# Seaborn heatmap\n",
    "sns.set(style='dark')\n",
    "\n",
    "# Mask upper triangle\n",
    "mask = np.zeros_like(df.corr(), dtype=np.bool)\n",
    "mask[np.triu_indices_from(mask)] = True\n",
    "\n",
    "plt.figure(figsize = (12,10))\n",
    "sns.heatmap(df.corr().round(2), annot=True, mask=mask, cmap='coolwarm', center=0, linewidths=0.2)\n",
    "\n",
    "plt.title('Heatmap of Correlations between Variables', fontsize=14)"
   ]
  },
  {
   "cell_type": "markdown",
   "metadata": {},
   "source": [
    "Results: 10 fields most strongly correlated with MEDV are:\n",
    "* ~~CRIM: -0.39~~\n",
    "* ~~ZN: 0.36~~\n",
    "* INDUS: -0.48\n",
    "* NOX: -0.43\n",
    "* RM: 0.7\n",
    "* ~~RAD: -0.38~~\n",
    "* TAX: -0.47\n",
    "* PTRATIO: -0.51\n",
    "* ~~B: 0.33~~\n",
    "* LSTAT: -0.74\n",
    "    \n",
    "We can use these as inputs for the model."
   ]
  },
  {
   "cell_type": "markdown",
   "metadata": {},
   "source": [
    "** need to decide on layers, numbers of neurons"
   ]
  },
  {
   "cell_type": "code",
   "execution_count": 25,
   "metadata": {},
   "outputs": [
    {
     "data": {
      "text/html": [
       "<div>\n",
       "<style scoped>\n",
       "    .dataframe tbody tr th:only-of-type {\n",
       "        vertical-align: middle;\n",
       "    }\n",
       "\n",
       "    .dataframe tbody tr th {\n",
       "        vertical-align: top;\n",
       "    }\n",
       "\n",
       "    .dataframe thead th {\n",
       "        text-align: right;\n",
       "    }\n",
       "</style>\n",
       "<table border=\"1\" class=\"dataframe\">\n",
       "  <thead>\n",
       "    <tr style=\"text-align: right;\">\n",
       "      <th></th>\n",
       "      <th>INDUS</th>\n",
       "      <th>NOX</th>\n",
       "      <th>RM</th>\n",
       "      <th>TAX</th>\n",
       "      <th>PTRATIO</th>\n",
       "      <th>LSTAT</th>\n",
       "    </tr>\n",
       "  </thead>\n",
       "  <tbody>\n",
       "    <tr>\n",
       "      <th>count</th>\n",
       "      <td>506.000000</td>\n",
       "      <td>506.000000</td>\n",
       "      <td>506.000000</td>\n",
       "      <td>506.000000</td>\n",
       "      <td>506.000000</td>\n",
       "      <td>506.000000</td>\n",
       "    </tr>\n",
       "    <tr>\n",
       "      <th>mean</th>\n",
       "      <td>11.136779</td>\n",
       "      <td>0.554695</td>\n",
       "      <td>6.284634</td>\n",
       "      <td>408.237154</td>\n",
       "      <td>18.455534</td>\n",
       "      <td>12.653063</td>\n",
       "    </tr>\n",
       "    <tr>\n",
       "      <th>std</th>\n",
       "      <td>6.860353</td>\n",
       "      <td>0.115878</td>\n",
       "      <td>0.702617</td>\n",
       "      <td>168.537116</td>\n",
       "      <td>2.164946</td>\n",
       "      <td>7.141062</td>\n",
       "    </tr>\n",
       "    <tr>\n",
       "      <th>min</th>\n",
       "      <td>0.460000</td>\n",
       "      <td>0.385000</td>\n",
       "      <td>3.561000</td>\n",
       "      <td>187.000000</td>\n",
       "      <td>12.600000</td>\n",
       "      <td>1.730000</td>\n",
       "    </tr>\n",
       "    <tr>\n",
       "      <th>25%</th>\n",
       "      <td>5.190000</td>\n",
       "      <td>0.449000</td>\n",
       "      <td>5.885500</td>\n",
       "      <td>279.000000</td>\n",
       "      <td>17.400000</td>\n",
       "      <td>6.950000</td>\n",
       "    </tr>\n",
       "    <tr>\n",
       "      <th>50%</th>\n",
       "      <td>9.690000</td>\n",
       "      <td>0.538000</td>\n",
       "      <td>6.208500</td>\n",
       "      <td>330.000000</td>\n",
       "      <td>19.050000</td>\n",
       "      <td>11.360000</td>\n",
       "    </tr>\n",
       "    <tr>\n",
       "      <th>75%</th>\n",
       "      <td>18.100000</td>\n",
       "      <td>0.624000</td>\n",
       "      <td>6.623500</td>\n",
       "      <td>666.000000</td>\n",
       "      <td>20.200000</td>\n",
       "      <td>16.955000</td>\n",
       "    </tr>\n",
       "    <tr>\n",
       "      <th>max</th>\n",
       "      <td>27.740000</td>\n",
       "      <td>0.871000</td>\n",
       "      <td>8.780000</td>\n",
       "      <td>711.000000</td>\n",
       "      <td>22.000000</td>\n",
       "      <td>37.970000</td>\n",
       "    </tr>\n",
       "  </tbody>\n",
       "</table>\n",
       "</div>"
      ],
      "text/plain": [
       "            INDUS         NOX          RM         TAX     PTRATIO       LSTAT\n",
       "count  506.000000  506.000000  506.000000  506.000000  506.000000  506.000000\n",
       "mean    11.136779    0.554695    6.284634  408.237154   18.455534   12.653063\n",
       "std      6.860353    0.115878    0.702617  168.537116    2.164946    7.141062\n",
       "min      0.460000    0.385000    3.561000  187.000000   12.600000    1.730000\n",
       "25%      5.190000    0.449000    5.885500  279.000000   17.400000    6.950000\n",
       "50%      9.690000    0.538000    6.208500  330.000000   19.050000   11.360000\n",
       "75%     18.100000    0.624000    6.623500  666.000000   20.200000   16.955000\n",
       "max     27.740000    0.871000    8.780000  711.000000   22.000000   37.970000"
      ]
     },
     "execution_count": 25,
     "metadata": {},
     "output_type": "execute_result"
    }
   ],
   "source": [
    "inputs = df[['INDUS', 'NOX', 'RM', 'TAX', 'PTRATIO', 'LSTAT']]\n",
    "inputs.describe()"
   ]
  },
  {
   "cell_type": "code",
   "execution_count": 26,
   "metadata": {},
   "outputs": [],
   "source": [
    "#inputs = df[['CRIM', 'ZN', 'INDUS', 'NOX', 'RM', 'RAD', 'TAX', 'PTRATIO', 'B', 'LSTAT']]\n",
    "#inputs.describe()"
   ]
  },
  {
   "cell_type": "code",
   "execution_count": 27,
   "metadata": {},
   "outputs": [],
   "source": [
    "outputs = df['MEDV']"
   ]
  },
  {
   "cell_type": "markdown",
   "metadata": {},
   "source": [
    "### Split Dataset"
   ]
  },
  {
   "cell_type": "markdown",
   "metadata": {},
   "source": [
    "We need to split the dataset into a training dataset and a predictions dataset."
   ]
  },
  {
   "cell_type": "code",
   "execution_count": 28,
   "metadata": {},
   "outputs": [],
   "source": [
    "import sklearn.model_selection as mod"
   ]
  },
  {
   "cell_type": "code",
   "execution_count": 29,
   "metadata": {},
   "outputs": [],
   "source": [
    "# Split the inputs and outputs into training and test sets.\n",
    "inputs_train, inputs_test, outputs_train, outputs_test = mod.train_test_split(inputs, outputs, test_size=0.2)"
   ]
  },
  {
   "cell_type": "code",
   "execution_count": 30,
   "metadata": {
    "scrolled": true
   },
   "outputs": [
    {
     "name": "stdout",
     "output_type": "stream",
     "text": [
      "            INDUS         NOX          RM         TAX     PTRATIO       LSTAT\n",
      "count  404.000000  404.000000  404.000000  404.000000  404.000000  404.000000\n",
      "mean    11.342079    0.558720    6.270045  407.606436   18.444802   12.705099\n",
      "std      6.921353    0.117297    0.692692  169.781749    2.171790    6.990482\n",
      "min      0.740000    0.389000    3.561000  187.000000   12.600000    1.730000\n",
      "25%      5.190000    0.456750    5.876750  277.000000   17.375000    7.200000\n",
      "50%      9.795000    0.538000    6.185000  330.000000   19.050000   11.645000\n",
      "75%     18.100000    0.625750    6.608500  666.000000   20.200000   16.910000\n",
      "max     27.740000    0.871000    8.780000  711.000000   22.000000   37.970000\n",
      "            INDUS         NOX          RM         TAX     PTRATIO       LSTAT\n",
      "count  102.000000  102.000000  102.000000  102.000000  102.000000  102.000000\n",
      "mean    10.323627    0.538752    6.342422  410.735294   18.498039   12.446961\n",
      "std      6.583286    0.109173    0.741346  164.310496    2.147713    7.741869\n",
      "min      0.460000    0.385000    4.138000  193.000000   12.600000    1.920000\n",
      "25%      4.507500    0.438175    5.982500  285.500000   17.400000    6.572500\n",
      "50%      8.560000    0.520000    6.265000  355.000000   19.050000   10.270000\n",
      "75%     18.100000    0.624000    6.651500  666.000000   20.200000   17.102500\n",
      "max     21.890000    0.871000    8.297000  666.000000   21.200000   34.410000\n"
     ]
    }
   ],
   "source": [
    "print(inputs_train.describe())\n",
    "print(inputs_test.describe())"
   ]
  },
  {
   "cell_type": "code",
   "execution_count": 31,
   "metadata": {
    "scrolled": true
   },
   "outputs": [
    {
     "name": "stdout",
     "output_type": "stream",
     "text": [
      "count    404.000000\n",
      "mean      22.273515\n",
      "std        8.768688\n",
      "min        5.000000\n",
      "25%       16.775000\n",
      "50%       21.200000\n",
      "75%       25.000000\n",
      "max       50.000000\n",
      "Name: MEDV, dtype: float64\n",
      "count    102.000000\n",
      "mean      23.559804\n",
      "std       10.714534\n",
      "min        5.000000\n",
      "25%       17.575000\n",
      "50%       20.450000\n",
      "75%       27.400000\n",
      "max       50.000000\n",
      "Name: MEDV, dtype: float64\n"
     ]
    }
   ],
   "source": [
    "print(outputs_train.describe())\n",
    "print(outputs_test.describe())"
   ]
  },
  {
   "cell_type": "code",
   "execution_count": 32,
   "metadata": {},
   "outputs": [
    {
     "data": {
      "text/plain": [
       "INDUS        1.470\n",
       "NOX          0.403\n",
       "RM           7.135\n",
       "TAX        402.000\n",
       "PTRATIO     17.000\n",
       "LSTAT        4.450\n",
       "Name: 200, dtype: float64"
      ]
     },
     "execution_count": 32,
     "metadata": {},
     "output_type": "execute_result"
    }
   ],
   "source": [
    "inputs_test.iloc[0]"
   ]
  },
  {
   "cell_type": "markdown",
   "metadata": {},
   "source": [
    "### Build Neural Network"
   ]
  },
  {
   "cell_type": "markdown",
   "metadata": {},
   "source": [
    "#### Preprocessing"
   ]
  },
  {
   "cell_type": "markdown",
   "metadata": {},
   "source": [
    "*** https://scikit-learn.org/stable/modules/preprocessing.html\n",
    "*** http://www.faqs.org/faqs/ai-faq/neural-nets/part2/section-16.html"
   ]
  },
  {
   "cell_type": "markdown",
   "metadata": {},
   "source": [
    "Preprocessing can help models to run more accurately and effectively by preparing the data into a more suitable form."
   ]
  },
  {
   "cell_type": "markdown",
   "metadata": {},
   "source": [
    "##### Scaling"
   ]
  },
  {
   "cell_type": "code",
   "execution_count": 33,
   "metadata": {},
   "outputs": [],
   "source": [
    "from sklearn import preprocessing"
   ]
  },
  {
   "cell_type": "code",
   "execution_count": 34,
   "metadata": {},
   "outputs": [],
   "source": [
    "#inputs_scaled = preprocessing.scaler.fit_transform(inputs_train[['CRIM', 'ZN', 'INDUS', 'NOX', 'RM', 'RAD', 'TAX', 'PTRATIO', 'B', 'LSTAT']])"
   ]
  },
  {
   "cell_type": "code",
   "execution_count": 35,
   "metadata": {},
   "outputs": [],
   "source": [
    "scaler = preprocessing.MinMaxScaler()"
   ]
  },
  {
   "cell_type": "markdown",
   "metadata": {},
   "source": [
    "*** http://benalexkeen.com/feature-scaling-with-scikit-learn/"
   ]
  },
  {
   "cell_type": "code",
   "execution_count": 36,
   "metadata": {},
   "outputs": [],
   "source": [
    "inputs_train_scaled = pd.DataFrame(scaler.fit_transform(inputs_train), columns=inputs.columns)"
   ]
  },
  {
   "cell_type": "code",
   "execution_count": 37,
   "metadata": {
    "scrolled": true
   },
   "outputs": [
    {
     "data": {
      "text/html": [
       "<div>\n",
       "<style scoped>\n",
       "    .dataframe tbody tr th:only-of-type {\n",
       "        vertical-align: middle;\n",
       "    }\n",
       "\n",
       "    .dataframe tbody tr th {\n",
       "        vertical-align: top;\n",
       "    }\n",
       "\n",
       "    .dataframe thead th {\n",
       "        text-align: right;\n",
       "    }\n",
       "</style>\n",
       "<table border=\"1\" class=\"dataframe\">\n",
       "  <thead>\n",
       "    <tr style=\"text-align: right;\">\n",
       "      <th></th>\n",
       "      <th>INDUS</th>\n",
       "      <th>NOX</th>\n",
       "      <th>RM</th>\n",
       "      <th>TAX</th>\n",
       "      <th>PTRATIO</th>\n",
       "      <th>LSTAT</th>\n",
       "    </tr>\n",
       "  </thead>\n",
       "  <tbody>\n",
       "    <tr>\n",
       "      <th>count</th>\n",
       "      <td>404.000000</td>\n",
       "      <td>404.000000</td>\n",
       "      <td>404.000000</td>\n",
       "      <td>404.000000</td>\n",
       "      <td>404.000000</td>\n",
       "      <td>404.000000</td>\n",
       "    </tr>\n",
       "    <tr>\n",
       "      <th>mean</th>\n",
       "      <td>0.392670</td>\n",
       "      <td>0.352117</td>\n",
       "      <td>0.519073</td>\n",
       "      <td>0.421005</td>\n",
       "      <td>0.621787</td>\n",
       "      <td>0.302845</td>\n",
       "    </tr>\n",
       "    <tr>\n",
       "      <th>std</th>\n",
       "      <td>0.256346</td>\n",
       "      <td>0.243354</td>\n",
       "      <td>0.132725</td>\n",
       "      <td>0.324011</td>\n",
       "      <td>0.231042</td>\n",
       "      <td>0.192894</td>\n",
       "    </tr>\n",
       "    <tr>\n",
       "      <th>min</th>\n",
       "      <td>0.000000</td>\n",
       "      <td>0.000000</td>\n",
       "      <td>0.000000</td>\n",
       "      <td>0.000000</td>\n",
       "      <td>0.000000</td>\n",
       "      <td>0.000000</td>\n",
       "    </tr>\n",
       "    <tr>\n",
       "      <th>25%</th>\n",
       "      <td>0.164815</td>\n",
       "      <td>0.140560</td>\n",
       "      <td>0.443715</td>\n",
       "      <td>0.171756</td>\n",
       "      <td>0.507979</td>\n",
       "      <td>0.150938</td>\n",
       "    </tr>\n",
       "    <tr>\n",
       "      <th>50%</th>\n",
       "      <td>0.335370</td>\n",
       "      <td>0.309129</td>\n",
       "      <td>0.502778</td>\n",
       "      <td>0.272901</td>\n",
       "      <td>0.686170</td>\n",
       "      <td>0.273593</td>\n",
       "    </tr>\n",
       "    <tr>\n",
       "      <th>75%</th>\n",
       "      <td>0.642963</td>\n",
       "      <td>0.491183</td>\n",
       "      <td>0.583924</td>\n",
       "      <td>0.914122</td>\n",
       "      <td>0.808511</td>\n",
       "      <td>0.418874</td>\n",
       "    </tr>\n",
       "    <tr>\n",
       "      <th>max</th>\n",
       "      <td>1.000000</td>\n",
       "      <td>1.000000</td>\n",
       "      <td>1.000000</td>\n",
       "      <td>1.000000</td>\n",
       "      <td>1.000000</td>\n",
       "      <td>1.000000</td>\n",
       "    </tr>\n",
       "  </tbody>\n",
       "</table>\n",
       "</div>"
      ],
      "text/plain": [
       "            INDUS         NOX          RM         TAX     PTRATIO       LSTAT\n",
       "count  404.000000  404.000000  404.000000  404.000000  404.000000  404.000000\n",
       "mean     0.392670    0.352117    0.519073    0.421005    0.621787    0.302845\n",
       "std      0.256346    0.243354    0.132725    0.324011    0.231042    0.192894\n",
       "min      0.000000    0.000000    0.000000    0.000000    0.000000    0.000000\n",
       "25%      0.164815    0.140560    0.443715    0.171756    0.507979    0.150938\n",
       "50%      0.335370    0.309129    0.502778    0.272901    0.686170    0.273593\n",
       "75%      0.642963    0.491183    0.583924    0.914122    0.808511    0.418874\n",
       "max      1.000000    1.000000    1.000000    1.000000    1.000000    1.000000"
      ]
     },
     "execution_count": 37,
     "metadata": {},
     "output_type": "execute_result"
    }
   ],
   "source": [
    "inputs_train_scaled.describe()"
   ]
  },
  {
   "cell_type": "code",
   "execution_count": 38,
   "metadata": {},
   "outputs": [],
   "source": [
    "inputs_test_scaled = pd.DataFrame(scaler.fit_transform(inputs_test), columns=inputs.columns)"
   ]
  },
  {
   "cell_type": "code",
   "execution_count": 39,
   "metadata": {
    "scrolled": true
   },
   "outputs": [
    {
     "data": {
      "text/html": [
       "<div>\n",
       "<style scoped>\n",
       "    .dataframe tbody tr th:only-of-type {\n",
       "        vertical-align: middle;\n",
       "    }\n",
       "\n",
       "    .dataframe tbody tr th {\n",
       "        vertical-align: top;\n",
       "    }\n",
       "\n",
       "    .dataframe thead th {\n",
       "        text-align: right;\n",
       "    }\n",
       "</style>\n",
       "<table border=\"1\" class=\"dataframe\">\n",
       "  <thead>\n",
       "    <tr style=\"text-align: right;\">\n",
       "      <th></th>\n",
       "      <th>INDUS</th>\n",
       "      <th>NOX</th>\n",
       "      <th>RM</th>\n",
       "      <th>TAX</th>\n",
       "      <th>PTRATIO</th>\n",
       "      <th>LSTAT</th>\n",
       "    </tr>\n",
       "  </thead>\n",
       "  <tbody>\n",
       "    <tr>\n",
       "      <th>count</th>\n",
       "      <td>102.000000</td>\n",
       "      <td>102.000000</td>\n",
       "      <td>102.000000</td>\n",
       "      <td>102.000000</td>\n",
       "      <td>102.000000</td>\n",
       "      <td>102.000000</td>\n",
       "    </tr>\n",
       "    <tr>\n",
       "      <th>mean</th>\n",
       "      <td>0.460272</td>\n",
       "      <td>0.316362</td>\n",
       "      <td>0.530036</td>\n",
       "      <td>0.460328</td>\n",
       "      <td>0.685819</td>\n",
       "      <td>0.324006</td>\n",
       "    </tr>\n",
       "    <tr>\n",
       "      <th>std</th>\n",
       "      <td>0.307200</td>\n",
       "      <td>0.224636</td>\n",
       "      <td>0.178251</td>\n",
       "      <td>0.347379</td>\n",
       "      <td>0.249734</td>\n",
       "      <td>0.238285</td>\n",
       "    </tr>\n",
       "    <tr>\n",
       "      <th>min</th>\n",
       "      <td>0.000000</td>\n",
       "      <td>0.000000</td>\n",
       "      <td>0.000000</td>\n",
       "      <td>0.000000</td>\n",
       "      <td>0.000000</td>\n",
       "      <td>0.000000</td>\n",
       "    </tr>\n",
       "    <tr>\n",
       "      <th>25%</th>\n",
       "      <td>0.188871</td>\n",
       "      <td>0.109414</td>\n",
       "      <td>0.443496</td>\n",
       "      <td>0.195560</td>\n",
       "      <td>0.558140</td>\n",
       "      <td>0.143198</td>\n",
       "    </tr>\n",
       "    <tr>\n",
       "      <th>50%</th>\n",
       "      <td>0.377975</td>\n",
       "      <td>0.277778</td>\n",
       "      <td>0.511421</td>\n",
       "      <td>0.342495</td>\n",
       "      <td>0.750000</td>\n",
       "      <td>0.257002</td>\n",
       "    </tr>\n",
       "    <tr>\n",
       "      <th>75%</th>\n",
       "      <td>0.823145</td>\n",
       "      <td>0.491770</td>\n",
       "      <td>0.604352</td>\n",
       "      <td>1.000000</td>\n",
       "      <td>0.883721</td>\n",
       "      <td>0.467298</td>\n",
       "    </tr>\n",
       "    <tr>\n",
       "      <th>max</th>\n",
       "      <td>1.000000</td>\n",
       "      <td>1.000000</td>\n",
       "      <td>1.000000</td>\n",
       "      <td>1.000000</td>\n",
       "      <td>1.000000</td>\n",
       "      <td>1.000000</td>\n",
       "    </tr>\n",
       "  </tbody>\n",
       "</table>\n",
       "</div>"
      ],
      "text/plain": [
       "            INDUS         NOX          RM         TAX     PTRATIO       LSTAT\n",
       "count  102.000000  102.000000  102.000000  102.000000  102.000000  102.000000\n",
       "mean     0.460272    0.316362    0.530036    0.460328    0.685819    0.324006\n",
       "std      0.307200    0.224636    0.178251    0.347379    0.249734    0.238285\n",
       "min      0.000000    0.000000    0.000000    0.000000    0.000000    0.000000\n",
       "25%      0.188871    0.109414    0.443496    0.195560    0.558140    0.143198\n",
       "50%      0.377975    0.277778    0.511421    0.342495    0.750000    0.257002\n",
       "75%      0.823145    0.491770    0.604352    1.000000    0.883721    0.467298\n",
       "max      1.000000    1.000000    1.000000    1.000000    1.000000    1.000000"
      ]
     },
     "execution_count": 39,
     "metadata": {},
     "output_type": "execute_result"
    }
   ],
   "source": [
    "inputs_test_scaled.describe()"
   ]
  },
  {
   "cell_type": "markdown",
   "metadata": {},
   "source": [
    "##### Whitening"
   ]
  },
  {
   "cell_type": "code",
   "execution_count": 40,
   "metadata": {},
   "outputs": [],
   "source": [
    "#from sklearn.decomposition import PCA\n",
    "import sklearn.decomposition as dec"
   ]
  },
  {
   "cell_type": "code",
   "execution_count": 41,
   "metadata": {},
   "outputs": [
    {
     "data": {
      "text/html": [
       "<div>\n",
       "<style scoped>\n",
       "    .dataframe tbody tr th:only-of-type {\n",
       "        vertical-align: middle;\n",
       "    }\n",
       "\n",
       "    .dataframe tbody tr th {\n",
       "        vertical-align: top;\n",
       "    }\n",
       "\n",
       "    .dataframe thead th {\n",
       "        text-align: right;\n",
       "    }\n",
       "</style>\n",
       "<table border=\"1\" class=\"dataframe\">\n",
       "  <thead>\n",
       "    <tr style=\"text-align: right;\">\n",
       "      <th></th>\n",
       "      <th>INDUS</th>\n",
       "      <th>NOX</th>\n",
       "      <th>RM</th>\n",
       "      <th>TAX</th>\n",
       "      <th>PTRATIO</th>\n",
       "      <th>LSTAT</th>\n",
       "    </tr>\n",
       "  </thead>\n",
       "  <tbody>\n",
       "    <tr>\n",
       "      <th>count</th>\n",
       "      <td>4.040000e+02</td>\n",
       "      <td>4.040000e+02</td>\n",
       "      <td>4.040000e+02</td>\n",
       "      <td>4.040000e+02</td>\n",
       "      <td>4.040000e+02</td>\n",
       "      <td>4.040000e+02</td>\n",
       "    </tr>\n",
       "    <tr>\n",
       "      <th>mean</th>\n",
       "      <td>-7.859500e-17</td>\n",
       "      <td>1.918158e-16</td>\n",
       "      <td>2.709604e-16</td>\n",
       "      <td>1.396023e-16</td>\n",
       "      <td>3.072350e-16</td>\n",
       "      <td>-9.288500e-17</td>\n",
       "    </tr>\n",
       "    <tr>\n",
       "      <th>std</th>\n",
       "      <td>1.000000e+00</td>\n",
       "      <td>1.000000e+00</td>\n",
       "      <td>1.000000e+00</td>\n",
       "      <td>1.000000e+00</td>\n",
       "      <td>1.000000e+00</td>\n",
       "      <td>1.000000e+00</td>\n",
       "    </tr>\n",
       "    <tr>\n",
       "      <th>min</th>\n",
       "      <td>-1.555477e+00</td>\n",
       "      <td>-2.303694e+00</td>\n",
       "      <td>-2.868656e+00</td>\n",
       "      <td>-3.176449e+00</td>\n",
       "      <td>-2.113294e+00</td>\n",
       "      <td>-2.877554e+00</td>\n",
       "    </tr>\n",
       "    <tr>\n",
       "      <th>25%</th>\n",
       "      <td>-8.850322e-01</td>\n",
       "      <td>-6.024559e-01</td>\n",
       "      <td>-6.723994e-01</td>\n",
       "      <td>-6.208729e-01</td>\n",
       "      <td>-8.181301e-01</td>\n",
       "      <td>-5.549301e-01</td>\n",
       "    </tr>\n",
       "    <tr>\n",
       "      <th>50%</th>\n",
       "      <td>-2.978230e-01</td>\n",
       "      <td>-1.834983e-01</td>\n",
       "      <td>-6.602553e-02</td>\n",
       "      <td>-9.191103e-03</td>\n",
       "      <td>-1.204650e-01</td>\n",
       "      <td>2.549515e-02</td>\n",
       "    </tr>\n",
       "    <tr>\n",
       "      <th>75%</th>\n",
       "      <td>1.095381e+00</td>\n",
       "      <td>1.561204e-01</td>\n",
       "      <td>5.805274e-01</td>\n",
       "      <td>6.066816e-01</td>\n",
       "      <td>6.906388e-01</td>\n",
       "      <td>5.928555e-01</td>\n",
       "    </tr>\n",
       "    <tr>\n",
       "      <th>max</th>\n",
       "      <td>2.002386e+00</td>\n",
       "      <td>3.134827e+00</td>\n",
       "      <td>3.689726e+00</td>\n",
       "      <td>3.377018e+00</td>\n",
       "      <td>2.829232e+00</td>\n",
       "      <td>6.055041e+00</td>\n",
       "    </tr>\n",
       "  </tbody>\n",
       "</table>\n",
       "</div>"
      ],
      "text/plain": [
       "              INDUS           NOX            RM           TAX       PTRATIO  \\\n",
       "count  4.040000e+02  4.040000e+02  4.040000e+02  4.040000e+02  4.040000e+02   \n",
       "mean  -7.859500e-17  1.918158e-16  2.709604e-16  1.396023e-16  3.072350e-16   \n",
       "std    1.000000e+00  1.000000e+00  1.000000e+00  1.000000e+00  1.000000e+00   \n",
       "min   -1.555477e+00 -2.303694e+00 -2.868656e+00 -3.176449e+00 -2.113294e+00   \n",
       "25%   -8.850322e-01 -6.024559e-01 -6.723994e-01 -6.208729e-01 -8.181301e-01   \n",
       "50%   -2.978230e-01 -1.834983e-01 -6.602553e-02 -9.191103e-03 -1.204650e-01   \n",
       "75%    1.095381e+00  1.561204e-01  5.805274e-01  6.066816e-01  6.906388e-01   \n",
       "max    2.002386e+00  3.134827e+00  3.689726e+00  3.377018e+00  2.829232e+00   \n",
       "\n",
       "              LSTAT  \n",
       "count  4.040000e+02  \n",
       "mean  -9.288500e-17  \n",
       "std    1.000000e+00  \n",
       "min   -2.877554e+00  \n",
       "25%   -5.549301e-01  \n",
       "50%    2.549515e-02  \n",
       "75%    5.928555e-01  \n",
       "max    6.055041e+00  "
      ]
     },
     "execution_count": 41,
     "metadata": {},
     "output_type": "execute_result"
    }
   ],
   "source": [
    "pca = dec.PCA(n_components=6, whiten=True)\n",
    "pca.fit(inputs_train_scaled)\n",
    "inputs_train_white = pd.DataFrame(pca.transform(inputs_train_scaled), columns=inputs.columns)\n",
    "inputs_train_white.describe()"
   ]
  },
  {
   "cell_type": "code",
   "execution_count": 42,
   "metadata": {},
   "outputs": [
    {
     "data": {
      "text/html": [
       "<div>\n",
       "<style scoped>\n",
       "    .dataframe tbody tr th:only-of-type {\n",
       "        vertical-align: middle;\n",
       "    }\n",
       "\n",
       "    .dataframe tbody tr th {\n",
       "        vertical-align: top;\n",
       "    }\n",
       "\n",
       "    .dataframe thead th {\n",
       "        text-align: right;\n",
       "    }\n",
       "</style>\n",
       "<table border=\"1\" class=\"dataframe\">\n",
       "  <thead>\n",
       "    <tr style=\"text-align: right;\">\n",
       "      <th></th>\n",
       "      <th>INDUS</th>\n",
       "      <th>NOX</th>\n",
       "      <th>RM</th>\n",
       "      <th>TAX</th>\n",
       "      <th>PTRATIO</th>\n",
       "      <th>LSTAT</th>\n",
       "    </tr>\n",
       "  </thead>\n",
       "  <tbody>\n",
       "    <tr>\n",
       "      <th>count</th>\n",
       "      <td>1.020000e+02</td>\n",
       "      <td>1.020000e+02</td>\n",
       "      <td>1.020000e+02</td>\n",
       "      <td>1.020000e+02</td>\n",
       "      <td>1.020000e+02</td>\n",
       "      <td>1.020000e+02</td>\n",
       "    </tr>\n",
       "    <tr>\n",
       "      <th>mean</th>\n",
       "      <td>-5.646355e-17</td>\n",
       "      <td>4.353816e-16</td>\n",
       "      <td>-4.647698e-16</td>\n",
       "      <td>-4.571507e-16</td>\n",
       "      <td>2.829980e-17</td>\n",
       "      <td>-2.963316e-16</td>\n",
       "    </tr>\n",
       "    <tr>\n",
       "      <th>std</th>\n",
       "      <td>1.000000e+00</td>\n",
       "      <td>1.000000e+00</td>\n",
       "      <td>1.000000e+00</td>\n",
       "      <td>1.000000e+00</td>\n",
       "      <td>1.000000e+00</td>\n",
       "      <td>1.000000e+00</td>\n",
       "    </tr>\n",
       "    <tr>\n",
       "      <th>min</th>\n",
       "      <td>-1.699574e+00</td>\n",
       "      <td>-1.749199e+00</td>\n",
       "      <td>-2.532409e+00</td>\n",
       "      <td>-2.233506e+00</td>\n",
       "      <td>-2.831747e+00</td>\n",
       "      <td>-2.505963e+00</td>\n",
       "    </tr>\n",
       "    <tr>\n",
       "      <th>25%</th>\n",
       "      <td>-8.130185e-01</td>\n",
       "      <td>-7.333461e-01</td>\n",
       "      <td>-7.045665e-01</td>\n",
       "      <td>-5.458571e-01</td>\n",
       "      <td>-7.015259e-01</td>\n",
       "      <td>-7.802616e-01</td>\n",
       "    </tr>\n",
       "    <tr>\n",
       "      <th>50%</th>\n",
       "      <td>-2.488701e-01</td>\n",
       "      <td>-2.221333e-01</td>\n",
       "      <td>-1.592763e-01</td>\n",
       "      <td>-2.442367e-01</td>\n",
       "      <td>-1.535010e-01</td>\n",
       "      <td>3.875642e-02</td>\n",
       "    </tr>\n",
       "    <tr>\n",
       "      <th>75%</th>\n",
       "      <td>1.211334e+00</td>\n",
       "      <td>7.179221e-01</td>\n",
       "      <td>6.578802e-01</td>\n",
       "      <td>4.831295e-01</td>\n",
       "      <td>6.616781e-01</td>\n",
       "      <td>7.383843e-01</td>\n",
       "    </tr>\n",
       "    <tr>\n",
       "      <th>max</th>\n",
       "      <td>1.741621e+00</td>\n",
       "      <td>3.186021e+00</td>\n",
       "      <td>3.444971e+00</td>\n",
       "      <td>3.343197e+00</td>\n",
       "      <td>2.894642e+00</td>\n",
       "      <td>2.706351e+00</td>\n",
       "    </tr>\n",
       "  </tbody>\n",
       "</table>\n",
       "</div>"
      ],
      "text/plain": [
       "              INDUS           NOX            RM           TAX       PTRATIO  \\\n",
       "count  1.020000e+02  1.020000e+02  1.020000e+02  1.020000e+02  1.020000e+02   \n",
       "mean  -5.646355e-17  4.353816e-16 -4.647698e-16 -4.571507e-16  2.829980e-17   \n",
       "std    1.000000e+00  1.000000e+00  1.000000e+00  1.000000e+00  1.000000e+00   \n",
       "min   -1.699574e+00 -1.749199e+00 -2.532409e+00 -2.233506e+00 -2.831747e+00   \n",
       "25%   -8.130185e-01 -7.333461e-01 -7.045665e-01 -5.458571e-01 -7.015259e-01   \n",
       "50%   -2.488701e-01 -2.221333e-01 -1.592763e-01 -2.442367e-01 -1.535010e-01   \n",
       "75%    1.211334e+00  7.179221e-01  6.578802e-01  4.831295e-01  6.616781e-01   \n",
       "max    1.741621e+00  3.186021e+00  3.444971e+00  3.343197e+00  2.894642e+00   \n",
       "\n",
       "              LSTAT  \n",
       "count  1.020000e+02  \n",
       "mean  -2.963316e-16  \n",
       "std    1.000000e+00  \n",
       "min   -2.505963e+00  \n",
       "25%   -7.802616e-01  \n",
       "50%    3.875642e-02  \n",
       "75%    7.383843e-01  \n",
       "max    2.706351e+00  "
      ]
     },
     "execution_count": 42,
     "metadata": {},
     "output_type": "execute_result"
    }
   ],
   "source": [
    "pca.fit(inputs_test_scaled)\n",
    "inputs_test_white = pd.DataFrame(pca.transform(inputs_test_scaled), columns=inputs.columns)\n",
    "inputs_test_white.describe()"
   ]
  },
  {
   "cell_type": "markdown",
   "metadata": {},
   "source": [
    "#### Keras"
   ]
  },
  {
   "cell_type": "code",
   "execution_count": 43,
   "metadata": {},
   "outputs": [],
   "source": [
    "# Create a new neural network.\n",
    "from keras.models import Sequential\n",
    "from keras.layers import Dense\n",
    "from keras.callbacks import EarlyStopping"
   ]
  },
  {
   "cell_type": "markdown",
   "metadata": {},
   "source": [
    "*** https://towardsdatascience.com/activation-functions-and-its-types-which-is-better-a9a5310cc8f"
   ]
  },
  {
   "cell_type": "markdown",
   "metadata": {},
   "source": [
    "There are many different ways to build a neural network, the accuracy will depend on the approach we take."
   ]
  },
  {
   "cell_type": "markdown",
   "metadata": {},
   "source": [
    "*** https://www.dlology.com/blog/quick-notes-on-how-to-choose-optimizer-in-keras/\n",
    "*** https://machinelearningmastery.com/how-to-choose-loss-functions-when-training-deep-learning-neural-networks/\n",
    "*** https://towardsdatascience.com/activation-functions-and-its-types-which-is-better-a9a5310cc8f"
   ]
  },
  {
   "cell_type": "markdown",
   "metadata": {},
   "source": [
    "##### Defining Functions"
   ]
  },
  {
   "cell_type": "markdown",
   "metadata": {},
   "source": [
    "It will be useful to create some functions now as some of the following work will be repetitive."
   ]
  },
  {
   "cell_type": "code",
   "execution_count": 44,
   "metadata": {},
   "outputs": [],
   "source": [
    "# Function that carries out the keras.evaluate() function and prints to a specified format\n",
    "def evaluator(evalN, modelN):\n",
    "    evalN = modelN.evaluate(inputs_test_scaled, outputs_test, verbose=0)\n",
    "    print('This model evaluates as:')\n",
    "    print('* Loss:', evalN[0])\n",
    "    print('* MAE:', evalN[1])\n",
    "    print('* Accuracy:', evalN[2])"
   ]
  },
  {
   "cell_type": "code",
   "execution_count": 45,
   "metadata": {},
   "outputs": [],
   "source": [
    "# Function that carries out the keras.predict() function and prints to a specified format\n",
    "def predictor(predN, modelN):\n",
    "    predN = modelN.predict(inputs_test_scaled.as_matrix()[0:1])\n",
    "    print('This model predicts as:')\n",
    "    print('* Predicted Value:', predN[0][0])\n",
    "    print('* Actual value:', outputs_test[0:1].iloc[0])"
   ]
  },
  {
   "cell_type": "markdown",
   "metadata": {},
   "source": [
    "#### First Attempt"
   ]
  },
  {
   "cell_type": "markdown",
   "metadata": {},
   "source": [
    "This will be a three layer neural network with densities of 100, 50 and 1."
   ]
  },
  {
   "cell_type": "markdown",
   "metadata": {},
   "source": [
    "##### Construct Model"
   ]
  },
  {
   "cell_type": "code",
   "execution_count": 46,
   "metadata": {
    "scrolled": true
   },
   "outputs": [
    {
     "name": "stdout",
     "output_type": "stream",
     "text": [
      "WARNING:tensorflow:From C:\\Users\\Peter McGowan\\Anaconda3\\lib\\site-packages\\tensorflow\\python\\ops\\resource_variable_ops.py:435: colocate_with (from tensorflow.python.framework.ops) is deprecated and will be removed in a future version.\n",
      "Instructions for updating:\n",
      "Colocations handled automatically by placer.\n",
      "Model: \"sequential_1\"\n",
      "_________________________________________________________________\n",
      "Layer (type)                 Output Shape              Param #   \n",
      "=================================================================\n",
      "dense_1 (Dense)              (None, 64)                448       \n",
      "_________________________________________________________________\n",
      "dense_2 (Dense)              (None, 32)                2080      \n",
      "_________________________________________________________________\n",
      "dense_3 (Dense)              (None, 1)                 33        \n",
      "=================================================================\n",
      "Total params: 2,561\n",
      "Trainable params: 2,561\n",
      "Non-trainable params: 0\n",
      "_________________________________________________________________\n"
     ]
    }
   ],
   "source": [
    "model1 = Sequential() \n",
    "\n",
    "model1.add(Dense(units=64, activation='relu', input_dim=6))\n",
    "model1.add(Dense(units=32, activation='relu'))\n",
    "model1.add(Dense(units=1))\n",
    "\n",
    "model1.compile(loss='mse', optimizer='adam', metrics=['mae', 'acc'])\n",
    "\n",
    "model1.summary()"
   ]
  },
  {
   "cell_type": "markdown",
   "metadata": {},
   "source": [
    "*** https://machinelearningmastery.com/how-to-stop-training-deep-neural-networks-at-the-right-time-using-early-stopping/"
   ]
  },
  {
   "cell_type": "code",
   "execution_count": 47,
   "metadata": {},
   "outputs": [],
   "source": [
    "earlystop = EarlyStopping(monitor='val_loss', patience=20, verbose=1, mode='min', restore_best_weights=False)"
   ]
  },
  {
   "cell_type": "code",
   "execution_count": 48,
   "metadata": {
    "scrolled": true
   },
   "outputs": [
    {
     "name": "stdout",
     "output_type": "stream",
     "text": [
      "WARNING:tensorflow:From C:\\Users\\Peter McGowan\\Anaconda3\\lib\\site-packages\\tensorflow\\python\\ops\\math_ops.py:3066: to_int32 (from tensorflow.python.ops.math_ops) is deprecated and will be removed in a future version.\n",
      "Instructions for updating:\n",
      "Use tf.cast instead.\n",
      "Train on 404 samples, validate on 102 samples\n",
      "Epoch 1/500\n",
      "404/404 [==============================] - 0s 309us/step - loss: 570.8296 - mae: 22.2315 - acc: 0.0000e+00 - val_loss: 659.1202 - val_mae: 23.3468 - val_acc: 0.0000e+00\n",
      "Epoch 2/500\n",
      "404/404 [==============================] - 0s 39us/step - loss: 559.2688 - mae: 21.9506 - acc: 0.0000e+00 - val_loss: 646.1558 - val_mae: 23.0445 - val_acc: 0.0000e+00\n",
      "Epoch 3/500\n",
      "404/404 [==============================] - 0s 42us/step - loss: 545.7009 - mae: 21.6250 - acc: 0.0000e+00 - val_loss: 627.9450 - val_mae: 22.6176 - val_acc: 0.0000e+00\n",
      "Epoch 4/500\n",
      "404/404 [==============================] - 0s 39us/step - loss: 524.7030 - mae: 21.1087 - acc: 0.0000e+00 - val_loss: 598.0188 - val_mae: 21.8899 - val_acc: 0.0000e+00\n",
      "Epoch 5/500\n",
      "404/404 [==============================] - 0s 39us/step - loss: 490.4235 - mae: 20.2248 - acc: 0.0000e+00 - val_loss: 551.0268 - val_mae: 20.6829 - val_acc: 0.0000e+00\n",
      "Epoch 6/500\n",
      "404/404 [==============================] - 0s 39us/step - loss: 439.2978 - mae: 18.7923 - acc: 0.0000e+00 - val_loss: 483.9218 - val_mae: 18.8267 - val_acc: 0.0000e+00\n",
      "Epoch 7/500\n",
      "404/404 [==============================] - 0s 39us/step - loss: 369.4740 - mae: 16.7151 - acc: 0.0000e+00 - val_loss: 401.7347 - val_mae: 16.3954 - val_acc: 0.0000e+00\n",
      "Epoch 8/500\n",
      "404/404 [==============================] - 0s 39us/step - loss: 290.5978 - mae: 14.1678 - acc: 0.0025 - val_loss: 317.5500 - val_mae: 14.0934 - val_acc: 0.0000e+00\n",
      "Epoch 9/500\n",
      "404/404 [==============================] - 0s 39us/step - loss: 217.9493 - mae: 11.8108 - acc: 0.0050 - val_loss: 253.1439 - val_mae: 12.5387 - val_acc: 0.0000e+00\n",
      "Epoch 10/500\n",
      "404/404 [==============================] - 0s 39us/step - loss: 170.6892 - mae: 10.3181 - acc: 0.0000e+00 - val_loss: 221.5150 - val_mae: 11.9241 - val_acc: 0.0000e+00\n",
      "Epoch 11/500\n",
      "404/404 [==============================] - 0s 39us/step - loss: 150.3027 - mae: 9.7222 - acc: 0.0074 - val_loss: 211.2028 - val_mae: 11.6839 - val_acc: 0.0098\n",
      "Epoch 12/500\n",
      "404/404 [==============================] - 0s 0us/step - loss: 142.2732 - mae: 9.4133 - acc: 0.0025 - val_loss: 201.4024 - val_mae: 11.3717 - val_acc: 0.0000e+00\n",
      "Epoch 13/500\n",
      "404/404 [==============================] - 0s 39us/step - loss: 135.6485 - mae: 9.1552 - acc: 0.0025 - val_loss: 191.0609 - val_mae: 11.0287 - val_acc: 0.0000e+00\n",
      "Epoch 14/500\n",
      "404/404 [==============================] - 0s 39us/step - loss: 128.6659 - mae: 8.8606 - acc: 0.0050 - val_loss: 180.7252 - val_mae: 10.6582 - val_acc: 0.0000e+00\n",
      "Epoch 15/500\n",
      "404/404 [==============================] - 0s 0us/step - loss: 121.7488 - mae: 8.5560 - acc: 0.0050 - val_loss: 170.6353 - val_mae: 10.3026 - val_acc: 0.0000e+00\n",
      "Epoch 16/500\n",
      "404/404 [==============================] - 0s 0us/step - loss: 114.8315 - mae: 8.2609 - acc: 0.0099 - val_loss: 160.9345 - val_mae: 9.9500 - val_acc: 0.0000e+00\n",
      "Epoch 17/500\n",
      "404/404 [==============================] - 0s 0us/step - loss: 108.2671 - mae: 7.9541 - acc: 0.0099 - val_loss: 150.9529 - val_mae: 9.5969 - val_acc: 0.0000e+00\n",
      "Epoch 18/500\n",
      "404/404 [==============================] - 0s 39us/step - loss: 101.8886 - mae: 7.6625 - acc: 0.0074 - val_loss: 141.0575 - val_mae: 9.1976 - val_acc: 0.0000e+00\n",
      "Epoch 19/500\n",
      "404/404 [==============================] - 0s 39us/step - loss: 95.2901 - mae: 7.3527 - acc: 0.0050 - val_loss: 131.4944 - val_mae: 8.8322 - val_acc: 0.0000e+00\n",
      "Epoch 20/500\n",
      "404/404 [==============================] - 0s 0us/step - loss: 88.9750 - mae: 7.0472 - acc: 0.0025 - val_loss: 122.2653 - val_mae: 8.4115 - val_acc: 0.0000e+00\n",
      "Epoch 21/500\n",
      "404/404 [==============================] - 0s 39us/step - loss: 82.8130 - mae: 6.7289 - acc: 0.0074 - val_loss: 113.2343 - val_mae: 8.0087 - val_acc: 0.0000e+00\n",
      "Epoch 22/500\n",
      "404/404 [==============================] - 0s 39us/step - loss: 76.9236 - mae: 6.4411 - acc: 0.0099 - val_loss: 104.5099 - val_mae: 7.6101 - val_acc: 0.0000e+00\n",
      "Epoch 23/500\n",
      "404/404 [==============================] - 0s 77us/step - loss: 71.5059 - mae: 6.1529 - acc: 0.0074 - val_loss: 95.9545 - val_mae: 7.2116 - val_acc: 0.0196\n",
      "Epoch 24/500\n",
      "404/404 [==============================] - 0s 0us/step - loss: 66.0700 - mae: 5.8442 - acc: 0.0124 - val_loss: 88.4810 - val_mae: 6.8271 - val_acc: 0.0294\n",
      "Epoch 25/500\n",
      "404/404 [==============================] - ETA: 0s - loss: 65.0353 - mae: 5.8739 - acc: 0.0000e+ - 0s 0us/step - loss: 61.0728 - mae: 5.5601 - acc: 0.0124 - val_loss: 81.3858 - val_mae: 6.4661 - val_acc: 0.0294\n",
      "Epoch 26/500\n",
      "404/404 [==============================] - 0s 39us/step - loss: 56.5526 - mae: 5.3115 - acc: 0.0124 - val_loss: 74.6112 - val_mae: 6.1485 - val_acc: 0.0000e+00\n",
      "Epoch 27/500\n",
      "404/404 [==============================] - 0s 0us/step - loss: 52.3955 - mae: 5.0873 - acc: 0.0099 - val_loss: 68.7679 - val_mae: 5.8510 - val_acc: 0.0000e+00\n",
      "Epoch 28/500\n",
      "404/404 [==============================] - 0s 0us/step - loss: 48.8454 - mae: 4.8919 - acc: 0.0099 - val_loss: 63.2615 - val_mae: 5.5867 - val_acc: 0.0294\n",
      "Epoch 29/500\n",
      "404/404 [==============================] - 0s 0us/step - loss: 45.4747 - mae: 4.7093 - acc: 0.0099 - val_loss: 58.8008 - val_mae: 5.3578 - val_acc: 0.0294\n",
      "Epoch 30/500\n",
      "404/404 [==============================] - 0s 39us/step - loss: 42.6585 - mae: 4.5470 - acc: 0.0099 - val_loss: 55.0473 - val_mae: 5.1709 - val_acc: 0.0098\n",
      "Epoch 31/500\n",
      "404/404 [==============================] - 0s 39us/step - loss: 40.4277 - mae: 4.3742 - acc: 0.0099 - val_loss: 51.8519 - val_mae: 5.0265 - val_acc: 0.0000e+00\n",
      "Epoch 32/500\n",
      "404/404 [==============================] - 0s 39us/step - loss: 38.1304 - mae: 4.3209 - acc: 0.0099 - val_loss: 48.0969 - val_mae: 4.9667 - val_acc: 0.0000e+00\n",
      "Epoch 33/500\n",
      "404/404 [==============================] - 0s 39us/step - loss: 36.5644 - mae: 4.2580 - acc: 0.0124 - val_loss: 45.8325 - val_mae: 4.8198 - val_acc: 0.0000e+00\n",
      "Epoch 34/500\n",
      "404/404 [==============================] - 0s 39us/step - loss: 35.0058 - mae: 4.0947 - acc: 0.0099 - val_loss: 43.8983 - val_mae: 4.6917 - val_acc: 0.0000e+00\n",
      "Epoch 35/500\n",
      "404/404 [==============================] - 0s 39us/step - loss: 33.5579 - mae: 4.0147 - acc: 0.0099 - val_loss: 41.8712 - val_mae: 4.6025 - val_acc: 0.0000e+00\n",
      "Epoch 36/500\n",
      "404/404 [==============================] - 0s 39us/step - loss: 32.3723 - mae: 3.9628 - acc: 0.0074 - val_loss: 39.8895 - val_mae: 4.4962 - val_acc: 0.0098\n",
      "Epoch 37/500\n",
      "404/404 [==============================] - 0s 39us/step - loss: 31.2259 - mae: 3.8969 - acc: 0.0074 - val_loss: 38.0792 - val_mae: 4.4014 - val_acc: 0.0098\n",
      "Epoch 38/500\n",
      "404/404 [==============================] - 0s 39us/step - loss: 30.2410 - mae: 3.7761 - acc: 0.0074 - val_loss: 37.2873 - val_mae: 4.3186 - val_acc: 0.0098\n",
      "Epoch 39/500\n",
      "404/404 [==============================] - 0s 39us/step - loss: 29.3383 - mae: 3.6948 - acc: 0.0050 - val_loss: 35.7147 - val_mae: 4.2582 - val_acc: 0.0000e+00\n",
      "Epoch 40/500\n",
      "404/404 [==============================] - 0s 39us/step - loss: 28.7355 - mae: 3.7288 - acc: 0.0025 - val_loss: 34.3217 - val_mae: 4.2096 - val_acc: 0.0000e+00\n",
      "Epoch 41/500\n",
      "404/404 [==============================] - 0s 0us/step - loss: 27.7758 - mae: 3.5867 - acc: 0.0050 - val_loss: 34.3292 - val_mae: 4.1588 - val_acc: 0.0000e+00\n",
      "Epoch 42/500\n",
      "404/404 [==============================] - 0s 0us/step - loss: 27.2587 - mae: 3.5534 - acc: 0.0000e+00 - val_loss: 33.0344 - val_mae: 4.1169 - val_acc: 0.0000e+00\n",
      "Epoch 43/500\n",
      "404/404 [==============================] - 0s 0us/step - loss: 26.4668 - mae: 3.4827 - acc: 0.0025 - val_loss: 32.7526 - val_mae: 4.0828 - val_acc: 0.0000e+00\n",
      "Epoch 44/500\n",
      "404/404 [==============================] - 0s 0us/step - loss: 26.0389 - mae: 3.4171 - acc: 0.0025 - val_loss: 31.8976 - val_mae: 4.0431 - val_acc: 0.0000e+00\n",
      "Epoch 45/500\n",
      "404/404 [==============================] - 0s 0us/step - loss: 25.4709 - mae: 3.4144 - acc: 0.0000e+00 - val_loss: 30.9264 - val_mae: 4.0098 - val_acc: 0.0000e+00\n",
      "Epoch 46/500\n",
      "404/404 [==============================] - 0s 0us/step - loss: 25.0488 - mae: 3.4034 - acc: 0.0000e+00 - val_loss: 30.4860 - val_mae: 3.9811 - val_acc: 0.0000e+00\n",
      "Epoch 47/500\n",
      "404/404 [==============================] - 0s 39us/step - loss: 24.6295 - mae: 3.3110 - acc: 0.0000e+00 - val_loss: 30.5928 - val_mae: 3.9638 - val_acc: 0.0098\n",
      "Epoch 48/500\n",
      "404/404 [==============================] - 0s 0us/step - loss: 24.2615 - mae: 3.2840 - acc: 0.0025 - val_loss: 29.7060 - val_mae: 3.9374 - val_acc: 0.0098\n",
      "Epoch 49/500\n",
      "404/404 [==============================] - 0s 39us/step - loss: 23.8736 - mae: 3.2810 - acc: 0.0074 - val_loss: 29.2648 - val_mae: 3.9174 - val_acc: 0.0098\n",
      "Epoch 50/500\n",
      "404/404 [==============================] - 0s 39us/step - loss: 23.6052 - mae: 3.2369 - acc: 0.0074 - val_loss: 29.0830 - val_mae: 3.9075 - val_acc: 0.0098\n",
      "Epoch 51/500\n",
      "404/404 [==============================] - 0s 39us/step - loss: 23.3102 - mae: 3.2183 - acc: 0.0074 - val_loss: 28.5217 - val_mae: 3.8818 - val_acc: 0.0098\n",
      "Epoch 52/500\n",
      "404/404 [==============================] - 0s 39us/step - loss: 23.0877 - mae: 3.2365 - acc: 0.0124 - val_loss: 27.8866 - val_mae: 3.8660 - val_acc: 0.0098\n",
      "Epoch 53/500\n",
      "404/404 [==============================] - 0s 39us/step - loss: 22.7983 - mae: 3.1696 - acc: 0.0149 - val_loss: 28.5980 - val_mae: 3.8663 - val_acc: 0.0098\n",
      "Epoch 54/500\n",
      "404/404 [==============================] - 0s 39us/step - loss: 22.6347 - mae: 3.1348 - acc: 0.0149 - val_loss: 27.5598 - val_mae: 3.8327 - val_acc: 0.0098\n",
      "Epoch 55/500\n",
      "404/404 [==============================] - 0s 39us/step - loss: 22.3533 - mae: 3.1581 - acc: 0.0124 - val_loss: 27.1395 - val_mae: 3.8212 - val_acc: 0.0098\n",
      "Epoch 56/500\n",
      "404/404 [==============================] - 0s 39us/step - loss: 22.3077 - mae: 3.1804 - acc: 0.0099 - val_loss: 27.0351 - val_mae: 3.8140 - val_acc: 0.0098\n",
      "Epoch 57/500\n",
      "404/404 [==============================] - 0s 45us/step - loss: 22.0294 - mae: 3.1354 - acc: 0.0099 - val_loss: 27.0963 - val_mae: 3.8056 - val_acc: 0.0098\n",
      "Epoch 58/500\n",
      "404/404 [==============================] - 0s 8us/step - loss: 21.8898 - mae: 3.0910 - acc: 0.0149 - val_loss: 27.1441 - val_mae: 3.8039 - val_acc: 0.0098\n",
      "Epoch 59/500\n",
      "404/404 [==============================] - 0s 39us/step - loss: 21.7385 - mae: 3.0735 - acc: 0.0173 - val_loss: 26.4768 - val_mae: 3.7822 - val_acc: 0.0098\n",
      "Epoch 60/500\n",
      "404/404 [==============================] - 0s 39us/step - loss: 21.6121 - mae: 3.1198 - acc: 0.0124 - val_loss: 25.9942 - val_mae: 3.7736 - val_acc: 0.0098\n",
      "Epoch 61/500\n",
      "404/404 [==============================] - 0s 39us/step - loss: 21.5144 - mae: 3.1072 - acc: 0.0149 - val_loss: 26.0492 - val_mae: 3.7667 - val_acc: 0.0098\n",
      "Epoch 62/500\n",
      "404/404 [==============================] - 0s 39us/step - loss: 21.3563 - mae: 3.0589 - acc: 0.0198 - val_loss: 26.5286 - val_mae: 3.7711 - val_acc: 0.0098\n",
      "Epoch 63/500\n",
      "404/404 [==============================] - 0s 39us/step - loss: 21.3139 - mae: 3.0608 - acc: 0.0173 - val_loss: 25.9043 - val_mae: 3.7506 - val_acc: 0.0000e+00\n",
      "Epoch 64/500\n",
      "404/404 [==============================] - 0s 39us/step - loss: 21.2094 - mae: 3.0379 - acc: 0.0198 - val_loss: 26.0622 - val_mae: 3.7476 - val_acc: 0.0098\n",
      "Epoch 65/500\n",
      "404/404 [==============================] - 0s 39us/step - loss: 21.0883 - mae: 3.0414 - acc: 0.0198 - val_loss: 25.7664 - val_mae: 3.7369 - val_acc: 0.0098\n",
      "Epoch 66/500\n",
      "404/404 [==============================] - 0s 39us/step - loss: 20.9545 - mae: 3.0699 - acc: 0.0173 - val_loss: 25.1350 - val_mae: 3.7329 - val_acc: 0.0000e+00\n",
      "Epoch 67/500\n",
      "404/404 [==============================] - 0s 39us/step - loss: 20.9208 - mae: 3.0557 - acc: 0.0198 - val_loss: 25.5062 - val_mae: 3.7252 - val_acc: 0.0098\n",
      "Epoch 68/500\n",
      "404/404 [==============================] - 0s 39us/step - loss: 20.8254 - mae: 3.0416 - acc: 0.0198 - val_loss: 25.3800 - val_mae: 3.7176 - val_acc: 0.0098\n",
      "Epoch 69/500\n",
      "404/404 [==============================] - 0s 0us/step - loss: 20.7330 - mae: 3.0145 - acc: 0.0198 - val_loss: 25.3769 - val_mae: 3.7102 - val_acc: 0.0098\n",
      "Epoch 70/500\n",
      "404/404 [==============================] - 0s 0us/step - loss: 20.9721 - mae: 3.0948 - acc: 0.0149 - val_loss: 24.7346 - val_mae: 3.7015 - val_acc: 0.0000e+00\n",
      "Epoch 71/500\n",
      "404/404 [==============================] - 0s 0us/step - loss: 20.7653 - mae: 3.0101 - acc: 0.0223 - val_loss: 25.5574 - val_mae: 3.7070 - val_acc: 0.0098\n",
      "Epoch 72/500\n",
      "404/404 [==============================] - 0s 2us/step - loss: 20.6291 - mae: 3.0331 - acc: 0.0198 - val_loss: 24.6634 - val_mae: 3.6847 - val_acc: 0.0000e+00\n",
      "Epoch 73/500\n",
      "404/404 [==============================] - 0s 39us/step - loss: 20.4015 - mae: 3.0080 - acc: 0.0198 - val_loss: 24.8816 - val_mae: 3.6813 - val_acc: 0.0098\n",
      "Epoch 74/500\n",
      "404/404 [==============================] - 0s 39us/step - loss: 20.4595 - mae: 2.9988 - acc: 0.0248 - val_loss: 24.7802 - val_mae: 3.6740 - val_acc: 0.0098\n",
      "Epoch 75/500\n",
      "404/404 [==============================] - 0s 39us/step - loss: 20.3429 - mae: 3.0171 - acc: 0.0198 - val_loss: 24.2338 - val_mae: 3.6708 - val_acc: 0.0000e+00\n",
      "Epoch 76/500\n",
      "404/404 [==============================] - 0s 39us/step - loss: 20.2944 - mae: 3.0047 - acc: 0.0173 - val_loss: 25.1482 - val_mae: 3.6829 - val_acc: 0.0098\n",
      "Epoch 77/500\n",
      "404/404 [==============================] - 0s 39us/step - loss: 20.2136 - mae: 2.9746 - acc: 0.0223 - val_loss: 24.1698 - val_mae: 3.6555 - val_acc: 0.0000e+00\n",
      "Epoch 78/500\n",
      "404/404 [==============================] - 0s 39us/step - loss: 20.1558 - mae: 2.9918 - acc: 0.0198 - val_loss: 24.2921 - val_mae: 3.6464 - val_acc: 0.0098\n",
      "Epoch 79/500\n",
      "404/404 [==============================] - 0s 39us/step - loss: 20.0067 - mae: 2.9838 - acc: 0.0198 - val_loss: 24.0720 - val_mae: 3.6396 - val_acc: 0.0000e+00\n",
      "Epoch 80/500\n",
      "404/404 [==============================] - 0s 0us/step - loss: 19.9649 - mae: 2.9891 - acc: 0.0173 - val_loss: 24.0698 - val_mae: 3.6340 - val_acc: 0.0098\n",
      "Epoch 81/500\n",
      "404/404 [==============================] - 0s 0us/step - loss: 19.9473 - mae: 2.9952 - acc: 0.0149 - val_loss: 23.8940 - val_mae: 3.6284 - val_acc: 0.0000e+00\n",
      "Epoch 82/500\n",
      "404/404 [==============================] - 0s 18us/step - loss: 19.8902 - mae: 2.9486 - acc: 0.0173 - val_loss: 24.3141 - val_mae: 3.6342 - val_acc: 0.0098\n",
      "Epoch 83/500\n",
      "404/404 [==============================] - 0s 39us/step - loss: 19.7833 - mae: 2.9686 - acc: 0.0149 - val_loss: 23.4808 - val_mae: 3.6146 - val_acc: 0.0000e+00\n",
      "Epoch 84/500\n",
      "404/404 [==============================] - 0s 39us/step - loss: 19.7877 - mae: 2.9583 - acc: 0.0223 - val_loss: 24.1769 - val_mae: 3.6210 - val_acc: 0.0098\n",
      "Epoch 85/500\n",
      "404/404 [==============================] - 0s 39us/step - loss: 19.7006 - mae: 2.9807 - acc: 0.0124 - val_loss: 23.2889 - val_mae: 3.6008 - val_acc: 0.0000e+00\n",
      "Epoch 86/500\n",
      "404/404 [==============================] - 0s 0us/step - loss: 19.6065 - mae: 2.9659 - acc: 0.0149 - val_loss: 23.7242 - val_mae: 3.6044 - val_acc: 0.0098\n",
      "Epoch 87/500\n",
      "404/404 [==============================] - 0s 0us/step - loss: 19.7705 - mae: 2.9953 - acc: 0.0149 - val_loss: 23.5182 - val_mae: 3.5946 - val_acc: 0.0098\n",
      "Epoch 88/500\n",
      "404/404 [==============================] - 0s 0us/step - loss: 19.6647 - mae: 2.9275 - acc: 0.0198 - val_loss: 23.6046 - val_mae: 3.5905 - val_acc: 0.0098\n",
      "Epoch 89/500\n",
      "404/404 [==============================] - 0s 39us/step - loss: 19.4152 - mae: 2.9491 - acc: 0.0149 - val_loss: 23.1429 - val_mae: 3.5768 - val_acc: 0.0000e+00\n",
      "Epoch 90/500\n",
      "404/404 [==============================] - 0s 39us/step - loss: 19.3952 - mae: 2.9587 - acc: 0.0149 - val_loss: 23.2113 - val_mae: 3.5764 - val_acc: 0.0098\n",
      "Epoch 91/500\n",
      "404/404 [==============================] - 0s 39us/step - loss: 19.3397 - mae: 2.9547 - acc: 0.0124 - val_loss: 23.2749 - val_mae: 3.5760 - val_acc: 0.0098\n",
      "Epoch 92/500\n",
      "404/404 [==============================] - 0s 39us/step - loss: 19.2634 - mae: 2.9224 - acc: 0.0173 - val_loss: 23.5308 - val_mae: 3.5798 - val_acc: 0.0098\n",
      "Epoch 93/500\n",
      "404/404 [==============================] - 0s 39us/step - loss: 19.2219 - mae: 2.9173 - acc: 0.0173 - val_loss: 22.7800 - val_mae: 3.5576 - val_acc: 0.0000e+00\n",
      "Epoch 94/500\n",
      "404/404 [==============================] - 0s 39us/step - loss: 19.1414 - mae: 2.9526 - acc: 0.0149 - val_loss: 22.8261 - val_mae: 3.5547 - val_acc: 0.0000e+00\n",
      "Epoch 95/500\n",
      "404/404 [==============================] - 0s 39us/step - loss: 19.1185 - mae: 2.9123 - acc: 0.0149 - val_loss: 22.9688 - val_mae: 3.5543 - val_acc: 0.0098\n",
      "Epoch 96/500\n",
      "404/404 [==============================] - 0s 39us/step - loss: 19.0188 - mae: 2.9123 - acc: 0.0124 - val_loss: 22.8053 - val_mae: 3.5476 - val_acc: 0.0000e+00\n",
      "Epoch 97/500\n",
      "404/404 [==============================] - 0s 0us/step - loss: 18.9584 - mae: 2.8913 - acc: 0.0149 - val_loss: 23.0405 - val_mae: 3.5473 - val_acc: 0.0098\n",
      "Epoch 98/500\n",
      "404/404 [==============================] - 0s 39us/step - loss: 19.2183 - mae: 2.9622 - acc: 0.0149 - val_loss: 22.4212 - val_mae: 3.5299 - val_acc: 0.0000e+00\n",
      "Epoch 99/500\n",
      "404/404 [==============================] - 0s 39us/step - loss: 18.7966 - mae: 2.8876 - acc: 0.0149 - val_loss: 23.2213 - val_mae: 3.5474 - val_acc: 0.0098\n",
      "Epoch 100/500\n",
      "404/404 [==============================] - 0s 39us/step - loss: 18.9959 - mae: 2.9227 - acc: 0.0173 - val_loss: 22.3340 - val_mae: 3.5215 - val_acc: 0.0000e+00\n",
      "Epoch 101/500\n",
      "404/404 [==============================] - 0s 39us/step - loss: 18.8241 - mae: 2.8820 - acc: 0.0198 - val_loss: 23.1914 - val_mae: 3.5433 - val_acc: 0.0098\n",
      "Epoch 102/500\n",
      "404/404 [==============================] - 0s 39us/step - loss: 18.5930 - mae: 2.8825 - acc: 0.0099 - val_loss: 21.9744 - val_mae: 3.5050 - val_acc: 0.0000e+00\n",
      "Epoch 103/500\n",
      "404/404 [==============================] - 0s 39us/step - loss: 18.6656 - mae: 2.9322 - acc: 0.0124 - val_loss: 22.1875 - val_mae: 3.5076 - val_acc: 0.0000e+00\n",
      "Epoch 104/500\n",
      "404/404 [==============================] - 0s 39us/step - loss: 18.5274 - mae: 2.8775 - acc: 0.0124 - val_loss: 22.7998 - val_mae: 3.5217 - val_acc: 0.0098\n",
      "Epoch 105/500\n",
      "404/404 [==============================] - 0s 0us/step - loss: 18.5243 - mae: 2.8858 - acc: 0.0198 - val_loss: 21.9407 - val_mae: 3.4961 - val_acc: 0.0000e+00\n",
      "Epoch 106/500\n",
      "404/404 [==============================] - 0s 0us/step - loss: 18.5162 - mae: 2.8611 - acc: 0.0074 - val_loss: 22.4147 - val_mae: 3.4999 - val_acc: 0.0098\n",
      "Epoch 107/500\n",
      "404/404 [==============================] - 0s 39us/step - loss: 18.5127 - mae: 2.9013 - acc: 0.0099 - val_loss: 21.8840 - val_mae: 3.4902 - val_acc: 0.0000e+00\n",
      "Epoch 108/500\n",
      "404/404 [==============================] - 0s 39us/step - loss: 18.4930 - mae: 2.8458 - acc: 0.0173 - val_loss: 22.9521 - val_mae: 3.5182 - val_acc: 0.0098\n",
      "Epoch 109/500\n",
      "404/404 [==============================] - 0s 39us/step - loss: 18.3698 - mae: 2.8960 - acc: 0.0124 - val_loss: 21.5179 - val_mae: 3.4793 - val_acc: 0.0000e+00\n",
      "Epoch 110/500\n",
      "404/404 [==============================] - 0s 39us/step - loss: 18.2088 - mae: 2.8849 - acc: 0.0099 - val_loss: 22.3224 - val_mae: 3.4893 - val_acc: 0.0098\n",
      "Epoch 111/500\n",
      "404/404 [==============================] - 0s 39us/step - loss: 18.2273 - mae: 2.8531 - acc: 0.0173 - val_loss: 21.7480 - val_mae: 3.4693 - val_acc: 0.0000e+00\n",
      "Epoch 112/500\n",
      "404/404 [==============================] - 0s 39us/step - loss: 18.0969 - mae: 2.8318 - acc: 0.0198 - val_loss: 22.1840 - val_mae: 3.4780 - val_acc: 0.0098\n",
      "Epoch 113/500\n",
      "404/404 [==============================] - 0s 0us/step - loss: 18.2173 - mae: 2.8829 - acc: 0.0124 - val_loss: 21.5222 - val_mae: 3.4577 - val_acc: 0.0000e+00\n",
      "Epoch 114/500\n",
      "404/404 [==============================] - 0s 0us/step - loss: 17.9141 - mae: 2.8297 - acc: 0.0149 - val_loss: 22.2894 - val_mae: 3.4783 - val_acc: 0.0098\n",
      "Epoch 115/500\n",
      "404/404 [==============================] - 0s 39us/step - loss: 17.9280 - mae: 2.8251 - acc: 0.0149 - val_loss: 21.4951 - val_mae: 3.4482 - val_acc: 0.0098\n",
      "Epoch 116/500\n",
      "404/404 [==============================] - 0s 39us/step - loss: 17.9666 - mae: 2.8187 - acc: 0.0124 - val_loss: 21.8061 - val_mae: 3.4494 - val_acc: 0.0098\n",
      "Epoch 117/500\n",
      "404/404 [==============================] - 0s 39us/step - loss: 17.9237 - mae: 2.8555 - acc: 0.0124 - val_loss: 21.2109 - val_mae: 3.4445 - val_acc: 0.0000e+00\n",
      "Epoch 118/500\n",
      "404/404 [==============================] - 0s 39us/step - loss: 18.1074 - mae: 2.8065 - acc: 0.0149 - val_loss: 22.0166 - val_mae: 3.4569 - val_acc: 0.0098\n",
      "Epoch 119/500\n",
      "404/404 [==============================] - 0s 39us/step - loss: 17.6804 - mae: 2.8333 - acc: 0.0124 - val_loss: 21.0714 - val_mae: 3.4316 - val_acc: 0.0000e+00\n",
      "Epoch 120/500\n",
      "404/404 [==============================] - 0s 39us/step - loss: 17.7188 - mae: 2.8309 - acc: 0.0074 - val_loss: 21.6165 - val_mae: 3.4357 - val_acc: 0.0098\n",
      "Epoch 121/500\n",
      "404/404 [==============================] - 0s 0us/step - loss: 17.5926 - mae: 2.7993 - acc: 0.0173 - val_loss: 21.3186 - val_mae: 3.4229 - val_acc: 0.0098\n",
      "Epoch 122/500\n",
      "404/404 [==============================] - 0s 0us/step - loss: 17.5235 - mae: 2.7977 - acc: 0.0099 - val_loss: 21.2207 - val_mae: 3.4153 - val_acc: 0.0098\n",
      "Epoch 123/500\n",
      "404/404 [==============================] - 0s 39us/step - loss: 17.4411 - mae: 2.7903 - acc: 0.0074 - val_loss: 21.4055 - val_mae: 3.4167 - val_acc: 0.0098\n",
      "Epoch 124/500\n",
      "404/404 [==============================] - 0s 39us/step - loss: 17.5563 - mae: 2.8252 - acc: 0.0149 - val_loss: 21.1392 - val_mae: 3.4119 - val_acc: 0.0098\n",
      "Epoch 125/500\n",
      "404/404 [==============================] - 0s 39us/step - loss: 17.3227 - mae: 2.7981 - acc: 0.0099 - val_loss: 21.1588 - val_mae: 3.4035 - val_acc: 0.0098\n",
      "Epoch 126/500\n",
      "404/404 [==============================] - 0s 39us/step - loss: 17.4037 - mae: 2.7615 - acc: 0.0198 - val_loss: 21.0673 - val_mae: 3.3970 - val_acc: 0.0098\n",
      "Epoch 127/500\n",
      "404/404 [==============================] - 0s 39us/step - loss: 17.3070 - mae: 2.8341 - acc: 0.0149 - val_loss: 20.4431 - val_mae: 3.3886 - val_acc: 0.0000e+00\n",
      "Epoch 128/500\n",
      "404/404 [==============================] - 0s 39us/step - loss: 17.1295 - mae: 2.7665 - acc: 0.0074 - val_loss: 21.5869 - val_mae: 3.4139 - val_acc: 0.0098\n",
      "Epoch 129/500\n",
      "404/404 [==============================] - 0s 0us/step - loss: 17.1326 - mae: 2.7417 - acc: 0.0198 - val_loss: 20.6534 - val_mae: 3.3782 - val_acc: 0.0098\n",
      "Epoch 130/500\n",
      "404/404 [==============================] - 0s 0us/step - loss: 17.1359 - mae: 2.8033 - acc: 0.0149 - val_loss: 20.6764 - val_mae: 3.3758 - val_acc: 0.0098\n",
      "Epoch 131/500\n",
      "404/404 [==============================] - 0s 39us/step - loss: 16.9565 - mae: 2.7573 - acc: 0.0149 - val_loss: 20.8725 - val_mae: 3.3773 - val_acc: 0.0098\n",
      "Epoch 132/500\n",
      "404/404 [==============================] - 0s 39us/step - loss: 16.9043 - mae: 2.7422 - acc: 0.0198 - val_loss: 20.5420 - val_mae: 3.3633 - val_acc: 0.0098\n",
      "Epoch 133/500\n",
      "404/404 [==============================] - 0s 39us/step - loss: 16.7937 - mae: 2.7396 - acc: 0.0173 - val_loss: 20.5250 - val_mae: 3.3567 - val_acc: 0.0098\n",
      "Epoch 134/500\n",
      "404/404 [==============================] - 0s 39us/step - loss: 16.7494 - mae: 2.7379 - acc: 0.0198 - val_loss: 20.3078 - val_mae: 3.3505 - val_acc: 0.0098\n",
      "Epoch 135/500\n",
      "404/404 [==============================] - 0s 39us/step - loss: 16.6755 - mae: 2.7291 - acc: 0.0198 - val_loss: 20.6503 - val_mae: 3.3534 - val_acc: 0.0098\n",
      "Epoch 136/500\n",
      "404/404 [==============================] - 0s 39us/step - loss: 16.6549 - mae: 2.7192 - acc: 0.0198 - val_loss: 20.0595 - val_mae: 3.3359 - val_acc: 0.0098\n",
      "Epoch 137/500\n",
      "404/404 [==============================] - 0s 39us/step - loss: 16.6021 - mae: 2.7304 - acc: 0.0173 - val_loss: 20.2811 - val_mae: 3.3398 - val_acc: 0.0098\n",
      "Epoch 138/500\n",
      "404/404 [==============================] - 0s 0us/step - loss: 16.6756 - mae: 2.7616 - acc: 0.0198 - val_loss: 20.2034 - val_mae: 3.3371 - val_acc: 0.0098\n",
      "Epoch 139/500\n",
      "404/404 [==============================] - 0s 0us/step - loss: 16.4959 - mae: 2.6915 - acc: 0.0173 - val_loss: 20.3540 - val_mae: 3.3341 - val_acc: 0.0098\n",
      "Epoch 140/500\n",
      "404/404 [==============================] - 0s 39us/step - loss: 16.4342 - mae: 2.7194 - acc: 0.0198 - val_loss: 20.0397 - val_mae: 3.3234 - val_acc: 0.0098\n",
      "Epoch 141/500\n",
      "404/404 [==============================] - 0s 39us/step - loss: 16.3651 - mae: 2.6936 - acc: 0.0173 - val_loss: 20.2079 - val_mae: 3.3223 - val_acc: 0.0098\n",
      "Epoch 142/500\n",
      "404/404 [==============================] - 0s 39us/step - loss: 16.5417 - mae: 2.7746 - acc: 0.0149 - val_loss: 19.7983 - val_mae: 3.3128 - val_acc: 0.0098\n",
      "Epoch 143/500\n",
      "404/404 [==============================] - 0s 39us/step - loss: 16.1740 - mae: 2.6920 - acc: 0.0248 - val_loss: 20.4904 - val_mae: 3.3262 - val_acc: 0.0098\n",
      "Epoch 144/500\n",
      "404/404 [==============================] - 0s 39us/step - loss: 16.3333 - mae: 2.6612 - acc: 0.0198 - val_loss: 20.0506 - val_mae: 3.3079 - val_acc: 0.0098\n",
      "Epoch 145/500\n",
      "404/404 [==============================] - 0s 39us/step - loss: 16.1573 - mae: 2.6992 - acc: 0.0149 - val_loss: 19.4615 - val_mae: 3.2879 - val_acc: 0.0098\n",
      "Epoch 146/500\n",
      "404/404 [==============================] - 0s 0us/step - loss: 16.2906 - mae: 2.6914 - acc: 0.0223 - val_loss: 19.6608 - val_mae: 3.2956 - val_acc: 0.0098\n",
      "Epoch 147/500\n",
      "404/404 [==============================] - 0s 0us/step - loss: 16.0371 - mae: 2.6820 - acc: 0.0248 - val_loss: 19.4409 - val_mae: 3.2858 - val_acc: 0.0098\n",
      "Epoch 148/500\n",
      "404/404 [==============================] - 0s 0us/step - loss: 15.9939 - mae: 2.6940 - acc: 0.0173 - val_loss: 19.4387 - val_mae: 3.2814 - val_acc: 0.0098\n",
      "Epoch 149/500\n",
      "404/404 [==============================] - 0s 39us/step - loss: 15.9204 - mae: 2.6660 - acc: 0.0223 - val_loss: 19.7679 - val_mae: 3.2858 - val_acc: 0.0098\n",
      "Epoch 150/500\n",
      "404/404 [==============================] - 0s 39us/step - loss: 15.9172 - mae: 2.6503 - acc: 0.0198 - val_loss: 19.4692 - val_mae: 3.2721 - val_acc: 0.0098\n",
      "Epoch 151/500\n",
      "404/404 [==============================] - 0s 39us/step - loss: 15.8530 - mae: 2.6870 - acc: 0.0149 - val_loss: 19.4036 - val_mae: 3.2700 - val_acc: 0.0098\n",
      "Epoch 152/500\n",
      "404/404 [==============================] - 0s 39us/step - loss: 15.8795 - mae: 2.6319 - acc: 0.0198 - val_loss: 19.7581 - val_mae: 3.2773 - val_acc: 0.0098\n",
      "Epoch 153/500\n",
      "404/404 [==============================] - 0s 39us/step - loss: 15.7566 - mae: 2.6739 - acc: 0.0173 - val_loss: 19.1028 - val_mae: 3.2564 - val_acc: 0.0098\n",
      "Epoch 154/500\n",
      "404/404 [==============================] - 0s 39us/step - loss: 15.7617 - mae: 2.6503 - acc: 0.0272 - val_loss: 19.4146 - val_mae: 3.2602 - val_acc: 0.0098\n",
      "Epoch 155/500\n",
      "404/404 [==============================] - 0s 0us/step - loss: 15.6886 - mae: 2.6622 - acc: 0.0198 - val_loss: 19.0722 - val_mae: 3.2542 - val_acc: 0.0098\n",
      "Epoch 156/500\n",
      "404/404 [==============================] - 0s 0us/step - loss: 15.7425 - mae: 2.6442 - acc: 0.0248 - val_loss: 19.9545 - val_mae: 3.2891 - val_acc: 0.0098\n",
      "Epoch 157/500\n",
      "404/404 [==============================] - 0s 39us/step - loss: 15.6010 - mae: 2.6547 - acc: 0.0248 - val_loss: 18.8579 - val_mae: 3.2404 - val_acc: 0.0098\n",
      "Epoch 158/500\n",
      "404/404 [==============================] - 0s 39us/step - loss: 15.5583 - mae: 2.6431 - acc: 0.0198 - val_loss: 18.8874 - val_mae: 3.2343 - val_acc: 0.0098\n",
      "Epoch 159/500\n",
      "404/404 [==============================] - 0s 39us/step - loss: 15.5428 - mae: 2.6560 - acc: 0.0223 - val_loss: 18.8678 - val_mae: 3.2305 - val_acc: 0.0098\n",
      "Epoch 160/500\n",
      "404/404 [==============================] - 0s 39us/step - loss: 15.4086 - mae: 2.6005 - acc: 0.0248 - val_loss: 19.7072 - val_mae: 3.2729 - val_acc: 0.0098\n",
      "Epoch 161/500\n",
      "404/404 [==============================] - 0s 39us/step - loss: 15.4323 - mae: 2.6360 - acc: 0.0173 - val_loss: 18.4448 - val_mae: 3.2229 - val_acc: 0.0098\n",
      "Epoch 162/500\n",
      "404/404 [==============================] - 0s 0us/step - loss: 15.4430 - mae: 2.6237 - acc: 0.0248 - val_loss: 19.1785 - val_mae: 3.2371 - val_acc: 0.0098\n",
      "Epoch 163/500\n",
      "404/404 [==============================] - 0s 39us/step - loss: 15.3049 - mae: 2.6217 - acc: 0.0248 - val_loss: 18.6485 - val_mae: 3.2080 - val_acc: 0.0098\n",
      "Epoch 164/500\n",
      "404/404 [==============================] - 0s 62us/step - loss: 15.4096 - mae: 2.6055 - acc: 0.0223 - val_loss: 18.7586 - val_mae: 3.2124 - val_acc: 0.0098\n",
      "Epoch 165/500\n",
      "404/404 [==============================] - 0s 2us/step - loss: 15.6150 - mae: 2.7056 - acc: 0.0173 - val_loss: 18.6459 - val_mae: 3.2048 - val_acc: 0.0098\n",
      "Epoch 166/500\n",
      "404/404 [==============================] - 0s 39us/step - loss: 15.4956 - mae: 2.5804 - acc: 0.0198 - val_loss: 18.8338 - val_mae: 3.2137 - val_acc: 0.0098\n",
      "Epoch 167/500\n",
      "404/404 [==============================] - 0s 39us/step - loss: 15.0430 - mae: 2.6072 - acc: 0.0198 - val_loss: 18.3062 - val_mae: 3.1811 - val_acc: 0.0098\n",
      "Epoch 168/500\n",
      "404/404 [==============================] - 0s 39us/step - loss: 14.9922 - mae: 2.5933 - acc: 0.0223 - val_loss: 18.6400 - val_mae: 3.1983 - val_acc: 0.0098\n",
      "Epoch 169/500\n",
      "404/404 [==============================] - 0s 39us/step - loss: 14.9650 - mae: 2.6048 - acc: 0.0198 - val_loss: 18.1607 - val_mae: 3.1734 - val_acc: 0.0098\n",
      "Epoch 170/500\n",
      "404/404 [==============================] - 0s 0us/step - loss: 15.1710 - mae: 2.5923 - acc: 0.0173 - val_loss: 18.3056 - val_mae: 3.1778 - val_acc: 0.0098\n",
      "Epoch 171/500\n",
      "404/404 [==============================] - 0s 39us/step - loss: 14.8518 - mae: 2.5974 - acc: 0.0173 - val_loss: 18.2710 - val_mae: 3.1752 - val_acc: 0.0098\n",
      "Epoch 172/500\n",
      "404/404 [==============================] - 0s 39us/step - loss: 14.8269 - mae: 2.5688 - acc: 0.0248 - val_loss: 18.4528 - val_mae: 3.1865 - val_acc: 0.0098\n",
      "Epoch 173/500\n",
      "404/404 [==============================] - 0s 39us/step - loss: 14.9034 - mae: 2.6042 - acc: 0.0198 - val_loss: 18.0668 - val_mae: 3.1596 - val_acc: 0.0098\n",
      "Epoch 174/500\n",
      "404/404 [==============================] - 0s 39us/step - loss: 14.9658 - mae: 2.5546 - acc: 0.0198 - val_loss: 18.4315 - val_mae: 3.1842 - val_acc: 0.0098\n",
      "Epoch 175/500\n",
      "404/404 [==============================] - 0s 39us/step - loss: 14.9647 - mae: 2.6240 - acc: 0.0198 - val_loss: 17.9311 - val_mae: 3.1493 - val_acc: 0.0098\n",
      "Epoch 176/500\n",
      "404/404 [==============================] - 0s 0us/step - loss: 14.9737 - mae: 2.5568 - acc: 0.0198 - val_loss: 18.2868 - val_mae: 3.1740 - val_acc: 0.0098\n",
      "Epoch 177/500\n",
      "404/404 [==============================] - 0s 0us/step - loss: 14.6573 - mae: 2.5715 - acc: 0.0173 - val_loss: 17.9574 - val_mae: 3.1494 - val_acc: 0.0098\n",
      "Epoch 178/500\n",
      "404/404 [==============================] - 0s 39us/step - loss: 14.8190 - mae: 2.5582 - acc: 0.0223 - val_loss: 18.2470 - val_mae: 3.1721 - val_acc: 0.0098\n",
      "Epoch 179/500\n",
      "404/404 [==============================] - 0s 39us/step - loss: 14.5831 - mae: 2.5841 - acc: 0.0173 - val_loss: 17.7363 - val_mae: 3.1415 - val_acc: 0.0098\n",
      "Epoch 180/500\n",
      "404/404 [==============================] - 0s 41us/step - loss: 14.4009 - mae: 2.5560 - acc: 0.0198 - val_loss: 18.2454 - val_mae: 3.1712 - val_acc: 0.0098\n",
      "Epoch 181/500\n",
      "404/404 [==============================] - 0s 39us/step - loss: 14.4612 - mae: 2.5294 - acc: 0.0223 - val_loss: 17.9998 - val_mae: 3.1517 - val_acc: 0.0098\n",
      "Epoch 182/500\n",
      "404/404 [==============================] - 0s 0us/step - loss: 14.4835 - mae: 2.5771 - acc: 0.0198 - val_loss: 17.6582 - val_mae: 3.1253 - val_acc: 0.0098\n",
      "Epoch 183/500\n",
      "404/404 [==============================] - 0s 0us/step - loss: 14.3667 - mae: 2.5255 - acc: 0.0149 - val_loss: 18.1042 - val_mae: 3.1590 - val_acc: 0.0098\n",
      "Epoch 184/500\n",
      "404/404 [==============================] - 0s 39us/step - loss: 14.3448 - mae: 2.5498 - acc: 0.0173 - val_loss: 17.6162 - val_mae: 3.1205 - val_acc: 0.0098\n",
      "Epoch 185/500\n",
      "404/404 [==============================] - 0s 39us/step - loss: 14.3073 - mae: 2.5162 - acc: 0.0173 - val_loss: 17.8269 - val_mae: 3.1353 - val_acc: 0.0098\n",
      "Epoch 186/500\n",
      "404/404 [==============================] - 0s 39us/step - loss: 14.2056 - mae: 2.5223 - acc: 0.0198 - val_loss: 17.4339 - val_mae: 3.1034 - val_acc: 0.0098\n",
      "Epoch 187/500\n",
      "404/404 [==============================] - 0s 39us/step - loss: 14.2355 - mae: 2.5690 - acc: 0.0198 - val_loss: 17.3141 - val_mae: 3.0970 - val_acc: 0.0098\n",
      "Epoch 188/500\n",
      "404/404 [==============================] - 0s 39us/step - loss: 14.4551 - mae: 2.5292 - acc: 0.0223 - val_loss: 17.9275 - val_mae: 3.1449 - val_acc: 0.0196\n",
      "Epoch 189/500\n",
      "404/404 [==============================] - 0s 0us/step - loss: 14.1548 - mae: 2.5521 - acc: 0.0173 - val_loss: 17.0134 - val_mae: 3.0874 - val_acc: 0.0098\n",
      "Epoch 190/500\n",
      "404/404 [==============================] - 0s 0us/step - loss: 13.9790 - mae: 2.5297 - acc: 0.0149 - val_loss: 17.8080 - val_mae: 3.1349 - val_acc: 0.0196\n",
      "Epoch 191/500\n",
      "404/404 [==============================] - 0s 39us/step - loss: 14.1204 - mae: 2.4977 - acc: 0.0173 - val_loss: 17.4129 - val_mae: 3.1006 - val_acc: 0.0098\n",
      "Epoch 192/500\n",
      "404/404 [==============================] - 0s 39us/step - loss: 13.9848 - mae: 2.5195 - acc: 0.0173 - val_loss: 17.1835 - val_mae: 3.0802 - val_acc: 0.0098\n",
      "Epoch 193/500\n",
      "404/404 [==============================] - 0s 39us/step - loss: 13.9237 - mae: 2.5149 - acc: 0.0149 - val_loss: 17.5664 - val_mae: 3.1144 - val_acc: 0.0196\n",
      "Epoch 194/500\n",
      "404/404 [==============================] - 0s 39us/step - loss: 13.9105 - mae: 2.4919 - acc: 0.0149 - val_loss: 17.3767 - val_mae: 3.0975 - val_acc: 0.0098\n",
      "Epoch 195/500\n",
      "404/404 [==============================] - 0s 39us/step - loss: 13.8863 - mae: 2.5067 - acc: 0.0173 - val_loss: 17.2526 - val_mae: 3.0863 - val_acc: 0.0098\n",
      "Epoch 196/500\n",
      "404/404 [==============================] - 0s 0us/step - loss: 13.9308 - mae: 2.5062 - acc: 0.0198 - val_loss: 17.0688 - val_mae: 3.0708 - val_acc: 0.0098\n",
      "Epoch 197/500\n",
      "404/404 [==============================] - 0s 39us/step - loss: 13.8128 - mae: 2.4934 - acc: 0.0173 - val_loss: 17.2641 - val_mae: 3.0891 - val_acc: 0.0196\n",
      "Epoch 198/500\n",
      "404/404 [==============================] - 0s 39us/step - loss: 13.8199 - mae: 2.5035 - acc: 0.0173 - val_loss: 17.0612 - val_mae: 3.0686 - val_acc: 0.0098\n",
      "Epoch 199/500\n",
      "404/404 [==============================] - 0s 39us/step - loss: 13.9674 - mae: 2.5346 - acc: 0.0198 - val_loss: 17.5264 - val_mae: 3.1110 - val_acc: 0.0196\n",
      "Epoch 200/500\n",
      "404/404 [==============================] - 0s 39us/step - loss: 13.8550 - mae: 2.4748 - acc: 0.0198 - val_loss: 17.1603 - val_mae: 3.0798 - val_acc: 0.0196\n",
      "Epoch 201/500\n",
      "404/404 [==============================] - 0s 39us/step - loss: 13.7206 - mae: 2.5322 - acc: 0.0149 - val_loss: 16.6393 - val_mae: 3.0376 - val_acc: 0.0098\n",
      "Epoch 202/500\n",
      "404/404 [==============================] - 0s 0us/step - loss: 13.6449 - mae: 2.4950 - acc: 0.0173 - val_loss: 17.1337 - val_mae: 3.0788 - val_acc: 0.0196\n",
      "Epoch 203/500\n",
      "404/404 [==============================] - 0s 39us/step - loss: 13.6274 - mae: 2.4814 - acc: 0.0173 - val_loss: 16.9938 - val_mae: 3.0649 - val_acc: 0.0196\n",
      "Epoch 204/500\n",
      "404/404 [==============================] - 0s 39us/step - loss: 13.6583 - mae: 2.5101 - acc: 0.0173 - val_loss: 16.7651 - val_mae: 3.0434 - val_acc: 0.0098\n",
      "Epoch 205/500\n",
      "404/404 [==============================] - 0s 39us/step - loss: 13.5290 - mae: 2.4737 - acc: 0.0149 - val_loss: 17.5641 - val_mae: 3.1188 - val_acc: 0.0098\n",
      "Epoch 206/500\n",
      "404/404 [==============================] - 0s 39us/step - loss: 13.5472 - mae: 2.4669 - acc: 0.0198 - val_loss: 16.6637 - val_mae: 3.0357 - val_acc: 0.0098\n",
      "Epoch 207/500\n",
      "404/404 [==============================] - 0s 39us/step - loss: 13.4920 - mae: 2.4984 - acc: 0.0173 - val_loss: 16.6644 - val_mae: 3.0378 - val_acc: 0.0098\n",
      "Epoch 208/500\n",
      "404/404 [==============================] - 0s 39us/step - loss: 13.5911 - mae: 2.4849 - acc: 0.0124 - val_loss: 17.1939 - val_mae: 3.0859 - val_acc: 0.0098\n",
      "Epoch 209/500\n",
      "404/404 [==============================] - 0s 0us/step - loss: 13.4820 - mae: 2.4923 - acc: 0.0099 - val_loss: 16.3139 - val_mae: 3.0033 - val_acc: 0.0098\n",
      "Epoch 210/500\n",
      "404/404 [==============================] - 0s 39us/step - loss: 13.4334 - mae: 2.4784 - acc: 0.0173 - val_loss: 16.9568 - val_mae: 3.0646 - val_acc: 0.0196\n",
      "Epoch 211/500\n",
      "404/404 [==============================] - 0s 39us/step - loss: 13.4106 - mae: 2.4767 - acc: 0.0149 - val_loss: 16.5885 - val_mae: 3.0321 - val_acc: 0.0196\n",
      "Epoch 212/500\n",
      "404/404 [==============================] - 0s 39us/step - loss: 13.3580 - mae: 2.4806 - acc: 0.0149 - val_loss: 16.6852 - val_mae: 3.0385 - val_acc: 0.0196\n",
      "Epoch 213/500\n",
      "404/404 [==============================] - 0s 39us/step - loss: 13.3571 - mae: 2.4594 - acc: 0.0149 - val_loss: 16.4802 - val_mae: 3.0185 - val_acc: 0.0196\n",
      "Epoch 214/500\n",
      "404/404 [==============================] - 0s 39us/step - loss: 13.3602 - mae: 2.4751 - acc: 0.0124 - val_loss: 16.3359 - val_mae: 3.0057 - val_acc: 0.0098\n",
      "Epoch 215/500\n",
      "404/404 [==============================] - 0s 39us/step - loss: 13.3064 - mae: 2.4749 - acc: 0.0149 - val_loss: 16.6541 - val_mae: 3.0384 - val_acc: 0.0196\n",
      "Epoch 216/500\n",
      "404/404 [==============================] - 0s 0us/step - loss: 13.4436 - mae: 2.4647 - acc: 0.0198 - val_loss: 16.3669 - val_mae: 3.0086 - val_acc: 0.0196\n",
      "Epoch 217/500\n",
      "404/404 [==============================] - 0s 0us/step - loss: 13.2354 - mae: 2.4756 - acc: 0.0149 - val_loss: 16.3376 - val_mae: 3.0084 - val_acc: 0.0196\n",
      "Epoch 218/500\n",
      "404/404 [==============================] - 0s 39us/step - loss: 13.2050 - mae: 2.4696 - acc: 0.0198 - val_loss: 16.5038 - val_mae: 3.0242 - val_acc: 0.0196\n",
      "Epoch 219/500\n",
      "404/404 [==============================] - 0s 39us/step - loss: 13.3014 - mae: 2.4788 - acc: 0.0198 - val_loss: 16.6893 - val_mae: 3.0429 - val_acc: 0.0098\n",
      "Epoch 220/500\n",
      "404/404 [==============================] - 0s 39us/step - loss: 13.3294 - mae: 2.4458 - acc: 0.0173 - val_loss: 16.5576 - val_mae: 3.0302 - val_acc: 0.0196\n",
      "Epoch 221/500\n",
      "404/404 [==============================] - 0s 39us/step - loss: 13.2009 - mae: 2.4848 - acc: 0.0173 - val_loss: 16.0554 - val_mae: 2.9826 - val_acc: 0.0098\n",
      "Epoch 222/500\n",
      "404/404 [==============================] - 0s 0us/step - loss: 13.1235 - mae: 2.4581 - acc: 0.0124 - val_loss: 16.2929 - val_mae: 3.0027 - val_acc: 0.0196\n",
      "Epoch 223/500\n",
      "404/404 [==============================] - 0s 39us/step - loss: 13.1541 - mae: 2.4649 - acc: 0.0173 - val_loss: 16.4279 - val_mae: 3.0154 - val_acc: 0.0196\n",
      "Epoch 224/500\n",
      "404/404 [==============================] - 0s 39us/step - loss: 13.1564 - mae: 2.4794 - acc: 0.0173 - val_loss: 16.3143 - val_mae: 3.0061 - val_acc: 0.0196\n",
      "Epoch 225/500\n",
      "404/404 [==============================] - 0s 39us/step - loss: 13.1136 - mae: 2.4460 - acc: 0.0124 - val_loss: 16.2822 - val_mae: 3.0046 - val_acc: 0.0196\n",
      "Epoch 226/500\n",
      "404/404 [==============================] - 0s 39us/step - loss: 13.0602 - mae: 2.4461 - acc: 0.0149 - val_loss: 16.0487 - val_mae: 2.9830 - val_acc: 0.0196\n",
      "Epoch 227/500\n",
      "404/404 [==============================] - 0s 39us/step - loss: 13.0967 - mae: 2.4782 - acc: 0.0149 - val_loss: 16.4300 - val_mae: 3.0180 - val_acc: 0.0196\n",
      "Epoch 228/500\n",
      "404/404 [==============================] - 0s 0us/step - loss: 12.9924 - mae: 2.4351 - acc: 0.0099 - val_loss: 16.0713 - val_mae: 2.9819 - val_acc: 0.0196\n",
      "Epoch 229/500\n",
      "404/404 [==============================] - 0s 0us/step - loss: 13.2812 - mae: 2.5087 - acc: 0.0198 - val_loss: 16.2869 - val_mae: 3.0052 - val_acc: 0.0196\n",
      "Epoch 230/500\n",
      "404/404 [==============================] - 0s 0us/step - loss: 12.9419 - mae: 2.4403 - acc: 0.0149 - val_loss: 16.0622 - val_mae: 2.9814 - val_acc: 0.0196\n",
      "Epoch 231/500\n",
      "404/404 [==============================] - 0s 39us/step - loss: 12.8852 - mae: 2.4409 - acc: 0.0173 - val_loss: 15.8849 - val_mae: 2.9652 - val_acc: 0.0196\n",
      "Epoch 232/500\n",
      "404/404 [==============================] - 0s 39us/step - loss: 12.9952 - mae: 2.4779 - acc: 0.0173 - val_loss: 16.0497 - val_mae: 2.9799 - val_acc: 0.0196\n",
      "Epoch 233/500\n",
      "404/404 [==============================] - 0s 39us/step - loss: 12.8501 - mae: 2.4307 - acc: 0.0173 - val_loss: 16.6407 - val_mae: 3.0389 - val_acc: 0.0098\n",
      "Epoch 234/500\n",
      "404/404 [==============================] - 0s 39us/step - loss: 12.9283 - mae: 2.4251 - acc: 0.0149 - val_loss: 15.8373 - val_mae: 2.9583 - val_acc: 0.0196\n",
      "Epoch 235/500\n",
      "404/404 [==============================] - 0s 0us/step - loss: 12.8933 - mae: 2.4666 - acc: 0.0149 - val_loss: 16.0445 - val_mae: 2.9795 - val_acc: 0.0196\n",
      "Epoch 236/500\n",
      "404/404 [==============================] - 0s 0us/step - loss: 12.9833 - mae: 2.4396 - acc: 0.0198 - val_loss: 15.7436 - val_mae: 2.9489 - val_acc: 0.0196\n",
      "Epoch 237/500\n",
      "404/404 [==============================] - 0s 39us/step - loss: 12.8053 - mae: 2.4466 - acc: 0.0198 - val_loss: 15.8750 - val_mae: 2.9624 - val_acc: 0.0196\n",
      "Epoch 238/500\n",
      "404/404 [==============================] - 0s 39us/step - loss: 12.8170 - mae: 2.4404 - acc: 0.0149 - val_loss: 16.0768 - val_mae: 2.9845 - val_acc: 0.0196\n",
      "Epoch 239/500\n",
      "404/404 [==============================] - 0s 39us/step - loss: 12.7863 - mae: 2.4275 - acc: 0.0124 - val_loss: 15.9307 - val_mae: 2.9676 - val_acc: 0.0196\n",
      "Epoch 240/500\n",
      "404/404 [==============================] - 0s 39us/step - loss: 12.8024 - mae: 2.4357 - acc: 0.0173 - val_loss: 15.7725 - val_mae: 2.9508 - val_acc: 0.0196\n",
      "Epoch 241/500\n",
      "404/404 [==============================] - 0s 0us/step - loss: 12.7082 - mae: 2.4405 - acc: 0.0173 - val_loss: 15.6722 - val_mae: 2.9410 - val_acc: 0.0196\n",
      "Epoch 242/500\n",
      "404/404 [==============================] - 0s 0us/step - loss: 12.7295 - mae: 2.4161 - acc: 0.0198 - val_loss: 15.9271 - val_mae: 2.9664 - val_acc: 0.0196\n",
      "Epoch 243/500\n",
      "404/404 [==============================] - 0s 39us/step - loss: 12.9286 - mae: 2.4584 - acc: 0.0149 - val_loss: 16.0398 - val_mae: 2.9780 - val_acc: 0.0098\n",
      "Epoch 244/500\n",
      "404/404 [==============================] - 0s 39us/step - loss: 12.6652 - mae: 2.4148 - acc: 0.0149 - val_loss: 15.8936 - val_mae: 2.9643 - val_acc: 0.0196\n",
      "Epoch 245/500\n",
      "404/404 [==============================] - 0s 39us/step - loss: 12.7245 - mae: 2.4423 - acc: 0.0173 - val_loss: 15.4765 - val_mae: 2.9202 - val_acc: 0.0294\n",
      "Epoch 246/500\n",
      "404/404 [==============================] - 0s 39us/step - loss: 12.7863 - mae: 2.4217 - acc: 0.0124 - val_loss: 15.8762 - val_mae: 2.9608 - val_acc: 0.0196\n",
      "Epoch 247/500\n",
      "404/404 [==============================] - 0s 39us/step - loss: 12.7143 - mae: 2.4525 - acc: 0.0173 - val_loss: 15.4986 - val_mae: 2.9223 - val_acc: 0.0294\n",
      "Epoch 248/500\n",
      "404/404 [==============================] - 0s 0us/step - loss: 12.8339 - mae: 2.4191 - acc: 0.0149 - val_loss: 15.9553 - val_mae: 2.9642 - val_acc: 0.0294\n",
      "Epoch 249/500\n",
      "404/404 [==============================] - 0s 39us/step - loss: 12.7360 - mae: 2.4827 - acc: 0.0248 - val_loss: 15.1551 - val_mae: 2.8985 - val_acc: 0.0196\n",
      "Epoch 250/500\n",
      "404/404 [==============================] - 0s 39us/step - loss: 12.5747 - mae: 2.4292 - acc: 0.0223 - val_loss: 16.4255 - val_mae: 3.0066 - val_acc: 0.0098\n",
      "Epoch 251/500\n",
      "404/404 [==============================] - 0s 39us/step - loss: 12.7180 - mae: 2.4286 - acc: 0.0198 - val_loss: 15.2192 - val_mae: 2.8983 - val_acc: 0.0294\n",
      "Epoch 252/500\n",
      "404/404 [==============================] - 0s 39us/step - loss: 12.4929 - mae: 2.4132 - acc: 0.0198 - val_loss: 15.8831 - val_mae: 2.9580 - val_acc: 0.0294\n",
      "Epoch 253/500\n",
      "404/404 [==============================] - 0s 0us/step - loss: 12.5369 - mae: 2.4023 - acc: 0.0124 - val_loss: 15.4096 - val_mae: 2.9089 - val_acc: 0.0294\n",
      "Epoch 254/500\n",
      "404/404 [==============================] - 0s 0us/step - loss: 12.5123 - mae: 2.4106 - acc: 0.0173 - val_loss: 15.4151 - val_mae: 2.9108 - val_acc: 0.0294\n",
      "Epoch 255/500\n",
      "404/404 [==============================] - 0s 39us/step - loss: 12.5151 - mae: 2.4209 - acc: 0.0149 - val_loss: 15.3814 - val_mae: 2.9046 - val_acc: 0.0294\n",
      "Epoch 256/500\n",
      "404/404 [==============================] - 0s 39us/step - loss: 12.5090 - mae: 2.4097 - acc: 0.0149 - val_loss: 16.0175 - val_mae: 2.9705 - val_acc: 0.0098\n",
      "Epoch 257/500\n",
      "404/404 [==============================] - 0s 39us/step - loss: 12.5451 - mae: 2.4121 - acc: 0.0198 - val_loss: 15.4502 - val_mae: 2.9100 - val_acc: 0.0294\n",
      "Epoch 258/500\n",
      "404/404 [==============================] - 0s 39us/step - loss: 12.6633 - mae: 2.4590 - acc: 0.0149 - val_loss: 15.4245 - val_mae: 2.9092 - val_acc: 0.0294\n",
      "Epoch 259/500\n",
      "404/404 [==============================] - 0s 39us/step - loss: 12.6414 - mae: 2.4038 - acc: 0.0198 - val_loss: 15.5408 - val_mae: 2.9230 - val_acc: 0.0294\n",
      "Epoch 260/500\n",
      "404/404 [==============================] - 0s 0us/step - loss: 12.3849 - mae: 2.3987 - acc: 0.0149 - val_loss: 15.3020 - val_mae: 2.8981 - val_acc: 0.0294\n",
      "Epoch 261/500\n",
      "404/404 [==============================] - 0s 39us/step - loss: 12.4431 - mae: 2.4214 - acc: 0.0124 - val_loss: 15.3483 - val_mae: 2.9030 - val_acc: 0.0294\n",
      "Epoch 262/500\n",
      "404/404 [==============================] - 0s 39us/step - loss: 12.4472 - mae: 2.3972 - acc: 0.0173 - val_loss: 15.2996 - val_mae: 2.8977 - val_acc: 0.0294\n",
      "Epoch 263/500\n",
      "404/404 [==============================] - 0s 39us/step - loss: 12.3950 - mae: 2.3985 - acc: 0.0124 - val_loss: 15.2108 - val_mae: 2.8893 - val_acc: 0.0294\n",
      "Epoch 264/500\n",
      "404/404 [==============================] - 0s 39us/step - loss: 12.4905 - mae: 2.4289 - acc: 0.0149 - val_loss: 15.1113 - val_mae: 2.8803 - val_acc: 0.0294\n",
      "Epoch 265/500\n",
      "404/404 [==============================] - 0s 39us/step - loss: 12.4394 - mae: 2.3953 - acc: 0.0124 - val_loss: 15.7458 - val_mae: 2.9396 - val_acc: 0.0196\n",
      "Epoch 266/500\n",
      "404/404 [==============================] - 0s 0us/step - loss: 12.5030 - mae: 2.4256 - acc: 0.0124 - val_loss: 14.9752 - val_mae: 2.8657 - val_acc: 0.0392\n",
      "Epoch 267/500\n",
      "404/404 [==============================] - 0s 39us/step - loss: 12.5619 - mae: 2.3913 - acc: 0.0124 - val_loss: 15.6364 - val_mae: 2.9244 - val_acc: 0.0294\n",
      "Epoch 268/500\n",
      "404/404 [==============================] - 0s 39us/step - loss: 12.2786 - mae: 2.4075 - acc: 0.0149 - val_loss: 14.6673 - val_mae: 2.8458 - val_acc: 0.0196\n",
      "Epoch 269/500\n",
      "404/404 [==============================] - 0s 39us/step - loss: 12.5117 - mae: 2.4006 - acc: 0.0149 - val_loss: 15.4476 - val_mae: 2.9097 - val_acc: 0.0294\n",
      "Epoch 270/500\n",
      "404/404 [==============================] - 0s 39us/step - loss: 12.3486 - mae: 2.4195 - acc: 0.0124 - val_loss: 15.1511 - val_mae: 2.8826 - val_acc: 0.0294\n",
      "Epoch 271/500\n",
      "404/404 [==============================] - 0s 40us/step - loss: 12.3936 - mae: 2.3806 - acc: 0.0124 - val_loss: 15.4536 - val_mae: 2.9077 - val_acc: 0.0294\n",
      "Epoch 272/500\n",
      "404/404 [==============================] - 0s 0us/step - loss: 12.3316 - mae: 2.4253 - acc: 0.0124 - val_loss: 14.8014 - val_mae: 2.8462 - val_acc: 0.0294\n",
      "Epoch 273/500\n",
      "404/404 [==============================] - 0s 39us/step - loss: 12.1738 - mae: 2.3847 - acc: 0.0149 - val_loss: 15.4447 - val_mae: 2.9063 - val_acc: 0.0294\n",
      "Epoch 274/500\n",
      "404/404 [==============================] - 0s 39us/step - loss: 12.3526 - mae: 2.3802 - acc: 0.0173 - val_loss: 15.0403 - val_mae: 2.8713 - val_acc: 0.0392\n",
      "Epoch 275/500\n",
      "404/404 [==============================] - 0s 39us/step - loss: 12.3153 - mae: 2.4112 - acc: 0.0149 - val_loss: 15.2953 - val_mae: 2.8933 - val_acc: 0.0392\n",
      "Epoch 276/500\n",
      "404/404 [==============================] - 0s 39us/step - loss: 12.2174 - mae: 2.3874 - acc: 0.0173 - val_loss: 14.8942 - val_mae: 2.8572 - val_acc: 0.0392\n",
      "Epoch 277/500\n",
      "404/404 [==============================] - 0s 0us/step - loss: 12.2117 - mae: 2.3881 - acc: 0.0124 - val_loss: 15.1652 - val_mae: 2.8829 - val_acc: 0.0392\n",
      "Epoch 278/500\n",
      "404/404 [==============================] - 0s 0us/step - loss: 12.5083 - mae: 2.3965 - acc: 0.0124 - val_loss: 15.0469 - val_mae: 2.8684 - val_acc: 0.0392\n",
      "Epoch 279/500\n",
      "404/404 [==============================] - 0s 39us/step - loss: 12.3419 - mae: 2.4255 - acc: 0.0124 - val_loss: 14.7569 - val_mae: 2.8444 - val_acc: 0.0392\n",
      "Epoch 280/500\n",
      "404/404 [==============================] - 0s 39us/step - loss: 12.1471 - mae: 2.3791 - acc: 0.0099 - val_loss: 15.4079 - val_mae: 2.9042 - val_acc: 0.0294\n",
      "Epoch 281/500\n",
      "404/404 [==============================] - 0s 39us/step - loss: 12.1436 - mae: 2.3854 - acc: 0.0099 - val_loss: 14.7910 - val_mae: 2.8456 - val_acc: 0.0294\n",
      "Epoch 282/500\n",
      "404/404 [==============================] - 0s 39us/step - loss: 12.1088 - mae: 2.3776 - acc: 0.0173 - val_loss: 15.0680 - val_mae: 2.8706 - val_acc: 0.0392\n",
      "Epoch 283/500\n",
      "404/404 [==============================] - 0s 39us/step - loss: 12.1784 - mae: 2.3856 - acc: 0.0124 - val_loss: 14.8031 - val_mae: 2.8516 - val_acc: 0.0392\n",
      "Epoch 284/500\n",
      "404/404 [==============================] - 0s 0us/step - loss: 12.2051 - mae: 2.3902 - acc: 0.0149 - val_loss: 15.0205 - val_mae: 2.8676 - val_acc: 0.0392\n",
      "Epoch 285/500\n",
      "404/404 [==============================] - 0s 39us/step - loss: 12.1826 - mae: 2.4086 - acc: 0.0149 - val_loss: 14.7219 - val_mae: 2.8392 - val_acc: 0.0294\n",
      "Epoch 286/500\n",
      "404/404 [==============================] - 0s 39us/step - loss: 12.2221 - mae: 2.3919 - acc: 0.0173 - val_loss: 14.7097 - val_mae: 2.8386 - val_acc: 0.0392\n",
      "Epoch 287/500\n",
      "404/404 [==============================] - 0s 39us/step - loss: 12.3522 - mae: 2.4338 - acc: 0.0099 - val_loss: 15.1460 - val_mae: 2.8803 - val_acc: 0.0294\n",
      "Epoch 288/500\n",
      "404/404 [==============================] - 0s 39us/step - loss: 12.3973 - mae: 2.4060 - acc: 0.0198 - val_loss: 14.9855 - val_mae: 2.8636 - val_acc: 0.0392\n",
      "Epoch 00288: early stopping\n"
     ]
    }
   ],
   "source": [
    "history1 = model1.fit(inputs_train_scaled, outputs_train, epochs=500, validation_data=(inputs_test_scaled, outputs_test), callbacks=[earlystop])"
   ]
  },
  {
   "cell_type": "code",
   "execution_count": 49,
   "metadata": {},
   "outputs": [
    {
     "name": "stdout",
     "output_type": "stream",
     "text": [
      "This model evaluates as:\n",
      "* Loss: 14.9855110318053\n",
      "* MAE: 2.8635849952697754\n",
      "* Accuracy: 0.03921568766236305\n"
     ]
    }
   ],
   "source": [
    "evaluate1 = []\n",
    "evaluator(evaluate1, model1)"
   ]
  },
  {
   "cell_type": "code",
   "execution_count": 50,
   "metadata": {},
   "outputs": [
    {
     "name": "stdout",
     "output_type": "stream",
     "text": [
      "This model predicts as:\n",
      "* Predicted Value: 31.381084\n",
      "* Actual value: 32.9\n"
     ]
    },
    {
     "name": "stderr",
     "output_type": "stream",
     "text": [
      "C:\\Users\\Peter McGowan\\Anaconda3\\lib\\site-packages\\ipykernel_launcher.py:3: FutureWarning: Method .as_matrix will be removed in a future version. Use .values instead.\n",
      "  This is separate from the ipykernel package so we can avoid doing imports until\n"
     ]
    }
   ],
   "source": [
    "predict1 = []\n",
    "predictor(predict1, model1)"
   ]
  },
  {
   "cell_type": "markdown",
   "metadata": {},
   "source": [
    "##### Results"
   ]
  },
  {
   "cell_type": "markdown",
   "metadata": {},
   "source": [
    "Our basic, three layer model run with the data as-is didn't perform particularly well, although it was converging towards a solution. Normalising the data definitely made a significant improvement. We can now move on to developing the structure of the model itself to improve the accuracy."
   ]
  },
  {
   "cell_type": "markdown",
   "metadata": {},
   "source": [
    "#### Second Attempt - Deepen"
   ]
  },
  {
   "cell_type": "markdown",
   "metadata": {},
   "source": [
    "We will develop the second attempt model and deepen it now by adding another hidden layer."
   ]
  },
  {
   "cell_type": "markdown",
   "metadata": {},
   "source": [
    "##### Construct Model"
   ]
  },
  {
   "cell_type": "code",
   "execution_count": 51,
   "metadata": {
    "scrolled": true
   },
   "outputs": [
    {
     "name": "stdout",
     "output_type": "stream",
     "text": [
      "Model: \"sequential_2\"\n",
      "_________________________________________________________________\n",
      "Layer (type)                 Output Shape              Param #   \n",
      "=================================================================\n",
      "dense_4 (Dense)              (None, 128)               896       \n",
      "_________________________________________________________________\n",
      "dense_5 (Dense)              (None, 64)                8256      \n",
      "_________________________________________________________________\n",
      "dense_6 (Dense)              (None, 32)                2080      \n",
      "_________________________________________________________________\n",
      "dense_7 (Dense)              (None, 1)                 33        \n",
      "=================================================================\n",
      "Total params: 11,265\n",
      "Trainable params: 11,265\n",
      "Non-trainable params: 0\n",
      "_________________________________________________________________\n"
     ]
    }
   ],
   "source": [
    "model2 = Sequential() \n",
    "\n",
    "model2.add(Dense(units=128, activation='relu', input_dim=6))\n",
    "model2.add(Dense(units=64, activation='relu'))\n",
    "model2.add(Dense(units=32, activation='relu'))\n",
    "model2.add(Dense(units=1))\n",
    "\n",
    "model2.compile(loss='mse', optimizer='adam', metrics=['mae', 'acc'])\n",
    "\n",
    "model2.summary()"
   ]
  },
  {
   "cell_type": "markdown",
   "metadata": {},
   "source": [
    "##### Training"
   ]
  },
  {
   "cell_type": "markdown",
   "metadata": {},
   "source": []
  },
  {
   "cell_type": "code",
   "execution_count": 52,
   "metadata": {
    "scrolled": true
   },
   "outputs": [
    {
     "name": "stdout",
     "output_type": "stream",
     "text": [
      "Train on 404 samples, validate on 102 samples\n",
      "Epoch 1/500\n",
      "404/404 [==============================] - 0s 348us/step - loss: 560.6211 - mae: 21.9723 - acc: 0.0000e+00 - val_loss: 633.5348 - val_mae: 22.7259 - val_acc: 0.0000e+00\n",
      "Epoch 2/500\n",
      "404/404 [==============================] - 0s 39us/step - loss: 514.3693 - mae: 20.8047 - acc: 0.0000e+00 - val_loss: 558.1933 - val_mae: 20.8403 - val_acc: 0.0000e+00\n",
      "Epoch 3/500\n",
      "404/404 [==============================] - 0s 39us/step - loss: 415.0602 - mae: 18.0431 - acc: 0.0050 - val_loss: 406.1202 - val_mae: 16.5411 - val_acc: 0.0000e+00\n",
      "Epoch 4/500\n",
      "404/404 [==============================] - 0s 39us/step - loss: 250.9220 - mae: 12.9954 - acc: 0.0000e+00 - val_loss: 232.5624 - val_mae: 12.1426 - val_acc: 0.0000e+00\n",
      "Epoch 5/500\n",
      "404/404 [==============================] - 0s 39us/step - loss: 147.8694 - mae: 9.5399 - acc: 0.0025 - val_loss: 205.1323 - val_mae: 11.5262 - val_acc: 0.0000e+00\n",
      "Epoch 6/500\n",
      "404/404 [==============================] - 0s 39us/step - loss: 126.0803 - mae: 8.7833 - acc: 0.0000e+00 - val_loss: 157.7257 - val_mae: 9.8665 - val_acc: 0.0098\n",
      "Epoch 7/500\n",
      "404/404 [==============================] - 0s 39us/step - loss: 99.1912 - mae: 7.5431 - acc: 0.0074 - val_loss: 124.6613 - val_mae: 8.5344 - val_acc: 0.0000e+00\n",
      "Epoch 8/500\n",
      "404/404 [==============================] - 0s 39us/step - loss: 77.8792 - mae: 6.5073 - acc: 0.0050 - val_loss: 93.7189 - val_mae: 7.2496 - val_acc: 0.0392\n",
      "Epoch 9/500\n",
      "404/404 [==============================] - 0s 39us/step - loss: 59.9379 - mae: 5.6218 - acc: 0.0074 - val_loss: 69.8989 - val_mae: 5.9764 - val_acc: 0.0294\n",
      "Epoch 10/500\n",
      "404/404 [==============================] - 0s 39us/step - loss: 45.8141 - mae: 4.7409 - acc: 0.0074 - val_loss: 51.9480 - val_mae: 5.0916 - val_acc: 0.0098\n",
      "Epoch 11/500\n",
      "404/404 [==============================] - 0s 39us/step - loss: 36.3584 - mae: 4.1893 - acc: 0.0074 - val_loss: 40.6651 - val_mae: 4.5560 - val_acc: 0.0000e+00\n",
      "Epoch 12/500\n",
      "404/404 [==============================] - 0s 39us/step - loss: 31.1438 - mae: 3.8005 - acc: 0.0099 - val_loss: 34.8948 - val_mae: 4.1367 - val_acc: 0.0098\n",
      "Epoch 13/500\n",
      "404/404 [==============================] - 0s 39us/step - loss: 28.1777 - mae: 3.5561 - acc: 0.0050 - val_loss: 31.2277 - val_mae: 3.9496 - val_acc: 0.0098\n",
      "Epoch 14/500\n",
      "404/404 [==============================] - 0s 39us/step - loss: 26.1441 - mae: 3.4086 - acc: 0.0025 - val_loss: 28.9230 - val_mae: 3.8077 - val_acc: 0.0196\n",
      "Epoch 15/500\n",
      "404/404 [==============================] - 0s 0us/step - loss: 24.5619 - mae: 3.2001 - acc: 0.0074 - val_loss: 27.6195 - val_mae: 3.7359 - val_acc: 0.0098\n",
      "Epoch 16/500\n",
      "404/404 [==============================] - 0s 0us/step - loss: 23.4587 - mae: 3.1416 - acc: 0.0074 - val_loss: 25.5197 - val_mae: 3.6824 - val_acc: 0.0196\n",
      "Epoch 17/500\n",
      "404/404 [==============================] - 0s 39us/step - loss: 22.6804 - mae: 3.1251 - acc: 0.0173 - val_loss: 25.5994 - val_mae: 3.6524 - val_acc: 0.0000e+00\n",
      "Epoch 18/500\n",
      "404/404 [==============================] - 0s 39us/step - loss: 21.9471 - mae: 3.0171 - acc: 0.0124 - val_loss: 24.6589 - val_mae: 3.6003 - val_acc: 0.0000e+00\n",
      "Epoch 19/500\n",
      "404/404 [==============================] - 0s 39us/step - loss: 21.6377 - mae: 2.9685 - acc: 0.0149 - val_loss: 23.9948 - val_mae: 3.5662 - val_acc: 0.0000e+00\n",
      "Epoch 20/500\n",
      "404/404 [==============================] - 0s 39us/step - loss: 21.2058 - mae: 2.9833 - acc: 0.0173 - val_loss: 23.9943 - val_mae: 3.5494 - val_acc: 0.0000e+00\n",
      "Epoch 21/500\n",
      "404/404 [==============================] - 0s 39us/step - loss: 20.7770 - mae: 2.9449 - acc: 0.0198 - val_loss: 23.6201 - val_mae: 3.5196 - val_acc: 0.0000e+00\n",
      "Epoch 22/500\n",
      "404/404 [==============================] - 0s 39us/step - loss: 20.4141 - mae: 2.8906 - acc: 0.0124 - val_loss: 23.3540 - val_mae: 3.5013 - val_acc: 0.0000e+00\n",
      "Epoch 23/500\n",
      "404/404 [==============================] - 0s 39us/step - loss: 20.2180 - mae: 2.8982 - acc: 0.0050 - val_loss: 22.6990 - val_mae: 3.4784 - val_acc: 0.0000e+00\n",
      "Epoch 24/500\n",
      "404/404 [==============================] - 0s 39us/step - loss: 19.9942 - mae: 2.8571 - acc: 0.0173 - val_loss: 22.8293 - val_mae: 3.4648 - val_acc: 0.0000e+00\n",
      "Epoch 25/500\n",
      "404/404 [==============================] - 0s 39us/step - loss: 19.8888 - mae: 2.9026 - acc: 0.0050 - val_loss: 22.8552 - val_mae: 3.4507 - val_acc: 0.0000e+00\n",
      "Epoch 26/500\n",
      "404/404 [==============================] - 0s 39us/step - loss: 19.5237 - mae: 2.8641 - acc: 0.0099 - val_loss: 21.9232 - val_mae: 3.4536 - val_acc: 0.0000e+00\n",
      "Epoch 27/500\n",
      "404/404 [==============================] - 0s 0us/step - loss: 19.3726 - mae: 2.8312 - acc: 0.0173 - val_loss: 22.1567 - val_mae: 3.4143 - val_acc: 0.0000e+00\n",
      "Epoch 28/500\n",
      "404/404 [==============================] - 0s 0us/step - loss: 19.3008 - mae: 2.8769 - acc: 0.0050 - val_loss: 21.7294 - val_mae: 3.3858 - val_acc: 0.0000e+00\n",
      "Epoch 29/500\n",
      "404/404 [==============================] - 0s 39us/step - loss: 18.6772 - mae: 2.7778 - acc: 0.0074 - val_loss: 21.4309 - val_mae: 3.3714 - val_acc: 0.0000e+00\n",
      "Epoch 30/500\n",
      "404/404 [==============================] - 0s 39us/step - loss: 18.6339 - mae: 2.8336 - acc: 0.0025 - val_loss: 21.7323 - val_mae: 3.3909 - val_acc: 0.0000e+00\n",
      "Epoch 31/500\n",
      "404/404 [==============================] - 0s 39us/step - loss: 18.2692 - mae: 2.7388 - acc: 0.0074 - val_loss: 20.6423 - val_mae: 3.3382 - val_acc: 0.0000e+00\n",
      "Epoch 32/500\n",
      "404/404 [==============================] - 0s 39us/step - loss: 18.5286 - mae: 2.8017 - acc: 0.0149 - val_loss: 20.4504 - val_mae: 3.3145 - val_acc: 0.0000e+00\n",
      "Epoch 33/500\n",
      "404/404 [==============================] - 0s 39us/step - loss: 18.1569 - mae: 2.7342 - acc: 0.0124 - val_loss: 20.1021 - val_mae: 3.2885 - val_acc: 0.0000e+00\n",
      "Epoch 34/500\n",
      "404/404 [==============================] - 0s 39us/step - loss: 17.9719 - mae: 2.7890 - acc: 0.0074 - val_loss: 20.4944 - val_mae: 3.2924 - val_acc: 0.0000e+00\n",
      "Epoch 35/500\n",
      "404/404 [==============================] - 0s 39us/step - loss: 17.4500 - mae: 2.7616 - acc: 0.0074 - val_loss: 20.3217 - val_mae: 3.2748 - val_acc: 0.0000e+00\n",
      "Epoch 36/500\n",
      "404/404 [==============================] - 0s 39us/step - loss: 17.4716 - mae: 2.7024 - acc: 0.0099 - val_loss: 19.4327 - val_mae: 3.2343 - val_acc: 0.0000e+00\n",
      "Epoch 37/500\n",
      "404/404 [==============================] - 0s 24us/step - loss: 17.4475 - mae: 2.7764 - acc: 0.0198 - val_loss: 21.0643 - val_mae: 3.3190 - val_acc: 0.0196\n",
      "Epoch 38/500\n",
      "404/404 [==============================] - 0s 39us/step - loss: 17.0897 - mae: 2.7218 - acc: 0.0173 - val_loss: 19.2033 - val_mae: 3.1969 - val_acc: 0.0000e+00\n",
      "Epoch 39/500\n",
      "404/404 [==============================] - 0s 39us/step - loss: 16.7668 - mae: 2.6552 - acc: 0.0074 - val_loss: 18.9188 - val_mae: 3.1894 - val_acc: 0.0000e+00\n",
      "Epoch 40/500\n",
      "404/404 [==============================] - 0s 39us/step - loss: 16.6007 - mae: 2.6293 - acc: 0.0198 - val_loss: 19.0362 - val_mae: 3.1845 - val_acc: 0.0000e+00\n",
      "Epoch 41/500\n",
      "404/404 [==============================] - 0s 39us/step - loss: 16.2786 - mae: 2.6780 - acc: 0.0198 - val_loss: 19.1543 - val_mae: 3.1698 - val_acc: 0.0000e+00\n",
      "Epoch 42/500\n",
      "404/404 [==============================] - 0s 39us/step - loss: 16.1429 - mae: 2.5823 - acc: 0.0149 - val_loss: 18.3313 - val_mae: 3.1383 - val_acc: 0.0000e+00\n",
      "Epoch 43/500\n",
      "404/404 [==============================] - 0s 39us/step - loss: 16.1166 - mae: 2.6305 - acc: 0.0149 - val_loss: 18.5319 - val_mae: 3.1318 - val_acc: 0.0000e+00\n",
      "Epoch 44/500\n",
      "404/404 [==============================] - 0s 39us/step - loss: 15.7066 - mae: 2.6096 - acc: 0.0149 - val_loss: 18.4000 - val_mae: 3.1354 - val_acc: 0.0000e+00\n",
      "Epoch 45/500\n",
      "404/404 [==============================] - 0s 39us/step - loss: 15.6623 - mae: 2.5636 - acc: 0.0124 - val_loss: 17.6963 - val_mae: 3.0699 - val_acc: 0.0196\n",
      "Epoch 46/500\n",
      "404/404 [==============================] - 0s 39us/step - loss: 15.3493 - mae: 2.6138 - acc: 0.0074 - val_loss: 18.5865 - val_mae: 3.1313 - val_acc: 0.0196\n",
      "Epoch 47/500\n",
      "404/404 [==============================] - 0s 39us/step - loss: 15.3174 - mae: 2.5539 - acc: 0.0198 - val_loss: 17.4096 - val_mae: 3.0446 - val_acc: 0.0196\n",
      "Epoch 48/500\n",
      "404/404 [==============================] - 0s 0us/step - loss: 14.9698 - mae: 2.5374 - acc: 0.0149 - val_loss: 17.2686 - val_mae: 3.0359 - val_acc: 0.0098\n",
      "Epoch 49/500\n",
      "404/404 [==============================] - 0s 0us/step - loss: 14.9811 - mae: 2.5406 - acc: 0.0149 - val_loss: 16.9846 - val_mae: 3.0208 - val_acc: 0.0196\n",
      "Epoch 50/500\n",
      "404/404 [==============================] - 0s 39us/step - loss: 14.8528 - mae: 2.5840 - acc: 0.0173 - val_loss: 18.2187 - val_mae: 3.0965 - val_acc: 0.0294\n",
      "Epoch 51/500\n",
      "404/404 [==============================] - 0s 41us/step - loss: 14.6460 - mae: 2.5334 - acc: 0.0074 - val_loss: 16.5811 - val_mae: 2.9875 - val_acc: 0.0098\n",
      "Epoch 52/500\n",
      "404/404 [==============================] - 0s 39us/step - loss: 14.2885 - mae: 2.4954 - acc: 0.0124 - val_loss: 17.4914 - val_mae: 3.0330 - val_acc: 0.0294\n",
      "Epoch 53/500\n",
      "404/404 [==============================] - 0s 39us/step - loss: 14.2526 - mae: 2.4638 - acc: 0.0149 - val_loss: 16.4144 - val_mae: 3.0020 - val_acc: 0.0098\n",
      "Epoch 54/500\n",
      "404/404 [==============================] - 0s 39us/step - loss: 14.2794 - mae: 2.5030 - acc: 0.0223 - val_loss: 16.9908 - val_mae: 2.9978 - val_acc: 0.0392\n",
      "Epoch 55/500\n",
      "404/404 [==============================] - 0s 39us/step - loss: 14.1711 - mae: 2.5099 - acc: 0.0173 - val_loss: 17.2701 - val_mae: 3.0195 - val_acc: 0.0294\n",
      "Epoch 56/500\n",
      "404/404 [==============================] - 0s 39us/step - loss: 14.0122 - mae: 2.4833 - acc: 0.0099 - val_loss: 16.3834 - val_mae: 2.9571 - val_acc: 0.0294\n",
      "Epoch 57/500\n",
      "404/404 [==============================] - 0s 39us/step - loss: 14.0122 - mae: 2.4836 - acc: 0.0099 - val_loss: 16.3598 - val_mae: 2.9509 - val_acc: 0.0294\n",
      "Epoch 58/500\n",
      "404/404 [==============================] - 0s 0us/step - loss: 13.5755 - mae: 2.4304 - acc: 0.0149 - val_loss: 15.8301 - val_mae: 2.9300 - val_acc: 0.0000e+00\n",
      "Epoch 59/500\n",
      "404/404 [==============================] - 0s 0us/step - loss: 13.8212 - mae: 2.5114 - acc: 0.0099 - val_loss: 17.4418 - val_mae: 3.0484 - val_acc: 0.0294\n",
      "Epoch 60/500\n",
      "404/404 [==============================] - 0s 39us/step - loss: 14.0282 - mae: 2.4958 - acc: 0.0099 - val_loss: 16.8080 - val_mae: 2.9868 - val_acc: 0.0294\n",
      "Epoch 61/500\n",
      "404/404 [==============================] - 0s 39us/step - loss: 13.7813 - mae: 2.5574 - acc: 0.0124 - val_loss: 17.4783 - val_mae: 3.0591 - val_acc: 0.0294\n",
      "Epoch 62/500\n",
      "404/404 [==============================] - 0s 0us/step - loss: 13.6580 - mae: 2.4285 - acc: 0.0099 - val_loss: 15.0538 - val_mae: 2.8794 - val_acc: 0.0098\n",
      "Epoch 63/500\n",
      "404/404 [==============================] - 0s 39us/step - loss: 13.2341 - mae: 2.4496 - acc: 0.0124 - val_loss: 16.4842 - val_mae: 2.9677 - val_acc: 0.0294\n",
      "Epoch 64/500\n",
      "404/404 [==============================] - 0s 39us/step - loss: 13.2956 - mae: 2.4805 - acc: 0.0223 - val_loss: 16.4087 - val_mae: 2.9679 - val_acc: 0.0294\n",
      "Epoch 65/500\n",
      "404/404 [==============================] - 0s 39us/step - loss: 13.3134 - mae: 2.4186 - acc: 0.0248 - val_loss: 14.7919 - val_mae: 2.8574 - val_acc: 0.0098\n",
      "Epoch 66/500\n",
      "404/404 [==============================] - 0s 39us/step - loss: 12.9652 - mae: 2.4445 - acc: 0.0198 - val_loss: 16.8235 - val_mae: 3.0055 - val_acc: 0.0196\n",
      "Epoch 67/500\n",
      "404/404 [==============================] - 0s 39us/step - loss: 12.8269 - mae: 2.4318 - acc: 0.0050 - val_loss: 15.2769 - val_mae: 2.8845 - val_acc: 0.0196\n",
      "Epoch 68/500\n",
      "404/404 [==============================] - 0s 39us/step - loss: 12.6575 - mae: 2.3768 - acc: 0.0074 - val_loss: 15.1169 - val_mae: 2.8618 - val_acc: 0.0196\n",
      "Epoch 69/500\n",
      "404/404 [==============================] - 0s 39us/step - loss: 12.5118 - mae: 2.3738 - acc: 0.0099 - val_loss: 14.9787 - val_mae: 2.8649 - val_acc: 0.0196\n",
      "Epoch 70/500\n",
      "404/404 [==============================] - 0s 39us/step - loss: 12.6141 - mae: 2.3825 - acc: 0.0074 - val_loss: 14.6318 - val_mae: 2.8454 - val_acc: 0.0098\n",
      "Epoch 71/500\n",
      "404/404 [==============================] - 0s 39us/step - loss: 12.5854 - mae: 2.3970 - acc: 0.0124 - val_loss: 14.5179 - val_mae: 2.8290 - val_acc: 0.0294\n",
      "Epoch 72/500\n",
      "404/404 [==============================] - 0s 39us/step - loss: 12.5707 - mae: 2.3977 - acc: 0.0198 - val_loss: 14.6680 - val_mae: 2.8442 - val_acc: 0.0196\n",
      "Epoch 73/500\n",
      "404/404 [==============================] - 0s 45us/step - loss: 12.3556 - mae: 2.3614 - acc: 0.0099 - val_loss: 15.3866 - val_mae: 2.8972 - val_acc: 0.0196\n",
      "Epoch 74/500\n",
      "404/404 [==============================] - 0s 8us/step - loss: 12.2414 - mae: 2.3727 - acc: 0.0149 - val_loss: 14.8645 - val_mae: 2.8582 - val_acc: 0.0196\n",
      "Epoch 75/500\n",
      "404/404 [==============================] - 0s 39us/step - loss: 12.1608 - mae: 2.3223 - acc: 0.0124 - val_loss: 14.5495 - val_mae: 2.8292 - val_acc: 0.0196\n",
      "Epoch 76/500\n",
      "404/404 [==============================] - 0s 39us/step - loss: 12.1235 - mae: 2.3495 - acc: 0.0124 - val_loss: 15.0992 - val_mae: 2.8956 - val_acc: 0.0196\n",
      "Epoch 77/500\n",
      "404/404 [==============================] - 0s 39us/step - loss: 12.0419 - mae: 2.3339 - acc: 0.0124 - val_loss: 14.1861 - val_mae: 2.7977 - val_acc: 0.0392\n",
      "Epoch 78/500\n",
      "404/404 [==============================] - 0s 39us/step - loss: 11.9553 - mae: 2.3267 - acc: 0.0099 - val_loss: 14.7182 - val_mae: 2.8546 - val_acc: 0.0196\n",
      "Epoch 79/500\n",
      "404/404 [==============================] - 0s 39us/step - loss: 11.8981 - mae: 2.3188 - acc: 0.0074 - val_loss: 14.7471 - val_mae: 2.8564 - val_acc: 0.0196\n",
      "Epoch 80/500\n",
      "404/404 [==============================] - 0s 39us/step - loss: 12.0513 - mae: 2.3623 - acc: 0.0099 - val_loss: 16.0771 - val_mae: 2.9956 - val_acc: 0.0000e+00\n",
      "Epoch 81/500\n",
      "404/404 [==============================] - 0s 0us/step - loss: 12.2161 - mae: 2.3831 - acc: 0.0099 - val_loss: 13.7624 - val_mae: 2.7794 - val_acc: 0.0196\n",
      "Epoch 82/500\n",
      "404/404 [==============================] - 0s 0us/step - loss: 12.1913 - mae: 2.3522 - acc: 0.0124 - val_loss: 13.6925 - val_mae: 2.7718 - val_acc: 0.0196\n",
      "Epoch 83/500\n",
      "404/404 [==============================] - 0s 39us/step - loss: 12.2302 - mae: 2.3563 - acc: 0.0198 - val_loss: 13.9461 - val_mae: 2.7702 - val_acc: 0.0392\n",
      "Epoch 84/500\n",
      "404/404 [==============================] - 0s 39us/step - loss: 11.8241 - mae: 2.3705 - acc: 0.0124 - val_loss: 15.2901 - val_mae: 2.9374 - val_acc: 0.0098\n",
      "Epoch 85/500\n",
      "404/404 [==============================] - 0s 39us/step - loss: 11.8518 - mae: 2.3528 - acc: 0.0149 - val_loss: 14.9637 - val_mae: 2.8844 - val_acc: 0.0196\n",
      "Epoch 86/500\n",
      "404/404 [==============================] - 0s 39us/step - loss: 12.2763 - mae: 2.3909 - acc: 0.0099 - val_loss: 13.7636 - val_mae: 2.8053 - val_acc: 0.0196\n",
      "Epoch 87/500\n",
      "404/404 [==============================] - 0s 39us/step - loss: 11.9104 - mae: 2.3511 - acc: 0.0124 - val_loss: 14.2672 - val_mae: 2.8225 - val_acc: 0.0294\n",
      "Epoch 88/500\n",
      "404/404 [==============================] - 0s 39us/step - loss: 11.7495 - mae: 2.3526 - acc: 0.0149 - val_loss: 13.7620 - val_mae: 2.7625 - val_acc: 0.0294\n",
      "Epoch 89/500\n",
      "404/404 [==============================] - 0s 41us/step - loss: 11.6098 - mae: 2.3247 - acc: 0.0050 - val_loss: 13.5498 - val_mae: 2.7674 - val_acc: 0.0294\n",
      "Epoch 90/500\n",
      "404/404 [==============================] - 0s 39us/step - loss: 11.7660 - mae: 2.3562 - acc: 0.0074 - val_loss: 13.7775 - val_mae: 2.7811 - val_acc: 0.0294\n",
      "Epoch 91/500\n",
      "404/404 [==============================] - 0s 39us/step - loss: 11.7127 - mae: 2.3416 - acc: 0.0124 - val_loss: 14.1217 - val_mae: 2.8135 - val_acc: 0.0196\n",
      "Epoch 92/500\n",
      "404/404 [==============================] - 0s 0us/step - loss: 11.2984 - mae: 2.2838 - acc: 0.0124 - val_loss: 13.9557 - val_mae: 2.8029 - val_acc: 0.0196\n",
      "Epoch 93/500\n",
      "404/404 [==============================] - 0s 0us/step - loss: 11.2882 - mae: 2.2778 - acc: 0.0074 - val_loss: 13.6932 - val_mae: 2.7786 - val_acc: 0.0196\n",
      "Epoch 94/500\n",
      "404/404 [==============================] - 0s 39us/step - loss: 11.3095 - mae: 2.2859 - acc: 0.0099 - val_loss: 14.6386 - val_mae: 2.8838 - val_acc: 0.0098\n",
      "Epoch 95/500\n",
      "404/404 [==============================] - 0s 39us/step - loss: 11.0517 - mae: 2.2568 - acc: 0.0173 - val_loss: 13.8660 - val_mae: 2.7928 - val_acc: 0.0196\n",
      "Epoch 96/500\n",
      "404/404 [==============================] - 0s 39us/step - loss: 11.1744 - mae: 2.2588 - acc: 0.0173 - val_loss: 13.8123 - val_mae: 2.7833 - val_acc: 0.0294\n",
      "Epoch 97/500\n",
      "404/404 [==============================] - 0s 39us/step - loss: 11.0712 - mae: 2.2617 - acc: 0.0124 - val_loss: 13.5391 - val_mae: 2.7604 - val_acc: 0.0294\n",
      "Epoch 98/500\n",
      "404/404 [==============================] - 0s 39us/step - loss: 11.0212 - mae: 2.2705 - acc: 0.0173 - val_loss: 13.7147 - val_mae: 2.7806 - val_acc: 0.0196\n",
      "Epoch 99/500\n",
      "404/404 [==============================] - 0s 39us/step - loss: 11.0505 - mae: 2.2470 - acc: 0.0173 - val_loss: 13.8618 - val_mae: 2.8031 - val_acc: 0.0294\n",
      "Epoch 100/500\n",
      "404/404 [==============================] - 0s 39us/step - loss: 11.0591 - mae: 2.2549 - acc: 0.0173 - val_loss: 13.3127 - val_mae: 2.7310 - val_acc: 0.0294\n",
      "Epoch 101/500\n",
      "404/404 [==============================] - 0s 39us/step - loss: 10.9774 - mae: 2.2582 - acc: 0.0173 - val_loss: 14.8487 - val_mae: 2.9277 - val_acc: 0.0098\n",
      "Epoch 102/500\n",
      "404/404 [==============================] - 0s 39us/step - loss: 10.8534 - mae: 2.2555 - acc: 0.0124 - val_loss: 13.3861 - val_mae: 2.7390 - val_acc: 0.0294\n",
      "Epoch 103/500\n",
      "404/404 [==============================] - 0s 0us/step - loss: 11.3240 - mae: 2.2593 - acc: 0.0173 - val_loss: 13.4981 - val_mae: 2.7873 - val_acc: 0.0294\n",
      "Epoch 104/500\n",
      "404/404 [==============================] - 0s 0us/step - loss: 11.7022 - mae: 2.4033 - acc: 0.0198 - val_loss: 14.5964 - val_mae: 2.9000 - val_acc: 0.0000e+00\n",
      "Epoch 105/500\n",
      "404/404 [==============================] - 0s 0us/step - loss: 11.2078 - mae: 2.3438 - acc: 0.0124 - val_loss: 15.4286 - val_mae: 2.9882 - val_acc: 0.0098\n",
      "Epoch 106/500\n",
      "404/404 [==============================] - 0s 39us/step - loss: 11.0170 - mae: 2.2970 - acc: 0.0198 - val_loss: 14.6235 - val_mae: 2.9161 - val_acc: 0.0000e+00\n",
      "Epoch 107/500\n",
      "404/404 [==============================] - 0s 39us/step - loss: 10.8045 - mae: 2.2528 - acc: 0.0124 - val_loss: 13.1780 - val_mae: 2.7405 - val_acc: 0.0196\n",
      "Epoch 108/500\n",
      "404/404 [==============================] - 0s 39us/step - loss: 10.9242 - mae: 2.2525 - acc: 0.0099 - val_loss: 13.4115 - val_mae: 2.7613 - val_acc: 0.0294\n",
      "Epoch 109/500\n",
      "404/404 [==============================] - 0s 39us/step - loss: 10.8482 - mae: 2.2636 - acc: 0.0074 - val_loss: 14.0459 - val_mae: 2.8527 - val_acc: 0.0000e+00\n",
      "Epoch 110/500\n",
      "404/404 [==============================] - 0s 39us/step - loss: 10.7421 - mae: 2.2161 - acc: 0.0099 - val_loss: 14.1697 - val_mae: 2.8623 - val_acc: 0.0000e+00\n",
      "Epoch 111/500\n",
      "404/404 [==============================] - 0s 39us/step - loss: 10.5908 - mae: 2.2114 - acc: 0.0149 - val_loss: 13.3249 - val_mae: 2.7637 - val_acc: 0.0294\n",
      "Epoch 112/500\n",
      "404/404 [==============================] - 0s 39us/step - loss: 10.5402 - mae: 2.2058 - acc: 0.0173 - val_loss: 14.3516 - val_mae: 2.8976 - val_acc: 0.0098\n",
      "Epoch 113/500\n",
      "404/404 [==============================] - 0s 39us/step - loss: 10.6786 - mae: 2.2404 - acc: 0.0149 - val_loss: 14.6823 - val_mae: 2.9346 - val_acc: 0.0000e+00\n",
      "Epoch 114/500\n",
      "404/404 [==============================] - 0s 39us/step - loss: 10.6608 - mae: 2.2381 - acc: 0.0050 - val_loss: 13.3684 - val_mae: 2.7710 - val_acc: 0.0196\n",
      "Epoch 115/500\n",
      "404/404 [==============================] - 0s 0us/step - loss: 10.5454 - mae: 2.2086 - acc: 0.0149 - val_loss: 13.3203 - val_mae: 2.7555 - val_acc: 0.0196\n",
      "Epoch 116/500\n",
      "404/404 [==============================] - 0s 0us/step - loss: 10.5617 - mae: 2.2162 - acc: 0.0099 - val_loss: 13.0908 - val_mae: 2.7235 - val_acc: 0.0196\n",
      "Epoch 117/500\n",
      "404/404 [==============================] - 0s 0us/step - loss: 10.5441 - mae: 2.2372 - acc: 0.0198 - val_loss: 13.4681 - val_mae: 2.7953 - val_acc: 0.0196\n",
      "Epoch 118/500\n",
      "404/404 [==============================] - 0s 39us/step - loss: 10.5393 - mae: 2.2159 - acc: 0.0124 - val_loss: 13.8317 - val_mae: 2.8325 - val_acc: 0.0098\n",
      "Epoch 119/500\n",
      "404/404 [==============================] - 0s 0us/step - loss: 10.3561 - mae: 2.1838 - acc: 0.0149 - val_loss: 13.9624 - val_mae: 2.8524 - val_acc: 0.0098\n",
      "Epoch 120/500\n",
      "404/404 [==============================] - 0s 39us/step - loss: 10.6002 - mae: 2.2417 - acc: 0.0149 - val_loss: 14.0656 - val_mae: 2.8761 - val_acc: 0.0098\n",
      "Epoch 121/500\n",
      "404/404 [==============================] - 0s 39us/step - loss: 10.4004 - mae: 2.1785 - acc: 0.0149 - val_loss: 14.3079 - val_mae: 2.8921 - val_acc: 0.0098\n",
      "Epoch 122/500\n",
      "404/404 [==============================] - 0s 39us/step - loss: 10.5993 - mae: 2.2007 - acc: 0.0223 - val_loss: 13.0536 - val_mae: 2.7524 - val_acc: 0.0196\n",
      "Epoch 123/500\n",
      "404/404 [==============================] - 0s 39us/step - loss: 10.7183 - mae: 2.2584 - acc: 0.0149 - val_loss: 13.7354 - val_mae: 2.8227 - val_acc: 0.0098\n",
      "Epoch 124/500\n",
      "404/404 [==============================] - 0s 39us/step - loss: 10.9645 - mae: 2.2465 - acc: 0.0074 - val_loss: 13.4554 - val_mae: 2.8169 - val_acc: 0.0294\n",
      "Epoch 125/500\n",
      "404/404 [==============================] - 0s 39us/step - loss: 11.2569 - mae: 2.2734 - acc: 0.0223 - val_loss: 12.9643 - val_mae: 2.7399 - val_acc: 0.0294\n",
      "Epoch 126/500\n",
      "404/404 [==============================] - 0s 39us/step - loss: 10.7429 - mae: 2.2716 - acc: 0.0149 - val_loss: 13.8798 - val_mae: 2.8592 - val_acc: 0.0098\n",
      "Epoch 127/500\n",
      "404/404 [==============================] - 0s 39us/step - loss: 10.3573 - mae: 2.2039 - acc: 0.0149 - val_loss: 17.2063 - val_mae: 3.2219 - val_acc: 0.0098\n",
      "Epoch 128/500\n",
      "404/404 [==============================] - 0s 39us/step - loss: 10.7630 - mae: 2.2416 - acc: 0.0149 - val_loss: 13.0308 - val_mae: 2.7466 - val_acc: 0.0196\n",
      "Epoch 129/500\n",
      "404/404 [==============================] - 0s 39us/step - loss: 10.6199 - mae: 2.2453 - acc: 0.0124 - val_loss: 13.2690 - val_mae: 2.7777 - val_acc: 0.0294\n",
      "Epoch 130/500\n",
      "404/404 [==============================] - 0s 39us/step - loss: 10.9605 - mae: 2.2563 - acc: 0.0248 - val_loss: 12.7289 - val_mae: 2.7144 - val_acc: 0.0294\n",
      "Epoch 131/500\n",
      "404/404 [==============================] - 0s 39us/step - loss: 10.7009 - mae: 2.2574 - acc: 0.0124 - val_loss: 13.7161 - val_mae: 2.8329 - val_acc: 0.0098\n",
      "Epoch 132/500\n",
      "404/404 [==============================] - 0s 0us/step - loss: 10.1068 - mae: 2.1740 - acc: 0.0124 - val_loss: 15.1973 - val_mae: 3.0047 - val_acc: 0.0000e+00\n",
      "Epoch 133/500\n",
      "404/404 [==============================] - 0s 0us/step - loss: 10.3514 - mae: 2.2210 - acc: 0.0173 - val_loss: 13.1392 - val_mae: 2.7669 - val_acc: 0.0294\n",
      "Epoch 134/500\n",
      "404/404 [==============================] - 0s 39us/step - loss: 10.1108 - mae: 2.1786 - acc: 0.0124 - val_loss: 13.2727 - val_mae: 2.7837 - val_acc: 0.0196\n",
      "Epoch 135/500\n",
      "404/404 [==============================] - 0s 39us/step - loss: 10.1732 - mae: 2.1565 - acc: 0.0173 - val_loss: 12.9207 - val_mae: 2.7457 - val_acc: 0.0294\n",
      "Epoch 136/500\n",
      "404/404 [==============================] - 0s 39us/step - loss: 10.0658 - mae: 2.1269 - acc: 0.0173 - val_loss: 18.4229 - val_mae: 3.3246 - val_acc: 0.0098\n",
      "Epoch 137/500\n",
      "404/404 [==============================] - 0s 39us/step - loss: 11.2857 - mae: 2.3352 - acc: 0.0149 - val_loss: 14.6153 - val_mae: 2.9446 - val_acc: 0.0098\n",
      "Epoch 138/500\n",
      "404/404 [==============================] - 0s 39us/step - loss: 10.0229 - mae: 2.1547 - acc: 0.0173 - val_loss: 12.9067 - val_mae: 2.7526 - val_acc: 0.0196\n",
      "Epoch 139/500\n",
      "404/404 [==============================] - 0s 39us/step - loss: 10.1172 - mae: 2.1650 - acc: 0.0124 - val_loss: 13.1915 - val_mae: 2.7620 - val_acc: 0.0294\n",
      "Epoch 140/500\n",
      "404/404 [==============================] - 0s 39us/step - loss: 9.9253 - mae: 2.1413 - acc: 0.0124 - val_loss: 12.8340 - val_mae: 2.7410 - val_acc: 0.0392\n",
      "Epoch 141/500\n",
      "404/404 [==============================] - 0s 39us/step - loss: 10.1630 - mae: 2.1806 - acc: 0.0074 - val_loss: 13.1954 - val_mae: 2.7724 - val_acc: 0.0294\n",
      "Epoch 142/500\n",
      "404/404 [==============================] - 0s 0us/step - loss: 10.0926 - mae: 2.2022 - acc: 0.0149 - val_loss: 16.9949 - val_mae: 3.1818 - val_acc: 0.0000e+00\n",
      "Epoch 143/500\n",
      "404/404 [==============================] - 0s 0us/step - loss: 10.7077 - mae: 2.2741 - acc: 0.0223 - val_loss: 13.7120 - val_mae: 2.8525 - val_acc: 0.0098\n",
      "Epoch 144/500\n",
      "404/404 [==============================] - 0s 39us/step - loss: 10.1876 - mae: 2.1856 - acc: 0.0149 - val_loss: 13.2117 - val_mae: 2.7860 - val_acc: 0.0098\n",
      "Epoch 145/500\n",
      "404/404 [==============================] - 0s 39us/step - loss: 9.8360 - mae: 2.1252 - acc: 0.0149 - val_loss: 14.1322 - val_mae: 2.9043 - val_acc: 0.0098\n",
      "Epoch 146/500\n",
      "404/404 [==============================] - 0s 39us/step - loss: 10.0263 - mae: 2.1517 - acc: 0.0149 - val_loss: 13.5271 - val_mae: 2.8321 - val_acc: 0.0098\n",
      "Epoch 147/500\n",
      "404/404 [==============================] - 0s 39us/step - loss: 9.7873 - mae: 2.1294 - acc: 0.0099 - val_loss: 13.5989 - val_mae: 2.8344 - val_acc: 0.0098\n",
      "Epoch 148/500\n",
      "404/404 [==============================] - 0s 39us/step - loss: 9.8459 - mae: 2.1270 - acc: 0.0223 - val_loss: 13.6024 - val_mae: 2.8377 - val_acc: 0.0098\n",
      "Epoch 149/500\n",
      "404/404 [==============================] - 0s 39us/step - loss: 9.7987 - mae: 2.1210 - acc: 0.0173 - val_loss: 12.8154 - val_mae: 2.7462 - val_acc: 0.0294\n",
      "Epoch 150/500\n",
      "404/404 [==============================] - 0s 39us/step - loss: 10.4940 - mae: 2.2461 - acc: 0.0198 - val_loss: 13.1336 - val_mae: 2.7822 - val_acc: 0.0098\n",
      "Epoch 00150: early stopping\n"
     ]
    }
   ],
   "source": [
    "history2 = model2.fit(inputs_train_scaled, outputs_train, epochs=500, validation_data=(inputs_test_scaled, outputs_test), callbacks=[earlystop])"
   ]
  },
  {
   "cell_type": "markdown",
   "metadata": {},
   "source": [
    "This is a noticeable improvement over the first model. It is converging more quickly, but perhaps we should increase the number of epochs to assess its accuracy."
   ]
  },
  {
   "cell_type": "code",
   "execution_count": 53,
   "metadata": {},
   "outputs": [
    {
     "name": "stdout",
     "output_type": "stream",
     "text": [
      "This model evaluates as:\n",
      "* Loss: 13.133581404592476\n",
      "* MAE: 2.782153606414795\n",
      "* Accuracy: 0.009803921915590763\n"
     ]
    }
   ],
   "source": [
    "evaluate2 = []\n",
    "evaluator(evaluate2, model2)"
   ]
  },
  {
   "cell_type": "code",
   "execution_count": 54,
   "metadata": {},
   "outputs": [
    {
     "name": "stdout",
     "output_type": "stream",
     "text": [
      "This model predicts as:\n",
      "* Predicted Value: 31.187153\n",
      "* Actual value: 32.9\n"
     ]
    },
    {
     "name": "stderr",
     "output_type": "stream",
     "text": [
      "C:\\Users\\Peter McGowan\\Anaconda3\\lib\\site-packages\\ipykernel_launcher.py:3: FutureWarning: Method .as_matrix will be removed in a future version. Use .values instead.\n",
      "  This is separate from the ipykernel package so we can avoid doing imports until\n"
     ]
    }
   ],
   "source": [
    "predict2 = []\n",
    "predictor(predict2, model2)"
   ]
  },
  {
   "cell_type": "markdown",
   "metadata": {},
   "source": [
    "##### Results"
   ]
  },
  {
   "cell_type": "markdown",
   "metadata": {},
   "source": [
    "Deepening the model by adding another hidden layer has helped to increase the accuracy - therefore we can be reasonably confident that deeping the model is effective. "
   ]
  },
  {
   "cell_type": "markdown",
   "metadata": {},
   "source": [
    "#### Third Attempt - Widen"
   ]
  },
  {
   "cell_type": "markdown",
   "metadata": {},
   "source": [
    "We will develop the model more and widen it now by doubling the number of units in each hidden layer."
   ]
  },
  {
   "cell_type": "markdown",
   "metadata": {},
   "source": [
    "##### Construct Model"
   ]
  },
  {
   "cell_type": "code",
   "execution_count": 55,
   "metadata": {
    "scrolled": true
   },
   "outputs": [
    {
     "name": "stdout",
     "output_type": "stream",
     "text": [
      "Model: \"sequential_3\"\n",
      "_________________________________________________________________\n",
      "Layer (type)                 Output Shape              Param #   \n",
      "=================================================================\n",
      "dense_8 (Dense)              (None, 256)               1792      \n",
      "_________________________________________________________________\n",
      "dense_9 (Dense)              (None, 128)               32896     \n",
      "_________________________________________________________________\n",
      "dense_10 (Dense)             (None, 64)                8256      \n",
      "_________________________________________________________________\n",
      "dense_11 (Dense)             (None, 1)                 65        \n",
      "=================================================================\n",
      "Total params: 43,009\n",
      "Trainable params: 43,009\n",
      "Non-trainable params: 0\n",
      "_________________________________________________________________\n"
     ]
    }
   ],
   "source": [
    "model3 = Sequential() \n",
    "\n",
    "model3.add(Dense(units=256, activation='relu', input_dim=6))\n",
    "model3.add(Dense(units=128, activation='relu'))\n",
    "model3.add(Dense(units=64, activation='relu'))\n",
    "model3.add(Dense(units=1))\n",
    "\n",
    "model3.compile(loss='mse', optimizer='adam', metrics=['mae', 'acc'])\n",
    "\n",
    "model3.summary()"
   ]
  },
  {
   "cell_type": "markdown",
   "metadata": {},
   "source": [
    "##### Training"
   ]
  },
  {
   "cell_type": "markdown",
   "metadata": {},
   "source": []
  },
  {
   "cell_type": "code",
   "execution_count": 56,
   "metadata": {
    "scrolled": true
   },
   "outputs": [
    {
     "name": "stdout",
     "output_type": "stream",
     "text": [
      "Train on 404 samples, validate on 102 samples\n",
      "Epoch 1/500\n",
      "404/404 [==============================] - 0s 387us/step - loss: 550.2243 - mae: 21.7251 - acc: 0.0000e+00 - val_loss: 604.1099 - val_mae: 22.0166 - val_acc: 0.0000e+00\n",
      "Epoch 2/500\n",
      "404/404 [==============================] - 0s 39us/step - loss: 460.6515 - mae: 19.3400 - acc: 0.0025 - val_loss: 444.0732 - val_mae: 17.6494 - val_acc: 0.0000e+00\n",
      "Epoch 3/500\n",
      "404/404 [==============================] - 0s 39us/step - loss: 267.9179 - mae: 13.3241 - acc: 0.0025 - val_loss: 226.4274 - val_mae: 12.0858 - val_acc: 0.0000e+00\n",
      "Epoch 4/500\n",
      "404/404 [==============================] - 0s 39us/step - loss: 151.7035 - mae: 9.7588 - acc: 0.0074 - val_loss: 196.8486 - val_mae: 11.2366 - val_acc: 0.0000e+00\n",
      "Epoch 5/500\n",
      "404/404 [==============================] - 0s 39us/step - loss: 116.7088 - mae: 8.3352 - acc: 0.0000e+00 - val_loss: 145.9546 - val_mae: 9.3047 - val_acc: 0.0098\n",
      "Epoch 6/500\n",
      "404/404 [==============================] - 0s 39us/step - loss: 89.3767 - mae: 7.0292 - acc: 0.0124 - val_loss: 103.6034 - val_mae: 7.6998 - val_acc: 0.0294\n",
      "Epoch 7/500\n",
      "404/404 [==============================] - 0s 77us/step - loss: 64.8333 - mae: 5.8751 - acc: 0.0124 - val_loss: 73.4616 - val_mae: 6.1398 - val_acc: 0.0098\n",
      "Epoch 8/500\n",
      "404/404 [==============================] - 0s 39us/step - loss: 46.7064 - mae: 4.7650 - acc: 0.0099 - val_loss: 51.7607 - val_mae: 5.1050 - val_acc: 0.0000e+00\n",
      "Epoch 9/500\n",
      "404/404 [==============================] - 0s 39us/step - loss: 36.0396 - mae: 4.1965 - acc: 0.0124 - val_loss: 39.0003 - val_mae: 4.4329 - val_acc: 0.0000e+00\n",
      "Epoch 10/500\n",
      "404/404 [==============================] - 0s 39us/step - loss: 30.1172 - mae: 3.7002 - acc: 0.0050 - val_loss: 33.0183 - val_mae: 4.0670 - val_acc: 0.0000e+00\n",
      "Epoch 11/500\n",
      "404/404 [==============================] - 0s 39us/step - loss: 27.3764 - mae: 3.5645 - acc: 0.0050 - val_loss: 30.5645 - val_mae: 3.8740 - val_acc: 0.0294\n",
      "Epoch 12/500\n",
      "404/404 [==============================] - 0s 39us/step - loss: 25.2683 - mae: 3.2698 - acc: 0.0050 - val_loss: 27.8145 - val_mae: 3.7962 - val_acc: 0.0196\n",
      "Epoch 13/500\n",
      "404/404 [==============================] - 0s 39us/step - loss: 23.8341 - mae: 3.2495 - acc: 0.0099 - val_loss: 28.3526 - val_mae: 3.8239 - val_acc: 0.0098\n",
      "Epoch 14/500\n",
      "404/404 [==============================] - 0s 39us/step - loss: 23.2172 - mae: 3.0715 - acc: 0.0149 - val_loss: 25.3875 - val_mae: 3.6971 - val_acc: 0.0000e+00\n",
      "Epoch 15/500\n",
      "404/404 [==============================] - 0s 39us/step - loss: 22.4270 - mae: 3.1340 - acc: 0.0149 - val_loss: 26.4751 - val_mae: 3.7216 - val_acc: 0.0098\n",
      "Epoch 16/500\n",
      "404/404 [==============================] - 0s 39us/step - loss: 22.1739 - mae: 3.0175 - acc: 0.0149 - val_loss: 24.0738 - val_mae: 3.6431 - val_acc: 0.0000e+00\n",
      "Epoch 17/500\n",
      "404/404 [==============================] - 0s 39us/step - loss: 21.3108 - mae: 3.0240 - acc: 0.0198 - val_loss: 25.9394 - val_mae: 3.6781 - val_acc: 0.0196\n",
      "Epoch 18/500\n",
      "404/404 [==============================] - 0s 39us/step - loss: 21.8843 - mae: 3.0226 - acc: 0.0173 - val_loss: 23.3359 - val_mae: 3.6422 - val_acc: 0.0196\n",
      "Epoch 19/500\n",
      "404/404 [==============================] - 0s 39us/step - loss: 21.2707 - mae: 3.0270 - acc: 0.0149 - val_loss: 24.8441 - val_mae: 3.6026 - val_acc: 0.0098\n",
      "Epoch 20/500\n",
      "404/404 [==============================] - 0s 39us/step - loss: 21.1417 - mae: 3.0206 - acc: 0.0149 - val_loss: 24.7292 - val_mae: 3.5956 - val_acc: 0.0196\n",
      "Epoch 21/500\n",
      "404/404 [==============================] - 0s 39us/step - loss: 20.3132 - mae: 2.8851 - acc: 0.0198 - val_loss: 22.4269 - val_mae: 3.5399 - val_acc: 0.0000e+00\n",
      "Epoch 22/500\n",
      "404/404 [==============================] - 0s 39us/step - loss: 20.3176 - mae: 3.0091 - acc: 0.0074 - val_loss: 23.4786 - val_mae: 3.5179 - val_acc: 0.0098\n",
      "Epoch 23/500\n",
      "404/404 [==============================] - 0s 39us/step - loss: 20.0917 - mae: 2.9451 - acc: 0.0099 - val_loss: 24.1655 - val_mae: 3.5629 - val_acc: 0.0196\n",
      "Epoch 24/500\n",
      "404/404 [==============================] - 0s 39us/step - loss: 19.9349 - mae: 2.8910 - acc: 0.0173 - val_loss: 21.6884 - val_mae: 3.4539 - val_acc: 0.0000e+00\n",
      "Epoch 25/500\n",
      "404/404 [==============================] - 0s 39us/step - loss: 19.3172 - mae: 2.8645 - acc: 0.0124 - val_loss: 22.2542 - val_mae: 3.4379 - val_acc: 0.0098\n",
      "Epoch 26/500\n",
      "404/404 [==============================] - 0s 39us/step - loss: 18.9629 - mae: 2.8575 - acc: 0.0099 - val_loss: 21.7607 - val_mae: 3.4194 - val_acc: 0.0000e+00\n",
      "Epoch 27/500\n",
      "404/404 [==============================] - 0s 39us/step - loss: 18.7413 - mae: 2.8252 - acc: 0.0074 - val_loss: 22.2781 - val_mae: 3.4282 - val_acc: 0.0098\n",
      "Epoch 28/500\n",
      "404/404 [==============================] - 0s 39us/step - loss: 18.5370 - mae: 2.8127 - acc: 0.0124 - val_loss: 21.4582 - val_mae: 3.3888 - val_acc: 0.0098\n",
      "Epoch 29/500\n",
      "404/404 [==============================] - 0s 39us/step - loss: 18.4870 - mae: 2.7869 - acc: 0.0272 - val_loss: 20.4821 - val_mae: 3.3652 - val_acc: 0.0000e+00\n",
      "Epoch 30/500\n",
      "404/404 [==============================] - 0s 39us/step - loss: 18.2546 - mae: 2.7942 - acc: 0.0198 - val_loss: 20.7774 - val_mae: 3.3432 - val_acc: 0.0000e+00\n",
      "Epoch 31/500\n",
      "404/404 [==============================] - 0s 39us/step - loss: 18.2859 - mae: 2.8343 - acc: 0.0149 - val_loss: 22.3310 - val_mae: 3.4284 - val_acc: 0.0196\n",
      "Epoch 32/500\n",
      "404/404 [==============================] - 0s 39us/step - loss: 18.1399 - mae: 2.8377 - acc: 0.0173 - val_loss: 21.7910 - val_mae: 3.3946 - val_acc: 0.0196\n",
      "Epoch 33/500\n",
      "404/404 [==============================] - 0s 39us/step - loss: 17.3735 - mae: 2.7327 - acc: 0.0173 - val_loss: 19.9730 - val_mae: 3.2845 - val_acc: 0.0000e+00\n",
      "Epoch 34/500\n",
      "404/404 [==============================] - 0s 39us/step - loss: 17.2807 - mae: 2.7688 - acc: 0.0198 - val_loss: 22.6227 - val_mae: 3.4681 - val_acc: 0.0098\n",
      "Epoch 35/500\n",
      "404/404 [==============================] - 0s 39us/step - loss: 17.4442 - mae: 2.7526 - acc: 0.0223 - val_loss: 19.4204 - val_mae: 3.2317 - val_acc: 0.0098\n",
      "Epoch 36/500\n",
      "404/404 [==============================] - 0s 39us/step - loss: 17.7499 - mae: 2.7737 - acc: 0.0149 - val_loss: 19.9069 - val_mae: 3.4137 - val_acc: 0.0490\n",
      "Epoch 37/500\n",
      "404/404 [==============================] - 0s 39us/step - loss: 18.9052 - mae: 2.9446 - acc: 0.0099 - val_loss: 19.3014 - val_mae: 3.2263 - val_acc: 0.0098\n",
      "Epoch 38/500\n",
      "404/404 [==============================] - 0s 39us/step - loss: 16.3903 - mae: 2.7170 - acc: 0.0149 - val_loss: 19.3637 - val_mae: 3.2289 - val_acc: 0.0098\n",
      "Epoch 39/500\n",
      "404/404 [==============================] - 0s 39us/step - loss: 16.2576 - mae: 2.6874 - acc: 0.0074 - val_loss: 20.0087 - val_mae: 3.2795 - val_acc: 0.0098\n",
      "Epoch 40/500\n",
      "404/404 [==============================] - 0s 39us/step - loss: 16.0967 - mae: 2.6455 - acc: 0.0173 - val_loss: 18.3157 - val_mae: 3.1421 - val_acc: 0.0098\n",
      "Epoch 41/500\n",
      "404/404 [==============================] - 0s 39us/step - loss: 15.8342 - mae: 2.6295 - acc: 0.0149 - val_loss: 17.8865 - val_mae: 3.0916 - val_acc: 0.0098\n",
      "Epoch 42/500\n",
      "404/404 [==============================] - 0s 39us/step - loss: 15.6502 - mae: 2.6609 - acc: 0.0272 - val_loss: 19.0189 - val_mae: 3.2108 - val_acc: 0.0196\n",
      "Epoch 43/500\n",
      "404/404 [==============================] - 0s 39us/step - loss: 15.7329 - mae: 2.6918 - acc: 0.0099 - val_loss: 19.6635 - val_mae: 3.2581 - val_acc: 0.0098\n",
      "Epoch 44/500\n",
      "404/404 [==============================] - 0s 39us/step - loss: 15.4321 - mae: 2.5800 - acc: 0.0198 - val_loss: 16.9353 - val_mae: 3.0484 - val_acc: 0.0098\n",
      "Epoch 45/500\n",
      "404/404 [==============================] - 0s 39us/step - loss: 15.5276 - mae: 2.5822 - acc: 0.0173 - val_loss: 17.5201 - val_mae: 3.0856 - val_acc: 0.0098\n",
      "Epoch 46/500\n",
      "404/404 [==============================] - 0s 39us/step - loss: 15.8864 - mae: 2.7667 - acc: 0.0074 - val_loss: 20.6013 - val_mae: 3.3601 - val_acc: 0.0098\n",
      "Epoch 47/500\n",
      "404/404 [==============================] - 0s 39us/step - loss: 15.2729 - mae: 2.6591 - acc: 0.0149 - val_loss: 17.9354 - val_mae: 3.1068 - val_acc: 0.0098\n",
      "Epoch 48/500\n",
      "404/404 [==============================] - 0s 39us/step - loss: 14.9112 - mae: 2.5557 - acc: 0.0198 - val_loss: 16.9634 - val_mae: 3.0276 - val_acc: 0.0098\n",
      "Epoch 49/500\n",
      "404/404 [==============================] - 0s 39us/step - loss: 14.5886 - mae: 2.5556 - acc: 0.0099 - val_loss: 16.5559 - val_mae: 3.0931 - val_acc: 0.0294\n",
      "Epoch 50/500\n",
      "404/404 [==============================] - 0s 39us/step - loss: 14.6450 - mae: 2.5907 - acc: 0.0198 - val_loss: 16.7119 - val_mae: 3.0074 - val_acc: 0.0098\n",
      "Epoch 51/500\n",
      "404/404 [==============================] - 0s 39us/step - loss: 14.2290 - mae: 2.5310 - acc: 0.0173 - val_loss: 15.7880 - val_mae: 2.9550 - val_acc: 0.0098\n",
      "Epoch 52/500\n",
      "404/404 [==============================] - 0s 39us/step - loss: 14.1342 - mae: 2.5602 - acc: 0.0173 - val_loss: 16.7985 - val_mae: 3.0149 - val_acc: 0.0098\n",
      "Epoch 53/500\n",
      "404/404 [==============================] - 0s 39us/step - loss: 14.0796 - mae: 2.5416 - acc: 0.0173 - val_loss: 16.7938 - val_mae: 3.0153 - val_acc: 0.0098\n",
      "Epoch 54/500\n",
      "404/404 [==============================] - 0s 39us/step - loss: 13.8818 - mae: 2.5288 - acc: 0.0198 - val_loss: 17.8915 - val_mae: 3.1167 - val_acc: 0.0098\n",
      "Epoch 55/500\n",
      "404/404 [==============================] - 0s 39us/step - loss: 14.7460 - mae: 2.6580 - acc: 0.0149 - val_loss: 15.2682 - val_mae: 2.9083 - val_acc: 0.0392\n",
      "Epoch 56/500\n",
      "404/404 [==============================] - 0s 39us/step - loss: 14.2870 - mae: 2.5660 - acc: 0.0198 - val_loss: 15.5443 - val_mae: 2.9714 - val_acc: 0.0490\n",
      "Epoch 57/500\n",
      "404/404 [==============================] - 0s 39us/step - loss: 14.8290 - mae: 2.6680 - acc: 0.0272 - val_loss: 15.9979 - val_mae: 2.9659 - val_acc: 0.0196\n",
      "Epoch 58/500\n",
      "404/404 [==============================] - 0s 40us/step - loss: 14.0419 - mae: 2.6634 - acc: 0.0074 - val_loss: 18.8082 - val_mae: 3.1830 - val_acc: 0.0098\n",
      "Epoch 59/500\n",
      "404/404 [==============================] - 0s 39us/step - loss: 13.5987 - mae: 2.5637 - acc: 0.0149 - val_loss: 15.2005 - val_mae: 2.8840 - val_acc: 0.0196\n",
      "Epoch 60/500\n",
      "404/404 [==============================] - 0s 39us/step - loss: 13.2308 - mae: 2.4618 - acc: 0.0223 - val_loss: 14.9928 - val_mae: 2.9187 - val_acc: 0.0490\n",
      "Epoch 61/500\n",
      "404/404 [==============================] - 0s 39us/step - loss: 13.9860 - mae: 2.5686 - acc: 0.0223 - val_loss: 15.7499 - val_mae: 2.9275 - val_acc: 0.0196\n",
      "Epoch 62/500\n",
      "404/404 [==============================] - 0s 39us/step - loss: 13.8467 - mae: 2.6136 - acc: 0.0124 - val_loss: 19.6723 - val_mae: 3.2815 - val_acc: 0.0000e+00\n",
      "Epoch 63/500\n",
      "404/404 [==============================] - 0s 39us/step - loss: 13.3460 - mae: 2.5647 - acc: 0.0272 - val_loss: 15.3876 - val_mae: 2.9030 - val_acc: 0.0196\n",
      "Epoch 64/500\n",
      "404/404 [==============================] - 0s 39us/step - loss: 13.2540 - mae: 2.5191 - acc: 0.0149 - val_loss: 15.0285 - val_mae: 2.8753 - val_acc: 0.0196\n",
      "Epoch 65/500\n",
      "404/404 [==============================] - 0s 39us/step - loss: 12.6767 - mae: 2.4066 - acc: 0.0149 - val_loss: 14.9777 - val_mae: 2.8726 - val_acc: 0.0196\n",
      "Epoch 66/500\n",
      "404/404 [==============================] - 0s 39us/step - loss: 12.7167 - mae: 2.4887 - acc: 0.0149 - val_loss: 18.1733 - val_mae: 3.1464 - val_acc: 0.0000e+00\n",
      "Epoch 67/500\n",
      "404/404 [==============================] - 0s 39us/step - loss: 13.6875 - mae: 2.5363 - acc: 0.0149 - val_loss: 17.5279 - val_mae: 3.0965 - val_acc: 0.0000e+00\n",
      "Epoch 68/500\n",
      "404/404 [==============================] - 0s 39us/step - loss: 12.8124 - mae: 2.4365 - acc: 0.0124 - val_loss: 14.2968 - val_mae: 2.8164 - val_acc: 0.0196\n",
      "Epoch 69/500\n",
      "404/404 [==============================] - 0s 39us/step - loss: 12.3132 - mae: 2.3764 - acc: 0.0074 - val_loss: 15.3571 - val_mae: 2.9051 - val_acc: 0.0196\n",
      "Epoch 70/500\n",
      "404/404 [==============================] - 0s 39us/step - loss: 12.5353 - mae: 2.4003 - acc: 0.0173 - val_loss: 14.4671 - val_mae: 2.8306 - val_acc: 0.0196\n",
      "Epoch 71/500\n",
      "404/404 [==============================] - 0s 39us/step - loss: 12.2802 - mae: 2.3919 - acc: 0.0149 - val_loss: 14.9541 - val_mae: 2.8702 - val_acc: 0.0294\n",
      "Epoch 72/500\n",
      "404/404 [==============================] - 0s 39us/step - loss: 12.2436 - mae: 2.3676 - acc: 0.0149 - val_loss: 14.2055 - val_mae: 2.8038 - val_acc: 0.0196\n",
      "Epoch 73/500\n",
      "404/404 [==============================] - 0s 39us/step - loss: 12.4686 - mae: 2.4390 - acc: 0.0173 - val_loss: 15.4456 - val_mae: 2.9069 - val_acc: 0.0196\n",
      "Epoch 74/500\n",
      "404/404 [==============================] - 0s 39us/step - loss: 12.2550 - mae: 2.4294 - acc: 0.0099 - val_loss: 15.3675 - val_mae: 2.8895 - val_acc: 0.0294\n",
      "Epoch 75/500\n",
      "404/404 [==============================] - 0s 39us/step - loss: 12.4832 - mae: 2.4028 - acc: 0.0124 - val_loss: 15.6118 - val_mae: 2.9443 - val_acc: 0.0196\n",
      "Epoch 76/500\n",
      "404/404 [==============================] - 0s 39us/step - loss: 12.0469 - mae: 2.4031 - acc: 0.0173 - val_loss: 13.5812 - val_mae: 2.7499 - val_acc: 0.0098\n",
      "Epoch 77/500\n",
      "404/404 [==============================] - 0s 39us/step - loss: 12.0197 - mae: 2.3879 - acc: 0.0198 - val_loss: 14.6440 - val_mae: 2.8373 - val_acc: 0.0196\n",
      "Epoch 78/500\n",
      "404/404 [==============================] - 0s 0us/step - loss: 11.9189 - mae: 2.3642 - acc: 0.0124 - val_loss: 13.5297 - val_mae: 2.7477 - val_acc: 0.0098\n",
      "Epoch 79/500\n",
      "404/404 [==============================] - 0s 39us/step - loss: 11.9780 - mae: 2.3643 - acc: 0.0198 - val_loss: 14.3179 - val_mae: 2.8086 - val_acc: 0.0196\n",
      "Epoch 80/500\n",
      "404/404 [==============================] - 0s 39us/step - loss: 11.6884 - mae: 2.3273 - acc: 0.0173 - val_loss: 14.2992 - val_mae: 2.8208 - val_acc: 0.0196\n",
      "Epoch 81/500\n",
      "404/404 [==============================] - 0s 39us/step - loss: 11.6341 - mae: 2.3311 - acc: 0.0099 - val_loss: 13.8858 - val_mae: 2.7850 - val_acc: 0.0098\n",
      "Epoch 82/500\n",
      "404/404 [==============================] - 0s 39us/step - loss: 12.0298 - mae: 2.3840 - acc: 0.0149 - val_loss: 14.0404 - val_mae: 2.7864 - val_acc: 0.0196\n",
      "Epoch 83/500\n",
      "404/404 [==============================] - 0s 39us/step - loss: 12.8345 - mae: 2.4721 - acc: 0.0223 - val_loss: 13.3285 - val_mae: 2.7418 - val_acc: 0.0392\n",
      "Epoch 84/500\n",
      "404/404 [==============================] - 0s 39us/step - loss: 12.2749 - mae: 2.3967 - acc: 0.0173 - val_loss: 13.3154 - val_mae: 2.7496 - val_acc: 0.0196\n",
      "Epoch 85/500\n",
      "404/404 [==============================] - 0s 77us/step - loss: 11.9038 - mae: 2.3951 - acc: 0.0198 - val_loss: 13.3049 - val_mae: 2.7352 - val_acc: 0.0196\n",
      "Epoch 86/500\n",
      "404/404 [==============================] - 0s 39us/step - loss: 13.1936 - mae: 2.4632 - acc: 0.0149 - val_loss: 13.1564 - val_mae: 2.7333 - val_acc: 0.0490\n",
      "Epoch 87/500\n",
      "404/404 [==============================] - 0s 39us/step - loss: 12.6914 - mae: 2.5244 - acc: 0.0149 - val_loss: 14.1203 - val_mae: 2.8075 - val_acc: 0.0294\n",
      "Epoch 88/500\n",
      "404/404 [==============================] - 0s 39us/step - loss: 11.5253 - mae: 2.3195 - acc: 0.0124 - val_loss: 13.6660 - val_mae: 2.7602 - val_acc: 0.0196\n",
      "Epoch 89/500\n",
      "404/404 [==============================] - 0s 39us/step - loss: 11.2539 - mae: 2.2986 - acc: 0.0124 - val_loss: 13.5979 - val_mae: 2.7622 - val_acc: 0.0196\n",
      "Epoch 90/500\n",
      "404/404 [==============================] - 0s 39us/step - loss: 11.3946 - mae: 2.2992 - acc: 0.0149 - val_loss: 13.4676 - val_mae: 2.7465 - val_acc: 0.0196\n",
      "Epoch 91/500\n",
      "404/404 [==============================] - 0s 39us/step - loss: 11.1851 - mae: 2.3030 - acc: 0.0099 - val_loss: 14.9751 - val_mae: 2.8985 - val_acc: 0.0098\n",
      "Epoch 92/500\n",
      "404/404 [==============================] - 0s 39us/step - loss: 11.4009 - mae: 2.3102 - acc: 0.0149 - val_loss: 13.5026 - val_mae: 2.7581 - val_acc: 0.0196\n",
      "Epoch 93/500\n",
      "404/404 [==============================] - 0s 39us/step - loss: 11.3659 - mae: 2.2825 - acc: 0.0149 - val_loss: 14.0225 - val_mae: 2.7944 - val_acc: 0.0196\n",
      "Epoch 94/500\n",
      "404/404 [==============================] - 0s 39us/step - loss: 11.0756 - mae: 2.2730 - acc: 0.0149 - val_loss: 13.1276 - val_mae: 2.7178 - val_acc: 0.0196\n",
      "Epoch 95/500\n",
      "404/404 [==============================] - 0s 39us/step - loss: 11.5616 - mae: 2.3679 - acc: 0.0149 - val_loss: 12.9050 - val_mae: 2.7095 - val_acc: 0.0392\n",
      "Epoch 96/500\n",
      "404/404 [==============================] - 0s 39us/step - loss: 12.1528 - mae: 2.4107 - acc: 0.0074 - val_loss: 13.1938 - val_mae: 2.7569 - val_acc: 0.0490\n",
      "Epoch 97/500\n",
      "404/404 [==============================] - 0s 39us/step - loss: 11.3282 - mae: 2.3283 - acc: 0.0149 - val_loss: 13.4657 - val_mae: 2.7432 - val_acc: 0.0196\n",
      "Epoch 98/500\n",
      "404/404 [==============================] - 0s 39us/step - loss: 11.0793 - mae: 2.2734 - acc: 0.0149 - val_loss: 13.2004 - val_mae: 2.7481 - val_acc: 0.0196\n",
      "Epoch 99/500\n",
      "404/404 [==============================] - 0s 39us/step - loss: 11.3890 - mae: 2.3245 - acc: 0.0149 - val_loss: 12.9211 - val_mae: 2.7098 - val_acc: 0.0392\n",
      "Epoch 100/500\n",
      "404/404 [==============================] - 0s 39us/step - loss: 11.6727 - mae: 2.3490 - acc: 0.0124 - val_loss: 13.2456 - val_mae: 2.7626 - val_acc: 0.0686\n",
      "Epoch 101/500\n",
      "404/404 [==============================] - 0s 39us/step - loss: 11.8228 - mae: 2.4414 - acc: 0.0149 - val_loss: 13.1932 - val_mae: 2.7309 - val_acc: 0.0196\n",
      "Epoch 102/500\n",
      "404/404 [==============================] - 0s 39us/step - loss: 10.8690 - mae: 2.2725 - acc: 0.0198 - val_loss: 14.8855 - val_mae: 2.9110 - val_acc: 0.0000e+00\n",
      "Epoch 103/500\n",
      "404/404 [==============================] - 0s 39us/step - loss: 10.9473 - mae: 2.2667 - acc: 0.0099 - val_loss: 13.3957 - val_mae: 2.7542 - val_acc: 0.0196\n",
      "Epoch 104/500\n",
      "404/404 [==============================] - 0s 39us/step - loss: 10.7961 - mae: 2.2339 - acc: 0.0173 - val_loss: 12.9670 - val_mae: 2.7147 - val_acc: 0.0098\n",
      "Epoch 105/500\n",
      "404/404 [==============================] - 0s 39us/step - loss: 10.9886 - mae: 2.2605 - acc: 0.0198 - val_loss: 13.7194 - val_mae: 2.7884 - val_acc: 0.0098\n",
      "Epoch 106/500\n",
      "404/404 [==============================] - 0s 77us/step - loss: 10.9241 - mae: 2.2854 - acc: 0.0099 - val_loss: 12.5140 - val_mae: 2.6849 - val_acc: 0.0098\n",
      "Epoch 107/500\n",
      "404/404 [==============================] - 0s 39us/step - loss: 10.6990 - mae: 2.2341 - acc: 0.0198 - val_loss: 13.9888 - val_mae: 2.8009 - val_acc: 0.0196\n",
      "Epoch 108/500\n",
      "404/404 [==============================] - 0s 39us/step - loss: 10.9034 - mae: 2.2535 - acc: 0.0124 - val_loss: 13.1201 - val_mae: 2.7340 - val_acc: 0.0098\n",
      "Epoch 109/500\n",
      "404/404 [==============================] - 0s 39us/step - loss: 10.7806 - mae: 2.2752 - acc: 0.0099 - val_loss: 13.1229 - val_mae: 2.7369 - val_acc: 0.0098\n",
      "Epoch 110/500\n",
      "404/404 [==============================] - 0s 39us/step - loss: 11.9041 - mae: 2.4810 - acc: 0.0124 - val_loss: 16.8845 - val_mae: 3.1414 - val_acc: 0.0098\n",
      "Epoch 111/500\n",
      "404/404 [==============================] - 0s 39us/step - loss: 12.0709 - mae: 2.4745 - acc: 0.0223 - val_loss: 18.2755 - val_mae: 3.3059 - val_acc: 0.0098\n",
      "Epoch 112/500\n",
      "404/404 [==============================] - 0s 39us/step - loss: 10.9765 - mae: 2.3130 - acc: 0.0223 - val_loss: 14.0584 - val_mae: 2.8595 - val_acc: 0.0000e+00\n",
      "Epoch 113/500\n",
      "404/404 [==============================] - 0s 39us/step - loss: 11.1464 - mae: 2.2760 - acc: 0.0149 - val_loss: 14.9462 - val_mae: 2.9114 - val_acc: 0.0098\n",
      "Epoch 114/500\n",
      "404/404 [==============================] - 0s 39us/step - loss: 10.4159 - mae: 2.2001 - acc: 0.0149 - val_loss: 12.6661 - val_mae: 2.7010 - val_acc: 0.0098\n",
      "Epoch 115/500\n",
      "404/404 [==============================] - 0s 0us/step - loss: 10.4519 - mae: 2.2156 - acc: 0.0173 - val_loss: 12.6004 - val_mae: 2.6977 - val_acc: 0.0392\n",
      "Epoch 116/500\n",
      "404/404 [==============================] - 0s 39us/step - loss: 10.6154 - mae: 2.2151 - acc: 0.0099 - val_loss: 12.6480 - val_mae: 2.6980 - val_acc: 0.0098\n",
      "Epoch 117/500\n",
      "404/404 [==============================] - 0s 39us/step - loss: 10.6773 - mae: 2.2555 - acc: 0.0149 - val_loss: 12.8789 - val_mae: 2.7080 - val_acc: 0.0098\n",
      "Epoch 118/500\n",
      "404/404 [==============================] - 0s 39us/step - loss: 10.9823 - mae: 2.3101 - acc: 0.0173 - val_loss: 12.5217 - val_mae: 2.6944 - val_acc: 0.0098\n",
      "Epoch 119/500\n",
      "404/404 [==============================] - 0s 39us/step - loss: 10.5683 - mae: 2.2218 - acc: 0.0223 - val_loss: 13.3208 - val_mae: 2.7434 - val_acc: 0.0098\n",
      "Epoch 120/500\n",
      "404/404 [==============================] - 0s 39us/step - loss: 10.3520 - mae: 2.2040 - acc: 0.0149 - val_loss: 14.0205 - val_mae: 2.8456 - val_acc: 0.0196\n",
      "Epoch 121/500\n",
      "404/404 [==============================] - 0s 39us/step - loss: 11.5524 - mae: 2.3428 - acc: 0.0173 - val_loss: 14.4578 - val_mae: 2.8776 - val_acc: 0.0000e+00\n",
      "Epoch 122/500\n",
      "404/404 [==============================] - 0s 39us/step - loss: 11.5368 - mae: 2.3939 - acc: 0.0124 - val_loss: 14.1765 - val_mae: 2.8693 - val_acc: 0.0098\n",
      "Epoch 123/500\n",
      "404/404 [==============================] - 0s 39us/step - loss: 11.1170 - mae: 2.3182 - acc: 0.0173 - val_loss: 13.7074 - val_mae: 2.8144 - val_acc: 0.0098\n",
      "Epoch 124/500\n",
      "404/404 [==============================] - 0s 39us/step - loss: 10.1167 - mae: 2.1887 - acc: 0.0124 - val_loss: 14.0634 - val_mae: 2.8530 - val_acc: 0.0098\n",
      "Epoch 125/500\n",
      "404/404 [==============================] - 0s 39us/step - loss: 10.4632 - mae: 2.2140 - acc: 0.0173 - val_loss: 12.8237 - val_mae: 2.7032 - val_acc: 0.0098\n",
      "Epoch 126/500\n",
      "404/404 [==============================] - 0s 39us/step - loss: 10.1606 - mae: 2.1885 - acc: 0.0149 - val_loss: 13.0970 - val_mae: 2.7500 - val_acc: 0.0098\n",
      "Epoch 00126: early stopping\n"
     ]
    }
   ],
   "source": [
    "history3 = model3.fit(inputs_train_scaled, outputs_train, epochs=500, validation_data=(inputs_test_scaled, outputs_test), callbacks=[earlystop])"
   ]
  },
  {
   "cell_type": "code",
   "execution_count": 57,
   "metadata": {},
   "outputs": [
    {
     "name": "stdout",
     "output_type": "stream",
     "text": [
      "This model evaluates as:\n",
      "* Loss: 13.09696756624708\n",
      "* MAE: 2.749974489212036\n",
      "* Accuracy: 0.009803921915590763\n"
     ]
    }
   ],
   "source": [
    "evaluate3 = []\n",
    "evaluator(evaluate3, model3)"
   ]
  },
  {
   "cell_type": "code",
   "execution_count": 58,
   "metadata": {},
   "outputs": [
    {
     "name": "stdout",
     "output_type": "stream",
     "text": [
      "This model predicts as:\n",
      "* Predicted Value: 30.298113\n",
      "* Actual value: 32.9\n"
     ]
    },
    {
     "name": "stderr",
     "output_type": "stream",
     "text": [
      "C:\\Users\\Peter McGowan\\Anaconda3\\lib\\site-packages\\ipykernel_launcher.py:3: FutureWarning: Method .as_matrix will be removed in a future version. Use .values instead.\n",
      "  This is separate from the ipykernel package so we can avoid doing imports until\n"
     ]
    }
   ],
   "source": [
    "predict3 = []\n",
    "predictor(predict3, model3)"
   ]
  },
  {
   "cell_type": "markdown",
   "metadata": {},
   "source": [
    "##### Results"
   ]
  },
  {
   "cell_type": "markdown",
   "metadata": {},
   "source": [
    "More accurate than all previous attempts:\n",
    "* Loss (Mean Squared Error): ~8\n",
    "* Mean Absolute Error: ~2.0\n",
    "* Accuracy: 0.0272"
   ]
  },
  {
   "cell_type": "markdown",
   "metadata": {},
   "source": [
    "##### Next Section"
   ]
  },
  {
   "cell_type": "code",
   "execution_count": 59,
   "metadata": {},
   "outputs": [
    {
     "name": "stdout",
     "output_type": "stream",
     "text": [
      "dict_keys(['val_loss', 'val_mae', 'val_acc', 'loss', 'mae', 'acc'])\n"
     ]
    }
   ],
   "source": [
    "print(history1.history.keys())"
   ]
  },
  {
   "cell_type": "code",
   "execution_count": 60,
   "metadata": {},
   "outputs": [
    {
     "name": "stdout",
     "output_type": "stream",
     "text": [
      "102/102 [==============================] - 0s 0us/step\n",
      "[14.9855110318053, 2.8635849952697754, 0.03921568766236305]\n",
      "102/102 [==============================] - 0s 0us/step\n",
      "[13.133581404592476, 2.782153606414795, 0.009803921915590763]\n",
      "102/102 [==============================] - 0s 153us/step\n",
      "[13.09696756624708, 2.749974489212036, 0.009803921915590763]\n"
     ]
    }
   ],
   "source": [
    "print(model1.evaluate(inputs_test_scaled, outputs_test))\n",
    "print(model2.evaluate(inputs_test_scaled, outputs_test))\n",
    "print(model3.evaluate(inputs_test_scaled, outputs_test))"
   ]
  },
  {
   "cell_type": "code",
   "execution_count": 61,
   "metadata": {},
   "outputs": [
    {
     "data": {
      "text/plain": [
       "[<matplotlib.lines.Line2D at 0x1f4ba27c908>]"
      ]
     },
     "execution_count": 61,
     "metadata": {},
     "output_type": "execute_result"
    },
    {
     "data": {
      "image/png": "[encoded data removed]",
      "text/plain": [
       "<Figure size 1440x360 with 1 Axes>"
      ]
     },
     "metadata": {},
     "output_type": "display_data"
    }
   ],
   "source": [
    "plt.figure(figsize=(20,5))\n",
    "plt.plot(history1.history['loss'], color='r')\n",
    "plt.plot(history2.history['loss'], color='g')\n",
    "plt.plot(history3.history['loss'], color='b')"
   ]
  },
  {
   "cell_type": "markdown",
   "metadata": {},
   "source": [
    "*** adjust the below to output what i want"
   ]
  },
  {
   "cell_type": "markdown",
   "metadata": {},
   "source": [
    "*** https://keras.io/visualization/"
   ]
  },
  {
   "cell_type": "markdown",
   "metadata": {},
   "source": [
    "*** https://www.tensorflow.org/guide/keras/train_and_evaluate\n",
    "*** https://stats.stackexchange.com/questions/153531/what-is-batch-size-in-neural-network"
   ]
  }
 ],
 "metadata": {
  "kernelspec": {
   "display_name": "Python 3",
   "language": "python",
   "name": "python3"
  },
  "language_info": {
   "codemirror_mode": {
    "name": "ipython",
    "version": 3
   },
   "file_extension": ".py",
   "mimetype": "text/x-python",
   "name": "python",
   "nbconvert_exporter": "python",
   "pygments_lexer": "ipython3",
   "version": "3.7.3"
  }
 },
 "nbformat": 4,
 "nbformat_minor": 4
}
