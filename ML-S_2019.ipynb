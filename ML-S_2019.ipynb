{
 "cells": [
  {
   "cell_type": "markdown",
   "metadata": {},
   "source": [
    "# Machine Learning & Statistics Project 2019"
   ]
  },
  {
   "cell_type": "markdown",
   "metadata": {},
   "source": [
    "Peter McGowan\n",
    "G00190832"
   ]
  },
  {
   "cell_type": "markdown",
   "metadata": {},
   "source": [
    "## Introduction\n",
    "This jupyter notebook contains an investigation of the Boston House Prices dataset for the \"Machine-Learnign and Statistics Module on the GMIT HDip in Data Analytics."
   ]
  },
  {
   "cell_type": "markdown",
   "metadata": {},
   "source": [
    "## Background\n",
    "***Add background info here***"
   ]
  },
  {
   "cell_type": "markdown",
   "metadata": {},
   "source": [
    "## Starting Off\n",
    "First we will import the required python libraries."
   ]
  },
  {
   "cell_type": "code",
   "execution_count": 1,
   "metadata": {},
   "outputs": [],
   "source": [
    "# Import pandas for managing data\n",
    "# Import scipy.stats for statistical analysis\n",
    "# Impost keras for working with neural networks\n",
    "# Import matplotlib.pyplot and seaborn for visualisations\n",
    "import pandas as pd\n",
    "import scipy.stats as ss\n",
    "import statsmodels.stats.weightstats as ws\n",
    "#import keras as k\n",
    "import matplotlib.pyplot as plt\n",
    "import seaborn as sns\n",
    "#from keras.models import Sequential"
   ]
  },
  {
   "cell_type": "markdown",
   "metadata": {},
   "source": [
    "scikit-learn conveniently provides the Boston House Prices dataset - we will now load it."
   ]
  },
  {
   "cell_type": "markdown",
   "metadata": {},
   "source": [
    "** change this to import from keras?"
   ]
  },
  {
   "cell_type": "code",
   "execution_count": 2,
   "metadata": {},
   "outputs": [],
   "source": [
    "# Load the boston dataset from sklearn\n",
    "from sklearn.datasets import load_boston\n",
    "boston = load_boston()"
   ]
  },
  {
   "cell_type": "markdown",
   "metadata": {},
   "source": [
    "Check the keys of the dataset #Research this"
   ]
  },
  {
   "cell_type": "code",
   "execution_count": 3,
   "metadata": {},
   "outputs": [
    {
     "name": "stdout",
     "output_type": "stream",
     "text": [
      "dict_keys(['data', 'target', 'feature_names', 'DESCR', 'filename'])\n"
     ]
    }
   ],
   "source": [
    "print(boston.keys())"
   ]
  },
  {
   "cell_type": "markdown",
   "metadata": {},
   "source": [
    "The pandas library includes a versatile \"dataframe\" object - an indexed array that helps with managing multi-dimensional data."
   ]
  },
  {
   "cell_type": "code",
   "execution_count": 4,
   "metadata": {},
   "outputs": [],
   "source": [
    "# Create a dataframe from the boston house prices dataset\"\n",
    "df = pd.DataFrame(boston.data, columns=boston.feature_names)"
   ]
  },
  {
   "cell_type": "markdown",
   "metadata": {},
   "source": [
    "## Describe"
   ]
  },
  {
   "cell_type": "markdown",
   "metadata": {},
   "source": [
    "### Checks & Descriptive Statistics"
   ]
  },
  {
   "cell_type": "markdown",
   "metadata": {},
   "source": [
    "We'll have a look at the head and tail of the data first of all to check for any obvious issues"
   ]
  },
  {
   "cell_type": "code",
   "execution_count": 5,
   "metadata": {},
   "outputs": [
    {
     "data": {
      "text/html": [
       "<div>\n",
       "<style scoped>\n",
       "    .dataframe tbody tr th:only-of-type {\n",
       "        vertical-align: middle;\n",
       "    }\n",
       "\n",
       "    .dataframe tbody tr th {\n",
       "        vertical-align: top;\n",
       "    }\n",
       "\n",
       "    .dataframe thead th {\n",
       "        text-align: right;\n",
       "    }\n",
       "</style>\n",
       "<table border=\"1\" class=\"dataframe\">\n",
       "  <thead>\n",
       "    <tr style=\"text-align: right;\">\n",
       "      <th></th>\n",
       "      <th>CRIM</th>\n",
       "      <th>ZN</th>\n",
       "      <th>INDUS</th>\n",
       "      <th>CHAS</th>\n",
       "      <th>NOX</th>\n",
       "      <th>RM</th>\n",
       "      <th>AGE</th>\n",
       "      <th>DIS</th>\n",
       "      <th>RAD</th>\n",
       "      <th>TAX</th>\n",
       "      <th>PTRATIO</th>\n",
       "      <th>B</th>\n",
       "      <th>LSTAT</th>\n",
       "    </tr>\n",
       "  </thead>\n",
       "  <tbody>\n",
       "    <tr>\n",
       "      <th>0</th>\n",
       "      <td>0.00632</td>\n",
       "      <td>18.0</td>\n",
       "      <td>2.31</td>\n",
       "      <td>0.0</td>\n",
       "      <td>0.538</td>\n",
       "      <td>6.575</td>\n",
       "      <td>65.2</td>\n",
       "      <td>4.0900</td>\n",
       "      <td>1.0</td>\n",
       "      <td>296.0</td>\n",
       "      <td>15.3</td>\n",
       "      <td>396.90</td>\n",
       "      <td>4.98</td>\n",
       "    </tr>\n",
       "    <tr>\n",
       "      <th>1</th>\n",
       "      <td>0.02731</td>\n",
       "      <td>0.0</td>\n",
       "      <td>7.07</td>\n",
       "      <td>0.0</td>\n",
       "      <td>0.469</td>\n",
       "      <td>6.421</td>\n",
       "      <td>78.9</td>\n",
       "      <td>4.9671</td>\n",
       "      <td>2.0</td>\n",
       "      <td>242.0</td>\n",
       "      <td>17.8</td>\n",
       "      <td>396.90</td>\n",
       "      <td>9.14</td>\n",
       "    </tr>\n",
       "    <tr>\n",
       "      <th>2</th>\n",
       "      <td>0.02729</td>\n",
       "      <td>0.0</td>\n",
       "      <td>7.07</td>\n",
       "      <td>0.0</td>\n",
       "      <td>0.469</td>\n",
       "      <td>7.185</td>\n",
       "      <td>61.1</td>\n",
       "      <td>4.9671</td>\n",
       "      <td>2.0</td>\n",
       "      <td>242.0</td>\n",
       "      <td>17.8</td>\n",
       "      <td>392.83</td>\n",
       "      <td>4.03</td>\n",
       "    </tr>\n",
       "    <tr>\n",
       "      <th>3</th>\n",
       "      <td>0.03237</td>\n",
       "      <td>0.0</td>\n",
       "      <td>2.18</td>\n",
       "      <td>0.0</td>\n",
       "      <td>0.458</td>\n",
       "      <td>6.998</td>\n",
       "      <td>45.8</td>\n",
       "      <td>6.0622</td>\n",
       "      <td>3.0</td>\n",
       "      <td>222.0</td>\n",
       "      <td>18.7</td>\n",
       "      <td>394.63</td>\n",
       "      <td>2.94</td>\n",
       "    </tr>\n",
       "    <tr>\n",
       "      <th>4</th>\n",
       "      <td>0.06905</td>\n",
       "      <td>0.0</td>\n",
       "      <td>2.18</td>\n",
       "      <td>0.0</td>\n",
       "      <td>0.458</td>\n",
       "      <td>7.147</td>\n",
       "      <td>54.2</td>\n",
       "      <td>6.0622</td>\n",
       "      <td>3.0</td>\n",
       "      <td>222.0</td>\n",
       "      <td>18.7</td>\n",
       "      <td>396.90</td>\n",
       "      <td>5.33</td>\n",
       "    </tr>\n",
       "  </tbody>\n",
       "</table>\n",
       "</div>"
      ],
      "text/plain": [
       "      CRIM    ZN  INDUS  CHAS    NOX     RM   AGE     DIS  RAD    TAX  \\\n",
       "0  0.00632  18.0   2.31   0.0  0.538  6.575  65.2  4.0900  1.0  296.0   \n",
       "1  0.02731   0.0   7.07   0.0  0.469  6.421  78.9  4.9671  2.0  242.0   \n",
       "2  0.02729   0.0   7.07   0.0  0.469  7.185  61.1  4.9671  2.0  242.0   \n",
       "3  0.03237   0.0   2.18   0.0  0.458  6.998  45.8  6.0622  3.0  222.0   \n",
       "4  0.06905   0.0   2.18   0.0  0.458  7.147  54.2  6.0622  3.0  222.0   \n",
       "\n",
       "   PTRATIO       B  LSTAT  \n",
       "0     15.3  396.90   4.98  \n",
       "1     17.8  396.90   9.14  \n",
       "2     17.8  392.83   4.03  \n",
       "3     18.7  394.63   2.94  \n",
       "4     18.7  396.90   5.33  "
      ]
     },
     "execution_count": 5,
     "metadata": {},
     "output_type": "execute_result"
    }
   ],
   "source": [
    "df.head()"
   ]
  },
  {
   "cell_type": "code",
   "execution_count": 6,
   "metadata": {},
   "outputs": [
    {
     "data": {
      "text/html": [
       "<div>\n",
       "<style scoped>\n",
       "    .dataframe tbody tr th:only-of-type {\n",
       "        vertical-align: middle;\n",
       "    }\n",
       "\n",
       "    .dataframe tbody tr th {\n",
       "        vertical-align: top;\n",
       "    }\n",
       "\n",
       "    .dataframe thead th {\n",
       "        text-align: right;\n",
       "    }\n",
       "</style>\n",
       "<table border=\"1\" class=\"dataframe\">\n",
       "  <thead>\n",
       "    <tr style=\"text-align: right;\">\n",
       "      <th></th>\n",
       "      <th>CRIM</th>\n",
       "      <th>ZN</th>\n",
       "      <th>INDUS</th>\n",
       "      <th>CHAS</th>\n",
       "      <th>NOX</th>\n",
       "      <th>RM</th>\n",
       "      <th>AGE</th>\n",
       "      <th>DIS</th>\n",
       "      <th>RAD</th>\n",
       "      <th>TAX</th>\n",
       "      <th>PTRATIO</th>\n",
       "      <th>B</th>\n",
       "      <th>LSTAT</th>\n",
       "    </tr>\n",
       "  </thead>\n",
       "  <tbody>\n",
       "    <tr>\n",
       "      <th>501</th>\n",
       "      <td>0.06263</td>\n",
       "      <td>0.0</td>\n",
       "      <td>11.93</td>\n",
       "      <td>0.0</td>\n",
       "      <td>0.573</td>\n",
       "      <td>6.593</td>\n",
       "      <td>69.1</td>\n",
       "      <td>2.4786</td>\n",
       "      <td>1.0</td>\n",
       "      <td>273.0</td>\n",
       "      <td>21.0</td>\n",
       "      <td>391.99</td>\n",
       "      <td>9.67</td>\n",
       "    </tr>\n",
       "    <tr>\n",
       "      <th>502</th>\n",
       "      <td>0.04527</td>\n",
       "      <td>0.0</td>\n",
       "      <td>11.93</td>\n",
       "      <td>0.0</td>\n",
       "      <td>0.573</td>\n",
       "      <td>6.120</td>\n",
       "      <td>76.7</td>\n",
       "      <td>2.2875</td>\n",
       "      <td>1.0</td>\n",
       "      <td>273.0</td>\n",
       "      <td>21.0</td>\n",
       "      <td>396.90</td>\n",
       "      <td>9.08</td>\n",
       "    </tr>\n",
       "    <tr>\n",
       "      <th>503</th>\n",
       "      <td>0.06076</td>\n",
       "      <td>0.0</td>\n",
       "      <td>11.93</td>\n",
       "      <td>0.0</td>\n",
       "      <td>0.573</td>\n",
       "      <td>6.976</td>\n",
       "      <td>91.0</td>\n",
       "      <td>2.1675</td>\n",
       "      <td>1.0</td>\n",
       "      <td>273.0</td>\n",
       "      <td>21.0</td>\n",
       "      <td>396.90</td>\n",
       "      <td>5.64</td>\n",
       "    </tr>\n",
       "    <tr>\n",
       "      <th>504</th>\n",
       "      <td>0.10959</td>\n",
       "      <td>0.0</td>\n",
       "      <td>11.93</td>\n",
       "      <td>0.0</td>\n",
       "      <td>0.573</td>\n",
       "      <td>6.794</td>\n",
       "      <td>89.3</td>\n",
       "      <td>2.3889</td>\n",
       "      <td>1.0</td>\n",
       "      <td>273.0</td>\n",
       "      <td>21.0</td>\n",
       "      <td>393.45</td>\n",
       "      <td>6.48</td>\n",
       "    </tr>\n",
       "    <tr>\n",
       "      <th>505</th>\n",
       "      <td>0.04741</td>\n",
       "      <td>0.0</td>\n",
       "      <td>11.93</td>\n",
       "      <td>0.0</td>\n",
       "      <td>0.573</td>\n",
       "      <td>6.030</td>\n",
       "      <td>80.8</td>\n",
       "      <td>2.5050</td>\n",
       "      <td>1.0</td>\n",
       "      <td>273.0</td>\n",
       "      <td>21.0</td>\n",
       "      <td>396.90</td>\n",
       "      <td>7.88</td>\n",
       "    </tr>\n",
       "  </tbody>\n",
       "</table>\n",
       "</div>"
      ],
      "text/plain": [
       "        CRIM   ZN  INDUS  CHAS    NOX     RM   AGE     DIS  RAD    TAX  \\\n",
       "501  0.06263  0.0  11.93   0.0  0.573  6.593  69.1  2.4786  1.0  273.0   \n",
       "502  0.04527  0.0  11.93   0.0  0.573  6.120  76.7  2.2875  1.0  273.0   \n",
       "503  0.06076  0.0  11.93   0.0  0.573  6.976  91.0  2.1675  1.0  273.0   \n",
       "504  0.10959  0.0  11.93   0.0  0.573  6.794  89.3  2.3889  1.0  273.0   \n",
       "505  0.04741  0.0  11.93   0.0  0.573  6.030  80.8  2.5050  1.0  273.0   \n",
       "\n",
       "     PTRATIO       B  LSTAT  \n",
       "501     21.0  391.99   9.67  \n",
       "502     21.0  396.90   9.08  \n",
       "503     21.0  396.90   5.64  \n",
       "504     21.0  393.45   6.48  \n",
       "505     21.0  396.90   7.88  "
      ]
     },
     "execution_count": 6,
     "metadata": {},
     "output_type": "execute_result"
    }
   ],
   "source": [
    "df.tail()"
   ]
  },
  {
   "cell_type": "markdown",
   "metadata": {},
   "source": [
    "We shoud check also for missing values:"
   ]
  },
  {
   "cell_type": "code",
   "execution_count": 7,
   "metadata": {},
   "outputs": [
    {
     "data": {
      "text/plain": [
       "CRIM       0\n",
       "ZN         0\n",
       "INDUS      0\n",
       "CHAS       0\n",
       "NOX        0\n",
       "RM         0\n",
       "AGE        0\n",
       "DIS        0\n",
       "RAD        0\n",
       "TAX        0\n",
       "PTRATIO    0\n",
       "B          0\n",
       "LSTAT      0\n",
       "dtype: int64"
      ]
     },
     "execution_count": 7,
     "metadata": {},
     "output_type": "execute_result"
    }
   ],
   "source": [
    "df.isnull().sum()"
   ]
  },
  {
   "cell_type": "markdown",
   "metadata": {},
   "source": [
    "All seems to be in order so far.\n",
    "\n",
    "What do the column headers mean? We can use the following command to dive into it:"
   ]
  },
  {
   "cell_type": "code",
   "execution_count": 8,
   "metadata": {},
   "outputs": [
    {
     "name": "stdout",
     "output_type": "stream",
     "text": [
      ".. _boston_dataset:\n",
      "\n",
      "Boston house prices dataset\n",
      "---------------------------\n",
      "\n",
      "**Data Set Characteristics:**  \n",
      "\n",
      "    :Number of Instances: 506 \n",
      "\n",
      "    :Number of Attributes: 13 numeric/categorical predictive. Median Value (attribute 14) is usually the target.\n",
      "\n",
      "    :Attribute Information (in order):\n",
      "        - CRIM     per capita crime rate by town\n",
      "        - ZN       proportion of residential land zoned for lots over 25,000 sq.ft.\n",
      "        - INDUS    proportion of non-retail business acres per town\n",
      "        - CHAS     Charles River dummy variable (= 1 if tract bounds river; 0 otherwise)\n",
      "        - NOX      nitric oxides concentration (parts per 10 million)\n",
      "        - RM       average number of rooms per dwelling\n",
      "        - AGE      proportion of owner-occupied units built prior to 1940\n",
      "        - DIS      weighted distances to five Boston employment centres\n",
      "        - RAD      index of accessibility to radial highways\n",
      "        - TAX      full-value property-tax rate per $10,000\n",
      "        - PTRATIO  pupil-teacher ratio by town\n",
      "        - B        1000(Bk - 0.63)^2 where Bk is the proportion of blacks by town\n",
      "        - LSTAT    % lower status of the population\n",
      "        - MEDV     Median value of owner-occupied homes in $1000's\n",
      "\n",
      "    :Missing Attribute Values: None\n",
      "\n",
      "    :Creator: Harrison, D. and Rubinfeld, D.L.\n",
      "\n",
      "This is a copy of UCI ML housing dataset.\n",
      "https://archive.ics.uci.edu/ml/machine-learning-databases/housing/\n",
      "\n",
      "\n",
      "This dataset was taken from the StatLib library which is maintained at Carnegie Mellon University.\n",
      "\n",
      "The Boston house-price data of Harrison, D. and Rubinfeld, D.L. 'Hedonic\n",
      "prices and the demand for clean air', J. Environ. Economics & Management,\n",
      "vol.5, 81-102, 1978.   Used in Belsley, Kuh & Welsch, 'Regression diagnostics\n",
      "...', Wiley, 1980.   N.B. Various transformations are used in the table on\n",
      "pages 244-261 of the latter.\n",
      "\n",
      "The Boston house-price data has been used in many machine learning papers that address regression\n",
      "problems.   \n",
      "     \n",
      ".. topic:: References\n",
      "\n",
      "   - Belsley, Kuh & Welsch, 'Regression diagnostics: Identifying Influential Data and Sources of Collinearity', Wiley, 1980. 244-261.\n",
      "   - Quinlan,R. (1993). Combining Instance-Based and Model-Based Learning. In Proceedings on the Tenth International Conference of Machine Learning, 236-243, University of Massachusetts, Amherst. Morgan Kaufmann.\n",
      "\n"
     ]
    }
   ],
   "source": [
    "print(boston.DESCR)"
   ]
  },
  {
   "cell_type": "markdown",
   "metadata": {},
   "source": [
    "The MEDV column wasn't included in the earlier outputs.\n",
    "This is because scikit-learn assumes that you wish to use it as the 'target' of the dataset.\n",
    "We can check that its included:"
   ]
  },
  {
   "cell_type": "code",
   "execution_count": 9,
   "metadata": {},
   "outputs": [
    {
     "name": "stdout",
     "output_type": "stream",
     "text": [
      "(506,)\n"
     ]
    }
   ],
   "source": [
    "print(boston.target.shape)"
   ]
  },
  {
   "cell_type": "markdown",
   "metadata": {},
   "source": [
    "This matches the output of the DESCR command so it should be ok.\n",
    "Now we need to add it as a column to the dataframe to make our lives a bit easier later on."
   ]
  },
  {
   "cell_type": "code",
   "execution_count": 10,
   "metadata": {},
   "outputs": [],
   "source": [
    "df['MEDV'] = boston.target"
   ]
  },
  {
   "cell_type": "markdown",
   "metadata": {},
   "source": [
    "Now output the summary statistics of the dataframe to see how it looks:"
   ]
  },
  {
   "cell_type": "code",
   "execution_count": 11,
   "metadata": {},
   "outputs": [
    {
     "data": {
      "text/html": [
       "<div>\n",
       "<style scoped>\n",
       "    .dataframe tbody tr th:only-of-type {\n",
       "        vertical-align: middle;\n",
       "    }\n",
       "\n",
       "    .dataframe tbody tr th {\n",
       "        vertical-align: top;\n",
       "    }\n",
       "\n",
       "    .dataframe thead th {\n",
       "        text-align: right;\n",
       "    }\n",
       "</style>\n",
       "<table border=\"1\" class=\"dataframe\">\n",
       "  <thead>\n",
       "    <tr style=\"text-align: right;\">\n",
       "      <th></th>\n",
       "      <th>CRIM</th>\n",
       "      <th>ZN</th>\n",
       "      <th>INDUS</th>\n",
       "      <th>CHAS</th>\n",
       "      <th>NOX</th>\n",
       "      <th>RM</th>\n",
       "      <th>AGE</th>\n",
       "      <th>DIS</th>\n",
       "      <th>RAD</th>\n",
       "      <th>TAX</th>\n",
       "      <th>PTRATIO</th>\n",
       "      <th>B</th>\n",
       "      <th>LSTAT</th>\n",
       "      <th>MEDV</th>\n",
       "    </tr>\n",
       "  </thead>\n",
       "  <tbody>\n",
       "    <tr>\n",
       "      <th>count</th>\n",
       "      <td>506.000000</td>\n",
       "      <td>506.000000</td>\n",
       "      <td>506.000000</td>\n",
       "      <td>506.000000</td>\n",
       "      <td>506.000000</td>\n",
       "      <td>506.000000</td>\n",
       "      <td>506.000000</td>\n",
       "      <td>506.000000</td>\n",
       "      <td>506.000000</td>\n",
       "      <td>506.000000</td>\n",
       "      <td>506.000000</td>\n",
       "      <td>506.000000</td>\n",
       "      <td>506.000000</td>\n",
       "      <td>506.000000</td>\n",
       "    </tr>\n",
       "    <tr>\n",
       "      <th>mean</th>\n",
       "      <td>3.613524</td>\n",
       "      <td>11.363636</td>\n",
       "      <td>11.136779</td>\n",
       "      <td>0.069170</td>\n",
       "      <td>0.554695</td>\n",
       "      <td>6.284634</td>\n",
       "      <td>68.574901</td>\n",
       "      <td>3.795043</td>\n",
       "      <td>9.549407</td>\n",
       "      <td>408.237154</td>\n",
       "      <td>18.455534</td>\n",
       "      <td>356.674032</td>\n",
       "      <td>12.653063</td>\n",
       "      <td>22.532806</td>\n",
       "    </tr>\n",
       "    <tr>\n",
       "      <th>std</th>\n",
       "      <td>8.601545</td>\n",
       "      <td>23.322453</td>\n",
       "      <td>6.860353</td>\n",
       "      <td>0.253994</td>\n",
       "      <td>0.115878</td>\n",
       "      <td>0.702617</td>\n",
       "      <td>28.148861</td>\n",
       "      <td>2.105710</td>\n",
       "      <td>8.707259</td>\n",
       "      <td>168.537116</td>\n",
       "      <td>2.164946</td>\n",
       "      <td>91.294864</td>\n",
       "      <td>7.141062</td>\n",
       "      <td>9.197104</td>\n",
       "    </tr>\n",
       "    <tr>\n",
       "      <th>min</th>\n",
       "      <td>0.006320</td>\n",
       "      <td>0.000000</td>\n",
       "      <td>0.460000</td>\n",
       "      <td>0.000000</td>\n",
       "      <td>0.385000</td>\n",
       "      <td>3.561000</td>\n",
       "      <td>2.900000</td>\n",
       "      <td>1.129600</td>\n",
       "      <td>1.000000</td>\n",
       "      <td>187.000000</td>\n",
       "      <td>12.600000</td>\n",
       "      <td>0.320000</td>\n",
       "      <td>1.730000</td>\n",
       "      <td>5.000000</td>\n",
       "    </tr>\n",
       "    <tr>\n",
       "      <th>25%</th>\n",
       "      <td>0.082045</td>\n",
       "      <td>0.000000</td>\n",
       "      <td>5.190000</td>\n",
       "      <td>0.000000</td>\n",
       "      <td>0.449000</td>\n",
       "      <td>5.885500</td>\n",
       "      <td>45.025000</td>\n",
       "      <td>2.100175</td>\n",
       "      <td>4.000000</td>\n",
       "      <td>279.000000</td>\n",
       "      <td>17.400000</td>\n",
       "      <td>375.377500</td>\n",
       "      <td>6.950000</td>\n",
       "      <td>17.025000</td>\n",
       "    </tr>\n",
       "    <tr>\n",
       "      <th>50%</th>\n",
       "      <td>0.256510</td>\n",
       "      <td>0.000000</td>\n",
       "      <td>9.690000</td>\n",
       "      <td>0.000000</td>\n",
       "      <td>0.538000</td>\n",
       "      <td>6.208500</td>\n",
       "      <td>77.500000</td>\n",
       "      <td>3.207450</td>\n",
       "      <td>5.000000</td>\n",
       "      <td>330.000000</td>\n",
       "      <td>19.050000</td>\n",
       "      <td>391.440000</td>\n",
       "      <td>11.360000</td>\n",
       "      <td>21.200000</td>\n",
       "    </tr>\n",
       "    <tr>\n",
       "      <th>75%</th>\n",
       "      <td>3.677083</td>\n",
       "      <td>12.500000</td>\n",
       "      <td>18.100000</td>\n",
       "      <td>0.000000</td>\n",
       "      <td>0.624000</td>\n",
       "      <td>6.623500</td>\n",
       "      <td>94.075000</td>\n",
       "      <td>5.188425</td>\n",
       "      <td>24.000000</td>\n",
       "      <td>666.000000</td>\n",
       "      <td>20.200000</td>\n",
       "      <td>396.225000</td>\n",
       "      <td>16.955000</td>\n",
       "      <td>25.000000</td>\n",
       "    </tr>\n",
       "    <tr>\n",
       "      <th>max</th>\n",
       "      <td>88.976200</td>\n",
       "      <td>100.000000</td>\n",
       "      <td>27.740000</td>\n",
       "      <td>1.000000</td>\n",
       "      <td>0.871000</td>\n",
       "      <td>8.780000</td>\n",
       "      <td>100.000000</td>\n",
       "      <td>12.126500</td>\n",
       "      <td>24.000000</td>\n",
       "      <td>711.000000</td>\n",
       "      <td>22.000000</td>\n",
       "      <td>396.900000</td>\n",
       "      <td>37.970000</td>\n",
       "      <td>50.000000</td>\n",
       "    </tr>\n",
       "  </tbody>\n",
       "</table>\n",
       "</div>"
      ],
      "text/plain": [
       "             CRIM          ZN       INDUS        CHAS         NOX          RM  \\\n",
       "count  506.000000  506.000000  506.000000  506.000000  506.000000  506.000000   \n",
       "mean     3.613524   11.363636   11.136779    0.069170    0.554695    6.284634   \n",
       "std      8.601545   23.322453    6.860353    0.253994    0.115878    0.702617   \n",
       "min      0.006320    0.000000    0.460000    0.000000    0.385000    3.561000   \n",
       "25%      0.082045    0.000000    5.190000    0.000000    0.449000    5.885500   \n",
       "50%      0.256510    0.000000    9.690000    0.000000    0.538000    6.208500   \n",
       "75%      3.677083   12.500000   18.100000    0.000000    0.624000    6.623500   \n",
       "max     88.976200  100.000000   27.740000    1.000000    0.871000    8.780000   \n",
       "\n",
       "              AGE         DIS         RAD         TAX     PTRATIO           B  \\\n",
       "count  506.000000  506.000000  506.000000  506.000000  506.000000  506.000000   \n",
       "mean    68.574901    3.795043    9.549407  408.237154   18.455534  356.674032   \n",
       "std     28.148861    2.105710    8.707259  168.537116    2.164946   91.294864   \n",
       "min      2.900000    1.129600    1.000000  187.000000   12.600000    0.320000   \n",
       "25%     45.025000    2.100175    4.000000  279.000000   17.400000  375.377500   \n",
       "50%     77.500000    3.207450    5.000000  330.000000   19.050000  391.440000   \n",
       "75%     94.075000    5.188425   24.000000  666.000000   20.200000  396.225000   \n",
       "max    100.000000   12.126500   24.000000  711.000000   22.000000  396.900000   \n",
       "\n",
       "            LSTAT        MEDV  \n",
       "count  506.000000  506.000000  \n",
       "mean    12.653063   22.532806  \n",
       "std      7.141062    9.197104  \n",
       "min      1.730000    5.000000  \n",
       "25%      6.950000   17.025000  \n",
       "50%     11.360000   21.200000  \n",
       "75%     16.955000   25.000000  \n",
       "max     37.970000   50.000000  "
      ]
     },
     "execution_count": 11,
     "metadata": {},
     "output_type": "execute_result"
    }
   ],
   "source": [
    "df.describe()"
   ]
  },
  {
   "cell_type": "markdown",
   "metadata": {},
   "source": [
    "The data seems to have imported correctly and we now have it in a format that we can work with."
   ]
  },
  {
   "cell_type": "markdown",
   "metadata": {},
   "source": [
    "### Visualisations\n",
    "Now we can start creating plots.\n",
    "Firstly, the distribution of the Median House Value:"
   ]
  },
  {
   "cell_type": "code",
   "execution_count": 12,
   "metadata": {},
   "outputs": [
    {
     "data": {
      "text/plain": [
       "<matplotlib.axes._subplots.AxesSubplot at 0x2dac87ad048>"
      ]
     },
     "execution_count": 12,
     "metadata": {},
     "output_type": "execute_result"
    },
    {
     "data": {
      "image/png": "[encoded data removed]",
      "text/plain": [
       "<Figure size 432x288 with 1 Axes>"
      ]
     },
     "metadata": {
      "needs_background": "light"
     },
     "output_type": "display_data"
    }
   ],
   "source": [
    "sns.distplot(df['MEDV'], color='g')"
   ]
  },
  {
   "cell_type": "markdown",
   "metadata": {},
   "source": [
    "We can also look at the number of rooms per dwelling like this."
   ]
  },
  {
   "cell_type": "code",
   "execution_count": 13,
   "metadata": {},
   "outputs": [
    {
     "data": {
      "text/plain": [
       "<matplotlib.axes._subplots.AxesSubplot at 0x2dac8b2e908>"
      ]
     },
     "execution_count": 13,
     "metadata": {},
     "output_type": "execute_result"
    },
    {
     "data": {
      "image/png": "[encoded data removed]",
      "text/plain": [
       "<Figure size 432x288 with 1 Axes>"
      ]
     },
     "metadata": {
      "needs_background": "light"
     },
     "output_type": "display_data"
    }
   ],
   "source": [
    "sns.distplot(df['RM'], color='y')"
   ]
  },
  {
   "cell_type": "markdown",
   "metadata": {},
   "source": [
    "What about the relationships between some of the statistics and the median house value?\n",
    "Firstly we look at DIS:"
   ]
  },
  {
   "cell_type": "code",
   "execution_count": 14,
   "metadata": {},
   "outputs": [
    {
     "data": {
      "text/plain": [
       "<matplotlib.axes._subplots.AxesSubplot at 0x2dac8c12048>"
      ]
     },
     "execution_count": 14,
     "metadata": {},
     "output_type": "execute_result"
    },
    {
     "data": {
      "image/png": "[encoded data removed]",
      "text/plain": [
       "<Figure size 432x288 with 1 Axes>"
      ]
     },
     "metadata": {
      "needs_background": "light"
     },
     "output_type": "display_data"
    }
   ],
   "source": [
    "sns.scatterplot(x='MEDV', y='DIS', data=df)"
   ]
  },
  {
   "cell_type": "markdown",
   "metadata": {},
   "source": [
    "It is difficult to tell if a definite linear relationship exists between these variables, but an unusual vertical line of values on the MEDV=50 line stand out somewhat."
   ]
  },
  {
   "cell_type": "markdown",
   "metadata": {},
   "source": [
    "We can look at RAD also:"
   ]
  },
  {
   "cell_type": "code",
   "execution_count": 15,
   "metadata": {},
   "outputs": [
    {
     "data": {
      "text/plain": [
       "<matplotlib.axes._subplots.AxesSubplot at 0x2dac8c88550>"
      ]
     },
     "execution_count": 15,
     "metadata": {},
     "output_type": "execute_result"
    },
    {
     "data": {
      "image/png": "[encoded data removed]",
      "text/plain": [
       "<Figure size 432x288 with 1 Axes>"
      ]
     },
     "metadata": {
      "needs_background": "light"
     },
     "output_type": "display_data"
    }
   ],
   "source": [
    "sns.scatterplot(x='MEDV', y='RM', data=df)"
   ]
  },
  {
   "cell_type": "markdown",
   "metadata": {},
   "source": [
    "The linear relationship is much more apparent here - however the clustering of points on the MEDV=50 mark is even more apparent in this plot. This will require further investigation. "
   ]
  },
  {
   "cell_type": "code",
   "execution_count": 16,
   "metadata": {},
   "outputs": [
    {
     "data": {
      "text/plain": [
       "<matplotlib.axes._subplots.AxesSubplot at 0x2dac8be2e48>"
      ]
     },
     "execution_count": 16,
     "metadata": {},
     "output_type": "execute_result"
    },
    {
     "data": {
      "image/png": "[encoded data removed]",
      "text/plain": [
       "<Figure size 432x288 with 1 Axes>"
      ]
     },
     "metadata": {
      "needs_background": "light"
     },
     "output_type": "display_data"
    }
   ],
   "source": [
    "sns.scatterplot(x='MEDV', y='RAD', data=df)"
   ]
  },
  {
   "cell_type": "markdown",
   "metadata": {},
   "source": [
    "This is quite a bit different to the other plots - the RAD value refers to \"index of accessibility to major highways\" - it appears that there is a broad range of houses values that have an accessibility rating between 0 and 10, then a very large gap, with a range of houses in the low- to medium price range (with a single high price outlier) with a much higher index of around 24."
   ]
  },
  {
   "cell_type": "markdown",
   "metadata": {},
   "source": [
    "## Infer"
   ]
  },
  {
   "cell_type": "code",
   "execution_count": 17,
   "metadata": {},
   "outputs": [
    {
     "data": {
      "text/plain": [
       "<matplotlib.axes._subplots.AxesSubplot at 0x2dac8d3bc88>"
      ]
     },
     "execution_count": 17,
     "metadata": {},
     "output_type": "execute_result"
    },
    {
     "data": {
      "image/png": "[encoded data removed]",
      "text/plain": [
       "<Figure size 432x288 with 1 Axes>"
      ]
     },
     "metadata": {
      "needs_background": "light"
     },
     "output_type": "display_data"
    }
   ],
   "source": [
    "sns.regplot(x=\"MEDV\", y=\"CHAS\", data=df)"
   ]
  },
  {
   "cell_type": "raw",
   "metadata": {},
   "source": [
    "First we'll display the range of house values per CHAS value, side by side on a catplot. We'll leave jitter switched on to get a better idea of the density of house."
   ]
  },
  {
   "cell_type": "markdown",
   "metadata": {},
   "source": [
    "*** Add a violin plot?? ***"
   ]
  },
  {
   "cell_type": "code",
   "execution_count": 18,
   "metadata": {},
   "outputs": [
    {
     "data": {
      "text/plain": [
       "<seaborn.axisgrid.FacetGrid at 0x2dac8d2ffd0>"
      ]
     },
     "execution_count": 18,
     "metadata": {},
     "output_type": "execute_result"
    },
    {
     "data": {
      "image/png": "[encoded data removed]",
      "text/plain": [
       "<Figure size 360x360 with 1 Axes>"
      ]
     },
     "metadata": {
      "needs_background": "light"
     },
     "output_type": "display_data"
    }
   ],
   "source": [
    "sns.catplot(x='CHAS', y='MEDV',  data=df)"
   ]
  },
  {
   "cell_type": "markdown",
   "metadata": {},
   "source": [
    "Now lets visualise the distribution of this using histograms with KDEs overlaid on the same plot:"
   ]
  },
  {
   "cell_type": "code",
   "execution_count": 19,
   "metadata": {},
   "outputs": [
    {
     "data": {
      "text/plain": [
       "<matplotlib.axes._subplots.AxesSubplot at 0x2dac8e0b400>"
      ]
     },
     "execution_count": 19,
     "metadata": {},
     "output_type": "execute_result"
    },
    {
     "data": {
      "image/png": "[encoded data removed]",
      "text/plain": [
       "<Figure size 432x288 with 1 Axes>"
      ]
     },
     "metadata": {
      "needs_background": "light"
     },
     "output_type": "display_data"
    }
   ],
   "source": [
    "# Extract subsets of the dataframe for houses on the Charles River (ry) vs houses not on it (rn)\n",
    "ry = df.loc[df['CHAS'] == 1]\n",
    "rn = df.loc[df['CHAS'] == 0]\n",
    "\n",
    "# Overlay a distplot for each on the same plot for comparison\n",
    "sns.distplot(ry['MEDV'], color='b')\n",
    "sns.distplot(rn['MEDV'], color='r')"
   ]
  },
  {
   "cell_type": "markdown",
   "metadata": {},
   "source": [
    "Although the histograms of the two data sets look quite different, the shapes of the kernal density estimate plots are not dissimilar - although it can be said with reasonable confidence that the values of houses on the Charles River appear to be generally higher than those not on it. We will have to confirm this now by carrying out statistical tests using scipy."
   ]
  },
  {
   "cell_type": "markdown",
   "metadata": {},
   "source": [
    "### T-Test"
   ]
  },
  {
   "cell_type": "markdown",
   "metadata": {},
   "source": [
    "We can carry out a t-test using scipy.stats to check if there is a significant difference in median house prices between those along the Charles River and those that are not. We need to use an independent t-test."
   ]
  },
  {
   "cell_type": "markdown",
   "metadata": {},
   "source": [
    "*** should confirm that the t-test assumptions are met?"
   ]
  },
  {
   "cell_type": "markdown",
   "metadata": {},
   "source": [
    "The null hypothesis here is that the means are equal. Therefore if there is no significant difference between the means, the t-statistic should be close to 0."
   ]
  },
  {
   "cell_type": "markdown",
   "metadata": {},
   "source": [
    "First we need MEDV split into two separate sets - one where CHAS=0 and one where CHAS=1. This has already been carried out to generate the histograms above:\n",
    "* rn = dataframe containing only data on houses not along the Charles River\n",
    "* ry = dataframe containing only data on houses along the Charles River"
   ]
  },
  {
   "cell_type": "code",
   "execution_count": 20,
   "metadata": {},
   "outputs": [
    {
     "data": {
      "text/plain": [
       "Ttest_indResult(statistic=-3.996437466090509, pvalue=7.390623170519905e-05)"
      ]
     },
     "execution_count": 20,
     "metadata": {},
     "output_type": "execute_result"
    }
   ],
   "source": [
    "ss.ttest_ind(rn['MEDV'], ry['MEDV'])"
   ]
  },
  {
   "cell_type": "markdown",
   "metadata": {},
   "source": [
    "Results:\n",
    "* t-Statistic: -3.996\n",
    "* p-value: 7.391e<sup>-5</sup>"
   ]
  },
  {
   "cell_type": "markdown",
   "metadata": {},
   "source": [
    "We can also check this by carrying out the t-test using statsmodel instead:"
   ]
  },
  {
   "cell_type": "code",
   "execution_count": 21,
   "metadata": {},
   "outputs": [
    {
     "data": {
      "text/plain": [
       "(-3.9964374660905095, 7.390623170519883e-05, 504.0)"
      ]
     },
     "execution_count": 21,
     "metadata": {},
     "output_type": "execute_result"
    }
   ],
   "source": [
    "ws.ttest_ind(rn['MEDV'], ry['MEDV'])"
   ]
  },
  {
   "cell_type": "markdown",
   "metadata": {},
   "source": [
    "The results are identical - with the inclusion of the degrees of freedom (504)."
   ]
  },
  {
   "cell_type": "markdown",
   "metadata": {},
   "source": [
    "#### p-value\n",
    "We generally accept a p-value of 0.5 as being the lower bound of whether a relationship is significant or not. Our calculated p-value is sinificantly lower than this, we can therefore conclude that there is a significant difference between the means - in other words we reject the null hypothesis and can state that there is a significant difference in median house prices between those on the Charles River and those not on it."
   ]
  },
  {
   "cell_type": "markdown",
   "metadata": {},
   "source": [
    "** find reference for the above?"
   ]
  },
  {
   "cell_type": "markdown",
   "metadata": {},
   "source": [
    "### Conclusions"
   ]
  },
  {
   "cell_type": "markdown",
   "metadata": {},
   "source": [
    "We can conclude that the difference in the means is statistically significant. However we should caveat this - earlier we noted that an issue with the MEDV values - the distribution of the values indicate that the value above 50 have been truncated for some reason, this would certainly have an effect on the means."
   ]
  },
  {
   "cell_type": "markdown",
   "metadata": {},
   "source": [
    "## Predict"
   ]
  },
  {
   "cell_type": "markdown",
   "metadata": {},
   "source": [
    "We will now use the keras package to create a neural network to predict the median house price based on the datasets other variables."
   ]
  },
  {
   "cell_type": "code",
   "execution_count": 22,
   "metadata": {},
   "outputs": [
    {
     "name": "stderr",
     "output_type": "stream",
     "text": [
      "Using TensorFlow backend.\n"
     ]
    }
   ],
   "source": [
    "import keras as kr\n",
    "import numpy as np"
   ]
  },
  {
   "cell_type": "markdown",
   "metadata": {},
   "source": [
    "** need to choose variables to predict with - ideally those that correlate with the house price, may be of interest to choose several with varying degrees of correlation"
   ]
  },
  {
   "cell_type": "markdown",
   "metadata": {},
   "source": [
    "### Choosing Correlated Variables"
   ]
  },
  {
   "cell_type": "code",
   "execution_count": 23,
   "metadata": {},
   "outputs": [
    {
     "data": {
      "text/plain": [
       "<matplotlib.axes._subplots.AxesSubplot at 0x2dace15fd68>"
      ]
     },
     "execution_count": 23,
     "metadata": {},
     "output_type": "execute_result"
    },
    {
     "data": {
      "image/png": "[encoded data removed]",
      "text/plain": [
       "<Figure size 864x720 with 2 Axes>"
      ]
     },
     "metadata": {},
     "output_type": "display_data"
    }
   ],
   "source": [
    "# Seaborn heatmap\n",
    "sns.set(style=\"dark\")\n",
    "\n",
    "# Mask upper triangle\n",
    "mask = np.zeros_like(df.corr(), dtype=np.bool)\n",
    "mask[np.triu_indices_from(mask)] = True\n",
    "\n",
    "plt.figure(figsize = (12,10))\n",
    "sns.heatmap(df.corr().round(2), annot=True, mask=mask, cmap =\"coolwarm\", center=0, linewidths=0.2)"
   ]
  },
  {
   "cell_type": "markdown",
   "metadata": {},
   "source": [
    "Results: 10 fields most strongly correlated with MEDV are:\n",
    "* CRIM: -0.39\n",
    "* ZN: 0.36\n",
    "* INDUS: -0.48\n",
    "* NOX: -0.43\n",
    "* RM: 0.7\n",
    "* RAD: -0.38\n",
    "* TAX: -0.47\n",
    "* PTRATIO: -0.51\n",
    "* B: 0.33\n",
    "* LSTAT: -0.74\n",
    "    \n",
    "We can use these as inputs for the model."
   ]
  },
  {
   "cell_type": "markdown",
   "metadata": {},
   "source": [
    "** need to decide on layers, numbers of neurons"
   ]
  },
  {
   "cell_type": "code",
   "execution_count": 24,
   "metadata": {},
   "outputs": [
    {
     "data": {
      "text/html": [
       "<div>\n",
       "<style scoped>\n",
       "    .dataframe tbody tr th:only-of-type {\n",
       "        vertical-align: middle;\n",
       "    }\n",
       "\n",
       "    .dataframe tbody tr th {\n",
       "        vertical-align: top;\n",
       "    }\n",
       "\n",
       "    .dataframe thead th {\n",
       "        text-align: right;\n",
       "    }\n",
       "</style>\n",
       "<table border=\"1\" class=\"dataframe\">\n",
       "  <thead>\n",
       "    <tr style=\"text-align: right;\">\n",
       "      <th></th>\n",
       "      <th>CRIM</th>\n",
       "      <th>ZN</th>\n",
       "      <th>INDUS</th>\n",
       "      <th>NOX</th>\n",
       "      <th>RM</th>\n",
       "      <th>RAD</th>\n",
       "      <th>TAX</th>\n",
       "      <th>PTRATIO</th>\n",
       "      <th>B</th>\n",
       "      <th>LSTAT</th>\n",
       "    </tr>\n",
       "  </thead>\n",
       "  <tbody>\n",
       "    <tr>\n",
       "      <th>count</th>\n",
       "      <td>506.000000</td>\n",
       "      <td>506.000000</td>\n",
       "      <td>506.000000</td>\n",
       "      <td>506.000000</td>\n",
       "      <td>506.000000</td>\n",
       "      <td>506.000000</td>\n",
       "      <td>506.000000</td>\n",
       "      <td>506.000000</td>\n",
       "      <td>506.000000</td>\n",
       "      <td>506.000000</td>\n",
       "    </tr>\n",
       "    <tr>\n",
       "      <th>mean</th>\n",
       "      <td>3.613524</td>\n",
       "      <td>11.363636</td>\n",
       "      <td>11.136779</td>\n",
       "      <td>0.554695</td>\n",
       "      <td>6.284634</td>\n",
       "      <td>9.549407</td>\n",
       "      <td>408.237154</td>\n",
       "      <td>18.455534</td>\n",
       "      <td>356.674032</td>\n",
       "      <td>12.653063</td>\n",
       "    </tr>\n",
       "    <tr>\n",
       "      <th>std</th>\n",
       "      <td>8.601545</td>\n",
       "      <td>23.322453</td>\n",
       "      <td>6.860353</td>\n",
       "      <td>0.115878</td>\n",
       "      <td>0.702617</td>\n",
       "      <td>8.707259</td>\n",
       "      <td>168.537116</td>\n",
       "      <td>2.164946</td>\n",
       "      <td>91.294864</td>\n",
       "      <td>7.141062</td>\n",
       "    </tr>\n",
       "    <tr>\n",
       "      <th>min</th>\n",
       "      <td>0.006320</td>\n",
       "      <td>0.000000</td>\n",
       "      <td>0.460000</td>\n",
       "      <td>0.385000</td>\n",
       "      <td>3.561000</td>\n",
       "      <td>1.000000</td>\n",
       "      <td>187.000000</td>\n",
       "      <td>12.600000</td>\n",
       "      <td>0.320000</td>\n",
       "      <td>1.730000</td>\n",
       "    </tr>\n",
       "    <tr>\n",
       "      <th>25%</th>\n",
       "      <td>0.082045</td>\n",
       "      <td>0.000000</td>\n",
       "      <td>5.190000</td>\n",
       "      <td>0.449000</td>\n",
       "      <td>5.885500</td>\n",
       "      <td>4.000000</td>\n",
       "      <td>279.000000</td>\n",
       "      <td>17.400000</td>\n",
       "      <td>375.377500</td>\n",
       "      <td>6.950000</td>\n",
       "    </tr>\n",
       "    <tr>\n",
       "      <th>50%</th>\n",
       "      <td>0.256510</td>\n",
       "      <td>0.000000</td>\n",
       "      <td>9.690000</td>\n",
       "      <td>0.538000</td>\n",
       "      <td>6.208500</td>\n",
       "      <td>5.000000</td>\n",
       "      <td>330.000000</td>\n",
       "      <td>19.050000</td>\n",
       "      <td>391.440000</td>\n",
       "      <td>11.360000</td>\n",
       "    </tr>\n",
       "    <tr>\n",
       "      <th>75%</th>\n",
       "      <td>3.677083</td>\n",
       "      <td>12.500000</td>\n",
       "      <td>18.100000</td>\n",
       "      <td>0.624000</td>\n",
       "      <td>6.623500</td>\n",
       "      <td>24.000000</td>\n",
       "      <td>666.000000</td>\n",
       "      <td>20.200000</td>\n",
       "      <td>396.225000</td>\n",
       "      <td>16.955000</td>\n",
       "    </tr>\n",
       "    <tr>\n",
       "      <th>max</th>\n",
       "      <td>88.976200</td>\n",
       "      <td>100.000000</td>\n",
       "      <td>27.740000</td>\n",
       "      <td>0.871000</td>\n",
       "      <td>8.780000</td>\n",
       "      <td>24.000000</td>\n",
       "      <td>711.000000</td>\n",
       "      <td>22.000000</td>\n",
       "      <td>396.900000</td>\n",
       "      <td>37.970000</td>\n",
       "    </tr>\n",
       "  </tbody>\n",
       "</table>\n",
       "</div>"
      ],
      "text/plain": [
       "             CRIM          ZN       INDUS         NOX          RM         RAD  \\\n",
       "count  506.000000  506.000000  506.000000  506.000000  506.000000  506.000000   \n",
       "mean     3.613524   11.363636   11.136779    0.554695    6.284634    9.549407   \n",
       "std      8.601545   23.322453    6.860353    0.115878    0.702617    8.707259   \n",
       "min      0.006320    0.000000    0.460000    0.385000    3.561000    1.000000   \n",
       "25%      0.082045    0.000000    5.190000    0.449000    5.885500    4.000000   \n",
       "50%      0.256510    0.000000    9.690000    0.538000    6.208500    5.000000   \n",
       "75%      3.677083   12.500000   18.100000    0.624000    6.623500   24.000000   \n",
       "max     88.976200  100.000000   27.740000    0.871000    8.780000   24.000000   \n",
       "\n",
       "              TAX     PTRATIO           B       LSTAT  \n",
       "count  506.000000  506.000000  506.000000  506.000000  \n",
       "mean   408.237154   18.455534  356.674032   12.653063  \n",
       "std    168.537116    2.164946   91.294864    7.141062  \n",
       "min    187.000000   12.600000    0.320000    1.730000  \n",
       "25%    279.000000   17.400000  375.377500    6.950000  \n",
       "50%    330.000000   19.050000  391.440000   11.360000  \n",
       "75%    666.000000   20.200000  396.225000   16.955000  \n",
       "max    711.000000   22.000000  396.900000   37.970000  "
      ]
     },
     "execution_count": 24,
     "metadata": {},
     "output_type": "execute_result"
    }
   ],
   "source": [
    "inputs = df[[\"CRIM\", \"ZN\", \"INDUS\", \"NOX\", \"RM\", \"RAD\", \"TAX\", \"PTRATIO\", \"B\", \"LSTAT\"]]\n",
    "inputs.describe()"
   ]
  },
  {
   "cell_type": "markdown",
   "metadata": {},
   "source": [
    "*** need to normalise?"
   ]
  },
  {
   "cell_type": "code",
   "execution_count": 25,
   "metadata": {},
   "outputs": [],
   "source": [
    "outputs = df[\"MEDV\"]"
   ]
  },
  {
   "cell_type": "markdown",
   "metadata": {},
   "source": [
    "### Split Dataset"
   ]
  },
  {
   "cell_type": "markdown",
   "metadata": {},
   "source": [
    "We need to split the dataset into a training dataset and a predictions dataset."
   ]
  },
  {
   "cell_type": "code",
   "execution_count": 26,
   "metadata": {},
   "outputs": [],
   "source": [
    "import sklearn.model_selection as mod"
   ]
  },
  {
   "cell_type": "code",
   "execution_count": 27,
   "metadata": {},
   "outputs": [],
   "source": [
    "# Split the inputs and outputs into training and test sets.\n",
    "inputs_train, inputs_test, outputs_train, outputs_test = mod.train_test_split(inputs, outputs, test_size=0.2)"
   ]
  },
  {
   "cell_type": "code",
   "execution_count": 28,
   "metadata": {
    "scrolled": true
   },
   "outputs": [
    {
     "name": "stdout",
     "output_type": "stream",
     "text": [
      "             CRIM          ZN       INDUS         NOX          RM         RAD  \\\n",
      "count  404.000000  404.000000  404.000000  404.000000  404.000000  404.000000   \n",
      "mean     3.474735   12.139851   10.881559    0.548366    6.300943    9.064356   \n",
      "std      8.903587   23.949303    6.853482    0.113906    0.712617    8.527336   \n",
      "min      0.006320    0.000000    0.460000    0.389000    3.561000    1.000000   \n",
      "25%      0.072243    0.000000    5.130000    0.448000    5.893500    4.000000   \n",
      "50%      0.220825    0.000000    8.560000    0.528000    6.209500    5.000000   \n",
      "75%      2.660102   20.000000   18.100000    0.624000    6.618250    8.000000   \n",
      "max     88.976200  100.000000   27.740000    0.871000    8.780000   24.000000   \n",
      "\n",
      "              TAX     PTRATIO           B       LSTAT  \n",
      "count  404.000000  404.000000  404.000000  404.000000  \n",
      "mean   399.950495   18.408663  360.396015   12.523936  \n",
      "std    165.592050    2.140418   88.019858    7.173604  \n",
      "min    187.000000   12.600000    0.320000    1.730000  \n",
      "25%    277.000000   17.000000  376.745000    6.840000  \n",
      "50%    329.000000   18.750000  391.985000   11.265000  \n",
      "75%    518.250000   20.200000  396.285000   16.910000  \n",
      "max    711.000000   22.000000  396.900000   37.970000  \n",
      "             CRIM          ZN       INDUS         NOX          RM         RAD  \\\n",
      "count  102.000000  102.000000  102.000000  102.000000  102.000000  102.000000   \n",
      "mean     4.163235    8.289216   12.147647    0.579765    6.220039   11.470588   \n",
      "std      7.296584   20.472686    6.827435    0.120722    0.660917    9.179946   \n",
      "min      0.013110    0.000000    1.220000    0.385000    3.863000    1.000000   \n",
      "25%      0.117727    0.000000    5.912500    0.490000    5.855250    4.250000   \n",
      "50%      0.590670    0.000000   10.700000    0.577500    6.201000    5.000000   \n",
      "75%      6.172055    0.000000   18.100000    0.665750    6.666250   24.000000   \n",
      "max     51.135800   95.000000   27.740000    0.871000    8.034000   24.000000   \n",
      "\n",
      "              TAX     PTRATIO           B       LSTAT  \n",
      "count  102.000000  102.000000  102.000000  102.000000  \n",
      "mean   441.058824   18.641176  341.932059   13.164510  \n",
      "std    176.776069    2.260787  102.399208    7.022114  \n",
      "min    193.000000   13.000000    2.600000    2.880000  \n",
      "25%    290.000000   17.400000  345.652500    7.700000  \n",
      "50%    394.500000   19.600000  390.410000   11.890000  \n",
      "75%    666.000000   20.200000  396.042500   17.072500  \n",
      "max    711.000000   22.000000  396.900000   30.630000  \n"
     ]
    }
   ],
   "source": [
    "print(inputs_train.describe())\n",
    "print(inputs_test.describe())"
   ]
  },
  {
   "cell_type": "code",
   "execution_count": 29,
   "metadata": {
    "scrolled": true
   },
   "outputs": [
    {
     "name": "stdout",
     "output_type": "stream",
     "text": [
      "count    404.000000\n",
      "mean      22.622772\n",
      "std        9.177401\n",
      "min        5.000000\n",
      "25%       17.200000\n",
      "50%       21.200000\n",
      "75%       25.000000\n",
      "max       50.000000\n",
      "Name: MEDV, dtype: float64\n",
      "count    102.000000\n",
      "mean      22.176471\n",
      "std        9.311721\n",
      "min        5.600000\n",
      "25%       15.450000\n",
      "50%       21.250000\n",
      "75%       26.650000\n",
      "max       50.000000\n",
      "Name: MEDV, dtype: float64\n"
     ]
    }
   ],
   "source": [
    "print(outputs_train.describe())\n",
    "print(outputs_test.describe())"
   ]
  },
  {
   "cell_type": "code",
   "execution_count": 30,
   "metadata": {},
   "outputs": [
    {
     "data": {
      "text/plain": [
       "CRIM         0.06151\n",
       "ZN           0.00000\n",
       "INDUS        5.19000\n",
       "NOX          0.51500\n",
       "RM           5.96800\n",
       "RAD          5.00000\n",
       "TAX        224.00000\n",
       "PTRATIO     20.20000\n",
       "B          396.90000\n",
       "LSTAT        9.29000\n",
       "Name: 340, dtype: float64"
      ]
     },
     "execution_count": 30,
     "metadata": {},
     "output_type": "execute_result"
    }
   ],
   "source": [
    "inputs_test.iloc[0]"
   ]
  },
  {
   "cell_type": "markdown",
   "metadata": {},
   "source": [
    "### Build Neural Network"
   ]
  },
  {
   "cell_type": "code",
   "execution_count": 31,
   "metadata": {},
   "outputs": [],
   "source": [
    "# Create a new neural network.\n",
    "from keras.models import Sequential\n",
    "from keras.layers import Dense"
   ]
  },
  {
   "cell_type": "markdown",
   "metadata": {},
   "source": [
    "*** https://towardsdatascience.com/activation-functions-and-its-types-which-is-better-a9a5310cc8f"
   ]
  },
  {
   "cell_type": "markdown",
   "metadata": {},
   "source": [
    "There are many different ways to build a neural network, the accuracy will depend on the approach we take."
   ]
  },
  {
   "cell_type": "markdown",
   "metadata": {},
   "source": [
    "*** https://www.dlology.com/blog/quick-notes-on-how-to-choose-optimizer-in-keras/\n",
    "*** https://machinelearningmastery.com/how-to-choose-loss-functions-when-training-deep-learning-neural-networks/\n",
    "*** https://towardsdatascience.com/activation-functions-and-its-types-which-is-better-a9a5310cc8f"
   ]
  },
  {
   "cell_type": "markdown",
   "metadata": {},
   "source": [
    "##### Defining Functions"
   ]
  },
  {
   "cell_type": "markdown",
   "metadata": {},
   "source": [
    "It will be useful to create some functions now as some of the following work will be repetitive."
   ]
  },
  {
   "cell_type": "code",
   "execution_count": 32,
   "metadata": {},
   "outputs": [],
   "source": [
    "# Function that carries out the keras.evaluate() function and prints to a specified format\n",
    "def evaluator(evalN, modelN):\n",
    "    evalN = modelN.evaluate(inputs_test, outputs_test, verbose=0)\n",
    "    print(\"This model evaluates as:\")\n",
    "    print(\"* Loss:\", evalN[0])\n",
    "    print(\"* MAE:\", evalN[1])\n",
    "    print(\"* Accuracy:\", evalN[2])"
   ]
  },
  {
   "cell_type": "code",
   "execution_count": 33,
   "metadata": {},
   "outputs": [],
   "source": [
    "# Function that carries out the keras.predict() function and prints to a specified format\n",
    "def predictor(predN, modelN):\n",
    "    predN = modelN.predict(inputs_test.as_matrix()[0:1])\n",
    "    print(\"This model predicts as:\")\n",
    "    print(\"* Predicted Value:\", predN[0][0])\n",
    "    print(\"* Actual value:\", outputs_test[0:1].iloc[0])"
   ]
  },
  {
   "cell_type": "markdown",
   "metadata": {},
   "source": [
    "#### First Attempt"
   ]
  },
  {
   "cell_type": "markdown",
   "metadata": {},
   "source": [
    "This will be a three layer neural network with densities of 100, 50 and 1."
   ]
  },
  {
   "cell_type": "markdown",
   "metadata": {},
   "source": [
    "##### Construct Model"
   ]
  },
  {
   "cell_type": "code",
   "execution_count": 34,
   "metadata": {
    "scrolled": true
   },
   "outputs": [
    {
     "name": "stdout",
     "output_type": "stream",
     "text": [
      "WARNING:tensorflow:From C:\\Users\\Peter McGowan\\Anaconda3\\lib\\site-packages\\tensorflow\\python\\ops\\resource_variable_ops.py:435: colocate_with (from tensorflow.python.framework.ops) is deprecated and will be removed in a future version.\n",
      "Instructions for updating:\n",
      "Colocations handled automatically by placer.\n",
      "Model: \"sequential_1\"\n",
      "_________________________________________________________________\n",
      "Layer (type)                 Output Shape              Param #   \n",
      "=================================================================\n",
      "dense_1 (Dense)              (None, 100)               1100      \n",
      "_________________________________________________________________\n",
      "dense_2 (Dense)              (None, 50)                5050      \n",
      "_________________________________________________________________\n",
      "dense_3 (Dense)              (None, 1)                 51        \n",
      "=================================================================\n",
      "Total params: 6,201\n",
      "Trainable params: 6,201\n",
      "Non-trainable params: 0\n",
      "_________________________________________________________________\n"
     ]
    }
   ],
   "source": [
    "model1 = Sequential() \n",
    "\n",
    "model1.add(Dense(units=100, activation='relu', input_dim=10))\n",
    "model1.add(Dense(units=50, activation='relu'))\n",
    "model1.add(Dense(units=1))\n",
    "\n",
    "model1.compile(loss='mse', optimizer='adam', metrics=['mae', 'acc'])\n",
    "\n",
    "model1.summary()"
   ]
  },
  {
   "cell_type": "code",
   "execution_count": 35,
   "metadata": {
    "scrolled": true
   },
   "outputs": [
    {
     "name": "stdout",
     "output_type": "stream",
     "text": [
      "WARNING:tensorflow:From C:\\Users\\Peter McGowan\\Anaconda3\\lib\\site-packages\\tensorflow\\python\\ops\\math_ops.py:3066: to_int32 (from tensorflow.python.ops.math_ops) is deprecated and will be removed in a future version.\n",
      "Instructions for updating:\n",
      "Use tf.cast instead.\n",
      "Epoch 1/100\n",
      "404/404 [==============================] - 0s 530us/step - loss: 4778.8506 - mae: 57.9989 - acc: 0.0050\n",
      "Epoch 2/100\n",
      "404/404 [==============================] - 0s 14us/step - loss: 851.2555 - mae: 24.7789 - acc: 0.0025\n",
      "Epoch 3/100\n",
      "404/404 [==============================] - 0s 14us/step - loss: 1546.9740 - mae: 37.2612 - acc: 0.0000e+00\n",
      "Epoch 4/100\n",
      "404/404 [==============================] - 0s 14us/step - loss: 653.4979 - mae: 22.5379 - acc: 0.0000e+00\n",
      "Epoch 5/100\n",
      "404/404 [==============================] - 0s 12us/step - loss: 118.9205 - mae: 8.8890 - acc: 0.0025\n",
      "Epoch 6/100\n",
      "404/404 [==============================] - 0s 15us/step - loss: 329.5584 - mae: 16.7040 - acc: 0.0025\n",
      "Epoch 7/100\n",
      "404/404 [==============================] - 0s 12us/step - loss: 233.9881 - mae: 13.7238 - acc: 0.0000e+00\n",
      "Epoch 8/100\n",
      "404/404 [==============================] - 0s 13us/step - loss: 79.8011 - mae: 6.8534 - acc: 0.0025\n",
      "Epoch 9/100\n",
      "404/404 [==============================] - 0s 12us/step - loss: 130.6178 - mae: 8.3986 - acc: 0.0074\n",
      "Epoch 10/100\n",
      "404/404 [==============================] - 0s 12us/step - loss: 113.2188 - mae: 7.6545 - acc: 0.0050\n",
      "Epoch 11/100\n",
      "404/404 [==============================] - 0s 12us/step - loss: 62.0405 - mae: 5.5129 - acc: 0.0025\n",
      "Epoch 12/100\n",
      "404/404 [==============================] - 0s 12us/step - loss: 76.5625 - mae: 7.2612 - acc: 0.0025\n",
      "Epoch 13/100\n",
      "404/404 [==============================] - 0s 13us/step - loss: 72.0373 - mae: 6.9666 - acc: 0.0025\n",
      "Epoch 14/100\n",
      "404/404 [==============================] - 0s 12us/step - loss: 58.2509 - mae: 5.3602 - acc: 0.0074\n",
      "Epoch 15/100\n",
      "404/404 [==============================] - 0s 12us/step - loss: 63.5986 - mae: 5.1278 - acc: 0.0173\n",
      "Epoch 16/100\n",
      "404/404 [==============================] - 0s 14us/step - loss: 59.4469 - mae: 5.0060 - acc: 0.0124\n",
      "Epoch 17/100\n",
      "404/404 [==============================] - 0s 15us/step - loss: 56.4851 - mae: 5.3691 - acc: 0.0050\n",
      "Epoch 18/100\n",
      "404/404 [==============================] - 0s 15us/step - loss: 58.1636 - mae: 5.7493 - acc: 0.0124\n",
      "Epoch 19/100\n",
      "404/404 [==============================] - 0s 14us/step - loss: 55.7730 - mae: 5.3806 - acc: 0.0050\n",
      "Epoch 20/100\n",
      "404/404 [==============================] - 0s 12us/step - loss: 55.2386 - mae: 5.0761 - acc: 0.0050\n",
      "Epoch 21/100\n",
      "404/404 [==============================] - 0s 12us/step - loss: 55.3441 - mae: 5.0275 - acc: 0.0050\n",
      "Epoch 22/100\n",
      "404/404 [==============================] - 0s 12us/step - loss: 54.4784 - mae: 5.1462 - acc: 0.0050\n",
      "Epoch 23/100\n",
      "404/404 [==============================] - 0s 15us/step - loss: 54.4612 - mae: 5.2707 - acc: 0.0000e+00\n",
      "Epoch 24/100\n",
      "404/404 [==============================] - 0s 14us/step - loss: 54.0774 - mae: 5.2225 - acc: 0.0000e+00\n",
      "Epoch 25/100\n",
      "404/404 [==============================] - 0s 13us/step - loss: 53.6582 - mae: 5.0653 - acc: 0.0050\n",
      "Epoch 26/100\n",
      "404/404 [==============================] - 0s 14us/step - loss: 53.7132 - mae: 4.9997 - acc: 0.0050\n",
      "Epoch 27/100\n",
      "404/404 [==============================] - 0s 12us/step - loss: 53.4492 - mae: 5.0707 - acc: 0.0000e+00\n",
      "Epoch 28/100\n",
      "404/404 [==============================] - 0s 14us/step - loss: 53.2072 - mae: 5.1417 - acc: 0.0025\n",
      "Epoch 29/100\n",
      "404/404 [==============================] - 0s 12us/step - loss: 52.8781 - mae: 5.0362 - acc: 0.0050\n",
      "Epoch 30/100\n",
      "404/404 [==============================] - 0s 12us/step - loss: 52.6322 - mae: 4.9459 - acc: 0.0050\n",
      "Epoch 31/100\n",
      "404/404 [==============================] - 0s 12us/step - loss: 52.2461 - mae: 4.9878 - acc: 0.0050\n",
      "Epoch 32/100\n",
      "404/404 [==============================] - 0s 12us/step - loss: 51.9338 - mae: 5.0186 - acc: 0.0025\n",
      "Epoch 33/100\n",
      "404/404 [==============================] - 0s 14us/step - loss: 51.4624 - mae: 4.9895 - acc: 0.0025\n",
      "Epoch 34/100\n",
      "404/404 [==============================] - 0s 12us/step - loss: 50.9549 - mae: 4.8906 - acc: 0.0025\n",
      "Epoch 35/100\n",
      "404/404 [==============================] - 0s 12us/step - loss: 50.9738 - mae: 4.8384 - acc: 0.0050\n",
      "Epoch 36/100\n",
      "404/404 [==============================] - 0s 13us/step - loss: 51.0741 - mae: 4.9521 - acc: 0.0050\n",
      "Epoch 37/100\n",
      "404/404 [==============================] - 0s 12us/step - loss: 50.4444 - mae: 4.9804 - acc: 0.0050\n",
      "Epoch 38/100\n",
      "404/404 [==============================] - 0s 13us/step - loss: 50.1948 - mae: 4.8680 - acc: 0.0050\n",
      "Epoch 39/100\n",
      "404/404 [==============================] - 0s 14us/step - loss: 50.3263 - mae: 4.7814 - acc: 0.0074\n",
      "Epoch 40/100\n",
      "404/404 [==============================] - 0s 12us/step - loss: 50.4933 - mae: 4.8977 - acc: 0.0000e+00\n",
      "Epoch 41/100\n",
      "404/404 [==============================] - 0s 14us/step - loss: 49.8126 - mae: 4.9907 - acc: 0.0074\n",
      "Epoch 42/100\n",
      "404/404 [==============================] - 0s 14us/step - loss: 49.0887 - mae: 4.7922 - acc: 0.0025\n",
      "Epoch 43/100\n",
      "404/404 [==============================] - 0s 13us/step - loss: 49.3101 - mae: 4.7175 - acc: 0.0025\n",
      "Epoch 44/100\n",
      "404/404 [==============================] - 0s 12us/step - loss: 48.7761 - mae: 4.7383 - acc: 0.0074\n",
      "Epoch 45/100\n",
      "404/404 [==============================] - 0s 14us/step - loss: 48.8957 - mae: 4.8752 - acc: 0.0050\n",
      "Epoch 46/100\n",
      "404/404 [==============================] - 0s 13us/step - loss: 48.5857 - mae: 4.7987 - acc: 0.0050\n",
      "Epoch 47/100\n",
      "404/404 [==============================] - 0s 12us/step - loss: 48.3254 - mae: 4.6596 - acc: 0.0025\n",
      "Epoch 48/100\n",
      "404/404 [==============================] - 0s 12us/step - loss: 48.4906 - mae: 4.8087 - acc: 0.0074\n",
      "Epoch 49/100\n",
      "404/404 [==============================] - 0s 14us/step - loss: 47.7554 - mae: 4.7507 - acc: 0.0099\n",
      "Epoch 50/100\n",
      "404/404 [==============================] - 0s 12us/step - loss: 47.3647 - mae: 4.6444 - acc: 0.0074\n",
      "Epoch 51/100\n",
      "404/404 [==============================] - 0s 12us/step - loss: 47.1369 - mae: 4.6900 - acc: 0.0099\n",
      "Epoch 52/100\n",
      "404/404 [==============================] - 0s 14us/step - loss: 46.8839 - mae: 4.7278 - acc: 0.0050\n",
      "Epoch 53/100\n",
      "404/404 [==============================] - 0s 14us/step - loss: 46.6891 - mae: 4.6143 - acc: 0.0074\n",
      "Epoch 54/100\n",
      "404/404 [==============================] - 0s 13us/step - loss: 46.5586 - mae: 4.6177 - acc: 0.0074\n",
      "Epoch 55/100\n",
      "404/404 [==============================] - 0s 13us/step - loss: 46.5021 - mae: 4.7804 - acc: 0.0074\n",
      "Epoch 56/100\n",
      "404/404 [==============================] - 0s 14us/step - loss: 45.9644 - mae: 4.5881 - acc: 0.0050\n",
      "Epoch 57/100\n",
      "404/404 [==============================] - 0s 14us/step - loss: 45.6979 - mae: 4.5071 - acc: 0.0099\n",
      "Epoch 58/100\n",
      "404/404 [==============================] - 0s 12us/step - loss: 46.0787 - mae: 4.7932 - acc: 0.0050\n",
      "Epoch 59/100\n",
      "404/404 [==============================] - 0s 12us/step - loss: 45.1953 - mae: 4.6122 - acc: 0.0025\n",
      "Epoch 60/100\n",
      "404/404 [==============================] - 0s 12us/step - loss: 45.2589 - mae: 4.4494 - acc: 0.0050\n",
      "Epoch 61/100\n",
      "404/404 [==============================] - 0s 13us/step - loss: 44.4783 - mae: 4.5660 - acc: 0.0099\n",
      "Epoch 62/100\n",
      "404/404 [==============================] - 0s 12us/step - loss: 44.7387 - mae: 4.7108 - acc: 0.0099\n",
      "Epoch 63/100\n",
      "404/404 [==============================] - 0s 14us/step - loss: 44.0605 - mae: 4.5134 - acc: 0.0050\n",
      "Epoch 64/100\n",
      "404/404 [==============================] - 0s 14us/step - loss: 43.9737 - mae: 4.4274 - acc: 0.0050\n",
      "Epoch 65/100\n",
      "404/404 [==============================] - 0s 12us/step - loss: 43.7862 - mae: 4.6074 - acc: 0.0099\n",
      "Epoch 66/100\n",
      "404/404 [==============================] - 0s 12us/step - loss: 43.4887 - mae: 4.5510 - acc: 0.0074\n",
      "Epoch 67/100\n",
      "404/404 [==============================] - 0s 12us/step - loss: 43.1700 - mae: 4.4207 - acc: 0.0074\n",
      "Epoch 68/100\n",
      "404/404 [==============================] - 0s 14us/step - loss: 43.1407 - mae: 4.4845 - acc: 0.0050\n",
      "Epoch 69/100\n",
      "404/404 [==============================] - 0s 12us/step - loss: 42.6477 - mae: 4.5588 - acc: 0.0050\n",
      "Epoch 70/100\n",
      "404/404 [==============================] - 0s 12us/step - loss: 43.0191 - mae: 4.3596 - acc: 0.0099\n",
      "Epoch 71/100\n",
      "404/404 [==============================] - 0s 14us/step - loss: 41.9171 - mae: 4.3675 - acc: 0.0099\n",
      "Epoch 72/100\n",
      "404/404 [==============================] - 0s 15us/step - loss: 42.2429 - mae: 4.5809 - acc: 0.0124\n",
      "Epoch 73/100\n",
      "404/404 [==============================] - 0s 16us/step - loss: 41.9146 - mae: 4.4179 - acc: 0.0074\n",
      "Epoch 74/100\n",
      "404/404 [==============================] - 0s 14us/step - loss: 41.4581 - mae: 4.3750 - acc: 0.0074\n",
      "Epoch 75/100\n",
      "404/404 [==============================] - 0s 15us/step - loss: 41.3831 - mae: 4.4180 - acc: 0.0050\n",
      "Epoch 76/100\n",
      "404/404 [==============================] - 0s 16us/step - loss: 41.0259 - mae: 4.3736 - acc: 0.0074\n",
      "Epoch 77/100\n",
      "404/404 [==============================] - 0s 14us/step - loss: 40.7997 - mae: 4.4068 - acc: 0.0074\n",
      "Epoch 78/100\n",
      "404/404 [==============================] - 0s 13us/step - loss: 40.6019 - mae: 4.3918 - acc: 0.0074\n",
      "Epoch 79/100\n",
      "404/404 [==============================] - 0s 15us/step - loss: 40.6482 - mae: 4.2942 - acc: 0.0074\n",
      "Epoch 80/100\n",
      "404/404 [==============================] - 0s 14us/step - loss: 40.2814 - mae: 4.3765 - acc: 0.0050\n",
      "Epoch 81/100\n",
      "404/404 [==============================] - 0s 14us/step - loss: 39.9026 - mae: 4.3931 - acc: 0.0124\n",
      "Epoch 82/100\n",
      "404/404 [==============================] - 0s 15us/step - loss: 39.8600 - mae: 4.2654 - acc: 0.0050\n",
      "Epoch 83/100\n",
      "404/404 [==============================] - 0s 14us/step - loss: 39.5048 - mae: 4.3264 - acc: 0.0074\n",
      "Epoch 84/100\n",
      "404/404 [==============================] - 0s 12us/step - loss: 39.3865 - mae: 4.3790 - acc: 0.0099\n",
      "Epoch 85/100\n",
      "404/404 [==============================] - 0s 14us/step - loss: 39.1320 - mae: 4.2082 - acc: 0.0050\n",
      "Epoch 86/100\n",
      "404/404 [==============================] - 0s 15us/step - loss: 38.8440 - mae: 4.2179 - acc: 0.0025\n",
      "Epoch 87/100\n",
      "404/404 [==============================] - 0s 14us/step - loss: 38.6481 - mae: 4.3190 - acc: 0.0124\n",
      "Epoch 88/100\n",
      "404/404 [==============================] - 0s 15us/step - loss: 38.5213 - mae: 4.3452 - acc: 0.0124\n",
      "Epoch 89/100\n",
      "404/404 [==============================] - 0s 14us/step - loss: 38.6331 - mae: 4.2147 - acc: 0.0050\n",
      "Epoch 90/100\n",
      "404/404 [==============================] - 0s 14us/step - loss: 38.3749 - mae: 4.3098 - acc: 0.0099\n",
      "Epoch 91/100\n",
      "404/404 [==============================] - 0s 16us/step - loss: 38.3329 - mae: 4.2635 - acc: 0.0050\n",
      "Epoch 92/100\n",
      "404/404 [==============================] - 0s 14us/step - loss: 37.7045 - mae: 4.2213 - acc: 0.0099\n",
      "Epoch 93/100\n",
      "404/404 [==============================] - 0s 15us/step - loss: 37.6075 - mae: 4.2431 - acc: 0.0099\n",
      "Epoch 94/100\n",
      "404/404 [==============================] - 0s 15us/step - loss: 37.3398 - mae: 4.2197 - acc: 0.0124\n",
      "Epoch 95/100\n",
      "404/404 [==============================] - 0s 14us/step - loss: 37.3666 - mae: 4.3074 - acc: 0.0124\n",
      "Epoch 96/100\n",
      "404/404 [==============================] - 0s 12us/step - loss: 37.0942 - mae: 4.1379 - acc: 0.0074\n",
      "Epoch 97/100\n",
      "404/404 [==============================] - 0s 11us/step - loss: 36.7384 - mae: 4.1880 - acc: 0.0149\n",
      "Epoch 98/100\n",
      "404/404 [==============================] - 0s 14us/step - loss: 36.6424 - mae: 4.2365 - acc: 0.0124\n",
      "Epoch 99/100\n",
      "404/404 [==============================] - 0s 13us/step - loss: 36.5583 - mae: 4.1740 - acc: 0.0149\n",
      "Epoch 100/100\n",
      "404/404 [==============================] - 0s 12us/step - loss: 36.3979 - mae: 4.1849 - acc: 0.0124\n"
     ]
    }
   ],
   "source": [
    "history1 = model1.fit(inputs_train, outputs_train, epochs=100, batch_size = 101)"
   ]
  },
  {
   "cell_type": "code",
   "execution_count": 36,
   "metadata": {},
   "outputs": [
    {
     "name": "stdout",
     "output_type": "stream",
     "text": [
      "This model evaluates as:\n",
      "* Loss: 38.88865770078173\n",
      "* MAE: 4.200577259063721\n",
      "* Accuracy: 0.009803921915590763\n"
     ]
    }
   ],
   "source": [
    "evaluate1 = []\n",
    "evaluator(evaluate1, model1)"
   ]
  },
  {
   "cell_type": "code",
   "execution_count": 37,
   "metadata": {},
   "outputs": [
    {
     "name": "stdout",
     "output_type": "stream",
     "text": [
      "This model predicts as:\n",
      "* Predicted Value: 26.19993\n",
      "* Actual value: 18.7\n"
     ]
    },
    {
     "name": "stderr",
     "output_type": "stream",
     "text": [
      "C:\\Users\\Peter McGowan\\Anaconda3\\lib\\site-packages\\ipykernel_launcher.py:3: FutureWarning: Method .as_matrix will be removed in a future version. Use .values instead.\n",
      "  This is separate from the ipykernel package so we can avoid doing imports until\n"
     ]
    }
   ],
   "source": [
    "predict1 = []\n",
    "predictor(predict1, model1)"
   ]
  },
  {
   "cell_type": "code",
   "execution_count": 38,
   "metadata": {},
   "outputs": [],
   "source": [
    "mean = inputs_train.mean()\n",
    "std = inputs_train.std()\n",
    "\n",
    "inputs_train = (inputs_train - mean)/std\n",
    "inputs_test = (inputs_test - mean)/std"
   ]
  },
  {
   "cell_type": "markdown",
   "metadata": {},
   "source": [
    "Not particularly accurate:\n",
    "* Loss (Mean Squared Error): ~30-35\n",
    "* Mean Absolute Error: ~4.1\n",
    "* Accuracy: 0.0124"
   ]
  },
  {
   "cell_type": "markdown",
   "metadata": {},
   "source": [
    "##### Re-Training"
   ]
  },
  {
   "cell_type": "code",
   "execution_count": 39,
   "metadata": {
    "scrolled": true
   },
   "outputs": [
    {
     "name": "stdout",
     "output_type": "stream",
     "text": [
      "Epoch 1/100\n",
      "404/404 [==============================] - 0s 26us/step - loss: 574.3528 - mae: 22.2850 - acc: 0.0000e+00\n",
      "Epoch 2/100\n",
      "404/404 [==============================] - 0s 27us/step - loss: 549.3506 - mae: 21.7496 - acc: 0.0000e+00\n",
      "Epoch 3/100\n",
      "404/404 [==============================] - 0s 25us/step - loss: 514.1596 - mae: 20.9323 - acc: 0.0000e+00\n",
      "Epoch 4/100\n",
      "404/404 [==============================] - 0s 26us/step - loss: 465.7485 - mae: 19.7917 - acc: 0.0025\n",
      "Epoch 5/100\n",
      "404/404 [==============================] - 0s 28us/step - loss: 404.0363 - mae: 18.2897 - acc: 0.0000e+00\n",
      "Epoch 6/100\n",
      "404/404 [==============================] - 0s 24us/step - loss: 335.2001 - mae: 16.4554 - acc: 0.0000e+00\n",
      "Epoch 7/100\n",
      "404/404 [==============================] - 0s 27us/step - loss: 262.2947 - mae: 14.3266 - acc: 0.0025\n",
      "Epoch 8/100\n",
      "404/404 [==============================] - 0s 26us/step - loss: 189.8084 - mae: 11.9096 - acc: 0.0025\n",
      "Epoch 9/100\n",
      "404/404 [==============================] - 0s 26us/step - loss: 132.1514 - mae: 9.5308 - acc: 0.0000e+00\n",
      "Epoch 10/100\n",
      "404/404 [==============================] - 0s 25us/step - loss: 88.7592 - mae: 7.5067 - acc: 0.0000e+00\n",
      "Epoch 11/100\n",
      "404/404 [==============================] - 0s 25us/step - loss: 68.7311 - mae: 6.3469 - acc: 0.0124\n",
      "Epoch 12/100\n",
      "404/404 [==============================] - 0s 23us/step - loss: 61.0285 - mae: 5.7997 - acc: 0.0099\n",
      "Epoch 13/100\n",
      "404/404 [==============================] - 0s 25us/step - loss: 58.1979 - mae: 5.6678 - acc: 0.0099\n",
      "Epoch 14/100\n",
      "404/404 [==============================] - 0s 26us/step - loss: 53.5911 - mae: 5.4241 - acc: 0.0124\n",
      "Epoch 15/100\n",
      "404/404 [==============================] - 0s 25us/step - loss: 46.7315 - mae: 5.0336 - acc: 0.0173\n",
      "Epoch 16/100\n",
      "404/404 [==============================] - 0s 26us/step - loss: 40.5508 - mae: 4.6524 - acc: 0.0074\n",
      "Epoch 17/100\n",
      "404/404 [==============================] - 0s 24us/step - loss: 35.8588 - mae: 4.3318 - acc: 0.0099\n",
      "Epoch 18/100\n",
      "404/404 [==============================] - 0s 23us/step - loss: 32.8176 - mae: 4.1200 - acc: 0.0099\n",
      "Epoch 19/100\n",
      "404/404 [==============================] - 0s 23us/step - loss: 30.9089 - mae: 3.9887 - acc: 0.0099\n",
      "Epoch 20/100\n",
      "404/404 [==============================] - 0s 23us/step - loss: 29.2694 - mae: 3.8848 - acc: 0.0099\n",
      "Epoch 21/100\n",
      "404/404 [==============================] - 0s 23us/step - loss: 27.8696 - mae: 3.7897 - acc: 0.0099\n",
      "Epoch 22/100\n",
      "404/404 [==============================] - 0s 23us/step - loss: 26.3769 - mae: 3.6979 - acc: 0.0050\n",
      "Epoch 23/100\n",
      "404/404 [==============================] - 0s 25us/step - loss: 25.4640 - mae: 3.6359 - acc: 0.0099\n",
      "Epoch 24/100\n",
      "404/404 [==============================] - 0s 23us/step - loss: 24.5423 - mae: 3.5689 - acc: 0.0099\n",
      "Epoch 25/100\n",
      "404/404 [==============================] - 0s 27us/step - loss: 23.7239 - mae: 3.5189 - acc: 0.0074\n",
      "Epoch 26/100\n",
      "404/404 [==============================] - 0s 23us/step - loss: 23.0089 - mae: 3.4620 - acc: 0.0074\n",
      "Epoch 27/100\n",
      "404/404 [==============================] - 0s 26us/step - loss: 22.5022 - mae: 3.4143 - acc: 0.0074\n",
      "Epoch 28/100\n",
      "404/404 [==============================] - 0s 22us/step - loss: 21.9164 - mae: 3.3631 - acc: 0.0074\n",
      "Epoch 29/100\n",
      "404/404 [==============================] - 0s 23us/step - loss: 21.4350 - mae: 3.3184 - acc: 0.0099\n",
      "Epoch 30/100\n",
      "404/404 [==============================] - 0s 27us/step - loss: 21.0215 - mae: 3.2798 - acc: 0.0099\n",
      "Epoch 31/100\n",
      "404/404 [==============================] - 0s 34us/step - loss: 20.5967 - mae: 3.2406 - acc: 0.0099\n",
      "Epoch 32/100\n",
      "404/404 [==============================] - 0s 36us/step - loss: 20.2180 - mae: 3.2055 - acc: 0.0099\n",
      "Epoch 33/100\n",
      "404/404 [==============================] - 0s 31us/step - loss: 19.9153 - mae: 3.1759 - acc: 0.0124\n",
      "Epoch 34/100\n",
      "404/404 [==============================] - 0s 32us/step - loss: 19.5217 - mae: 3.1428 - acc: 0.0124\n",
      "Epoch 35/100\n",
      "404/404 [==============================] - 0s 36us/step - loss: 19.2770 - mae: 3.1228 - acc: 0.0124\n",
      "Epoch 36/100\n",
      "404/404 [==============================] - 0s 36us/step - loss: 18.9555 - mae: 3.0937 - acc: 0.0099\n",
      "Epoch 37/100\n",
      "404/404 [==============================] - 0s 38us/step - loss: 18.7192 - mae: 3.0707 - acc: 0.0124\n",
      "Epoch 38/100\n",
      "404/404 [==============================] - 0s 33us/step - loss: 18.4692 - mae: 3.0469 - acc: 0.0149\n",
      "Epoch 39/100\n",
      "404/404 [==============================] - 0s 34us/step - loss: 18.2044 - mae: 3.0237 - acc: 0.0149\n",
      "Epoch 40/100\n",
      "404/404 [==============================] - 0s 37us/step - loss: 17.9851 - mae: 2.9991 - acc: 0.0149\n",
      "Epoch 41/100\n",
      "404/404 [==============================] - 0s 41us/step - loss: 17.7966 - mae: 2.9811 - acc: 0.0149\n",
      "Epoch 42/100\n",
      "404/404 [==============================] - 0s 36us/step - loss: 17.5871 - mae: 2.9680 - acc: 0.0099\n",
      "Epoch 43/100\n",
      "404/404 [==============================] - 0s 38us/step - loss: 17.3852 - mae: 2.9534 - acc: 0.0099\n",
      "Epoch 44/100\n",
      "404/404 [==============================] - 0s 23us/step - loss: 17.2087 - mae: 2.9371 - acc: 0.0050\n",
      "Epoch 45/100\n",
      "404/404 [==============================] - 0s 24us/step - loss: 17.0137 - mae: 2.9170 - acc: 0.0050\n",
      "Epoch 46/100\n",
      "404/404 [==============================] - 0s 27us/step - loss: 16.8782 - mae: 2.9050 - acc: 0.0074\n",
      "Epoch 47/100\n",
      "404/404 [==============================] - 0s 23us/step - loss: 16.7132 - mae: 2.8953 - acc: 0.0074\n",
      "Epoch 48/100\n",
      "404/404 [==============================] - 0s 31us/step - loss: 16.5561 - mae: 2.8838 - acc: 0.0074\n",
      "Epoch 49/100\n",
      "404/404 [==============================] - 0s 33us/step - loss: 16.4005 - mae: 2.8669 - acc: 0.0074\n",
      "Epoch 50/100\n",
      "404/404 [==============================] - 0s 37us/step - loss: 16.2395 - mae: 2.8513 - acc: 0.0074\n",
      "Epoch 51/100\n",
      "404/404 [==============================] - 0s 34us/step - loss: 16.1061 - mae: 2.8402 - acc: 0.0074\n",
      "Epoch 52/100\n",
      "404/404 [==============================] - 0s 37us/step - loss: 15.9824 - mae: 2.8293 - acc: 0.0074\n",
      "Epoch 53/100\n",
      "404/404 [==============================] - 0s 33us/step - loss: 15.8710 - mae: 2.8177 - acc: 0.0050\n",
      "Epoch 54/100\n",
      "404/404 [==============================] - 0s 37us/step - loss: 15.7523 - mae: 2.8047 - acc: 0.0074\n",
      "Epoch 55/100\n",
      "404/404 [==============================] - 0s 36us/step - loss: 15.6451 - mae: 2.7919 - acc: 0.0074\n",
      "Epoch 56/100\n",
      "404/404 [==============================] - 0s 39us/step - loss: 15.5385 - mae: 2.7834 - acc: 0.0074\n",
      "Epoch 57/100\n",
      "404/404 [==============================] - 0s 36us/step - loss: 15.4329 - mae: 2.7798 - acc: 0.0099\n",
      "Epoch 58/100\n",
      "404/404 [==============================] - 0s 38us/step - loss: 15.3384 - mae: 2.7724 - acc: 0.0099\n",
      "Epoch 59/100\n",
      "404/404 [==============================] - 0s 37us/step - loss: 15.2641 - mae: 2.7685 - acc: 0.0099\n",
      "Epoch 60/100\n",
      "404/404 [==============================] - 0s 37us/step - loss: 15.1714 - mae: 2.7597 - acc: 0.0099\n",
      "Epoch 61/100\n",
      "404/404 [==============================] - 0s 34us/step - loss: 15.0728 - mae: 2.7495 - acc: 0.0099\n",
      "Epoch 62/100\n",
      "404/404 [==============================] - 0s 25us/step - loss: 14.9873 - mae: 2.7437 - acc: 0.0099\n",
      "Epoch 63/100\n",
      "404/404 [==============================] - 0s 23us/step - loss: 14.9192 - mae: 2.7369 - acc: 0.0099\n",
      "Epoch 64/100\n",
      "404/404 [==============================] - 0s 25us/step - loss: 14.8324 - mae: 2.7319 - acc: 0.0124\n",
      "Epoch 65/100\n",
      "404/404 [==============================] - 0s 26us/step - loss: 14.7626 - mae: 2.7252 - acc: 0.0124\n",
      "Epoch 66/100\n",
      "404/404 [==============================] - 0s 25us/step - loss: 14.6802 - mae: 2.7187 - acc: 0.0099\n",
      "Epoch 67/100\n",
      "404/404 [==============================] - 0s 23us/step - loss: 14.6301 - mae: 2.7095 - acc: 0.0124\n",
      "Epoch 68/100\n",
      "404/404 [==============================] - 0s 25us/step - loss: 14.5618 - mae: 2.7046 - acc: 0.0124\n",
      "Epoch 69/100\n",
      "404/404 [==============================] - 0s 23us/step - loss: 14.5027 - mae: 2.7014 - acc: 0.0124\n",
      "Epoch 70/100\n",
      "404/404 [==============================] - 0s 26us/step - loss: 14.4395 - mae: 2.6926 - acc: 0.0149\n",
      "Epoch 71/100\n",
      "404/404 [==============================] - 0s 26us/step - loss: 14.3640 - mae: 2.6833 - acc: 0.0149\n",
      "Epoch 72/100\n",
      "404/404 [==============================] - 0s 23us/step - loss: 14.3076 - mae: 2.6770 - acc: 0.0149\n",
      "Epoch 73/100\n",
      "404/404 [==============================] - 0s 25us/step - loss: 14.2484 - mae: 2.6693 - acc: 0.0149\n",
      "Epoch 74/100\n",
      "404/404 [==============================] - 0s 25us/step - loss: 14.1943 - mae: 2.6636 - acc: 0.0149\n",
      "Epoch 75/100\n",
      "404/404 [==============================] - 0s 26us/step - loss: 14.1748 - mae: 2.6634 - acc: 0.0149\n",
      "Epoch 76/100\n",
      "404/404 [==============================] - 0s 23us/step - loss: 14.0872 - mae: 2.6602 - acc: 0.0149\n",
      "Epoch 77/100\n",
      "404/404 [==============================] - 0s 25us/step - loss: 14.0337 - mae: 2.6539 - acc: 0.0124\n",
      "Epoch 78/100\n",
      "404/404 [==============================] - 0s 23us/step - loss: 13.9891 - mae: 2.6451 - acc: 0.0124\n",
      "Epoch 79/100\n",
      "404/404 [==============================] - 0s 23us/step - loss: 13.9383 - mae: 2.6390 - acc: 0.0124\n",
      "Epoch 80/100\n",
      "404/404 [==============================] - 0s 23us/step - loss: 13.8934 - mae: 2.6343 - acc: 0.0124\n",
      "Epoch 81/100\n",
      "404/404 [==============================] - 0s 23us/step - loss: 13.8366 - mae: 2.6263 - acc: 0.0124\n",
      "Epoch 82/100\n",
      "404/404 [==============================] - 0s 25us/step - loss: 13.7930 - mae: 2.6201 - acc: 0.0149\n",
      "Epoch 83/100\n",
      "404/404 [==============================] - 0s 23us/step - loss: 13.7507 - mae: 2.6159 - acc: 0.0149\n",
      "Epoch 84/100\n",
      "404/404 [==============================] - 0s 22us/step - loss: 13.7071 - mae: 2.6090 - acc: 0.0149\n",
      "Epoch 85/100\n",
      "404/404 [==============================] - 0s 24us/step - loss: 13.6702 - mae: 2.6052 - acc: 0.0149\n",
      "Epoch 86/100\n",
      "404/404 [==============================] - 0s 25us/step - loss: 13.6282 - mae: 2.6031 - acc: 0.0149\n",
      "Epoch 87/100\n",
      "404/404 [==============================] - 0s 25us/step - loss: 13.5767 - mae: 2.5995 - acc: 0.0149\n",
      "Epoch 88/100\n",
      "404/404 [==============================] - 0s 22us/step - loss: 13.5466 - mae: 2.5965 - acc: 0.0149\n",
      "Epoch 89/100\n",
      "404/404 [==============================] - 0s 26us/step - loss: 13.5057 - mae: 2.5910 - acc: 0.0149\n",
      "Epoch 90/100\n",
      "404/404 [==============================] - 0s 25us/step - loss: 13.4685 - mae: 2.5849 - acc: 0.0149\n",
      "Epoch 91/100\n",
      "404/404 [==============================] - 0s 23us/step - loss: 13.4349 - mae: 2.5800 - acc: 0.0149\n",
      "Epoch 92/100\n",
      "404/404 [==============================] - 0s 26us/step - loss: 13.4058 - mae: 2.5775 - acc: 0.0173\n",
      "Epoch 93/100\n",
      "404/404 [==============================] - 0s 23us/step - loss: 13.3591 - mae: 2.5749 - acc: 0.0173\n",
      "Epoch 94/100\n",
      "404/404 [==============================] - 0s 25us/step - loss: 13.3235 - mae: 2.5693 - acc: 0.0173\n",
      "Epoch 95/100\n",
      "404/404 [==============================] - 0s 22us/step - loss: 13.2955 - mae: 2.5656 - acc: 0.0173\n",
      "Epoch 96/100\n",
      "404/404 [==============================] - 0s 23us/step - loss: 13.2586 - mae: 2.5604 - acc: 0.0173\n",
      "Epoch 97/100\n",
      "404/404 [==============================] - 0s 26us/step - loss: 13.2284 - mae: 2.5566 - acc: 0.0173\n",
      "Epoch 98/100\n",
      "404/404 [==============================] - 0s 23us/step - loss: 13.2044 - mae: 2.5522 - acc: 0.0173\n",
      "Epoch 99/100\n",
      "404/404 [==============================] - 0s 23us/step - loss: 13.1801 - mae: 2.5505 - acc: 0.0173\n",
      "Epoch 100/100\n",
      "404/404 [==============================] - 0s 23us/step - loss: 13.1437 - mae: 2.5487 - acc: 0.0198\n"
     ]
    }
   ],
   "source": [
    "history1a = model1.fit(inputs_train, outputs_train, epochs=100, batch_size = 101)"
   ]
  },
  {
   "cell_type": "markdown",
   "metadata": {},
   "source": [
    "This is much better - normalising the inputs significantly improved the result."
   ]
  },
  {
   "cell_type": "code",
   "execution_count": 40,
   "metadata": {},
   "outputs": [
    {
     "name": "stdout",
     "output_type": "stream",
     "text": [
      "This model evaluates as:\n",
      "* Loss: 20.746374111549528\n",
      "* MAE: 2.832862138748169\n",
      "* Accuracy: 0.009803921915590763\n"
     ]
    }
   ],
   "source": [
    "evaluate1a = []\n",
    "evaluator(evaluate1a, model1)"
   ]
  },
  {
   "cell_type": "code",
   "execution_count": 41,
   "metadata": {},
   "outputs": [
    {
     "name": "stdout",
     "output_type": "stream",
     "text": [
      "This model predicts as:\n",
      "* Predicted Value: 22.914213\n",
      "* Actual value: 18.7\n"
     ]
    },
    {
     "name": "stderr",
     "output_type": "stream",
     "text": [
      "C:\\Users\\Peter McGowan\\Anaconda3\\lib\\site-packages\\ipykernel_launcher.py:3: FutureWarning: Method .as_matrix will be removed in a future version. Use .values instead.\n",
      "  This is separate from the ipykernel package so we can avoid doing imports until\n"
     ]
    }
   ],
   "source": [
    "predict1a = []\n",
    "predictor(predict1a, model1)"
   ]
  },
  {
   "cell_type": "markdown",
   "metadata": {},
   "source": [
    "##### Results"
   ]
  },
  {
   "cell_type": "markdown",
   "metadata": {},
   "source": [
    "Our basic, three layer model run with the data as-is didn't perform particularly well, although it was converging towards a solution. Normalising the data definitely made a significant improvement. We can now move on to developing the structure of the model itself to improve the accuracy."
   ]
  },
  {
   "cell_type": "markdown",
   "metadata": {},
   "source": [
    "#### Second Attempt - Deepen"
   ]
  },
  {
   "cell_type": "markdown",
   "metadata": {},
   "source": [
    "We will develop the second attempt model and deepen it now by adding another hidden layer."
   ]
  },
  {
   "cell_type": "markdown",
   "metadata": {},
   "source": [
    "##### Construct Model"
   ]
  },
  {
   "cell_type": "code",
   "execution_count": 42,
   "metadata": {
    "scrolled": true
   },
   "outputs": [
    {
     "name": "stdout",
     "output_type": "stream",
     "text": [
      "Model: \"sequential_2\"\n",
      "_________________________________________________________________\n",
      "Layer (type)                 Output Shape              Param #   \n",
      "=================================================================\n",
      "dense_4 (Dense)              (None, 100)               1100      \n",
      "_________________________________________________________________\n",
      "dense_5 (Dense)              (None, 50)                5050      \n",
      "_________________________________________________________________\n",
      "dense_6 (Dense)              (None, 30)                1530      \n",
      "_________________________________________________________________\n",
      "dense_7 (Dense)              (None, 1)                 31        \n",
      "=================================================================\n",
      "Total params: 7,711\n",
      "Trainable params: 7,711\n",
      "Non-trainable params: 0\n",
      "_________________________________________________________________\n"
     ]
    }
   ],
   "source": [
    "model2 = Sequential() \n",
    "\n",
    "model2.add(Dense(units=100, activation='relu', input_dim=10))\n",
    "model2.add(Dense(units=50, activation='relu'))\n",
    "model2.add(Dense(units=30, activation='relu'))\n",
    "model2.add(Dense(units=1))\n",
    "\n",
    "model2.compile(loss='mse', optimizer='adam', metrics=['mae', 'acc'])\n",
    "\n",
    "model2.summary()"
   ]
  },
  {
   "cell_type": "markdown",
   "metadata": {},
   "source": [
    "##### Training"
   ]
  },
  {
   "cell_type": "markdown",
   "metadata": {},
   "source": []
  },
  {
   "cell_type": "code",
   "execution_count": 43,
   "metadata": {
    "scrolled": true
   },
   "outputs": [
    {
     "name": "stdout",
     "output_type": "stream",
     "text": [
      "Epoch 1/100\n",
      "404/404 [==============================] - 0s 653us/step - loss: 594.6603 - mae: 22.5660 - acc: 0.0000e+00\n",
      "Epoch 2/100\n",
      "404/404 [==============================] - 0s 15us/step - loss: 579.3831 - mae: 22.2280 - acc: 0.0000e+00\n",
      "Epoch 3/100\n",
      "404/404 [==============================] - 0s 16us/step - loss: 564.2971 - mae: 21.8794 - acc: 0.0000e+00\n",
      "Epoch 4/100\n",
      "404/404 [==============================] - 0s 16us/step - loss: 547.5541 - mae: 21.4970 - acc: 0.0000e+00\n",
      "Epoch 5/100\n",
      "404/404 [==============================] - 0s 15us/step - loss: 527.8736 - mae: 21.0346 - acc: 0.0025\n",
      "Epoch 6/100\n",
      "404/404 [==============================] - 0s 13us/step - loss: 504.3971 - mae: 20.4707 - acc: 0.0025\n",
      "Epoch 7/100\n",
      "404/404 [==============================] - 0s 15us/step - loss: 475.8805 - mae: 19.7721 - acc: 0.0025\n",
      "Epoch 8/100\n",
      "404/404 [==============================] - 0s 16us/step - loss: 442.3906 - mae: 18.9376 - acc: 0.0000e+00\n",
      "Epoch 9/100\n",
      "404/404 [==============================] - 0s 14us/step - loss: 399.6955 - mae: 17.8637 - acc: 0.0000e+00\n",
      "Epoch 10/100\n",
      "404/404 [==============================] - 0s 15us/step - loss: 351.0167 - mae: 16.5458 - acc: 0.0025\n",
      "Epoch 11/100\n",
      "404/404 [==============================] - 0s 14us/step - loss: 294.0807 - mae: 15.0090 - acc: 0.0000e+00\n",
      "Epoch 12/100\n",
      "404/404 [==============================] - 0s 14us/step - loss: 232.9233 - mae: 13.1199 - acc: 0.0025\n",
      "Epoch 13/100\n",
      "404/404 [==============================] - 0s 15us/step - loss: 174.7639 - mae: 11.0668 - acc: 0.0000e+00\n",
      "Epoch 14/100\n",
      "404/404 [==============================] - 0s 15us/step - loss: 123.0342 - mae: 8.9428 - acc: 0.0000e+00\n",
      "Epoch 15/100\n",
      "404/404 [==============================] - 0s 15us/step - loss: 87.1553 - mae: 7.2177 - acc: 0.0074\n",
      "Epoch 16/100\n",
      "404/404 [==============================] - 0s 16us/step - loss: 72.8519 - mae: 6.3384 - acc: 0.0099\n",
      "Epoch 17/100\n",
      "404/404 [==============================] - 0s 15us/step - loss: 69.2850 - mae: 6.2113 - acc: 0.0000e+00\n",
      "Epoch 18/100\n",
      "404/404 [==============================] - 0s 16us/step - loss: 64.1927 - mae: 5.9459 - acc: 0.0050\n",
      "Epoch 19/100\n",
      "404/404 [==============================] - 0s 15us/step - loss: 54.9168 - mae: 5.4586 - acc: 0.0074\n",
      "Epoch 20/100\n",
      "404/404 [==============================] - 0s 15us/step - loss: 46.3800 - mae: 4.9458 - acc: 0.0099\n",
      "Epoch 21/100\n",
      "404/404 [==============================] - 0s 14us/step - loss: 40.7592 - mae: 4.5922 - acc: 0.0124\n",
      "Epoch 22/100\n",
      "404/404 [==============================] - 0s 14us/step - loss: 37.5282 - mae: 4.3723 - acc: 0.0124\n",
      "Epoch 23/100\n",
      "404/404 [==============================] - 0s 14us/step - loss: 34.5515 - mae: 4.1822 - acc: 0.0124\n",
      "Epoch 24/100\n",
      "404/404 [==============================] - 0s 12us/step - loss: 31.3459 - mae: 3.9708 - acc: 0.0149\n",
      "Epoch 25/100\n",
      "404/404 [==============================] - 0s 14us/step - loss: 29.0789 - mae: 3.8330 - acc: 0.0050\n",
      "Epoch 26/100\n",
      "404/404 [==============================] - 0s 14us/step - loss: 26.7935 - mae: 3.7009 - acc: 0.0050\n",
      "Epoch 27/100\n",
      "404/404 [==============================] - 0s 15us/step - loss: 25.3681 - mae: 3.6128 - acc: 0.0074\n",
      "Epoch 28/100\n",
      "404/404 [==============================] - 0s 14us/step - loss: 24.2009 - mae: 3.5415 - acc: 0.0025\n",
      "Epoch 29/100\n",
      "404/404 [==============================] - 0s 13us/step - loss: 22.9868 - mae: 3.4425 - acc: 0.0025\n",
      "Epoch 30/100\n",
      "404/404 [==============================] - 0s 15us/step - loss: 22.0673 - mae: 3.3673 - acc: 0.0025\n",
      "Epoch 31/100\n",
      "404/404 [==============================] - 0s 15us/step - loss: 21.3755 - mae: 3.2945 - acc: 0.0074\n",
      "Epoch 32/100\n",
      "404/404 [==============================] - 0s 14us/step - loss: 20.6228 - mae: 3.2325 - acc: 0.0099\n",
      "Epoch 33/100\n",
      "404/404 [==============================] - 0s 13us/step - loss: 20.2170 - mae: 3.1952 - acc: 0.0099\n",
      "Epoch 34/100\n",
      "404/404 [==============================] - 0s 14us/step - loss: 19.6940 - mae: 3.1597 - acc: 0.0124\n",
      "Epoch 35/100\n",
      "404/404 [==============================] - 0s 14us/step - loss: 19.2882 - mae: 3.1264 - acc: 0.0149\n",
      "Epoch 36/100\n",
      "404/404 [==============================] - 0s 15us/step - loss: 18.9062 - mae: 3.1011 - acc: 0.0124\n",
      "Epoch 37/100\n",
      "404/404 [==============================] - 0s 14us/step - loss: 18.6248 - mae: 3.0799 - acc: 0.0124\n",
      "Epoch 38/100\n",
      "404/404 [==============================] - 0s 14us/step - loss: 18.2827 - mae: 3.0516 - acc: 0.0173\n",
      "Epoch 39/100\n",
      "404/404 [==============================] - 0s 14us/step - loss: 17.9756 - mae: 3.0219 - acc: 0.0173\n",
      "Epoch 40/100\n",
      "404/404 [==============================] - 0s 15us/step - loss: 17.7247 - mae: 3.0018 - acc: 0.0173\n",
      "Epoch 41/100\n",
      "404/404 [==============================] - 0s 14us/step - loss: 17.4729 - mae: 2.9796 - acc: 0.0198\n",
      "Epoch 42/100\n",
      "404/404 [==============================] - 0s 13us/step - loss: 17.2754 - mae: 2.9616 - acc: 0.0198\n",
      "Epoch 43/100\n",
      "404/404 [==============================] - 0s 14us/step - loss: 17.0155 - mae: 2.9345 - acc: 0.0173\n",
      "Epoch 44/100\n",
      "404/404 [==============================] - 0s 13us/step - loss: 16.8480 - mae: 2.9259 - acc: 0.0173\n",
      "Epoch 45/100\n",
      "404/404 [==============================] - 0s 14us/step - loss: 16.6276 - mae: 2.9098 - acc: 0.0173\n",
      "Epoch 46/100\n",
      "404/404 [==============================] - 0s 16us/step - loss: 16.4670 - mae: 2.8948 - acc: 0.0173\n",
      "Epoch 47/100\n",
      "404/404 [==============================] - 0s 14us/step - loss: 16.2811 - mae: 2.8743 - acc: 0.0173\n",
      "Epoch 48/100\n",
      "404/404 [==============================] - 0s 15us/step - loss: 16.1205 - mae: 2.8629 - acc: 0.0198\n",
      "Epoch 49/100\n",
      "404/404 [==============================] - 0s 14us/step - loss: 15.9743 - mae: 2.8499 - acc: 0.0173\n",
      "Epoch 50/100\n",
      "404/404 [==============================] - 0s 14us/step - loss: 15.8118 - mae: 2.8356 - acc: 0.0173\n",
      "Epoch 51/100\n",
      "404/404 [==============================] - 0s 16us/step - loss: 15.6845 - mae: 2.8223 - acc: 0.0173\n",
      "Epoch 52/100\n",
      "404/404 [==============================] - 0s 16us/step - loss: 15.5565 - mae: 2.8103 - acc: 0.0198\n",
      "Epoch 53/100\n",
      "404/404 [==============================] - 0s 17us/step - loss: 15.4183 - mae: 2.7985 - acc: 0.0198\n",
      "Epoch 54/100\n",
      "404/404 [==============================] - 0s 17us/step - loss: 15.2851 - mae: 2.7819 - acc: 0.0173\n",
      "Epoch 55/100\n",
      "404/404 [==============================] - 0s 22us/step - loss: 15.1903 - mae: 2.7653 - acc: 0.0173\n",
      "Epoch 56/100\n",
      "404/404 [==============================] - 0s 25us/step - loss: 15.0753 - mae: 2.7530 - acc: 0.0149\n",
      "Epoch 57/100\n",
      "404/404 [==============================] - 0s 23us/step - loss: 14.9501 - mae: 2.7435 - acc: 0.0198\n",
      "Epoch 58/100\n",
      "404/404 [==============================] - 0s 24us/step - loss: 14.8642 - mae: 2.7355 - acc: 0.0173\n",
      "Epoch 59/100\n",
      "404/404 [==============================] - 0s 24us/step - loss: 14.7781 - mae: 2.7269 - acc: 0.0173\n",
      "Epoch 60/100\n",
      "404/404 [==============================] - 0s 23us/step - loss: 14.6404 - mae: 2.7128 - acc: 0.0198\n",
      "Epoch 61/100\n",
      "404/404 [==============================] - 0s 22us/step - loss: 14.5642 - mae: 2.7064 - acc: 0.0198\n",
      "Epoch 62/100\n",
      "404/404 [==============================] - 0s 27us/step - loss: 14.4595 - mae: 2.6973 - acc: 0.0173\n",
      "Epoch 63/100\n",
      "404/404 [==============================] - 0s 28us/step - loss: 14.3728 - mae: 2.6882 - acc: 0.0149\n",
      "Epoch 64/100\n",
      "404/404 [==============================] - 0s 27us/step - loss: 14.2843 - mae: 2.6758 - acc: 0.0173\n",
      "Epoch 65/100\n",
      "404/404 [==============================] - 0s 31us/step - loss: 14.2074 - mae: 2.6663 - acc: 0.0149\n",
      "Epoch 66/100\n",
      "404/404 [==============================] - 0s 26us/step - loss: 14.1173 - mae: 2.6604 - acc: 0.0149\n",
      "Epoch 67/100\n",
      "404/404 [==============================] - 0s 27us/step - loss: 14.0471 - mae: 2.6515 - acc: 0.0149\n",
      "Epoch 68/100\n",
      "404/404 [==============================] - 0s 31us/step - loss: 14.0181 - mae: 2.6493 - acc: 0.0149\n",
      "Epoch 69/100\n",
      "404/404 [==============================] - 0s 27us/step - loss: 13.9053 - mae: 2.6406 - acc: 0.0149\n",
      "Epoch 70/100\n",
      "404/404 [==============================] - 0s 26us/step - loss: 13.8335 - mae: 2.6320 - acc: 0.0149\n",
      "Epoch 71/100\n",
      "404/404 [==============================] - 0s 24us/step - loss: 13.7797 - mae: 2.6154 - acc: 0.0149\n",
      "Epoch 72/100\n",
      "404/404 [==============================] - 0s 27us/step - loss: 13.6783 - mae: 2.6042 - acc: 0.0149\n",
      "Epoch 73/100\n",
      "404/404 [==============================] - 0s 25us/step - loss: 13.6098 - mae: 2.6009 - acc: 0.0099\n",
      "Epoch 74/100\n",
      "404/404 [==============================] - 0s 24us/step - loss: 13.5685 - mae: 2.6030 - acc: 0.0124\n",
      "Epoch 75/100\n",
      "404/404 [==============================] - 0s 25us/step - loss: 13.5076 - mae: 2.5965 - acc: 0.0173\n",
      "Epoch 76/100\n",
      "404/404 [==============================] - 0s 26us/step - loss: 13.4082 - mae: 2.5815 - acc: 0.0149\n",
      "Epoch 77/100\n",
      "404/404 [==============================] - 0s 16us/step - loss: 13.3463 - mae: 2.5703 - acc: 0.0124\n",
      "Epoch 78/100\n",
      "404/404 [==============================] - 0s 17us/step - loss: 13.2869 - mae: 2.5632 - acc: 0.0173\n",
      "Epoch 79/100\n",
      "404/404 [==============================] - 0s 16us/step - loss: 13.2294 - mae: 2.5575 - acc: 0.0173\n",
      "Epoch 80/100\n",
      "404/404 [==============================] - 0s 17us/step - loss: 13.1825 - mae: 2.5587 - acc: 0.0173\n",
      "Epoch 81/100\n",
      "404/404 [==============================] - 0s 15us/step - loss: 13.1336 - mae: 2.5594 - acc: 0.0173\n",
      "Epoch 82/100\n",
      "404/404 [==============================] - 0s 16us/step - loss: 13.0497 - mae: 2.5454 - acc: 0.0173\n",
      "Epoch 83/100\n",
      "404/404 [==============================] - 0s 18us/step - loss: 13.0083 - mae: 2.5357 - acc: 0.0173\n",
      "Epoch 84/100\n",
      "404/404 [==============================] - 0s 17us/step - loss: 12.9805 - mae: 2.5258 - acc: 0.0149\n",
      "Epoch 85/100\n",
      "404/404 [==============================] - 0s 16us/step - loss: 12.8879 - mae: 2.5159 - acc: 0.0198\n",
      "Epoch 86/100\n",
      "404/404 [==============================] - 0s 15us/step - loss: 12.8370 - mae: 2.5190 - acc: 0.0173\n",
      "Epoch 87/100\n",
      "404/404 [==============================] - 0s 16us/step - loss: 12.7760 - mae: 2.5145 - acc: 0.0173\n",
      "Epoch 88/100\n",
      "404/404 [==============================] - 0s 16us/step - loss: 12.7251 - mae: 2.5014 - acc: 0.0173\n",
      "Epoch 89/100\n",
      "404/404 [==============================] - 0s 15us/step - loss: 12.6863 - mae: 2.4919 - acc: 0.0198\n",
      "Epoch 90/100\n",
      "404/404 [==============================] - 0s 18us/step - loss: 12.6271 - mae: 2.4894 - acc: 0.0198\n",
      "Epoch 91/100\n",
      "404/404 [==============================] - 0s 17us/step - loss: 12.5557 - mae: 2.4824 - acc: 0.0173\n",
      "Epoch 92/100\n",
      "404/404 [==============================] - 0s 16us/step - loss: 12.5302 - mae: 2.4770 - acc: 0.0173\n",
      "Epoch 93/100\n",
      "404/404 [==============================] - 0s 15us/step - loss: 12.4682 - mae: 2.4716 - acc: 0.0198\n",
      "Epoch 94/100\n",
      "404/404 [==============================] - 0s 16us/step - loss: 12.4212 - mae: 2.4633 - acc: 0.0198\n",
      "Epoch 95/100\n",
      "404/404 [==============================] - 0s 16us/step - loss: 12.3674 - mae: 2.4581 - acc: 0.0198\n",
      "Epoch 96/100\n",
      "404/404 [==============================] - 0s 18us/step - loss: 12.3364 - mae: 2.4593 - acc: 0.0198\n",
      "Epoch 97/100\n",
      "404/404 [==============================] - 0s 16us/step - loss: 12.2962 - mae: 2.4596 - acc: 0.0173\n",
      "Epoch 98/100\n",
      "404/404 [==============================] - 0s 16us/step - loss: 12.2341 - mae: 2.4510 - acc: 0.0173\n",
      "Epoch 99/100\n",
      "404/404 [==============================] - 0s 16us/step - loss: 12.2216 - mae: 2.4409 - acc: 0.0198\n",
      "Epoch 100/100\n",
      "404/404 [==============================] - 0s 15us/step - loss: 12.1388 - mae: 2.4266 - acc: 0.0198\n"
     ]
    }
   ],
   "source": [
    "history2 = model2.fit(inputs_train, outputs_train, epochs=100, batch_size = 101)"
   ]
  },
  {
   "cell_type": "markdown",
   "metadata": {},
   "source": [
    "This is a noticeable improvement over the first model. It is converging more quickly, but perhaps we should increase the number of epochs to assess its accuracy."
   ]
  },
  {
   "cell_type": "code",
   "execution_count": 44,
   "metadata": {},
   "outputs": [
    {
     "name": "stdout",
     "output_type": "stream",
     "text": [
      "This model evaluates as:\n",
      "* Loss: 19.575604363983754\n",
      "* MAE: 2.8197689056396484\n",
      "* Accuracy: 0.009803921915590763\n"
     ]
    }
   ],
   "source": [
    "evaluate2 = []\n",
    "evaluator(evaluate2, model2)"
   ]
  },
  {
   "cell_type": "code",
   "execution_count": 45,
   "metadata": {},
   "outputs": [
    {
     "name": "stdout",
     "output_type": "stream",
     "text": [
      "This model predicts as:\n",
      "* Predicted Value: 22.267399\n",
      "* Actual value: 18.7\n"
     ]
    },
    {
     "name": "stderr",
     "output_type": "stream",
     "text": [
      "C:\\Users\\Peter McGowan\\Anaconda3\\lib\\site-packages\\ipykernel_launcher.py:3: FutureWarning: Method .as_matrix will be removed in a future version. Use .values instead.\n",
      "  This is separate from the ipykernel package so we can avoid doing imports until\n"
     ]
    }
   ],
   "source": [
    "predict2 = []\n",
    "predictor(predict2, model2)"
   ]
  },
  {
   "cell_type": "markdown",
   "metadata": {},
   "source": [
    "##### Re-Training"
   ]
  },
  {
   "cell_type": "code",
   "execution_count": 46,
   "metadata": {
    "scrolled": true
   },
   "outputs": [
    {
     "name": "stdout",
     "output_type": "stream",
     "text": [
      "Epoch 1/200\n",
      "404/404 [==============================] - 0s 49us/step - loss: 12.0997 - mae: 2.4238 - acc: 0.0198\n",
      "Epoch 2/200\n",
      "404/404 [==============================] - 0s 49us/step - loss: 12.0412 - mae: 2.4195 - acc: 0.0198\n",
      "Epoch 3/200\n",
      "404/404 [==============================] - 0s 48us/step - loss: 12.0015 - mae: 2.4183 - acc: 0.0198\n",
      "Epoch 4/200\n",
      "404/404 [==============================] - 0s 50us/step - loss: 11.9614 - mae: 2.4141 - acc: 0.0173\n",
      "Epoch 5/200\n",
      "404/404 [==============================] - 0s 48us/step - loss: 11.9303 - mae: 2.4099 - acc: 0.0223\n",
      "Epoch 6/200\n",
      "404/404 [==============================] - 0s 44us/step - loss: 11.8765 - mae: 2.3972 - acc: 0.0198\n",
      "Epoch 7/200\n",
      "404/404 [==============================] - 0s 46us/step - loss: 11.8519 - mae: 2.3910 - acc: 0.0223\n",
      "Epoch 8/200\n",
      "404/404 [==============================] - 0s 53us/step - loss: 11.7938 - mae: 2.3927 - acc: 0.0198\n",
      "Epoch 9/200\n",
      "404/404 [==============================] - 0s 48us/step - loss: 11.7495 - mae: 2.3900 - acc: 0.0173\n",
      "Epoch 10/200\n",
      "404/404 [==============================] - 0s 49us/step - loss: 11.7154 - mae: 2.3866 - acc: 0.0198\n",
      "Epoch 11/200\n",
      "404/404 [==============================] - 0s 46us/step - loss: 11.6915 - mae: 2.3793 - acc: 0.0173\n",
      "Epoch 12/200\n",
      "404/404 [==============================] - 0s 48us/step - loss: 11.6428 - mae: 2.3733 - acc: 0.0198\n",
      "Epoch 13/200\n",
      "404/404 [==============================] - 0s 49us/step - loss: 11.6138 - mae: 2.3745 - acc: 0.0223\n",
      "Epoch 14/200\n",
      "404/404 [==============================] - 0s 48us/step - loss: 11.5688 - mae: 2.3638 - acc: 0.0198\n",
      "Epoch 15/200\n",
      "404/404 [==============================] - 0s 50us/step - loss: 11.5902 - mae: 2.3534 - acc: 0.0223\n",
      "Epoch 16/200\n",
      "404/404 [==============================] - 0s 48us/step - loss: 11.5242 - mae: 2.3542 - acc: 0.0223\n",
      "Epoch 17/200\n",
      "404/404 [==============================] - 0s 47us/step - loss: 11.4604 - mae: 2.3533 - acc: 0.0198\n",
      "Epoch 18/200\n",
      "404/404 [==============================] - 0s 53us/step - loss: 11.4172 - mae: 2.3478 - acc: 0.0223\n",
      "Epoch 19/200\n",
      "404/404 [==============================] - 0s 64us/step - loss: 11.4130 - mae: 2.3520 - acc: 0.0198\n",
      "Epoch 20/200\n",
      "404/404 [==============================] - 0s 85us/step - loss: 11.3867 - mae: 2.3517 - acc: 0.0198\n",
      "Epoch 21/200\n",
      "404/404 [==============================] - 0s 65us/step - loss: 11.3532 - mae: 2.3300 - acc: 0.0223\n",
      "Epoch 22/200\n",
      "404/404 [==============================] - 0s 68us/step - loss: 11.2828 - mae: 2.3176 - acc: 0.0223\n",
      "Epoch 23/200\n",
      "404/404 [==============================] - 0s 64us/step - loss: 11.2251 - mae: 2.3185 - acc: 0.0198\n",
      "Epoch 24/200\n",
      "404/404 [==============================] - 0s 67us/step - loss: 11.2166 - mae: 2.3223 - acc: 0.0198\n",
      "Epoch 25/200\n",
      "404/404 [==============================] - 0s 72us/step - loss: 11.1701 - mae: 2.3226 - acc: 0.0223\n",
      "Epoch 26/200\n",
      "404/404 [==============================] - 0s 76us/step - loss: 11.1227 - mae: 2.3079 - acc: 0.0223\n",
      "Epoch 27/200\n",
      "404/404 [==============================] - 0s 46us/step - loss: 11.0904 - mae: 2.2981 - acc: 0.0223\n",
      "Epoch 28/200\n",
      "404/404 [==============================] - 0s 50us/step - loss: 11.0609 - mae: 2.2948 - acc: 0.0198\n",
      "Epoch 29/200\n",
      "404/404 [==============================] - 0s 44us/step - loss: 11.0476 - mae: 2.3003 - acc: 0.0198\n",
      "Epoch 30/200\n",
      "404/404 [==============================] - 0s 47us/step - loss: 11.0625 - mae: 2.3011 - acc: 0.0198\n",
      "Epoch 31/200\n",
      "404/404 [==============================] - 0s 55us/step - loss: 10.9852 - mae: 2.2872 - acc: 0.0223\n",
      "Epoch 32/200\n",
      "404/404 [==============================] - 0s 49us/step - loss: 10.9357 - mae: 2.2848 - acc: 0.0223\n",
      "Epoch 33/200\n",
      "404/404 [==============================] - 0s 54us/step - loss: 10.9690 - mae: 2.3005 - acc: 0.0173\n",
      "Epoch 34/200\n",
      "404/404 [==============================] - 0s 43us/step - loss: 10.8982 - mae: 2.2829 - acc: 0.0198\n",
      "Epoch 35/200\n",
      "404/404 [==============================] - 0s 47us/step - loss: 10.8281 - mae: 2.2654 - acc: 0.0223\n",
      "Epoch 36/200\n",
      "404/404 [==============================] - 0s 50us/step - loss: 10.8347 - mae: 2.2645 - acc: 0.0223\n",
      "Epoch 37/200\n",
      "404/404 [==============================] - 0s 50us/step - loss: 10.7364 - mae: 2.2632 - acc: 0.0223\n",
      "Epoch 38/200\n",
      "404/404 [==============================] - 0s 44us/step - loss: 10.8022 - mae: 2.2758 - acc: 0.0198\n",
      "Epoch 39/200\n",
      "404/404 [==============================] - 0s 47us/step - loss: 10.6667 - mae: 2.2562 - acc: 0.0223\n",
      "Epoch 40/200\n",
      "404/404 [==============================] - 0s 47us/step - loss: 10.6872 - mae: 2.2432 - acc: 0.0223\n",
      "Epoch 41/200\n",
      "404/404 [==============================] - 0s 49us/step - loss: 10.6244 - mae: 2.2318 - acc: 0.0223\n",
      "Epoch 42/200\n",
      "404/404 [==============================] - 0s 49us/step - loss: 10.6145 - mae: 2.2441 - acc: 0.0223\n",
      "Epoch 43/200\n",
      "404/404 [==============================] - 0s 48us/step - loss: 10.5568 - mae: 2.2501 - acc: 0.0173\n",
      "Epoch 44/200\n",
      "404/404 [==============================] - 0s 45us/step - loss: 10.5160 - mae: 2.2301 - acc: 0.0149\n",
      "Epoch 45/200\n",
      "404/404 [==============================] - 0s 52us/step - loss: 10.4482 - mae: 2.2155 - acc: 0.0198\n",
      "Epoch 46/200\n",
      "404/404 [==============================] - 0s 48us/step - loss: 10.4195 - mae: 2.2151 - acc: 0.0173\n",
      "Epoch 47/200\n",
      "404/404 [==============================] - 0s 45us/step - loss: 10.4034 - mae: 2.2188 - acc: 0.0223\n",
      "Epoch 48/200\n",
      "404/404 [==============================] - 0s 46us/step - loss: 10.3607 - mae: 2.2244 - acc: 0.0198\n",
      "Epoch 49/200\n",
      "404/404 [==============================] - 0s 44us/step - loss: 10.3440 - mae: 2.2065 - acc: 0.0198\n",
      "Epoch 50/200\n",
      "404/404 [==============================] - 0s 52us/step - loss: 10.3326 - mae: 2.1980 - acc: 0.0173\n",
      "Epoch 51/200\n",
      "404/404 [==============================] - 0s 49us/step - loss: 10.2194 - mae: 2.1958 - acc: 0.0173\n",
      "Epoch 52/200\n",
      "404/404 [==============================] - 0s 35us/step - loss: 10.1800 - mae: 2.1895 - acc: 0.0173\n",
      "Epoch 53/200\n",
      "404/404 [==============================] - 0s 28us/step - loss: 10.1598 - mae: 2.1900 - acc: 0.0198\n",
      "Epoch 54/200\n",
      "404/404 [==============================] - 0s 31us/step - loss: 10.1111 - mae: 2.1891 - acc: 0.0173\n",
      "Epoch 55/200\n",
      "404/404 [==============================] - 0s 30us/step - loss: 10.1149 - mae: 2.1765 - acc: 0.0149\n",
      "Epoch 56/200\n",
      "404/404 [==============================] - 0s 28us/step - loss: 10.0281 - mae: 2.1682 - acc: 0.0173\n",
      "Epoch 57/200\n",
      "404/404 [==============================] - 0s 32us/step - loss: 9.9890 - mae: 2.1737 - acc: 0.0173\n",
      "Epoch 58/200\n",
      "404/404 [==============================] - 0s 31us/step - loss: 9.9483 - mae: 2.1646 - acc: 0.0248\n",
      "Epoch 59/200\n",
      "404/404 [==============================] - 0s 31us/step - loss: 9.9276 - mae: 2.1564 - acc: 0.0198\n",
      "Epoch 60/200\n",
      "404/404 [==============================] - 0s 28us/step - loss: 9.8844 - mae: 2.1535 - acc: 0.0149\n",
      "Epoch 61/200\n",
      "404/404 [==============================] - 0s 33us/step - loss: 9.8512 - mae: 2.1433 - acc: 0.0149\n",
      "Epoch 62/200\n",
      "404/404 [==============================] - 0s 30us/step - loss: 9.8153 - mae: 2.1383 - acc: 0.0149\n",
      "Epoch 63/200\n",
      "404/404 [==============================] - 0s 28us/step - loss: 9.7417 - mae: 2.1395 - acc: 0.0149\n",
      "Epoch 64/200\n",
      "404/404 [==============================] - 0s 31us/step - loss: 9.7404 - mae: 2.1484 - acc: 0.0173\n",
      "Epoch 65/200\n",
      "404/404 [==============================] - 0s 29us/step - loss: 9.6680 - mae: 2.1264 - acc: 0.0173\n",
      "Epoch 66/200\n",
      "404/404 [==============================] - 0s 31us/step - loss: 9.6555 - mae: 2.1228 - acc: 0.0149\n",
      "Epoch 67/200\n",
      "404/404 [==============================] - 0s 28us/step - loss: 9.5791 - mae: 2.1189 - acc: 0.0149\n",
      "Epoch 68/200\n",
      "404/404 [==============================] - 0s 29us/step - loss: 9.6091 - mae: 2.1371 - acc: 0.0149\n",
      "Epoch 69/200\n",
      "404/404 [==============================] - 0s 29us/step - loss: 9.5184 - mae: 2.1254 - acc: 0.0173\n",
      "Epoch 70/200\n",
      "404/404 [==============================] - 0s 29us/step - loss: 9.4794 - mae: 2.0987 - acc: 0.0149\n",
      "Epoch 71/200\n",
      "404/404 [==============================] - 0s 31us/step - loss: 9.4512 - mae: 2.0977 - acc: 0.0173\n",
      "Epoch 72/200\n",
      "404/404 [==============================] - 0s 31us/step - loss: 9.3855 - mae: 2.0974 - acc: 0.0149\n",
      "Epoch 73/200\n",
      "404/404 [==============================] - 0s 32us/step - loss: 9.3635 - mae: 2.0946 - acc: 0.0149\n",
      "Epoch 74/200\n",
      "404/404 [==============================] - 0s 32us/step - loss: 9.3771 - mae: 2.0944 - acc: 0.0173\n",
      "Epoch 75/200\n",
      "404/404 [==============================] - 0s 37us/step - loss: 9.3088 - mae: 2.0881 - acc: 0.0149\n",
      "Epoch 76/200\n",
      "404/404 [==============================] - 0s 29us/step - loss: 9.2453 - mae: 2.0689 - acc: 0.0173\n",
      "Epoch 77/200\n",
      "404/404 [==============================] - 0s 29us/step - loss: 9.2843 - mae: 2.0877 - acc: 0.0149\n",
      "Epoch 78/200\n",
      "404/404 [==============================] - 0s 31us/step - loss: 9.1799 - mae: 2.0715 - acc: 0.0173\n",
      "Epoch 79/200\n",
      "404/404 [==============================] - 0s 36us/step - loss: 9.1443 - mae: 2.0564 - acc: 0.0173\n",
      "Epoch 80/200\n",
      "404/404 [==============================] - 0s 30us/step - loss: 9.0972 - mae: 2.0587 - acc: 0.0173\n",
      "Epoch 81/200\n",
      "404/404 [==============================] - 0s 34us/step - loss: 9.0817 - mae: 2.0768 - acc: 0.0149\n",
      "Epoch 82/200\n",
      "404/404 [==============================] - 0s 28us/step - loss: 9.0389 - mae: 2.0678 - acc: 0.0173\n",
      "Epoch 83/200\n",
      "404/404 [==============================] - 0s 34us/step - loss: 9.0190 - mae: 2.0570 - acc: 0.0173\n",
      "Epoch 84/200\n",
      "404/404 [==============================] - 0s 31us/step - loss: 8.9665 - mae: 2.0418 - acc: 0.0149\n",
      "Epoch 85/200\n",
      "404/404 [==============================] - 0s 29us/step - loss: 8.9466 - mae: 2.0403 - acc: 0.0149\n",
      "Epoch 86/200\n",
      "404/404 [==============================] - 0s 29us/step - loss: 8.9247 - mae: 2.0390 - acc: 0.0173\n",
      "Epoch 87/200\n",
      "404/404 [==============================] - 0s 37us/step - loss: 8.8489 - mae: 2.0292 - acc: 0.0124\n",
      "Epoch 88/200\n",
      "404/404 [==============================] - 0s 38us/step - loss: 8.8369 - mae: 2.0291 - acc: 0.0149\n",
      "Epoch 89/200\n",
      "404/404 [==============================] - 0s 43us/step - loss: 8.8396 - mae: 2.0400 - acc: 0.0149\n",
      "Epoch 90/200\n",
      "404/404 [==============================] - 0s 41us/step - loss: 8.7890 - mae: 2.0291 - acc: 0.0124\n",
      "Epoch 91/200\n",
      "404/404 [==============================] - 0s 44us/step - loss: 8.7194 - mae: 2.0123 - acc: 0.0149\n",
      "Epoch 92/200\n",
      "404/404 [==============================] - 0s 44us/step - loss: 8.6990 - mae: 2.0036 - acc: 0.0149\n",
      "Epoch 93/200\n",
      "404/404 [==============================] - 0s 44us/step - loss: 8.6537 - mae: 2.0047 - acc: 0.0124\n",
      "Epoch 94/200\n",
      "404/404 [==============================] - 0s 47us/step - loss: 8.6325 - mae: 2.0095 - acc: 0.0124\n",
      "Epoch 95/200\n",
      "404/404 [==============================] - 0s 43us/step - loss: 8.6109 - mae: 2.0073 - acc: 0.0124\n",
      "Epoch 96/200\n",
      "404/404 [==============================] - 0s 42us/step - loss: 8.5926 - mae: 2.0017 - acc: 0.0149\n",
      "Epoch 97/200\n",
      "404/404 [==============================] - 0s 45us/step - loss: 8.5329 - mae: 1.9847 - acc: 0.0173\n",
      "Epoch 98/200\n",
      "404/404 [==============================] - 0s 36us/step - loss: 8.4956 - mae: 1.9879 - acc: 0.0173\n",
      "Epoch 99/200\n",
      "404/404 [==============================] - 0s 31us/step - loss: 8.4511 - mae: 1.9859 - acc: 0.0149\n",
      "Epoch 100/200\n",
      "404/404 [==============================] - 0s 29us/step - loss: 8.4453 - mae: 1.9871 - acc: 0.0173\n",
      "Epoch 101/200\n",
      "404/404 [==============================] - 0s 33us/step - loss: 8.4238 - mae: 1.9814 - acc: 0.0173\n",
      "Epoch 102/200\n",
      "404/404 [==============================] - 0s 42us/step - loss: 8.3901 - mae: 1.9714 - acc: 0.0173\n",
      "Epoch 103/200\n",
      "404/404 [==============================] - 0s 38us/step - loss: 8.3342 - mae: 1.9675 - acc: 0.0149\n",
      "Epoch 104/200\n",
      "404/404 [==============================] - 0s 43us/step - loss: 8.3948 - mae: 1.9740 - acc: 0.0173\n",
      "Epoch 105/200\n",
      "404/404 [==============================] - 0s 47us/step - loss: 8.3018 - mae: 1.9577 - acc: 0.0149\n",
      "Epoch 106/200\n",
      "404/404 [==============================] - 0s 41us/step - loss: 8.3050 - mae: 1.9646 - acc: 0.0223\n",
      "Epoch 107/200\n",
      "404/404 [==============================] - 0s 49us/step - loss: 8.2815 - mae: 1.9691 - acc: 0.0248\n",
      "Epoch 108/200\n",
      "404/404 [==============================] - 0s 47us/step - loss: 8.1916 - mae: 1.9383 - acc: 0.0173\n",
      "Epoch 109/200\n",
      "404/404 [==============================] - 0s 59us/step - loss: 8.2357 - mae: 1.9336 - acc: 0.0149\n",
      "Epoch 110/200\n",
      "404/404 [==============================] - 0s 44us/step - loss: 8.1531 - mae: 1.9448 - acc: 0.0173\n",
      "Epoch 111/200\n",
      "404/404 [==============================] - 0s 44us/step - loss: 8.1815 - mae: 1.9555 - acc: 0.0223\n",
      "Epoch 112/200\n",
      "404/404 [==============================] - 0s 42us/step - loss: 8.0559 - mae: 1.9264 - acc: 0.0223\n",
      "Epoch 113/200\n",
      "404/404 [==============================] - 0s 37us/step - loss: 8.0601 - mae: 1.9259 - acc: 0.0149\n",
      "Epoch 114/200\n",
      "404/404 [==============================] - 0s 27us/step - loss: 8.0678 - mae: 1.9226 - acc: 0.0173\n",
      "Epoch 115/200\n",
      "404/404 [==============================] - 0s 33us/step - loss: 7.9723 - mae: 1.9118 - acc: 0.0223\n",
      "Epoch 116/200\n",
      "404/404 [==============================] - 0s 29us/step - loss: 7.9768 - mae: 1.9302 - acc: 0.0248\n",
      "Epoch 117/200\n",
      "404/404 [==============================] - 0s 27us/step - loss: 7.9624 - mae: 1.9047 - acc: 0.0223\n",
      "Epoch 118/200\n",
      "404/404 [==============================] - 0s 30us/step - loss: 7.9547 - mae: 1.8980 - acc: 0.0223\n",
      "Epoch 119/200\n",
      "404/404 [==============================] - 0s 30us/step - loss: 7.9748 - mae: 1.9207 - acc: 0.0198\n",
      "Epoch 120/200\n",
      "404/404 [==============================] - 0s 28us/step - loss: 7.8604 - mae: 1.9154 - acc: 0.0223\n",
      "Epoch 121/200\n",
      "404/404 [==============================] - 0s 30us/step - loss: 7.8241 - mae: 1.8854 - acc: 0.0173\n",
      "Epoch 122/200\n",
      "404/404 [==============================] - 0s 28us/step - loss: 7.8438 - mae: 1.8901 - acc: 0.0149\n",
      "Epoch 123/200\n",
      "404/404 [==============================] - 0s 36us/step - loss: 7.8416 - mae: 1.9131 - acc: 0.0248\n",
      "Epoch 124/200\n",
      "404/404 [==============================] - 0s 32us/step - loss: 7.7581 - mae: 1.9032 - acc: 0.0248\n",
      "Epoch 125/200\n",
      "404/404 [==============================] - 0s 31us/step - loss: 7.7500 - mae: 1.8725 - acc: 0.0223\n",
      "Epoch 126/200\n",
      "404/404 [==============================] - 0s 29us/step - loss: 7.7137 - mae: 1.8783 - acc: 0.0248\n",
      "Epoch 127/200\n",
      "404/404 [==============================] - 0s 31us/step - loss: 7.6914 - mae: 1.8881 - acc: 0.0248\n",
      "Epoch 128/200\n",
      "404/404 [==============================] - 0s 31us/step - loss: 7.6236 - mae: 1.8625 - acc: 0.0223\n",
      "Epoch 129/200\n",
      "404/404 [==============================] - 0s 31us/step - loss: 7.6161 - mae: 1.8595 - acc: 0.0198\n",
      "Epoch 130/200\n",
      "404/404 [==============================] - 0s 29us/step - loss: 7.5917 - mae: 1.8586 - acc: 0.0223\n",
      "Epoch 131/200\n",
      "404/404 [==============================] - 0s 29us/step - loss: 7.5730 - mae: 1.8647 - acc: 0.0223\n",
      "Epoch 132/200\n",
      "404/404 [==============================] - 0s 31us/step - loss: 7.5803 - mae: 1.8730 - acc: 0.0223\n",
      "Epoch 133/200\n",
      "404/404 [==============================] - 0s 31us/step - loss: 7.5468 - mae: 1.8564 - acc: 0.0223\n",
      "Epoch 134/200\n",
      "404/404 [==============================] - 0s 29us/step - loss: 7.5003 - mae: 1.8447 - acc: 0.0272\n",
      "Epoch 135/200\n",
      "404/404 [==============================] - 0s 31us/step - loss: 7.4722 - mae: 1.8334 - acc: 0.0223\n",
      "Epoch 136/200\n",
      "404/404 [==============================] - 0s 34us/step - loss: 7.5243 - mae: 1.8570 - acc: 0.0223\n",
      "Epoch 137/200\n",
      "404/404 [==============================] - 0s 31us/step - loss: 7.4192 - mae: 1.8409 - acc: 0.0248\n",
      "Epoch 138/200\n",
      "404/404 [==============================] - 0s 29us/step - loss: 7.4012 - mae: 1.8326 - acc: 0.0223\n",
      "Epoch 139/200\n",
      "404/404 [==============================] - 0s 28us/step - loss: 7.3727 - mae: 1.8252 - acc: 0.0223\n",
      "Epoch 140/200\n",
      "404/404 [==============================] - 0s 32us/step - loss: 7.3408 - mae: 1.8316 - acc: 0.0248\n",
      "Epoch 141/200\n",
      "404/404 [==============================] - 0s 31us/step - loss: 7.3914 - mae: 1.8328 - acc: 0.0248\n",
      "Epoch 142/200\n",
      "404/404 [==============================] - 0s 33us/step - loss: 7.3247 - mae: 1.8249 - acc: 0.0223\n",
      "Epoch 143/200\n",
      "404/404 [==============================] - 0s 47us/step - loss: 7.2780 - mae: 1.8209 - acc: 0.0272\n",
      "Epoch 144/200\n",
      "404/404 [==============================] - 0s 47us/step - loss: 7.2464 - mae: 1.8109 - acc: 0.0248\n",
      "Epoch 145/200\n",
      "404/404 [==============================] - 0s 41us/step - loss: 7.2371 - mae: 1.8160 - acc: 0.0322\n",
      "Epoch 146/200\n",
      "404/404 [==============================] - 0s 41us/step - loss: 7.2056 - mae: 1.7890 - acc: 0.0248\n",
      "Epoch 147/200\n",
      "404/404 [==============================] - 0s 43us/step - loss: 7.2148 - mae: 1.8192 - acc: 0.0248\n",
      "Epoch 148/200\n",
      "404/404 [==============================] - 0s 42us/step - loss: 7.1770 - mae: 1.8181 - acc: 0.0297\n",
      "Epoch 149/200\n",
      "404/404 [==============================] - 0s 49us/step - loss: 7.1458 - mae: 1.7957 - acc: 0.0248\n",
      "Epoch 150/200\n",
      "404/404 [==============================] - 0s 47us/step - loss: 7.1036 - mae: 1.7864 - acc: 0.0248\n",
      "Epoch 151/200\n",
      "404/404 [==============================] - 0s 43us/step - loss: 7.0931 - mae: 1.7962 - acc: 0.0223\n",
      "Epoch 152/200\n",
      "404/404 [==============================] - 0s 43us/step - loss: 7.0768 - mae: 1.8023 - acc: 0.0347\n",
      "Epoch 153/200\n",
      "404/404 [==============================] - 0s 39us/step - loss: 7.0746 - mae: 1.7964 - acc: 0.0322\n",
      "Epoch 154/200\n",
      "404/404 [==============================] - 0s 47us/step - loss: 7.0508 - mae: 1.7869 - acc: 0.0297\n",
      "Epoch 155/200\n",
      "404/404 [==============================] - 0s 36us/step - loss: 6.9705 - mae: 1.7707 - acc: 0.0272\n",
      "Epoch 156/200\n",
      "404/404 [==============================] - 0s 33us/step - loss: 6.9551 - mae: 1.7890 - acc: 0.0322\n",
      "Epoch 157/200\n",
      "404/404 [==============================] - 0s 29us/step - loss: 6.9521 - mae: 1.7727 - acc: 0.0347\n",
      "Epoch 158/200\n",
      "404/404 [==============================] - 0s 27us/step - loss: 6.9067 - mae: 1.7619 - acc: 0.0223\n",
      "Epoch 159/200\n",
      "404/404 [==============================] - 0s 29us/step - loss: 6.9202 - mae: 1.7813 - acc: 0.0272\n",
      "Epoch 160/200\n",
      "404/404 [==============================] - 0s 28us/step - loss: 6.8706 - mae: 1.7561 - acc: 0.0322\n",
      "Epoch 161/200\n",
      "404/404 [==============================] - 0s 28us/step - loss: 6.9001 - mae: 1.7576 - acc: 0.0198\n",
      "Epoch 162/200\n",
      "404/404 [==============================] - 0s 33us/step - loss: 6.8174 - mae: 1.7522 - acc: 0.0322\n",
      "Epoch 163/200\n",
      "404/404 [==============================] - 0s 29us/step - loss: 6.8080 - mae: 1.7569 - acc: 0.0371\n",
      "Epoch 164/200\n",
      "404/404 [==============================] - 0s 29us/step - loss: 6.7692 - mae: 1.7570 - acc: 0.0297\n",
      "Epoch 165/200\n",
      "404/404 [==============================] - 0s 33us/step - loss: 6.8011 - mae: 1.7447 - acc: 0.0297\n",
      "Epoch 166/200\n",
      "404/404 [==============================] - 0s 31us/step - loss: 6.6924 - mae: 1.7377 - acc: 0.0297\n",
      "Epoch 167/200\n",
      "404/404 [==============================] - 0s 29us/step - loss: 6.6714 - mae: 1.7421 - acc: 0.0297\n",
      "Epoch 168/200\n",
      "404/404 [==============================] - 0s 28us/step - loss: 6.6757 - mae: 1.7463 - acc: 0.0297\n",
      "Epoch 169/200\n",
      "404/404 [==============================] - 0s 28us/step - loss: 6.6537 - mae: 1.7477 - acc: 0.0347\n",
      "Epoch 170/200\n",
      "404/404 [==============================] - 0s 36us/step - loss: 6.6386 - mae: 1.7340 - acc: 0.0347\n",
      "Epoch 171/200\n",
      "404/404 [==============================] - 0s 28us/step - loss: 6.6239 - mae: 1.7286 - acc: 0.0371\n",
      "Epoch 172/200\n",
      "404/404 [==============================] - 0s 32us/step - loss: 6.5885 - mae: 1.7367 - acc: 0.0347\n",
      "Epoch 173/200\n",
      "404/404 [==============================] - 0s 29us/step - loss: 6.6026 - mae: 1.7272 - acc: 0.0347\n",
      "Epoch 174/200\n",
      "404/404 [==============================] - 0s 31us/step - loss: 6.5266 - mae: 1.7193 - acc: 0.0371\n",
      "Epoch 175/200\n",
      "404/404 [==============================] - 0s 31us/step - loss: 6.5088 - mae: 1.7209 - acc: 0.0371\n",
      "Epoch 176/200\n",
      "404/404 [==============================] - 0s 32us/step - loss: 6.4952 - mae: 1.7149 - acc: 0.0347\n",
      "Epoch 177/200\n",
      "404/404 [==============================] - 0s 33us/step - loss: 6.4804 - mae: 1.7196 - acc: 0.0347\n",
      "Epoch 178/200\n",
      "404/404 [==============================] - 0s 52us/step - loss: 6.4651 - mae: 1.7035 - acc: 0.0371\n",
      "Epoch 179/200\n",
      "404/404 [==============================] - 0s 42us/step - loss: 6.4035 - mae: 1.7073 - acc: 0.0396\n",
      "Epoch 180/200\n",
      "404/404 [==============================] - 0s 44us/step - loss: 6.3961 - mae: 1.7135 - acc: 0.0347\n",
      "Epoch 181/200\n",
      "404/404 [==============================] - 0s 42us/step - loss: 6.3817 - mae: 1.7006 - acc: 0.0322\n",
      "Epoch 182/200\n",
      "404/404 [==============================] - 0s 43us/step - loss: 6.4066 - mae: 1.6930 - acc: 0.0396\n",
      "Epoch 183/200\n",
      "404/404 [==============================] - 0s 44us/step - loss: 6.3117 - mae: 1.6933 - acc: 0.0396\n",
      "Epoch 184/200\n",
      "404/404 [==============================] - 0s 44us/step - loss: 6.3747 - mae: 1.7214 - acc: 0.0371\n",
      "Epoch 185/200\n",
      "404/404 [==============================] - 0s 47us/step - loss: 6.4446 - mae: 1.7075 - acc: 0.0347\n",
      "Epoch 186/200\n",
      "404/404 [==============================] - 0s 43us/step - loss: 6.2740 - mae: 1.6871 - acc: 0.0421\n",
      "Epoch 187/200\n",
      "404/404 [==============================] - 0s 47us/step - loss: 6.3277 - mae: 1.7199 - acc: 0.0347\n",
      "Epoch 188/200\n",
      "404/404 [==============================] - 0s 32us/step - loss: 6.2859 - mae: 1.6920 - acc: 0.0347\n",
      "Epoch 189/200\n",
      "404/404 [==============================] - 0s 29us/step - loss: 6.2620 - mae: 1.6802 - acc: 0.0371\n",
      "Epoch 190/200\n",
      "404/404 [==============================] - 0s 29us/step - loss: 6.2381 - mae: 1.6729 - acc: 0.0347\n",
      "Epoch 191/200\n",
      "404/404 [==============================] - 0s 23us/step - loss: 6.2320 - mae: 1.7125 - acc: 0.0371\n",
      "Epoch 192/200\n",
      "404/404 [==============================] - 0s 21us/step - loss: 6.2489 - mae: 1.6796 - acc: 0.0347\n",
      "Epoch 193/200\n",
      "404/404 [==============================] - 0s 22us/step - loss: 6.2219 - mae: 1.6773 - acc: 0.0347\n",
      "Epoch 194/200\n",
      "404/404 [==============================] - 0s 21us/step - loss: 6.1813 - mae: 1.6917 - acc: 0.0347\n",
      "Epoch 195/200\n",
      "404/404 [==============================] - 0s 23us/step - loss: 6.0994 - mae: 1.6620 - acc: 0.0396\n",
      "Epoch 196/200\n",
      "404/404 [==============================] - 0s 22us/step - loss: 6.0910 - mae: 1.6627 - acc: 0.0347\n",
      "Epoch 197/200\n",
      "404/404 [==============================] - 0s 17us/step - loss: 6.0398 - mae: 1.6538 - acc: 0.0396\n",
      "Epoch 198/200\n",
      "404/404 [==============================] - 0s 15us/step - loss: 6.0412 - mae: 1.6636 - acc: 0.0396\n",
      "Epoch 199/200\n",
      "404/404 [==============================] - 0s 13us/step - loss: 6.0147 - mae: 1.6533 - acc: 0.0347\n",
      "Epoch 200/200\n",
      "404/404 [==============================] - 0s 21us/step - loss: 5.9894 - mae: 1.6448 - acc: 0.0396\n"
     ]
    }
   ],
   "source": [
    "history2a = model2.fit(inputs_train, outputs_train, epochs=200, batch_size = 101)"
   ]
  },
  {
   "cell_type": "code",
   "execution_count": 47,
   "metadata": {},
   "outputs": [
    {
     "name": "stdout",
     "output_type": "stream",
     "text": [
      "This model evaluates as:\n",
      "* Loss: 13.65631326974607\n",
      "* MAE: 2.400183916091919\n",
      "* Accuracy: 0.009803921915590763\n"
     ]
    }
   ],
   "source": [
    "evaluate2a = []\n",
    "evaluator(evaluate2a, model2)"
   ]
  },
  {
   "cell_type": "code",
   "execution_count": 48,
   "metadata": {},
   "outputs": [
    {
     "name": "stdout",
     "output_type": "stream",
     "text": [
      "This model predicts as:\n",
      "* Predicted Value: 20.380373\n",
      "* Actual value: 18.7\n"
     ]
    },
    {
     "name": "stderr",
     "output_type": "stream",
     "text": [
      "C:\\Users\\Peter McGowan\\Anaconda3\\lib\\site-packages\\ipykernel_launcher.py:3: FutureWarning: Method .as_matrix will be removed in a future version. Use .values instead.\n",
      "  This is separate from the ipykernel package so we can avoid doing imports until\n"
     ]
    }
   ],
   "source": [
    "predict2a = []\n",
    "predictor(predict2a, model2)"
   ]
  },
  {
   "cell_type": "markdown",
   "metadata": {},
   "source": [
    "##### Results"
   ]
  },
  {
   "cell_type": "markdown",
   "metadata": {},
   "source": [
    "Deepening the model by adding another hidden layer has helped to increase the accuracy - therefore we can be reasonably confident that deeping the model is effective. "
   ]
  },
  {
   "cell_type": "markdown",
   "metadata": {},
   "source": [
    "#### Third Attempt - Widen"
   ]
  },
  {
   "cell_type": "markdown",
   "metadata": {},
   "source": [
    "We will develop the model more and widen it now by doubling the number of units in each hidden layer."
   ]
  },
  {
   "cell_type": "markdown",
   "metadata": {},
   "source": [
    "##### Construct Model"
   ]
  },
  {
   "cell_type": "code",
   "execution_count": 49,
   "metadata": {
    "scrolled": true
   },
   "outputs": [
    {
     "name": "stdout",
     "output_type": "stream",
     "text": [
      "Model: \"sequential_3\"\n",
      "_________________________________________________________________\n",
      "Layer (type)                 Output Shape              Param #   \n",
      "=================================================================\n",
      "dense_8 (Dense)              (None, 200)               2200      \n",
      "_________________________________________________________________\n",
      "dense_9 (Dense)              (None, 100)               20100     \n",
      "_________________________________________________________________\n",
      "dense_10 (Dense)             (None, 60)                6060      \n",
      "_________________________________________________________________\n",
      "dense_11 (Dense)             (None, 1)                 61        \n",
      "=================================================================\n",
      "Total params: 28,421\n",
      "Trainable params: 28,421\n",
      "Non-trainable params: 0\n",
      "_________________________________________________________________\n"
     ]
    }
   ],
   "source": [
    "model3 = Sequential() \n",
    "\n",
    "model3.add(Dense(units=200, activation='relu', input_dim=10))\n",
    "model3.add(Dense(units=100, activation='relu'))\n",
    "model3.add(Dense(units=60, activation='relu'))\n",
    "model3.add(Dense(units=1))\n",
    "\n",
    "model3.compile(loss='mse', optimizer='adam', metrics=['mae', 'acc'])\n",
    "\n",
    "model3.summary()"
   ]
  },
  {
   "cell_type": "markdown",
   "metadata": {},
   "source": [
    "##### Training"
   ]
  },
  {
   "cell_type": "markdown",
   "metadata": {},
   "source": []
  },
  {
   "cell_type": "code",
   "execution_count": 50,
   "metadata": {
    "scrolled": true
   },
   "outputs": [
    {
     "name": "stdout",
     "output_type": "stream",
     "text": [
      "Epoch 1/200\n",
      "404/404 [==============================] - 0s 663us/step - loss: 583.9097 - mae: 22.3702 - acc: 0.0000e+00\n",
      "Epoch 2/200\n",
      "404/404 [==============================] - 0s 20us/step - loss: 551.8999 - mae: 21.6685 - acc: 0.0000e+00\n",
      "Epoch 3/200\n",
      "404/404 [==============================] - 0s 20us/step - loss: 513.6092 - mae: 20.8013 - acc: 0.0000e+00\n",
      "Epoch 4/200\n",
      "404/404 [==============================] - 0s 21us/step - loss: 463.5626 - mae: 19.6085 - acc: 0.0025\n",
      "Epoch 5/200\n",
      "404/404 [==============================] - 0s 22us/step - loss: 396.7520 - mae: 17.9462 - acc: 0.0000e+00\n",
      "Epoch 6/200\n",
      "404/404 [==============================] - 0s 18us/step - loss: 311.8920 - mae: 15.6655 - acc: 0.0000e+00\n",
      "Epoch 7/200\n",
      "404/404 [==============================] - 0s 17us/step - loss: 217.8621 - mae: 12.7582 - acc: 0.0000e+00\n",
      "Epoch 8/200\n",
      "404/404 [==============================] - 0s 18us/step - loss: 129.4586 - mae: 9.3831 - acc: 0.0000e+00\n",
      "Epoch 9/200\n",
      "404/404 [==============================] - 0s 18us/step - loss: 70.8564 - mae: 6.5807 - acc: 0.0025\n",
      "Epoch 10/200\n",
      "404/404 [==============================] - 0s 17us/step - loss: 66.2309 - mae: 6.1141 - acc: 0.0050\n",
      "Epoch 11/200\n",
      "404/404 [==============================] - 0s 18us/step - loss: 70.8379 - mae: 6.4015 - acc: 0.0050\n",
      "Epoch 12/200\n",
      "404/404 [==============================] - 0s 21us/step - loss: 52.2691 - mae: 5.4377 - acc: 0.0050\n",
      "Epoch 13/200\n",
      "404/404 [==============================] - 0s 17us/step - loss: 36.0393 - mae: 4.4064 - acc: 0.0050\n",
      "Epoch 14/200\n",
      "404/404 [==============================] - 0s 18us/step - loss: 31.8188 - mae: 4.0661 - acc: 0.0149\n",
      "Epoch 15/200\n",
      "404/404 [==============================] - 0s 20us/step - loss: 30.4971 - mae: 3.9656 - acc: 0.0074\n",
      "Epoch 16/200\n",
      "404/404 [==============================] - 0s 20us/step - loss: 26.9021 - mae: 3.7201 - acc: 0.0050\n",
      "Epoch 17/200\n",
      "404/404 [==============================] - 0s 18us/step - loss: 24.0696 - mae: 3.5372 - acc: 0.0099\n",
      "Epoch 18/200\n",
      "404/404 [==============================] - 0s 20us/step - loss: 22.7331 - mae: 3.4855 - acc: 0.0173\n",
      "Epoch 19/200\n",
      "404/404 [==============================] - 0s 18us/step - loss: 22.8165 - mae: 3.5399 - acc: 0.0198\n",
      "Epoch 20/200\n",
      "404/404 [==============================] - 0s 19us/step - loss: 21.8805 - mae: 3.4367 - acc: 0.0149\n",
      "Epoch 21/200\n",
      "404/404 [==============================] - 0s 17us/step - loss: 20.7708 - mae: 3.2599 - acc: 0.0149\n",
      "Epoch 22/200\n",
      "404/404 [==============================] - 0s 21us/step - loss: 20.3222 - mae: 3.1719 - acc: 0.0149\n",
      "Epoch 23/200\n",
      "404/404 [==============================] - 0s 17us/step - loss: 20.0396 - mae: 3.1363 - acc: 0.0099\n",
      "Epoch 24/200\n",
      "404/404 [==============================] - 0s 20us/step - loss: 19.5322 - mae: 3.1151 - acc: 0.0074\n",
      "Epoch 25/200\n",
      "404/404 [==============================] - 0s 18us/step - loss: 19.0353 - mae: 3.1032 - acc: 0.0149\n",
      "Epoch 26/200\n",
      "404/404 [==============================] - 0s 17us/step - loss: 18.7242 - mae: 3.1005 - acc: 0.0149\n",
      "Epoch 27/200\n",
      "404/404 [==============================] - 0s 20us/step - loss: 18.5088 - mae: 3.0883 - acc: 0.0173\n",
      "Epoch 28/200\n",
      "404/404 [==============================] - 0s 18us/step - loss: 18.1602 - mae: 3.0538 - acc: 0.0149\n",
      "Epoch 29/200\n",
      "404/404 [==============================] - 0s 18us/step - loss: 17.8971 - mae: 3.0223 - acc: 0.0149\n",
      "Epoch 30/200\n",
      "404/404 [==============================] - 0s 17us/step - loss: 17.6797 - mae: 3.0003 - acc: 0.0099\n",
      "Epoch 31/200\n",
      "404/404 [==============================] - 0s 18us/step - loss: 17.4460 - mae: 2.9812 - acc: 0.0124\n",
      "Epoch 32/200\n",
      "404/404 [==============================] - 0s 17us/step - loss: 17.2636 - mae: 2.9721 - acc: 0.0124\n",
      "Epoch 33/200\n",
      "404/404 [==============================] - 0s 18us/step - loss: 17.0043 - mae: 2.9506 - acc: 0.0149\n",
      "Epoch 34/200\n",
      "404/404 [==============================] - 0s 17us/step - loss: 16.7965 - mae: 2.9364 - acc: 0.0173\n",
      "Epoch 35/200\n",
      "404/404 [==============================] - 0s 19us/step - loss: 16.6359 - mae: 2.9173 - acc: 0.0149\n",
      "Epoch 36/200\n",
      "404/404 [==============================] - 0s 18us/step - loss: 16.4266 - mae: 2.9017 - acc: 0.0149\n",
      "Epoch 37/200\n",
      "404/404 [==============================] - 0s 17us/step - loss: 16.3118 - mae: 2.8974 - acc: 0.0149\n",
      "Epoch 38/200\n",
      "404/404 [==============================] - 0s 18us/step - loss: 16.1227 - mae: 2.8869 - acc: 0.0124\n",
      "Epoch 39/200\n",
      "404/404 [==============================] - 0s 18us/step - loss: 15.9742 - mae: 2.8657 - acc: 0.0149\n",
      "Epoch 40/200\n",
      "404/404 [==============================] - 0s 17us/step - loss: 15.8533 - mae: 2.8459 - acc: 0.0124\n",
      "Epoch 41/200\n",
      "404/404 [==============================] - 0s 16us/step - loss: 15.6829 - mae: 2.8336 - acc: 0.0124\n",
      "Epoch 42/200\n",
      "404/404 [==============================] - 0s 18us/step - loss: 15.5330 - mae: 2.8234 - acc: 0.0124\n",
      "Epoch 43/200\n",
      "404/404 [==============================] - 0s 18us/step - loss: 15.4169 - mae: 2.8184 - acc: 0.0149\n",
      "Epoch 44/200\n",
      "404/404 [==============================] - 0s 20us/step - loss: 15.3002 - mae: 2.8095 - acc: 0.0124\n",
      "Epoch 45/200\n",
      "404/404 [==============================] - 0s 17us/step - loss: 15.1686 - mae: 2.7934 - acc: 0.0124\n",
      "Epoch 46/200\n",
      "404/404 [==============================] - 0s 18us/step - loss: 15.0727 - mae: 2.7701 - acc: 0.0124\n",
      "Epoch 47/200\n",
      "404/404 [==============================] - 0s 17us/step - loss: 14.9388 - mae: 2.7513 - acc: 0.0124\n",
      "Epoch 48/200\n",
      "404/404 [==============================] - 0s 17us/step - loss: 14.8900 - mae: 2.7633 - acc: 0.0124\n",
      "Epoch 49/200\n",
      "404/404 [==============================] - 0s 17us/step - loss: 14.7255 - mae: 2.7542 - acc: 0.0124\n",
      "Epoch 50/200\n",
      "404/404 [==============================] - 0s 17us/step - loss: 14.6544 - mae: 2.7307 - acc: 0.0124\n",
      "Epoch 51/200\n",
      "404/404 [==============================] - 0s 18us/step - loss: 14.6088 - mae: 2.7249 - acc: 0.0124\n",
      "Epoch 52/200\n",
      "404/404 [==============================] - 0s 17us/step - loss: 14.3848 - mae: 2.7196 - acc: 0.0099\n",
      "Epoch 53/200\n",
      "404/404 [==============================] - 0s 17us/step - loss: 14.2766 - mae: 2.6985 - acc: 0.0099\n",
      "Epoch 54/200\n",
      "404/404 [==============================] - 0s 17us/step - loss: 14.1787 - mae: 2.6807 - acc: 0.0099\n",
      "Epoch 55/200\n",
      "404/404 [==============================] - 0s 17us/step - loss: 14.1403 - mae: 2.6686 - acc: 0.0124\n",
      "Epoch 56/200\n",
      "404/404 [==============================] - 0s 16us/step - loss: 13.9704 - mae: 2.6586 - acc: 0.0124\n",
      "Epoch 57/200\n",
      "404/404 [==============================] - 0s 18us/step - loss: 13.8755 - mae: 2.6630 - acc: 0.0099\n",
      "Epoch 58/200\n",
      "404/404 [==============================] - 0s 17us/step - loss: 13.7851 - mae: 2.6590 - acc: 0.0099\n",
      "Epoch 59/200\n",
      "404/404 [==============================] - 0s 18us/step - loss: 13.6888 - mae: 2.6452 - acc: 0.0099\n",
      "Epoch 60/200\n",
      "404/404 [==============================] - 0s 17us/step - loss: 13.5952 - mae: 2.6162 - acc: 0.0099\n",
      "Epoch 61/200\n",
      "404/404 [==============================] - 0s 17us/step - loss: 13.5522 - mae: 2.5961 - acc: 0.0124\n",
      "Epoch 62/200\n",
      "404/404 [==============================] - 0s 16us/step - loss: 13.4257 - mae: 2.5905 - acc: 0.0099\n",
      "Epoch 63/200\n",
      "404/404 [==============================] - 0s 16us/step - loss: 13.3882 - mae: 2.6048 - acc: 0.0124\n",
      "Epoch 64/200\n",
      "404/404 [==============================] - 0s 18us/step - loss: 13.2512 - mae: 2.5942 - acc: 0.0099\n",
      "Epoch 65/200\n",
      "404/404 [==============================] - 0s 21us/step - loss: 13.2068 - mae: 2.5719 - acc: 0.0099\n",
      "Epoch 66/200\n",
      "404/404 [==============================] - 0s 20us/step - loss: 13.0865 - mae: 2.5499 - acc: 0.0124\n",
      "Epoch 67/200\n",
      "404/404 [==============================] - 0s 21us/step - loss: 12.9988 - mae: 2.5501 - acc: 0.0149\n",
      "Epoch 68/200\n",
      "404/404 [==============================] - 0s 21us/step - loss: 12.8898 - mae: 2.5426 - acc: 0.0099\n",
      "Epoch 69/200\n",
      "404/404 [==============================] - 0s 20us/step - loss: 12.8220 - mae: 2.5307 - acc: 0.0099\n",
      "Epoch 70/200\n",
      "404/404 [==============================] - 0s 20us/step - loss: 12.8185 - mae: 2.5331 - acc: 0.0099\n",
      "Epoch 71/200\n",
      "404/404 [==============================] - 0s 20us/step - loss: 12.6647 - mae: 2.5181 - acc: 0.0124\n",
      "Epoch 72/200\n",
      "404/404 [==============================] - 0s 19us/step - loss: 12.5634 - mae: 2.4917 - acc: 0.0124\n",
      "Epoch 73/200\n",
      "404/404 [==============================] - 0s 20us/step - loss: 12.4613 - mae: 2.4859 - acc: 0.0099\n",
      "Epoch 74/200\n",
      "404/404 [==============================] - 0s 21us/step - loss: 12.4191 - mae: 2.4852 - acc: 0.0124\n",
      "Epoch 75/200\n",
      "404/404 [==============================] - 0s 21us/step - loss: 12.3153 - mae: 2.4843 - acc: 0.0124\n",
      "Epoch 76/200\n",
      "404/404 [==============================] - 0s 22us/step - loss: 12.1901 - mae: 2.4569 - acc: 0.0149\n",
      "Epoch 77/200\n",
      "404/404 [==============================] - 0s 20us/step - loss: 12.1300 - mae: 2.4385 - acc: 0.0124\n",
      "Epoch 78/200\n",
      "404/404 [==============================] - 0s 18us/step - loss: 12.0749 - mae: 2.4241 - acc: 0.0124\n",
      "Epoch 79/200\n",
      "404/404 [==============================] - 0s 21us/step - loss: 11.9958 - mae: 2.4214 - acc: 0.0149\n",
      "Epoch 80/200\n",
      "404/404 [==============================] - 0s 18us/step - loss: 11.8888 - mae: 2.4279 - acc: 0.0099\n",
      "Epoch 81/200\n",
      "404/404 [==============================] - 0s 20us/step - loss: 11.8611 - mae: 2.4303 - acc: 0.0124\n",
      "Epoch 82/200\n",
      "404/404 [==============================] - 0s 20us/step - loss: 11.7213 - mae: 2.3952 - acc: 0.0149\n",
      "Epoch 83/200\n",
      "404/404 [==============================] - 0s 20us/step - loss: 11.6396 - mae: 2.3935 - acc: 0.0198\n",
      "Epoch 84/200\n",
      "404/404 [==============================] - 0s 20us/step - loss: 11.5393 - mae: 2.3860 - acc: 0.0198\n",
      "Epoch 85/200\n",
      "404/404 [==============================] - 0s 22us/step - loss: 11.4483 - mae: 2.3663 - acc: 0.0149\n",
      "Epoch 86/200\n",
      "404/404 [==============================] - 0s 20us/step - loss: 11.3882 - mae: 2.3490 - acc: 0.0124\n",
      "Epoch 87/200\n",
      "404/404 [==============================] - 0s 20us/step - loss: 11.3000 - mae: 2.3470 - acc: 0.0149\n",
      "Epoch 88/200\n",
      "404/404 [==============================] - 0s 21us/step - loss: 11.2368 - mae: 2.3530 - acc: 0.0173\n",
      "Epoch 89/200\n",
      "404/404 [==============================] - 0s 21us/step - loss: 11.1259 - mae: 2.3320 - acc: 0.0149\n",
      "Epoch 90/200\n",
      "404/404 [==============================] - 0s 21us/step - loss: 11.0344 - mae: 2.3140 - acc: 0.0173\n",
      "Epoch 91/200\n",
      "404/404 [==============================] - 0s 17us/step - loss: 10.9726 - mae: 2.3009 - acc: 0.0173\n",
      "Epoch 92/200\n",
      "404/404 [==============================] - 0s 17us/step - loss: 10.9229 - mae: 2.2949 - acc: 0.0198\n",
      "Epoch 93/200\n",
      "404/404 [==============================] - 0s 18us/step - loss: 10.9165 - mae: 2.2912 - acc: 0.0173\n",
      "Epoch 94/200\n",
      "404/404 [==============================] - 0s 17us/step - loss: 10.8133 - mae: 2.2922 - acc: 0.0173\n",
      "Epoch 95/200\n",
      "404/404 [==============================] - 0s 18us/step - loss: 10.6892 - mae: 2.2827 - acc: 0.0198\n",
      "Epoch 96/200\n",
      "404/404 [==============================] - 0s 18us/step - loss: 10.6672 - mae: 2.2598 - acc: 0.0149\n",
      "Epoch 97/200\n",
      "404/404 [==============================] - 0s 21us/step - loss: 10.5608 - mae: 2.2444 - acc: 0.0124\n",
      "Epoch 98/200\n",
      "404/404 [==============================] - 0s 20us/step - loss: 10.4251 - mae: 2.2476 - acc: 0.0198\n",
      "Epoch 99/200\n",
      "404/404 [==============================] - 0s 18us/step - loss: 10.3874 - mae: 2.2372 - acc: 0.0198\n",
      "Epoch 100/200\n",
      "404/404 [==============================] - 0s 20us/step - loss: 10.2998 - mae: 2.2244 - acc: 0.0173\n",
      "Epoch 101/200\n",
      "404/404 [==============================] - 0s 18us/step - loss: 10.3156 - mae: 2.2127 - acc: 0.0173\n",
      "Epoch 102/200\n",
      "404/404 [==============================] - 0s 21us/step - loss: 10.1754 - mae: 2.2016 - acc: 0.0198\n",
      "Epoch 103/200\n",
      "404/404 [==============================] - 0s 20us/step - loss: 10.0942 - mae: 2.2090 - acc: 0.0198\n",
      "Epoch 104/200\n",
      "404/404 [==============================] - 0s 20us/step - loss: 10.0249 - mae: 2.1938 - acc: 0.0198\n",
      "Epoch 105/200\n",
      "404/404 [==============================] - 0s 20us/step - loss: 9.9480 - mae: 2.1691 - acc: 0.0223\n",
      "Epoch 106/200\n",
      "404/404 [==============================] - 0s 20us/step - loss: 9.8703 - mae: 2.1729 - acc: 0.0198\n",
      "Epoch 107/200\n",
      "404/404 [==============================] - 0s 20us/step - loss: 9.7861 - mae: 2.1683 - acc: 0.0173\n",
      "Epoch 108/200\n",
      "404/404 [==============================] - 0s 20us/step - loss: 9.7279 - mae: 2.1576 - acc: 0.0173\n",
      "Epoch 109/200\n",
      "404/404 [==============================] - 0s 18us/step - loss: 9.6349 - mae: 2.1386 - acc: 0.0198\n",
      "Epoch 110/200\n",
      "404/404 [==============================] - 0s 18us/step - loss: 9.6060 - mae: 2.1281 - acc: 0.0198\n",
      "Epoch 111/200\n",
      "404/404 [==============================] - 0s 21us/step - loss: 9.4903 - mae: 2.1258 - acc: 0.0173\n",
      "Epoch 112/200\n",
      "404/404 [==============================] - 0s 20us/step - loss: 9.4847 - mae: 2.1344 - acc: 0.0149\n",
      "Epoch 113/200\n",
      "404/404 [==============================] - 0s 20us/step - loss: 9.3672 - mae: 2.1075 - acc: 0.0149\n",
      "Epoch 114/200\n",
      "404/404 [==============================] - 0s 21us/step - loss: 9.3384 - mae: 2.0914 - acc: 0.0198\n",
      "Epoch 115/200\n",
      "404/404 [==============================] - 0s 21us/step - loss: 9.2665 - mae: 2.1133 - acc: 0.0198\n",
      "Epoch 116/200\n",
      "404/404 [==============================] - 0s 20us/step - loss: 9.1628 - mae: 2.1020 - acc: 0.0248\n",
      "Epoch 117/200\n",
      "404/404 [==============================] - 0s 21us/step - loss: 9.1680 - mae: 2.0760 - acc: 0.0173\n",
      "Epoch 118/200\n",
      "404/404 [==============================] - 0s 22us/step - loss: 9.0134 - mae: 2.0577 - acc: 0.0173\n",
      "Epoch 119/200\n",
      "404/404 [==============================] - 0s 18us/step - loss: 8.9661 - mae: 2.0812 - acc: 0.0223\n",
      "Epoch 120/200\n",
      "404/404 [==============================] - 0s 20us/step - loss: 9.0394 - mae: 2.1057 - acc: 0.0149\n",
      "Epoch 121/200\n",
      "404/404 [==============================] - 0s 20us/step - loss: 8.8714 - mae: 2.0363 - acc: 0.0149\n",
      "Epoch 122/200\n",
      "404/404 [==============================] - 0s 21us/step - loss: 8.8552 - mae: 2.0311 - acc: 0.0248\n",
      "Epoch 123/200\n",
      "404/404 [==============================] - 0s 20us/step - loss: 8.7799 - mae: 2.0613 - acc: 0.0223\n",
      "Epoch 124/200\n",
      "404/404 [==============================] - 0s 21us/step - loss: 8.6613 - mae: 2.0230 - acc: 0.0173\n",
      "Epoch 125/200\n",
      "404/404 [==============================] - 0s 20us/step - loss: 8.6342 - mae: 2.0015 - acc: 0.0272\n",
      "Epoch 126/200\n",
      "404/404 [==============================] - 0s 20us/step - loss: 8.4882 - mae: 2.0070 - acc: 0.0248\n",
      "Epoch 127/200\n",
      "404/404 [==============================] - 0s 20us/step - loss: 8.4540 - mae: 2.0022 - acc: 0.0198\n",
      "Epoch 128/200\n",
      "404/404 [==============================] - 0s 20us/step - loss: 8.3799 - mae: 1.9810 - acc: 0.0223\n",
      "Epoch 129/200\n",
      "404/404 [==============================] - 0s 18us/step - loss: 8.3365 - mae: 1.9870 - acc: 0.0223\n",
      "Epoch 130/200\n",
      "404/404 [==============================] - 0s 20us/step - loss: 8.3344 - mae: 1.9810 - acc: 0.0248\n",
      "Epoch 131/200\n",
      "404/404 [==============================] - 0s 20us/step - loss: 8.2815 - mae: 1.9865 - acc: 0.0272\n",
      "Epoch 132/200\n",
      "404/404 [==============================] - 0s 20us/step - loss: 8.1520 - mae: 1.9613 - acc: 0.0272\n",
      "Epoch 133/200\n",
      "404/404 [==============================] - 0s 18us/step - loss: 8.1294 - mae: 1.9499 - acc: 0.0248\n",
      "Epoch 134/200\n",
      "404/404 [==============================] - 0s 19us/step - loss: 8.1833 - mae: 1.9780 - acc: 0.0248\n",
      "Epoch 135/200\n",
      "404/404 [==============================] - 0s 18us/step - loss: 8.0070 - mae: 1.9486 - acc: 0.0248\n",
      "Epoch 136/200\n",
      "404/404 [==============================] - 0s 20us/step - loss: 7.9678 - mae: 1.9235 - acc: 0.0173\n",
      "Epoch 137/200\n",
      "404/404 [==============================] - 0s 21us/step - loss: 7.9922 - mae: 1.9546 - acc: 0.0223\n",
      "Epoch 138/200\n",
      "404/404 [==============================] - 0s 20us/step - loss: 7.8272 - mae: 1.9330 - acc: 0.0223\n",
      "Epoch 139/200\n",
      "404/404 [==============================] - 0s 20us/step - loss: 7.8620 - mae: 1.9252 - acc: 0.0223\n",
      "Epoch 140/200\n",
      "404/404 [==============================] - 0s 18us/step - loss: 7.7977 - mae: 1.9332 - acc: 0.0248\n",
      "Epoch 141/200\n",
      "404/404 [==============================] - 0s 20us/step - loss: 7.6855 - mae: 1.9068 - acc: 0.0272\n",
      "Epoch 142/200\n",
      "404/404 [==============================] - 0s 19us/step - loss: 7.6725 - mae: 1.8923 - acc: 0.0198\n",
      "Epoch 143/200\n",
      "404/404 [==============================] - 0s 21us/step - loss: 7.5612 - mae: 1.8956 - acc: 0.0248\n",
      "Epoch 144/200\n",
      "404/404 [==============================] - 0s 18us/step - loss: 7.5301 - mae: 1.8893 - acc: 0.0272\n",
      "Epoch 145/200\n",
      "404/404 [==============================] - 0s 18us/step - loss: 7.4956 - mae: 1.8775 - acc: 0.0272\n",
      "Epoch 146/200\n",
      "404/404 [==============================] - 0s 20us/step - loss: 7.4639 - mae: 1.8799 - acc: 0.0248\n",
      "Epoch 147/200\n",
      "404/404 [==============================] - 0s 20us/step - loss: 7.4545 - mae: 1.8781 - acc: 0.0223\n",
      "Epoch 148/200\n",
      "404/404 [==============================] - 0s 21us/step - loss: 7.4681 - mae: 1.8955 - acc: 0.0223\n",
      "Epoch 149/200\n",
      "404/404 [==============================] - 0s 20us/step - loss: 7.3966 - mae: 1.8642 - acc: 0.0272\n",
      "Epoch 150/200\n",
      "404/404 [==============================] - 0s 20us/step - loss: 7.2601 - mae: 1.8399 - acc: 0.0272\n",
      "Epoch 151/200\n",
      "404/404 [==============================] - 0s 20us/step - loss: 7.2925 - mae: 1.8707 - acc: 0.0248\n",
      "Epoch 152/200\n",
      "404/404 [==============================] - 0s 20us/step - loss: 7.2609 - mae: 1.8454 - acc: 0.0248\n",
      "Epoch 153/200\n",
      "404/404 [==============================] - 0s 21us/step - loss: 7.1422 - mae: 1.8256 - acc: 0.0272\n",
      "Epoch 154/200\n",
      "404/404 [==============================] - 0s 20us/step - loss: 7.2238 - mae: 1.8575 - acc: 0.0248\n",
      "Epoch 155/200\n",
      "404/404 [==============================] - 0s 20us/step - loss: 7.0122 - mae: 1.8293 - acc: 0.0198\n",
      "Epoch 156/200\n",
      "404/404 [==============================] - 0s 21us/step - loss: 7.0635 - mae: 1.8335 - acc: 0.0322\n",
      "Epoch 157/200\n",
      "404/404 [==============================] - 0s 20us/step - loss: 6.9741 - mae: 1.8317 - acc: 0.0223\n",
      "Epoch 158/200\n",
      "404/404 [==============================] - 0s 20us/step - loss: 6.9520 - mae: 1.8141 - acc: 0.0223\n",
      "Epoch 159/200\n",
      "404/404 [==============================] - 0s 20us/step - loss: 6.8341 - mae: 1.7976 - acc: 0.0223\n",
      "Epoch 160/200\n",
      "404/404 [==============================] - 0s 19us/step - loss: 6.8351 - mae: 1.7933 - acc: 0.0272\n",
      "Epoch 161/200\n",
      "404/404 [==============================] - 0s 20us/step - loss: 6.7767 - mae: 1.7808 - acc: 0.0272\n",
      "Epoch 162/200\n",
      "404/404 [==============================] - 0s 20us/step - loss: 6.7819 - mae: 1.7979 - acc: 0.0297\n",
      "Epoch 163/200\n",
      "404/404 [==============================] - 0s 18us/step - loss: 6.7096 - mae: 1.7898 - acc: 0.0322\n",
      "Epoch 164/200\n",
      "404/404 [==============================] - 0s 21us/step - loss: 6.7009 - mae: 1.7794 - acc: 0.0297\n",
      "Epoch 165/200\n",
      "404/404 [==============================] - 0s 19us/step - loss: 6.7496 - mae: 1.7813 - acc: 0.0297\n",
      "Epoch 166/200\n",
      "404/404 [==============================] - 0s 21us/step - loss: 6.6278 - mae: 1.7638 - acc: 0.0223\n",
      "Epoch 167/200\n",
      "404/404 [==============================] - 0s 20us/step - loss: 6.8017 - mae: 1.8055 - acc: 0.0248\n",
      "Epoch 168/200\n",
      "404/404 [==============================] - 0s 21us/step - loss: 6.6085 - mae: 1.7717 - acc: 0.0272\n",
      "Epoch 169/200\n",
      "404/404 [==============================] - 0s 21us/step - loss: 6.5492 - mae: 1.7575 - acc: 0.0248\n",
      "Epoch 170/200\n",
      "404/404 [==============================] - 0s 19us/step - loss: 6.4941 - mae: 1.7584 - acc: 0.0297\n",
      "Epoch 171/200\n",
      "404/404 [==============================] - 0s 21us/step - loss: 6.5044 - mae: 1.7457 - acc: 0.0223\n",
      "Epoch 172/200\n",
      "404/404 [==============================] - 0s 18us/step - loss: 6.4060 - mae: 1.7502 - acc: 0.0223\n",
      "Epoch 173/200\n",
      "404/404 [==============================] - 0s 21us/step - loss: 6.4427 - mae: 1.7400 - acc: 0.0272\n",
      "Epoch 174/200\n",
      "404/404 [==============================] - 0s 20us/step - loss: 6.4091 - mae: 1.7397 - acc: 0.0322\n",
      "Epoch 175/200\n",
      "404/404 [==============================] - 0s 21us/step - loss: 6.3781 - mae: 1.7526 - acc: 0.0272\n",
      "Epoch 176/200\n",
      "404/404 [==============================] - 0s 21us/step - loss: 6.3525 - mae: 1.7371 - acc: 0.0248\n",
      "Epoch 177/200\n",
      "404/404 [==============================] - 0s 23us/step - loss: 6.2434 - mae: 1.7206 - acc: 0.0322\n",
      "Epoch 178/200\n",
      "404/404 [==============================] - 0s 19us/step - loss: 6.2551 - mae: 1.7237 - acc: 0.0297\n",
      "Epoch 179/200\n",
      "404/404 [==============================] - 0s 22us/step - loss: 6.1386 - mae: 1.7095 - acc: 0.0297\n",
      "Epoch 180/200\n",
      "404/404 [==============================] - 0s 20us/step - loss: 6.1143 - mae: 1.7002 - acc: 0.0322\n",
      "Epoch 181/200\n",
      "404/404 [==============================] - 0s 19us/step - loss: 6.0478 - mae: 1.6849 - acc: 0.0347\n",
      "Epoch 182/200\n",
      "404/404 [==============================] - 0s 20us/step - loss: 6.0374 - mae: 1.6857 - acc: 0.0371\n",
      "Epoch 183/200\n",
      "404/404 [==============================] - 0s 18us/step - loss: 6.0100 - mae: 1.6804 - acc: 0.0347\n",
      "Epoch 184/200\n",
      "404/404 [==============================] - 0s 21us/step - loss: 6.0118 - mae: 1.6768 - acc: 0.0347\n",
      "Epoch 185/200\n",
      "404/404 [==============================] - 0s 21us/step - loss: 5.9464 - mae: 1.6721 - acc: 0.0347\n",
      "Epoch 186/200\n",
      "404/404 [==============================] - 0s 18us/step - loss: 5.9581 - mae: 1.6764 - acc: 0.0347\n",
      "Epoch 187/200\n",
      "404/404 [==============================] - 0s 18us/step - loss: 6.0927 - mae: 1.6923 - acc: 0.0421\n",
      "Epoch 188/200\n",
      "404/404 [==============================] - 0s 17us/step - loss: 5.8880 - mae: 1.6775 - acc: 0.0371\n",
      "Epoch 189/200\n",
      "404/404 [==============================] - 0s 18us/step - loss: 5.8229 - mae: 1.6610 - acc: 0.0322\n",
      "Epoch 190/200\n",
      "404/404 [==============================] - 0s 16us/step - loss: 5.8432 - mae: 1.6642 - acc: 0.0371\n",
      "Epoch 191/200\n",
      "404/404 [==============================] - 0s 17us/step - loss: 5.9386 - mae: 1.7028 - acc: 0.0272\n",
      "Epoch 192/200\n",
      "404/404 [==============================] - 0s 17us/step - loss: 5.8542 - mae: 1.6678 - acc: 0.0297\n",
      "Epoch 193/200\n",
      "404/404 [==============================] - 0s 16us/step - loss: 5.8726 - mae: 1.6699 - acc: 0.0248\n",
      "Epoch 194/200\n",
      "404/404 [==============================] - 0s 18us/step - loss: 5.6714 - mae: 1.6454 - acc: 0.0421\n",
      "Epoch 195/200\n",
      "404/404 [==============================] - 0s 17us/step - loss: 5.7969 - mae: 1.6613 - acc: 0.0297\n",
      "Epoch 196/200\n",
      "404/404 [==============================] - 0s 18us/step - loss: 5.6102 - mae: 1.6372 - acc: 0.0272\n",
      "Epoch 197/200\n",
      "404/404 [==============================] - 0s 17us/step - loss: 5.7726 - mae: 1.6542 - acc: 0.0421\n",
      "Epoch 198/200\n",
      "404/404 [==============================] - 0s 17us/step - loss: 5.5804 - mae: 1.6310 - acc: 0.0322\n",
      "Epoch 199/200\n",
      "404/404 [==============================] - 0s 16us/step - loss: 5.5476 - mae: 1.6169 - acc: 0.0248\n",
      "Epoch 200/200\n",
      "404/404 [==============================] - 0s 18us/step - loss: 5.4993 - mae: 1.6157 - acc: 0.0322\n"
     ]
    }
   ],
   "source": [
    "history3 = model3.fit(inputs_train, outputs_train, epochs=200, batch_size = 101)"
   ]
  },
  {
   "cell_type": "code",
   "execution_count": 51,
   "metadata": {},
   "outputs": [
    {
     "name": "stdout",
     "output_type": "stream",
     "text": [
      "This model evaluates as:\n",
      "* Loss: 12.932145207535987\n",
      "* MAE: 2.3455002307891846\n",
      "* Accuracy: 0.009803921915590763\n"
     ]
    }
   ],
   "source": [
    "evaluate3 = []\n",
    "evaluator(evaluate3, model3)"
   ]
  },
  {
   "cell_type": "code",
   "execution_count": 52,
   "metadata": {},
   "outputs": [
    {
     "name": "stdout",
     "output_type": "stream",
     "text": [
      "This model predicts as:\n",
      "* Predicted Value: 19.894102\n",
      "* Actual value: 18.7\n"
     ]
    },
    {
     "name": "stderr",
     "output_type": "stream",
     "text": [
      "C:\\Users\\Peter McGowan\\Anaconda3\\lib\\site-packages\\ipykernel_launcher.py:3: FutureWarning: Method .as_matrix will be removed in a future version. Use .values instead.\n",
      "  This is separate from the ipykernel package so we can avoid doing imports until\n"
     ]
    }
   ],
   "source": [
    "predict3 = []\n",
    "predictor(predict3, model3)"
   ]
  },
  {
   "cell_type": "code",
   "execution_count": 53,
   "metadata": {
    "scrolled": true
   },
   "outputs": [
    {
     "name": "stdout",
     "output_type": "stream",
     "text": [
      "Epoch 1/300\n",
      "404/404 [==============================] - 0s 25us/step - loss: 5.5155 - mae: 1.6249 - acc: 0.0371\n",
      "Epoch 2/300\n",
      "404/404 [==============================] - 0s 21us/step - loss: 5.5373 - mae: 1.6181 - acc: 0.0322\n",
      "Epoch 3/300\n",
      "404/404 [==============================] - 0s 18us/step - loss: 5.5574 - mae: 1.6417 - acc: 0.0322\n",
      "Epoch 4/300\n",
      "404/404 [==============================] - 0s 21us/step - loss: 5.4856 - mae: 1.6088 - acc: 0.0421\n",
      "Epoch 5/300\n",
      "404/404 [==============================] - 0s 17us/step - loss: 5.5205 - mae: 1.6427 - acc: 0.0272\n",
      "Epoch 6/300\n",
      "404/404 [==============================] - 0s 20us/step - loss: 5.5295 - mae: 1.6239 - acc: 0.0371\n",
      "Epoch 7/300\n",
      "404/404 [==============================] - 0s 18us/step - loss: 5.4331 - mae: 1.5945 - acc: 0.0347\n",
      "Epoch 8/300\n",
      "404/404 [==============================] - 0s 21us/step - loss: 5.5263 - mae: 1.6344 - acc: 0.0322\n",
      "Epoch 9/300\n",
      "404/404 [==============================] - 0s 18us/step - loss: 5.5540 - mae: 1.6311 - acc: 0.0396\n",
      "Epoch 10/300\n",
      "404/404 [==============================] - 0s 21us/step - loss: 5.4418 - mae: 1.6169 - acc: 0.0272\n",
      "Epoch 11/300\n",
      "404/404 [==============================] - 0s 18us/step - loss: 5.2774 - mae: 1.6143 - acc: 0.0322\n",
      "Epoch 12/300\n",
      "404/404 [==============================] - 0s 18us/step - loss: 5.3269 - mae: 1.5976 - acc: 0.0446\n",
      "Epoch 13/300\n",
      "404/404 [==============================] - 0s 20us/step - loss: 5.3382 - mae: 1.6094 - acc: 0.0248\n",
      "Epoch 14/300\n",
      "404/404 [==============================] - 0s 18us/step - loss: 5.1498 - mae: 1.5736 - acc: 0.0396\n",
      "Epoch 15/300\n",
      "404/404 [==============================] - 0s 17us/step - loss: 5.2727 - mae: 1.5927 - acc: 0.0347\n",
      "Epoch 16/300\n",
      "404/404 [==============================] - 0s 20us/step - loss: 5.3142 - mae: 1.6035 - acc: 0.0248\n",
      "Epoch 17/300\n",
      "404/404 [==============================] - 0s 18us/step - loss: 5.1145 - mae: 1.5667 - acc: 0.0347\n",
      "Epoch 18/300\n",
      "404/404 [==============================] - 0s 18us/step - loss: 5.1579 - mae: 1.5740 - acc: 0.0421\n",
      "Epoch 19/300\n",
      "404/404 [==============================] - 0s 20us/step - loss: 5.2379 - mae: 1.6070 - acc: 0.0248\n",
      "Epoch 20/300\n",
      "404/404 [==============================] - 0s 17us/step - loss: 4.9397 - mae: 1.5234 - acc: 0.0446\n",
      "Epoch 21/300\n",
      "404/404 [==============================] - 0s 20us/step - loss: 4.9616 - mae: 1.5266 - acc: 0.0396\n",
      "Epoch 22/300\n",
      "404/404 [==============================] - 0s 19us/step - loss: 5.0904 - mae: 1.5694 - acc: 0.0248\n",
      "Epoch 23/300\n",
      "404/404 [==============================] - 0s 20us/step - loss: 5.0153 - mae: 1.5531 - acc: 0.0371\n",
      "Epoch 24/300\n",
      "404/404 [==============================] - 0s 19us/step - loss: 5.0178 - mae: 1.5600 - acc: 0.0297\n",
      "Epoch 25/300\n",
      "404/404 [==============================] - 0s 20us/step - loss: 5.0599 - mae: 1.5755 - acc: 0.0371\n",
      "Epoch 26/300\n",
      "404/404 [==============================] - 0s 20us/step - loss: 4.8083 - mae: 1.5157 - acc: 0.0396\n",
      "Epoch 27/300\n",
      "404/404 [==============================] - 0s 20us/step - loss: 4.8858 - mae: 1.5259 - acc: 0.0421\n",
      "Epoch 28/300\n",
      "404/404 [==============================] - 0s 21us/step - loss: 4.7901 - mae: 1.5118 - acc: 0.0371\n",
      "Epoch 29/300\n",
      "404/404 [==============================] - 0s 18us/step - loss: 4.8141 - mae: 1.5190 - acc: 0.0371\n",
      "Epoch 30/300\n",
      "404/404 [==============================] - 0s 18us/step - loss: 4.8154 - mae: 1.5203 - acc: 0.0347\n",
      "Epoch 31/300\n",
      "404/404 [==============================] - 0s 21us/step - loss: 4.7484 - mae: 1.5090 - acc: 0.0297\n",
      "Epoch 32/300\n",
      "404/404 [==============================] - 0s 20us/step - loss: 4.6721 - mae: 1.4963 - acc: 0.0347\n",
      "Epoch 33/300\n",
      "404/404 [==============================] - 0s 21us/step - loss: 4.6470 - mae: 1.4952 - acc: 0.0421\n",
      "Epoch 34/300\n",
      "404/404 [==============================] - 0s 21us/step - loss: 4.6208 - mae: 1.4878 - acc: 0.0347\n",
      "Epoch 35/300\n",
      "404/404 [==============================] - 0s 20us/step - loss: 4.6529 - mae: 1.5003 - acc: 0.0396\n",
      "Epoch 36/300\n",
      "404/404 [==============================] - 0s 21us/step - loss: 4.5646 - mae: 1.4771 - acc: 0.0371\n",
      "Epoch 37/300\n",
      "404/404 [==============================] - 0s 21us/step - loss: 4.4950 - mae: 1.4657 - acc: 0.0347\n",
      "Epoch 38/300\n",
      "404/404 [==============================] - 0s 21us/step - loss: 4.5986 - mae: 1.4852 - acc: 0.0396\n",
      "Epoch 39/300\n",
      "404/404 [==============================] - 0s 18us/step - loss: 4.5139 - mae: 1.4710 - acc: 0.0396\n",
      "Epoch 40/300\n",
      "404/404 [==============================] - 0s 20us/step - loss: 4.4801 - mae: 1.4769 - acc: 0.0421\n",
      "Epoch 41/300\n",
      "404/404 [==============================] - 0s 21us/step - loss: 4.5231 - mae: 1.4743 - acc: 0.0322\n",
      "Epoch 42/300\n",
      "404/404 [==============================] - 0s 19us/step - loss: 4.4449 - mae: 1.4602 - acc: 0.0421\n",
      "Epoch 43/300\n",
      "404/404 [==============================] - 0s 21us/step - loss: 4.5175 - mae: 1.4852 - acc: 0.0347\n",
      "Epoch 44/300\n",
      "404/404 [==============================] - 0s 22us/step - loss: 4.4286 - mae: 1.4635 - acc: 0.0446\n",
      "Epoch 45/300\n",
      "404/404 [==============================] - 0s 18us/step - loss: 4.3495 - mae: 1.4546 - acc: 0.0421\n",
      "Epoch 46/300\n",
      "404/404 [==============================] - 0s 20us/step - loss: 4.4265 - mae: 1.4576 - acc: 0.0322\n",
      "Epoch 47/300\n",
      "404/404 [==============================] - 0s 20us/step - loss: 4.4849 - mae: 1.4900 - acc: 0.0322\n",
      "Epoch 48/300\n",
      "404/404 [==============================] - 0s 20us/step - loss: 4.4682 - mae: 1.4611 - acc: 0.0470\n",
      "Epoch 49/300\n",
      "404/404 [==============================] - 0s 20us/step - loss: 4.4306 - mae: 1.4618 - acc: 0.0347\n",
      "Epoch 50/300\n",
      "404/404 [==============================] - 0s 21us/step - loss: 4.2980 - mae: 1.4211 - acc: 0.0396\n",
      "Epoch 51/300\n",
      "404/404 [==============================] - 0s 20us/step - loss: 4.2930 - mae: 1.4317 - acc: 0.0297\n",
      "Epoch 52/300\n",
      "404/404 [==============================] - 0s 22us/step - loss: 4.1846 - mae: 1.4303 - acc: 0.0396\n",
      "Epoch 53/300\n",
      "404/404 [==============================] - 0s 19us/step - loss: 4.1701 - mae: 1.4187 - acc: 0.0470\n",
      "Epoch 54/300\n",
      "404/404 [==============================] - 0s 20us/step - loss: 4.1456 - mae: 1.4061 - acc: 0.0470\n",
      "Epoch 55/300\n",
      "404/404 [==============================] - 0s 21us/step - loss: 4.1496 - mae: 1.4188 - acc: 0.0322\n",
      "Epoch 56/300\n",
      "404/404 [==============================] - 0s 21us/step - loss: 4.2547 - mae: 1.4487 - acc: 0.0371\n",
      "Epoch 57/300\n",
      "404/404 [==============================] - 0s 22us/step - loss: 4.1505 - mae: 1.4283 - acc: 0.0446\n",
      "Epoch 58/300\n",
      "404/404 [==============================] - 0s 20us/step - loss: 4.0585 - mae: 1.4099 - acc: 0.0347\n",
      "Epoch 59/300\n",
      "404/404 [==============================] - 0s 19us/step - loss: 4.0697 - mae: 1.3972 - acc: 0.0371\n",
      "Epoch 60/300\n",
      "404/404 [==============================] - 0s 21us/step - loss: 4.0555 - mae: 1.3944 - acc: 0.0495\n",
      "Epoch 61/300\n",
      "404/404 [==============================] - 0s 20us/step - loss: 4.0902 - mae: 1.4080 - acc: 0.0396\n",
      "Epoch 62/300\n",
      "404/404 [==============================] - 0s 21us/step - loss: 3.9914 - mae: 1.3908 - acc: 0.0371\n",
      "Epoch 63/300\n",
      "404/404 [==============================] - 0s 20us/step - loss: 3.9839 - mae: 1.3892 - acc: 0.0347\n",
      "Epoch 64/300\n",
      "404/404 [==============================] - 0s 20us/step - loss: 3.9323 - mae: 1.3714 - acc: 0.0421\n",
      "Epoch 65/300\n",
      "404/404 [==============================] - 0s 18us/step - loss: 3.9618 - mae: 1.3829 - acc: 0.0371\n",
      "Epoch 66/300\n",
      "404/404 [==============================] - 0s 20us/step - loss: 3.9071 - mae: 1.3707 - acc: 0.0297\n",
      "Epoch 67/300\n",
      "404/404 [==============================] - 0s 21us/step - loss: 3.8943 - mae: 1.3698 - acc: 0.0371\n",
      "Epoch 68/300\n",
      "404/404 [==============================] - 0s 18us/step - loss: 3.9581 - mae: 1.3848 - acc: 0.0371\n",
      "Epoch 69/300\n",
      "404/404 [==============================] - 0s 20us/step - loss: 3.8778 - mae: 1.3690 - acc: 0.0371\n",
      "Epoch 70/300\n",
      "404/404 [==============================] - 0s 18us/step - loss: 3.9195 - mae: 1.3793 - acc: 0.0322\n",
      "Epoch 71/300\n",
      "404/404 [==============================] - 0s 22us/step - loss: 3.9256 - mae: 1.3896 - acc: 0.0396\n",
      "Epoch 72/300\n",
      "404/404 [==============================] - 0s 21us/step - loss: 3.9072 - mae: 1.4037 - acc: 0.0347\n",
      "Epoch 73/300\n",
      "404/404 [==============================] - 0s 19us/step - loss: 3.8972 - mae: 1.3531 - acc: 0.0421\n",
      "Epoch 74/300\n",
      "404/404 [==============================] - 0s 21us/step - loss: 3.8583 - mae: 1.3762 - acc: 0.0322\n",
      "Epoch 75/300\n",
      "404/404 [==============================] - 0s 18us/step - loss: 3.9992 - mae: 1.4307 - acc: 0.0297\n",
      "Epoch 76/300\n",
      "404/404 [==============================] - 0s 22us/step - loss: 4.0468 - mae: 1.4214 - acc: 0.0421\n",
      "Epoch 77/300\n",
      "404/404 [==============================] - 0s 19us/step - loss: 3.9187 - mae: 1.3959 - acc: 0.0347\n",
      "Epoch 78/300\n",
      "404/404 [==============================] - 0s 21us/step - loss: 3.7664 - mae: 1.3507 - acc: 0.0396\n",
      "Epoch 79/300\n",
      "404/404 [==============================] - 0s 21us/step - loss: 3.7367 - mae: 1.3503 - acc: 0.0347\n",
      "Epoch 80/300\n",
      "404/404 [==============================] - ETA: 0s - loss: 4.5783 - mae: 1.3052 - acc: 0.059 - 0s 21us/step - loss: 3.6776 - mae: 1.3356 - acc: 0.0371\n",
      "Epoch 81/300\n",
      "404/404 [==============================] - 0s 20us/step - loss: 3.6485 - mae: 1.3294 - acc: 0.0322\n",
      "Epoch 82/300\n",
      "404/404 [==============================] - 0s 20us/step - loss: 3.6475 - mae: 1.3342 - acc: 0.0347\n",
      "Epoch 83/300\n",
      "404/404 [==============================] - 0s 21us/step - loss: 3.6724 - mae: 1.3393 - acc: 0.0347\n",
      "Epoch 84/300\n",
      "404/404 [==============================] - 0s 20us/step - loss: 3.5798 - mae: 1.3247 - acc: 0.0371\n",
      "Epoch 85/300\n",
      "404/404 [==============================] - 0s 18us/step - loss: 3.5596 - mae: 1.3164 - acc: 0.0347\n",
      "Epoch 86/300\n",
      "404/404 [==============================] - 0s 20us/step - loss: 3.5193 - mae: 1.3040 - acc: 0.0421\n",
      "Epoch 87/300\n",
      "404/404 [==============================] - 0s 22us/step - loss: 3.5524 - mae: 1.3150 - acc: 0.0297\n",
      "Epoch 88/300\n",
      "404/404 [==============================] - 0s 18us/step - loss: 3.5861 - mae: 1.3130 - acc: 0.0347\n",
      "Epoch 89/300\n",
      "404/404 [==============================] - 0s 20us/step - loss: 3.7157 - mae: 1.3716 - acc: 0.0371\n",
      "Epoch 90/300\n",
      "404/404 [==============================] - 0s 20us/step - loss: 3.7722 - mae: 1.3794 - acc: 0.0446\n",
      "Epoch 91/300\n",
      "404/404 [==============================] - 0s 20us/step - loss: 3.7863 - mae: 1.3720 - acc: 0.0347\n",
      "Epoch 92/300\n",
      "404/404 [==============================] - 0s 20us/step - loss: 3.6660 - mae: 1.3318 - acc: 0.0421\n",
      "Epoch 93/300\n",
      "404/404 [==============================] - 0s 20us/step - loss: 3.6673 - mae: 1.3252 - acc: 0.0371\n",
      "Epoch 94/300\n",
      "404/404 [==============================] - 0s 19us/step - loss: 3.6708 - mae: 1.3681 - acc: 0.0297\n",
      "Epoch 95/300\n",
      "404/404 [==============================] - 0s 21us/step - loss: 3.4808 - mae: 1.3041 - acc: 0.0371\n",
      "Epoch 96/300\n",
      "404/404 [==============================] - 0s 21us/step - loss: 3.4100 - mae: 1.2921 - acc: 0.0322\n",
      "Epoch 97/300\n",
      "404/404 [==============================] - 0s 21us/step - loss: 3.4505 - mae: 1.2967 - acc: 0.0396\n",
      "Epoch 98/300\n",
      "404/404 [==============================] - 0s 18us/step - loss: 3.3465 - mae: 1.2696 - acc: 0.0371\n",
      "Epoch 99/300\n",
      "404/404 [==============================] - 0s 21us/step - loss: 3.3633 - mae: 1.2716 - acc: 0.0421\n",
      "Epoch 100/300\n",
      "404/404 [==============================] - 0s 21us/step - loss: 3.3709 - mae: 1.2946 - acc: 0.0347\n",
      "Epoch 101/300\n",
      "404/404 [==============================] - 0s 20us/step - loss: 3.3603 - mae: 1.2821 - acc: 0.0371\n",
      "Epoch 102/300\n",
      "404/404 [==============================] - 0s 21us/step - loss: 3.2745 - mae: 1.2542 - acc: 0.0322\n",
      "Epoch 103/300\n",
      "404/404 [==============================] - 0s 20us/step - loss: 3.2544 - mae: 1.2481 - acc: 0.0446\n",
      "Epoch 104/300\n",
      "404/404 [==============================] - 0s 21us/step - loss: 3.2002 - mae: 1.2352 - acc: 0.0396\n",
      "Epoch 105/300\n",
      "404/404 [==============================] - 0s 20us/step - loss: 3.2402 - mae: 1.2595 - acc: 0.0322\n",
      "Epoch 106/300\n",
      "404/404 [==============================] - 0s 21us/step - loss: 3.2227 - mae: 1.2460 - acc: 0.0396\n",
      "Epoch 107/300\n",
      "404/404 [==============================] - 0s 20us/step - loss: 3.2077 - mae: 1.2471 - acc: 0.0371\n",
      "Epoch 108/300\n",
      "404/404 [==============================] - 0s 22us/step - loss: 3.2560 - mae: 1.2468 - acc: 0.0421\n",
      "Epoch 109/300\n",
      "404/404 [==============================] - 0s 25us/step - loss: 3.3539 - mae: 1.2856 - acc: 0.0421\n",
      "Epoch 110/300\n",
      "404/404 [==============================] - 0s 21us/step - loss: 3.2220 - mae: 1.2673 - acc: 0.0347\n",
      "Epoch 111/300\n",
      "404/404 [==============================] - 0s 18us/step - loss: 3.1851 - mae: 1.2446 - acc: 0.0396\n",
      "Epoch 112/300\n",
      "404/404 [==============================] - 0s 20us/step - loss: 3.0949 - mae: 1.2170 - acc: 0.0421\n",
      "Epoch 113/300\n",
      "404/404 [==============================] - 0s 21us/step - loss: 3.2208 - mae: 1.2574 - acc: 0.0347\n",
      "Epoch 114/300\n",
      "404/404 [==============================] - 0s 18us/step - loss: 3.1015 - mae: 1.2323 - acc: 0.0421\n",
      "Epoch 115/300\n",
      "404/404 [==============================] - 0s 21us/step - loss: 3.2749 - mae: 1.2848 - acc: 0.0421\n",
      "Epoch 116/300\n",
      "404/404 [==============================] - 0s 20us/step - loss: 3.3893 - mae: 1.2931 - acc: 0.0495\n",
      "Epoch 117/300\n",
      "404/404 [==============================] - 0s 20us/step - loss: 3.2125 - mae: 1.2462 - acc: 0.0396\n",
      "Epoch 118/300\n",
      "404/404 [==============================] - 0s 20us/step - loss: 3.0569 - mae: 1.2142 - acc: 0.0569\n",
      "Epoch 119/300\n",
      "404/404 [==============================] - 0s 20us/step - loss: 3.1023 - mae: 1.2275 - acc: 0.0421\n",
      "Epoch 120/300\n",
      "404/404 [==============================] - 0s 20us/step - loss: 3.0952 - mae: 1.2231 - acc: 0.0396\n",
      "Epoch 121/300\n",
      "404/404 [==============================] - 0s 20us/step - loss: 3.0544 - mae: 1.2110 - acc: 0.0347\n",
      "Epoch 122/300\n",
      "404/404 [==============================] - 0s 20us/step - loss: 3.0214 - mae: 1.2046 - acc: 0.0371\n",
      "Epoch 123/300\n",
      "404/404 [==============================] - 0s 20us/step - loss: 2.9848 - mae: 1.1893 - acc: 0.0421\n",
      "Epoch 124/300\n",
      "404/404 [==============================] - 0s 20us/step - loss: 3.0957 - mae: 1.2320 - acc: 0.0470\n",
      "Epoch 125/300\n",
      "404/404 [==============================] - 0s 20us/step - loss: 3.0946 - mae: 1.2282 - acc: 0.0421\n",
      "Epoch 126/300\n",
      "404/404 [==============================] - 0s 19us/step - loss: 2.9436 - mae: 1.2023 - acc: 0.0446\n",
      "Epoch 127/300\n",
      "404/404 [==============================] - 0s 21us/step - loss: 3.0501 - mae: 1.2155 - acc: 0.0446\n",
      "Epoch 128/300\n",
      "404/404 [==============================] - 0s 21us/step - loss: 3.0115 - mae: 1.2105 - acc: 0.0470\n",
      "Epoch 129/300\n",
      "404/404 [==============================] - 0s 20us/step - loss: 2.8850 - mae: 1.1653 - acc: 0.0520\n",
      "Epoch 130/300\n",
      "404/404 [==============================] - 0s 22us/step - loss: 2.9334 - mae: 1.1952 - acc: 0.0446\n",
      "Epoch 131/300\n",
      "404/404 [==============================] - 0s 21us/step - loss: 2.9553 - mae: 1.1951 - acc: 0.0520\n",
      "Epoch 132/300\n",
      "404/404 [==============================] - 0s 20us/step - loss: 2.9399 - mae: 1.1944 - acc: 0.0396\n",
      "Epoch 133/300\n",
      "404/404 [==============================] - 0s 18us/step - loss: 2.9199 - mae: 1.1892 - acc: 0.0347\n",
      "Epoch 134/300\n",
      "404/404 [==============================] - 0s 20us/step - loss: 2.8114 - mae: 1.1542 - acc: 0.0569\n",
      "Epoch 135/300\n",
      "404/404 [==============================] - 0s 20us/step - loss: 2.8205 - mae: 1.1596 - acc: 0.0495\n",
      "Epoch 136/300\n",
      "404/404 [==============================] - 0s 21us/step - loss: 2.7980 - mae: 1.1556 - acc: 0.0446\n",
      "Epoch 137/300\n",
      "404/404 [==============================] - 0s 20us/step - loss: 2.8342 - mae: 1.1658 - acc: 0.0520\n",
      "Epoch 138/300\n",
      "404/404 [==============================] - 0s 19us/step - loss: 2.7746 - mae: 1.1375 - acc: 0.0520\n",
      "Epoch 139/300\n",
      "404/404 [==============================] - 0s 19us/step - loss: 2.8137 - mae: 1.1637 - acc: 0.0470\n",
      "Epoch 140/300\n",
      "404/404 [==============================] - 0s 20us/step - loss: 2.7607 - mae: 1.1517 - acc: 0.0446\n",
      "Epoch 141/300\n",
      "404/404 [==============================] - 0s 21us/step - loss: 2.7972 - mae: 1.1639 - acc: 0.0396\n",
      "Epoch 142/300\n",
      "404/404 [==============================] - 0s 21us/step - loss: 2.7226 - mae: 1.1408 - acc: 0.0495\n",
      "Epoch 143/300\n",
      "404/404 [==============================] - 0s 19us/step - loss: 2.7438 - mae: 1.1408 - acc: 0.0569\n",
      "Epoch 144/300\n",
      "404/404 [==============================] - 0s 20us/step - loss: 2.7218 - mae: 1.1384 - acc: 0.0421\n",
      "Epoch 145/300\n",
      "404/404 [==============================] - 0s 21us/step - loss: 2.6933 - mae: 1.1341 - acc: 0.0495\n",
      "Epoch 146/300\n",
      "404/404 [==============================] - 0s 20us/step - loss: 2.7283 - mae: 1.1335 - acc: 0.0594\n",
      "Epoch 147/300\n",
      "404/404 [==============================] - 0s 18us/step - loss: 2.7077 - mae: 1.1403 - acc: 0.0545\n",
      "Epoch 148/300\n",
      "404/404 [==============================] - 0s 20us/step - loss: 2.7680 - mae: 1.1716 - acc: 0.0470\n",
      "Epoch 149/300\n",
      "404/404 [==============================] - 0s 22us/step - loss: 2.7353 - mae: 1.1588 - acc: 0.0470\n",
      "Epoch 150/300\n",
      "404/404 [==============================] - 0s 19us/step - loss: 2.6749 - mae: 1.1406 - acc: 0.0470\n",
      "Epoch 151/300\n",
      "404/404 [==============================] - 0s 19us/step - loss: 2.6795 - mae: 1.1225 - acc: 0.0569\n",
      "Epoch 152/300\n",
      "404/404 [==============================] - 0s 20us/step - loss: 2.7127 - mae: 1.1529 - acc: 0.0470\n",
      "Epoch 153/300\n",
      "404/404 [==============================] - 0s 18us/step - loss: 2.6790 - mae: 1.1487 - acc: 0.0470\n",
      "Epoch 154/300\n",
      "404/404 [==============================] - 0s 20us/step - loss: 2.6547 - mae: 1.1462 - acc: 0.0446\n",
      "Epoch 155/300\n",
      "404/404 [==============================] - 0s 20us/step - loss: 2.7316 - mae: 1.1661 - acc: 0.0446\n",
      "Epoch 156/300\n",
      "404/404 [==============================] - 0s 20us/step - loss: 2.7472 - mae: 1.1651 - acc: 0.0470\n",
      "Epoch 157/300\n",
      "404/404 [==============================] - 0s 21us/step - loss: 2.5945 - mae: 1.1301 - acc: 0.0569\n",
      "Epoch 158/300\n",
      "404/404 [==============================] - 0s 20us/step - loss: 2.7583 - mae: 1.1757 - acc: 0.0520\n",
      "Epoch 159/300\n",
      "404/404 [==============================] - 0s 20us/step - loss: 2.7211 - mae: 1.1683 - acc: 0.0396\n",
      "Epoch 160/300\n",
      "404/404 [==============================] - 0s 20us/step - loss: 2.6835 - mae: 1.1236 - acc: 0.0594\n",
      "Epoch 161/300\n",
      "404/404 [==============================] - 0s 20us/step - loss: 2.5763 - mae: 1.1222 - acc: 0.0520\n",
      "Epoch 162/300\n",
      "404/404 [==============================] - 0s 21us/step - loss: 2.5353 - mae: 1.1084 - acc: 0.0495\n",
      "Epoch 163/300\n",
      "404/404 [==============================] - 0s 20us/step - loss: 2.6062 - mae: 1.1272 - acc: 0.0446\n",
      "Epoch 164/300\n",
      "404/404 [==============================] - 0s 22us/step - loss: 2.5975 - mae: 1.1248 - acc: 0.0446\n",
      "Epoch 165/300\n",
      "404/404 [==============================] - 0s 20us/step - loss: 2.4963 - mae: 1.0960 - acc: 0.0619\n",
      "Epoch 166/300\n",
      "404/404 [==============================] - 0s 20us/step - loss: 2.5333 - mae: 1.1022 - acc: 0.0644\n",
      "Epoch 167/300\n",
      "404/404 [==============================] - 0s 20us/step - loss: 2.4825 - mae: 1.0835 - acc: 0.0569\n",
      "Epoch 168/300\n",
      "404/404 [==============================] - 0s 20us/step - loss: 2.4521 - mae: 1.0746 - acc: 0.0594\n",
      "Epoch 169/300\n",
      "404/404 [==============================] - 0s 18us/step - loss: 2.4329 - mae: 1.0939 - acc: 0.0520\n",
      "Epoch 170/300\n",
      "404/404 [==============================] - 0s 19us/step - loss: 2.5019 - mae: 1.0972 - acc: 0.0520\n",
      "Epoch 171/300\n",
      "404/404 [==============================] - 0s 18us/step - loss: 2.4424 - mae: 1.0743 - acc: 0.0545\n",
      "Epoch 172/300\n",
      "404/404 [==============================] - 0s 19us/step - loss: 2.3790 - mae: 1.0716 - acc: 0.0520\n",
      "Epoch 173/300\n",
      "404/404 [==============================] - 0s 22us/step - loss: 2.3657 - mae: 1.0637 - acc: 0.0644\n",
      "Epoch 174/300\n",
      "404/404 [==============================] - 0s 21us/step - loss: 2.4298 - mae: 1.0649 - acc: 0.0495\n",
      "Epoch 175/300\n",
      "404/404 [==============================] - 0s 21us/step - loss: 2.4513 - mae: 1.0997 - acc: 0.0545\n",
      "Epoch 176/300\n",
      "404/404 [==============================] - 0s 20us/step - loss: 2.5205 - mae: 1.1011 - acc: 0.0594\n",
      "Epoch 177/300\n",
      "404/404 [==============================] - 0s 20us/step - loss: 2.5454 - mae: 1.1451 - acc: 0.0569\n",
      "Epoch 178/300\n",
      "404/404 [==============================] - 0s 21us/step - loss: 2.5174 - mae: 1.1242 - acc: 0.0396\n",
      "Epoch 179/300\n",
      "404/404 [==============================] - 0s 18us/step - loss: 2.6705 - mae: 1.1523 - acc: 0.0545\n",
      "Epoch 180/300\n",
      "404/404 [==============================] - 0s 20us/step - loss: 2.3137 - mae: 1.0560 - acc: 0.0569\n",
      "Epoch 181/300\n",
      "404/404 [==============================] - 0s 20us/step - loss: 2.3317 - mae: 1.0688 - acc: 0.0470\n",
      "Epoch 182/300\n",
      "404/404 [==============================] - 0s 20us/step - loss: 2.3008 - mae: 1.0583 - acc: 0.0619\n",
      "Epoch 183/300\n",
      "404/404 [==============================] - 0s 18us/step - loss: 2.3417 - mae: 1.0708 - acc: 0.0569\n",
      "Epoch 184/300\n",
      "404/404 [==============================] - 0s 20us/step - loss: 2.3997 - mae: 1.0872 - acc: 0.0520\n",
      "Epoch 185/300\n",
      "404/404 [==============================] - 0s 20us/step - loss: 2.3614 - mae: 1.0709 - acc: 0.0446\n",
      "Epoch 186/300\n",
      "404/404 [==============================] - 0s 18us/step - loss: 2.3426 - mae: 1.0572 - acc: 0.0520\n",
      "Epoch 187/300\n",
      "404/404 [==============================] - 0s 20us/step - loss: 2.2463 - mae: 1.0360 - acc: 0.0594\n",
      "Epoch 188/300\n",
      "404/404 [==============================] - 0s 18us/step - loss: 2.2330 - mae: 1.0307 - acc: 0.0569\n",
      "Epoch 189/300\n",
      "404/404 [==============================] - 0s 21us/step - loss: 2.3094 - mae: 1.0447 - acc: 0.0594\n",
      "Epoch 190/300\n",
      "404/404 [==============================] - 0s 21us/step - loss: 2.2519 - mae: 1.0293 - acc: 0.0619\n",
      "Epoch 191/300\n",
      "404/404 [==============================] - 0s 18us/step - loss: 2.3148 - mae: 1.0532 - acc: 0.0569\n",
      "Epoch 192/300\n",
      "404/404 [==============================] - 0s 21us/step - loss: 2.3170 - mae: 1.0603 - acc: 0.0569\n",
      "Epoch 193/300\n",
      "404/404 [==============================] - 0s 20us/step - loss: 2.1893 - mae: 1.0267 - acc: 0.0520\n",
      "Epoch 194/300\n",
      "404/404 [==============================] - 0s 21us/step - loss: 2.2119 - mae: 1.0304 - acc: 0.0718\n",
      "Epoch 195/300\n",
      "404/404 [==============================] - 0s 20us/step - loss: 2.1740 - mae: 1.0301 - acc: 0.0520\n",
      "Epoch 196/300\n",
      "404/404 [==============================] - 0s 21us/step - loss: 2.1866 - mae: 1.0265 - acc: 0.0594\n",
      "Epoch 197/300\n",
      "404/404 [==============================] - 0s 21us/step - loss: 2.2456 - mae: 1.0302 - acc: 0.0619\n",
      "Epoch 198/300\n",
      "404/404 [==============================] - 0s 20us/step - loss: 2.1741 - mae: 1.0285 - acc: 0.0495\n",
      "Epoch 199/300\n",
      "404/404 [==============================] - 0s 21us/step - loss: 2.2160 - mae: 1.0508 - acc: 0.0569\n",
      "Epoch 200/300\n",
      "404/404 [==============================] - 0s 22us/step - loss: 2.3175 - mae: 1.0752 - acc: 0.0470\n",
      "Epoch 201/300\n",
      "404/404 [==============================] - 0s 19us/step - loss: 2.5169 - mae: 1.1268 - acc: 0.0495\n",
      "Epoch 202/300\n",
      "404/404 [==============================] - 0s 21us/step - loss: 2.2997 - mae: 1.0776 - acc: 0.0594\n",
      "Epoch 203/300\n",
      "404/404 [==============================] - 0s 21us/step - loss: 2.5595 - mae: 1.1632 - acc: 0.0421\n",
      "Epoch 204/300\n",
      "404/404 [==============================] - 0s 20us/step - loss: 2.4342 - mae: 1.1017 - acc: 0.0396\n",
      "Epoch 205/300\n",
      "404/404 [==============================] - 0s 20us/step - loss: 2.1333 - mae: 1.0029 - acc: 0.0594\n",
      "Epoch 206/300\n",
      "404/404 [==============================] - 0s 18us/step - loss: 2.1642 - mae: 1.0529 - acc: 0.0520\n",
      "Epoch 207/300\n",
      "404/404 [==============================] - 0s 20us/step - loss: 2.1126 - mae: 1.0119 - acc: 0.0545\n",
      "Epoch 208/300\n",
      "404/404 [==============================] - 0s 19us/step - loss: 2.0697 - mae: 0.9829 - acc: 0.0644\n",
      "Epoch 209/300\n",
      "404/404 [==============================] - 0s 22us/step - loss: 2.0522 - mae: 1.0004 - acc: 0.0569\n",
      "Epoch 210/300\n",
      "404/404 [==============================] - 0s 20us/step - loss: 2.0894 - mae: 1.0035 - acc: 0.0619\n",
      "Epoch 211/300\n",
      "404/404 [==============================] - 0s 20us/step - loss: 2.0716 - mae: 0.9899 - acc: 0.0495\n",
      "Epoch 212/300\n",
      "404/404 [==============================] - 0s 19us/step - loss: 2.0325 - mae: 0.9766 - acc: 0.0693\n",
      "Epoch 213/300\n",
      "404/404 [==============================] - 0s 18us/step - loss: 2.1136 - mae: 1.0091 - acc: 0.0718\n",
      "Epoch 214/300\n",
      "404/404 [==============================] - 0s 20us/step - loss: 2.2131 - mae: 1.0226 - acc: 0.0594\n",
      "Epoch 215/300\n",
      "404/404 [==============================] - 0s 20us/step - loss: 2.2298 - mae: 1.0605 - acc: 0.0569\n",
      "Epoch 216/300\n",
      "404/404 [==============================] - 0s 20us/step - loss: 2.2506 - mae: 1.0290 - acc: 0.0446\n",
      "Epoch 217/300\n",
      "404/404 [==============================] - 0s 20us/step - loss: 2.1570 - mae: 1.0267 - acc: 0.0668\n",
      "Epoch 218/300\n",
      "404/404 [==============================] - 0s 20us/step - loss: 2.3350 - mae: 1.0707 - acc: 0.0421\n",
      "Epoch 219/300\n",
      "404/404 [==============================] - 0s 20us/step - loss: 2.1663 - mae: 1.0338 - acc: 0.0545\n",
      "Epoch 220/300\n",
      "404/404 [==============================] - 0s 21us/step - loss: 1.9664 - mae: 0.9712 - acc: 0.0718\n",
      "Epoch 221/300\n",
      "404/404 [==============================] - 0s 21us/step - loss: 2.0841 - mae: 1.0028 - acc: 0.0446\n",
      "Epoch 222/300\n",
      "404/404 [==============================] - 0s 21us/step - loss: 2.1025 - mae: 1.0408 - acc: 0.0569\n",
      "Epoch 223/300\n",
      "404/404 [==============================] - 0s 20us/step - loss: 1.9965 - mae: 0.9908 - acc: 0.0545\n",
      "Epoch 224/300\n",
      "404/404 [==============================] - 0s 20us/step - loss: 1.9640 - mae: 0.9751 - acc: 0.0495\n",
      "Epoch 225/300\n",
      "404/404 [==============================] - 0s 18us/step - loss: 2.0005 - mae: 0.9851 - acc: 0.0594\n",
      "Epoch 226/300\n",
      "404/404 [==============================] - 0s 22us/step - loss: 1.9774 - mae: 0.9769 - acc: 0.0520\n",
      "Epoch 227/300\n",
      "404/404 [==============================] - 0s 21us/step - loss: 1.9909 - mae: 0.9985 - acc: 0.0569\n",
      "Epoch 228/300\n",
      "404/404 [==============================] - 0s 22us/step - loss: 1.9958 - mae: 0.9940 - acc: 0.0594\n",
      "Epoch 229/300\n",
      "404/404 [==============================] - 0s 18us/step - loss: 1.9287 - mae: 0.9670 - acc: 0.0545\n",
      "Epoch 230/300\n",
      "404/404 [==============================] - 0s 21us/step - loss: 1.8610 - mae: 0.9343 - acc: 0.0693\n",
      "Epoch 231/300\n",
      "404/404 [==============================] - 0s 20us/step - loss: 1.8625 - mae: 0.9483 - acc: 0.0594\n",
      "Epoch 232/300\n",
      "404/404 [==============================] - 0s 21us/step - loss: 2.1785 - mae: 1.0211 - acc: 0.0495\n",
      "Epoch 233/300\n",
      "404/404 [==============================] - 0s 21us/step - loss: 2.2280 - mae: 1.0720 - acc: 0.0545\n",
      "Epoch 234/300\n",
      "404/404 [==============================] - 0s 20us/step - loss: 2.2194 - mae: 1.0677 - acc: 0.0470\n",
      "Epoch 235/300\n",
      "404/404 [==============================] - 0s 20us/step - loss: 2.1257 - mae: 1.0481 - acc: 0.0347\n",
      "Epoch 236/300\n",
      "404/404 [==============================] - 0s 18us/step - loss: 2.0618 - mae: 1.0327 - acc: 0.0569\n",
      "Epoch 237/300\n",
      "404/404 [==============================] - 0s 20us/step - loss: 2.0044 - mae: 1.0097 - acc: 0.0520\n",
      "Epoch 238/300\n",
      "404/404 [==============================] - 0s 21us/step - loss: 2.0086 - mae: 0.9847 - acc: 0.0594\n",
      "Epoch 239/300\n",
      "404/404 [==============================] - 0s 17us/step - loss: 2.1512 - mae: 1.0371 - acc: 0.0396\n",
      "Epoch 240/300\n",
      "404/404 [==============================] - 0s 20us/step - loss: 2.0086 - mae: 0.9961 - acc: 0.0470\n",
      "Epoch 241/300\n",
      "404/404 [==============================] - 0s 21us/step - loss: 2.0519 - mae: 1.0295 - acc: 0.0446\n",
      "Epoch 242/300\n",
      "404/404 [==============================] - 0s 21us/step - loss: 1.9705 - mae: 0.9697 - acc: 0.0446\n",
      "Epoch 243/300\n",
      "404/404 [==============================] - 0s 23us/step - loss: 2.0928 - mae: 1.0048 - acc: 0.0421\n",
      "Epoch 244/300\n",
      "404/404 [==============================] - 0s 20us/step - loss: 2.0576 - mae: 1.0263 - acc: 0.0470\n",
      "Epoch 245/300\n",
      "404/404 [==============================] - 0s 20us/step - loss: 1.9029 - mae: 0.9504 - acc: 0.0594\n",
      "Epoch 246/300\n",
      "404/404 [==============================] - 0s 21us/step - loss: 1.7770 - mae: 0.9237 - acc: 0.0668\n",
      "Epoch 247/300\n",
      "404/404 [==============================] - 0s 20us/step - loss: 1.8089 - mae: 0.9194 - acc: 0.0718\n",
      "Epoch 248/300\n",
      "404/404 [==============================] - 0s 18us/step - loss: 1.8470 - mae: 0.9193 - acc: 0.0619\n",
      "Epoch 249/300\n",
      "404/404 [==============================] - 0s 20us/step - loss: 1.7459 - mae: 0.8947 - acc: 0.0644\n",
      "Epoch 250/300\n",
      "404/404 [==============================] - 0s 22us/step - loss: 1.7486 - mae: 0.9012 - acc: 0.0644\n",
      "Epoch 251/300\n",
      "404/404 [==============================] - 0s 18us/step - loss: 1.7024 - mae: 0.8780 - acc: 0.0718\n",
      "Epoch 252/300\n",
      "404/404 [==============================] - 0s 21us/step - loss: 1.6954 - mae: 0.8827 - acc: 0.0767\n",
      "Epoch 253/300\n",
      "404/404 [==============================] - 0s 21us/step - loss: 1.6869 - mae: 0.8744 - acc: 0.0743\n",
      "Epoch 254/300\n",
      "404/404 [==============================] - 0s 19us/step - loss: 1.6784 - mae: 0.8801 - acc: 0.0743\n",
      "Epoch 255/300\n",
      "404/404 [==============================] - 0s 21us/step - loss: 1.7286 - mae: 0.8929 - acc: 0.0644\n",
      "Epoch 256/300\n",
      "404/404 [==============================] - 0s 19us/step - loss: 1.7205 - mae: 0.8992 - acc: 0.0594\n",
      "Epoch 257/300\n",
      "404/404 [==============================] - 0s 20us/step - loss: 1.6726 - mae: 0.8809 - acc: 0.0718\n",
      "Epoch 258/300\n",
      "404/404 [==============================] - 0s 20us/step - loss: 1.6450 - mae: 0.8682 - acc: 0.0817\n",
      "Epoch 259/300\n",
      "404/404 [==============================] - 0s 18us/step - loss: 1.6882 - mae: 0.8716 - acc: 0.0693\n",
      "Epoch 260/300\n",
      "404/404 [==============================] - 0s 21us/step - loss: 1.7740 - mae: 0.9122 - acc: 0.0718\n",
      "Epoch 261/300\n",
      "404/404 [==============================] - 0s 21us/step - loss: 1.7808 - mae: 0.9277 - acc: 0.0619\n",
      "Epoch 262/300\n",
      "404/404 [==============================] - 0s 18us/step - loss: 1.6515 - mae: 0.8702 - acc: 0.0569\n",
      "Epoch 263/300\n",
      "404/404 [==============================] - 0s 23us/step - loss: 1.7045 - mae: 0.8849 - acc: 0.0668\n",
      "Epoch 264/300\n",
      "404/404 [==============================] - 0s 21us/step - loss: 1.6832 - mae: 0.8809 - acc: 0.0693\n",
      "Epoch 265/300\n",
      "404/404 [==============================] - 0s 20us/step - loss: 1.6551 - mae: 0.8754 - acc: 0.0644\n",
      "Epoch 266/300\n",
      "404/404 [==============================] - 0s 21us/step - loss: 1.6179 - mae: 0.8704 - acc: 0.0668\n",
      "Epoch 267/300\n",
      "404/404 [==============================] - 0s 18us/step - loss: 1.5833 - mae: 0.8502 - acc: 0.0743\n",
      "Epoch 268/300\n",
      "404/404 [==============================] - 0s 18us/step - loss: 1.5811 - mae: 0.8532 - acc: 0.0644\n",
      "Epoch 269/300\n",
      "404/404 [==============================] - 0s 18us/step - loss: 1.6118 - mae: 0.8708 - acc: 0.0644\n",
      "Epoch 270/300\n",
      "404/404 [==============================] - 0s 20us/step - loss: 1.6247 - mae: 0.8571 - acc: 0.0817\n",
      "Epoch 271/300\n",
      "404/404 [==============================] - 0s 18us/step - loss: 1.5637 - mae: 0.8470 - acc: 0.0743\n",
      "Epoch 272/300\n",
      "404/404 [==============================] - 0s 21us/step - loss: 1.5724 - mae: 0.8595 - acc: 0.0693\n",
      "Epoch 273/300\n",
      "404/404 [==============================] - 0s 21us/step - loss: 1.6029 - mae: 0.8850 - acc: 0.0594\n",
      "Epoch 274/300\n",
      "404/404 [==============================] - 0s 20us/step - loss: 1.5459 - mae: 0.8484 - acc: 0.0668\n",
      "Epoch 275/300\n",
      "404/404 [==============================] - 0s 18us/step - loss: 1.6171 - mae: 0.8741 - acc: 0.0644\n",
      "Epoch 276/300\n",
      "404/404 [==============================] - 0s 20us/step - loss: 1.6461 - mae: 0.8941 - acc: 0.0693\n",
      "Epoch 277/300\n",
      "404/404 [==============================] - 0s 18us/step - loss: 1.7616 - mae: 0.9490 - acc: 0.0396\n",
      "Epoch 278/300\n",
      "404/404 [==============================] - 0s 18us/step - loss: 1.9340 - mae: 0.9659 - acc: 0.0619\n",
      "Epoch 279/300\n",
      "404/404 [==============================] - 0s 18us/step - loss: 1.7457 - mae: 0.9428 - acc: 0.0446\n",
      "Epoch 280/300\n",
      "404/404 [==============================] - 0s 20us/step - loss: 1.8212 - mae: 0.9307 - acc: 0.0644\n",
      "Epoch 281/300\n",
      "404/404 [==============================] - 0s 19us/step - loss: 1.7777 - mae: 0.9345 - acc: 0.0668\n",
      "Epoch 282/300\n",
      "404/404 [==============================] - 0s 20us/step - loss: 1.7986 - mae: 0.9426 - acc: 0.0470\n",
      "Epoch 283/300\n",
      "404/404 [==============================] - 0s 21us/step - loss: 1.5864 - mae: 0.8521 - acc: 0.0693\n",
      "Epoch 284/300\n",
      "404/404 [==============================] - 0s 19us/step - loss: 1.6194 - mae: 0.8791 - acc: 0.0569\n",
      "Epoch 285/300\n",
      "404/404 [==============================] - 0s 21us/step - loss: 1.6465 - mae: 0.8857 - acc: 0.0545\n",
      "Epoch 286/300\n",
      "404/404 [==============================] - 0s 20us/step - loss: 1.5894 - mae: 0.8678 - acc: 0.0718\n",
      "Epoch 287/300\n",
      "404/404 [==============================] - 0s 20us/step - loss: 1.5963 - mae: 0.8802 - acc: 0.0520\n",
      "Epoch 288/300\n",
      "404/404 [==============================] - 0s 19us/step - loss: 1.6505 - mae: 0.9212 - acc: 0.0396\n",
      "Epoch 289/300\n",
      "404/404 [==============================] - 0s 20us/step - loss: 1.6520 - mae: 0.9125 - acc: 0.0644\n",
      "Epoch 290/300\n",
      "404/404 [==============================] - 0s 22us/step - loss: 1.5538 - mae: 0.8805 - acc: 0.0644\n",
      "Epoch 291/300\n",
      "404/404 [==============================] - 0s 20us/step - loss: 1.6018 - mae: 0.8644 - acc: 0.0668\n",
      "Epoch 292/300\n",
      "404/404 [==============================] - 0s 21us/step - loss: 1.6160 - mae: 0.8765 - acc: 0.0668\n",
      "Epoch 293/300\n",
      "404/404 [==============================] - 0s 20us/step - loss: 1.5045 - mae: 0.8370 - acc: 0.0693\n",
      "Epoch 294/300\n",
      "404/404 [==============================] - 0s 20us/step - loss: 1.5409 - mae: 0.8490 - acc: 0.0693\n",
      "Epoch 295/300\n",
      "404/404 [==============================] - 0s 22us/step - loss: 1.4975 - mae: 0.8321 - acc: 0.0644\n",
      "Epoch 296/300\n",
      "404/404 [==============================] - 0s 21us/step - loss: 1.4526 - mae: 0.8139 - acc: 0.0594\n",
      "Epoch 297/300\n",
      "404/404 [==============================] - 0s 20us/step - loss: 1.4431 - mae: 0.8178 - acc: 0.0668\n",
      "Epoch 298/300\n",
      "404/404 [==============================] - 0s 19us/step - loss: 1.4859 - mae: 0.8291 - acc: 0.0619\n",
      "Epoch 299/300\n",
      "404/404 [==============================] - 0s 22us/step - loss: 1.5164 - mae: 0.8298 - acc: 0.0668\n",
      "Epoch 300/300\n",
      "404/404 [==============================] - 0s 20us/step - loss: 1.5854 - mae: 0.8520 - acc: 0.0644\n"
     ]
    }
   ],
   "source": [
    "history3a = model3.fit(inputs_train, outputs_train, epochs=300, batch_size = 101)"
   ]
  },
  {
   "cell_type": "code",
   "execution_count": 54,
   "metadata": {},
   "outputs": [
    {
     "name": "stdout",
     "output_type": "stream",
     "text": [
      "This model evaluates as:\n",
      "* Loss: 12.027955779842301\n",
      "* MAE: 2.3915226459503174\n",
      "* Accuracy: 0.009803921915590763\n"
     ]
    }
   ],
   "source": [
    "evaluate3a = []\n",
    "eval3 = evaluator(evaluate3a, model3)"
   ]
  },
  {
   "cell_type": "code",
   "execution_count": 55,
   "metadata": {},
   "outputs": [
    {
     "name": "stdout",
     "output_type": "stream",
     "text": [
      "This model predicts as:\n",
      "* Predicted Value: 19.025625\n",
      "* Actual value: 18.7\n"
     ]
    },
    {
     "name": "stderr",
     "output_type": "stream",
     "text": [
      "C:\\Users\\Peter McGowan\\Anaconda3\\lib\\site-packages\\ipykernel_launcher.py:3: FutureWarning: Method .as_matrix will be removed in a future version. Use .values instead.\n",
      "  This is separate from the ipykernel package so we can avoid doing imports until\n"
     ]
    }
   ],
   "source": [
    "predict3a = []\n",
    "predictor(predict3a, model3)"
   ]
  },
  {
   "cell_type": "markdown",
   "metadata": {},
   "source": [
    "##### Results"
   ]
  },
  {
   "cell_type": "markdown",
   "metadata": {},
   "source": [
    "More accurate than all previous attempts:\n",
    "* Loss (Mean Squared Error): ~8\n",
    "* Mean Absolute Error: ~2.0\n",
    "* Accuracy: 0.0272"
   ]
  },
  {
   "cell_type": "markdown",
   "metadata": {},
   "source": [
    "##### Next Section"
   ]
  },
  {
   "cell_type": "code",
   "execution_count": 56,
   "metadata": {},
   "outputs": [
    {
     "name": "stdout",
     "output_type": "stream",
     "text": [
      "102/102 [==============================] - 0s 33us/step\n",
      "[20.746374111549528, 2.832862138748169, 0.009803921915590763]\n",
      "102/102 [==============================] - 0s 29us/step\n",
      "[13.65631326974607, 2.400183916091919, 0.009803921915590763]\n",
      "102/102 [==============================] - 0s 34us/step\n",
      "[12.027955779842301, 2.3915226459503174, 0.009803921915590763]\n"
     ]
    }
   ],
   "source": [
    "print(model1.evaluate(inputs_test, outputs_test))\n",
    "print(model2.evaluate(inputs_test, outputs_test))\n",
    "print(model3.evaluate(inputs_test, outputs_test))"
   ]
  },
  {
   "cell_type": "markdown",
   "metadata": {},
   "source": [
    "*** adjust the below to output what i want"
   ]
  },
  {
   "cell_type": "markdown",
   "metadata": {},
   "source": [
    "*** https://keras.io/visualization/"
   ]
  },
  {
   "cell_type": "markdown",
   "metadata": {},
   "source": [
    "*** https://www.tensorflow.org/guide/keras/train_and_evaluate\n",
    "*** https://stats.stackexchange.com/questions/153531/what-is-batch-size-in-neural-network"
   ]
  }
 ],
 "metadata": {
  "kernelspec": {
   "display_name": "Python 3",
   "language": "python",
   "name": "python3"
  },
  "language_info": {
   "codemirror_mode": {
    "name": "ipython",
    "version": 3
   },
   "file_extension": ".py",
   "mimetype": "text/x-python",
   "name": "python",
   "nbconvert_exporter": "python",
   "pygments_lexer": "ipython3",
   "version": "3.7.3"
  }
 },
 "nbformat": 4,
 "nbformat_minor": 4
}
