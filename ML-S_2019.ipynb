{
 "cells": [
  {
   "cell_type": "markdown",
   "metadata": {},
   "source": [
    "<img src=\"images/GMIT logo.jpeg\" width=\"350\" align=\"center\">"
   ]
  },
  {
   "cell_type": "markdown",
   "metadata": {},
   "source": [
    "# Machine Learning & Statistics Project 2019"
   ]
  },
  {
   "cell_type": "markdown",
   "metadata": {},
   "source": [
    "<b>Name:</b> Peter McGowan<br>\n",
    "<b>ID:</b> G00190832"
   ]
  },
  {
   "cell_type": "markdown",
   "metadata": {},
   "source": [
    "## Introduction\n",
    "This Jupyter notebook contains an investigation of the Boston House Prices dataset for the \"Machine-Learning and Statistics\" Module on the GMIT HDip in Data Analytics."
   ]
  },
  {
   "cell_type": "markdown",
   "metadata": {},
   "source": [
    "## Background"
   ]
  },
  {
   "cell_type": "markdown",
   "metadata": {},
   "source": [
    "First published in 1978, the Boston House Prices dataset (Harrison and Rubinfeld, 1978) is widely used for the purpose of learning how to implement Machine Learning. It consists 506 samples across 14 variables, measuring a range of items such as average number of rooms per dwelling, property tax rate and most importantly from our point of view, the median house value of owner occupied dwellings."
   ]
  },
  {
   "cell_type": "markdown",
   "metadata": {},
   "source": [
    "## Starting Off\n",
    "First we will import the required python libraries."
   ]
  },
  {
   "cell_type": "code",
   "execution_count": 1,
   "metadata": {},
   "outputs": [],
   "source": [
    "# Import pandas for managing data\n",
    "# Import scipy.stats for statistical analysis\n",
    "# Import matplotlib.pyplot and seaborn for visualisations\n",
    "import pandas as pd\n",
    "import scipy.stats as ss\n",
    "import matplotlib.pyplot as plt\n",
    "import seaborn as sns"
   ]
  },
  {
   "cell_type": "markdown",
   "metadata": {},
   "source": [
    "In order to obtain reproducible results, particularly from neural networks in Keras, we should also fix the seed used to initialise pseudo-random number generation. NumPy allows us to do this quite easily."
   ]
  },
  {
   "cell_type": "code",
   "execution_count": 2,
   "metadata": {},
   "outputs": [],
   "source": [
    "import numpy as np\n",
    "np.random.seed(2) # Set seed value"
   ]
  },
  {
   "cell_type": "markdown",
   "metadata": {},
   "source": [
    "Scikit-learn conveniently provides the Boston House Prices dataset - we will now load it."
   ]
  },
  {
   "cell_type": "code",
   "execution_count": 3,
   "metadata": {},
   "outputs": [],
   "source": [
    "# Load the boston dataset from sklearn\n",
    "from sklearn.datasets import load_boston\n",
    "boston = load_boston()"
   ]
  },
  {
   "cell_type": "markdown",
   "metadata": {},
   "source": [
    "We can now output the keys (GeeksforGeeks, 2019) of the dataset:"
   ]
  },
  {
   "cell_type": "code",
   "execution_count": 4,
   "metadata": {},
   "outputs": [
    {
     "data": {
      "text/plain": [
       "dict_keys(['data', 'target', 'feature_names', 'DESCR', 'filename'])"
      ]
     },
     "execution_count": 4,
     "metadata": {},
     "output_type": "execute_result"
    }
   ],
   "source": [
    "boston.keys()"
   ]
  },
  {
   "cell_type": "markdown",
   "metadata": {},
   "source": [
    "This consists of 5 elements:\n",
    "* data: The contents of the dataset excluding the target\n",
    "* target: The contents of the target (i.e. MEDV) column\n",
    "* feature_names: The column headers for the data columns\n",
    "* DESCR: The characteristics of the dataset, formatted\n",
    "* filename: The filepath to where the dataset is installed"
   ]
  },
  {
   "cell_type": "markdown",
   "metadata": {},
   "source": [
    "The pandas library includes a versatile \"DataFrame\" object - an indexed array that helps with managing multi-dimensional data. We will store the dataset in a dataframe, giving it the correct column headers. Pandas will automatically add an index column to this."
   ]
  },
  {
   "cell_type": "code",
   "execution_count": 5,
   "metadata": {},
   "outputs": [],
   "source": [
    "# Create a dataframe from the boston house prices dataset\n",
    "df = pd.DataFrame(boston.data, columns=boston.feature_names)"
   ]
  },
  {
   "cell_type": "markdown",
   "metadata": {},
   "source": [
    "## Describe"
   ]
  },
  {
   "cell_type": "markdown",
   "metadata": {},
   "source": [
    "### Checks & Descriptive Statistics"
   ]
  },
  {
   "cell_type": "markdown",
   "metadata": {},
   "source": [
    "We'll have a look at the head and tail of the data first of all to check for any obvious issues. df.head() will output the first 5 rows and df.tail() the last 5 rows, by default. This should be sufficient."
   ]
  },
  {
   "cell_type": "code",
   "execution_count": 6,
   "metadata": {},
   "outputs": [
    {
     "data": {
      "text/html": [
       "<div>\n",
       "<style scoped>\n",
       "    .dataframe tbody tr th:only-of-type {\n",
       "        vertical-align: middle;\n",
       "    }\n",
       "\n",
       "    .dataframe tbody tr th {\n",
       "        vertical-align: top;\n",
       "    }\n",
       "\n",
       "    .dataframe thead th {\n",
       "        text-align: right;\n",
       "    }\n",
       "</style>\n",
       "<table border=\"1\" class=\"dataframe\">\n",
       "  <thead>\n",
       "    <tr style=\"text-align: right;\">\n",
       "      <th></th>\n",
       "      <th>CRIM</th>\n",
       "      <th>ZN</th>\n",
       "      <th>INDUS</th>\n",
       "      <th>CHAS</th>\n",
       "      <th>NOX</th>\n",
       "      <th>RM</th>\n",
       "      <th>AGE</th>\n",
       "      <th>DIS</th>\n",
       "      <th>RAD</th>\n",
       "      <th>TAX</th>\n",
       "      <th>PTRATIO</th>\n",
       "      <th>B</th>\n",
       "      <th>LSTAT</th>\n",
       "    </tr>\n",
       "  </thead>\n",
       "  <tbody>\n",
       "    <tr>\n",
       "      <th>0</th>\n",
       "      <td>0.00632</td>\n",
       "      <td>18.0</td>\n",
       "      <td>2.31</td>\n",
       "      <td>0.0</td>\n",
       "      <td>0.538</td>\n",
       "      <td>6.575</td>\n",
       "      <td>65.2</td>\n",
       "      <td>4.0900</td>\n",
       "      <td>1.0</td>\n",
       "      <td>296.0</td>\n",
       "      <td>15.3</td>\n",
       "      <td>396.90</td>\n",
       "      <td>4.98</td>\n",
       "    </tr>\n",
       "    <tr>\n",
       "      <th>1</th>\n",
       "      <td>0.02731</td>\n",
       "      <td>0.0</td>\n",
       "      <td>7.07</td>\n",
       "      <td>0.0</td>\n",
       "      <td>0.469</td>\n",
       "      <td>6.421</td>\n",
       "      <td>78.9</td>\n",
       "      <td>4.9671</td>\n",
       "      <td>2.0</td>\n",
       "      <td>242.0</td>\n",
       "      <td>17.8</td>\n",
       "      <td>396.90</td>\n",
       "      <td>9.14</td>\n",
       "    </tr>\n",
       "    <tr>\n",
       "      <th>2</th>\n",
       "      <td>0.02729</td>\n",
       "      <td>0.0</td>\n",
       "      <td>7.07</td>\n",
       "      <td>0.0</td>\n",
       "      <td>0.469</td>\n",
       "      <td>7.185</td>\n",
       "      <td>61.1</td>\n",
       "      <td>4.9671</td>\n",
       "      <td>2.0</td>\n",
       "      <td>242.0</td>\n",
       "      <td>17.8</td>\n",
       "      <td>392.83</td>\n",
       "      <td>4.03</td>\n",
       "    </tr>\n",
       "    <tr>\n",
       "      <th>3</th>\n",
       "      <td>0.03237</td>\n",
       "      <td>0.0</td>\n",
       "      <td>2.18</td>\n",
       "      <td>0.0</td>\n",
       "      <td>0.458</td>\n",
       "      <td>6.998</td>\n",
       "      <td>45.8</td>\n",
       "      <td>6.0622</td>\n",
       "      <td>3.0</td>\n",
       "      <td>222.0</td>\n",
       "      <td>18.7</td>\n",
       "      <td>394.63</td>\n",
       "      <td>2.94</td>\n",
       "    </tr>\n",
       "    <tr>\n",
       "      <th>4</th>\n",
       "      <td>0.06905</td>\n",
       "      <td>0.0</td>\n",
       "      <td>2.18</td>\n",
       "      <td>0.0</td>\n",
       "      <td>0.458</td>\n",
       "      <td>7.147</td>\n",
       "      <td>54.2</td>\n",
       "      <td>6.0622</td>\n",
       "      <td>3.0</td>\n",
       "      <td>222.0</td>\n",
       "      <td>18.7</td>\n",
       "      <td>396.90</td>\n",
       "      <td>5.33</td>\n",
       "    </tr>\n",
       "  </tbody>\n",
       "</table>\n",
       "</div>"
      ],
      "text/plain": [
       "      CRIM    ZN  INDUS  CHAS    NOX     RM   AGE     DIS  RAD    TAX  \\\n",
       "0  0.00632  18.0   2.31   0.0  0.538  6.575  65.2  4.0900  1.0  296.0   \n",
       "1  0.02731   0.0   7.07   0.0  0.469  6.421  78.9  4.9671  2.0  242.0   \n",
       "2  0.02729   0.0   7.07   0.0  0.469  7.185  61.1  4.9671  2.0  242.0   \n",
       "3  0.03237   0.0   2.18   0.0  0.458  6.998  45.8  6.0622  3.0  222.0   \n",
       "4  0.06905   0.0   2.18   0.0  0.458  7.147  54.2  6.0622  3.0  222.0   \n",
       "\n",
       "   PTRATIO       B  LSTAT  \n",
       "0     15.3  396.90   4.98  \n",
       "1     17.8  396.90   9.14  \n",
       "2     17.8  392.83   4.03  \n",
       "3     18.7  394.63   2.94  \n",
       "4     18.7  396.90   5.33  "
      ]
     },
     "execution_count": 6,
     "metadata": {},
     "output_type": "execute_result"
    }
   ],
   "source": [
    "df.head()"
   ]
  },
  {
   "cell_type": "code",
   "execution_count": 7,
   "metadata": {},
   "outputs": [
    {
     "data": {
      "text/html": [
       "<div>\n",
       "<style scoped>\n",
       "    .dataframe tbody tr th:only-of-type {\n",
       "        vertical-align: middle;\n",
       "    }\n",
       "\n",
       "    .dataframe tbody tr th {\n",
       "        vertical-align: top;\n",
       "    }\n",
       "\n",
       "    .dataframe thead th {\n",
       "        text-align: right;\n",
       "    }\n",
       "</style>\n",
       "<table border=\"1\" class=\"dataframe\">\n",
       "  <thead>\n",
       "    <tr style=\"text-align: right;\">\n",
       "      <th></th>\n",
       "      <th>CRIM</th>\n",
       "      <th>ZN</th>\n",
       "      <th>INDUS</th>\n",
       "      <th>CHAS</th>\n",
       "      <th>NOX</th>\n",
       "      <th>RM</th>\n",
       "      <th>AGE</th>\n",
       "      <th>DIS</th>\n",
       "      <th>RAD</th>\n",
       "      <th>TAX</th>\n",
       "      <th>PTRATIO</th>\n",
       "      <th>B</th>\n",
       "      <th>LSTAT</th>\n",
       "    </tr>\n",
       "  </thead>\n",
       "  <tbody>\n",
       "    <tr>\n",
       "      <th>501</th>\n",
       "      <td>0.06263</td>\n",
       "      <td>0.0</td>\n",
       "      <td>11.93</td>\n",
       "      <td>0.0</td>\n",
       "      <td>0.573</td>\n",
       "      <td>6.593</td>\n",
       "      <td>69.1</td>\n",
       "      <td>2.4786</td>\n",
       "      <td>1.0</td>\n",
       "      <td>273.0</td>\n",
       "      <td>21.0</td>\n",
       "      <td>391.99</td>\n",
       "      <td>9.67</td>\n",
       "    </tr>\n",
       "    <tr>\n",
       "      <th>502</th>\n",
       "      <td>0.04527</td>\n",
       "      <td>0.0</td>\n",
       "      <td>11.93</td>\n",
       "      <td>0.0</td>\n",
       "      <td>0.573</td>\n",
       "      <td>6.120</td>\n",
       "      <td>76.7</td>\n",
       "      <td>2.2875</td>\n",
       "      <td>1.0</td>\n",
       "      <td>273.0</td>\n",
       "      <td>21.0</td>\n",
       "      <td>396.90</td>\n",
       "      <td>9.08</td>\n",
       "    </tr>\n",
       "    <tr>\n",
       "      <th>503</th>\n",
       "      <td>0.06076</td>\n",
       "      <td>0.0</td>\n",
       "      <td>11.93</td>\n",
       "      <td>0.0</td>\n",
       "      <td>0.573</td>\n",
       "      <td>6.976</td>\n",
       "      <td>91.0</td>\n",
       "      <td>2.1675</td>\n",
       "      <td>1.0</td>\n",
       "      <td>273.0</td>\n",
       "      <td>21.0</td>\n",
       "      <td>396.90</td>\n",
       "      <td>5.64</td>\n",
       "    </tr>\n",
       "    <tr>\n",
       "      <th>504</th>\n",
       "      <td>0.10959</td>\n",
       "      <td>0.0</td>\n",
       "      <td>11.93</td>\n",
       "      <td>0.0</td>\n",
       "      <td>0.573</td>\n",
       "      <td>6.794</td>\n",
       "      <td>89.3</td>\n",
       "      <td>2.3889</td>\n",
       "      <td>1.0</td>\n",
       "      <td>273.0</td>\n",
       "      <td>21.0</td>\n",
       "      <td>393.45</td>\n",
       "      <td>6.48</td>\n",
       "    </tr>\n",
       "    <tr>\n",
       "      <th>505</th>\n",
       "      <td>0.04741</td>\n",
       "      <td>0.0</td>\n",
       "      <td>11.93</td>\n",
       "      <td>0.0</td>\n",
       "      <td>0.573</td>\n",
       "      <td>6.030</td>\n",
       "      <td>80.8</td>\n",
       "      <td>2.5050</td>\n",
       "      <td>1.0</td>\n",
       "      <td>273.0</td>\n",
       "      <td>21.0</td>\n",
       "      <td>396.90</td>\n",
       "      <td>7.88</td>\n",
       "    </tr>\n",
       "  </tbody>\n",
       "</table>\n",
       "</div>"
      ],
      "text/plain": [
       "        CRIM   ZN  INDUS  CHAS    NOX     RM   AGE     DIS  RAD    TAX  \\\n",
       "501  0.06263  0.0  11.93   0.0  0.573  6.593  69.1  2.4786  1.0  273.0   \n",
       "502  0.04527  0.0  11.93   0.0  0.573  6.120  76.7  2.2875  1.0  273.0   \n",
       "503  0.06076  0.0  11.93   0.0  0.573  6.976  91.0  2.1675  1.0  273.0   \n",
       "504  0.10959  0.0  11.93   0.0  0.573  6.794  89.3  2.3889  1.0  273.0   \n",
       "505  0.04741  0.0  11.93   0.0  0.573  6.030  80.8  2.5050  1.0  273.0   \n",
       "\n",
       "     PTRATIO       B  LSTAT  \n",
       "501     21.0  391.99   9.67  \n",
       "502     21.0  396.90   9.08  \n",
       "503     21.0  396.90   5.64  \n",
       "504     21.0  393.45   6.48  \n",
       "505     21.0  396.90   7.88  "
      ]
     },
     "execution_count": 7,
     "metadata": {},
     "output_type": "execute_result"
    }
   ],
   "source": [
    "df.tail()"
   ]
  },
  {
   "cell_type": "markdown",
   "metadata": {},
   "source": [
    "We should check also for missing values:"
   ]
  },
  {
   "cell_type": "code",
   "execution_count": 8,
   "metadata": {},
   "outputs": [
    {
     "data": {
      "text/plain": [
       "CRIM       0\n",
       "ZN         0\n",
       "INDUS      0\n",
       "CHAS       0\n",
       "NOX        0\n",
       "RM         0\n",
       "AGE        0\n",
       "DIS        0\n",
       "RAD        0\n",
       "TAX        0\n",
       "PTRATIO    0\n",
       "B          0\n",
       "LSTAT      0\n",
       "dtype: int64"
      ]
     },
     "execution_count": 8,
     "metadata": {},
     "output_type": "execute_result"
    }
   ],
   "source": [
    "# Append .sum() to count how many values are missing\n",
    "df.isnull().sum()"
   ]
  },
  {
   "cell_type": "markdown",
   "metadata": {},
   "source": [
    "All seems to be in order so far. The column headers seem fairly cryptic so far - fortunately the \"DESCR\" key can give us more info on this."
   ]
  },
  {
   "cell_type": "code",
   "execution_count": 9,
   "metadata": {},
   "outputs": [
    {
     "name": "stdout",
     "output_type": "stream",
     "text": [
      ".. _boston_dataset:\n",
      "\n",
      "Boston house prices dataset\n",
      "---------------------------\n",
      "\n",
      "**Data Set Characteristics:**  \n",
      "\n",
      "    :Number of Instances: 506 \n",
      "\n",
      "    :Number of Attributes: 13 numeric/categorical predictive. Median Value (attribute 14) is usually the target.\n",
      "\n",
      "    :Attribute Information (in order):\n",
      "        - CRIM     per capita crime rate by town\n",
      "        - ZN       proportion of residential land zoned for lots over 25,000 sq.ft.\n",
      "        - INDUS    proportion of non-retail business acres per town\n",
      "        - CHAS     Charles River dummy variable (= 1 if tract bounds river; 0 otherwise)\n",
      "        - NOX      nitric oxides concentration (parts per 10 million)\n",
      "        - RM       average number of rooms per dwelling\n",
      "        - AGE      proportion of owner-occupied units built prior to 1940\n",
      "        - DIS      weighted distances to five Boston employment centres\n",
      "        - RAD      index of accessibility to radial highways\n",
      "        - TAX      full-value property-tax rate per $10,000\n",
      "        - PTRATIO  pupil-teacher ratio by town\n",
      "        - B        1000(Bk - 0.63)^2 where Bk is the proportion of blacks by town\n",
      "        - LSTAT    % lower status of the population\n",
      "        - MEDV     Median value of owner-occupied homes in $1000's\n",
      "\n",
      "    :Missing Attribute Values: None\n",
      "\n",
      "    :Creator: Harrison, D. and Rubinfeld, D.L.\n",
      "\n",
      "This is a copy of UCI ML housing dataset.\n",
      "https://archive.ics.uci.edu/ml/machine-learning-databases/housing/\n",
      "\n",
      "\n",
      "This dataset was taken from the StatLib library which is maintained at Carnegie Mellon University.\n",
      "\n",
      "The Boston house-price data of Harrison, D. and Rubinfeld, D.L. 'Hedonic\n",
      "prices and the demand for clean air', J. Environ. Economics & Management,\n",
      "vol.5, 81-102, 1978.   Used in Belsley, Kuh & Welsch, 'Regression diagnostics\n",
      "...', Wiley, 1980.   N.B. Various transformations are used in the table on\n",
      "pages 244-261 of the latter.\n",
      "\n",
      "The Boston house-price data has been used in many machine learning papers that address regression\n",
      "problems.   \n",
      "     \n",
      ".. topic:: References\n",
      "\n",
      "   - Belsley, Kuh & Welsch, 'Regression diagnostics: Identifying Influential Data and Sources of Collinearity', Wiley, 1980. 244-261.\n",
      "   - Quinlan,R. (1993). Combining Instance-Based and Model-Based Learning. In Proceedings on the Tenth International Conference of Machine Learning, 236-243, University of Massachusetts, Amherst. Morgan Kaufmann.\n",
      "\n"
     ]
    }
   ],
   "source": [
    "# Print to output properly formatted\n",
    "print(boston.DESCR)"
   ]
  },
  {
   "cell_type": "markdown",
   "metadata": {},
   "source": [
    "The MEDV column hasn't been included in the DataFrame so far. It is included as the \"target\" column in the dataset from scikit-learn as this is normally the target value for machine learning. We can check that it contains the correct number of rows (506) as follows:"
   ]
  },
  {
   "cell_type": "code",
   "execution_count": 10,
   "metadata": {},
   "outputs": [
    {
     "data": {
      "text/plain": [
       "(506,)"
      ]
     },
     "execution_count": 10,
     "metadata": {},
     "output_type": "execute_result"
    }
   ],
   "source": [
    "boston.target.shape"
   ]
  },
  {
   "cell_type": "markdown",
   "metadata": {},
   "source": [
    "This matches the output of the DESCR command so it should be ok.\n",
    "Now we need to add it as a column to the DataFrame to make our lives a bit easier later on."
   ]
  },
  {
   "cell_type": "code",
   "execution_count": 11,
   "metadata": {},
   "outputs": [],
   "source": [
    "# Explicitly declaring a new column name adds it to the dataframe\n",
    "df['MEDV'] = boston.target"
   ]
  },
  {
   "cell_type": "markdown",
   "metadata": {},
   "source": [
    "Now we should output the summary statistics of the DataFrame to see how it looks:"
   ]
  },
  {
   "cell_type": "code",
   "execution_count": 12,
   "metadata": {},
   "outputs": [
    {
     "data": {
      "text/html": [
       "<div>\n",
       "<style scoped>\n",
       "    .dataframe tbody tr th:only-of-type {\n",
       "        vertical-align: middle;\n",
       "    }\n",
       "\n",
       "    .dataframe tbody tr th {\n",
       "        vertical-align: top;\n",
       "    }\n",
       "\n",
       "    .dataframe thead th {\n",
       "        text-align: right;\n",
       "    }\n",
       "</style>\n",
       "<table border=\"1\" class=\"dataframe\">\n",
       "  <thead>\n",
       "    <tr style=\"text-align: right;\">\n",
       "      <th></th>\n",
       "      <th>CRIM</th>\n",
       "      <th>ZN</th>\n",
       "      <th>INDUS</th>\n",
       "      <th>CHAS</th>\n",
       "      <th>NOX</th>\n",
       "      <th>RM</th>\n",
       "      <th>AGE</th>\n",
       "      <th>DIS</th>\n",
       "      <th>RAD</th>\n",
       "      <th>TAX</th>\n",
       "      <th>PTRATIO</th>\n",
       "      <th>B</th>\n",
       "      <th>LSTAT</th>\n",
       "      <th>MEDV</th>\n",
       "    </tr>\n",
       "  </thead>\n",
       "  <tbody>\n",
       "    <tr>\n",
       "      <th>count</th>\n",
       "      <td>506.000000</td>\n",
       "      <td>506.000000</td>\n",
       "      <td>506.000000</td>\n",
       "      <td>506.000000</td>\n",
       "      <td>506.000000</td>\n",
       "      <td>506.000000</td>\n",
       "      <td>506.000000</td>\n",
       "      <td>506.000000</td>\n",
       "      <td>506.000000</td>\n",
       "      <td>506.000000</td>\n",
       "      <td>506.000000</td>\n",
       "      <td>506.000000</td>\n",
       "      <td>506.000000</td>\n",
       "      <td>506.000000</td>\n",
       "    </tr>\n",
       "    <tr>\n",
       "      <th>mean</th>\n",
       "      <td>3.613524</td>\n",
       "      <td>11.363636</td>\n",
       "      <td>11.136779</td>\n",
       "      <td>0.069170</td>\n",
       "      <td>0.554695</td>\n",
       "      <td>6.284634</td>\n",
       "      <td>68.574901</td>\n",
       "      <td>3.795043</td>\n",
       "      <td>9.549407</td>\n",
       "      <td>408.237154</td>\n",
       "      <td>18.455534</td>\n",
       "      <td>356.674032</td>\n",
       "      <td>12.653063</td>\n",
       "      <td>22.532806</td>\n",
       "    </tr>\n",
       "    <tr>\n",
       "      <th>std</th>\n",
       "      <td>8.601545</td>\n",
       "      <td>23.322453</td>\n",
       "      <td>6.860353</td>\n",
       "      <td>0.253994</td>\n",
       "      <td>0.115878</td>\n",
       "      <td>0.702617</td>\n",
       "      <td>28.148861</td>\n",
       "      <td>2.105710</td>\n",
       "      <td>8.707259</td>\n",
       "      <td>168.537116</td>\n",
       "      <td>2.164946</td>\n",
       "      <td>91.294864</td>\n",
       "      <td>7.141062</td>\n",
       "      <td>9.197104</td>\n",
       "    </tr>\n",
       "    <tr>\n",
       "      <th>min</th>\n",
       "      <td>0.006320</td>\n",
       "      <td>0.000000</td>\n",
       "      <td>0.460000</td>\n",
       "      <td>0.000000</td>\n",
       "      <td>0.385000</td>\n",
       "      <td>3.561000</td>\n",
       "      <td>2.900000</td>\n",
       "      <td>1.129600</td>\n",
       "      <td>1.000000</td>\n",
       "      <td>187.000000</td>\n",
       "      <td>12.600000</td>\n",
       "      <td>0.320000</td>\n",
       "      <td>1.730000</td>\n",
       "      <td>5.000000</td>\n",
       "    </tr>\n",
       "    <tr>\n",
       "      <th>25%</th>\n",
       "      <td>0.082045</td>\n",
       "      <td>0.000000</td>\n",
       "      <td>5.190000</td>\n",
       "      <td>0.000000</td>\n",
       "      <td>0.449000</td>\n",
       "      <td>5.885500</td>\n",
       "      <td>45.025000</td>\n",
       "      <td>2.100175</td>\n",
       "      <td>4.000000</td>\n",
       "      <td>279.000000</td>\n",
       "      <td>17.400000</td>\n",
       "      <td>375.377500</td>\n",
       "      <td>6.950000</td>\n",
       "      <td>17.025000</td>\n",
       "    </tr>\n",
       "    <tr>\n",
       "      <th>50%</th>\n",
       "      <td>0.256510</td>\n",
       "      <td>0.000000</td>\n",
       "      <td>9.690000</td>\n",
       "      <td>0.000000</td>\n",
       "      <td>0.538000</td>\n",
       "      <td>6.208500</td>\n",
       "      <td>77.500000</td>\n",
       "      <td>3.207450</td>\n",
       "      <td>5.000000</td>\n",
       "      <td>330.000000</td>\n",
       "      <td>19.050000</td>\n",
       "      <td>391.440000</td>\n",
       "      <td>11.360000</td>\n",
       "      <td>21.200000</td>\n",
       "    </tr>\n",
       "    <tr>\n",
       "      <th>75%</th>\n",
       "      <td>3.677083</td>\n",
       "      <td>12.500000</td>\n",
       "      <td>18.100000</td>\n",
       "      <td>0.000000</td>\n",
       "      <td>0.624000</td>\n",
       "      <td>6.623500</td>\n",
       "      <td>94.075000</td>\n",
       "      <td>5.188425</td>\n",
       "      <td>24.000000</td>\n",
       "      <td>666.000000</td>\n",
       "      <td>20.200000</td>\n",
       "      <td>396.225000</td>\n",
       "      <td>16.955000</td>\n",
       "      <td>25.000000</td>\n",
       "    </tr>\n",
       "    <tr>\n",
       "      <th>max</th>\n",
       "      <td>88.976200</td>\n",
       "      <td>100.000000</td>\n",
       "      <td>27.740000</td>\n",
       "      <td>1.000000</td>\n",
       "      <td>0.871000</td>\n",
       "      <td>8.780000</td>\n",
       "      <td>100.000000</td>\n",
       "      <td>12.126500</td>\n",
       "      <td>24.000000</td>\n",
       "      <td>711.000000</td>\n",
       "      <td>22.000000</td>\n",
       "      <td>396.900000</td>\n",
       "      <td>37.970000</td>\n",
       "      <td>50.000000</td>\n",
       "    </tr>\n",
       "  </tbody>\n",
       "</table>\n",
       "</div>"
      ],
      "text/plain": [
       "             CRIM          ZN       INDUS        CHAS         NOX          RM  \\\n",
       "count  506.000000  506.000000  506.000000  506.000000  506.000000  506.000000   \n",
       "mean     3.613524   11.363636   11.136779    0.069170    0.554695    6.284634   \n",
       "std      8.601545   23.322453    6.860353    0.253994    0.115878    0.702617   \n",
       "min      0.006320    0.000000    0.460000    0.000000    0.385000    3.561000   \n",
       "25%      0.082045    0.000000    5.190000    0.000000    0.449000    5.885500   \n",
       "50%      0.256510    0.000000    9.690000    0.000000    0.538000    6.208500   \n",
       "75%      3.677083   12.500000   18.100000    0.000000    0.624000    6.623500   \n",
       "max     88.976200  100.000000   27.740000    1.000000    0.871000    8.780000   \n",
       "\n",
       "              AGE         DIS         RAD         TAX     PTRATIO           B  \\\n",
       "count  506.000000  506.000000  506.000000  506.000000  506.000000  506.000000   \n",
       "mean    68.574901    3.795043    9.549407  408.237154   18.455534  356.674032   \n",
       "std     28.148861    2.105710    8.707259  168.537116    2.164946   91.294864   \n",
       "min      2.900000    1.129600    1.000000  187.000000   12.600000    0.320000   \n",
       "25%     45.025000    2.100175    4.000000  279.000000   17.400000  375.377500   \n",
       "50%     77.500000    3.207450    5.000000  330.000000   19.050000  391.440000   \n",
       "75%     94.075000    5.188425   24.000000  666.000000   20.200000  396.225000   \n",
       "max    100.000000   12.126500   24.000000  711.000000   22.000000  396.900000   \n",
       "\n",
       "            LSTAT        MEDV  \n",
       "count  506.000000  506.000000  \n",
       "mean    12.653063   22.532806  \n",
       "std      7.141062    9.197104  \n",
       "min      1.730000    5.000000  \n",
       "25%      6.950000   17.025000  \n",
       "50%     11.360000   21.200000  \n",
       "75%     16.955000   25.000000  \n",
       "max     37.970000   50.000000  "
      ]
     },
     "execution_count": 12,
     "metadata": {},
     "output_type": "execute_result"
    }
   ],
   "source": [
    "df.describe()"
   ]
  },
  {
   "cell_type": "markdown",
   "metadata": {},
   "source": [
    "The data seems to have imported correctly and we now have it in a format that we can work with."
   ]
  },
  {
   "cell_type": "markdown",
   "metadata": {},
   "source": [
    "### Visualisations\n",
    "Now we can start creating plots.\n",
    "Firstly, the distribution of the Median House Value:"
   ]
  },
  {
   "cell_type": "code",
   "execution_count": 13,
   "metadata": {},
   "outputs": [
    {
     "data": {
      "text/plain": [
       "Text(0.5, 1.0, 'Distribution of Median House Value')"
      ]
     },
     "execution_count": 13,
     "metadata": {},
     "output_type": "execute_result"
    },
    {
     "data": {
      "image/png": "[encoded data removed]",
      "text/plain": [
       "<Figure size 432x288 with 1 Axes>"
      ]
     },
     "metadata": {
      "needs_background": "light"
     },
     "output_type": "display_data"
    }
   ],
   "source": [
    "sns.distplot(df['MEDV'], color='g')\n",
    "plt.xlabel('Median value of owner-occupied homes in $1000\\'s')\n",
    "plt.ylabel('Frequency')\n",
    "plt.title('Distribution of Median House Value', fontsize=14)"
   ]
  },
  {
   "cell_type": "markdown",
   "metadata": {},
   "source": [
    "We can also look at the number of rooms per dwelling like this."
   ]
  },
  {
   "cell_type": "code",
   "execution_count": 14,
   "metadata": {},
   "outputs": [
    {
     "data": {
      "text/plain": [
       "Text(0.5, 1.0, 'Distribution of Rooms')"
      ]
     },
     "execution_count": 14,
     "metadata": {},
     "output_type": "execute_result"
    },
    {
     "data": {
      "image/png": "[encoded data removed]",
      "text/plain": [
       "<Figure size 432x288 with 1 Axes>"
      ]
     },
     "metadata": {
      "needs_background": "light"
     },
     "output_type": "display_data"
    }
   ],
   "source": [
    "sns.distplot(df['RM'], color='y')\n",
    "plt.xlabel('Average number of rooms per dwelling')\n",
    "plt.ylabel('Frequency')\n",
    "plt.title('Distribution of Rooms', fontsize=14)"
   ]
  },
  {
   "cell_type": "markdown",
   "metadata": {},
   "source": [
    "What about the relationships between some of the statistics and the median house value?\n",
    "Firstly we look at DIS:"
   ]
  },
  {
   "cell_type": "code",
   "execution_count": 15,
   "metadata": {},
   "outputs": [
    {
     "data": {
      "text/plain": [
       "Text(0.5, 1.0, 'MEDV vs DIS')"
      ]
     },
     "execution_count": 15,
     "metadata": {},
     "output_type": "execute_result"
    },
    {
     "data": {
      "image/png": "[encoded data removed]",
      "text/plain": [
       "<Figure size 432x288 with 1 Axes>"
      ]
     },
     "metadata": {
      "needs_background": "light"
     },
     "output_type": "display_data"
    }
   ],
   "source": [
    "sns.scatterplot(x='MEDV', y='DIS', data=df)\n",
    "plt.xlabel('Median value of owner-occupied homes in $1000\\'s')\n",
    "\n",
    "plt.ylabel('Weighted distances to five \\nBoston employment centres')\n",
    "plt.title('MEDV vs DIS', fontsize=14)"
   ]
  },
  {
   "cell_type": "markdown",
   "metadata": {},
   "source": [
    "It is difficult to tell if a definite linear relationship exists between these variables, but an unusual vertical line of values on the MEDV=50 line stand out somewhat."
   ]
  },
  {
   "cell_type": "markdown",
   "metadata": {},
   "source": [
    "We can look at RAD also:"
   ]
  },
  {
   "cell_type": "code",
   "execution_count": 16,
   "metadata": {},
   "outputs": [
    {
     "data": {
      "text/plain": [
       "Text(0.5, 1.0, 'MEDV vs RM')"
      ]
     },
     "execution_count": 16,
     "metadata": {},
     "output_type": "execute_result"
    },
    {
     "data": {
      "image/png": "[encoded data removed]",
      "text/plain": [
       "<Figure size 432x288 with 1 Axes>"
      ]
     },
     "metadata": {
      "needs_background": "light"
     },
     "output_type": "display_data"
    }
   ],
   "source": [
    "sns.scatterplot(x='MEDV', y='RM', data=df)\n",
    "plt.xlabel('Median value of owner-occupied homes in $1000\\'s')\n",
    "plt.ylabel('Average number of rooms per dwelling')\n",
    "plt.title('MEDV vs RM', fontsize=14)"
   ]
  },
  {
   "cell_type": "markdown",
   "metadata": {},
   "source": [
    "The linear relationship is much more apparent here - however the clustering of points on the MEDV=50 mark is even more apparent in this plot. This will require further investigation. "
   ]
  },
  {
   "cell_type": "code",
   "execution_count": 17,
   "metadata": {},
   "outputs": [
    {
     "data": {
      "text/plain": [
       "Text(0.5, 1.0, 'MEDV vs RAD')"
      ]
     },
     "execution_count": 17,
     "metadata": {},
     "output_type": "execute_result"
    },
    {
     "data": {
      "image/png": "[encoded data removed]",
      "text/plain": [
       "<Figure size 432x288 with 1 Axes>"
      ]
     },
     "metadata": {
      "needs_background": "light"
     },
     "output_type": "display_data"
    }
   ],
   "source": [
    "sns.scatterplot(x='MEDV', y='RAD', data=df)\n",
    "plt.xlabel('Median value of owner-occupied homes in $1000\\'s')\n",
    "plt.ylabel('Index of accessibility to radial highways')\n",
    "plt.title('MEDV vs RAD', fontsize=14)"
   ]
  },
  {
   "cell_type": "markdown",
   "metadata": {},
   "source": [
    "This is quite a bit different to the other plots - the RAD value refers to \"index of accessibility to major highways\" - it appears that there is a broad range of houses values that have an accessibility rating between 0 and 10, then a very large gap, with a range of houses in the low- to medium price range (with a single high price outlier) with a much higher index of around 24."
   ]
  },
  {
   "cell_type": "markdown",
   "metadata": {},
   "source": [
    "Next, we can use a box and whisker plot to look at some of the descriptive statistics of the variables."
   ]
  },
  {
   "cell_type": "code",
   "execution_count": 18,
   "metadata": {},
   "outputs": [
    {
     "data": {
      "text/plain": [
       "Text(0.5, 1, 'Box and Whisker Plots for Each Variable')"
      ]
     },
     "execution_count": 18,
     "metadata": {},
     "output_type": "execute_result"
    },
    {
     "data": {
      "image/png": "[encoded data removed]",
      "text/plain": [
       "<Figure size 900x360 with 1 Axes>"
      ]
     },
     "metadata": {
      "needs_background": "light"
     },
     "output_type": "display_data"
    }
   ],
   "source": [
    "g = sns.catplot(x='value', y='variable', data=pd.melt(df), kind='box', height=5, aspect=2.5);\n",
    "plt.title('Box and Whisker Plots for Each Variable', fontsize=14)"
   ]
  },
  {
   "cell_type": "markdown",
   "metadata": {},
   "source": [
    "Clearly, they all have very distinctive characteristics - but we already have most of this information in numerical format. What this really tells us is that certain (most) variables have a good number of outliers - this should be a consideration in development of our neural network later."
   ]
  },
  {
   "cell_type": "markdown",
   "metadata": {},
   "source": [
    "## Infer"
   ]
  },
  {
   "cell_type": "code",
   "execution_count": 19,
   "metadata": {},
   "outputs": [
    {
     "data": {
      "text/plain": [
       "Text(0.5, 1.0, 'MEDV vs CHAS')"
      ]
     },
     "execution_count": 19,
     "metadata": {},
     "output_type": "execute_result"
    },
    {
     "data": {
      "image/png": "[encoded data removed]",
      "text/plain": [
       "<Figure size 432x288 with 1 Axes>"
      ]
     },
     "metadata": {
      "needs_background": "light"
     },
     "output_type": "display_data"
    }
   ],
   "source": [
    "sns.regplot(x='MEDV', y='CHAS', data=df)\n",
    "plt.xlabel('Median value of owner-occupied homes in $1000\\'s')\n",
    "plt.ylabel('Charles River dummy variable \\n(= 1 if tract bounds river; 0 otherwise)')\n",
    "plt.title('MEDV vs CHAS', fontsize=14)"
   ]
  },
  {
   "cell_type": "raw",
   "metadata": {},
   "source": [
    "First we'll display the range of house values per CHAS value, side by side on a catplot. We'll leave jitter switched on to get a better idea of the density of house values."
   ]
  },
  {
   "cell_type": "code",
   "execution_count": 20,
   "metadata": {},
   "outputs": [
    {
     "data": {
      "text/plain": [
       "Text(0.5, 1, 'CHAS vs MEDV')"
      ]
     },
     "execution_count": 20,
     "metadata": {},
     "output_type": "execute_result"
    },
    {
     "data": {
      "image/png": "[encoded data removed]",
      "text/plain": [
       "<Figure size 360x360 with 1 Axes>"
      ]
     },
     "metadata": {
      "needs_background": "light"
     },
     "output_type": "display_data"
    }
   ],
   "source": [
    "sns.catplot(x='CHAS', y='MEDV',  data=df)\n",
    "plt.xlabel('Charles River dummy variable \\n(= 1 if tract bounds river; 0 otherwise)')\n",
    "plt.ylabel('Median value of owner-occupied homes in $1000\\'s')\n",
    "plt.title('CHAS vs MEDV', fontsize=14)"
   ]
  },
  {
   "cell_type": "markdown",
   "metadata": {},
   "source": [
    "Now lets visualise the distribution of this using histograms (Statistics.laerd.com, 2019a) with KDEs (Mathisonian.github.io, 2019) overlaid on the same plot:"
   ]
  },
  {
   "cell_type": "code",
   "execution_count": 21,
   "metadata": {},
   "outputs": [
    {
     "data": {
      "text/plain": [
       "<matplotlib.legend.Legend at 0x2018c15f940>"
      ]
     },
     "execution_count": 21,
     "metadata": {},
     "output_type": "execute_result"
    },
    {
     "data": {
      "image/png": "[encoded data removed]",
      "text/plain": [
       "<Figure size 432x288 with 1 Axes>"
      ]
     },
     "metadata": {
      "needs_background": "light"
     },
     "output_type": "display_data"
    }
   ],
   "source": [
    "# Extract subsets of the dataframe for houses on the Charles River (ry) vs houses not on it (rn)\n",
    "ry = df.loc[df['CHAS'] == 1]\n",
    "rn = df.loc[df['CHAS'] == 0]\n",
    "\n",
    "# Overlay a distplot for each on the same plot for comparison\n",
    "sns.distplot(ry['MEDV'], color='b', label = \"CHAS = 1\")\n",
    "sns.distplot(rn['MEDV'], color='r', label = \"CHAS = 0\")\n",
    "\n",
    "plt.xlabel('Average number of rooms per dwelling')\n",
    "plt.ylabel('Frequency')\n",
    "plt.title('Distribution of Median House Value', fontsize=14)\n",
    "plt.legend()"
   ]
  },
  {
   "cell_type": "markdown",
   "metadata": {},
   "source": [
    "Although the histograms of the two data sets look quite different, the shapes of the kernel density estimate plots are not dissimilar - although it can be said with reasonable confidence that the values of houses on the Charles River appear to be generally higher than those not on it. We will have to confirm this now by carrying out statistical tests using SciPy."
   ]
  },
  {
   "cell_type": "markdown",
   "metadata": {},
   "source": [
    "### T-Test"
   ]
  },
  {
   "cell_type": "markdown",
   "metadata": {},
   "source": [
    "We can carry out a t-test (Statistics.laerd.com, 2019b) using scipy.stats to check if there is a significant difference in median house prices between those along the Charles River and those that are not. We need to use an independent t-test. Usage of t-test generally requires 6 assumptions (but exceptions can be made):\n",
    "1. The dependent variable should be measured on a continuous scale: This is our MEDV variable, the assumption holds true\n",
    "2. The independent variable should consist of two categorical, independent groups: This is the CHAS variable, the assumption holds true\n",
    "3. You should have independence of observations: There is no relationship between observations in each group or between groups, the assumption holds true\n",
    "4. There should be no significant outliers: This will have to be checked - it may be an issue\n",
    "5. The dependent variable should be approximately normally distributed for each group of the independent variable: This will have to be checked - it may be an issue\n",
    "6. There needs to be homogeneity of variances: This will have to be checked - it may be an issue"
   ]
  },
  {
   "cell_type": "markdown",
   "metadata": {},
   "source": [
    "#### Assumption 4 Resolution"
   ]
  },
  {
   "cell_type": "markdown",
   "metadata": {},
   "source": [
    "Unfortunately, our earlier box and whisker plot indicated that the MEDV column included a significant number of (high) outliers. We can try creating a subset of the DataFrame with only rows where the MEDV value is below a certain number."
   ]
  },
  {
   "cell_type": "code",
   "execution_count": 22,
   "metadata": {
    "scrolled": true
   },
   "outputs": [
    {
     "data": {
      "text/plain": [
       "CRIM       462\n",
       "ZN         462\n",
       "INDUS      462\n",
       "CHAS       462\n",
       "NOX        462\n",
       "RM         462\n",
       "AGE        462\n",
       "DIS        462\n",
       "RAD        462\n",
       "TAX        462\n",
       "PTRATIO    462\n",
       "B          462\n",
       "LSTAT      462\n",
       "MEDV       462\n",
       "dtype: int64"
      ]
     },
     "execution_count": 22,
     "metadata": {},
     "output_type": "execute_result"
    }
   ],
   "source": [
    "# Select rows with MEDV < 36 (from trial and error)\n",
    "dfSubset = df.query(\"MEDV < 36\")\n",
    "dfSubset.count()"
   ]
  },
  {
   "cell_type": "markdown",
   "metadata": {},
   "source": [
    "This leaves us with 462 rows out of the original 506, still more than 90% of the dataset to work with. Creating a box and whisker plot shows that no more outliers are present:"
   ]
  },
  {
   "cell_type": "code",
   "execution_count": 23,
   "metadata": {},
   "outputs": [
    {
     "data": {
      "text/plain": [
       "Text(0.5, 1.0, 'Distribution of Median House Value (with outliers removed)')"
      ]
     },
     "execution_count": 23,
     "metadata": {},
     "output_type": "execute_result"
    },
    {
     "data": {
      "image/png": "[encoded data removed]",
      "text/plain": [
       "<Figure size 720x360 with 1 Axes>"
      ]
     },
     "metadata": {
      "needs_background": "light"
     },
     "output_type": "display_data"
    }
   ],
   "source": [
    "plt.figure(figsize = (10,5)) # Widen figure for better appreciation of shape\n",
    "sns.boxplot(data=dfSubset[\"MEDV\"], orient=\"h\")\n",
    "plt.xlabel('Value')\n",
    "plt.ylabel('MEDV')\n",
    "plt.title('Distribution of Median House Value (with outliers removed)', fontsize=14)"
   ]
  },
  {
   "cell_type": "markdown",
   "metadata": {},
   "source": [
    "Assumption 4 is now resolved."
   ]
  },
  {
   "cell_type": "markdown",
   "metadata": {},
   "source": [
    "#### Assumption 5 Resolution"
   ]
  },
  {
   "cell_type": "markdown",
   "metadata": {},
   "source": [
    "There are different ways of checking for normality, fortunately SciPy incorporates a Shapiro-Wilk test (Docs.scipy.org, 2019a) for normality."
   ]
  },
  {
   "cell_type": "code",
   "execution_count": 24,
   "metadata": {},
   "outputs": [
    {
     "data": {
      "text/plain": [
       "(0.9889508485794067, 0.001468385336920619)"
      ]
     },
     "execution_count": 24,
     "metadata": {},
     "output_type": "execute_result"
    }
   ],
   "source": [
    "ss.shapiro(dfSubset[\"MEDV\"])"
   ]
  },
  {
   "cell_type": "markdown",
   "metadata": {},
   "source": [
    "The p-value is approx. 0.0015 - this is unfortunately not quite good enough to presume normality as a p-value of 0.05 is generally the lower bound for significance. However, this may not be an issue - a sufficiently large sample size (N>50) means we can ignore this assumption (Bartlett, 2019)!"
   ]
  },
  {
   "cell_type": "markdown",
   "metadata": {},
   "source": [
    "#### Assumption 6 Resolution"
   ]
  },
  {
   "cell_type": "markdown",
   "metadata": {},
   "source": [
    "The final assumption requires a test of variance. Firstly we can split the subset DataFrame using the CHAS value as we did above for the original DataFrame."
   ]
  },
  {
   "cell_type": "code",
   "execution_count": 25,
   "metadata": {},
   "outputs": [
    {
     "data": {
      "text/plain": [
       "<matplotlib.legend.Legend at 0x2018c2fe1d0>"
      ]
     },
     "execution_count": 25,
     "metadata": {},
     "output_type": "execute_result"
    },
    {
     "data": {
      "image/png": "[encoded data removed]",
      "text/plain": [
       "<Figure size 432x288 with 1 Axes>"
      ]
     },
     "metadata": {
      "needs_background": "light"
     },
     "output_type": "display_data"
    }
   ],
   "source": [
    "# Extract sub-subsets of the subset dataframe for houses on the Charles River (rys) vs houses not on it (rns)\n",
    "rys = dfSubset.loc[dfSubset['CHAS'] == 1]\n",
    "rns = dfSubset.loc[dfSubset['CHAS'] == 0]\n",
    "\n",
    "# Overlay a distplot for each on the same plot for comparison\n",
    "sns.distplot(rys['MEDV'], color='b', label = \"CHAS = 1\")\n",
    "sns.distplot(rns['MEDV'], color='r', label = \"CHAS = 0\")\n",
    "\n",
    "plt.xlabel('Average number of rooms per dwelling')\n",
    "plt.ylabel('Frequency')\n",
    "plt.title('Distribution of Median House Value (MEDV <36)', fontsize=14)\n",
    "plt.legend()"
   ]
  },
  {
   "cell_type": "markdown",
   "metadata": {},
   "source": [
    "SciPy can implement the Levene test (Docs.scipy.org, 2019b) to check homogeneity of variance:"
   ]
  },
  {
   "cell_type": "code",
   "execution_count": 26,
   "metadata": {},
   "outputs": [
    {
     "data": {
      "text/plain": [
       "LeveneResult(statistic=4.590342218715871, pvalue=0.03263097600633006)"
      ]
     },
     "execution_count": 26,
     "metadata": {},
     "output_type": "execute_result"
    }
   ],
   "source": [
    "ss.levene(ry['MEDV'], rn['MEDV'], center='median')"
   ]
  },
  {
   "cell_type": "markdown",
   "metadata": {},
   "source": [
    "Our p value unfortunately indicates that the null hypothesis (that homogeneity of variances exists) is rejected. This does not mean that we cannot carry out out a t-test - it just means that we have to carry out a specific type, called a Welch's t-test (Statistics How To, 2019)."
   ]
  },
  {
   "cell_type": "markdown",
   "metadata": {},
   "source": [
    "#### T-Test Implementation"
   ]
  },
  {
   "cell_type": "markdown",
   "metadata": {},
   "source": [
    "The null hypothesis here is that the means are equal. Therefore if there is no significant difference between the means, the t-statistic should be close to 0."
   ]
  },
  {
   "cell_type": "markdown",
   "metadata": {},
   "source": [
    "First we need MEDV split into two separate sets - one where CHAS=0 and one where CHAS=1. This has already been carried out to generate the histograms above:\n",
    "* rns = DataFrame containing only data on houses not along the Charles River (subset where MEDV < 36)\n",
    "* rys = DataFrame containing only data on houses along the Charles River (subset where MEDV < 36)"
   ]
  },
  {
   "cell_type": "markdown",
   "metadata": {},
   "source": [
    "We can now finally use SciPy's t-test function."
   ]
  },
  {
   "cell_type": "code",
   "execution_count": 27,
   "metadata": {},
   "outputs": [
    {
     "data": {
      "text/plain": [
       "Ttest_indResult(statistic=-2.606848398069803, pvalue=0.013854478784092262)"
      ]
     },
     "execution_count": 27,
     "metadata": {},
     "output_type": "execute_result"
    }
   ],
   "source": [
    "# equal_var=False to force use of Welch's t-test\n",
    "ss.ttest_ind(rns['MEDV'], rys['MEDV'], equal_var=False)"
   ]
  },
  {
   "cell_type": "markdown",
   "metadata": {},
   "source": [
    "Results:\n",
    "* t-Statistic: -2.607\n",
    "* p-value: 0.014"
   ]
  },
  {
   "cell_type": "markdown",
   "metadata": {},
   "source": [
    "#### p-value\n",
    "We generally accept a p-value of 0.05 as being the lower bound of whether a relationship is significant or not. Our calculated p-value is somewhat lower than this, we can therefore conclude that there is a significant difference between the means - in other words we reject the null hypothesis and can state that there is a significant difference in median house prices between those on the Charles River and those not on it."
   ]
  },
  {
   "cell_type": "markdown",
   "metadata": {},
   "source": [
    "#### Comparison"
   ]
  },
  {
   "cell_type": "markdown",
   "metadata": {},
   "source": [
    "In order to satisfy curiosity, we can apply the same test to the original dataset (ignoring the required assumptions above):"
   ]
  },
  {
   "cell_type": "code",
   "execution_count": 28,
   "metadata": {},
   "outputs": [
    {
     "data": {
      "text/plain": [
       "Ttest_indResult(statistic=-3.113291312794837, pvalue=0.003567170098137517)"
      ]
     },
     "execution_count": 28,
     "metadata": {},
     "output_type": "execute_result"
    }
   ],
   "source": [
    "ss.ttest_ind(rn['MEDV'], ry['MEDV'], equal_var=False)"
   ]
  },
  {
   "cell_type": "markdown",
   "metadata": {},
   "source": [
    "This p-value is even lower than the one above! Now we can be certain that the null hypothesis should be rejected."
   ]
  },
  {
   "cell_type": "markdown",
   "metadata": {},
   "source": [
    "### Conclusions"
   ]
  },
  {
   "cell_type": "markdown",
   "metadata": {},
   "source": [
    "We can conclude that the difference in the means is statistically significant. However we should caveat this - earlier we noted that an issue with the MEDV values - the distribution of the values indicate that the value above 50 have been truncated for some reason, this would certainly have an effect on the means. We dealt with this by removing outliers, but use of the full dataset would of course be preferable."
   ]
  },
  {
   "cell_type": "markdown",
   "metadata": {},
   "source": [
    "## Predict"
   ]
  },
  {
   "cell_type": "markdown",
   "metadata": {},
   "source": [
    "We will now use the Keras package to create a neural network to predict the median house price based on the datasets other variables."
   ]
  },
  {
   "cell_type": "markdown",
   "metadata": {},
   "source": [
    "### Choosing Correlated Variables"
   ]
  },
  {
   "cell_type": "markdown",
   "metadata": {},
   "source": [
    "Firstly we can generate a correlation plot using NumPy and Seaborn (Seaborn.pydata.org, 2019) to check which variables correlate with each other."
   ]
  },
  {
   "cell_type": "code",
   "execution_count": 29,
   "metadata": {},
   "outputs": [
    {
     "data": {
      "text/plain": [
       "Text(0.5, 1, 'Heatmap of Correlations between Variables')"
      ]
     },
     "execution_count": 29,
     "metadata": {},
     "output_type": "execute_result"
    },
    {
     "data": {
      "image/png": "[encoded data removed]",
      "text/plain": [
       "<Figure size 864x720 with 2 Axes>"
      ]
     },
     "metadata": {},
     "output_type": "display_data"
    }
   ],
   "source": [
    "# Seaborn heatmap\n",
    "sns.set(style='dark')\n",
    "\n",
    "# Mask upper triangle\n",
    "mask = np.zeros_like(df.corr(), dtype=np.bool)\n",
    "mask[np.triu_indices_from(mask)] = True\n",
    "\n",
    "plt.figure(figsize = (12,10))\n",
    "sns.heatmap(df.corr().round(2), annot=True, mask=mask, cmap='coolwarm', center=0, linewidths=0.2)\n",
    "\n",
    "plt.title('Heatmap of Correlations between Variables', fontsize=14)"
   ]
  },
  {
   "cell_type": "markdown",
   "metadata": {},
   "source": [
    "We are of course mostly interested in which correlate most strongly (either positively or negatively) with MEDV. Lets take the top 6:\n",
    "* INDUS: -0.48\n",
    "* NOX: -0.43\n",
    "* RM: 0.7\n",
    "* TAX: -0.47\n",
    "* PTRATIO: -0.51\n",
    "* LSTAT: -0.74\n",
    "    \n",
    "We can use these as inputs for the model by creating a new DataFrame using only the 6 required columns."
   ]
  },
  {
   "cell_type": "code",
   "execution_count": 30,
   "metadata": {},
   "outputs": [
    {
     "data": {
      "text/html": [
       "<div>\n",
       "<style scoped>\n",
       "    .dataframe tbody tr th:only-of-type {\n",
       "        vertical-align: middle;\n",
       "    }\n",
       "\n",
       "    .dataframe tbody tr th {\n",
       "        vertical-align: top;\n",
       "    }\n",
       "\n",
       "    .dataframe thead th {\n",
       "        text-align: right;\n",
       "    }\n",
       "</style>\n",
       "<table border=\"1\" class=\"dataframe\">\n",
       "  <thead>\n",
       "    <tr style=\"text-align: right;\">\n",
       "      <th></th>\n",
       "      <th>INDUS</th>\n",
       "      <th>NOX</th>\n",
       "      <th>RM</th>\n",
       "      <th>TAX</th>\n",
       "      <th>PTRATIO</th>\n",
       "      <th>LSTAT</th>\n",
       "    </tr>\n",
       "  </thead>\n",
       "  <tbody>\n",
       "    <tr>\n",
       "      <th>count</th>\n",
       "      <td>462.000000</td>\n",
       "      <td>462.000000</td>\n",
       "      <td>462.000000</td>\n",
       "      <td>462.000000</td>\n",
       "      <td>462.000000</td>\n",
       "      <td>462.000000</td>\n",
       "    </tr>\n",
       "    <tr>\n",
       "      <th>mean</th>\n",
       "      <td>11.519957</td>\n",
       "      <td>0.557831</td>\n",
       "      <td>6.165803</td>\n",
       "      <td>416.181818</td>\n",
       "      <td>18.658009</td>\n",
       "      <td>13.418983</td>\n",
       "    </tr>\n",
       "    <tr>\n",
       "      <th>std</th>\n",
       "      <td>6.768981</td>\n",
       "      <td>0.117763</td>\n",
       "      <td>0.569855</td>\n",
       "      <td>169.000756</td>\n",
       "      <td>2.034563</td>\n",
       "      <td>6.979870</td>\n",
       "    </tr>\n",
       "    <tr>\n",
       "      <th>min</th>\n",
       "      <td>0.740000</td>\n",
       "      <td>0.385000</td>\n",
       "      <td>3.561000</td>\n",
       "      <td>187.000000</td>\n",
       "      <td>12.600000</td>\n",
       "      <td>1.980000</td>\n",
       "    </tr>\n",
       "    <tr>\n",
       "      <th>25%</th>\n",
       "      <td>5.860000</td>\n",
       "      <td>0.453000</td>\n",
       "      <td>5.872500</td>\n",
       "      <td>284.250000</td>\n",
       "      <td>17.450000</td>\n",
       "      <td>7.835000</td>\n",
       "    </tr>\n",
       "    <tr>\n",
       "      <th>50%</th>\n",
       "      <td>9.900000</td>\n",
       "      <td>0.538000</td>\n",
       "      <td>6.157500</td>\n",
       "      <td>341.000000</td>\n",
       "      <td>19.100000</td>\n",
       "      <td>12.300000</td>\n",
       "    </tr>\n",
       "    <tr>\n",
       "      <th>75%</th>\n",
       "      <td>18.100000</td>\n",
       "      <td>0.624000</td>\n",
       "      <td>6.486500</td>\n",
       "      <td>666.000000</td>\n",
       "      <td>20.200000</td>\n",
       "      <td>17.277500</td>\n",
       "    </tr>\n",
       "    <tr>\n",
       "      <th>max</th>\n",
       "      <td>27.740000</td>\n",
       "      <td>0.871000</td>\n",
       "      <td>8.780000</td>\n",
       "      <td>711.000000</td>\n",
       "      <td>22.000000</td>\n",
       "      <td>37.970000</td>\n",
       "    </tr>\n",
       "  </tbody>\n",
       "</table>\n",
       "</div>"
      ],
      "text/plain": [
       "            INDUS         NOX          RM         TAX     PTRATIO       LSTAT\n",
       "count  462.000000  462.000000  462.000000  462.000000  462.000000  462.000000\n",
       "mean    11.519957    0.557831    6.165803  416.181818   18.658009   13.418983\n",
       "std      6.768981    0.117763    0.569855  169.000756    2.034563    6.979870\n",
       "min      0.740000    0.385000    3.561000  187.000000   12.600000    1.980000\n",
       "25%      5.860000    0.453000    5.872500  284.250000   17.450000    7.835000\n",
       "50%      9.900000    0.538000    6.157500  341.000000   19.100000   12.300000\n",
       "75%     18.100000    0.624000    6.486500  666.000000   20.200000   17.277500\n",
       "max     27.740000    0.871000    8.780000  711.000000   22.000000   37.970000"
      ]
     },
     "execution_count": 30,
     "metadata": {},
     "output_type": "execute_result"
    }
   ],
   "source": [
    "inputs = dfSubset[['INDUS', 'NOX', 'RM', 'TAX', 'PTRATIO', 'LSTAT']]\n",
    "inputs.describe()"
   ]
  },
  {
   "cell_type": "markdown",
   "metadata": {},
   "source": [
    "We must also indicate the outputs:"
   ]
  },
  {
   "cell_type": "code",
   "execution_count": 31,
   "metadata": {},
   "outputs": [],
   "source": [
    "outputs = dfSubset['MEDV']"
   ]
  },
  {
   "cell_type": "markdown",
   "metadata": {},
   "source": [
    "### Split Dataset"
   ]
  },
  {
   "cell_type": "markdown",
   "metadata": {},
   "source": [
    "We need to split the dataset into a training dataset and a testing dataset. The training data will be used for the model build, whereas the testing dataset will be used for validation. Scikit-learn includes a very convenient function for this."
   ]
  },
  {
   "cell_type": "code",
   "execution_count": 32,
   "metadata": {},
   "outputs": [],
   "source": [
    "import sklearn.model_selection as mod\n",
    "# Split the inputs and outputs into training and test sets.\n",
    "inputs_train, inputs_test, outputs_train, outputs_test = mod.train_test_split(inputs, outputs, test_size=0.2)"
   ]
  },
  {
   "cell_type": "markdown",
   "metadata": {},
   "source": [
    "Lets have a look at our inputs:"
   ]
  },
  {
   "cell_type": "code",
   "execution_count": 33,
   "metadata": {
    "scrolled": true
   },
   "outputs": [
    {
     "name": "stdout",
     "output_type": "stream",
     "text": [
      "            INDUS         NOX          RM         TAX     PTRATIO       LSTAT\n",
      "count  369.000000  369.000000  369.000000  369.000000  369.000000  369.000000\n",
      "mean    11.505881    0.557679    6.158648  416.476965   18.684011   13.486070\n",
      "std      6.683216    0.118156    0.571535  169.225394    2.021969    7.147681\n",
      "min      0.740000    0.385000    3.561000  187.000000   12.600000    1.980000\n",
      "25%      5.860000    0.453000    5.876000  285.000000   17.600000    7.790000\n",
      "50%      9.900000    0.538000    6.162000  345.000000   19.200000   12.260000\n",
      "75%     18.100000    0.624000    6.481000  666.000000   20.200000   17.600000\n",
      "max     27.740000    0.871000    8.780000  711.000000   22.000000   37.970000\n",
      "           INDUS        NOX         RM         TAX    PTRATIO      LSTAT\n",
      "count  93.000000  93.000000  93.000000   93.000000  93.000000  93.000000\n",
      "mean   11.575806   0.558430   6.194194  415.010753  18.554839  13.152796\n",
      "std     7.136396   0.116827   0.565311  169.014953   2.091729   6.298843\n",
      "min     1.470000   0.392000   4.138000  188.000000  12.600000   4.160000\n",
      "25%     5.190000   0.449000   5.869000  284.000000  17.000000   8.470000\n",
      "50%     9.900000   0.544000   6.137000  330.000000  19.100000  12.430000\n",
      "75%    18.100000   0.624000   6.513000  666.000000  20.200000  16.510000\n",
      "max    27.740000   0.871000   7.358000  711.000000  21.200000  30.810000\n"
     ]
    }
   ],
   "source": [
    "print(inputs_train.describe())\n",
    "print(inputs_test.describe())"
   ]
  },
  {
   "cell_type": "markdown",
   "metadata": {},
   "source": [
    "We can also look at the outputs:"
   ]
  },
  {
   "cell_type": "code",
   "execution_count": 34,
   "metadata": {
    "scrolled": true
   },
   "outputs": [
    {
     "name": "stdout",
     "output_type": "stream",
     "text": [
      "count    369.000000\n",
      "mean      20.425203\n",
      "std        6.377716\n",
      "min        5.000000\n",
      "25%       16.100000\n",
      "50%       20.600000\n",
      "75%       24.000000\n",
      "max       35.400000\n",
      "Name: MEDV, dtype: float64\n",
      "count    93.000000\n",
      "mean     20.546237\n",
      "std       6.079519\n",
      "min       7.200000\n",
      "25%      17.000000\n",
      "50%      20.200000\n",
      "75%      23.300000\n",
      "max      34.900000\n",
      "Name: MEDV, dtype: float64\n"
     ]
    }
   ],
   "source": [
    "print(outputs_train.describe())\n",
    "print(outputs_test.describe())"
   ]
  },
  {
   "cell_type": "markdown",
   "metadata": {},
   "source": [
    "### Build Neural Network"
   ]
  },
  {
   "cell_type": "markdown",
   "metadata": {},
   "source": [
    "Once we have the data correctly prepared and all required packages imported, we can build the neural network. In order to analyses the effects on accuracy and performance, we can build a series of increasingly more complex networks - lets make three attempts."
   ]
  },
  {
   "cell_type": "markdown",
   "metadata": {},
   "source": [
    "#### Preprocessing"
   ]
  },
  {
   "cell_type": "markdown",
   "metadata": {},
   "source": [
    "Preprocessing can help models to run more accurately and effectively by preparing the data into a more suitable form (Scikit-learn.org, 2019). Scaling (Benalexkeen.com, 2019) is one such useful technique - it both normalises (transforms all values to between 0 and 1) and standardises (centres the mean at 0) all values - this helps to ensure that larger variable values don't overwhelm smaller ones in the neural network."
   ]
  },
  {
   "cell_type": "markdown",
   "metadata": {},
   "source": [
    "##### Scaling"
   ]
  },
  {
   "cell_type": "code",
   "execution_count": 35,
   "metadata": {},
   "outputs": [],
   "source": [
    "from sklearn import preprocessing\n",
    "# Use the PowerTransformer scaler to increase normality\n",
    "scaler = preprocessing.PowerTransformer()"
   ]
  },
  {
   "cell_type": "code",
   "execution_count": 36,
   "metadata": {},
   "outputs": [],
   "source": [
    "inputs_train_scaled = pd.DataFrame(scaler.fit_transform(inputs_train), columns=inputs.columns)"
   ]
  },
  {
   "cell_type": "code",
   "execution_count": 37,
   "metadata": {
    "scrolled": true
   },
   "outputs": [
    {
     "data": {
      "text/html": [
       "<div>\n",
       "<style scoped>\n",
       "    .dataframe tbody tr th:only-of-type {\n",
       "        vertical-align: middle;\n",
       "    }\n",
       "\n",
       "    .dataframe tbody tr th {\n",
       "        vertical-align: top;\n",
       "    }\n",
       "\n",
       "    .dataframe thead th {\n",
       "        text-align: right;\n",
       "    }\n",
       "</style>\n",
       "<table border=\"1\" class=\"dataframe\">\n",
       "  <thead>\n",
       "    <tr style=\"text-align: right;\">\n",
       "      <th></th>\n",
       "      <th>INDUS</th>\n",
       "      <th>NOX</th>\n",
       "      <th>RM</th>\n",
       "      <th>TAX</th>\n",
       "      <th>PTRATIO</th>\n",
       "      <th>LSTAT</th>\n",
       "    </tr>\n",
       "  </thead>\n",
       "  <tbody>\n",
       "    <tr>\n",
       "      <th>count</th>\n",
       "      <td>3.690000e+02</td>\n",
       "      <td>3.690000e+02</td>\n",
       "      <td>3.690000e+02</td>\n",
       "      <td>3.690000e+02</td>\n",
       "      <td>3.690000e+02</td>\n",
       "      <td>3.690000e+02</td>\n",
       "    </tr>\n",
       "    <tr>\n",
       "      <th>mean</th>\n",
       "      <td>-1.468262e-16</td>\n",
       "      <td>-6.146845e-16</td>\n",
       "      <td>-5.193640e-16</td>\n",
       "      <td>5.735099e-15</td>\n",
       "      <td>-2.166289e-17</td>\n",
       "      <td>-1.274199e-15</td>\n",
       "    </tr>\n",
       "    <tr>\n",
       "      <th>std</th>\n",
       "      <td>1.001358e+00</td>\n",
       "      <td>1.001358e+00</td>\n",
       "      <td>1.001358e+00</td>\n",
       "      <td>1.001358e+00</td>\n",
       "      <td>1.001358e+00</td>\n",
       "      <td>1.001358e+00</td>\n",
       "    </tr>\n",
       "    <tr>\n",
       "      <th>min</th>\n",
       "      <td>-2.098507e+00</td>\n",
       "      <td>-1.883219e+00</td>\n",
       "      <td>-3.834809e+00</td>\n",
       "      <td>-2.131081e+00</td>\n",
       "      <td>-2.037170e+00</td>\n",
       "      <td>-2.753549e+00</td>\n",
       "    </tr>\n",
       "    <tr>\n",
       "      <th>25%</th>\n",
       "      <td>-7.785616e-01</td>\n",
       "      <td>-9.248844e-01</td>\n",
       "      <td>-5.311901e-01</td>\n",
       "      <td>-7.382143e-01</td>\n",
       "      <td>-7.433726e-01</td>\n",
       "      <td>-7.729449e-01</td>\n",
       "    </tr>\n",
       "    <tr>\n",
       "      <th>50%</th>\n",
       "      <td>-9.056830e-02</td>\n",
       "      <td>2.620554e-03</td>\n",
       "      <td>-3.322763e-02</td>\n",
       "      <td>-1.941574e-01</td>\n",
       "      <td>8.860741e-02</td>\n",
       "      <td>3.893209e-02</td>\n",
       "    </tr>\n",
       "    <tr>\n",
       "      <th>75%</th>\n",
       "      <td>9.825655e-01</td>\n",
       "      <td>7.172658e-01</td>\n",
       "      <td>5.453911e-01</td>\n",
       "      <td>1.336767e+00</td>\n",
       "      <td>7.600339e-01</td>\n",
       "      <td>7.331621e-01</td>\n",
       "    </tr>\n",
       "    <tr>\n",
       "      <th>max</th>\n",
       "      <td>1.973275e+00</td>\n",
       "      <td>2.000716e+00</td>\n",
       "      <td>5.436218e+00</td>\n",
       "      <td>1.463920e+00</td>\n",
       "      <td>2.330959e+00</td>\n",
       "      <td>2.336352e+00</td>\n",
       "    </tr>\n",
       "  </tbody>\n",
       "</table>\n",
       "</div>"
      ],
      "text/plain": [
       "              INDUS           NOX            RM           TAX       PTRATIO  \\\n",
       "count  3.690000e+02  3.690000e+02  3.690000e+02  3.690000e+02  3.690000e+02   \n",
       "mean  -1.468262e-16 -6.146845e-16 -5.193640e-16  5.735099e-15 -2.166289e-17   \n",
       "std    1.001358e+00  1.001358e+00  1.001358e+00  1.001358e+00  1.001358e+00   \n",
       "min   -2.098507e+00 -1.883219e+00 -3.834809e+00 -2.131081e+00 -2.037170e+00   \n",
       "25%   -7.785616e-01 -9.248844e-01 -5.311901e-01 -7.382143e-01 -7.433726e-01   \n",
       "50%   -9.056830e-02  2.620554e-03 -3.322763e-02 -1.941574e-01  8.860741e-02   \n",
       "75%    9.825655e-01  7.172658e-01  5.453911e-01  1.336767e+00  7.600339e-01   \n",
       "max    1.973275e+00  2.000716e+00  5.436218e+00  1.463920e+00  2.330959e+00   \n",
       "\n",
       "              LSTAT  \n",
       "count  3.690000e+02  \n",
       "mean  -1.274199e-15  \n",
       "std    1.001358e+00  \n",
       "min   -2.753549e+00  \n",
       "25%   -7.729449e-01  \n",
       "50%    3.893209e-02  \n",
       "75%    7.331621e-01  \n",
       "max    2.336352e+00  "
      ]
     },
     "execution_count": 37,
     "metadata": {},
     "output_type": "execute_result"
    }
   ],
   "source": [
    "inputs_train_scaled.describe()"
   ]
  },
  {
   "cell_type": "code",
   "execution_count": 38,
   "metadata": {},
   "outputs": [],
   "source": [
    "inputs_test_scaled = pd.DataFrame(scaler.fit_transform(inputs_test), columns=inputs.columns)"
   ]
  },
  {
   "cell_type": "code",
   "execution_count": 39,
   "metadata": {
    "scrolled": true
   },
   "outputs": [
    {
     "data": {
      "text/html": [
       "<div>\n",
       "<style scoped>\n",
       "    .dataframe tbody tr th:only-of-type {\n",
       "        vertical-align: middle;\n",
       "    }\n",
       "\n",
       "    .dataframe tbody tr th {\n",
       "        vertical-align: top;\n",
       "    }\n",
       "\n",
       "    .dataframe thead th {\n",
       "        text-align: right;\n",
       "    }\n",
       "</style>\n",
       "<table border=\"1\" class=\"dataframe\">\n",
       "  <thead>\n",
       "    <tr style=\"text-align: right;\">\n",
       "      <th></th>\n",
       "      <th>INDUS</th>\n",
       "      <th>NOX</th>\n",
       "      <th>RM</th>\n",
       "      <th>TAX</th>\n",
       "      <th>PTRATIO</th>\n",
       "      <th>LSTAT</th>\n",
       "    </tr>\n",
       "  </thead>\n",
       "  <tbody>\n",
       "    <tr>\n",
       "      <th>count</th>\n",
       "      <td>9.300000e+01</td>\n",
       "      <td>9.300000e+01</td>\n",
       "      <td>9.300000e+01</td>\n",
       "      <td>9.300000e+01</td>\n",
       "      <td>9.300000e+01</td>\n",
       "      <td>9.300000e+01</td>\n",
       "    </tr>\n",
       "    <tr>\n",
       "      <th>mean</th>\n",
       "      <td>-1.260566e-16</td>\n",
       "      <td>-3.452361e-15</td>\n",
       "      <td>3.664930e-16</td>\n",
       "      <td>4.480287e-15</td>\n",
       "      <td>8.356517e-17</td>\n",
       "      <td>-1.742931e-16</td>\n",
       "    </tr>\n",
       "    <tr>\n",
       "      <th>std</th>\n",
       "      <td>1.005420e+00</td>\n",
       "      <td>1.005420e+00</td>\n",
       "      <td>1.005420e+00</td>\n",
       "      <td>1.005420e+00</td>\n",
       "      <td>1.005420e+00</td>\n",
       "      <td>1.005420e+00</td>\n",
       "    </tr>\n",
       "    <tr>\n",
       "      <th>min</th>\n",
       "      <td>-1.944797e+00</td>\n",
       "      <td>-1.828616e+00</td>\n",
       "      <td>-3.309438e+00</td>\n",
       "      <td>-2.145833e+00</td>\n",
       "      <td>-1.956638e+00</td>\n",
       "      <td>-1.939600e+00</td>\n",
       "    </tr>\n",
       "    <tr>\n",
       "      <th>25%</th>\n",
       "      <td>-8.649818e-01</td>\n",
       "      <td>-1.012469e+00</td>\n",
       "      <td>-6.009353e-01</td>\n",
       "      <td>-7.506509e-01</td>\n",
       "      <td>-9.519150e-01</td>\n",
       "      <td>-6.909516e-01</td>\n",
       "    </tr>\n",
       "    <tr>\n",
       "      <th>50%</th>\n",
       "      <td>-3.078239e-02</td>\n",
       "      <td>4.544040e-02</td>\n",
       "      <td>-1.309781e-01</td>\n",
       "      <td>-3.111777e-01</td>\n",
       "      <td>7.969647e-02</td>\n",
       "      <td>7.339527e-02</td>\n",
       "    </tr>\n",
       "    <tr>\n",
       "      <th>75%</th>\n",
       "      <td>9.529156e-01</td>\n",
       "      <td>7.194350e-01</td>\n",
       "      <td>5.505292e-01</td>\n",
       "      <td>1.351863e+00</td>\n",
       "      <td>8.397071e-01</td>\n",
       "      <td>6.773982e-01</td>\n",
       "    </tr>\n",
       "    <tr>\n",
       "      <th>max</th>\n",
       "      <td>1.784421e+00</td>\n",
       "      <td>2.035273e+00</td>\n",
       "      <td>2.174904e+00</td>\n",
       "      <td>1.478495e+00</td>\n",
       "      <td>1.694388e+00</td>\n",
       "      <td>2.115264e+00</td>\n",
       "    </tr>\n",
       "  </tbody>\n",
       "</table>\n",
       "</div>"
      ],
      "text/plain": [
       "              INDUS           NOX            RM           TAX       PTRATIO  \\\n",
       "count  9.300000e+01  9.300000e+01  9.300000e+01  9.300000e+01  9.300000e+01   \n",
       "mean  -1.260566e-16 -3.452361e-15  3.664930e-16  4.480287e-15  8.356517e-17   \n",
       "std    1.005420e+00  1.005420e+00  1.005420e+00  1.005420e+00  1.005420e+00   \n",
       "min   -1.944797e+00 -1.828616e+00 -3.309438e+00 -2.145833e+00 -1.956638e+00   \n",
       "25%   -8.649818e-01 -1.012469e+00 -6.009353e-01 -7.506509e-01 -9.519150e-01   \n",
       "50%   -3.078239e-02  4.544040e-02 -1.309781e-01 -3.111777e-01  7.969647e-02   \n",
       "75%    9.529156e-01  7.194350e-01  5.505292e-01  1.351863e+00  8.397071e-01   \n",
       "max    1.784421e+00  2.035273e+00  2.174904e+00  1.478495e+00  1.694388e+00   \n",
       "\n",
       "              LSTAT  \n",
       "count  9.300000e+01  \n",
       "mean  -1.742931e-16  \n",
       "std    1.005420e+00  \n",
       "min   -1.939600e+00  \n",
       "25%   -6.909516e-01  \n",
       "50%    7.339527e-02  \n",
       "75%    6.773982e-01  \n",
       "max    2.115264e+00  "
      ]
     },
     "execution_count": 39,
     "metadata": {},
     "output_type": "execute_result"
    }
   ],
   "source": [
    "inputs_test_scaled.describe()"
   ]
  },
  {
   "cell_type": "markdown",
   "metadata": {},
   "source": [
    "#### Keras"
   ]
  },
  {
   "cell_type": "markdown",
   "metadata": {},
   "source": [
    "The first step in building the models will be to import a number of modules from Keras. Running this, we well receive a message stating that Keras is \"Using TensorFlow backend\" - Keras sits on top of another, more low level, package called TensorFlow."
   ]
  },
  {
   "cell_type": "code",
   "execution_count": 40,
   "metadata": {},
   "outputs": [
    {
     "name": "stderr",
     "output_type": "stream",
     "text": [
      "Using TensorFlow backend.\n"
     ]
    }
   ],
   "source": [
    "from keras.models import Sequential # Create sequential model\n",
    "from keras.layers import Dense # Add dense layers\n",
    "from keras.callbacks import EarlyStopping # Allow early stopping of fit process"
   ]
  },
  {
   "cell_type": "markdown",
   "metadata": {},
   "source": [
    "There are many different ways to build a neural network, the accuracy will depend on the approach we take. Once compiled, the model will be \"fitted\" to an input dataset iteratively. The iterative process consists of two elements (Brownlee, 2019a):\n",
    "* Epochs: The number of times the learning algorithm works through the dataset\n",
    "* Batches: The number of samples processed before the model is updated\n",
    "\n",
    "It is difficult to estimate at this point how many epochs are required, therefore we can implement an early stopping function (Brownlee, 2019b) to stop this once certain parameters are reached."
   ]
  },
  {
   "cell_type": "code",
   "execution_count": 41,
   "metadata": {},
   "outputs": [],
   "source": [
    "earlystop = EarlyStopping(monitor='val_loss', patience=30, verbose=1, mode='min', restore_best_weights=True)"
   ]
  },
  {
   "cell_type": "markdown",
   "metadata": {},
   "source": [
    "##### Defining Helper Functions"
   ]
  },
  {
   "cell_type": "markdown",
   "metadata": {},
   "source": [
    "It will be useful to create some helper functions now as some of the following work will be repetitive."
   ]
  },
  {
   "cell_type": "code",
   "execution_count": 42,
   "metadata": {},
   "outputs": [],
   "source": [
    "# Function that carries out the Keras evaluate() function and prints to a specified format\n",
    "def evaluator(evalN, modelN):\n",
    "    evalN = modelN.evaluate(inputs_test_scaled, outputs_test, verbose=0) # Use Keras evaluate on the input row\n",
    "    print('This model evaluates as:')\n",
    "    print('* Loss:', evalN[0])\n",
    "    print('* MAE:', evalN[1])\n",
    "    print('* Accuracy:', evalN[2])"
   ]
  },
  {
   "cell_type": "code",
   "execution_count": 43,
   "metadata": {},
   "outputs": [],
   "source": [
    "# Function that carries out the Keras predict() function and prints to a specified format\n",
    "def predictor(inpRows, predN, modelN):\n",
    "    print('This model predicts as:')\n",
    "    for i in inpRows: # Run for each element in the inpRows array\n",
    "        actVal = outputs_test[i:i+i].iloc[0] # Extract the target value\n",
    "        predN = modelN.predict(inputs_test_scaled.as_matrix()[i:i+1]) # Use Keras predict on the input row\n",
    "        predVal = predN[0][0] # Extract the prediction from the array returned by Keras predict function\n",
    "        diffVal = abs(actVal - predVal) # Calculate the absolute difference between target and predicted value\n",
    "        print(f\"* Target value: {actVal:4.2f} | Predicted Value: {predVal:4.2f} | Absolute Difference: {diffVal:3.2f}\") # f-string to output formatted numbers"
   ]
  },
  {
   "cell_type": "markdown",
   "metadata": {},
   "source": [
    "#### Model Parameters"
   ]
  },
  {
   "cell_type": "markdown",
   "metadata": {},
   "source": [
    "We need to carefully select our model parameters - these will have a big impact on how the models run:\n",
    "* Activation: The activation function maps inputs to outputs in a non-linear, complex manner. ReLU (Rectified Linear Units) is preferred (Medium, 2019a).\n",
    "* Loss: Simply put, the loss function in the value that the model attempts to minimise. It is normal to start with Mean Squared Error (MSE) (Brownlee, 2019c).\n",
    "* Optimizer: This is an algorithm that helps to minimise the loss function (Medium, 2019b). We will try the ADAM (Adaptive Moment Estimation) algorithm due to its speed and efficiency."
   ]
  },
  {
   "cell_type": "markdown",
   "metadata": {},
   "source": [
    "#### First Attempt"
   ]
  },
  {
   "cell_type": "markdown",
   "metadata": {},
   "source": [
    "This will be a three layer neural network with densities of 32, 16 and 1."
   ]
  },
  {
   "cell_type": "markdown",
   "metadata": {},
   "source": [
    "##### Construct Model"
   ]
  },
  {
   "cell_type": "code",
   "execution_count": 44,
   "metadata": {
    "scrolled": true
   },
   "outputs": [
    {
     "name": "stdout",
     "output_type": "stream",
     "text": [
      "WARNING:tensorflow:From C:\\Users\\Peter McGowan\\Anaconda3\\lib\\site-packages\\tensorflow\\python\\ops\\resource_variable_ops.py:435: colocate_with (from tensorflow.python.framework.ops) is deprecated and will be removed in a future version.\n",
      "Instructions for updating:\n",
      "Colocations handled automatically by placer.\n",
      "Model: \"sequential_1\"\n",
      "_________________________________________________________________\n",
      "Layer (type)                 Output Shape              Param #   \n",
      "=================================================================\n",
      "dense_1 (Dense)              (None, 32)                224       \n",
      "_________________________________________________________________\n",
      "dense_2 (Dense)              (None, 16)                528       \n",
      "_________________________________________________________________\n",
      "dense_3 (Dense)              (None, 1)                 17        \n",
      "=================================================================\n",
      "Total params: 769\n",
      "Trainable params: 769\n",
      "Non-trainable params: 0\n",
      "_________________________________________________________________\n"
     ]
    }
   ],
   "source": [
    "model1 = Sequential() \n",
    "\n",
    "model1.add(Dense(units=32, activation='relu', input_dim=6))\n",
    "model1.add(Dense(units=16, activation='relu'))\n",
    "model1.add(Dense(units=1))\n",
    "\n",
    "model1.compile(loss='mse', optimizer='adam', metrics=['mae', 'acc'])\n",
    "\n",
    "model1.summary()"
   ]
  },
  {
   "cell_type": "markdown",
   "metadata": {},
   "source": [
    "##### Training"
   ]
  },
  {
   "cell_type": "markdown",
   "metadata": {},
   "source": [
    "Now we can fit the model and store it in a \"history\" object. We will set its number of epochs at 500 and allow it to call the \"earlystop\" function. We will also allow it split the input data into a training set and a validation set - this is distinct from the testing set that will be used to evaluate the data later."
   ]
  },
  {
   "cell_type": "code",
   "execution_count": 45,
   "metadata": {
    "scrolled": true
   },
   "outputs": [
    {
     "name": "stdout",
     "output_type": "stream",
     "text": [
      "WARNING:tensorflow:From C:\\Users\\Peter McGowan\\Anaconda3\\lib\\site-packages\\tensorflow\\python\\ops\\math_ops.py:3066: to_int32 (from tensorflow.python.ops.math_ops) is deprecated and will be removed in a future version.\n",
      "Instructions for updating:\n",
      "Use tf.cast instead.\n",
      "Train on 332 samples, validate on 37 samples\n",
      "Epoch 1/500\n",
      "332/332 [==============================] - 0s 329us/step - loss: 435.9515 - mae: 19.9321 - acc: 0.0000e+00 - val_loss: 381.1301 - val_mae: 18.5341 - val_acc: 0.0000e+00\n",
      "Epoch 2/500\n",
      "332/332 [==============================] - 0s 0us/step - loss: 421.3517 - mae: 19.5833 - acc: 0.0000e+00 - val_loss: 366.1179 - val_mae: 18.1313 - val_acc: 0.0000e+00\n",
      "Epoch 3/500\n",
      "332/332 [==============================] - 0s 47us/step - loss: 405.1376 - mae: 19.1748 - acc: 0.0000e+00 - val_loss: 347.8882 - val_mae: 17.6306 - val_acc: 0.0000e+00\n",
      "Epoch 4/500\n",
      "332/332 [==============================] - 0s 47us/step - loss: 385.3218 - mae: 18.6628 - acc: 0.0000e+00 - val_loss: 326.3084 - val_mae: 17.0202 - val_acc: 0.0000e+00\n",
      "Epoch 5/500\n",
      "332/332 [==============================] - 0s 0us/step - loss: 361.2100 - mae: 18.0267 - acc: 0.0000e+00 - val_loss: 301.1219 - val_mae: 16.2859 - val_acc: 0.0000e+00\n",
      "Epoch 6/500\n",
      "332/332 [==============================] - 0s 47us/step - loss: 331.9530 - mae: 17.2433 - acc: 0.0000e+00 - val_loss: 272.1983 - val_mae: 15.3980 - val_acc: 0.0270\n",
      "Epoch 7/500\n",
      "332/332 [==============================] - 0s 47us/step - loss: 298.0574 - mae: 16.2800 - acc: 0.0030 - val_loss: 239.5743 - val_mae: 14.3759 - val_acc: 0.0000e+00\n",
      "Epoch 8/500\n",
      "332/332 [==============================] - 0s 0us/step - loss: 260.9517 - mae: 15.1562 - acc: 0.0060 - val_loss: 204.6291 - val_mae: 13.2255 - val_acc: 0.0000e+00\n",
      "Epoch 9/500\n",
      "332/332 [==============================] - 0s 0us/step - loss: 221.7725 - mae: 13.8883 - acc: 0.0000e+00 - val_loss: 169.3275 - val_mae: 11.9324 - val_acc: 0.0000e+00\n",
      "Epoch 10/500\n",
      "332/332 [==============================] - 0s 47us/step - loss: 182.6601 - mae: 12.4935 - acc: 0.0000e+00 - val_loss: 134.7160 - val_mae: 10.4881 - val_acc: 0.0000e+00\n",
      "Epoch 11/500\n",
      "332/332 [==============================] - 0s 47us/step - loss: 145.5009 - mae: 11.0305 - acc: 0.0000e+00 - val_loss: 103.3775 - val_mae: 9.0184 - val_acc: 0.0000e+00\n",
      "Epoch 12/500\n",
      "332/332 [==============================] - 0s 0us/step - loss: 113.7635 - mae: 9.5538 - acc: 0.0000e+00 - val_loss: 77.9114 - val_mae: 7.6187 - val_acc: 0.0000e+00\n",
      "Epoch 13/500\n",
      "332/332 [==============================] - 0s 47us/step - loss: 88.2758 - mae: 8.1676 - acc: 0.0090 - val_loss: 60.2472 - val_mae: 6.4697 - val_acc: 0.0000e+00\n",
      "Epoch 14/500\n",
      "332/332 [==============================] - 0s 47us/step - loss: 71.7878 - mae: 7.2226 - acc: 0.0030 - val_loss: 49.2988 - val_mae: 5.5155 - val_acc: 0.0000e+00\n",
      "Epoch 15/500\n",
      "332/332 [==============================] - 0s 0us/step - loss: 62.2967 - mae: 6.6514 - acc: 0.0060 - val_loss: 43.3557 - val_mae: 5.0152 - val_acc: 0.0000e+00\n",
      "Epoch 16/500\n",
      "332/332 [==============================] - 0s 0us/step - loss: 56.5359 - mae: 6.2910 - acc: 0.0090 - val_loss: 40.1861 - val_mae: 4.7222 - val_acc: 0.0000e+00\n",
      "Epoch 17/500\n",
      "332/332 [==============================] - 0s 47us/step - loss: 52.8411 - mae: 6.0620 - acc: 0.0030 - val_loss: 38.1830 - val_mae: 4.5277 - val_acc: 0.0000e+00\n",
      "Epoch 18/500\n",
      "332/332 [==============================] - 0s 47us/step - loss: 49.8918 - mae: 5.8681 - acc: 0.0000e+00 - val_loss: 36.4298 - val_mae: 4.3819 - val_acc: 0.0000e+00\n",
      "Epoch 19/500\n",
      "332/332 [==============================] - 0s 0us/step - loss: 47.3857 - mae: 5.7065 - acc: 0.0000e+00 - val_loss: 35.0503 - val_mae: 4.2809 - val_acc: 0.0000e+00\n",
      "Epoch 20/500\n",
      "332/332 [==============================] - 0s 47us/step - loss: 44.9183 - mae: 5.5393 - acc: 0.0000e+00 - val_loss: 33.4896 - val_mae: 4.1714 - val_acc: 0.0000e+00\n",
      "Epoch 21/500\n",
      "332/332 [==============================] - 0s 47us/step - loss: 42.5757 - mae: 5.3730 - acc: 0.0000e+00 - val_loss: 31.8168 - val_mae: 4.0534 - val_acc: 0.0000e+00\n",
      "Epoch 22/500\n",
      "332/332 [==============================] - 0s 47us/step - loss: 40.4323 - mae: 5.2136 - acc: 0.0000e+00 - val_loss: 30.2542 - val_mae: 3.9526 - val_acc: 0.0000e+00\n",
      "Epoch 23/500\n",
      "332/332 [==============================] - 0s 0us/step - loss: 38.5022 - mae: 5.0695 - acc: 0.0000e+00 - val_loss: 28.7442 - val_mae: 3.8552 - val_acc: 0.0000e+00\n",
      "Epoch 24/500\n",
      "332/332 [==============================] - 0s 0us/step - loss: 36.6831 - mae: 4.9306 - acc: 0.0000e+00 - val_loss: 27.3719 - val_mae: 3.7763 - val_acc: 0.0000e+00\n",
      "Epoch 25/500\n",
      "332/332 [==============================] - 0s 47us/step - loss: 35.0243 - mae: 4.7993 - acc: 0.0000e+00 - val_loss: 25.8524 - val_mae: 3.6735 - val_acc: 0.0000e+00\n",
      "Epoch 26/500\n",
      "332/332 [==============================] - 0s 47us/step - loss: 33.4893 - mae: 4.6753 - acc: 0.0000e+00 - val_loss: 24.6217 - val_mae: 3.5983 - val_acc: 0.0000e+00\n",
      "Epoch 27/500\n",
      "332/332 [==============================] - 0s 0us/step - loss: 32.1728 - mae: 4.5701 - acc: 0.0000e+00 - val_loss: 23.5067 - val_mae: 3.5091 - val_acc: 0.0000e+00\n",
      "Epoch 28/500\n",
      "332/332 [==============================] - 0s 47us/step - loss: 30.9383 - mae: 4.4818 - acc: 0.0090 - val_loss: 22.7199 - val_mae: 3.4506 - val_acc: 0.0000e+00\n",
      "Epoch 29/500\n",
      "332/332 [==============================] - 0s 47us/step - loss: 29.9280 - mae: 4.4117 - acc: 0.0060 - val_loss: 21.8526 - val_mae: 3.3985 - val_acc: 0.0000e+00\n",
      "Epoch 30/500\n",
      "332/332 [==============================] - 0s 0us/step - loss: 28.9649 - mae: 4.3377 - acc: 0.0060 - val_loss: 20.8360 - val_mae: 3.3085 - val_acc: 0.0000e+00\n",
      "Epoch 31/500\n",
      "332/332 [==============================] - 0s 0us/step - loss: 28.0407 - mae: 4.2738 - acc: 0.0030 - val_loss: 20.1483 - val_mae: 3.2677 - val_acc: 0.0000e+00\n",
      "Epoch 32/500\n",
      "332/332 [==============================] - 0s 47us/step - loss: 27.2758 - mae: 4.2195 - acc: 0.0060 - val_loss: 19.3317 - val_mae: 3.2177 - val_acc: 0.0270\n",
      "Epoch 33/500\n",
      "332/332 [==============================] - 0s 47us/step - loss: 26.4949 - mae: 4.1589 - acc: 0.0060 - val_loss: 18.5432 - val_mae: 3.1708 - val_acc: 0.0270\n",
      "Epoch 34/500\n",
      "332/332 [==============================] - 0s 0us/step - loss: 25.7884 - mae: 4.1017 - acc: 0.0060 - val_loss: 17.8329 - val_mae: 3.1243 - val_acc: 0.0270\n",
      "Epoch 35/500\n",
      "332/332 [==============================] - 0s 47us/step - loss: 25.2161 - mae: 4.0516 - acc: 0.0060 - val_loss: 17.0722 - val_mae: 3.0785 - val_acc: 0.0270\n",
      "Epoch 36/500\n",
      "332/332 [==============================] - 0s 47us/step - loss: 24.5493 - mae: 3.9939 - acc: 0.0030 - val_loss: 16.3899 - val_mae: 3.0237 - val_acc: 0.0270\n",
      "Epoch 37/500\n",
      "332/332 [==============================] - 0s 0us/step - loss: 23.9945 - mae: 3.9437 - acc: 0.0030 - val_loss: 15.7611 - val_mae: 2.9727 - val_acc: 0.0270\n",
      "Epoch 38/500\n",
      "332/332 [==============================] - 0s 0us/step - loss: 23.4773 - mae: 3.8979 - acc: 0.0030 - val_loss: 15.2973 - val_mae: 2.9502 - val_acc: 0.0541\n",
      "Epoch 39/500\n",
      "332/332 [==============================] - 0s 47us/step - loss: 22.9632 - mae: 3.8539 - acc: 0.0030 - val_loss: 15.0903 - val_mae: 2.9292 - val_acc: 0.0541\n",
      "Epoch 40/500\n",
      "332/332 [==============================] - 0s 47us/step - loss: 22.4880 - mae: 3.8137 - acc: 0.0030 - val_loss: 14.7126 - val_mae: 2.9080 - val_acc: 0.0270\n",
      "Epoch 41/500\n",
      "332/332 [==============================] - 0s 0us/step - loss: 21.9899 - mae: 3.7670 - acc: 0.0030 - val_loss: 14.4320 - val_mae: 2.8802 - val_acc: 0.0270\n",
      "Epoch 42/500\n",
      "332/332 [==============================] - 0s 0us/step - loss: 21.5730 - mae: 3.7286 - acc: 0.0030 - val_loss: 14.0365 - val_mae: 2.8442 - val_acc: 0.0270\n",
      "Epoch 43/500\n",
      "332/332 [==============================] - 0s 47us/step - loss: 21.1108 - mae: 3.6815 - acc: 0.0030 - val_loss: 13.6829 - val_mae: 2.8219 - val_acc: 0.0270\n",
      "Epoch 44/500\n",
      "332/332 [==============================] - 0s 47us/step - loss: 20.7287 - mae: 3.6409 - acc: 0.0030 - val_loss: 13.4275 - val_mae: 2.8060 - val_acc: 0.0270\n",
      "Epoch 45/500\n",
      "332/332 [==============================] - 0s 0us/step - loss: 20.3339 - mae: 3.5954 - acc: 0.0030 - val_loss: 13.0195 - val_mae: 2.7550 - val_acc: 0.0270\n",
      "Epoch 46/500\n",
      "332/332 [==============================] - 0s 0us/step - loss: 19.9374 - mae: 3.5532 - acc: 0.0060 - val_loss: 12.9496 - val_mae: 2.7431 - val_acc: 0.0270\n",
      "Epoch 47/500\n",
      "332/332 [==============================] - 0s 47us/step - loss: 19.5402 - mae: 3.5128 - acc: 0.0060 - val_loss: 12.7962 - val_mae: 2.7347 - val_acc: 0.0270\n",
      "Epoch 48/500\n",
      "332/332 [==============================] - 0s 47us/step - loss: 19.2027 - mae: 3.4705 - acc: 0.0060 - val_loss: 12.5240 - val_mae: 2.7063 - val_acc: 0.0270\n",
      "Epoch 49/500\n",
      "332/332 [==============================] - 0s 0us/step - loss: 18.8493 - mae: 3.4328 - acc: 0.0060 - val_loss: 12.4204 - val_mae: 2.6928 - val_acc: 0.0270\n",
      "Epoch 50/500\n",
      "332/332 [==============================] - 0s 47us/step - loss: 18.5237 - mae: 3.4004 - acc: 0.0060 - val_loss: 12.2733 - val_mae: 2.6727 - val_acc: 0.0270\n",
      "Epoch 51/500\n",
      "332/332 [==============================] - 0s 47us/step - loss: 18.1829 - mae: 3.3593 - acc: 0.0060 - val_loss: 12.1828 - val_mae: 2.6711 - val_acc: 0.0270\n",
      "Epoch 52/500\n",
      "332/332 [==============================] - 0s 0us/step - loss: 17.9098 - mae: 3.3228 - acc: 0.0060 - val_loss: 12.2132 - val_mae: 2.6773 - val_acc: 0.0270\n",
      "Epoch 53/500\n",
      "332/332 [==============================] - 0s 0us/step - loss: 17.5712 - mae: 3.2912 - acc: 0.0060 - val_loss: 12.0354 - val_mae: 2.6477 - val_acc: 0.0270\n",
      "Epoch 54/500\n",
      "332/332 [==============================] - 0s 47us/step - loss: 17.3238 - mae: 3.2701 - acc: 0.0060 - val_loss: 11.8900 - val_mae: 2.6276 - val_acc: 0.0270\n",
      "Epoch 55/500\n",
      "332/332 [==============================] - 0s 55us/step - loss: 17.0292 - mae: 3.2318 - acc: 0.0060 - val_loss: 11.5392 - val_mae: 2.5933 - val_acc: 0.0270\n",
      "Epoch 56/500\n",
      "332/332 [==============================] - 0s 9us/step - loss: 16.7325 - mae: 3.1936 - acc: 0.0060 - val_loss: 11.4401 - val_mae: 2.5856 - val_acc: 0.0270\n",
      "Epoch 57/500\n",
      "332/332 [==============================] - 0s 47us/step - loss: 16.4923 - mae: 3.1650 - acc: 0.0030 - val_loss: 11.3468 - val_mae: 2.5757 - val_acc: 0.0270\n",
      "Epoch 58/500\n",
      "332/332 [==============================] - 0s 0us/step - loss: 16.2524 - mae: 3.1418 - acc: 0.0030 - val_loss: 11.5314 - val_mae: 2.6032 - val_acc: 0.0270\n",
      "Epoch 59/500\n",
      "332/332 [==============================] - 0s 0us/step - loss: 15.9890 - mae: 3.1083 - acc: 0.0030 - val_loss: 11.3559 - val_mae: 2.5839 - val_acc: 0.0270\n",
      "Epoch 60/500\n",
      "332/332 [==============================] - 0s 47us/step - loss: 15.7549 - mae: 3.0826 - acc: 0.0030 - val_loss: 11.3630 - val_mae: 2.5884 - val_acc: 0.0541\n",
      "Epoch 61/500\n",
      "332/332 [==============================] - 0s 47us/step - loss: 15.5529 - mae: 3.0598 - acc: 0.0030 - val_loss: 11.0432 - val_mae: 2.5375 - val_acc: 0.0541\n",
      "Epoch 62/500\n",
      "332/332 [==============================] - 0s 0us/step - loss: 15.3201 - mae: 3.0254 - acc: 0.0030 - val_loss: 10.9350 - val_mae: 2.5219 - val_acc: 0.0541\n",
      "Epoch 63/500\n",
      "332/332 [==============================] - 0s 47us/step - loss: 15.0892 - mae: 3.0062 - acc: 0.0030 - val_loss: 11.0655 - val_mae: 2.5322 - val_acc: 0.0541\n",
      "Epoch 64/500\n",
      "332/332 [==============================] - 0s 47us/step - loss: 14.8337 - mae: 2.9819 - acc: 0.0030 - val_loss: 11.0863 - val_mae: 2.5424 - val_acc: 0.0541\n",
      "Epoch 65/500\n",
      "332/332 [==============================] - 0s 0us/step - loss: 14.6758 - mae: 2.9644 - acc: 0.0030 - val_loss: 11.1068 - val_mae: 2.5465 - val_acc: 0.0541\n",
      "Epoch 66/500\n",
      "332/332 [==============================] - 0s 0us/step - loss: 14.4268 - mae: 2.9361 - acc: 0.0030 - val_loss: 10.8580 - val_mae: 2.5160 - val_acc: 0.0541\n",
      "Epoch 67/500\n",
      "332/332 [==============================] - 0s 47us/step - loss: 14.2111 - mae: 2.9076 - acc: 0.0030 - val_loss: 10.6278 - val_mae: 2.4858 - val_acc: 0.0541\n",
      "Epoch 68/500\n",
      "332/332 [==============================] - 0s 47us/step - loss: 14.0210 - mae: 2.8859 - acc: 0.0030 - val_loss: 10.6176 - val_mae: 2.4905 - val_acc: 0.0541\n",
      "Epoch 69/500\n",
      "332/332 [==============================] - 0s 0us/step - loss: 13.8346 - mae: 2.8639 - acc: 0.0030 - val_loss: 10.5042 - val_mae: 2.4795 - val_acc: 0.0270\n",
      "Epoch 70/500\n",
      "332/332 [==============================] - 0s 0us/step - loss: 13.6464 - mae: 2.8428 - acc: 0.0030 - val_loss: 10.3690 - val_mae: 2.4558 - val_acc: 0.0270\n",
      "Epoch 71/500\n",
      "332/332 [==============================] - 0s 47us/step - loss: 13.4529 - mae: 2.8243 - acc: 0.0030 - val_loss: 10.4168 - val_mae: 2.4615 - val_acc: 0.0270\n",
      "Epoch 72/500\n",
      "332/332 [==============================] - 0s 47us/step - loss: 13.2721 - mae: 2.8064 - acc: 0.0030 - val_loss: 10.3138 - val_mae: 2.4486 - val_acc: 0.0270\n",
      "Epoch 73/500\n",
      "332/332 [==============================] - 0s 0us/step - loss: 13.1265 - mae: 2.7879 - acc: 0.0030 - val_loss: 10.3945 - val_mae: 2.4684 - val_acc: 0.0270\n",
      "Epoch 74/500\n",
      "332/332 [==============================] - 0s 0us/step - loss: 12.9716 - mae: 2.7702 - acc: 0.0030 - val_loss: 10.2614 - val_mae: 2.4462 - val_acc: 0.0270\n",
      "Epoch 75/500\n",
      "332/332 [==============================] - 0s 47us/step - loss: 12.7931 - mae: 2.7503 - acc: 0.0030 - val_loss: 10.0826 - val_mae: 2.4300 - val_acc: 0.0270\n",
      "Epoch 76/500\n",
      "332/332 [==============================] - 0s 47us/step - loss: 12.6661 - mae: 2.7304 - acc: 0.0060 - val_loss: 9.8898 - val_mae: 2.3954 - val_acc: 0.0541\n",
      "Epoch 77/500\n",
      "332/332 [==============================] - 0s 0us/step - loss: 12.5022 - mae: 2.7147 - acc: 0.0060 - val_loss: 9.9675 - val_mae: 2.4077 - val_acc: 0.0270\n",
      "Epoch 78/500\n",
      "332/332 [==============================] - 0s 47us/step - loss: 12.3538 - mae: 2.7008 - acc: 0.0060 - val_loss: 9.8969 - val_mae: 2.3952 - val_acc: 0.0270\n",
      "Epoch 79/500\n",
      "332/332 [==============================] - 0s 47us/step - loss: 12.2466 - mae: 2.6917 - acc: 0.0060 - val_loss: 9.7705 - val_mae: 2.3792 - val_acc: 0.0541\n",
      "Epoch 80/500\n",
      "332/332 [==============================] - 0s 47us/step - loss: 12.0785 - mae: 2.6707 - acc: 0.0060 - val_loss: 9.6890 - val_mae: 2.3668 - val_acc: 0.0541\n",
      "Epoch 81/500\n",
      "332/332 [==============================] - 0s 0us/step - loss: 11.9520 - mae: 2.6554 - acc: 0.0060 - val_loss: 9.5889 - val_mae: 2.3521 - val_acc: 0.0541\n",
      "Epoch 82/500\n",
      "332/332 [==============================] - 0s 47us/step - loss: 11.8130 - mae: 2.6420 - acc: 0.0120 - val_loss: 9.3599 - val_mae: 2.3056 - val_acc: 0.0270\n",
      "Epoch 83/500\n",
      "332/332 [==============================] - 0s 50us/step - loss: 11.7138 - mae: 2.6328 - acc: 0.0120 - val_loss: 9.3058 - val_mae: 2.2815 - val_acc: 0.0541\n",
      "Epoch 84/500\n",
      "332/332 [==============================] - 0s 0us/step - loss: 11.6111 - mae: 2.6219 - acc: 0.0181 - val_loss: 9.2767 - val_mae: 2.2729 - val_acc: 0.0541\n",
      "Epoch 85/500\n",
      "332/332 [==============================] - 0s 47us/step - loss: 11.4816 - mae: 2.6098 - acc: 0.0120 - val_loss: 9.3008 - val_mae: 2.2942 - val_acc: 0.0270\n",
      "Epoch 86/500\n",
      "332/332 [==============================] - 0s 47us/step - loss: 11.3440 - mae: 2.5918 - acc: 0.0120 - val_loss: 9.1244 - val_mae: 2.2741 - val_acc: 0.0270\n",
      "Epoch 87/500\n",
      "332/332 [==============================] - 0s 47us/step - loss: 11.2444 - mae: 2.5747 - acc: 0.0151 - val_loss: 8.9862 - val_mae: 2.2487 - val_acc: 0.0270\n",
      "Epoch 88/500\n",
      "332/332 [==============================] - 0s 0us/step - loss: 11.1145 - mae: 2.5591 - acc: 0.0120 - val_loss: 9.0418 - val_mae: 2.2560 - val_acc: 0.0270\n",
      "Epoch 89/500\n",
      "332/332 [==============================] - 0s 47us/step - loss: 11.0776 - mae: 2.5584 - acc: 0.0151 - val_loss: 9.2192 - val_mae: 2.2866 - val_acc: 0.0541\n",
      "Epoch 90/500\n",
      "332/332 [==============================] - 0s 47us/step - loss: 10.9675 - mae: 2.5429 - acc: 0.0120 - val_loss: 8.8885 - val_mae: 2.2386 - val_acc: 0.0270\n",
      "Epoch 91/500\n",
      "332/332 [==============================] - 0s 47us/step - loss: 10.8418 - mae: 2.5221 - acc: 0.0120 - val_loss: 8.8218 - val_mae: 2.2246 - val_acc: 0.0270\n",
      "Epoch 92/500\n",
      "332/332 [==============================] - 0s 0us/step - loss: 10.7885 - mae: 2.5156 - acc: 0.0181 - val_loss: 8.9621 - val_mae: 2.2408 - val_acc: 0.0270\n",
      "Epoch 93/500\n",
      "332/332 [==============================] - 0s 0us/step - loss: 10.6489 - mae: 2.4958 - acc: 0.0181 - val_loss: 8.8003 - val_mae: 2.2147 - val_acc: 0.0270\n",
      "Epoch 94/500\n",
      "332/332 [==============================] - 0s 47us/step - loss: 10.5601 - mae: 2.4796 - acc: 0.0120 - val_loss: 8.5851 - val_mae: 2.1908 - val_acc: 0.0270\n",
      "Epoch 95/500\n",
      "332/332 [==============================] - 0s 47us/step - loss: 10.4753 - mae: 2.4698 - acc: 0.0120 - val_loss: 8.5355 - val_mae: 2.1761 - val_acc: 0.0270\n",
      "Epoch 96/500\n",
      "332/332 [==============================] - 0s 0us/step - loss: 10.3887 - mae: 2.4607 - acc: 0.0090 - val_loss: 8.4518 - val_mae: 2.1654 - val_acc: 0.0270\n",
      "Epoch 97/500\n",
      "332/332 [==============================] - 0s 0us/step - loss: 10.3019 - mae: 2.4488 - acc: 0.0090 - val_loss: 8.5093 - val_mae: 2.1688 - val_acc: 0.0270\n",
      "Epoch 98/500\n",
      "332/332 [==============================] - 0s 47us/step - loss: 10.2284 - mae: 2.4434 - acc: 0.0181 - val_loss: 8.5362 - val_mae: 2.1753 - val_acc: 0.0270\n",
      "Epoch 99/500\n",
      "332/332 [==============================] - 0s 47us/step - loss: 10.1581 - mae: 2.4341 - acc: 0.0181 - val_loss: 8.4913 - val_mae: 2.1688 - val_acc: 0.0270\n",
      "Epoch 100/500\n",
      "332/332 [==============================] - 0s 0us/step - loss: 10.0880 - mae: 2.4273 - acc: 0.0181 - val_loss: 8.3971 - val_mae: 2.1554 - val_acc: 0.0270\n",
      "Epoch 101/500\n",
      "332/332 [==============================] - 0s 47us/step - loss: 9.9898 - mae: 2.4125 - acc: 0.0151 - val_loss: 8.2840 - val_mae: 2.1371 - val_acc: 0.0270\n",
      "Epoch 102/500\n",
      "332/332 [==============================] - 0s 47us/step - loss: 9.9943 - mae: 2.4080 - acc: 0.0090 - val_loss: 7.9579 - val_mae: 2.1000 - val_acc: 0.0270\n",
      "Epoch 103/500\n",
      "332/332 [==============================] - 0s 47us/step - loss: 9.8742 - mae: 2.3940 - acc: 0.0060 - val_loss: 7.9662 - val_mae: 2.1001 - val_acc: 0.0270\n",
      "Epoch 104/500\n",
      "332/332 [==============================] - 0s 0us/step - loss: 9.7883 - mae: 2.3829 - acc: 0.0120 - val_loss: 8.0316 - val_mae: 2.1224 - val_acc: 0.0270\n",
      "Epoch 105/500\n",
      "332/332 [==============================] - 0s 47us/step - loss: 9.7649 - mae: 2.3803 - acc: 0.0181 - val_loss: 8.0692 - val_mae: 2.1297 - val_acc: 0.0270\n",
      "Epoch 106/500\n",
      "332/332 [==============================] - 0s 47us/step - loss: 9.6882 - mae: 2.3709 - acc: 0.0151 - val_loss: 7.9847 - val_mae: 2.1131 - val_acc: 0.0270\n",
      "Epoch 107/500\n",
      "332/332 [==============================] - 0s 47us/step - loss: 9.6177 - mae: 2.3651 - acc: 0.0151 - val_loss: 7.9299 - val_mae: 2.1045 - val_acc: 0.0270\n",
      "Epoch 108/500\n",
      "332/332 [==============================] - 0s 0us/step - loss: 9.5485 - mae: 2.3558 - acc: 0.0151 - val_loss: 7.9419 - val_mae: 2.0969 - val_acc: 0.0270\n",
      "Epoch 109/500\n",
      "332/332 [==============================] - 0s 47us/step - loss: 9.4892 - mae: 2.3466 - acc: 0.0151 - val_loss: 7.8987 - val_mae: 2.0948 - val_acc: 0.0270\n",
      "Epoch 110/500\n",
      "332/332 [==============================] - 0s 47us/step - loss: 9.4759 - mae: 2.3365 - acc: 0.0120 - val_loss: 7.8508 - val_mae: 2.1005 - val_acc: 0.0000e+00\n",
      "Epoch 111/500\n",
      "332/332 [==============================] - 0s 0us/step - loss: 9.4006 - mae: 2.3260 - acc: 0.0120 - val_loss: 7.7227 - val_mae: 2.0829 - val_acc: 0.0000e+00\n",
      "Epoch 112/500\n",
      "332/332 [==============================] - 0s 0us/step - loss: 9.3122 - mae: 2.3182 - acc: 0.0120 - val_loss: 7.8002 - val_mae: 2.0878 - val_acc: 0.0000e+00\n",
      "Epoch 113/500\n",
      "332/332 [==============================] - 0s 47us/step - loss: 9.2703 - mae: 2.3149 - acc: 0.0120 - val_loss: 7.7438 - val_mae: 2.0896 - val_acc: 0.0000e+00\n",
      "Epoch 114/500\n",
      "332/332 [==============================] - 0s 0us/step - loss: 9.2092 - mae: 2.3090 - acc: 0.0120 - val_loss: 7.7604 - val_mae: 2.0999 - val_acc: 0.0000e+00\n",
      "Epoch 115/500\n",
      "332/332 [==============================] - 0s 47us/step - loss: 9.1453 - mae: 2.3002 - acc: 0.0120 - val_loss: 7.5955 - val_mae: 2.0822 - val_acc: 0.0000e+00\n",
      "Epoch 116/500\n",
      "332/332 [==============================] - 0s 47us/step - loss: 9.0877 - mae: 2.2923 - acc: 0.0120 - val_loss: 7.5599 - val_mae: 2.0747 - val_acc: 0.0000e+00\n",
      "Epoch 117/500\n",
      "332/332 [==============================] - 0s 0us/step - loss: 9.0730 - mae: 2.2862 - acc: 0.0151 - val_loss: 7.4582 - val_mae: 2.0655 - val_acc: 0.0000e+00\n",
      "Epoch 118/500\n",
      "332/332 [==============================] - 0s 47us/step - loss: 9.0306 - mae: 2.2807 - acc: 0.0120 - val_loss: 7.4533 - val_mae: 2.0698 - val_acc: 0.0000e+00\n",
      "Epoch 119/500\n",
      "332/332 [==============================] - 0s 47us/step - loss: 8.9450 - mae: 2.2681 - acc: 0.0120 - val_loss: 7.3628 - val_mae: 2.0647 - val_acc: 0.0000e+00\n",
      "Epoch 120/500\n",
      "332/332 [==============================] - 0s 0us/step - loss: 8.9115 - mae: 2.2637 - acc: 0.0151 - val_loss: 7.2908 - val_mae: 2.0571 - val_acc: 0.0000e+00\n",
      "Epoch 121/500\n",
      "332/332 [==============================] - 0s 47us/step - loss: 8.8847 - mae: 2.2553 - acc: 0.0151 - val_loss: 7.2574 - val_mae: 2.0508 - val_acc: 0.0000e+00\n",
      "Epoch 122/500\n",
      "332/332 [==============================] - 0s 47us/step - loss: 8.8073 - mae: 2.2461 - acc: 0.0151 - val_loss: 7.3501 - val_mae: 2.0572 - val_acc: 0.0000e+00\n",
      "Epoch 123/500\n",
      "332/332 [==============================] - 0s 0us/step - loss: 8.7822 - mae: 2.2468 - acc: 0.0120 - val_loss: 7.2829 - val_mae: 2.0604 - val_acc: 0.0000e+00\n",
      "Epoch 124/500\n",
      "332/332 [==============================] - 0s 47us/step - loss: 8.7092 - mae: 2.2362 - acc: 0.0120 - val_loss: 7.2905 - val_mae: 2.0602 - val_acc: 0.0000e+00\n",
      "Epoch 125/500\n",
      "332/332 [==============================] - 0s 47us/step - loss: 8.6978 - mae: 2.2303 - acc: 0.0120 - val_loss: 7.3693 - val_mae: 2.0633 - val_acc: 0.0000e+00\n",
      "Epoch 126/500\n",
      "332/332 [==============================] - 0s 0us/step - loss: 8.6509 - mae: 2.2258 - acc: 0.0120 - val_loss: 7.2661 - val_mae: 2.0568 - val_acc: 0.0000e+00\n",
      "Epoch 127/500\n",
      "332/332 [==============================] - 0s 47us/step - loss: 8.5731 - mae: 2.2151 - acc: 0.0120 - val_loss: 7.0738 - val_mae: 2.0410 - val_acc: 0.0000e+00\n",
      "Epoch 128/500\n",
      "332/332 [==============================] - 0s 47us/step - loss: 8.5635 - mae: 2.2083 - acc: 0.0120 - val_loss: 7.1321 - val_mae: 2.0446 - val_acc: 0.0000e+00\n",
      "Epoch 129/500\n",
      "332/332 [==============================] - 0s 0us/step - loss: 8.5274 - mae: 2.2074 - acc: 0.0120 - val_loss: 7.1067 - val_mae: 2.0469 - val_acc: 0.0000e+00\n",
      "Epoch 130/500\n",
      "332/332 [==============================] - 0s 47us/step - loss: 8.4684 - mae: 2.1968 - acc: 0.0120 - val_loss: 6.9607 - val_mae: 2.0350 - val_acc: 0.0000e+00\n",
      "Epoch 131/500\n",
      "332/332 [==============================] - 0s 47us/step - loss: 8.4447 - mae: 2.1931 - acc: 0.0090 - val_loss: 7.0394 - val_mae: 2.0501 - val_acc: 0.0000e+00\n",
      "Epoch 132/500\n",
      "332/332 [==============================] - 0s 0us/step - loss: 8.4096 - mae: 2.1835 - acc: 0.0090 - val_loss: 6.9024 - val_mae: 2.0338 - val_acc: 0.0000e+00\n",
      "Epoch 133/500\n",
      "332/332 [==============================] - 0s 47us/step - loss: 8.3739 - mae: 2.1788 - acc: 0.0090 - val_loss: 7.0029 - val_mae: 2.0439 - val_acc: 0.0000e+00\n",
      "Epoch 134/500\n",
      "332/332 [==============================] - 0s 47us/step - loss: 8.3224 - mae: 2.1754 - acc: 0.0120 - val_loss: 7.0746 - val_mae: 2.0535 - val_acc: 0.0000e+00\n",
      "Epoch 135/500\n",
      "332/332 [==============================] - 0s 0us/step - loss: 8.3223 - mae: 2.1726 - acc: 0.0090 - val_loss: 6.9130 - val_mae: 2.0319 - val_acc: 0.0000e+00\n",
      "Epoch 136/500\n",
      "332/332 [==============================] - 0s 47us/step - loss: 8.3548 - mae: 2.1657 - acc: 0.0151 - val_loss: 6.8935 - val_mae: 2.0235 - val_acc: 0.0000e+00\n",
      "Epoch 137/500\n",
      "332/332 [==============================] - 0s 47us/step - loss: 8.2476 - mae: 2.1570 - acc: 0.0211 - val_loss: 7.0077 - val_mae: 2.0508 - val_acc: 0.0000e+00\n",
      "Epoch 138/500\n",
      "332/332 [==============================] - 0s 0us/step - loss: 8.2156 - mae: 2.1613 - acc: 0.0181 - val_loss: 6.9602 - val_mae: 2.0475 - val_acc: 0.0270\n",
      "Epoch 139/500\n",
      "332/332 [==============================] - 0s 47us/step - loss: 8.1763 - mae: 2.1537 - acc: 0.0120 - val_loss: 6.7574 - val_mae: 2.0207 - val_acc: 0.0000e+00\n",
      "Epoch 140/500\n",
      "332/332 [==============================] - 0s 47us/step - loss: 8.1517 - mae: 2.1563 - acc: 0.0181 - val_loss: 6.8367 - val_mae: 2.0154 - val_acc: 0.0000e+00\n",
      "Epoch 141/500\n",
      "332/332 [==============================] - 0s 0us/step - loss: 8.1261 - mae: 2.1613 - acc: 0.0181 - val_loss: 6.8083 - val_mae: 2.0134 - val_acc: 0.0000e+00\n",
      "Epoch 142/500\n",
      "332/332 [==============================] - 0s 47us/step - loss: 8.1124 - mae: 2.1594 - acc: 0.0120 - val_loss: 6.7491 - val_mae: 2.0181 - val_acc: 0.0000e+00\n",
      "Epoch 143/500\n",
      "332/332 [==============================] - 0s 47us/step - loss: 8.1113 - mae: 2.1583 - acc: 0.0151 - val_loss: 7.1159 - val_mae: 2.0824 - val_acc: 0.0270\n",
      "Epoch 144/500\n",
      "332/332 [==============================] - 0s 0us/step - loss: 8.0552 - mae: 2.1559 - acc: 0.0151 - val_loss: 6.9011 - val_mae: 2.0599 - val_acc: 0.0000e+00\n",
      "Epoch 145/500\n",
      "332/332 [==============================] - 0s 47us/step - loss: 7.9897 - mae: 2.1306 - acc: 0.0181 - val_loss: 6.7105 - val_mae: 2.0277 - val_acc: 0.0000e+00\n",
      "Epoch 146/500\n",
      "332/332 [==============================] - 0s 47us/step - loss: 7.9712 - mae: 2.1299 - acc: 0.0211 - val_loss: 6.6531 - val_mae: 2.0150 - val_acc: 0.0000e+00\n",
      "Epoch 147/500\n",
      "332/332 [==============================] - 0s 0us/step - loss: 7.9416 - mae: 2.1211 - acc: 0.0181 - val_loss: 6.6075 - val_mae: 2.0043 - val_acc: 0.0000e+00\n",
      "Epoch 148/500\n",
      "332/332 [==============================] - 0s 0us/step - loss: 7.9161 - mae: 2.1199 - acc: 0.0211 - val_loss: 6.6433 - val_mae: 2.0059 - val_acc: 0.0000e+00\n",
      "Epoch 149/500\n",
      "332/332 [==============================] - 0s 47us/step - loss: 7.8819 - mae: 2.1278 - acc: 0.0181 - val_loss: 6.7971 - val_mae: 2.0492 - val_acc: 0.0000e+00\n",
      "Epoch 150/500\n",
      "332/332 [==============================] - 0s 0us/step - loss: 7.9048 - mae: 2.1313 - acc: 0.0181 - val_loss: 6.8277 - val_mae: 2.0545 - val_acc: 0.0270\n",
      "Epoch 151/500\n",
      "332/332 [==============================] - 0s 47us/step - loss: 7.8333 - mae: 2.1151 - acc: 0.0181 - val_loss: 6.5870 - val_mae: 2.0173 - val_acc: 0.0000e+00\n",
      "Epoch 152/500\n",
      "332/332 [==============================] - 0s 47us/step - loss: 7.8227 - mae: 2.1082 - acc: 0.0151 - val_loss: 6.5293 - val_mae: 2.0086 - val_acc: 0.0000e+00\n",
      "Epoch 153/500\n",
      "332/332 [==============================] - 0s 0us/step - loss: 7.8274 - mae: 2.1093 - acc: 0.0181 - val_loss: 6.6012 - val_mae: 2.0269 - val_acc: 0.0000e+00\n",
      "Epoch 154/500\n",
      "332/332 [==============================] - 0s 0us/step - loss: 7.8232 - mae: 2.1006 - acc: 0.0181 - val_loss: 6.4162 - val_mae: 1.9771 - val_acc: 0.0000e+00\n",
      "Epoch 155/500\n",
      "332/332 [==============================] - 0s 47us/step - loss: 7.7913 - mae: 2.1010 - acc: 0.0211 - val_loss: 6.5154 - val_mae: 1.9979 - val_acc: 0.0000e+00\n",
      "Epoch 156/500\n",
      "332/332 [==============================] - 0s 0us/step - loss: 7.7580 - mae: 2.1019 - acc: 0.0120 - val_loss: 6.4400 - val_mae: 2.0023 - val_acc: 0.0000e+00\n",
      "Epoch 157/500\n",
      "332/332 [==============================] - 0s 0us/step - loss: 7.7311 - mae: 2.0952 - acc: 0.0181 - val_loss: 6.4147 - val_mae: 1.9855 - val_acc: 0.0000e+00\n",
      "Epoch 158/500\n",
      "332/332 [==============================] - 0s 47us/step - loss: 7.6934 - mae: 2.0876 - acc: 0.0241 - val_loss: 6.5116 - val_mae: 2.0167 - val_acc: 0.0000e+00\n",
      "Epoch 159/500\n",
      "332/332 [==============================] - 0s 0us/step - loss: 7.6650 - mae: 2.0879 - acc: 0.0211 - val_loss: 6.4059 - val_mae: 2.0025 - val_acc: 0.0000e+00\n",
      "Epoch 160/500\n",
      "332/332 [==============================] - 0s 0us/step - loss: 7.6355 - mae: 2.0785 - acc: 0.0211 - val_loss: 6.3372 - val_mae: 1.9854 - val_acc: 0.0000e+00\n",
      "Epoch 161/500\n",
      "332/332 [==============================] - 0s 47us/step - loss: 7.6220 - mae: 2.0749 - acc: 0.0211 - val_loss: 6.3675 - val_mae: 1.9896 - val_acc: 0.0000e+00\n",
      "Epoch 162/500\n",
      "332/332 [==============================] - 0s 0us/step - loss: 7.6157 - mae: 2.0756 - acc: 0.0211 - val_loss: 6.2732 - val_mae: 1.9718 - val_acc: 0.0000e+00\n",
      "Epoch 163/500\n",
      "332/332 [==============================] - 0s 0us/step - loss: 7.5708 - mae: 2.0734 - acc: 0.0211 - val_loss: 6.3316 - val_mae: 1.9859 - val_acc: 0.0000e+00\n",
      "Epoch 164/500\n",
      "332/332 [==============================] - 0s 47us/step - loss: 7.5499 - mae: 2.0696 - acc: 0.0241 - val_loss: 6.2352 - val_mae: 1.9665 - val_acc: 0.0000e+00\n",
      "Epoch 165/500\n",
      "332/332 [==============================] - 0s 0us/step - loss: 7.5516 - mae: 2.0658 - acc: 0.0151 - val_loss: 6.1796 - val_mae: 1.9552 - val_acc: 0.0000e+00\n",
      "Epoch 166/500\n",
      "332/332 [==============================] - 0s 0us/step - loss: 7.5134 - mae: 2.0612 - acc: 0.0241 - val_loss: 6.2253 - val_mae: 1.9586 - val_acc: 0.0270\n",
      "Epoch 167/500\n",
      "332/332 [==============================] - 0s 47us/step - loss: 7.4939 - mae: 2.0593 - acc: 0.0241 - val_loss: 6.1395 - val_mae: 1.9506 - val_acc: 0.0000e+00\n",
      "Epoch 168/500\n",
      "332/332 [==============================] - 0s 0us/step - loss: 7.4823 - mae: 2.0567 - acc: 0.0151 - val_loss: 6.0498 - val_mae: 1.9230 - val_acc: 0.0000e+00\n",
      "Epoch 169/500\n",
      "332/332 [==============================] - 0s 0us/step - loss: 7.4325 - mae: 2.0532 - acc: 0.0181 - val_loss: 6.1217 - val_mae: 1.9453 - val_acc: 0.0000e+00\n",
      "Epoch 170/500\n",
      "332/332 [==============================] - 0s 47us/step - loss: 7.4429 - mae: 2.0532 - acc: 0.0241 - val_loss: 6.1866 - val_mae: 1.9604 - val_acc: 0.0000e+00\n",
      "Epoch 171/500\n",
      "332/332 [==============================] - 0s 0us/step - loss: 7.4424 - mae: 2.0502 - acc: 0.0211 - val_loss: 6.0928 - val_mae: 1.9535 - val_acc: 0.0000e+00\n",
      "Epoch 172/500\n",
      "332/332 [==============================] - 0s 0us/step - loss: 7.4265 - mae: 2.0442 - acc: 0.0181 - val_loss: 6.1013 - val_mae: 1.9511 - val_acc: 0.0000e+00\n",
      "Epoch 173/500\n",
      "332/332 [==============================] - 0s 47us/step - loss: 7.3986 - mae: 2.0382 - acc: 0.0181 - val_loss: 5.9492 - val_mae: 1.8961 - val_acc: 0.0000e+00\n",
      "Epoch 174/500\n",
      "332/332 [==============================] - 0s 47us/step - loss: 7.4168 - mae: 2.0458 - acc: 0.0181 - val_loss: 6.0291 - val_mae: 1.9404 - val_acc: 0.0000e+00\n",
      "Epoch 175/500\n",
      "332/332 [==============================] - 0s 0us/step - loss: 7.3693 - mae: 2.0363 - acc: 0.0181 - val_loss: 6.1217 - val_mae: 1.9474 - val_acc: 0.0270\n",
      "Epoch 176/500\n",
      "332/332 [==============================] - 0s 47us/step - loss: 7.3420 - mae: 2.0331 - acc: 0.0181 - val_loss: 5.9973 - val_mae: 1.9368 - val_acc: 0.0000e+00\n",
      "Epoch 177/500\n",
      "332/332 [==============================] - 0s 47us/step - loss: 7.2959 - mae: 2.0261 - acc: 0.0211 - val_loss: 5.9313 - val_mae: 1.9152 - val_acc: 0.0000e+00\n",
      "Epoch 178/500\n",
      "332/332 [==============================] - 0s 0us/step - loss: 7.2630 - mae: 2.0267 - acc: 0.0241 - val_loss: 5.9616 - val_mae: 1.9082 - val_acc: 0.0000e+00\n",
      "Epoch 179/500\n",
      "332/332 [==============================] - 0s 0us/step - loss: 7.2374 - mae: 2.0302 - acc: 0.0181 - val_loss: 6.0414 - val_mae: 1.9305 - val_acc: 0.0000e+00\n",
      "Epoch 180/500\n",
      "332/332 [==============================] - 0s 47us/step - loss: 7.2312 - mae: 2.0300 - acc: 0.0211 - val_loss: 5.9732 - val_mae: 1.9201 - val_acc: 0.0000e+00\n",
      "Epoch 181/500\n",
      "332/332 [==============================] - 0s 0us/step - loss: 7.2384 - mae: 2.0272 - acc: 0.0151 - val_loss: 5.9555 - val_mae: 1.9230 - val_acc: 0.0000e+00\n",
      "Epoch 182/500\n",
      "332/332 [==============================] - 0s 0us/step - loss: 7.2751 - mae: 2.0351 - acc: 0.0151 - val_loss: 6.0180 - val_mae: 1.9333 - val_acc: 0.0000e+00\n",
      "Epoch 183/500\n",
      "332/332 [==============================] - 0s 47us/step - loss: 7.1848 - mae: 2.0156 - acc: 0.0211 - val_loss: 5.8556 - val_mae: 1.9109 - val_acc: 0.0000e+00\n",
      "Epoch 184/500\n",
      "332/332 [==============================] - 0s 47us/step - loss: 7.1584 - mae: 2.0094 - acc: 0.0181 - val_loss: 5.8263 - val_mae: 1.9091 - val_acc: 0.0000e+00\n",
      "Epoch 185/500\n",
      "332/332 [==============================] - 0s 0us/step - loss: 7.1547 - mae: 2.0068 - acc: 0.0181 - val_loss: 5.8281 - val_mae: 1.9059 - val_acc: 0.0000e+00\n",
      "Epoch 186/500\n",
      "332/332 [==============================] - 0s 47us/step - loss: 7.1658 - mae: 2.0136 - acc: 0.0241 - val_loss: 5.7624 - val_mae: 1.8794 - val_acc: 0.0270\n",
      "Epoch 187/500\n",
      "332/332 [==============================] - 0s 47us/step - loss: 7.1089 - mae: 2.0003 - acc: 0.0241 - val_loss: 5.7376 - val_mae: 1.8852 - val_acc: 0.0000e+00\n",
      "Epoch 188/500\n",
      "332/332 [==============================] - 0s 0us/step - loss: 7.1061 - mae: 1.9989 - acc: 0.0151 - val_loss: 5.7093 - val_mae: 1.8912 - val_acc: 0.0000e+00\n",
      "Epoch 189/500\n",
      "332/332 [==============================] - 0s 47us/step - loss: 7.0683 - mae: 1.9900 - acc: 0.0090 - val_loss: 5.8106 - val_mae: 1.9082 - val_acc: 0.0000e+00\n",
      "Epoch 190/500\n",
      "332/332 [==============================] - 0s 47us/step - loss: 7.0687 - mae: 1.9930 - acc: 0.0181 - val_loss: 5.7580 - val_mae: 1.8962 - val_acc: 0.0000e+00\n",
      "Epoch 191/500\n",
      "332/332 [==============================] - 0s 0us/step - loss: 7.0629 - mae: 1.9959 - acc: 0.0241 - val_loss: 5.7413 - val_mae: 1.8919 - val_acc: 0.0000e+00\n",
      "Epoch 192/500\n",
      "332/332 [==============================] - 0s 0us/step - loss: 7.0187 - mae: 1.9873 - acc: 0.0151 - val_loss: 5.7346 - val_mae: 1.8946 - val_acc: 0.0000e+00\n",
      "Epoch 193/500\n",
      "332/332 [==============================] - 0s 47us/step - loss: 7.0227 - mae: 1.9867 - acc: 0.0181 - val_loss: 5.6709 - val_mae: 1.8787 - val_acc: 0.0000e+00\n",
      "Epoch 194/500\n",
      "332/332 [==============================] - 0s 47us/step - loss: 7.0440 - mae: 1.9918 - acc: 0.0120 - val_loss: 5.7038 - val_mae: 1.8855 - val_acc: 0.0000e+00\n",
      "Epoch 195/500\n",
      "332/332 [==============================] - 0s 0us/step - loss: 7.0366 - mae: 1.9904 - acc: 0.0181 - val_loss: 5.5680 - val_mae: 1.8344 - val_acc: 0.0000e+00\n",
      "Epoch 196/500\n",
      "332/332 [==============================] - 0s 47us/step - loss: 7.1094 - mae: 1.9981 - acc: 0.0241 - val_loss: 5.6729 - val_mae: 1.8812 - val_acc: 0.0000e+00\n",
      "Epoch 197/500\n",
      "332/332 [==============================] - 0s 47us/step - loss: 6.9596 - mae: 1.9770 - acc: 0.0151 - val_loss: 5.5986 - val_mae: 1.8632 - val_acc: 0.0000e+00\n",
      "Epoch 198/500\n",
      "332/332 [==============================] - 0s 0us/step - loss: 6.9723 - mae: 1.9763 - acc: 0.0241 - val_loss: 5.5523 - val_mae: 1.8443 - val_acc: 0.0000e+00\n",
      "Epoch 199/500\n",
      "332/332 [==============================] - 0s 47us/step - loss: 6.9526 - mae: 1.9680 - acc: 0.0241 - val_loss: 5.6990 - val_mae: 1.8909 - val_acc: 0.0000e+00\n",
      "Epoch 200/500\n",
      "332/332 [==============================] - 0s 47us/step - loss: 6.9439 - mae: 1.9651 - acc: 0.0151 - val_loss: 5.5862 - val_mae: 1.8700 - val_acc: 0.0000e+00\n",
      "Epoch 201/500\n",
      "332/332 [==============================] - 0s 0us/step - loss: 6.9204 - mae: 1.9662 - acc: 0.0151 - val_loss: 5.5864 - val_mae: 1.8663 - val_acc: 0.0000e+00\n",
      "Epoch 202/500\n",
      "332/332 [==============================] - 0s 0us/step - loss: 6.8809 - mae: 1.9629 - acc: 0.0151 - val_loss: 5.5897 - val_mae: 1.8587 - val_acc: 0.0000e+00\n",
      "Epoch 203/500\n",
      "332/332 [==============================] - 0s 47us/step - loss: 6.8843 - mae: 1.9667 - acc: 0.0181 - val_loss: 5.5190 - val_mae: 1.8470 - val_acc: 0.0000e+00\n",
      "Epoch 204/500\n",
      "332/332 [==============================] - 0s 47us/step - loss: 6.8877 - mae: 1.9626 - acc: 0.0241 - val_loss: 5.4780 - val_mae: 1.8322 - val_acc: 0.0000e+00\n",
      "Epoch 205/500\n",
      "332/332 [==============================] - 0s 0us/step - loss: 6.8687 - mae: 1.9640 - acc: 0.0241 - val_loss: 5.4693 - val_mae: 1.8369 - val_acc: 0.0000e+00\n",
      "Epoch 206/500\n",
      "332/332 [==============================] - 0s 47us/step - loss: 6.8647 - mae: 1.9619 - acc: 0.0181 - val_loss: 5.5021 - val_mae: 1.8450 - val_acc: 0.0000e+00\n",
      "Epoch 207/500\n",
      "332/332 [==============================] - 0s 47us/step - loss: 6.8453 - mae: 1.9574 - acc: 0.0181 - val_loss: 5.5075 - val_mae: 1.8395 - val_acc: 0.0000e+00\n",
      "Epoch 208/500\n",
      "332/332 [==============================] - 0s 47us/step - loss: 6.8203 - mae: 1.9570 - acc: 0.0211 - val_loss: 5.5221 - val_mae: 1.8480 - val_acc: 0.0000e+00\n",
      "Epoch 209/500\n",
      "332/332 [==============================] - 0s 0us/step - loss: 6.8203 - mae: 1.9620 - acc: 0.0181 - val_loss: 5.4804 - val_mae: 1.8628 - val_acc: 0.0000e+00\n",
      "Epoch 210/500\n",
      "332/332 [==============================] - 0s 47us/step - loss: 6.8204 - mae: 1.9526 - acc: 0.0181 - val_loss: 5.3808 - val_mae: 1.8253 - val_acc: 0.0000e+00\n",
      "Epoch 211/500\n",
      "332/332 [==============================] - 0s 47us/step - loss: 6.8934 - mae: 1.9802 - acc: 0.0181 - val_loss: 5.5516 - val_mae: 1.8536 - val_acc: 0.0270\n",
      "Epoch 212/500\n",
      "332/332 [==============================] - 0s 0us/step - loss: 6.7762 - mae: 1.9555 - acc: 0.0211 - val_loss: 5.4893 - val_mae: 1.8594 - val_acc: 0.0000e+00\n",
      "Epoch 213/500\n",
      "332/332 [==============================] - 0s 47us/step - loss: 6.8653 - mae: 1.9780 - acc: 0.0151 - val_loss: 5.5205 - val_mae: 1.8853 - val_acc: 0.0000e+00\n",
      "Epoch 214/500\n",
      "332/332 [==============================] - 0s 47us/step - loss: 6.7853 - mae: 1.9451 - acc: 0.0151 - val_loss: 5.4146 - val_mae: 1.8233 - val_acc: 0.0000e+00\n",
      "Epoch 215/500\n",
      "332/332 [==============================] - 0s 0us/step - loss: 6.7258 - mae: 1.9416 - acc: 0.0241 - val_loss: 5.4114 - val_mae: 1.8308 - val_acc: 0.0000e+00\n",
      "Epoch 216/500\n",
      "332/332 [==============================] - 0s 47us/step - loss: 6.7080 - mae: 1.9365 - acc: 0.0211 - val_loss: 5.4522 - val_mae: 1.8493 - val_acc: 0.0000e+00\n",
      "Epoch 217/500\n",
      "332/332 [==============================] - 0s 47us/step - loss: 6.7242 - mae: 1.9356 - acc: 0.0181 - val_loss: 5.3014 - val_mae: 1.8148 - val_acc: 0.0000e+00\n",
      "Epoch 218/500\n",
      "332/332 [==============================] - 0s 0us/step - loss: 6.7188 - mae: 1.9379 - acc: 0.0211 - val_loss: 5.3420 - val_mae: 1.8200 - val_acc: 0.0000e+00\n",
      "Epoch 219/500\n",
      "332/332 [==============================] - 0s 47us/step - loss: 6.7097 - mae: 1.9356 - acc: 0.0181 - val_loss: 5.4421 - val_mae: 1.8305 - val_acc: 0.0000e+00\n",
      "Epoch 220/500\n",
      "332/332 [==============================] - 0s 49us/step - loss: 6.7175 - mae: 1.9364 - acc: 0.0271 - val_loss: 5.2499 - val_mae: 1.7806 - val_acc: 0.0000e+00\n",
      "Epoch 221/500\n",
      "332/332 [==============================] - 0s 0us/step - loss: 6.6766 - mae: 1.9298 - acc: 0.0301 - val_loss: 5.2845 - val_mae: 1.8104 - val_acc: 0.0000e+00\n",
      "Epoch 222/500\n",
      "332/332 [==============================] - 0s 0us/step - loss: 6.7195 - mae: 1.9382 - acc: 0.0181 - val_loss: 5.4101 - val_mae: 1.8245 - val_acc: 0.0000e+00\n",
      "Epoch 223/500\n",
      "332/332 [==============================] - 0s 47us/step - loss: 6.6880 - mae: 1.9317 - acc: 0.0271 - val_loss: 5.2399 - val_mae: 1.7801 - val_acc: 0.0000e+00\n",
      "Epoch 224/500\n",
      "332/332 [==============================] - 0s 47us/step - loss: 6.6680 - mae: 1.9277 - acc: 0.0241 - val_loss: 5.3214 - val_mae: 1.8206 - val_acc: 0.0000e+00\n",
      "Epoch 225/500\n",
      "332/332 [==============================] - 0s 0us/step - loss: 6.6307 - mae: 1.9272 - acc: 0.0211 - val_loss: 5.3373 - val_mae: 1.8133 - val_acc: 0.0270\n",
      "Epoch 226/500\n",
      "332/332 [==============================] - 0s 47us/step - loss: 6.6370 - mae: 1.9355 - acc: 0.0211 - val_loss: 5.2855 - val_mae: 1.8112 - val_acc: 0.0270\n",
      "Epoch 227/500\n",
      "332/332 [==============================] - 0s 47us/step - loss: 6.6199 - mae: 1.9199 - acc: 0.0211 - val_loss: 5.3557 - val_mae: 1.8144 - val_acc: 0.0000e+00\n",
      "Epoch 228/500\n",
      "332/332 [==============================] - 0s 0us/step - loss: 6.5919 - mae: 1.9204 - acc: 0.0241 - val_loss: 5.3288 - val_mae: 1.7981 - val_acc: 0.0270\n",
      "Epoch 229/500\n",
      "332/332 [==============================] - 0s 47us/step - loss: 6.5826 - mae: 1.9183 - acc: 0.0241 - val_loss: 5.2687 - val_mae: 1.7884 - val_acc: 0.0270\n",
      "Epoch 230/500\n",
      "332/332 [==============================] - 0s 0us/step - loss: 6.5834 - mae: 1.9160 - acc: 0.0271 - val_loss: 5.2711 - val_mae: 1.7997 - val_acc: 0.0000e+00\n",
      "Epoch 231/500\n",
      "332/332 [==============================] - 0s 0us/step - loss: 6.5543 - mae: 1.9114 - acc: 0.0241 - val_loss: 5.3011 - val_mae: 1.8215 - val_acc: 0.0000e+00\n",
      "Epoch 232/500\n",
      "332/332 [==============================] - 0s 47us/step - loss: 6.5425 - mae: 1.9081 - acc: 0.0211 - val_loss: 5.2697 - val_mae: 1.7977 - val_acc: 0.0000e+00\n",
      "Epoch 233/500\n",
      "332/332 [==============================] - 0s 47us/step - loss: 6.5665 - mae: 1.9109 - acc: 0.0241 - val_loss: 5.1901 - val_mae: 1.7868 - val_acc: 0.0000e+00\n",
      "Epoch 234/500\n",
      "332/332 [==============================] - 0s 0us/step - loss: 6.5781 - mae: 1.9108 - acc: 0.0241 - val_loss: 5.1789 - val_mae: 1.7730 - val_acc: 0.0270\n",
      "Epoch 235/500\n",
      "332/332 [==============================] - 0s 47us/step - loss: 6.5317 - mae: 1.9079 - acc: 0.0181 - val_loss: 5.3616 - val_mae: 1.8121 - val_acc: 0.0000e+00\n",
      "Epoch 236/500\n",
      "332/332 [==============================] - 0s 47us/step - loss: 6.5737 - mae: 1.9222 - acc: 0.0211 - val_loss: 5.2462 - val_mae: 1.8080 - val_acc: 0.0270\n",
      "Epoch 237/500\n",
      "332/332 [==============================] - 0s 0us/step - loss: 6.4900 - mae: 1.9002 - acc: 0.0151 - val_loss: 5.2971 - val_mae: 1.7999 - val_acc: 0.0000e+00\n",
      "Epoch 238/500\n",
      "332/332 [==============================] - 0s 47us/step - loss: 6.5041 - mae: 1.9057 - acc: 0.0151 - val_loss: 5.2793 - val_mae: 1.8008 - val_acc: 0.0000e+00\n",
      "Epoch 239/500\n",
      "332/332 [==============================] - 0s 47us/step - loss: 6.4864 - mae: 1.9008 - acc: 0.0120 - val_loss: 5.2553 - val_mae: 1.8144 - val_acc: 0.0000e+00\n",
      "Epoch 240/500\n",
      "332/332 [==============================] - 0s 47us/step - loss: 6.4994 - mae: 1.9056 - acc: 0.0211 - val_loss: 5.2670 - val_mae: 1.8028 - val_acc: 0.0270\n",
      "Epoch 241/500\n",
      "332/332 [==============================] - 0s 0us/step - loss: 6.4828 - mae: 1.9057 - acc: 0.0181 - val_loss: 5.2877 - val_mae: 1.8096 - val_acc: 0.0270\n",
      "Epoch 242/500\n",
      "332/332 [==============================] - 0s 47us/step - loss: 6.4789 - mae: 1.9048 - acc: 0.0241 - val_loss: 5.1757 - val_mae: 1.7842 - val_acc: 0.0270\n",
      "Epoch 243/500\n",
      "332/332 [==============================] - 0s 47us/step - loss: 6.4626 - mae: 1.8990 - acc: 0.0241 - val_loss: 5.2231 - val_mae: 1.7708 - val_acc: 0.0270\n",
      "Epoch 244/500\n",
      "332/332 [==============================] - 0s 0us/step - loss: 6.4825 - mae: 1.8980 - acc: 0.0181 - val_loss: 5.2095 - val_mae: 1.7983 - val_acc: 0.0270\n",
      "Epoch 245/500\n",
      "332/332 [==============================] - 0s 47us/step - loss: 6.4640 - mae: 1.8972 - acc: 0.0120 - val_loss: 5.2638 - val_mae: 1.8100 - val_acc: 0.0000e+00\n",
      "Epoch 246/500\n",
      "332/332 [==============================] - 0s 47us/step - loss: 6.4277 - mae: 1.8833 - acc: 0.0211 - val_loss: 5.1288 - val_mae: 1.7693 - val_acc: 0.0270\n",
      "Epoch 247/500\n",
      "332/332 [==============================] - 0s 0us/step - loss: 6.4199 - mae: 1.8882 - acc: 0.0181 - val_loss: 5.1572 - val_mae: 1.7908 - val_acc: 0.0270\n",
      "Epoch 248/500\n",
      "332/332 [==============================] - 0s 47us/step - loss: 6.4383 - mae: 1.8949 - acc: 0.0211 - val_loss: 5.1897 - val_mae: 1.7946 - val_acc: 0.0270\n",
      "Epoch 249/500\n",
      "332/332 [==============================] - 0s 47us/step - loss: 6.4388 - mae: 1.8907 - acc: 0.0181 - val_loss: 5.1578 - val_mae: 1.7672 - val_acc: 0.0270\n",
      "Epoch 250/500\n",
      "332/332 [==============================] - ETA: 0s - loss: 6.4110 - mae: 1.9474 - acc: 0.031 - 0s 0us/step - loss: 6.4146 - mae: 1.8865 - acc: 0.0211 - val_loss: 5.1714 - val_mae: 1.7980 - val_acc: 0.0270\n",
      "Epoch 251/500\n",
      "332/332 [==============================] - 0s 0us/step - loss: 6.4137 - mae: 1.8880 - acc: 0.0211 - val_loss: 5.1298 - val_mae: 1.7690 - val_acc: 0.0270\n",
      "Epoch 252/500\n",
      "332/332 [==============================] - 0s 47us/step - loss: 6.4306 - mae: 1.8894 - acc: 0.0181 - val_loss: 5.2443 - val_mae: 1.7906 - val_acc: 0.0270\n",
      "Epoch 253/500\n",
      "332/332 [==============================] - 0s 47us/step - loss: 6.3868 - mae: 1.8856 - acc: 0.0120 - val_loss: 5.1512 - val_mae: 1.7771 - val_acc: 0.0270\n",
      "Epoch 254/500\n",
      "332/332 [==============================] - 0s 0us/step - loss: 6.3649 - mae: 1.8761 - acc: 0.0211 - val_loss: 5.0618 - val_mae: 1.7537 - val_acc: 0.0270\n",
      "Epoch 255/500\n",
      "332/332 [==============================] - 0s 47us/step - loss: 6.3591 - mae: 1.8807 - acc: 0.0151 - val_loss: 5.1469 - val_mae: 1.7809 - val_acc: 0.0270\n",
      "Epoch 256/500\n",
      "332/332 [==============================] - 0s 47us/step - loss: 6.3344 - mae: 1.8760 - acc: 0.0181 - val_loss: 5.1838 - val_mae: 1.7776 - val_acc: 0.0270\n",
      "Epoch 257/500\n",
      "332/332 [==============================] - 0s 0us/step - loss: 6.3556 - mae: 1.8806 - acc: 0.0151 - val_loss: 5.1868 - val_mae: 1.7794 - val_acc: 0.0270\n",
      "Epoch 258/500\n",
      "332/332 [==============================] - 0s 47us/step - loss: 6.3608 - mae: 1.8798 - acc: 0.0181 - val_loss: 5.1211 - val_mae: 1.7881 - val_acc: 0.0270\n",
      "Epoch 259/500\n",
      "332/332 [==============================] - 0s 47us/step - loss: 6.3012 - mae: 1.8680 - acc: 0.0151 - val_loss: 5.2651 - val_mae: 1.8139 - val_acc: 0.0000e+00\n",
      "Epoch 260/500\n",
      "332/332 [==============================] - 0s 0us/step - loss: 6.3239 - mae: 1.8729 - acc: 0.0120 - val_loss: 5.1354 - val_mae: 1.7817 - val_acc: 0.0270\n",
      "Epoch 261/500\n",
      "332/332 [==============================] - 0s 47us/step - loss: 6.2909 - mae: 1.8676 - acc: 0.0151 - val_loss: 5.1110 - val_mae: 1.7612 - val_acc: 0.0270\n",
      "Epoch 262/500\n",
      "332/332 [==============================] - 0s 0us/step - loss: 6.3368 - mae: 1.8759 - acc: 0.0241 - val_loss: 5.1194 - val_mae: 1.7712 - val_acc: 0.0270\n",
      "Epoch 263/500\n",
      "332/332 [==============================] - 0s 0us/step - loss: 6.3853 - mae: 1.8846 - acc: 0.0151 - val_loss: 5.1476 - val_mae: 1.7933 - val_acc: 0.0270\n",
      "Epoch 264/500\n",
      "332/332 [==============================] - 0s 47us/step - loss: 6.2877 - mae: 1.8721 - acc: 0.0151 - val_loss: 5.1348 - val_mae: 1.7704 - val_acc: 0.0270\n",
      "Epoch 265/500\n",
      "332/332 [==============================] - 0s 47us/step - loss: 6.3383 - mae: 1.8765 - acc: 0.0151 - val_loss: 5.1107 - val_mae: 1.7768 - val_acc: 0.0270\n",
      "Epoch 266/500\n",
      "332/332 [==============================] - 0s 0us/step - loss: 6.2787 - mae: 1.8702 - acc: 0.0151 - val_loss: 5.1497 - val_mae: 1.7987 - val_acc: 0.0270\n",
      "Epoch 267/500\n",
      "332/332 [==============================] - 0s 47us/step - loss: 6.2653 - mae: 1.8655 - acc: 0.0151 - val_loss: 5.0729 - val_mae: 1.7626 - val_acc: 0.0270\n",
      "Epoch 268/500\n",
      "332/332 [==============================] - 0s 47us/step - loss: 6.2659 - mae: 1.8683 - acc: 0.0211 - val_loss: 5.1278 - val_mae: 1.7596 - val_acc: 0.0270\n",
      "Epoch 269/500\n",
      "332/332 [==============================] - 0s 0us/step - loss: 6.2444 - mae: 1.8659 - acc: 0.0181 - val_loss: 5.0999 - val_mae: 1.7786 - val_acc: 0.0270\n",
      "Epoch 270/500\n",
      "332/332 [==============================] - 0s 47us/step - loss: 6.2990 - mae: 1.8678 - acc: 0.0181 - val_loss: 5.1749 - val_mae: 1.7758 - val_acc: 0.0270\n",
      "Epoch 271/500\n",
      "332/332 [==============================] - 0s 0us/step - loss: 6.2161 - mae: 1.8585 - acc: 0.0181 - val_loss: 5.0444 - val_mae: 1.7695 - val_acc: 0.0270\n",
      "Epoch 272/500\n",
      "332/332 [==============================] - 0s 0us/step - loss: 6.2359 - mae: 1.8602 - acc: 0.0211 - val_loss: 5.0702 - val_mae: 1.7696 - val_acc: 0.0270\n",
      "Epoch 273/500\n",
      "332/332 [==============================] - 0s 47us/step - loss: 6.2254 - mae: 1.8607 - acc: 0.0120 - val_loss: 5.1727 - val_mae: 1.7841 - val_acc: 0.0270\n",
      "Epoch 274/500\n",
      "332/332 [==============================] - 0s 0us/step - loss: 6.2264 - mae: 1.8637 - acc: 0.0151 - val_loss: 5.1049 - val_mae: 1.7604 - val_acc: 0.0270\n",
      "Epoch 275/500\n",
      "332/332 [==============================] - 0s 0us/step - loss: 6.2015 - mae: 1.8611 - acc: 0.0120 - val_loss: 5.0638 - val_mae: 1.7649 - val_acc: 0.0270\n",
      "Epoch 276/500\n",
      "332/332 [==============================] - 0s 47us/step - loss: 6.1934 - mae: 1.8535 - acc: 0.0151 - val_loss: 4.9939 - val_mae: 1.7457 - val_acc: 0.0270\n",
      "Epoch 277/500\n",
      "332/332 [==============================] - 0s 47us/step - loss: 6.1925 - mae: 1.8539 - acc: 0.0211 - val_loss: 4.9795 - val_mae: 1.7275 - val_acc: 0.0270\n",
      "Epoch 278/500\n",
      "332/332 [==============================] - 0s 0us/step - loss: 6.1901 - mae: 1.8549 - acc: 0.0151 - val_loss: 5.0393 - val_mae: 1.7527 - val_acc: 0.0270\n",
      "Epoch 279/500\n",
      "332/332 [==============================] - 0s 47us/step - loss: 6.1762 - mae: 1.8515 - acc: 0.0151 - val_loss: 5.0500 - val_mae: 1.7506 - val_acc: 0.0270\n",
      "Epoch 280/500\n",
      "332/332 [==============================] - 0s 47us/step - loss: 6.1852 - mae: 1.8526 - acc: 0.0181 - val_loss: 5.0132 - val_mae: 1.7485 - val_acc: 0.0270\n",
      "Epoch 281/500\n",
      "332/332 [==============================] - 0s 0us/step - loss: 6.1953 - mae: 1.8564 - acc: 0.0211 - val_loss: 5.0976 - val_mae: 1.7599 - val_acc: 0.0270\n",
      "Epoch 282/500\n",
      "332/332 [==============================] - 0s 47us/step - loss: 6.1786 - mae: 1.8570 - acc: 0.0120 - val_loss: 5.0736 - val_mae: 1.7631 - val_acc: 0.0270\n",
      "Epoch 283/500\n",
      "332/332 [==============================] - 0s 47us/step - loss: 6.1530 - mae: 1.8523 - acc: 0.0151 - val_loss: 5.0768 - val_mae: 1.7584 - val_acc: 0.0270\n",
      "Epoch 284/500\n",
      "332/332 [==============================] - 0s 0us/step - loss: 6.1698 - mae: 1.8533 - acc: 0.0151 - val_loss: 5.0650 - val_mae: 1.7589 - val_acc: 0.0270\n",
      "Epoch 285/500\n",
      "332/332 [==============================] - 0s 47us/step - loss: 6.1554 - mae: 1.8492 - acc: 0.0211 - val_loss: 5.0238 - val_mae: 1.7671 - val_acc: 0.0270\n",
      "Epoch 286/500\n",
      "332/332 [==============================] - 0s 47us/step - loss: 6.2561 - mae: 1.8682 - acc: 0.0181 - val_loss: 5.1260 - val_mae: 1.7925 - val_acc: 0.0270\n",
      "Epoch 287/500\n",
      "332/332 [==============================] - 0s 0us/step - loss: 6.1109 - mae: 1.8408 - acc: 0.0181 - val_loss: 4.9464 - val_mae: 1.7327 - val_acc: 0.0270\n",
      "Epoch 288/500\n",
      "332/332 [==============================] - 0s 47us/step - loss: 6.1158 - mae: 1.8431 - acc: 0.0211 - val_loss: 5.0308 - val_mae: 1.7451 - val_acc: 0.0270\n",
      "Epoch 289/500\n",
      "332/332 [==============================] - 0s 47us/step - loss: 6.0868 - mae: 1.8426 - acc: 0.0120 - val_loss: 5.1868 - val_mae: 1.7986 - val_acc: 0.0270\n",
      "Epoch 290/500\n",
      "332/332 [==============================] - 0s 0us/step - loss: 6.1983 - mae: 1.8590 - acc: 0.0151 - val_loss: 5.1312 - val_mae: 1.7879 - val_acc: 0.0270\n",
      "Epoch 291/500\n",
      "332/332 [==============================] - 0s 47us/step - loss: 6.0651 - mae: 1.8369 - acc: 0.0181 - val_loss: 5.0474 - val_mae: 1.7232 - val_acc: 0.0541\n",
      "Epoch 292/500\n",
      "332/332 [==============================] - 0s 47us/step - loss: 6.1671 - mae: 1.8583 - acc: 0.0181 - val_loss: 5.0278 - val_mae: 1.7418 - val_acc: 0.0270\n",
      "Epoch 293/500\n",
      "332/332 [==============================] - 0s 0us/step - loss: 6.0872 - mae: 1.8435 - acc: 0.0181 - val_loss: 4.9992 - val_mae: 1.7530 - val_acc: 0.0270\n",
      "Epoch 294/500\n",
      "332/332 [==============================] - 0s 47us/step - loss: 6.0853 - mae: 1.8414 - acc: 0.0211 - val_loss: 4.9624 - val_mae: 1.7399 - val_acc: 0.0270\n",
      "Epoch 295/500\n",
      "332/332 [==============================] - 0s 47us/step - loss: 6.0752 - mae: 1.8351 - acc: 0.0211 - val_loss: 4.9839 - val_mae: 1.7411 - val_acc: 0.0270\n",
      "Epoch 296/500\n",
      "332/332 [==============================] - 0s 0us/step - loss: 6.0687 - mae: 1.8404 - acc: 0.0181 - val_loss: 5.0609 - val_mae: 1.7500 - val_acc: 0.0270\n",
      "Epoch 297/500\n",
      "332/332 [==============================] - 0s 47us/step - loss: 6.1693 - mae: 1.8482 - acc: 0.0211 - val_loss: 4.9357 - val_mae: 1.7361 - val_acc: 0.0270\n",
      "Epoch 298/500\n",
      "332/332 [==============================] - 0s 47us/step - loss: 6.1145 - mae: 1.8492 - acc: 0.0151 - val_loss: 5.2568 - val_mae: 1.8097 - val_acc: 0.0541\n",
      "Epoch 299/500\n",
      "332/332 [==============================] - 0s 0us/step - loss: 6.0784 - mae: 1.8454 - acc: 0.0181 - val_loss: 5.0266 - val_mae: 1.7691 - val_acc: 0.0270\n",
      "Epoch 300/500\n",
      "332/332 [==============================] - 0s 47us/step - loss: 6.0346 - mae: 1.8368 - acc: 0.0211 - val_loss: 4.9668 - val_mae: 1.7289 - val_acc: 0.0270\n",
      "Epoch 301/500\n",
      "332/332 [==============================] - 0s 47us/step - loss: 6.0647 - mae: 1.8363 - acc: 0.0181 - val_loss: 4.9264 - val_mae: 1.7193 - val_acc: 0.0270\n",
      "Epoch 302/500\n",
      "332/332 [==============================] - 0s 0us/step - loss: 6.0748 - mae: 1.8370 - acc: 0.0211 - val_loss: 4.9747 - val_mae: 1.7584 - val_acc: 0.0270\n",
      "Epoch 303/500\n",
      "332/332 [==============================] - 0s 47us/step - loss: 6.1025 - mae: 1.8461 - acc: 0.0211 - val_loss: 5.0498 - val_mae: 1.7389 - val_acc: 0.0270\n",
      "Epoch 304/500\n",
      "332/332 [==============================] - 0s 47us/step - loss: 6.1192 - mae: 1.8501 - acc: 0.0090 - val_loss: 5.0747 - val_mae: 1.7668 - val_acc: 0.0270\n",
      "Epoch 305/500\n",
      "332/332 [==============================] - 0s 0us/step - loss: 6.0103 - mae: 1.8323 - acc: 0.0211 - val_loss: 4.9332 - val_mae: 1.7263 - val_acc: 0.0270\n",
      "Epoch 306/500\n",
      "332/332 [==============================] - 0s 47us/step - loss: 6.0350 - mae: 1.8330 - acc: 0.0151 - val_loss: 4.9979 - val_mae: 1.7198 - val_acc: 0.0541\n",
      "Epoch 307/500\n",
      "332/332 [==============================] - 0s 47us/step - loss: 6.0277 - mae: 1.8337 - acc: 0.0181 - val_loss: 5.0046 - val_mae: 1.7495 - val_acc: 0.0270\n",
      "Epoch 308/500\n",
      "332/332 [==============================] - 0s 0us/step - loss: 6.0422 - mae: 1.8319 - acc: 0.0181 - val_loss: 4.8970 - val_mae: 1.6945 - val_acc: 0.0541\n",
      "Epoch 309/500\n",
      "332/332 [==============================] - 0s 0us/step - loss: 6.0286 - mae: 1.8334 - acc: 0.0211 - val_loss: 4.9674 - val_mae: 1.7294 - val_acc: 0.0270\n",
      "Epoch 310/500\n",
      "332/332 [==============================] - 0s 47us/step - loss: 6.0123 - mae: 1.8323 - acc: 0.0151 - val_loss: 4.9777 - val_mae: 1.7446 - val_acc: 0.0270\n",
      "Epoch 311/500\n",
      "332/332 [==============================] - 0s 0us/step - loss: 6.0160 - mae: 1.8247 - acc: 0.0120 - val_loss: 5.0385 - val_mae: 1.7427 - val_acc: 0.0270\n",
      "Epoch 312/500\n",
      "332/332 [==============================] - 0s 47us/step - loss: 6.0027 - mae: 1.8296 - acc: 0.0211 - val_loss: 4.9505 - val_mae: 1.7350 - val_acc: 0.0270\n",
      "Epoch 313/500\n",
      "332/332 [==============================] - 0s 47us/step - loss: 6.0071 - mae: 1.8266 - acc: 0.0181 - val_loss: 4.9966 - val_mae: 1.7475 - val_acc: 0.0270\n",
      "Epoch 314/500\n",
      "332/332 [==============================] - 0s 0us/step - loss: 5.9726 - mae: 1.8220 - acc: 0.0151 - val_loss: 4.9851 - val_mae: 1.7277 - val_acc: 0.0270\n",
      "Epoch 315/500\n",
      "332/332 [==============================] - 0s 48us/step - loss: 5.9914 - mae: 1.8251 - acc: 0.0120 - val_loss: 4.9638 - val_mae: 1.7350 - val_acc: 0.0270\n",
      "Epoch 316/500\n",
      "332/332 [==============================] - 0s 47us/step - loss: 5.9598 - mae: 1.8200 - acc: 0.0181 - val_loss: 4.9069 - val_mae: 1.7146 - val_acc: 0.0270\n",
      "Epoch 317/500\n",
      "332/332 [==============================] - 0s 0us/step - loss: 6.0147 - mae: 1.8292 - acc: 0.0211 - val_loss: 4.9416 - val_mae: 1.7256 - val_acc: 0.0270\n",
      "Epoch 318/500\n",
      "332/332 [==============================] - 0s 0us/step - loss: 5.9483 - mae: 1.8207 - acc: 0.0151 - val_loss: 5.0025 - val_mae: 1.7451 - val_acc: 0.0270\n",
      "Epoch 319/500\n",
      "332/332 [==============================] - 0s 47us/step - loss: 5.9554 - mae: 1.8221 - acc: 0.0151 - val_loss: 4.9555 - val_mae: 1.7331 - val_acc: 0.0270\n",
      "Epoch 320/500\n",
      "332/332 [==============================] - 0s 47us/step - loss: 5.9591 - mae: 1.8218 - acc: 0.0181 - val_loss: 4.9144 - val_mae: 1.7066 - val_acc: 0.0541\n",
      "Epoch 321/500\n",
      "332/332 [==============================] - 0s 0us/step - loss: 5.9508 - mae: 1.8178 - acc: 0.0211 - val_loss: 4.9190 - val_mae: 1.7276 - val_acc: 0.0270\n",
      "Epoch 322/500\n",
      "332/332 [==============================] - 0s 0us/step - loss: 6.0597 - mae: 1.8437 - acc: 0.0241 - val_loss: 5.0518 - val_mae: 1.7664 - val_acc: 0.0541\n",
      "Epoch 323/500\n",
      "332/332 [==============================] - 0s 47us/step - loss: 5.9433 - mae: 1.8209 - acc: 0.0181 - val_loss: 5.0354 - val_mae: 1.7050 - val_acc: 0.0541\n",
      "Epoch 324/500\n",
      "332/332 [==============================] - 0s 47us/step - loss: 6.0013 - mae: 1.8309 - acc: 0.0181 - val_loss: 4.9842 - val_mae: 1.7469 - val_acc: 0.0270\n",
      "Epoch 325/500\n",
      "332/332 [==============================] - 0s 0us/step - loss: 5.9617 - mae: 1.8252 - acc: 0.0211 - val_loss: 5.0295 - val_mae: 1.7602 - val_acc: 0.0270\n",
      "Epoch 326/500\n",
      "332/332 [==============================] - 0s 47us/step - loss: 5.9167 - mae: 1.8163 - acc: 0.0181 - val_loss: 5.0111 - val_mae: 1.7440 - val_acc: 0.0270\n",
      "Epoch 327/500\n",
      "332/332 [==============================] - 0s 47us/step - loss: 5.9450 - mae: 1.8244 - acc: 0.0090 - val_loss: 5.0751 - val_mae: 1.7658 - val_acc: 0.0270\n",
      "Epoch 328/500\n",
      "332/332 [==============================] - 0s 47us/step - loss: 5.9200 - mae: 1.8155 - acc: 0.0181 - val_loss: 4.9934 - val_mae: 1.7507 - val_acc: 0.0270\n",
      "Epoch 329/500\n",
      "332/332 [==============================] - 0s 0us/step - loss: 5.9167 - mae: 1.8180 - acc: 0.0181 - val_loss: 4.9848 - val_mae: 1.7515 - val_acc: 0.0270\n",
      "Epoch 330/500\n",
      "332/332 [==============================] - 0s 47us/step - loss: 5.9535 - mae: 1.8198 - acc: 0.0120 - val_loss: 5.0267 - val_mae: 1.7495 - val_acc: 0.0270\n",
      "Epoch 331/500\n",
      "332/332 [==============================] - 0s 47us/step - loss: 5.9455 - mae: 1.8157 - acc: 0.0211 - val_loss: 4.8981 - val_mae: 1.7247 - val_acc: 0.0270\n",
      "Epoch 332/500\n",
      "332/332 [==============================] - 0s 47us/step - loss: 5.9001 - mae: 1.8106 - acc: 0.0181 - val_loss: 5.0815 - val_mae: 1.7577 - val_acc: 0.0541\n",
      "Epoch 333/500\n",
      "332/332 [==============================] - 0s 0us/step - loss: 5.9202 - mae: 1.8167 - acc: 0.0120 - val_loss: 4.9582 - val_mae: 1.7354 - val_acc: 0.0270\n",
      "Epoch 334/500\n",
      "332/332 [==============================] - 0s 0us/step - loss: 5.9063 - mae: 1.8153 - acc: 0.0151 - val_loss: 4.9373 - val_mae: 1.7294 - val_acc: 0.0270\n",
      "Epoch 335/500\n",
      "332/332 [==============================] - 0s 47us/step - loss: 5.8944 - mae: 1.8164 - acc: 0.0151 - val_loss: 4.9302 - val_mae: 1.7330 - val_acc: 0.0270\n",
      "Epoch 336/500\n",
      "332/332 [==============================] - 0s 47us/step - loss: 5.8998 - mae: 1.8154 - acc: 0.0181 - val_loss: 4.9548 - val_mae: 1.7455 - val_acc: 0.0270\n",
      "Epoch 337/500\n",
      "332/332 [==============================] - 0s 0us/step - loss: 5.8884 - mae: 1.8162 - acc: 0.0211 - val_loss: 4.9786 - val_mae: 1.7408 - val_acc: 0.0270\n",
      "Epoch 338/500\n",
      "332/332 [==============================] - 0s 0us/step - loss: 5.8956 - mae: 1.8110 - acc: 0.0151 - val_loss: 4.8806 - val_mae: 1.7092 - val_acc: 0.0270\n",
      "Epoch 339/500\n",
      "332/332 [==============================] - 0s 47us/step - loss: 5.8499 - mae: 1.8079 - acc: 0.0151 - val_loss: 4.9299 - val_mae: 1.7253 - val_acc: 0.0270\n",
      "Epoch 340/500\n",
      "332/332 [==============================] - 0s 47us/step - loss: 5.8799 - mae: 1.8091 - acc: 0.0090 - val_loss: 4.8971 - val_mae: 1.7095 - val_acc: 0.0000e+00\n",
      "Epoch 341/500\n",
      "332/332 [==============================] - 0s 0us/step - loss: 5.8766 - mae: 1.8087 - acc: 0.0151 - val_loss: 4.9210 - val_mae: 1.7301 - val_acc: 0.0270\n",
      "Epoch 342/500\n",
      "332/332 [==============================] - 0s 47us/step - loss: 5.8551 - mae: 1.8075 - acc: 0.0151 - val_loss: 4.9724 - val_mae: 1.7352 - val_acc: 0.0541\n",
      "Epoch 343/500\n",
      "332/332 [==============================] - 0s 47us/step - loss: 5.8687 - mae: 1.8127 - acc: 0.0120 - val_loss: 5.0362 - val_mae: 1.7512 - val_acc: 0.0541\n",
      "Epoch 344/500\n",
      "332/332 [==============================] - 0s 0us/step - loss: 5.8757 - mae: 1.8113 - acc: 0.0090 - val_loss: 4.9542 - val_mae: 1.7304 - val_acc: 0.0270\n",
      "Epoch 345/500\n",
      "332/332 [==============================] - 0s 52us/step - loss: 5.8570 - mae: 1.8038 - acc: 0.0120 - val_loss: 4.9515 - val_mae: 1.7341 - val_acc: 0.0270\n",
      "Epoch 346/500\n",
      "332/332 [==============================] - 0s 47us/step - loss: 5.8495 - mae: 1.8074 - acc: 0.0151 - val_loss: 4.9130 - val_mae: 1.7222 - val_acc: 0.0270\n",
      "Epoch 347/500\n",
      "332/332 [==============================] - 0s 0us/step - loss: 5.8623 - mae: 1.8051 - acc: 0.0211 - val_loss: 4.8966 - val_mae: 1.7234 - val_acc: 0.0270\n",
      "Epoch 348/500\n",
      "332/332 [==============================] - 0s 47us/step - loss: 5.8976 - mae: 1.8140 - acc: 0.0151 - val_loss: 4.8965 - val_mae: 1.7189 - val_acc: 0.0270\n",
      "Epoch 349/500\n",
      "332/332 [==============================] - 0s 47us/step - loss: 5.8368 - mae: 1.8091 - acc: 0.0181 - val_loss: 5.0213 - val_mae: 1.7534 - val_acc: 0.0270\n",
      "Epoch 350/500\n",
      "332/332 [==============================] - 0s 0us/step - loss: 5.9307 - mae: 1.8219 - acc: 0.0151 - val_loss: 4.9542 - val_mae: 1.7114 - val_acc: 0.0541\n",
      "Epoch 351/500\n",
      "332/332 [==============================] - 0s 47us/step - loss: 5.8783 - mae: 1.8200 - acc: 0.0120 - val_loss: 5.0772 - val_mae: 1.7709 - val_acc: 0.0270\n",
      "Epoch 352/500\n",
      "332/332 [==============================] - 0s 47us/step - loss: 5.8639 - mae: 1.8107 - acc: 0.0181 - val_loss: 4.9150 - val_mae: 1.7265 - val_acc: 0.0270\n",
      "Epoch 353/500\n",
      "332/332 [==============================] - 0s 0us/step - loss: 5.8580 - mae: 1.8124 - acc: 0.0151 - val_loss: 4.9853 - val_mae: 1.7317 - val_acc: 0.0270\n",
      "Epoch 354/500\n",
      "332/332 [==============================] - 0s 47us/step - loss: 5.8180 - mae: 1.7997 - acc: 0.0120 - val_loss: 4.9092 - val_mae: 1.7256 - val_acc: 0.0270\n",
      "Epoch 355/500\n",
      "332/332 [==============================] - 0s 47us/step - loss: 5.8483 - mae: 1.7990 - acc: 0.0181 - val_loss: 4.9040 - val_mae: 1.7167 - val_acc: 0.0270\n",
      "Epoch 356/500\n",
      "332/332 [==============================] - 0s 0us/step - loss: 5.8241 - mae: 1.8062 - acc: 0.0151 - val_loss: 4.8625 - val_mae: 1.7085 - val_acc: 0.0270\n",
      "Epoch 357/500\n",
      "332/332 [==============================] - 0s 0us/step - loss: 5.8440 - mae: 1.8051 - acc: 0.0151 - val_loss: 4.8737 - val_mae: 1.7021 - val_acc: 0.0270\n",
      "Epoch 358/500\n",
      "332/332 [==============================] - 0s 47us/step - loss: 5.8102 - mae: 1.8026 - acc: 0.0181 - val_loss: 4.9793 - val_mae: 1.7369 - val_acc: 0.0270\n",
      "Epoch 359/500\n",
      "332/332 [==============================] - 0s 47us/step - loss: 5.8121 - mae: 1.8051 - acc: 0.0120 - val_loss: 4.9449 - val_mae: 1.7306 - val_acc: 0.0270\n",
      "Epoch 360/500\n",
      "332/332 [==============================] - 0s 0us/step - loss: 5.8028 - mae: 1.7993 - acc: 0.0151 - val_loss: 4.8337 - val_mae: 1.6997 - val_acc: 0.0270\n",
      "Epoch 361/500\n",
      "332/332 [==============================] - 0s 47us/step - loss: 5.8174 - mae: 1.8006 - acc: 0.0181 - val_loss: 4.9002 - val_mae: 1.7271 - val_acc: 0.0270\n",
      "Epoch 362/500\n",
      "332/332 [==============================] - 0s 47us/step - loss: 5.8726 - mae: 1.8172 - acc: 0.0090 - val_loss: 4.9330 - val_mae: 1.7271 - val_acc: 0.0541\n",
      "Epoch 363/500\n",
      "332/332 [==============================] - 0s 0us/step - loss: 5.9524 - mae: 1.8159 - acc: 0.0181 - val_loss: 4.8053 - val_mae: 1.6800 - val_acc: 0.0270\n",
      "Epoch 364/500\n",
      "332/332 [==============================] - 0s 50us/step - loss: 6.0061 - mae: 1.8287 - acc: 0.0120 - val_loss: 5.1640 - val_mae: 1.7786 - val_acc: 0.0541\n",
      "Epoch 365/500\n",
      "332/332 [==============================] - 0s 47us/step - loss: 5.8546 - mae: 1.8181 - acc: 0.0211 - val_loss: 4.8802 - val_mae: 1.7035 - val_acc: 0.0270\n",
      "Epoch 366/500\n",
      "332/332 [==============================] - 0s 0us/step - loss: 5.8626 - mae: 1.8044 - acc: 0.0120 - val_loss: 4.9034 - val_mae: 1.7189 - val_acc: 0.0270\n",
      "Epoch 367/500\n",
      "332/332 [==============================] - 0s 47us/step - loss: 5.8273 - mae: 1.8076 - acc: 0.0211 - val_loss: 4.8405 - val_mae: 1.7104 - val_acc: 0.0270\n",
      "Epoch 368/500\n",
      "332/332 [==============================] - 0s 47us/step - loss: 5.7515 - mae: 1.7890 - acc: 0.0151 - val_loss: 4.8691 - val_mae: 1.6947 - val_acc: 0.0270\n",
      "Epoch 369/500\n",
      "332/332 [==============================] - 0s 0us/step - loss: 5.8009 - mae: 1.8032 - acc: 0.0211 - val_loss: 4.9054 - val_mae: 1.7201 - val_acc: 0.0270\n",
      "Epoch 370/500\n",
      "332/332 [==============================] - 0s 47us/step - loss: 5.7650 - mae: 1.8011 - acc: 0.0120 - val_loss: 4.9598 - val_mae: 1.7381 - val_acc: 0.0541\n",
      "Epoch 371/500\n",
      "332/332 [==============================] - 0s 47us/step - loss: 5.8454 - mae: 1.8030 - acc: 0.0151 - val_loss: 4.8102 - val_mae: 1.6886 - val_acc: 0.0270\n",
      "Epoch 372/500\n",
      "332/332 [==============================] - 0s 0us/step - loss: 5.8300 - mae: 1.8078 - acc: 0.0151 - val_loss: 4.9109 - val_mae: 1.7030 - val_acc: 0.0541\n",
      "Epoch 373/500\n",
      "332/332 [==============================] - 0s 47us/step - loss: 5.7648 - mae: 1.7946 - acc: 0.0181 - val_loss: 4.7922 - val_mae: 1.6854 - val_acc: 0.0270\n",
      "Epoch 374/500\n",
      "332/332 [==============================] - 0s 47us/step - loss: 5.7835 - mae: 1.8003 - acc: 0.0181 - val_loss: 4.8581 - val_mae: 1.6968 - val_acc: 0.0270\n",
      "Epoch 375/500\n",
      "332/332 [==============================] - 0s 0us/step - loss: 5.7705 - mae: 1.7991 - acc: 0.0151 - val_loss: 4.8575 - val_mae: 1.7001 - val_acc: 0.0541\n",
      "Epoch 376/500\n",
      "332/332 [==============================] - 0s 0us/step - loss: 5.7448 - mae: 1.7959 - acc: 0.0151 - val_loss: 4.8460 - val_mae: 1.6867 - val_acc: 0.0811\n",
      "Epoch 377/500\n",
      "332/332 [==============================] - 0s 47us/step - loss: 5.9656 - mae: 1.8230 - acc: 0.0181 - val_loss: 4.8197 - val_mae: 1.6893 - val_acc: 0.0270\n",
      "Epoch 378/500\n",
      "332/332 [==============================] - 0s 0us/step - loss: 5.7540 - mae: 1.7856 - acc: 0.0181 - val_loss: 4.9039 - val_mae: 1.6950 - val_acc: 0.0541\n",
      "Epoch 379/500\n",
      "332/332 [==============================] - 0s 0us/step - loss: 5.7843 - mae: 1.7968 - acc: 0.0090 - val_loss: 4.8805 - val_mae: 1.7176 - val_acc: 0.0270\n",
      "Epoch 380/500\n",
      "332/332 [==============================] - 0s 47us/step - loss: 5.7422 - mae: 1.7909 - acc: 0.0151 - val_loss: 4.8018 - val_mae: 1.6734 - val_acc: 0.0541\n",
      "Epoch 381/500\n",
      "332/332 [==============================] - 0s 0us/step - loss: 5.7491 - mae: 1.7921 - acc: 0.0151 - val_loss: 4.8983 - val_mae: 1.7112 - val_acc: 0.0541\n",
      "Epoch 382/500\n",
      "332/332 [==============================] - 0s 47us/step - loss: 5.7618 - mae: 1.7974 - acc: 0.0151 - val_loss: 4.8151 - val_mae: 1.7002 - val_acc: 0.0270\n",
      "Epoch 383/500\n",
      "332/332 [==============================] - 0s 47us/step - loss: 5.7270 - mae: 1.7936 - acc: 0.0181 - val_loss: 4.8241 - val_mae: 1.6841 - val_acc: 0.0270\n",
      "Epoch 384/500\n",
      "332/332 [==============================] - 0s 0us/step - loss: 5.7199 - mae: 1.7910 - acc: 0.0151 - val_loss: 4.8055 - val_mae: 1.6809 - val_acc: 0.0270\n",
      "Epoch 385/500\n",
      "332/332 [==============================] - 0s 47us/step - loss: 5.7210 - mae: 1.7943 - acc: 0.0181 - val_loss: 4.8416 - val_mae: 1.7073 - val_acc: 0.0270\n",
      "Epoch 386/500\n",
      "332/332 [==============================] - 0s 47us/step - loss: 5.7105 - mae: 1.7917 - acc: 0.0181 - val_loss: 4.8594 - val_mae: 1.6927 - val_acc: 0.0270\n",
      "Epoch 387/500\n",
      "332/332 [==============================] - 0s 0us/step - loss: 5.7243 - mae: 1.7931 - acc: 0.0151 - val_loss: 4.8118 - val_mae: 1.6863 - val_acc: 0.0270\n",
      "Epoch 388/500\n",
      "332/332 [==============================] - 0s 47us/step - loss: 5.7396 - mae: 1.7937 - acc: 0.0181 - val_loss: 4.8531 - val_mae: 1.7153 - val_acc: 0.0270\n",
      "Epoch 389/500\n",
      "332/332 [==============================] - 0s 47us/step - loss: 5.7351 - mae: 1.7874 - acc: 0.0120 - val_loss: 4.8894 - val_mae: 1.6976 - val_acc: 0.0270\n",
      "Epoch 390/500\n",
      "332/332 [==============================] - 0s 0us/step - loss: 5.7735 - mae: 1.8060 - acc: 0.0181 - val_loss: 4.7934 - val_mae: 1.6815 - val_acc: 0.0270\n",
      "Epoch 391/500\n",
      "332/332 [==============================] - 0s 47us/step - loss: 5.6857 - mae: 1.7880 - acc: 0.0151 - val_loss: 4.8266 - val_mae: 1.6929 - val_acc: 0.0270\n",
      "Epoch 392/500\n",
      "332/332 [==============================] - 0s 47us/step - loss: 5.7218 - mae: 1.7942 - acc: 0.0181 - val_loss: 4.7826 - val_mae: 1.6769 - val_acc: 0.0270\n",
      "Epoch 393/500\n",
      "332/332 [==============================] - 0s 0us/step - loss: 5.7121 - mae: 1.7917 - acc: 0.0120 - val_loss: 4.8095 - val_mae: 1.6898 - val_acc: 0.0270\n",
      "Epoch 394/500\n",
      "332/332 [==============================] - 0s 47us/step - loss: 5.7546 - mae: 1.7942 - acc: 0.0211 - val_loss: 4.7599 - val_mae: 1.6732 - val_acc: 0.0270\n",
      "Epoch 395/500\n",
      "332/332 [==============================] - 0s 47us/step - loss: 5.8021 - mae: 1.8003 - acc: 0.0181 - val_loss: 4.8001 - val_mae: 1.6878 - val_acc: 0.0270\n",
      "Epoch 396/500\n",
      "332/332 [==============================] - 0s 0us/step - loss: 5.7077 - mae: 1.7931 - acc: 0.0211 - val_loss: 4.8507 - val_mae: 1.6789 - val_acc: 0.0541\n",
      "Epoch 397/500\n",
      "332/332 [==============================] - 0s 47us/step - loss: 5.7106 - mae: 1.7908 - acc: 0.0181 - val_loss: 4.8252 - val_mae: 1.7001 - val_acc: 0.0541\n",
      "Epoch 398/500\n",
      "332/332 [==============================] - 0s 47us/step - loss: 5.6945 - mae: 1.7945 - acc: 0.0181 - val_loss: 4.7837 - val_mae: 1.6825 - val_acc: 0.0270\n",
      "Epoch 399/500\n",
      "332/332 [==============================] - 0s 0us/step - loss: 5.7100 - mae: 1.7955 - acc: 0.0151 - val_loss: 4.9227 - val_mae: 1.7158 - val_acc: 0.0270\n",
      "Epoch 400/500\n",
      "332/332 [==============================] - 0s 47us/step - loss: 5.7064 - mae: 1.7934 - acc: 0.0181 - val_loss: 4.7892 - val_mae: 1.6794 - val_acc: 0.0270\n",
      "Epoch 401/500\n",
      "332/332 [==============================] - 0s 47us/step - loss: 5.6577 - mae: 1.7838 - acc: 0.0151 - val_loss: 4.8058 - val_mae: 1.6900 - val_acc: 0.0270\n",
      "Epoch 402/500\n",
      "332/332 [==============================] - 0s 0us/step - loss: 5.7037 - mae: 1.7904 - acc: 0.0151 - val_loss: 4.8717 - val_mae: 1.7117 - val_acc: 0.0270\n",
      "Epoch 403/500\n",
      "332/332 [==============================] - 0s 47us/step - loss: 5.6733 - mae: 1.7893 - acc: 0.0151 - val_loss: 4.7673 - val_mae: 1.6782 - val_acc: 0.0270\n",
      "Epoch 404/500\n",
      "332/332 [==============================] - 0s 0us/step - loss: 5.7362 - mae: 1.7914 - acc: 0.0181 - val_loss: 4.7207 - val_mae: 1.6444 - val_acc: 0.0270\n",
      "Epoch 405/500\n",
      "332/332 [==============================] - 0s 0us/step - loss: 5.7136 - mae: 1.7946 - acc: 0.0181 - val_loss: 4.8271 - val_mae: 1.6991 - val_acc: 0.0541\n",
      "Epoch 406/500\n",
      "332/332 [==============================] - 0s 47us/step - loss: 5.6599 - mae: 1.7889 - acc: 0.0181 - val_loss: 4.7903 - val_mae: 1.6612 - val_acc: 0.0541\n",
      "Epoch 407/500\n",
      "332/332 [==============================] - 0s 47us/step - loss: 5.6547 - mae: 1.7827 - acc: 0.0241 - val_loss: 4.7848 - val_mae: 1.6872 - val_acc: 0.0270\n",
      "Epoch 408/500\n",
      "332/332 [==============================] - 0s 0us/step - loss: 5.6690 - mae: 1.7830 - acc: 0.0181 - val_loss: 4.7151 - val_mae: 1.6600 - val_acc: 0.0270\n",
      "Epoch 409/500\n",
      "332/332 [==============================] - 0s 47us/step - loss: 5.6586 - mae: 1.7820 - acc: 0.0181 - val_loss: 4.7659 - val_mae: 1.6684 - val_acc: 0.0270\n",
      "Epoch 410/500\n",
      "332/332 [==============================] - 0s 0us/step - loss: 5.6383 - mae: 1.7836 - acc: 0.0151 - val_loss: 4.8069 - val_mae: 1.6888 - val_acc: 0.0270\n",
      "Epoch 411/500\n",
      "332/332 [==============================] - 0s 0us/step - loss: 5.6364 - mae: 1.7820 - acc: 0.0181 - val_loss: 4.7496 - val_mae: 1.6744 - val_acc: 0.0270\n",
      "Epoch 412/500\n",
      "332/332 [==============================] - 0s 47us/step - loss: 5.6893 - mae: 1.7854 - acc: 0.0151 - val_loss: 4.8056 - val_mae: 1.6798 - val_acc: 0.0270\n",
      "Epoch 413/500\n",
      "332/332 [==============================] - 0s 0us/step - loss: 5.6124 - mae: 1.7763 - acc: 0.0181 - val_loss: 4.7679 - val_mae: 1.6735 - val_acc: 0.0270\n",
      "Epoch 414/500\n",
      "332/332 [==============================] - 0s 0us/step - loss: 5.6308 - mae: 1.7782 - acc: 0.0181 - val_loss: 4.7495 - val_mae: 1.6643 - val_acc: 0.0541\n",
      "Epoch 415/500\n",
      "332/332 [==============================] - 0s 47us/step - loss: 5.6618 - mae: 1.7859 - acc: 0.0181 - val_loss: 4.8639 - val_mae: 1.7094 - val_acc: 0.0270\n",
      "Epoch 416/500\n",
      "332/332 [==============================] - 0s 0us/step - loss: 5.6525 - mae: 1.7772 - acc: 0.0211 - val_loss: 4.7471 - val_mae: 1.6650 - val_acc: 0.0270\n",
      "Epoch 417/500\n",
      "332/332 [==============================] - 0s 47us/step - loss: 5.6664 - mae: 1.7856 - acc: 0.0181 - val_loss: 4.8419 - val_mae: 1.6876 - val_acc: 0.0270\n",
      "Epoch 418/500\n",
      "332/332 [==============================] - 0s 47us/step - loss: 5.6937 - mae: 1.7918 - acc: 0.0151 - val_loss: 4.7289 - val_mae: 1.6548 - val_acc: 0.0270\n",
      "Epoch 419/500\n",
      "332/332 [==============================] - 0s 0us/step - loss: 5.6418 - mae: 1.7806 - acc: 0.0181 - val_loss: 4.7779 - val_mae: 1.6867 - val_acc: 0.0270\n",
      "Epoch 420/500\n",
      "332/332 [==============================] - 0s 47us/step - loss: 5.6039 - mae: 1.7725 - acc: 0.0241 - val_loss: 4.8248 - val_mae: 1.6707 - val_acc: 0.0541\n",
      "Epoch 421/500\n",
      "332/332 [==============================] - 0s 47us/step - loss: 5.6144 - mae: 1.7785 - acc: 0.0211 - val_loss: 4.7738 - val_mae: 1.6714 - val_acc: 0.0270\n",
      "Epoch 422/500\n",
      "332/332 [==============================] - 0s 0us/step - loss: 5.6686 - mae: 1.7864 - acc: 0.0211 - val_loss: 4.7732 - val_mae: 1.6835 - val_acc: 0.0270\n",
      "Epoch 423/500\n",
      "332/332 [==============================] - 0s 47us/step - loss: 5.6791 - mae: 1.7919 - acc: 0.0151 - val_loss: 4.8348 - val_mae: 1.6652 - val_acc: 0.0541\n",
      "Epoch 424/500\n",
      "332/332 [==============================] - 0s 48us/step - loss: 5.5934 - mae: 1.7724 - acc: 0.0241 - val_loss: 4.6982 - val_mae: 1.6606 - val_acc: 0.0270\n",
      "Epoch 425/500\n",
      "332/332 [==============================] - 0s 0us/step - loss: 5.6594 - mae: 1.7727 - acc: 0.0181 - val_loss: 4.8196 - val_mae: 1.6989 - val_acc: 0.0541\n",
      "Epoch 426/500\n",
      "332/332 [==============================] - 0s 47us/step - loss: 5.6321 - mae: 1.7787 - acc: 0.0181 - val_loss: 4.8234 - val_mae: 1.6806 - val_acc: 0.0541\n",
      "Epoch 427/500\n",
      "332/332 [==============================] - 0s 47us/step - loss: 5.6198 - mae: 1.7757 - acc: 0.0211 - val_loss: 4.7980 - val_mae: 1.6938 - val_acc: 0.0541\n",
      "Epoch 428/500\n",
      "332/332 [==============================] - 0s 0us/step - loss: 5.5930 - mae: 1.7651 - acc: 0.0211 - val_loss: 4.7098 - val_mae: 1.6508 - val_acc: 0.0541\n",
      "Epoch 429/500\n",
      "332/332 [==============================] - 0s 47us/step - loss: 5.6010 - mae: 1.7670 - acc: 0.0271 - val_loss: 4.8144 - val_mae: 1.6720 - val_acc: 0.0541\n",
      "Epoch 430/500\n",
      "332/332 [==============================] - 0s 47us/step - loss: 5.6959 - mae: 1.7958 - acc: 0.0181 - val_loss: 4.8232 - val_mae: 1.6982 - val_acc: 0.0541\n",
      "Epoch 431/500\n",
      "332/332 [==============================] - 0s 0us/step - loss: 5.5987 - mae: 1.7737 - acc: 0.0120 - val_loss: 4.9167 - val_mae: 1.6927 - val_acc: 0.0541\n",
      "Epoch 432/500\n",
      "332/332 [==============================] - 0s 47us/step - loss: 5.6021 - mae: 1.7671 - acc: 0.0241 - val_loss: 4.7404 - val_mae: 1.6518 - val_acc: 0.0270\n",
      "Epoch 433/500\n",
      "332/332 [==============================] - 0s 47us/step - loss: 5.6224 - mae: 1.7709 - acc: 0.0181 - val_loss: 4.7971 - val_mae: 1.6679 - val_acc: 0.0270\n",
      "Epoch 434/500\n",
      "332/332 [==============================] - 0s 0us/step - loss: 5.5933 - mae: 1.7725 - acc: 0.0181 - val_loss: 4.8249 - val_mae: 1.6885 - val_acc: 0.0541\n",
      "Epoch 435/500\n",
      "332/332 [==============================] - 0s 47us/step - loss: 5.5761 - mae: 1.7706 - acc: 0.0181 - val_loss: 4.8012 - val_mae: 1.6823 - val_acc: 0.0270\n",
      "Epoch 436/500\n",
      "332/332 [==============================] - 0s 47us/step - loss: 5.5951 - mae: 1.7672 - acc: 0.0211 - val_loss: 4.7290 - val_mae: 1.6673 - val_acc: 0.0270\n",
      "Epoch 437/500\n",
      "332/332 [==============================] - 0s 47us/step - loss: 5.6012 - mae: 1.7693 - acc: 0.0211 - val_loss: 4.8747 - val_mae: 1.6940 - val_acc: 0.0541\n",
      "Epoch 438/500\n",
      "332/332 [==============================] - 0s 0us/step - loss: 5.5926 - mae: 1.7731 - acc: 0.0151 - val_loss: 4.7361 - val_mae: 1.6648 - val_acc: 0.0270\n",
      "Epoch 439/500\n",
      "332/332 [==============================] - 0s 47us/step - loss: 5.6628 - mae: 1.7805 - acc: 0.0211 - val_loss: 4.9313 - val_mae: 1.7027 - val_acc: 0.0270\n",
      "Epoch 440/500\n",
      "332/332 [==============================] - 0s 47us/step - loss: 5.6352 - mae: 1.7780 - acc: 0.0181 - val_loss: 4.6712 - val_mae: 1.6379 - val_acc: 0.0270\n",
      "Epoch 441/500\n",
      "332/332 [==============================] - 0s 0us/step - loss: 5.5701 - mae: 1.7677 - acc: 0.0181 - val_loss: 4.6976 - val_mae: 1.6446 - val_acc: 0.0541\n",
      "Epoch 442/500\n",
      "332/332 [==============================] - 0s 47us/step - loss: 5.5772 - mae: 1.7739 - acc: 0.0181 - val_loss: 4.7991 - val_mae: 1.6689 - val_acc: 0.0270\n",
      "Epoch 443/500\n",
      "332/332 [==============================] - 0s 50us/step - loss: 5.5794 - mae: 1.7713 - acc: 0.0241 - val_loss: 4.7265 - val_mae: 1.6532 - val_acc: 0.0541\n",
      "Epoch 444/500\n",
      "332/332 [==============================] - 0s 0us/step - loss: 5.5671 - mae: 1.7678 - acc: 0.0211 - val_loss: 4.7201 - val_mae: 1.6502 - val_acc: 0.0541\n",
      "Epoch 445/500\n",
      "332/332 [==============================] - 0s 47us/step - loss: 5.5928 - mae: 1.7728 - acc: 0.0211 - val_loss: 4.7625 - val_mae: 1.6656 - val_acc: 0.0541\n",
      "Epoch 446/500\n",
      "332/332 [==============================] - 0s 47us/step - loss: 5.5574 - mae: 1.7672 - acc: 0.0181 - val_loss: 4.7633 - val_mae: 1.6685 - val_acc: 0.0541\n",
      "Epoch 447/500\n",
      "332/332 [==============================] - 0s 0us/step - loss: 5.5985 - mae: 1.7662 - acc: 0.0241 - val_loss: 4.6792 - val_mae: 1.6260 - val_acc: 0.0541\n",
      "Epoch 448/500\n",
      "332/332 [==============================] - 0s 47us/step - loss: 5.5274 - mae: 1.7576 - acc: 0.0241 - val_loss: 4.7360 - val_mae: 1.6617 - val_acc: 0.0541\n",
      "Epoch 449/500\n",
      "332/332 [==============================] - 0s 47us/step - loss: 5.5909 - mae: 1.7717 - acc: 0.0151 - val_loss: 4.8762 - val_mae: 1.6878 - val_acc: 0.0270\n",
      "Epoch 450/500\n",
      "332/332 [==============================] - 0s 0us/step - loss: 5.5429 - mae: 1.7588 - acc: 0.0211 - val_loss: 4.7357 - val_mae: 1.6637 - val_acc: 0.0541\n",
      "Epoch 451/500\n",
      "332/332 [==============================] - 0s 47us/step - loss: 5.5341 - mae: 1.7553 - acc: 0.0241 - val_loss: 4.7720 - val_mae: 1.6513 - val_acc: 0.0541\n",
      "Epoch 452/500\n",
      "332/332 [==============================] - 0s 47us/step - loss: 5.5654 - mae: 1.7774 - acc: 0.0211 - val_loss: 4.8461 - val_mae: 1.6922 - val_acc: 0.0270\n",
      "Epoch 453/500\n",
      "332/332 [==============================] - 0s 0us/step - loss: 5.5499 - mae: 1.7667 - acc: 0.0211 - val_loss: 4.6883 - val_mae: 1.6574 - val_acc: 0.0270\n",
      "Epoch 454/500\n",
      "332/332 [==============================] - 0s 47us/step - loss: 5.5834 - mae: 1.7728 - acc: 0.0241 - val_loss: 4.7560 - val_mae: 1.6637 - val_acc: 0.0541\n",
      "Epoch 455/500\n",
      "332/332 [==============================] - 0s 0us/step - loss: 5.5416 - mae: 1.7655 - acc: 0.0181 - val_loss: 4.8409 - val_mae: 1.6731 - val_acc: 0.0270\n",
      "Epoch 456/500\n",
      "332/332 [==============================] - 0s 0us/step - loss: 5.5283 - mae: 1.7619 - acc: 0.0181 - val_loss: 4.6884 - val_mae: 1.6446 - val_acc: 0.0270\n",
      "Epoch 457/500\n",
      "332/332 [==============================] - 0s 47us/step - loss: 5.5162 - mae: 1.7589 - acc: 0.0211 - val_loss: 4.7343 - val_mae: 1.6598 - val_acc: 0.0270\n",
      "Epoch 458/500\n",
      "332/332 [==============================] - 0s 0us/step - loss: 5.5269 - mae: 1.7665 - acc: 0.0241 - val_loss: 4.8075 - val_mae: 1.6733 - val_acc: 0.0270\n",
      "Epoch 459/500\n",
      "332/332 [==============================] - 0s 0us/step - loss: 5.5706 - mae: 1.7666 - acc: 0.0181 - val_loss: 4.7082 - val_mae: 1.6504 - val_acc: 0.0270\n",
      "Epoch 460/500\n",
      "332/332 [==============================] - 0s 47us/step - loss: 5.5791 - mae: 1.7737 - acc: 0.0151 - val_loss: 4.9619 - val_mae: 1.7138 - val_acc: 0.0270\n",
      "Epoch 461/500\n",
      "332/332 [==============================] - 0s 0us/step - loss: 5.5092 - mae: 1.7570 - acc: 0.0181 - val_loss: 4.7437 - val_mae: 1.6561 - val_acc: 0.0270\n",
      "Epoch 462/500\n",
      "332/332 [==============================] - 0s 0us/step - loss: 5.6229 - mae: 1.7790 - acc: 0.0211 - val_loss: 4.6657 - val_mae: 1.6294 - val_acc: 0.0270\n",
      "Epoch 463/500\n",
      "332/332 [==============================] - 0s 47us/step - loss: 5.5211 - mae: 1.7607 - acc: 0.0181 - val_loss: 4.9754 - val_mae: 1.7193 - val_acc: 0.0541\n",
      "Epoch 464/500\n",
      "332/332 [==============================] - 0s 0us/step - loss: 5.5685 - mae: 1.7728 - acc: 0.0211 - val_loss: 4.7289 - val_mae: 1.6537 - val_acc: 0.0541\n",
      "Epoch 465/500\n",
      "332/332 [==============================] - 0s 0us/step - loss: 5.5337 - mae: 1.7688 - acc: 0.0151 - val_loss: 4.7651 - val_mae: 1.6757 - val_acc: 0.0541\n",
      "Epoch 466/500\n",
      "332/332 [==============================] - 0s 47us/step - loss: 5.4954 - mae: 1.7547 - acc: 0.0181 - val_loss: 4.8189 - val_mae: 1.6754 - val_acc: 0.0541\n",
      "Epoch 467/500\n",
      "332/332 [==============================] - 0s 0us/step - loss: 5.5149 - mae: 1.7594 - acc: 0.0211 - val_loss: 4.7238 - val_mae: 1.6471 - val_acc: 0.0811\n",
      "Epoch 468/500\n",
      "332/332 [==============================] - 0s 0us/step - loss: 5.5579 - mae: 1.7563 - acc: 0.0211 - val_loss: 4.6544 - val_mae: 1.6279 - val_acc: 0.0270\n",
      "Epoch 469/500\n",
      "332/332 [==============================] - 0s 47us/step - loss: 5.4997 - mae: 1.7542 - acc: 0.0241 - val_loss: 4.8338 - val_mae: 1.6780 - val_acc: 0.0270\n",
      "Epoch 470/500\n",
      "332/332 [==============================] - 0s 47us/step - loss: 5.4861 - mae: 1.7555 - acc: 0.0211 - val_loss: 4.7458 - val_mae: 1.6556 - val_acc: 0.0541\n",
      "Epoch 471/500\n",
      "332/332 [==============================] - 0s 0us/step - loss: 5.5075 - mae: 1.7552 - acc: 0.0271 - val_loss: 4.7503 - val_mae: 1.6658 - val_acc: 0.0541\n",
      "Epoch 472/500\n",
      "332/332 [==============================] - 0s 47us/step - loss: 5.5050 - mae: 1.7554 - acc: 0.0181 - val_loss: 4.7568 - val_mae: 1.6775 - val_acc: 0.0270\n",
      "Epoch 473/500\n",
      "332/332 [==============================] - 0s 47us/step - loss: 5.5854 - mae: 1.7719 - acc: 0.0181 - val_loss: 4.7440 - val_mae: 1.6469 - val_acc: 0.0541\n",
      "Epoch 474/500\n",
      "332/332 [==============================] - 0s 0us/step - loss: 5.5028 - mae: 1.7568 - acc: 0.0241 - val_loss: 4.7696 - val_mae: 1.6773 - val_acc: 0.0541\n",
      "Epoch 475/500\n",
      "332/332 [==============================] - 0s 52us/step - loss: 5.4476 - mae: 1.7503 - acc: 0.0241 - val_loss: 4.7950 - val_mae: 1.6619 - val_acc: 0.0541\n",
      "Epoch 476/500\n",
      "332/332 [==============================] - 0s 47us/step - loss: 5.4916 - mae: 1.7570 - acc: 0.0271 - val_loss: 4.7372 - val_mae: 1.6606 - val_acc: 0.0541\n",
      "Epoch 477/500\n",
      "332/332 [==============================] - 0s 47us/step - loss: 5.4787 - mae: 1.7576 - acc: 0.0211 - val_loss: 4.7396 - val_mae: 1.6635 - val_acc: 0.0541\n",
      "Epoch 478/500\n",
      "332/332 [==============================] - 0s 0us/step - loss: 5.5268 - mae: 1.7603 - acc: 0.0271 - val_loss: 4.7357 - val_mae: 1.6373 - val_acc: 0.0541\n",
      "Epoch 479/500\n",
      "332/332 [==============================] - 0s 47us/step - loss: 5.4646 - mae: 1.7521 - acc: 0.0241 - val_loss: 4.6710 - val_mae: 1.6382 - val_acc: 0.0270\n",
      "Epoch 480/500\n",
      "332/332 [==============================] - 0s 47us/step - loss: 5.5352 - mae: 1.7568 - acc: 0.0211 - val_loss: 4.6471 - val_mae: 1.6393 - val_acc: 0.0270\n",
      "Epoch 481/500\n",
      "332/332 [==============================] - 0s 47us/step - loss: 5.4352 - mae: 1.7398 - acc: 0.0301 - val_loss: 4.7414 - val_mae: 1.6473 - val_acc: 0.0541\n",
      "Epoch 482/500\n",
      "332/332 [==============================] - 0s 0us/step - loss: 5.5351 - mae: 1.7603 - acc: 0.0181 - val_loss: 4.7410 - val_mae: 1.6456 - val_acc: 0.0541\n",
      "Epoch 483/500\n",
      "332/332 [==============================] - 0s 47us/step - loss: 5.4616 - mae: 1.7454 - acc: 0.0271 - val_loss: 4.6377 - val_mae: 1.6229 - val_acc: 0.0270\n",
      "Epoch 484/500\n",
      "332/332 [==============================] - 0s 47us/step - loss: 5.5320 - mae: 1.7681 - acc: 0.0181 - val_loss: 4.8421 - val_mae: 1.6758 - val_acc: 0.0270\n",
      "Epoch 485/500\n",
      "332/332 [==============================] - 0s 47us/step - loss: 5.4568 - mae: 1.7506 - acc: 0.0181 - val_loss: 4.7376 - val_mae: 1.6546 - val_acc: 0.0270\n",
      "Epoch 486/500\n",
      "332/332 [==============================] - ETA: 0s - loss: 7.3744 - mae: 2.1000 - acc: 0.0000e+0 - 0s 0us/step - loss: 5.4228 - mae: 1.7435 - acc: 0.0241 - val_loss: 4.7093 - val_mae: 1.6570 - val_acc: 0.0541\n",
      "Epoch 487/500\n",
      "332/332 [==============================] - 0s 0us/step - loss: 5.4388 - mae: 1.7503 - acc: 0.0211 - val_loss: 4.7709 - val_mae: 1.6701 - val_acc: 0.0811\n",
      "Epoch 488/500\n",
      "332/332 [==============================] - 0s 47us/step - loss: 5.4796 - mae: 1.7487 - acc: 0.0241 - val_loss: 4.7873 - val_mae: 1.6646 - val_acc: 0.0541\n",
      "Epoch 489/500\n",
      "332/332 [==============================] - 0s 47us/step - loss: 5.4437 - mae: 1.7490 - acc: 0.0241 - val_loss: 4.7904 - val_mae: 1.6647 - val_acc: 0.0270\n",
      "Epoch 490/500\n",
      "332/332 [==============================] - 0s 47us/step - loss: 5.4294 - mae: 1.7418 - acc: 0.0211 - val_loss: 4.7123 - val_mae: 1.6407 - val_acc: 0.0811\n",
      "Epoch 491/500\n",
      "332/332 [==============================] - 0s 47us/step - loss: 5.4362 - mae: 1.7412 - acc: 0.0211 - val_loss: 4.7296 - val_mae: 1.6461 - val_acc: 0.0270\n",
      "Epoch 492/500\n",
      "332/332 [==============================] - 0s 0us/step - loss: 5.4293 - mae: 1.7445 - acc: 0.0211 - val_loss: 4.7885 - val_mae: 1.6461 - val_acc: 0.0541\n",
      "Epoch 493/500\n",
      "332/332 [==============================] - 0s 0us/step - loss: 5.5813 - mae: 1.7716 - acc: 0.0120 - val_loss: 4.7284 - val_mae: 1.6569 - val_acc: 0.0541\n",
      "Epoch 494/500\n",
      "332/332 [==============================] - 0s 47us/step - loss: 5.4634 - mae: 1.7463 - acc: 0.0181 - val_loss: 4.9234 - val_mae: 1.6760 - val_acc: 0.0541\n",
      "Epoch 495/500\n",
      "332/332 [==============================] - 0s 47us/step - loss: 5.4821 - mae: 1.7607 - acc: 0.0211 - val_loss: 4.7260 - val_mae: 1.6496 - val_acc: 0.0541\n",
      "Epoch 496/500\n",
      "332/332 [==============================] - 0s 47us/step - loss: 5.4103 - mae: 1.7393 - acc: 0.0241 - val_loss: 4.7708 - val_mae: 1.6668 - val_acc: 0.0541\n",
      "Epoch 497/500\n",
      "332/332 [==============================] - 0s 0us/step - loss: 5.4193 - mae: 1.7437 - acc: 0.0181 - val_loss: 4.6721 - val_mae: 1.6362 - val_acc: 0.0270\n",
      "Epoch 498/500\n",
      "332/332 [==============================] - 0s 0us/step - loss: 5.4099 - mae: 1.7426 - acc: 0.0271 - val_loss: 4.8235 - val_mae: 1.6540 - val_acc: 0.0541\n",
      "Epoch 499/500\n",
      "332/332 [==============================] - 0s 47us/step - loss: 5.4251 - mae: 1.7526 - acc: 0.0211 - val_loss: 4.7389 - val_mae: 1.6326 - val_acc: 0.0811\n",
      "Epoch 500/500\n",
      "332/332 [==============================] - 0s 47us/step - loss: 5.3771 - mae: 1.7358 - acc: 0.0241 - val_loss: 4.7611 - val_mae: 1.6639 - val_acc: 0.0541\n"
     ]
    }
   ],
   "source": [
    "history1 = model1.fit(inputs_train_scaled, outputs_train, epochs=500, validation_split=0.1, callbacks=[earlystop]) # Use 10% of the data for validation"
   ]
  },
  {
   "cell_type": "markdown",
   "metadata": {},
   "source": [
    "Our basic, three layer model run with the data as-is didn't perform particularly well, although it was converging towards a solution. Normalising the data definitely made a significant improvement. We can now move on to developing the structure of the model itself to improve the accuracy."
   ]
  },
  {
   "cell_type": "markdown",
   "metadata": {},
   "source": [
    "#### Second Attempt - Widen"
   ]
  },
  {
   "cell_type": "markdown",
   "metadata": {},
   "source": [
    "We will develop the model more and widen it now by doubling the number of units in each hidden layer."
   ]
  },
  {
   "cell_type": "markdown",
   "metadata": {},
   "source": [
    "##### Construct Model"
   ]
  },
  {
   "cell_type": "code",
   "execution_count": 46,
   "metadata": {
    "scrolled": true
   },
   "outputs": [
    {
     "name": "stdout",
     "output_type": "stream",
     "text": [
      "Model: \"sequential_2\"\n",
      "_________________________________________________________________\n",
      "Layer (type)                 Output Shape              Param #   \n",
      "=================================================================\n",
      "dense_4 (Dense)              (None, 64)                448       \n",
      "_________________________________________________________________\n",
      "dense_5 (Dense)              (None, 32)                2080      \n",
      "_________________________________________________________________\n",
      "dense_6 (Dense)              (None, 1)                 33        \n",
      "=================================================================\n",
      "Total params: 2,561\n",
      "Trainable params: 2,561\n",
      "Non-trainable params: 0\n",
      "_________________________________________________________________\n"
     ]
    }
   ],
   "source": [
    "model2 = Sequential() \n",
    "\n",
    "model2.add(Dense(units=64, activation='relu', input_dim=6))\n",
    "model2.add(Dense(units=32, activation='relu'))\n",
    "model2.add(Dense(units=1))\n",
    "\n",
    "model2.compile(loss='mse', optimizer='adam', metrics=['mae', 'acc'])\n",
    "\n",
    "model2.summary()"
   ]
  },
  {
   "cell_type": "markdown",
   "metadata": {},
   "source": [
    "##### Training"
   ]
  },
  {
   "cell_type": "code",
   "execution_count": 47,
   "metadata": {
    "scrolled": true
   },
   "outputs": [
    {
     "name": "stdout",
     "output_type": "stream",
     "text": [
      "Train on 332 samples, validate on 37 samples\n",
      "Epoch 1/500\n",
      "332/332 [==============================] - 0s 380us/step - loss: 451.9246 - mae: 20.2872 - acc: 0.0000e+00 - val_loss: 393.9230 - val_mae: 18.8387 - val_acc: 0.0000e+00\n",
      "Epoch 2/500\n",
      "332/332 [==============================] - 0s 47us/step - loss: 431.6230 - mae: 19.7783 - acc: 0.0000e+00 - val_loss: 373.6360 - val_mae: 18.2755 - val_acc: 0.0000e+00\n",
      "Epoch 3/500\n",
      "332/332 [==============================] - 0s 47us/step - loss: 408.8524 - mae: 19.1919 - acc: 0.0000e+00 - val_loss: 349.5654 - val_mae: 17.5937 - val_acc: 0.0000e+00\n",
      "Epoch 4/500\n",
      "332/332 [==============================] - 0s 47us/step - loss: 380.5089 - mae: 18.4477 - acc: 0.0000e+00 - val_loss: 319.0801 - val_mae: 16.7055 - val_acc: 0.0000e+00\n",
      "Epoch 5/500\n",
      "332/332 [==============================] - 0s 47us/step - loss: 343.2567 - mae: 17.4365 - acc: 0.0000e+00 - val_loss: 280.1780 - val_mae: 15.5101 - val_acc: 0.0270\n",
      "Epoch 6/500\n",
      "332/332 [==============================] - 0s 47us/step - loss: 296.7086 - mae: 16.0862 - acc: 0.0030 - val_loss: 232.3800 - val_mae: 13.9815 - val_acc: 0.0000e+00\n",
      "Epoch 7/500\n",
      "332/332 [==============================] - 0s 47us/step - loss: 239.5501 - mae: 14.3268 - acc: 0.0030 - val_loss: 178.5778 - val_mae: 12.0481 - val_acc: 0.0000e+00\n",
      "Epoch 8/500\n",
      "332/332 [==============================] - 0s 47us/step - loss: 177.9782 - mae: 12.1879 - acc: 0.0000e+00 - val_loss: 124.6390 - val_mae: 9.7831 - val_acc: 0.0000e+00\n",
      "Epoch 9/500\n",
      "332/332 [==============================] - 0s 47us/step - loss: 119.5498 - mae: 9.8124 - acc: 0.0000e+00 - val_loss: 80.9227 - val_mae: 7.5080 - val_acc: 0.0000e+00\n",
      "Epoch 10/500\n",
      "332/332 [==============================] - 0s 0us/step - loss: 76.8198 - mae: 7.5945 - acc: 0.0060 - val_loss: 54.3911 - val_mae: 5.8851 - val_acc: 0.0000e+00\n",
      "Epoch 11/500\n",
      "332/332 [==============================] - 0s 47us/step - loss: 54.2438 - mae: 6.1770 - acc: 0.0090 - val_loss: 44.7380 - val_mae: 5.1189 - val_acc: 0.0000e+00\n",
      "Epoch 12/500\n",
      "332/332 [==============================] - 0s 47us/step - loss: 47.7527 - mae: 5.7256 - acc: 0.0000e+00 - val_loss: 41.0637 - val_mae: 4.7882 - val_acc: 0.0000e+00\n",
      "Epoch 13/500\n",
      "332/332 [==============================] - 0s 0us/step - loss: 44.6196 - mae: 5.5106 - acc: 0.0030 - val_loss: 38.0075 - val_mae: 4.5810 - val_acc: 0.0000e+00\n",
      "Epoch 14/500\n",
      "332/332 [==============================] - 0s 47us/step - loss: 41.3242 - mae: 5.2817 - acc: 0.0000e+00 - val_loss: 34.7411 - val_mae: 4.3834 - val_acc: 0.0000e+00\n",
      "Epoch 15/500\n",
      "332/332 [==============================] - 0s 47us/step - loss: 38.2385 - mae: 5.0545 - acc: 0.0000e+00 - val_loss: 31.5455 - val_mae: 4.1751 - val_acc: 0.0000e+00\n",
      "Epoch 16/500\n",
      "332/332 [==============================] - 0s 0us/step - loss: 35.2939 - mae: 4.8263 - acc: 0.0030 - val_loss: 28.4588 - val_mae: 3.9509 - val_acc: 0.0000e+00\n",
      "Epoch 17/500\n",
      "332/332 [==============================] - 0s 47us/step - loss: 32.7463 - mae: 4.6119 - acc: 0.0060 - val_loss: 25.8940 - val_mae: 3.7845 - val_acc: 0.0000e+00\n",
      "Epoch 18/500\n",
      "332/332 [==============================] - 0s 47us/step - loss: 30.5851 - mae: 4.4321 - acc: 0.0090 - val_loss: 23.7162 - val_mae: 3.6502 - val_acc: 0.0000e+00\n",
      "Epoch 19/500\n",
      "332/332 [==============================] - 0s 0us/step - loss: 28.6700 - mae: 4.2875 - acc: 0.0090 - val_loss: 21.7372 - val_mae: 3.5062 - val_acc: 0.0270\n",
      "Epoch 20/500\n",
      "332/332 [==============================] - 0s 47us/step - loss: 26.9445 - mae: 4.1425 - acc: 0.0030 - val_loss: 19.8527 - val_mae: 3.3526 - val_acc: 0.0270\n",
      "Epoch 21/500\n",
      "332/332 [==============================] - 0s 47us/step - loss: 25.4678 - mae: 4.0122 - acc: 0.0000e+00 - val_loss: 18.4272 - val_mae: 3.2540 - val_acc: 0.0270\n",
      "Epoch 22/500\n",
      "332/332 [==============================] - 0s 0us/step - loss: 24.0836 - mae: 3.8900 - acc: 0.0000e+00 - val_loss: 17.1646 - val_mae: 3.1740 - val_acc: 0.0270\n",
      "Epoch 23/500\n",
      "332/332 [==============================] - 0s 47us/step - loss: 23.0822 - mae: 3.7911 - acc: 0.0030 - val_loss: 15.9148 - val_mae: 3.0873 - val_acc: 0.0270\n",
      "Epoch 24/500\n",
      "332/332 [==============================] - 0s 47us/step - loss: 22.1438 - mae: 3.7070 - acc: 0.0060 - val_loss: 14.9824 - val_mae: 3.0213 - val_acc: 0.0000e+00\n",
      "Epoch 25/500\n",
      "332/332 [==============================] - 0s 0us/step - loss: 21.2944 - mae: 3.6276 - acc: 0.0060 - val_loss: 14.2308 - val_mae: 2.9696 - val_acc: 0.0000e+00\n",
      "Epoch 26/500\n",
      "332/332 [==============================] - 0s 0us/step - loss: 20.5783 - mae: 3.5601 - acc: 0.0060 - val_loss: 13.7829 - val_mae: 2.9396 - val_acc: 0.0000e+00\n",
      "Epoch 27/500\n",
      "332/332 [==============================] - 0s 47us/step - loss: 19.9369 - mae: 3.4961 - acc: 0.0060 - val_loss: 13.2149 - val_mae: 2.8784 - val_acc: 0.0000e+00\n",
      "Epoch 28/500\n",
      "332/332 [==============================] - 0s 0us/step - loss: 19.3244 - mae: 3.4316 - acc: 0.0030 - val_loss: 12.8010 - val_mae: 2.8309 - val_acc: 0.0270\n",
      "Epoch 29/500\n",
      "332/332 [==============================] - 0s 0us/step - loss: 18.8797 - mae: 3.3885 - acc: 0.0060 - val_loss: 12.5132 - val_mae: 2.7990 - val_acc: 0.0270\n",
      "Epoch 30/500\n",
      "332/332 [==============================] - 0s 47us/step - loss: 18.3494 - mae: 3.3321 - acc: 0.0060 - val_loss: 12.0336 - val_mae: 2.7361 - val_acc: 0.0270\n",
      "Epoch 31/500\n",
      "332/332 [==============================] - 0s 47us/step - loss: 17.9171 - mae: 3.2935 - acc: 0.0060 - val_loss: 11.8251 - val_mae: 2.7129 - val_acc: 0.0270\n",
      "Epoch 32/500\n",
      "332/332 [==============================] - 0s 0us/step - loss: 17.4490 - mae: 3.2459 - acc: 0.0060 - val_loss: 11.6300 - val_mae: 2.6854 - val_acc: 0.0270\n",
      "Epoch 33/500\n",
      "332/332 [==============================] - 0s 47us/step - loss: 17.1676 - mae: 3.2116 - acc: 0.0030 - val_loss: 11.3835 - val_mae: 2.6460 - val_acc: 0.0270\n",
      "Epoch 34/500\n",
      "332/332 [==============================] - 0s 47us/step - loss: 16.7065 - mae: 3.1602 - acc: 0.0060 - val_loss: 10.9137 - val_mae: 2.5934 - val_acc: 0.0270\n",
      "Epoch 35/500\n",
      "332/332 [==============================] - 0s 0us/step - loss: 16.3505 - mae: 3.1187 - acc: 0.0060 - val_loss: 10.5134 - val_mae: 2.5322 - val_acc: 0.0270\n",
      "Epoch 36/500\n",
      "332/332 [==============================] - 0s 47us/step - loss: 15.9960 - mae: 3.0733 - acc: 0.0060 - val_loss: 10.4588 - val_mae: 2.5195 - val_acc: 0.0541\n",
      "Epoch 37/500\n",
      "332/332 [==============================] - 0s 47us/step - loss: 15.6630 - mae: 3.0351 - acc: 0.0060 - val_loss: 10.3787 - val_mae: 2.4979 - val_acc: 0.0541\n",
      "Epoch 38/500\n",
      "332/332 [==============================] - 0s 0us/step - loss: 15.4001 - mae: 2.9967 - acc: 0.0060 - val_loss: 10.1282 - val_mae: 2.4660 - val_acc: 0.0541\n",
      "Epoch 39/500\n",
      "332/332 [==============================] - 0s 47us/step - loss: 15.1065 - mae: 2.9648 - acc: 0.0060 - val_loss: 10.0730 - val_mae: 2.4628 - val_acc: 0.0541\n",
      "Epoch 40/500\n",
      "332/332 [==============================] - 0s 47us/step - loss: 14.7865 - mae: 2.9365 - acc: 0.0060 - val_loss: 10.0012 - val_mae: 2.4556 - val_acc: 0.0541\n",
      "Epoch 41/500\n",
      "332/332 [==============================] - 0s 0us/step - loss: 14.5381 - mae: 2.9096 - acc: 0.0060 - val_loss: 9.8151 - val_mae: 2.4100 - val_acc: 0.0541\n",
      "Epoch 42/500\n",
      "332/332 [==============================] - 0s 47us/step - loss: 14.2559 - mae: 2.8837 - acc: 0.0060 - val_loss: 9.6062 - val_mae: 2.3812 - val_acc: 0.0541\n",
      "Epoch 43/500\n",
      "332/332 [==============================] - 0s 47us/step - loss: 13.9888 - mae: 2.8511 - acc: 0.0060 - val_loss: 9.5972 - val_mae: 2.4002 - val_acc: 0.0541\n",
      "Epoch 44/500\n",
      "332/332 [==============================] - 0s 0us/step - loss: 13.8240 - mae: 2.8335 - acc: 0.0030 - val_loss: 9.4952 - val_mae: 2.4065 - val_acc: 0.0270\n",
      "Epoch 45/500\n",
      "332/332 [==============================] - 0s 0us/step - loss: 13.5407 - mae: 2.7992 - acc: 0.0060 - val_loss: 9.1207 - val_mae: 2.3308 - val_acc: 0.0541\n",
      "Epoch 46/500\n",
      "332/332 [==============================] - 0s 47us/step - loss: 13.3025 - mae: 2.7824 - acc: 0.0060 - val_loss: 9.3082 - val_mae: 2.3567 - val_acc: 0.0541\n",
      "Epoch 47/500\n",
      "332/332 [==============================] - 0s 0us/step - loss: 13.0542 - mae: 2.7579 - acc: 0.0060 - val_loss: 9.0822 - val_mae: 2.3248 - val_acc: 0.0541\n",
      "Epoch 48/500\n",
      "332/332 [==============================] - 0s 0us/step - loss: 12.8139 - mae: 2.7291 - acc: 0.0060 - val_loss: 8.8785 - val_mae: 2.2851 - val_acc: 0.0541\n",
      "Epoch 49/500\n",
      "332/332 [==============================] - 0s 47us/step - loss: 12.6669 - mae: 2.7114 - acc: 0.0060 - val_loss: 8.7677 - val_mae: 2.2734 - val_acc: 0.0541\n",
      "Epoch 50/500\n",
      "332/332 [==============================] - 0s 0us/step - loss: 12.4491 - mae: 2.6929 - acc: 0.0060 - val_loss: 8.6722 - val_mae: 2.2262 - val_acc: 0.0811\n",
      "Epoch 51/500\n",
      "332/332 [==============================] - 0s 0us/step - loss: 12.2220 - mae: 2.6660 - acc: 0.0090 - val_loss: 8.7944 - val_mae: 2.2583 - val_acc: 0.0541\n",
      "Epoch 52/500\n",
      "332/332 [==============================] - 0s 47us/step - loss: 12.0796 - mae: 2.6638 - acc: 0.0060 - val_loss: 8.8991 - val_mae: 2.2820 - val_acc: 0.0541\n",
      "Epoch 53/500\n",
      "332/332 [==============================] - 0s 0us/step - loss: 11.8436 - mae: 2.6283 - acc: 0.0090 - val_loss: 8.5056 - val_mae: 2.2190 - val_acc: 0.0541\n",
      "Epoch 54/500\n",
      "332/332 [==============================] - 0s 0us/step - loss: 11.7307 - mae: 2.6044 - acc: 0.0030 - val_loss: 8.2183 - val_mae: 2.1635 - val_acc: 0.0811\n",
      "Epoch 55/500\n",
      "332/332 [==============================] - 0s 47us/step - loss: 11.5271 - mae: 2.5914 - acc: 0.0060 - val_loss: 8.3120 - val_mae: 2.1583 - val_acc: 0.0811\n",
      "Epoch 56/500\n",
      "332/332 [==============================] - 0s 0us/step - loss: 11.3416 - mae: 2.5769 - acc: 0.0120 - val_loss: 8.3809 - val_mae: 2.1744 - val_acc: 0.0811\n",
      "Epoch 57/500\n",
      "332/332 [==============================] - 0s 0us/step - loss: 11.2181 - mae: 2.5623 - acc: 0.0120 - val_loss: 8.2257 - val_mae: 2.1639 - val_acc: 0.0811\n",
      "Epoch 58/500\n",
      "332/332 [==============================] - 0s 47us/step - loss: 11.0576 - mae: 2.5409 - acc: 0.0120 - val_loss: 8.2749 - val_mae: 2.1769 - val_acc: 0.0541\n",
      "Epoch 59/500\n",
      "332/332 [==============================] - 0s 47us/step - loss: 10.8860 - mae: 2.5159 - acc: 0.0090 - val_loss: 8.1000 - val_mae: 2.1473 - val_acc: 0.0541\n",
      "Epoch 60/500\n",
      "332/332 [==============================] - 0s 0us/step - loss: 10.7990 - mae: 2.5070 - acc: 0.0090 - val_loss: 8.0007 - val_mae: 2.1289 - val_acc: 0.0811\n",
      "Epoch 61/500\n",
      "332/332 [==============================] - 0s 47us/step - loss: 10.6896 - mae: 2.4953 - acc: 0.0090 - val_loss: 7.9381 - val_mae: 2.1164 - val_acc: 0.0811\n",
      "Epoch 62/500\n",
      "332/332 [==============================] - 0s 47us/step - loss: 10.4980 - mae: 2.4668 - acc: 0.0120 - val_loss: 7.8511 - val_mae: 2.0956 - val_acc: 0.0811\n",
      "Epoch 63/500\n",
      "332/332 [==============================] - 0s 0us/step - loss: 10.3738 - mae: 2.4544 - acc: 0.0090 - val_loss: 7.7184 - val_mae: 2.0798 - val_acc: 0.0811\n",
      "Epoch 64/500\n",
      "332/332 [==============================] - 0s 47us/step - loss: 10.2766 - mae: 2.4365 - acc: 0.0120 - val_loss: 7.7331 - val_mae: 2.0908 - val_acc: 0.0541\n",
      "Epoch 65/500\n",
      "332/332 [==============================] - 0s 47us/step - loss: 10.2797 - mae: 2.4495 - acc: 0.0120 - val_loss: 7.5904 - val_mae: 2.0641 - val_acc: 0.0811\n",
      "Epoch 66/500\n",
      "332/332 [==============================] - 0s 0us/step - loss: 10.0900 - mae: 2.4357 - acc: 0.0120 - val_loss: 7.8396 - val_mae: 2.1014 - val_acc: 0.0811\n",
      "Epoch 67/500\n",
      "332/332 [==============================] - 0s 0us/step - loss: 9.9447 - mae: 2.4164 - acc: 0.0120 - val_loss: 7.7472 - val_mae: 2.0593 - val_acc: 0.0811\n",
      "Epoch 68/500\n",
      "332/332 [==============================] - 0s 47us/step - loss: 9.7966 - mae: 2.3917 - acc: 0.0151 - val_loss: 7.6774 - val_mae: 2.0764 - val_acc: 0.0811\n",
      "Epoch 69/500\n",
      "332/332 [==============================] - 0s 47us/step - loss: 9.7046 - mae: 2.3782 - acc: 0.0120 - val_loss: 7.5023 - val_mae: 2.0550 - val_acc: 0.0811\n",
      "Epoch 70/500\n",
      "332/332 [==============================] - 0s 0us/step - loss: 9.5862 - mae: 2.3570 - acc: 0.0151 - val_loss: 7.2639 - val_mae: 2.0128 - val_acc: 0.0811\n",
      "Epoch 71/500\n",
      "332/332 [==============================] - 0s 47us/step - loss: 9.4823 - mae: 2.3438 - acc: 0.0181 - val_loss: 7.2103 - val_mae: 1.9769 - val_acc: 0.0811\n",
      "Epoch 72/500\n",
      "332/332 [==============================] - 0s 47us/step - loss: 9.4123 - mae: 2.3338 - acc: 0.0151 - val_loss: 7.1989 - val_mae: 1.9996 - val_acc: 0.0811\n",
      "Epoch 73/500\n",
      "332/332 [==============================] - 0s 0us/step - loss: 9.3038 - mae: 2.3222 - acc: 0.0151 - val_loss: 7.0820 - val_mae: 1.9782 - val_acc: 0.0811\n",
      "Epoch 74/500\n",
      "332/332 [==============================] - 0s 47us/step - loss: 9.2270 - mae: 2.3155 - acc: 0.0151 - val_loss: 7.1821 - val_mae: 1.9993 - val_acc: 0.0811\n",
      "Epoch 75/500\n",
      "332/332 [==============================] - 0s 47us/step - loss: 9.1585 - mae: 2.3076 - acc: 0.0151 - val_loss: 7.0492 - val_mae: 1.9856 - val_acc: 0.0541\n",
      "Epoch 76/500\n",
      "332/332 [==============================] - 0s 0us/step - loss: 9.0483 - mae: 2.2910 - acc: 0.0120 - val_loss: 7.1483 - val_mae: 1.9909 - val_acc: 0.0541\n",
      "Epoch 77/500\n",
      "332/332 [==============================] - 0s 0us/step - loss: 8.9940 - mae: 2.2807 - acc: 0.0120 - val_loss: 6.8476 - val_mae: 1.9373 - val_acc: 0.0541\n",
      "Epoch 78/500\n",
      "332/332 [==============================] - 0s 47us/step - loss: 8.9009 - mae: 2.2697 - acc: 0.0151 - val_loss: 6.8524 - val_mae: 1.9469 - val_acc: 0.0541\n",
      "Epoch 79/500\n",
      "332/332 [==============================] - 0s 47us/step - loss: 8.8339 - mae: 2.2592 - acc: 0.0120 - val_loss: 6.7787 - val_mae: 1.9303 - val_acc: 0.0541\n",
      "Epoch 80/500\n",
      "332/332 [==============================] - 0s 0us/step - loss: 8.8422 - mae: 2.2640 - acc: 0.0151 - val_loss: 6.6874 - val_mae: 1.9190 - val_acc: 0.0811\n",
      "Epoch 81/500\n",
      "332/332 [==============================] - 0s 47us/step - loss: 8.7300 - mae: 2.2523 - acc: 0.0120 - val_loss: 6.8212 - val_mae: 1.9537 - val_acc: 0.0541\n",
      "Epoch 82/500\n",
      "332/332 [==============================] - 0s 47us/step - loss: 8.6868 - mae: 2.2454 - acc: 0.0151 - val_loss: 6.7108 - val_mae: 1.9289 - val_acc: 0.0541\n",
      "Epoch 83/500\n",
      "332/332 [==============================] - 0s 0us/step - loss: 8.5896 - mae: 2.2269 - acc: 0.0120 - val_loss: 6.5592 - val_mae: 1.9208 - val_acc: 0.0541\n",
      "Epoch 84/500\n",
      "332/332 [==============================] - 0s 47us/step - loss: 8.5143 - mae: 2.2149 - acc: 0.0151 - val_loss: 6.5463 - val_mae: 1.9037 - val_acc: 0.0541\n",
      "Epoch 85/500\n",
      "332/332 [==============================] - 0s 47us/step - loss: 8.4103 - mae: 2.2024 - acc: 0.0120 - val_loss: 6.6387 - val_mae: 1.9263 - val_acc: 0.0541\n",
      "Epoch 86/500\n",
      "332/332 [==============================] - 0s 47us/step - loss: 8.3751 - mae: 2.1996 - acc: 0.0120 - val_loss: 6.5109 - val_mae: 1.9131 - val_acc: 0.0541\n",
      "Epoch 87/500\n",
      "332/332 [==============================] - 0s 0us/step - loss: 8.3272 - mae: 2.1947 - acc: 0.0120 - val_loss: 6.4455 - val_mae: 1.9104 - val_acc: 0.0541\n",
      "Epoch 88/500\n",
      "332/332 [==============================] - 0s 47us/step - loss: 8.2824 - mae: 2.1912 - acc: 0.0120 - val_loss: 6.5133 - val_mae: 1.9123 - val_acc: 0.0541\n",
      "Epoch 89/500\n",
      "332/332 [==============================] - 0s 47us/step - loss: 8.2447 - mae: 2.1863 - acc: 0.0120 - val_loss: 6.4080 - val_mae: 1.8898 - val_acc: 0.0541\n",
      "Epoch 90/500\n",
      "332/332 [==============================] - 0s 0us/step - loss: 8.1977 - mae: 2.1789 - acc: 0.0120 - val_loss: 6.4833 - val_mae: 1.9197 - val_acc: 0.0541\n",
      "Epoch 91/500\n",
      "332/332 [==============================] - 0s 47us/step - loss: 8.1244 - mae: 2.1729 - acc: 0.0120 - val_loss: 6.3591 - val_mae: 1.8977 - val_acc: 0.0541\n",
      "Epoch 92/500\n",
      "332/332 [==============================] - 0s 47us/step - loss: 8.1718 - mae: 2.1780 - acc: 0.0151 - val_loss: 6.1624 - val_mae: 1.8660 - val_acc: 0.0811\n",
      "Epoch 93/500\n",
      "332/332 [==============================] - 0s 0us/step - loss: 8.0073 - mae: 2.1504 - acc: 0.0120 - val_loss: 6.4905 - val_mae: 1.9576 - val_acc: 0.0541\n",
      "Epoch 94/500\n",
      "332/332 [==============================] - 0s 0us/step - loss: 7.9972 - mae: 2.1544 - acc: 0.0090 - val_loss: 6.3548 - val_mae: 1.9338 - val_acc: 0.0541\n",
      "Epoch 95/500\n",
      "332/332 [==============================] - 0s 47us/step - loss: 7.9628 - mae: 2.1485 - acc: 0.0120 - val_loss: 6.2399 - val_mae: 1.8762 - val_acc: 0.0541\n",
      "Epoch 96/500\n",
      "332/332 [==============================] - 0s 47us/step - loss: 7.8900 - mae: 2.1375 - acc: 0.0120 - val_loss: 6.1596 - val_mae: 1.8717 - val_acc: 0.0541\n",
      "Epoch 97/500\n",
      "332/332 [==============================] - 0s 0us/step - loss: 7.9074 - mae: 2.1344 - acc: 0.0151 - val_loss: 6.0087 - val_mae: 1.8485 - val_acc: 0.0541\n",
      "Epoch 98/500\n",
      "332/332 [==============================] - 0s 47us/step - loss: 7.7976 - mae: 2.1192 - acc: 0.0151 - val_loss: 6.1793 - val_mae: 1.8974 - val_acc: 0.0541\n",
      "Epoch 99/500\n",
      "332/332 [==============================] - 0s 47us/step - loss: 7.7499 - mae: 2.1272 - acc: 0.0151 - val_loss: 6.1822 - val_mae: 1.9095 - val_acc: 0.0541\n",
      "Epoch 100/500\n",
      "332/332 [==============================] - 0s 0us/step - loss: 7.7847 - mae: 2.1281 - acc: 0.0151 - val_loss: 5.9463 - val_mae: 1.8521 - val_acc: 0.0541\n",
      "Epoch 101/500\n",
      "332/332 [==============================] - 0s 0us/step - loss: 7.5738 - mae: 2.0978 - acc: 0.0151 - val_loss: 6.1192 - val_mae: 1.9033 - val_acc: 0.0270\n",
      "Epoch 102/500\n",
      "332/332 [==============================] - 0s 47us/step - loss: 7.7747 - mae: 2.1359 - acc: 0.0090 - val_loss: 6.2489 - val_mae: 1.9563 - val_acc: 0.0541\n",
      "Epoch 103/500\n",
      "332/332 [==============================] - 0s 0us/step - loss: 7.6460 - mae: 2.1059 - acc: 0.0151 - val_loss: 5.8064 - val_mae: 1.8329 - val_acc: 0.0541\n",
      "Epoch 104/500\n",
      "332/332 [==============================] - 0s 0us/step - loss: 7.4849 - mae: 2.0833 - acc: 0.0120 - val_loss: 6.0457 - val_mae: 1.9131 - val_acc: 0.0541\n",
      "Epoch 105/500\n",
      "332/332 [==============================] - 0s 47us/step - loss: 7.4746 - mae: 2.0827 - acc: 0.0060 - val_loss: 5.9265 - val_mae: 1.8845 - val_acc: 0.0541\n",
      "Epoch 106/500\n",
      "332/332 [==============================] - 0s 47us/step - loss: 7.3769 - mae: 2.0675 - acc: 0.0090 - val_loss: 5.8131 - val_mae: 1.8633 - val_acc: 0.0541\n",
      "Epoch 107/500\n",
      "332/332 [==============================] - 0s 0us/step - loss: 7.3877 - mae: 2.0672 - acc: 0.0211 - val_loss: 5.8993 - val_mae: 1.8830 - val_acc: 0.0541\n",
      "Epoch 108/500\n",
      "332/332 [==============================] - 0s 47us/step - loss: 7.3024 - mae: 2.0629 - acc: 0.0181 - val_loss: 5.8609 - val_mae: 1.8857 - val_acc: 0.0541\n",
      "Epoch 109/500\n",
      "332/332 [==============================] - 0s 47us/step - loss: 7.2459 - mae: 2.0483 - acc: 0.0120 - val_loss: 5.6465 - val_mae: 1.8340 - val_acc: 0.0541\n",
      "Epoch 110/500\n",
      "332/332 [==============================] - 0s 0us/step - loss: 7.2567 - mae: 2.0487 - acc: 0.0181 - val_loss: 5.7815 - val_mae: 1.8824 - val_acc: 0.0541\n",
      "Epoch 111/500\n",
      "332/332 [==============================] - 0s 0us/step - loss: 7.2480 - mae: 2.0503 - acc: 0.0151 - val_loss: 5.6763 - val_mae: 1.8492 - val_acc: 0.0541\n",
      "Epoch 112/500\n",
      "332/332 [==============================] - 0s 47us/step - loss: 7.1770 - mae: 2.0347 - acc: 0.0120 - val_loss: 5.8116 - val_mae: 1.8903 - val_acc: 0.0541\n",
      "Epoch 113/500\n",
      "332/332 [==============================] - 0s 47us/step - loss: 7.1141 - mae: 2.0249 - acc: 0.0151 - val_loss: 5.7043 - val_mae: 1.8612 - val_acc: 0.0541\n",
      "Epoch 114/500\n",
      "332/332 [==============================] - 0s 0us/step - loss: 7.0564 - mae: 2.0183 - acc: 0.0181 - val_loss: 5.7337 - val_mae: 1.8734 - val_acc: 0.0541\n",
      "Epoch 115/500\n",
      "332/332 [==============================] - 0s 47us/step - loss: 7.0193 - mae: 2.0161 - acc: 0.0181 - val_loss: 5.6751 - val_mae: 1.8668 - val_acc: 0.0541\n",
      "Epoch 116/500\n",
      "332/332 [==============================] - 0s 47us/step - loss: 7.0276 - mae: 2.0125 - acc: 0.0151 - val_loss: 5.5764 - val_mae: 1.8456 - val_acc: 0.0541\n",
      "Epoch 117/500\n",
      "332/332 [==============================] - 0s 0us/step - loss: 6.9584 - mae: 2.0045 - acc: 0.0120 - val_loss: 5.5932 - val_mae: 1.8471 - val_acc: 0.0541\n",
      "Epoch 118/500\n",
      "332/332 [==============================] - 0s 48us/step - loss: 6.8950 - mae: 1.9923 - acc: 0.0151 - val_loss: 5.5805 - val_mae: 1.8529 - val_acc: 0.0541\n",
      "Epoch 119/500\n",
      "332/332 [==============================] - 0s 47us/step - loss: 6.9858 - mae: 2.0153 - acc: 0.0151 - val_loss: 5.6727 - val_mae: 1.8818 - val_acc: 0.0541\n",
      "Epoch 120/500\n",
      "332/332 [==============================] - 0s 0us/step - loss: 6.8576 - mae: 1.9922 - acc: 0.0120 - val_loss: 5.4469 - val_mae: 1.8136 - val_acc: 0.0541\n",
      "Epoch 121/500\n",
      "332/332 [==============================] - 0s 47us/step - loss: 6.8644 - mae: 1.9869 - acc: 0.0120 - val_loss: 5.5648 - val_mae: 1.8607 - val_acc: 0.0541\n",
      "Epoch 122/500\n",
      "332/332 [==============================] - 0s 47us/step - loss: 6.8494 - mae: 1.9908 - acc: 0.0211 - val_loss: 5.5707 - val_mae: 1.8666 - val_acc: 0.0541\n",
      "Epoch 123/500\n",
      "332/332 [==============================] - 0s 0us/step - loss: 6.7899 - mae: 1.9758 - acc: 0.0151 - val_loss: 5.3392 - val_mae: 1.7990 - val_acc: 0.0541\n",
      "Epoch 124/500\n",
      "332/332 [==============================] - 0s 0us/step - loss: 6.8252 - mae: 1.9861 - acc: 0.0120 - val_loss: 5.5597 - val_mae: 1.8608 - val_acc: 0.0541\n",
      "Epoch 125/500\n",
      "332/332 [==============================] - 0s 47us/step - loss: 6.7703 - mae: 1.9738 - acc: 0.0151 - val_loss: 5.3544 - val_mae: 1.8098 - val_acc: 0.0541\n",
      "Epoch 126/500\n",
      "332/332 [==============================] - 0s 0us/step - loss: 6.7191 - mae: 1.9735 - acc: 0.0120 - val_loss: 5.5063 - val_mae: 1.8496 - val_acc: 0.0541\n",
      "Epoch 127/500\n",
      "332/332 [==============================] - 0s 0us/step - loss: 6.7470 - mae: 1.9741 - acc: 0.0151 - val_loss: 5.5198 - val_mae: 1.8598 - val_acc: 0.0541\n",
      "Epoch 128/500\n",
      "332/332 [==============================] - 0s 47us/step - loss: 6.7089 - mae: 1.9768 - acc: 0.0151 - val_loss: 5.4116 - val_mae: 1.8270 - val_acc: 0.0541\n",
      "Epoch 129/500\n",
      "332/332 [==============================] - 0s 47us/step - loss: 6.6834 - mae: 1.9666 - acc: 0.0120 - val_loss: 5.6479 - val_mae: 1.8907 - val_acc: 0.0541\n",
      "Epoch 130/500\n",
      "332/332 [==============================] - 0s 0us/step - loss: 6.6896 - mae: 1.9730 - acc: 0.0211 - val_loss: 5.3757 - val_mae: 1.8288 - val_acc: 0.0541\n",
      "Epoch 131/500\n",
      "332/332 [==============================] - 0s 47us/step - loss: 6.5696 - mae: 1.9500 - acc: 0.0120 - val_loss: 5.4932 - val_mae: 1.8462 - val_acc: 0.0541\n",
      "Epoch 132/500\n",
      "332/332 [==============================] - 0s 47us/step - loss: 6.5990 - mae: 1.9541 - acc: 0.0211 - val_loss: 5.6429 - val_mae: 1.8883 - val_acc: 0.0541\n",
      "Epoch 133/500\n",
      "332/332 [==============================] - 0s 0us/step - loss: 6.6066 - mae: 1.9526 - acc: 0.0241 - val_loss: 5.4787 - val_mae: 1.8450 - val_acc: 0.0541\n",
      "Epoch 134/500\n",
      "332/332 [==============================] - 0s 47us/step - loss: 6.5456 - mae: 1.9385 - acc: 0.0151 - val_loss: 5.4387 - val_mae: 1.8412 - val_acc: 0.0541\n",
      "Epoch 135/500\n",
      "332/332 [==============================] - 0s 47us/step - loss: 6.4835 - mae: 1.9289 - acc: 0.0181 - val_loss: 5.4307 - val_mae: 1.8502 - val_acc: 0.0541\n",
      "Epoch 136/500\n",
      "332/332 [==============================] - 0s 0us/step - loss: 6.5029 - mae: 1.9355 - acc: 0.0241 - val_loss: 5.4348 - val_mae: 1.8503 - val_acc: 0.0541\n",
      "Epoch 137/500\n",
      "332/332 [==============================] - 0s 47us/step - loss: 6.4578 - mae: 1.9222 - acc: 0.0211 - val_loss: 5.3468 - val_mae: 1.8229 - val_acc: 0.0541\n",
      "Epoch 138/500\n",
      "332/332 [==============================] - 0s 47us/step - loss: 6.4302 - mae: 1.9178 - acc: 0.0181 - val_loss: 5.3070 - val_mae: 1.8216 - val_acc: 0.0541\n",
      "Epoch 139/500\n",
      "332/332 [==============================] - 0s 0us/step - loss: 6.4191 - mae: 1.9150 - acc: 0.0241 - val_loss: 5.2072 - val_mae: 1.7844 - val_acc: 0.0541\n",
      "Epoch 140/500\n",
      "332/332 [==============================] - 0s 0us/step - loss: 6.3783 - mae: 1.9151 - acc: 0.0181 - val_loss: 5.3851 - val_mae: 1.8300 - val_acc: 0.0541\n",
      "Epoch 141/500\n",
      "332/332 [==============================] - 0s 47us/step - loss: 6.4332 - mae: 1.9197 - acc: 0.0181 - val_loss: 5.3686 - val_mae: 1.8357 - val_acc: 0.0541\n",
      "Epoch 142/500\n",
      "332/332 [==============================] - 0s 47us/step - loss: 6.3448 - mae: 1.9056 - acc: 0.0211 - val_loss: 5.1570 - val_mae: 1.7854 - val_acc: 0.0541\n",
      "Epoch 143/500\n",
      "332/332 [==============================] - ETA: 0s - loss: 6.6971 - mae: 2.1132 - acc: 0.0000e+0 - 0s 0us/step - loss: 6.4458 - mae: 1.9214 - acc: 0.0241 - val_loss: 5.2527 - val_mae: 1.8117 - val_acc: 0.0541\n",
      "Epoch 144/500\n",
      "332/332 [==============================] - 0s 0us/step - loss: 6.3438 - mae: 1.9111 - acc: 0.0151 - val_loss: 5.1734 - val_mae: 1.7935 - val_acc: 0.0541\n",
      "Epoch 145/500\n",
      "332/332 [==============================] - 0s 47us/step - loss: 6.3274 - mae: 1.9050 - acc: 0.0211 - val_loss: 5.1857 - val_mae: 1.8002 - val_acc: 0.0541\n",
      "Epoch 146/500\n",
      "332/332 [==============================] - 0s 47us/step - loss: 6.2840 - mae: 1.9051 - acc: 0.0151 - val_loss: 5.1114 - val_mae: 1.7724 - val_acc: 0.0541\n",
      "Epoch 147/500\n",
      "332/332 [==============================] - 0s 47us/step - loss: 6.3294 - mae: 1.9084 - acc: 0.0151 - val_loss: 5.1913 - val_mae: 1.8020 - val_acc: 0.0541\n",
      "Epoch 148/500\n",
      "332/332 [==============================] - 0s 47us/step - loss: 6.2814 - mae: 1.8945 - acc: 0.0211 - val_loss: 5.2126 - val_mae: 1.8069 - val_acc: 0.0541\n",
      "Epoch 149/500\n",
      "332/332 [==============================] - 0s 0us/step - loss: 6.2390 - mae: 1.8886 - acc: 0.0241 - val_loss: 5.3786 - val_mae: 1.8376 - val_acc: 0.0541\n",
      "Epoch 150/500\n",
      "332/332 [==============================] - 0s 47us/step - loss: 6.2859 - mae: 1.8943 - acc: 0.0151 - val_loss: 5.2870 - val_mae: 1.8169 - val_acc: 0.0541\n",
      "Epoch 151/500\n",
      "332/332 [==============================] - 0s 47us/step - loss: 6.2827 - mae: 1.9005 - acc: 0.0151 - val_loss: 5.2230 - val_mae: 1.8059 - val_acc: 0.0541\n",
      "Epoch 152/500\n",
      "332/332 [==============================] - 0s 47us/step - loss: 6.2332 - mae: 1.8967 - acc: 0.0241 - val_loss: 5.4262 - val_mae: 1.8515 - val_acc: 0.0541\n",
      "Epoch 153/500\n",
      "332/332 [==============================] - 0s 47us/step - loss: 6.2343 - mae: 1.8914 - acc: 0.0271 - val_loss: 5.1955 - val_mae: 1.8043 - val_acc: 0.0541\n",
      "Epoch 154/500\n",
      "332/332 [==============================] - 0s 0us/step - loss: 6.1746 - mae: 1.8812 - acc: 0.0181 - val_loss: 5.2660 - val_mae: 1.8175 - val_acc: 0.0541\n",
      "Epoch 155/500\n",
      "332/332 [==============================] - 0s 47us/step - loss: 6.2533 - mae: 1.8952 - acc: 0.0151 - val_loss: 5.0735 - val_mae: 1.7810 - val_acc: 0.0541\n",
      "Epoch 156/500\n",
      "332/332 [==============================] - 0s 47us/step - loss: 6.1832 - mae: 1.8812 - acc: 0.0181 - val_loss: 5.3606 - val_mae: 1.8437 - val_acc: 0.0541\n",
      "Epoch 157/500\n",
      "332/332 [==============================] - 0s 47us/step - loss: 6.1449 - mae: 1.8732 - acc: 0.0181 - val_loss: 5.2266 - val_mae: 1.8176 - val_acc: 0.0541\n",
      "Epoch 158/500\n",
      "332/332 [==============================] - 0s 0us/step - loss: 6.0977 - mae: 1.8646 - acc: 0.0241 - val_loss: 5.2727 - val_mae: 1.8219 - val_acc: 0.0541\n",
      "Epoch 159/500\n",
      "332/332 [==============================] - 0s 47us/step - loss: 6.1405 - mae: 1.8769 - acc: 0.0181 - val_loss: 5.1015 - val_mae: 1.7840 - val_acc: 0.0541\n",
      "Epoch 160/500\n",
      "332/332 [==============================] - 0s 47us/step - loss: 6.1717 - mae: 1.8793 - acc: 0.0151 - val_loss: 5.2346 - val_mae: 1.8091 - val_acc: 0.0541\n",
      "Epoch 161/500\n",
      "332/332 [==============================] - 0s 47us/step - loss: 6.1808 - mae: 1.8774 - acc: 0.0181 - val_loss: 5.1276 - val_mae: 1.7908 - val_acc: 0.0541\n",
      "Epoch 162/500\n",
      "332/332 [==============================] - 0s 0us/step - loss: 6.1145 - mae: 1.8693 - acc: 0.0211 - val_loss: 5.3582 - val_mae: 1.8402 - val_acc: 0.0541\n",
      "Epoch 163/500\n",
      "332/332 [==============================] - 0s 0us/step - loss: 6.0835 - mae: 1.8663 - acc: 0.0241 - val_loss: 5.1222 - val_mae: 1.7948 - val_acc: 0.0541\n",
      "Epoch 164/500\n",
      "332/332 [==============================] - 0s 0us/step - loss: 6.0623 - mae: 1.8620 - acc: 0.0241 - val_loss: 5.0567 - val_mae: 1.7809 - val_acc: 0.0541\n",
      "Epoch 165/500\n",
      "332/332 [==============================] - 0s 47us/step - loss: 6.0871 - mae: 1.8630 - acc: 0.0241 - val_loss: 5.3057 - val_mae: 1.8249 - val_acc: 0.0541\n",
      "Epoch 166/500\n",
      "332/332 [==============================] - 0s 47us/step - loss: 6.0387 - mae: 1.8588 - acc: 0.0211 - val_loss: 5.0566 - val_mae: 1.7749 - val_acc: 0.0541\n",
      "Epoch 167/500\n",
      "332/332 [==============================] - 0s 0us/step - loss: 6.0519 - mae: 1.8606 - acc: 0.0211 - val_loss: 5.0754 - val_mae: 1.7785 - val_acc: 0.0541\n",
      "Epoch 168/500\n",
      "332/332 [==============================] - 0s 0us/step - loss: 6.0342 - mae: 1.8615 - acc: 0.0271 - val_loss: 5.2003 - val_mae: 1.8065 - val_acc: 0.0541\n",
      "Epoch 169/500\n",
      "332/332 [==============================] - 0s 47us/step - loss: 6.0694 - mae: 1.8660 - acc: 0.0271 - val_loss: 5.1174 - val_mae: 1.7938 - val_acc: 0.0541\n",
      "Epoch 170/500\n",
      "332/332 [==============================] - 0s 47us/step - loss: 6.0980 - mae: 1.8699 - acc: 0.0241 - val_loss: 5.1886 - val_mae: 1.8080 - val_acc: 0.0541\n",
      "Epoch 171/500\n",
      "332/332 [==============================] - 0s 0us/step - loss: 6.1079 - mae: 1.8646 - acc: 0.0211 - val_loss: 5.0411 - val_mae: 1.7801 - val_acc: 0.0270\n",
      "Epoch 172/500\n",
      "332/332 [==============================] - 0s 47us/step - loss: 6.0678 - mae: 1.8686 - acc: 0.0211 - val_loss: 5.3247 - val_mae: 1.8265 - val_acc: 0.0541\n",
      "Epoch 173/500\n",
      "332/332 [==============================] - 0s 47us/step - loss: 5.9851 - mae: 1.8480 - acc: 0.0211 - val_loss: 5.0762 - val_mae: 1.7808 - val_acc: 0.0541\n",
      "Epoch 174/500\n",
      "332/332 [==============================] - 0s 0us/step - loss: 5.9738 - mae: 1.8429 - acc: 0.0271 - val_loss: 5.2047 - val_mae: 1.8146 - val_acc: 0.0541\n",
      "Epoch 175/500\n",
      "332/332 [==============================] - 0s 47us/step - loss: 6.0116 - mae: 1.8518 - acc: 0.0211 - val_loss: 5.1220 - val_mae: 1.7881 - val_acc: 0.0541\n",
      "Epoch 176/500\n",
      "332/332 [==============================] - 0s 47us/step - loss: 5.9449 - mae: 1.8460 - acc: 0.0211 - val_loss: 5.2583 - val_mae: 1.8205 - val_acc: 0.0541\n",
      "Epoch 177/500\n",
      "332/332 [==============================] - 0s 0us/step - loss: 5.9955 - mae: 1.8485 - acc: 0.0181 - val_loss: 5.2066 - val_mae: 1.8207 - val_acc: 0.0541\n",
      "Epoch 178/500\n",
      "332/332 [==============================] - 0s 47us/step - loss: 5.9851 - mae: 1.8492 - acc: 0.0211 - val_loss: 5.1000 - val_mae: 1.7933 - val_acc: 0.0541\n",
      "Epoch 179/500\n",
      "332/332 [==============================] - 0s 47us/step - loss: 5.9411 - mae: 1.8369 - acc: 0.0241 - val_loss: 5.2851 - val_mae: 1.8225 - val_acc: 0.0541\n",
      "Epoch 180/500\n",
      "332/332 [==============================] - 0s 0us/step - loss: 5.9444 - mae: 1.8391 - acc: 0.0211 - val_loss: 5.1310 - val_mae: 1.7966 - val_acc: 0.0541\n",
      "Epoch 181/500\n",
      "332/332 [==============================] - 0s 0us/step - loss: 5.9500 - mae: 1.8378 - acc: 0.0181 - val_loss: 5.1399 - val_mae: 1.8007 - val_acc: 0.0541\n",
      "Epoch 182/500\n",
      "332/332 [==============================] - 0s 50us/step - loss: 5.9534 - mae: 1.8388 - acc: 0.0241 - val_loss: 5.1787 - val_mae: 1.8120 - val_acc: 0.0541\n",
      "Epoch 183/500\n",
      "332/332 [==============================] - 0s 47us/step - loss: 5.9460 - mae: 1.8366 - acc: 0.0181 - val_loss: 5.2537 - val_mae: 1.8165 - val_acc: 0.0541\n",
      "Epoch 184/500\n",
      "332/332 [==============================] - 0s 0us/step - loss: 5.8976 - mae: 1.8279 - acc: 0.0181 - val_loss: 5.0831 - val_mae: 1.7816 - val_acc: 0.0541\n",
      "Epoch 185/500\n",
      "332/332 [==============================] - 0s 47us/step - loss: 5.9027 - mae: 1.8288 - acc: 0.0271 - val_loss: 5.1067 - val_mae: 1.7914 - val_acc: 0.0541\n",
      "Epoch 186/500\n",
      "332/332 [==============================] - 0s 47us/step - loss: 5.8746 - mae: 1.8256 - acc: 0.0241 - val_loss: 5.0565 - val_mae: 1.7820 - val_acc: 0.0541\n",
      "Epoch 187/500\n",
      "332/332 [==============================] - 0s 47us/step - loss: 5.9615 - mae: 1.8477 - acc: 0.0241 - val_loss: 5.0747 - val_mae: 1.7867 - val_acc: 0.0541\n",
      "Epoch 188/500\n",
      "332/332 [==============================] - 0s 0us/step - loss: 5.9066 - mae: 1.8303 - acc: 0.0181 - val_loss: 5.1678 - val_mae: 1.8006 - val_acc: 0.0541\n",
      "Epoch 189/500\n",
      "332/332 [==============================] - 0s 47us/step - loss: 5.8295 - mae: 1.8224 - acc: 0.0181 - val_loss: 5.2253 - val_mae: 1.8230 - val_acc: 0.0541\n",
      "Epoch 190/500\n",
      "332/332 [==============================] - 0s 47us/step - loss: 5.8558 - mae: 1.8229 - acc: 0.0241 - val_loss: 5.0296 - val_mae: 1.7820 - val_acc: 0.0541\n",
      "Epoch 191/500\n",
      "332/332 [==============================] - 0s 0us/step - loss: 5.8897 - mae: 1.8270 - acc: 0.0211 - val_loss: 5.0868 - val_mae: 1.7895 - val_acc: 0.0541\n",
      "Epoch 192/500\n",
      "332/332 [==============================] - 0s 52us/step - loss: 5.8418 - mae: 1.8174 - acc: 0.0181 - val_loss: 5.2083 - val_mae: 1.8241 - val_acc: 0.0541\n",
      "Epoch 193/500\n",
      "332/332 [==============================] - 0s 47us/step - loss: 5.8863 - mae: 1.8313 - acc: 0.0211 - val_loss: 5.0479 - val_mae: 1.7829 - val_acc: 0.0541\n",
      "Epoch 194/500\n",
      "332/332 [==============================] - 0s 0us/step - loss: 5.8103 - mae: 1.8160 - acc: 0.0271 - val_loss: 5.0583 - val_mae: 1.7842 - val_acc: 0.0541\n",
      "Epoch 195/500\n",
      "332/332 [==============================] - 0s 47us/step - loss: 5.8097 - mae: 1.8112 - acc: 0.0301 - val_loss: 5.0178 - val_mae: 1.7617 - val_acc: 0.0541\n",
      "Epoch 196/500\n",
      "332/332 [==============================] - 0s 47us/step - loss: 5.8411 - mae: 1.8202 - acc: 0.0181 - val_loss: 5.1211 - val_mae: 1.7837 - val_acc: 0.0541\n",
      "Epoch 197/500\n",
      "332/332 [==============================] - 0s 0us/step - loss: 5.8601 - mae: 1.8230 - acc: 0.0301 - val_loss: 4.9626 - val_mae: 1.7634 - val_acc: 0.0541\n",
      "Epoch 198/500\n",
      "332/332 [==============================] - 0s 47us/step - loss: 5.8040 - mae: 1.8135 - acc: 0.0241 - val_loss: 5.1814 - val_mae: 1.8086 - val_acc: 0.0541\n",
      "Epoch 199/500\n",
      "332/332 [==============================] - 0s 47us/step - loss: 5.7966 - mae: 1.8128 - acc: 0.0181 - val_loss: 4.9983 - val_mae: 1.7726 - val_acc: 0.0541\n",
      "Epoch 200/500\n",
      "332/332 [==============================] - 0s 0us/step - loss: 5.9732 - mae: 1.8559 - acc: 0.0181 - val_loss: 5.0254 - val_mae: 1.7858 - val_acc: 0.0541\n",
      "Epoch 201/500\n",
      "332/332 [==============================] - 0s 47us/step - loss: 5.8042 - mae: 1.8149 - acc: 0.0271 - val_loss: 5.0077 - val_mae: 1.7713 - val_acc: 0.0541\n",
      "Epoch 202/500\n",
      "332/332 [==============================] - 0s 47us/step - loss: 5.8544 - mae: 1.8191 - acc: 0.0211 - val_loss: 5.0562 - val_mae: 1.7855 - val_acc: 0.0541\n",
      "Epoch 203/500\n",
      "332/332 [==============================] - 0s 0us/step - loss: 5.7719 - mae: 1.8069 - acc: 0.0151 - val_loss: 5.0871 - val_mae: 1.7844 - val_acc: 0.0270\n",
      "Epoch 204/500\n",
      "332/332 [==============================] - 0s 47us/step - loss: 5.7891 - mae: 1.8100 - acc: 0.0211 - val_loss: 4.9360 - val_mae: 1.7542 - val_acc: 0.0541\n",
      "Epoch 205/500\n",
      "332/332 [==============================] - 0s 47us/step - loss: 5.7429 - mae: 1.8021 - acc: 0.0151 - val_loss: 5.0952 - val_mae: 1.7819 - val_acc: 0.0541\n",
      "Epoch 206/500\n",
      "332/332 [==============================] - 0s 0us/step - loss: 5.7342 - mae: 1.8037 - acc: 0.0181 - val_loss: 5.0703 - val_mae: 1.7842 - val_acc: 0.0541\n",
      "Epoch 207/500\n",
      "332/332 [==============================] - 0s 48us/step - loss: 5.7749 - mae: 1.8126 - acc: 0.0181 - val_loss: 4.9851 - val_mae: 1.7558 - val_acc: 0.0541\n",
      "Epoch 208/500\n",
      "332/332 [==============================] - 0s 47us/step - loss: 5.7661 - mae: 1.8130 - acc: 0.0181 - val_loss: 5.0645 - val_mae: 1.7817 - val_acc: 0.0541\n",
      "Epoch 209/500\n",
      "332/332 [==============================] - 0s 0us/step - loss: 5.7089 - mae: 1.7992 - acc: 0.0211 - val_loss: 4.9305 - val_mae: 1.7477 - val_acc: 0.0541\n",
      "Epoch 210/500\n",
      "332/332 [==============================] - 0s 0us/step - loss: 5.7068 - mae: 1.7940 - acc: 0.0301 - val_loss: 4.9329 - val_mae: 1.7560 - val_acc: 0.0541\n",
      "Epoch 211/500\n",
      "332/332 [==============================] - 0s 50us/step - loss: 5.7253 - mae: 1.7977 - acc: 0.0181 - val_loss: 5.0055 - val_mae: 1.7625 - val_acc: 0.0541\n",
      "Epoch 212/500\n",
      "332/332 [==============================] - 0s 0us/step - loss: 5.6824 - mae: 1.7989 - acc: 0.0181 - val_loss: 4.8921 - val_mae: 1.7564 - val_acc: 0.0541\n",
      "Epoch 213/500\n",
      "332/332 [==============================] - 0s 0us/step - loss: 5.6941 - mae: 1.7992 - acc: 0.0181 - val_loss: 4.9782 - val_mae: 1.7624 - val_acc: 0.0541\n",
      "Epoch 214/500\n",
      "332/332 [==============================] - 0s 47us/step - loss: 5.7611 - mae: 1.8027 - acc: 0.0211 - val_loss: 4.9765 - val_mae: 1.7605 - val_acc: 0.0541\n",
      "Epoch 215/500\n",
      "332/332 [==============================] - 0s 0us/step - loss: 5.7049 - mae: 1.7956 - acc: 0.0241 - val_loss: 4.9054 - val_mae: 1.7617 - val_acc: 0.0541\n",
      "Epoch 216/500\n",
      "332/332 [==============================] - 0s 0us/step - loss: 5.7111 - mae: 1.7962 - acc: 0.0211 - val_loss: 5.0892 - val_mae: 1.7797 - val_acc: 0.0541\n",
      "Epoch 217/500\n",
      "332/332 [==============================] - 0s 47us/step - loss: 5.7139 - mae: 1.8013 - acc: 0.0151 - val_loss: 4.9747 - val_mae: 1.7653 - val_acc: 0.0541\n",
      "Epoch 218/500\n",
      "332/332 [==============================] - 0s 0us/step - loss: 5.6710 - mae: 1.7922 - acc: 0.0211 - val_loss: 4.9037 - val_mae: 1.7552 - val_acc: 0.0541\n",
      "Epoch 219/500\n",
      "332/332 [==============================] - 0s 0us/step - loss: 5.6760 - mae: 1.7873 - acc: 0.0211 - val_loss: 4.9792 - val_mae: 1.7461 - val_acc: 0.0270\n",
      "Epoch 220/500\n",
      "332/332 [==============================] - 0s 47us/step - loss: 5.6570 - mae: 1.7867 - acc: 0.0181 - val_loss: 4.9038 - val_mae: 1.7604 - val_acc: 0.0541\n",
      "Epoch 221/500\n",
      "332/332 [==============================] - 0s 0us/step - loss: 5.6569 - mae: 1.7897 - acc: 0.0181 - val_loss: 5.0438 - val_mae: 1.7723 - val_acc: 0.0541\n",
      "Epoch 222/500\n",
      "332/332 [==============================] - 0s 0us/step - loss: 5.6470 - mae: 1.7821 - acc: 0.0181 - val_loss: 5.0128 - val_mae: 1.7866 - val_acc: 0.0541\n",
      "Epoch 223/500\n",
      "332/332 [==============================] - 0s 47us/step - loss: 5.6411 - mae: 1.7817 - acc: 0.0181 - val_loss: 4.9438 - val_mae: 1.7676 - val_acc: 0.0541\n",
      "Epoch 224/500\n",
      "332/332 [==============================] - 0s 47us/step - loss: 5.7097 - mae: 1.7953 - acc: 0.0151 - val_loss: 5.0093 - val_mae: 1.7728 - val_acc: 0.0541\n",
      "Epoch 225/500\n",
      "332/332 [==============================] - 0s 0us/step - loss: 5.6284 - mae: 1.7762 - acc: 0.0211 - val_loss: 4.7866 - val_mae: 1.7155 - val_acc: 0.0541\n",
      "Epoch 226/500\n",
      "332/332 [==============================] - 0s 0us/step - loss: 5.6487 - mae: 1.7868 - acc: 0.0181 - val_loss: 4.8491 - val_mae: 1.7392 - val_acc: 0.0541\n",
      "Epoch 227/500\n",
      "332/332 [==============================] - 0s 47us/step - loss: 5.6314 - mae: 1.7802 - acc: 0.0241 - val_loss: 4.8905 - val_mae: 1.7529 - val_acc: 0.0541\n",
      "Epoch 228/500\n",
      "332/332 [==============================] - 0s 47us/step - loss: 5.6194 - mae: 1.7783 - acc: 0.0211 - val_loss: 4.9574 - val_mae: 1.7695 - val_acc: 0.0541\n",
      "Epoch 229/500\n",
      "332/332 [==============================] - 0s 0us/step - loss: 5.6244 - mae: 1.7805 - acc: 0.0211 - val_loss: 4.9504 - val_mae: 1.7677 - val_acc: 0.0541\n",
      "Epoch 230/500\n",
      "332/332 [==============================] - 0s 47us/step - loss: 5.6035 - mae: 1.7728 - acc: 0.0181 - val_loss: 4.9690 - val_mae: 1.7754 - val_acc: 0.0541\n",
      "Epoch 231/500\n",
      "332/332 [==============================] - 0s 47us/step - loss: 5.6297 - mae: 1.7804 - acc: 0.0211 - val_loss: 4.8073 - val_mae: 1.7170 - val_acc: 0.0541\n",
      "Epoch 232/500\n",
      "332/332 [==============================] - 0s 0us/step - loss: 5.7281 - mae: 1.8013 - acc: 0.0181 - val_loss: 4.9297 - val_mae: 1.7476 - val_acc: 0.0541\n",
      "Epoch 233/500\n",
      "332/332 [==============================] - 0s 0us/step - loss: 5.7821 - mae: 1.8069 - acc: 0.0241 - val_loss: 4.6838 - val_mae: 1.7037 - val_acc: 0.0270\n",
      "Epoch 234/500\n",
      "332/332 [==============================] - 0s 47us/step - loss: 5.6470 - mae: 1.7898 - acc: 0.0181 - val_loss: 5.2900 - val_mae: 1.8181 - val_acc: 0.0541\n",
      "Epoch 235/500\n",
      "332/332 [==============================] - 0s 47us/step - loss: 5.6071 - mae: 1.7759 - acc: 0.0211 - val_loss: 4.8246 - val_mae: 1.7297 - val_acc: 0.0270\n",
      "Epoch 236/500\n",
      "332/332 [==============================] - 0s 0us/step - loss: 5.6296 - mae: 1.7759 - acc: 0.0211 - val_loss: 4.8936 - val_mae: 1.7406 - val_acc: 0.0541\n",
      "Epoch 237/500\n",
      "332/332 [==============================] - 0s 0us/step - loss: 5.5748 - mae: 1.7697 - acc: 0.0120 - val_loss: 4.9709 - val_mae: 1.7685 - val_acc: 0.0541\n",
      "Epoch 238/500\n",
      "332/332 [==============================] - 0s 47us/step - loss: 5.5598 - mae: 1.7683 - acc: 0.0181 - val_loss: 4.7929 - val_mae: 1.7308 - val_acc: 0.0541\n",
      "Epoch 239/500\n",
      "332/332 [==============================] - 0s 47us/step - loss: 5.5820 - mae: 1.7755 - acc: 0.0241 - val_loss: 4.8311 - val_mae: 1.7367 - val_acc: 0.0541\n",
      "Epoch 240/500\n",
      "332/332 [==============================] - ETA: 0s - loss: 6.2482 - mae: 1.8772 - acc: 0.031 - 0s 0us/step - loss: 5.6231 - mae: 1.7784 - acc: 0.0151 - val_loss: 4.8612 - val_mae: 1.7155 - val_acc: 0.0541\n",
      "Epoch 241/500\n",
      "332/332 [==============================] - 0s 0us/step - loss: 5.5636 - mae: 1.7701 - acc: 0.0211 - val_loss: 4.7204 - val_mae: 1.7029 - val_acc: 0.0541\n",
      "Epoch 242/500\n",
      "332/332 [==============================] - 0s 47us/step - loss: 5.6431 - mae: 1.7930 - acc: 0.0241 - val_loss: 4.7249 - val_mae: 1.7194 - val_acc: 0.0541\n",
      "Epoch 243/500\n",
      "332/332 [==============================] - 0s 47us/step - loss: 5.5452 - mae: 1.7629 - acc: 0.0181 - val_loss: 5.0208 - val_mae: 1.7564 - val_acc: 0.0541\n",
      "Epoch 244/500\n",
      "332/332 [==============================] - 0s 0us/step - loss: 5.5675 - mae: 1.7719 - acc: 0.0241 - val_loss: 4.6940 - val_mae: 1.7121 - val_acc: 0.0541\n",
      "Epoch 245/500\n",
      "332/332 [==============================] - 0s 47us/step - loss: 5.6008 - mae: 1.7772 - acc: 0.0211 - val_loss: 4.8967 - val_mae: 1.7194 - val_acc: 0.0541\n",
      "Epoch 246/500\n",
      "332/332 [==============================] - 0s 47us/step - loss: 5.5911 - mae: 1.7722 - acc: 0.0211 - val_loss: 4.6701 - val_mae: 1.6999 - val_acc: 0.0541\n",
      "Epoch 247/500\n",
      "332/332 [==============================] - 0s 0us/step - loss: 5.5639 - mae: 1.7726 - acc: 0.0241 - val_loss: 4.7953 - val_mae: 1.7110 - val_acc: 0.0541\n",
      "Epoch 248/500\n",
      "332/332 [==============================] - 0s 47us/step - loss: 5.5405 - mae: 1.7602 - acc: 0.0181 - val_loss: 4.7908 - val_mae: 1.7174 - val_acc: 0.0541\n",
      "Epoch 249/500\n",
      "332/332 [==============================] - 0s 47us/step - loss: 5.4970 - mae: 1.7561 - acc: 0.0211 - val_loss: 4.7674 - val_mae: 1.7148 - val_acc: 0.0541\n",
      "Epoch 250/500\n",
      "332/332 [==============================] - 0s 0us/step - loss: 5.5603 - mae: 1.7625 - acc: 0.0181 - val_loss: 4.8923 - val_mae: 1.7340 - val_acc: 0.0541\n",
      "Epoch 251/500\n",
      "332/332 [==============================] - 0s 0us/step - loss: 5.5036 - mae: 1.7576 - acc: 0.0211 - val_loss: 4.8005 - val_mae: 1.7388 - val_acc: 0.0541\n",
      "Epoch 252/500\n",
      "332/332 [==============================] - 0s 47us/step - loss: 5.5461 - mae: 1.7690 - acc: 0.0181 - val_loss: 4.7383 - val_mae: 1.7109 - val_acc: 0.0541\n",
      "Epoch 253/500\n",
      "332/332 [==============================] - 0s 0us/step - loss: 5.5643 - mae: 1.7695 - acc: 0.0211 - val_loss: 4.8133 - val_mae: 1.7253 - val_acc: 0.0541\n",
      "Epoch 254/500\n",
      "332/332 [==============================] - 0s 47us/step - loss: 5.4763 - mae: 1.7526 - acc: 0.0211 - val_loss: 4.7882 - val_mae: 1.7053 - val_acc: 0.0541\n",
      "Epoch 255/500\n",
      "332/332 [==============================] - 0s 47us/step - loss: 5.4735 - mae: 1.7518 - acc: 0.0241 - val_loss: 4.8066 - val_mae: 1.7282 - val_acc: 0.0541\n",
      "Epoch 256/500\n",
      "332/332 [==============================] - 0s 0us/step - loss: 5.5983 - mae: 1.7760 - acc: 0.0241 - val_loss: 4.8937 - val_mae: 1.7395 - val_acc: 0.0541\n",
      "Epoch 257/500\n",
      "332/332 [==============================] - 0s 47us/step - loss: 5.6780 - mae: 1.7805 - acc: 0.0181 - val_loss: 4.6665 - val_mae: 1.6780 - val_acc: 0.0541\n",
      "Epoch 258/500\n",
      "332/332 [==============================] - 0s 47us/step - loss: 5.6348 - mae: 1.7823 - acc: 0.0181 - val_loss: 4.8876 - val_mae: 1.7455 - val_acc: 0.0541\n",
      "Epoch 259/500\n",
      "332/332 [==============================] - 0s 0us/step - loss: 5.5165 - mae: 1.7544 - acc: 0.0241 - val_loss: 4.7030 - val_mae: 1.6875 - val_acc: 0.0541\n",
      "Epoch 260/500\n",
      "332/332 [==============================] - 0s 47us/step - loss: 5.5981 - mae: 1.7743 - acc: 0.0211 - val_loss: 4.8478 - val_mae: 1.7315 - val_acc: 0.0541\n",
      "Epoch 261/500\n",
      "332/332 [==============================] - 0s 47us/step - loss: 5.7862 - mae: 1.7945 - acc: 0.0151 - val_loss: 4.8765 - val_mae: 1.7090 - val_acc: 0.0541\n",
      "Epoch 262/500\n",
      "332/332 [==============================] - 0s 0us/step - loss: 5.7639 - mae: 1.7896 - acc: 0.0241 - val_loss: 4.6165 - val_mae: 1.6909 - val_acc: 0.0270\n",
      "Epoch 263/500\n",
      "332/332 [==============================] - 0s 0us/step - loss: 5.5863 - mae: 1.7761 - acc: 0.0271 - val_loss: 5.1453 - val_mae: 1.7558 - val_acc: 0.0541\n",
      "Epoch 264/500\n",
      "332/332 [==============================] - 0s 47us/step - loss: 5.5001 - mae: 1.7711 - acc: 0.0090 - val_loss: 4.7049 - val_mae: 1.6950 - val_acc: 0.0541\n",
      "Epoch 265/500\n",
      "332/332 [==============================] - 0s 0us/step - loss: 5.7781 - mae: 1.8173 - acc: 0.0181 - val_loss: 4.7072 - val_mae: 1.7103 - val_acc: 0.0541\n",
      "Epoch 266/500\n",
      "332/332 [==============================] - 0s 47us/step - loss: 5.5494 - mae: 1.7631 - acc: 0.0120 - val_loss: 4.9254 - val_mae: 1.7122 - val_acc: 0.0270\n",
      "Epoch 267/500\n",
      "332/332 [==============================] - 0s 47us/step - loss: 5.4389 - mae: 1.7432 - acc: 0.0151 - val_loss: 4.6869 - val_mae: 1.7092 - val_acc: 0.0541\n",
      "Epoch 268/500\n",
      "332/332 [==============================] - 0s 47us/step - loss: 5.4387 - mae: 1.7444 - acc: 0.0241 - val_loss: 4.7107 - val_mae: 1.6872 - val_acc: 0.0541\n",
      "Epoch 269/500\n",
      "332/332 [==============================] - 0s 0us/step - loss: 5.4855 - mae: 1.7542 - acc: 0.0181 - val_loss: 4.7339 - val_mae: 1.7101 - val_acc: 0.0541\n",
      "Epoch 270/500\n",
      "332/332 [==============================] - 0s 47us/step - loss: 5.4617 - mae: 1.7559 - acc: 0.0181 - val_loss: 4.6899 - val_mae: 1.6973 - val_acc: 0.0541\n",
      "Epoch 271/500\n",
      "332/332 [==============================] - 0s 47us/step - loss: 5.4705 - mae: 1.7509 - acc: 0.0241 - val_loss: 4.5996 - val_mae: 1.6751 - val_acc: 0.0541\n",
      "Epoch 272/500\n",
      "332/332 [==============================] - 0s 0us/step - loss: 5.4059 - mae: 1.7401 - acc: 0.0211 - val_loss: 4.7532 - val_mae: 1.7191 - val_acc: 0.0541\n",
      "Epoch 273/500\n",
      "332/332 [==============================] - 0s 47us/step - loss: 5.4659 - mae: 1.7473 - acc: 0.0181 - val_loss: 4.7800 - val_mae: 1.7134 - val_acc: 0.0541\n",
      "Epoch 274/500\n",
      "332/332 [==============================] - 0s 47us/step - loss: 5.4989 - mae: 1.7544 - acc: 0.0181 - val_loss: 4.6291 - val_mae: 1.6665 - val_acc: 0.0541\n",
      "Epoch 275/500\n",
      "332/332 [==============================] - 0s 0us/step - loss: 5.5982 - mae: 1.7790 - acc: 0.0271 - val_loss: 4.9923 - val_mae: 1.7702 - val_acc: 0.0541\n",
      "Epoch 276/500\n",
      "332/332 [==============================] - 0s 47us/step - loss: 5.5229 - mae: 1.7631 - acc: 0.0211 - val_loss: 4.6284 - val_mae: 1.6613 - val_acc: 0.0541\n",
      "Epoch 277/500\n",
      "332/332 [==============================] - 0s 47us/step - loss: 5.4194 - mae: 1.7409 - acc: 0.0241 - val_loss: 4.8851 - val_mae: 1.7387 - val_acc: 0.0541\n",
      "Epoch 278/500\n",
      "332/332 [==============================] - 0s 0us/step - loss: 5.4164 - mae: 1.7493 - acc: 0.0211 - val_loss: 4.6320 - val_mae: 1.6862 - val_acc: 0.0541\n",
      "Epoch 279/500\n",
      "332/332 [==============================] - 0s 51us/step - loss: 5.4544 - mae: 1.7527 - acc: 0.0211 - val_loss: 4.7470 - val_mae: 1.7273 - val_acc: 0.0541\n",
      "Epoch 280/500\n",
      "332/332 [==============================] - 0s 47us/step - loss: 5.3922 - mae: 1.7349 - acc: 0.0181 - val_loss: 4.6991 - val_mae: 1.6886 - val_acc: 0.0541\n",
      "Epoch 281/500\n",
      "332/332 [==============================] - 0s 0us/step - loss: 5.3943 - mae: 1.7418 - acc: 0.0181 - val_loss: 4.7144 - val_mae: 1.6933 - val_acc: 0.0541\n",
      "Epoch 282/500\n",
      "332/332 [==============================] - 0s 47us/step - loss: 5.3995 - mae: 1.7376 - acc: 0.0211 - val_loss: 4.4806 - val_mae: 1.6424 - val_acc: 0.0541\n",
      "Epoch 283/500\n",
      "332/332 [==============================] - 0s 47us/step - loss: 5.4533 - mae: 1.7518 - acc: 0.0151 - val_loss: 4.7288 - val_mae: 1.6944 - val_acc: 0.0541\n",
      "Epoch 284/500\n",
      "332/332 [==============================] - 0s 0us/step - loss: 5.3666 - mae: 1.7295 - acc: 0.0241 - val_loss: 4.5860 - val_mae: 1.6766 - val_acc: 0.0541\n",
      "Epoch 285/500\n",
      "332/332 [==============================] - 0s 47us/step - loss: 5.3448 - mae: 1.7335 - acc: 0.0181 - val_loss: 4.7789 - val_mae: 1.7076 - val_acc: 0.0541\n",
      "Epoch 286/500\n",
      "332/332 [==============================] - 0s 47us/step - loss: 5.4551 - mae: 1.7454 - acc: 0.0151 - val_loss: 4.6736 - val_mae: 1.7005 - val_acc: 0.0541\n",
      "Epoch 287/500\n",
      "332/332 [==============================] - 0s 0us/step - loss: 5.3687 - mae: 1.7326 - acc: 0.0211 - val_loss: 4.6254 - val_mae: 1.6702 - val_acc: 0.0541\n",
      "Epoch 288/500\n",
      "332/332 [==============================] - 0s 47us/step - loss: 5.3231 - mae: 1.7223 - acc: 0.0181 - val_loss: 4.7247 - val_mae: 1.7077 - val_acc: 0.0541\n",
      "Epoch 289/500\n",
      "332/332 [==============================] - 0s 0us/step - loss: 5.3718 - mae: 1.7309 - acc: 0.0181 - val_loss: 4.7639 - val_mae: 1.6988 - val_acc: 0.0270\n",
      "Epoch 290/500\n",
      "332/332 [==============================] - 0s 47us/step - loss: 5.3984 - mae: 1.7428 - acc: 0.0211 - val_loss: 4.6293 - val_mae: 1.6675 - val_acc: 0.0270\n",
      "Epoch 291/500\n",
      "332/332 [==============================] - 0s 47us/step - loss: 5.3298 - mae: 1.7263 - acc: 0.0151 - val_loss: 4.7703 - val_mae: 1.7073 - val_acc: 0.0541\n",
      "Epoch 292/500\n",
      "332/332 [==============================] - 0s 0us/step - loss: 5.3610 - mae: 1.7375 - acc: 0.0181 - val_loss: 4.6750 - val_mae: 1.6940 - val_acc: 0.0541\n",
      "Epoch 293/500\n",
      "332/332 [==============================] - 0s 0us/step - loss: 5.3113 - mae: 1.7227 - acc: 0.0211 - val_loss: 4.6141 - val_mae: 1.6771 - val_acc: 0.0541\n",
      "Epoch 294/500\n",
      "332/332 [==============================] - 0s 47us/step - loss: 5.2941 - mae: 1.7179 - acc: 0.0151 - val_loss: 4.7886 - val_mae: 1.7031 - val_acc: 0.0541\n",
      "Epoch 295/500\n",
      "332/332 [==============================] - 0s 0us/step - loss: 5.3619 - mae: 1.7309 - acc: 0.0181 - val_loss: 4.5572 - val_mae: 1.6577 - val_acc: 0.0541\n",
      "Epoch 296/500\n",
      "332/332 [==============================] - 0s 47us/step - loss: 5.4047 - mae: 1.7305 - acc: 0.0181 - val_loss: 4.5581 - val_mae: 1.6642 - val_acc: 0.0541\n",
      "Epoch 297/500\n",
      "332/332 [==============================] - 0s 47us/step - loss: 5.4679 - mae: 1.7503 - acc: 0.0211 - val_loss: 4.4855 - val_mae: 1.6434 - val_acc: 0.0541\n",
      "Epoch 298/500\n",
      "332/332 [==============================] - 0s 0us/step - loss: 5.3438 - mae: 1.7391 - acc: 0.0241 - val_loss: 4.8676 - val_mae: 1.7235 - val_acc: 0.0541\n",
      "Epoch 299/500\n",
      "332/332 [==============================] - 0s 50us/step - loss: 5.3718 - mae: 1.7249 - acc: 0.0181 - val_loss: 4.5659 - val_mae: 1.6578 - val_acc: 0.0541\n",
      "Epoch 300/500\n",
      "332/332 [==============================] - 0s 47us/step - loss: 5.3776 - mae: 1.7274 - acc: 0.0211 - val_loss: 4.5366 - val_mae: 1.6588 - val_acc: 0.0541\n",
      "Epoch 301/500\n",
      "332/332 [==============================] - 0s 0us/step - loss: 5.2951 - mae: 1.7155 - acc: 0.0181 - val_loss: 4.7217 - val_mae: 1.6970 - val_acc: 0.0541\n",
      "Epoch 302/500\n",
      "332/332 [==============================] - 0s 47us/step - loss: 5.2852 - mae: 1.7140 - acc: 0.0181 - val_loss: 4.6256 - val_mae: 1.6734 - val_acc: 0.0541\n",
      "Epoch 303/500\n",
      "332/332 [==============================] - 0s 0us/step - loss: 5.3272 - mae: 1.7296 - acc: 0.0181 - val_loss: 4.4805 - val_mae: 1.6519 - val_acc: 0.0541\n",
      "Epoch 304/500\n",
      "332/332 [==============================] - 0s 0us/step - loss: 5.2978 - mae: 1.7275 - acc: 0.0211 - val_loss: 4.6007 - val_mae: 1.6653 - val_acc: 0.0541\n",
      "Epoch 305/500\n",
      "332/332 [==============================] - 0s 47us/step - loss: 5.3635 - mae: 1.7329 - acc: 0.0181 - val_loss: 4.6854 - val_mae: 1.6871 - val_acc: 0.0541\n",
      "Epoch 306/500\n",
      "332/332 [==============================] - 0s 0us/step - loss: 5.2411 - mae: 1.7155 - acc: 0.0181 - val_loss: 4.7888 - val_mae: 1.7148 - val_acc: 0.0541\n",
      "Epoch 307/500\n",
      "332/332 [==============================] - 0s 0us/step - loss: 5.3308 - mae: 1.7205 - acc: 0.0181 - val_loss: 4.6512 - val_mae: 1.6886 - val_acc: 0.0541\n",
      "Epoch 308/500\n",
      "332/332 [==============================] - 0s 47us/step - loss: 5.2980 - mae: 1.7198 - acc: 0.0211 - val_loss: 4.6737 - val_mae: 1.6869 - val_acc: 0.0541\n",
      "Epoch 309/500\n",
      "332/332 [==============================] - 0s 47us/step - loss: 5.2782 - mae: 1.7097 - acc: 0.0211 - val_loss: 4.5375 - val_mae: 1.6552 - val_acc: 0.0541\n",
      "Epoch 310/500\n",
      "332/332 [==============================] - 0s 0us/step - loss: 5.2614 - mae: 1.7094 - acc: 0.0181 - val_loss: 4.8703 - val_mae: 1.7353 - val_acc: 0.0541\n",
      "Epoch 311/500\n",
      "332/332 [==============================] - 0s 47us/step - loss: 5.2058 - mae: 1.6987 - acc: 0.0211 - val_loss: 4.5047 - val_mae: 1.6483 - val_acc: 0.0270\n",
      "Epoch 312/500\n",
      "332/332 [==============================] - 0s 47us/step - loss: 5.2462 - mae: 1.7135 - acc: 0.0211 - val_loss: 4.5402 - val_mae: 1.6462 - val_acc: 0.0541\n",
      "Epoch 313/500\n",
      "332/332 [==============================] - 0s 0us/step - loss: 5.2523 - mae: 1.7123 - acc: 0.0211 - val_loss: 4.7527 - val_mae: 1.6988 - val_acc: 0.0541\n",
      "Epoch 314/500\n",
      "332/332 [==============================] - 0s 0us/step - loss: 5.2822 - mae: 1.7223 - acc: 0.0241 - val_loss: 4.6540 - val_mae: 1.6919 - val_acc: 0.0541\n",
      "Epoch 315/500\n",
      "332/332 [==============================] - 0s 47us/step - loss: 5.3053 - mae: 1.7218 - acc: 0.0181 - val_loss: 4.5502 - val_mae: 1.6617 - val_acc: 0.0541\n",
      "Epoch 316/500\n",
      "332/332 [==============================] - 0s 0us/step - loss: 5.2320 - mae: 1.7046 - acc: 0.0211 - val_loss: 4.7389 - val_mae: 1.7008 - val_acc: 0.0541\n",
      "Epoch 317/500\n",
      "332/332 [==============================] - 0s 47us/step - loss: 5.2604 - mae: 1.7141 - acc: 0.0211 - val_loss: 4.6187 - val_mae: 1.6879 - val_acc: 0.0541\n",
      "Epoch 318/500\n",
      "332/332 [==============================] - 0s 47us/step - loss: 5.2609 - mae: 1.7076 - acc: 0.0181 - val_loss: 4.9668 - val_mae: 1.7299 - val_acc: 0.0270\n",
      "Epoch 319/500\n",
      "332/332 [==============================] - 0s 0us/step - loss: 5.2230 - mae: 1.7094 - acc: 0.0181 - val_loss: 4.4863 - val_mae: 1.6499 - val_acc: 0.0541\n",
      "Epoch 320/500\n",
      "332/332 [==============================] - 0s 47us/step - loss: 5.3278 - mae: 1.7250 - acc: 0.0181 - val_loss: 4.7902 - val_mae: 1.7180 - val_acc: 0.0541\n",
      "Epoch 321/500\n",
      "332/332 [==============================] - 0s 47us/step - loss: 5.2661 - mae: 1.7177 - acc: 0.0211 - val_loss: 4.5045 - val_mae: 1.6528 - val_acc: 0.0541\n",
      "Epoch 322/500\n",
      "332/332 [==============================] - 0s 0us/step - loss: 5.2796 - mae: 1.7148 - acc: 0.0211 - val_loss: 4.5324 - val_mae: 1.6527 - val_acc: 0.0541\n",
      "Epoch 323/500\n",
      "332/332 [==============================] - 0s 47us/step - loss: 5.2114 - mae: 1.7066 - acc: 0.0151 - val_loss: 4.5785 - val_mae: 1.6513 - val_acc: 0.0270\n",
      "Epoch 324/500\n",
      "332/332 [==============================] - 0s 47us/step - loss: 5.1942 - mae: 1.7004 - acc: 0.0181 - val_loss: 4.7872 - val_mae: 1.7150 - val_acc: 0.0541\n",
      "Epoch 325/500\n",
      "332/332 [==============================] - 0s 0us/step - loss: 5.2203 - mae: 1.7051 - acc: 0.0211 - val_loss: 4.6553 - val_mae: 1.6873 - val_acc: 0.0541\n",
      "Epoch 326/500\n",
      "332/332 [==============================] - 0s 47us/step - loss: 5.2078 - mae: 1.7001 - acc: 0.0181 - val_loss: 4.4960 - val_mae: 1.6428 - val_acc: 0.0541\n",
      "Epoch 327/500\n",
      "332/332 [==============================] - 0s 47us/step - loss: 5.2200 - mae: 1.7014 - acc: 0.0211 - val_loss: 4.6556 - val_mae: 1.6724 - val_acc: 0.0541\n",
      "Epoch 328/500\n",
      "332/332 [==============================] - 0s 0us/step - loss: 5.2657 - mae: 1.7070 - acc: 0.0181 - val_loss: 4.4465 - val_mae: 1.6367 - val_acc: 0.0541\n",
      "Epoch 329/500\n",
      "332/332 [==============================] - 0s 47us/step - loss: 5.1716 - mae: 1.6894 - acc: 0.0211 - val_loss: 4.7305 - val_mae: 1.7034 - val_acc: 0.0541\n",
      "Epoch 330/500\n",
      "332/332 [==============================] - 0s 47us/step - loss: 5.1944 - mae: 1.6898 - acc: 0.0181 - val_loss: 4.6955 - val_mae: 1.7036 - val_acc: 0.0270\n",
      "Epoch 331/500\n",
      "332/332 [==============================] - 0s 0us/step - loss: 5.2214 - mae: 1.6974 - acc: 0.0181 - val_loss: 4.7745 - val_mae: 1.7190 - val_acc: 0.0270\n",
      "Epoch 332/500\n",
      "332/332 [==============================] - 0s 47us/step - loss: 5.1596 - mae: 1.6907 - acc: 0.0181 - val_loss: 4.5624 - val_mae: 1.6758 - val_acc: 0.0541\n",
      "Epoch 333/500\n",
      "332/332 [==============================] - 0s 47us/step - loss: 5.2547 - mae: 1.7114 - acc: 0.0181 - val_loss: 4.4711 - val_mae: 1.6362 - val_acc: 0.0270\n",
      "Epoch 334/500\n",
      "332/332 [==============================] - 0s 0us/step - loss: 5.2840 - mae: 1.7001 - acc: 0.0151 - val_loss: 4.8199 - val_mae: 1.7188 - val_acc: 0.0541\n",
      "Epoch 335/500\n",
      "332/332 [==============================] - 0s 47us/step - loss: 5.1536 - mae: 1.6940 - acc: 0.0181 - val_loss: 4.5018 - val_mae: 1.6456 - val_acc: 0.0541\n",
      "Epoch 336/500\n",
      "332/332 [==============================] - 0s 47us/step - loss: 5.0961 - mae: 1.6778 - acc: 0.0211 - val_loss: 4.7539 - val_mae: 1.6894 - val_acc: 0.0541\n",
      "Epoch 337/500\n",
      "332/332 [==============================] - 0s 0us/step - loss: 5.1739 - mae: 1.6877 - acc: 0.0181 - val_loss: 4.4606 - val_mae: 1.6520 - val_acc: 0.0541\n",
      "Epoch 338/500\n",
      "332/332 [==============================] - 0s 47us/step - loss: 5.1515 - mae: 1.6915 - acc: 0.0181 - val_loss: 4.4772 - val_mae: 1.6443 - val_acc: 0.0541\n",
      "Epoch 339/500\n",
      "332/332 [==============================] - 0s 47us/step - loss: 5.1092 - mae: 1.6759 - acc: 0.0211 - val_loss: 4.5375 - val_mae: 1.6491 - val_acc: 0.0270\n",
      "Epoch 340/500\n",
      "332/332 [==============================] - 0s 0us/step - loss: 5.1045 - mae: 1.6758 - acc: 0.0181 - val_loss: 4.4216 - val_mae: 1.6274 - val_acc: 0.0541\n",
      "Epoch 341/500\n",
      "332/332 [==============================] - 0s 47us/step - loss: 5.1300 - mae: 1.6826 - acc: 0.0211 - val_loss: 4.5691 - val_mae: 1.6583 - val_acc: 0.0541\n",
      "Epoch 342/500\n",
      "332/332 [==============================] - ETA: 0s - loss: 4.4885 - mae: 1.7479 - acc: 0.0000e+0 - 0s 0us/step - loss: 5.1408 - mae: 1.6881 - acc: 0.0181 - val_loss: 4.5305 - val_mae: 1.6527 - val_acc: 0.0541\n",
      "Epoch 343/500\n",
      "332/332 [==============================] - 0s 0us/step - loss: 5.1237 - mae: 1.6792 - acc: 0.0241 - val_loss: 4.6076 - val_mae: 1.6789 - val_acc: 0.0541\n",
      "Epoch 344/500\n",
      "332/332 [==============================] - 0s 47us/step - loss: 5.0777 - mae: 1.6704 - acc: 0.0211 - val_loss: 4.5146 - val_mae: 1.6475 - val_acc: 0.0270\n",
      "Epoch 345/500\n",
      "332/332 [==============================] - 0s 0us/step - loss: 5.0846 - mae: 1.6714 - acc: 0.0181 - val_loss: 4.4757 - val_mae: 1.6382 - val_acc: 0.0541\n",
      "Epoch 346/500\n",
      "332/332 [==============================] - 0s 0us/step - loss: 5.0773 - mae: 1.6714 - acc: 0.0211 - val_loss: 4.4873 - val_mae: 1.6484 - val_acc: 0.0541\n",
      "Epoch 347/500\n",
      "332/332 [==============================] - 0s 47us/step - loss: 5.0587 - mae: 1.6650 - acc: 0.0241 - val_loss: 4.6977 - val_mae: 1.6916 - val_acc: 0.0270\n",
      "Epoch 348/500\n",
      "332/332 [==============================] - 0s 0us/step - loss: 5.0639 - mae: 1.6689 - acc: 0.0211 - val_loss: 4.5674 - val_mae: 1.6609 - val_acc: 0.0270\n",
      "Epoch 349/500\n",
      "332/332 [==============================] - 0s 47us/step - loss: 5.0667 - mae: 1.6683 - acc: 0.0241 - val_loss: 4.5917 - val_mae: 1.6624 - val_acc: 0.0270\n",
      "Epoch 350/500\n",
      "332/332 [==============================] - 0s 47us/step - loss: 5.0941 - mae: 1.6687 - acc: 0.0181 - val_loss: 4.5512 - val_mae: 1.6464 - val_acc: 0.0541\n",
      "Epoch 351/500\n",
      "332/332 [==============================] - 0s 0us/step - loss: 5.1041 - mae: 1.6815 - acc: 0.0211 - val_loss: 4.4838 - val_mae: 1.6307 - val_acc: 0.0541\n",
      "Epoch 352/500\n",
      "332/332 [==============================] - 0s 47us/step - loss: 5.0934 - mae: 1.6740 - acc: 0.0211 - val_loss: 4.4894 - val_mae: 1.6355 - val_acc: 0.0541\n",
      "Epoch 353/500\n",
      "332/332 [==============================] - 0s 47us/step - loss: 5.0284 - mae: 1.6672 - acc: 0.0211 - val_loss: 4.6155 - val_mae: 1.6730 - val_acc: 0.0541\n",
      "Epoch 354/500\n",
      "332/332 [==============================] - 0s 0us/step - loss: 5.0226 - mae: 1.6652 - acc: 0.0241 - val_loss: 4.4583 - val_mae: 1.6287 - val_acc: 0.0270\n",
      "Epoch 355/500\n",
      "332/332 [==============================] - 0s 47us/step - loss: 5.0266 - mae: 1.6654 - acc: 0.0181 - val_loss: 4.4473 - val_mae: 1.6286 - val_acc: 0.0541\n",
      "Epoch 356/500\n",
      "332/332 [==============================] - 0s 47us/step - loss: 5.0468 - mae: 1.6665 - acc: 0.0271 - val_loss: 4.6543 - val_mae: 1.6761 - val_acc: 0.0270\n",
      "Epoch 357/500\n",
      "332/332 [==============================] - 0s 0us/step - loss: 5.0623 - mae: 1.6652 - acc: 0.0241 - val_loss: 4.5036 - val_mae: 1.6399 - val_acc: 0.0541\n",
      "Epoch 358/500\n",
      "332/332 [==============================] - 0s 0us/step - loss: 5.0401 - mae: 1.6665 - acc: 0.0151 - val_loss: 4.6634 - val_mae: 1.6818 - val_acc: 0.0270\n",
      "Epoch 359/500\n",
      "332/332 [==============================] - 0s 47us/step - loss: 5.0349 - mae: 1.6616 - acc: 0.0241 - val_loss: 4.4936 - val_mae: 1.6441 - val_acc: 0.0541\n",
      "Epoch 360/500\n",
      "332/332 [==============================] - 0s 0us/step - loss: 5.0046 - mae: 1.6581 - acc: 0.0181 - val_loss: 4.4460 - val_mae: 1.6219 - val_acc: 0.0270\n",
      "Epoch 361/500\n",
      "332/332 [==============================] - 0s 0us/step - loss: 5.0196 - mae: 1.6618 - acc: 0.0211 - val_loss: 4.3060 - val_mae: 1.5898 - val_acc: 0.0270\n",
      "Epoch 362/500\n",
      "332/332 [==============================] - 0s 47us/step - loss: 5.0784 - mae: 1.6678 - acc: 0.0181 - val_loss: 4.5155 - val_mae: 1.6336 - val_acc: 0.0270\n",
      "Epoch 363/500\n",
      "332/332 [==============================] - 0s 47us/step - loss: 5.1263 - mae: 1.6856 - acc: 0.0241 - val_loss: 4.4235 - val_mae: 1.6277 - val_acc: 0.0541\n",
      "Epoch 364/500\n",
      "332/332 [==============================] - 0s 0us/step - loss: 5.0449 - mae: 1.6715 - acc: 0.0241 - val_loss: 4.6670 - val_mae: 1.6765 - val_acc: 0.0270\n",
      "Epoch 365/500\n",
      "332/332 [==============================] - 0s 47us/step - loss: 5.0533 - mae: 1.6675 - acc: 0.0151 - val_loss: 4.5235 - val_mae: 1.6410 - val_acc: 0.0270\n",
      "Epoch 366/500\n",
      "332/332 [==============================] - 0s 47us/step - loss: 4.9909 - mae: 1.6595 - acc: 0.0211 - val_loss: 4.4025 - val_mae: 1.6200 - val_acc: 0.0541\n",
      "Epoch 367/500\n",
      "332/332 [==============================] - 0s 0us/step - loss: 5.0109 - mae: 1.6585 - acc: 0.0211 - val_loss: 4.4897 - val_mae: 1.6328 - val_acc: 0.0541\n",
      "Epoch 368/500\n",
      "332/332 [==============================] - 0s 0us/step - loss: 4.9698 - mae: 1.6501 - acc: 0.0241 - val_loss: 4.5686 - val_mae: 1.6500 - val_acc: 0.0270\n",
      "Epoch 369/500\n",
      "332/332 [==============================] - 0s 47us/step - loss: 4.9806 - mae: 1.6541 - acc: 0.0211 - val_loss: 4.5356 - val_mae: 1.6486 - val_acc: 0.0270\n",
      "Epoch 370/500\n",
      "332/332 [==============================] - 0s 47us/step - loss: 4.9710 - mae: 1.6564 - acc: 0.0241 - val_loss: 4.4946 - val_mae: 1.6375 - val_acc: 0.0541\n",
      "Epoch 371/500\n",
      "332/332 [==============================] - 0s 0us/step - loss: 4.9448 - mae: 1.6532 - acc: 0.0211 - val_loss: 4.5683 - val_mae: 1.6521 - val_acc: 0.0270\n",
      "Epoch 372/500\n",
      "332/332 [==============================] - 0s 47us/step - loss: 4.9252 - mae: 1.6430 - acc: 0.0211 - val_loss: 4.5436 - val_mae: 1.6375 - val_acc: 0.0270\n",
      "Epoch 373/500\n",
      "332/332 [==============================] - 0s 0us/step - loss: 5.1204 - mae: 1.6776 - acc: 0.0211 - val_loss: 4.5091 - val_mae: 1.6302 - val_acc: 0.0270\n",
      "Epoch 374/500\n",
      "332/332 [==============================] - 0s 0us/step - loss: 4.9615 - mae: 1.6552 - acc: 0.0151 - val_loss: 4.4184 - val_mae: 1.6026 - val_acc: 0.0270\n",
      "Epoch 375/500\n",
      "332/332 [==============================] - 0s 51us/step - loss: 4.9299 - mae: 1.6401 - acc: 0.0181 - val_loss: 4.6227 - val_mae: 1.6598 - val_acc: 0.0541\n",
      "Epoch 376/500\n",
      "332/332 [==============================] - 0s 0us/step - loss: 4.9545 - mae: 1.6504 - acc: 0.0211 - val_loss: 4.4007 - val_mae: 1.6150 - val_acc: 0.0541\n",
      "Epoch 377/500\n",
      "332/332 [==============================] - 0s 0us/step - loss: 4.9813 - mae: 1.6526 - acc: 0.0181 - val_loss: 4.5798 - val_mae: 1.6447 - val_acc: 0.0270\n",
      "Epoch 378/500\n",
      "332/332 [==============================] - 0s 47us/step - loss: 4.9560 - mae: 1.6519 - acc: 0.0211 - val_loss: 4.6155 - val_mae: 1.6710 - val_acc: 0.0541\n",
      "Epoch 379/500\n",
      "332/332 [==============================] - 0s 47us/step - loss: 4.9600 - mae: 1.6482 - acc: 0.0211 - val_loss: 4.4355 - val_mae: 1.6145 - val_acc: 0.0270\n",
      "Epoch 380/500\n",
      "332/332 [==============================] - 0s 0us/step - loss: 4.9469 - mae: 1.6391 - acc: 0.0241 - val_loss: 4.5230 - val_mae: 1.6415 - val_acc: 0.0541\n",
      "Epoch 381/500\n",
      "332/332 [==============================] - 0s 0us/step - loss: 4.9632 - mae: 1.6459 - acc: 0.0211 - val_loss: 4.4164 - val_mae: 1.6079 - val_acc: 0.0270\n",
      "Epoch 382/500\n",
      "332/332 [==============================] - 0s 47us/step - loss: 4.9934 - mae: 1.6585 - acc: 0.0241 - val_loss: 4.5775 - val_mae: 1.6584 - val_acc: 0.0270\n",
      "Epoch 383/500\n",
      "332/332 [==============================] - 0s 47us/step - loss: 4.9457 - mae: 1.6499 - acc: 0.0211 - val_loss: 4.5221 - val_mae: 1.6397 - val_acc: 0.0270\n",
      "Epoch 384/500\n",
      "332/332 [==============================] - 0s 0us/step - loss: 4.9944 - mae: 1.6623 - acc: 0.0211 - val_loss: 4.5105 - val_mae: 1.6446 - val_acc: 0.0270\n",
      "Epoch 385/500\n",
      "332/332 [==============================] - 0s 0us/step - loss: 5.0666 - mae: 1.6766 - acc: 0.0181 - val_loss: 4.5241 - val_mae: 1.6355 - val_acc: 0.0541\n",
      "Epoch 386/500\n",
      "332/332 [==============================] - 0s 47us/step - loss: 5.0044 - mae: 1.6598 - acc: 0.0241 - val_loss: 4.3248 - val_mae: 1.5819 - val_acc: 0.0270\n",
      "Epoch 387/500\n",
      "332/332 [==============================] - 0s 47us/step - loss: 5.2532 - mae: 1.7080 - acc: 0.0271 - val_loss: 4.7353 - val_mae: 1.6913 - val_acc: 0.0541\n",
      "Epoch 388/500\n",
      "332/332 [==============================] - 0s 0us/step - loss: 4.9396 - mae: 1.6379 - acc: 0.0241 - val_loss: 4.5114 - val_mae: 1.6324 - val_acc: 0.0270\n",
      "Epoch 389/500\n",
      "332/332 [==============================] - 0s 0us/step - loss: 4.9051 - mae: 1.6345 - acc: 0.0241 - val_loss: 4.5885 - val_mae: 1.6542 - val_acc: 0.0270\n",
      "Epoch 390/500\n",
      "332/332 [==============================] - 0s 47us/step - loss: 4.9005 - mae: 1.6448 - acc: 0.0181 - val_loss: 4.4358 - val_mae: 1.6165 - val_acc: 0.0270\n",
      "Epoch 391/500\n",
      "332/332 [==============================] - 0s 47us/step - loss: 4.8915 - mae: 1.6307 - acc: 0.0211 - val_loss: 4.6190 - val_mae: 1.6687 - val_acc: 0.0270\n",
      "Restoring model weights from the end of the best epoch\n",
      "Epoch 00391: early stopping\n"
     ]
    }
   ],
   "source": [
    "history2 = model2.fit(inputs_train_scaled, outputs_train, epochs=500, validation_split=0.1, callbacks=[earlystop])"
   ]
  },
  {
   "cell_type": "markdown",
   "metadata": {},
   "source": [
    "#### Third Attempt - Deepen"
   ]
  },
  {
   "cell_type": "markdown",
   "metadata": {},
   "source": [
    "We will develop the second attempt model and deepen it now by adding another 2 hidden layers."
   ]
  },
  {
   "cell_type": "markdown",
   "metadata": {},
   "source": [
    "##### Construct Model"
   ]
  },
  {
   "cell_type": "code",
   "execution_count": 48,
   "metadata": {
    "scrolled": true
   },
   "outputs": [
    {
     "name": "stdout",
     "output_type": "stream",
     "text": [
      "Model: \"sequential_3\"\n",
      "_________________________________________________________________\n",
      "Layer (type)                 Output Shape              Param #   \n",
      "=================================================================\n",
      "dense_7 (Dense)              (None, 256)               1792      \n",
      "_________________________________________________________________\n",
      "dense_8 (Dense)              (None, 128)               32896     \n",
      "_________________________________________________________________\n",
      "dense_9 (Dense)              (None, 64)                8256      \n",
      "_________________________________________________________________\n",
      "dense_10 (Dense)             (None, 32)                2080      \n",
      "_________________________________________________________________\n",
      "dense_11 (Dense)             (None, 1)                 33        \n",
      "=================================================================\n",
      "Total params: 45,057\n",
      "Trainable params: 45,057\n",
      "Non-trainable params: 0\n",
      "_________________________________________________________________\n"
     ]
    }
   ],
   "source": [
    "model3 = Sequential() \n",
    "\n",
    "model3.add(Dense(units=256, activation='relu', input_dim=6))\n",
    "model3.add(Dense(units=128, activation='relu'))\n",
    "model3.add(Dense(units=64, activation='relu'))\n",
    "model3.add(Dense(units=32, activation='relu'))\n",
    "model3.add(Dense(units=1))\n",
    "\n",
    "model3.compile(loss='mse', optimizer='adam', metrics=['mae', 'acc'])\n",
    "\n",
    "model3.summary()"
   ]
  },
  {
   "cell_type": "markdown",
   "metadata": {},
   "source": [
    "##### Training"
   ]
  },
  {
   "cell_type": "code",
   "execution_count": 49,
   "metadata": {
    "scrolled": true
   },
   "outputs": [
    {
     "name": "stdout",
     "output_type": "stream",
     "text": [
      "Train on 332 samples, validate on 37 samples\n",
      "Epoch 1/500\n",
      "332/332 [==============================] - 0s 565us/step - loss: 433.7089 - mae: 19.8571 - acc: 0.0000e+00 - val_loss: 340.6261 - val_mae: 17.4074 - val_acc: 0.0000e+00\n",
      "Epoch 2/500\n",
      "332/332 [==============================] - 0s 0us/step - loss: 304.1363 - mae: 16.3669 - acc: 0.0000e+00 - val_loss: 153.5784 - val_mae: 11.1170 - val_acc: 0.0000e+00\n",
      "Epoch 3/500\n",
      "332/332 [==============================] - 0s 47us/step - loss: 96.3029 - mae: 8.3593 - acc: 0.0030 - val_loss: 62.8826 - val_mae: 6.1176 - val_acc: 0.0270\n",
      "Epoch 4/500\n",
      "332/332 [==============================] - 0s 47us/step - loss: 59.9435 - mae: 6.2881 - acc: 0.0030 - val_loss: 31.4996 - val_mae: 4.5639 - val_acc: 0.0000e+00\n",
      "Epoch 5/500\n",
      "332/332 [==============================] - 0s 47us/step - loss: 39.8899 - mae: 5.0223 - acc: 0.0060 - val_loss: 26.6128 - val_mae: 4.1919 - val_acc: 0.0000e+00\n",
      "Epoch 6/500\n",
      "332/332 [==============================] - 0s 47us/step - loss: 31.4624 - mae: 4.4278 - acc: 0.0090 - val_loss: 26.3922 - val_mae: 3.9132 - val_acc: 0.0000e+00\n",
      "Epoch 7/500\n",
      "332/332 [==============================] - 0s 47us/step - loss: 28.2358 - mae: 4.1616 - acc: 0.0000e+00 - val_loss: 18.8441 - val_mae: 3.4027 - val_acc: 0.0000e+00\n",
      "Epoch 8/500\n",
      "332/332 [==============================] - 0s 47us/step - loss: 26.0317 - mae: 3.8535 - acc: 0.0060 - val_loss: 17.6152 - val_mae: 3.1030 - val_acc: 0.0541\n",
      "Epoch 9/500\n",
      "332/332 [==============================] - 0s 47us/step - loss: 23.4697 - mae: 3.6270 - acc: 0.0090 - val_loss: 15.9981 - val_mae: 2.9915 - val_acc: 0.0000e+00\n",
      "Epoch 10/500\n",
      "332/332 [==============================] - 0s 47us/step - loss: 21.8419 - mae: 3.4836 - acc: 0.0090 - val_loss: 15.0681 - val_mae: 2.8651 - val_acc: 0.0270\n",
      "Epoch 11/500\n",
      "332/332 [==============================] - 0s 47us/step - loss: 20.5991 - mae: 3.3556 - acc: 0.0090 - val_loss: 14.3166 - val_mae: 2.7779 - val_acc: 0.0270\n",
      "Epoch 12/500\n",
      "332/332 [==============================] - 0s 47us/step - loss: 19.8306 - mae: 3.3405 - acc: 0.0181 - val_loss: 14.1605 - val_mae: 2.6836 - val_acc: 0.0541\n",
      "Epoch 13/500\n",
      "332/332 [==============================] - 0s 47us/step - loss: 18.0250 - mae: 3.2030 - acc: 0.0120 - val_loss: 13.9657 - val_mae: 2.7045 - val_acc: 0.0270\n",
      "Epoch 14/500\n",
      "332/332 [==============================] - 0s 47us/step - loss: 17.2615 - mae: 3.1402 - acc: 0.0030 - val_loss: 12.3182 - val_mae: 2.5739 - val_acc: 0.0541\n",
      "Epoch 15/500\n",
      "332/332 [==============================] - 0s 47us/step - loss: 15.9811 - mae: 2.9855 - acc: 0.0090 - val_loss: 11.4204 - val_mae: 2.4146 - val_acc: 0.0541\n",
      "Epoch 16/500\n",
      "332/332 [==============================] - 0s 47us/step - loss: 15.0453 - mae: 2.8787 - acc: 0.0120 - val_loss: 11.8507 - val_mae: 2.5158 - val_acc: 0.0000e+00\n",
      "Epoch 17/500\n",
      "332/332 [==============================] - 0s 47us/step - loss: 14.5995 - mae: 2.8963 - acc: 0.0060 - val_loss: 9.9383 - val_mae: 2.3026 - val_acc: 0.0541\n",
      "Epoch 18/500\n",
      "332/332 [==============================] - 0s 47us/step - loss: 13.2934 - mae: 2.7308 - acc: 0.0120 - val_loss: 9.6864 - val_mae: 2.2584 - val_acc: 0.0541\n",
      "Epoch 19/500\n",
      "332/332 [==============================] - 0s 47us/step - loss: 12.6377 - mae: 2.6675 - acc: 0.0151 - val_loss: 11.0401 - val_mae: 2.4742 - val_acc: 0.0270\n",
      "Epoch 20/500\n",
      "332/332 [==============================] - 0s 47us/step - loss: 11.9251 - mae: 2.6210 - acc: 0.0000e+00 - val_loss: 8.7797 - val_mae: 2.2343 - val_acc: 0.0000e+00\n",
      "Epoch 21/500\n",
      "332/332 [==============================] - 0s 47us/step - loss: 11.1895 - mae: 2.5230 - acc: 0.0181 - val_loss: 10.0396 - val_mae: 2.4083 - val_acc: 0.0270\n",
      "Epoch 22/500\n",
      "332/332 [==============================] - 0s 47us/step - loss: 10.5248 - mae: 2.4650 - acc: 0.0090 - val_loss: 7.9313 - val_mae: 2.1413 - val_acc: 0.0270\n",
      "Epoch 23/500\n",
      "332/332 [==============================] - 0s 47us/step - loss: 9.7886 - mae: 2.3729 - acc: 0.0181 - val_loss: 8.0654 - val_mae: 2.1937 - val_acc: 0.0270\n",
      "Epoch 24/500\n",
      "332/332 [==============================] - 0s 47us/step - loss: 9.1384 - mae: 2.3073 - acc: 0.0120 - val_loss: 7.3496 - val_mae: 2.1270 - val_acc: 0.0000e+00\n",
      "Epoch 25/500\n",
      "332/332 [==============================] - 0s 47us/step - loss: 8.6027 - mae: 2.1860 - acc: 0.0181 - val_loss: 6.5952 - val_mae: 2.0099 - val_acc: 0.0270\n",
      "Epoch 26/500\n",
      "332/332 [==============================] - 0s 47us/step - loss: 8.1549 - mae: 2.1659 - acc: 0.0120 - val_loss: 7.6075 - val_mae: 2.2136 - val_acc: 0.0000e+00\n",
      "Epoch 27/500\n",
      "332/332 [==============================] - 0s 47us/step - loss: 7.9764 - mae: 2.1533 - acc: 0.0151 - val_loss: 6.8585 - val_mae: 2.1239 - val_acc: 0.0000e+00\n",
      "Epoch 28/500\n",
      "332/332 [==============================] - 0s 47us/step - loss: 7.4128 - mae: 2.0713 - acc: 0.0060 - val_loss: 6.3406 - val_mae: 2.0239 - val_acc: 0.0270\n",
      "Epoch 29/500\n",
      "332/332 [==============================] - 0s 47us/step - loss: 7.7275 - mae: 2.1032 - acc: 0.0090 - val_loss: 6.3554 - val_mae: 2.0248 - val_acc: 0.0000e+00\n",
      "Epoch 30/500\n",
      "332/332 [==============================] - 0s 47us/step - loss: 7.4812 - mae: 2.0999 - acc: 0.0120 - val_loss: 6.6615 - val_mae: 2.0940 - val_acc: 0.0270\n",
      "Epoch 31/500\n",
      "332/332 [==============================] - 0s 47us/step - loss: 6.9521 - mae: 1.9842 - acc: 0.0030 - val_loss: 6.0670 - val_mae: 1.9732 - val_acc: 0.0000e+00\n",
      "Epoch 32/500\n",
      "332/332 [==============================] - 0s 47us/step - loss: 7.1179 - mae: 2.0104 - acc: 0.0151 - val_loss: 7.0680 - val_mae: 2.1613 - val_acc: 0.0000e+00\n",
      "Epoch 33/500\n",
      "332/332 [==============================] - 0s 47us/step - loss: 6.7753 - mae: 1.9661 - acc: 0.0120 - val_loss: 5.9155 - val_mae: 1.9727 - val_acc: 0.0000e+00\n",
      "Epoch 34/500\n",
      "332/332 [==============================] - 0s 47us/step - loss: 6.4147 - mae: 1.9040 - acc: 0.0120 - val_loss: 6.0557 - val_mae: 1.9377 - val_acc: 0.0541\n",
      "Epoch 35/500\n",
      "332/332 [==============================] - 0s 47us/step - loss: 6.3376 - mae: 1.9014 - acc: 0.0151 - val_loss: 5.3854 - val_mae: 1.8585 - val_acc: 0.0270\n",
      "Epoch 36/500\n",
      "332/332 [==============================] - 0s 51us/step - loss: 6.5804 - mae: 1.9201 - acc: 0.0151 - val_loss: 5.4414 - val_mae: 1.8667 - val_acc: 0.0270\n",
      "Epoch 37/500\n",
      "332/332 [==============================] - 0s 47us/step - loss: 6.7807 - mae: 1.9602 - acc: 0.0120 - val_loss: 7.0134 - val_mae: 2.1870 - val_acc: 0.0270\n",
      "Epoch 38/500\n",
      "332/332 [==============================] - 0s 47us/step - loss: 6.5423 - mae: 1.9607 - acc: 0.0151 - val_loss: 5.2682 - val_mae: 1.8466 - val_acc: 0.0270\n",
      "Epoch 39/500\n",
      "332/332 [==============================] - 0s 47us/step - loss: 6.1761 - mae: 1.8922 - acc: 0.0120 - val_loss: 5.2206 - val_mae: 1.7878 - val_acc: 0.0270\n",
      "Epoch 40/500\n",
      "332/332 [==============================] - 0s 47us/step - loss: 6.1516 - mae: 1.8967 - acc: 0.0181 - val_loss: 5.0088 - val_mae: 1.7798 - val_acc: 0.0270\n",
      "Epoch 41/500\n",
      "332/332 [==============================] - 0s 47us/step - loss: 5.9514 - mae: 1.8446 - acc: 0.0211 - val_loss: 4.9999 - val_mae: 1.7733 - val_acc: 0.0270\n",
      "Epoch 42/500\n",
      "332/332 [==============================] - 0s 47us/step - loss: 5.7766 - mae: 1.7945 - acc: 0.0211 - val_loss: 5.2318 - val_mae: 1.8005 - val_acc: 0.0270\n",
      "Epoch 43/500\n",
      "332/332 [==============================] - 0s 47us/step - loss: 5.9264 - mae: 1.8249 - acc: 0.0120 - val_loss: 4.9500 - val_mae: 1.7794 - val_acc: 0.0270\n",
      "Epoch 44/500\n",
      "332/332 [==============================] - 0s 47us/step - loss: 5.7965 - mae: 1.8005 - acc: 0.0211 - val_loss: 4.9571 - val_mae: 1.7334 - val_acc: 0.0541\n",
      "Epoch 45/500\n",
      "332/332 [==============================] - 0s 47us/step - loss: 5.5891 - mae: 1.7787 - acc: 0.0211 - val_loss: 4.7137 - val_mae: 1.6537 - val_acc: 0.0000e+00\n",
      "Epoch 46/500\n",
      "332/332 [==============================] - 0s 47us/step - loss: 5.8165 - mae: 1.8074 - acc: 0.0241 - val_loss: 5.3340 - val_mae: 1.8436 - val_acc: 0.0541\n",
      "Epoch 47/500\n",
      "332/332 [==============================] - 0s 47us/step - loss: 5.6480 - mae: 1.7813 - acc: 0.0211 - val_loss: 5.0369 - val_mae: 1.7740 - val_acc: 0.0541\n",
      "Epoch 48/500\n",
      "332/332 [==============================] - 0s 47us/step - loss: 5.6159 - mae: 1.8045 - acc: 0.0120 - val_loss: 4.5320 - val_mae: 1.6344 - val_acc: 0.0541\n",
      "Epoch 49/500\n",
      "332/332 [==============================] - 0s 50us/step - loss: 5.6736 - mae: 1.7825 - acc: 0.0151 - val_loss: 4.5205 - val_mae: 1.6384 - val_acc: 0.0270\n",
      "Epoch 50/500\n",
      "332/332 [==============================] - 0s 47us/step - loss: 5.4229 - mae: 1.7383 - acc: 0.0120 - val_loss: 5.4503 - val_mae: 1.7870 - val_acc: 0.0000e+00\n",
      "Epoch 51/500\n",
      "332/332 [==============================] - 0s 0us/step - loss: 5.4252 - mae: 1.7451 - acc: 0.0181 - val_loss: 4.5488 - val_mae: 1.6626 - val_acc: 0.0270\n",
      "Epoch 52/500\n",
      "332/332 [==============================] - 0s 47us/step - loss: 5.3426 - mae: 1.7425 - acc: 0.0120 - val_loss: 4.7243 - val_mae: 1.7169 - val_acc: 0.0270\n",
      "Epoch 53/500\n",
      "332/332 [==============================] - 0s 47us/step - loss: 5.4436 - mae: 1.7917 - acc: 0.0151 - val_loss: 5.0602 - val_mae: 1.7528 - val_acc: 0.0000e+00\n",
      "Epoch 54/500\n",
      "332/332 [==============================] - 0s 0us/step - loss: 5.9894 - mae: 1.8886 - acc: 0.0120 - val_loss: 4.4312 - val_mae: 1.5889 - val_acc: 0.0000e+00\n",
      "Epoch 55/500\n",
      "332/332 [==============================] - 0s 47us/step - loss: 5.2924 - mae: 1.7213 - acc: 0.0211 - val_loss: 5.9667 - val_mae: 1.9270 - val_acc: 0.0270\n",
      "Epoch 56/500\n",
      "332/332 [==============================] - 0s 47us/step - loss: 5.6518 - mae: 1.7472 - acc: 0.0211 - val_loss: 4.8019 - val_mae: 1.6825 - val_acc: 0.0270\n",
      "Epoch 57/500\n",
      "332/332 [==============================] - 0s 47us/step - loss: 5.4492 - mae: 1.7646 - acc: 0.0120 - val_loss: 4.7997 - val_mae: 1.6808 - val_acc: 0.0270\n",
      "Epoch 58/500\n",
      "332/332 [==============================] - 0s 47us/step - loss: 5.6196 - mae: 1.7861 - acc: 0.0120 - val_loss: 4.6960 - val_mae: 1.6458 - val_acc: 0.0270\n",
      "Epoch 59/500\n",
      "332/332 [==============================] - 0s 47us/step - loss: 5.7057 - mae: 1.7936 - acc: 0.0271 - val_loss: 5.0980 - val_mae: 1.7604 - val_acc: 0.0541\n",
      "Epoch 60/500\n",
      "332/332 [==============================] - 0s 47us/step - loss: 5.4310 - mae: 1.7404 - acc: 0.0120 - val_loss: 5.2171 - val_mae: 1.7533 - val_acc: 0.0270\n",
      "Epoch 61/500\n",
      "332/332 [==============================] - 0s 0us/step - loss: 5.1470 - mae: 1.6861 - acc: 0.0241 - val_loss: 4.5501 - val_mae: 1.6553 - val_acc: 0.0541\n",
      "Epoch 62/500\n",
      "332/332 [==============================] - 0s 0us/step - loss: 5.0610 - mae: 1.6886 - acc: 0.0331 - val_loss: 4.5049 - val_mae: 1.6202 - val_acc: 0.0000e+00\n",
      "Epoch 63/500\n",
      "332/332 [==============================] - 0s 0us/step - loss: 5.4735 - mae: 1.7234 - acc: 0.0361 - val_loss: 4.3756 - val_mae: 1.6193 - val_acc: 0.0270\n",
      "Epoch 64/500\n",
      "332/332 [==============================] - 0s 0us/step - loss: 5.2478 - mae: 1.7061 - acc: 0.0181 - val_loss: 4.8085 - val_mae: 1.6876 - val_acc: 0.0000e+00\n",
      "Epoch 65/500\n",
      "332/332 [==============================] - 0s 0us/step - loss: 5.0422 - mae: 1.6882 - acc: 0.0120 - val_loss: 4.6283 - val_mae: 1.6290 - val_acc: 0.0270\n",
      "Epoch 66/500\n",
      "332/332 [==============================] - 0s 0us/step - loss: 4.9934 - mae: 1.6699 - acc: 0.0271 - val_loss: 5.5297 - val_mae: 1.8098 - val_acc: 0.0270\n",
      "Epoch 67/500\n",
      "332/332 [==============================] - 0s 47us/step - loss: 5.4561 - mae: 1.7812 - acc: 0.0211 - val_loss: 4.5255 - val_mae: 1.6366 - val_acc: 0.0270\n",
      "Epoch 68/500\n",
      "332/332 [==============================] - 0s 47us/step - loss: 5.4719 - mae: 1.7506 - acc: 0.0060 - val_loss: 4.5838 - val_mae: 1.6845 - val_acc: 0.0270\n",
      "Epoch 69/500\n",
      "332/332 [==============================] - 0s 0us/step - loss: 5.2803 - mae: 1.7352 - acc: 0.0151 - val_loss: 5.0804 - val_mae: 1.7314 - val_acc: 0.0270\n",
      "Epoch 70/500\n",
      "332/332 [==============================] - 0s 0us/step - loss: 5.0476 - mae: 1.6605 - acc: 0.0271 - val_loss: 4.1669 - val_mae: 1.5591 - val_acc: 0.0270\n",
      "Epoch 71/500\n",
      "332/332 [==============================] - 0s 0us/step - loss: 4.8632 - mae: 1.6480 - acc: 0.0181 - val_loss: 5.0089 - val_mae: 1.7118 - val_acc: 0.0270\n",
      "Epoch 72/500\n",
      "332/332 [==============================] - 0s 0us/step - loss: 4.9239 - mae: 1.6541 - acc: 0.0151 - val_loss: 4.5696 - val_mae: 1.6204 - val_acc: 0.0270\n",
      "Epoch 73/500\n",
      "332/332 [==============================] - 0s 0us/step - loss: 4.9966 - mae: 1.6257 - acc: 0.0181 - val_loss: 4.7864 - val_mae: 1.7369 - val_acc: 0.0541\n",
      "Epoch 74/500\n",
      "332/332 [==============================] - 0s 47us/step - loss: 5.5454 - mae: 1.7563 - acc: 0.0301 - val_loss: 4.8551 - val_mae: 1.6986 - val_acc: 0.0270\n",
      "Epoch 75/500\n",
      "332/332 [==============================] - 0s 0us/step - loss: 5.1649 - mae: 1.6722 - acc: 0.0181 - val_loss: 4.6674 - val_mae: 1.6254 - val_acc: 0.0270\n",
      "Epoch 76/500\n",
      "332/332 [==============================] - 0s 0us/step - loss: 5.1370 - mae: 1.6846 - acc: 0.0060 - val_loss: 5.3264 - val_mae: 1.7459 - val_acc: 0.0000e+00\n",
      "Epoch 77/500\n",
      "332/332 [==============================] - 0s 0us/step - loss: 5.0874 - mae: 1.6796 - acc: 0.0090 - val_loss: 4.3955 - val_mae: 1.6145 - val_acc: 0.0270\n",
      "Epoch 78/500\n",
      "332/332 [==============================] - 0s 0us/step - loss: 5.1446 - mae: 1.6783 - acc: 0.0301 - val_loss: 5.1370 - val_mae: 1.7211 - val_acc: 0.0000e+00\n",
      "Epoch 79/500\n",
      "332/332 [==============================] - 0s 47us/step - loss: 4.9798 - mae: 1.6524 - acc: 0.0241 - val_loss: 5.1125 - val_mae: 1.7346 - val_acc: 0.0541\n",
      "Epoch 80/500\n",
      "332/332 [==============================] - 0s 47us/step - loss: 4.8366 - mae: 1.6295 - acc: 0.0211 - val_loss: 4.6426 - val_mae: 1.6331 - val_acc: 0.0541\n",
      "Epoch 81/500\n",
      "332/332 [==============================] - 0s 47us/step - loss: 4.9848 - mae: 1.6876 - acc: 0.0241 - val_loss: 4.6827 - val_mae: 1.6486 - val_acc: 0.0270\n",
      "Epoch 82/500\n",
      "332/332 [==============================] - 0s 47us/step - loss: 4.6991 - mae: 1.5928 - acc: 0.0151 - val_loss: 4.4237 - val_mae: 1.5864 - val_acc: 0.0270\n",
      "Epoch 83/500\n",
      "332/332 [==============================] - 0s 47us/step - loss: 4.7520 - mae: 1.6201 - acc: 0.0181 - val_loss: 4.2897 - val_mae: 1.5423 - val_acc: 0.0270\n",
      "Epoch 84/500\n",
      "332/332 [==============================] - 0s 47us/step - loss: 4.7324 - mae: 1.6198 - acc: 0.0090 - val_loss: 4.4041 - val_mae: 1.6071 - val_acc: 0.0541\n",
      "Epoch 85/500\n",
      "332/332 [==============================] - 0s 47us/step - loss: 4.8101 - mae: 1.6196 - acc: 0.0271 - val_loss: 6.1138 - val_mae: 1.8754 - val_acc: 0.0000e+00\n",
      "Epoch 86/500\n",
      "332/332 [==============================] - 0s 47us/step - loss: 5.1062 - mae: 1.6854 - acc: 0.0241 - val_loss: 4.8293 - val_mae: 1.6275 - val_acc: 0.0270\n",
      "Epoch 87/500\n",
      "332/332 [==============================] - 0s 47us/step - loss: 5.2496 - mae: 1.7255 - acc: 0.0151 - val_loss: 4.1061 - val_mae: 1.5707 - val_acc: 0.0000e+00\n",
      "Epoch 88/500\n",
      "332/332 [==============================] - 0s 51us/step - loss: 4.6395 - mae: 1.5998 - acc: 0.0151 - val_loss: 5.2762 - val_mae: 1.7662 - val_acc: 0.0000e+00\n",
      "Epoch 89/500\n",
      "332/332 [==============================] - 0s 47us/step - loss: 4.7981 - mae: 1.6238 - acc: 0.0151 - val_loss: 4.5224 - val_mae: 1.5789 - val_acc: 0.0270\n",
      "Epoch 90/500\n",
      "332/332 [==============================] - 0s 47us/step - loss: 4.6906 - mae: 1.5890 - acc: 0.0120 - val_loss: 4.6274 - val_mae: 1.6542 - val_acc: 0.0541\n",
      "Epoch 91/500\n",
      "332/332 [==============================] - 0s 47us/step - loss: 4.6873 - mae: 1.6201 - acc: 0.0301 - val_loss: 4.5118 - val_mae: 1.6433 - val_acc: 0.0270\n",
      "Epoch 92/500\n",
      "332/332 [==============================] - 0s 47us/step - loss: 5.0343 - mae: 1.6916 - acc: 0.0120 - val_loss: 4.4458 - val_mae: 1.6212 - val_acc: 0.0000e+00\n",
      "Epoch 93/500\n",
      "332/332 [==============================] - 0s 47us/step - loss: 5.0000 - mae: 1.6854 - acc: 0.0271 - val_loss: 5.1751 - val_mae: 1.7580 - val_acc: 0.0000e+00\n",
      "Epoch 94/500\n",
      "332/332 [==============================] - ETA: 0s - loss: 4.1990 - mae: 1.6705 - acc: 0.031 - 0s 47us/step - loss: 4.7492 - mae: 1.6070 - acc: 0.0151 - val_loss: 4.4850 - val_mae: 1.6490 - val_acc: 0.0000e+00\n",
      "Epoch 95/500\n",
      "332/332 [==============================] - 0s 47us/step - loss: 4.8046 - mae: 1.5999 - acc: 0.0271 - val_loss: 4.4418 - val_mae: 1.6021 - val_acc: 0.0270\n",
      "Epoch 96/500\n",
      "332/332 [==============================] - 0s 47us/step - loss: 4.7214 - mae: 1.6191 - acc: 0.0181 - val_loss: 4.0557 - val_mae: 1.5299 - val_acc: 0.0270\n",
      "Epoch 97/500\n",
      "332/332 [==============================] - 0s 47us/step - loss: 4.5484 - mae: 1.5911 - acc: 0.0120 - val_loss: 4.3122 - val_mae: 1.5721 - val_acc: 0.0270\n",
      "Epoch 98/500\n",
      "332/332 [==============================] - 0s 47us/step - loss: 4.4123 - mae: 1.5357 - acc: 0.0301 - val_loss: 4.7977 - val_mae: 1.6713 - val_acc: 0.0000e+00\n",
      "Epoch 99/500\n",
      "332/332 [==============================] - 0s 47us/step - loss: 4.4733 - mae: 1.5614 - acc: 0.0090 - val_loss: 4.5703 - val_mae: 1.6300 - val_acc: 0.0270\n",
      "Epoch 100/500\n",
      "332/332 [==============================] - 0s 47us/step - loss: 4.3757 - mae: 1.5442 - acc: 0.0211 - val_loss: 4.7100 - val_mae: 1.7190 - val_acc: 0.0270\n",
      "Epoch 101/500\n",
      "332/332 [==============================] - 0s 47us/step - loss: 4.6691 - mae: 1.6027 - acc: 0.0241 - val_loss: 4.5094 - val_mae: 1.6229 - val_acc: 0.0000e+00\n",
      "Epoch 102/500\n",
      "332/332 [==============================] - 0s 47us/step - loss: 4.6157 - mae: 1.5892 - acc: 0.0120 - val_loss: 4.3916 - val_mae: 1.6234 - val_acc: 0.0000e+00\n",
      "Epoch 103/500\n",
      "332/332 [==============================] - 0s 47us/step - loss: 4.6268 - mae: 1.6388 - acc: 0.0271 - val_loss: 4.5434 - val_mae: 1.5916 - val_acc: 0.0000e+00\n",
      "Epoch 104/500\n",
      "332/332 [==============================] - 0s 47us/step - loss: 4.6184 - mae: 1.5751 - acc: 0.0271 - val_loss: 4.3870 - val_mae: 1.6202 - val_acc: 0.0270\n",
      "Epoch 105/500\n",
      "332/332 [==============================] - 0s 47us/step - loss: 4.3062 - mae: 1.5197 - acc: 0.0271 - val_loss: 4.6154 - val_mae: 1.6566 - val_acc: 0.0270\n",
      "Epoch 106/500\n",
      "332/332 [==============================] - 0s 47us/step - loss: 4.5824 - mae: 1.5967 - acc: 0.0241 - val_loss: 4.5471 - val_mae: 1.6493 - val_acc: 0.0270\n",
      "Epoch 107/500\n",
      "332/332 [==============================] - 0s 50us/step - loss: 4.5630 - mae: 1.5623 - acc: 0.0211 - val_loss: 4.2472 - val_mae: 1.6336 - val_acc: 0.0000e+00\n",
      "Epoch 108/500\n",
      "332/332 [==============================] - 0s 47us/step - loss: 4.4004 - mae: 1.5437 - acc: 0.0060 - val_loss: 4.5593 - val_mae: 1.6370 - val_acc: 0.0270\n",
      "Epoch 109/500\n",
      "332/332 [==============================] - 0s 47us/step - loss: 4.2405 - mae: 1.5294 - acc: 0.0181 - val_loss: 4.6664 - val_mae: 1.7408 - val_acc: 0.0000e+00\n",
      "Epoch 110/500\n",
      "332/332 [==============================] - 0s 47us/step - loss: 4.8841 - mae: 1.6731 - acc: 0.0241 - val_loss: 4.9487 - val_mae: 1.7209 - val_acc: 0.0000e+00\n",
      "Epoch 111/500\n",
      "332/332 [==============================] - 0s 47us/step - loss: 4.4596 - mae: 1.5637 - acc: 0.0271 - val_loss: 4.5627 - val_mae: 1.6210 - val_acc: 0.0270\n",
      "Epoch 112/500\n",
      "332/332 [==============================] - 0s 47us/step - loss: 4.1580 - mae: 1.5125 - acc: 0.0151 - val_loss: 4.2938 - val_mae: 1.6361 - val_acc: 0.0270\n",
      "Epoch 113/500\n",
      "332/332 [==============================] - 0s 47us/step - loss: 4.7168 - mae: 1.6054 - acc: 0.0151 - val_loss: 5.1926 - val_mae: 1.8187 - val_acc: 0.0270\n",
      "Epoch 114/500\n",
      "332/332 [==============================] - 0s 47us/step - loss: 4.7587 - mae: 1.6627 - acc: 0.0120 - val_loss: 5.4488 - val_mae: 1.7966 - val_acc: 0.0000e+00\n",
      "Epoch 115/500\n",
      "332/332 [==============================] - 0s 47us/step - loss: 5.0385 - mae: 1.6766 - acc: 0.0271 - val_loss: 4.4800 - val_mae: 1.6927 - val_acc: 0.0000e+00\n",
      "Epoch 116/500\n",
      "332/332 [==============================] - 0s 47us/step - loss: 4.4860 - mae: 1.5841 - acc: 0.0151 - val_loss: 4.3526 - val_mae: 1.5934 - val_acc: 0.0270\n",
      "Epoch 117/500\n",
      "332/332 [==============================] - 0s 47us/step - loss: 4.2993 - mae: 1.5503 - acc: 0.0181 - val_loss: 4.6225 - val_mae: 1.6806 - val_acc: 0.0270\n",
      "Epoch 118/500\n",
      "332/332 [==============================] - 0s 47us/step - loss: 4.1469 - mae: 1.4849 - acc: 0.0271 - val_loss: 6.1181 - val_mae: 1.8399 - val_acc: 0.0000e+00\n",
      "Epoch 119/500\n",
      "332/332 [==============================] - 0s 47us/step - loss: 4.5346 - mae: 1.5651 - acc: 0.0211 - val_loss: 5.0465 - val_mae: 1.8478 - val_acc: 0.0000e+00\n",
      "Epoch 120/500\n",
      "332/332 [==============================] - 0s 47us/step - loss: 4.8006 - mae: 1.5893 - acc: 0.0271 - val_loss: 4.5456 - val_mae: 1.7348 - val_acc: 0.0000e+00\n",
      "Epoch 121/500\n",
      "332/332 [==============================] - 0s 51us/step - loss: 4.2931 - mae: 1.5701 - acc: 0.0271 - val_loss: 7.3424 - val_mae: 2.0358 - val_acc: 0.0000e+00\n",
      "Epoch 122/500\n",
      "332/332 [==============================] - 0s 47us/step - loss: 5.2027 - mae: 1.7168 - acc: 0.0090 - val_loss: 4.6090 - val_mae: 1.6856 - val_acc: 0.0270\n",
      "Epoch 123/500\n",
      "332/332 [==============================] - 0s 47us/step - loss: 5.0941 - mae: 1.6737 - acc: 0.0211 - val_loss: 4.6242 - val_mae: 1.7103 - val_acc: 0.0000e+00\n",
      "Epoch 124/500\n",
      "332/332 [==============================] - 0s 47us/step - loss: 4.2613 - mae: 1.5504 - acc: 0.0211 - val_loss: 4.6733 - val_mae: 1.6789 - val_acc: 0.0000e+00\n",
      "Epoch 125/500\n",
      "332/332 [==============================] - 0s 47us/step - loss: 4.0669 - mae: 1.4843 - acc: 0.0241 - val_loss: 4.4598 - val_mae: 1.5925 - val_acc: 0.0270\n",
      "Epoch 126/500\n",
      "332/332 [==============================] - 0s 47us/step - loss: 4.1815 - mae: 1.4901 - acc: 0.0271 - val_loss: 4.3250 - val_mae: 1.6088 - val_acc: 0.0270\n",
      "Restoring model weights from the end of the best epoch\n",
      "Epoch 00126: early stopping\n"
     ]
    }
   ],
   "source": [
    "history3 = model3.fit(inputs_train_scaled, outputs_train, epochs=500, validation_split=0.1, callbacks=[earlystop])"
   ]
  },
  {
   "cell_type": "markdown",
   "metadata": {},
   "source": [
    "##### Evaluate"
   ]
  },
  {
   "cell_type": "markdown",
   "metadata": {},
   "source": [
    "We should now evaluate the performance of our neural networks. We can call the evaluate helper function on each history object to output its Loss, Mean Average Error and Accuracy."
   ]
  },
  {
   "cell_type": "code",
   "execution_count": 50,
   "metadata": {},
   "outputs": [
    {
     "name": "stdout",
     "output_type": "stream",
     "text": [
      "This model evaluates as:\n",
      "* Loss: 8.461560054491924\n",
      "* MAE: 2.070439100265503\n",
      "* Accuracy: 0.032258063554763794\n"
     ]
    }
   ],
   "source": [
    "evaluate1 = [] # Create an empty output list to allow function to run\n",
    "evaluator(evaluate1, model1)"
   ]
  },
  {
   "cell_type": "code",
   "execution_count": 51,
   "metadata": {},
   "outputs": [
    {
     "name": "stdout",
     "output_type": "stream",
     "text": [
      "This model evaluates as:\n",
      "* Loss: 7.916460006467758\n",
      "* MAE: 2.0501902103424072\n",
      "* Accuracy: 0.04301075264811516\n"
     ]
    }
   ],
   "source": [
    "evaluate2 = [] # Create an empty output list to allow function to run\n",
    "evaluator(evaluate2, model2)"
   ]
  },
  {
   "cell_type": "code",
   "execution_count": 52,
   "metadata": {},
   "outputs": [
    {
     "name": "stdout",
     "output_type": "stream",
     "text": [
      "This model evaluates as:\n",
      "* Loss: 8.470207040027905\n",
      "* MAE: 2.1227850914001465\n",
      "* Accuracy: 0.032258063554763794\n"
     ]
    }
   ],
   "source": [
    "evaluate3 = [] # Create an empty output list to allow function to run\n",
    "evaluator(evaluate3, model3)"
   ]
  },
  {
   "cell_type": "markdown",
   "metadata": {},
   "source": [
    "It is interesting to note that the loss does not necessarily improve as the model is widened or deepened - the three losses evaluated are quite similar, with the chosen seed value they are decreasing in loss but a different seed value can show an increase!\n",
    "Overall, the Mean Squared Error is between 7.8 and 8.5, with Mean Average Error of slightly above 2.0 and accuracy < 0.05."
   ]
  },
  {
   "cell_type": "markdown",
   "metadata": {},
   "source": [
    "##### Convergence"
   ]
  },
  {
   "cell_type": "markdown",
   "metadata": {},
   "source": [
    "The evaluate function does not actually tell us how quickly our Keras models are converging. We can call on the History objects to assess this - lets graph them together and see."
   ]
  },
  {
   "cell_type": "code",
   "execution_count": 53,
   "metadata": {},
   "outputs": [
    {
     "data": {
      "text/plain": [
       "<matplotlib.legend.Legend at 0x201966f8e48>"
      ]
     },
     "execution_count": 53,
     "metadata": {},
     "output_type": "execute_result"
    },
    {
     "data": {
      "image/png": "[encoded data removed]",
      "text/plain": [
       "<Figure size 1080x720 with 1 Axes>"
      ]
     },
     "metadata": {},
     "output_type": "display_data"
    }
   ],
   "source": [
    "plt.figure(figsize=(15,10))\n",
    "plt.plot(history1.history['loss'], color='r', label = \"Model 1\")\n",
    "plt.plot(history2.history['loss'], color='g', label = \"Model 2\")\n",
    "plt.plot(history3.history['loss'], color='b', label = \"Model 3\")\n",
    "plt.grid() # Use gridlines\n",
    "plt.xlabel('No. of Epochs')\n",
    "plt.ylabel('Loss')\n",
    "plt.title('Loss Convergence as No. of Epochs Increases', fontsize=14)\n",
    "plt.legend()"
   ]
  },
  {
   "cell_type": "markdown",
   "metadata": {},
   "source": [
    "All three models converge towards a similar loss however the number of epochs required varies. The second (wider) model converges slightly faster than the first (basic) - but the third (deeper) model converges on a solution significantly faster - this is an important consideration."
   ]
  },
  {
   "cell_type": "markdown",
   "metadata": {},
   "source": [
    "##### Predictions"
   ]
  },
  {
   "cell_type": "markdown",
   "metadata": {},
   "source": [
    "We can now use the predictor helper function to make some predictions. We'll generate an array of random integers to select 10 rows at random from the test inputs that we have."
   ]
  },
  {
   "cell_type": "code",
   "execution_count": 54,
   "metadata": {},
   "outputs": [],
   "source": [
    "inpRows = np.random.randint(0, inputs_test_scaled.shape[0]-1, size=10) # Select 10 random integers between 0 and the max row number of the inputs_test_scaled DataFrame"
   ]
  },
  {
   "cell_type": "markdown",
   "metadata": {},
   "source": [
    "Now we can call this function on each model in turn. As the same input rows are selected each time, the target values will be the same."
   ]
  },
  {
   "cell_type": "code",
   "execution_count": 55,
   "metadata": {},
   "outputs": [
    {
     "name": "stdout",
     "output_type": "stream",
     "text": [
      "This model predicts as:\n",
      "* Target value: 20.10 | Predicted Value: 20.56 | Absolute Difference: 0.46\n",
      "* Target value: 17.20 | Predicted Value: 12.44 | Absolute Difference: 4.76\n",
      "* Target value: 15.40 | Predicted Value: 14.09 | Absolute Difference: 1.31\n",
      "* Target value: 22.90 | Predicted Value: 20.93 | Absolute Difference: 1.97\n",
      "* Target value: 18.40 | Predicted Value: 18.67 | Absolute Difference: 0.27\n",
      "* Target value: 15.70 | Predicted Value: 18.24 | Absolute Difference: 2.54\n",
      "* Target value: 15.00 | Predicted Value: 19.66 | Absolute Difference: 4.66\n",
      "* Target value: 25.00 | Predicted Value: 21.98 | Absolute Difference: 3.02\n",
      "* Target value: 15.40 | Predicted Value: 14.09 | Absolute Difference: 1.31\n",
      "* Target value: 19.50 | Predicted Value: 17.38 | Absolute Difference: 2.12\n"
     ]
    },
    {
     "name": "stderr",
     "output_type": "stream",
     "text": [
      "C:\\Users\\Peter McGowan\\Anaconda3\\lib\\site-packages\\ipykernel_launcher.py:6: FutureWarning: Method .as_matrix will be removed in a future version. Use .values instead.\n",
      "  \n"
     ]
    }
   ],
   "source": [
    "predict1 = [] # Create an empty output list to allow function to run\n",
    "predictor(inpRows, predict1, model1)"
   ]
  },
  {
   "cell_type": "code",
   "execution_count": 56,
   "metadata": {},
   "outputs": [
    {
     "name": "stdout",
     "output_type": "stream",
     "text": [
      "This model predicts as:\n",
      "* Target value: 20.10 | Predicted Value: 19.94 | Absolute Difference: 0.16\n",
      "* Target value: 17.20 | Predicted Value: 14.07 | Absolute Difference: 3.13\n",
      "* Target value: 15.40 | Predicted Value: 14.25 | Absolute Difference: 1.15\n",
      "* Target value: 22.90 | Predicted Value: 21.38 | Absolute Difference: 1.52\n",
      "* Target value: 18.40 | Predicted Value: 18.62 | Absolute Difference: 0.22\n",
      "* Target value: 15.70 | Predicted Value: 18.86 | Absolute Difference: 3.16\n",
      "* Target value: 15.00 | Predicted Value: 19.28 | Absolute Difference: 4.28\n",
      "* Target value: 25.00 | Predicted Value: 22.61 | Absolute Difference: 2.39\n",
      "* Target value: 15.40 | Predicted Value: 14.25 | Absolute Difference: 1.15\n",
      "* Target value: 19.50 | Predicted Value: 17.92 | Absolute Difference: 1.58\n"
     ]
    },
    {
     "name": "stderr",
     "output_type": "stream",
     "text": [
      "C:\\Users\\Peter McGowan\\Anaconda3\\lib\\site-packages\\ipykernel_launcher.py:6: FutureWarning: Method .as_matrix will be removed in a future version. Use .values instead.\n",
      "  \n"
     ]
    }
   ],
   "source": [
    "predict2 = [] # Create an empty output list to allow function to run\n",
    "predictor(inpRows, predict2, model2)"
   ]
  },
  {
   "cell_type": "code",
   "execution_count": 57,
   "metadata": {},
   "outputs": [
    {
     "name": "stdout",
     "output_type": "stream",
     "text": [
      "This model predicts as:\n",
      "* Target value: 20.10 | Predicted Value: 19.27 | Absolute Difference: 0.83\n",
      "* Target value: 17.20 | Predicted Value: 13.36 | Absolute Difference: 3.84\n",
      "* Target value: 15.40 | Predicted Value: 14.53 | Absolute Difference: 0.87\n",
      "* Target value: 22.90 | Predicted Value: 21.16 | Absolute Difference: 1.74\n",
      "* Target value: 18.40 | Predicted Value: 19.29 | Absolute Difference: 0.89\n",
      "* Target value: 15.70 | Predicted Value: 17.41 | Absolute Difference: 1.71\n",
      "* Target value: 15.00 | Predicted Value: 19.78 | Absolute Difference: 4.78\n",
      "* Target value: 25.00 | Predicted Value: 22.48 | Absolute Difference: 2.52\n",
      "* Target value: 15.40 | Predicted Value: 14.53 | Absolute Difference: 0.87\n",
      "* Target value: 19.50 | Predicted Value: 18.25 | Absolute Difference: 1.25\n"
     ]
    },
    {
     "name": "stderr",
     "output_type": "stream",
     "text": [
      "C:\\Users\\Peter McGowan\\Anaconda3\\lib\\site-packages\\ipykernel_launcher.py:6: FutureWarning: Method .as_matrix will be removed in a future version. Use .values instead.\n",
      "  \n"
     ]
    }
   ],
   "source": [
    "predict3 = [] # Create an empty output list to allow function to run\n",
    "predictor(inpRows, predict3, model3)"
   ]
  },
  {
   "cell_type": "markdown",
   "metadata": {},
   "source": [
    "##### Conclusions"
   ]
  },
  {
   "cell_type": "markdown",
   "metadata": {},
   "source": [
    "Machine Learning is complex and depends on a multitude of parameters, characteristics of the input data and even randomness (Brownlee, 2019d). Once we were confident that our input data was fully prepared and preprocessed, we created a series of models of increasing complexity in order to assess the effect of increasing numbers of neurons per layer as well as increasing numbers of layers. The more complex models converged to a similar end result as the basic model, although increasing complexity does appear to allow quicker convergence due to a decreased number of epochs required, therefore the most complex model performs best here in terms of efficiency.\n",
    "\n",
    "It was possible to obtain reasonable accurate (although not perfect) results with all three models - assessment of the predicted values above shows that the three models do generally give good indications of the target values. The limitations in accuracy are partly a result of the input data - although consisting of over 500 samples, it was necessary to exclude some due to conncerns over truncation of certain values and to pass a t-test. The sample size is of course further reduced by setting aside both a testing set of data as well as a validation set for each model - down from the original sample size of 506, the data was actually trained on 336 samples. In an ideal situation, a larger sample size would be available for training."
   ]
  },
  {
   "cell_type": "markdown",
   "metadata": {},
   "source": [
    "### References"
   ]
  },
  {
   "cell_type": "markdown",
   "metadata": {},
   "source": [
    "1. GeeksforGeeks. (2019). Python | Pandas dataframe.keys() - GeeksforGeeks. [online] Available at: https://www.geeksforgeeks.org/python-pandas-dataframe-keys/ [Accessed 2 Nov. 2019].  \n",
    "\n",
    "2. Harrison, D. and Rubinfeld, D. (1978). Hedonic housing prices and the demand for clean air. Journal of Environmental Economics and Management, [online] 5(1), pp.81-102. Available at: https://www.sciencedirect.com/science/article/abs/pii/0095069678900062?via%3Dihub [Accessed 9 Dec. 2019].  \n",
    "\n",
    "3. Statistics.laerd.com. (2019a). Histograms - Understanding the properties of histograms, what they show, and when and how to use them | Laerd Statistics. [online] Available at: https://statistics.laerd.com/statistical-guides/understanding-histograms.php [Accessed 7 Nov. 2019].  \n",
    "\n",
    "4. Mathisonian.github.io. (2019). Kernel Density Estimation. [online] Available at: https://mathisonian.github.io/kde/ [Accessed 7 Nov. 2019].  \n",
    "\n",
    "5. Statistics.laerd.com. (2019b). Independent t-test in SPSS Statistics - Procedure, output and interpretation of the output using a relevant example | Laerd Statistics. [online] Available at. https://statistics.laerd.com/spss-tutorials/independent-t-test-using-spss-statistics.php [Accessed 12 Nov. 2019].  \n",
    "\n",
    "6. Docs.scipy.org. (2019a). scipy.stats.shapiro — SciPy v1.3.3 Reference Guide. [online] Available at: https://docs.scipy.org/doc/scipy/reference/generated/scipy.stats.shapiro.html [Accessed 9 Dec. 2019].  \n",
    "\n",
    "7. Bartlett, J. (2019). The t-test and robustness to non-normality – The Stats Geek. [online] Thestatsgeek.com. Available at: https://thestatsgeek.com/2013/09/28/the-t-test-and-robustness-to-non-normality/ [Accessed 20 Nov. 2019].  \n",
    "\n",
    "8. Docs.scipy.org. (2019b). scipy.stats.levene — SciPy v1.3.3 Reference Guide. [online] Available at: https://docs.scipy.org/doc/scipy-1.3.3/reference/generated/scipy.stats.levene.html [Accessed 10 Dec. 2019].  \n",
    "\n",
    "9. Statistics How To. (2019). Welch's Test for Unequal Variances - Statistics How To. [online] Available at: https://www.statisticshowto.datasciencecentral.com/welchs-test-for-unequal-variances/ [Accessed 10 Dec. 2019].  \n",
    "\n",
    "10. Seaborn.pydata.org. (2019). Plotting a diagonal correlation matrix — seaborn 0.9.0 documentation. [online] Available at: https://seaborn.pydata.org/examples/many_pairwise_correlations.html [Accessed 6 Nov. 2019].  \n",
    "\n",
    "11. Scikit-learn.org. (2019). 6.3. Preprocessing data — scikit-learn 0.22 documentation. [online] Available at: https://scikit-learn.org/stable/modules/preprocessing.html [Accessed 29 Nov. 2019].  \n",
    "\n",
    "12. Benalexkeen.com. (2019). Feature Scaling with scikit-learn – Ben Alex Keen. [online] Available at: http://benalexkeen.com/feature-scaling-with-scikit-learn/ [Accessed 29 Nov. 2019].  \n",
    "\n",
    "13. Brownlee, J. (2019a). Difference Between a Batch and an Epoch in a Neural Network. [online] Machine Learning Mastery. Available at: https://machinelearningmastery.com/difference-between-a-batch-and-an-epoch/ [Accessed 27 Nov. 2019].  \n",
    "\n",
    "14. Brownlee, J. (2019b). Use Early Stopping to Halt the Training of Neural Networks At the Right Time. [online] Machine Learning Mastery. Available at: https://machinelearningmastery.com/how-to-stop-training-deep-neural-networks-at-the-right-time-using-early-stopping/ [Accessed 29 Nov. 2019].  \n",
    "\n",
    "15. Medium. (2019a). Activation functions and it’s types-Which is better?. [online] Available at: https://towardsdatascience.com/activation-functions-and-its-types-which-is-better-a9a5310cc8f [Accessed 29 Nov. 2019].  \n",
    "\n",
    "16. Brownlee, J. (2019c). How to Choose Loss Functions When Training Deep Learning Neural Networks. [online] Machine Learning Mastery. Available at: https://machinelearningmastery.com/how-to-choose-loss-functions-when-training-deep-learning-neural-networks/ [Accessed 21 Nov. 2019].  \n",
    "\n",
    "17. Medium. (2019b). Types of Optimization Algorithms used in Neural Networks and Ways to Optimize Gradient Descent. [online] Available at: https://towardsdatascience.com/types-of-optimization-algorithms-used-in-neural-networks-and-ways-to-optimize-gradient-95ae5d39529f [Accessed 28 Nov. 2019].  \n",
    "\n",
    "18. Brownlee, J. (2019d). How To Improve Deep Learning Performance. [online] Machine Learning Mastery. Available at: https://machinelearningmastery.com/improve-deep-learning-performance/ [Accessed 12 Dec. 2019]."
   ]
  }
 ],
 "metadata": {
  "kernelspec": {
   "display_name": "Python 3",
   "language": "python",
   "name": "python3"
  },
  "language_info": {
   "codemirror_mode": {
    "name": "ipython",
    "version": 3
   },
   "file_extension": ".py",
   "mimetype": "text/x-python",
   "name": "python",
   "nbconvert_exporter": "python",
   "pygments_lexer": "ipython3",
   "version": "3.7.3"
  }
 },
 "nbformat": 4,
 "nbformat_minor": 4
}
