{
 "cells": [
  {
   "cell_type": "markdown",
   "metadata": {},
   "source": [
    "# Machine Learning & Statistics Project 2019"
   ]
  },
  {
   "cell_type": "markdown",
   "metadata": {},
   "source": [
    "Peter McGowan\n",
    "G00190832"
   ]
  },
  {
   "cell_type": "markdown",
   "metadata": {},
   "source": [
    "## Introduction\n",
    "This jupyter notebook contains an investigation of the Boston House Prices dataset for the \"Machine-Learnign and Statistics Module on the GMIT HDip in Data Analytics."
   ]
  },
  {
   "cell_type": "markdown",
   "metadata": {},
   "source": [
    "## Background\n",
    "***Add background info here***"
   ]
  },
  {
   "cell_type": "markdown",
   "metadata": {},
   "source": [
    "## Starting Off\n",
    "First we will import the required python libraries."
   ]
  },
  {
   "cell_type": "code",
   "execution_count": 1,
   "metadata": {},
   "outputs": [],
   "source": [
    "# Import pandas for managing data\n",
    "# Import scipy.stats for statistical analysis\n",
    "# Impost keras for working with neural networks\n",
    "# Import matplotlib.pyplot and seaborn for visualisations\n",
    "import pandas as pd\n",
    "import scipy.stats as ss\n",
    "import statsmodels.stats.weightstats as ws\n",
    "#import keras as k\n",
    "import matplotlib.pyplot as plt\n",
    "import seaborn as sns\n",
    "#from keras.models import Sequential"
   ]
  },
  {
   "cell_type": "markdown",
   "metadata": {},
   "source": [
    "scikit-learn conveniently provides the Boston House Prices dataset - we will now load it."
   ]
  },
  {
   "cell_type": "markdown",
   "metadata": {},
   "source": [
    "** change this to import from keras?"
   ]
  },
  {
   "cell_type": "code",
   "execution_count": 2,
   "metadata": {},
   "outputs": [],
   "source": [
    "# Load the boston dataset from sklearn\n",
    "from sklearn.datasets import load_boston\n",
    "boston = load_boston()"
   ]
  },
  {
   "cell_type": "markdown",
   "metadata": {},
   "source": [
    "Check the keys of the dataset #Research this"
   ]
  },
  {
   "cell_type": "code",
   "execution_count": 3,
   "metadata": {},
   "outputs": [
    {
     "name": "stdout",
     "output_type": "stream",
     "text": [
      "dict_keys(['data', 'target', 'feature_names', 'DESCR', 'filename'])\n"
     ]
    }
   ],
   "source": [
    "print(boston.keys())"
   ]
  },
  {
   "cell_type": "markdown",
   "metadata": {},
   "source": [
    "The pandas library includes a versatile \"dataframe\" object - an indexed array that helps with managing multi-dimensional data."
   ]
  },
  {
   "cell_type": "code",
   "execution_count": 4,
   "metadata": {},
   "outputs": [],
   "source": [
    "# Create a dataframe from the boston house prices dataset\"\n",
    "df = pd.DataFrame(boston.data, columns=boston.feature_names)"
   ]
  },
  {
   "cell_type": "markdown",
   "metadata": {},
   "source": [
    "## Describe"
   ]
  },
  {
   "cell_type": "markdown",
   "metadata": {},
   "source": [
    "### Checks & Descriptive Statistics"
   ]
  },
  {
   "cell_type": "markdown",
   "metadata": {},
   "source": [
    "We'll have a look at the head and tail of the data first of all to check for any obvious issues"
   ]
  },
  {
   "cell_type": "code",
   "execution_count": 5,
   "metadata": {},
   "outputs": [
    {
     "data": {
      "text/html": [
       "<div>\n",
       "<style scoped>\n",
       "    .dataframe tbody tr th:only-of-type {\n",
       "        vertical-align: middle;\n",
       "    }\n",
       "\n",
       "    .dataframe tbody tr th {\n",
       "        vertical-align: top;\n",
       "    }\n",
       "\n",
       "    .dataframe thead th {\n",
       "        text-align: right;\n",
       "    }\n",
       "</style>\n",
       "<table border=\"1\" class=\"dataframe\">\n",
       "  <thead>\n",
       "    <tr style=\"text-align: right;\">\n",
       "      <th></th>\n",
       "      <th>CRIM</th>\n",
       "      <th>ZN</th>\n",
       "      <th>INDUS</th>\n",
       "      <th>CHAS</th>\n",
       "      <th>NOX</th>\n",
       "      <th>RM</th>\n",
       "      <th>AGE</th>\n",
       "      <th>DIS</th>\n",
       "      <th>RAD</th>\n",
       "      <th>TAX</th>\n",
       "      <th>PTRATIO</th>\n",
       "      <th>B</th>\n",
       "      <th>LSTAT</th>\n",
       "    </tr>\n",
       "  </thead>\n",
       "  <tbody>\n",
       "    <tr>\n",
       "      <th>0</th>\n",
       "      <td>0.00632</td>\n",
       "      <td>18.0</td>\n",
       "      <td>2.31</td>\n",
       "      <td>0.0</td>\n",
       "      <td>0.538</td>\n",
       "      <td>6.575</td>\n",
       "      <td>65.2</td>\n",
       "      <td>4.0900</td>\n",
       "      <td>1.0</td>\n",
       "      <td>296.0</td>\n",
       "      <td>15.3</td>\n",
       "      <td>396.90</td>\n",
       "      <td>4.98</td>\n",
       "    </tr>\n",
       "    <tr>\n",
       "      <th>1</th>\n",
       "      <td>0.02731</td>\n",
       "      <td>0.0</td>\n",
       "      <td>7.07</td>\n",
       "      <td>0.0</td>\n",
       "      <td>0.469</td>\n",
       "      <td>6.421</td>\n",
       "      <td>78.9</td>\n",
       "      <td>4.9671</td>\n",
       "      <td>2.0</td>\n",
       "      <td>242.0</td>\n",
       "      <td>17.8</td>\n",
       "      <td>396.90</td>\n",
       "      <td>9.14</td>\n",
       "    </tr>\n",
       "    <tr>\n",
       "      <th>2</th>\n",
       "      <td>0.02729</td>\n",
       "      <td>0.0</td>\n",
       "      <td>7.07</td>\n",
       "      <td>0.0</td>\n",
       "      <td>0.469</td>\n",
       "      <td>7.185</td>\n",
       "      <td>61.1</td>\n",
       "      <td>4.9671</td>\n",
       "      <td>2.0</td>\n",
       "      <td>242.0</td>\n",
       "      <td>17.8</td>\n",
       "      <td>392.83</td>\n",
       "      <td>4.03</td>\n",
       "    </tr>\n",
       "    <tr>\n",
       "      <th>3</th>\n",
       "      <td>0.03237</td>\n",
       "      <td>0.0</td>\n",
       "      <td>2.18</td>\n",
       "      <td>0.0</td>\n",
       "      <td>0.458</td>\n",
       "      <td>6.998</td>\n",
       "      <td>45.8</td>\n",
       "      <td>6.0622</td>\n",
       "      <td>3.0</td>\n",
       "      <td>222.0</td>\n",
       "      <td>18.7</td>\n",
       "      <td>394.63</td>\n",
       "      <td>2.94</td>\n",
       "    </tr>\n",
       "    <tr>\n",
       "      <th>4</th>\n",
       "      <td>0.06905</td>\n",
       "      <td>0.0</td>\n",
       "      <td>2.18</td>\n",
       "      <td>0.0</td>\n",
       "      <td>0.458</td>\n",
       "      <td>7.147</td>\n",
       "      <td>54.2</td>\n",
       "      <td>6.0622</td>\n",
       "      <td>3.0</td>\n",
       "      <td>222.0</td>\n",
       "      <td>18.7</td>\n",
       "      <td>396.90</td>\n",
       "      <td>5.33</td>\n",
       "    </tr>\n",
       "  </tbody>\n",
       "</table>\n",
       "</div>"
      ],
      "text/plain": [
       "      CRIM    ZN  INDUS  CHAS    NOX     RM   AGE     DIS  RAD    TAX  \\\n",
       "0  0.00632  18.0   2.31   0.0  0.538  6.575  65.2  4.0900  1.0  296.0   \n",
       "1  0.02731   0.0   7.07   0.0  0.469  6.421  78.9  4.9671  2.0  242.0   \n",
       "2  0.02729   0.0   7.07   0.0  0.469  7.185  61.1  4.9671  2.0  242.0   \n",
       "3  0.03237   0.0   2.18   0.0  0.458  6.998  45.8  6.0622  3.0  222.0   \n",
       "4  0.06905   0.0   2.18   0.0  0.458  7.147  54.2  6.0622  3.0  222.0   \n",
       "\n",
       "   PTRATIO       B  LSTAT  \n",
       "0     15.3  396.90   4.98  \n",
       "1     17.8  396.90   9.14  \n",
       "2     17.8  392.83   4.03  \n",
       "3     18.7  394.63   2.94  \n",
       "4     18.7  396.90   5.33  "
      ]
     },
     "execution_count": 5,
     "metadata": {},
     "output_type": "execute_result"
    }
   ],
   "source": [
    "df.head()"
   ]
  },
  {
   "cell_type": "code",
   "execution_count": 6,
   "metadata": {},
   "outputs": [
    {
     "data": {
      "text/html": [
       "<div>\n",
       "<style scoped>\n",
       "    .dataframe tbody tr th:only-of-type {\n",
       "        vertical-align: middle;\n",
       "    }\n",
       "\n",
       "    .dataframe tbody tr th {\n",
       "        vertical-align: top;\n",
       "    }\n",
       "\n",
       "    .dataframe thead th {\n",
       "        text-align: right;\n",
       "    }\n",
       "</style>\n",
       "<table border=\"1\" class=\"dataframe\">\n",
       "  <thead>\n",
       "    <tr style=\"text-align: right;\">\n",
       "      <th></th>\n",
       "      <th>CRIM</th>\n",
       "      <th>ZN</th>\n",
       "      <th>INDUS</th>\n",
       "      <th>CHAS</th>\n",
       "      <th>NOX</th>\n",
       "      <th>RM</th>\n",
       "      <th>AGE</th>\n",
       "      <th>DIS</th>\n",
       "      <th>RAD</th>\n",
       "      <th>TAX</th>\n",
       "      <th>PTRATIO</th>\n",
       "      <th>B</th>\n",
       "      <th>LSTAT</th>\n",
       "    </tr>\n",
       "  </thead>\n",
       "  <tbody>\n",
       "    <tr>\n",
       "      <th>501</th>\n",
       "      <td>0.06263</td>\n",
       "      <td>0.0</td>\n",
       "      <td>11.93</td>\n",
       "      <td>0.0</td>\n",
       "      <td>0.573</td>\n",
       "      <td>6.593</td>\n",
       "      <td>69.1</td>\n",
       "      <td>2.4786</td>\n",
       "      <td>1.0</td>\n",
       "      <td>273.0</td>\n",
       "      <td>21.0</td>\n",
       "      <td>391.99</td>\n",
       "      <td>9.67</td>\n",
       "    </tr>\n",
       "    <tr>\n",
       "      <th>502</th>\n",
       "      <td>0.04527</td>\n",
       "      <td>0.0</td>\n",
       "      <td>11.93</td>\n",
       "      <td>0.0</td>\n",
       "      <td>0.573</td>\n",
       "      <td>6.120</td>\n",
       "      <td>76.7</td>\n",
       "      <td>2.2875</td>\n",
       "      <td>1.0</td>\n",
       "      <td>273.0</td>\n",
       "      <td>21.0</td>\n",
       "      <td>396.90</td>\n",
       "      <td>9.08</td>\n",
       "    </tr>\n",
       "    <tr>\n",
       "      <th>503</th>\n",
       "      <td>0.06076</td>\n",
       "      <td>0.0</td>\n",
       "      <td>11.93</td>\n",
       "      <td>0.0</td>\n",
       "      <td>0.573</td>\n",
       "      <td>6.976</td>\n",
       "      <td>91.0</td>\n",
       "      <td>2.1675</td>\n",
       "      <td>1.0</td>\n",
       "      <td>273.0</td>\n",
       "      <td>21.0</td>\n",
       "      <td>396.90</td>\n",
       "      <td>5.64</td>\n",
       "    </tr>\n",
       "    <tr>\n",
       "      <th>504</th>\n",
       "      <td>0.10959</td>\n",
       "      <td>0.0</td>\n",
       "      <td>11.93</td>\n",
       "      <td>0.0</td>\n",
       "      <td>0.573</td>\n",
       "      <td>6.794</td>\n",
       "      <td>89.3</td>\n",
       "      <td>2.3889</td>\n",
       "      <td>1.0</td>\n",
       "      <td>273.0</td>\n",
       "      <td>21.0</td>\n",
       "      <td>393.45</td>\n",
       "      <td>6.48</td>\n",
       "    </tr>\n",
       "    <tr>\n",
       "      <th>505</th>\n",
       "      <td>0.04741</td>\n",
       "      <td>0.0</td>\n",
       "      <td>11.93</td>\n",
       "      <td>0.0</td>\n",
       "      <td>0.573</td>\n",
       "      <td>6.030</td>\n",
       "      <td>80.8</td>\n",
       "      <td>2.5050</td>\n",
       "      <td>1.0</td>\n",
       "      <td>273.0</td>\n",
       "      <td>21.0</td>\n",
       "      <td>396.90</td>\n",
       "      <td>7.88</td>\n",
       "    </tr>\n",
       "  </tbody>\n",
       "</table>\n",
       "</div>"
      ],
      "text/plain": [
       "        CRIM   ZN  INDUS  CHAS    NOX     RM   AGE     DIS  RAD    TAX  \\\n",
       "501  0.06263  0.0  11.93   0.0  0.573  6.593  69.1  2.4786  1.0  273.0   \n",
       "502  0.04527  0.0  11.93   0.0  0.573  6.120  76.7  2.2875  1.0  273.0   \n",
       "503  0.06076  0.0  11.93   0.0  0.573  6.976  91.0  2.1675  1.0  273.0   \n",
       "504  0.10959  0.0  11.93   0.0  0.573  6.794  89.3  2.3889  1.0  273.0   \n",
       "505  0.04741  0.0  11.93   0.0  0.573  6.030  80.8  2.5050  1.0  273.0   \n",
       "\n",
       "     PTRATIO       B  LSTAT  \n",
       "501     21.0  391.99   9.67  \n",
       "502     21.0  396.90   9.08  \n",
       "503     21.0  396.90   5.64  \n",
       "504     21.0  393.45   6.48  \n",
       "505     21.0  396.90   7.88  "
      ]
     },
     "execution_count": 6,
     "metadata": {},
     "output_type": "execute_result"
    }
   ],
   "source": [
    "df.tail()"
   ]
  },
  {
   "cell_type": "markdown",
   "metadata": {},
   "source": [
    "We shoud check also for missing values:"
   ]
  },
  {
   "cell_type": "code",
   "execution_count": 7,
   "metadata": {},
   "outputs": [
    {
     "data": {
      "text/plain": [
       "CRIM       0\n",
       "ZN         0\n",
       "INDUS      0\n",
       "CHAS       0\n",
       "NOX        0\n",
       "RM         0\n",
       "AGE        0\n",
       "DIS        0\n",
       "RAD        0\n",
       "TAX        0\n",
       "PTRATIO    0\n",
       "B          0\n",
       "LSTAT      0\n",
       "dtype: int64"
      ]
     },
     "execution_count": 7,
     "metadata": {},
     "output_type": "execute_result"
    }
   ],
   "source": [
    "df.isnull().sum()"
   ]
  },
  {
   "cell_type": "markdown",
   "metadata": {},
   "source": [
    "All seems to be in order so far.\n",
    "\n",
    "What do the column headers mean? We can use the following command to dive into it:"
   ]
  },
  {
   "cell_type": "code",
   "execution_count": 8,
   "metadata": {},
   "outputs": [
    {
     "name": "stdout",
     "output_type": "stream",
     "text": [
      ".. _boston_dataset:\n",
      "\n",
      "Boston house prices dataset\n",
      "---------------------------\n",
      "\n",
      "**Data Set Characteristics:**  \n",
      "\n",
      "    :Number of Instances: 506 \n",
      "\n",
      "    :Number of Attributes: 13 numeric/categorical predictive. Median Value (attribute 14) is usually the target.\n",
      "\n",
      "    :Attribute Information (in order):\n",
      "        - CRIM     per capita crime rate by town\n",
      "        - ZN       proportion of residential land zoned for lots over 25,000 sq.ft.\n",
      "        - INDUS    proportion of non-retail business acres per town\n",
      "        - CHAS     Charles River dummy variable (= 1 if tract bounds river; 0 otherwise)\n",
      "        - NOX      nitric oxides concentration (parts per 10 million)\n",
      "        - RM       average number of rooms per dwelling\n",
      "        - AGE      proportion of owner-occupied units built prior to 1940\n",
      "        - DIS      weighted distances to five Boston employment centres\n",
      "        - RAD      index of accessibility to radial highways\n",
      "        - TAX      full-value property-tax rate per $10,000\n",
      "        - PTRATIO  pupil-teacher ratio by town\n",
      "        - B        1000(Bk - 0.63)^2 where Bk is the proportion of blacks by town\n",
      "        - LSTAT    % lower status of the population\n",
      "        - MEDV     Median value of owner-occupied homes in $1000's\n",
      "\n",
      "    :Missing Attribute Values: None\n",
      "\n",
      "    :Creator: Harrison, D. and Rubinfeld, D.L.\n",
      "\n",
      "This is a copy of UCI ML housing dataset.\n",
      "https://archive.ics.uci.edu/ml/machine-learning-databases/housing/\n",
      "\n",
      "\n",
      "This dataset was taken from the StatLib library which is maintained at Carnegie Mellon University.\n",
      "\n",
      "The Boston house-price data of Harrison, D. and Rubinfeld, D.L. 'Hedonic\n",
      "prices and the demand for clean air', J. Environ. Economics & Management,\n",
      "vol.5, 81-102, 1978.   Used in Belsley, Kuh & Welsch, 'Regression diagnostics\n",
      "...', Wiley, 1980.   N.B. Various transformations are used in the table on\n",
      "pages 244-261 of the latter.\n",
      "\n",
      "The Boston house-price data has been used in many machine learning papers that address regression\n",
      "problems.   \n",
      "     \n",
      ".. topic:: References\n",
      "\n",
      "   - Belsley, Kuh & Welsch, 'Regression diagnostics: Identifying Influential Data and Sources of Collinearity', Wiley, 1980. 244-261.\n",
      "   - Quinlan,R. (1993). Combining Instance-Based and Model-Based Learning. In Proceedings on the Tenth International Conference of Machine Learning, 236-243, University of Massachusetts, Amherst. Morgan Kaufmann.\n",
      "\n"
     ]
    }
   ],
   "source": [
    "print(boston.DESCR)"
   ]
  },
  {
   "cell_type": "markdown",
   "metadata": {},
   "source": [
    "The MEDV column wasn't included in the earlier outputs.\n",
    "This is because scikit-learn assumes that you wish to use it as the 'target' of the dataset.\n",
    "We can check that its included:"
   ]
  },
  {
   "cell_type": "code",
   "execution_count": 9,
   "metadata": {},
   "outputs": [
    {
     "name": "stdout",
     "output_type": "stream",
     "text": [
      "(506,)\n"
     ]
    }
   ],
   "source": [
    "print(boston.target.shape)"
   ]
  },
  {
   "cell_type": "markdown",
   "metadata": {},
   "source": [
    "This matches the output of the DESCR command so it should be ok.\n",
    "Now we need to add it as a column to the dataframe to make our lives a bit easier later on."
   ]
  },
  {
   "cell_type": "code",
   "execution_count": 10,
   "metadata": {},
   "outputs": [],
   "source": [
    "df['MEDV'] = boston.target"
   ]
  },
  {
   "cell_type": "markdown",
   "metadata": {},
   "source": [
    "Now output the summary statistics of the dataframe to see how it looks:"
   ]
  },
  {
   "cell_type": "code",
   "execution_count": 11,
   "metadata": {},
   "outputs": [
    {
     "data": {
      "text/html": [
       "<div>\n",
       "<style scoped>\n",
       "    .dataframe tbody tr th:only-of-type {\n",
       "        vertical-align: middle;\n",
       "    }\n",
       "\n",
       "    .dataframe tbody tr th {\n",
       "        vertical-align: top;\n",
       "    }\n",
       "\n",
       "    .dataframe thead th {\n",
       "        text-align: right;\n",
       "    }\n",
       "</style>\n",
       "<table border=\"1\" class=\"dataframe\">\n",
       "  <thead>\n",
       "    <tr style=\"text-align: right;\">\n",
       "      <th></th>\n",
       "      <th>CRIM</th>\n",
       "      <th>ZN</th>\n",
       "      <th>INDUS</th>\n",
       "      <th>CHAS</th>\n",
       "      <th>NOX</th>\n",
       "      <th>RM</th>\n",
       "      <th>AGE</th>\n",
       "      <th>DIS</th>\n",
       "      <th>RAD</th>\n",
       "      <th>TAX</th>\n",
       "      <th>PTRATIO</th>\n",
       "      <th>B</th>\n",
       "      <th>LSTAT</th>\n",
       "      <th>MEDV</th>\n",
       "    </tr>\n",
       "  </thead>\n",
       "  <tbody>\n",
       "    <tr>\n",
       "      <th>count</th>\n",
       "      <td>506.000000</td>\n",
       "      <td>506.000000</td>\n",
       "      <td>506.000000</td>\n",
       "      <td>506.000000</td>\n",
       "      <td>506.000000</td>\n",
       "      <td>506.000000</td>\n",
       "      <td>506.000000</td>\n",
       "      <td>506.000000</td>\n",
       "      <td>506.000000</td>\n",
       "      <td>506.000000</td>\n",
       "      <td>506.000000</td>\n",
       "      <td>506.000000</td>\n",
       "      <td>506.000000</td>\n",
       "      <td>506.000000</td>\n",
       "    </tr>\n",
       "    <tr>\n",
       "      <th>mean</th>\n",
       "      <td>3.613524</td>\n",
       "      <td>11.363636</td>\n",
       "      <td>11.136779</td>\n",
       "      <td>0.069170</td>\n",
       "      <td>0.554695</td>\n",
       "      <td>6.284634</td>\n",
       "      <td>68.574901</td>\n",
       "      <td>3.795043</td>\n",
       "      <td>9.549407</td>\n",
       "      <td>408.237154</td>\n",
       "      <td>18.455534</td>\n",
       "      <td>356.674032</td>\n",
       "      <td>12.653063</td>\n",
       "      <td>22.532806</td>\n",
       "    </tr>\n",
       "    <tr>\n",
       "      <th>std</th>\n",
       "      <td>8.601545</td>\n",
       "      <td>23.322453</td>\n",
       "      <td>6.860353</td>\n",
       "      <td>0.253994</td>\n",
       "      <td>0.115878</td>\n",
       "      <td>0.702617</td>\n",
       "      <td>28.148861</td>\n",
       "      <td>2.105710</td>\n",
       "      <td>8.707259</td>\n",
       "      <td>168.537116</td>\n",
       "      <td>2.164946</td>\n",
       "      <td>91.294864</td>\n",
       "      <td>7.141062</td>\n",
       "      <td>9.197104</td>\n",
       "    </tr>\n",
       "    <tr>\n",
       "      <th>min</th>\n",
       "      <td>0.006320</td>\n",
       "      <td>0.000000</td>\n",
       "      <td>0.460000</td>\n",
       "      <td>0.000000</td>\n",
       "      <td>0.385000</td>\n",
       "      <td>3.561000</td>\n",
       "      <td>2.900000</td>\n",
       "      <td>1.129600</td>\n",
       "      <td>1.000000</td>\n",
       "      <td>187.000000</td>\n",
       "      <td>12.600000</td>\n",
       "      <td>0.320000</td>\n",
       "      <td>1.730000</td>\n",
       "      <td>5.000000</td>\n",
       "    </tr>\n",
       "    <tr>\n",
       "      <th>25%</th>\n",
       "      <td>0.082045</td>\n",
       "      <td>0.000000</td>\n",
       "      <td>5.190000</td>\n",
       "      <td>0.000000</td>\n",
       "      <td>0.449000</td>\n",
       "      <td>5.885500</td>\n",
       "      <td>45.025000</td>\n",
       "      <td>2.100175</td>\n",
       "      <td>4.000000</td>\n",
       "      <td>279.000000</td>\n",
       "      <td>17.400000</td>\n",
       "      <td>375.377500</td>\n",
       "      <td>6.950000</td>\n",
       "      <td>17.025000</td>\n",
       "    </tr>\n",
       "    <tr>\n",
       "      <th>50%</th>\n",
       "      <td>0.256510</td>\n",
       "      <td>0.000000</td>\n",
       "      <td>9.690000</td>\n",
       "      <td>0.000000</td>\n",
       "      <td>0.538000</td>\n",
       "      <td>6.208500</td>\n",
       "      <td>77.500000</td>\n",
       "      <td>3.207450</td>\n",
       "      <td>5.000000</td>\n",
       "      <td>330.000000</td>\n",
       "      <td>19.050000</td>\n",
       "      <td>391.440000</td>\n",
       "      <td>11.360000</td>\n",
       "      <td>21.200000</td>\n",
       "    </tr>\n",
       "    <tr>\n",
       "      <th>75%</th>\n",
       "      <td>3.677083</td>\n",
       "      <td>12.500000</td>\n",
       "      <td>18.100000</td>\n",
       "      <td>0.000000</td>\n",
       "      <td>0.624000</td>\n",
       "      <td>6.623500</td>\n",
       "      <td>94.075000</td>\n",
       "      <td>5.188425</td>\n",
       "      <td>24.000000</td>\n",
       "      <td>666.000000</td>\n",
       "      <td>20.200000</td>\n",
       "      <td>396.225000</td>\n",
       "      <td>16.955000</td>\n",
       "      <td>25.000000</td>\n",
       "    </tr>\n",
       "    <tr>\n",
       "      <th>max</th>\n",
       "      <td>88.976200</td>\n",
       "      <td>100.000000</td>\n",
       "      <td>27.740000</td>\n",
       "      <td>1.000000</td>\n",
       "      <td>0.871000</td>\n",
       "      <td>8.780000</td>\n",
       "      <td>100.000000</td>\n",
       "      <td>12.126500</td>\n",
       "      <td>24.000000</td>\n",
       "      <td>711.000000</td>\n",
       "      <td>22.000000</td>\n",
       "      <td>396.900000</td>\n",
       "      <td>37.970000</td>\n",
       "      <td>50.000000</td>\n",
       "    </tr>\n",
       "  </tbody>\n",
       "</table>\n",
       "</div>"
      ],
      "text/plain": [
       "             CRIM          ZN       INDUS        CHAS         NOX          RM  \\\n",
       "count  506.000000  506.000000  506.000000  506.000000  506.000000  506.000000   \n",
       "mean     3.613524   11.363636   11.136779    0.069170    0.554695    6.284634   \n",
       "std      8.601545   23.322453    6.860353    0.253994    0.115878    0.702617   \n",
       "min      0.006320    0.000000    0.460000    0.000000    0.385000    3.561000   \n",
       "25%      0.082045    0.000000    5.190000    0.000000    0.449000    5.885500   \n",
       "50%      0.256510    0.000000    9.690000    0.000000    0.538000    6.208500   \n",
       "75%      3.677083   12.500000   18.100000    0.000000    0.624000    6.623500   \n",
       "max     88.976200  100.000000   27.740000    1.000000    0.871000    8.780000   \n",
       "\n",
       "              AGE         DIS         RAD         TAX     PTRATIO           B  \\\n",
       "count  506.000000  506.000000  506.000000  506.000000  506.000000  506.000000   \n",
       "mean    68.574901    3.795043    9.549407  408.237154   18.455534  356.674032   \n",
       "std     28.148861    2.105710    8.707259  168.537116    2.164946   91.294864   \n",
       "min      2.900000    1.129600    1.000000  187.000000   12.600000    0.320000   \n",
       "25%     45.025000    2.100175    4.000000  279.000000   17.400000  375.377500   \n",
       "50%     77.500000    3.207450    5.000000  330.000000   19.050000  391.440000   \n",
       "75%     94.075000    5.188425   24.000000  666.000000   20.200000  396.225000   \n",
       "max    100.000000   12.126500   24.000000  711.000000   22.000000  396.900000   \n",
       "\n",
       "            LSTAT        MEDV  \n",
       "count  506.000000  506.000000  \n",
       "mean    12.653063   22.532806  \n",
       "std      7.141062    9.197104  \n",
       "min      1.730000    5.000000  \n",
       "25%      6.950000   17.025000  \n",
       "50%     11.360000   21.200000  \n",
       "75%     16.955000   25.000000  \n",
       "max     37.970000   50.000000  "
      ]
     },
     "execution_count": 11,
     "metadata": {},
     "output_type": "execute_result"
    }
   ],
   "source": [
    "df.describe()"
   ]
  },
  {
   "cell_type": "markdown",
   "metadata": {},
   "source": [
    "The data seems to have imported correctly and we now have it in a format that we can work with."
   ]
  },
  {
   "cell_type": "markdown",
   "metadata": {},
   "source": [
    "### Visualisations\n",
    "Now we can start creating plots.\n",
    "Firstly, the distribution of the Median House Value:"
   ]
  },
  {
   "cell_type": "code",
   "execution_count": 12,
   "metadata": {},
   "outputs": [
    {
     "data": {
      "text/plain": [
       "<matplotlib.axes._subplots.AxesSubplot at 0x186e65f51c8>"
      ]
     },
     "execution_count": 12,
     "metadata": {},
     "output_type": "execute_result"
    },
    {
     "data": {
      "image/png": "[encoded data removed]",
      "text/plain": [
       "<Figure size 432x288 with 1 Axes>"
      ]
     },
     "metadata": {
      "needs_background": "light"
     },
     "output_type": "display_data"
    }
   ],
   "source": [
    "sns.distplot(df['MEDV'], color='g')"
   ]
  },
  {
   "cell_type": "markdown",
   "metadata": {},
   "source": [
    "We can also look at the number of rooms per dwelling like this."
   ]
  },
  {
   "cell_type": "code",
   "execution_count": 13,
   "metadata": {},
   "outputs": [
    {
     "data": {
      "text/plain": [
       "<matplotlib.axes._subplots.AxesSubplot at 0x186e82dc708>"
      ]
     },
     "execution_count": 13,
     "metadata": {},
     "output_type": "execute_result"
    },
    {
     "data": {
      "image/png": "[encoded data removed]",
      "text/plain": [
       "<Figure size 432x288 with 1 Axes>"
      ]
     },
     "metadata": {
      "needs_background": "light"
     },
     "output_type": "display_data"
    }
   ],
   "source": [
    "sns.distplot(df['RM'], color='y')"
   ]
  },
  {
   "cell_type": "markdown",
   "metadata": {},
   "source": [
    "What about the relationships between some of the statistics and the median house value?\n",
    "Firstly we look at DIS:"
   ]
  },
  {
   "cell_type": "code",
   "execution_count": 14,
   "metadata": {},
   "outputs": [
    {
     "data": {
      "text/plain": [
       "<matplotlib.axes._subplots.AxesSubplot at 0x186ea504788>"
      ]
     },
     "execution_count": 14,
     "metadata": {},
     "output_type": "execute_result"
    },
    {
     "data": {
      "image/png": "[encoded data removed]",
      "text/plain": [
       "<Figure size 432x288 with 1 Axes>"
      ]
     },
     "metadata": {
      "needs_background": "light"
     },
     "output_type": "display_data"
    }
   ],
   "source": [
    "sns.scatterplot(x='MEDV', y='DIS', data=df)"
   ]
  },
  {
   "cell_type": "markdown",
   "metadata": {},
   "source": [
    "It is difficult to tell if a definite linear relationship exists between these variables, but an unusual vertical line of values on the MEDV=50 line stand out somewhat."
   ]
  },
  {
   "cell_type": "markdown",
   "metadata": {},
   "source": [
    "We can look at RAD also:"
   ]
  },
  {
   "cell_type": "code",
   "execution_count": 15,
   "metadata": {},
   "outputs": [
    {
     "data": {
      "text/plain": [
       "<matplotlib.axes._subplots.AxesSubplot at 0x186ea587c08>"
      ]
     },
     "execution_count": 15,
     "metadata": {},
     "output_type": "execute_result"
    },
    {
     "data": {
      "image/png": "[encoded data removed]",
      "text/plain": [
       "<Figure size 432x288 with 1 Axes>"
      ]
     },
     "metadata": {
      "needs_background": "light"
     },
     "output_type": "display_data"
    }
   ],
   "source": [
    "sns.scatterplot(x='MEDV', y='RM', data=df)"
   ]
  },
  {
   "cell_type": "markdown",
   "metadata": {},
   "source": [
    "The linear relationship is much more apparent here - however the clustering of points on the MEDV=50 mark is even more apparent in this plot. This will require further investigation. "
   ]
  },
  {
   "cell_type": "code",
   "execution_count": 16,
   "metadata": {},
   "outputs": [
    {
     "data": {
      "text/plain": [
       "<matplotlib.axes._subplots.AxesSubplot at 0x186ea5e0b08>"
      ]
     },
     "execution_count": 16,
     "metadata": {},
     "output_type": "execute_result"
    },
    {
     "data": {
      "image/png": "[encoded data removed]",
      "text/plain": [
       "<Figure size 432x288 with 1 Axes>"
      ]
     },
     "metadata": {
      "needs_background": "light"
     },
     "output_type": "display_data"
    }
   ],
   "source": [
    "sns.scatterplot(x='MEDV', y='RAD', data=df)"
   ]
  },
  {
   "cell_type": "markdown",
   "metadata": {},
   "source": [
    "This is quite a bit different to the other plots - the RAD value refers to \"index of accessibility to major highways\" - it appears that there is a broad range of houses values that have an accessibility rating between 0 and 10, then a very large gap, with a range of houses in the low- to medium price range (with a single high price outlier) with a much higher index of around 24."
   ]
  },
  {
   "cell_type": "markdown",
   "metadata": {},
   "source": [
    "## Infer"
   ]
  },
  {
   "cell_type": "code",
   "execution_count": 17,
   "metadata": {},
   "outputs": [
    {
     "data": {
      "text/plain": [
       "<matplotlib.axes._subplots.AxesSubplot at 0x186ea647588>"
      ]
     },
     "execution_count": 17,
     "metadata": {},
     "output_type": "execute_result"
    },
    {
     "data": {
      "image/png": "[encoded data removed]",
      "text/plain": [
       "<Figure size 432x288 with 1 Axes>"
      ]
     },
     "metadata": {
      "needs_background": "light"
     },
     "output_type": "display_data"
    }
   ],
   "source": [
    "sns.regplot(x=\"MEDV\", y=\"CHAS\", data=df)"
   ]
  },
  {
   "cell_type": "raw",
   "metadata": {},
   "source": [
    "First we'll display the range of house values per CHAS value, side by side on a catplot. We'll leave jitter switched on to get a better idea of the density of house."
   ]
  },
  {
   "cell_type": "markdown",
   "metadata": {},
   "source": [
    "*** Add a violin plot?? ***"
   ]
  },
  {
   "cell_type": "code",
   "execution_count": 18,
   "metadata": {},
   "outputs": [
    {
     "data": {
      "text/plain": [
       "<seaborn.axisgrid.FacetGrid at 0x186ea541748>"
      ]
     },
     "execution_count": 18,
     "metadata": {},
     "output_type": "execute_result"
    },
    {
     "data": {
      "image/png": "[encoded data removed]",
      "text/plain": [
       "<Figure size 360x360 with 1 Axes>"
      ]
     },
     "metadata": {
      "needs_background": "light"
     },
     "output_type": "display_data"
    }
   ],
   "source": [
    "sns.catplot(x='CHAS', y='MEDV',  data=df)"
   ]
  },
  {
   "cell_type": "markdown",
   "metadata": {},
   "source": [
    "Now lets visualise the distribution of this using histograms with KDEs overlaid on the same plot:"
   ]
  },
  {
   "cell_type": "code",
   "execution_count": 19,
   "metadata": {},
   "outputs": [
    {
     "data": {
      "text/plain": [
       "<matplotlib.axes._subplots.AxesSubplot at 0x186ea71f0c8>"
      ]
     },
     "execution_count": 19,
     "metadata": {},
     "output_type": "execute_result"
    },
    {
     "data": {
      "image/png": "[encoded data removed]",
      "text/plain": [
       "<Figure size 432x288 with 1 Axes>"
      ]
     },
     "metadata": {
      "needs_background": "light"
     },
     "output_type": "display_data"
    }
   ],
   "source": [
    "# Extract subsets of the dataframe for houses on the Charles River (ry) vs houses not on it (rn)\n",
    "ry = df.loc[df['CHAS'] == 1]\n",
    "rn = df.loc[df['CHAS'] == 0]\n",
    "\n",
    "# Overlay a distplot for each on the same plot for comparison\n",
    "sns.distplot(ry['MEDV'], color='b')\n",
    "sns.distplot(rn['MEDV'], color='r')"
   ]
  },
  {
   "cell_type": "markdown",
   "metadata": {},
   "source": [
    "Although the histograms of the two data sets look quite different, the shapes of the kernal density estimate plots are not dissimilar - although it can be said with reasonable confidence that the values of houses on the Charles River appear to be generally higher than those not on it. We will have to confirm this now by carrying out statistical tests using scipy."
   ]
  },
  {
   "cell_type": "markdown",
   "metadata": {},
   "source": [
    "### T-Test"
   ]
  },
  {
   "cell_type": "markdown",
   "metadata": {},
   "source": [
    "We can carry out a t-test using scipy.stats to check if there is a significant difference in median house prices between those along the Charles River and those that are not. We need to use an independent t-test."
   ]
  },
  {
   "cell_type": "markdown",
   "metadata": {},
   "source": [
    "*** should confirm that the t-test assumptions are met?"
   ]
  },
  {
   "cell_type": "markdown",
   "metadata": {},
   "source": [
    "The null hypothesis here is that the means are equal. Therefore if there is no significant difference between the means, the t-statistic should be close to 0."
   ]
  },
  {
   "cell_type": "markdown",
   "metadata": {},
   "source": [
    "First we need MEDV split into two separate sets - one where CHAS=0 and one where CHAS=1. This has already been carried out to generate the histograms above:\n",
    "* rn = dataframe containing only data on houses not along the Charles River\n",
    "* ry = dataframe containing only data on houses along the Charles River"
   ]
  },
  {
   "cell_type": "code",
   "execution_count": 20,
   "metadata": {},
   "outputs": [
    {
     "data": {
      "text/plain": [
       "Ttest_indResult(statistic=-3.996437466090509, pvalue=7.390623170519905e-05)"
      ]
     },
     "execution_count": 20,
     "metadata": {},
     "output_type": "execute_result"
    }
   ],
   "source": [
    "ss.ttest_ind(rn['MEDV'], ry['MEDV'])"
   ]
  },
  {
   "cell_type": "markdown",
   "metadata": {},
   "source": [
    "Results:\n",
    "* t-Statistic: -3.996\n",
    "* p-value: 7.391e<sup>-5</sup>"
   ]
  },
  {
   "cell_type": "markdown",
   "metadata": {},
   "source": [
    "We can also check this by carrying out the t-test using statsmodel instead:"
   ]
  },
  {
   "cell_type": "code",
   "execution_count": 21,
   "metadata": {},
   "outputs": [
    {
     "data": {
      "text/plain": [
       "(-3.9964374660905095, 7.390623170519883e-05, 504.0)"
      ]
     },
     "execution_count": 21,
     "metadata": {},
     "output_type": "execute_result"
    }
   ],
   "source": [
    "ws.ttest_ind(rn['MEDV'], ry['MEDV'])"
   ]
  },
  {
   "cell_type": "markdown",
   "metadata": {},
   "source": [
    "The results are identical - with the inclusion of the degrees of freedom (504)."
   ]
  },
  {
   "cell_type": "markdown",
   "metadata": {},
   "source": [
    "#### p-value\n",
    "We generally accept a p-value of 0.5 as being the lower bound of whether a relationship is significant or not. Our calculated p-value is sinificantly lower than this, we can therefore conclude that there is a significant difference between the means - in other words we reject the null hypothesis and can state that there is a significant difference in median house prices between those on the Charles River and those not on it."
   ]
  },
  {
   "cell_type": "markdown",
   "metadata": {},
   "source": [
    "** find reference for the above?"
   ]
  },
  {
   "cell_type": "markdown",
   "metadata": {},
   "source": [
    "### Conclusions"
   ]
  },
  {
   "cell_type": "markdown",
   "metadata": {},
   "source": [
    "We can conclude that the difference in the means is statistically significant. However we should caveat this - earlier we noted that an issue with the MEDV values - the distribution of the values indicate that the value above 50 have been truncated for some reason, this would certainly have an effect on the means."
   ]
  },
  {
   "cell_type": "markdown",
   "metadata": {},
   "source": [
    "## Predict"
   ]
  },
  {
   "cell_type": "markdown",
   "metadata": {},
   "source": [
    "We will now use the keras package to create a neural network to predict the median house price based on the datasets other variables."
   ]
  },
  {
   "cell_type": "code",
   "execution_count": 23,
   "metadata": {},
   "outputs": [
    {
     "name": "stderr",
     "output_type": "stream",
     "text": [
      "Using TensorFlow backend.\n",
      "C:\\Users\\Peter\\AppData\\Local\\Continuum\\anaconda3\\lib\\site-packages\\tensorflow\\python\\framework\\dtypes.py:526: FutureWarning: Passing (type, 1) or '1type' as a synonym of type is deprecated; in a future version of numpy, it will be understood as (type, (1,)) / '(1,)type'.\n",
      "  _np_qint8 = np.dtype([(\"qint8\", np.int8, 1)])\n",
      "C:\\Users\\Peter\\AppData\\Local\\Continuum\\anaconda3\\lib\\site-packages\\tensorflow\\python\\framework\\dtypes.py:527: FutureWarning: Passing (type, 1) or '1type' as a synonym of type is deprecated; in a future version of numpy, it will be understood as (type, (1,)) / '(1,)type'.\n",
      "  _np_quint8 = np.dtype([(\"quint8\", np.uint8, 1)])\n",
      "C:\\Users\\Peter\\AppData\\Local\\Continuum\\anaconda3\\lib\\site-packages\\tensorflow\\python\\framework\\dtypes.py:528: FutureWarning: Passing (type, 1) or '1type' as a synonym of type is deprecated; in a future version of numpy, it will be understood as (type, (1,)) / '(1,)type'.\n",
      "  _np_qint16 = np.dtype([(\"qint16\", np.int16, 1)])\n",
      "C:\\Users\\Peter\\AppData\\Local\\Continuum\\anaconda3\\lib\\site-packages\\tensorflow\\python\\framework\\dtypes.py:529: FutureWarning: Passing (type, 1) or '1type' as a synonym of type is deprecated; in a future version of numpy, it will be understood as (type, (1,)) / '(1,)type'.\n",
      "  _np_quint16 = np.dtype([(\"quint16\", np.uint16, 1)])\n",
      "C:\\Users\\Peter\\AppData\\Local\\Continuum\\anaconda3\\lib\\site-packages\\tensorflow\\python\\framework\\dtypes.py:530: FutureWarning: Passing (type, 1) or '1type' as a synonym of type is deprecated; in a future version of numpy, it will be understood as (type, (1,)) / '(1,)type'.\n",
      "  _np_qint32 = np.dtype([(\"qint32\", np.int32, 1)])\n",
      "C:\\Users\\Peter\\AppData\\Local\\Continuum\\anaconda3\\lib\\site-packages\\tensorflow\\python\\framework\\dtypes.py:535: FutureWarning: Passing (type, 1) or '1type' as a synonym of type is deprecated; in a future version of numpy, it will be understood as (type, (1,)) / '(1,)type'.\n",
      "  np_resource = np.dtype([(\"resource\", np.ubyte, 1)])\n"
     ]
    }
   ],
   "source": [
    "import keras as kr\n",
    "import numpy as np"
   ]
  },
  {
   "cell_type": "markdown",
   "metadata": {},
   "source": [
    "** need to choose variables to predict with - ideally those that correlate with the house price, may be of interest to choose several with varying degrees of correlation"
   ]
  },
  {
   "cell_type": "markdown",
   "metadata": {},
   "source": [
    "### Choosing Correlated Variables"
   ]
  },
  {
   "cell_type": "code",
   "execution_count": 58,
   "metadata": {},
   "outputs": [
    {
     "data": {
      "text/plain": [
       "<matplotlib.axes._subplots.AxesSubplot at 0x186f388bf88>"
      ]
     },
     "execution_count": 58,
     "metadata": {},
     "output_type": "execute_result"
    },
    {
     "data": {
      "image/png": "[encoded data removed]",
      "text/plain": [
       "<Figure size 864x720 with 2 Axes>"
      ]
     },
     "metadata": {},
     "output_type": "display_data"
    }
   ],
   "source": [
    "# Seaborn heatmap\n",
    "sns.set(style=\"dark\")\n",
    "\n",
    "# Mask upper triangle\n",
    "mask = np.zeros_like(df.corr(), dtype=np.bool)\n",
    "mask[np.triu_indices_from(mask)] = True\n",
    "\n",
    "plt.figure(figsize = (12,10))\n",
    "sns.heatmap(df.corr().round(2), annot=True, mask=mask, cmap =\"coolwarm\", center=0, linewidths=0.2)"
   ]
  },
  {
   "cell_type": "markdown",
   "metadata": {},
   "source": [
    "Results: Fields positively correlated with MEDV are:\n",
    "* ZN: 0.36\n",
    "* CHAS: 0.18\n",
    "* RM: 0.7\n",
    "* DIS: 0.25\n",
    "* B: 0.33\n",
    "\n",
    "We can take several of these to model."
   ]
  },
  {
   "cell_type": "markdown",
   "metadata": {},
   "source": [
    "Results: 10 fields most strongly correlated with MEDV are:\n",
    "* CRIM: -0.39\n",
    "* ZN: 0.36\n",
    "* INDUS: -0.48\n",
    "* NOX: -0.43\n",
    "* RM: 0.7\n",
    "* RAD: -0.38\n",
    "* TAX: -0.47\n",
    "* PTRATIO: -0.51\n",
    "* B: 0.33\n",
    "* LSTAT: -0.74\n",
    "    \n",
    "We can use these as inputs for the model."
   ]
  },
  {
   "cell_type": "markdown",
   "metadata": {},
   "source": [
    "** need to decide on layers, numbers of neurons"
   ]
  },
  {
   "cell_type": "code",
   "execution_count": 132,
   "metadata": {},
   "outputs": [
    {
     "data": {
      "text/html": [
       "<div>\n",
       "<style scoped>\n",
       "    .dataframe tbody tr th:only-of-type {\n",
       "        vertical-align: middle;\n",
       "    }\n",
       "\n",
       "    .dataframe tbody tr th {\n",
       "        vertical-align: top;\n",
       "    }\n",
       "\n",
       "    .dataframe thead th {\n",
       "        text-align: right;\n",
       "    }\n",
       "</style>\n",
       "<table border=\"1\" class=\"dataframe\">\n",
       "  <thead>\n",
       "    <tr style=\"text-align: right;\">\n",
       "      <th></th>\n",
       "      <th>CRIM</th>\n",
       "      <th>ZN</th>\n",
       "      <th>INDUS</th>\n",
       "      <th>NOX</th>\n",
       "      <th>RM</th>\n",
       "      <th>RAD</th>\n",
       "      <th>TAX</th>\n",
       "      <th>PTRATIO</th>\n",
       "      <th>B</th>\n",
       "      <th>LSTAT</th>\n",
       "      <th>CHAS</th>\n",
       "      <th>AGE</th>\n",
       "      <th>DIS</th>\n",
       "    </tr>\n",
       "  </thead>\n",
       "  <tbody>\n",
       "    <tr>\n",
       "      <th>count</th>\n",
       "      <td>506.000000</td>\n",
       "      <td>506.000000</td>\n",
       "      <td>506.000000</td>\n",
       "      <td>506.000000</td>\n",
       "      <td>506.000000</td>\n",
       "      <td>506.000000</td>\n",
       "      <td>506.000000</td>\n",
       "      <td>506.000000</td>\n",
       "      <td>506.000000</td>\n",
       "      <td>506.000000</td>\n",
       "      <td>506.000000</td>\n",
       "      <td>506.000000</td>\n",
       "      <td>506.000000</td>\n",
       "    </tr>\n",
       "    <tr>\n",
       "      <th>mean</th>\n",
       "      <td>3.613524</td>\n",
       "      <td>11.363636</td>\n",
       "      <td>11.136779</td>\n",
       "      <td>0.554695</td>\n",
       "      <td>6.284634</td>\n",
       "      <td>9.549407</td>\n",
       "      <td>408.237154</td>\n",
       "      <td>18.455534</td>\n",
       "      <td>356.674032</td>\n",
       "      <td>12.653063</td>\n",
       "      <td>0.069170</td>\n",
       "      <td>68.574901</td>\n",
       "      <td>3.795043</td>\n",
       "    </tr>\n",
       "    <tr>\n",
       "      <th>std</th>\n",
       "      <td>8.601545</td>\n",
       "      <td>23.322453</td>\n",
       "      <td>6.860353</td>\n",
       "      <td>0.115878</td>\n",
       "      <td>0.702617</td>\n",
       "      <td>8.707259</td>\n",
       "      <td>168.537116</td>\n",
       "      <td>2.164946</td>\n",
       "      <td>91.294864</td>\n",
       "      <td>7.141062</td>\n",
       "      <td>0.253994</td>\n",
       "      <td>28.148861</td>\n",
       "      <td>2.105710</td>\n",
       "    </tr>\n",
       "    <tr>\n",
       "      <th>min</th>\n",
       "      <td>0.006320</td>\n",
       "      <td>0.000000</td>\n",
       "      <td>0.460000</td>\n",
       "      <td>0.385000</td>\n",
       "      <td>3.561000</td>\n",
       "      <td>1.000000</td>\n",
       "      <td>187.000000</td>\n",
       "      <td>12.600000</td>\n",
       "      <td>0.320000</td>\n",
       "      <td>1.730000</td>\n",
       "      <td>0.000000</td>\n",
       "      <td>2.900000</td>\n",
       "      <td>1.129600</td>\n",
       "    </tr>\n",
       "    <tr>\n",
       "      <th>25%</th>\n",
       "      <td>0.082045</td>\n",
       "      <td>0.000000</td>\n",
       "      <td>5.190000</td>\n",
       "      <td>0.449000</td>\n",
       "      <td>5.885500</td>\n",
       "      <td>4.000000</td>\n",
       "      <td>279.000000</td>\n",
       "      <td>17.400000</td>\n",
       "      <td>375.377500</td>\n",
       "      <td>6.950000</td>\n",
       "      <td>0.000000</td>\n",
       "      <td>45.025000</td>\n",
       "      <td>2.100175</td>\n",
       "    </tr>\n",
       "    <tr>\n",
       "      <th>50%</th>\n",
       "      <td>0.256510</td>\n",
       "      <td>0.000000</td>\n",
       "      <td>9.690000</td>\n",
       "      <td>0.538000</td>\n",
       "      <td>6.208500</td>\n",
       "      <td>5.000000</td>\n",
       "      <td>330.000000</td>\n",
       "      <td>19.050000</td>\n",
       "      <td>391.440000</td>\n",
       "      <td>11.360000</td>\n",
       "      <td>0.000000</td>\n",
       "      <td>77.500000</td>\n",
       "      <td>3.207450</td>\n",
       "    </tr>\n",
       "    <tr>\n",
       "      <th>75%</th>\n",
       "      <td>3.677083</td>\n",
       "      <td>12.500000</td>\n",
       "      <td>18.100000</td>\n",
       "      <td>0.624000</td>\n",
       "      <td>6.623500</td>\n",
       "      <td>24.000000</td>\n",
       "      <td>666.000000</td>\n",
       "      <td>20.200000</td>\n",
       "      <td>396.225000</td>\n",
       "      <td>16.955000</td>\n",
       "      <td>0.000000</td>\n",
       "      <td>94.075000</td>\n",
       "      <td>5.188425</td>\n",
       "    </tr>\n",
       "    <tr>\n",
       "      <th>max</th>\n",
       "      <td>88.976200</td>\n",
       "      <td>100.000000</td>\n",
       "      <td>27.740000</td>\n",
       "      <td>0.871000</td>\n",
       "      <td>8.780000</td>\n",
       "      <td>24.000000</td>\n",
       "      <td>711.000000</td>\n",
       "      <td>22.000000</td>\n",
       "      <td>396.900000</td>\n",
       "      <td>37.970000</td>\n",
       "      <td>1.000000</td>\n",
       "      <td>100.000000</td>\n",
       "      <td>12.126500</td>\n",
       "    </tr>\n",
       "  </tbody>\n",
       "</table>\n",
       "</div>"
      ],
      "text/plain": [
       "             CRIM          ZN       INDUS         NOX          RM         RAD  \\\n",
       "count  506.000000  506.000000  506.000000  506.000000  506.000000  506.000000   \n",
       "mean     3.613524   11.363636   11.136779    0.554695    6.284634    9.549407   \n",
       "std      8.601545   23.322453    6.860353    0.115878    0.702617    8.707259   \n",
       "min      0.006320    0.000000    0.460000    0.385000    3.561000    1.000000   \n",
       "25%      0.082045    0.000000    5.190000    0.449000    5.885500    4.000000   \n",
       "50%      0.256510    0.000000    9.690000    0.538000    6.208500    5.000000   \n",
       "75%      3.677083   12.500000   18.100000    0.624000    6.623500   24.000000   \n",
       "max     88.976200  100.000000   27.740000    0.871000    8.780000   24.000000   \n",
       "\n",
       "              TAX     PTRATIO           B       LSTAT        CHAS         AGE  \\\n",
       "count  506.000000  506.000000  506.000000  506.000000  506.000000  506.000000   \n",
       "mean   408.237154   18.455534  356.674032   12.653063    0.069170   68.574901   \n",
       "std    168.537116    2.164946   91.294864    7.141062    0.253994   28.148861   \n",
       "min    187.000000   12.600000    0.320000    1.730000    0.000000    2.900000   \n",
       "25%    279.000000   17.400000  375.377500    6.950000    0.000000   45.025000   \n",
       "50%    330.000000   19.050000  391.440000   11.360000    0.000000   77.500000   \n",
       "75%    666.000000   20.200000  396.225000   16.955000    0.000000   94.075000   \n",
       "max    711.000000   22.000000  396.900000   37.970000    1.000000  100.000000   \n",
       "\n",
       "              DIS  \n",
       "count  506.000000  \n",
       "mean     3.795043  \n",
       "std      2.105710  \n",
       "min      1.129600  \n",
       "25%      2.100175  \n",
       "50%      3.207450  \n",
       "75%      5.188425  \n",
       "max     12.126500  "
      ]
     },
     "execution_count": 132,
     "metadata": {},
     "output_type": "execute_result"
    }
   ],
   "source": [
    "inputs = df[[\"CRIM\", \"ZN\", \"INDUS\", \"NOX\", \"RM\", \"RAD\", \"TAX\", \"PTRATIO\", \"B\", \"LSTAT\", \"CHAS\", \"AGE\", \"DIS\"]]\n",
    "inputs.describe()"
   ]
  },
  {
   "cell_type": "code",
   "execution_count": 145,
   "metadata": {},
   "outputs": [
    {
     "data": {
      "text/html": [
       "<div>\n",
       "<style scoped>\n",
       "    .dataframe tbody tr th:only-of-type {\n",
       "        vertical-align: middle;\n",
       "    }\n",
       "\n",
       "    .dataframe tbody tr th {\n",
       "        vertical-align: top;\n",
       "    }\n",
       "\n",
       "    .dataframe thead th {\n",
       "        text-align: right;\n",
       "    }\n",
       "</style>\n",
       "<table border=\"1\" class=\"dataframe\">\n",
       "  <thead>\n",
       "    <tr style=\"text-align: right;\">\n",
       "      <th></th>\n",
       "      <th>INDUS</th>\n",
       "      <th>RM</th>\n",
       "      <th>TAX</th>\n",
       "      <th>PTRATIO</th>\n",
       "      <th>LSTAT</th>\n",
       "      <th>AGE</th>\n",
       "    </tr>\n",
       "  </thead>\n",
       "  <tbody>\n",
       "    <tr>\n",
       "      <th>count</th>\n",
       "      <td>506.000000</td>\n",
       "      <td>506.000000</td>\n",
       "      <td>506.000000</td>\n",
       "      <td>506.000000</td>\n",
       "      <td>506.000000</td>\n",
       "      <td>506.000000</td>\n",
       "    </tr>\n",
       "    <tr>\n",
       "      <th>mean</th>\n",
       "      <td>11.136779</td>\n",
       "      <td>6.284634</td>\n",
       "      <td>408.237154</td>\n",
       "      <td>18.455534</td>\n",
       "      <td>12.653063</td>\n",
       "      <td>68.574901</td>\n",
       "    </tr>\n",
       "    <tr>\n",
       "      <th>std</th>\n",
       "      <td>6.860353</td>\n",
       "      <td>0.702617</td>\n",
       "      <td>168.537116</td>\n",
       "      <td>2.164946</td>\n",
       "      <td>7.141062</td>\n",
       "      <td>28.148861</td>\n",
       "    </tr>\n",
       "    <tr>\n",
       "      <th>min</th>\n",
       "      <td>0.460000</td>\n",
       "      <td>3.561000</td>\n",
       "      <td>187.000000</td>\n",
       "      <td>12.600000</td>\n",
       "      <td>1.730000</td>\n",
       "      <td>2.900000</td>\n",
       "    </tr>\n",
       "    <tr>\n",
       "      <th>25%</th>\n",
       "      <td>5.190000</td>\n",
       "      <td>5.885500</td>\n",
       "      <td>279.000000</td>\n",
       "      <td>17.400000</td>\n",
       "      <td>6.950000</td>\n",
       "      <td>45.025000</td>\n",
       "    </tr>\n",
       "    <tr>\n",
       "      <th>50%</th>\n",
       "      <td>9.690000</td>\n",
       "      <td>6.208500</td>\n",
       "      <td>330.000000</td>\n",
       "      <td>19.050000</td>\n",
       "      <td>11.360000</td>\n",
       "      <td>77.500000</td>\n",
       "    </tr>\n",
       "    <tr>\n",
       "      <th>75%</th>\n",
       "      <td>18.100000</td>\n",
       "      <td>6.623500</td>\n",
       "      <td>666.000000</td>\n",
       "      <td>20.200000</td>\n",
       "      <td>16.955000</td>\n",
       "      <td>94.075000</td>\n",
       "    </tr>\n",
       "    <tr>\n",
       "      <th>max</th>\n",
       "      <td>27.740000</td>\n",
       "      <td>8.780000</td>\n",
       "      <td>711.000000</td>\n",
       "      <td>22.000000</td>\n",
       "      <td>37.970000</td>\n",
       "      <td>100.000000</td>\n",
       "    </tr>\n",
       "  </tbody>\n",
       "</table>\n",
       "</div>"
      ],
      "text/plain": [
       "            INDUS          RM         TAX     PTRATIO       LSTAT         AGE\n",
       "count  506.000000  506.000000  506.000000  506.000000  506.000000  506.000000\n",
       "mean    11.136779    6.284634  408.237154   18.455534   12.653063   68.574901\n",
       "std      6.860353    0.702617  168.537116    2.164946    7.141062   28.148861\n",
       "min      0.460000    3.561000  187.000000   12.600000    1.730000    2.900000\n",
       "25%      5.190000    5.885500  279.000000   17.400000    6.950000   45.025000\n",
       "50%      9.690000    6.208500  330.000000   19.050000   11.360000   77.500000\n",
       "75%     18.100000    6.623500  666.000000   20.200000   16.955000   94.075000\n",
       "max     27.740000    8.780000  711.000000   22.000000   37.970000  100.000000"
      ]
     },
     "execution_count": 145,
     "metadata": {},
     "output_type": "execute_result"
    }
   ],
   "source": [
    "inputs = df[[\"INDUS\", \"RM\", \"TAX\", \"PTRATIO\", \"LSTAT\", \"AGE\"]]\n",
    "inputs.describe()"
   ]
  },
  {
   "cell_type": "markdown",
   "metadata": {},
   "source": [
    "*** need to normalise?"
   ]
  },
  {
   "cell_type": "code",
   "execution_count": 146,
   "metadata": {},
   "outputs": [],
   "source": [
    "outputs = df[\"MEDV\"]"
   ]
  },
  {
   "cell_type": "markdown",
   "metadata": {},
   "source": [
    "### Split Dataset"
   ]
  },
  {
   "cell_type": "markdown",
   "metadata": {},
   "source": [
    "We need to split the dataset into a training dataset and a predictions dataset."
   ]
  },
  {
   "cell_type": "code",
   "execution_count": 192,
   "metadata": {},
   "outputs": [],
   "source": [
    "import sklearn.model_selection as mod"
   ]
  },
  {
   "cell_type": "code",
   "execution_count": 201,
   "metadata": {},
   "outputs": [],
   "source": [
    "# Split the inputs and outputs into training and test sets.\n",
    "inputs_train, inputs_test, outputs_train, outputs_test = mod.train_test_split(inputs, outputs, test_size=0.2)"
   ]
  },
  {
   "cell_type": "markdown",
   "metadata": {},
   "source": [
    "Normalise the data:"
   ]
  },
  {
   "cell_type": "code",
   "execution_count": 149,
   "metadata": {},
   "outputs": [],
   "source": [
    "mean = inputs_train.mean()\n",
    "std = inputs_train.std()\n",
    "\n",
    "inputs_train = (inputs_train - mean)/std\n",
    "inputs_test = (inputs_test - mean)/std"
   ]
  },
  {
   "cell_type": "code",
   "execution_count": 150,
   "metadata": {
    "collapsed": true,
    "jupyter": {
     "outputs_hidden": true
    },
    "scrolled": true
   },
   "outputs": [
    {
     "name": "stdout",
     "output_type": "stream",
     "text": [
      "              INDUS            RM           TAX       PTRATIO         LSTAT  \\\n",
      "count  4.040000e+02  4.040000e+02  4.040000e+02  4.040000e+02  4.040000e+02   \n",
      "mean   2.498826e-15 -7.326922e-15  2.198461e-17  2.130144e-14 -2.423804e-16   \n",
      "std    1.000000e+00  1.000000e+00  1.000000e+00  1.000000e+00  1.000000e+00   \n",
      "min   -1.569401e+00 -3.712550e+00 -1.286397e+00 -2.656576e+00 -1.529606e+00   \n",
      "25%   -8.826408e-01 -5.530329e-01 -7.537471e-01 -6.590017e-01 -8.013695e-01   \n",
      "50%   -1.987843e-01 -9.991988e-02 -4.365515e-01  2.199309e-01 -1.361835e-01   \n",
      "75%    9.917939e-01  4.599082e-01  1.574350e+00  8.134958e-01  5.973076e-01   \n",
      "max    2.391449e+00  3.404972e+00  1.843667e+00  1.635355e+00  3.548085e+00   \n",
      "\n",
      "                AGE  \n",
      "count  4.040000e+02  \n",
      "mean  -1.817853e-16  \n",
      "std    1.000000e+00  \n",
      "min   -2.334542e+00  \n",
      "25%   -8.271466e-01  \n",
      "50%    3.680089e-01  \n",
      "75%    8.848805e-01  \n",
      "max    1.091276e+00  \n",
      "            INDUS          RM         TAX     PTRATIO       LSTAT         AGE\n",
      "count  102.000000  102.000000  102.000000  102.000000  102.000000  102.000000\n",
      "mean    -0.095313    0.009249    0.157178    0.084297    0.004245   -0.086532\n",
      "std      0.981513    0.775019    1.037789    0.943252    1.007689    0.967158\n",
      "min     -1.422757   -2.257406   -1.292381   -2.656576   -1.277403   -2.087573\n",
      "25%     -0.884456   -0.467456   -0.675944   -0.464952   -0.756183   -0.962980\n",
      "50%     -0.454323   -0.140151   -0.361741    0.356907   -0.268590    0.089286\n",
      "75%      0.991794    0.467068    1.574350    0.813496    0.621127    0.862830\n",
      "max      2.391449    2.678082    1.843667    1.270084    3.099724    1.091276\n"
     ]
    }
   ],
   "source": [
    "print(inputs_train.describe())\n",
    "print(inputs_test.describe())"
   ]
  },
  {
   "cell_type": "code",
   "execution_count": 141,
   "metadata": {
    "scrolled": true
   },
   "outputs": [
    {
     "name": "stdout",
     "output_type": "stream",
     "text": [
      "count    404.000000\n",
      "mean      22.457921\n",
      "std        9.329800\n",
      "min        5.000000\n",
      "25%       16.500000\n",
      "50%       21.300000\n",
      "75%       25.000000\n",
      "max       50.000000\n",
      "Name: MEDV, dtype: float64\n",
      "count    102.000000\n",
      "mean      22.829412\n",
      "std        8.689274\n",
      "min        5.000000\n",
      "25%       18.350000\n",
      "50%       21.050000\n",
      "75%       24.925000\n",
      "max       50.000000\n",
      "Name: MEDV, dtype: float64\n"
     ]
    }
   ],
   "source": [
    "print(outputs_train.describe())\n",
    "print(outputs_test.describe())"
   ]
  },
  {
   "cell_type": "code",
   "execution_count": 142,
   "metadata": {
    "collapsed": true,
    "jupyter": {
     "outputs_hidden": true
    }
   },
   "outputs": [
    {
     "data": {
      "text/plain": [
       "INDUS      0.382145\n",
       "RM        -0.697374\n",
       "TAX       -0.738543\n",
       "PTRATIO   -1.109104\n",
       "LSTAT      0.420727\n",
       "AGE       -0.415865\n",
       "Name: 297, dtype: float64"
      ]
     },
     "execution_count": 142,
     "metadata": {},
     "output_type": "execute_result"
    }
   ],
   "source": [
    "inputs_test.iloc[0]"
   ]
  },
  {
   "cell_type": "markdown",
   "metadata": {},
   "source": [
    "### Build Neural Network"
   ]
  },
  {
   "cell_type": "markdown",
   "metadata": {
    "jupyter": {
     "source_hidden": true
    }
   },
   "source": [
    "*** https://towardsdatascience.com/activation-functions-and-its-types-which-is-better-a9a5310cc8f\n"
   ]
  },
  {
   "cell_type": "code",
   "execution_count": 199,
   "metadata": {},
   "outputs": [
    {
     "name": "stdout",
     "output_type": "stream",
     "text": [
      "Model: \"sequential_21\"\n",
      "_________________________________________________________________\n",
      "Layer (type)                 Output Shape              Param #   \n",
      "=================================================================\n",
      "dense_77 (Dense)             (None, 300)               2100      \n",
      "_________________________________________________________________\n",
      "dense_78 (Dense)             (None, 200)               60200     \n",
      "_________________________________________________________________\n",
      "dense_79 (Dense)             (None, 100)               20100     \n",
      "_________________________________________________________________\n",
      "dense_80 (Dense)             (None, 1)                 101       \n",
      "=================================================================\n",
      "Total params: 82,501\n",
      "Trainable params: 82,501\n",
      "Non-trainable params: 0\n",
      "_________________________________________________________________\n"
     ]
    }
   ],
   "source": [
    "# Create a new neural network.\n",
    "from keras.models import Sequential\n",
    "from keras.layers import Dense\n",
    "\n",
    "model = Sequential() \n",
    "\n",
    "model.add(Dense(units=300, activation='relu', input_dim=6))\n",
    "model.add(Dense(units=200, activation='relu'))\n",
    "model.add(Dense(units=100, activation='relu'))\n",
    "model.add(Dense(units=1, activation='softmax'))\n",
    "\n",
    "model.compile(loss='mean_squared_error', optimizer='adam', metrics=['accuracy'])\n",
    "\n",
    "model.summary()"
   ]
  },
  {
   "cell_type": "code",
   "execution_count": 200,
   "metadata": {},
   "outputs": [
    {
     "data": {
      "text/plain": [
       "INDUS       10.590\n",
       "RM           5.404\n",
       "TAX        277.000\n",
       "PTRATIO     18.600\n",
       "LSTAT       23.980\n",
       "AGE         88.600\n",
       "Name: 211, dtype: float64"
      ]
     },
     "execution_count": 200,
     "metadata": {},
     "output_type": "execute_result"
    }
   ],
   "source": [
    "inputs_test.iloc[0]"
   ]
  },
  {
   "cell_type": "code",
   "execution_count": 197,
   "metadata": {},
   "outputs": [
    {
     "name": "stderr",
     "output_type": "stream",
     "text": [
      "C:\\Users\\Peter\\AppData\\Local\\Continuum\\anaconda3\\lib\\site-packages\\ipykernel_launcher.py:1: FutureWarning: Method .as_matrix will be removed in a future version. Use .values instead.\n",
      "  \"\"\"Entry point for launching an IPython kernel.\n"
     ]
    },
    {
     "data": {
      "text/plain": [
       "array([[1.]], dtype=float32)"
      ]
     },
     "execution_count": 197,
     "metadata": {},
     "output_type": "execute_result"
    }
   ],
   "source": [
    "prediction = model.predict(inputs_test.as_matrix()[0:1])\n",
    "prediction"
   ]
  },
  {
   "cell_type": "markdown",
   "metadata": {},
   "source": [
    "### Training"
   ]
  },
  {
   "cell_type": "markdown",
   "metadata": {},
   "source": [
    "Now we must train the neural network."
   ]
  },
  {
   "cell_type": "code",
   "execution_count": 198,
   "metadata": {},
   "outputs": [
    {
     "name": "stdout",
     "output_type": "stream",
     "text": [
      "Epoch 1/100\n",
      "404/404 [==============================] - 1s 2ms/step - loss: 578.1646 - accuracy: 0.0000e+00\n",
      "Epoch 2/100\n",
      "404/404 [==============================] - 0s 157us/step - loss: 578.1646 - accuracy: 0.0000e+00\n",
      "Epoch 3/100\n",
      "404/404 [==============================] - 0s 146us/step - loss: 578.1646 - accuracy: 0.0000e+00\n",
      "Epoch 4/100\n",
      "404/404 [==============================] - 0s 158us/step - loss: 578.1646 - accuracy: 0.0000e+00\n",
      "Epoch 5/100\n",
      "404/404 [==============================] - 0s 152us/step - loss: 578.1646 - accuracy: 0.0000e+00\n",
      "Epoch 6/100\n",
      "404/404 [==============================] - 0s 141us/step - loss: 578.1646 - accuracy: 0.0000e+00\n",
      "Epoch 7/100\n",
      "404/404 [==============================] - 0s 151us/step - loss: 578.1646 - accuracy: 0.0000e+00\n",
      "Epoch 8/100\n",
      "404/404 [==============================] - 0s 127us/step - loss: 578.1646 - accuracy: 0.0000e+00\n",
      "Epoch 9/100\n",
      "404/404 [==============================] - 0s 136us/step - loss: 578.1646 - accuracy: 0.0000e+00\n",
      "Epoch 10/100\n",
      "404/404 [==============================] - 0s 134us/step - loss: 578.1646 - accuracy: 0.0000e+00\n",
      "Epoch 11/100\n",
      "404/404 [==============================] - 0s 139us/step - loss: 578.1646 - accuracy: 0.0000e+00\n",
      "Epoch 12/100\n",
      "404/404 [==============================] - 0s 134us/step - loss: 578.1646 - accuracy: 0.0000e+00\n",
      "Epoch 13/100\n",
      "404/404 [==============================] - 0s 136us/step - loss: 578.1646 - accuracy: 0.0000e+00\n",
      "Epoch 14/100\n",
      "404/404 [==============================] - 0s 136us/step - loss: 578.1646 - accuracy: 0.0000e+00\n",
      "Epoch 15/100\n",
      "404/404 [==============================] - 0s 129us/step - loss: 578.1646 - accuracy: 0.0000e+00\n",
      "Epoch 16/100\n",
      "404/404 [==============================] - 0s 134us/step - loss: 578.1646 - accuracy: 0.0000e+00\n",
      "Epoch 17/100\n",
      "404/404 [==============================] - 0s 137us/step - loss: 578.1646 - accuracy: 0.0000e+00\n",
      "Epoch 18/100\n",
      "404/404 [==============================] - 0s 139us/step - loss: 578.1646 - accuracy: 0.0000e+00\n",
      "Epoch 19/100\n",
      "404/404 [==============================] - 0s 137us/step - loss: 578.1646 - accuracy: 0.0000e+00\n",
      "Epoch 20/100\n",
      "404/404 [==============================] - 0s 131us/step - loss: 578.1646 - accuracy: 0.0000e+00\n",
      "Epoch 21/100\n",
      "404/404 [==============================] - 0s 126us/step - loss: 578.1646 - accuracy: 0.0000e+00\n",
      "Epoch 22/100\n",
      "404/404 [==============================] - 0s 129us/step - loss: 578.1646 - accuracy: 0.0000e+00\n",
      "Epoch 23/100\n",
      "404/404 [==============================] - 0s 141us/step - loss: 578.1646 - accuracy: 0.0000e+00\n",
      "Epoch 24/100\n",
      "404/404 [==============================] - 0s 122us/step - loss: 578.1646 - accuracy: 0.0000e+00\n",
      "Epoch 25/100\n",
      "404/404 [==============================] - 0s 134us/step - loss: 578.1646 - accuracy: 0.0000e+00\n",
      "Epoch 26/100\n",
      "404/404 [==============================] - 0s 127us/step - loss: 578.1646 - accuracy: 0.0000e+00\n",
      "Epoch 27/100\n",
      "404/404 [==============================] - 0s 129us/step - loss: 578.1646 - accuracy: 0.0000e+00\n",
      "Epoch 28/100\n",
      "404/404 [==============================] - 0s 135us/step - loss: 578.1646 - accuracy: 0.0000e+00\n",
      "Epoch 29/100\n",
      "404/404 [==============================] - 0s 134us/step - loss: 578.1646 - accuracy: 0.0000e+00\n",
      "Epoch 30/100\n",
      "404/404 [==============================] - 0s 129us/step - loss: 578.1646 - accuracy: 0.0000e+00\n",
      "Epoch 31/100\n",
      "404/404 [==============================] - 0s 129us/step - loss: 578.1646 - accuracy: 0.0000e+00\n",
      "Epoch 32/100\n",
      "404/404 [==============================] - 0s 118us/step - loss: 578.1646 - accuracy: 0.0000e+00\n",
      "Epoch 33/100\n",
      "404/404 [==============================] - 0s 129us/step - loss: 578.1646 - accuracy: 0.0000e+00\n",
      "Epoch 34/100\n",
      "404/404 [==============================] - 0s 130us/step - loss: 578.1646 - accuracy: 0.0000e+00\n",
      "Epoch 35/100\n",
      "404/404 [==============================] - 0s 124us/step - loss: 578.1646 - accuracy: 0.0000e+00\n",
      "Epoch 36/100\n",
      "404/404 [==============================] - 0s 132us/step - loss: 578.1646 - accuracy: 0.0000e+00\n",
      "Epoch 37/100\n",
      "404/404 [==============================] - 0s 127us/step - loss: 578.1646 - accuracy: 0.0000e+00\n",
      "Epoch 38/100\n",
      "404/404 [==============================] - 0s 198us/step - loss: 578.1646 - accuracy: 0.0000e+00\n",
      "Epoch 39/100\n",
      "404/404 [==============================] - 0s 131us/step - loss: 578.1646 - accuracy: 0.0000e+00\n",
      "Epoch 40/100\n",
      "404/404 [==============================] - 0s 132us/step - loss: 578.1646 - accuracy: 0.0000e+00\n",
      "Epoch 41/100\n",
      "404/404 [==============================] - 0s 148us/step - loss: 578.1646 - accuracy: 0.0000e+00\n",
      "Epoch 42/100\n",
      "404/404 [==============================] - 0s 134us/step - loss: 578.1646 - accuracy: 0.0000e+00\n",
      "Epoch 43/100\n",
      "404/404 [==============================] - 0s 142us/step - loss: 578.1646 - accuracy: 0.0000e+00\n",
      "Epoch 44/100\n",
      "404/404 [==============================] - 0s 121us/step - loss: 578.1646 - accuracy: 0.0000e+00\n",
      "Epoch 45/100\n",
      "404/404 [==============================] - 0s 122us/step - loss: 578.1646 - accuracy: 0.0000e+00\n",
      "Epoch 46/100\n",
      "404/404 [==============================] - 0s 119us/step - loss: 578.1646 - accuracy: 0.0000e+00\n",
      "Epoch 47/100\n",
      "404/404 [==============================] - 0s 142us/step - loss: 578.1646 - accuracy: 0.0000e+00\n",
      "Epoch 48/100\n",
      "404/404 [==============================] - 0s 130us/step - loss: 578.1646 - accuracy: 0.0000e+00\n",
      "Epoch 49/100\n",
      "404/404 [==============================] - 0s 129us/step - loss: 578.1646 - accuracy: 0.0000e+00\n",
      "Epoch 50/100\n",
      "404/404 [==============================] - 0s 124us/step - loss: 578.1646 - accuracy: 0.0000e+00\n",
      "Epoch 51/100\n",
      "404/404 [==============================] - 0s 124us/step - loss: 578.1646 - accuracy: 0.0000e+00\n",
      "Epoch 52/100\n",
      "404/404 [==============================] - 0s 127us/step - loss: 578.1646 - accuracy: 0.0000e+00\n",
      "Epoch 53/100\n",
      "404/404 [==============================] - 0s 121us/step - loss: 578.1646 - accuracy: 0.0000e+00\n",
      "Epoch 54/100\n",
      "404/404 [==============================] - 0s 127us/step - loss: 578.1646 - accuracy: 0.0000e+00\n",
      "Epoch 55/100\n",
      "404/404 [==============================] - 0s 124us/step - loss: 578.1646 - accuracy: 0.0000e+00\n",
      "Epoch 56/100\n",
      "404/404 [==============================] - 0s 119us/step - loss: 578.1646 - accuracy: 0.0000e+00\n",
      "Epoch 57/100\n",
      "404/404 [==============================] - 0s 124us/step - loss: 578.1646 - accuracy: 0.0000e+00\n",
      "Epoch 58/100\n",
      "404/404 [==============================] - 0s 126us/step - loss: 578.1646 - accuracy: 0.0000e+00\n",
      "Epoch 59/100\n",
      "404/404 [==============================] - 0s 127us/step - loss: 578.1646 - accuracy: 0.0000e+00\n",
      "Epoch 60/100\n",
      "404/404 [==============================] - 0s 122us/step - loss: 578.1646 - accuracy: 0.0000e+00\n",
      "Epoch 61/100\n",
      "404/404 [==============================] - 0s 131us/step - loss: 578.1646 - accuracy: 0.0000e+00\n",
      "Epoch 62/100\n",
      "404/404 [==============================] - 0s 121us/step - loss: 578.1646 - accuracy: 0.0000e+00\n",
      "Epoch 63/100\n",
      "404/404 [==============================] - 0s 122us/step - loss: 578.1646 - accuracy: 0.0000e+00\n",
      "Epoch 64/100\n",
      "404/404 [==============================] - 0s 126us/step - loss: 578.1646 - accuracy: 0.0000e+00\n",
      "Epoch 65/100\n",
      "404/404 [==============================] - 0s 122us/step - loss: 578.1646 - accuracy: 0.0000e+00\n",
      "Epoch 66/100\n",
      "404/404 [==============================] - 0s 138us/step - loss: 578.1646 - accuracy: 0.0000e+00\n",
      "Epoch 67/100\n",
      "404/404 [==============================] - 0s 134us/step - loss: 578.1646 - accuracy: 0.0000e+00\n",
      "Epoch 68/100\n",
      "404/404 [==============================] - 0s 129us/step - loss: 578.1646 - accuracy: 0.0000e+00\n",
      "Epoch 69/100\n",
      "404/404 [==============================] - 0s 125us/step - loss: 578.1646 - accuracy: 0.0000e+00\n",
      "Epoch 70/100\n",
      "404/404 [==============================] - 0s 123us/step - loss: 578.1646 - accuracy: 0.0000e+00\n",
      "Epoch 71/100\n",
      "404/404 [==============================] - 0s 128us/step - loss: 578.1646 - accuracy: 0.0000e+00\n",
      "Epoch 72/100\n",
      "404/404 [==============================] - 0s 129us/step - loss: 578.1646 - accuracy: 0.0000e+00\n",
      "Epoch 73/100\n",
      "404/404 [==============================] - 0s 121us/step - loss: 578.1646 - accuracy: 0.0000e+00\n",
      "Epoch 74/100\n",
      "404/404 [==============================] - 0s 139us/step - loss: 578.1646 - accuracy: 0.0000e+00\n",
      "Epoch 75/100\n",
      "404/404 [==============================] - 0s 129us/step - loss: 578.1646 - accuracy: 0.0000e+00\n",
      "Epoch 76/100\n",
      "404/404 [==============================] - 0s 122us/step - loss: 578.1646 - accuracy: 0.0000e+00\n",
      "Epoch 77/100\n",
      "404/404 [==============================] - 0s 124us/step - loss: 578.1646 - accuracy: 0.0000e+00\n",
      "Epoch 78/100\n",
      "404/404 [==============================] - 0s 122us/step - loss: 578.1646 - accuracy: 0.0000e+00\n",
      "Epoch 79/100\n",
      "404/404 [==============================] - 0s 124us/step - loss: 578.1646 - accuracy: 0.0000e+00\n",
      "Epoch 80/100\n",
      "404/404 [==============================] - 0s 126us/step - loss: 578.1646 - accuracy: 0.0000e+00\n",
      "Epoch 81/100\n",
      "404/404 [==============================] - 0s 122us/step - loss: 578.1646 - accuracy: 0.0000e+00\n",
      "Epoch 82/100\n",
      "404/404 [==============================] - 0s 130us/step - loss: 578.1646 - accuracy: 0.0000e+00\n",
      "Epoch 83/100\n",
      "404/404 [==============================] - 0s 123us/step - loss: 578.1646 - accuracy: 0.0000e+00\n",
      "Epoch 84/100\n",
      "404/404 [==============================] - 0s 140us/step - loss: 578.1646 - accuracy: 0.0000e+00\n",
      "Epoch 85/100\n",
      "404/404 [==============================] - 0s 132us/step - loss: 578.1646 - accuracy: 0.0000e+00\n",
      "Epoch 86/100\n",
      "404/404 [==============================] - 0s 131us/step - loss: 578.1646 - accuracy: 0.0000e+00\n",
      "Epoch 87/100\n",
      "404/404 [==============================] - 0s 137us/step - loss: 578.1646 - accuracy: 0.0000e+00\n",
      "Epoch 88/100\n",
      "404/404 [==============================] - 0s 156us/step - loss: 578.1646 - accuracy: 0.0000e+00\n",
      "Epoch 89/100\n",
      "404/404 [==============================] - 0s 129us/step - loss: 578.1646 - accuracy: 0.0000e+00\n",
      "Epoch 90/100\n",
      "404/404 [==============================] - 0s 169us/step - loss: 578.1646 - accuracy: 0.0000e+00\n",
      "Epoch 91/100\n",
      "404/404 [==============================] - 0s 121us/step - loss: 578.1646 - accuracy: 0.0000e+00\n",
      "Epoch 92/100\n",
      "404/404 [==============================] - 0s 137us/step - loss: 578.1646 - accuracy: 0.0000e+00\n",
      "Epoch 93/100\n",
      "404/404 [==============================] - 0s 130us/step - loss: 578.1646 - accuracy: 0.0000e+00\n",
      "Epoch 94/100\n",
      "404/404 [==============================] - 0s 137us/step - loss: 578.1646 - accuracy: 0.0000e+00\n",
      "Epoch 95/100\n",
      "404/404 [==============================] - 0s 132us/step - loss: 578.1646 - accuracy: 0.0000e+00\n",
      "Epoch 96/100\n",
      "404/404 [==============================] - 0s 136us/step - loss: 578.1646 - accuracy: 0.0000e+00\n",
      "Epoch 97/100\n",
      "404/404 [==============================] - 0s 127us/step - loss: 578.1646 - accuracy: 0.0000e+00\n",
      "Epoch 98/100\n",
      "404/404 [==============================] - 0s 126us/step - loss: 578.1646 - accuracy: 0.0000e+00\n",
      "Epoch 99/100\n",
      "404/404 [==============================] - 0s 129us/step - loss: 578.1646 - accuracy: 0.0000e+00\n",
      "Epoch 100/100\n",
      "404/404 [==============================] - 0s 122us/step - loss: 578.1646 - accuracy: 0.0000e+00\n"
     ]
    },
    {
     "data": {
      "text/plain": [
       "<keras.callbacks.callbacks.History at 0x186802ec688>"
      ]
     },
     "execution_count": 198,
     "metadata": {},
     "output_type": "execute_result"
    }
   ],
   "source": [
    "model.fit(inputs_train, outputs_train, epochs=100)"
   ]
  },
  {
   "cell_type": "code",
   "execution_count": null,
   "metadata": {},
   "outputs": [],
   "source": []
  }
 ],
 "metadata": {
  "kernelspec": {
   "display_name": "Python 3",
   "language": "python",
   "name": "python3"
  },
  "language_info": {
   "codemirror_mode": {
    "name": "ipython",
    "version": 3
   },
   "file_extension": ".py",
   "mimetype": "text/x-python",
   "name": "python",
   "nbconvert_exporter": "python",
   "pygments_lexer": "ipython3",
   "version": "3.7.5"
  }
 },
 "nbformat": 4,
 "nbformat_minor": 4
}
