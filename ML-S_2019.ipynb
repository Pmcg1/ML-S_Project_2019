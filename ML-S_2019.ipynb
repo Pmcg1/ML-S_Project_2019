{
 "cells": [
  {
   "cell_type": "markdown",
   "metadata": {},
   "source": [
    "# Machine Learning & Statistics Project 2019"
   ]
  },
  {
   "cell_type": "markdown",
   "metadata": {},
   "source": [
    "Peter McGowan\n",
    "G00190832"
   ]
  },
  {
   "cell_type": "markdown",
   "metadata": {},
   "source": [
    "## Introduction\n",
    "This jupyter notebook contains an investigation of the Boston House Prices dataset for the \"Machine-Learnign and Statistics Module on the GMIT HDip in Data Analytics."
   ]
  },
  {
   "cell_type": "markdown",
   "metadata": {},
   "source": [
    "## Background\n",
    "***Add background info here***"
   ]
  },
  {
   "cell_type": "markdown",
   "metadata": {},
   "source": [
    "## Starting Off\n",
    "First we will import the required python libraries."
   ]
  },
  {
   "cell_type": "code",
   "execution_count": 1,
   "metadata": {},
   "outputs": [],
   "source": [
    "# Import pandas for managing data\n",
    "# Import scipy.stats for statistical analysis\n",
    "# Impost keras for working with neural networks\n",
    "# Import matplotlib.pyplot and seaborn for visualisations\n",
    "import pandas as pd\n",
    "import scipy.stats as ss\n",
    "import statsmodels.stats.weightstats as ws\n",
    "#import keras as k\n",
    "import matplotlib.pyplot as plt\n",
    "import seaborn as sns\n",
    "#from keras.models import Sequential"
   ]
  },
  {
   "cell_type": "markdown",
   "metadata": {},
   "source": [
    "scikit-learn conveniently provides the Boston House Prices dataset - we will now load it."
   ]
  },
  {
   "cell_type": "markdown",
   "metadata": {},
   "source": [
    "** change this to import from keras?"
   ]
  },
  {
   "cell_type": "code",
   "execution_count": 2,
   "metadata": {},
   "outputs": [],
   "source": [
    "# Load the boston dataset from sklearn\n",
    "from sklearn.datasets import load_boston\n",
    "boston = load_boston()"
   ]
  },
  {
   "cell_type": "markdown",
   "metadata": {},
   "source": [
    "Check the keys of the dataset #Research this"
   ]
  },
  {
   "cell_type": "code",
   "execution_count": 3,
   "metadata": {},
   "outputs": [
    {
     "name": "stdout",
     "output_type": "stream",
     "text": [
      "dict_keys(['data', 'target', 'feature_names', 'DESCR', 'filename'])\n"
     ]
    }
   ],
   "source": [
    "print(boston.keys())"
   ]
  },
  {
   "cell_type": "markdown",
   "metadata": {},
   "source": [
    "The pandas library includes a versatile \"dataframe\" object - an indexed array that helps with managing multi-dimensional data."
   ]
  },
  {
   "cell_type": "code",
   "execution_count": 4,
   "metadata": {},
   "outputs": [],
   "source": [
    "# Create a dataframe from the boston house prices dataset\"\n",
    "df = pd.DataFrame(boston.data, columns=boston.feature_names)"
   ]
  },
  {
   "cell_type": "markdown",
   "metadata": {},
   "source": [
    "## Describe"
   ]
  },
  {
   "cell_type": "markdown",
   "metadata": {},
   "source": [
    "### Checks & Descriptive Statistics"
   ]
  },
  {
   "cell_type": "markdown",
   "metadata": {},
   "source": [
    "We'll have a look at the head and tail of the data first of all to check for any obvious issues"
   ]
  },
  {
   "cell_type": "code",
   "execution_count": 5,
   "metadata": {},
   "outputs": [
    {
     "data": {
      "text/html": [
       "<div>\n",
       "<style scoped>\n",
       "    .dataframe tbody tr th:only-of-type {\n",
       "        vertical-align: middle;\n",
       "    }\n",
       "\n",
       "    .dataframe tbody tr th {\n",
       "        vertical-align: top;\n",
       "    }\n",
       "\n",
       "    .dataframe thead th {\n",
       "        text-align: right;\n",
       "    }\n",
       "</style>\n",
       "<table border=\"1\" class=\"dataframe\">\n",
       "  <thead>\n",
       "    <tr style=\"text-align: right;\">\n",
       "      <th></th>\n",
       "      <th>CRIM</th>\n",
       "      <th>ZN</th>\n",
       "      <th>INDUS</th>\n",
       "      <th>CHAS</th>\n",
       "      <th>NOX</th>\n",
       "      <th>RM</th>\n",
       "      <th>AGE</th>\n",
       "      <th>DIS</th>\n",
       "      <th>RAD</th>\n",
       "      <th>TAX</th>\n",
       "      <th>PTRATIO</th>\n",
       "      <th>B</th>\n",
       "      <th>LSTAT</th>\n",
       "    </tr>\n",
       "  </thead>\n",
       "  <tbody>\n",
       "    <tr>\n",
       "      <th>0</th>\n",
       "      <td>0.00632</td>\n",
       "      <td>18.0</td>\n",
       "      <td>2.31</td>\n",
       "      <td>0.0</td>\n",
       "      <td>0.538</td>\n",
       "      <td>6.575</td>\n",
       "      <td>65.2</td>\n",
       "      <td>4.0900</td>\n",
       "      <td>1.0</td>\n",
       "      <td>296.0</td>\n",
       "      <td>15.3</td>\n",
       "      <td>396.90</td>\n",
       "      <td>4.98</td>\n",
       "    </tr>\n",
       "    <tr>\n",
       "      <th>1</th>\n",
       "      <td>0.02731</td>\n",
       "      <td>0.0</td>\n",
       "      <td>7.07</td>\n",
       "      <td>0.0</td>\n",
       "      <td>0.469</td>\n",
       "      <td>6.421</td>\n",
       "      <td>78.9</td>\n",
       "      <td>4.9671</td>\n",
       "      <td>2.0</td>\n",
       "      <td>242.0</td>\n",
       "      <td>17.8</td>\n",
       "      <td>396.90</td>\n",
       "      <td>9.14</td>\n",
       "    </tr>\n",
       "    <tr>\n",
       "      <th>2</th>\n",
       "      <td>0.02729</td>\n",
       "      <td>0.0</td>\n",
       "      <td>7.07</td>\n",
       "      <td>0.0</td>\n",
       "      <td>0.469</td>\n",
       "      <td>7.185</td>\n",
       "      <td>61.1</td>\n",
       "      <td>4.9671</td>\n",
       "      <td>2.0</td>\n",
       "      <td>242.0</td>\n",
       "      <td>17.8</td>\n",
       "      <td>392.83</td>\n",
       "      <td>4.03</td>\n",
       "    </tr>\n",
       "    <tr>\n",
       "      <th>3</th>\n",
       "      <td>0.03237</td>\n",
       "      <td>0.0</td>\n",
       "      <td>2.18</td>\n",
       "      <td>0.0</td>\n",
       "      <td>0.458</td>\n",
       "      <td>6.998</td>\n",
       "      <td>45.8</td>\n",
       "      <td>6.0622</td>\n",
       "      <td>3.0</td>\n",
       "      <td>222.0</td>\n",
       "      <td>18.7</td>\n",
       "      <td>394.63</td>\n",
       "      <td>2.94</td>\n",
       "    </tr>\n",
       "    <tr>\n",
       "      <th>4</th>\n",
       "      <td>0.06905</td>\n",
       "      <td>0.0</td>\n",
       "      <td>2.18</td>\n",
       "      <td>0.0</td>\n",
       "      <td>0.458</td>\n",
       "      <td>7.147</td>\n",
       "      <td>54.2</td>\n",
       "      <td>6.0622</td>\n",
       "      <td>3.0</td>\n",
       "      <td>222.0</td>\n",
       "      <td>18.7</td>\n",
       "      <td>396.90</td>\n",
       "      <td>5.33</td>\n",
       "    </tr>\n",
       "  </tbody>\n",
       "</table>\n",
       "</div>"
      ],
      "text/plain": [
       "      CRIM    ZN  INDUS  CHAS    NOX     RM   AGE     DIS  RAD    TAX  \\\n",
       "0  0.00632  18.0   2.31   0.0  0.538  6.575  65.2  4.0900  1.0  296.0   \n",
       "1  0.02731   0.0   7.07   0.0  0.469  6.421  78.9  4.9671  2.0  242.0   \n",
       "2  0.02729   0.0   7.07   0.0  0.469  7.185  61.1  4.9671  2.0  242.0   \n",
       "3  0.03237   0.0   2.18   0.0  0.458  6.998  45.8  6.0622  3.0  222.0   \n",
       "4  0.06905   0.0   2.18   0.0  0.458  7.147  54.2  6.0622  3.0  222.0   \n",
       "\n",
       "   PTRATIO       B  LSTAT  \n",
       "0     15.3  396.90   4.98  \n",
       "1     17.8  396.90   9.14  \n",
       "2     17.8  392.83   4.03  \n",
       "3     18.7  394.63   2.94  \n",
       "4     18.7  396.90   5.33  "
      ]
     },
     "execution_count": 5,
     "metadata": {},
     "output_type": "execute_result"
    }
   ],
   "source": [
    "df.head()"
   ]
  },
  {
   "cell_type": "code",
   "execution_count": 6,
   "metadata": {},
   "outputs": [
    {
     "data": {
      "text/html": [
       "<div>\n",
       "<style scoped>\n",
       "    .dataframe tbody tr th:only-of-type {\n",
       "        vertical-align: middle;\n",
       "    }\n",
       "\n",
       "    .dataframe tbody tr th {\n",
       "        vertical-align: top;\n",
       "    }\n",
       "\n",
       "    .dataframe thead th {\n",
       "        text-align: right;\n",
       "    }\n",
       "</style>\n",
       "<table border=\"1\" class=\"dataframe\">\n",
       "  <thead>\n",
       "    <tr style=\"text-align: right;\">\n",
       "      <th></th>\n",
       "      <th>CRIM</th>\n",
       "      <th>ZN</th>\n",
       "      <th>INDUS</th>\n",
       "      <th>CHAS</th>\n",
       "      <th>NOX</th>\n",
       "      <th>RM</th>\n",
       "      <th>AGE</th>\n",
       "      <th>DIS</th>\n",
       "      <th>RAD</th>\n",
       "      <th>TAX</th>\n",
       "      <th>PTRATIO</th>\n",
       "      <th>B</th>\n",
       "      <th>LSTAT</th>\n",
       "    </tr>\n",
       "  </thead>\n",
       "  <tbody>\n",
       "    <tr>\n",
       "      <th>501</th>\n",
       "      <td>0.06263</td>\n",
       "      <td>0.0</td>\n",
       "      <td>11.93</td>\n",
       "      <td>0.0</td>\n",
       "      <td>0.573</td>\n",
       "      <td>6.593</td>\n",
       "      <td>69.1</td>\n",
       "      <td>2.4786</td>\n",
       "      <td>1.0</td>\n",
       "      <td>273.0</td>\n",
       "      <td>21.0</td>\n",
       "      <td>391.99</td>\n",
       "      <td>9.67</td>\n",
       "    </tr>\n",
       "    <tr>\n",
       "      <th>502</th>\n",
       "      <td>0.04527</td>\n",
       "      <td>0.0</td>\n",
       "      <td>11.93</td>\n",
       "      <td>0.0</td>\n",
       "      <td>0.573</td>\n",
       "      <td>6.120</td>\n",
       "      <td>76.7</td>\n",
       "      <td>2.2875</td>\n",
       "      <td>1.0</td>\n",
       "      <td>273.0</td>\n",
       "      <td>21.0</td>\n",
       "      <td>396.90</td>\n",
       "      <td>9.08</td>\n",
       "    </tr>\n",
       "    <tr>\n",
       "      <th>503</th>\n",
       "      <td>0.06076</td>\n",
       "      <td>0.0</td>\n",
       "      <td>11.93</td>\n",
       "      <td>0.0</td>\n",
       "      <td>0.573</td>\n",
       "      <td>6.976</td>\n",
       "      <td>91.0</td>\n",
       "      <td>2.1675</td>\n",
       "      <td>1.0</td>\n",
       "      <td>273.0</td>\n",
       "      <td>21.0</td>\n",
       "      <td>396.90</td>\n",
       "      <td>5.64</td>\n",
       "    </tr>\n",
       "    <tr>\n",
       "      <th>504</th>\n",
       "      <td>0.10959</td>\n",
       "      <td>0.0</td>\n",
       "      <td>11.93</td>\n",
       "      <td>0.0</td>\n",
       "      <td>0.573</td>\n",
       "      <td>6.794</td>\n",
       "      <td>89.3</td>\n",
       "      <td>2.3889</td>\n",
       "      <td>1.0</td>\n",
       "      <td>273.0</td>\n",
       "      <td>21.0</td>\n",
       "      <td>393.45</td>\n",
       "      <td>6.48</td>\n",
       "    </tr>\n",
       "    <tr>\n",
       "      <th>505</th>\n",
       "      <td>0.04741</td>\n",
       "      <td>0.0</td>\n",
       "      <td>11.93</td>\n",
       "      <td>0.0</td>\n",
       "      <td>0.573</td>\n",
       "      <td>6.030</td>\n",
       "      <td>80.8</td>\n",
       "      <td>2.5050</td>\n",
       "      <td>1.0</td>\n",
       "      <td>273.0</td>\n",
       "      <td>21.0</td>\n",
       "      <td>396.90</td>\n",
       "      <td>7.88</td>\n",
       "    </tr>\n",
       "  </tbody>\n",
       "</table>\n",
       "</div>"
      ],
      "text/plain": [
       "        CRIM   ZN  INDUS  CHAS    NOX     RM   AGE     DIS  RAD    TAX  \\\n",
       "501  0.06263  0.0  11.93   0.0  0.573  6.593  69.1  2.4786  1.0  273.0   \n",
       "502  0.04527  0.0  11.93   0.0  0.573  6.120  76.7  2.2875  1.0  273.0   \n",
       "503  0.06076  0.0  11.93   0.0  0.573  6.976  91.0  2.1675  1.0  273.0   \n",
       "504  0.10959  0.0  11.93   0.0  0.573  6.794  89.3  2.3889  1.0  273.0   \n",
       "505  0.04741  0.0  11.93   0.0  0.573  6.030  80.8  2.5050  1.0  273.0   \n",
       "\n",
       "     PTRATIO       B  LSTAT  \n",
       "501     21.0  391.99   9.67  \n",
       "502     21.0  396.90   9.08  \n",
       "503     21.0  396.90   5.64  \n",
       "504     21.0  393.45   6.48  \n",
       "505     21.0  396.90   7.88  "
      ]
     },
     "execution_count": 6,
     "metadata": {},
     "output_type": "execute_result"
    }
   ],
   "source": [
    "df.tail()"
   ]
  },
  {
   "cell_type": "markdown",
   "metadata": {},
   "source": [
    "We shoud check also for missing values:"
   ]
  },
  {
   "cell_type": "code",
   "execution_count": 7,
   "metadata": {},
   "outputs": [
    {
     "data": {
      "text/plain": [
       "CRIM       0\n",
       "ZN         0\n",
       "INDUS      0\n",
       "CHAS       0\n",
       "NOX        0\n",
       "RM         0\n",
       "AGE        0\n",
       "DIS        0\n",
       "RAD        0\n",
       "TAX        0\n",
       "PTRATIO    0\n",
       "B          0\n",
       "LSTAT      0\n",
       "dtype: int64"
      ]
     },
     "execution_count": 7,
     "metadata": {},
     "output_type": "execute_result"
    }
   ],
   "source": [
    "df.isnull().sum()"
   ]
  },
  {
   "cell_type": "markdown",
   "metadata": {},
   "source": [
    "All seems to be in order so far.\n",
    "\n",
    "What do the column headers mean? We can use the following command to dive into it:"
   ]
  },
  {
   "cell_type": "code",
   "execution_count": 8,
   "metadata": {},
   "outputs": [
    {
     "name": "stdout",
     "output_type": "stream",
     "text": [
      ".. _boston_dataset:\n",
      "\n",
      "Boston house prices dataset\n",
      "---------------------------\n",
      "\n",
      "**Data Set Characteristics:**  \n",
      "\n",
      "    :Number of Instances: 506 \n",
      "\n",
      "    :Number of Attributes: 13 numeric/categorical predictive. Median Value (attribute 14) is usually the target.\n",
      "\n",
      "    :Attribute Information (in order):\n",
      "        - CRIM     per capita crime rate by town\n",
      "        - ZN       proportion of residential land zoned for lots over 25,000 sq.ft.\n",
      "        - INDUS    proportion of non-retail business acres per town\n",
      "        - CHAS     Charles River dummy variable (= 1 if tract bounds river; 0 otherwise)\n",
      "        - NOX      nitric oxides concentration (parts per 10 million)\n",
      "        - RM       average number of rooms per dwelling\n",
      "        - AGE      proportion of owner-occupied units built prior to 1940\n",
      "        - DIS      weighted distances to five Boston employment centres\n",
      "        - RAD      index of accessibility to radial highways\n",
      "        - TAX      full-value property-tax rate per $10,000\n",
      "        - PTRATIO  pupil-teacher ratio by town\n",
      "        - B        1000(Bk - 0.63)^2 where Bk is the proportion of blacks by town\n",
      "        - LSTAT    % lower status of the population\n",
      "        - MEDV     Median value of owner-occupied homes in $1000's\n",
      "\n",
      "    :Missing Attribute Values: None\n",
      "\n",
      "    :Creator: Harrison, D. and Rubinfeld, D.L.\n",
      "\n",
      "This is a copy of UCI ML housing dataset.\n",
      "https://archive.ics.uci.edu/ml/machine-learning-databases/housing/\n",
      "\n",
      "\n",
      "This dataset was taken from the StatLib library which is maintained at Carnegie Mellon University.\n",
      "\n",
      "The Boston house-price data of Harrison, D. and Rubinfeld, D.L. 'Hedonic\n",
      "prices and the demand for clean air', J. Environ. Economics & Management,\n",
      "vol.5, 81-102, 1978.   Used in Belsley, Kuh & Welsch, 'Regression diagnostics\n",
      "...', Wiley, 1980.   N.B. Various transformations are used in the table on\n",
      "pages 244-261 of the latter.\n",
      "\n",
      "The Boston house-price data has been used in many machine learning papers that address regression\n",
      "problems.   \n",
      "     \n",
      ".. topic:: References\n",
      "\n",
      "   - Belsley, Kuh & Welsch, 'Regression diagnostics: Identifying Influential Data and Sources of Collinearity', Wiley, 1980. 244-261.\n",
      "   - Quinlan,R. (1993). Combining Instance-Based and Model-Based Learning. In Proceedings on the Tenth International Conference of Machine Learning, 236-243, University of Massachusetts, Amherst. Morgan Kaufmann.\n",
      "\n"
     ]
    }
   ],
   "source": [
    "print(boston.DESCR)"
   ]
  },
  {
   "cell_type": "markdown",
   "metadata": {},
   "source": [
    "The MEDV column wasn't included in the earlier outputs.\n",
    "This is because scikit-learn assumes that you wish to use it as the 'target' of the dataset.\n",
    "We can check that its included:"
   ]
  },
  {
   "cell_type": "code",
   "execution_count": 9,
   "metadata": {},
   "outputs": [
    {
     "name": "stdout",
     "output_type": "stream",
     "text": [
      "(506,)\n"
     ]
    }
   ],
   "source": [
    "print(boston.target.shape)"
   ]
  },
  {
   "cell_type": "markdown",
   "metadata": {},
   "source": [
    "This matches the output of the DESCR command so it should be ok.\n",
    "Now we need to add it as a column to the dataframe to make our lives a bit easier later on."
   ]
  },
  {
   "cell_type": "code",
   "execution_count": 10,
   "metadata": {},
   "outputs": [],
   "source": [
    "df['MEDV'] = boston.target"
   ]
  },
  {
   "cell_type": "markdown",
   "metadata": {},
   "source": [
    "Now output the summary statistics of the dataframe to see how it looks:"
   ]
  },
  {
   "cell_type": "code",
   "execution_count": 11,
   "metadata": {},
   "outputs": [
    {
     "data": {
      "text/html": [
       "<div>\n",
       "<style scoped>\n",
       "    .dataframe tbody tr th:only-of-type {\n",
       "        vertical-align: middle;\n",
       "    }\n",
       "\n",
       "    .dataframe tbody tr th {\n",
       "        vertical-align: top;\n",
       "    }\n",
       "\n",
       "    .dataframe thead th {\n",
       "        text-align: right;\n",
       "    }\n",
       "</style>\n",
       "<table border=\"1\" class=\"dataframe\">\n",
       "  <thead>\n",
       "    <tr style=\"text-align: right;\">\n",
       "      <th></th>\n",
       "      <th>CRIM</th>\n",
       "      <th>ZN</th>\n",
       "      <th>INDUS</th>\n",
       "      <th>CHAS</th>\n",
       "      <th>NOX</th>\n",
       "      <th>RM</th>\n",
       "      <th>AGE</th>\n",
       "      <th>DIS</th>\n",
       "      <th>RAD</th>\n",
       "      <th>TAX</th>\n",
       "      <th>PTRATIO</th>\n",
       "      <th>B</th>\n",
       "      <th>LSTAT</th>\n",
       "      <th>MEDV</th>\n",
       "    </tr>\n",
       "  </thead>\n",
       "  <tbody>\n",
       "    <tr>\n",
       "      <th>count</th>\n",
       "      <td>506.000000</td>\n",
       "      <td>506.000000</td>\n",
       "      <td>506.000000</td>\n",
       "      <td>506.000000</td>\n",
       "      <td>506.000000</td>\n",
       "      <td>506.000000</td>\n",
       "      <td>506.000000</td>\n",
       "      <td>506.000000</td>\n",
       "      <td>506.000000</td>\n",
       "      <td>506.000000</td>\n",
       "      <td>506.000000</td>\n",
       "      <td>506.000000</td>\n",
       "      <td>506.000000</td>\n",
       "      <td>506.000000</td>\n",
       "    </tr>\n",
       "    <tr>\n",
       "      <th>mean</th>\n",
       "      <td>3.613524</td>\n",
       "      <td>11.363636</td>\n",
       "      <td>11.136779</td>\n",
       "      <td>0.069170</td>\n",
       "      <td>0.554695</td>\n",
       "      <td>6.284634</td>\n",
       "      <td>68.574901</td>\n",
       "      <td>3.795043</td>\n",
       "      <td>9.549407</td>\n",
       "      <td>408.237154</td>\n",
       "      <td>18.455534</td>\n",
       "      <td>356.674032</td>\n",
       "      <td>12.653063</td>\n",
       "      <td>22.532806</td>\n",
       "    </tr>\n",
       "    <tr>\n",
       "      <th>std</th>\n",
       "      <td>8.601545</td>\n",
       "      <td>23.322453</td>\n",
       "      <td>6.860353</td>\n",
       "      <td>0.253994</td>\n",
       "      <td>0.115878</td>\n",
       "      <td>0.702617</td>\n",
       "      <td>28.148861</td>\n",
       "      <td>2.105710</td>\n",
       "      <td>8.707259</td>\n",
       "      <td>168.537116</td>\n",
       "      <td>2.164946</td>\n",
       "      <td>91.294864</td>\n",
       "      <td>7.141062</td>\n",
       "      <td>9.197104</td>\n",
       "    </tr>\n",
       "    <tr>\n",
       "      <th>min</th>\n",
       "      <td>0.006320</td>\n",
       "      <td>0.000000</td>\n",
       "      <td>0.460000</td>\n",
       "      <td>0.000000</td>\n",
       "      <td>0.385000</td>\n",
       "      <td>3.561000</td>\n",
       "      <td>2.900000</td>\n",
       "      <td>1.129600</td>\n",
       "      <td>1.000000</td>\n",
       "      <td>187.000000</td>\n",
       "      <td>12.600000</td>\n",
       "      <td>0.320000</td>\n",
       "      <td>1.730000</td>\n",
       "      <td>5.000000</td>\n",
       "    </tr>\n",
       "    <tr>\n",
       "      <th>25%</th>\n",
       "      <td>0.082045</td>\n",
       "      <td>0.000000</td>\n",
       "      <td>5.190000</td>\n",
       "      <td>0.000000</td>\n",
       "      <td>0.449000</td>\n",
       "      <td>5.885500</td>\n",
       "      <td>45.025000</td>\n",
       "      <td>2.100175</td>\n",
       "      <td>4.000000</td>\n",
       "      <td>279.000000</td>\n",
       "      <td>17.400000</td>\n",
       "      <td>375.377500</td>\n",
       "      <td>6.950000</td>\n",
       "      <td>17.025000</td>\n",
       "    </tr>\n",
       "    <tr>\n",
       "      <th>50%</th>\n",
       "      <td>0.256510</td>\n",
       "      <td>0.000000</td>\n",
       "      <td>9.690000</td>\n",
       "      <td>0.000000</td>\n",
       "      <td>0.538000</td>\n",
       "      <td>6.208500</td>\n",
       "      <td>77.500000</td>\n",
       "      <td>3.207450</td>\n",
       "      <td>5.000000</td>\n",
       "      <td>330.000000</td>\n",
       "      <td>19.050000</td>\n",
       "      <td>391.440000</td>\n",
       "      <td>11.360000</td>\n",
       "      <td>21.200000</td>\n",
       "    </tr>\n",
       "    <tr>\n",
       "      <th>75%</th>\n",
       "      <td>3.677083</td>\n",
       "      <td>12.500000</td>\n",
       "      <td>18.100000</td>\n",
       "      <td>0.000000</td>\n",
       "      <td>0.624000</td>\n",
       "      <td>6.623500</td>\n",
       "      <td>94.075000</td>\n",
       "      <td>5.188425</td>\n",
       "      <td>24.000000</td>\n",
       "      <td>666.000000</td>\n",
       "      <td>20.200000</td>\n",
       "      <td>396.225000</td>\n",
       "      <td>16.955000</td>\n",
       "      <td>25.000000</td>\n",
       "    </tr>\n",
       "    <tr>\n",
       "      <th>max</th>\n",
       "      <td>88.976200</td>\n",
       "      <td>100.000000</td>\n",
       "      <td>27.740000</td>\n",
       "      <td>1.000000</td>\n",
       "      <td>0.871000</td>\n",
       "      <td>8.780000</td>\n",
       "      <td>100.000000</td>\n",
       "      <td>12.126500</td>\n",
       "      <td>24.000000</td>\n",
       "      <td>711.000000</td>\n",
       "      <td>22.000000</td>\n",
       "      <td>396.900000</td>\n",
       "      <td>37.970000</td>\n",
       "      <td>50.000000</td>\n",
       "    </tr>\n",
       "  </tbody>\n",
       "</table>\n",
       "</div>"
      ],
      "text/plain": [
       "             CRIM          ZN       INDUS        CHAS         NOX          RM  \\\n",
       "count  506.000000  506.000000  506.000000  506.000000  506.000000  506.000000   \n",
       "mean     3.613524   11.363636   11.136779    0.069170    0.554695    6.284634   \n",
       "std      8.601545   23.322453    6.860353    0.253994    0.115878    0.702617   \n",
       "min      0.006320    0.000000    0.460000    0.000000    0.385000    3.561000   \n",
       "25%      0.082045    0.000000    5.190000    0.000000    0.449000    5.885500   \n",
       "50%      0.256510    0.000000    9.690000    0.000000    0.538000    6.208500   \n",
       "75%      3.677083   12.500000   18.100000    0.000000    0.624000    6.623500   \n",
       "max     88.976200  100.000000   27.740000    1.000000    0.871000    8.780000   \n",
       "\n",
       "              AGE         DIS         RAD         TAX     PTRATIO           B  \\\n",
       "count  506.000000  506.000000  506.000000  506.000000  506.000000  506.000000   \n",
       "mean    68.574901    3.795043    9.549407  408.237154   18.455534  356.674032   \n",
       "std     28.148861    2.105710    8.707259  168.537116    2.164946   91.294864   \n",
       "min      2.900000    1.129600    1.000000  187.000000   12.600000    0.320000   \n",
       "25%     45.025000    2.100175    4.000000  279.000000   17.400000  375.377500   \n",
       "50%     77.500000    3.207450    5.000000  330.000000   19.050000  391.440000   \n",
       "75%     94.075000    5.188425   24.000000  666.000000   20.200000  396.225000   \n",
       "max    100.000000   12.126500   24.000000  711.000000   22.000000  396.900000   \n",
       "\n",
       "            LSTAT        MEDV  \n",
       "count  506.000000  506.000000  \n",
       "mean    12.653063   22.532806  \n",
       "std      7.141062    9.197104  \n",
       "min      1.730000    5.000000  \n",
       "25%      6.950000   17.025000  \n",
       "50%     11.360000   21.200000  \n",
       "75%     16.955000   25.000000  \n",
       "max     37.970000   50.000000  "
      ]
     },
     "execution_count": 11,
     "metadata": {},
     "output_type": "execute_result"
    }
   ],
   "source": [
    "df.describe()"
   ]
  },
  {
   "cell_type": "markdown",
   "metadata": {},
   "source": [
    "The data seems to have imported correctly and we now have it in a format that we can work with."
   ]
  },
  {
   "cell_type": "markdown",
   "metadata": {},
   "source": [
    "### Visualisations\n",
    "Now we can start creating plots.\n",
    "Firstly, the distribution of the Median House Value:"
   ]
  },
  {
   "cell_type": "code",
   "execution_count": 12,
   "metadata": {},
   "outputs": [
    {
     "data": {
      "text/plain": [
       "<matplotlib.axes._subplots.AxesSubplot at 0x2b77513c0f0>"
      ]
     },
     "execution_count": 12,
     "metadata": {},
     "output_type": "execute_result"
    },
    {
     "data": {
      "image/png": "[encoded data removed]",
      "text/plain": [
       "<Figure size 432x288 with 1 Axes>"
      ]
     },
     "metadata": {
      "needs_background": "light"
     },
     "output_type": "display_data"
    }
   ],
   "source": [
    "sns.distplot(df['MEDV'], color='g')"
   ]
  },
  {
   "cell_type": "markdown",
   "metadata": {},
   "source": [
    "We can also look at the number of rooms per dwelling like this."
   ]
  },
  {
   "cell_type": "code",
   "execution_count": 13,
   "metadata": {},
   "outputs": [
    {
     "data": {
      "text/plain": [
       "<matplotlib.axes._subplots.AxesSubplot at 0x2b77549c588>"
      ]
     },
     "execution_count": 13,
     "metadata": {},
     "output_type": "execute_result"
    },
    {
     "data": {
      "image/png": "[encoded data removed]",
      "text/plain": [
       "<Figure size 432x288 with 1 Axes>"
      ]
     },
     "metadata": {
      "needs_background": "light"
     },
     "output_type": "display_data"
    }
   ],
   "source": [
    "sns.distplot(df['RM'], color='y')"
   ]
  },
  {
   "cell_type": "markdown",
   "metadata": {},
   "source": [
    "What about the relationships between some of the statistics and the median house value?\n",
    "Firstly we look at DIS:"
   ]
  },
  {
   "cell_type": "code",
   "execution_count": 14,
   "metadata": {},
   "outputs": [
    {
     "data": {
      "text/plain": [
       "<matplotlib.axes._subplots.AxesSubplot at 0x2b775588898>"
      ]
     },
     "execution_count": 14,
     "metadata": {},
     "output_type": "execute_result"
    },
    {
     "data": {
      "image/png": "[encoded data removed]",
      "text/plain": [
       "<Figure size 432x288 with 1 Axes>"
      ]
     },
     "metadata": {
      "needs_background": "light"
     },
     "output_type": "display_data"
    }
   ],
   "source": [
    "sns.scatterplot(x='MEDV', y='DIS', data=df)"
   ]
  },
  {
   "cell_type": "markdown",
   "metadata": {},
   "source": [
    "It is difficult to tell if a definite linear relationship exists between these variables, but an unusual vertical line of values on the MEDV=50 line stand out somewhat."
   ]
  },
  {
   "cell_type": "markdown",
   "metadata": {},
   "source": [
    "We can look at RAD also:"
   ]
  },
  {
   "cell_type": "code",
   "execution_count": 15,
   "metadata": {},
   "outputs": [
    {
     "data": {
      "text/plain": [
       "<matplotlib.axes._subplots.AxesSubplot at 0x2b775615d30>"
      ]
     },
     "execution_count": 15,
     "metadata": {},
     "output_type": "execute_result"
    },
    {
     "data": {
      "image/png": "[encoded data removed]",
      "text/plain": [
       "<Figure size 432x288 with 1 Axes>"
      ]
     },
     "metadata": {
      "needs_background": "light"
     },
     "output_type": "display_data"
    }
   ],
   "source": [
    "sns.scatterplot(x='MEDV', y='RM', data=df)"
   ]
  },
  {
   "cell_type": "markdown",
   "metadata": {},
   "source": [
    "The linear relationship is much more apparent here - however the clustering of points on the MEDV=50 mark is even more apparent in this plot. This will require further investigation. "
   ]
  },
  {
   "cell_type": "code",
   "execution_count": 16,
   "metadata": {},
   "outputs": [
    {
     "data": {
      "text/plain": [
       "<matplotlib.axes._subplots.AxesSubplot at 0x2b77566eb00>"
      ]
     },
     "execution_count": 16,
     "metadata": {},
     "output_type": "execute_result"
    },
    {
     "data": {
      "image/png": "[encoded data removed]",
      "text/plain": [
       "<Figure size 432x288 with 1 Axes>"
      ]
     },
     "metadata": {
      "needs_background": "light"
     },
     "output_type": "display_data"
    }
   ],
   "source": [
    "sns.scatterplot(x='MEDV', y='RAD', data=df)"
   ]
  },
  {
   "cell_type": "markdown",
   "metadata": {},
   "source": [
    "This is quite a bit different to the other plots - the RAD value refers to \"index of accessibility to major highways\" - it appears that there is a broad range of houses values that have an accessibility rating between 0 and 10, then a very large gap, with a range of houses in the low- to medium price range (with a single high price outlier) with a much higher index of around 24."
   ]
  },
  {
   "cell_type": "markdown",
   "metadata": {},
   "source": [
    "## Infer"
   ]
  },
  {
   "cell_type": "code",
   "execution_count": 17,
   "metadata": {},
   "outputs": [
    {
     "data": {
      "text/plain": [
       "<matplotlib.axes._subplots.AxesSubplot at 0x2b7756cb0f0>"
      ]
     },
     "execution_count": 17,
     "metadata": {},
     "output_type": "execute_result"
    },
    {
     "data": {
      "image/png": "[encoded data removed]",
      "text/plain": [
       "<Figure size 432x288 with 1 Axes>"
      ]
     },
     "metadata": {
      "needs_background": "light"
     },
     "output_type": "display_data"
    }
   ],
   "source": [
    "sns.regplot(x=\"MEDV\", y=\"CHAS\", data=df)"
   ]
  },
  {
   "cell_type": "raw",
   "metadata": {},
   "source": [
    "First we'll display the range of house values per CHAS value, side by side on a catplot. We'll leave jitter switched on to get a better idea of the density of house."
   ]
  },
  {
   "cell_type": "markdown",
   "metadata": {},
   "source": [
    "*** Add a violin plot?? ***"
   ]
  },
  {
   "cell_type": "code",
   "execution_count": 18,
   "metadata": {},
   "outputs": [
    {
     "data": {
      "text/plain": [
       "<seaborn.axisgrid.FacetGrid at 0x2b775660e48>"
      ]
     },
     "execution_count": 18,
     "metadata": {},
     "output_type": "execute_result"
    },
    {
     "data": {
      "image/png": "[encoded data removed]",
      "text/plain": [
       "<Figure size 360x360 with 1 Axes>"
      ]
     },
     "metadata": {
      "needs_background": "light"
     },
     "output_type": "display_data"
    }
   ],
   "source": [
    "sns.catplot(x='CHAS', y='MEDV',  data=df)"
   ]
  },
  {
   "cell_type": "markdown",
   "metadata": {},
   "source": [
    "Now lets visualise the distribution of this using histograms with KDEs overlaid on the same plot:"
   ]
  },
  {
   "cell_type": "code",
   "execution_count": 19,
   "metadata": {},
   "outputs": [
    {
     "data": {
      "text/plain": [
       "<matplotlib.axes._subplots.AxesSubplot at 0x2b77579b320>"
      ]
     },
     "execution_count": 19,
     "metadata": {},
     "output_type": "execute_result"
    },
    {
     "data": {
      "image/png": "[encoded data removed]",
      "text/plain": [
       "<Figure size 432x288 with 1 Axes>"
      ]
     },
     "metadata": {
      "needs_background": "light"
     },
     "output_type": "display_data"
    }
   ],
   "source": [
    "# Extract subsets of the dataframe for houses on the Charles River (ry) vs houses not on it (rn)\n",
    "ry = df.loc[df['CHAS'] == 1]\n",
    "rn = df.loc[df['CHAS'] == 0]\n",
    "\n",
    "# Overlay a distplot for each on the same plot for comparison\n",
    "sns.distplot(ry['MEDV'], color='b')\n",
    "sns.distplot(rn['MEDV'], color='r')"
   ]
  },
  {
   "cell_type": "markdown",
   "metadata": {},
   "source": [
    "Although the histograms of the two data sets look quite different, the shapes of the kernal density estimate plots are not dissimilar - although it can be said with reasonable confidence that the values of houses on the Charles River appear to be generally higher than those not on it. We will have to confirm this now by carrying out statistical tests using scipy."
   ]
  },
  {
   "cell_type": "markdown",
   "metadata": {},
   "source": [
    "### T-Test"
   ]
  },
  {
   "cell_type": "markdown",
   "metadata": {},
   "source": [
    "We can carry out a t-test using scipy.stats to check if there is a significant difference in median house prices between those along the Charles River and those that are not. We need to use an independent t-test."
   ]
  },
  {
   "cell_type": "markdown",
   "metadata": {},
   "source": [
    "*** should confirm that the t-test assumptions are met?"
   ]
  },
  {
   "cell_type": "markdown",
   "metadata": {},
   "source": [
    "The null hypothesis here is that the means are equal. Therefore if there is no significant difference between the means, the t-statistic should be close to 0."
   ]
  },
  {
   "cell_type": "markdown",
   "metadata": {},
   "source": [
    "First we need MEDV split into two separate sets - one where CHAS=0 and one where CHAS=1. This has already been carried out to generate the histograms above:\n",
    "* rn = dataframe containing only data on houses not along the Charles River\n",
    "* ry = dataframe containing only data on houses along the Charles River"
   ]
  },
  {
   "cell_type": "code",
   "execution_count": 20,
   "metadata": {},
   "outputs": [
    {
     "data": {
      "text/plain": [
       "Ttest_indResult(statistic=-3.996437466090509, pvalue=7.390623170519905e-05)"
      ]
     },
     "execution_count": 20,
     "metadata": {},
     "output_type": "execute_result"
    }
   ],
   "source": [
    "ss.ttest_ind(rn['MEDV'], ry['MEDV'])"
   ]
  },
  {
   "cell_type": "markdown",
   "metadata": {},
   "source": [
    "Results:\n",
    "* t-Statistic: -3.996\n",
    "* p-value: 7.391e<sup>-5</sup>"
   ]
  },
  {
   "cell_type": "markdown",
   "metadata": {},
   "source": [
    "We can also check this by carrying out the t-test using statsmodel instead:"
   ]
  },
  {
   "cell_type": "code",
   "execution_count": 21,
   "metadata": {},
   "outputs": [
    {
     "data": {
      "text/plain": [
       "(-3.9964374660905095, 7.390623170519883e-05, 504.0)"
      ]
     },
     "execution_count": 21,
     "metadata": {},
     "output_type": "execute_result"
    }
   ],
   "source": [
    "ws.ttest_ind(rn['MEDV'], ry['MEDV'])"
   ]
  },
  {
   "cell_type": "markdown",
   "metadata": {},
   "source": [
    "The results are identical - with the inclusion of the degrees of freedom (504)."
   ]
  },
  {
   "cell_type": "markdown",
   "metadata": {},
   "source": [
    "#### p-value\n",
    "We generally accept a p-value of 0.5 as being the lower bound of whether a relationship is significant or not. Our calculated p-value is sinificantly lower than this, we can therefore conclude that there is a significant difference between the means - in other words we reject the null hypothesis and can state that there is a significant difference in median house prices between those on the Charles River and those not on it."
   ]
  },
  {
   "cell_type": "markdown",
   "metadata": {},
   "source": [
    "** find reference for the above?"
   ]
  },
  {
   "cell_type": "markdown",
   "metadata": {},
   "source": [
    "### Conclusions"
   ]
  },
  {
   "cell_type": "markdown",
   "metadata": {},
   "source": [
    "We can conclude that the difference in the means is statistically significant. However we should caveat this - earlier we noted that an issue with the MEDV values - the distribution of the values indicate that the value above 50 have been truncated for some reason, this would certainly have an effect on the means."
   ]
  },
  {
   "cell_type": "markdown",
   "metadata": {},
   "source": [
    "## Predict"
   ]
  },
  {
   "cell_type": "markdown",
   "metadata": {},
   "source": [
    "We will now use the keras package to create a neural network to predict the median house price based on the datasets other variables."
   ]
  },
  {
   "cell_type": "code",
   "execution_count": 22,
   "metadata": {},
   "outputs": [
    {
     "name": "stderr",
     "output_type": "stream",
     "text": [
      "Using TensorFlow backend.\n"
     ]
    }
   ],
   "source": [
    "import keras as kr\n",
    "import numpy as np"
   ]
  },
  {
   "cell_type": "markdown",
   "metadata": {},
   "source": [
    "** need to choose variables to predict with - ideally those that correlate with the house price, may be of interest to choose several with varying degrees of correlation"
   ]
  },
  {
   "cell_type": "markdown",
   "metadata": {},
   "source": [
    "### Choosing Correlated Variables"
   ]
  },
  {
   "cell_type": "code",
   "execution_count": 23,
   "metadata": {},
   "outputs": [
    {
     "data": {
      "text/plain": [
       "<matplotlib.axes._subplots.AxesSubplot at 0x2b77aaef668>"
      ]
     },
     "execution_count": 23,
     "metadata": {},
     "output_type": "execute_result"
    },
    {
     "data": {
      "image/png": "[encoded data removed]",
      "text/plain": [
       "<Figure size 864x720 with 2 Axes>"
      ]
     },
     "metadata": {},
     "output_type": "display_data"
    }
   ],
   "source": [
    "# Seaborn heatmap\n",
    "sns.set(style=\"dark\")\n",
    "\n",
    "# Mask upper triangle\n",
    "mask = np.zeros_like(df.corr(), dtype=np.bool)\n",
    "mask[np.triu_indices_from(mask)] = True\n",
    "\n",
    "plt.figure(figsize = (12,10))\n",
    "sns.heatmap(df.corr().round(2), annot=True, mask=mask, cmap =\"coolwarm\", center=0, linewidths=0.2)"
   ]
  },
  {
   "cell_type": "markdown",
   "metadata": {},
   "source": [
    "Results: 10 fields most strongly correlated with MEDV are:\n",
    "* CRIM: -0.39\n",
    "* ZN: 0.36\n",
    "* INDUS: -0.48\n",
    "* NOX: -0.43\n",
    "* RM: 0.7\n",
    "* RAD: -0.38\n",
    "* TAX: -0.47\n",
    "* PTRATIO: -0.51\n",
    "* B: 0.33\n",
    "* LSTAT: -0.74\n",
    "    \n",
    "We can use these as inputs for the model."
   ]
  },
  {
   "cell_type": "markdown",
   "metadata": {},
   "source": [
    "** need to decide on layers, numbers of neurons"
   ]
  },
  {
   "cell_type": "code",
   "execution_count": 24,
   "metadata": {},
   "outputs": [
    {
     "data": {
      "text/html": [
       "<div>\n",
       "<style scoped>\n",
       "    .dataframe tbody tr th:only-of-type {\n",
       "        vertical-align: middle;\n",
       "    }\n",
       "\n",
       "    .dataframe tbody tr th {\n",
       "        vertical-align: top;\n",
       "    }\n",
       "\n",
       "    .dataframe thead th {\n",
       "        text-align: right;\n",
       "    }\n",
       "</style>\n",
       "<table border=\"1\" class=\"dataframe\">\n",
       "  <thead>\n",
       "    <tr style=\"text-align: right;\">\n",
       "      <th></th>\n",
       "      <th>CRIM</th>\n",
       "      <th>ZN</th>\n",
       "      <th>INDUS</th>\n",
       "      <th>NOX</th>\n",
       "      <th>RM</th>\n",
       "      <th>RAD</th>\n",
       "      <th>TAX</th>\n",
       "      <th>PTRATIO</th>\n",
       "      <th>B</th>\n",
       "      <th>LSTAT</th>\n",
       "    </tr>\n",
       "  </thead>\n",
       "  <tbody>\n",
       "    <tr>\n",
       "      <th>count</th>\n",
       "      <td>506.000000</td>\n",
       "      <td>506.000000</td>\n",
       "      <td>506.000000</td>\n",
       "      <td>506.000000</td>\n",
       "      <td>506.000000</td>\n",
       "      <td>506.000000</td>\n",
       "      <td>506.000000</td>\n",
       "      <td>506.000000</td>\n",
       "      <td>506.000000</td>\n",
       "      <td>506.000000</td>\n",
       "    </tr>\n",
       "    <tr>\n",
       "      <th>mean</th>\n",
       "      <td>3.613524</td>\n",
       "      <td>11.363636</td>\n",
       "      <td>11.136779</td>\n",
       "      <td>0.554695</td>\n",
       "      <td>6.284634</td>\n",
       "      <td>9.549407</td>\n",
       "      <td>408.237154</td>\n",
       "      <td>18.455534</td>\n",
       "      <td>356.674032</td>\n",
       "      <td>12.653063</td>\n",
       "    </tr>\n",
       "    <tr>\n",
       "      <th>std</th>\n",
       "      <td>8.601545</td>\n",
       "      <td>23.322453</td>\n",
       "      <td>6.860353</td>\n",
       "      <td>0.115878</td>\n",
       "      <td>0.702617</td>\n",
       "      <td>8.707259</td>\n",
       "      <td>168.537116</td>\n",
       "      <td>2.164946</td>\n",
       "      <td>91.294864</td>\n",
       "      <td>7.141062</td>\n",
       "    </tr>\n",
       "    <tr>\n",
       "      <th>min</th>\n",
       "      <td>0.006320</td>\n",
       "      <td>0.000000</td>\n",
       "      <td>0.460000</td>\n",
       "      <td>0.385000</td>\n",
       "      <td>3.561000</td>\n",
       "      <td>1.000000</td>\n",
       "      <td>187.000000</td>\n",
       "      <td>12.600000</td>\n",
       "      <td>0.320000</td>\n",
       "      <td>1.730000</td>\n",
       "    </tr>\n",
       "    <tr>\n",
       "      <th>25%</th>\n",
       "      <td>0.082045</td>\n",
       "      <td>0.000000</td>\n",
       "      <td>5.190000</td>\n",
       "      <td>0.449000</td>\n",
       "      <td>5.885500</td>\n",
       "      <td>4.000000</td>\n",
       "      <td>279.000000</td>\n",
       "      <td>17.400000</td>\n",
       "      <td>375.377500</td>\n",
       "      <td>6.950000</td>\n",
       "    </tr>\n",
       "    <tr>\n",
       "      <th>50%</th>\n",
       "      <td>0.256510</td>\n",
       "      <td>0.000000</td>\n",
       "      <td>9.690000</td>\n",
       "      <td>0.538000</td>\n",
       "      <td>6.208500</td>\n",
       "      <td>5.000000</td>\n",
       "      <td>330.000000</td>\n",
       "      <td>19.050000</td>\n",
       "      <td>391.440000</td>\n",
       "      <td>11.360000</td>\n",
       "    </tr>\n",
       "    <tr>\n",
       "      <th>75%</th>\n",
       "      <td>3.677083</td>\n",
       "      <td>12.500000</td>\n",
       "      <td>18.100000</td>\n",
       "      <td>0.624000</td>\n",
       "      <td>6.623500</td>\n",
       "      <td>24.000000</td>\n",
       "      <td>666.000000</td>\n",
       "      <td>20.200000</td>\n",
       "      <td>396.225000</td>\n",
       "      <td>16.955000</td>\n",
       "    </tr>\n",
       "    <tr>\n",
       "      <th>max</th>\n",
       "      <td>88.976200</td>\n",
       "      <td>100.000000</td>\n",
       "      <td>27.740000</td>\n",
       "      <td>0.871000</td>\n",
       "      <td>8.780000</td>\n",
       "      <td>24.000000</td>\n",
       "      <td>711.000000</td>\n",
       "      <td>22.000000</td>\n",
       "      <td>396.900000</td>\n",
       "      <td>37.970000</td>\n",
       "    </tr>\n",
       "  </tbody>\n",
       "</table>\n",
       "</div>"
      ],
      "text/plain": [
       "             CRIM          ZN       INDUS         NOX          RM         RAD  \\\n",
       "count  506.000000  506.000000  506.000000  506.000000  506.000000  506.000000   \n",
       "mean     3.613524   11.363636   11.136779    0.554695    6.284634    9.549407   \n",
       "std      8.601545   23.322453    6.860353    0.115878    0.702617    8.707259   \n",
       "min      0.006320    0.000000    0.460000    0.385000    3.561000    1.000000   \n",
       "25%      0.082045    0.000000    5.190000    0.449000    5.885500    4.000000   \n",
       "50%      0.256510    0.000000    9.690000    0.538000    6.208500    5.000000   \n",
       "75%      3.677083   12.500000   18.100000    0.624000    6.623500   24.000000   \n",
       "max     88.976200  100.000000   27.740000    0.871000    8.780000   24.000000   \n",
       "\n",
       "              TAX     PTRATIO           B       LSTAT  \n",
       "count  506.000000  506.000000  506.000000  506.000000  \n",
       "mean   408.237154   18.455534  356.674032   12.653063  \n",
       "std    168.537116    2.164946   91.294864    7.141062  \n",
       "min    187.000000   12.600000    0.320000    1.730000  \n",
       "25%    279.000000   17.400000  375.377500    6.950000  \n",
       "50%    330.000000   19.050000  391.440000   11.360000  \n",
       "75%    666.000000   20.200000  396.225000   16.955000  \n",
       "max    711.000000   22.000000  396.900000   37.970000  "
      ]
     },
     "execution_count": 24,
     "metadata": {},
     "output_type": "execute_result"
    }
   ],
   "source": [
    "inputs = df[[\"CRIM\", \"ZN\", \"INDUS\", \"NOX\", \"RM\", \"RAD\", \"TAX\", \"PTRATIO\", \"B\", \"LSTAT\"]]\n",
    "inputs.describe()"
   ]
  },
  {
   "cell_type": "markdown",
   "metadata": {},
   "source": [
    "*** need to normalise?"
   ]
  },
  {
   "cell_type": "code",
   "execution_count": 25,
   "metadata": {},
   "outputs": [],
   "source": [
    "outputs = df[\"MEDV\"]"
   ]
  },
  {
   "cell_type": "markdown",
   "metadata": {},
   "source": [
    "### Split Dataset"
   ]
  },
  {
   "cell_type": "markdown",
   "metadata": {},
   "source": [
    "We need to split the dataset into a training dataset and a predictions dataset."
   ]
  },
  {
   "cell_type": "code",
   "execution_count": 26,
   "metadata": {},
   "outputs": [],
   "source": [
    "import sklearn.model_selection as mod"
   ]
  },
  {
   "cell_type": "code",
   "execution_count": 27,
   "metadata": {},
   "outputs": [],
   "source": [
    "# Split the inputs and outputs into training and test sets.\n",
    "inputs_train, inputs_test, outputs_train, outputs_test = mod.train_test_split(inputs, outputs, test_size=0.2)"
   ]
  },
  {
   "cell_type": "code",
   "execution_count": 28,
   "metadata": {
    "scrolled": true
   },
   "outputs": [
    {
     "name": "stdout",
     "output_type": "stream",
     "text": [
      "             CRIM          ZN       INDUS         NOX          RM         RAD  \\\n",
      "count  404.000000  404.000000  404.000000  404.000000  404.000000  404.000000   \n",
      "mean     3.705455   12.115099   11.066411    0.552769    6.316639    9.537129   \n",
      "std      8.997328   24.067363    6.883759    0.113977    0.719029    8.693919   \n",
      "min      0.009060    0.000000    0.460000    0.385000    3.863000    1.000000   \n",
      "25%      0.084278    0.000000    5.130000    0.449000    5.888000    4.000000   \n",
      "50%      0.290250    0.000000    8.560000    0.538000    6.221000    5.000000   \n",
      "75%      3.596065   20.000000   18.100000    0.624000    6.655500   24.000000   \n",
      "max     88.976200   95.000000   27.740000    0.871000    8.780000   24.000000   \n",
      "\n",
      "              TAX     PTRATIO           B       LSTAT  \n",
      "count  404.000000  404.000000  404.000000  404.000000  \n",
      "mean   407.163366   18.425743  355.531757   12.811807  \n",
      "std    167.855701    2.205673   93.201197    7.379824  \n",
      "min    187.000000   12.600000    0.320000    1.730000  \n",
      "25%    278.500000   17.400000  375.735000    6.892500  \n",
      "50%    330.000000   18.900000  391.440000   11.490000  \n",
      "75%    666.000000   20.200000  395.945000   17.152500  \n",
      "max    711.000000   22.000000  396.900000   37.970000  \n",
      "             CRIM          ZN       INDUS         NOX          RM         RAD  \\\n",
      "count  102.000000  102.000000  102.000000  102.000000  102.000000  102.000000   \n",
      "mean     3.249403    8.387255   11.415490    0.562324    6.157873    9.598039   \n",
      "std      6.838060   19.931430    6.793276    0.123411    0.620596    8.802857   \n",
      "min      0.006320    0.000000    1.320000    0.392000    3.561000    1.000000   \n",
      "25%      0.068922    0.000000    5.190000    0.453000    5.878250    4.000000   \n",
      "50%      0.150620    0.000000    9.955000    0.541000    6.148000    5.000000   \n",
      "75%      3.691130    0.000000   18.100000    0.647000    6.486500   24.000000   \n",
      "max     41.529200  100.000000   27.740000    0.871000    7.610000   24.000000   \n",
      "\n",
      "              TAX     PTRATIO           B       LSTAT  \n",
      "count  102.000000  102.000000  102.000000  102.000000  \n",
      "mean   412.490196   18.573529  361.198333   12.024314  \n",
      "std    171.981794    2.001382   83.594390    6.096376  \n",
      "min    188.000000   13.000000    3.500000    2.960000  \n",
      "25%    281.750000   17.025000  374.912500    7.230000  \n",
      "50%    337.500000   19.100000  391.640000   10.475000  \n",
      "75%    666.000000   20.200000  396.900000   16.090000  \n",
      "max    711.000000   21.200000  396.900000   30.590000  \n"
     ]
    }
   ],
   "source": [
    "print(inputs_train.describe())\n",
    "print(inputs_test.describe())"
   ]
  },
  {
   "cell_type": "code",
   "execution_count": 29,
   "metadata": {
    "scrolled": true
   },
   "outputs": [
    {
     "name": "stdout",
     "output_type": "stream",
     "text": [
      "count    404.000000\n",
      "mean      22.686386\n",
      "std        9.449387\n",
      "min        5.000000\n",
      "25%       16.800000\n",
      "50%       21.400000\n",
      "75%       26.250000\n",
      "max       50.000000\n",
      "Name: MEDV, dtype: float64\n",
      "count    102.00000\n",
      "mean      21.92451\n",
      "std        8.13548\n",
      "min        5.00000\n",
      "25%       17.42500\n",
      "50%       20.95000\n",
      "75%       24.00000\n",
      "max       50.00000\n",
      "Name: MEDV, dtype: float64\n"
     ]
    }
   ],
   "source": [
    "print(outputs_train.describe())\n",
    "print(outputs_test.describe())"
   ]
  },
  {
   "cell_type": "code",
   "execution_count": 30,
   "metadata": {},
   "outputs": [
    {
     "data": {
      "text/plain": [
       "CRIM         3.67367\n",
       "ZN           0.00000\n",
       "INDUS       18.10000\n",
       "NOX          0.58300\n",
       "RM           6.31200\n",
       "RAD         24.00000\n",
       "TAX        666.00000\n",
       "PTRATIO     20.20000\n",
       "B          388.62000\n",
       "LSTAT       10.58000\n",
       "Name: 485, dtype: float64"
      ]
     },
     "execution_count": 30,
     "metadata": {},
     "output_type": "execute_result"
    }
   ],
   "source": [
    "inputs_test.iloc[0]"
   ]
  },
  {
   "cell_type": "markdown",
   "metadata": {},
   "source": [
    "### Build Neural Network"
   ]
  },
  {
   "cell_type": "code",
   "execution_count": 31,
   "metadata": {},
   "outputs": [],
   "source": [
    "# Create a new neural network.\n",
    "from keras.models import Sequential\n",
    "from keras.layers import Dense"
   ]
  },
  {
   "cell_type": "markdown",
   "metadata": {},
   "source": [
    "*** https://towardsdatascience.com/activation-functions-and-its-types-which-is-better-a9a5310cc8f"
   ]
  },
  {
   "cell_type": "markdown",
   "metadata": {},
   "source": [
    "There are many different ways to build a neural network, the accuracy will depend on the approach we take."
   ]
  },
  {
   "cell_type": "markdown",
   "metadata": {},
   "source": [
    "#### First Attempt"
   ]
  },
  {
   "cell_type": "markdown",
   "metadata": {},
   "source": [
    "This will be a three layer neural network with densities of 100, 50 and 1."
   ]
  },
  {
   "cell_type": "markdown",
   "metadata": {},
   "source": [
    "##### Construct Model"
   ]
  },
  {
   "cell_type": "code",
   "execution_count": 32,
   "metadata": {
    "scrolled": true
   },
   "outputs": [
    {
     "name": "stdout",
     "output_type": "stream",
     "text": [
      "WARNING:tensorflow:From C:\\Users\\Peter McGowan\\Anaconda3\\lib\\site-packages\\tensorflow\\python\\ops\\resource_variable_ops.py:435: colocate_with (from tensorflow.python.framework.ops) is deprecated and will be removed in a future version.\n",
      "Instructions for updating:\n",
      "Colocations handled automatically by placer.\n",
      "Model: \"sequential_1\"\n",
      "_________________________________________________________________\n",
      "Layer (type)                 Output Shape              Param #   \n",
      "=================================================================\n",
      "dense_1 (Dense)              (None, 100)               1100      \n",
      "_________________________________________________________________\n",
      "dense_2 (Dense)              (None, 50)                5050      \n",
      "_________________________________________________________________\n",
      "dense_3 (Dense)              (None, 1)                 51        \n",
      "=================================================================\n",
      "Total params: 6,201\n",
      "Trainable params: 6,201\n",
      "Non-trainable params: 0\n",
      "_________________________________________________________________\n"
     ]
    }
   ],
   "source": [
    "model1 = Sequential() \n",
    "\n",
    "model1.add(Dense(units=100, activation='relu', input_dim=10))\n",
    "model1.add(Dense(units=50, activation='relu'))\n",
    "model1.add(Dense(units=1))\n",
    "\n",
    "model1.compile(loss='mse', optimizer='adam', metrics=['mae', 'acc'])\n",
    "\n",
    "model1.summary()"
   ]
  },
  {
   "cell_type": "markdown",
   "metadata": {},
   "source": [
    "##### Sample Prediction"
   ]
  },
  {
   "cell_type": "code",
   "execution_count": 33,
   "metadata": {},
   "outputs": [
    {
     "name": "stdout",
     "output_type": "stream",
     "text": [
      "CRIM         3.67367\n",
      "ZN           0.00000\n",
      "INDUS       18.10000\n",
      "NOX          0.58300\n",
      "RM           6.31200\n",
      "RAD         24.00000\n",
      "TAX        666.00000\n",
      "PTRATIO     20.20000\n",
      "B          388.62000\n",
      "LSTAT       10.58000\n",
      "Name: 485, dtype: float64\n",
      "\n",
      "Prediction:  [[-51.17592]]\n"
     ]
    },
    {
     "name": "stderr",
     "output_type": "stream",
     "text": [
      "C:\\Users\\Peter McGowan\\Anaconda3\\lib\\site-packages\\ipykernel_launcher.py:2: FutureWarning: Method .as_matrix will be removed in a future version. Use .values instead.\n",
      "  \n"
     ]
    }
   ],
   "source": [
    "print(inputs_test.iloc[0])\n",
    "print(\"\\nPrediction: \", model1.predict(inputs_test.as_matrix()[0:1]))"
   ]
  },
  {
   "cell_type": "markdown",
   "metadata": {},
   "source": [
    "##### Training"
   ]
  },
  {
   "cell_type": "markdown",
   "metadata": {},
   "source": [
    "Now we must train the neural network."
   ]
  },
  {
   "cell_type": "code",
   "execution_count": 34,
   "metadata": {
    "scrolled": true
   },
   "outputs": [
    {
     "name": "stdout",
     "output_type": "stream",
     "text": [
      "WARNING:tensorflow:From C:\\Users\\Peter McGowan\\Anaconda3\\lib\\site-packages\\tensorflow\\python\\ops\\math_ops.py:3066: to_int32 (from tensorflow.python.ops.math_ops) is deprecated and will be removed in a future version.\n",
      "Instructions for updating:\n",
      "Use tf.cast instead.\n",
      "Epoch 1/50\n",
      "404/404 [==============================] - 0s 225us/step - loss: 1086.8336 - mae: 26.6142 - acc: 0.0000e+00\n",
      "Epoch 2/50\n",
      "404/404 [==============================] - 0s 36us/step - loss: 184.9613 - mae: 10.7438 - acc: 0.0025\n",
      "Epoch 3/50\n",
      "404/404 [==============================] - 0s 44us/step - loss: 88.0494 - mae: 7.3859 - acc: 0.0074\n",
      "Epoch 4/50\n",
      "404/404 [==============================] - 0s 37us/step - loss: 75.6476 - mae: 6.4170 - acc: 0.0074\n",
      "Epoch 5/50\n",
      "404/404 [==============================] - 0s 32us/step - loss: 72.5199 - mae: 6.4003 - acc: 0.0000e+00\n",
      "Epoch 6/50\n",
      "404/404 [==============================] - 0s 22us/step - loss: 66.1160 - mae: 5.8638 - acc: 0.0025\n",
      "Epoch 7/50\n",
      "404/404 [==============================] - 0s 22us/step - loss: 63.9451 - mae: 5.9974 - acc: 0.0025\n",
      "Epoch 8/50\n",
      "404/404 [==============================] - 0s 21us/step - loss: 63.1042 - mae: 5.6660 - acc: 0.0025\n",
      "Epoch 9/50\n",
      "404/404 [==============================] - 0s 21us/step - loss: 61.2525 - mae: 5.6921 - acc: 0.0025\n",
      "Epoch 10/50\n",
      "404/404 [==============================] - 0s 22us/step - loss: 60.5788 - mae: 5.6253 - acc: 0.0025\n",
      "Epoch 11/50\n",
      "404/404 [==============================] - 0s 22us/step - loss: 58.9421 - mae: 5.5099 - acc: 0.0025\n",
      "Epoch 12/50\n",
      "404/404 [==============================] - 0s 20us/step - loss: 59.0196 - mae: 5.5976 - acc: 0.0025\n",
      "Epoch 13/50\n",
      "404/404 [==============================] - 0s 22us/step - loss: 58.0448 - mae: 5.4296 - acc: 0.0000e+00\n",
      "Epoch 14/50\n",
      "404/404 [==============================] - 0s 21us/step - loss: 59.4700 - mae: 5.6665 - acc: 0.0000e+00\n",
      "Epoch 15/50\n",
      "404/404 [==============================] - 0s 22us/step - loss: 56.6992 - mae: 5.5050 - acc: 0.0074\n",
      "Epoch 16/50\n",
      "404/404 [==============================] - 0s 22us/step - loss: 57.4701 - mae: 5.3535 - acc: 0.0025\n",
      "Epoch 17/50\n",
      "404/404 [==============================] - 0s 23us/step - loss: 55.3090 - mae: 5.3050 - acc: 0.0025\n",
      "Epoch 18/50\n",
      "404/404 [==============================] - 0s 23us/step - loss: 56.8034 - mae: 5.4305 - acc: 0.0000e+00\n",
      "Epoch 19/50\n",
      "404/404 [==============================] - 0s 22us/step - loss: 55.0923 - mae: 5.0932 - acc: 0.0025\n",
      "Epoch 20/50\n",
      "404/404 [==============================] - 0s 22us/step - loss: 53.0529 - mae: 5.1064 - acc: 0.0050\n",
      "Epoch 21/50\n",
      "404/404 [==============================] - 0s 21us/step - loss: 51.9678 - mae: 5.1464 - acc: 0.0025\n",
      "Epoch 22/50\n",
      "404/404 [==============================] - 0s 21us/step - loss: 50.8916 - mae: 5.0545 - acc: 0.0050\n",
      "Epoch 23/50\n",
      "404/404 [==============================] - 0s 21us/step - loss: 49.6875 - mae: 4.8998 - acc: 0.0050\n",
      "Epoch 24/50\n",
      "404/404 [==============================] - 0s 23us/step - loss: 48.7520 - mae: 4.9853 - acc: 0.0025\n",
      "Epoch 25/50\n",
      "404/404 [==============================] - 0s 22us/step - loss: 49.4221 - mae: 4.8786 - acc: 0.0025\n",
      "Epoch 26/50\n",
      "404/404 [==============================] - 0s 21us/step - loss: 47.9934 - mae: 4.8609 - acc: 0.0149\n",
      "Epoch 27/50\n",
      "404/404 [==============================] - 0s 23us/step - loss: 46.2601 - mae: 4.8147 - acc: 0.0074\n",
      "Epoch 28/50\n",
      "404/404 [==============================] - 0s 21us/step - loss: 46.9352 - mae: 4.8995 - acc: 0.0025\n",
      "Epoch 29/50\n",
      "404/404 [==============================] - 0s 23us/step - loss: 47.0801 - mae: 4.7864 - acc: 0.0074\n",
      "Epoch 30/50\n",
      "404/404 [==============================] - 0s 23us/step - loss: 44.4236 - mae: 4.5794 - acc: 0.0074\n",
      "Epoch 31/50\n",
      "404/404 [==============================] - 0s 22us/step - loss: 43.3969 - mae: 4.5542 - acc: 0.0050\n",
      "Epoch 32/50\n",
      "404/404 [==============================] - 0s 23us/step - loss: 42.6866 - mae: 4.5593 - acc: 0.0050\n",
      "Epoch 33/50\n",
      "404/404 [==============================] - 0s 23us/step - loss: 41.8767 - mae: 4.4586 - acc: 0.0074\n",
      "Epoch 34/50\n",
      "404/404 [==============================] - 0s 23us/step - loss: 41.1449 - mae: 4.5471 - acc: 0.0124\n",
      "Epoch 35/50\n",
      "404/404 [==============================] - 0s 22us/step - loss: 41.8935 - mae: 4.5321 - acc: 0.0099\n",
      "Epoch 36/50\n",
      "404/404 [==============================] - 0s 22us/step - loss: 44.7110 - mae: 4.7372 - acc: 0.0050\n",
      "Epoch 37/50\n",
      "404/404 [==============================] - 0s 21us/step - loss: 45.9272 - mae: 4.9059 - acc: 0.0173\n",
      "Epoch 38/50\n",
      "404/404 [==============================] - 0s 26us/step - loss: 41.4330 - mae: 4.5878 - acc: 0.0050\n",
      "Epoch 39/50\n",
      "404/404 [==============================] - 0s 22us/step - loss: 39.7124 - mae: 4.5087 - acc: 0.0050\n",
      "Epoch 40/50\n",
      "404/404 [==============================] - 0s 23us/step - loss: 41.9957 - mae: 4.5965 - acc: 0.0074\n",
      "Epoch 41/50\n",
      "404/404 [==============================] - 0s 22us/step - loss: 40.6487 - mae: 4.5518 - acc: 0.0124\n",
      "Epoch 42/50\n",
      "404/404 [==============================] - 0s 23us/step - loss: 37.8573 - mae: 4.3965 - acc: 0.0124\n",
      "Epoch 43/50\n",
      "404/404 [==============================] - 0s 21us/step - loss: 37.7814 - mae: 4.3174 - acc: 0.0025\n",
      "Epoch 44/50\n",
      "404/404 [==============================] - 0s 21us/step - loss: 39.4096 - mae: 4.4973 - acc: 0.0099\n",
      "Epoch 45/50\n",
      "404/404 [==============================] - 0s 22us/step - loss: 38.1182 - mae: 4.4479 - acc: 0.0124\n",
      "Epoch 46/50\n",
      "404/404 [==============================] - 0s 23us/step - loss: 40.3156 - mae: 4.5147 - acc: 0.0050\n",
      "Epoch 47/50\n",
      "404/404 [==============================] - 0s 22us/step - loss: 39.4279 - mae: 4.4584 - acc: 0.0099\n",
      "Epoch 48/50\n",
      "404/404 [==============================] - 0s 21us/step - loss: 44.9690 - mae: 4.9656 - acc: 0.0000e+00\n",
      "Epoch 49/50\n",
      "404/404 [==============================] - 0s 22us/step - loss: 39.8177 - mae: 4.5331 - acc: 0.0149\n",
      "Epoch 50/50\n",
      "404/404 [==============================] - 0s 22us/step - loss: 37.8004 - mae: 4.2494 - acc: 0.0025\n"
     ]
    }
   ],
   "source": [
    "history1 = model1.fit(inputs_train, outputs_train, epochs=50)"
   ]
  },
  {
   "cell_type": "markdown",
   "metadata": {},
   "source": [
    "##### Results"
   ]
  },
  {
   "cell_type": "markdown",
   "metadata": {},
   "source": [
    "Not particularly accurate:\n",
    "* Loss (Mean Squared Error): ~30-35\n",
    "* Mean Absolute Error: ~4.1\n",
    "* Accuracy: 0.0124"
   ]
  },
  {
   "cell_type": "markdown",
   "metadata": {},
   "source": [
    "#### Second Attempt - Normalise"
   ]
  },
  {
   "cell_type": "markdown",
   "metadata": {},
   "source": [
    "The first attempt was carried out without pre-processing the dataset. Now we will normalise it to improve performance - the same model structure will be used for comparison."
   ]
  },
  {
   "cell_type": "code",
   "execution_count": 35,
   "metadata": {},
   "outputs": [],
   "source": [
    "mean = inputs_train.mean()\n",
    "std = inputs_train.std()\n",
    "\n",
    "inputs_train_norm = (inputs_train - mean)/std\n",
    "inputs_test_norm = (inputs_test - mean)/std"
   ]
  },
  {
   "cell_type": "markdown",
   "metadata": {},
   "source": [
    "##### Construct Model"
   ]
  },
  {
   "cell_type": "code",
   "execution_count": 36,
   "metadata": {
    "scrolled": true
   },
   "outputs": [
    {
     "name": "stdout",
     "output_type": "stream",
     "text": [
      "Model: \"sequential_2\"\n",
      "_________________________________________________________________\n",
      "Layer (type)                 Output Shape              Param #   \n",
      "=================================================================\n",
      "dense_4 (Dense)              (None, 100)               1100      \n",
      "_________________________________________________________________\n",
      "dense_5 (Dense)              (None, 50)                5050      \n",
      "_________________________________________________________________\n",
      "dense_6 (Dense)              (None, 1)                 51        \n",
      "=================================================================\n",
      "Total params: 6,201\n",
      "Trainable params: 6,201\n",
      "Non-trainable params: 0\n",
      "_________________________________________________________________\n"
     ]
    }
   ],
   "source": [
    "model2 = Sequential() \n",
    "\n",
    "model2.add(Dense(units=100, activation='relu', input_dim=10))\n",
    "model2.add(Dense(units=50, activation='relu'))\n",
    "model2.add(Dense(units=1))\n",
    "\n",
    "model2.compile(loss='mse', optimizer='adam', metrics=['mae', 'acc'])\n",
    "\n",
    "model2.summary()"
   ]
  },
  {
   "cell_type": "markdown",
   "metadata": {},
   "source": [
    "##### Training"
   ]
  },
  {
   "cell_type": "markdown",
   "metadata": {},
   "source": []
  },
  {
   "cell_type": "code",
   "execution_count": 37,
   "metadata": {
    "scrolled": true
   },
   "outputs": [
    {
     "name": "stdout",
     "output_type": "stream",
     "text": [
      "Epoch 1/50\n",
      "404/404 [==============================] - 0s 232us/step - loss: 583.3263 - mae: 22.2456 - acc: 0.0000e+00\n",
      "Epoch 2/50\n",
      "404/404 [==============================] - 0s 42us/step - loss: 526.8497 - mae: 20.9270 - acc: 0.0000e+00\n",
      "Epoch 3/50\n",
      "404/404 [==============================] - 0s 34us/step - loss: 456.7992 - mae: 19.2438 - acc: 0.0025\n",
      "Epoch 4/50\n",
      "404/404 [==============================] - 0s 36us/step - loss: 364.3025 - mae: 16.7922 - acc: 0.0000e+00\n",
      "Epoch 5/50\n",
      "404/404 [==============================] - 0s 42us/step - loss: 246.2693 - mae: 13.5054 - acc: 0.0000e+00\n",
      "Epoch 6/50\n",
      "404/404 [==============================] - 0s 32us/step - loss: 136.0376 - mae: 9.4820 - acc: 0.0025\n",
      "Epoch 7/50\n",
      "404/404 [==============================] - 0s 32us/step - loss: 69.8389 - mae: 6.3518 - acc: 0.0099\n",
      "Epoch 8/50\n",
      "404/404 [==============================] - 0s 25us/step - loss: 51.5521 - mae: 5.2956 - acc: 0.0074\n",
      "Epoch 9/50\n",
      "404/404 [==============================] - 0s 22us/step - loss: 43.0617 - mae: 4.7572 - acc: 0.0099\n",
      "Epoch 10/50\n",
      "404/404 [==============================] - 0s 22us/step - loss: 35.8915 - mae: 4.3264 - acc: 0.0050\n",
      "Epoch 11/50\n",
      "404/404 [==============================] - 0s 23us/step - loss: 31.6413 - mae: 4.0429 - acc: 0.0074\n",
      "Epoch 12/50\n",
      "404/404 [==============================] - 0s 23us/step - loss: 28.3583 - mae: 3.7977 - acc: 0.0074\n",
      "Epoch 13/50\n",
      "404/404 [==============================] - 0s 22us/step - loss: 26.2116 - mae: 3.6425 - acc: 0.0099\n",
      "Epoch 14/50\n",
      "404/404 [==============================] - 0s 23us/step - loss: 24.2889 - mae: 3.4813 - acc: 0.0099\n",
      "Epoch 15/50\n",
      "404/404 [==============================] - 0s 22us/step - loss: 22.9578 - mae: 3.3588 - acc: 0.0149\n",
      "Epoch 16/50\n",
      "404/404 [==============================] - 0s 22us/step - loss: 21.9857 - mae: 3.2589 - acc: 0.0124\n",
      "Epoch 17/50\n",
      "404/404 [==============================] - 0s 22us/step - loss: 21.3653 - mae: 3.2056 - acc: 0.0173\n",
      "Epoch 18/50\n",
      "404/404 [==============================] - 0s 25us/step - loss: 20.4659 - mae: 3.1115 - acc: 0.0223\n",
      "Epoch 19/50\n",
      "404/404 [==============================] - 0s 22us/step - loss: 19.8470 - mae: 3.0416 - acc: 0.0173\n",
      "Epoch 20/50\n",
      "404/404 [==============================] - 0s 22us/step - loss: 19.2839 - mae: 3.0195 - acc: 0.0173\n",
      "Epoch 21/50\n",
      "404/404 [==============================] - 0s 21us/step - loss: 18.8651 - mae: 2.9995 - acc: 0.0173\n",
      "Epoch 22/50\n",
      "404/404 [==============================] - 0s 31us/step - loss: 18.4400 - mae: 2.9530 - acc: 0.0223\n",
      "Epoch 23/50\n",
      "404/404 [==============================] - 0s 27us/step - loss: 18.0922 - mae: 2.9151 - acc: 0.0223\n",
      "Epoch 24/50\n",
      "404/404 [==============================] - 0s 23us/step - loss: 17.8134 - mae: 2.8994 - acc: 0.0223\n",
      "Epoch 25/50\n",
      "404/404 [==============================] - 0s 22us/step - loss: 17.4950 - mae: 2.8580 - acc: 0.0272\n",
      "Epoch 26/50\n",
      "404/404 [==============================] - 0s 22us/step - loss: 17.3378 - mae: 2.8534 - acc: 0.0248\n",
      "Epoch 27/50\n",
      "404/404 [==============================] - 0s 22us/step - loss: 17.0190 - mae: 2.8206 - acc: 0.0223\n",
      "Epoch 28/50\n",
      "404/404 [==============================] - 0s 22us/step - loss: 16.9185 - mae: 2.8276 - acc: 0.0223\n",
      "Epoch 29/50\n",
      "404/404 [==============================] - 0s 22us/step - loss: 16.5894 - mae: 2.8055 - acc: 0.0223\n",
      "Epoch 30/50\n",
      "404/404 [==============================] - 0s 23us/step - loss: 16.4269 - mae: 2.7931 - acc: 0.0173\n",
      "Epoch 31/50\n",
      "404/404 [==============================] - 0s 23us/step - loss: 16.2629 - mae: 2.7585 - acc: 0.0173\n",
      "Epoch 32/50\n",
      "404/404 [==============================] - 0s 22us/step - loss: 16.1259 - mae: 2.7697 - acc: 0.0149\n",
      "Epoch 33/50\n",
      "404/404 [==============================] - 0s 22us/step - loss: 15.8618 - mae: 2.7563 - acc: 0.0149\n",
      "Epoch 34/50\n",
      "404/404 [==============================] - 0s 21us/step - loss: 15.7871 - mae: 2.7155 - acc: 0.0198\n",
      "Epoch 35/50\n",
      "404/404 [==============================] - 0s 22us/step - loss: 15.5856 - mae: 2.7098 - acc: 0.0248\n",
      "Epoch 36/50\n",
      "404/404 [==============================] - 0s 22us/step - loss: 15.4298 - mae: 2.6945 - acc: 0.0223\n",
      "Epoch 37/50\n",
      "404/404 [==============================] - 0s 22us/step - loss: 15.3485 - mae: 2.6838 - acc: 0.0173\n",
      "Epoch 38/50\n",
      "404/404 [==============================] - 0s 23us/step - loss: 15.2298 - mae: 2.6693 - acc: 0.0099\n",
      "Epoch 39/50\n",
      "404/404 [==============================] - 0s 22us/step - loss: 15.1540 - mae: 2.6675 - acc: 0.0198\n",
      "Epoch 40/50\n",
      "404/404 [==============================] - 0s 22us/step - loss: 14.9922 - mae: 2.6647 - acc: 0.0173\n",
      "Epoch 41/50\n",
      "404/404 [==============================] - 0s 23us/step - loss: 14.9967 - mae: 2.6301 - acc: 0.0173\n",
      "Epoch 42/50\n",
      "404/404 [==============================] - 0s 23us/step - loss: 14.9734 - mae: 2.6516 - acc: 0.0198\n",
      "Epoch 43/50\n",
      "404/404 [==============================] - 0s 25us/step - loss: 14.6959 - mae: 2.6588 - acc: 0.0173\n",
      "Epoch 44/50\n",
      "404/404 [==============================] - 0s 22us/step - loss: 14.5502 - mae: 2.6255 - acc: 0.0124\n",
      "Epoch 45/50\n",
      "404/404 [==============================] - 0s 22us/step - loss: 14.5049 - mae: 2.6050 - acc: 0.0149\n",
      "Epoch 46/50\n",
      "404/404 [==============================] - 0s 22us/step - loss: 14.4742 - mae: 2.5968 - acc: 0.0149\n",
      "Epoch 47/50\n",
      "404/404 [==============================] - 0s 22us/step - loss: 14.4674 - mae: 2.6316 - acc: 0.0149\n",
      "Epoch 48/50\n",
      "404/404 [==============================] - 0s 22us/step - loss: 14.2935 - mae: 2.5982 - acc: 0.0149\n",
      "Epoch 49/50\n",
      "404/404 [==============================] - 0s 22us/step - loss: 14.1630 - mae: 2.5905 - acc: 0.0173\n",
      "Epoch 50/50\n",
      "404/404 [==============================] - 0s 23us/step - loss: 14.0234 - mae: 2.5758 - acc: 0.0124\n"
     ]
    }
   ],
   "source": [
    "history2 = model2.fit(inputs_train_norm, outputs_train, epochs=50)"
   ]
  },
  {
   "cell_type": "markdown",
   "metadata": {},
   "source": [
    "##### Results"
   ]
  },
  {
   "cell_type": "markdown",
   "metadata": {},
   "source": [
    "Noticeably more accurate overall:\n",
    "* Loss (Mean Squared Error): ~12-13\n",
    "* Mean Absolute Error: ~2.5-2.75\n",
    "* Accuracy: 0.0272"
   ]
  },
  {
   "cell_type": "markdown",
   "metadata": {},
   "source": [
    "#### Third Attempt - Deepen"
   ]
  },
  {
   "cell_type": "markdown",
   "metadata": {},
   "source": [
    "We will develop the second attempt model and deepen it now by adding another hidden layer."
   ]
  },
  {
   "cell_type": "markdown",
   "metadata": {},
   "source": [
    "##### Construct Model"
   ]
  },
  {
   "cell_type": "code",
   "execution_count": 38,
   "metadata": {
    "scrolled": true
   },
   "outputs": [
    {
     "name": "stdout",
     "output_type": "stream",
     "text": [
      "Model: \"sequential_3\"\n",
      "_________________________________________________________________\n",
      "Layer (type)                 Output Shape              Param #   \n",
      "=================================================================\n",
      "dense_7 (Dense)              (None, 100)               1100      \n",
      "_________________________________________________________________\n",
      "dense_8 (Dense)              (None, 50)                5050      \n",
      "_________________________________________________________________\n",
      "dense_9 (Dense)              (None, 30)                1530      \n",
      "_________________________________________________________________\n",
      "dense_10 (Dense)             (None, 1)                 31        \n",
      "=================================================================\n",
      "Total params: 7,711\n",
      "Trainable params: 7,711\n",
      "Non-trainable params: 0\n",
      "_________________________________________________________________\n"
     ]
    }
   ],
   "source": [
    "model3 = Sequential() \n",
    "\n",
    "model3.add(Dense(units=100, activation='relu', input_dim=10))\n",
    "model3.add(Dense(units=50, activation='relu'))\n",
    "model3.add(Dense(units=30, activation='relu'))\n",
    "model3.add(Dense(units=1))\n",
    "\n",
    "model3.compile(loss='mse', optimizer='adam', metrics=['mae', 'acc'])\n",
    "\n",
    "model3.summary()"
   ]
  },
  {
   "cell_type": "markdown",
   "metadata": {},
   "source": [
    "##### Training"
   ]
  },
  {
   "cell_type": "markdown",
   "metadata": {},
   "source": []
  },
  {
   "cell_type": "code",
   "execution_count": 39,
   "metadata": {
    "scrolled": true
   },
   "outputs": [
    {
     "name": "stdout",
     "output_type": "stream",
     "text": [
      "Epoch 1/50\n",
      "404/404 [==============================] - 0s 287us/step - loss: 564.4014 - mae: 21.8275 - acc: 0.0000e+00\n",
      "Epoch 2/50\n",
      "404/404 [==============================] - 0s 42us/step - loss: 493.1108 - mae: 20.1021 - acc: 0.0000e+00\n",
      "Epoch 3/50\n",
      "404/404 [==============================] - 0s 43us/step - loss: 368.2347 - mae: 16.9357 - acc: 0.0025\n",
      "Epoch 4/50\n",
      "404/404 [==============================] - 0s 42us/step - loss: 186.7439 - mae: 11.5170 - acc: 0.0000e+00\n",
      "Epoch 5/50\n",
      "404/404 [==============================] - 0s 44us/step - loss: 68.5253 - mae: 6.2821 - acc: 0.0050\n",
      "Epoch 6/50\n",
      "404/404 [==============================] - 0s 34us/step - loss: 49.4353 - mae: 5.1470 - acc: 0.0074\n",
      "Epoch 7/50\n",
      "404/404 [==============================] - 0s 36us/step - loss: 34.0940 - mae: 4.2041 - acc: 0.0050\n",
      "Epoch 8/50\n",
      "404/404 [==============================] - 0s 25us/step - loss: 27.9452 - mae: 3.7491 - acc: 0.0124\n",
      "Epoch 9/50\n",
      "404/404 [==============================] - 0s 23us/step - loss: 24.6845 - mae: 3.5234 - acc: 0.0050\n",
      "Epoch 10/50\n",
      "404/404 [==============================] - 0s 23us/step - loss: 22.7710 - mae: 3.3131 - acc: 0.0050\n",
      "Epoch 11/50\n",
      "404/404 [==============================] - 0s 23us/step - loss: 21.5136 - mae: 3.1964 - acc: 0.0099\n",
      "Epoch 12/50\n",
      "404/404 [==============================] - 0s 26us/step - loss: 20.5626 - mae: 3.1130 - acc: 0.0124\n",
      "Epoch 13/50\n",
      "404/404 [==============================] - 0s 25us/step - loss: 19.6762 - mae: 3.0279 - acc: 0.0173\n",
      "Epoch 14/50\n",
      "404/404 [==============================] - 0s 25us/step - loss: 19.0706 - mae: 2.9680 - acc: 0.0223\n",
      "Epoch 15/50\n",
      "404/404 [==============================] - 0s 25us/step - loss: 18.2882 - mae: 2.9381 - acc: 0.0223\n",
      "Epoch 16/50\n",
      "404/404 [==============================] - 0s 23us/step - loss: 18.1105 - mae: 2.9004 - acc: 0.0173\n",
      "Epoch 17/50\n",
      "404/404 [==============================] - 0s 25us/step - loss: 17.3691 - mae: 2.8683 - acc: 0.0248\n",
      "Epoch 18/50\n",
      "404/404 [==============================] - 0s 23us/step - loss: 17.0271 - mae: 2.8638 - acc: 0.0173\n",
      "Epoch 19/50\n",
      "404/404 [==============================] - 0s 26us/step - loss: 16.5742 - mae: 2.8256 - acc: 0.0173\n",
      "Epoch 20/50\n",
      "404/404 [==============================] - 0s 25us/step - loss: 16.2524 - mae: 2.7615 - acc: 0.0149\n",
      "Epoch 21/50\n",
      "404/404 [==============================] - 0s 23us/step - loss: 15.8096 - mae: 2.7575 - acc: 0.0149\n",
      "Epoch 22/50\n",
      "404/404 [==============================] - 0s 25us/step - loss: 15.5778 - mae: 2.7459 - acc: 0.0173\n",
      "Epoch 23/50\n",
      "404/404 [==============================] - 0s 23us/step - loss: 15.3044 - mae: 2.6849 - acc: 0.0173\n",
      "Epoch 24/50\n",
      "404/404 [==============================] - 0s 25us/step - loss: 14.9629 - mae: 2.6700 - acc: 0.0099\n",
      "Epoch 25/50\n",
      "404/404 [==============================] - 0s 23us/step - loss: 15.0165 - mae: 2.7115 - acc: 0.0173\n",
      "Epoch 26/50\n",
      "404/404 [==============================] - 0s 25us/step - loss: 14.9413 - mae: 2.6358 - acc: 0.0173\n",
      "Epoch 27/50\n",
      "404/404 [==============================] - 0s 25us/step - loss: 14.3529 - mae: 2.6149 - acc: 0.0173\n",
      "Epoch 28/50\n",
      "404/404 [==============================] - 0s 23us/step - loss: 14.1621 - mae: 2.5891 - acc: 0.0173\n",
      "Epoch 29/50\n",
      "404/404 [==============================] - 0s 25us/step - loss: 14.0825 - mae: 2.5734 - acc: 0.0198\n",
      "Epoch 30/50\n",
      "404/404 [==============================] - 0s 23us/step - loss: 13.9574 - mae: 2.5426 - acc: 0.0223\n",
      "Epoch 31/50\n",
      "404/404 [==============================] - 0s 25us/step - loss: 13.8777 - mae: 2.5565 - acc: 0.0198\n",
      "Epoch 32/50\n",
      "404/404 [==============================] - 0s 25us/step - loss: 13.5921 - mae: 2.5213 - acc: 0.0223\n",
      "Epoch 33/50\n",
      "404/404 [==============================] - 0s 26us/step - loss: 13.3617 - mae: 2.5157 - acc: 0.0173\n",
      "Epoch 34/50\n",
      "404/404 [==============================] - 0s 25us/step - loss: 13.3222 - mae: 2.5161 - acc: 0.0248\n",
      "Epoch 35/50\n",
      "404/404 [==============================] - 0s 25us/step - loss: 13.2048 - mae: 2.4920 - acc: 0.0272\n",
      "Epoch 36/50\n",
      "404/404 [==============================] - 0s 25us/step - loss: 13.0770 - mae: 2.5170 - acc: 0.0173\n",
      "Epoch 37/50\n",
      "404/404 [==============================] - 0s 23us/step - loss: 12.8669 - mae: 2.4561 - acc: 0.0248\n",
      "Epoch 38/50\n",
      "404/404 [==============================] - 0s 25us/step - loss: 12.8103 - mae: 2.4702 - acc: 0.0272\n",
      "Epoch 39/50\n",
      "404/404 [==============================] - 0s 23us/step - loss: 12.5005 - mae: 2.4356 - acc: 0.0223\n",
      "Epoch 40/50\n",
      "404/404 [==============================] - 0s 22us/step - loss: 12.4374 - mae: 2.4131 - acc: 0.0223\n",
      "Epoch 41/50\n",
      "404/404 [==============================] - 0s 23us/step - loss: 12.4429 - mae: 2.4586 - acc: 0.0173\n",
      "Epoch 42/50\n",
      "404/404 [==============================] - 0s 25us/step - loss: 12.3382 - mae: 2.3756 - acc: 0.0322\n",
      "Epoch 43/50\n",
      "404/404 [==============================] - 0s 25us/step - loss: 12.0782 - mae: 2.4135 - acc: 0.0248\n",
      "Epoch 44/50\n",
      "404/404 [==============================] - 0s 25us/step - loss: 12.3706 - mae: 2.4074 - acc: 0.0173\n",
      "Epoch 45/50\n",
      "404/404 [==============================] - 0s 25us/step - loss: 11.8331 - mae: 2.3557 - acc: 0.0248\n",
      "Epoch 46/50\n",
      "404/404 [==============================] - 0s 23us/step - loss: 11.7426 - mae: 2.3769 - acc: 0.0248\n",
      "Epoch 47/50\n",
      "404/404 [==============================] - 0s 25us/step - loss: 11.6519 - mae: 2.3444 - acc: 0.0248\n",
      "Epoch 48/50\n",
      "404/404 [==============================] - 0s 25us/step - loss: 11.3950 - mae: 2.3345 - acc: 0.0223\n",
      "Epoch 49/50\n",
      "404/404 [==============================] - 0s 25us/step - loss: 11.4522 - mae: 2.3109 - acc: 0.0223\n",
      "Epoch 50/50\n",
      "404/404 [==============================] - 0s 25us/step - loss: 11.1479 - mae: 2.2909 - acc: 0.0248\n"
     ]
    }
   ],
   "source": [
    "history3 = model3.fit(inputs_train_norm, outputs_train, epochs=50)"
   ]
  },
  {
   "cell_type": "markdown",
   "metadata": {},
   "source": [
    "##### Results"
   ]
  },
  {
   "cell_type": "markdown",
   "metadata": {},
   "source": [
    "Slightly more accurate than the second attempt:\n",
    "* Loss (Mean Squared Error): ~11\n",
    "* Mean Absolute Error: ~2.3\n",
    "* Accuracy: 0.0149"
   ]
  },
  {
   "cell_type": "markdown",
   "metadata": {},
   "source": [
    "#### Fourth Attempt - Widen"
   ]
  },
  {
   "cell_type": "markdown",
   "metadata": {},
   "source": [
    "We will develop the third attempt model and widen it now by increasing the units in each hidden layer."
   ]
  },
  {
   "cell_type": "markdown",
   "metadata": {},
   "source": [
    "##### Construct Model"
   ]
  },
  {
   "cell_type": "code",
   "execution_count": 40,
   "metadata": {
    "scrolled": true
   },
   "outputs": [
    {
     "name": "stdout",
     "output_type": "stream",
     "text": [
      "Model: \"sequential_4\"\n",
      "_________________________________________________________________\n",
      "Layer (type)                 Output Shape              Param #   \n",
      "=================================================================\n",
      "dense_11 (Dense)             (None, 150)               1650      \n",
      "_________________________________________________________________\n",
      "dense_12 (Dense)             (None, 75)                11325     \n",
      "_________________________________________________________________\n",
      "dense_13 (Dense)             (None, 40)                3040      \n",
      "_________________________________________________________________\n",
      "dense_14 (Dense)             (None, 1)                 41        \n",
      "=================================================================\n",
      "Total params: 16,056\n",
      "Trainable params: 16,056\n",
      "Non-trainable params: 0\n",
      "_________________________________________________________________\n"
     ]
    }
   ],
   "source": [
    "model4 = Sequential() \n",
    "\n",
    "model4.add(Dense(units=200, activation='relu', input_dim=10))\n",
    "model4.add(Dense(units=100, activation='relu'))\n",
    "model4.add(Dense(units=50, activation='relu'))\n",
    "model4.add(Dense(units=1))\n",
    "\n",
    "model4.compile(loss='mse', optimizer='adam', metrics=['mae', 'acc'])\n",
    "\n",
    "model4.summary()"
   ]
  },
  {
   "cell_type": "markdown",
   "metadata": {},
   "source": [
    "##### Training"
   ]
  },
  {
   "cell_type": "markdown",
   "metadata": {},
   "source": []
  },
  {
   "cell_type": "code",
   "execution_count": 41,
   "metadata": {
    "scrolled": true
   },
   "outputs": [
    {
     "name": "stdout",
     "output_type": "stream",
     "text": [
      "Epoch 1/50\n",
      "404/404 [==============================] - 0s 308us/step - loss: 549.7077 - mae: 21.5305 - acc: 0.0000e+00\n",
      "Epoch 2/50\n",
      "404/404 [==============================] - 0s 44us/step - loss: 411.6574 - mae: 18.1789 - acc: 0.0000e+00\n",
      "Epoch 3/50\n",
      "404/404 [==============================] - 0s 52us/step - loss: 177.2180 - mae: 11.1709 - acc: 0.0000e+00\n",
      "Epoch 4/50\n",
      "404/404 [==============================] - 0s 39us/step - loss: 63.8479 - mae: 6.0090 - acc: 0.0025\n",
      "Epoch 5/50\n",
      "404/404 [==============================] - 0s 48us/step - loss: 38.7369 - mae: 4.4125 - acc: 0.0124\n",
      "Epoch 6/50\n",
      "404/404 [==============================] - 0s 39us/step - loss: 28.1781 - mae: 3.7997 - acc: 0.0099\n",
      "Epoch 7/50\n",
      "404/404 [==============================] - 0s 44us/step - loss: 23.6529 - mae: 3.5161 - acc: 0.0124\n",
      "Epoch 8/50\n",
      "404/404 [==============================] - 0s 29us/step - loss: 21.9930 - mae: 3.3035 - acc: 0.0149\n",
      "Epoch 9/50\n",
      "404/404 [==============================] - 0s 28us/step - loss: 20.8509 - mae: 3.1693 - acc: 0.0099\n",
      "Epoch 10/50\n",
      "404/404 [==============================] - 0s 27us/step - loss: 19.7687 - mae: 3.0729 - acc: 0.0223\n",
      "Epoch 11/50\n",
      "404/404 [==============================] - 0s 29us/step - loss: 18.9897 - mae: 3.0077 - acc: 0.0198\n",
      "Epoch 12/50\n",
      "404/404 [==============================] - 0s 28us/step - loss: 18.4261 - mae: 2.9269 - acc: 0.0173\n",
      "Epoch 13/50\n",
      "404/404 [==============================] - 0s 29us/step - loss: 17.8240 - mae: 2.8908 - acc: 0.0223\n",
      "Epoch 14/50\n",
      "404/404 [==============================] - 0s 29us/step - loss: 17.3583 - mae: 2.8574 - acc: 0.0223\n",
      "Epoch 15/50\n",
      "404/404 [==============================] - 0s 28us/step - loss: 16.9786 - mae: 2.8073 - acc: 0.0272\n",
      "Epoch 16/50\n",
      "404/404 [==============================] - 0s 29us/step - loss: 16.5532 - mae: 2.8039 - acc: 0.0248\n",
      "Epoch 17/50\n",
      "404/404 [==============================] - 0s 28us/step - loss: 16.3387 - mae: 2.7793 - acc: 0.0198\n",
      "Epoch 18/50\n",
      "404/404 [==============================] - 0s 26us/step - loss: 15.8858 - mae: 2.7224 - acc: 0.0198\n",
      "Epoch 19/50\n",
      "404/404 [==============================] - 0s 27us/step - loss: 15.6883 - mae: 2.7347 - acc: 0.0198\n",
      "Epoch 20/50\n",
      "404/404 [==============================] - 0s 29us/step - loss: 15.3580 - mae: 2.6687 - acc: 0.0198\n",
      "Epoch 21/50\n",
      "404/404 [==============================] - 0s 27us/step - loss: 15.2934 - mae: 2.7179 - acc: 0.0198\n",
      "Epoch 22/50\n",
      "404/404 [==============================] - 0s 30us/step - loss: 15.0932 - mae: 2.6553 - acc: 0.0173\n",
      "Epoch 23/50\n",
      "404/404 [==============================] - 0s 29us/step - loss: 14.6548 - mae: 2.6142 - acc: 0.0223\n",
      "Epoch 24/50\n",
      "404/404 [==============================] - 0s 31us/step - loss: 14.7887 - mae: 2.6356 - acc: 0.0198\n",
      "Epoch 25/50\n",
      "404/404 [==============================] - 0s 36us/step - loss: 14.5037 - mae: 2.6209 - acc: 0.0198\n",
      "Epoch 26/50\n",
      "404/404 [==============================] - 0s 32us/step - loss: 14.1716 - mae: 2.5444 - acc: 0.0198\n",
      "Epoch 27/50\n",
      "404/404 [==============================] - 0s 26us/step - loss: 14.1222 - mae: 2.6214 - acc: 0.0223\n",
      "Epoch 28/50\n",
      "404/404 [==============================] - 0s 27us/step - loss: 13.8939 - mae: 2.5247 - acc: 0.0198\n",
      "Epoch 29/50\n",
      "404/404 [==============================] - 0s 28us/step - loss: 13.6464 - mae: 2.5382 - acc: 0.0149\n",
      "Epoch 30/50\n",
      "404/404 [==============================] - 0s 27us/step - loss: 13.4659 - mae: 2.5296 - acc: 0.0173\n",
      "Epoch 31/50\n",
      "404/404 [==============================] - 0s 27us/step - loss: 13.6278 - mae: 2.5113 - acc: 0.0173\n",
      "Epoch 32/50\n",
      "404/404 [==============================] - 0s 28us/step - loss: 13.1729 - mae: 2.4685 - acc: 0.0173\n",
      "Epoch 33/50\n",
      "404/404 [==============================] - 0s 31us/step - loss: 13.0866 - mae: 2.4537 - acc: 0.0198\n",
      "Epoch 34/50\n",
      "404/404 [==============================] - 0s 26us/step - loss: 12.9960 - mae: 2.4966 - acc: 0.0198\n",
      "Epoch 35/50\n",
      "404/404 [==============================] - 0s 27us/step - loss: 12.6237 - mae: 2.4263 - acc: 0.0149\n",
      "Epoch 36/50\n",
      "404/404 [==============================] - 0s 26us/step - loss: 12.5326 - mae: 2.3947 - acc: 0.0173\n",
      "Epoch 37/50\n",
      "404/404 [==============================] - 0s 29us/step - loss: 12.6992 - mae: 2.4501 - acc: 0.0198\n",
      "Epoch 38/50\n",
      "404/404 [==============================] - 0s 27us/step - loss: 12.3044 - mae: 2.3861 - acc: 0.0149\n",
      "Epoch 39/50\n",
      "404/404 [==============================] - 0s 26us/step - loss: 12.1837 - mae: 2.3852 - acc: 0.0149\n",
      "Epoch 40/50\n",
      "404/404 [==============================] - 0s 27us/step - loss: 12.0435 - mae: 2.3445 - acc: 0.0149\n",
      "Epoch 41/50\n",
      "404/404 [==============================] - 0s 27us/step - loss: 11.9949 - mae: 2.3639 - acc: 0.0198\n",
      "Epoch 42/50\n",
      "404/404 [==============================] - 0s 27us/step - loss: 12.1681 - mae: 2.3797 - acc: 0.0149\n",
      "Epoch 43/50\n",
      "404/404 [==============================] - 0s 28us/step - loss: 11.6645 - mae: 2.3295 - acc: 0.0223\n",
      "Epoch 44/50\n",
      "404/404 [==============================] - 0s 28us/step - loss: 11.8370 - mae: 2.3519 - acc: 0.0248\n",
      "Epoch 45/50\n",
      "404/404 [==============================] - 0s 27us/step - loss: 11.3684 - mae: 2.2816 - acc: 0.0173\n",
      "Epoch 46/50\n",
      "404/404 [==============================] - 0s 27us/step - loss: 11.2121 - mae: 2.2407 - acc: 0.0248\n",
      "Epoch 47/50\n",
      "404/404 [==============================] - 0s 27us/step - loss: 11.0271 - mae: 2.2589 - acc: 0.0223\n",
      "Epoch 48/50\n",
      "404/404 [==============================] - 0s 28us/step - loss: 11.1325 - mae: 2.2325 - acc: 0.0149\n",
      "Epoch 49/50\n",
      "404/404 [==============================] - 0s 28us/step - loss: 10.9126 - mae: 2.2566 - acc: 0.0248\n",
      "Epoch 50/50\n",
      "404/404 [==============================] - 0s 31us/step - loss: 10.9680 - mae: 2.2457 - acc: 0.0149\n"
     ]
    }
   ],
   "source": [
    "history4a = model4.fit(inputs_train_norm, outputs_train, epochs=50)"
   ]
  },
  {
   "cell_type": "code",
   "execution_count": 48,
   "metadata": {
    "scrolled": true
   },
   "outputs": [
    {
     "name": "stdout",
     "output_type": "stream",
     "text": [
      "Epoch 1/100\n",
      "404/404 [==============================] - 0s 32us/step - loss: 10.8273 - mae: 2.2102 - acc: 0.0198\n",
      "Epoch 2/100\n",
      "404/404 [==============================] - 0s 48us/step - loss: 10.6268 - mae: 2.2285 - acc: 0.0198\n",
      "Epoch 3/100\n",
      "404/404 [==============================] - 0s 50us/step - loss: 10.3605 - mae: 2.1790 - acc: 0.0223\n",
      "Epoch 4/100\n",
      "404/404 [==============================] - 0s 39us/step - loss: 10.3803 - mae: 2.1646 - acc: 0.0223\n",
      "Epoch 5/100\n",
      "404/404 [==============================] - 0s 38us/step - loss: 10.4411 - mae: 2.1939 - acc: 0.0173\n",
      "Epoch 6/100\n",
      "404/404 [==============================] - 0s 42us/step - loss: 10.1246 - mae: 2.1105 - acc: 0.0223\n",
      "Epoch 7/100\n",
      "404/404 [==============================] - 0s 40us/step - loss: 10.0857 - mae: 2.1488 - acc: 0.0297\n",
      "Epoch 8/100\n",
      "404/404 [==============================] - 0s 37us/step - loss: 9.9538 - mae: 2.1280 - acc: 0.0223\n",
      "Epoch 9/100\n",
      "404/404 [==============================] - 0s 37us/step - loss: 9.9145 - mae: 2.1220 - acc: 0.0149\n",
      "Epoch 10/100\n",
      "404/404 [==============================] - 0s 41us/step - loss: 10.4627 - mae: 2.2027 - acc: 0.0198\n",
      "Epoch 11/100\n",
      "404/404 [==============================] - 0s 41us/step - loss: 9.8457 - mae: 2.1369 - acc: 0.0198\n",
      "Epoch 12/100\n",
      "404/404 [==============================] - 0s 37us/step - loss: 9.5262 - mae: 2.0916 - acc: 0.0223\n",
      "Epoch 13/100\n",
      "404/404 [==============================] - 0s 37us/step - loss: 9.7044 - mae: 2.1491 - acc: 0.0198\n",
      "Epoch 14/100\n",
      "404/404 [==============================] - 0s 41us/step - loss: 9.6619 - mae: 2.1093 - acc: 0.0223\n",
      "Epoch 15/100\n",
      "404/404 [==============================] - 0s 37us/step - loss: 9.5241 - mae: 2.1376 - acc: 0.0149\n",
      "Epoch 16/100\n",
      "404/404 [==============================] - 0s 38us/step - loss: 9.5309 - mae: 2.0921 - acc: 0.0198\n",
      "Epoch 17/100\n",
      "404/404 [==============================] - 0s 39us/step - loss: 9.2410 - mae: 2.0774 - acc: 0.0149\n",
      "Epoch 18/100\n",
      "404/404 [==============================] - 0s 39us/step - loss: 9.3089 - mae: 2.0626 - acc: 0.0198\n",
      "Epoch 19/100\n",
      "404/404 [==============================] - 0s 38us/step - loss: 8.8914 - mae: 2.0245 - acc: 0.0198\n",
      "Epoch 20/100\n",
      "404/404 [==============================] - 0s 38us/step - loss: 8.8619 - mae: 2.0079 - acc: 0.0198\n",
      "Epoch 21/100\n",
      "404/404 [==============================] - 0s 38us/step - loss: 9.1537 - mae: 2.0926 - acc: 0.0173\n",
      "Epoch 22/100\n",
      "404/404 [==============================] - 0s 38us/step - loss: 8.7498 - mae: 1.9925 - acc: 0.0149\n",
      "Epoch 23/100\n",
      "404/404 [==============================] - 0s 34us/step - loss: 8.4881 - mae: 1.9924 - acc: 0.0223\n",
      "Epoch 24/100\n",
      "404/404 [==============================] - 0s 37us/step - loss: 9.2516 - mae: 2.0547 - acc: 0.0297\n",
      "Epoch 25/100\n",
      "404/404 [==============================] - 0s 45us/step - loss: 8.2543 - mae: 1.9381 - acc: 0.0248\n",
      "Epoch 26/100\n",
      "404/404 [==============================] - 0s 37us/step - loss: 8.5024 - mae: 1.9759 - acc: 0.0198\n",
      "Epoch 27/100\n",
      "404/404 [==============================] - 0s 38us/step - loss: 8.5117 - mae: 2.0106 - acc: 0.0347\n",
      "Epoch 28/100\n",
      "404/404 [==============================] - 0s 29us/step - loss: 8.5582 - mae: 2.0159 - acc: 0.0248\n",
      "Epoch 29/100\n",
      "404/404 [==============================] - 0s 33us/step - loss: 8.2269 - mae: 1.9368 - acc: 0.0248\n",
      "Epoch 30/100\n",
      "404/404 [==============================] - 0s 32us/step - loss: 8.0633 - mae: 1.9363 - acc: 0.0248\n",
      "Epoch 31/100\n",
      "404/404 [==============================] - 0s 38us/step - loss: 8.0811 - mae: 1.9123 - acc: 0.0272\n",
      "Epoch 32/100\n",
      "404/404 [==============================] - 0s 34us/step - loss: 8.1311 - mae: 1.9542 - acc: 0.0198\n",
      "Epoch 33/100\n",
      "404/404 [==============================] - 0s 28us/step - loss: 7.9763 - mae: 1.9498 - acc: 0.0173\n",
      "Epoch 34/100\n",
      "404/404 [==============================] - 0s 28us/step - loss: 8.6118 - mae: 2.0456 - acc: 0.0149\n",
      "Epoch 35/100\n",
      "404/404 [==============================] - 0s 29us/step - loss: 7.9987 - mae: 1.9276 - acc: 0.0248\n",
      "Epoch 36/100\n",
      "404/404 [==============================] - 0s 32us/step - loss: 7.8711 - mae: 1.9417 - acc: 0.0124\n",
      "Epoch 37/100\n",
      "404/404 [==============================] - 0s 32us/step - loss: 7.6706 - mae: 1.9129 - acc: 0.0223\n",
      "Epoch 38/100\n",
      "404/404 [==============================] - 0s 29us/step - loss: 7.9212 - mae: 1.9778 - acc: 0.0223\n",
      "Epoch 39/100\n",
      "404/404 [==============================] - 0s 29us/step - loss: 7.7783 - mae: 1.9291 - acc: 0.0272\n",
      "Epoch 40/100\n",
      "404/404 [==============================] - 0s 36us/step - loss: 7.2063 - mae: 1.8362 - acc: 0.0248\n",
      "Epoch 41/100\n",
      "404/404 [==============================] - 0s 33us/step - loss: 7.3866 - mae: 1.8944 - acc: 0.0223\n",
      "Epoch 42/100\n",
      "404/404 [==============================] - 0s 33us/step - loss: 7.1900 - mae: 1.8847 - acc: 0.0223\n",
      "Epoch 43/100\n",
      "404/404 [==============================] - 0s 34us/step - loss: 7.8138 - mae: 1.9391 - acc: 0.0322\n",
      "Epoch 44/100\n",
      "404/404 [==============================] - 0s 34us/step - loss: 7.1696 - mae: 1.8732 - acc: 0.0173\n",
      "Epoch 45/100\n",
      "404/404 [==============================] - 0s 34us/step - loss: 6.8957 - mae: 1.7956 - acc: 0.0248\n",
      "Epoch 46/100\n",
      "404/404 [==============================] - 0s 32us/step - loss: 7.0688 - mae: 1.8469 - acc: 0.0322\n",
      "Epoch 47/100\n",
      "404/404 [==============================] - 0s 36us/step - loss: 6.8377 - mae: 1.8097 - acc: 0.0223\n",
      "Epoch 48/100\n",
      "404/404 [==============================] - 0s 33us/step - loss: 6.5911 - mae: 1.7810 - acc: 0.0297\n",
      "Epoch 49/100\n",
      "404/404 [==============================] - 0s 38us/step - loss: 6.9389 - mae: 1.8500 - acc: 0.0198\n",
      "Epoch 50/100\n",
      "404/404 [==============================] - 0s 32us/step - loss: 6.9183 - mae: 1.8279 - acc: 0.0272\n",
      "Epoch 51/100\n",
      "404/404 [==============================] - 0s 31us/step - loss: 6.6944 - mae: 1.8191 - acc: 0.0297\n",
      "Epoch 52/100\n",
      "404/404 [==============================] - 0s 31us/step - loss: 6.3378 - mae: 1.7711 - acc: 0.0198\n",
      "Epoch 53/100\n",
      "404/404 [==============================] - 0s 31us/step - loss: 6.4421 - mae: 1.8375 - acc: 0.0248\n",
      "Epoch 54/100\n",
      "404/404 [==============================] - 0s 31us/step - loss: 6.4121 - mae: 1.7667 - acc: 0.0248\n",
      "Epoch 55/100\n",
      "404/404 [==============================] - 0s 29us/step - loss: 6.2032 - mae: 1.7425 - acc: 0.0223\n",
      "Epoch 56/100\n",
      "404/404 [==============================] - 0s 33us/step - loss: 6.3336 - mae: 1.7685 - acc: 0.0396\n",
      "Epoch 57/100\n",
      "404/404 [==============================] - 0s 32us/step - loss: 6.1622 - mae: 1.7616 - acc: 0.0173\n",
      "Epoch 58/100\n",
      "404/404 [==============================] - 0s 31us/step - loss: 6.3840 - mae: 1.8087 - acc: 0.0272\n",
      "Epoch 59/100\n",
      "404/404 [==============================] - 0s 29us/step - loss: 5.9343 - mae: 1.7233 - acc: 0.0198\n",
      "Epoch 60/100\n",
      "404/404 [==============================] - 0s 52us/step - loss: 5.6706 - mae: 1.6965 - acc: 0.0248\n",
      "Epoch 61/100\n",
      "404/404 [==============================] - 0s 50us/step - loss: 5.8965 - mae: 1.7054 - acc: 0.0272\n",
      "Epoch 62/100\n",
      "404/404 [==============================] - 0s 55us/step - loss: 6.0525 - mae: 1.7823 - acc: 0.0248\n",
      "Epoch 63/100\n",
      "404/404 [==============================] - 0s 55us/step - loss: 6.0242 - mae: 1.7799 - acc: 0.0223\n",
      "Epoch 64/100\n",
      "404/404 [==============================] - 0s 53us/step - loss: 6.1327 - mae: 1.8056 - acc: 0.0272\n",
      "Epoch 65/100\n",
      "404/404 [==============================] - 0s 56us/step - loss: 5.6694 - mae: 1.7106 - acc: 0.0248\n",
      "Epoch 66/100\n",
      "404/404 [==============================] - 0s 54us/step - loss: 5.3978 - mae: 1.6729 - acc: 0.0322\n",
      "Epoch 67/100\n",
      "404/404 [==============================] - 0s 56us/step - loss: 5.5039 - mae: 1.6735 - acc: 0.0371\n",
      "Epoch 68/100\n",
      "404/404 [==============================] - 0s 58us/step - loss: 5.6439 - mae: 1.7358 - acc: 0.0272\n",
      "Epoch 69/100\n",
      "404/404 [==============================] - 0s 63us/step - loss: 5.5980 - mae: 1.6916 - acc: 0.0322\n",
      "Epoch 70/100\n",
      "404/404 [==============================] - 0s 59us/step - loss: 5.4176 - mae: 1.6914 - acc: 0.0248\n",
      "Epoch 71/100\n",
      "404/404 [==============================] - 0s 42us/step - loss: 5.4418 - mae: 1.6914 - acc: 0.0223\n",
      "Epoch 72/100\n",
      "404/404 [==============================] - 0s 33us/step - loss: 5.2557 - mae: 1.6274 - acc: 0.0322\n",
      "Epoch 73/100\n",
      "404/404 [==============================] - 0s 37us/step - loss: 5.1600 - mae: 1.6611 - acc: 0.0272\n",
      "Epoch 74/100\n",
      "404/404 [==============================] - 0s 36us/step - loss: 5.1503 - mae: 1.6325 - acc: 0.0272\n",
      "Epoch 75/100\n",
      "404/404 [==============================] - 0s 39us/step - loss: 4.9853 - mae: 1.6216 - acc: 0.0272\n",
      "Epoch 76/100\n",
      "404/404 [==============================] - 0s 52us/step - loss: 5.1845 - mae: 1.6597 - acc: 0.0248\n",
      "Epoch 77/100\n",
      "404/404 [==============================] - 0s 54us/step - loss: 5.0085 - mae: 1.6488 - acc: 0.0223\n",
      "Epoch 78/100\n",
      "404/404 [==============================] - 0s 56us/step - loss: 5.1228 - mae: 1.6653 - acc: 0.0322\n",
      "Epoch 79/100\n",
      "404/404 [==============================] - 0s 76us/step - loss: 4.9711 - mae: 1.6000 - acc: 0.0297\n",
      "Epoch 80/100\n",
      "404/404 [==============================] - 0s 65us/step - loss: 4.8067 - mae: 1.6085 - acc: 0.0149\n",
      "Epoch 81/100\n",
      "404/404 [==============================] - 0s 59us/step - loss: 4.7367 - mae: 1.5724 - acc: 0.0297\n",
      "Epoch 82/100\n",
      "404/404 [==============================] - 0s 59us/step - loss: 4.6334 - mae: 1.5535 - acc: 0.0248\n",
      "Epoch 83/100\n",
      "404/404 [==============================] - 0s 61us/step - loss: 4.8097 - mae: 1.6004 - acc: 0.0272\n",
      "Epoch 84/100\n",
      "404/404 [==============================] - 0s 72us/step - loss: 4.5856 - mae: 1.5848 - acc: 0.0297\n",
      "Epoch 85/100\n",
      "404/404 [==============================] - 0s 47us/step - loss: 4.7056 - mae: 1.5816 - acc: 0.0248\n",
      "Epoch 86/100\n",
      "404/404 [==============================] - 0s 38us/step - loss: 4.7566 - mae: 1.6288 - acc: 0.0297\n",
      "Epoch 87/100\n",
      "404/404 [==============================] - 0s 37us/step - loss: 4.8221 - mae: 1.6013 - acc: 0.0223\n",
      "Epoch 88/100\n",
      "404/404 [==============================] - 0s 37us/step - loss: 4.5670 - mae: 1.5877 - acc: 0.0297\n",
      "Epoch 89/100\n",
      "404/404 [==============================] - 0s 47us/step - loss: 4.5943 - mae: 1.5869 - acc: 0.0297\n",
      "Epoch 90/100\n",
      "404/404 [==============================] - 0s 53us/step - loss: 4.4920 - mae: 1.5362 - acc: 0.0421\n",
      "Epoch 91/100\n",
      "404/404 [==============================] - 0s 60us/step - loss: 4.3520 - mae: 1.5132 - acc: 0.0297\n",
      "Epoch 92/100\n",
      "404/404 [==============================] - 0s 60us/step - loss: 4.3051 - mae: 1.4967 - acc: 0.0347\n",
      "Epoch 93/100\n",
      "404/404 [==============================] - 0s 50us/step - loss: 4.3299 - mae: 1.5259 - acc: 0.0297\n",
      "Epoch 94/100\n",
      "404/404 [==============================] - 0s 47us/step - loss: 4.2146 - mae: 1.4965 - acc: 0.0446\n",
      "Epoch 95/100\n",
      "404/404 [==============================] - 0s 45us/step - loss: 4.2681 - mae: 1.4971 - acc: 0.0371\n",
      "Epoch 96/100\n",
      "404/404 [==============================] - 0s 48us/step - loss: 4.3085 - mae: 1.5227 - acc: 0.0396\n",
      "Epoch 97/100\n",
      "404/404 [==============================] - 0s 48us/step - loss: 5.2187 - mae: 1.7053 - acc: 0.0248\n",
      "Epoch 98/100\n",
      "404/404 [==============================] - 0s 48us/step - loss: 4.8272 - mae: 1.6367 - acc: 0.0198\n",
      "Epoch 99/100\n",
      "404/404 [==============================] - 0s 47us/step - loss: 4.4479 - mae: 1.5165 - acc: 0.0421\n",
      "Epoch 100/100\n",
      "404/404 [==============================] - 0s 48us/step - loss: 3.9404 - mae: 1.4452 - acc: 0.0322\n"
     ]
    }
   ],
   "source": [
    "history4b = model4.fit(inputs_train_norm, outputs_train, epochs=100)"
   ]
  },
  {
   "cell_type": "markdown",
   "metadata": {},
   "source": [
    "##### Results"
   ]
  },
  {
   "cell_type": "markdown",
   "metadata": {},
   "source": [
    "More accurate than all previous attempts:\n",
    "* Loss (Mean Squared Error): ~8\n",
    "* Mean Absolute Error: ~2.0\n",
    "* Accuracy: 0.0272"
   ]
  },
  {
   "cell_type": "markdown",
   "metadata": {},
   "source": [
    "#### Fifth Attempt - Maximise"
   ]
  },
  {
   "cell_type": "markdown",
   "metadata": {},
   "source": [
    "The results for all attempts above indicate a general convergence with increasing number of epochs. This is a good opportunity to increase that in order to improve results."
   ]
  },
  {
   "cell_type": "markdown",
   "metadata": {},
   "source": [
    "##### Construct Model"
   ]
  },
  {
   "cell_type": "code",
   "execution_count": 49,
   "metadata": {
    "scrolled": true
   },
   "outputs": [
    {
     "name": "stdout",
     "output_type": "stream",
     "text": [
      "Model: \"sequential_7\"\n",
      "_________________________________________________________________\n",
      "Layer (type)                 Output Shape              Param #   \n",
      "=================================================================\n",
      "dense_24 (Dense)             (None, 300)               3300      \n",
      "_________________________________________________________________\n",
      "dense_25 (Dense)             (None, 150)               45150     \n",
      "_________________________________________________________________\n",
      "dense_26 (Dense)             (None, 75)                11325     \n",
      "_________________________________________________________________\n",
      "dense_27 (Dense)             (None, 40)                3040      \n",
      "_________________________________________________________________\n",
      "dense_28 (Dense)             (None, 1)                 41        \n",
      "=================================================================\n",
      "Total params: 62,856\n",
      "Trainable params: 62,856\n",
      "Non-trainable params: 0\n",
      "_________________________________________________________________\n"
     ]
    }
   ],
   "source": [
    "model5 = Sequential() \n",
    "\n",
    "model5.add(Dense(units=300, activation='relu', input_dim=10))\n",
    "model5.add(Dense(units=150, activation='relu'))\n",
    "model5.add(Dense(units=75, activation='relu'))\n",
    "model5.add(Dense(units=40, activation='relu'))\n",
    "model5.add(Dense(units=1))\n",
    "\n",
    "model5.compile(loss='mse', optimizer='adam', metrics=['mae', 'acc'])\n",
    "\n",
    "model5.summary()"
   ]
  },
  {
   "cell_type": "markdown",
   "metadata": {},
   "source": [
    "##### Training"
   ]
  },
  {
   "cell_type": "markdown",
   "metadata": {},
   "source": []
  },
  {
   "cell_type": "code",
   "execution_count": 50,
   "metadata": {
    "scrolled": true
   },
   "outputs": [
    {
     "name": "stdout",
     "output_type": "stream",
     "text": [
      "Epoch 1/100\n",
      "404/404 [==============================] - 0s 435us/step - loss: 561.8536 - mae: 21.8022 - acc: 0.0000e+00\n",
      "Epoch 2/100\n",
      "404/404 [==============================] - 0s 50us/step - loss: 322.4969 - mae: 15.3112 - acc: 0.0050\n",
      "Epoch 3/100\n",
      "404/404 [==============================] - 0s 61us/step - loss: 77.9623 - mae: 6.6628 - acc: 0.0025\n",
      "Epoch 4/100\n",
      "404/404 [==============================] - 0s 48us/step - loss: 38.3214 - mae: 4.4566 - acc: 0.0099\n",
      "Epoch 5/100\n",
      "404/404 [==============================] - 0s 48us/step - loss: 25.9334 - mae: 3.5859 - acc: 0.0025\n",
      "Epoch 6/100\n",
      "404/404 [==============================] - 0s 48us/step - loss: 22.6637 - mae: 3.3046 - acc: 0.0099\n",
      "Epoch 7/100\n",
      "404/404 [==============================] - 0s 47us/step - loss: 20.5291 - mae: 3.1064 - acc: 0.0025\n",
      "Epoch 8/100\n",
      "404/404 [==============================] - 0s 44us/step - loss: 19.3650 - mae: 3.0124 - acc: 0.0173\n",
      "Epoch 9/100\n",
      "404/404 [==============================] - 0s 44us/step - loss: 18.1365 - mae: 2.9195 - acc: 0.0173\n",
      "Epoch 10/100\n",
      "404/404 [==============================] - 0s 45us/step - loss: 17.2989 - mae: 2.8745 - acc: 0.0173\n",
      "Epoch 11/100\n",
      "404/404 [==============================] - 0s 42us/step - loss: 17.0950 - mae: 2.8505 - acc: 0.0223\n",
      "Epoch 12/100\n",
      "404/404 [==============================] - 0s 44us/step - loss: 16.7497 - mae: 2.8391 - acc: 0.0074\n",
      "Epoch 13/100\n",
      "404/404 [==============================] - 0s 44us/step - loss: 15.5470 - mae: 2.6888 - acc: 0.0074\n",
      "Epoch 14/100\n",
      "404/404 [==============================] - 0s 43us/step - loss: 15.4510 - mae: 2.6622 - acc: 0.0124\n",
      "Epoch 15/100\n",
      "404/404 [==============================] - 0s 41us/step - loss: 14.9106 - mae: 2.6623 - acc: 0.0074\n",
      "Epoch 16/100\n",
      "404/404 [==============================] - 0s 43us/step - loss: 14.8077 - mae: 2.6515 - acc: 0.0272\n",
      "Epoch 17/100\n",
      "404/404 [==============================] - 0s 45us/step - loss: 14.8244 - mae: 2.6279 - acc: 0.0272\n",
      "Epoch 18/100\n",
      "404/404 [==============================] - 0s 42us/step - loss: 14.2651 - mae: 2.5974 - acc: 0.0173\n",
      "Epoch 19/100\n",
      "404/404 [==============================] - 0s 43us/step - loss: 13.8821 - mae: 2.5191 - acc: 0.0173\n",
      "Epoch 20/100\n",
      "404/404 [==============================] - 0s 42us/step - loss: 13.3963 - mae: 2.4982 - acc: 0.0099\n",
      "Epoch 21/100\n",
      "404/404 [==============================] - 0s 43us/step - loss: 13.4691 - mae: 2.4861 - acc: 0.0099\n",
      "Epoch 22/100\n",
      "404/404 [==============================] - 0s 45us/step - loss: 13.0520 - mae: 2.4251 - acc: 0.0173\n",
      "Epoch 23/100\n",
      "404/404 [==============================] - 0s 45us/step - loss: 13.1028 - mae: 2.4761 - acc: 0.0173\n",
      "Epoch 24/100\n",
      "404/404 [==============================] - 0s 48us/step - loss: 12.7205 - mae: 2.4661 - acc: 0.0149\n",
      "Epoch 25/100\n",
      "404/404 [==============================] - 0s 47us/step - loss: 12.8722 - mae: 2.4242 - acc: 0.0223\n",
      "Epoch 26/100\n",
      "404/404 [==============================] - 0s 45us/step - loss: 12.1511 - mae: 2.3882 - acc: 0.0198\n",
      "Epoch 27/100\n",
      "404/404 [==============================] - 0s 50us/step - loss: 12.7369 - mae: 2.4591 - acc: 0.0248\n",
      "Epoch 28/100\n",
      "404/404 [==============================] - 0s 43us/step - loss: 12.2878 - mae: 2.3795 - acc: 0.0149\n",
      "Epoch 29/100\n",
      "404/404 [==============================] - 0s 49us/step - loss: 12.6522 - mae: 2.4428 - acc: 0.0149\n",
      "Epoch 30/100\n",
      "404/404 [==============================] - 0s 55us/step - loss: 11.6315 - mae: 2.3173 - acc: 0.0272\n",
      "Epoch 31/100\n",
      "404/404 [==============================] - 0s 45us/step - loss: 11.3301 - mae: 2.2958 - acc: 0.0223\n",
      "Epoch 32/100\n",
      "404/404 [==============================] - 0s 44us/step - loss: 10.9390 - mae: 2.2383 - acc: 0.0272\n",
      "Epoch 33/100\n",
      "404/404 [==============================] - 0s 45us/step - loss: 11.3675 - mae: 2.3191 - acc: 0.0223\n",
      "Epoch 34/100\n",
      "404/404 [==============================] - 0s 44us/step - loss: 10.6437 - mae: 2.2066 - acc: 0.0248\n",
      "Epoch 35/100\n",
      "404/404 [==============================] - 0s 49us/step - loss: 10.5280 - mae: 2.2431 - acc: 0.0198\n",
      "Epoch 36/100\n",
      "404/404 [==============================] - 0s 49us/step - loss: 10.2030 - mae: 2.1683 - acc: 0.0173\n",
      "Epoch 37/100\n",
      "404/404 [==============================] - 0s 56us/step - loss: 10.4022 - mae: 2.1821 - acc: 0.0198\n",
      "Epoch 38/100\n",
      "404/404 [==============================] - 0s 56us/step - loss: 10.1603 - mae: 2.2128 - acc: 0.0173\n",
      "Epoch 39/100\n",
      "404/404 [==============================] - 0s 59us/step - loss: 10.2450 - mae: 2.1627 - acc: 0.0272\n",
      "Epoch 40/100\n",
      "404/404 [==============================] - 0s 54us/step - loss: 9.8174 - mae: 2.2017 - acc: 0.0198\n",
      "Epoch 41/100\n",
      "404/404 [==============================] - 0s 54us/step - loss: 9.6486 - mae: 2.1186 - acc: 0.0149\n",
      "Epoch 42/100\n",
      "404/404 [==============================] - 0s 55us/step - loss: 9.9337 - mae: 2.1559 - acc: 0.0198\n",
      "Epoch 43/100\n",
      "404/404 [==============================] - 0s 58us/step - loss: 10.0314 - mae: 2.2395 - acc: 0.0149\n",
      "Epoch 44/100\n",
      "404/404 [==============================] - 0s 60us/step - loss: 9.6495 - mae: 2.1595 - acc: 0.0173\n",
      "Epoch 45/100\n",
      "404/404 [==============================] - 0s 56us/step - loss: 9.6192 - mae: 2.1963 - acc: 0.0248\n",
      "Epoch 46/100\n",
      "404/404 [==============================] - 0s 50us/step - loss: 8.8738 - mae: 2.1019 - acc: 0.0223\n",
      "Epoch 47/100\n",
      "404/404 [==============================] - 0s 49us/step - loss: 8.4440 - mae: 1.9975 - acc: 0.0198\n",
      "Epoch 48/100\n",
      "404/404 [==============================] - 0s 48us/step - loss: 8.1664 - mae: 2.0024 - acc: 0.0272\n",
      "Epoch 49/100\n",
      "404/404 [==============================] - 0s 49us/step - loss: 8.4820 - mae: 2.0459 - acc: 0.0173\n",
      "Epoch 50/100\n",
      "404/404 [==============================] - 0s 49us/step - loss: 8.2196 - mae: 2.0133 - acc: 0.0198\n",
      "Epoch 51/100\n",
      "404/404 [==============================] - 0s 53us/step - loss: 8.3172 - mae: 2.0376 - acc: 0.0198\n",
      "Epoch 52/100\n",
      "404/404 [==============================] - 0s 48us/step - loss: 7.7863 - mae: 1.9865 - acc: 0.0248\n",
      "Epoch 53/100\n",
      "404/404 [==============================] - 0s 47us/step - loss: 7.4552 - mae: 1.9003 - acc: 0.0248\n",
      "Epoch 54/100\n",
      "404/404 [==============================] - 0s 47us/step - loss: 7.5960 - mae: 1.8943 - acc: 0.0198\n",
      "Epoch 55/100\n",
      "404/404 [==============================] - 0s 48us/step - loss: 7.1232 - mae: 1.9302 - acc: 0.0248\n",
      "Epoch 56/100\n",
      "404/404 [==============================] - 0s 47us/step - loss: 7.6788 - mae: 1.9629 - acc: 0.0322\n",
      "Epoch 57/100\n",
      "404/404 [==============================] - 0s 44us/step - loss: 7.2278 - mae: 1.8903 - acc: 0.0272\n",
      "Epoch 58/100\n",
      "404/404 [==============================] - 0s 44us/step - loss: 7.1063 - mae: 1.9201 - acc: 0.0272\n",
      "Epoch 59/100\n",
      "404/404 [==============================] - 0s 55us/step - loss: 6.8156 - mae: 1.8621 - acc: 0.0173\n",
      "Epoch 60/100\n",
      "404/404 [==============================] - 0s 53us/step - loss: 6.4241 - mae: 1.7877 - acc: 0.0272\n",
      "Epoch 61/100\n",
      "404/404 [==============================] - 0s 55us/step - loss: 6.4316 - mae: 1.8345 - acc: 0.0173\n",
      "Epoch 62/100\n",
      "404/404 [==============================] - 0s 55us/step - loss: 6.4935 - mae: 1.8053 - acc: 0.0371\n",
      "Epoch 63/100\n",
      "404/404 [==============================] - 0s 56us/step - loss: 6.3325 - mae: 1.7991 - acc: 0.0223\n",
      "Epoch 64/100\n",
      "404/404 [==============================] - 0s 59us/step - loss: 6.3431 - mae: 1.8000 - acc: 0.0272\n",
      "Epoch 65/100\n",
      "404/404 [==============================] - 0s 66us/step - loss: 6.1478 - mae: 1.8219 - acc: 0.0198\n",
      "Epoch 66/100\n",
      "404/404 [==============================] - 0s 64us/step - loss: 6.2765 - mae: 1.8352 - acc: 0.0223\n",
      "Epoch 67/100\n",
      "404/404 [==============================] - 0s 63us/step - loss: 6.5876 - mae: 1.8746 - acc: 0.0248\n",
      "Epoch 68/100\n",
      "404/404 [==============================] - 0s 58us/step - loss: 6.0623 - mae: 1.7585 - acc: 0.0272\n",
      "Epoch 69/100\n",
      "404/404 [==============================] - 0s 54us/step - loss: 6.0478 - mae: 1.8522 - acc: 0.0173\n",
      "Epoch 70/100\n",
      "404/404 [==============================] - 0s 54us/step - loss: 5.8690 - mae: 1.7919 - acc: 0.0347\n",
      "Epoch 71/100\n",
      "404/404 [==============================] - 0s 63us/step - loss: 5.6721 - mae: 1.7565 - acc: 0.0347\n",
      "Epoch 72/100\n",
      "404/404 [==============================] - 0s 56us/step - loss: 6.1279 - mae: 1.8417 - acc: 0.0248\n",
      "Epoch 73/100\n",
      "404/404 [==============================] - 0s 64us/step - loss: 6.3238 - mae: 1.8524 - acc: 0.0322\n",
      "Epoch 74/100\n",
      "404/404 [==============================] - 0s 65us/step - loss: 5.4543 - mae: 1.6933 - acc: 0.0446\n",
      "Epoch 75/100\n",
      "404/404 [==============================] - 0s 64us/step - loss: 5.5212 - mae: 1.7488 - acc: 0.0223\n",
      "Epoch 76/100\n",
      "404/404 [==============================] - 0s 63us/step - loss: 5.0790 - mae: 1.6751 - acc: 0.0248\n",
      "Epoch 77/100\n",
      "404/404 [==============================] - 0s 63us/step - loss: 4.9172 - mae: 1.6387 - acc: 0.0322\n",
      "Epoch 78/100\n",
      "404/404 [==============================] - 0s 64us/step - loss: 4.8448 - mae: 1.6426 - acc: 0.0272\n",
      "Epoch 79/100\n",
      "404/404 [==============================] - 0s 60us/step - loss: 6.8738 - mae: 1.9639 - acc: 0.0272\n",
      "Epoch 80/100\n",
      "404/404 [==============================] - 0s 58us/step - loss: 5.4901 - mae: 1.7805 - acc: 0.0322\n",
      "Epoch 81/100\n",
      "404/404 [==============================] - 0s 58us/step - loss: 4.9929 - mae: 1.6925 - acc: 0.0347\n",
      "Epoch 82/100\n",
      "404/404 [==============================] - 0s 61us/step - loss: 4.7208 - mae: 1.5925 - acc: 0.0272\n",
      "Epoch 83/100\n",
      "404/404 [==============================] - 0s 66us/step - loss: 4.4000 - mae: 1.5610 - acc: 0.0297\n",
      "Epoch 84/100\n",
      "404/404 [==============================] - 0s 64us/step - loss: 4.6084 - mae: 1.6073 - acc: 0.0297\n",
      "Epoch 85/100\n",
      "404/404 [==============================] - 0s 74us/step - loss: 4.3920 - mae: 1.5630 - acc: 0.0322\n",
      "Epoch 86/100\n",
      "404/404 [==============================] - 0s 70us/step - loss: 4.7114 - mae: 1.6242 - acc: 0.0322\n",
      "Epoch 87/100\n",
      "404/404 [==============================] - 0s 66us/step - loss: 4.2573 - mae: 1.5412 - acc: 0.0446\n",
      "Epoch 88/100\n",
      "404/404 [==============================] - 0s 60us/step - loss: 4.4786 - mae: 1.5841 - acc: 0.0421\n",
      "Epoch 89/100\n",
      "404/404 [==============================] - 0s 66us/step - loss: 4.5045 - mae: 1.5774 - acc: 0.0396\n",
      "Epoch 90/100\n",
      "404/404 [==============================] - 0s 54us/step - loss: 4.6394 - mae: 1.6536 - acc: 0.0272\n",
      "Epoch 91/100\n",
      "404/404 [==============================] - 0s 59us/step - loss: 4.3971 - mae: 1.5362 - acc: 0.0198\n",
      "Epoch 92/100\n",
      "404/404 [==============================] - 0s 60us/step - loss: 4.2034 - mae: 1.5511 - acc: 0.0272\n",
      "Epoch 93/100\n",
      "404/404 [==============================] - 0s 69us/step - loss: 4.6344 - mae: 1.6494 - acc: 0.0223\n",
      "Epoch 94/100\n",
      "404/404 [==============================] - 0s 74us/step - loss: 4.1309 - mae: 1.5169 - acc: 0.0297\n",
      "Epoch 95/100\n",
      "404/404 [==============================] - 0s 70us/step - loss: 3.8263 - mae: 1.4559 - acc: 0.0371\n",
      "Epoch 96/100\n",
      "404/404 [==============================] - 0s 71us/step - loss: 4.0124 - mae: 1.5145 - acc: 0.0297\n",
      "Epoch 97/100\n",
      "404/404 [==============================] - 0s 71us/step - loss: 3.8243 - mae: 1.4585 - acc: 0.0297\n",
      "Epoch 98/100\n",
      "404/404 [==============================] - 0s 59us/step - loss: 3.8646 - mae: 1.4529 - acc: 0.0347\n",
      "Epoch 99/100\n",
      "404/404 [==============================] - 0s 53us/step - loss: 3.7661 - mae: 1.4869 - acc: 0.0396\n",
      "Epoch 100/100\n",
      "404/404 [==============================] - 0s 50us/step - loss: 3.5267 - mae: 1.4121 - acc: 0.0347\n"
     ]
    }
   ],
   "source": [
    "history5 = model5.fit(inputs_train_norm, outputs_train, epochs=100)"
   ]
  },
  {
   "cell_type": "markdown",
   "metadata": {},
   "source": [
    "Lets increase the number of epochs and s"
   ]
  },
  {
   "cell_type": "code",
   "execution_count": null,
   "metadata": {},
   "outputs": [],
   "source": []
  },
  {
   "cell_type": "markdown",
   "metadata": {},
   "source": [
    "##### Results"
   ]
  },
  {
   "cell_type": "markdown",
   "metadata": {},
   "source": [
    "Not a significant improvement\n",
    "* Loss (Mean Squared Error): ~10\n",
    "* Mean Absolute Error: ~2.2\n",
    "* Accuracy: 0.0223"
   ]
  },
  {
   "cell_type": "markdown",
   "metadata": {},
   "source": []
  },
  {
   "cell_type": "code",
   "execution_count": 54,
   "metadata": {},
   "outputs": [
    {
     "name": "stdout",
     "output_type": "stream",
     "text": [
      "102/102 [==============================] - 0s 34us/step\n",
      "[34.57559295729095, 4.329654693603516, 0.019607843831181526]\n",
      "102/102 [==============================] - 0s 29us/step\n",
      "[14.876725795222264, 2.62962007522583, 0.04901960864663124]\n",
      "102/102 [==============================] - 0s 24us/step\n",
      "[12.071581709618663, 2.2944376468658447, 0.019607843831181526]\n",
      "102/102 [==============================] - 0s 29us/step\n",
      "[7.43665205263624, 2.0180020332336426, 0.029411764815449715]\n",
      "102/102 [==============================] - 0s 44us/step\n",
      "[6.84842664120244, 1.9468886852264404, 0.03921568766236305]\n"
     ]
    }
   ],
   "source": [
    "print(model1.evaluate(inputs_test, outputs_test))\n",
    "print(model2.evaluate(inputs_test_norm, outputs_test))\n",
    "print(model3.evaluate(inputs_test_norm, outputs_test))\n",
    "print(model4.evaluate(inputs_test_norm, outputs_test))\n",
    "print(model5.evaluate(inputs_test_norm, outputs_test))"
   ]
  },
  {
   "cell_type": "markdown",
   "metadata": {},
   "source": [
    "*** adjust the below to output what i want"
   ]
  },
  {
   "cell_type": "markdown",
   "metadata": {},
   "source": [
    "*** https://keras.io/visualization/"
   ]
  },
  {
   "cell_type": "code",
   "execution_count": null,
   "metadata": {},
   "outputs": [],
   "source": []
  }
 ],
 "metadata": {
  "kernelspec": {
   "display_name": "Python 3",
   "language": "python",
   "name": "python3"
  },
  "language_info": {
   "codemirror_mode": {
    "name": "ipython",
    "version": 3
   },
   "file_extension": ".py",
   "mimetype": "text/x-python",
   "name": "python",
   "nbconvert_exporter": "python",
   "pygments_lexer": "ipython3",
   "version": "3.7.3"
  }
 },
 "nbformat": 4,
 "nbformat_minor": 4
}
