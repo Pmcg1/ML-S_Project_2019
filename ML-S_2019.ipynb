{
 "cells": [
  {
   "cell_type": "markdown",
   "metadata": {},
   "source": [
    "# Machine Learning & Statistics Project 2019"
   ]
  },
  {
   "cell_type": "markdown",
   "metadata": {},
   "source": [
    "Peter McGowan\n",
    "G00190832"
   ]
  },
  {
   "cell_type": "markdown",
   "metadata": {},
   "source": [
    "## Introduction\n",
    "This jupyter notebook contains an investigation of the Boston House Prices dataset for the \"Machine-Learnign and Statistics Module on the GMIT HDip in Data Analytics."
   ]
  },
  {
   "cell_type": "markdown",
   "metadata": {},
   "source": [
    "## Background\n",
    "***Add background info here***"
   ]
  },
  {
   "cell_type": "markdown",
   "metadata": {},
   "source": [
    "## Starting Off\n",
    "First we will import the required python libraries."
   ]
  },
  {
   "cell_type": "code",
   "execution_count": 1,
   "metadata": {},
   "outputs": [],
   "source": [
    "# Import pandas for managing data\n",
    "# Import scipy.stats for statistical analysis\n",
    "# Impost keras for working with neural networks\n",
    "# Import matplotlib.pyplot and seaborn for visualisations\n",
    "import pandas as pd\n",
    "import scipy.stats as ss\n",
    "import statsmodels.stats.weightstats as ws\n",
    "#import keras as k\n",
    "import matplotlib.pyplot as plt\n",
    "import seaborn as sns\n",
    "#from keras.models import Sequential"
   ]
  },
  {
   "cell_type": "markdown",
   "metadata": {},
   "source": [
    "scikit-learn conveniently provides the Boston House Prices dataset - we will now load it."
   ]
  },
  {
   "cell_type": "markdown",
   "metadata": {},
   "source": [
    "** change this to import from keras?"
   ]
  },
  {
   "cell_type": "code",
   "execution_count": 2,
   "metadata": {},
   "outputs": [],
   "source": [
    "# Load the boston dataset from sklearn\n",
    "from sklearn.datasets import load_boston\n",
    "boston = load_boston()"
   ]
  },
  {
   "cell_type": "markdown",
   "metadata": {},
   "source": [
    "Check the keys of the dataset #Research this"
   ]
  },
  {
   "cell_type": "code",
   "execution_count": 3,
   "metadata": {},
   "outputs": [
    {
     "name": "stdout",
     "output_type": "stream",
     "text": [
      "dict_keys(['data', 'target', 'feature_names', 'DESCR', 'filename'])\n"
     ]
    }
   ],
   "source": [
    "print(boston.keys())"
   ]
  },
  {
   "cell_type": "markdown",
   "metadata": {},
   "source": [
    "The pandas library includes a versatile \"dataframe\" object - an indexed array that helps with managing multi-dimensional data."
   ]
  },
  {
   "cell_type": "code",
   "execution_count": 4,
   "metadata": {},
   "outputs": [],
   "source": [
    "# Create a dataframe from the boston house prices dataset\"\n",
    "df = pd.DataFrame(boston.data, columns=boston.feature_names)"
   ]
  },
  {
   "cell_type": "markdown",
   "metadata": {},
   "source": [
    "## Describe"
   ]
  },
  {
   "cell_type": "markdown",
   "metadata": {},
   "source": [
    "### Checks & Descriptive Statistics"
   ]
  },
  {
   "cell_type": "markdown",
   "metadata": {},
   "source": [
    "We'll have a look at the head and tail of the data first of all to check for any obvious issues"
   ]
  },
  {
   "cell_type": "code",
   "execution_count": 5,
   "metadata": {},
   "outputs": [
    {
     "data": {
      "text/html": [
       "<div>\n",
       "<style scoped>\n",
       "    .dataframe tbody tr th:only-of-type {\n",
       "        vertical-align: middle;\n",
       "    }\n",
       "\n",
       "    .dataframe tbody tr th {\n",
       "        vertical-align: top;\n",
       "    }\n",
       "\n",
       "    .dataframe thead th {\n",
       "        text-align: right;\n",
       "    }\n",
       "</style>\n",
       "<table border=\"1\" class=\"dataframe\">\n",
       "  <thead>\n",
       "    <tr style=\"text-align: right;\">\n",
       "      <th></th>\n",
       "      <th>CRIM</th>\n",
       "      <th>ZN</th>\n",
       "      <th>INDUS</th>\n",
       "      <th>CHAS</th>\n",
       "      <th>NOX</th>\n",
       "      <th>RM</th>\n",
       "      <th>AGE</th>\n",
       "      <th>DIS</th>\n",
       "      <th>RAD</th>\n",
       "      <th>TAX</th>\n",
       "      <th>PTRATIO</th>\n",
       "      <th>B</th>\n",
       "      <th>LSTAT</th>\n",
       "    </tr>\n",
       "  </thead>\n",
       "  <tbody>\n",
       "    <tr>\n",
       "      <th>0</th>\n",
       "      <td>0.00632</td>\n",
       "      <td>18.0</td>\n",
       "      <td>2.31</td>\n",
       "      <td>0.0</td>\n",
       "      <td>0.538</td>\n",
       "      <td>6.575</td>\n",
       "      <td>65.2</td>\n",
       "      <td>4.0900</td>\n",
       "      <td>1.0</td>\n",
       "      <td>296.0</td>\n",
       "      <td>15.3</td>\n",
       "      <td>396.90</td>\n",
       "      <td>4.98</td>\n",
       "    </tr>\n",
       "    <tr>\n",
       "      <th>1</th>\n",
       "      <td>0.02731</td>\n",
       "      <td>0.0</td>\n",
       "      <td>7.07</td>\n",
       "      <td>0.0</td>\n",
       "      <td>0.469</td>\n",
       "      <td>6.421</td>\n",
       "      <td>78.9</td>\n",
       "      <td>4.9671</td>\n",
       "      <td>2.0</td>\n",
       "      <td>242.0</td>\n",
       "      <td>17.8</td>\n",
       "      <td>396.90</td>\n",
       "      <td>9.14</td>\n",
       "    </tr>\n",
       "    <tr>\n",
       "      <th>2</th>\n",
       "      <td>0.02729</td>\n",
       "      <td>0.0</td>\n",
       "      <td>7.07</td>\n",
       "      <td>0.0</td>\n",
       "      <td>0.469</td>\n",
       "      <td>7.185</td>\n",
       "      <td>61.1</td>\n",
       "      <td>4.9671</td>\n",
       "      <td>2.0</td>\n",
       "      <td>242.0</td>\n",
       "      <td>17.8</td>\n",
       "      <td>392.83</td>\n",
       "      <td>4.03</td>\n",
       "    </tr>\n",
       "    <tr>\n",
       "      <th>3</th>\n",
       "      <td>0.03237</td>\n",
       "      <td>0.0</td>\n",
       "      <td>2.18</td>\n",
       "      <td>0.0</td>\n",
       "      <td>0.458</td>\n",
       "      <td>6.998</td>\n",
       "      <td>45.8</td>\n",
       "      <td>6.0622</td>\n",
       "      <td>3.0</td>\n",
       "      <td>222.0</td>\n",
       "      <td>18.7</td>\n",
       "      <td>394.63</td>\n",
       "      <td>2.94</td>\n",
       "    </tr>\n",
       "    <tr>\n",
       "      <th>4</th>\n",
       "      <td>0.06905</td>\n",
       "      <td>0.0</td>\n",
       "      <td>2.18</td>\n",
       "      <td>0.0</td>\n",
       "      <td>0.458</td>\n",
       "      <td>7.147</td>\n",
       "      <td>54.2</td>\n",
       "      <td>6.0622</td>\n",
       "      <td>3.0</td>\n",
       "      <td>222.0</td>\n",
       "      <td>18.7</td>\n",
       "      <td>396.90</td>\n",
       "      <td>5.33</td>\n",
       "    </tr>\n",
       "  </tbody>\n",
       "</table>\n",
       "</div>"
      ],
      "text/plain": [
       "      CRIM    ZN  INDUS  CHAS    NOX     RM   AGE     DIS  RAD    TAX  \\\n",
       "0  0.00632  18.0   2.31   0.0  0.538  6.575  65.2  4.0900  1.0  296.0   \n",
       "1  0.02731   0.0   7.07   0.0  0.469  6.421  78.9  4.9671  2.0  242.0   \n",
       "2  0.02729   0.0   7.07   0.0  0.469  7.185  61.1  4.9671  2.0  242.0   \n",
       "3  0.03237   0.0   2.18   0.0  0.458  6.998  45.8  6.0622  3.0  222.0   \n",
       "4  0.06905   0.0   2.18   0.0  0.458  7.147  54.2  6.0622  3.0  222.0   \n",
       "\n",
       "   PTRATIO       B  LSTAT  \n",
       "0     15.3  396.90   4.98  \n",
       "1     17.8  396.90   9.14  \n",
       "2     17.8  392.83   4.03  \n",
       "3     18.7  394.63   2.94  \n",
       "4     18.7  396.90   5.33  "
      ]
     },
     "execution_count": 5,
     "metadata": {},
     "output_type": "execute_result"
    }
   ],
   "source": [
    "df.head()"
   ]
  },
  {
   "cell_type": "code",
   "execution_count": 6,
   "metadata": {},
   "outputs": [
    {
     "data": {
      "text/html": [
       "<div>\n",
       "<style scoped>\n",
       "    .dataframe tbody tr th:only-of-type {\n",
       "        vertical-align: middle;\n",
       "    }\n",
       "\n",
       "    .dataframe tbody tr th {\n",
       "        vertical-align: top;\n",
       "    }\n",
       "\n",
       "    .dataframe thead th {\n",
       "        text-align: right;\n",
       "    }\n",
       "</style>\n",
       "<table border=\"1\" class=\"dataframe\">\n",
       "  <thead>\n",
       "    <tr style=\"text-align: right;\">\n",
       "      <th></th>\n",
       "      <th>CRIM</th>\n",
       "      <th>ZN</th>\n",
       "      <th>INDUS</th>\n",
       "      <th>CHAS</th>\n",
       "      <th>NOX</th>\n",
       "      <th>RM</th>\n",
       "      <th>AGE</th>\n",
       "      <th>DIS</th>\n",
       "      <th>RAD</th>\n",
       "      <th>TAX</th>\n",
       "      <th>PTRATIO</th>\n",
       "      <th>B</th>\n",
       "      <th>LSTAT</th>\n",
       "    </tr>\n",
       "  </thead>\n",
       "  <tbody>\n",
       "    <tr>\n",
       "      <th>501</th>\n",
       "      <td>0.06263</td>\n",
       "      <td>0.0</td>\n",
       "      <td>11.93</td>\n",
       "      <td>0.0</td>\n",
       "      <td>0.573</td>\n",
       "      <td>6.593</td>\n",
       "      <td>69.1</td>\n",
       "      <td>2.4786</td>\n",
       "      <td>1.0</td>\n",
       "      <td>273.0</td>\n",
       "      <td>21.0</td>\n",
       "      <td>391.99</td>\n",
       "      <td>9.67</td>\n",
       "    </tr>\n",
       "    <tr>\n",
       "      <th>502</th>\n",
       "      <td>0.04527</td>\n",
       "      <td>0.0</td>\n",
       "      <td>11.93</td>\n",
       "      <td>0.0</td>\n",
       "      <td>0.573</td>\n",
       "      <td>6.120</td>\n",
       "      <td>76.7</td>\n",
       "      <td>2.2875</td>\n",
       "      <td>1.0</td>\n",
       "      <td>273.0</td>\n",
       "      <td>21.0</td>\n",
       "      <td>396.90</td>\n",
       "      <td>9.08</td>\n",
       "    </tr>\n",
       "    <tr>\n",
       "      <th>503</th>\n",
       "      <td>0.06076</td>\n",
       "      <td>0.0</td>\n",
       "      <td>11.93</td>\n",
       "      <td>0.0</td>\n",
       "      <td>0.573</td>\n",
       "      <td>6.976</td>\n",
       "      <td>91.0</td>\n",
       "      <td>2.1675</td>\n",
       "      <td>1.0</td>\n",
       "      <td>273.0</td>\n",
       "      <td>21.0</td>\n",
       "      <td>396.90</td>\n",
       "      <td>5.64</td>\n",
       "    </tr>\n",
       "    <tr>\n",
       "      <th>504</th>\n",
       "      <td>0.10959</td>\n",
       "      <td>0.0</td>\n",
       "      <td>11.93</td>\n",
       "      <td>0.0</td>\n",
       "      <td>0.573</td>\n",
       "      <td>6.794</td>\n",
       "      <td>89.3</td>\n",
       "      <td>2.3889</td>\n",
       "      <td>1.0</td>\n",
       "      <td>273.0</td>\n",
       "      <td>21.0</td>\n",
       "      <td>393.45</td>\n",
       "      <td>6.48</td>\n",
       "    </tr>\n",
       "    <tr>\n",
       "      <th>505</th>\n",
       "      <td>0.04741</td>\n",
       "      <td>0.0</td>\n",
       "      <td>11.93</td>\n",
       "      <td>0.0</td>\n",
       "      <td>0.573</td>\n",
       "      <td>6.030</td>\n",
       "      <td>80.8</td>\n",
       "      <td>2.5050</td>\n",
       "      <td>1.0</td>\n",
       "      <td>273.0</td>\n",
       "      <td>21.0</td>\n",
       "      <td>396.90</td>\n",
       "      <td>7.88</td>\n",
       "    </tr>\n",
       "  </tbody>\n",
       "</table>\n",
       "</div>"
      ],
      "text/plain": [
       "        CRIM   ZN  INDUS  CHAS    NOX     RM   AGE     DIS  RAD    TAX  \\\n",
       "501  0.06263  0.0  11.93   0.0  0.573  6.593  69.1  2.4786  1.0  273.0   \n",
       "502  0.04527  0.0  11.93   0.0  0.573  6.120  76.7  2.2875  1.0  273.0   \n",
       "503  0.06076  0.0  11.93   0.0  0.573  6.976  91.0  2.1675  1.0  273.0   \n",
       "504  0.10959  0.0  11.93   0.0  0.573  6.794  89.3  2.3889  1.0  273.0   \n",
       "505  0.04741  0.0  11.93   0.0  0.573  6.030  80.8  2.5050  1.0  273.0   \n",
       "\n",
       "     PTRATIO       B  LSTAT  \n",
       "501     21.0  391.99   9.67  \n",
       "502     21.0  396.90   9.08  \n",
       "503     21.0  396.90   5.64  \n",
       "504     21.0  393.45   6.48  \n",
       "505     21.0  396.90   7.88  "
      ]
     },
     "execution_count": 6,
     "metadata": {},
     "output_type": "execute_result"
    }
   ],
   "source": [
    "df.tail()"
   ]
  },
  {
   "cell_type": "markdown",
   "metadata": {},
   "source": [
    "We shoud check also for missing values:"
   ]
  },
  {
   "cell_type": "code",
   "execution_count": 7,
   "metadata": {},
   "outputs": [
    {
     "data": {
      "text/plain": [
       "CRIM       0\n",
       "ZN         0\n",
       "INDUS      0\n",
       "CHAS       0\n",
       "NOX        0\n",
       "RM         0\n",
       "AGE        0\n",
       "DIS        0\n",
       "RAD        0\n",
       "TAX        0\n",
       "PTRATIO    0\n",
       "B          0\n",
       "LSTAT      0\n",
       "dtype: int64"
      ]
     },
     "execution_count": 7,
     "metadata": {},
     "output_type": "execute_result"
    }
   ],
   "source": [
    "df.isnull().sum()"
   ]
  },
  {
   "cell_type": "markdown",
   "metadata": {},
   "source": [
    "All seems to be in order so far.\n",
    "\n",
    "What do the column headers mean? We can use the following command to dive into it:"
   ]
  },
  {
   "cell_type": "code",
   "execution_count": 8,
   "metadata": {},
   "outputs": [
    {
     "name": "stdout",
     "output_type": "stream",
     "text": [
      ".. _boston_dataset:\n",
      "\n",
      "Boston house prices dataset\n",
      "---------------------------\n",
      "\n",
      "**Data Set Characteristics:**  \n",
      "\n",
      "    :Number of Instances: 506 \n",
      "\n",
      "    :Number of Attributes: 13 numeric/categorical predictive. Median Value (attribute 14) is usually the target.\n",
      "\n",
      "    :Attribute Information (in order):\n",
      "        - CRIM     per capita crime rate by town\n",
      "        - ZN       proportion of residential land zoned for lots over 25,000 sq.ft.\n",
      "        - INDUS    proportion of non-retail business acres per town\n",
      "        - CHAS     Charles River dummy variable (= 1 if tract bounds river; 0 otherwise)\n",
      "        - NOX      nitric oxides concentration (parts per 10 million)\n",
      "        - RM       average number of rooms per dwelling\n",
      "        - AGE      proportion of owner-occupied units built prior to 1940\n",
      "        - DIS      weighted distances to five Boston employment centres\n",
      "        - RAD      index of accessibility to radial highways\n",
      "        - TAX      full-value property-tax rate per $10,000\n",
      "        - PTRATIO  pupil-teacher ratio by town\n",
      "        - B        1000(Bk - 0.63)^2 where Bk is the proportion of blacks by town\n",
      "        - LSTAT    % lower status of the population\n",
      "        - MEDV     Median value of owner-occupied homes in $1000's\n",
      "\n",
      "    :Missing Attribute Values: None\n",
      "\n",
      "    :Creator: Harrison, D. and Rubinfeld, D.L.\n",
      "\n",
      "This is a copy of UCI ML housing dataset.\n",
      "https://archive.ics.uci.edu/ml/machine-learning-databases/housing/\n",
      "\n",
      "\n",
      "This dataset was taken from the StatLib library which is maintained at Carnegie Mellon University.\n",
      "\n",
      "The Boston house-price data of Harrison, D. and Rubinfeld, D.L. 'Hedonic\n",
      "prices and the demand for clean air', J. Environ. Economics & Management,\n",
      "vol.5, 81-102, 1978.   Used in Belsley, Kuh & Welsch, 'Regression diagnostics\n",
      "...', Wiley, 1980.   N.B. Various transformations are used in the table on\n",
      "pages 244-261 of the latter.\n",
      "\n",
      "The Boston house-price data has been used in many machine learning papers that address regression\n",
      "problems.   \n",
      "     \n",
      ".. topic:: References\n",
      "\n",
      "   - Belsley, Kuh & Welsch, 'Regression diagnostics: Identifying Influential Data and Sources of Collinearity', Wiley, 1980. 244-261.\n",
      "   - Quinlan,R. (1993). Combining Instance-Based and Model-Based Learning. In Proceedings on the Tenth International Conference of Machine Learning, 236-243, University of Massachusetts, Amherst. Morgan Kaufmann.\n",
      "\n"
     ]
    }
   ],
   "source": [
    "print(boston.DESCR)"
   ]
  },
  {
   "cell_type": "markdown",
   "metadata": {},
   "source": [
    "The MEDV column wasn't included in the earlier outputs.\n",
    "This is because scikit-learn assumes that you wish to use it as the 'target' of the dataset.\n",
    "We can check that its included:"
   ]
  },
  {
   "cell_type": "code",
   "execution_count": 9,
   "metadata": {},
   "outputs": [
    {
     "name": "stdout",
     "output_type": "stream",
     "text": [
      "(506,)\n"
     ]
    }
   ],
   "source": [
    "print(boston.target.shape)"
   ]
  },
  {
   "cell_type": "markdown",
   "metadata": {},
   "source": [
    "This matches the output of the DESCR command so it should be ok.\n",
    "Now we need to add it as a column to the dataframe to make our lives a bit easier later on."
   ]
  },
  {
   "cell_type": "code",
   "execution_count": 10,
   "metadata": {},
   "outputs": [],
   "source": [
    "df['MEDV'] = boston.target"
   ]
  },
  {
   "cell_type": "markdown",
   "metadata": {},
   "source": [
    "Now output the summary statistics of the dataframe to see how it looks:"
   ]
  },
  {
   "cell_type": "code",
   "execution_count": 11,
   "metadata": {},
   "outputs": [
    {
     "data": {
      "text/html": [
       "<div>\n",
       "<style scoped>\n",
       "    .dataframe tbody tr th:only-of-type {\n",
       "        vertical-align: middle;\n",
       "    }\n",
       "\n",
       "    .dataframe tbody tr th {\n",
       "        vertical-align: top;\n",
       "    }\n",
       "\n",
       "    .dataframe thead th {\n",
       "        text-align: right;\n",
       "    }\n",
       "</style>\n",
       "<table border=\"1\" class=\"dataframe\">\n",
       "  <thead>\n",
       "    <tr style=\"text-align: right;\">\n",
       "      <th></th>\n",
       "      <th>CRIM</th>\n",
       "      <th>ZN</th>\n",
       "      <th>INDUS</th>\n",
       "      <th>CHAS</th>\n",
       "      <th>NOX</th>\n",
       "      <th>RM</th>\n",
       "      <th>AGE</th>\n",
       "      <th>DIS</th>\n",
       "      <th>RAD</th>\n",
       "      <th>TAX</th>\n",
       "      <th>PTRATIO</th>\n",
       "      <th>B</th>\n",
       "      <th>LSTAT</th>\n",
       "      <th>MEDV</th>\n",
       "    </tr>\n",
       "  </thead>\n",
       "  <tbody>\n",
       "    <tr>\n",
       "      <th>count</th>\n",
       "      <td>506.000000</td>\n",
       "      <td>506.000000</td>\n",
       "      <td>506.000000</td>\n",
       "      <td>506.000000</td>\n",
       "      <td>506.000000</td>\n",
       "      <td>506.000000</td>\n",
       "      <td>506.000000</td>\n",
       "      <td>506.000000</td>\n",
       "      <td>506.000000</td>\n",
       "      <td>506.000000</td>\n",
       "      <td>506.000000</td>\n",
       "      <td>506.000000</td>\n",
       "      <td>506.000000</td>\n",
       "      <td>506.000000</td>\n",
       "    </tr>\n",
       "    <tr>\n",
       "      <th>mean</th>\n",
       "      <td>3.613524</td>\n",
       "      <td>11.363636</td>\n",
       "      <td>11.136779</td>\n",
       "      <td>0.069170</td>\n",
       "      <td>0.554695</td>\n",
       "      <td>6.284634</td>\n",
       "      <td>68.574901</td>\n",
       "      <td>3.795043</td>\n",
       "      <td>9.549407</td>\n",
       "      <td>408.237154</td>\n",
       "      <td>18.455534</td>\n",
       "      <td>356.674032</td>\n",
       "      <td>12.653063</td>\n",
       "      <td>22.532806</td>\n",
       "    </tr>\n",
       "    <tr>\n",
       "      <th>std</th>\n",
       "      <td>8.601545</td>\n",
       "      <td>23.322453</td>\n",
       "      <td>6.860353</td>\n",
       "      <td>0.253994</td>\n",
       "      <td>0.115878</td>\n",
       "      <td>0.702617</td>\n",
       "      <td>28.148861</td>\n",
       "      <td>2.105710</td>\n",
       "      <td>8.707259</td>\n",
       "      <td>168.537116</td>\n",
       "      <td>2.164946</td>\n",
       "      <td>91.294864</td>\n",
       "      <td>7.141062</td>\n",
       "      <td>9.197104</td>\n",
       "    </tr>\n",
       "    <tr>\n",
       "      <th>min</th>\n",
       "      <td>0.006320</td>\n",
       "      <td>0.000000</td>\n",
       "      <td>0.460000</td>\n",
       "      <td>0.000000</td>\n",
       "      <td>0.385000</td>\n",
       "      <td>3.561000</td>\n",
       "      <td>2.900000</td>\n",
       "      <td>1.129600</td>\n",
       "      <td>1.000000</td>\n",
       "      <td>187.000000</td>\n",
       "      <td>12.600000</td>\n",
       "      <td>0.320000</td>\n",
       "      <td>1.730000</td>\n",
       "      <td>5.000000</td>\n",
       "    </tr>\n",
       "    <tr>\n",
       "      <th>25%</th>\n",
       "      <td>0.082045</td>\n",
       "      <td>0.000000</td>\n",
       "      <td>5.190000</td>\n",
       "      <td>0.000000</td>\n",
       "      <td>0.449000</td>\n",
       "      <td>5.885500</td>\n",
       "      <td>45.025000</td>\n",
       "      <td>2.100175</td>\n",
       "      <td>4.000000</td>\n",
       "      <td>279.000000</td>\n",
       "      <td>17.400000</td>\n",
       "      <td>375.377500</td>\n",
       "      <td>6.950000</td>\n",
       "      <td>17.025000</td>\n",
       "    </tr>\n",
       "    <tr>\n",
       "      <th>50%</th>\n",
       "      <td>0.256510</td>\n",
       "      <td>0.000000</td>\n",
       "      <td>9.690000</td>\n",
       "      <td>0.000000</td>\n",
       "      <td>0.538000</td>\n",
       "      <td>6.208500</td>\n",
       "      <td>77.500000</td>\n",
       "      <td>3.207450</td>\n",
       "      <td>5.000000</td>\n",
       "      <td>330.000000</td>\n",
       "      <td>19.050000</td>\n",
       "      <td>391.440000</td>\n",
       "      <td>11.360000</td>\n",
       "      <td>21.200000</td>\n",
       "    </tr>\n",
       "    <tr>\n",
       "      <th>75%</th>\n",
       "      <td>3.677083</td>\n",
       "      <td>12.500000</td>\n",
       "      <td>18.100000</td>\n",
       "      <td>0.000000</td>\n",
       "      <td>0.624000</td>\n",
       "      <td>6.623500</td>\n",
       "      <td>94.075000</td>\n",
       "      <td>5.188425</td>\n",
       "      <td>24.000000</td>\n",
       "      <td>666.000000</td>\n",
       "      <td>20.200000</td>\n",
       "      <td>396.225000</td>\n",
       "      <td>16.955000</td>\n",
       "      <td>25.000000</td>\n",
       "    </tr>\n",
       "    <tr>\n",
       "      <th>max</th>\n",
       "      <td>88.976200</td>\n",
       "      <td>100.000000</td>\n",
       "      <td>27.740000</td>\n",
       "      <td>1.000000</td>\n",
       "      <td>0.871000</td>\n",
       "      <td>8.780000</td>\n",
       "      <td>100.000000</td>\n",
       "      <td>12.126500</td>\n",
       "      <td>24.000000</td>\n",
       "      <td>711.000000</td>\n",
       "      <td>22.000000</td>\n",
       "      <td>396.900000</td>\n",
       "      <td>37.970000</td>\n",
       "      <td>50.000000</td>\n",
       "    </tr>\n",
       "  </tbody>\n",
       "</table>\n",
       "</div>"
      ],
      "text/plain": [
       "             CRIM          ZN       INDUS        CHAS         NOX          RM  \\\n",
       "count  506.000000  506.000000  506.000000  506.000000  506.000000  506.000000   \n",
       "mean     3.613524   11.363636   11.136779    0.069170    0.554695    6.284634   \n",
       "std      8.601545   23.322453    6.860353    0.253994    0.115878    0.702617   \n",
       "min      0.006320    0.000000    0.460000    0.000000    0.385000    3.561000   \n",
       "25%      0.082045    0.000000    5.190000    0.000000    0.449000    5.885500   \n",
       "50%      0.256510    0.000000    9.690000    0.000000    0.538000    6.208500   \n",
       "75%      3.677083   12.500000   18.100000    0.000000    0.624000    6.623500   \n",
       "max     88.976200  100.000000   27.740000    1.000000    0.871000    8.780000   \n",
       "\n",
       "              AGE         DIS         RAD         TAX     PTRATIO           B  \\\n",
       "count  506.000000  506.000000  506.000000  506.000000  506.000000  506.000000   \n",
       "mean    68.574901    3.795043    9.549407  408.237154   18.455534  356.674032   \n",
       "std     28.148861    2.105710    8.707259  168.537116    2.164946   91.294864   \n",
       "min      2.900000    1.129600    1.000000  187.000000   12.600000    0.320000   \n",
       "25%     45.025000    2.100175    4.000000  279.000000   17.400000  375.377500   \n",
       "50%     77.500000    3.207450    5.000000  330.000000   19.050000  391.440000   \n",
       "75%     94.075000    5.188425   24.000000  666.000000   20.200000  396.225000   \n",
       "max    100.000000   12.126500   24.000000  711.000000   22.000000  396.900000   \n",
       "\n",
       "            LSTAT        MEDV  \n",
       "count  506.000000  506.000000  \n",
       "mean    12.653063   22.532806  \n",
       "std      7.141062    9.197104  \n",
       "min      1.730000    5.000000  \n",
       "25%      6.950000   17.025000  \n",
       "50%     11.360000   21.200000  \n",
       "75%     16.955000   25.000000  \n",
       "max     37.970000   50.000000  "
      ]
     },
     "execution_count": 11,
     "metadata": {},
     "output_type": "execute_result"
    }
   ],
   "source": [
    "df.describe()"
   ]
  },
  {
   "cell_type": "markdown",
   "metadata": {},
   "source": [
    "The data seems to have imported correctly and we now have it in a format that we can work with."
   ]
  },
  {
   "cell_type": "markdown",
   "metadata": {},
   "source": [
    "### Visualisations\n",
    "Now we can start creating plots.\n",
    "Firstly, the distribution of the Median House Value:"
   ]
  },
  {
   "cell_type": "code",
   "execution_count": 12,
   "metadata": {},
   "outputs": [
    {
     "data": {
      "text/plain": [
       "<matplotlib.axes._subplots.AxesSubplot at 0x1de48ccd358>"
      ]
     },
     "execution_count": 12,
     "metadata": {},
     "output_type": "execute_result"
    },
    {
     "data": {
      "image/png": "[encoded data removed]",
      "text/plain": [
       "<Figure size 432x288 with 1 Axes>"
      ]
     },
     "metadata": {
      "needs_background": "light"
     },
     "output_type": "display_data"
    }
   ],
   "source": [
    "sns.distplot(df['MEDV'], color='g')"
   ]
  },
  {
   "cell_type": "markdown",
   "metadata": {},
   "source": [
    "We can also look at the number of rooms per dwelling like this."
   ]
  },
  {
   "cell_type": "code",
   "execution_count": 13,
   "metadata": {},
   "outputs": [
    {
     "data": {
      "text/plain": [
       "<matplotlib.axes._subplots.AxesSubplot at 0x1de4903a080>"
      ]
     },
     "execution_count": 13,
     "metadata": {},
     "output_type": "execute_result"
    },
    {
     "data": {
      "image/png": "[encoded data removed]",
      "text/plain": [
       "<Figure size 432x288 with 1 Axes>"
      ]
     },
     "metadata": {
      "needs_background": "light"
     },
     "output_type": "display_data"
    }
   ],
   "source": [
    "sns.distplot(df['RM'], color='y')"
   ]
  },
  {
   "cell_type": "markdown",
   "metadata": {},
   "source": [
    "What about the relationships between some of the statistics and the median house value?\n",
    "Firstly we look at DIS:"
   ]
  },
  {
   "cell_type": "code",
   "execution_count": 14,
   "metadata": {},
   "outputs": [
    {
     "data": {
      "text/plain": [
       "<matplotlib.axes._subplots.AxesSubplot at 0x1de49136e80>"
      ]
     },
     "execution_count": 14,
     "metadata": {},
     "output_type": "execute_result"
    },
    {
     "data": {
      "image/png": "[encoded data removed]",
      "text/plain": [
       "<Figure size 432x288 with 1 Axes>"
      ]
     },
     "metadata": {
      "needs_background": "light"
     },
     "output_type": "display_data"
    }
   ],
   "source": [
    "sns.scatterplot(x='MEDV', y='DIS', data=df)"
   ]
  },
  {
   "cell_type": "markdown",
   "metadata": {},
   "source": [
    "It is difficult to tell if a definite linear relationship exists between these variables, but an unusual vertical line of values on the MEDV=50 line stand out somewhat."
   ]
  },
  {
   "cell_type": "markdown",
   "metadata": {},
   "source": [
    "We can look at RAD also:"
   ]
  },
  {
   "cell_type": "code",
   "execution_count": 15,
   "metadata": {},
   "outputs": [
    {
     "data": {
      "text/plain": [
       "<matplotlib.axes._subplots.AxesSubplot at 0x1de4918eac8>"
      ]
     },
     "execution_count": 15,
     "metadata": {},
     "output_type": "execute_result"
    },
    {
     "data": {
      "image/png": "[encoded data removed]",
      "text/plain": [
       "<Figure size 432x288 with 1 Axes>"
      ]
     },
     "metadata": {
      "needs_background": "light"
     },
     "output_type": "display_data"
    }
   ],
   "source": [
    "sns.scatterplot(x='MEDV', y='RM', data=df)"
   ]
  },
  {
   "cell_type": "markdown",
   "metadata": {},
   "source": [
    "The linear relationship is much more apparent here - however the clustering of points on the MEDV=50 mark is even more apparent in this plot. This will require further investigation. "
   ]
  },
  {
   "cell_type": "code",
   "execution_count": 16,
   "metadata": {},
   "outputs": [
    {
     "data": {
      "text/plain": [
       "<matplotlib.axes._subplots.AxesSubplot at 0x1de49208be0>"
      ]
     },
     "execution_count": 16,
     "metadata": {},
     "output_type": "execute_result"
    },
    {
     "data": {
      "image/png": "[encoded data removed]",
      "text/plain": [
       "<Figure size 432x288 with 1 Axes>"
      ]
     },
     "metadata": {
      "needs_background": "light"
     },
     "output_type": "display_data"
    }
   ],
   "source": [
    "sns.scatterplot(x='MEDV', y='RAD', data=df)"
   ]
  },
  {
   "cell_type": "markdown",
   "metadata": {},
   "source": [
    "This is quite a bit different to the other plots - the RAD value refers to \"index of accessibility to major highways\" - it appears that there is a broad range of houses values that have an accessibility rating between 0 and 10, then a very large gap, with a range of houses in the low- to medium price range (with a single high price outlier) with a much higher index of around 24."
   ]
  },
  {
   "cell_type": "markdown",
   "metadata": {},
   "source": [
    "## Infer"
   ]
  },
  {
   "cell_type": "code",
   "execution_count": 17,
   "metadata": {},
   "outputs": [
    {
     "data": {
      "text/plain": [
       "<matplotlib.axes._subplots.AxesSubplot at 0x1de492655c0>"
      ]
     },
     "execution_count": 17,
     "metadata": {},
     "output_type": "execute_result"
    },
    {
     "data": {
      "image/png": "[encoded data removed]",
      "text/plain": [
       "<Figure size 432x288 with 1 Axes>"
      ]
     },
     "metadata": {
      "needs_background": "light"
     },
     "output_type": "display_data"
    }
   ],
   "source": [
    "sns.regplot(x=\"MEDV\", y=\"CHAS\", data=df)"
   ]
  },
  {
   "cell_type": "raw",
   "metadata": {},
   "source": [
    "First we'll display the range of house values per CHAS value, side by side on a catplot. We'll leave jitter switched on to get a better idea of the density of house."
   ]
  },
  {
   "cell_type": "markdown",
   "metadata": {},
   "source": [
    "*** Add a violin plot?? ***"
   ]
  },
  {
   "cell_type": "code",
   "execution_count": 18,
   "metadata": {},
   "outputs": [
    {
     "data": {
      "text/plain": [
       "<seaborn.axisgrid.FacetGrid at 0x1de492b3d30>"
      ]
     },
     "execution_count": 18,
     "metadata": {},
     "output_type": "execute_result"
    },
    {
     "data": {
      "image/png": "[encoded data removed]",
      "text/plain": [
       "<Figure size 360x360 with 1 Axes>"
      ]
     },
     "metadata": {
      "needs_background": "light"
     },
     "output_type": "display_data"
    }
   ],
   "source": [
    "sns.catplot(x='CHAS', y='MEDV',  data=df)"
   ]
  },
  {
   "cell_type": "markdown",
   "metadata": {},
   "source": [
    "Now lets visualise the distribution of this using histograms with KDEs overlaid on the same plot:"
   ]
  },
  {
   "cell_type": "code",
   "execution_count": 19,
   "metadata": {},
   "outputs": [
    {
     "data": {
      "text/plain": [
       "<matplotlib.axes._subplots.AxesSubplot at 0x1de492fdac8>"
      ]
     },
     "execution_count": 19,
     "metadata": {},
     "output_type": "execute_result"
    },
    {
     "data": {
      "image/png": "[encoded data removed]",
      "text/plain": [
       "<Figure size 432x288 with 1 Axes>"
      ]
     },
     "metadata": {
      "needs_background": "light"
     },
     "output_type": "display_data"
    }
   ],
   "source": [
    "# Extract subsets of the dataframe for houses on the Charles River (ry) vs houses not on it (rn)\n",
    "ry = df.loc[df['CHAS'] == 1]\n",
    "rn = df.loc[df['CHAS'] == 0]\n",
    "\n",
    "# Overlay a distplot for each on the same plot for comparison\n",
    "sns.distplot(ry['MEDV'], color='b')\n",
    "sns.distplot(rn['MEDV'], color='r')"
   ]
  },
  {
   "cell_type": "markdown",
   "metadata": {},
   "source": [
    "Although the histograms of the two data sets look quite different, the shapes of the kernal density estimate plots are not dissimilar - although it can be said with reasonable confidence that the values of houses on the Charles River appear to be generally higher than those not on it. We will have to confirm this now by carrying out statistical tests using scipy."
   ]
  },
  {
   "cell_type": "markdown",
   "metadata": {},
   "source": [
    "### T-Test"
   ]
  },
  {
   "cell_type": "markdown",
   "metadata": {},
   "source": [
    "We can carry out a t-test using scipy.stats to check if there is a significant difference in median house prices between those along the Charles River and those that are not. We need to use an independent t-test."
   ]
  },
  {
   "cell_type": "markdown",
   "metadata": {},
   "source": [
    "*** should confirm that the t-test assumptions are met?"
   ]
  },
  {
   "cell_type": "markdown",
   "metadata": {},
   "source": [
    "The null hypothesis here is that the means are equal. Therefore if there is no significant difference between the means, the t-statistic should be close to 0."
   ]
  },
  {
   "cell_type": "markdown",
   "metadata": {},
   "source": [
    "First we need MEDV split into two separate sets - one where CHAS=0 and one where CHAS=1. This has already been carried out to generate the histograms above:\n",
    "* rn = dataframe containing only data on houses not along the Charles River\n",
    "* ry = dataframe containing only data on houses along the Charles River"
   ]
  },
  {
   "cell_type": "code",
   "execution_count": 20,
   "metadata": {},
   "outputs": [
    {
     "data": {
      "text/plain": [
       "Ttest_indResult(statistic=-3.996437466090509, pvalue=7.390623170519905e-05)"
      ]
     },
     "execution_count": 20,
     "metadata": {},
     "output_type": "execute_result"
    }
   ],
   "source": [
    "ss.ttest_ind(rn['MEDV'], ry['MEDV'])"
   ]
  },
  {
   "cell_type": "markdown",
   "metadata": {},
   "source": [
    "Results:\n",
    "* t-Statistic: -3.996\n",
    "* p-value: 7.391e<sup>-5</sup>"
   ]
  },
  {
   "cell_type": "markdown",
   "metadata": {},
   "source": [
    "We can also check this by carrying out the t-test using statsmodel instead:"
   ]
  },
  {
   "cell_type": "code",
   "execution_count": 21,
   "metadata": {},
   "outputs": [
    {
     "data": {
      "text/plain": [
       "(-3.9964374660905095, 7.390623170519883e-05, 504.0)"
      ]
     },
     "execution_count": 21,
     "metadata": {},
     "output_type": "execute_result"
    }
   ],
   "source": [
    "ws.ttest_ind(rn['MEDV'], ry['MEDV'])"
   ]
  },
  {
   "cell_type": "markdown",
   "metadata": {},
   "source": [
    "The results are identical - with the inclusion of the degrees of freedom (504)."
   ]
  },
  {
   "cell_type": "markdown",
   "metadata": {},
   "source": [
    "#### p-value\n",
    "We generally accept a p-value of 0.5 as being the lower bound of whether a relationship is significant or not. Our calculated p-value is sinificantly lower than this, we can therefore conclude that there is a significant difference between the means - in other words we reject the null hypothesis and can state that there is a significant difference in median house prices between those on the Charles River and those not on it."
   ]
  },
  {
   "cell_type": "markdown",
   "metadata": {},
   "source": [
    "** find reference for the above?"
   ]
  },
  {
   "cell_type": "markdown",
   "metadata": {},
   "source": [
    "### Conclusions"
   ]
  },
  {
   "cell_type": "markdown",
   "metadata": {},
   "source": [
    "We can conclude that the difference in the means is statistically significant. However we should caveat this - earlier we noted that an issue with the MEDV values - the distribution of the values indicate that the value above 50 have been truncated for some reason, this would certainly have an effect on the means."
   ]
  },
  {
   "cell_type": "markdown",
   "metadata": {},
   "source": [
    "## Predict"
   ]
  },
  {
   "cell_type": "markdown",
   "metadata": {},
   "source": [
    "We will now use the keras package to create a neural network to predict the median house price based on the datasets other variables."
   ]
  },
  {
   "cell_type": "code",
   "execution_count": 22,
   "metadata": {},
   "outputs": [
    {
     "name": "stderr",
     "output_type": "stream",
     "text": [
      "Using TensorFlow backend.\n"
     ]
    }
   ],
   "source": [
    "import keras as kr\n",
    "import numpy as np"
   ]
  },
  {
   "cell_type": "markdown",
   "metadata": {},
   "source": [
    "** need to choose variables to predict with - ideally those that correlate with the house price, may be of interest to choose several with varying degrees of correlation"
   ]
  },
  {
   "cell_type": "markdown",
   "metadata": {},
   "source": [
    "### Choosing Correlated Variables"
   ]
  },
  {
   "cell_type": "code",
   "execution_count": 23,
   "metadata": {},
   "outputs": [
    {
     "data": {
      "text/plain": [
       "<matplotlib.axes._subplots.AxesSubplot at 0x1de4e68c518>"
      ]
     },
     "execution_count": 23,
     "metadata": {},
     "output_type": "execute_result"
    },
    {
     "data": {
      "image/png": "[encoded data removed]",
      "text/plain": [
       "<Figure size 864x720 with 2 Axes>"
      ]
     },
     "metadata": {},
     "output_type": "display_data"
    }
   ],
   "source": [
    "# Seaborn heatmap\n",
    "sns.set(style=\"dark\")\n",
    "\n",
    "# Mask upper triangle\n",
    "mask = np.zeros_like(df.corr(), dtype=np.bool)\n",
    "mask[np.triu_indices_from(mask)] = True\n",
    "\n",
    "plt.figure(figsize = (12,10))\n",
    "sns.heatmap(df.corr().round(2), annot=True, mask=mask, cmap =\"coolwarm\", center=0, linewidths=0.2)"
   ]
  },
  {
   "cell_type": "markdown",
   "metadata": {},
   "source": [
    "Results: 10 fields most strongly correlated with MEDV are:\n",
    "* CRIM: -0.39\n",
    "* ZN: 0.36\n",
    "* INDUS: -0.48\n",
    "* NOX: -0.43\n",
    "* RM: 0.7\n",
    "* RAD: -0.38\n",
    "* TAX: -0.47\n",
    "* PTRATIO: -0.51\n",
    "* B: 0.33\n",
    "* LSTAT: -0.74\n",
    "    \n",
    "We can use these as inputs for the model."
   ]
  },
  {
   "cell_type": "markdown",
   "metadata": {},
   "source": [
    "** need to decide on layers, numbers of neurons"
   ]
  },
  {
   "cell_type": "code",
   "execution_count": 24,
   "metadata": {},
   "outputs": [
    {
     "data": {
      "text/html": [
       "<div>\n",
       "<style scoped>\n",
       "    .dataframe tbody tr th:only-of-type {\n",
       "        vertical-align: middle;\n",
       "    }\n",
       "\n",
       "    .dataframe tbody tr th {\n",
       "        vertical-align: top;\n",
       "    }\n",
       "\n",
       "    .dataframe thead th {\n",
       "        text-align: right;\n",
       "    }\n",
       "</style>\n",
       "<table border=\"1\" class=\"dataframe\">\n",
       "  <thead>\n",
       "    <tr style=\"text-align: right;\">\n",
       "      <th></th>\n",
       "      <th>CRIM</th>\n",
       "      <th>ZN</th>\n",
       "      <th>INDUS</th>\n",
       "      <th>NOX</th>\n",
       "      <th>RM</th>\n",
       "      <th>RAD</th>\n",
       "      <th>TAX</th>\n",
       "      <th>PTRATIO</th>\n",
       "      <th>B</th>\n",
       "      <th>LSTAT</th>\n",
       "    </tr>\n",
       "  </thead>\n",
       "  <tbody>\n",
       "    <tr>\n",
       "      <th>count</th>\n",
       "      <td>506.000000</td>\n",
       "      <td>506.000000</td>\n",
       "      <td>506.000000</td>\n",
       "      <td>506.000000</td>\n",
       "      <td>506.000000</td>\n",
       "      <td>506.000000</td>\n",
       "      <td>506.000000</td>\n",
       "      <td>506.000000</td>\n",
       "      <td>506.000000</td>\n",
       "      <td>506.000000</td>\n",
       "    </tr>\n",
       "    <tr>\n",
       "      <th>mean</th>\n",
       "      <td>3.613524</td>\n",
       "      <td>11.363636</td>\n",
       "      <td>11.136779</td>\n",
       "      <td>0.554695</td>\n",
       "      <td>6.284634</td>\n",
       "      <td>9.549407</td>\n",
       "      <td>408.237154</td>\n",
       "      <td>18.455534</td>\n",
       "      <td>356.674032</td>\n",
       "      <td>12.653063</td>\n",
       "    </tr>\n",
       "    <tr>\n",
       "      <th>std</th>\n",
       "      <td>8.601545</td>\n",
       "      <td>23.322453</td>\n",
       "      <td>6.860353</td>\n",
       "      <td>0.115878</td>\n",
       "      <td>0.702617</td>\n",
       "      <td>8.707259</td>\n",
       "      <td>168.537116</td>\n",
       "      <td>2.164946</td>\n",
       "      <td>91.294864</td>\n",
       "      <td>7.141062</td>\n",
       "    </tr>\n",
       "    <tr>\n",
       "      <th>min</th>\n",
       "      <td>0.006320</td>\n",
       "      <td>0.000000</td>\n",
       "      <td>0.460000</td>\n",
       "      <td>0.385000</td>\n",
       "      <td>3.561000</td>\n",
       "      <td>1.000000</td>\n",
       "      <td>187.000000</td>\n",
       "      <td>12.600000</td>\n",
       "      <td>0.320000</td>\n",
       "      <td>1.730000</td>\n",
       "    </tr>\n",
       "    <tr>\n",
       "      <th>25%</th>\n",
       "      <td>0.082045</td>\n",
       "      <td>0.000000</td>\n",
       "      <td>5.190000</td>\n",
       "      <td>0.449000</td>\n",
       "      <td>5.885500</td>\n",
       "      <td>4.000000</td>\n",
       "      <td>279.000000</td>\n",
       "      <td>17.400000</td>\n",
       "      <td>375.377500</td>\n",
       "      <td>6.950000</td>\n",
       "    </tr>\n",
       "    <tr>\n",
       "      <th>50%</th>\n",
       "      <td>0.256510</td>\n",
       "      <td>0.000000</td>\n",
       "      <td>9.690000</td>\n",
       "      <td>0.538000</td>\n",
       "      <td>6.208500</td>\n",
       "      <td>5.000000</td>\n",
       "      <td>330.000000</td>\n",
       "      <td>19.050000</td>\n",
       "      <td>391.440000</td>\n",
       "      <td>11.360000</td>\n",
       "    </tr>\n",
       "    <tr>\n",
       "      <th>75%</th>\n",
       "      <td>3.677083</td>\n",
       "      <td>12.500000</td>\n",
       "      <td>18.100000</td>\n",
       "      <td>0.624000</td>\n",
       "      <td>6.623500</td>\n",
       "      <td>24.000000</td>\n",
       "      <td>666.000000</td>\n",
       "      <td>20.200000</td>\n",
       "      <td>396.225000</td>\n",
       "      <td>16.955000</td>\n",
       "    </tr>\n",
       "    <tr>\n",
       "      <th>max</th>\n",
       "      <td>88.976200</td>\n",
       "      <td>100.000000</td>\n",
       "      <td>27.740000</td>\n",
       "      <td>0.871000</td>\n",
       "      <td>8.780000</td>\n",
       "      <td>24.000000</td>\n",
       "      <td>711.000000</td>\n",
       "      <td>22.000000</td>\n",
       "      <td>396.900000</td>\n",
       "      <td>37.970000</td>\n",
       "    </tr>\n",
       "  </tbody>\n",
       "</table>\n",
       "</div>"
      ],
      "text/plain": [
       "             CRIM          ZN       INDUS         NOX          RM         RAD  \\\n",
       "count  506.000000  506.000000  506.000000  506.000000  506.000000  506.000000   \n",
       "mean     3.613524   11.363636   11.136779    0.554695    6.284634    9.549407   \n",
       "std      8.601545   23.322453    6.860353    0.115878    0.702617    8.707259   \n",
       "min      0.006320    0.000000    0.460000    0.385000    3.561000    1.000000   \n",
       "25%      0.082045    0.000000    5.190000    0.449000    5.885500    4.000000   \n",
       "50%      0.256510    0.000000    9.690000    0.538000    6.208500    5.000000   \n",
       "75%      3.677083   12.500000   18.100000    0.624000    6.623500   24.000000   \n",
       "max     88.976200  100.000000   27.740000    0.871000    8.780000   24.000000   \n",
       "\n",
       "              TAX     PTRATIO           B       LSTAT  \n",
       "count  506.000000  506.000000  506.000000  506.000000  \n",
       "mean   408.237154   18.455534  356.674032   12.653063  \n",
       "std    168.537116    2.164946   91.294864    7.141062  \n",
       "min    187.000000   12.600000    0.320000    1.730000  \n",
       "25%    279.000000   17.400000  375.377500    6.950000  \n",
       "50%    330.000000   19.050000  391.440000   11.360000  \n",
       "75%    666.000000   20.200000  396.225000   16.955000  \n",
       "max    711.000000   22.000000  396.900000   37.970000  "
      ]
     },
     "execution_count": 24,
     "metadata": {},
     "output_type": "execute_result"
    }
   ],
   "source": [
    "inputs = df[[\"CRIM\", \"ZN\", \"INDUS\", \"NOX\", \"RM\", \"RAD\", \"TAX\", \"PTRATIO\", \"B\", \"LSTAT\"]]\n",
    "inputs.describe()"
   ]
  },
  {
   "cell_type": "markdown",
   "metadata": {},
   "source": [
    "*** need to normalise?"
   ]
  },
  {
   "cell_type": "code",
   "execution_count": 25,
   "metadata": {},
   "outputs": [],
   "source": [
    "outputs = df[\"MEDV\"]"
   ]
  },
  {
   "cell_type": "markdown",
   "metadata": {},
   "source": [
    "### Split Dataset"
   ]
  },
  {
   "cell_type": "markdown",
   "metadata": {},
   "source": [
    "We need to split the dataset into a training dataset and a predictions dataset."
   ]
  },
  {
   "cell_type": "code",
   "execution_count": 26,
   "metadata": {},
   "outputs": [],
   "source": [
    "import sklearn.model_selection as mod"
   ]
  },
  {
   "cell_type": "code",
   "execution_count": 27,
   "metadata": {},
   "outputs": [],
   "source": [
    "# Split the inputs and outputs into training and test sets.\n",
    "inputs_train, inputs_test, outputs_train, outputs_test = mod.train_test_split(inputs, outputs, test_size=0.2)"
   ]
  },
  {
   "cell_type": "code",
   "execution_count": 28,
   "metadata": {
    "scrolled": true
   },
   "outputs": [
    {
     "name": "stdout",
     "output_type": "stream",
     "text": [
      "             CRIM          ZN       INDUS         NOX          RM         RAD  \\\n",
      "count  404.000000  404.000000  404.000000  404.000000  404.000000  404.000000   \n",
      "mean     3.752100   10.591584   11.082327    0.553888    6.295653    9.759901   \n",
      "std      8.607383   22.409571    6.803647    0.112293    0.694439    8.824412   \n",
      "min      0.006320    0.000000    0.460000    0.385000    3.863000    1.000000   \n",
      "25%      0.083827    0.000000    5.190000    0.453000    5.887750    4.000000   \n",
      "50%      0.274475    0.000000    9.690000    0.538000    6.206500    5.000000   \n",
      "75%      4.084405   12.500000   18.100000    0.624000    6.630250   24.000000   \n",
      "max     88.976200   95.000000   27.740000    0.871000    8.725000   24.000000   \n",
      "\n",
      "              TAX     PTRATIO           B       LSTAT  \n",
      "count  404.000000  404.000000  404.000000  404.000000  \n",
      "mean   410.353960   18.501238  356.614703   12.652896  \n",
      "std    170.763258    2.122834   92.527532    7.073626  \n",
      "min    187.000000   12.600000    0.320000    1.730000  \n",
      "25%    277.000000   17.400000  376.722500    7.212500  \n",
      "50%    334.500000   19.100000  391.305000   11.395000  \n",
      "75%    666.000000   20.200000  396.250000   16.992500  \n",
      "max    711.000000   22.000000  396.900000   36.980000  \n",
      "             CRIM          ZN       INDUS         NOX          RM         RAD  \\\n",
      "count  102.000000  102.000000  102.000000  102.000000  102.000000  102.000000   \n",
      "mean     3.064653   14.421569   11.352451    0.557891    6.240990    8.715686   \n",
      "std      8.598675   26.534374    7.110785    0.129658    0.736028    8.215389   \n",
      "min      0.009060    0.000000    1.320000    0.392000    3.561000    1.000000   \n",
      "25%      0.061010    0.000000    5.130000    0.439150    5.877250    4.000000   \n",
      "50%      0.209350    0.000000    9.690000    0.538000    6.208500    5.000000   \n",
      "75%      2.066358   20.000000   18.100000    0.641250    6.586000    8.000000   \n",
      "max     73.534100  100.000000   27.740000    0.871000    8.780000   24.000000   \n",
      "\n",
      "              TAX     PTRATIO           B       LSTAT  \n",
      "count  102.000000  102.000000  102.000000  102.000000  \n",
      "mean   399.852941   18.274510  356.909020   12.653725  \n",
      "std    159.947603    2.326459   86.678028    7.438041  \n",
      "min    188.000000   12.600000   10.480000    3.330000  \n",
      "25%    287.000000   16.400000  370.242500    6.742500  \n",
      "50%    322.000000   18.950000  392.145000   11.170000  \n",
      "75%    437.000000   20.200000  395.542500   16.717500  \n",
      "max    711.000000   22.000000  396.900000   37.970000  \n"
     ]
    }
   ],
   "source": [
    "print(inputs_train.describe())\n",
    "print(inputs_test.describe())"
   ]
  },
  {
   "cell_type": "code",
   "execution_count": 29,
   "metadata": {
    "scrolled": true
   },
   "outputs": [
    {
     "name": "stdout",
     "output_type": "stream",
     "text": [
      "count    404.000000\n",
      "mean      22.720050\n",
      "std        9.571415\n",
      "min        5.000000\n",
      "25%       17.075000\n",
      "50%       21.000000\n",
      "75%       25.125000\n",
      "max       50.000000\n",
      "Name: MEDV, dtype: float64\n",
      "count    102.000000\n",
      "mean      21.791176\n",
      "std        7.529744\n",
      "min        6.300000\n",
      "25%       16.650000\n",
      "50%       21.800000\n",
      "75%       24.550000\n",
      "max       48.500000\n",
      "Name: MEDV, dtype: float64\n"
     ]
    }
   ],
   "source": [
    "print(outputs_train.describe())\n",
    "print(outputs_test.describe())"
   ]
  },
  {
   "cell_type": "code",
   "execution_count": 30,
   "metadata": {},
   "outputs": [
    {
     "data": {
      "text/plain": [
       "CRIM         0.05023\n",
       "ZN          35.00000\n",
       "INDUS        6.06000\n",
       "NOX          0.43790\n",
       "RM           5.70600\n",
       "RAD          1.00000\n",
       "TAX        304.00000\n",
       "PTRATIO     16.90000\n",
       "B          394.02000\n",
       "LSTAT       12.43000\n",
       "Name: 331, dtype: float64"
      ]
     },
     "execution_count": 30,
     "metadata": {},
     "output_type": "execute_result"
    }
   ],
   "source": [
    "inputs_test.iloc[0]"
   ]
  },
  {
   "cell_type": "markdown",
   "metadata": {},
   "source": [
    "### Build Neural Network"
   ]
  },
  {
   "cell_type": "code",
   "execution_count": 31,
   "metadata": {},
   "outputs": [],
   "source": [
    "mean = inputs_train.mean()\n",
    "std = inputs_train.std()\n",
    "\n",
    "inputs_train = (inputs_train - mean)/std\n",
    "inputs_test = (inputs_test - mean)/std"
   ]
  },
  {
   "cell_type": "code",
   "execution_count": 32,
   "metadata": {},
   "outputs": [],
   "source": [
    "# Create a new neural network.\n",
    "from keras.models import Sequential\n",
    "from keras.layers import Dense"
   ]
  },
  {
   "cell_type": "markdown",
   "metadata": {},
   "source": [
    "*** https://towardsdatascience.com/activation-functions-and-its-types-which-is-better-a9a5310cc8f"
   ]
  },
  {
   "cell_type": "markdown",
   "metadata": {},
   "source": [
    "There are many different ways to build a neural network, the accuracy will depend on the approach we take."
   ]
  },
  {
   "cell_type": "markdown",
   "metadata": {},
   "source": [
    "*** https://www.dlology.com/blog/quick-notes-on-how-to-choose-optimizer-in-keras/\n",
    "*** https://machinelearningmastery.com/how-to-choose-loss-functions-when-training-deep-learning-neural-networks/\n",
    "*** https://towardsdatascience.com/activation-functions-and-its-types-which-is-better-a9a5310cc8f"
   ]
  },
  {
   "cell_type": "markdown",
   "metadata": {},
   "source": [
    "##### Defining Functions"
   ]
  },
  {
   "cell_type": "markdown",
   "metadata": {},
   "source": [
    "It will be useful to create some functions now as some of the following work will be repetitive."
   ]
  },
  {
   "cell_type": "code",
   "execution_count": 33,
   "metadata": {},
   "outputs": [],
   "source": [
    "# Function that carries out the keras.evaluate() function and prints to a specified format\n",
    "def evaluator(evalN, modelN):\n",
    "    evalN = modelN.evaluate(inputs_test, outputs_test, verbose=0)\n",
    "    print(\"This model evaluates as:\")\n",
    "    print(\"* Loss:\", evalN[0])\n",
    "    print(\"* MAE:\", evalN[1])\n",
    "    print(\"* Accuracy:\", evalN[2])"
   ]
  },
  {
   "cell_type": "code",
   "execution_count": 34,
   "metadata": {},
   "outputs": [],
   "source": [
    "# Function that carries out the keras.predict() function and prints to a specified format\n",
    "def predictor(predN, modelN):\n",
    "    predN = modelN.predict(inputs_test.as_matrix()[0:1])\n",
    "    print(\"This model predicts as:\")\n",
    "    print(\"* Predicted Value:\", predN[0][0])\n",
    "    print(\"* Actual value:\", outputs_test[0:1].iloc[0])"
   ]
  },
  {
   "cell_type": "markdown",
   "metadata": {},
   "source": [
    "#### First Attempt"
   ]
  },
  {
   "cell_type": "markdown",
   "metadata": {},
   "source": [
    "This will be a three layer neural network with densities of 100, 50 and 1."
   ]
  },
  {
   "cell_type": "markdown",
   "metadata": {},
   "source": [
    "##### Construct Model"
   ]
  },
  {
   "cell_type": "code",
   "execution_count": 35,
   "metadata": {
    "scrolled": true
   },
   "outputs": [
    {
     "name": "stdout",
     "output_type": "stream",
     "text": [
      "WARNING:tensorflow:From C:\\Users\\Peter McGowan\\Anaconda3\\lib\\site-packages\\tensorflow\\python\\ops\\resource_variable_ops.py:435: colocate_with (from tensorflow.python.framework.ops) is deprecated and will be removed in a future version.\n",
      "Instructions for updating:\n",
      "Colocations handled automatically by placer.\n",
      "Model: \"sequential_1\"\n",
      "_________________________________________________________________\n",
      "Layer (type)                 Output Shape              Param #   \n",
      "=================================================================\n",
      "dense_1 (Dense)              (None, 100)               1100      \n",
      "_________________________________________________________________\n",
      "dense_2 (Dense)              (None, 25)                2525      \n",
      "_________________________________________________________________\n",
      "dense_3 (Dense)              (None, 1)                 26        \n",
      "=================================================================\n",
      "Total params: 3,651\n",
      "Trainable params: 3,651\n",
      "Non-trainable params: 0\n",
      "_________________________________________________________________\n"
     ]
    }
   ],
   "source": [
    "model1 = Sequential() \n",
    "\n",
    "model1.add(Dense(units=100, activation='relu', input_dim=10))\n",
    "model1.add(Dense(units=25, activation='relu'))\n",
    "model1.add(Dense(units=1))\n",
    "\n",
    "model1.compile(loss='mse', optimizer='adam', metrics=['mae', 'acc'])\n",
    "\n",
    "model1.summary()"
   ]
  },
  {
   "cell_type": "code",
   "execution_count": 36,
   "metadata": {
    "scrolled": true
   },
   "outputs": [
    {
     "name": "stdout",
     "output_type": "stream",
     "text": [
      "WARNING:tensorflow:From C:\\Users\\Peter McGowan\\Anaconda3\\lib\\site-packages\\tensorflow\\python\\ops\\math_ops.py:3066: to_int32 (from tensorflow.python.ops.math_ops) is deprecated and will be removed in a future version.\n",
      "Instructions for updating:\n",
      "Use tf.cast instead.\n",
      "Epoch 1/50\n",
      "404/404 [==============================] - 0s 196us/step - loss: 584.5923 - mae: 22.2262 - acc: 0.0000e+00\n",
      "Epoch 2/50\n",
      "404/404 [==============================] - 0s 0us/step - loss: 540.7478 - mae: 21.2707 - acc: 0.0000e+00\n",
      "Epoch 3/50\n",
      "404/404 [==============================] - 0s 0us/step - loss: 481.8872 - mae: 19.9306 - acc: 0.0000e+00\n",
      "Epoch 4/50\n",
      "404/404 [==============================] - 0s 39us/step - loss: 404.7874 - mae: 18.0456 - acc: 0.0000e+00\n",
      "Epoch 5/50\n",
      "404/404 [==============================] - 0s 39us/step - loss: 306.1806 - mae: 15.3851 - acc: 0.0000e+00\n",
      "Epoch 6/50\n",
      "404/404 [==============================] - 0s 39us/step - loss: 204.6764 - mae: 12.1834 - acc: 0.0000e+00\n",
      "Epoch 7/50\n",
      "404/404 [==============================] - 0s 39us/step - loss: 120.9224 - mae: 8.8529 - acc: 0.0074\n",
      "Epoch 8/50\n",
      "404/404 [==============================] - 0s 0us/step - loss: 74.9064 - mae: 6.5271 - acc: 0.0099\n",
      "Epoch 9/50\n",
      "404/404 [==============================] - 0s 0us/step - loss: 57.9036 - mae: 5.5175 - acc: 0.0050\n",
      "Epoch 10/50\n",
      "404/404 [==============================] - 0s 39us/step - loss: 48.5179 - mae: 4.9607 - acc: 0.0099\n",
      "Epoch 11/50\n",
      "404/404 [==============================] - 0s 39us/step - loss: 40.2955 - mae: 4.4651 - acc: 0.0124\n",
      "Epoch 12/50\n",
      "404/404 [==============================] - 0s 39us/step - loss: 34.9071 - mae: 4.1041 - acc: 0.0099\n",
      "Epoch 13/50\n",
      "404/404 [==============================] - 0s 0us/step - loss: 31.2984 - mae: 3.8651 - acc: 0.0074\n",
      "Epoch 14/50\n",
      "404/404 [==============================] - 0s 0us/step - loss: 28.6088 - mae: 3.6895 - acc: 0.0124\n",
      "Epoch 15/50\n",
      "404/404 [==============================] - 0s 39us/step - loss: 26.6557 - mae: 3.5572 - acc: 0.0149\n",
      "Epoch 16/50\n",
      "404/404 [==============================] - 0s 39us/step - loss: 25.0793 - mae: 3.4346 - acc: 0.0173\n",
      "Epoch 17/50\n",
      "404/404 [==============================] - 0s 39us/step - loss: 23.9865 - mae: 3.3292 - acc: 0.0099\n",
      "Epoch 18/50\n",
      "404/404 [==============================] - 0s 39us/step - loss: 22.9811 - mae: 3.2680 - acc: 0.0149\n",
      "Epoch 19/50\n",
      "404/404 [==============================] - 0s 0us/step - loss: 22.2253 - mae: 3.2339 - acc: 0.0149\n",
      "Epoch 20/50\n",
      "404/404 [==============================] - 0s 0us/step - loss: 21.5228 - mae: 3.1921 - acc: 0.0149\n",
      "Epoch 21/50\n",
      "404/404 [==============================] - 0s 39us/step - loss: 20.8022 - mae: 3.1240 - acc: 0.0173\n",
      "Epoch 22/50\n",
      "404/404 [==============================] - 0s 39us/step - loss: 20.2956 - mae: 3.0765 - acc: 0.0149\n",
      "Epoch 23/50\n",
      "404/404 [==============================] - 0s 39us/step - loss: 19.7760 - mae: 3.0373 - acc: 0.0173\n",
      "Epoch 24/50\n",
      "404/404 [==============================] - 0s 39us/step - loss: 19.3425 - mae: 3.0429 - acc: 0.0149\n",
      "Epoch 25/50\n",
      "404/404 [==============================] - 0s 0us/step - loss: 18.8901 - mae: 3.0421 - acc: 0.0149\n",
      "Epoch 26/50\n",
      "404/404 [==============================] - 0s 0us/step - loss: 18.3984 - mae: 2.9849 - acc: 0.0149\n",
      "Epoch 27/50\n",
      "404/404 [==============================] - 0s 39us/step - loss: 18.0843 - mae: 2.9452 - acc: 0.0124\n",
      "Epoch 28/50\n",
      "404/404 [==============================] - 0s 39us/step - loss: 17.6570 - mae: 2.9263 - acc: 0.0149\n",
      "Epoch 29/50\n",
      "404/404 [==============================] - 0s 0us/step - loss: 17.4257 - mae: 2.9312 - acc: 0.0099\n",
      "Epoch 30/50\n",
      "404/404 [==============================] - 0s 0us/step - loss: 17.0819 - mae: 2.8857 - acc: 0.0124\n",
      "Epoch 31/50\n",
      "404/404 [==============================] - 0s 39us/step - loss: 16.7944 - mae: 2.8591 - acc: 0.0149\n",
      "Epoch 32/50\n",
      "404/404 [==============================] - 0s 39us/step - loss: 16.5216 - mae: 2.8479 - acc: 0.0173\n",
      "Epoch 33/50\n",
      "404/404 [==============================] - 0s 39us/step - loss: 16.3288 - mae: 2.8572 - acc: 0.0124\n",
      "Epoch 34/50\n",
      "404/404 [==============================] - 0s 39us/step - loss: 16.0647 - mae: 2.8468 - acc: 0.0149\n",
      "Epoch 35/50\n",
      "404/404 [==============================] - 0s 0us/step - loss: 15.7944 - mae: 2.7947 - acc: 0.0099\n",
      "Epoch 36/50\n",
      "404/404 [==============================] - 0s 0us/step - loss: 15.6724 - mae: 2.7701 - acc: 0.0124\n",
      "Epoch 37/50\n",
      "404/404 [==============================] - 0s 39us/step - loss: 15.4220 - mae: 2.7933 - acc: 0.0074\n",
      "Epoch 38/50\n",
      "404/404 [==============================] - 0s 39us/step - loss: 15.2718 - mae: 2.7825 - acc: 0.0050\n",
      "Epoch 39/50\n",
      "404/404 [==============================] - 0s 0us/step - loss: 15.1529 - mae: 2.7495 - acc: 0.0099\n",
      "Epoch 40/50\n",
      "404/404 [==============================] - 0s 39us/step - loss: 15.0252 - mae: 2.7602 - acc: 0.0173\n",
      "Epoch 41/50\n",
      "404/404 [==============================] - 0s 39us/step - loss: 14.7541 - mae: 2.7549 - acc: 0.0099\n",
      "Epoch 42/50\n",
      "404/404 [==============================] - 0s 39us/step - loss: 14.5823 - mae: 2.7042 - acc: 0.0124\n",
      "Epoch 43/50\n",
      "404/404 [==============================] - 0s 0us/step - loss: 14.5311 - mae: 2.7175 - acc: 0.0099\n",
      "Epoch 44/50\n",
      "404/404 [==============================] - 0s 0us/step - loss: 14.3155 - mae: 2.6922 - acc: 0.0149\n",
      "Epoch 45/50\n",
      "404/404 [==============================] - 0s 39us/step - loss: 14.2383 - mae: 2.6530 - acc: 0.0223\n",
      "Epoch 46/50\n",
      "404/404 [==============================] - 0s 39us/step - loss: 14.1103 - mae: 2.6724 - acc: 0.0149\n",
      "Epoch 47/50\n",
      "404/404 [==============================] - 0s 39us/step - loss: 14.0602 - mae: 2.6671 - acc: 0.0198\n",
      "Epoch 48/50\n",
      "404/404 [==============================] - 0s 0us/step - loss: 13.8161 - mae: 2.6378 - acc: 0.0198\n",
      "Epoch 49/50\n",
      "404/404 [==============================] - 0s 0us/step - loss: 13.7428 - mae: 2.6291 - acc: 0.0149\n",
      "Epoch 50/50\n",
      "404/404 [==============================] - 0s 39us/step - loss: 13.6816 - mae: 2.6281 - acc: 0.0198\n"
     ]
    }
   ],
   "source": [
    "history1 = model1.fit(inputs_train, outputs_train, epochs=50)"
   ]
  },
  {
   "cell_type": "code",
   "execution_count": 37,
   "metadata": {},
   "outputs": [
    {
     "name": "stdout",
     "output_type": "stream",
     "text": [
      "This model evaluates as:\n",
      "* Loss: 18.576142441992666\n",
      "* MAE: 2.8546836376190186\n",
      "* Accuracy: 0.009803921915590763\n"
     ]
    }
   ],
   "source": [
    "evaluate1 = []\n",
    "evaluator(evaluate1, model1)"
   ]
  },
  {
   "cell_type": "code",
   "execution_count": 38,
   "metadata": {},
   "outputs": [
    {
     "name": "stdout",
     "output_type": "stream",
     "text": [
      "This model predicts as:\n",
      "* Predicted Value: 18.699707\n",
      "* Actual value: 17.1\n"
     ]
    },
    {
     "name": "stderr",
     "output_type": "stream",
     "text": [
      "C:\\Users\\Peter McGowan\\Anaconda3\\lib\\site-packages\\ipykernel_launcher.py:3: FutureWarning: Method .as_matrix will be removed in a future version. Use .values instead.\n",
      "  This is separate from the ipykernel package so we can avoid doing imports until\n"
     ]
    }
   ],
   "source": [
    "predict1 = []\n",
    "predictor(predict1, model1)"
   ]
  },
  {
   "cell_type": "markdown",
   "metadata": {},
   "source": [
    "##### Results"
   ]
  },
  {
   "cell_type": "markdown",
   "metadata": {},
   "source": [
    "Our basic, three layer model run with the data as-is didn't perform particularly well, although it was converging towards a solution. Normalising the data definitely made a significant improvement. We can now move on to developing the structure of the model itself to improve the accuracy."
   ]
  },
  {
   "cell_type": "markdown",
   "metadata": {},
   "source": [
    "#### Second Attempt - Deepen"
   ]
  },
  {
   "cell_type": "markdown",
   "metadata": {},
   "source": [
    "We will develop the second attempt model and deepen it now by adding another hidden layer."
   ]
  },
  {
   "cell_type": "markdown",
   "metadata": {},
   "source": [
    "##### Construct Model"
   ]
  },
  {
   "cell_type": "code",
   "execution_count": 39,
   "metadata": {
    "scrolled": true
   },
   "outputs": [
    {
     "name": "stdout",
     "output_type": "stream",
     "text": [
      "Model: \"sequential_2\"\n",
      "_________________________________________________________________\n",
      "Layer (type)                 Output Shape              Param #   \n",
      "=================================================================\n",
      "dense_4 (Dense)              (None, 100)               1100      \n",
      "_________________________________________________________________\n",
      "dense_5 (Dense)              (None, 50)                5050      \n",
      "_________________________________________________________________\n",
      "dense_6 (Dense)              (None, 25)                1275      \n",
      "_________________________________________________________________\n",
      "dense_7 (Dense)              (None, 1)                 26        \n",
      "=================================================================\n",
      "Total params: 7,451\n",
      "Trainable params: 7,451\n",
      "Non-trainable params: 0\n",
      "_________________________________________________________________\n"
     ]
    }
   ],
   "source": [
    "model2 = Sequential() \n",
    "\n",
    "model2.add(Dense(units=100, activation='relu', input_dim=10))\n",
    "model2.add(Dense(units=50, activation='relu'))\n",
    "model2.add(Dense(units=25, activation='relu'))\n",
    "model2.add(Dense(units=1))\n",
    "\n",
    "model2.compile(loss='mse', optimizer='adam', metrics=['mae', 'acc'])\n",
    "\n",
    "model2.summary()"
   ]
  },
  {
   "cell_type": "markdown",
   "metadata": {},
   "source": [
    "##### Training"
   ]
  },
  {
   "cell_type": "markdown",
   "metadata": {},
   "source": []
  },
  {
   "cell_type": "code",
   "execution_count": 40,
   "metadata": {
    "scrolled": true
   },
   "outputs": [
    {
     "name": "stdout",
     "output_type": "stream",
     "text": [
      "Epoch 1/50\n",
      "404/404 [==============================] - 0s 309us/step - loss: 601.9401 - mae: 22.5659 - acc: 0.0000e+00\n",
      "Epoch 2/50\n",
      "404/404 [==============================] - 0s 0us/step - loss: 565.0994 - mae: 21.7891 - acc: 0.0000e+00\n",
      "Epoch 3/50\n",
      "404/404 [==============================] - 0s 0us/step - loss: 507.2324 - mae: 20.4739 - acc: 0.0000e+00\n",
      "Epoch 4/50\n",
      "404/404 [==============================] - 0s 39us/step - loss: 403.1746 - mae: 17.9106 - acc: 0.0000e+00\n",
      "Epoch 5/50\n",
      "404/404 [==============================] - 0s 39us/step - loss: 239.1048 - mae: 13.3387 - acc: 0.0025\n",
      "Epoch 6/50\n",
      "404/404 [==============================] - 0s 39us/step - loss: 95.3529 - mae: 7.8056 - acc: 0.0025 \n",
      "Epoch 7/50\n",
      "404/404 [==============================] - 0s 0us/step - loss: 58.0006 - mae: 5.6331 - acc: 0.0074\n",
      "Epoch 8/50\n",
      "404/404 [==============================] - 0s 0us/step - loss: 44.2190 - mae: 4.6850 - acc: 0.0149\n",
      "Epoch 9/50\n",
      "404/404 [==============================] - 0s 39us/step - loss: 34.7127 - mae: 4.0370 - acc: 0.0074\n",
      "Epoch 10/50\n",
      "404/404 [==============================] - 0s 39us/step - loss: 29.4200 - mae: 3.7322 - acc: 0.0124\n",
      "Epoch 11/50\n",
      "404/404 [==============================] - 0s 0us/step - loss: 26.4269 - mae: 3.5968 - acc: 0.0099\n",
      "Epoch 12/50\n",
      "404/404 [==============================] - 0s 39us/step - loss: 23.9202 - mae: 3.3909 - acc: 0.0099\n",
      "Epoch 13/50\n",
      "404/404 [==============================] - 0s 39us/step - loss: 22.2607 - mae: 3.2775 - acc: 0.0173\n",
      "Epoch 14/50\n",
      "404/404 [==============================] - 0s 0us/step - loss: 21.2031 - mae: 3.2039 - acc: 0.0198\n",
      "Epoch 15/50\n",
      "404/404 [==============================] - 0s 0us/step - loss: 20.2386 - mae: 3.1724 - acc: 0.0223\n",
      "Epoch 16/50\n",
      "404/404 [==============================] - 0s 39us/step - loss: 19.4666 - mae: 3.1234 - acc: 0.0272\n",
      "Epoch 17/50\n",
      "404/404 [==============================] - 0s 39us/step - loss: 18.8892 - mae: 2.9989 - acc: 0.0223\n",
      "Epoch 18/50\n",
      "404/404 [==============================] - 0s 0us/step - loss: 17.9438 - mae: 2.9790 - acc: 0.0198\n",
      "Epoch 19/50\n",
      "404/404 [==============================] - 0s 0us/step - loss: 17.4182 - mae: 2.9920 - acc: 0.0173\n",
      "Epoch 20/50\n",
      "404/404 [==============================] - 0s 39us/step - loss: 16.9113 - mae: 2.9222 - acc: 0.0124\n",
      "Epoch 21/50\n",
      "404/404 [==============================] - 0s 39us/step - loss: 16.4187 - mae: 2.8760 - acc: 0.0124\n",
      "Epoch 22/50\n",
      "404/404 [==============================] - 0s 0us/step - loss: 16.2300 - mae: 2.8505 - acc: 0.0173\n",
      "Epoch 23/50\n",
      "404/404 [==============================] - 0s 39us/step - loss: 15.6801 - mae: 2.8716 - acc: 0.0124\n",
      "Epoch 24/50\n",
      "404/404 [==============================] - 0s 39us/step - loss: 15.8271 - mae: 2.8534 - acc: 0.0223\n",
      "Epoch 25/50\n",
      "404/404 [==============================] - 0s 39us/step - loss: 15.4111 - mae: 2.8308 - acc: 0.0198\n",
      "Epoch 26/50\n",
      "404/404 [==============================] - 0s 0us/step - loss: 15.0376 - mae: 2.7423 - acc: 0.0149\n",
      "Epoch 27/50\n",
      "404/404 [==============================] - 0s 39us/step - loss: 14.7955 - mae: 2.7521 - acc: 0.0223\n",
      "Epoch 28/50\n",
      "404/404 [==============================] - 0s 39us/step - loss: 14.6039 - mae: 2.7565 - acc: 0.0173\n",
      "Epoch 29/50\n",
      "404/404 [==============================] - 0s 39us/step - loss: 14.3660 - mae: 2.6986 - acc: 0.0223\n",
      "Epoch 30/50\n",
      "404/404 [==============================] - 0s 18us/step - loss: 14.3771 - mae: 2.6727 - acc: 0.0297\n",
      "Epoch 31/50\n",
      "404/404 [==============================] - 0s 0us/step - loss: 14.6011 - mae: 2.7706 - acc: 0.0248\n",
      "Epoch 32/50\n",
      "404/404 [==============================] - 0s 0us/step - loss: 14.2148 - mae: 2.6635 - acc: 0.0272\n",
      "Epoch 33/50\n",
      "404/404 [==============================] - 0s 39us/step - loss: 13.9195 - mae: 2.6534 - acc: 0.0198\n",
      "Epoch 34/50\n",
      "404/404 [==============================] - 0s 39us/step - loss: 13.8088 - mae: 2.6497 - acc: 0.0223\n",
      "Epoch 35/50\n",
      "404/404 [==============================] - 0s 0us/step - loss: 13.6586 - mae: 2.5990 - acc: 0.0248\n",
      "Epoch 36/50\n",
      "404/404 [==============================] - 0s 0us/step - loss: 13.4640 - mae: 2.6154 - acc: 0.0272\n",
      "Epoch 37/50\n",
      "404/404 [==============================] - 0s 39us/step - loss: 13.4460 - mae: 2.6262 - acc: 0.0248\n",
      "Epoch 38/50\n",
      "404/404 [==============================] - 0s 39us/step - loss: 13.4145 - mae: 2.6182 - acc: 0.0248\n",
      "Epoch 39/50\n",
      "404/404 [==============================] - 0s 39us/step - loss: 13.3875 - mae: 2.5591 - acc: 0.0248\n",
      "Epoch 40/50\n",
      "404/404 [==============================] - 0s 0us/step - loss: 13.0980 - mae: 2.5494 - acc: 0.0297\n",
      "Epoch 41/50\n",
      "404/404 [==============================] - 0s 39us/step - loss: 13.0895 - mae: 2.5803 - acc: 0.0248\n",
      "Epoch 42/50\n",
      "404/404 [==============================] - 0s 39us/step - loss: 12.9493 - mae: 2.5609 - acc: 0.0248\n",
      "Epoch 43/50\n",
      "404/404 [==============================] - 0s 39us/step - loss: 12.9552 - mae: 2.5197 - acc: 0.0272\n",
      "Epoch 44/50\n",
      "404/404 [==============================] - 0s 0us/step - loss: 12.9151 - mae: 2.5153 - acc: 0.0297\n",
      "Epoch 45/50\n",
      "404/404 [==============================] - 0s 39us/step - loss: 12.8060 - mae: 2.5579 - acc: 0.0272\n",
      "Epoch 46/50\n",
      "404/404 [==============================] - 0s 39us/step - loss: 12.7711 - mae: 2.4971 - acc: 0.0322\n",
      "Epoch 47/50\n",
      "404/404 [==============================] - 0s 39us/step - loss: 12.6305 - mae: 2.5163 - acc: 0.0223\n",
      "Epoch 48/50\n",
      "404/404 [==============================] - 0s 0us/step - loss: 12.4224 - mae: 2.4952 - acc: 0.0347\n",
      "Epoch 49/50\n",
      "404/404 [==============================] - 0s 39us/step - loss: 12.3398 - mae: 2.4519 - acc: 0.0272\n",
      "Epoch 50/50\n",
      "404/404 [==============================] - 0s 39us/step - loss: 12.3438 - mae: 2.4583 - acc: 0.0322\n"
     ]
    }
   ],
   "source": [
    "history2 = model2.fit(inputs_train, outputs_train, epochs=50)"
   ]
  },
  {
   "cell_type": "markdown",
   "metadata": {},
   "source": [
    "This is a noticeable improvement over the first model. It is converging more quickly, but perhaps we should increase the number of epochs to assess its accuracy."
   ]
  },
  {
   "cell_type": "code",
   "execution_count": 41,
   "metadata": {},
   "outputs": [
    {
     "name": "stdout",
     "output_type": "stream",
     "text": [
      "This model evaluates as:\n",
      "* Loss: 20.672219332526712\n",
      "* MAE: 2.8304808139801025\n",
      "* Accuracy: 0.0\n"
     ]
    }
   ],
   "source": [
    "evaluate2 = []\n",
    "evaluator(evaluate2, model2)"
   ]
  },
  {
   "cell_type": "code",
   "execution_count": 42,
   "metadata": {},
   "outputs": [
    {
     "name": "stdout",
     "output_type": "stream",
     "text": [
      "This model predicts as:\n",
      "* Predicted Value: 17.775236\n",
      "* Actual value: 17.1\n"
     ]
    },
    {
     "name": "stderr",
     "output_type": "stream",
     "text": [
      "C:\\Users\\Peter McGowan\\Anaconda3\\lib\\site-packages\\ipykernel_launcher.py:3: FutureWarning: Method .as_matrix will be removed in a future version. Use .values instead.\n",
      "  This is separate from the ipykernel package so we can avoid doing imports until\n"
     ]
    }
   ],
   "source": [
    "predict2 = []\n",
    "predictor(predict2, model2)"
   ]
  },
  {
   "cell_type": "markdown",
   "metadata": {},
   "source": [
    "##### Results"
   ]
  },
  {
   "cell_type": "markdown",
   "metadata": {},
   "source": [
    "Deepening the model by adding another hidden layer has helped to increase the accuracy - therefore we can be reasonably confident that deeping the model is effective. "
   ]
  },
  {
   "cell_type": "markdown",
   "metadata": {},
   "source": [
    "#### Third Attempt - Widen"
   ]
  },
  {
   "cell_type": "markdown",
   "metadata": {},
   "source": [
    "We will develop the model more and widen it now by doubling the number of units in each hidden layer."
   ]
  },
  {
   "cell_type": "markdown",
   "metadata": {},
   "source": [
    "##### Construct Model"
   ]
  },
  {
   "cell_type": "code",
   "execution_count": 43,
   "metadata": {
    "scrolled": true
   },
   "outputs": [
    {
     "name": "stdout",
     "output_type": "stream",
     "text": [
      "Model: \"sequential_3\"\n",
      "_________________________________________________________________\n",
      "Layer (type)                 Output Shape              Param #   \n",
      "=================================================================\n",
      "dense_8 (Dense)              (None, 150)               1650      \n",
      "_________________________________________________________________\n",
      "dense_9 (Dense)              (None, 100)               15100     \n",
      "_________________________________________________________________\n",
      "dense_10 (Dense)             (None, 50)                5050      \n",
      "_________________________________________________________________\n",
      "dense_11 (Dense)             (None, 1)                 51        \n",
      "=================================================================\n",
      "Total params: 21,851\n",
      "Trainable params: 21,851\n",
      "Non-trainable params: 0\n",
      "_________________________________________________________________\n"
     ]
    }
   ],
   "source": [
    "model3 = Sequential() \n",
    "\n",
    "model3.add(Dense(units=150, activation='relu', input_dim=10))\n",
    "model3.add(Dense(units=100, activation='relu'))\n",
    "model3.add(Dense(units=50, activation='relu'))\n",
    "model3.add(Dense(units=1))\n",
    "\n",
    "model3.compile(loss='mse', optimizer='adam', metrics=['mae', 'acc'])\n",
    "\n",
    "model3.summary()"
   ]
  },
  {
   "cell_type": "markdown",
   "metadata": {},
   "source": [
    "##### Training"
   ]
  },
  {
   "cell_type": "markdown",
   "metadata": {},
   "source": []
  },
  {
   "cell_type": "code",
   "execution_count": 44,
   "metadata": {
    "scrolled": true
   },
   "outputs": [
    {
     "name": "stdout",
     "output_type": "stream",
     "text": [
      "Epoch 1/50\n",
      "404/404 [==============================] - 0s 309us/step - loss: 577.9789 - mae: 22.0490 - acc: 0.0000e+00\n",
      "Epoch 2/50\n",
      "404/404 [==============================] - 0s 39us/step - loss: 461.6138 - mae: 19.2282 - acc: 0.0050\n",
      "Epoch 3/50\n",
      "404/404 [==============================] - 0s 39us/step - loss: 235.9808 - mae: 13.0693 - acc: 0.0000e+00\n",
      "Epoch 4/50\n",
      "404/404 [==============================] - 0s 39us/step - loss: 77.1839 - mae: 6.6921 - acc: 0.0050\n",
      "Epoch 5/50\n",
      "404/404 [==============================] - 0s 39us/step - loss: 48.1302 - mae: 4.9395 - acc: 0.0198\n",
      "Epoch 6/50\n",
      "404/404 [==============================] - 0s 39us/step - loss: 34.6126 - mae: 3.9517 - acc: 0.0099\n",
      "Epoch 7/50\n",
      "404/404 [==============================] - 0s 39us/step - loss: 26.1406 - mae: 3.5126 - acc: 0.0173\n",
      "Epoch 8/50\n",
      "404/404 [==============================] - 0s 39us/step - loss: 23.6058 - mae: 3.4167 - acc: 0.0149\n",
      "Epoch 9/50\n",
      "404/404 [==============================] - 0s 39us/step - loss: 21.1186 - mae: 3.2311 - acc: 0.0149\n",
      "Epoch 10/50\n",
      "404/404 [==============================] - 0s 0us/step - loss: 19.8021 - mae: 3.1440 - acc: 0.0074\n",
      "Epoch 11/50\n",
      "404/404 [==============================] - 0s 39us/step - loss: 18.7138 - mae: 3.0718 - acc: 0.0198\n",
      "Epoch 12/50\n",
      "404/404 [==============================] - 0s 39us/step - loss: 17.9656 - mae: 2.9661 - acc: 0.0198\n",
      "Epoch 13/50\n",
      "404/404 [==============================] - 0s 39us/step - loss: 17.3242 - mae: 3.0255 - acc: 0.0099\n",
      "Epoch 14/50\n",
      "404/404 [==============================] - 0s 39us/step - loss: 16.7417 - mae: 2.9164 - acc: 0.0297\n",
      "Epoch 15/50\n",
      "404/404 [==============================] - 0s 0us/step - loss: 16.2966 - mae: 2.8673 - acc: 0.0223\n",
      "Epoch 16/50\n",
      "404/404 [==============================] - 0s 39us/step - loss: 15.9704 - mae: 2.9088 - acc: 0.0149\n",
      "Epoch 17/50\n",
      "404/404 [==============================] - 0s 39us/step - loss: 15.7263 - mae: 2.8165 - acc: 0.0198\n",
      "Epoch 18/50\n",
      "404/404 [==============================] - 0s 39us/step - loss: 15.4415 - mae: 2.8678 - acc: 0.0124\n",
      "Epoch 19/50\n",
      "404/404 [==============================] - 0s 39us/step - loss: 15.2589 - mae: 2.7580 - acc: 0.0124\n",
      "Epoch 20/50\n",
      "404/404 [==============================] - 0s 0us/step - loss: 15.0946 - mae: 2.8159 - acc: 0.0223\n",
      "Epoch 21/50\n",
      "404/404 [==============================] - 0s 39us/step - loss: 14.9752 - mae: 2.7274 - acc: 0.0223\n",
      "Epoch 22/50\n",
      "404/404 [==============================] - 0s 55us/step - loss: 14.9516 - mae: 2.8047 - acc: 0.0124\n",
      "Epoch 23/50\n",
      "404/404 [==============================] - 0s 0us/step - loss: 14.8359 - mae: 2.6930 - acc: 0.0149\n",
      "Epoch 24/50\n",
      "404/404 [==============================] - 0s 39us/step - loss: 14.4071 - mae: 2.7444 - acc: 0.0198\n",
      "Epoch 25/50\n",
      "404/404 [==============================] - 0s 39us/step - loss: 14.1672 - mae: 2.7382 - acc: 0.0223\n",
      "Epoch 26/50\n",
      "404/404 [==============================] - 0s 39us/step - loss: 14.1513 - mae: 2.6387 - acc: 0.0248\n",
      "Epoch 27/50\n",
      "404/404 [==============================] - 0s 0us/step - loss: 13.7164 - mae: 2.6639 - acc: 0.0272\n",
      "Epoch 28/50\n",
      "404/404 [==============================] - 0s 0us/step - loss: 13.5053 - mae: 2.6325 - acc: 0.0272\n",
      "Epoch 29/50\n",
      "404/404 [==============================] - 0s 39us/step - loss: 13.2812 - mae: 2.5589 - acc: 0.0248\n",
      "Epoch 30/50\n",
      "404/404 [==============================] - 0s 39us/step - loss: 13.1570 - mae: 2.5274 - acc: 0.0223\n",
      "Epoch 31/50\n",
      "404/404 [==============================] - 0s 39us/step - loss: 12.9632 - mae: 2.5692 - acc: 0.0272\n",
      "Epoch 32/50\n",
      "404/404 [==============================] - 0s 0us/step - loss: 12.9387 - mae: 2.5433 - acc: 0.0223\n",
      "Epoch 33/50\n",
      "404/404 [==============================] - 0s 0us/step - loss: 13.0282 - mae: 2.4845 - acc: 0.0347\n",
      "Epoch 34/50\n",
      "404/404 [==============================] - 0s 39us/step - loss: 12.5668 - mae: 2.5214 - acc: 0.0248\n",
      "Epoch 35/50\n",
      "404/404 [==============================] - 0s 39us/step - loss: 12.4659 - mae: 2.5385 - acc: 0.0198\n",
      "Epoch 36/50\n",
      "404/404 [==============================] - 0s 39us/step - loss: 12.7930 - mae: 2.5043 - acc: 0.0173\n",
      "Epoch 37/50\n",
      "404/404 [==============================] - 0s 0us/step - loss: 12.3971 - mae: 2.4496 - acc: 0.0371\n",
      "Epoch 38/50\n",
      "404/404 [==============================] - 0s 39us/step - loss: 12.1959 - mae: 2.4397 - acc: 0.0223\n",
      "Epoch 39/50\n",
      "404/404 [==============================] - 0s 42us/step - loss: 12.3420 - mae: 2.5054 - acc: 0.0173\n",
      "Epoch 40/50\n",
      "404/404 [==============================] - 0s 39us/step - loss: 11.9350 - mae: 2.4135 - acc: 0.0248\n",
      "Epoch 41/50\n",
      "404/404 [==============================] - 0s 39us/step - loss: 11.6301 - mae: 2.3867 - acc: 0.0322\n",
      "Epoch 42/50\n",
      "404/404 [==============================] - 0s 0us/step - loss: 12.1827 - mae: 2.4228 - acc: 0.0248\n",
      "Epoch 43/50\n",
      "404/404 [==============================] - 0s 39us/step - loss: 11.7139 - mae: 2.4329 - acc: 0.0272\n",
      "Epoch 44/50\n",
      "404/404 [==============================] - 0s 39us/step - loss: 11.3904 - mae: 2.3384 - acc: 0.0347\n",
      "Epoch 45/50\n",
      "404/404 [==============================] - 0s 39us/step - loss: 11.2906 - mae: 2.3573 - acc: 0.0297\n",
      "Epoch 46/50\n",
      "404/404 [==============================] - 0s 39us/step - loss: 11.1842 - mae: 2.3038 - acc: 0.0371\n",
      "Epoch 47/50\n",
      "404/404 [==============================] - 0s 0us/step - loss: 10.8968 - mae: 2.2997 - acc: 0.0223\n",
      "Epoch 48/50\n",
      "404/404 [==============================] - 0s 0us/step - loss: 10.9758 - mae: 2.3040 - acc: 0.0322\n",
      "Epoch 49/50\n",
      "404/404 [==============================] - 0s 39us/step - loss: 10.6753 - mae: 2.2784 - acc: 0.0297\n",
      "Epoch 50/50\n",
      "404/404 [==============================] - 0s 39us/step - loss: 10.6295 - mae: 2.2875 - acc: 0.0322\n"
     ]
    }
   ],
   "source": [
    "history3 = model3.fit(inputs_train, outputs_train, epochs=50)"
   ]
  },
  {
   "cell_type": "code",
   "execution_count": 45,
   "metadata": {},
   "outputs": [
    {
     "name": "stdout",
     "output_type": "stream",
     "text": [
      "This model evaluates as:\n",
      "* Loss: 19.74893487668505\n",
      "* MAE: 2.8138790130615234\n",
      "* Accuracy: 0.0\n"
     ]
    }
   ],
   "source": [
    "evaluate3 = []\n",
    "evaluator(evaluate3, model3)"
   ]
  },
  {
   "cell_type": "code",
   "execution_count": 46,
   "metadata": {},
   "outputs": [
    {
     "name": "stdout",
     "output_type": "stream",
     "text": [
      "This model predicts as:\n",
      "* Predicted Value: 17.472826\n",
      "* Actual value: 17.1\n"
     ]
    },
    {
     "name": "stderr",
     "output_type": "stream",
     "text": [
      "C:\\Users\\Peter McGowan\\Anaconda3\\lib\\site-packages\\ipykernel_launcher.py:3: FutureWarning: Method .as_matrix will be removed in a future version. Use .values instead.\n",
      "  This is separate from the ipykernel package so we can avoid doing imports until\n"
     ]
    }
   ],
   "source": [
    "predict3 = []\n",
    "predictor(predict3, model3)"
   ]
  },
  {
   "cell_type": "markdown",
   "metadata": {},
   "source": [
    "##### Results"
   ]
  },
  {
   "cell_type": "markdown",
   "metadata": {},
   "source": [
    "More accurate than all previous attempts:\n",
    "* Loss (Mean Squared Error): ~8\n",
    "* Mean Absolute Error: ~2.0\n",
    "* Accuracy: 0.0272"
   ]
  },
  {
   "cell_type": "markdown",
   "metadata": {},
   "source": [
    "##### Next Section"
   ]
  },
  {
   "cell_type": "code",
   "execution_count": 47,
   "metadata": {},
   "outputs": [
    {
     "name": "stdout",
     "output_type": "stream",
     "text": [
      "102/102 [==============================] - 0s 0us/step\n",
      "[18.576142441992666, 2.8546836376190186, 0.009803921915590763]\n",
      "102/102 [==============================] - 0s 0us/step\n",
      "[20.672219332526712, 2.8304808139801025, 0.0]\n",
      "102/102 [==============================] - 0s 0us/step\n",
      "[19.74893487668505, 2.8138790130615234, 0.0]\n"
     ]
    }
   ],
   "source": [
    "print(model1.evaluate(inputs_test, outputs_test))\n",
    "print(model2.evaluate(inputs_test, outputs_test))\n",
    "print(model3.evaluate(inputs_test, outputs_test))"
   ]
  },
  {
   "cell_type": "code",
   "execution_count": 48,
   "metadata": {},
   "outputs": [
    {
     "name": "stdout",
     "output_type": "stream",
     "text": [
      "dict_keys(['loss', 'mae', 'acc'])\n"
     ]
    }
   ],
   "source": [
    "print(history1.history.keys())"
   ]
  },
  {
   "cell_type": "code",
   "execution_count": 49,
   "metadata": {},
   "outputs": [
    {
     "data": {
      "text/plain": [
       "[<matplotlib.lines.Line2D at 0x1de5376cf28>]"
      ]
     },
     "execution_count": 49,
     "metadata": {},
     "output_type": "execute_result"
    },
    {
     "data": {
      "image/png": "[encoded data removed]",
      "text/plain": [
       "<Figure size 1440x360 with 1 Axes>"
      ]
     },
     "metadata": {},
     "output_type": "display_data"
    }
   ],
   "source": [
    "plt.figure(figsize=(20,5))\n",
    "plt.plot(history1.history['loss'], color=\"r\")\n",
    "plt.plot(history2.history['loss'], color=\"g\")\n",
    "plt.plot(history3.history['loss'], color=\"b\")"
   ]
  },
  {
   "cell_type": "markdown",
   "metadata": {},
   "source": [
    "*** adjust the below to output what i want"
   ]
  },
  {
   "cell_type": "markdown",
   "metadata": {},
   "source": [
    "*** https://keras.io/visualization/"
   ]
  },
  {
   "cell_type": "markdown",
   "metadata": {},
   "source": [
    "*** https://www.tensorflow.org/guide/keras/train_and_evaluate\n",
    "*** https://stats.stackexchange.com/questions/153531/what-is-batch-size-in-neural-network"
   ]
  }
 ],
 "metadata": {
  "kernelspec": {
   "display_name": "Python 3",
   "language": "python",
   "name": "python3"
  },
  "language_info": {
   "codemirror_mode": {
    "name": "ipython",
    "version": 3
   },
   "file_extension": ".py",
   "mimetype": "text/x-python",
   "name": "python",
   "nbconvert_exporter": "python",
   "pygments_lexer": "ipython3",
   "version": "3.7.3"
  }
 },
 "nbformat": 4,
 "nbformat_minor": 4
}
