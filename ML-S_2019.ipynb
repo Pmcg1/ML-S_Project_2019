{
 "cells": [
  {
   "cell_type": "markdown",
   "metadata": {},
   "source": [
    "<img src=\"images/GMIT logo.jpeg\" width=\"350\" align=\"center\">"
   ]
  },
  {
   "cell_type": "markdown",
   "metadata": {},
   "source": [
    "# Machine Learning & Statistics Project 2019"
   ]
  },
  {
   "cell_type": "markdown",
   "metadata": {},
   "source": [
    "<b>Name:</b> Peter McGowan<br>\n",
    "<b>ID:</b> G00190832"
   ]
  },
  {
   "cell_type": "markdown",
   "metadata": {},
   "source": [
    "## Introduction\n",
    "This jupyter notebook contains an investigation of the Boston House Prices dataset for the \"Machine-Learning and Statistics\" Module on the GMIT HDip in Data Analytics."
   ]
  },
  {
   "cell_type": "markdown",
   "metadata": {},
   "source": [
    "## Background\n",
    "***Add background info here***"
   ]
  },
  {
   "cell_type": "markdown",
   "metadata": {},
   "source": [
    "## Starting Off\n",
    "First we will import the required python libraries."
   ]
  },
  {
   "cell_type": "code",
   "execution_count": 1,
   "metadata": {},
   "outputs": [],
   "source": [
    "# Import pandas for managing data\n",
    "# Import scipy.stats for statistical analysis\n",
    "# Import matplotlib.pyplot and seaborn for visualisations\n",
    "import pandas as pd\n",
    "import scipy.stats as ss\n",
    "import matplotlib.pyplot as plt\n",
    "import seaborn as sns"
   ]
  },
  {
   "cell_type": "markdown",
   "metadata": {},
   "source": [
    "Scikit-learn conveniently provides the Boston House Prices dataset - we will now load it."
   ]
  },
  {
   "cell_type": "code",
   "execution_count": 2,
   "metadata": {},
   "outputs": [],
   "source": [
    "# Load the boston dataset from sklearn\n",
    "from sklearn.datasets import load_boston\n",
    "boston = load_boston()"
   ]
  },
  {
   "cell_type": "markdown",
   "metadata": {},
   "source": [
    "We can now output the keys<sup>[1](#myfootnote1)</sup> of the dataset:"
   ]
  },
  {
   "cell_type": "code",
   "execution_count": 3,
   "metadata": {},
   "outputs": [
    {
     "data": {
      "text/plain": [
       "dict_keys(['data', 'target', 'feature_names', 'DESCR', 'filename'])"
      ]
     },
     "execution_count": 3,
     "metadata": {},
     "output_type": "execute_result"
    }
   ],
   "source": [
    "boston.keys()"
   ]
  },
  {
   "cell_type": "markdown",
   "metadata": {},
   "source": [
    "This consists of 5 elements:\n",
    "* data: The contents of the dataset excluding the target\n",
    "* target: The contents of the target (i.e. MEDV) column\n",
    "* feature_names: The column headers for the data columns\n",
    "* DESCR: The characteristics of the dataset, formatted\n",
    "* filename: The filepath to where the dataset is installed"
   ]
  },
  {
   "cell_type": "markdown",
   "metadata": {},
   "source": [
    "The pandas library includes a versatile \"DataFrame\" object - an indexed array that helps with managing multi-dimensional data. We will store the dataset in a dataframe, giving it the correct column headers. Pandas will automatically add an index column to this."
   ]
  },
  {
   "cell_type": "code",
   "execution_count": 4,
   "metadata": {},
   "outputs": [],
   "source": [
    "# Create a dataframe from the boston house prices dataset\n",
    "df = pd.DataFrame(boston.data, columns=boston.feature_names)"
   ]
  },
  {
   "cell_type": "markdown",
   "metadata": {},
   "source": [
    "## Describe"
   ]
  },
  {
   "cell_type": "markdown",
   "metadata": {},
   "source": [
    "### Checks & Descriptive Statistics"
   ]
  },
  {
   "cell_type": "markdown",
   "metadata": {},
   "source": [
    "We'll have a look at the head and tail of the data first of all to check for any obvious issues. df.head() will output the first 5 rows and df.tail(0 the last 5 rowes, by default. This should be sufficient."
   ]
  },
  {
   "cell_type": "code",
   "execution_count": 5,
   "metadata": {},
   "outputs": [
    {
     "data": {
      "text/html": [
       "<div>\n",
       "<style scoped>\n",
       "    .dataframe tbody tr th:only-of-type {\n",
       "        vertical-align: middle;\n",
       "    }\n",
       "\n",
       "    .dataframe tbody tr th {\n",
       "        vertical-align: top;\n",
       "    }\n",
       "\n",
       "    .dataframe thead th {\n",
       "        text-align: right;\n",
       "    }\n",
       "</style>\n",
       "<table border=\"1\" class=\"dataframe\">\n",
       "  <thead>\n",
       "    <tr style=\"text-align: right;\">\n",
       "      <th></th>\n",
       "      <th>CRIM</th>\n",
       "      <th>ZN</th>\n",
       "      <th>INDUS</th>\n",
       "      <th>CHAS</th>\n",
       "      <th>NOX</th>\n",
       "      <th>RM</th>\n",
       "      <th>AGE</th>\n",
       "      <th>DIS</th>\n",
       "      <th>RAD</th>\n",
       "      <th>TAX</th>\n",
       "      <th>PTRATIO</th>\n",
       "      <th>B</th>\n",
       "      <th>LSTAT</th>\n",
       "    </tr>\n",
       "  </thead>\n",
       "  <tbody>\n",
       "    <tr>\n",
       "      <th>0</th>\n",
       "      <td>0.00632</td>\n",
       "      <td>18.0</td>\n",
       "      <td>2.31</td>\n",
       "      <td>0.0</td>\n",
       "      <td>0.538</td>\n",
       "      <td>6.575</td>\n",
       "      <td>65.2</td>\n",
       "      <td>4.0900</td>\n",
       "      <td>1.0</td>\n",
       "      <td>296.0</td>\n",
       "      <td>15.3</td>\n",
       "      <td>396.90</td>\n",
       "      <td>4.98</td>\n",
       "    </tr>\n",
       "    <tr>\n",
       "      <th>1</th>\n",
       "      <td>0.02731</td>\n",
       "      <td>0.0</td>\n",
       "      <td>7.07</td>\n",
       "      <td>0.0</td>\n",
       "      <td>0.469</td>\n",
       "      <td>6.421</td>\n",
       "      <td>78.9</td>\n",
       "      <td>4.9671</td>\n",
       "      <td>2.0</td>\n",
       "      <td>242.0</td>\n",
       "      <td>17.8</td>\n",
       "      <td>396.90</td>\n",
       "      <td>9.14</td>\n",
       "    </tr>\n",
       "    <tr>\n",
       "      <th>2</th>\n",
       "      <td>0.02729</td>\n",
       "      <td>0.0</td>\n",
       "      <td>7.07</td>\n",
       "      <td>0.0</td>\n",
       "      <td>0.469</td>\n",
       "      <td>7.185</td>\n",
       "      <td>61.1</td>\n",
       "      <td>4.9671</td>\n",
       "      <td>2.0</td>\n",
       "      <td>242.0</td>\n",
       "      <td>17.8</td>\n",
       "      <td>392.83</td>\n",
       "      <td>4.03</td>\n",
       "    </tr>\n",
       "    <tr>\n",
       "      <th>3</th>\n",
       "      <td>0.03237</td>\n",
       "      <td>0.0</td>\n",
       "      <td>2.18</td>\n",
       "      <td>0.0</td>\n",
       "      <td>0.458</td>\n",
       "      <td>6.998</td>\n",
       "      <td>45.8</td>\n",
       "      <td>6.0622</td>\n",
       "      <td>3.0</td>\n",
       "      <td>222.0</td>\n",
       "      <td>18.7</td>\n",
       "      <td>394.63</td>\n",
       "      <td>2.94</td>\n",
       "    </tr>\n",
       "    <tr>\n",
       "      <th>4</th>\n",
       "      <td>0.06905</td>\n",
       "      <td>0.0</td>\n",
       "      <td>2.18</td>\n",
       "      <td>0.0</td>\n",
       "      <td>0.458</td>\n",
       "      <td>7.147</td>\n",
       "      <td>54.2</td>\n",
       "      <td>6.0622</td>\n",
       "      <td>3.0</td>\n",
       "      <td>222.0</td>\n",
       "      <td>18.7</td>\n",
       "      <td>396.90</td>\n",
       "      <td>5.33</td>\n",
       "    </tr>\n",
       "  </tbody>\n",
       "</table>\n",
       "</div>"
      ],
      "text/plain": [
       "      CRIM    ZN  INDUS  CHAS    NOX     RM   AGE     DIS  RAD    TAX  \\\n",
       "0  0.00632  18.0   2.31   0.0  0.538  6.575  65.2  4.0900  1.0  296.0   \n",
       "1  0.02731   0.0   7.07   0.0  0.469  6.421  78.9  4.9671  2.0  242.0   \n",
       "2  0.02729   0.0   7.07   0.0  0.469  7.185  61.1  4.9671  2.0  242.0   \n",
       "3  0.03237   0.0   2.18   0.0  0.458  6.998  45.8  6.0622  3.0  222.0   \n",
       "4  0.06905   0.0   2.18   0.0  0.458  7.147  54.2  6.0622  3.0  222.0   \n",
       "\n",
       "   PTRATIO       B  LSTAT  \n",
       "0     15.3  396.90   4.98  \n",
       "1     17.8  396.90   9.14  \n",
       "2     17.8  392.83   4.03  \n",
       "3     18.7  394.63   2.94  \n",
       "4     18.7  396.90   5.33  "
      ]
     },
     "execution_count": 5,
     "metadata": {},
     "output_type": "execute_result"
    }
   ],
   "source": [
    "df.head()"
   ]
  },
  {
   "cell_type": "code",
   "execution_count": 6,
   "metadata": {},
   "outputs": [
    {
     "data": {
      "text/html": [
       "<div>\n",
       "<style scoped>\n",
       "    .dataframe tbody tr th:only-of-type {\n",
       "        vertical-align: middle;\n",
       "    }\n",
       "\n",
       "    .dataframe tbody tr th {\n",
       "        vertical-align: top;\n",
       "    }\n",
       "\n",
       "    .dataframe thead th {\n",
       "        text-align: right;\n",
       "    }\n",
       "</style>\n",
       "<table border=\"1\" class=\"dataframe\">\n",
       "  <thead>\n",
       "    <tr style=\"text-align: right;\">\n",
       "      <th></th>\n",
       "      <th>CRIM</th>\n",
       "      <th>ZN</th>\n",
       "      <th>INDUS</th>\n",
       "      <th>CHAS</th>\n",
       "      <th>NOX</th>\n",
       "      <th>RM</th>\n",
       "      <th>AGE</th>\n",
       "      <th>DIS</th>\n",
       "      <th>RAD</th>\n",
       "      <th>TAX</th>\n",
       "      <th>PTRATIO</th>\n",
       "      <th>B</th>\n",
       "      <th>LSTAT</th>\n",
       "    </tr>\n",
       "  </thead>\n",
       "  <tbody>\n",
       "    <tr>\n",
       "      <th>501</th>\n",
       "      <td>0.06263</td>\n",
       "      <td>0.0</td>\n",
       "      <td>11.93</td>\n",
       "      <td>0.0</td>\n",
       "      <td>0.573</td>\n",
       "      <td>6.593</td>\n",
       "      <td>69.1</td>\n",
       "      <td>2.4786</td>\n",
       "      <td>1.0</td>\n",
       "      <td>273.0</td>\n",
       "      <td>21.0</td>\n",
       "      <td>391.99</td>\n",
       "      <td>9.67</td>\n",
       "    </tr>\n",
       "    <tr>\n",
       "      <th>502</th>\n",
       "      <td>0.04527</td>\n",
       "      <td>0.0</td>\n",
       "      <td>11.93</td>\n",
       "      <td>0.0</td>\n",
       "      <td>0.573</td>\n",
       "      <td>6.120</td>\n",
       "      <td>76.7</td>\n",
       "      <td>2.2875</td>\n",
       "      <td>1.0</td>\n",
       "      <td>273.0</td>\n",
       "      <td>21.0</td>\n",
       "      <td>396.90</td>\n",
       "      <td>9.08</td>\n",
       "    </tr>\n",
       "    <tr>\n",
       "      <th>503</th>\n",
       "      <td>0.06076</td>\n",
       "      <td>0.0</td>\n",
       "      <td>11.93</td>\n",
       "      <td>0.0</td>\n",
       "      <td>0.573</td>\n",
       "      <td>6.976</td>\n",
       "      <td>91.0</td>\n",
       "      <td>2.1675</td>\n",
       "      <td>1.0</td>\n",
       "      <td>273.0</td>\n",
       "      <td>21.0</td>\n",
       "      <td>396.90</td>\n",
       "      <td>5.64</td>\n",
       "    </tr>\n",
       "    <tr>\n",
       "      <th>504</th>\n",
       "      <td>0.10959</td>\n",
       "      <td>0.0</td>\n",
       "      <td>11.93</td>\n",
       "      <td>0.0</td>\n",
       "      <td>0.573</td>\n",
       "      <td>6.794</td>\n",
       "      <td>89.3</td>\n",
       "      <td>2.3889</td>\n",
       "      <td>1.0</td>\n",
       "      <td>273.0</td>\n",
       "      <td>21.0</td>\n",
       "      <td>393.45</td>\n",
       "      <td>6.48</td>\n",
       "    </tr>\n",
       "    <tr>\n",
       "      <th>505</th>\n",
       "      <td>0.04741</td>\n",
       "      <td>0.0</td>\n",
       "      <td>11.93</td>\n",
       "      <td>0.0</td>\n",
       "      <td>0.573</td>\n",
       "      <td>6.030</td>\n",
       "      <td>80.8</td>\n",
       "      <td>2.5050</td>\n",
       "      <td>1.0</td>\n",
       "      <td>273.0</td>\n",
       "      <td>21.0</td>\n",
       "      <td>396.90</td>\n",
       "      <td>7.88</td>\n",
       "    </tr>\n",
       "  </tbody>\n",
       "</table>\n",
       "</div>"
      ],
      "text/plain": [
       "        CRIM   ZN  INDUS  CHAS    NOX     RM   AGE     DIS  RAD    TAX  \\\n",
       "501  0.06263  0.0  11.93   0.0  0.573  6.593  69.1  2.4786  1.0  273.0   \n",
       "502  0.04527  0.0  11.93   0.0  0.573  6.120  76.7  2.2875  1.0  273.0   \n",
       "503  0.06076  0.0  11.93   0.0  0.573  6.976  91.0  2.1675  1.0  273.0   \n",
       "504  0.10959  0.0  11.93   0.0  0.573  6.794  89.3  2.3889  1.0  273.0   \n",
       "505  0.04741  0.0  11.93   0.0  0.573  6.030  80.8  2.5050  1.0  273.0   \n",
       "\n",
       "     PTRATIO       B  LSTAT  \n",
       "501     21.0  391.99   9.67  \n",
       "502     21.0  396.90   9.08  \n",
       "503     21.0  396.90   5.64  \n",
       "504     21.0  393.45   6.48  \n",
       "505     21.0  396.90   7.88  "
      ]
     },
     "execution_count": 6,
     "metadata": {},
     "output_type": "execute_result"
    }
   ],
   "source": [
    "df.tail()"
   ]
  },
  {
   "cell_type": "markdown",
   "metadata": {},
   "source": [
    "We shoud check also for missing values:"
   ]
  },
  {
   "cell_type": "code",
   "execution_count": 7,
   "metadata": {},
   "outputs": [
    {
     "data": {
      "text/plain": [
       "CRIM       0\n",
       "ZN         0\n",
       "INDUS      0\n",
       "CHAS       0\n",
       "NOX        0\n",
       "RM         0\n",
       "AGE        0\n",
       "DIS        0\n",
       "RAD        0\n",
       "TAX        0\n",
       "PTRATIO    0\n",
       "B          0\n",
       "LSTAT      0\n",
       "dtype: int64"
      ]
     },
     "execution_count": 7,
     "metadata": {},
     "output_type": "execute_result"
    }
   ],
   "source": [
    "# Append .sum() to count how many values are missing\n",
    "df.isnull().sum()"
   ]
  },
  {
   "cell_type": "markdown",
   "metadata": {},
   "source": [
    "All seems to be in order so far. The column headers seem fairly cryptic so far - fortunately the \"DESCR\" key can give us more info on this."
   ]
  },
  {
   "cell_type": "code",
   "execution_count": 8,
   "metadata": {},
   "outputs": [
    {
     "name": "stdout",
     "output_type": "stream",
     "text": [
      ".. _boston_dataset:\n",
      "\n",
      "Boston house prices dataset\n",
      "---------------------------\n",
      "\n",
      "**Data Set Characteristics:**  \n",
      "\n",
      "    :Number of Instances: 506 \n",
      "\n",
      "    :Number of Attributes: 13 numeric/categorical predictive. Median Value (attribute 14) is usually the target.\n",
      "\n",
      "    :Attribute Information (in order):\n",
      "        - CRIM     per capita crime rate by town\n",
      "        - ZN       proportion of residential land zoned for lots over 25,000 sq.ft.\n",
      "        - INDUS    proportion of non-retail business acres per town\n",
      "        - CHAS     Charles River dummy variable (= 1 if tract bounds river; 0 otherwise)\n",
      "        - NOX      nitric oxides concentration (parts per 10 million)\n",
      "        - RM       average number of rooms per dwelling\n",
      "        - AGE      proportion of owner-occupied units built prior to 1940\n",
      "        - DIS      weighted distances to five Boston employment centres\n",
      "        - RAD      index of accessibility to radial highways\n",
      "        - TAX      full-value property-tax rate per $10,000\n",
      "        - PTRATIO  pupil-teacher ratio by town\n",
      "        - B        1000(Bk - 0.63)^2 where Bk is the proportion of blacks by town\n",
      "        - LSTAT    % lower status of the population\n",
      "        - MEDV     Median value of owner-occupied homes in $1000's\n",
      "\n",
      "    :Missing Attribute Values: None\n",
      "\n",
      "    :Creator: Harrison, D. and Rubinfeld, D.L.\n",
      "\n",
      "This is a copy of UCI ML housing dataset.\n",
      "https://archive.ics.uci.edu/ml/machine-learning-databases/housing/\n",
      "\n",
      "\n",
      "This dataset was taken from the StatLib library which is maintained at Carnegie Mellon University.\n",
      "\n",
      "The Boston house-price data of Harrison, D. and Rubinfeld, D.L. 'Hedonic\n",
      "prices and the demand for clean air', J. Environ. Economics & Management,\n",
      "vol.5, 81-102, 1978.   Used in Belsley, Kuh & Welsch, 'Regression diagnostics\n",
      "...', Wiley, 1980.   N.B. Various transformations are used in the table on\n",
      "pages 244-261 of the latter.\n",
      "\n",
      "The Boston house-price data has been used in many machine learning papers that address regression\n",
      "problems.   \n",
      "     \n",
      ".. topic:: References\n",
      "\n",
      "   - Belsley, Kuh & Welsch, 'Regression diagnostics: Identifying Influential Data and Sources of Collinearity', Wiley, 1980. 244-261.\n",
      "   - Quinlan,R. (1993). Combining Instance-Based and Model-Based Learning. In Proceedings on the Tenth International Conference of Machine Learning, 236-243, University of Massachusetts, Amherst. Morgan Kaufmann.\n",
      "\n"
     ]
    }
   ],
   "source": [
    "# Print to output properly formatted\n",
    "print(boston.DESCR)"
   ]
  },
  {
   "cell_type": "markdown",
   "metadata": {},
   "source": [
    "The MEDV column hasn't been included in the DataFrame so far. It is included as the \"target\" column in the dataset from scikit-learn as this is normally the target value for machine learning. We can check that it contains the correct number of rows (506) as follows:"
   ]
  },
  {
   "cell_type": "code",
   "execution_count": 9,
   "metadata": {},
   "outputs": [
    {
     "data": {
      "text/plain": [
       "(506,)"
      ]
     },
     "execution_count": 9,
     "metadata": {},
     "output_type": "execute_result"
    }
   ],
   "source": [
    "boston.target.shape"
   ]
  },
  {
   "cell_type": "markdown",
   "metadata": {},
   "source": [
    "This matches the output of the DESCR command so it should be ok.\n",
    "Now we need to add it as a column to the dataframe to make our lives a bit easier later on."
   ]
  },
  {
   "cell_type": "code",
   "execution_count": 10,
   "metadata": {},
   "outputs": [],
   "source": [
    "# Explicitly declaring a new column name adds it to the dataframe\n",
    "df['MEDV'] = boston.target"
   ]
  },
  {
   "cell_type": "markdown",
   "metadata": {},
   "source": [
    "Now we should output the summary statistics of the DataFrame to see how it looks:"
   ]
  },
  {
   "cell_type": "code",
   "execution_count": 11,
   "metadata": {},
   "outputs": [
    {
     "data": {
      "text/html": [
       "<div>\n",
       "<style scoped>\n",
       "    .dataframe tbody tr th:only-of-type {\n",
       "        vertical-align: middle;\n",
       "    }\n",
       "\n",
       "    .dataframe tbody tr th {\n",
       "        vertical-align: top;\n",
       "    }\n",
       "\n",
       "    .dataframe thead th {\n",
       "        text-align: right;\n",
       "    }\n",
       "</style>\n",
       "<table border=\"1\" class=\"dataframe\">\n",
       "  <thead>\n",
       "    <tr style=\"text-align: right;\">\n",
       "      <th></th>\n",
       "      <th>CRIM</th>\n",
       "      <th>ZN</th>\n",
       "      <th>INDUS</th>\n",
       "      <th>CHAS</th>\n",
       "      <th>NOX</th>\n",
       "      <th>RM</th>\n",
       "      <th>AGE</th>\n",
       "      <th>DIS</th>\n",
       "      <th>RAD</th>\n",
       "      <th>TAX</th>\n",
       "      <th>PTRATIO</th>\n",
       "      <th>B</th>\n",
       "      <th>LSTAT</th>\n",
       "      <th>MEDV</th>\n",
       "    </tr>\n",
       "  </thead>\n",
       "  <tbody>\n",
       "    <tr>\n",
       "      <th>count</th>\n",
       "      <td>506.000000</td>\n",
       "      <td>506.000000</td>\n",
       "      <td>506.000000</td>\n",
       "      <td>506.000000</td>\n",
       "      <td>506.000000</td>\n",
       "      <td>506.000000</td>\n",
       "      <td>506.000000</td>\n",
       "      <td>506.000000</td>\n",
       "      <td>506.000000</td>\n",
       "      <td>506.000000</td>\n",
       "      <td>506.000000</td>\n",
       "      <td>506.000000</td>\n",
       "      <td>506.000000</td>\n",
       "      <td>506.000000</td>\n",
       "    </tr>\n",
       "    <tr>\n",
       "      <th>mean</th>\n",
       "      <td>3.613524</td>\n",
       "      <td>11.363636</td>\n",
       "      <td>11.136779</td>\n",
       "      <td>0.069170</td>\n",
       "      <td>0.554695</td>\n",
       "      <td>6.284634</td>\n",
       "      <td>68.574901</td>\n",
       "      <td>3.795043</td>\n",
       "      <td>9.549407</td>\n",
       "      <td>408.237154</td>\n",
       "      <td>18.455534</td>\n",
       "      <td>356.674032</td>\n",
       "      <td>12.653063</td>\n",
       "      <td>22.532806</td>\n",
       "    </tr>\n",
       "    <tr>\n",
       "      <th>std</th>\n",
       "      <td>8.601545</td>\n",
       "      <td>23.322453</td>\n",
       "      <td>6.860353</td>\n",
       "      <td>0.253994</td>\n",
       "      <td>0.115878</td>\n",
       "      <td>0.702617</td>\n",
       "      <td>28.148861</td>\n",
       "      <td>2.105710</td>\n",
       "      <td>8.707259</td>\n",
       "      <td>168.537116</td>\n",
       "      <td>2.164946</td>\n",
       "      <td>91.294864</td>\n",
       "      <td>7.141062</td>\n",
       "      <td>9.197104</td>\n",
       "    </tr>\n",
       "    <tr>\n",
       "      <th>min</th>\n",
       "      <td>0.006320</td>\n",
       "      <td>0.000000</td>\n",
       "      <td>0.460000</td>\n",
       "      <td>0.000000</td>\n",
       "      <td>0.385000</td>\n",
       "      <td>3.561000</td>\n",
       "      <td>2.900000</td>\n",
       "      <td>1.129600</td>\n",
       "      <td>1.000000</td>\n",
       "      <td>187.000000</td>\n",
       "      <td>12.600000</td>\n",
       "      <td>0.320000</td>\n",
       "      <td>1.730000</td>\n",
       "      <td>5.000000</td>\n",
       "    </tr>\n",
       "    <tr>\n",
       "      <th>25%</th>\n",
       "      <td>0.082045</td>\n",
       "      <td>0.000000</td>\n",
       "      <td>5.190000</td>\n",
       "      <td>0.000000</td>\n",
       "      <td>0.449000</td>\n",
       "      <td>5.885500</td>\n",
       "      <td>45.025000</td>\n",
       "      <td>2.100175</td>\n",
       "      <td>4.000000</td>\n",
       "      <td>279.000000</td>\n",
       "      <td>17.400000</td>\n",
       "      <td>375.377500</td>\n",
       "      <td>6.950000</td>\n",
       "      <td>17.025000</td>\n",
       "    </tr>\n",
       "    <tr>\n",
       "      <th>50%</th>\n",
       "      <td>0.256510</td>\n",
       "      <td>0.000000</td>\n",
       "      <td>9.690000</td>\n",
       "      <td>0.000000</td>\n",
       "      <td>0.538000</td>\n",
       "      <td>6.208500</td>\n",
       "      <td>77.500000</td>\n",
       "      <td>3.207450</td>\n",
       "      <td>5.000000</td>\n",
       "      <td>330.000000</td>\n",
       "      <td>19.050000</td>\n",
       "      <td>391.440000</td>\n",
       "      <td>11.360000</td>\n",
       "      <td>21.200000</td>\n",
       "    </tr>\n",
       "    <tr>\n",
       "      <th>75%</th>\n",
       "      <td>3.677083</td>\n",
       "      <td>12.500000</td>\n",
       "      <td>18.100000</td>\n",
       "      <td>0.000000</td>\n",
       "      <td>0.624000</td>\n",
       "      <td>6.623500</td>\n",
       "      <td>94.075000</td>\n",
       "      <td>5.188425</td>\n",
       "      <td>24.000000</td>\n",
       "      <td>666.000000</td>\n",
       "      <td>20.200000</td>\n",
       "      <td>396.225000</td>\n",
       "      <td>16.955000</td>\n",
       "      <td>25.000000</td>\n",
       "    </tr>\n",
       "    <tr>\n",
       "      <th>max</th>\n",
       "      <td>88.976200</td>\n",
       "      <td>100.000000</td>\n",
       "      <td>27.740000</td>\n",
       "      <td>1.000000</td>\n",
       "      <td>0.871000</td>\n",
       "      <td>8.780000</td>\n",
       "      <td>100.000000</td>\n",
       "      <td>12.126500</td>\n",
       "      <td>24.000000</td>\n",
       "      <td>711.000000</td>\n",
       "      <td>22.000000</td>\n",
       "      <td>396.900000</td>\n",
       "      <td>37.970000</td>\n",
       "      <td>50.000000</td>\n",
       "    </tr>\n",
       "  </tbody>\n",
       "</table>\n",
       "</div>"
      ],
      "text/plain": [
       "             CRIM          ZN       INDUS        CHAS         NOX          RM  \\\n",
       "count  506.000000  506.000000  506.000000  506.000000  506.000000  506.000000   \n",
       "mean     3.613524   11.363636   11.136779    0.069170    0.554695    6.284634   \n",
       "std      8.601545   23.322453    6.860353    0.253994    0.115878    0.702617   \n",
       "min      0.006320    0.000000    0.460000    0.000000    0.385000    3.561000   \n",
       "25%      0.082045    0.000000    5.190000    0.000000    0.449000    5.885500   \n",
       "50%      0.256510    0.000000    9.690000    0.000000    0.538000    6.208500   \n",
       "75%      3.677083   12.500000   18.100000    0.000000    0.624000    6.623500   \n",
       "max     88.976200  100.000000   27.740000    1.000000    0.871000    8.780000   \n",
       "\n",
       "              AGE         DIS         RAD         TAX     PTRATIO           B  \\\n",
       "count  506.000000  506.000000  506.000000  506.000000  506.000000  506.000000   \n",
       "mean    68.574901    3.795043    9.549407  408.237154   18.455534  356.674032   \n",
       "std     28.148861    2.105710    8.707259  168.537116    2.164946   91.294864   \n",
       "min      2.900000    1.129600    1.000000  187.000000   12.600000    0.320000   \n",
       "25%     45.025000    2.100175    4.000000  279.000000   17.400000  375.377500   \n",
       "50%     77.500000    3.207450    5.000000  330.000000   19.050000  391.440000   \n",
       "75%     94.075000    5.188425   24.000000  666.000000   20.200000  396.225000   \n",
       "max    100.000000   12.126500   24.000000  711.000000   22.000000  396.900000   \n",
       "\n",
       "            LSTAT        MEDV  \n",
       "count  506.000000  506.000000  \n",
       "mean    12.653063   22.532806  \n",
       "std      7.141062    9.197104  \n",
       "min      1.730000    5.000000  \n",
       "25%      6.950000   17.025000  \n",
       "50%     11.360000   21.200000  \n",
       "75%     16.955000   25.000000  \n",
       "max     37.970000   50.000000  "
      ]
     },
     "execution_count": 11,
     "metadata": {},
     "output_type": "execute_result"
    }
   ],
   "source": [
    "df.describe()"
   ]
  },
  {
   "cell_type": "markdown",
   "metadata": {},
   "source": [
    "The data seems to have imported correctly and we now have it in a format that we can work with."
   ]
  },
  {
   "cell_type": "markdown",
   "metadata": {},
   "source": [
    "### Visualisations\n",
    "Now we can start creating plots.\n",
    "Firstly, the distribution of the Median House Value:"
   ]
  },
  {
   "cell_type": "code",
   "execution_count": 12,
   "metadata": {},
   "outputs": [
    {
     "data": {
      "text/plain": [
       "Text(0.5, 1.0, 'Distribution of Median House Value')"
      ]
     },
     "execution_count": 12,
     "metadata": {},
     "output_type": "execute_result"
    },
    {
     "data": {
      "image/png": "[encoded data removed]",
      "text/plain": [
       "<Figure size 432x288 with 1 Axes>"
      ]
     },
     "metadata": {
      "needs_background": "light"
     },
     "output_type": "display_data"
    }
   ],
   "source": [
    "sns.distplot(df['MEDV'], color='g')\n",
    "plt.xlabel('Median value of owner-occupied homes in $1000\\'s')\n",
    "plt.ylabel('Frequency')\n",
    "plt.title('Distribution of Median House Value', fontsize=14)"
   ]
  },
  {
   "cell_type": "markdown",
   "metadata": {},
   "source": [
    "We can also look at the number of rooms per dwelling like this."
   ]
  },
  {
   "cell_type": "code",
   "execution_count": 13,
   "metadata": {},
   "outputs": [
    {
     "data": {
      "text/plain": [
       "Text(0.5, 1.0, 'Distribution of Rooms')"
      ]
     },
     "execution_count": 13,
     "metadata": {},
     "output_type": "execute_result"
    },
    {
     "data": {
      "image/png": "[encoded data removed]",
      "text/plain": [
       "<Figure size 432x288 with 1 Axes>"
      ]
     },
     "metadata": {
      "needs_background": "light"
     },
     "output_type": "display_data"
    }
   ],
   "source": [
    "sns.distplot(df['RM'], color='y')\n",
    "plt.xlabel('Average number of rooms per dwelling')\n",
    "plt.ylabel('Frequency')\n",
    "plt.title('Distribution of Rooms', fontsize=14)"
   ]
  },
  {
   "cell_type": "markdown",
   "metadata": {},
   "source": [
    "What about the relationships between some of the statistics and the median house value?\n",
    "Firstly we look at DIS:"
   ]
  },
  {
   "cell_type": "code",
   "execution_count": 14,
   "metadata": {},
   "outputs": [
    {
     "data": {
      "text/plain": [
       "Text(0.5, 1.0, 'MEDV vs DIS')"
      ]
     },
     "execution_count": 14,
     "metadata": {},
     "output_type": "execute_result"
    },
    {
     "data": {
      "image/png": "[encoded data removed]",
      "text/plain": [
       "<Figure size 432x288 with 1 Axes>"
      ]
     },
     "metadata": {
      "needs_background": "light"
     },
     "output_type": "display_data"
    }
   ],
   "source": [
    "sns.scatterplot(x='MEDV', y='DIS', data=df)\n",
    "plt.xlabel('Median value of owner-occupied homes in $1000\\'s')\n",
    "\n",
    "plt.ylabel('Weighted distances to five \\nBoston employment centres')\n",
    "plt.title('MEDV vs DIS', fontsize=14)"
   ]
  },
  {
   "cell_type": "markdown",
   "metadata": {},
   "source": [
    "It is difficult to tell if a definite linear relationship exists between these variables, but an unusual vertical line of values on the MEDV=50 line stand out somewhat."
   ]
  },
  {
   "cell_type": "markdown",
   "metadata": {},
   "source": [
    "We can look at RAD also:"
   ]
  },
  {
   "cell_type": "code",
   "execution_count": 15,
   "metadata": {},
   "outputs": [
    {
     "data": {
      "text/plain": [
       "Text(0.5, 1.0, 'MEDV vs RM')"
      ]
     },
     "execution_count": 15,
     "metadata": {},
     "output_type": "execute_result"
    },
    {
     "data": {
      "image/png": "[encoded data removed]",
      "text/plain": [
       "<Figure size 432x288 with 1 Axes>"
      ]
     },
     "metadata": {
      "needs_background": "light"
     },
     "output_type": "display_data"
    }
   ],
   "source": [
    "sns.scatterplot(x='MEDV', y='RM', data=df)\n",
    "plt.xlabel('Median value of owner-occupied homes in $1000\\'s')\n",
    "plt.ylabel('Average number of rooms per dwelling')\n",
    "plt.title('MEDV vs RM', fontsize=14)"
   ]
  },
  {
   "cell_type": "markdown",
   "metadata": {},
   "source": [
    "The linear relationship is much more apparent here - however the clustering of points on the MEDV=50 mark is even more apparent in this plot. This will require further investigation. "
   ]
  },
  {
   "cell_type": "code",
   "execution_count": 16,
   "metadata": {},
   "outputs": [
    {
     "data": {
      "text/plain": [
       "Text(0.5, 1.0, 'MEDV vs RAD')"
      ]
     },
     "execution_count": 16,
     "metadata": {},
     "output_type": "execute_result"
    },
    {
     "data": {
      "image/png": "[encoded data removed]",
      "text/plain": [
       "<Figure size 432x288 with 1 Axes>"
      ]
     },
     "metadata": {
      "needs_background": "light"
     },
     "output_type": "display_data"
    }
   ],
   "source": [
    "sns.scatterplot(x='MEDV', y='RAD', data=df)\n",
    "plt.xlabel('Median value of owner-occupied homes in $1000\\'s')\n",
    "plt.ylabel('Index of accessibility to radial highways')\n",
    "plt.title('MEDV vs RAD', fontsize=14)"
   ]
  },
  {
   "cell_type": "markdown",
   "metadata": {},
   "source": [
    "This is quite a bit different to the other plots - the RAD value refers to \"index of accessibility to major highways\" - it appears that there is a broad range of houses values that have an accessibility rating between 0 and 10, then a very large gap, with a range of houses in the low- to medium price range (with a single high price outlier) with a much higher index of around 24."
   ]
  },
  {
   "cell_type": "markdown",
   "metadata": {},
   "source": [
    "Next, we can use a box and whisker plot to look at some of the descriptive statistics of the variables."
   ]
  },
  {
   "cell_type": "code",
   "execution_count": 17,
   "metadata": {},
   "outputs": [
    {
     "data": {
      "text/plain": [
       "Text(0.5, 1, 'Box and Whisker Plots for Each Variable')"
      ]
     },
     "execution_count": 17,
     "metadata": {},
     "output_type": "execute_result"
    },
    {
     "data": {
      "image/png": "[encoded data removed]",
      "text/plain": [
       "<Figure size 900x360 with 1 Axes>"
      ]
     },
     "metadata": {
      "needs_background": "light"
     },
     "output_type": "display_data"
    }
   ],
   "source": [
    "g = sns.catplot(x='value', y='variable', data=pd.melt(df), kind='box', height=5, aspect=2.5);\n",
    "plt.title('Box and Whisker Plots for Each Variable', fontsize=14)"
   ]
  },
  {
   "cell_type": "markdown",
   "metadata": {},
   "source": [
    "Clearly, they all have very distinctive characteristics - but we already have most of this information in numerical format. What this really tells us is that certain (most) variables have a good number of outliers - this should be a consideration in development of our neural network later."
   ]
  },
  {
   "cell_type": "markdown",
   "metadata": {},
   "source": [
    "## Infer"
   ]
  },
  {
   "cell_type": "code",
   "execution_count": 18,
   "metadata": {},
   "outputs": [
    {
     "data": {
      "text/plain": [
       "Text(0.5, 1.0, 'MEDV vs CHAS')"
      ]
     },
     "execution_count": 18,
     "metadata": {},
     "output_type": "execute_result"
    },
    {
     "data": {
      "image/png": "[encoded data removed]",
      "text/plain": [
       "<Figure size 432x288 with 1 Axes>"
      ]
     },
     "metadata": {
      "needs_background": "light"
     },
     "output_type": "display_data"
    }
   ],
   "source": [
    "sns.regplot(x='MEDV', y='CHAS', data=df)\n",
    "plt.xlabel('Median value of owner-occupied homes in $1000\\'s')\n",
    "plt.ylabel('Charles River dummy variable \\n(= 1 if tract bounds river; 0 otherwise)')\n",
    "plt.title('MEDV vs CHAS', fontsize=14)"
   ]
  },
  {
   "cell_type": "raw",
   "metadata": {},
   "source": [
    "First we'll display the range of house values per CHAS value, side by side on a catplot. We'll leave jitter switched on to get a better idea of the density of houses."
   ]
  },
  {
   "cell_type": "code",
   "execution_count": 19,
   "metadata": {},
   "outputs": [
    {
     "data": {
      "text/plain": [
       "Text(0.5, 1, 'CHAS vs MEDV')"
      ]
     },
     "execution_count": 19,
     "metadata": {},
     "output_type": "execute_result"
    },
    {
     "data": {
      "image/png": "[encoded data removed]",
      "text/plain": [
       "<Figure size 360x360 with 1 Axes>"
      ]
     },
     "metadata": {
      "needs_background": "light"
     },
     "output_type": "display_data"
    }
   ],
   "source": [
    "sns.catplot(x='CHAS', y='MEDV',  data=df)\n",
    "plt.xlabel('Charles River dummy variable \\n(= 1 if tract bounds river; 0 otherwise)')\n",
    "plt.ylabel('Median value of owner-occupied homes in $1000\\'s')\n",
    "plt.title('CHAS vs MEDV', fontsize=14)"
   ]
  },
  {
   "cell_type": "markdown",
   "metadata": {},
   "source": [
    "Now lets visualise the distribution of this using histograms with KDEs overlaid on the same plot:"
   ]
  },
  {
   "cell_type": "code",
   "execution_count": 20,
   "metadata": {},
   "outputs": [
    {
     "data": {
      "text/plain": [
       "<matplotlib.legend.Legend at 0x1c88eafe6d8>"
      ]
     },
     "execution_count": 20,
     "metadata": {},
     "output_type": "execute_result"
    },
    {
     "data": {
      "image/png": "[encoded data removed]",
      "text/plain": [
       "<Figure size 432x288 with 1 Axes>"
      ]
     },
     "metadata": {
      "needs_background": "light"
     },
     "output_type": "display_data"
    }
   ],
   "source": [
    "# Extract subsets of the dataframe for houses on the Charles River (ry) vs houses not on it (rn)\n",
    "ry = df.loc[df['CHAS'] == 1]\n",
    "rn = df.loc[df['CHAS'] == 0]\n",
    "\n",
    "# Overlay a distplot for each on the same plot for comparison\n",
    "sns.distplot(ry['MEDV'], color='b', label = \"CHAS = 1\")\n",
    "sns.distplot(rn['MEDV'], color='r', label = \"CHAS = 0\")\n",
    "\n",
    "plt.xlabel('Average number of rooms per dwelling')\n",
    "plt.ylabel('Frequency')\n",
    "plt.title('Distribution of Median House Value', fontsize=14)\n",
    "plt.legend()"
   ]
  },
  {
   "cell_type": "markdown",
   "metadata": {},
   "source": [
    "Although the histograms of the two data sets look quite different, the shapes of the kernal density estimate plots are not dissimilar - although it can be said with reasonable confidence that the values of houses on the Charles River appear to be generally higher than those not on it. We will have to confirm this now by carrying out statistical tests using scipy."
   ]
  },
  {
   "cell_type": "markdown",
   "metadata": {},
   "source": [
    "### T-Test"
   ]
  },
  {
   "cell_type": "markdown",
   "metadata": {},
   "source": [
    "We can carry out a t-test using scipy.stats to check if there is a significant difference in median house prices between those along the Charles River and those that are not. We need to use an independent t-test. Usage of t-test generally requires 6 assumptions (but exceptions can be made):\n",
    "1. The dependent variable should be measured on a continuous scale.\n",
    "    1. This is our MEDV variable, assumption holds true\n",
    "2. The independent variable should consist of two categorical, independent groups.\n",
    "    1. This is the CHAS variable, assumption holds true\n",
    "3. You should have independence of observations\n",
    "    1. There is no relationship between observations in each group or between groups, assumption holds true\n",
    "4. There should be no significant outliers.\n",
    "    1. This will have to be checked - it may be an issue\n",
    "5. The dependent variable should be approximately normally distributed for each group of the independent variable.\n",
    "    1. This will have to be checked - it may be an issue\n",
    "6. There needs to be homogeneity of variances.\n",
    "    1. This will have to be checked - it may be an issue"
   ]
  },
  {
   "cell_type": "markdown",
   "metadata": {},
   "source": [
    "#### Assumption 4 Resolution"
   ]
  },
  {
   "cell_type": "markdown",
   "metadata": {},
   "source": [
    "Unfortunately, our earlier box and whisker plot indicated that the MEDV column included a significant number of (high) outliers. We can try creating a subset of the DataFrame with only rows where the MEDV value is below a certain number."
   ]
  },
  {
   "cell_type": "code",
   "execution_count": 21,
   "metadata": {
    "scrolled": true
   },
   "outputs": [
    {
     "data": {
      "text/plain": [
       "CRIM       462\n",
       "ZN         462\n",
       "INDUS      462\n",
       "CHAS       462\n",
       "NOX        462\n",
       "RM         462\n",
       "AGE        462\n",
       "DIS        462\n",
       "RAD        462\n",
       "TAX        462\n",
       "PTRATIO    462\n",
       "B          462\n",
       "LSTAT      462\n",
       "MEDV       462\n",
       "dtype: int64"
      ]
     },
     "execution_count": 21,
     "metadata": {},
     "output_type": "execute_result"
    }
   ],
   "source": [
    "# Select rows with MEDV < 36 (from trial and error)\n",
    "dfSubset = df.query(\"MEDV < 36\")\n",
    "dfSubset.count()"
   ]
  },
  {
   "cell_type": "markdown",
   "metadata": {},
   "source": [
    "This leaves us with 462 rows out of the original 506, still more than 90% of the dataset to work with. Creating a box and whisker plot shows that no more outliers are present:"
   ]
  },
  {
   "cell_type": "code",
   "execution_count": 22,
   "metadata": {},
   "outputs": [
    {
     "data": {
      "text/plain": [
       "Text(0.5, 1.0, 'Distribution of Median House Value (with outliers removed)')"
      ]
     },
     "execution_count": 22,
     "metadata": {},
     "output_type": "execute_result"
    },
    {
     "data": {
      "image/png": "[encoded data removed]",
      "text/plain": [
       "<Figure size 720x360 with 1 Axes>"
      ]
     },
     "metadata": {
      "needs_background": "light"
     },
     "output_type": "display_data"
    }
   ],
   "source": [
    "plt.figure(figsize = (10,5)) # Widen figure for better appreciation of shape\n",
    "sns.boxplot(data=dfSubset[\"MEDV\"], orient=\"h\")\n",
    "plt.xlabel('Value')\n",
    "plt.ylabel('MEDV')\n",
    "plt.title('Distribution of Median House Value (with outliers removed)', fontsize=14)"
   ]
  },
  {
   "cell_type": "markdown",
   "metadata": {},
   "source": [
    "Assumption 4 is now resolved."
   ]
  },
  {
   "cell_type": "markdown",
   "metadata": {},
   "source": [
    "#### Assumption 5 Resolution"
   ]
  },
  {
   "cell_type": "markdown",
   "metadata": {},
   "source": [
    "There are different ways of checking for normality, fortunately statsmodel incorporates a Shapiro-Wilk test for normaility."
   ]
  },
  {
   "cell_type": "code",
   "execution_count": 23,
   "metadata": {},
   "outputs": [
    {
     "data": {
      "text/plain": [
       "(0.9889508485794067, 0.001468385336920619)"
      ]
     },
     "execution_count": 23,
     "metadata": {},
     "output_type": "execute_result"
    }
   ],
   "source": [
    "ss.shapiro(dfSubset[\"MEDV\"])"
   ]
  },
  {
   "cell_type": "markdown",
   "metadata": {},
   "source": [
    "The p-value is approx. 0.0015 - this is unfortunately not quite good enough to presume normality as a p-value of 0.05 is generally the lower bound for significance. However, this may not be an issue - a sufficiently large sample size (N>50) measns we can ignore this assumption!"
   ]
  },
  {
   "cell_type": "markdown",
   "metadata": {},
   "source": [
    "#### Assumption 6 Resolution"
   ]
  },
  {
   "cell_type": "code",
   "execution_count": 24,
   "metadata": {},
   "outputs": [
    {
     "data": {
      "text/plain": [
       "<matplotlib.legend.Legend at 0x1c88ec899b0>"
      ]
     },
     "execution_count": 24,
     "metadata": {},
     "output_type": "execute_result"
    },
    {
     "data": {
      "image/png": "[encoded data removed]",
      "text/plain": [
       "<Figure size 432x288 with 1 Axes>"
      ]
     },
     "metadata": {
      "needs_background": "light"
     },
     "output_type": "display_data"
    }
   ],
   "source": [
    "# Extract subsets of the dataframe for houses on the Charles River (ry) vs houses not on it (rn)\n",
    "rys = dfSubset.loc[dfSubset['CHAS'] == 1]\n",
    "rns = dfSubset.loc[dfSubset['CHAS'] == 0]\n",
    "\n",
    "# Overlay a distplot for each on the same plot for comparison\n",
    "sns.distplot(rys['MEDV'], color='b', label = \"CHAS = 1\")\n",
    "sns.distplot(rns['MEDV'], color='r', label = \"CHAS = 0\")\n",
    "\n",
    "plt.xlabel('Average number of rooms per dwelling')\n",
    "plt.ylabel('Frequency')\n",
    "plt.title('Distribution of Median House Value (MEDV <36)', fontsize=14)\n",
    "plt.legend()"
   ]
  },
  {
   "cell_type": "markdown",
   "metadata": {},
   "source": [
    "The final assumption requires a test of variance. SciPy can implement the Levene test:"
   ]
  },
  {
   "cell_type": "code",
   "execution_count": 25,
   "metadata": {},
   "outputs": [
    {
     "data": {
      "text/plain": [
       "LeveneResult(statistic=4.590342218715871, pvalue=0.03263097600633006)"
      ]
     },
     "execution_count": 25,
     "metadata": {},
     "output_type": "execute_result"
    }
   ],
   "source": [
    "ss.levene(ry['MEDV'], rn['MEDV'], center='median')"
   ]
  },
  {
   "cell_type": "markdown",
   "metadata": {},
   "source": [
    "Our p value unfortunately indicates that the null hypothesis (that homogeneity of varainces exists) is rejected. This does not mean that we cannot carrout out a t-test - it just means that we have to carry out a specific type, called a Welch's t-test."
   ]
  },
  {
   "cell_type": "markdown",
   "metadata": {},
   "source": [
    "#### T-Test Implementation"
   ]
  },
  {
   "cell_type": "markdown",
   "metadata": {},
   "source": [
    "The null hypothesis here is that the means are equal. Therefore if there is no significant difference between the means, the t-statistic should be close to 0."
   ]
  },
  {
   "cell_type": "markdown",
   "metadata": {},
   "source": [
    "First we need MEDV split into two separate sets - one where CHAS=0 and one where CHAS=1. This has already been carried out to generate the histograms above:\n",
    "* rns = dataframe containing only data on houses not along the Charles River (subset where MEDV < 36)\n",
    "* rys = dataframe containing only data on houses along the Charles River (subset where MEDV < 36)"
   ]
  },
  {
   "cell_type": "markdown",
   "metadata": {},
   "source": [
    "We can now finally use statsmodel's t-test function."
   ]
  },
  {
   "cell_type": "code",
   "execution_count": 26,
   "metadata": {},
   "outputs": [
    {
     "data": {
      "text/plain": [
       "Ttest_indResult(statistic=-2.606848398069803, pvalue=0.013854478784092262)"
      ]
     },
     "execution_count": 26,
     "metadata": {},
     "output_type": "execute_result"
    }
   ],
   "source": [
    "# equal_var=False to force use of Welch's t-test\n",
    "ss.ttest_ind(rns['MEDV'], rys['MEDV'], equal_var=False)"
   ]
  },
  {
   "cell_type": "markdown",
   "metadata": {},
   "source": [
    "Results:\n",
    "* t-Statistic: -2.607\n",
    "* p-value: 0.014"
   ]
  },
  {
   "cell_type": "markdown",
   "metadata": {},
   "source": [
    "#### p-value\n",
    "We generally accept a p-value of 0.05 as being the lower bound of whether a relationship is significant or not. Our calculated p-value is somewhat lower than this, we can therefore conclude that there is a significant difference between the means - in other words we reject the null hypothesis and can state that there is a significant difference in median house prices between those on the Charles River and those not on it."
   ]
  },
  {
   "cell_type": "markdown",
   "metadata": {},
   "source": [
    "### Conclusions"
   ]
  },
  {
   "cell_type": "markdown",
   "metadata": {},
   "source": [
    "We can conclude that the difference in the means is statistically significant. However we should caveat this - earlier we noted that an issue with the MEDV values - the distribution of the values indicate that the value above 50 have been truncated for some reason, this would certainly have an effect on the means. We dealt with this by removing outliers, but use of the full dataset would of course be preferable."
   ]
  },
  {
   "cell_type": "markdown",
   "metadata": {},
   "source": [
    "## Predict"
   ]
  },
  {
   "cell_type": "markdown",
   "metadata": {},
   "source": [
    "We will now use the keras package to create a neural network to predict the median house price based on the datasets other variables."
   ]
  },
  {
   "cell_type": "markdown",
   "metadata": {},
   "source": [
    "### Choosing Correlated Variables"
   ]
  },
  {
   "cell_type": "markdown",
   "metadata": {},
   "source": [
    "Firstly we can cenerate a correlation plot using NumPy and Seaborn to check which variables correlate with each other."
   ]
  },
  {
   "cell_type": "code",
   "execution_count": 27,
   "metadata": {},
   "outputs": [
    {
     "data": {
      "text/plain": [
       "Text(0.5, 1, 'Heatmap of Correlations between Variables')"
      ]
     },
     "execution_count": 27,
     "metadata": {},
     "output_type": "execute_result"
    },
    {
     "data": {
      "image/png": "[encoded data removed]",
      "text/plain": [
       "<Figure size 864x720 with 2 Axes>"
      ]
     },
     "metadata": {},
     "output_type": "display_data"
    }
   ],
   "source": [
    "# Seaborn heatmap\n",
    "sns.set(style='dark')\n",
    "\n",
    "# Mask upper triangle\n",
    "# Import numpy for array functions\n",
    "import numpy as np\n",
    "mask = np.zeros_like(df.corr(), dtype=np.bool)\n",
    "mask[np.triu_indices_from(mask)] = True\n",
    "\n",
    "plt.figure(figsize = (12,10))\n",
    "sns.heatmap(df.corr().round(2), annot=True, mask=mask, cmap='coolwarm', center=0, linewidths=0.2)\n",
    "\n",
    "plt.title('Heatmap of Correlations between Variables', fontsize=14)"
   ]
  },
  {
   "cell_type": "markdown",
   "metadata": {},
   "source": [
    "We are of course mostly interested in which correlate most strongly (either positively or negatively) with MEDV. Lets take the top 6:\n",
    "* INDUS: -0.48\n",
    "* NOX: -0.43\n",
    "* RM: 0.7\n",
    "* TAX: -0.47\n",
    "* PTRATIO: -0.51\n",
    "* LSTAT: -0.74\n",
    "    \n",
    "We can use these as inputs for the model by creating a new DataFrame using only the 6 required columns."
   ]
  },
  {
   "cell_type": "code",
   "execution_count": 28,
   "metadata": {},
   "outputs": [
    {
     "data": {
      "text/html": [
       "<div>\n",
       "<style scoped>\n",
       "    .dataframe tbody tr th:only-of-type {\n",
       "        vertical-align: middle;\n",
       "    }\n",
       "\n",
       "    .dataframe tbody tr th {\n",
       "        vertical-align: top;\n",
       "    }\n",
       "\n",
       "    .dataframe thead th {\n",
       "        text-align: right;\n",
       "    }\n",
       "</style>\n",
       "<table border=\"1\" class=\"dataframe\">\n",
       "  <thead>\n",
       "    <tr style=\"text-align: right;\">\n",
       "      <th></th>\n",
       "      <th>INDUS</th>\n",
       "      <th>NOX</th>\n",
       "      <th>RM</th>\n",
       "      <th>TAX</th>\n",
       "      <th>PTRATIO</th>\n",
       "      <th>LSTAT</th>\n",
       "    </tr>\n",
       "  </thead>\n",
       "  <tbody>\n",
       "    <tr>\n",
       "      <th>count</th>\n",
       "      <td>462.000000</td>\n",
       "      <td>462.000000</td>\n",
       "      <td>462.000000</td>\n",
       "      <td>462.000000</td>\n",
       "      <td>462.000000</td>\n",
       "      <td>462.000000</td>\n",
       "    </tr>\n",
       "    <tr>\n",
       "      <th>mean</th>\n",
       "      <td>11.519957</td>\n",
       "      <td>0.557831</td>\n",
       "      <td>6.165803</td>\n",
       "      <td>416.181818</td>\n",
       "      <td>18.658009</td>\n",
       "      <td>13.418983</td>\n",
       "    </tr>\n",
       "    <tr>\n",
       "      <th>std</th>\n",
       "      <td>6.768981</td>\n",
       "      <td>0.117763</td>\n",
       "      <td>0.569855</td>\n",
       "      <td>169.000756</td>\n",
       "      <td>2.034563</td>\n",
       "      <td>6.979870</td>\n",
       "    </tr>\n",
       "    <tr>\n",
       "      <th>min</th>\n",
       "      <td>0.740000</td>\n",
       "      <td>0.385000</td>\n",
       "      <td>3.561000</td>\n",
       "      <td>187.000000</td>\n",
       "      <td>12.600000</td>\n",
       "      <td>1.980000</td>\n",
       "    </tr>\n",
       "    <tr>\n",
       "      <th>25%</th>\n",
       "      <td>5.860000</td>\n",
       "      <td>0.453000</td>\n",
       "      <td>5.872500</td>\n",
       "      <td>284.250000</td>\n",
       "      <td>17.450000</td>\n",
       "      <td>7.835000</td>\n",
       "    </tr>\n",
       "    <tr>\n",
       "      <th>50%</th>\n",
       "      <td>9.900000</td>\n",
       "      <td>0.538000</td>\n",
       "      <td>6.157500</td>\n",
       "      <td>341.000000</td>\n",
       "      <td>19.100000</td>\n",
       "      <td>12.300000</td>\n",
       "    </tr>\n",
       "    <tr>\n",
       "      <th>75%</th>\n",
       "      <td>18.100000</td>\n",
       "      <td>0.624000</td>\n",
       "      <td>6.486500</td>\n",
       "      <td>666.000000</td>\n",
       "      <td>20.200000</td>\n",
       "      <td>17.277500</td>\n",
       "    </tr>\n",
       "    <tr>\n",
       "      <th>max</th>\n",
       "      <td>27.740000</td>\n",
       "      <td>0.871000</td>\n",
       "      <td>8.780000</td>\n",
       "      <td>711.000000</td>\n",
       "      <td>22.000000</td>\n",
       "      <td>37.970000</td>\n",
       "    </tr>\n",
       "  </tbody>\n",
       "</table>\n",
       "</div>"
      ],
      "text/plain": [
       "            INDUS         NOX          RM         TAX     PTRATIO       LSTAT\n",
       "count  462.000000  462.000000  462.000000  462.000000  462.000000  462.000000\n",
       "mean    11.519957    0.557831    6.165803  416.181818   18.658009   13.418983\n",
       "std      6.768981    0.117763    0.569855  169.000756    2.034563    6.979870\n",
       "min      0.740000    0.385000    3.561000  187.000000   12.600000    1.980000\n",
       "25%      5.860000    0.453000    5.872500  284.250000   17.450000    7.835000\n",
       "50%      9.900000    0.538000    6.157500  341.000000   19.100000   12.300000\n",
       "75%     18.100000    0.624000    6.486500  666.000000   20.200000   17.277500\n",
       "max     27.740000    0.871000    8.780000  711.000000   22.000000   37.970000"
      ]
     },
     "execution_count": 28,
     "metadata": {},
     "output_type": "execute_result"
    }
   ],
   "source": [
    "inputs = dfSubset[['INDUS', 'NOX', 'RM', 'TAX', 'PTRATIO', 'LSTAT']]\n",
    "inputs.describe()"
   ]
  },
  {
   "cell_type": "markdown",
   "metadata": {},
   "source": [
    "We must also indicate the outputs:"
   ]
  },
  {
   "cell_type": "code",
   "execution_count": 29,
   "metadata": {},
   "outputs": [],
   "source": [
    "outputs = dfSubset['MEDV']"
   ]
  },
  {
   "cell_type": "markdown",
   "metadata": {},
   "source": [
    "### Split Dataset"
   ]
  },
  {
   "cell_type": "markdown",
   "metadata": {},
   "source": [
    "We need to split the dataset into a training dataset and a testing dataset. The training data will be used for the model build, whereas the testing dataset will be used for validation. Scikit-learn includes a very convenient function for this."
   ]
  },
  {
   "cell_type": "code",
   "execution_count": 30,
   "metadata": {},
   "outputs": [],
   "source": [
    "import sklearn.model_selection as mod\n",
    "# Split the inputs and outputs into training and test sets.\n",
    "inputs_train, inputs_test, outputs_train, outputs_test = mod.train_test_split(inputs, outputs, test_size=0.2)"
   ]
  },
  {
   "cell_type": "markdown",
   "metadata": {},
   "source": [
    "Lets have a look at our inputs:"
   ]
  },
  {
   "cell_type": "code",
   "execution_count": 31,
   "metadata": {
    "scrolled": true
   },
   "outputs": [
    {
     "name": "stdout",
     "output_type": "stream",
     "text": [
      "            INDUS         NOX          RM         TAX     PTRATIO       LSTAT\n",
      "count  369.000000  369.000000  369.000000  369.000000  369.000000  369.000000\n",
      "mean    11.680732    0.559934    6.162707  415.349593   18.639566   13.699946\n",
      "std      6.820855    0.116750    0.580664  169.573938    2.086566    7.226425\n",
      "min      1.220000    0.385000    3.561000  188.000000   12.600000    2.940000\n",
      "25%      5.860000    0.460000    5.868000  284.000000   17.400000    7.900000\n",
      "50%      9.900000    0.538000    6.153000  337.000000   19.200000   12.340000\n",
      "75%     18.100000    0.647000    6.495000  666.000000   20.200000   17.600000\n",
      "max     27.740000    0.871000    8.780000  711.000000   22.000000   37.970000\n",
      "           INDUS        NOX         RM         TAX    PTRATIO      LSTAT\n",
      "count  93.000000  93.000000  93.000000   93.000000  93.000000  93.000000\n",
      "mean   10.882043   0.549484   6.178086  419.483871  18.731183  12.304194\n",
      "std     6.556087   0.121990   0.527572  167.575785   1.822205   5.802130\n",
      "min     0.740000   0.392000   3.863000  187.000000  12.600000   1.980000\n",
      "25%     5.320000   0.442000   5.891000  293.000000  17.800000   7.790000\n",
      "50%     9.690000   0.538000   6.163000  345.000000  19.100000  11.720000\n",
      "75%    18.100000   0.624000   6.458000  666.000000  20.200000  16.220000\n",
      "max    25.650000   0.871000   7.420000  666.000000  21.200000  30.620000\n"
     ]
    }
   ],
   "source": [
    "print(inputs_train.describe())\n",
    "print(inputs_test.describe())"
   ]
  },
  {
   "cell_type": "markdown",
   "metadata": {},
   "source": [
    "We can also look at the outputs:"
   ]
  },
  {
   "cell_type": "code",
   "execution_count": 32,
   "metadata": {
    "scrolled": true
   },
   "outputs": [
    {
     "name": "stdout",
     "output_type": "stream",
     "text": [
      "count    369.000000\n",
      "mean      20.248509\n",
      "std        6.370866\n",
      "min        5.000000\n",
      "25%       15.700000\n",
      "50%       20.400000\n",
      "75%       23.800000\n",
      "max       35.400000\n",
      "Name: MEDV, dtype: float64\n",
      "count    93.000000\n",
      "mean     21.247312\n",
      "std       6.042865\n",
      "min       5.000000\n",
      "25%      17.800000\n",
      "50%      20.900000\n",
      "75%      24.400000\n",
      "max      34.900000\n",
      "Name: MEDV, dtype: float64\n"
     ]
    }
   ],
   "source": [
    "print(outputs_train.describe())\n",
    "print(outputs_test.describe())"
   ]
  },
  {
   "cell_type": "markdown",
   "metadata": {},
   "source": [
    "### Build Neural Network"
   ]
  },
  {
   "cell_type": "markdown",
   "metadata": {},
   "source": [
    "#### Preprocessing"
   ]
  },
  {
   "cell_type": "markdown",
   "metadata": {},
   "source": [
    "Preprocessing can help models to run more accurately and effectively by preparing the data into a more suitable form. Scaling is one such useful technique - it both normalises (transforms all values to between 0 and 1) and standardises (centres the mean at 0) all values - this helps to ensure that larger variable values don't overwhelm smaller ones in the neural network."
   ]
  },
  {
   "cell_type": "markdown",
   "metadata": {},
   "source": [
    "##### Scaling"
   ]
  },
  {
   "cell_type": "code",
   "execution_count": 33,
   "metadata": {},
   "outputs": [],
   "source": [
    "from sklearn import preprocessing\n",
    "# Use the PowerTransformer scaler to increase normality\n",
    "scaler = preprocessing.PowerTransformer()"
   ]
  },
  {
   "cell_type": "code",
   "execution_count": 34,
   "metadata": {},
   "outputs": [],
   "source": [
    "inputs_train_scaled = pd.DataFrame(scaler.fit_transform(inputs_train), columns=inputs.columns)"
   ]
  },
  {
   "cell_type": "code",
   "execution_count": 35,
   "metadata": {
    "scrolled": true
   },
   "outputs": [
    {
     "data": {
      "text/html": [
       "<div>\n",
       "<style scoped>\n",
       "    .dataframe tbody tr th:only-of-type {\n",
       "        vertical-align: middle;\n",
       "    }\n",
       "\n",
       "    .dataframe tbody tr th {\n",
       "        vertical-align: top;\n",
       "    }\n",
       "\n",
       "    .dataframe thead th {\n",
       "        text-align: right;\n",
       "    }\n",
       "</style>\n",
       "<table border=\"1\" class=\"dataframe\">\n",
       "  <thead>\n",
       "    <tr style=\"text-align: right;\">\n",
       "      <th></th>\n",
       "      <th>INDUS</th>\n",
       "      <th>NOX</th>\n",
       "      <th>RM</th>\n",
       "      <th>TAX</th>\n",
       "      <th>PTRATIO</th>\n",
       "      <th>LSTAT</th>\n",
       "    </tr>\n",
       "  </thead>\n",
       "  <tbody>\n",
       "    <tr>\n",
       "      <th>count</th>\n",
       "      <td>3.690000e+02</td>\n",
       "      <td>3.690000e+02</td>\n",
       "      <td>3.690000e+02</td>\n",
       "      <td>3.690000e+02</td>\n",
       "      <td>3.690000e+02</td>\n",
       "      <td>3.690000e+02</td>\n",
       "    </tr>\n",
       "    <tr>\n",
       "      <th>mean</th>\n",
       "      <td>-3.986573e-17</td>\n",
       "      <td>-6.468779e-18</td>\n",
       "      <td>-4.302114e-16</td>\n",
       "      <td>-9.281269e-15</td>\n",
       "      <td>-1.684891e-16</td>\n",
       "      <td>3.876754e-16</td>\n",
       "    </tr>\n",
       "    <tr>\n",
       "      <th>std</th>\n",
       "      <td>1.001358e+00</td>\n",
       "      <td>1.001358e+00</td>\n",
       "      <td>1.001358e+00</td>\n",
       "      <td>1.001358e+00</td>\n",
       "      <td>1.001358e+00</td>\n",
       "      <td>1.001358e+00</td>\n",
       "    </tr>\n",
       "    <tr>\n",
       "      <th>min</th>\n",
       "      <td>-1.958778e+00</td>\n",
       "      <td>-1.931170e+00</td>\n",
       "      <td>-3.884756e+00</td>\n",
       "      <td>-2.098192e+00</td>\n",
       "      <td>-1.985502e+00</td>\n",
       "      <td>-2.364629e+00</td>\n",
       "    </tr>\n",
       "    <tr>\n",
       "      <th>25%</th>\n",
       "      <td>-7.895481e-01</td>\n",
       "      <td>-8.795928e-01</td>\n",
       "      <td>-5.369753e-01</td>\n",
       "      <td>-7.360930e-01</td>\n",
       "      <td>-8.032983e-01</td>\n",
       "      <td>-7.822319e-01</td>\n",
       "    </tr>\n",
       "    <tr>\n",
       "      <th>50%</th>\n",
       "      <td>-1.032953e-01</td>\n",
       "      <td>-2.784567e-02</td>\n",
       "      <td>-4.956277e-02</td>\n",
       "      <td>-2.469618e-01</td>\n",
       "      <td>9.861178e-02</td>\n",
       "      <td>3.049853e-02</td>\n",
       "    </tr>\n",
       "    <tr>\n",
       "      <th>75%</th>\n",
       "      <td>9.504089e-01</td>\n",
       "      <td>8.660103e-01</td>\n",
       "      <td>5.561188e-01</td>\n",
       "      <td>1.339569e+00</td>\n",
       "      <td>7.595322e-01</td>\n",
       "      <td>7.116907e-01</td>\n",
       "    </tr>\n",
       "    <tr>\n",
       "      <th>max</th>\n",
       "      <td>1.909074e+00</td>\n",
       "      <td>2.024306e+00</td>\n",
       "      <td>5.170352e+00</td>\n",
       "      <td>1.465708e+00</td>\n",
       "      <td>2.308443e+00</td>\n",
       "      <td>2.272987e+00</td>\n",
       "    </tr>\n",
       "  </tbody>\n",
       "</table>\n",
       "</div>"
      ],
      "text/plain": [
       "              INDUS           NOX            RM           TAX       PTRATIO  \\\n",
       "count  3.690000e+02  3.690000e+02  3.690000e+02  3.690000e+02  3.690000e+02   \n",
       "mean  -3.986573e-17 -6.468779e-18 -4.302114e-16 -9.281269e-15 -1.684891e-16   \n",
       "std    1.001358e+00  1.001358e+00  1.001358e+00  1.001358e+00  1.001358e+00   \n",
       "min   -1.958778e+00 -1.931170e+00 -3.884756e+00 -2.098192e+00 -1.985502e+00   \n",
       "25%   -7.895481e-01 -8.795928e-01 -5.369753e-01 -7.360930e-01 -8.032983e-01   \n",
       "50%   -1.032953e-01 -2.784567e-02 -4.956277e-02 -2.469618e-01  9.861178e-02   \n",
       "75%    9.504089e-01  8.660103e-01  5.561188e-01  1.339569e+00  7.595322e-01   \n",
       "max    1.909074e+00  2.024306e+00  5.170352e+00  1.465708e+00  2.308443e+00   \n",
       "\n",
       "              LSTAT  \n",
       "count  3.690000e+02  \n",
       "mean   3.876754e-16  \n",
       "std    1.001358e+00  \n",
       "min   -2.364629e+00  \n",
       "25%   -7.822319e-01  \n",
       "50%    3.049853e-02  \n",
       "75%    7.116907e-01  \n",
       "max    2.272987e+00  "
      ]
     },
     "execution_count": 35,
     "metadata": {},
     "output_type": "execute_result"
    }
   ],
   "source": [
    "inputs_train_scaled.describe()"
   ]
  },
  {
   "cell_type": "code",
   "execution_count": 36,
   "metadata": {},
   "outputs": [],
   "source": [
    "inputs_test_scaled = pd.DataFrame(scaler.fit_transform(inputs_test), columns=inputs.columns)"
   ]
  },
  {
   "cell_type": "code",
   "execution_count": 37,
   "metadata": {
    "scrolled": true
   },
   "outputs": [
    {
     "data": {
      "text/html": [
       "<div>\n",
       "<style scoped>\n",
       "    .dataframe tbody tr th:only-of-type {\n",
       "        vertical-align: middle;\n",
       "    }\n",
       "\n",
       "    .dataframe tbody tr th {\n",
       "        vertical-align: top;\n",
       "    }\n",
       "\n",
       "    .dataframe thead th {\n",
       "        text-align: right;\n",
       "    }\n",
       "</style>\n",
       "<table border=\"1\" class=\"dataframe\">\n",
       "  <thead>\n",
       "    <tr style=\"text-align: right;\">\n",
       "      <th></th>\n",
       "      <th>INDUS</th>\n",
       "      <th>NOX</th>\n",
       "      <th>RM</th>\n",
       "      <th>TAX</th>\n",
       "      <th>PTRATIO</th>\n",
       "      <th>LSTAT</th>\n",
       "    </tr>\n",
       "  </thead>\n",
       "  <tbody>\n",
       "    <tr>\n",
       "      <th>count</th>\n",
       "      <td>9.300000e+01</td>\n",
       "      <td>9.300000e+01</td>\n",
       "      <td>9.300000e+01</td>\n",
       "      <td>9.300000e+01</td>\n",
       "      <td>9.300000e+01</td>\n",
       "      <td>9.300000e+01</td>\n",
       "    </tr>\n",
       "    <tr>\n",
       "      <th>mean</th>\n",
       "      <td>3.223228e-16</td>\n",
       "      <td>-4.244215e-15</td>\n",
       "      <td>-4.942283e-16</td>\n",
       "      <td>1.161198e-14</td>\n",
       "      <td>6.852344e-16</td>\n",
       "      <td>-4.417016e-17</td>\n",
       "    </tr>\n",
       "    <tr>\n",
       "      <th>std</th>\n",
       "      <td>1.005420e+00</td>\n",
       "      <td>1.005420e+00</td>\n",
       "      <td>1.005420e+00</td>\n",
       "      <td>1.005420e+00</td>\n",
       "      <td>1.005420e+00</td>\n",
       "      <td>1.005420e+00</td>\n",
       "    </tr>\n",
       "    <tr>\n",
       "      <th>min</th>\n",
       "      <td>-2.102081e+00</td>\n",
       "      <td>-1.663517e+00</td>\n",
       "      <td>-3.430426e+00</td>\n",
       "      <td>-2.230504e+00</td>\n",
       "      <td>-2.200995e+00</td>\n",
       "      <td>-2.456318e+00</td>\n",
       "    </tr>\n",
       "    <tr>\n",
       "      <th>25%</th>\n",
       "      <td>-7.878419e-01</td>\n",
       "      <td>-9.423642e-01</td>\n",
       "      <td>-6.090427e-01</td>\n",
       "      <td>-7.071088e-01</td>\n",
       "      <td>-7.070495e-01</td>\n",
       "      <td>-7.352396e-01</td>\n",
       "    </tr>\n",
       "    <tr>\n",
       "      <th>50%</th>\n",
       "      <td>-9.955674e-03</td>\n",
       "      <td>1.110112e-01</td>\n",
       "      <td>-9.467211e-02</td>\n",
       "      <td>-2.310838e-01</td>\n",
       "      <td>4.139432e-02</td>\n",
       "      <td>3.517084e-02</td>\n",
       "    </tr>\n",
       "    <tr>\n",
       "      <th>75%</th>\n",
       "      <td>1.075648e+00</td>\n",
       "      <td>7.896800e-01</td>\n",
       "      <td>5.032672e-01</td>\n",
       "      <td>1.340785e+00</td>\n",
       "      <td>8.490699e-01</td>\n",
       "      <td>7.526975e-01</td>\n",
       "    </tr>\n",
       "    <tr>\n",
       "      <th>max</th>\n",
       "      <td>1.830105e+00</td>\n",
       "      <td>1.939201e+00</td>\n",
       "      <td>2.758234e+00</td>\n",
       "      <td>1.340785e+00</td>\n",
       "      <td>1.747521e+00</td>\n",
       "      <td>2.467847e+00</td>\n",
       "    </tr>\n",
       "  </tbody>\n",
       "</table>\n",
       "</div>"
      ],
      "text/plain": [
       "              INDUS           NOX            RM           TAX       PTRATIO  \\\n",
       "count  9.300000e+01  9.300000e+01  9.300000e+01  9.300000e+01  9.300000e+01   \n",
       "mean   3.223228e-16 -4.244215e-15 -4.942283e-16  1.161198e-14  6.852344e-16   \n",
       "std    1.005420e+00  1.005420e+00  1.005420e+00  1.005420e+00  1.005420e+00   \n",
       "min   -2.102081e+00 -1.663517e+00 -3.430426e+00 -2.230504e+00 -2.200995e+00   \n",
       "25%   -7.878419e-01 -9.423642e-01 -6.090427e-01 -7.071088e-01 -7.070495e-01   \n",
       "50%   -9.955674e-03  1.110112e-01 -9.467211e-02 -2.310838e-01  4.139432e-02   \n",
       "75%    1.075648e+00  7.896800e-01  5.032672e-01  1.340785e+00  8.490699e-01   \n",
       "max    1.830105e+00  1.939201e+00  2.758234e+00  1.340785e+00  1.747521e+00   \n",
       "\n",
       "              LSTAT  \n",
       "count  9.300000e+01  \n",
       "mean  -4.417016e-17  \n",
       "std    1.005420e+00  \n",
       "min   -2.456318e+00  \n",
       "25%   -7.352396e-01  \n",
       "50%    3.517084e-02  \n",
       "75%    7.526975e-01  \n",
       "max    2.467847e+00  "
      ]
     },
     "execution_count": 37,
     "metadata": {},
     "output_type": "execute_result"
    }
   ],
   "source": [
    "inputs_test_scaled.describe()"
   ]
  },
  {
   "cell_type": "markdown",
   "metadata": {},
   "source": [
    "#### Keras"
   ]
  },
  {
   "cell_type": "code",
   "execution_count": 38,
   "metadata": {},
   "outputs": [
    {
     "name": "stderr",
     "output_type": "stream",
     "text": [
      "Using TensorFlow backend.\n"
     ]
    }
   ],
   "source": [
    "# Create a new neural network.\n",
    "from keras.models import Sequential\n",
    "from keras.layers import Dense\n",
    "from keras.callbacks import EarlyStopping"
   ]
  },
  {
   "cell_type": "markdown",
   "metadata": {},
   "source": [
    "There are many different ways to build a neural network, the accuracy will depend on the approach we take."
   ]
  },
  {
   "cell_type": "code",
   "execution_count": 39,
   "metadata": {},
   "outputs": [],
   "source": [
    "earlystop = EarlyStopping(monitor='val_loss', patience=30, verbose=1, mode='min', restore_best_weights=True)"
   ]
  },
  {
   "cell_type": "markdown",
   "metadata": {},
   "source": [
    "##### Defining Functions"
   ]
  },
  {
   "cell_type": "markdown",
   "metadata": {},
   "source": [
    "It will be useful to create some functions now as some of the following work will be repetitive."
   ]
  },
  {
   "cell_type": "code",
   "execution_count": 40,
   "metadata": {},
   "outputs": [],
   "source": [
    "# Function that carries out the keras.evaluate() function and prints to a specified format\n",
    "def evaluator(evalN, modelN):\n",
    "    evalN = modelN.evaluate(inputs_test_scaled, outputs_test, verbose=0)\n",
    "    print('This model evaluates as:')\n",
    "    print('* Loss:', evalN[0])\n",
    "    print('* MAE:', evalN[1])\n",
    "    print('* Accuracy:', evalN[2])"
   ]
  },
  {
   "cell_type": "code",
   "execution_count": 41,
   "metadata": {},
   "outputs": [],
   "source": [
    "# Function that carries out the keras.predict() function and prints to a specified format\n",
    "def predictor(predN, modelN):\n",
    "    predN = modelN.predict(inputs_test_scaled.as_matrix()[0:1])\n",
    "    print('This model predicts as:')\n",
    "    print('* Predicted Value:', predN[0][0])\n",
    "    print('* Actual value:', outputs_test[0:1].iloc[0])"
   ]
  },
  {
   "cell_type": "markdown",
   "metadata": {},
   "source": [
    "#### First Attempt"
   ]
  },
  {
   "cell_type": "markdown",
   "metadata": {},
   "source": [
    "This will be a three layer neural network with densities of 32, 16 and 1."
   ]
  },
  {
   "cell_type": "markdown",
   "metadata": {},
   "source": [
    "##### Construct Model"
   ]
  },
  {
   "cell_type": "code",
   "execution_count": 42,
   "metadata": {
    "scrolled": true
   },
   "outputs": [
    {
     "name": "stdout",
     "output_type": "stream",
     "text": [
      "WARNING:tensorflow:From C:\\Users\\Peter McGowan\\Anaconda3\\lib\\site-packages\\tensorflow\\python\\ops\\resource_variable_ops.py:435: colocate_with (from tensorflow.python.framework.ops) is deprecated and will be removed in a future version.\n",
      "Instructions for updating:\n",
      "Colocations handled automatically by placer.\n",
      "Model: \"sequential_1\"\n",
      "_________________________________________________________________\n",
      "Layer (type)                 Output Shape              Param #   \n",
      "=================================================================\n",
      "dense_1 (Dense)              (None, 4)                 28        \n",
      "_________________________________________________________________\n",
      "dense_2 (Dense)              (None, 2)                 10        \n",
      "_________________________________________________________________\n",
      "dense_3 (Dense)              (None, 1)                 3         \n",
      "=================================================================\n",
      "Total params: 41\n",
      "Trainable params: 41\n",
      "Non-trainable params: 0\n",
      "_________________________________________________________________\n"
     ]
    }
   ],
   "source": [
    "model1 = Sequential() \n",
    "\n",
    "model1.add(Dense(units=32, activation='relu', input_dim=6))\n",
    "model1.add(Dense(units=16, activation='relu'))\n",
    "model1.add(Dense(units=1))\n",
    "\n",
    "model1.compile(loss='mse', optimizer='adam', metrics=['mae', 'acc'])\n",
    "\n",
    "model1.summary()"
   ]
  },
  {
   "cell_type": "code",
   "execution_count": 43,
   "metadata": {
    "scrolled": true
   },
   "outputs": [
    {
     "name": "stdout",
     "output_type": "stream",
     "text": [
      "WARNING:tensorflow:From C:\\Users\\Peter McGowan\\Anaconda3\\lib\\site-packages\\tensorflow\\python\\ops\\math_ops.py:3066: to_int32 (from tensorflow.python.ops.math_ops) is deprecated and will be removed in a future version.\n",
      "Instructions for updating:\n",
      "Use tf.cast instead.\n",
      "Train on 276 samples, validate on 93 samples\n",
      "Epoch 1/500\n",
      "276/276 [==============================] - 0s 396us/step - loss: 436.5150 - mae: 19.9293 - acc: 0.0000e+00 - val_loss: 493.9588 - val_mae: 21.2072 - val_acc: 0.0000e+00\n",
      "Epoch 2/500\n",
      "276/276 [==============================] - 0s 56us/step - loss: 435.3344 - mae: 19.8916 - acc: 0.0000e+00 - val_loss: 492.9267 - val_mae: 21.1769 - val_acc: 0.0000e+00\n",
      "Epoch 3/500\n",
      "276/276 [==============================] - 0s 57us/step - loss: 434.1493 - mae: 19.8533 - acc: 0.0000e+00 - val_loss: 491.8592 - val_mae: 21.1451 - val_acc: 0.0000e+00\n",
      "Epoch 4/500\n",
      "276/276 [==============================] - 0s 57us/step - loss: 432.9837 - mae: 19.8148 - acc: 0.0000e+00 - val_loss: 490.7733 - val_mae: 21.1127 - val_acc: 0.0000e+00\n",
      "Epoch 5/500\n",
      "276/276 [==============================] - 0s 57us/step - loss: 431.7468 - mae: 19.7749 - acc: 0.0000e+00 - val_loss: 489.7083 - val_mae: 21.0805 - val_acc: 0.0000e+00\n",
      "Epoch 6/500\n",
      "276/276 [==============================] - 0s 57us/step - loss: 430.4764 - mae: 19.7326 - acc: 0.0000e+00 - val_loss: 488.6491 - val_mae: 21.0484 - val_acc: 0.0000e+00\n",
      "Epoch 7/500\n",
      "276/276 [==============================] - 0s 57us/step - loss: 429.2193 - mae: 19.6906 - acc: 0.0000e+00 - val_loss: 487.5798 - val_mae: 21.0158 - val_acc: 0.0000e+00\n",
      "Epoch 8/500\n",
      "276/276 [==============================] - 0s 0us/step - loss: 427.9297 - mae: 19.6474 - acc: 0.0000e+00 - val_loss: 486.4725 - val_mae: 20.9818 - val_acc: 0.0000e+00\n",
      "Epoch 9/500\n",
      "276/276 [==============================] - 0s 57us/step - loss: 426.6264 - mae: 19.6043 - acc: 0.0000e+00 - val_loss: 485.3189 - val_mae: 20.9464 - val_acc: 0.0000e+00\n",
      "Epoch 10/500\n",
      "276/276 [==============================] - 0s 57us/step - loss: 425.3149 - mae: 19.5597 - acc: 0.0000e+00 - val_loss: 484.1194 - val_mae: 20.9090 - val_acc: 0.0000e+00\n",
      "Epoch 11/500\n",
      "276/276 [==============================] - 0s 57us/step - loss: 423.9437 - mae: 19.5130 - acc: 0.0000e+00 - val_loss: 482.8708 - val_mae: 20.8698 - val_acc: 0.0000e+00\n",
      "Epoch 12/500\n",
      "276/276 [==============================] - 0s 0us/step - loss: 422.5358 - mae: 19.4647 - acc: 0.0000e+00 - val_loss: 481.5704 - val_mae: 20.8283 - val_acc: 0.0000e+00\n",
      "Epoch 13/500\n",
      "276/276 [==============================] - 0s 57us/step - loss: 421.0625 - mae: 19.4138 - acc: 0.0000e+00 - val_loss: 480.2228 - val_mae: 20.7849 - val_acc: 0.0000e+00\n",
      "Epoch 14/500\n",
      "276/276 [==============================] - 0s 57us/step - loss: 419.5479 - mae: 19.3601 - acc: 0.0000e+00 - val_loss: 478.8182 - val_mae: 20.7391 - val_acc: 0.0000e+00\n",
      "Epoch 15/500\n",
      "276/276 [==============================] - 0s 57us/step - loss: 417.9856 - mae: 19.3061 - acc: 0.0000e+00 - val_loss: 477.3516 - val_mae: 20.6908 - val_acc: 0.0000e+00\n",
      "Epoch 16/500\n",
      "276/276 [==============================] - 0s 0us/step - loss: 416.3374 - mae: 19.2473 - acc: 0.0000e+00 - val_loss: 475.8463 - val_mae: 20.6409 - val_acc: 0.0000e+00\n",
      "Epoch 17/500\n",
      "276/276 [==============================] - 0s 57us/step - loss: 414.6032 - mae: 19.1843 - acc: 0.0000e+00 - val_loss: 474.2398 - val_mae: 20.5876 - val_acc: 0.0000e+00\n",
      "Epoch 18/500\n",
      "276/276 [==============================] - 0s 57us/step - loss: 412.8268 - mae: 19.1214 - acc: 0.0000e+00 - val_loss: 472.5552 - val_mae: 20.5311 - val_acc: 0.0000e+00\n",
      "Epoch 19/500\n",
      "276/276 [==============================] - 0s 57us/step - loss: 410.9868 - mae: 19.0537 - acc: 0.0000e+00 - val_loss: 470.7883 - val_mae: 20.4714 - val_acc: 0.0000e+00\n",
      "Epoch 20/500\n",
      "276/276 [==============================] - 0s 0us/step - loss: 409.0272 - mae: 18.9820 - acc: 0.0000e+00 - val_loss: 468.9372 - val_mae: 20.4085 - val_acc: 0.0000e+00\n",
      "Epoch 21/500\n",
      "276/276 [==============================] - 0s 56us/step - loss: 406.9535 - mae: 18.9064 - acc: 0.0000e+00 - val_loss: 466.9805 - val_mae: 20.3420 - val_acc: 0.0000e+00\n",
      "Epoch 22/500\n",
      "276/276 [==============================] - 0s 57us/step - loss: 404.8748 - mae: 18.8302 - acc: 0.0000e+00 - val_loss: 464.9051 - val_mae: 20.2707 - val_acc: 0.0000e+00\n",
      "Epoch 23/500\n",
      "276/276 [==============================] - 0s 57us/step - loss: 402.6473 - mae: 18.7450 - acc: 0.0000e+00 - val_loss: 462.7966 - val_mae: 20.1981 - val_acc: 0.0000e+00\n",
      "Epoch 24/500\n",
      "276/276 [==============================] - 0s 0us/step - loss: 400.3558 - mae: 18.6592 - acc: 0.0000e+00 - val_loss: 460.6214 - val_mae: 20.1224 - val_acc: 0.0000e+00\n",
      "Epoch 25/500\n",
      "276/276 [==============================] - 0s 0us/step - loss: 397.9892 - mae: 18.5684 - acc: 0.0000e+00 - val_loss: 458.3431 - val_mae: 20.0433 - val_acc: 0.0000e+00\n",
      "Epoch 26/500\n",
      "276/276 [==============================] - 0s 57us/step - loss: 395.5283 - mae: 18.4734 - acc: 0.0000e+00 - val_loss: 455.9433 - val_mae: 19.9602 - val_acc: 0.0108\n",
      "Epoch 27/500\n",
      "276/276 [==============================] - 0s 57us/step - loss: 392.9824 - mae: 18.3758 - acc: 0.0000e+00 - val_loss: 453.3702 - val_mae: 19.8719 - val_acc: 0.0108\n",
      "Epoch 28/500\n",
      "276/276 [==============================] - 0s 0us/step - loss: 390.2247 - mae: 18.2713 - acc: 0.0000e+00 - val_loss: 450.6480 - val_mae: 19.7850 - val_acc: 0.0108\n",
      "Epoch 29/500\n",
      "276/276 [==============================] - 0s 0us/step - loss: 387.3474 - mae: 18.1603 - acc: 0.0036 - val_loss: 447.7962 - val_mae: 19.6940 - val_acc: 0.0000e+00\n",
      "Epoch 30/500\n",
      "276/276 [==============================] - 0s 57us/step - loss: 384.4086 - mae: 18.0451 - acc: 0.0036 - val_loss: 444.7521 - val_mae: 19.5970 - val_acc: 0.0000e+00\n",
      "Epoch 31/500\n",
      "276/276 [==============================] - 0s 57us/step - loss: 381.1853 - mae: 17.9281 - acc: 0.0000e+00 - val_loss: 441.6304 - val_mae: 19.4972 - val_acc: 0.0000e+00\n",
      "Epoch 32/500\n",
      "276/276 [==============================] - 0s 0us/step - loss: 377.9208 - mae: 17.8009 - acc: 0.0000e+00 - val_loss: 438.4460 - val_mae: 19.3942 - val_acc: 0.0000e+00\n",
      "Epoch 33/500\n",
      "276/276 [==============================] - 0s 57us/step - loss: 374.5734 - mae: 17.6773 - acc: 0.0000e+00 - val_loss: 435.3743 - val_mae: 19.2910 - val_acc: 0.0000e+00\n",
      "Epoch 34/500\n",
      "276/276 [==============================] - 0s 57us/step - loss: 371.2853 - mae: 17.5528 - acc: 0.0000e+00 - val_loss: 432.3390 - val_mae: 19.1945 - val_acc: 0.0000e+00\n",
      "Epoch 35/500\n",
      "276/276 [==============================] - 0s 0us/step - loss: 368.1989 - mae: 17.4314 - acc: 0.0000e+00 - val_loss: 429.2791 - val_mae: 19.0943 - val_acc: 0.0000e+00\n",
      "Epoch 36/500\n",
      "276/276 [==============================] - 0s 0us/step - loss: 365.0602 - mae: 17.3097 - acc: 0.0000e+00 - val_loss: 426.2895 - val_mae: 18.9940 - val_acc: 0.0000e+00\n",
      "Epoch 37/500\n",
      "276/276 [==============================] - 0s 57us/step - loss: 362.0222 - mae: 17.1870 - acc: 0.0000e+00 - val_loss: 423.3398 - val_mae: 18.8927 - val_acc: 0.0000e+00\n",
      "Epoch 38/500\n",
      "276/276 [==============================] - 0s 56us/step - loss: 359.0102 - mae: 17.0610 - acc: 0.0036 - val_loss: 420.4239 - val_mae: 18.7906 - val_acc: 0.0000e+00\n",
      "Epoch 39/500\n",
      "276/276 [==============================] - 0s 0us/step - loss: 355.9805 - mae: 16.9428 - acc: 0.0036 - val_loss: 417.5828 - val_mae: 18.6892 - val_acc: 0.0000e+00\n",
      "Epoch 40/500\n",
      "276/276 [==============================] - 0s 57us/step - loss: 353.1201 - mae: 16.8223 - acc: 0.0036 - val_loss: 414.7420 - val_mae: 18.5905 - val_acc: 0.0000e+00\n",
      "Epoch 41/500\n",
      "276/276 [==============================] - 0s 57us/step - loss: 350.2578 - mae: 16.7105 - acc: 0.0000e+00 - val_loss: 411.9616 - val_mae: 18.4962 - val_acc: 0.0000e+00\n",
      "Epoch 42/500\n",
      "276/276 [==============================] - 0s 0us/step - loss: 347.4362 - mae: 16.5961 - acc: 0.0000e+00 - val_loss: 409.2149 - val_mae: 18.4013 - val_acc: 0.0000e+00\n",
      "Epoch 43/500\n",
      "276/276 [==============================] - 0s 0us/step - loss: 344.6819 - mae: 16.4914 - acc: 0.0000e+00 - val_loss: 406.5103 - val_mae: 18.3059 - val_acc: 0.0000e+00\n",
      "Epoch 44/500\n",
      "276/276 [==============================] - 0s 57us/step - loss: 341.9970 - mae: 16.3868 - acc: 0.0000e+00 - val_loss: 403.8722 - val_mae: 18.2110 - val_acc: 0.0000e+00\n",
      "Epoch 45/500\n",
      "276/276 [==============================] - 0s 0us/step - loss: 339.4309 - mae: 16.2986 - acc: 0.0000e+00 - val_loss: 401.2736 - val_mae: 18.1151 - val_acc: 0.0000e+00\n",
      "Epoch 46/500\n",
      "276/276 [==============================] - 0s 0us/step - loss: 336.8371 - mae: 16.2004 - acc: 0.0000e+00 - val_loss: 398.7717 - val_mae: 18.0247 - val_acc: 0.0000e+00\n",
      "Epoch 47/500\n",
      "276/276 [==============================] - 0s 57us/step - loss: 334.4352 - mae: 16.1051 - acc: 0.0000e+00 - val_loss: 396.2525 - val_mae: 17.9333 - val_acc: 0.0000e+00\n",
      "Epoch 48/500\n",
      "276/276 [==============================] - 0s 57us/step - loss: 332.0187 - mae: 16.0209 - acc: 0.0000e+00 - val_loss: 393.8332 - val_mae: 17.8436 - val_acc: 0.0000e+00\n",
      "Epoch 49/500\n",
      "276/276 [==============================] - 0s 0us/step - loss: 329.7103 - mae: 15.9341 - acc: 0.0000e+00 - val_loss: 391.4528 - val_mae: 17.7534 - val_acc: 0.0000e+00\n",
      "Epoch 50/500\n",
      "276/276 [==============================] - 0s 57us/step - loss: 327.4341 - mae: 15.8554 - acc: 0.0000e+00 - val_loss: 389.1521 - val_mae: 17.6647 - val_acc: 0.0000e+00\n",
      "Epoch 51/500\n",
      "276/276 [==============================] - 0s 57us/step - loss: 325.2936 - mae: 15.7819 - acc: 0.0000e+00 - val_loss: 386.8729 - val_mae: 17.5792 - val_acc: 0.0000e+00\n",
      "Epoch 52/500\n",
      "276/276 [==============================] - 0s 0us/step - loss: 323.2324 - mae: 15.7141 - acc: 0.0000e+00 - val_loss: 384.6383 - val_mae: 17.4975 - val_acc: 0.0000e+00\n",
      "Epoch 53/500\n",
      "276/276 [==============================] - 0s 0us/step - loss: 321.1545 - mae: 15.6355 - acc: 0.0000e+00 - val_loss: 382.5247 - val_mae: 17.4298 - val_acc: 0.0000e+00\n",
      "Epoch 54/500\n",
      "276/276 [==============================] - 0s 57us/step - loss: 319.2235 - mae: 15.5648 - acc: 0.0000e+00 - val_loss: 380.4922 - val_mae: 17.3640 - val_acc: 0.0108\n",
      "Epoch 55/500\n",
      "276/276 [==============================] - ETA: 0s - loss: 351.0763 - mae: 16.6115 - acc: 0.0000e+ - 0s 0us/step - loss: 317.3488 - mae: 15.4959 - acc: 0.0000e+00 - val_loss: 378.5179 - val_mae: 17.3020 - val_acc: 0.0108\n",
      "Epoch 56/500\n",
      "276/276 [==============================] - 0s 0us/step - loss: 315.5733 - mae: 15.4316 - acc: 0.0000e+00 - val_loss: 376.5269 - val_mae: 17.2417 - val_acc: 0.0108\n",
      "Epoch 57/500\n",
      "276/276 [==============================] - 0s 57us/step - loss: 313.7942 - mae: 15.3614 - acc: 0.0000e+00 - val_loss: 374.6044 - val_mae: 17.1851 - val_acc: 0.0108\n",
      "Epoch 58/500\n",
      "276/276 [==============================] - 0s 56us/step - loss: 312.0648 - mae: 15.2936 - acc: 0.0000e+00 - val_loss: 372.7578 - val_mae: 17.1299 - val_acc: 0.0000e+00\n",
      "Epoch 59/500\n",
      "276/276 [==============================] - 0s 0us/step - loss: 310.4658 - mae: 15.2333 - acc: 0.0000e+00 - val_loss: 370.9025 - val_mae: 17.0732 - val_acc: 0.0000e+00\n",
      "Epoch 60/500\n",
      "276/276 [==============================] - 0s 57us/step - loss: 308.8823 - mae: 15.1696 - acc: 0.0000e+00 - val_loss: 369.1034 - val_mae: 17.0171 - val_acc: 0.0000e+00\n",
      "Epoch 61/500\n",
      "276/276 [==============================] - 0s 57us/step - loss: 307.3404 - mae: 15.1097 - acc: 0.0000e+00 - val_loss: 367.3524 - val_mae: 16.9617 - val_acc: 0.0000e+00\n",
      "Epoch 62/500\n",
      "276/276 [==============================] - 0s 57us/step - loss: 305.7833 - mae: 15.0510 - acc: 0.0000e+00 - val_loss: 365.6756 - val_mae: 16.9082 - val_acc: 0.0000e+00\n",
      "Epoch 63/500\n",
      "276/276 [==============================] - 0s 0us/step - loss: 304.3227 - mae: 14.9941 - acc: 0.0000e+00 - val_loss: 364.0274 - val_mae: 16.8582 - val_acc: 0.0000e+00\n",
      "Epoch 64/500\n",
      "276/276 [==============================] - 0s 57us/step - loss: 302.9413 - mae: 14.9430 - acc: 0.0036 - val_loss: 362.3309 - val_mae: 16.8072 - val_acc: 0.0000e+00\n",
      "Epoch 65/500\n",
      "276/276 [==============================] - 0s 57us/step - loss: 301.4824 - mae: 14.8854 - acc: 0.0036 - val_loss: 360.7077 - val_mae: 16.7582 - val_acc: 0.0000e+00\n",
      "Epoch 66/500\n",
      "276/276 [==============================] - 0s 0us/step - loss: 300.1502 - mae: 14.8375 - acc: 0.0036 - val_loss: 359.0401 - val_mae: 16.7074 - val_acc: 0.0000e+00\n",
      "Epoch 67/500\n",
      "276/276 [==============================] - 0s 0us/step - loss: 298.7443 - mae: 14.7883 - acc: 0.0036 - val_loss: 357.4276 - val_mae: 16.6614 - val_acc: 0.0000e+00\n",
      "Epoch 68/500\n",
      "276/276 [==============================] - 0s 57us/step - loss: 297.4013 - mae: 14.7413 - acc: 0.0036 - val_loss: 355.8329 - val_mae: 16.6152 - val_acc: 0.0000e+00\n",
      "Epoch 69/500\n",
      "276/276 [==============================] - 0s 57us/step - loss: 296.0931 - mae: 14.6975 - acc: 0.0000e+00 - val_loss: 354.2181 - val_mae: 16.5681 - val_acc: 0.0000e+00\n",
      "Epoch 70/500\n",
      "276/276 [==============================] - 0s 0us/step - loss: 294.7404 - mae: 14.6501 - acc: 0.0000e+00 - val_loss: 352.6307 - val_mae: 16.5211 - val_acc: 0.0000e+00\n",
      "Epoch 71/500\n",
      "276/276 [==============================] - 0s 57us/step - loss: 293.3909 - mae: 14.6060 - acc: 0.0000e+00 - val_loss: 351.0373 - val_mae: 16.4736 - val_acc: 0.0000e+00\n",
      "Epoch 72/500\n",
      "276/276 [==============================] - 0s 57us/step - loss: 292.0232 - mae: 14.5617 - acc: 0.0000e+00 - val_loss: 349.4925 - val_mae: 16.4272 - val_acc: 0.0000e+00\n",
      "Epoch 73/500\n",
      "276/276 [==============================] - 0s 57us/step - loss: 290.7200 - mae: 14.5193 - acc: 0.0000e+00 - val_loss: 347.8764 - val_mae: 16.3781 - val_acc: 0.0000e+00\n",
      "Epoch 74/500\n",
      "276/276 [==============================] - 0s 0us/step - loss: 289.3762 - mae: 14.4759 - acc: 0.0000e+00 - val_loss: 346.3067 - val_mae: 16.3304 - val_acc: 0.0000e+00\n",
      "Epoch 75/500\n",
      "276/276 [==============================] - 0s 57us/step - loss: 287.9923 - mae: 14.4318 - acc: 0.0036 - val_loss: 344.7276 - val_mae: 16.2820 - val_acc: 0.0000e+00\n",
      "Epoch 76/500\n",
      "276/276 [==============================] - 0s 57us/step - loss: 286.6457 - mae: 14.3883 - acc: 0.0036 - val_loss: 343.1228 - val_mae: 16.2323 - val_acc: 0.0000e+00\n",
      "Epoch 77/500\n",
      "276/276 [==============================] - 0s 0us/step - loss: 285.2444 - mae: 14.3428 - acc: 0.0036 - val_loss: 341.5276 - val_mae: 16.1826 - val_acc: 0.0000e+00\n",
      "Epoch 78/500\n",
      "276/276 [==============================] - 0s 0us/step - loss: 283.8531 - mae: 14.2964 - acc: 0.0036 - val_loss: 339.9497 - val_mae: 16.1331 - val_acc: 0.0000e+00\n",
      "Epoch 79/500\n",
      "276/276 [==============================] - 0s 57us/step - loss: 282.4522 - mae: 14.2514 - acc: 0.0036 - val_loss: 338.3381 - val_mae: 16.0819 - val_acc: 0.0000e+00\n",
      "Epoch 80/500\n",
      "276/276 [==============================] - 0s 0us/step - loss: 281.0493 - mae: 14.2045 - acc: 0.0036 - val_loss: 336.7104 - val_mae: 16.0303 - val_acc: 0.0000e+00\n",
      "Epoch 81/500\n",
      "276/276 [==============================] - 0s 0us/step - loss: 279.5323 - mae: 14.1546 - acc: 0.0036 - val_loss: 335.1089 - val_mae: 15.9792 - val_acc: 0.0000e+00\n",
      "Epoch 82/500\n",
      "276/276 [==============================] - 0s 57us/step - loss: 278.0421 - mae: 14.1066 - acc: 0.0036 - val_loss: 333.3935 - val_mae: 15.9237 - val_acc: 0.0000e+00\n",
      "Epoch 83/500\n",
      "276/276 [==============================] - 0s 57us/step - loss: 276.5292 - mae: 14.0555 - acc: 0.0036 - val_loss: 331.6282 - val_mae: 15.8667 - val_acc: 0.0000e+00\n",
      "Epoch 84/500\n",
      "276/276 [==============================] - 0s 0us/step - loss: 274.9561 - mae: 14.0050 - acc: 0.0036 - val_loss: 329.8584 - val_mae: 15.8090 - val_acc: 0.0000e+00\n",
      "Epoch 85/500\n",
      "276/276 [==============================] - 0s 56us/step - loss: 273.2548 - mae: 13.9511 - acc: 0.0036 - val_loss: 328.1179 - val_mae: 15.7521 - val_acc: 0.0000e+00\n",
      "Epoch 86/500\n",
      "276/276 [==============================] - 0s 57us/step - loss: 271.5391 - mae: 13.8963 - acc: 0.0036 - val_loss: 326.3017 - val_mae: 15.6940 - val_acc: 0.0000e+00\n",
      "Epoch 87/500\n",
      "276/276 [==============================] - 0s 0us/step - loss: 269.7188 - mae: 13.8369 - acc: 0.0036 - val_loss: 324.4182 - val_mae: 15.6367 - val_acc: 0.0000e+00\n",
      "Epoch 88/500\n",
      "276/276 [==============================] - 0s 57us/step - loss: 267.8469 - mae: 13.7760 - acc: 0.0036 - val_loss: 322.4311 - val_mae: 15.5775 - val_acc: 0.0000e+00\n",
      "Epoch 89/500\n",
      "276/276 [==============================] - 0s 57us/step - loss: 265.8564 - mae: 13.7111 - acc: 0.0036 - val_loss: 320.4068 - val_mae: 15.5165 - val_acc: 0.0000e+00\n",
      "Epoch 90/500\n",
      "276/276 [==============================] - 0s 0us/step - loss: 263.7687 - mae: 13.6435 - acc: 0.0036 - val_loss: 318.3337 - val_mae: 15.4532 - val_acc: 0.0000e+00\n",
      "Epoch 91/500\n",
      "276/276 [==============================] - 0s 0us/step - loss: 261.4803 - mae: 13.5698 - acc: 0.0036 - val_loss: 316.2919 - val_mae: 15.3904 - val_acc: 0.0000e+00\n",
      "Epoch 92/500\n",
      "276/276 [==============================] - 0s 57us/step - loss: 259.1145 - mae: 13.4920 - acc: 0.0036 - val_loss: 314.1180 - val_mae: 15.3233 - val_acc: 0.0000e+00\n",
      "Epoch 93/500\n",
      "276/276 [==============================] - 0s 0us/step - loss: 256.6548 - mae: 13.4149 - acc: 0.0000e+00 - val_loss: 311.7989 - val_mae: 15.2510 - val_acc: 0.0000e+00\n",
      "Epoch 94/500\n",
      "276/276 [==============================] - 0s 0us/step - loss: 254.0651 - mae: 13.3270 - acc: 0.0000e+00 - val_loss: 309.3576 - val_mae: 15.1751 - val_acc: 0.0000e+00\n",
      "Epoch 95/500\n",
      "276/276 [==============================] - 0s 57us/step - loss: 251.4096 - mae: 13.2399 - acc: 0.0000e+00 - val_loss: 306.7856 - val_mae: 15.0957 - val_acc: 0.0000e+00\n",
      "Epoch 96/500\n",
      "276/276 [==============================] - 0s 56us/step - loss: 248.7324 - mae: 13.1520 - acc: 0.0000e+00 - val_loss: 303.9936 - val_mae: 15.0104 - val_acc: 0.0000e+00\n",
      "Epoch 97/500\n",
      "276/276 [==============================] - 0s 0us/step - loss: 245.9669 - mae: 13.0586 - acc: 0.0000e+00 - val_loss: 301.0102 - val_mae: 14.9191 - val_acc: 0.0000e+00\n",
      "Epoch 98/500\n",
      "276/276 [==============================] - 0s 57us/step - loss: 243.0339 - mae: 12.9593 - acc: 0.0000e+00 - val_loss: 297.7131 - val_mae: 14.8199 - val_acc: 0.0000e+00\n",
      "Epoch 99/500\n",
      "276/276 [==============================] - 0s 57us/step - loss: 240.0241 - mae: 12.8587 - acc: 0.0000e+00 - val_loss: 294.1842 - val_mae: 14.7143 - val_acc: 0.0000e+00\n",
      "Epoch 100/500\n",
      "276/276 [==============================] - 0s 0us/step - loss: 236.9847 - mae: 12.7540 - acc: 0.0000e+00 - val_loss: 290.4351 - val_mae: 14.6019 - val_acc: 0.0000e+00\n",
      "Epoch 101/500\n",
      "276/276 [==============================] - 0s 57us/step - loss: 233.6303 - mae: 12.6405 - acc: 0.0000e+00 - val_loss: 286.4513 - val_mae: 14.4833 - val_acc: 0.0000e+00\n",
      "Epoch 102/500\n",
      "276/276 [==============================] - 0s 57us/step - loss: 230.0783 - mae: 12.5208 - acc: 0.0000e+00 - val_loss: 281.9947 - val_mae: 14.3531 - val_acc: 0.0000e+00\n",
      "Epoch 103/500\n",
      "276/276 [==============================] - 0s 0us/step - loss: 226.2647 - mae: 12.3945 - acc: 0.0000e+00 - val_loss: 277.3266 - val_mae: 14.2151 - val_acc: 0.0000e+00\n",
      "Epoch 104/500\n",
      "276/276 [==============================] - 0s 0us/step - loss: 222.1146 - mae: 12.2608 - acc: 0.0000e+00 - val_loss: 272.3885 - val_mae: 14.0696 - val_acc: 0.0000e+00\n",
      "Epoch 105/500\n",
      "276/276 [==============================] - 0s 57us/step - loss: 217.6852 - mae: 12.1128 - acc: 0.0000e+00 - val_loss: 266.8358 - val_mae: 13.9069 - val_acc: 0.0000e+00\n",
      "Epoch 106/500\n",
      "276/276 [==============================] - 0s 0us/step - loss: 212.6211 - mae: 11.9514 - acc: 0.0000e+00 - val_loss: 261.1967 - val_mae: 13.7388 - val_acc: 0.0000e+00\n",
      "Epoch 107/500\n",
      "276/276 [==============================] - 0s 0us/step - loss: 207.2935 - mae: 11.7779 - acc: 0.0000e+00 - val_loss: 255.0508 - val_mae: 13.5506 - val_acc: 0.0000e+00\n",
      "Epoch 108/500\n",
      "276/276 [==============================] - 0s 57us/step - loss: 201.3956 - mae: 11.5858 - acc: 0.0000e+00 - val_loss: 248.4268 - val_mae: 13.3502 - val_acc: 0.0000e+00\n",
      "Epoch 109/500\n",
      "276/276 [==============================] - 0s 0us/step - loss: 195.1300 - mae: 11.3843 - acc: 0.0000e+00 - val_loss: 241.4357 - val_mae: 13.1404 - val_acc: 0.0000e+00\n",
      "Epoch 110/500\n",
      "276/276 [==============================] - 0s 0us/step - loss: 188.5270 - mae: 11.1641 - acc: 0.0000e+00 - val_loss: 233.8582 - val_mae: 12.9158 - val_acc: 0.0000e+00\n",
      "Epoch 111/500\n",
      "276/276 [==============================] - 0s 57us/step - loss: 181.7052 - mae: 10.9400 - acc: 0.0000e+00 - val_loss: 225.9872 - val_mae: 12.6773 - val_acc: 0.0000e+00\n",
      "Epoch 112/500\n",
      "276/276 [==============================] - 0s 57us/step - loss: 174.5706 - mae: 10.7025 - acc: 0.0000e+00 - val_loss: 217.6727 - val_mae: 12.4232 - val_acc: 0.0000e+00\n",
      "Epoch 113/500\n",
      "276/276 [==============================] - 0s 0us/step - loss: 167.5130 - mae: 10.4565 - acc: 0.0000e+00 - val_loss: 208.8920 - val_mae: 12.1566 - val_acc: 0.0000e+00\n",
      "Epoch 114/500\n",
      "276/276 [==============================] - 0s 56us/step - loss: 160.1744 - mae: 10.2076 - acc: 0.0000e+00 - val_loss: 200.1831 - val_mae: 11.8867 - val_acc: 0.0000e+00\n",
      "Epoch 115/500\n",
      "276/276 [==============================] - 0s 57us/step - loss: 153.0929 - mae: 9.9524 - acc: 0.0036 - val_loss: 191.3530 - val_mae: 11.6069 - val_acc: 0.0000e+00\n",
      "Epoch 116/500\n",
      "276/276 [==============================] - 0s 0us/step - loss: 145.8138 - mae: 9.7010 - acc: 0.0036 - val_loss: 182.6512 - val_mae: 11.3214 - val_acc: 0.0000e+00\n",
      "Epoch 117/500\n",
      "276/276 [==============================] - 0s 57us/step - loss: 138.9462 - mae: 9.4447 - acc: 0.0036 - val_loss: 173.9827 - val_mae: 11.0295 - val_acc: 0.0000e+00\n",
      "Epoch 118/500\n",
      "276/276 [==============================] - 0s 57us/step - loss: 132.0526 - mae: 9.1924 - acc: 0.0036 - val_loss: 165.7449 - val_mae: 10.7428 - val_acc: 0.0000e+00\n",
      "Epoch 119/500\n",
      "276/276 [==============================] - 0s 0us/step - loss: 125.4231 - mae: 8.9418 - acc: 0.0036 - val_loss: 157.8811 - val_mae: 10.4667 - val_acc: 0.0000e+00\n",
      "Epoch 120/500\n",
      "276/276 [==============================] - 0s 57us/step - loss: 119.1455 - mae: 8.6971 - acc: 0.0072 - val_loss: 150.2604 - val_mae: 10.1927 - val_acc: 0.0000e+00\n",
      "Epoch 121/500\n",
      "276/276 [==============================] - 0s 57us/step - loss: 113.3235 - mae: 8.4581 - acc: 0.0072 - val_loss: 142.6960 - val_mae: 9.9125 - val_acc: 0.0000e+00\n",
      "Epoch 122/500\n",
      "276/276 [==============================] - 0s 0us/step - loss: 107.5570 - mae: 8.2238 - acc: 0.0072 - val_loss: 135.3996 - val_mae: 9.6345 - val_acc: 0.0000e+00\n",
      "Epoch 123/500\n",
      "276/276 [==============================] - 0s 0us/step - loss: 101.8578 - mae: 7.9842 - acc: 0.0036 - val_loss: 128.5901 - val_mae: 9.3654 - val_acc: 0.0000e+00\n",
      "Epoch 124/500\n",
      "276/276 [==============================] - 0s 57us/step - loss: 96.3616 - mae: 7.7620 - acc: 0.0000e+00 - val_loss: 122.2309 - val_mae: 9.1033 - val_acc: 0.0000e+00\n",
      "Epoch 125/500\n",
      "276/276 [==============================] - 0s 57us/step - loss: 91.4011 - mae: 7.5419 - acc: 0.0000e+00 - val_loss: 115.9865 - val_mae: 8.8408 - val_acc: 0.0000e+00\n",
      "Epoch 126/500\n",
      "276/276 [==============================] - 0s 0us/step - loss: 86.8048 - mae: 7.3253 - acc: 0.0000e+00 - val_loss: 109.8852 - val_mae: 8.5734 - val_acc: 0.0000e+00\n",
      "Epoch 127/500\n",
      "276/276 [==============================] - 0s 57us/step - loss: 82.1929 - mae: 7.1084 - acc: 0.0000e+00 - val_loss: 104.1787 - val_mae: 8.3149 - val_acc: 0.0000e+00\n",
      "Epoch 128/500\n",
      "276/276 [==============================] - 0s 57us/step - loss: 77.7915 - mae: 6.9055 - acc: 0.0000e+00 - val_loss: 98.9585 - val_mae: 8.0731 - val_acc: 0.0000e+00\n",
      "Epoch 129/500\n",
      "276/276 [==============================] - 0s 0us/step - loss: 73.9890 - mae: 6.7208 - acc: 0.0036 - val_loss: 93.7801 - val_mae: 7.8302 - val_acc: 0.0000e+00\n",
      "Epoch 130/500\n",
      "276/276 [==============================] - 0s 57us/step - loss: 70.0935 - mae: 6.5308 - acc: 0.0036 - val_loss: 89.0509 - val_mae: 7.6069 - val_acc: 0.0108\n",
      "Epoch 131/500\n",
      "276/276 [==============================] - 0s 57us/step - loss: 66.5505 - mae: 6.3564 - acc: 0.0000e+00 - val_loss: 84.6858 - val_mae: 7.4034 - val_acc: 0.0108\n",
      "Epoch 132/500\n",
      "276/276 [==============================] - 0s 0us/step - loss: 63.3114 - mae: 6.1964 - acc: 0.0000e+00 - val_loss: 80.5346 - val_mae: 7.2116 - val_acc: 0.0000e+00\n",
      "Epoch 133/500\n",
      "276/276 [==============================] - 0s 0us/step - loss: 60.3601 - mae: 6.0466 - acc: 0.0000e+00 - val_loss: 76.5899 - val_mae: 7.0224 - val_acc: 0.0000e+00\n",
      "Epoch 134/500\n",
      "276/276 [==============================] - 0s 58us/step - loss: 57.3199 - mae: 5.8909 - acc: 0.0036 - val_loss: 73.2144 - val_mae: 6.8558 - val_acc: 0.0108\n",
      "Epoch 135/500\n",
      "276/276 [==============================] - 0s 0us/step - loss: 54.8182 - mae: 5.7535 - acc: 0.0036 - val_loss: 69.8722 - val_mae: 6.6932 - val_acc: 0.0108\n",
      "Epoch 136/500\n",
      "276/276 [==============================] - 0s 0us/step - loss: 52.4813 - mae: 5.6293 - acc: 0.0036 - val_loss: 66.6762 - val_mae: 6.5385 - val_acc: 0.0000e+00\n",
      "Epoch 137/500\n",
      "276/276 [==============================] - 0s 57us/step - loss: 50.1700 - mae: 5.4942 - acc: 0.0036 - val_loss: 63.8353 - val_mae: 6.3966 - val_acc: 0.0000e+00\n",
      "Epoch 138/500\n",
      "276/276 [==============================] - 0s 57us/step - loss: 48.0719 - mae: 5.3763 - acc: 0.0036 - val_loss: 61.2245 - val_mae: 6.2632 - val_acc: 0.0000e+00\n",
      "Epoch 139/500\n",
      "276/276 [==============================] - 0s 0us/step - loss: 46.2026 - mae: 5.2657 - acc: 0.0072 - val_loss: 58.7004 - val_mae: 6.1375 - val_acc: 0.0000e+00\n",
      "Epoch 140/500\n",
      "276/276 [==============================] - 0s 57us/step - loss: 44.3840 - mae: 5.1688 - acc: 0.0109 - val_loss: 56.3984 - val_mae: 6.0207 - val_acc: 0.0000e+00\n",
      "Epoch 141/500\n",
      "276/276 [==============================] - 0s 57us/step - loss: 42.7961 - mae: 5.0807 - acc: 0.0109 - val_loss: 54.1687 - val_mae: 5.9077 - val_acc: 0.0000e+00\n",
      "Epoch 142/500\n",
      "276/276 [==============================] - 0s 0us/step - loss: 41.2768 - mae: 4.9967 - acc: 0.0109 - val_loss: 52.1116 - val_mae: 5.8000 - val_acc: 0.0000e+00\n",
      "Epoch 143/500\n",
      "276/276 [==============================] - 0s 57us/step - loss: 39.8211 - mae: 4.9169 - acc: 0.0072 - val_loss: 50.2444 - val_mae: 5.7001 - val_acc: 0.0000e+00\n",
      "Epoch 144/500\n",
      "276/276 [==============================] - 0s 61us/step - loss: 38.5186 - mae: 4.8455 - acc: 0.0072 - val_loss: 48.5077 - val_mae: 5.6088 - val_acc: 0.0000e+00\n",
      "Epoch 145/500\n",
      "276/276 [==============================] - 0s 15us/step - loss: 37.3456 - mae: 4.7750 - acc: 0.0072 - val_loss: 46.9247 - val_mae: 5.5235 - val_acc: 0.0000e+00\n",
      "Epoch 146/500\n",
      "276/276 [==============================] - 0s 57us/step - loss: 36.2310 - mae: 4.7101 - acc: 0.0072 - val_loss: 45.4395 - val_mae: 5.4396 - val_acc: 0.0000e+00\n",
      "Epoch 147/500\n",
      "276/276 [==============================] - 0s 0us/step - loss: 35.2271 - mae: 4.6493 - acc: 0.0072 - val_loss: 44.0808 - val_mae: 5.3597 - val_acc: 0.0108\n",
      "Epoch 148/500\n",
      "276/276 [==============================] - 0s 57us/step - loss: 34.3339 - mae: 4.5886 - acc: 0.0036 - val_loss: 42.8339 - val_mae: 5.2843 - val_acc: 0.0108\n",
      "Epoch 149/500\n",
      "276/276 [==============================] - 0s 57us/step - loss: 33.4331 - mae: 4.5326 - acc: 0.0036 - val_loss: 41.6951 - val_mae: 5.2172 - val_acc: 0.0108\n",
      "Epoch 150/500\n",
      "276/276 [==============================] - 0s 0us/step - loss: 32.6563 - mae: 4.4829 - acc: 0.0036 - val_loss: 40.5833 - val_mae: 5.1489 - val_acc: 0.0000e+00\n",
      "Epoch 151/500\n",
      "276/276 [==============================] - 0s 57us/step - loss: 31.8649 - mae: 4.4339 - acc: 0.0036 - val_loss: 39.5799 - val_mae: 5.0843 - val_acc: 0.0000e+00\n",
      "Epoch 152/500\n",
      "276/276 [==============================] - 0s 57us/step - loss: 31.1757 - mae: 4.3894 - acc: 0.0072 - val_loss: 38.6631 - val_mae: 5.0282 - val_acc: 0.0000e+00\n",
      "Epoch 153/500\n",
      "276/276 [==============================] - 0s 0us/step - loss: 30.5861 - mae: 4.3568 - acc: 0.0072 - val_loss: 37.7107 - val_mae: 4.9745 - val_acc: 0.0000e+00\n",
      "Epoch 154/500\n",
      "276/276 [==============================] - 0s 57us/step - loss: 29.9102 - mae: 4.3175 - acc: 0.0072 - val_loss: 36.9308 - val_mae: 4.9345 - val_acc: 0.0000e+00\n",
      "Epoch 155/500\n",
      "276/276 [==============================] - 0s 57us/step - loss: 29.3921 - mae: 4.2898 - acc: 0.0072 - val_loss: 36.1658 - val_mae: 4.8947 - val_acc: 0.0000e+00\n",
      "Epoch 156/500\n",
      "276/276 [==============================] - 0s 0us/step - loss: 28.8512 - mae: 4.2595 - acc: 0.0072 - val_loss: 35.4702 - val_mae: 4.8565 - val_acc: 0.0000e+00\n",
      "Epoch 157/500\n",
      "276/276 [==============================] - 0s 0us/step - loss: 28.3792 - mae: 4.2311 - acc: 0.0036 - val_loss: 34.8020 - val_mae: 4.8199 - val_acc: 0.0000e+00\n",
      "Epoch 158/500\n",
      "276/276 [==============================] - 0s 57us/step - loss: 27.9308 - mae: 4.2015 - acc: 0.0036 - val_loss: 34.1235 - val_mae: 4.7811 - val_acc: 0.0000e+00\n",
      "Epoch 159/500\n",
      "276/276 [==============================] - 0s 0us/step - loss: 27.4995 - mae: 4.1801 - acc: 0.0036 - val_loss: 33.4994 - val_mae: 4.7442 - val_acc: 0.0000e+00\n",
      "Epoch 160/500\n",
      "276/276 [==============================] - 0s 56us/step - loss: 27.0602 - mae: 4.1515 - acc: 0.0036 - val_loss: 32.9900 - val_mae: 4.7138 - val_acc: 0.0000e+00\n",
      "Epoch 161/500\n",
      "276/276 [==============================] - 0s 57us/step - loss: 26.6726 - mae: 4.1240 - acc: 0.0036 - val_loss: 32.4882 - val_mae: 4.6821 - val_acc: 0.0000e+00\n",
      "Epoch 162/500\n",
      "276/276 [==============================] - 0s 0us/step - loss: 26.3203 - mae: 4.1018 - acc: 0.0036 - val_loss: 31.9741 - val_mae: 4.6496 - val_acc: 0.0000e+00\n",
      "Epoch 163/500\n",
      "276/276 [==============================] - 0s 57us/step - loss: 25.9425 - mae: 4.0758 - acc: 0.0036 - val_loss: 31.5009 - val_mae: 4.6183 - val_acc: 0.0000e+00\n",
      "Epoch 164/500\n",
      "276/276 [==============================] - 0s 61us/step - loss: 25.5820 - mae: 4.0510 - acc: 0.0036 - val_loss: 31.0427 - val_mae: 4.5869 - val_acc: 0.0000e+00\n",
      "Epoch 165/500\n",
      "276/276 [==============================] - 0s 0us/step - loss: 25.2423 - mae: 4.0278 - acc: 0.0036 - val_loss: 30.6252 - val_mae: 4.5574 - val_acc: 0.0000e+00\n",
      "Epoch 166/500\n",
      "276/276 [==============================] - 0s 57us/step - loss: 24.9146 - mae: 4.0031 - acc: 0.0000e+00 - val_loss: 30.1940 - val_mae: 4.5275 - val_acc: 0.0000e+00\n",
      "Epoch 167/500\n",
      "276/276 [==============================] - 0s 57us/step - loss: 24.5950 - mae: 3.9780 - acc: 0.0000e+00 - val_loss: 29.7993 - val_mae: 4.5000 - val_acc: 0.0000e+00\n",
      "Epoch 168/500\n",
      "276/276 [==============================] - 0s 0us/step - loss: 24.2808 - mae: 3.9541 - acc: 0.0000e+00 - val_loss: 29.4275 - val_mae: 4.4758 - val_acc: 0.0000e+00\n",
      "Epoch 169/500\n",
      "276/276 [==============================] - 0s 0us/step - loss: 23.9845 - mae: 3.9355 - acc: 0.0000e+00 - val_loss: 29.0836 - val_mae: 4.4533 - val_acc: 0.0000e+00\n",
      "Epoch 170/500\n",
      "276/276 [==============================] - 0s 57us/step - loss: 23.7003 - mae: 3.9135 - acc: 0.0000e+00 - val_loss: 28.7282 - val_mae: 4.4291 - val_acc: 0.0000e+00\n",
      "Epoch 171/500\n",
      "276/276 [==============================] - 0s 0us/step - loss: 23.4247 - mae: 3.8917 - acc: 0.0000e+00 - val_loss: 28.3918 - val_mae: 4.4063 - val_acc: 0.0000e+00\n",
      "Epoch 172/500\n",
      "276/276 [==============================] - 0s 0us/step - loss: 23.1369 - mae: 3.8690 - acc: 0.0036 - val_loss: 28.0414 - val_mae: 4.3821 - val_acc: 0.0000e+00\n",
      "Epoch 173/500\n",
      "276/276 [==============================] - 0s 57us/step - loss: 22.8564 - mae: 3.8489 - acc: 0.0036 - val_loss: 27.7237 - val_mae: 4.3593 - val_acc: 0.0000e+00\n",
      "Epoch 174/500\n",
      "276/276 [==============================] - 0s 0us/step - loss: 22.5882 - mae: 3.8267 - acc: 0.0036 - val_loss: 27.3944 - val_mae: 4.3352 - val_acc: 0.0000e+00\n",
      "Epoch 175/500\n",
      "276/276 [==============================] - 0s 0us/step - loss: 22.3256 - mae: 3.8078 - acc: 0.0036 - val_loss: 27.0515 - val_mae: 4.3100 - val_acc: 0.0000e+00\n",
      "Epoch 176/500\n",
      "276/276 [==============================] - 0s 57us/step - loss: 22.0630 - mae: 3.7891 - acc: 0.0036 - val_loss: 26.7541 - val_mae: 4.2892 - val_acc: 0.0000e+00\n",
      "Epoch 177/500\n",
      "276/276 [==============================] - 0s 0us/step - loss: 21.7943 - mae: 3.7677 - acc: 0.0036 - val_loss: 26.4604 - val_mae: 4.2688 - val_acc: 0.0000e+00\n",
      "Epoch 178/500\n",
      "276/276 [==============================] - 0s 0us/step - loss: 21.5622 - mae: 3.7479 - acc: 0.0036 - val_loss: 26.1850 - val_mae: 4.2501 - val_acc: 0.0000e+00\n",
      "Epoch 179/500\n",
      "276/276 [==============================] - 0s 57us/step - loss: 21.3329 - mae: 3.7317 - acc: 0.0036 - val_loss: 25.9270 - val_mae: 4.2330 - val_acc: 0.0000e+00\n",
      "Epoch 180/500\n",
      "276/276 [==============================] - 0s 0us/step - loss: 21.1068 - mae: 3.7124 - acc: 0.0072 - val_loss: 25.6462 - val_mae: 4.2134 - val_acc: 0.0000e+00\n",
      "Epoch 181/500\n",
      "276/276 [==============================] - 0s 0us/step - loss: 20.8832 - mae: 3.6951 - acc: 0.0072 - val_loss: 25.3666 - val_mae: 4.1938 - val_acc: 0.0000e+00\n",
      "Epoch 182/500\n",
      "276/276 [==============================] - 0s 57us/step - loss: 20.6609 - mae: 3.6737 - acc: 0.0072 - val_loss: 25.1065 - val_mae: 4.1739 - val_acc: 0.0000e+00\n",
      "Epoch 183/500\n",
      "276/276 [==============================] - 0s 57us/step - loss: 20.4207 - mae: 3.6524 - acc: 0.0072 - val_loss: 24.8427 - val_mae: 4.1539 - val_acc: 0.0000e+00\n",
      "Epoch 184/500\n",
      "276/276 [==============================] - 0s 0us/step - loss: 20.2157 - mae: 3.6357 - acc: 0.0072 - val_loss: 24.5697 - val_mae: 4.1334 - val_acc: 0.0000e+00\n",
      "Epoch 185/500\n",
      "276/276 [==============================] - 0s 57us/step - loss: 20.0019 - mae: 3.6206 - acc: 0.0072 - val_loss: 24.3151 - val_mae: 4.1142 - val_acc: 0.0000e+00\n",
      "Epoch 186/500\n",
      "276/276 [==============================] - 0s 57us/step - loss: 19.7800 - mae: 3.6029 - acc: 0.0072 - val_loss: 24.0761 - val_mae: 4.0959 - val_acc: 0.0000e+00\n",
      "Epoch 187/500\n",
      "276/276 [==============================] - 0s 0us/step - loss: 19.5670 - mae: 3.5841 - acc: 0.0072 - val_loss: 23.8234 - val_mae: 4.0759 - val_acc: 0.0000e+00\n",
      "Epoch 188/500\n",
      "276/276 [==============================] - 0s 57us/step - loss: 19.3712 - mae: 3.5663 - acc: 0.0072 - val_loss: 23.5839 - val_mae: 4.0565 - val_acc: 0.0000e+00\n",
      "Epoch 189/500\n",
      "276/276 [==============================] - 0s 57us/step - loss: 19.1639 - mae: 3.5468 - acc: 0.0072 - val_loss: 23.3556 - val_mae: 4.0388 - val_acc: 0.0000e+00\n",
      "Epoch 190/500\n",
      "276/276 [==============================] - 0s 0us/step - loss: 18.9670 - mae: 3.5317 - acc: 0.0072 - val_loss: 23.1091 - val_mae: 4.0181 - val_acc: 0.0000e+00\n",
      "Epoch 191/500\n",
      "276/276 [==============================] - 0s 0us/step - loss: 18.7843 - mae: 3.5169 - acc: 0.0072 - val_loss: 22.8856 - val_mae: 4.0000 - val_acc: 0.0000e+00\n",
      "Epoch 192/500\n",
      "276/276 [==============================] - 0s 57us/step - loss: 18.5882 - mae: 3.5004 - acc: 0.0072 - val_loss: 22.6907 - val_mae: 3.9838 - val_acc: 0.0000e+00\n",
      "Epoch 193/500\n",
      "276/276 [==============================] - 0s 57us/step - loss: 18.3997 - mae: 3.4827 - acc: 0.0072 - val_loss: 22.4750 - val_mae: 3.9653 - val_acc: 0.0000e+00\n",
      "Epoch 194/500\n",
      "276/276 [==============================] - 0s 0us/step - loss: 18.2332 - mae: 3.4658 - acc: 0.0072 - val_loss: 22.2671 - val_mae: 3.9474 - val_acc: 0.0000e+00\n",
      "Epoch 195/500\n",
      "276/276 [==============================] - 0s 57us/step - loss: 18.0628 - mae: 3.4496 - acc: 0.0072 - val_loss: 22.0639 - val_mae: 3.9296 - val_acc: 0.0000e+00\n",
      "Epoch 196/500\n",
      "276/276 [==============================] - 0s 57us/step - loss: 17.8987 - mae: 3.4333 - acc: 0.0072 - val_loss: 21.8631 - val_mae: 3.9116 - val_acc: 0.0000e+00\n",
      "Epoch 197/500\n",
      "276/276 [==============================] - 0s 0us/step - loss: 17.7481 - mae: 3.4183 - acc: 0.0036 - val_loss: 21.6599 - val_mae: 3.8935 - val_acc: 0.0000e+00\n",
      "Epoch 198/500\n",
      "276/276 [==============================] - 0s 57us/step - loss: 17.5833 - mae: 3.4042 - acc: 0.0036 - val_loss: 21.4698 - val_mae: 3.8765 - val_acc: 0.0000e+00\n",
      "Epoch 199/500\n",
      "276/276 [==============================] - 0s 61us/step - loss: 17.4317 - mae: 3.3899 - acc: 0.0036 - val_loss: 21.2836 - val_mae: 3.8594 - val_acc: 0.0000e+00\n",
      "Epoch 200/500\n",
      "276/276 [==============================] - 0s 0us/step - loss: 17.2810 - mae: 3.3762 - acc: 0.0000e+00 - val_loss: 21.0697 - val_mae: 3.8394 - val_acc: 0.0000e+00\n",
      "Epoch 201/500\n",
      "276/276 [==============================] - 0s 57us/step - loss: 17.1293 - mae: 3.3626 - acc: 0.0000e+00 - val_loss: 20.8947 - val_mae: 3.8227 - val_acc: 0.0000e+00\n",
      "Epoch 202/500\n",
      "276/276 [==============================] - 0s 57us/step - loss: 16.9959 - mae: 3.3511 - acc: 0.0000e+00 - val_loss: 20.7103 - val_mae: 3.8061 - val_acc: 0.0000e+00\n",
      "Epoch 203/500\n",
      "276/276 [==============================] - 0s 0us/step - loss: 16.8409 - mae: 3.3387 - acc: 0.0000e+00 - val_loss: 20.5074 - val_mae: 3.7865 - val_acc: 0.0000e+00\n",
      "Epoch 204/500\n",
      "276/276 [==============================] - 0s 57us/step - loss: 16.6998 - mae: 3.3251 - acc: 0.0000e+00 - val_loss: 20.3409 - val_mae: 3.7703 - val_acc: 0.0000e+00\n",
      "Epoch 205/500\n",
      "276/276 [==============================] - 0s 57us/step - loss: 16.5532 - mae: 3.3104 - acc: 0.0000e+00 - val_loss: 20.1570 - val_mae: 3.7527 - val_acc: 0.0000e+00\n",
      "Epoch 206/500\n",
      "276/276 [==============================] - 0s 0us/step - loss: 16.4267 - mae: 3.3013 - acc: 0.0000e+00 - val_loss: 19.9880 - val_mae: 3.7370 - val_acc: 0.0000e+00\n",
      "Epoch 207/500\n",
      "276/276 [==============================] - 0s 57us/step - loss: 16.2869 - mae: 3.2896 - acc: 0.0000e+00 - val_loss: 19.8056 - val_mae: 3.7194 - val_acc: 0.0000e+00\n",
      "Epoch 208/500\n",
      "276/276 [==============================] - 0s 57us/step - loss: 16.1663 - mae: 3.2805 - acc: 0.0000e+00 - val_loss: 19.6196 - val_mae: 3.7003 - val_acc: 0.0000e+00\n",
      "Epoch 209/500\n",
      "276/276 [==============================] - 0s 0us/step - loss: 16.0318 - mae: 3.2660 - acc: 0.0000e+00 - val_loss: 19.4674 - val_mae: 3.6859 - val_acc: 0.0000e+00\n",
      "Epoch 210/500\n",
      "276/276 [==============================] - 0s 57us/step - loss: 15.9045 - mae: 3.2533 - acc: 0.0000e+00 - val_loss: 19.3083 - val_mae: 3.6698 - val_acc: 0.0000e+00\n",
      "Epoch 211/500\n",
      "276/276 [==============================] - 0s 57us/step - loss: 15.7881 - mae: 3.2437 - acc: 0.0000e+00 - val_loss: 19.1383 - val_mae: 3.6533 - val_acc: 0.0000e+00\n",
      "Epoch 212/500\n",
      "276/276 [==============================] - 0s 0us/step - loss: 15.6546 - mae: 3.2331 - acc: 0.0000e+00 - val_loss: 18.9655 - val_mae: 3.6364 - val_acc: 0.0000e+00\n",
      "Epoch 213/500\n",
      "276/276 [==============================] - 0s 57us/step - loss: 15.5306 - mae: 3.2202 - acc: 0.0000e+00 - val_loss: 18.8041 - val_mae: 3.6195 - val_acc: 0.0000e+00\n",
      "Epoch 214/500\n",
      "276/276 [==============================] - 0s 57us/step - loss: 15.4262 - mae: 3.2078 - acc: 0.0000e+00 - val_loss: 18.6535 - val_mae: 3.6036 - val_acc: 0.0000e+00\n",
      "Epoch 215/500\n",
      "276/276 [==============================] - 0s 0us/step - loss: 15.3007 - mae: 3.1953 - acc: 0.0000e+00 - val_loss: 18.4847 - val_mae: 3.5867 - val_acc: 0.0000e+00\n",
      "Epoch 216/500\n",
      "276/276 [==============================] - 0s 57us/step - loss: 15.1892 - mae: 3.1873 - acc: 0.0000e+00 - val_loss: 18.3125 - val_mae: 3.5688 - val_acc: 0.0000e+00\n",
      "Epoch 217/500\n",
      "276/276 [==============================] - 0s 57us/step - loss: 15.0756 - mae: 3.1770 - acc: 0.0000e+00 - val_loss: 18.1590 - val_mae: 3.5529 - val_acc: 0.0000e+00\n",
      "Epoch 218/500\n",
      "276/276 [==============================] - 0s 0us/step - loss: 14.9618 - mae: 3.1659 - acc: 0.0000e+00 - val_loss: 18.0035 - val_mae: 3.5364 - val_acc: 0.0000e+00\n",
      "Epoch 219/500\n",
      "276/276 [==============================] - 0s 57us/step - loss: 14.8595 - mae: 3.1536 - acc: 0.0000e+00 - val_loss: 17.8477 - val_mae: 3.5193 - val_acc: 0.0000e+00\n",
      "Epoch 220/500\n",
      "276/276 [==============================] - 0s 57us/step - loss: 14.7320 - mae: 3.1388 - acc: 0.0000e+00 - val_loss: 17.6828 - val_mae: 3.5024 - val_acc: 0.0000e+00\n",
      "Epoch 221/500\n",
      "276/276 [==============================] - 0s 0us/step - loss: 14.6244 - mae: 3.1294 - acc: 0.0000e+00 - val_loss: 17.5497 - val_mae: 3.4876 - val_acc: 0.0000e+00\n",
      "Epoch 222/500\n",
      "276/276 [==============================] - 0s 57us/step - loss: 14.5428 - mae: 3.1225 - acc: 0.0000e+00 - val_loss: 17.3884 - val_mae: 3.4704 - val_acc: 0.0108\n",
      "Epoch 223/500\n",
      "276/276 [==============================] - 0s 57us/step - loss: 14.4092 - mae: 3.1074 - acc: 0.0000e+00 - val_loss: 17.2277 - val_mae: 3.4527 - val_acc: 0.0108\n",
      "Epoch 224/500\n",
      "276/276 [==============================] - 0s 0us/step - loss: 14.3051 - mae: 3.0947 - acc: 0.0000e+00 - val_loss: 17.0794 - val_mae: 3.4362 - val_acc: 0.0108\n",
      "Epoch 225/500\n",
      "276/276 [==============================] - 0s 57us/step - loss: 14.2147 - mae: 3.0845 - acc: 0.0000e+00 - val_loss: 16.9348 - val_mae: 3.4199 - val_acc: 0.0108\n",
      "Epoch 226/500\n",
      "276/276 [==============================] - 0s 57us/step - loss: 14.1091 - mae: 3.0723 - acc: 0.0000e+00 - val_loss: 16.8082 - val_mae: 3.4068 - val_acc: 0.0108\n",
      "Epoch 227/500\n",
      "276/276 [==============================] - 0s 0us/step - loss: 14.0047 - mae: 3.0618 - acc: 0.0000e+00 - val_loss: 16.6744 - val_mae: 3.3919 - val_acc: 0.0108\n",
      "Epoch 228/500\n",
      "276/276 [==============================] - 0s 57us/step - loss: 13.9063 - mae: 3.0504 - acc: 0.0000e+00 - val_loss: 16.5367 - val_mae: 3.3771 - val_acc: 0.0108\n",
      "Epoch 229/500\n",
      "276/276 [==============================] - 0s 57us/step - loss: 13.8098 - mae: 3.0410 - acc: 0.0000e+00 - val_loss: 16.4112 - val_mae: 3.3650 - val_acc: 0.0108\n",
      "Epoch 230/500\n",
      "276/276 [==============================] - 0s 0us/step - loss: 13.7230 - mae: 3.0330 - acc: 0.0000e+00 - val_loss: 16.2622 - val_mae: 3.3489 - val_acc: 0.0108\n",
      "Epoch 231/500\n",
      "276/276 [==============================] - 0s 57us/step - loss: 13.6245 - mae: 3.0231 - acc: 0.0036 - val_loss: 16.1385 - val_mae: 3.3369 - val_acc: 0.0108\n",
      "Epoch 232/500\n",
      "276/276 [==============================] - 0s 57us/step - loss: 13.5225 - mae: 3.0097 - acc: 0.0036 - val_loss: 16.0109 - val_mae: 3.3240 - val_acc: 0.0108\n",
      "Epoch 233/500\n",
      "276/276 [==============================] - 0s 0us/step - loss: 13.4243 - mae: 2.9990 - acc: 0.0036 - val_loss: 15.8868 - val_mae: 3.3125 - val_acc: 0.0108\n",
      "Epoch 234/500\n",
      "276/276 [==============================] - 0s 57us/step - loss: 13.3320 - mae: 2.9878 - acc: 0.0036 - val_loss: 15.7833 - val_mae: 3.3034 - val_acc: 0.0108\n",
      "Epoch 235/500\n",
      "276/276 [==============================] - 0s 57us/step - loss: 13.2435 - mae: 2.9766 - acc: 0.0036 - val_loss: 15.6489 - val_mae: 3.2900 - val_acc: 0.0108\n",
      "Epoch 236/500\n",
      "276/276 [==============================] - 0s 0us/step - loss: 13.1580 - mae: 2.9659 - acc: 0.0036 - val_loss: 15.4979 - val_mae: 3.2737 - val_acc: 0.0108\n",
      "Epoch 237/500\n",
      "276/276 [==============================] - 0s 56us/step - loss: 13.0720 - mae: 2.9530 - acc: 0.0036 - val_loss: 15.3803 - val_mae: 3.2620 - val_acc: 0.0108\n",
      "Epoch 238/500\n",
      "276/276 [==============================] - 0s 57us/step - loss: 12.9836 - mae: 2.9443 - acc: 0.0036 - val_loss: 15.2611 - val_mae: 3.2498 - val_acc: 0.0108\n",
      "Epoch 239/500\n",
      "276/276 [==============================] - 0s 0us/step - loss: 12.8923 - mae: 2.9338 - acc: 0.0036 - val_loss: 15.1258 - val_mae: 3.2355 - val_acc: 0.0108\n",
      "Epoch 240/500\n",
      "276/276 [==============================] - 0s 57us/step - loss: 12.8019 - mae: 2.9239 - acc: 0.0036 - val_loss: 15.0082 - val_mae: 3.2235 - val_acc: 0.0108\n",
      "Epoch 241/500\n",
      "276/276 [==============================] - 0s 57us/step - loss: 12.7266 - mae: 2.9158 - acc: 0.0036 - val_loss: 14.9115 - val_mae: 3.2144 - val_acc: 0.0108\n",
      "Epoch 242/500\n",
      "276/276 [==============================] - 0s 0us/step - loss: 12.6342 - mae: 2.9043 - acc: 0.0036 - val_loss: 14.7997 - val_mae: 3.2030 - val_acc: 0.0108\n",
      "Epoch 243/500\n",
      "276/276 [==============================] - 0s 57us/step - loss: 12.5517 - mae: 2.8909 - acc: 0.0036 - val_loss: 14.6952 - val_mae: 3.1922 - val_acc: 0.0108\n",
      "Epoch 244/500\n",
      "276/276 [==============================] - 0s 57us/step - loss: 12.4739 - mae: 2.8783 - acc: 0.0036 - val_loss: 14.5835 - val_mae: 3.1799 - val_acc: 0.0000e+00\n",
      "Epoch 245/500\n",
      "276/276 [==============================] - 0s 0us/step - loss: 12.3902 - mae: 2.8681 - acc: 0.0036 - val_loss: 14.4723 - val_mae: 3.1681 - val_acc: 0.0000e+00\n",
      "Epoch 246/500\n",
      "276/276 [==============================] - 0s 57us/step - loss: 12.3029 - mae: 2.8584 - acc: 0.0036 - val_loss: 14.3638 - val_mae: 3.1559 - val_acc: 0.0000e+00\n",
      "Epoch 247/500\n",
      "276/276 [==============================] - 0s 57us/step - loss: 12.2273 - mae: 2.8477 - acc: 0.0036 - val_loss: 14.2724 - val_mae: 3.1466 - val_acc: 0.0000e+00\n",
      "Epoch 248/500\n",
      "276/276 [==============================] - 0s 0us/step - loss: 12.1441 - mae: 2.8360 - acc: 0.0036 - val_loss: 14.1769 - val_mae: 3.1365 - val_acc: 0.0000e+00\n",
      "Epoch 249/500\n",
      "276/276 [==============================] - 0s 57us/step - loss: 12.0706 - mae: 2.8263 - acc: 0.0036 - val_loss: 14.0825 - val_mae: 3.1264 - val_acc: 0.0000e+00\n",
      "Epoch 250/500\n",
      "276/276 [==============================] - 0s 57us/step - loss: 11.9964 - mae: 2.8183 - acc: 0.0036 - val_loss: 13.9601 - val_mae: 3.1123 - val_acc: 0.0000e+00\n",
      "Epoch 251/500\n",
      "276/276 [==============================] - 0s 0us/step - loss: 11.9262 - mae: 2.8089 - acc: 0.0036 - val_loss: 13.8900 - val_mae: 3.1052 - val_acc: 0.0000e+00\n",
      "Epoch 252/500\n",
      "276/276 [==============================] - 0s 57us/step - loss: 11.8514 - mae: 2.8016 - acc: 0.0036 - val_loss: 13.7837 - val_mae: 3.0930 - val_acc: 0.0000e+00\n",
      "Epoch 253/500\n",
      "276/276 [==============================] - 0s 57us/step - loss: 11.7776 - mae: 2.7923 - acc: 0.0036 - val_loss: 13.6707 - val_mae: 3.0790 - val_acc: 0.0000e+00\n",
      "Epoch 254/500\n",
      "276/276 [==============================] - 0s 0us/step - loss: 11.7092 - mae: 2.7823 - acc: 0.0036 - val_loss: 13.5818 - val_mae: 3.0694 - val_acc: 0.0000e+00\n",
      "Epoch 255/500\n",
      "276/276 [==============================] - 0s 57us/step - loss: 11.6414 - mae: 2.7718 - acc: 0.0036 - val_loss: 13.5054 - val_mae: 3.0603 - val_acc: 0.0000e+00\n",
      "Epoch 256/500\n",
      "276/276 [==============================] - 0s 57us/step - loss: 11.5725 - mae: 2.7644 - acc: 0.0036 - val_loss: 13.4039 - val_mae: 3.0483 - val_acc: 0.0000e+00\n",
      "Epoch 257/500\n",
      "276/276 [==============================] - 0s 0us/step - loss: 11.4978 - mae: 2.7560 - acc: 0.0036 - val_loss: 13.3147 - val_mae: 3.0386 - val_acc: 0.0000e+00\n",
      "Epoch 258/500\n",
      "276/276 [==============================] - 0s 57us/step - loss: 11.4372 - mae: 2.7490 - acc: 0.0036 - val_loss: 13.1931 - val_mae: 3.0234 - val_acc: 0.0000e+00\n",
      "Epoch 259/500\n",
      "276/276 [==============================] - 0s 57us/step - loss: 11.3760 - mae: 2.7384 - acc: 0.0036 - val_loss: 13.1286 - val_mae: 3.0155 - val_acc: 0.0000e+00\n",
      "Epoch 260/500\n",
      "276/276 [==============================] - 0s 0us/step - loss: 11.3116 - mae: 2.7308 - acc: 0.0036 - val_loss: 13.0405 - val_mae: 3.0053 - val_acc: 0.0000e+00\n",
      "Epoch 261/500\n",
      "276/276 [==============================] - 0s 57us/step - loss: 11.2432 - mae: 2.7234 - acc: 0.0036 - val_loss: 12.9536 - val_mae: 2.9944 - val_acc: 0.0000e+00\n",
      "Epoch 262/500\n",
      "276/276 [==============================] - 0s 57us/step - loss: 11.1792 - mae: 2.7140 - acc: 0.0036 - val_loss: 12.8875 - val_mae: 2.9864 - val_acc: 0.0000e+00\n",
      "Epoch 263/500\n",
      "276/276 [==============================] - 0s 0us/step - loss: 11.1179 - mae: 2.7062 - acc: 0.0072 - val_loss: 12.8334 - val_mae: 2.9802 - val_acc: 0.0000e+00\n",
      "Epoch 264/500\n",
      "276/276 [==============================] - 0s 57us/step - loss: 11.0565 - mae: 2.6971 - acc: 0.0109 - val_loss: 12.7458 - val_mae: 2.9688 - val_acc: 0.0000e+00\n",
      "Epoch 265/500\n",
      "276/276 [==============================] - 0s 0us/step - loss: 10.9993 - mae: 2.6900 - acc: 0.0072 - val_loss: 12.6622 - val_mae: 2.9584 - val_acc: 0.0000e+00\n",
      "Epoch 266/500\n",
      "276/276 [==============================] - 0s 0us/step - loss: 10.9474 - mae: 2.6842 - acc: 0.0109 - val_loss: 12.5919 - val_mae: 2.9492 - val_acc: 0.0000e+00\n",
      "Epoch 267/500\n",
      "276/276 [==============================] - 0s 57us/step - loss: 10.8928 - mae: 2.6761 - acc: 0.0109 - val_loss: 12.5040 - val_mae: 2.9375 - val_acc: 0.0000e+00\n",
      "Epoch 268/500\n",
      "276/276 [==============================] - 0s 0us/step - loss: 10.8232 - mae: 2.6680 - acc: 0.0109 - val_loss: 12.4088 - val_mae: 2.9258 - val_acc: 0.0108\n",
      "Epoch 269/500\n",
      "276/276 [==============================] - 0s 57us/step - loss: 10.7820 - mae: 2.6633 - acc: 0.0109 - val_loss: 12.3407 - val_mae: 2.9186 - val_acc: 0.0108\n",
      "Epoch 270/500\n",
      "276/276 [==============================] - 0s 57us/step - loss: 10.7167 - mae: 2.6563 - acc: 0.0109 - val_loss: 12.2541 - val_mae: 2.9089 - val_acc: 0.0108\n",
      "Epoch 271/500\n",
      "276/276 [==============================] - 0s 0us/step - loss: 10.6673 - mae: 2.6504 - acc: 0.0109 - val_loss: 12.1718 - val_mae: 2.8987 - val_acc: 0.0108\n",
      "Epoch 272/500\n",
      "276/276 [==============================] - 0s 57us/step - loss: 10.6172 - mae: 2.6435 - acc: 0.0109 - val_loss: 12.1063 - val_mae: 2.8912 - val_acc: 0.0108\n",
      "Epoch 273/500\n",
      "276/276 [==============================] - 0s 57us/step - loss: 10.5593 - mae: 2.6339 - acc: 0.0109 - val_loss: 12.0756 - val_mae: 2.8873 - val_acc: 0.0108\n",
      "Epoch 274/500\n",
      "276/276 [==============================] - 0s 0us/step - loss: 10.5101 - mae: 2.6272 - acc: 0.0109 - val_loss: 12.0090 - val_mae: 2.8793 - val_acc: 0.0108\n",
      "Epoch 275/500\n",
      "276/276 [==============================] - 0s 57us/step - loss: 10.4681 - mae: 2.6200 - acc: 0.0109 - val_loss: 11.9596 - val_mae: 2.8732 - val_acc: 0.0108\n",
      "Epoch 276/500\n",
      "276/276 [==============================] - 0s 57us/step - loss: 10.4142 - mae: 2.6137 - acc: 0.0109 - val_loss: 11.8680 - val_mae: 2.8619 - val_acc: 0.0108\n",
      "Epoch 277/500\n",
      "276/276 [==============================] - 0s 0us/step - loss: 10.3627 - mae: 2.6082 - acc: 0.0109 - val_loss: 11.8164 - val_mae: 2.8560 - val_acc: 0.0108\n",
      "Epoch 278/500\n",
      "276/276 [==============================] - 0s 57us/step - loss: 10.3170 - mae: 2.6033 - acc: 0.0109 - val_loss: 11.7338 - val_mae: 2.8475 - val_acc: 0.0108\n",
      "Epoch 279/500\n",
      "276/276 [==============================] - 0s 57us/step - loss: 10.2584 - mae: 2.5953 - acc: 0.0109 - val_loss: 11.6749 - val_mae: 2.8390 - val_acc: 0.0108\n",
      "Epoch 280/500\n",
      "276/276 [==============================] - 0s 0us/step - loss: 10.2112 - mae: 2.5894 - acc: 0.0109 - val_loss: 11.5897 - val_mae: 2.8301 - val_acc: 0.0108\n",
      "Epoch 281/500\n",
      "276/276 [==============================] - 0s 57us/step - loss: 10.1629 - mae: 2.5841 - acc: 0.0109 - val_loss: 11.5180 - val_mae: 2.8214 - val_acc: 0.0108\n",
      "Epoch 282/500\n",
      "276/276 [==============================] - 0s 57us/step - loss: 10.1116 - mae: 2.5773 - acc: 0.0109 - val_loss: 11.4530 - val_mae: 2.8151 - val_acc: 0.0108\n",
      "Epoch 283/500\n",
      "276/276 [==============================] - 0s 0us/step - loss: 10.0670 - mae: 2.5709 - acc: 0.0109 - val_loss: 11.4053 - val_mae: 2.8067 - val_acc: 0.0108\n",
      "Epoch 284/500\n",
      "276/276 [==============================] - 0s 56us/step - loss: 10.0130 - mae: 2.5640 - acc: 0.0109 - val_loss: 11.3453 - val_mae: 2.7993 - val_acc: 0.0108\n",
      "Epoch 285/500\n",
      "276/276 [==============================] - 0s 0us/step - loss: 9.9633 - mae: 2.5578 - acc: 0.0109 - val_loss: 11.2592 - val_mae: 2.7905 - val_acc: 0.0108\n",
      "Epoch 286/500\n",
      "276/276 [==============================] - 0s 57us/step - loss: 9.9136 - mae: 2.5520 - acc: 0.0109 - val_loss: 11.2138 - val_mae: 2.7848 - val_acc: 0.0108\n",
      "Epoch 287/500\n",
      "276/276 [==============================] - 0s 57us/step - loss: 9.8757 - mae: 2.5456 - acc: 0.0109 - val_loss: 11.1726 - val_mae: 2.7789 - val_acc: 0.0108\n",
      "Epoch 288/500\n",
      "276/276 [==============================] - 0s 0us/step - loss: 9.8397 - mae: 2.5429 - acc: 0.0145 - val_loss: 11.0763 - val_mae: 2.7688 - val_acc: 0.0108\n",
      "Epoch 289/500\n",
      "276/276 [==============================] - 0s 57us/step - loss: 9.7816 - mae: 2.5351 - acc: 0.0145 - val_loss: 11.0125 - val_mae: 2.7599 - val_acc: 0.0108\n",
      "Epoch 290/500\n",
      "276/276 [==============================] - 0s 57us/step - loss: 9.7373 - mae: 2.5277 - acc: 0.0145 - val_loss: 10.9794 - val_mae: 2.7535 - val_acc: 0.0108\n",
      "Epoch 291/500\n",
      "276/276 [==============================] - 0s 0us/step - loss: 9.6996 - mae: 2.5210 - acc: 0.0145 - val_loss: 10.9188 - val_mae: 2.7453 - val_acc: 0.0108\n",
      "Epoch 292/500\n",
      "276/276 [==============================] - 0s 57us/step - loss: 9.6591 - mae: 2.5148 - acc: 0.0145 - val_loss: 10.8763 - val_mae: 2.7392 - val_acc: 0.0108\n",
      "Epoch 293/500\n",
      "276/276 [==============================] - 0s 57us/step - loss: 9.6185 - mae: 2.5114 - acc: 0.0145 - val_loss: 10.8005 - val_mae: 2.7315 - val_acc: 0.0108\n",
      "Epoch 294/500\n",
      "276/276 [==============================] - 0s 0us/step - loss: 9.5780 - mae: 2.5079 - acc: 0.0145 - val_loss: 10.7354 - val_mae: 2.7245 - val_acc: 0.0108\n",
      "Epoch 295/500\n",
      "276/276 [==============================] - 0s 57us/step - loss: 9.5289 - mae: 2.5005 - acc: 0.0145 - val_loss: 10.7273 - val_mae: 2.7218 - val_acc: 0.0108\n",
      "Epoch 296/500\n",
      "276/276 [==============================] - 0s 0us/step - loss: 9.4863 - mae: 2.4937 - acc: 0.0145 - val_loss: 10.6714 - val_mae: 2.7148 - val_acc: 0.0108\n",
      "Epoch 297/500\n",
      "276/276 [==============================] - 0s 0us/step - loss: 9.4404 - mae: 2.4860 - acc: 0.0145 - val_loss: 10.6142 - val_mae: 2.7069 - val_acc: 0.0108\n",
      "Epoch 298/500\n",
      "276/276 [==============================] - 0s 57us/step - loss: 9.4134 - mae: 2.4812 - acc: 0.0145 - val_loss: 10.5961 - val_mae: 2.7035 - val_acc: 0.0108\n",
      "Epoch 299/500\n",
      "276/276 [==============================] - 0s 0us/step - loss: 9.3682 - mae: 2.4754 - acc: 0.0145 - val_loss: 10.5305 - val_mae: 2.6967 - val_acc: 0.0108\n",
      "Epoch 300/500\n",
      "276/276 [==============================] - 0s 57us/step - loss: 9.3323 - mae: 2.4698 - acc: 0.0145 - val_loss: 10.4766 - val_mae: 2.6892 - val_acc: 0.0108\n",
      "Epoch 301/500\n",
      "276/276 [==============================] - 0s 57us/step - loss: 9.2877 - mae: 2.4635 - acc: 0.0145 - val_loss: 10.4304 - val_mae: 2.6833 - val_acc: 0.0108\n",
      "Epoch 302/500\n",
      "276/276 [==============================] - 0s 0us/step - loss: 9.2635 - mae: 2.4597 - acc: 0.0145 - val_loss: 10.4031 - val_mae: 2.6790 - val_acc: 0.0108\n",
      "Epoch 303/500\n",
      "276/276 [==============================] - 0s 57us/step - loss: 9.2252 - mae: 2.4543 - acc: 0.0145 - val_loss: 10.3607 - val_mae: 2.6741 - val_acc: 0.0108\n",
      "Epoch 304/500\n",
      "276/276 [==============================] - 0s 57us/step - loss: 9.1940 - mae: 2.4507 - acc: 0.0145 - val_loss: 10.3408 - val_mae: 2.6706 - val_acc: 0.0108\n",
      "Epoch 305/500\n",
      "276/276 [==============================] - 0s 0us/step - loss: 9.1613 - mae: 2.4460 - acc: 0.0145 - val_loss: 10.3005 - val_mae: 2.6642 - val_acc: 0.0108\n",
      "Epoch 306/500\n",
      "276/276 [==============================] - 0s 57us/step - loss: 9.1260 - mae: 2.4403 - acc: 0.0181 - val_loss: 10.2714 - val_mae: 2.6593 - val_acc: 0.0108\n",
      "Epoch 307/500\n",
      "276/276 [==============================] - 0s 0us/step - loss: 9.0976 - mae: 2.4351 - acc: 0.0181 - val_loss: 10.2346 - val_mae: 2.6546 - val_acc: 0.0108\n",
      "Epoch 308/500\n",
      "276/276 [==============================] - 0s 0us/step - loss: 9.0702 - mae: 2.4315 - acc: 0.0181 - val_loss: 10.1826 - val_mae: 2.6473 - val_acc: 0.0108\n",
      "Epoch 309/500\n",
      "276/276 [==============================] - 0s 57us/step - loss: 9.0395 - mae: 2.4271 - acc: 0.0181 - val_loss: 10.1628 - val_mae: 2.6438 - val_acc: 0.0108\n",
      "Epoch 310/500\n",
      "276/276 [==============================] - 0s 0us/step - loss: 9.0163 - mae: 2.4232 - acc: 0.0181 - val_loss: 10.1455 - val_mae: 2.6408 - val_acc: 0.0108\n",
      "Epoch 311/500\n",
      "276/276 [==============================] - 0s 0us/step - loss: 9.0004 - mae: 2.4195 - acc: 0.0181 - val_loss: 10.1409 - val_mae: 2.6380 - val_acc: 0.0108\n",
      "Epoch 312/500\n",
      "276/276 [==============================] - 0s 61us/step - loss: 8.9536 - mae: 2.4122 - acc: 0.0181 - val_loss: 10.1009 - val_mae: 2.6325 - val_acc: 0.0108\n",
      "Epoch 313/500\n",
      "276/276 [==============================] - 0s 0us/step - loss: 8.9293 - mae: 2.4093 - acc: 0.0181 - val_loss: 10.0785 - val_mae: 2.6282 - val_acc: 0.0108\n",
      "Epoch 314/500\n",
      "276/276 [==============================] - 0s 57us/step - loss: 8.9012 - mae: 2.4047 - acc: 0.0181 - val_loss: 10.0433 - val_mae: 2.6239 - val_acc: 0.0108\n",
      "Epoch 315/500\n",
      "276/276 [==============================] - 0s 57us/step - loss: 8.8825 - mae: 2.4027 - acc: 0.0181 - val_loss: 10.0164 - val_mae: 2.6194 - val_acc: 0.0108\n",
      "Epoch 316/500\n",
      "276/276 [==============================] - 0s 0us/step - loss: 8.8495 - mae: 2.3968 - acc: 0.0181 - val_loss: 10.0063 - val_mae: 2.6160 - val_acc: 0.0108\n",
      "Epoch 317/500\n",
      "276/276 [==============================] - 0s 57us/step - loss: 8.8366 - mae: 2.3940 - acc: 0.0181 - val_loss: 9.9789 - val_mae: 2.6129 - val_acc: 0.0108\n",
      "Epoch 318/500\n",
      "276/276 [==============================] - 0s 57us/step - loss: 8.8005 - mae: 2.3886 - acc: 0.0181 - val_loss: 9.9773 - val_mae: 2.6103 - val_acc: 0.0108\n",
      "Epoch 319/500\n",
      "276/276 [==============================] - ETA: 0s - loss: 9.4521 - mae: 2.5186 - acc: 0.0000e+0 - 0s 0us/step - loss: 8.7910 - mae: 2.3850 - acc: 0.0181 - val_loss: 9.9591 - val_mae: 2.6060 - val_acc: 0.0108\n",
      "Epoch 320/500\n",
      "276/276 [==============================] - 0s 0us/step - loss: 8.7614 - mae: 2.3804 - acc: 0.0181 - val_loss: 9.9430 - val_mae: 2.6031 - val_acc: 0.0108\n",
      "Epoch 321/500\n",
      "276/276 [==============================] - 0s 57us/step - loss: 8.7365 - mae: 2.3767 - acc: 0.0181 - val_loss: 9.9155 - val_mae: 2.5984 - val_acc: 0.0215\n",
      "Epoch 322/500\n",
      "276/276 [==============================] - 0s 0us/step - loss: 8.7097 - mae: 2.3723 - acc: 0.0181 - val_loss: 9.8664 - val_mae: 2.5930 - val_acc: 0.0215\n",
      "Epoch 323/500\n",
      "276/276 [==============================] - 0s 0us/step - loss: 8.6857 - mae: 2.3683 - acc: 0.0181 - val_loss: 9.8274 - val_mae: 2.5883 - val_acc: 0.0215\n",
      "Epoch 324/500\n",
      "276/276 [==============================] - 0s 57us/step - loss: 8.6759 - mae: 2.3663 - acc: 0.0181 - val_loss: 9.7795 - val_mae: 2.5826 - val_acc: 0.0215\n",
      "Epoch 325/500\n",
      "276/276 [==============================] - 0s 0us/step - loss: 8.6569 - mae: 2.3635 - acc: 0.0181 - val_loss: 9.7936 - val_mae: 2.5811 - val_acc: 0.0215\n",
      "Epoch 326/500\n",
      "276/276 [==============================] - 0s 0us/step - loss: 8.6229 - mae: 2.3568 - acc: 0.0181 - val_loss: 9.7739 - val_mae: 2.5778 - val_acc: 0.0215\n",
      "Epoch 327/500\n",
      "276/276 [==============================] - 0s 57us/step - loss: 8.6054 - mae: 2.3545 - acc: 0.0181 - val_loss: 9.7429 - val_mae: 2.5737 - val_acc: 0.0215\n",
      "Epoch 328/500\n",
      "276/276 [==============================] - 0s 0us/step - loss: 8.5812 - mae: 2.3508 - acc: 0.0181 - val_loss: 9.7389 - val_mae: 2.5714 - val_acc: 0.0215\n",
      "Epoch 329/500\n",
      "276/276 [==============================] - 0s 56us/step - loss: 8.5671 - mae: 2.3482 - acc: 0.0181 - val_loss: 9.7095 - val_mae: 2.5672 - val_acc: 0.0215\n",
      "Epoch 330/500\n",
      "276/276 [==============================] - 0s 57us/step - loss: 8.5445 - mae: 2.3450 - acc: 0.0181 - val_loss: 9.6959 - val_mae: 2.5642 - val_acc: 0.0215\n",
      "Epoch 331/500\n",
      "276/276 [==============================] - 0s 0us/step - loss: 8.5309 - mae: 2.3422 - acc: 0.0181 - val_loss: 9.6756 - val_mae: 2.5601 - val_acc: 0.0215\n",
      "Epoch 332/500\n",
      "276/276 [==============================] - 0s 61us/step - loss: 8.5109 - mae: 2.3390 - acc: 0.0181 - val_loss: 9.6442 - val_mae: 2.5569 - val_acc: 0.0215\n",
      "Epoch 333/500\n",
      "276/276 [==============================] - 0s 0us/step - loss: 8.4898 - mae: 2.3368 - acc: 0.0181 - val_loss: 9.6220 - val_mae: 2.5519 - val_acc: 0.0215\n",
      "Epoch 334/500\n",
      "276/276 [==============================] - 0s 57us/step - loss: 8.4662 - mae: 2.3320 - acc: 0.0181 - val_loss: 9.6131 - val_mae: 2.5496 - val_acc: 0.0215\n",
      "Epoch 335/500\n",
      "276/276 [==============================] - 0s 57us/step - loss: 8.4497 - mae: 2.3293 - acc: 0.0181 - val_loss: 9.6061 - val_mae: 2.5472 - val_acc: 0.0215\n",
      "Epoch 336/500\n",
      "276/276 [==============================] - 0s 0us/step - loss: 8.4318 - mae: 2.3264 - acc: 0.0181 - val_loss: 9.6209 - val_mae: 2.5459 - val_acc: 0.0215\n",
      "Epoch 337/500\n",
      "276/276 [==============================] - 0s 57us/step - loss: 8.4216 - mae: 2.3238 - acc: 0.0181 - val_loss: 9.6102 - val_mae: 2.5427 - val_acc: 0.0215\n",
      "Epoch 338/500\n",
      "276/276 [==============================] - 0s 57us/step - loss: 8.3998 - mae: 2.3206 - acc: 0.0181 - val_loss: 9.5822 - val_mae: 2.5389 - val_acc: 0.0215\n",
      "Epoch 339/500\n",
      "276/276 [==============================] - 0s 0us/step - loss: 8.3806 - mae: 2.3171 - acc: 0.0181 - val_loss: 9.5420 - val_mae: 2.5343 - val_acc: 0.0215\n",
      "Epoch 340/500\n",
      "276/276 [==============================] - 0s 56us/step - loss: 8.3673 - mae: 2.3148 - acc: 0.0181 - val_loss: 9.5136 - val_mae: 2.5307 - val_acc: 0.0215\n",
      "Epoch 341/500\n",
      "276/276 [==============================] - 0s 57us/step - loss: 8.3532 - mae: 2.3126 - acc: 0.0181 - val_loss: 9.4787 - val_mae: 2.5264 - val_acc: 0.0215\n",
      "Epoch 342/500\n",
      "276/276 [==============================] - 0s 0us/step - loss: 8.3407 - mae: 2.3096 - acc: 0.0181 - val_loss: 9.4749 - val_mae: 2.5241 - val_acc: 0.0215\n",
      "Epoch 343/500\n",
      "276/276 [==============================] - 0s 57us/step - loss: 8.3476 - mae: 2.3125 - acc: 0.0181 - val_loss: 9.4494 - val_mae: 2.5228 - val_acc: 0.0215\n",
      "Epoch 344/500\n",
      "276/276 [==============================] - 0s 0us/step - loss: 8.3106 - mae: 2.3071 - acc: 0.0181 - val_loss: 9.4410 - val_mae: 2.5192 - val_acc: 0.0215\n",
      "Epoch 345/500\n",
      "276/276 [==============================] - 0s 57us/step - loss: 8.2811 - mae: 2.3024 - acc: 0.0181 - val_loss: 9.4388 - val_mae: 2.5174 - val_acc: 0.0215\n",
      "Epoch 346/500\n",
      "276/276 [==============================] - 0s 57us/step - loss: 8.2688 - mae: 2.3003 - acc: 0.0181 - val_loss: 9.4406 - val_mae: 2.5162 - val_acc: 0.0215\n",
      "Epoch 347/500\n",
      "276/276 [==============================] - 0s 0us/step - loss: 8.2646 - mae: 2.3004 - acc: 0.0181 - val_loss: 9.4076 - val_mae: 2.5128 - val_acc: 0.0215\n",
      "Epoch 348/500\n",
      "276/276 [==============================] - 0s 57us/step - loss: 8.2516 - mae: 2.2978 - acc: 0.0181 - val_loss: 9.4157 - val_mae: 2.5108 - val_acc: 0.0215\n",
      "Epoch 349/500\n",
      "276/276 [==============================] - 0s 57us/step - loss: 8.2273 - mae: 2.2944 - acc: 0.0181 - val_loss: 9.4073 - val_mae: 2.5084 - val_acc: 0.0215\n",
      "Epoch 350/500\n",
      "276/276 [==============================] - 0s 0us/step - loss: 8.2071 - mae: 2.2914 - acc: 0.0181 - val_loss: 9.4011 - val_mae: 2.5066 - val_acc: 0.0215\n",
      "Epoch 351/500\n",
      "276/276 [==============================] - 0s 57us/step - loss: 8.1886 - mae: 2.2884 - acc: 0.0181 - val_loss: 9.3856 - val_mae: 2.5040 - val_acc: 0.0215\n",
      "Epoch 352/500\n",
      "276/276 [==============================] - 0s 57us/step - loss: 8.1711 - mae: 2.2863 - acc: 0.0181 - val_loss: 9.3566 - val_mae: 2.5007 - val_acc: 0.0215\n",
      "Epoch 353/500\n",
      "276/276 [==============================] - 0s 0us/step - loss: 8.1730 - mae: 2.2862 - acc: 0.0181 - val_loss: 9.3430 - val_mae: 2.4975 - val_acc: 0.0215\n",
      "Epoch 354/500\n",
      "276/276 [==============================] - 0s 57us/step - loss: 8.1540 - mae: 2.2839 - acc: 0.0181 - val_loss: 9.3243 - val_mae: 2.4954 - val_acc: 0.0215\n",
      "Epoch 355/500\n",
      "276/276 [==============================] - 0s 0us/step - loss: 8.1410 - mae: 2.2823 - acc: 0.0181 - val_loss: 9.3188 - val_mae: 2.4938 - val_acc: 0.0215\n",
      "Epoch 356/500\n",
      "276/276 [==============================] - 0s 0us/step - loss: 8.1260 - mae: 2.2794 - acc: 0.0181 - val_loss: 9.3121 - val_mae: 2.4907 - val_acc: 0.0215\n",
      "Epoch 357/500\n",
      "276/276 [==============================] - 0s 57us/step - loss: 8.1101 - mae: 2.2778 - acc: 0.0181 - val_loss: 9.3120 - val_mae: 2.4891 - val_acc: 0.0108\n",
      "Epoch 358/500\n",
      "276/276 [==============================] - 0s 0us/step - loss: 8.0969 - mae: 2.2749 - acc: 0.0181 - val_loss: 9.3052 - val_mae: 2.4869 - val_acc: 0.0108\n",
      "Epoch 359/500\n",
      "276/276 [==============================] - 0s 0us/step - loss: 8.0825 - mae: 2.2737 - acc: 0.0181 - val_loss: 9.3079 - val_mae: 2.4860 - val_acc: 0.0108\n",
      "Epoch 360/500\n",
      "276/276 [==============================] - 0s 57us/step - loss: 8.0643 - mae: 2.2711 - acc: 0.0181 - val_loss: 9.2782 - val_mae: 2.4828 - val_acc: 0.0108\n",
      "Epoch 361/500\n",
      "276/276 [==============================] - 0s 0us/step - loss: 8.0567 - mae: 2.2705 - acc: 0.0181 - val_loss: 9.2609 - val_mae: 2.4804 - val_acc: 0.0108\n",
      "Epoch 362/500\n",
      "276/276 [==============================] - 0s 57us/step - loss: 8.0661 - mae: 2.2713 - acc: 0.0181 - val_loss: 9.2078 - val_mae: 2.4754 - val_acc: 0.0108\n",
      "Epoch 363/500\n",
      "276/276 [==============================] - 0s 57us/step - loss: 8.0347 - mae: 2.2672 - acc: 0.0181 - val_loss: 9.1961 - val_mae: 2.4725 - val_acc: 0.0108\n",
      "Epoch 364/500\n",
      "276/276 [==============================] - 0s 0us/step - loss: 8.0110 - mae: 2.2644 - acc: 0.0181 - val_loss: 9.2173 - val_mae: 2.4738 - val_acc: 0.0108\n",
      "Epoch 365/500\n",
      "276/276 [==============================] - 0s 57us/step - loss: 8.0034 - mae: 2.2630 - acc: 0.0181 - val_loss: 9.2117 - val_mae: 2.4718 - val_acc: 0.0108\n",
      "Epoch 366/500\n",
      "276/276 [==============================] - 0s 57us/step - loss: 7.9818 - mae: 2.2605 - acc: 0.0181 - val_loss: 9.1765 - val_mae: 2.4675 - val_acc: 0.0108\n",
      "Epoch 367/500\n",
      "276/276 [==============================] - 0s 0us/step - loss: 7.9667 - mae: 2.2584 - acc: 0.0181 - val_loss: 9.1659 - val_mae: 2.4660 - val_acc: 0.0108\n",
      "Epoch 368/500\n",
      "276/276 [==============================] - 0s 57us/step - loss: 7.9534 - mae: 2.2566 - acc: 0.0181 - val_loss: 9.1673 - val_mae: 2.4651 - val_acc: 0.0108\n",
      "Epoch 369/500\n",
      "276/276 [==============================] - 0s 57us/step - loss: 7.9607 - mae: 2.2580 - acc: 0.0181 - val_loss: 9.1777 - val_mae: 2.4642 - val_acc: 0.0108\n",
      "Epoch 370/500\n",
      "276/276 [==============================] - 0s 0us/step - loss: 7.9409 - mae: 2.2567 - acc: 0.0181 - val_loss: 9.1629 - val_mae: 2.4641 - val_acc: 0.0108\n",
      "Epoch 371/500\n",
      "276/276 [==============================] - 0s 57us/step - loss: 7.9129 - mae: 2.2527 - acc: 0.0181 - val_loss: 9.1429 - val_mae: 2.4606 - val_acc: 0.0108\n",
      "Epoch 372/500\n",
      "276/276 [==============================] - 0s 0us/step - loss: 7.9073 - mae: 2.2519 - acc: 0.0181 - val_loss: 9.1161 - val_mae: 2.4571 - val_acc: 0.0108\n",
      "Epoch 373/500\n",
      "276/276 [==============================] - 0s 57us/step - loss: 7.8921 - mae: 2.2484 - acc: 0.0181 - val_loss: 9.1550 - val_mae: 2.4597 - val_acc: 0.0108\n",
      "Epoch 374/500\n",
      "276/276 [==============================] - 0s 57us/step - loss: 7.8763 - mae: 2.2473 - acc: 0.0181 - val_loss: 9.1549 - val_mae: 2.4576 - val_acc: 0.0108\n",
      "Epoch 375/500\n",
      "276/276 [==============================] - 0s 0us/step - loss: 7.8636 - mae: 2.2453 - acc: 0.0181 - val_loss: 9.1158 - val_mae: 2.4538 - val_acc: 0.0108\n",
      "Epoch 376/500\n",
      "276/276 [==============================] - 0s 57us/step - loss: 7.8462 - mae: 2.2443 - acc: 0.0181 - val_loss: 9.0988 - val_mae: 2.4516 - val_acc: 0.0108\n",
      "Epoch 377/500\n",
      "276/276 [==============================] - 0s 57us/step - loss: 7.8368 - mae: 2.2432 - acc: 0.0181 - val_loss: 9.1177 - val_mae: 2.4517 - val_acc: 0.0108\n",
      "Epoch 378/500\n",
      "276/276 [==============================] - 0s 0us/step - loss: 7.8198 - mae: 2.2411 - acc: 0.0181 - val_loss: 9.1155 - val_mae: 2.4504 - val_acc: 0.0108\n",
      "Epoch 379/500\n",
      "276/276 [==============================] - 0s 57us/step - loss: 7.8065 - mae: 2.2392 - acc: 0.0181 - val_loss: 9.1036 - val_mae: 2.4486 - val_acc: 0.0108\n",
      "Epoch 380/500\n",
      "276/276 [==============================] - 0s 57us/step - loss: 7.7921 - mae: 2.2365 - acc: 0.0181 - val_loss: 9.0735 - val_mae: 2.4450 - val_acc: 0.0108\n",
      "Epoch 381/500\n",
      "276/276 [==============================] - 0s 0us/step - loss: 7.7930 - mae: 2.2378 - acc: 0.0181 - val_loss: 9.0833 - val_mae: 2.4447 - val_acc: 0.0108\n",
      "Epoch 382/500\n",
      "276/276 [==============================] - 0s 57us/step - loss: 7.7721 - mae: 2.2322 - acc: 0.0181 - val_loss: 9.0378 - val_mae: 2.4400 - val_acc: 0.0108\n",
      "Epoch 383/500\n",
      "276/276 [==============================] - 0s 0us/step - loss: 7.7684 - mae: 2.2341 - acc: 0.0145 - val_loss: 9.0383 - val_mae: 2.4405 - val_acc: 0.0108\n",
      "Epoch 384/500\n",
      "276/276 [==============================] - 0s 0us/step - loss: 7.7503 - mae: 2.2310 - acc: 0.0145 - val_loss: 9.0463 - val_mae: 2.4406 - val_acc: 0.0108\n",
      "Epoch 385/500\n",
      "276/276 [==============================] - 0s 57us/step - loss: 7.7340 - mae: 2.2292 - acc: 0.0145 - val_loss: 9.0175 - val_mae: 2.4366 - val_acc: 0.0108\n",
      "Epoch 386/500\n",
      "276/276 [==============================] - 0s 0us/step - loss: 7.7221 - mae: 2.2273 - acc: 0.0145 - val_loss: 9.0093 - val_mae: 2.4351 - val_acc: 0.0108\n",
      "Epoch 387/500\n",
      "276/276 [==============================] - 0s 57us/step - loss: 7.7125 - mae: 2.2262 - acc: 0.0145 - val_loss: 9.0140 - val_mae: 2.4339 - val_acc: 0.0108\n",
      "Epoch 388/500\n",
      "276/276 [==============================] - 0s 57us/step - loss: 7.7138 - mae: 2.2246 - acc: 0.0145 - val_loss: 8.9935 - val_mae: 2.4316 - val_acc: 0.0108\n",
      "Epoch 389/500\n",
      "276/276 [==============================] - 0s 0us/step - loss: 7.6952 - mae: 2.2221 - acc: 0.0145 - val_loss: 8.9806 - val_mae: 2.4286 - val_acc: 0.0108\n",
      "Epoch 390/500\n",
      "276/276 [==============================] - 0s 57us/step - loss: 7.6901 - mae: 2.2216 - acc: 0.0145 - val_loss: 8.9840 - val_mae: 2.4294 - val_acc: 0.0108\n",
      "Epoch 391/500\n",
      "276/276 [==============================] - 0s 57us/step - loss: 7.6647 - mae: 2.2179 - acc: 0.0145 - val_loss: 8.9998 - val_mae: 2.4297 - val_acc: 0.0108\n",
      "Epoch 392/500\n",
      "276/276 [==============================] - 0s 0us/step - loss: 7.6739 - mae: 2.2190 - acc: 0.0145 - val_loss: 9.0099 - val_mae: 2.4292 - val_acc: 0.0108\n",
      "Epoch 393/500\n",
      "276/276 [==============================] - 0s 57us/step - loss: 7.6633 - mae: 2.2167 - acc: 0.0145 - val_loss: 8.9825 - val_mae: 2.4259 - val_acc: 0.0108\n",
      "Epoch 394/500\n",
      "276/276 [==============================] - 0s 57us/step - loss: 7.6411 - mae: 2.2139 - acc: 0.0145 - val_loss: 8.9595 - val_mae: 2.4236 - val_acc: 0.0108\n",
      "Epoch 395/500\n",
      "276/276 [==============================] - 0s 0us/step - loss: 7.6344 - mae: 2.2125 - acc: 0.0145 - val_loss: 8.9455 - val_mae: 2.4226 - val_acc: 0.0108\n",
      "Epoch 396/500\n",
      "276/276 [==============================] - 0s 57us/step - loss: 7.6265 - mae: 2.2118 - acc: 0.0145 - val_loss: 8.9550 - val_mae: 2.4241 - val_acc: 0.0108\n",
      "Epoch 397/500\n",
      "276/276 [==============================] - 0s 0us/step - loss: 7.6310 - mae: 2.2133 - acc: 0.0145 - val_loss: 8.9474 - val_mae: 2.4255 - val_acc: 0.0108\n",
      "Epoch 398/500\n",
      "276/276 [==============================] - 0s 0us/step - loss: 7.6194 - mae: 2.2115 - acc: 0.0145 - val_loss: 8.9642 - val_mae: 2.4274 - val_acc: 0.0108\n",
      "Epoch 399/500\n",
      "276/276 [==============================] - 0s 57us/step - loss: 7.6095 - mae: 2.2094 - acc: 0.0145 - val_loss: 8.9505 - val_mae: 2.4273 - val_acc: 0.0108\n",
      "Epoch 400/500\n",
      "276/276 [==============================] - 0s 0us/step - loss: 7.6056 - mae: 2.2081 - acc: 0.0145 - val_loss: 8.9866 - val_mae: 2.4297 - val_acc: 0.0108\n",
      "Epoch 401/500\n",
      "276/276 [==============================] - 0s 0us/step - loss: 7.5937 - mae: 2.2072 - acc: 0.0145 - val_loss: 8.9725 - val_mae: 2.4285 - val_acc: 0.0108\n",
      "Epoch 402/500\n",
      "276/276 [==============================] - 0s 57us/step - loss: 7.5888 - mae: 2.2054 - acc: 0.0145 - val_loss: 8.9376 - val_mae: 2.4242 - val_acc: 0.0108\n",
      "Epoch 403/500\n",
      "276/276 [==============================] - 0s 0us/step - loss: 7.5749 - mae: 2.2030 - acc: 0.0145 - val_loss: 8.9070 - val_mae: 2.4213 - val_acc: 0.0108\n",
      "Epoch 404/500\n",
      "276/276 [==============================] - 0s 0us/step - loss: 7.5670 - mae: 2.2014 - acc: 0.0145 - val_loss: 8.8838 - val_mae: 2.4192 - val_acc: 0.0108\n",
      "Epoch 405/500\n",
      "276/276 [==============================] - 0s 57us/step - loss: 7.5566 - mae: 2.2001 - acc: 0.0145 - val_loss: 8.8971 - val_mae: 2.4215 - val_acc: 0.0108\n",
      "Epoch 406/500\n",
      "276/276 [==============================] - 0s 0us/step - loss: 7.5503 - mae: 2.1995 - acc: 0.0145 - val_loss: 8.8965 - val_mae: 2.4221 - val_acc: 0.0108\n",
      "Epoch 407/500\n",
      "276/276 [==============================] - 0s 57us/step - loss: 7.5511 - mae: 2.2006 - acc: 0.0145 - val_loss: 8.9343 - val_mae: 2.4256 - val_acc: 0.0108\n",
      "Epoch 408/500\n",
      "276/276 [==============================] - 0s 57us/step - loss: 7.5395 - mae: 2.2003 - acc: 0.0181 - val_loss: 8.9333 - val_mae: 2.4254 - val_acc: 0.0108\n",
      "Epoch 409/500\n",
      "276/276 [==============================] - 0s 0us/step - loss: 7.5358 - mae: 2.1989 - acc: 0.0181 - val_loss: 8.9321 - val_mae: 2.4248 - val_acc: 0.0108\n",
      "Epoch 410/500\n",
      "276/276 [==============================] - 0s 0us/step - loss: 7.5259 - mae: 2.1966 - acc: 0.0181 - val_loss: 8.9028 - val_mae: 2.4230 - val_acc: 0.0108\n",
      "Epoch 411/500\n",
      "276/276 [==============================] - 0s 57us/step - loss: 7.5187 - mae: 2.1953 - acc: 0.0181 - val_loss: 8.9016 - val_mae: 2.4232 - val_acc: 0.0108\n",
      "Epoch 412/500\n",
      "276/276 [==============================] - 0s 0us/step - loss: 7.5091 - mae: 2.1938 - acc: 0.0181 - val_loss: 8.9148 - val_mae: 2.4239 - val_acc: 0.0108\n",
      "Epoch 413/500\n",
      "276/276 [==============================] - 0s 57us/step - loss: 7.4975 - mae: 2.1931 - acc: 0.0181 - val_loss: 8.9160 - val_mae: 2.4239 - val_acc: 0.0108\n",
      "Epoch 414/500\n",
      "276/276 [==============================] - 0s 57us/step - loss: 7.4921 - mae: 2.1918 - acc: 0.0181 - val_loss: 8.9001 - val_mae: 2.4222 - val_acc: 0.0108\n",
      "Epoch 415/500\n",
      "276/276 [==============================] - 0s 0us/step - loss: 7.4886 - mae: 2.1907 - acc: 0.0181 - val_loss: 8.9019 - val_mae: 2.4235 - val_acc: 0.0108\n",
      "Epoch 416/500\n",
      "276/276 [==============================] - 0s 57us/step - loss: 7.4776 - mae: 2.1892 - acc: 0.0181 - val_loss: 8.9035 - val_mae: 2.4242 - val_acc: 0.0108\n",
      "Epoch 417/500\n",
      "276/276 [==============================] - 0s 0us/step - loss: 7.4736 - mae: 2.1880 - acc: 0.0181 - val_loss: 8.8939 - val_mae: 2.4231 - val_acc: 0.0108\n",
      "Epoch 418/500\n",
      "276/276 [==============================] - 0s 0us/step - loss: 7.4755 - mae: 2.1889 - acc: 0.0181 - val_loss: 8.9271 - val_mae: 2.4262 - val_acc: 0.0108\n",
      "Epoch 419/500\n",
      "276/276 [==============================] - 0s 57us/step - loss: 7.4722 - mae: 2.1895 - acc: 0.0181 - val_loss: 8.9019 - val_mae: 2.4254 - val_acc: 0.0108\n",
      "Epoch 420/500\n",
      "276/276 [==============================] - 0s 0us/step - loss: 7.4525 - mae: 2.1847 - acc: 0.0181 - val_loss: 8.8849 - val_mae: 2.4231 - val_acc: 0.0108\n",
      "Epoch 421/500\n",
      "276/276 [==============================] - 0s 57us/step - loss: 7.4455 - mae: 2.1829 - acc: 0.0181 - val_loss: 8.8824 - val_mae: 2.4229 - val_acc: 0.0108\n",
      "Epoch 422/500\n",
      "276/276 [==============================] - 0s 57us/step - loss: 7.4373 - mae: 2.1818 - acc: 0.0181 - val_loss: 8.8843 - val_mae: 2.4223 - val_acc: 0.0108\n",
      "Epoch 423/500\n",
      "276/276 [==============================] - 0s 0us/step - loss: 7.4296 - mae: 2.1807 - acc: 0.0181 - val_loss: 8.8790 - val_mae: 2.4219 - val_acc: 0.0108\n",
      "Epoch 424/500\n",
      "276/276 [==============================] - 0s 57us/step - loss: 7.4251 - mae: 2.1795 - acc: 0.0181 - val_loss: 8.8636 - val_mae: 2.4213 - val_acc: 0.0108\n",
      "Epoch 425/500\n",
      "276/276 [==============================] - 0s 57us/step - loss: 7.4298 - mae: 2.1792 - acc: 0.0145 - val_loss: 8.8467 - val_mae: 2.4191 - val_acc: 0.0108\n",
      "Epoch 426/500\n",
      "276/276 [==============================] - 0s 0us/step - loss: 7.4258 - mae: 2.1792 - acc: 0.0145 - val_loss: 8.8588 - val_mae: 2.4205 - val_acc: 0.0108\n",
      "Epoch 427/500\n",
      "276/276 [==============================] - 0s 57us/step - loss: 7.4021 - mae: 2.1755 - acc: 0.0145 - val_loss: 8.8279 - val_mae: 2.4191 - val_acc: 0.0108\n",
      "Epoch 428/500\n",
      "276/276 [==============================] - 0s 57us/step - loss: 7.4007 - mae: 2.1751 - acc: 0.0145 - val_loss: 8.8214 - val_mae: 2.4200 - val_acc: 0.0108\n",
      "Epoch 429/500\n",
      "276/276 [==============================] - 0s 0us/step - loss: 7.4088 - mae: 2.1758 - acc: 0.0145 - val_loss: 8.8225 - val_mae: 2.4198 - val_acc: 0.0108\n",
      "Epoch 430/500\n",
      "276/276 [==============================] - 0s 57us/step - loss: 7.3882 - mae: 2.1726 - acc: 0.0145 - val_loss: 8.8401 - val_mae: 2.4214 - val_acc: 0.0108\n",
      "Epoch 431/500\n",
      "276/276 [==============================] - 0s 57us/step - loss: 7.3982 - mae: 2.1736 - acc: 0.0145 - val_loss: 8.8727 - val_mae: 2.4239 - val_acc: 0.0108\n",
      "Epoch 432/500\n",
      "276/276 [==============================] - 0s 0us/step - loss: 7.3782 - mae: 2.1725 - acc: 0.0145 - val_loss: 8.8481 - val_mae: 2.4227 - val_acc: 0.0108\n",
      "Epoch 433/500\n",
      "276/276 [==============================] - 0s 57us/step - loss: 7.3729 - mae: 2.1724 - acc: 0.0145 - val_loss: 8.8678 - val_mae: 2.4247 - val_acc: 0.0108\n",
      "Epoch 434/500\n",
      "276/276 [==============================] - 0s 57us/step - loss: 7.3738 - mae: 2.1720 - acc: 0.0145 - val_loss: 8.8640 - val_mae: 2.4245 - val_acc: 0.0108\n",
      "Epoch 435/500\n",
      "276/276 [==============================] - 0s 0us/step - loss: 7.3694 - mae: 2.1721 - acc: 0.0145 - val_loss: 8.8264 - val_mae: 2.4225 - val_acc: 0.0108\n",
      "Epoch 436/500\n",
      "276/276 [==============================] - 0s 57us/step - loss: 7.3554 - mae: 2.1688 - acc: 0.0145 - val_loss: 8.8424 - val_mae: 2.4236 - val_acc: 0.0108\n",
      "Epoch 437/500\n",
      "276/276 [==============================] - 0s 57us/step - loss: 7.3542 - mae: 2.1693 - acc: 0.0145 - val_loss: 8.8555 - val_mae: 2.4252 - val_acc: 0.0108\n",
      "Epoch 438/500\n",
      "276/276 [==============================] - 0s 0us/step - loss: 7.3529 - mae: 2.1697 - acc: 0.0145 - val_loss: 8.8571 - val_mae: 2.4248 - val_acc: 0.0108\n",
      "Epoch 439/500\n",
      "276/276 [==============================] - 0s 57us/step - loss: 7.3394 - mae: 2.1674 - acc: 0.0145 - val_loss: 8.8634 - val_mae: 2.4261 - val_acc: 0.0108\n",
      "Epoch 440/500\n",
      "276/276 [==============================] - 0s 0us/step - loss: 7.3413 - mae: 2.1683 - acc: 0.0145 - val_loss: 8.8430 - val_mae: 2.4252 - val_acc: 0.0108\n",
      "Epoch 441/500\n",
      "276/276 [==============================] - 0s 0us/step - loss: 7.3351 - mae: 2.1662 - acc: 0.0145 - val_loss: 8.8510 - val_mae: 2.4252 - val_acc: 0.0108\n",
      "Epoch 442/500\n",
      "276/276 [==============================] - 0s 57us/step - loss: 7.3378 - mae: 2.1667 - acc: 0.0145 - val_loss: 8.8701 - val_mae: 2.4253 - val_acc: 0.0108\n",
      "Epoch 443/500\n",
      "276/276 [==============================] - 0s 0us/step - loss: 7.3342 - mae: 2.1663 - acc: 0.0145 - val_loss: 8.8332 - val_mae: 2.4245 - val_acc: 0.0108\n",
      "Epoch 444/500\n",
      "276/276 [==============================] - 0s 57us/step - loss: 7.3218 - mae: 2.1654 - acc: 0.0145 - val_loss: 8.8685 - val_mae: 2.4274 - val_acc: 0.0108\n",
      "Epoch 445/500\n",
      "276/276 [==============================] - 0s 57us/step - loss: 7.3169 - mae: 2.1642 - acc: 0.0145 - val_loss: 8.8464 - val_mae: 2.4259 - val_acc: 0.0108\n",
      "Epoch 446/500\n",
      "276/276 [==============================] - 0s 0us/step - loss: 7.3063 - mae: 2.1629 - acc: 0.0145 - val_loss: 8.8406 - val_mae: 2.4256 - val_acc: 0.0108\n",
      "Epoch 447/500\n",
      "276/276 [==============================] - 0s 77us/step - loss: 7.3079 - mae: 2.1626 - acc: 0.0145 - val_loss: 8.8387 - val_mae: 2.4257 - val_acc: 0.0108\n",
      "Epoch 448/500\n",
      "276/276 [==============================] - 0s 0us/step - loss: 7.3081 - mae: 2.1625 - acc: 0.0145 - val_loss: 8.8235 - val_mae: 2.4248 - val_acc: 0.0108\n",
      "Epoch 449/500\n",
      "276/276 [==============================] - 0s 57us/step - loss: 7.3017 - mae: 2.1604 - acc: 0.0145 - val_loss: 8.8049 - val_mae: 2.4235 - val_acc: 0.0108\n",
      "Epoch 450/500\n",
      "276/276 [==============================] - 0s 57us/step - loss: 7.2949 - mae: 2.1590 - acc: 0.0145 - val_loss: 8.8024 - val_mae: 2.4235 - val_acc: 0.0108\n",
      "Epoch 451/500\n",
      "276/276 [==============================] - 0s 0us/step - loss: 7.2965 - mae: 2.1588 - acc: 0.0145 - val_loss: 8.8021 - val_mae: 2.4236 - val_acc: 0.0108\n",
      "Epoch 452/500\n",
      "276/276 [==============================] - 0s 57us/step - loss: 7.3057 - mae: 2.1620 - acc: 0.0145 - val_loss: 8.8575 - val_mae: 2.4272 - val_acc: 0.0108\n",
      "Epoch 453/500\n",
      "276/276 [==============================] - 0s 57us/step - loss: 7.2832 - mae: 2.1590 - acc: 0.0145 - val_loss: 8.8646 - val_mae: 2.4281 - val_acc: 0.0108\n",
      "Epoch 454/500\n",
      "276/276 [==============================] - 0s 0us/step - loss: 7.2810 - mae: 2.1575 - acc: 0.0145 - val_loss: 8.8354 - val_mae: 2.4250 - val_acc: 0.0108\n",
      "Epoch 455/500\n",
      "276/276 [==============================] - 0s 57us/step - loss: 7.2709 - mae: 2.1572 - acc: 0.0145 - val_loss: 8.8370 - val_mae: 2.4267 - val_acc: 0.0108\n",
      "Epoch 456/500\n",
      "276/276 [==============================] - 0s 57us/step - loss: 7.2701 - mae: 2.1563 - acc: 0.0145 - val_loss: 8.8553 - val_mae: 2.4290 - val_acc: 0.0108\n",
      "Epoch 457/500\n",
      "276/276 [==============================] - 0s 0us/step - loss: 7.2644 - mae: 2.1541 - acc: 0.0145 - val_loss: 8.8141 - val_mae: 2.4255 - val_acc: 0.0108\n",
      "Epoch 458/500\n",
      "276/276 [==============================] - 0s 57us/step - loss: 7.2882 - mae: 2.1584 - acc: 0.0145 - val_loss: 8.7995 - val_mae: 2.4253 - val_acc: 0.0108\n",
      "Epoch 459/500\n",
      "276/276 [==============================] - 0s 0us/step - loss: 7.2493 - mae: 2.1527 - acc: 0.0145 - val_loss: 8.8197 - val_mae: 2.4269 - val_acc: 0.0108\n",
      "Epoch 460/500\n",
      "276/276 [==============================] - 0s 0us/step - loss: 7.2513 - mae: 2.1525 - acc: 0.0145 - val_loss: 8.8597 - val_mae: 2.4288 - val_acc: 0.0108\n",
      "Epoch 461/500\n",
      "276/276 [==============================] - 0s 57us/step - loss: 7.2593 - mae: 2.1533 - acc: 0.0145 - val_loss: 8.8622 - val_mae: 2.4285 - val_acc: 0.0108\n",
      "Epoch 462/500\n",
      "276/276 [==============================] - 0s 57us/step - loss: 7.2597 - mae: 2.1532 - acc: 0.0145 - val_loss: 8.8511 - val_mae: 2.4288 - val_acc: 0.0108\n",
      "Epoch 463/500\n",
      "276/276 [==============================] - 0s 0us/step - loss: 7.2379 - mae: 2.1504 - acc: 0.0145 - val_loss: 8.8495 - val_mae: 2.4290 - val_acc: 0.0108\n",
      "Epoch 464/500\n",
      "276/276 [==============================] - 0s 57us/step - loss: 7.2366 - mae: 2.1498 - acc: 0.0145 - val_loss: 8.8527 - val_mae: 2.4285 - val_acc: 0.0108\n",
      "Epoch 465/500\n",
      "276/276 [==============================] - 0s 0us/step - loss: 7.2287 - mae: 2.1484 - acc: 0.0145 - val_loss: 8.8559 - val_mae: 2.4276 - val_acc: 0.0108\n",
      "Epoch 466/500\n",
      "276/276 [==============================] - 0s 0us/step - loss: 7.2330 - mae: 2.1499 - acc: 0.0145 - val_loss: 8.8447 - val_mae: 2.4275 - val_acc: 0.0108\n",
      "Epoch 467/500\n",
      "276/276 [==============================] - 0s 61us/step - loss: 7.2365 - mae: 2.1501 - acc: 0.0145 - val_loss: 8.8409 - val_mae: 2.4281 - val_acc: 0.0108\n",
      "Epoch 468/500\n",
      "276/276 [==============================] - 0s 0us/step - loss: 7.2313 - mae: 2.1496 - acc: 0.0145 - val_loss: 8.8446 - val_mae: 2.4271 - val_acc: 0.0108\n",
      "Epoch 469/500\n",
      "276/276 [==============================] - 0s 0us/step - loss: 7.2218 - mae: 2.1481 - acc: 0.0145 - val_loss: 8.8559 - val_mae: 2.4280 - val_acc: 0.0108\n",
      "Epoch 470/500\n",
      "276/276 [==============================] - 0s 57us/step - loss: 7.2137 - mae: 2.1472 - acc: 0.0145 - val_loss: 8.8308 - val_mae: 2.4262 - val_acc: 0.0108\n",
      "Epoch 471/500\n",
      "276/276 [==============================] - 0s 0us/step - loss: 7.2110 - mae: 2.1453 - acc: 0.0145 - val_loss: 8.8568 - val_mae: 2.4273 - val_acc: 0.0108\n",
      "Epoch 472/500\n",
      "276/276 [==============================] - 0s 57us/step - loss: 7.2016 - mae: 2.1441 - acc: 0.0145 - val_loss: 8.8572 - val_mae: 2.4275 - val_acc: 0.0108\n",
      "Epoch 473/500\n",
      "276/276 [==============================] - 0s 57us/step - loss: 7.2096 - mae: 2.1435 - acc: 0.0145 - val_loss: 8.8267 - val_mae: 2.4248 - val_acc: 0.0108\n",
      "Epoch 474/500\n",
      "276/276 [==============================] - 0s 0us/step - loss: 7.1913 - mae: 2.1403 - acc: 0.0145 - val_loss: 8.8250 - val_mae: 2.4248 - val_acc: 0.0108\n",
      "Epoch 475/500\n",
      "276/276 [==============================] - 0s 57us/step - loss: 7.2268 - mae: 2.1459 - acc: 0.0145 - val_loss: 8.8638 - val_mae: 2.4261 - val_acc: 0.0108\n",
      "Epoch 476/500\n",
      "276/276 [==============================] - 0s 57us/step - loss: 7.1864 - mae: 2.1383 - acc: 0.0145 - val_loss: 8.8202 - val_mae: 2.4226 - val_acc: 0.0108\n",
      "Epoch 477/500\n",
      "276/276 [==============================] - 0s 0us/step - loss: 7.1840 - mae: 2.1388 - acc: 0.0145 - val_loss: 8.8360 - val_mae: 2.4238 - val_acc: 0.0108\n",
      "Epoch 478/500\n",
      "276/276 [==============================] - 0s 57us/step - loss: 7.1940 - mae: 2.1388 - acc: 0.0145 - val_loss: 8.8220 - val_mae: 2.4236 - val_acc: 0.0108\n",
      "Epoch 479/500\n",
      "276/276 [==============================] - 0s 57us/step - loss: 7.1878 - mae: 2.1398 - acc: 0.0145 - val_loss: 8.8259 - val_mae: 2.4230 - val_acc: 0.0108\n",
      "Epoch 480/500\n",
      "276/276 [==============================] - 0s 0us/step - loss: 7.1707 - mae: 2.1367 - acc: 0.0145 - val_loss: 8.8172 - val_mae: 2.4226 - val_acc: 0.0108\n",
      "Epoch 481/500\n",
      "276/276 [==============================] - 0s 57us/step - loss: 7.1746 - mae: 2.1357 - acc: 0.0145 - val_loss: 8.7960 - val_mae: 2.4212 - val_acc: 0.0108\n",
      "Epoch 482/500\n",
      "276/276 [==============================] - 0s 57us/step - loss: 7.1731 - mae: 2.1346 - acc: 0.0145 - val_loss: 8.7662 - val_mae: 2.4180 - val_acc: 0.0108\n",
      "Epoch 483/500\n",
      "276/276 [==============================] - 0s 0us/step - loss: 7.2071 - mae: 2.1388 - acc: 0.0145 - val_loss: 8.7646 - val_mae: 2.4196 - val_acc: 0.0108\n",
      "Epoch 484/500\n",
      "276/276 [==============================] - 0s 57us/step - loss: 7.1552 - mae: 2.1324 - acc: 0.0145 - val_loss: 8.7909 - val_mae: 2.4215 - val_acc: 0.0108\n",
      "Epoch 485/500\n",
      "276/276 [==============================] - 0s 57us/step - loss: 7.1629 - mae: 2.1335 - acc: 0.0145 - val_loss: 8.8298 - val_mae: 2.4234 - val_acc: 0.0108\n",
      "Epoch 486/500\n",
      "276/276 [==============================] - 0s 0us/step - loss: 7.1559 - mae: 2.1333 - acc: 0.0145 - val_loss: 8.8347 - val_mae: 2.4238 - val_acc: 0.0108\n",
      "Epoch 487/500\n",
      "276/276 [==============================] - 0s 57us/step - loss: 7.1502 - mae: 2.1316 - acc: 0.0145 - val_loss: 8.8016 - val_mae: 2.4201 - val_acc: 0.0108\n",
      "Epoch 488/500\n",
      "276/276 [==============================] - 0s 57us/step - loss: 7.1462 - mae: 2.1304 - acc: 0.0145 - val_loss: 8.8028 - val_mae: 2.4193 - val_acc: 0.0108\n",
      "Epoch 489/500\n",
      "276/276 [==============================] - 0s 0us/step - loss: 7.1419 - mae: 2.1294 - acc: 0.0145 - val_loss: 8.7778 - val_mae: 2.4166 - val_acc: 0.0108\n",
      "Epoch 490/500\n",
      "276/276 [==============================] - 0s 57us/step - loss: 7.1349 - mae: 2.1283 - acc: 0.0145 - val_loss: 8.7520 - val_mae: 2.4156 - val_acc: 0.0108\n",
      "Epoch 491/500\n",
      "276/276 [==============================] - 0s 0us/step - loss: 7.1455 - mae: 2.1282 - acc: 0.0145 - val_loss: 8.7346 - val_mae: 2.4151 - val_acc: 0.0108\n",
      "Epoch 492/500\n",
      "276/276 [==============================] - 0s 0us/step - loss: 7.1325 - mae: 2.1259 - acc: 0.0145 - val_loss: 8.7398 - val_mae: 2.4143 - val_acc: 0.0108\n",
      "Epoch 493/500\n",
      "276/276 [==============================] - 0s 57us/step - loss: 7.1287 - mae: 2.1255 - acc: 0.0145 - val_loss: 8.7559 - val_mae: 2.4158 - val_acc: 0.0108\n",
      "Epoch 494/500\n",
      "276/276 [==============================] - 0s 0us/step - loss: 7.1456 - mae: 2.1284 - acc: 0.0145 - val_loss: 8.7732 - val_mae: 2.4177 - val_acc: 0.0108\n",
      "Epoch 495/500\n",
      "276/276 [==============================] - 0s 0us/step - loss: 7.1250 - mae: 2.1254 - acc: 0.0145 - val_loss: 8.7848 - val_mae: 2.4182 - val_acc: 0.0108\n",
      "Epoch 496/500\n",
      "276/276 [==============================] - 0s 57us/step - loss: 7.1343 - mae: 2.1281 - acc: 0.0145 - val_loss: 8.7916 - val_mae: 2.4176 - val_acc: 0.0108\n",
      "Epoch 497/500\n",
      "276/276 [==============================] - 0s 0us/step - loss: 7.1415 - mae: 2.1261 - acc: 0.0145 - val_loss: 8.7413 - val_mae: 2.4147 - val_acc: 0.0108\n",
      "Epoch 498/500\n",
      "276/276 [==============================] - 0s 0us/step - loss: 7.1173 - mae: 2.1224 - acc: 0.0145 - val_loss: 8.7749 - val_mae: 2.4171 - val_acc: 0.0108\n",
      "Epoch 499/500\n",
      "276/276 [==============================] - 0s 57us/step - loss: 7.1146 - mae: 2.1238 - acc: 0.0145 - val_loss: 8.7685 - val_mae: 2.4159 - val_acc: 0.0108\n",
      "Epoch 500/500\n",
      "276/276 [==============================] - 0s 0us/step - loss: 7.1088 - mae: 2.1229 - acc: 0.0145 - val_loss: 8.7833 - val_mae: 2.4167 - val_acc: 0.0108\n"
     ]
    }
   ],
   "source": [
    "history1 = model1.fit(inputs_train_scaled, outputs_train, epochs=500, validation_split=0.25, callbacks=[earlystop])"
   ]
  },
  {
   "cell_type": "code",
   "execution_count": 44,
   "metadata": {},
   "outputs": [
    {
     "name": "stdout",
     "output_type": "stream",
     "text": [
      "This model evaluates as:\n",
      "* Loss: 14.881394068400065\n",
      "* MAE: 2.8289809226989746\n",
      "* Accuracy: 0.01075268816202879\n"
     ]
    }
   ],
   "source": [
    "evaluate1 = []\n",
    "evaluator(evaluate1, model1)"
   ]
  },
  {
   "cell_type": "code",
   "execution_count": 45,
   "metadata": {},
   "outputs": [
    {
     "name": "stdout",
     "output_type": "stream",
     "text": [
      "This model predicts as:\n",
      "* Predicted Value: 25.1108\n",
      "* Actual value: 26.7\n"
     ]
    },
    {
     "name": "stderr",
     "output_type": "stream",
     "text": [
      "C:\\Users\\Peter McGowan\\Anaconda3\\lib\\site-packages\\ipykernel_launcher.py:3: FutureWarning: Method .as_matrix will be removed in a future version. Use .values instead.\n",
      "  This is separate from the ipykernel package so we can avoid doing imports until\n"
     ]
    }
   ],
   "source": [
    "predict1 = []\n",
    "predictor(predict1, model1)"
   ]
  },
  {
   "cell_type": "markdown",
   "metadata": {},
   "source": [
    "##### Results"
   ]
  },
  {
   "cell_type": "markdown",
   "metadata": {},
   "source": [
    "Our basic, three layer model run with the data as-is didn't perform particularly well, although it was converging towards a solution. Normalising the data definitely made a significant improvement. We can now move on to developing the structure of the model itself to improve the accuracy."
   ]
  },
  {
   "cell_type": "markdown",
   "metadata": {},
   "source": [
    "#### Second Attempt - Widen"
   ]
  },
  {
   "cell_type": "markdown",
   "metadata": {},
   "source": [
    "We will develop the model more and widen it now by doubling the number of units in each hidden layer."
   ]
  },
  {
   "cell_type": "markdown",
   "metadata": {},
   "source": [
    "##### Construct Model"
   ]
  },
  {
   "cell_type": "code",
   "execution_count": 46,
   "metadata": {
    "scrolled": true
   },
   "outputs": [
    {
     "name": "stdout",
     "output_type": "stream",
     "text": [
      "Model: \"sequential_2\"\n",
      "_________________________________________________________________\n",
      "Layer (type)                 Output Shape              Param #   \n",
      "=================================================================\n",
      "dense_4 (Dense)              (None, 64)                448       \n",
      "_________________________________________________________________\n",
      "dense_5 (Dense)              (None, 32)                2080      \n",
      "_________________________________________________________________\n",
      "dense_6 (Dense)              (None, 1)                 33        \n",
      "=================================================================\n",
      "Total params: 2,561\n",
      "Trainable params: 2,561\n",
      "Non-trainable params: 0\n",
      "_________________________________________________________________\n"
     ]
    }
   ],
   "source": [
    "model2 = Sequential() \n",
    "\n",
    "model2.add(Dense(units=64, activation='relu', input_dim=6))\n",
    "model2.add(Dense(units=32, activation='relu'))\n",
    "model2.add(Dense(units=1))\n",
    "\n",
    "model2.compile(loss='mse', optimizer='adam', metrics=['mae', 'acc'])\n",
    "\n",
    "model2.summary()"
   ]
  },
  {
   "cell_type": "markdown",
   "metadata": {},
   "source": [
    "##### Training"
   ]
  },
  {
   "cell_type": "code",
   "execution_count": 47,
   "metadata": {
    "scrolled": true
   },
   "outputs": [
    {
     "name": "stdout",
     "output_type": "stream",
     "text": [
      "Train on 276 samples, validate on 93 samples\n",
      "Epoch 1/500\n",
      "276/276 [==============================] - 0s 400us/step - loss: 422.7012 - mae: 19.5634 - acc: 0.0000e+00 - val_loss: 469.7455 - val_mae: 20.6137 - val_acc: 0.0000e+00\n",
      "Epoch 2/500\n",
      "276/276 [==============================] - 0s 56us/step - loss: 403.9882 - mae: 19.0502 - acc: 0.0000e+00 - val_loss: 450.0574 - val_mae: 20.1126 - val_acc: 0.0000e+00\n",
      "Epoch 3/500\n",
      "276/276 [==============================] - 0s 57us/step - loss: 383.9835 - mae: 18.4876 - acc: 0.0000e+00 - val_loss: 427.7768 - val_mae: 19.5338 - val_acc: 0.0000e+00\n",
      "Epoch 4/500\n",
      "276/276 [==============================] - 0s 57us/step - loss: 360.9303 - mae: 17.8297 - acc: 0.0000e+00 - val_loss: 400.2854 - val_mae: 18.8126 - val_acc: 0.0000e+00\n",
      "Epoch 5/500\n",
      "276/276 [==============================] - 0s 0us/step - loss: 332.2279 - mae: 16.9969 - acc: 0.0000e+00 - val_loss: 365.9420 - val_mae: 17.8835 - val_acc: 0.0108\n",
      "Epoch 6/500\n",
      "276/276 [==============================] - 0s 57us/step - loss: 297.3888 - mae: 15.9280 - acc: 0.0036 - val_loss: 323.0951 - val_mae: 16.7118 - val_acc: 0.0000e+00\n",
      "Epoch 7/500\n",
      "276/276 [==============================] - 0s 82us/step - loss: 255.9097 - mae: 14.6133 - acc: 0.0036 - val_loss: 273.1967 - val_mae: 15.2778 - val_acc: 0.0000e+00\n",
      "Epoch 8/500\n",
      "276/276 [==============================] - 0s 0us/step - loss: 209.3319 - mae: 13.0951 - acc: 0.0000e+00 - val_loss: 218.7773 - val_mae: 13.6228 - val_acc: 0.0000e+00\n",
      "Epoch 9/500\n",
      "276/276 [==============================] - 0s 57us/step - loss: 161.9326 - mae: 11.4187 - acc: 0.0000e+00 - val_loss: 164.2617 - val_mae: 11.8010 - val_acc: 0.0000e+00\n",
      "Epoch 10/500\n",
      "276/276 [==============================] - 0s 0us/step - loss: 116.5571 - mae: 9.5945 - acc: 0.0000e+00 - val_loss: 115.4683 - val_mae: 9.8490 - val_acc: 0.0000e+00\n",
      "Epoch 11/500\n",
      "276/276 [==============================] - 0s 0us/step - loss: 80.6558 - mae: 7.8013 - acc: 0.0000e+00 - val_loss: 77.3575 - val_mae: 7.9154 - val_acc: 0.0000e+00\n",
      "Epoch 12/500\n",
      "276/276 [==============================] - 0s 57us/step - loss: 55.8701 - mae: 6.2545 - acc: 0.0036 - val_loss: 54.9476 - val_mae: 6.4326 - val_acc: 0.0000e+00\n",
      "Epoch 13/500\n",
      "276/276 [==============================] - 0s 57us/step - loss: 43.3964 - mae: 5.4119 - acc: 0.0072 - val_loss: 45.4101 - val_mae: 5.6825 - val_acc: 0.0000e+00\n",
      "Epoch 14/500\n",
      "276/276 [==============================] - 0s 0us/step - loss: 38.7376 - mae: 5.0762 - acc: 0.0000e+00 - val_loss: 41.7356 - val_mae: 5.4067 - val_acc: 0.0000e+00\n",
      "Epoch 15/500\n",
      "276/276 [==============================] - 0s 57us/step - loss: 36.6921 - mae: 4.9446 - acc: 0.0145 - val_loss: 39.2825 - val_mae: 5.2238 - val_acc: 0.0000e+00\n",
      "Epoch 16/500\n",
      "276/276 [==============================] - 0s 57us/step - loss: 34.2351 - mae: 4.7566 - acc: 0.0109 - val_loss: 37.2850 - val_mae: 5.0924 - val_acc: 0.0108\n",
      "Epoch 17/500\n",
      "276/276 [==============================] - 0s 0us/step - loss: 31.7061 - mae: 4.5402 - acc: 0.0036 - val_loss: 35.9287 - val_mae: 4.9958 - val_acc: 0.0108\n",
      "Epoch 18/500\n",
      "276/276 [==============================] - 0s 0us/step - loss: 29.7280 - mae: 4.3800 - acc: 0.0036 - val_loss: 34.6913 - val_mae: 4.9080 - val_acc: 0.0108\n",
      "Epoch 19/500\n",
      "276/276 [==============================] - 0s 57us/step - loss: 27.9557 - mae: 4.2347 - acc: 0.0072 - val_loss: 33.3159 - val_mae: 4.8060 - val_acc: 0.0108\n",
      "Epoch 20/500\n",
      "276/276 [==============================] - 0s 0us/step - loss: 26.3831 - mae: 4.1060 - acc: 0.0072 - val_loss: 31.8232 - val_mae: 4.6844 - val_acc: 0.0000e+00\n",
      "Epoch 21/500\n",
      "276/276 [==============================] - 0s 0us/step - loss: 25.0094 - mae: 3.9865 - acc: 0.0036 - val_loss: 30.4155 - val_mae: 4.5801 - val_acc: 0.0108\n",
      "Epoch 22/500\n",
      "276/276 [==============================] - 0s 57us/step - loss: 23.7109 - mae: 3.8610 - acc: 0.0072 - val_loss: 29.3752 - val_mae: 4.4983 - val_acc: 0.0108\n",
      "Epoch 23/500\n",
      "276/276 [==============================] - 0s 0us/step - loss: 22.6099 - mae: 3.7632 - acc: 0.0072 - val_loss: 28.3943 - val_mae: 4.4205 - val_acc: 0.0108\n",
      "Epoch 24/500\n",
      "276/276 [==============================] - 0s 0us/step - loss: 21.7334 - mae: 3.6756 - acc: 0.0109 - val_loss: 27.4930 - val_mae: 4.3465 - val_acc: 0.0000e+00\n",
      "Epoch 25/500\n",
      "276/276 [==============================] - 0s 57us/step - loss: 20.9942 - mae: 3.6023 - acc: 0.0109 - val_loss: 26.7070 - val_mae: 4.2748 - val_acc: 0.0000e+00\n",
      "Epoch 26/500\n",
      "276/276 [==============================] - 0s 61us/step - loss: 20.1737 - mae: 3.5172 - acc: 0.0145 - val_loss: 25.7284 - val_mae: 4.1998 - val_acc: 0.0000e+00\n",
      "Epoch 27/500\n",
      "276/276 [==============================] - 0s 0us/step - loss: 19.5317 - mae: 3.4488 - acc: 0.0145 - val_loss: 25.0541 - val_mae: 4.1332 - val_acc: 0.0000e+00\n",
      "Epoch 28/500\n",
      "276/276 [==============================] - 0s 57us/step - loss: 18.9867 - mae: 3.3954 - acc: 0.0145 - val_loss: 24.4050 - val_mae: 4.0754 - val_acc: 0.0000e+00\n",
      "Epoch 29/500\n",
      "276/276 [==============================] - 0s 57us/step - loss: 18.4492 - mae: 3.3392 - acc: 0.0181 - val_loss: 23.8408 - val_mae: 4.0285 - val_acc: 0.0000e+00\n",
      "Epoch 30/500\n",
      "276/276 [==============================] - 0s 0us/step - loss: 17.9307 - mae: 3.2836 - acc: 0.0145 - val_loss: 23.2538 - val_mae: 3.9853 - val_acc: 0.0000e+00\n",
      "Epoch 31/500\n",
      "276/276 [==============================] - 0s 57us/step - loss: 17.5119 - mae: 3.2421 - acc: 0.0109 - val_loss: 22.6148 - val_mae: 3.9338 - val_acc: 0.0000e+00\n",
      "Epoch 32/500\n",
      "276/276 [==============================] - 0s 57us/step - loss: 17.1293 - mae: 3.1972 - acc: 0.0109 - val_loss: 21.9299 - val_mae: 3.8779 - val_acc: 0.0000e+00\n",
      "Epoch 33/500\n",
      "276/276 [==============================] - 0s 0us/step - loss: 16.7513 - mae: 3.1553 - acc: 0.0109 - val_loss: 21.4160 - val_mae: 3.8371 - val_acc: 0.0000e+00\n",
      "Epoch 34/500\n",
      "276/276 [==============================] - 0s 57us/step - loss: 16.4548 - mae: 3.1296 - acc: 0.0109 - val_loss: 21.1254 - val_mae: 3.8164 - val_acc: 0.0000e+00\n",
      "Epoch 35/500\n",
      "276/276 [==============================] - 0s 57us/step - loss: 16.0722 - mae: 3.0927 - acc: 0.0109 - val_loss: 20.6816 - val_mae: 3.7797 - val_acc: 0.0000e+00\n",
      "Epoch 36/500\n",
      "276/276 [==============================] - 0s 0us/step - loss: 15.8085 - mae: 3.0587 - acc: 0.0109 - val_loss: 20.1720 - val_mae: 3.7320 - val_acc: 0.0000e+00\n",
      "Epoch 37/500\n",
      "276/276 [==============================] - 0s 0us/step - loss: 15.5807 - mae: 3.0248 - acc: 0.0109 - val_loss: 19.6970 - val_mae: 3.6888 - val_acc: 0.0000e+00\n",
      "Epoch 38/500\n",
      "276/276 [==============================] - 0s 57us/step - loss: 15.2564 - mae: 2.9950 - acc: 0.0109 - val_loss: 19.5862 - val_mae: 3.6850 - val_acc: 0.0000e+00\n",
      "Epoch 39/500\n",
      "276/276 [==============================] - 0s 0us/step - loss: 14.9996 - mae: 2.9691 - acc: 0.0109 - val_loss: 19.2870 - val_mae: 3.6597 - val_acc: 0.0000e+00\n",
      "Epoch 40/500\n",
      "276/276 [==============================] - 0s 0us/step - loss: 14.7984 - mae: 2.9496 - acc: 0.0109 - val_loss: 19.0637 - val_mae: 3.6439 - val_acc: 0.0000e+00\n",
      "Epoch 41/500\n",
      "276/276 [==============================] - 0s 57us/step - loss: 14.5385 - mae: 2.9258 - acc: 0.0109 - val_loss: 18.5767 - val_mae: 3.5925 - val_acc: 0.0000e+00\n",
      "Epoch 42/500\n",
      "276/276 [==============================] - 0s 57us/step - loss: 14.3202 - mae: 2.8982 - acc: 0.0145 - val_loss: 18.1971 - val_mae: 3.5579 - val_acc: 0.0000e+00\n",
      "Epoch 43/500\n",
      "276/276 [==============================] - 0s 57us/step - loss: 14.1174 - mae: 2.8738 - acc: 0.0109 - val_loss: 17.7582 - val_mae: 3.5140 - val_acc: 0.0000e+00\n",
      "Epoch 44/500\n",
      "276/276 [==============================] - 0s 0us/step - loss: 13.9981 - mae: 2.8674 - acc: 0.0072 - val_loss: 17.6729 - val_mae: 3.5131 - val_acc: 0.0000e+00\n",
      "Epoch 45/500\n",
      "276/276 [==============================] - 0s 57us/step - loss: 13.7312 - mae: 2.8372 - acc: 0.0145 - val_loss: 17.2421 - val_mae: 3.4657 - val_acc: 0.0000e+00\n",
      "Epoch 46/500\n",
      "276/276 [==============================] - 0s 57us/step - loss: 13.5223 - mae: 2.8133 - acc: 0.0109 - val_loss: 16.9917 - val_mae: 3.4419 - val_acc: 0.0000e+00\n",
      "Epoch 47/500\n",
      "276/276 [==============================] - 0s 0us/step - loss: 13.3732 - mae: 2.7931 - acc: 0.0109 - val_loss: 16.6026 - val_mae: 3.3968 - val_acc: 0.0000e+00\n",
      "Epoch 48/500\n",
      "276/276 [==============================] - 0s 57us/step - loss: 13.1673 - mae: 2.7723 - acc: 0.0145 - val_loss: 16.6991 - val_mae: 3.4184 - val_acc: 0.0000e+00\n",
      "Epoch 49/500\n",
      "276/276 [==============================] - 0s 57us/step - loss: 13.0234 - mae: 2.7666 - acc: 0.0145 - val_loss: 16.5548 - val_mae: 3.4029 - val_acc: 0.0000e+00\n",
      "Epoch 50/500\n",
      "276/276 [==============================] - 0s 0us/step - loss: 12.8653 - mae: 2.7487 - acc: 0.0145 - val_loss: 16.1097 - val_mae: 3.3508 - val_acc: 0.0000e+00\n",
      "Epoch 51/500\n",
      "276/276 [==============================] - 0s 57us/step - loss: 12.6948 - mae: 2.7268 - acc: 0.0145 - val_loss: 15.8228 - val_mae: 3.3180 - val_acc: 0.0000e+00\n",
      "Epoch 52/500\n",
      "276/276 [==============================] - 0s 57us/step - loss: 12.5647 - mae: 2.7134 - acc: 0.0145 - val_loss: 15.6455 - val_mae: 3.3001 - val_acc: 0.0000e+00\n",
      "Epoch 53/500\n",
      "276/276 [==============================] - 0s 57us/step - loss: 12.3974 - mae: 2.6989 - acc: 0.0145 - val_loss: 15.4368 - val_mae: 3.2792 - val_acc: 0.0000e+00\n",
      "Epoch 54/500\n",
      "276/276 [==============================] - 0s 0us/step - loss: 12.2980 - mae: 2.6947 - acc: 0.0109 - val_loss: 15.4061 - val_mae: 3.2794 - val_acc: 0.0000e+00\n",
      "Epoch 55/500\n",
      "276/276 [==============================] - 0s 57us/step - loss: 12.1230 - mae: 2.6748 - acc: 0.0145 - val_loss: 15.0758 - val_mae: 3.2366 - val_acc: 0.0000e+00\n",
      "Epoch 56/500\n",
      "276/276 [==============================] - 0s 65us/step - loss: 11.9994 - mae: 2.6526 - acc: 0.0109 - val_loss: 14.8094 - val_mae: 3.2032 - val_acc: 0.0000e+00\n",
      "Epoch 57/500\n",
      "276/276 [==============================] - 0s 11us/step - loss: 11.8943 - mae: 2.6368 - acc: 0.0145 - val_loss: 14.5776 - val_mae: 3.1767 - val_acc: 0.0000e+00\n",
      "Epoch 58/500\n",
      "276/276 [==============================] - 0s 57us/step - loss: 11.7650 - mae: 2.6304 - acc: 0.0072 - val_loss: 14.5555 - val_mae: 3.1809 - val_acc: 0.0000e+00\n",
      "Epoch 59/500\n",
      "276/276 [==============================] - 0s 0us/step - loss: 11.6371 - mae: 2.6193 - acc: 0.0109 - val_loss: 14.4509 - val_mae: 3.1697 - val_acc: 0.0000e+00\n",
      "Epoch 60/500\n",
      "276/276 [==============================] - 0s 57us/step - loss: 11.5431 - mae: 2.6128 - acc: 0.0109 - val_loss: 14.2341 - val_mae: 3.1433 - val_acc: 0.0000e+00\n",
      "Epoch 61/500\n",
      "276/276 [==============================] - 0s 57us/step - loss: 11.4252 - mae: 2.5924 - acc: 0.0145 - val_loss: 13.9801 - val_mae: 3.1105 - val_acc: 0.0000e+00\n",
      "Epoch 62/500\n",
      "276/276 [==============================] - 0s 0us/step - loss: 11.3045 - mae: 2.5784 - acc: 0.0145 - val_loss: 13.9429 - val_mae: 3.1096 - val_acc: 0.0000e+00\n",
      "Epoch 63/500\n",
      "276/276 [==============================] - 0s 57us/step - loss: 11.2095 - mae: 2.5775 - acc: 0.0145 - val_loss: 13.8844 - val_mae: 3.1073 - val_acc: 0.0000e+00\n",
      "Epoch 64/500\n",
      "276/276 [==============================] - 0s 0us/step - loss: 11.1326 - mae: 2.5744 - acc: 0.0072 - val_loss: 13.9098 - val_mae: 3.1147 - val_acc: 0.0000e+00\n",
      "Epoch 65/500\n",
      "276/276 [==============================] - 0s 0us/step - loss: 10.9537 - mae: 2.5548 - acc: 0.0109 - val_loss: 13.6717 - val_mae: 3.0839 - val_acc: 0.0000e+00\n",
      "Epoch 66/500\n",
      "276/276 [==============================] - 0s 57us/step - loss: 10.9258 - mae: 2.5482 - acc: 0.0145 - val_loss: 13.3473 - val_mae: 3.0414 - val_acc: 0.0000e+00\n",
      "Epoch 67/500\n",
      "276/276 [==============================] - 0s 57us/step - loss: 10.7428 - mae: 2.5296 - acc: 0.0145 - val_loss: 13.2564 - val_mae: 3.0313 - val_acc: 0.0108\n",
      "Epoch 68/500\n",
      "276/276 [==============================] - 0s 0us/step - loss: 10.6477 - mae: 2.5219 - acc: 0.0145 - val_loss: 13.1707 - val_mae: 3.0244 - val_acc: 0.0108\n",
      "Epoch 69/500\n",
      "276/276 [==============================] - 0s 57us/step - loss: 10.5305 - mae: 2.5096 - acc: 0.0109 - val_loss: 13.1149 - val_mae: 3.0208 - val_acc: 0.0000e+00\n",
      "Epoch 70/500\n",
      "276/276 [==============================] - 0s 57us/step - loss: 10.4505 - mae: 2.5026 - acc: 0.0109 - val_loss: 13.0646 - val_mae: 3.0168 - val_acc: 0.0108\n",
      "Epoch 71/500\n",
      "276/276 [==============================] - 0s 0us/step - loss: 10.3308 - mae: 2.4887 - acc: 0.0145 - val_loss: 12.9418 - val_mae: 2.9983 - val_acc: 0.0000e+00\n",
      "Epoch 72/500\n",
      "276/276 [==============================] - 0s 57us/step - loss: 10.2357 - mae: 2.4755 - acc: 0.0145 - val_loss: 12.7785 - val_mae: 2.9742 - val_acc: 0.0000e+00\n",
      "Epoch 73/500\n",
      "276/276 [==============================] - 0s 57us/step - loss: 10.1555 - mae: 2.4705 - acc: 0.0145 - val_loss: 12.7044 - val_mae: 2.9669 - val_acc: 0.0108\n",
      "Epoch 74/500\n",
      "276/276 [==============================] - 0s 0us/step - loss: 10.0525 - mae: 2.4587 - acc: 0.0181 - val_loss: 12.6039 - val_mae: 2.9547 - val_acc: 0.0108\n",
      "Epoch 75/500\n",
      "276/276 [==============================] - 0s 57us/step - loss: 9.9741 - mae: 2.4477 - acc: 0.0181 - val_loss: 12.3703 - val_mae: 2.9208 - val_acc: 0.0108\n",
      "Epoch 76/500\n",
      "276/276 [==============================] - 0s 57us/step - loss: 9.8719 - mae: 2.4327 - acc: 0.0217 - val_loss: 12.2579 - val_mae: 2.9062 - val_acc: 0.0108\n",
      "Epoch 77/500\n",
      "276/276 [==============================] - 0s 0us/step - loss: 9.7997 - mae: 2.4258 - acc: 0.0181 - val_loss: 12.2562 - val_mae: 2.9099 - val_acc: 0.0108\n",
      "Epoch 78/500\n",
      "276/276 [==============================] - 0s 61us/step - loss: 9.7222 - mae: 2.4240 - acc: 0.0181 - val_loss: 12.2233 - val_mae: 2.9099 - val_acc: 0.0215\n",
      "Epoch 79/500\n",
      "276/276 [==============================] - 0s 57us/step - loss: 9.6601 - mae: 2.4149 - acc: 0.0145 - val_loss: 12.1668 - val_mae: 2.9016 - val_acc: 0.0108\n",
      "Epoch 80/500\n",
      "276/276 [==============================] - 0s 0us/step - loss: 9.5480 - mae: 2.4019 - acc: 0.0181 - val_loss: 12.0716 - val_mae: 2.8830 - val_acc: 0.0108\n",
      "Epoch 81/500\n",
      "276/276 [==============================] - 0s 57us/step - loss: 9.4744 - mae: 2.3939 - acc: 0.0181 - val_loss: 11.9040 - val_mae: 2.8559 - val_acc: 0.0108\n",
      "Epoch 82/500\n",
      "276/276 [==============================] - 0s 57us/step - loss: 9.4164 - mae: 2.3859 - acc: 0.0217 - val_loss: 11.7654 - val_mae: 2.8358 - val_acc: 0.0108\n",
      "Epoch 83/500\n",
      "276/276 [==============================] - 0s 0us/step - loss: 9.3336 - mae: 2.3806 - acc: 0.0217 - val_loss: 11.7955 - val_mae: 2.8457 - val_acc: 0.0108\n",
      "Epoch 84/500\n",
      "276/276 [==============================] - 0s 56us/step - loss: 9.2769 - mae: 2.3772 - acc: 0.0181 - val_loss: 11.7297 - val_mae: 2.8366 - val_acc: 0.0215\n",
      "Epoch 85/500\n",
      "276/276 [==============================] - 0s 57us/step - loss: 9.2217 - mae: 2.3739 - acc: 0.0181 - val_loss: 11.7127 - val_mae: 2.8362 - val_acc: 0.0215\n",
      "Epoch 86/500\n",
      "276/276 [==============================] - 0s 0us/step - loss: 9.1435 - mae: 2.3624 - acc: 0.0181 - val_loss: 11.6097 - val_mae: 2.8162 - val_acc: 0.0215\n",
      "Epoch 87/500\n",
      "276/276 [==============================] - 0s 57us/step - loss: 9.0603 - mae: 2.3478 - acc: 0.0181 - val_loss: 11.5067 - val_mae: 2.8020 - val_acc: 0.0215\n",
      "Epoch 88/500\n",
      "276/276 [==============================] - 0s 57us/step - loss: 9.0092 - mae: 2.3452 - acc: 0.0181 - val_loss: 11.5367 - val_mae: 2.8087 - val_acc: 0.0215\n",
      "Epoch 89/500\n",
      "276/276 [==============================] - 0s 0us/step - loss: 8.9018 - mae: 2.3324 - acc: 0.0181 - val_loss: 11.3341 - val_mae: 2.7774 - val_acc: 0.0215\n",
      "Epoch 90/500\n",
      "276/276 [==============================] - 0s 56us/step - loss: 8.8739 - mae: 2.3287 - acc: 0.0254 - val_loss: 11.1952 - val_mae: 2.7554 - val_acc: 0.0108\n",
      "Epoch 91/500\n",
      "276/276 [==============================] - 0s 57us/step - loss: 8.8101 - mae: 2.3225 - acc: 0.0254 - val_loss: 11.2289 - val_mae: 2.7648 - val_acc: 0.0215\n",
      "Epoch 92/500\n",
      "276/276 [==============================] - 0s 0us/step - loss: 8.7367 - mae: 2.3110 - acc: 0.0254 - val_loss: 11.1199 - val_mae: 2.7447 - val_acc: 0.0215\n",
      "Epoch 93/500\n",
      "276/276 [==============================] - 0s 57us/step - loss: 8.7001 - mae: 2.3040 - acc: 0.0181 - val_loss: 11.1575 - val_mae: 2.7509 - val_acc: 0.0215\n",
      "Epoch 94/500\n",
      "276/276 [==============================] - 0s 57us/step - loss: 8.6296 - mae: 2.3016 - acc: 0.0217 - val_loss: 11.1660 - val_mae: 2.7544 - val_acc: 0.0215\n",
      "Epoch 95/500\n",
      "276/276 [==============================] - 0s 0us/step - loss: 8.5662 - mae: 2.2973 - acc: 0.0254 - val_loss: 10.9917 - val_mae: 2.7236 - val_acc: 0.0215\n",
      "Epoch 96/500\n",
      "276/276 [==============================] - 0s 57us/step - loss: 8.4875 - mae: 2.2862 - acc: 0.0254 - val_loss: 10.9339 - val_mae: 2.7118 - val_acc: 0.0215\n",
      "Epoch 97/500\n",
      "276/276 [==============================] - 0s 57us/step - loss: 8.4462 - mae: 2.2792 - acc: 0.0217 - val_loss: 11.0926 - val_mae: 2.7394 - val_acc: 0.0215\n",
      "Epoch 98/500\n",
      "276/276 [==============================] - 0s 0us/step - loss: 8.3727 - mae: 2.2737 - acc: 0.0217 - val_loss: 10.9835 - val_mae: 2.7211 - val_acc: 0.0215\n",
      "Epoch 99/500\n",
      "276/276 [==============================] - 0s 57us/step - loss: 8.3186 - mae: 2.2663 - acc: 0.0217 - val_loss: 10.7147 - val_mae: 2.6835 - val_acc: 0.0215\n",
      "Epoch 100/500\n",
      "276/276 [==============================] - 0s 57us/step - loss: 8.2527 - mae: 2.2550 - acc: 0.0254 - val_loss: 10.7478 - val_mae: 2.6878 - val_acc: 0.0215\n",
      "Epoch 101/500\n",
      "276/276 [==============================] - 0s 0us/step - loss: 8.2206 - mae: 2.2498 - acc: 0.0217 - val_loss: 10.6641 - val_mae: 2.6829 - val_acc: 0.0215\n",
      "Epoch 102/500\n",
      "276/276 [==============================] - 0s 0us/step - loss: 8.1618 - mae: 2.2456 - acc: 0.0217 - val_loss: 10.6691 - val_mae: 2.6784 - val_acc: 0.0215\n",
      "Epoch 103/500\n",
      "276/276 [==============================] - 0s 57us/step - loss: 8.1059 - mae: 2.2412 - acc: 0.0217 - val_loss: 10.5419 - val_mae: 2.6498 - val_acc: 0.0215\n",
      "Epoch 104/500\n",
      "276/276 [==============================] - 0s 0us/step - loss: 8.0451 - mae: 2.2317 - acc: 0.0254 - val_loss: 10.4581 - val_mae: 2.6409 - val_acc: 0.0215\n",
      "Epoch 105/500\n",
      "276/276 [==============================] - 0s 0us/step - loss: 7.9970 - mae: 2.2271 - acc: 0.0254 - val_loss: 10.4948 - val_mae: 2.6564 - val_acc: 0.0215\n",
      "Epoch 106/500\n",
      "276/276 [==============================] - 0s 57us/step - loss: 8.0038 - mae: 2.2287 - acc: 0.0217 - val_loss: 10.4462 - val_mae: 2.6579 - val_acc: 0.0215\n",
      "Epoch 107/500\n",
      "276/276 [==============================] - 0s 0us/step - loss: 7.8790 - mae: 2.2024 - acc: 0.0217 - val_loss: 10.3007 - val_mae: 2.6161 - val_acc: 0.0215\n",
      "Epoch 108/500\n",
      "276/276 [==============================] - 0s 0us/step - loss: 7.8678 - mae: 2.2068 - acc: 0.0254 - val_loss: 10.2969 - val_mae: 2.6071 - val_acc: 0.0215\n",
      "Epoch 109/500\n",
      "276/276 [==============================] - 0s 57us/step - loss: 7.8090 - mae: 2.1993 - acc: 0.0217 - val_loss: 10.2665 - val_mae: 2.6109 - val_acc: 0.0215\n",
      "Epoch 110/500\n",
      "276/276 [==============================] - 0s 57us/step - loss: 7.7914 - mae: 2.1993 - acc: 0.0217 - val_loss: 10.2726 - val_mae: 2.6325 - val_acc: 0.0215\n",
      "Epoch 111/500\n",
      "276/276 [==============================] - 0s 0us/step - loss: 7.7162 - mae: 2.1896 - acc: 0.0217 - val_loss: 10.1479 - val_mae: 2.5928 - val_acc: 0.0215\n",
      "Epoch 112/500\n",
      "276/276 [==============================] - 0s 56us/step - loss: 7.7271 - mae: 2.1886 - acc: 0.0181 - val_loss: 10.1083 - val_mae: 2.5735 - val_acc: 0.0215\n",
      "Epoch 113/500\n",
      "276/276 [==============================] - 0s 57us/step - loss: 7.6378 - mae: 2.1770 - acc: 0.0254 - val_loss: 10.0959 - val_mae: 2.5908 - val_acc: 0.0215\n",
      "Epoch 114/500\n",
      "276/276 [==============================] - 0s 0us/step - loss: 7.6013 - mae: 2.1707 - acc: 0.0217 - val_loss: 10.1051 - val_mae: 2.6012 - val_acc: 0.0215\n",
      "Epoch 115/500\n",
      "276/276 [==============================] - 0s 57us/step - loss: 7.5386 - mae: 2.1662 - acc: 0.0217 - val_loss: 10.0573 - val_mae: 2.5931 - val_acc: 0.0215\n",
      "Epoch 116/500\n",
      "276/276 [==============================] - 0s 57us/step - loss: 7.4963 - mae: 2.1601 - acc: 0.0217 - val_loss: 9.9232 - val_mae: 2.5548 - val_acc: 0.0215\n",
      "Epoch 117/500\n",
      "276/276 [==============================] - 0s 0us/step - loss: 7.4459 - mae: 2.1514 - acc: 0.0217 - val_loss: 9.9580 - val_mae: 2.5714 - val_acc: 0.0215\n",
      "Epoch 118/500\n",
      "276/276 [==============================] - 0s 56us/step - loss: 7.4034 - mae: 2.1476 - acc: 0.0217 - val_loss: 9.8426 - val_mae: 2.5587 - val_acc: 0.0215\n",
      "Epoch 119/500\n",
      "276/276 [==============================] - 0s 57us/step - loss: 7.3821 - mae: 2.1429 - acc: 0.0181 - val_loss: 9.8065 - val_mae: 2.5396 - val_acc: 0.0215\n",
      "Epoch 120/500\n",
      "276/276 [==============================] - 0s 0us/step - loss: 7.3074 - mae: 2.1351 - acc: 0.0217 - val_loss: 9.8449 - val_mae: 2.5592 - val_acc: 0.0215\n",
      "Epoch 121/500\n",
      "276/276 [==============================] - 0s 0us/step - loss: 7.2837 - mae: 2.1308 - acc: 0.0217 - val_loss: 9.7399 - val_mae: 2.5389 - val_acc: 0.0215\n",
      "Epoch 122/500\n",
      "276/276 [==============================] - 0s 57us/step - loss: 7.2507 - mae: 2.1294 - acc: 0.0217 - val_loss: 9.7579 - val_mae: 2.5448 - val_acc: 0.0215\n",
      "Epoch 123/500\n",
      "276/276 [==============================] - 0s 0us/step - loss: 7.2237 - mae: 2.1247 - acc: 0.0217 - val_loss: 9.6131 - val_mae: 2.5028 - val_acc: 0.0323\n",
      "Epoch 124/500\n",
      "276/276 [==============================] - 0s 0us/step - loss: 7.2127 - mae: 2.1205 - acc: 0.0217 - val_loss: 9.7389 - val_mae: 2.5474 - val_acc: 0.0108\n",
      "Epoch 125/500\n",
      "276/276 [==============================] - 0s 57us/step - loss: 7.1288 - mae: 2.1131 - acc: 0.0181 - val_loss: 9.5372 - val_mae: 2.4927 - val_acc: 0.0323\n",
      "Epoch 126/500\n",
      "276/276 [==============================] - 0s 0us/step - loss: 7.1327 - mae: 2.1083 - acc: 0.0217 - val_loss: 9.5630 - val_mae: 2.5015 - val_acc: 0.0215\n",
      "Epoch 127/500\n",
      "276/276 [==============================] - 0s 0us/step - loss: 7.0379 - mae: 2.0979 - acc: 0.0217 - val_loss: 9.4825 - val_mae: 2.4954 - val_acc: 0.0215\n",
      "Epoch 128/500\n",
      "276/276 [==============================] - 0s 57us/step - loss: 7.0470 - mae: 2.0992 - acc: 0.0217 - val_loss: 9.4389 - val_mae: 2.4892 - val_acc: 0.0215\n",
      "Epoch 129/500\n",
      "276/276 [==============================] - 0s 57us/step - loss: 7.0023 - mae: 2.0920 - acc: 0.0181 - val_loss: 9.4149 - val_mae: 2.4843 - val_acc: 0.0323\n",
      "Epoch 130/500\n",
      "276/276 [==============================] - 0s 0us/step - loss: 6.9554 - mae: 2.0876 - acc: 0.0181 - val_loss: 9.5152 - val_mae: 2.5084 - val_acc: 0.0323\n",
      "Epoch 131/500\n",
      "276/276 [==============================] - 0s 57us/step - loss: 6.9414 - mae: 2.0863 - acc: 0.0217 - val_loss: 9.4294 - val_mae: 2.4851 - val_acc: 0.0215\n",
      "Epoch 132/500\n",
      "276/276 [==============================] - 0s 57us/step - loss: 6.9080 - mae: 2.0755 - acc: 0.0217 - val_loss: 9.2237 - val_mae: 2.4305 - val_acc: 0.0323\n",
      "Epoch 133/500\n",
      "276/276 [==============================] - 0s 0us/step - loss: 6.8740 - mae: 2.0753 - acc: 0.0181 - val_loss: 9.2877 - val_mae: 2.4619 - val_acc: 0.0323\n",
      "Epoch 134/500\n",
      "276/276 [==============================] - 0s 0us/step - loss: 6.8446 - mae: 2.0753 - acc: 0.0181 - val_loss: 9.2723 - val_mae: 2.4719 - val_acc: 0.0215\n",
      "Epoch 135/500\n",
      "276/276 [==============================] - 0s 57us/step - loss: 6.7739 - mae: 2.0611 - acc: 0.0217 - val_loss: 9.2114 - val_mae: 2.4477 - val_acc: 0.0215\n",
      "Epoch 136/500\n",
      "276/276 [==============================] - 0s 0us/step - loss: 6.7439 - mae: 2.0578 - acc: 0.0181 - val_loss: 9.1383 - val_mae: 2.4289 - val_acc: 0.0215\n",
      "Epoch 137/500\n",
      "276/276 [==============================] - 0s 0us/step - loss: 6.7283 - mae: 2.0522 - acc: 0.0181 - val_loss: 9.2203 - val_mae: 2.4495 - val_acc: 0.0215\n",
      "Epoch 138/500\n",
      "276/276 [==============================] - 0s 57us/step - loss: 6.6690 - mae: 2.0476 - acc: 0.0181 - val_loss: 9.1302 - val_mae: 2.4307 - val_acc: 0.0215\n",
      "Epoch 139/500\n",
      "276/276 [==============================] - 0s 57us/step - loss: 6.6962 - mae: 2.0546 - acc: 0.0181 - val_loss: 9.1238 - val_mae: 2.4271 - val_acc: 0.0215\n",
      "Epoch 140/500\n",
      "276/276 [==============================] - 0s 0us/step - loss: 6.6409 - mae: 2.0448 - acc: 0.0181 - val_loss: 9.2082 - val_mae: 2.4542 - val_acc: 0.0215\n",
      "Epoch 141/500\n",
      "276/276 [==============================] - 0s 57us/step - loss: 6.6090 - mae: 2.0359 - acc: 0.0181 - val_loss: 8.9317 - val_mae: 2.3919 - val_acc: 0.0215\n",
      "Epoch 142/500\n",
      "276/276 [==============================] - 0s 57us/step - loss: 6.5837 - mae: 2.0336 - acc: 0.0145 - val_loss: 8.9562 - val_mae: 2.3983 - val_acc: 0.0215\n",
      "Epoch 143/500\n",
      "276/276 [==============================] - 0s 0us/step - loss: 6.5713 - mae: 2.0288 - acc: 0.0217 - val_loss: 8.9681 - val_mae: 2.4382 - val_acc: 0.0108\n",
      "Epoch 144/500\n",
      "276/276 [==============================] - 0s 57us/step - loss: 6.5039 - mae: 2.0210 - acc: 0.0217 - val_loss: 8.8506 - val_mae: 2.3907 - val_acc: 0.0215\n",
      "Epoch 145/500\n",
      "276/276 [==============================] - 0s 57us/step - loss: 6.4770 - mae: 2.0174 - acc: 0.0181 - val_loss: 8.8565 - val_mae: 2.3812 - val_acc: 0.0215\n",
      "Epoch 146/500\n",
      "276/276 [==============================] - 0s 57us/step - loss: 6.4463 - mae: 2.0136 - acc: 0.0181 - val_loss: 8.8417 - val_mae: 2.3904 - val_acc: 0.0215\n",
      "Epoch 147/500\n",
      "276/276 [==============================] - 0s 0us/step - loss: 6.4057 - mae: 2.0040 - acc: 0.0181 - val_loss: 8.8003 - val_mae: 2.3897 - val_acc: 0.0215\n",
      "Epoch 148/500\n",
      "276/276 [==============================] - 0s 57us/step - loss: 6.4280 - mae: 2.0105 - acc: 0.0181 - val_loss: 8.9393 - val_mae: 2.4197 - val_acc: 0.0108\n",
      "Epoch 149/500\n",
      "276/276 [==============================] - 0s 57us/step - loss: 6.3680 - mae: 2.0064 - acc: 0.0145 - val_loss: 8.8049 - val_mae: 2.3608 - val_acc: 0.0215\n",
      "Epoch 150/500\n",
      "276/276 [==============================] - 0s 0us/step - loss: 6.3367 - mae: 1.9975 - acc: 0.0181 - val_loss: 8.7932 - val_mae: 2.3680 - val_acc: 0.0215\n",
      "Epoch 151/500\n",
      "276/276 [==============================] - 0s 57us/step - loss: 6.3677 - mae: 1.9948 - acc: 0.0181 - val_loss: 8.8397 - val_mae: 2.3941 - val_acc: 0.0108\n",
      "Epoch 152/500\n",
      "276/276 [==============================] - 0s 61us/step - loss: 6.3428 - mae: 1.9920 - acc: 0.0181 - val_loss: 8.7401 - val_mae: 2.3546 - val_acc: 0.0323\n",
      "Epoch 153/500\n",
      "276/276 [==============================] - 0s 0us/step - loss: 6.2359 - mae: 1.9799 - acc: 0.0217 - val_loss: 8.7508 - val_mae: 2.3607 - val_acc: 0.0108\n",
      "Epoch 154/500\n",
      "276/276 [==============================] - 0s 57us/step - loss: 6.2013 - mae: 1.9749 - acc: 0.0181 - val_loss: 8.7251 - val_mae: 2.3549 - val_acc: 0.0108\n",
      "Epoch 155/500\n",
      "276/276 [==============================] - 0s 57us/step - loss: 6.1735 - mae: 1.9756 - acc: 0.0181 - val_loss: 8.7371 - val_mae: 2.3717 - val_acc: 0.0108\n",
      "Epoch 156/500\n",
      "276/276 [==============================] - 0s 0us/step - loss: 6.1513 - mae: 1.9666 - acc: 0.0181 - val_loss: 8.5579 - val_mae: 2.3279 - val_acc: 0.0215\n",
      "Epoch 157/500\n",
      "276/276 [==============================] - 0s 57us/step - loss: 6.1314 - mae: 1.9635 - acc: 0.0181 - val_loss: 8.5828 - val_mae: 2.3408 - val_acc: 0.0108\n",
      "Epoch 158/500\n",
      "276/276 [==============================] - 0s 57us/step - loss: 6.0912 - mae: 1.9589 - acc: 0.0217 - val_loss: 8.6525 - val_mae: 2.3571 - val_acc: 0.0108\n",
      "Epoch 159/500\n",
      "276/276 [==============================] - 0s 0us/step - loss: 6.1016 - mae: 1.9604 - acc: 0.0181 - val_loss: 8.6060 - val_mae: 2.3534 - val_acc: 0.0108\n",
      "Epoch 160/500\n",
      "276/276 [==============================] - 0s 57us/step - loss: 6.0675 - mae: 1.9473 - acc: 0.0181 - val_loss: 8.3849 - val_mae: 2.2905 - val_acc: 0.0215\n",
      "Epoch 161/500\n",
      "276/276 [==============================] - 0s 57us/step - loss: 6.0667 - mae: 1.9568 - acc: 0.0109 - val_loss: 8.5355 - val_mae: 2.3387 - val_acc: 0.0108\n",
      "Epoch 162/500\n",
      "276/276 [==============================] - 0s 0us/step - loss: 5.9781 - mae: 1.9380 - acc: 0.0145 - val_loss: 8.4452 - val_mae: 2.3022 - val_acc: 0.0215\n",
      "Epoch 163/500\n",
      "276/276 [==============================] - 0s 57us/step - loss: 5.9398 - mae: 1.9283 - acc: 0.0145 - val_loss: 8.5071 - val_mae: 2.3157 - val_acc: 0.0215\n",
      "Epoch 164/500\n",
      "276/276 [==============================] - 0s 57us/step - loss: 6.0051 - mae: 1.9517 - acc: 0.0145 - val_loss: 8.6898 - val_mae: 2.3688 - val_acc: 0.0108\n",
      "Epoch 165/500\n",
      "276/276 [==============================] - 0s 0us/step - loss: 5.8914 - mae: 1.9336 - acc: 0.0145 - val_loss: 8.5878 - val_mae: 2.3230 - val_acc: 0.0323\n",
      "Epoch 166/500\n",
      "276/276 [==============================] - 0s 57us/step - loss: 5.8818 - mae: 1.9247 - acc: 0.0145 - val_loss: 8.2754 - val_mae: 2.2620 - val_acc: 0.0215\n",
      "Epoch 167/500\n",
      "276/276 [==============================] - 0s 57us/step - loss: 5.8603 - mae: 1.9144 - acc: 0.0181 - val_loss: 8.3416 - val_mae: 2.3060 - val_acc: 0.0108\n",
      "Epoch 168/500\n",
      "276/276 [==============================] - 0s 0us/step - loss: 5.8225 - mae: 1.9115 - acc: 0.0145 - val_loss: 8.3943 - val_mae: 2.2987 - val_acc: 0.0108\n",
      "Epoch 169/500\n",
      "276/276 [==============================] - 0s 0us/step - loss: 5.7920 - mae: 1.9113 - acc: 0.0145 - val_loss: 8.4612 - val_mae: 2.3121 - val_acc: 0.0215\n",
      "Epoch 170/500\n",
      "276/276 [==============================] - 0s 57us/step - loss: 5.7741 - mae: 1.9051 - acc: 0.0181 - val_loss: 8.4239 - val_mae: 2.2833 - val_acc: 0.0215\n",
      "Epoch 171/500\n",
      "276/276 [==============================] - 0s 57us/step - loss: 5.7503 - mae: 1.8964 - acc: 0.0181 - val_loss: 8.4396 - val_mae: 2.3077 - val_acc: 0.0215\n",
      "Epoch 172/500\n",
      "276/276 [==============================] - 0s 0us/step - loss: 5.7080 - mae: 1.8903 - acc: 0.0181 - val_loss: 8.3282 - val_mae: 2.2854 - val_acc: 0.0108\n",
      "Epoch 173/500\n",
      "276/276 [==============================] - 0s 57us/step - loss: 5.6701 - mae: 1.8832 - acc: 0.0181 - val_loss: 8.3802 - val_mae: 2.3030 - val_acc: 0.0108\n",
      "Epoch 174/500\n",
      "276/276 [==============================] - 0s 57us/step - loss: 5.6320 - mae: 1.8784 - acc: 0.0181 - val_loss: 8.3600 - val_mae: 2.2856 - val_acc: 0.0215\n",
      "Epoch 175/500\n",
      "276/276 [==============================] - 0s 0us/step - loss: 5.6181 - mae: 1.8749 - acc: 0.0145 - val_loss: 8.3320 - val_mae: 2.2744 - val_acc: 0.0215\n",
      "Epoch 176/500\n",
      "276/276 [==============================] - 0s 57us/step - loss: 5.5890 - mae: 1.8670 - acc: 0.0181 - val_loss: 8.2982 - val_mae: 2.2737 - val_acc: 0.0323\n",
      "Epoch 177/500\n",
      "276/276 [==============================] - 0s 57us/step - loss: 5.5737 - mae: 1.8684 - acc: 0.0109 - val_loss: 8.3242 - val_mae: 2.2944 - val_acc: 0.0215\n",
      "Epoch 178/500\n",
      "276/276 [==============================] - 0s 0us/step - loss: 5.5591 - mae: 1.8689 - acc: 0.0109 - val_loss: 8.2814 - val_mae: 2.2959 - val_acc: 0.0108\n",
      "Epoch 179/500\n",
      "276/276 [==============================] - 0s 57us/step - loss: 5.5128 - mae: 1.8567 - acc: 0.0145 - val_loss: 8.1841 - val_mae: 2.2520 - val_acc: 0.0108\n",
      "Epoch 180/500\n",
      "276/276 [==============================] - 0s 57us/step - loss: 5.4870 - mae: 1.8532 - acc: 0.0145 - val_loss: 8.3011 - val_mae: 2.2780 - val_acc: 0.0323\n",
      "Epoch 181/500\n",
      "276/276 [==============================] - 0s 0us/step - loss: 5.5404 - mae: 1.8656 - acc: 0.0072 - val_loss: 8.3989 - val_mae: 2.3186 - val_acc: 0.0215\n",
      "Epoch 182/500\n",
      "276/276 [==============================] - 0s 0us/step - loss: 5.4259 - mae: 1.8418 - acc: 0.0181 - val_loss: 8.1148 - val_mae: 2.2464 - val_acc: 0.0000e+00\n",
      "Epoch 183/500\n",
      "276/276 [==============================] - 0s 57us/step - loss: 5.4514 - mae: 1.8429 - acc: 0.0145 - val_loss: 8.0092 - val_mae: 2.2335 - val_acc: 0.0215\n",
      "Epoch 184/500\n",
      "276/276 [==============================] - 0s 0us/step - loss: 5.4004 - mae: 1.8396 - acc: 0.0109 - val_loss: 8.2753 - val_mae: 2.2767 - val_acc: 0.0108\n",
      "Epoch 185/500\n",
      "276/276 [==============================] - 0s 0us/step - loss: 5.3907 - mae: 1.8390 - acc: 0.0109 - val_loss: 8.2431 - val_mae: 2.2702 - val_acc: 0.0000e+00\n",
      "Epoch 186/500\n",
      "276/276 [==============================] - 0s 57us/step - loss: 5.3374 - mae: 1.8304 - acc: 0.0109 - val_loss: 8.1838 - val_mae: 2.2314 - val_acc: 0.0215\n",
      "Epoch 187/500\n",
      "276/276 [==============================] - 0s 0us/step - loss: 5.3049 - mae: 1.8198 - acc: 0.0145 - val_loss: 8.1571 - val_mae: 2.2500 - val_acc: 0.0108\n",
      "Epoch 188/500\n",
      "276/276 [==============================] - 0s 0us/step - loss: 5.2915 - mae: 1.8154 - acc: 0.0145 - val_loss: 8.2238 - val_mae: 2.2671 - val_acc: 0.0108\n",
      "Epoch 189/500\n",
      "276/276 [==============================] - 0s 57us/step - loss: 5.3070 - mae: 1.8225 - acc: 0.0109 - val_loss: 8.1163 - val_mae: 2.2307 - val_acc: 0.0108\n",
      "Epoch 190/500\n",
      "276/276 [==============================] - 0s 57us/step - loss: 5.2922 - mae: 1.8100 - acc: 0.0145 - val_loss: 8.2590 - val_mae: 2.2915 - val_acc: 0.0000e+00\n",
      "Epoch 191/500\n",
      "276/276 [==============================] - 0s 0us/step - loss: 5.2667 - mae: 1.8269 - acc: 0.0109 - val_loss: 8.0728 - val_mae: 2.2100 - val_acc: 0.0215\n",
      "Epoch 192/500\n",
      "276/276 [==============================] - 0s 57us/step - loss: 5.1984 - mae: 1.8012 - acc: 0.0072 - val_loss: 8.1987 - val_mae: 2.2606 - val_acc: 0.0000e+00\n",
      "Epoch 193/500\n",
      "276/276 [==============================] - 0s 57us/step - loss: 5.1797 - mae: 1.8006 - acc: 0.0072 - val_loss: 8.1167 - val_mae: 2.2542 - val_acc: 0.0000e+00\n",
      "Epoch 194/500\n",
      "276/276 [==============================] - 0s 0us/step - loss: 5.1606 - mae: 1.7992 - acc: 0.0072 - val_loss: 8.1360 - val_mae: 2.2507 - val_acc: 0.0215\n",
      "Epoch 195/500\n",
      "276/276 [==============================] - 0s 57us/step - loss: 5.1545 - mae: 1.7975 - acc: 0.0072 - val_loss: 8.0992 - val_mae: 2.2409 - val_acc: 0.0108\n",
      "Epoch 196/500\n",
      "276/276 [==============================] - 0s 57us/step - loss: 5.0918 - mae: 1.7832 - acc: 0.0109 - val_loss: 8.0550 - val_mae: 2.2268 - val_acc: 0.0215\n",
      "Epoch 197/500\n",
      "276/276 [==============================] - 0s 0us/step - loss: 5.1092 - mae: 1.7838 - acc: 0.0109 - val_loss: 8.0660 - val_mae: 2.2387 - val_acc: 0.0108\n",
      "Epoch 198/500\n",
      "276/276 [==============================] - 0s 57us/step - loss: 5.0921 - mae: 1.7880 - acc: 0.0072 - val_loss: 8.0089 - val_mae: 2.2120 - val_acc: 0.0215\n",
      "Epoch 199/500\n",
      "276/276 [==============================] - 0s 57us/step - loss: 5.0426 - mae: 1.7739 - acc: 0.0072 - val_loss: 8.0581 - val_mae: 2.2377 - val_acc: 0.0000e+00\n",
      "Epoch 200/500\n",
      "276/276 [==============================] - 0s 0us/step - loss: 5.0585 - mae: 1.7763 - acc: 0.0072 - val_loss: 8.1748 - val_mae: 2.2507 - val_acc: 0.0108\n",
      "Epoch 201/500\n",
      "276/276 [==============================] - 0s 57us/step - loss: 4.9905 - mae: 1.7611 - acc: 0.0109 - val_loss: 8.0410 - val_mae: 2.2131 - val_acc: 0.0215\n",
      "Epoch 202/500\n",
      "276/276 [==============================] - 0s 57us/step - loss: 5.0217 - mae: 1.7727 - acc: 0.0072 - val_loss: 8.0389 - val_mae: 2.2235 - val_acc: 0.0215\n",
      "Epoch 203/500\n",
      "276/276 [==============================] - 0s 0us/step - loss: 4.9657 - mae: 1.7634 - acc: 0.0072 - val_loss: 8.1555 - val_mae: 2.2402 - val_acc: 0.0108\n",
      "Epoch 204/500\n",
      "276/276 [==============================] - 0s 57us/step - loss: 5.0349 - mae: 1.7634 - acc: 0.0109 - val_loss: 8.2352 - val_mae: 2.2651 - val_acc: 0.0108\n",
      "Epoch 205/500\n",
      "276/276 [==============================] - 0s 57us/step - loss: 4.9249 - mae: 1.7578 - acc: 0.0109 - val_loss: 8.0774 - val_mae: 2.2227 - val_acc: 0.0215\n",
      "Epoch 206/500\n",
      "276/276 [==============================] - 0s 0us/step - loss: 4.9537 - mae: 1.7666 - acc: 0.0036 - val_loss: 8.1317 - val_mae: 2.2335 - val_acc: 0.0323\n",
      "Epoch 207/500\n",
      "276/276 [==============================] - 0s 57us/step - loss: 4.8903 - mae: 1.7451 - acc: 0.0109 - val_loss: 8.1237 - val_mae: 2.2343 - val_acc: 0.0215\n",
      "Epoch 208/500\n",
      "276/276 [==============================] - 0s 57us/step - loss: 4.8722 - mae: 1.7448 - acc: 0.0109 - val_loss: 8.0875 - val_mae: 2.2326 - val_acc: 0.0323\n",
      "Epoch 209/500\n",
      "276/276 [==============================] - 0s 0us/step - loss: 4.8608 - mae: 1.7440 - acc: 0.0072 - val_loss: 7.9637 - val_mae: 2.2215 - val_acc: 0.0215\n",
      "Epoch 210/500\n",
      "276/276 [==============================] - 0s 57us/step - loss: 4.8992 - mae: 1.7533 - acc: 0.0072 - val_loss: 8.0308 - val_mae: 2.2413 - val_acc: 0.0108\n",
      "Epoch 211/500\n",
      "276/276 [==============================] - 0s 57us/step - loss: 4.8731 - mae: 1.7425 - acc: 0.0109 - val_loss: 8.0328 - val_mae: 2.2319 - val_acc: 0.0215\n",
      "Epoch 212/500\n",
      "276/276 [==============================] - 0s 0us/step - loss: 4.8551 - mae: 1.7441 - acc: 0.0145 - val_loss: 7.9495 - val_mae: 2.2080 - val_acc: 0.0323\n",
      "Epoch 213/500\n",
      "276/276 [==============================] - 0s 0us/step - loss: 4.7828 - mae: 1.7257 - acc: 0.0145 - val_loss: 8.1085 - val_mae: 2.2428 - val_acc: 0.0215\n",
      "Epoch 214/500\n",
      "276/276 [==============================] - 0s 57us/step - loss: 4.7942 - mae: 1.7226 - acc: 0.0145 - val_loss: 8.0552 - val_mae: 2.2243 - val_acc: 0.0323\n",
      "Epoch 215/500\n",
      "276/276 [==============================] - 0s 0us/step - loss: 4.7740 - mae: 1.7263 - acc: 0.0072 - val_loss: 8.1108 - val_mae: 2.2354 - val_acc: 0.0323\n",
      "Epoch 216/500\n",
      "276/276 [==============================] - 0s 57us/step - loss: 4.7079 - mae: 1.7121 - acc: 0.0072 - val_loss: 8.1031 - val_mae: 2.2400 - val_acc: 0.0215\n",
      "Epoch 217/500\n",
      "276/276 [==============================] - 0s 57us/step - loss: 4.7791 - mae: 1.7220 - acc: 0.0181 - val_loss: 7.9544 - val_mae: 2.2088 - val_acc: 0.0430\n",
      "Epoch 218/500\n",
      "276/276 [==============================] - 0s 0us/step - loss: 4.7412 - mae: 1.7166 - acc: 0.0145 - val_loss: 8.0709 - val_mae: 2.2414 - val_acc: 0.0323\n",
      "Epoch 219/500\n",
      "276/276 [==============================] - 0s 0us/step - loss: 4.6877 - mae: 1.7149 - acc: 0.0145 - val_loss: 8.0009 - val_mae: 2.2177 - val_acc: 0.0323\n",
      "Epoch 220/500\n",
      "276/276 [==============================] - 0s 57us/step - loss: 4.6778 - mae: 1.7137 - acc: 0.0145 - val_loss: 7.9954 - val_mae: 2.2200 - val_acc: 0.0323\n",
      "Epoch 221/500\n",
      "276/276 [==============================] - 0s 0us/step - loss: 4.6638 - mae: 1.6994 - acc: 0.0181 - val_loss: 8.0748 - val_mae: 2.2235 - val_acc: 0.0108\n",
      "Epoch 222/500\n",
      "276/276 [==============================] - 0s 0us/step - loss: 4.6360 - mae: 1.6936 - acc: 0.0145 - val_loss: 7.9682 - val_mae: 2.2174 - val_acc: 0.0323\n",
      "Epoch 223/500\n",
      "276/276 [==============================] - 0s 57us/step - loss: 4.6496 - mae: 1.7019 - acc: 0.0145 - val_loss: 7.9148 - val_mae: 2.2157 - val_acc: 0.0323\n",
      "Epoch 224/500\n",
      "276/276 [==============================] - 0s 57us/step - loss: 4.6218 - mae: 1.6971 - acc: 0.0145 - val_loss: 8.0046 - val_mae: 2.2249 - val_acc: 0.0323\n",
      "Epoch 225/500\n",
      "276/276 [==============================] - 0s 0us/step - loss: 4.6519 - mae: 1.6975 - acc: 0.0145 - val_loss: 8.0487 - val_mae: 2.2247 - val_acc: 0.0430\n",
      "Epoch 226/500\n",
      "276/276 [==============================] - 0s 57us/step - loss: 4.6006 - mae: 1.6958 - acc: 0.0109 - val_loss: 8.1032 - val_mae: 2.2583 - val_acc: 0.0323\n",
      "Epoch 227/500\n",
      "276/276 [==============================] - 0s 57us/step - loss: 4.5755 - mae: 1.6940 - acc: 0.0145 - val_loss: 7.8930 - val_mae: 2.1923 - val_acc: 0.0645\n",
      "Epoch 228/500\n",
      "276/276 [==============================] - 0s 0us/step - loss: 4.5634 - mae: 1.6895 - acc: 0.0181 - val_loss: 8.1364 - val_mae: 2.2426 - val_acc: 0.0323\n",
      "Epoch 229/500\n",
      "276/276 [==============================] - 0s 57us/step - loss: 4.5958 - mae: 1.6996 - acc: 0.0109 - val_loss: 8.0867 - val_mae: 2.2312 - val_acc: 0.0323\n",
      "Epoch 230/500\n",
      "276/276 [==============================] - 0s 57us/step - loss: 4.5182 - mae: 1.6807 - acc: 0.0145 - val_loss: 8.1644 - val_mae: 2.2648 - val_acc: 0.0215\n",
      "Epoch 231/500\n",
      "276/276 [==============================] - 0s 0us/step - loss: 4.5283 - mae: 1.6811 - acc: 0.0109 - val_loss: 7.9399 - val_mae: 2.2068 - val_acc: 0.0430\n",
      "Epoch 232/500\n",
      "276/276 [==============================] - 0s 0us/step - loss: 4.5163 - mae: 1.6826 - acc: 0.0217 - val_loss: 7.8787 - val_mae: 2.1979 - val_acc: 0.0323\n",
      "Epoch 233/500\n",
      "276/276 [==============================] - 0s 57us/step - loss: 4.5210 - mae: 1.6766 - acc: 0.0072 - val_loss: 8.0608 - val_mae: 2.2578 - val_acc: 0.0108\n",
      "Epoch 234/500\n",
      "276/276 [==============================] - 0s 0us/step - loss: 4.4657 - mae: 1.6731 - acc: 0.0145 - val_loss: 7.9671 - val_mae: 2.2077 - val_acc: 0.0430\n",
      "Epoch 235/500\n",
      "276/276 [==============================] - 0s 0us/step - loss: 4.4889 - mae: 1.6850 - acc: 0.0145 - val_loss: 8.0509 - val_mae: 2.2314 - val_acc: 0.0323\n",
      "Epoch 236/500\n",
      "276/276 [==============================] - 0s 57us/step - loss: 4.4604 - mae: 1.6676 - acc: 0.0181 - val_loss: 8.2279 - val_mae: 2.2450 - val_acc: 0.0323\n",
      "Epoch 237/500\n",
      "276/276 [==============================] - 0s 57us/step - loss: 4.4582 - mae: 1.6692 - acc: 0.0145 - val_loss: 8.1610 - val_mae: 2.2512 - val_acc: 0.0430\n",
      "Epoch 238/500\n",
      "276/276 [==============================] - 0s 0us/step - loss: 4.4294 - mae: 1.6619 - acc: 0.0145 - val_loss: 8.1635 - val_mae: 2.2496 - val_acc: 0.0215\n",
      "Epoch 239/500\n",
      "276/276 [==============================] - 0s 57us/step - loss: 4.4653 - mae: 1.6741 - acc: 0.0109 - val_loss: 8.0676 - val_mae: 2.2531 - val_acc: 0.0323\n",
      "Epoch 240/500\n",
      "276/276 [==============================] - 0s 57us/step - loss: 4.3876 - mae: 1.6576 - acc: 0.0145 - val_loss: 8.0038 - val_mae: 2.2148 - val_acc: 0.0538\n",
      "Epoch 241/500\n",
      "276/276 [==============================] - 0s 0us/step - loss: 4.4214 - mae: 1.6608 - acc: 0.0145 - val_loss: 8.0308 - val_mae: 2.2315 - val_acc: 0.0215\n",
      "Epoch 242/500\n",
      "276/276 [==============================] - 0s 57us/step - loss: 4.4203 - mae: 1.6601 - acc: 0.0181 - val_loss: 8.1977 - val_mae: 2.2796 - val_acc: 0.0323\n",
      "Epoch 243/500\n",
      "276/276 [==============================] - 0s 57us/step - loss: 4.3647 - mae: 1.6535 - acc: 0.0145 - val_loss: 8.0143 - val_mae: 2.2185 - val_acc: 0.0538\n",
      "Epoch 244/500\n",
      "276/276 [==============================] - 0s 0us/step - loss: 4.3562 - mae: 1.6484 - acc: 0.0181 - val_loss: 8.1113 - val_mae: 2.2415 - val_acc: 0.0538\n",
      "Epoch 245/500\n",
      "276/276 [==============================] - 0s 57us/step - loss: 4.3357 - mae: 1.6487 - acc: 0.0145 - val_loss: 8.1092 - val_mae: 2.2561 - val_acc: 0.0215\n",
      "Epoch 246/500\n",
      "276/276 [==============================] - 0s 57us/step - loss: 4.3391 - mae: 1.6511 - acc: 0.0109 - val_loss: 8.1520 - val_mae: 2.2489 - val_acc: 0.0323\n",
      "Epoch 247/500\n",
      "276/276 [==============================] - 0s 0us/step - loss: 4.2891 - mae: 1.6402 - acc: 0.0145 - val_loss: 8.2644 - val_mae: 2.2654 - val_acc: 0.0323\n",
      "Epoch 248/500\n",
      "276/276 [==============================] - 0s 57us/step - loss: 4.3119 - mae: 1.6428 - acc: 0.0145 - val_loss: 8.2399 - val_mae: 2.2602 - val_acc: 0.0323\n",
      "Epoch 249/500\n",
      "276/276 [==============================] - 0s 57us/step - loss: 4.2896 - mae: 1.6402 - acc: 0.0145 - val_loss: 8.1634 - val_mae: 2.2547 - val_acc: 0.0323\n",
      "Epoch 250/500\n",
      "276/276 [==============================] - 0s 0us/step - loss: 4.2659 - mae: 1.6362 - acc: 0.0145 - val_loss: 8.1057 - val_mae: 2.2479 - val_acc: 0.0323\n",
      "Epoch 251/500\n",
      "276/276 [==============================] - 0s 0us/step - loss: 4.2442 - mae: 1.6297 - acc: 0.0145 - val_loss: 8.1524 - val_mae: 2.2539 - val_acc: 0.0323\n",
      "Epoch 252/500\n",
      "276/276 [==============================] - 0s 57us/step - loss: 4.2719 - mae: 1.6377 - acc: 0.0181 - val_loss: 8.2123 - val_mae: 2.2814 - val_acc: 0.0323\n",
      "Epoch 253/500\n",
      "276/276 [==============================] - 0s 57us/step - loss: 4.2386 - mae: 1.6265 - acc: 0.0181 - val_loss: 8.1024 - val_mae: 2.2319 - val_acc: 0.0538\n",
      "Epoch 254/500\n",
      "276/276 [==============================] - 0s 0us/step - loss: 4.2511 - mae: 1.6276 - acc: 0.0181 - val_loss: 8.0942 - val_mae: 2.2448 - val_acc: 0.0430\n",
      "Epoch 255/500\n",
      "276/276 [==============================] - 0s 57us/step - loss: 4.2587 - mae: 1.6328 - acc: 0.0181 - val_loss: 8.3550 - val_mae: 2.3104 - val_acc: 0.0215\n",
      "Epoch 256/500\n",
      "276/276 [==============================] - 0s 57us/step - loss: 4.2046 - mae: 1.6152 - acc: 0.0181 - val_loss: 8.0689 - val_mae: 2.2245 - val_acc: 0.0538\n",
      "Epoch 257/500\n",
      "276/276 [==============================] - 0s 0us/step - loss: 4.1947 - mae: 1.6209 - acc: 0.0181 - val_loss: 8.1971 - val_mae: 2.2696 - val_acc: 0.0430\n",
      "Epoch 258/500\n",
      "276/276 [==============================] - 0s 57us/step - loss: 4.1648 - mae: 1.6133 - acc: 0.0217 - val_loss: 8.1072 - val_mae: 2.2574 - val_acc: 0.0323\n",
      "Epoch 259/500\n",
      "276/276 [==============================] - 0s 57us/step - loss: 4.2085 - mae: 1.6212 - acc: 0.0217 - val_loss: 8.0614 - val_mae: 2.2295 - val_acc: 0.0430\n",
      "Epoch 260/500\n",
      "276/276 [==============================] - 0s 0us/step - loss: 4.1444 - mae: 1.6113 - acc: 0.0145 - val_loss: 8.1632 - val_mae: 2.2661 - val_acc: 0.0430\n",
      "Epoch 261/500\n",
      "276/276 [==============================] - 0s 80us/step - loss: 4.1640 - mae: 1.6170 - acc: 0.0181 - val_loss: 8.2808 - val_mae: 2.2819 - val_acc: 0.0323\n",
      "Epoch 262/500\n",
      "276/276 [==============================] - 0s 0us/step - loss: 4.1389 - mae: 1.6100 - acc: 0.0145 - val_loss: 8.1596 - val_mae: 2.2584 - val_acc: 0.0430\n",
      "Restoring model weights from the end of the best epoch\n",
      "Epoch 00262: early stopping\n"
     ]
    }
   ],
   "source": [
    "history2 = model2.fit(inputs_train_scaled, outputs_train, epochs=500, validation_split=0.25, callbacks=[earlystop])"
   ]
  },
  {
   "cell_type": "code",
   "execution_count": 48,
   "metadata": {},
   "outputs": [
    {
     "name": "stdout",
     "output_type": "stream",
     "text": [
      "This model evaluates as:\n",
      "* Loss: 14.844749666029408\n",
      "* MAE: 2.69608211517334\n",
      "* Accuracy: 0.0\n"
     ]
    }
   ],
   "source": [
    "evaluate2 = []\n",
    "evaluator(evaluate2, model2)"
   ]
  },
  {
   "cell_type": "code",
   "execution_count": 49,
   "metadata": {},
   "outputs": [
    {
     "name": "stdout",
     "output_type": "stream",
     "text": [
      "This model predicts as:\n",
      "* Predicted Value: 28.076227\n",
      "* Actual value: 26.7\n"
     ]
    },
    {
     "name": "stderr",
     "output_type": "stream",
     "text": [
      "C:\\Users\\Peter McGowan\\Anaconda3\\lib\\site-packages\\ipykernel_launcher.py:3: FutureWarning: Method .as_matrix will be removed in a future version. Use .values instead.\n",
      "  This is separate from the ipykernel package so we can avoid doing imports until\n"
     ]
    }
   ],
   "source": [
    "predict2 = []\n",
    "predictor(predict2, model2)"
   ]
  },
  {
   "cell_type": "markdown",
   "metadata": {},
   "source": [
    "##### Results"
   ]
  },
  {
   "cell_type": "markdown",
   "metadata": {},
   "source": [
    "More accurate than the previous attempt."
   ]
  },
  {
   "cell_type": "markdown",
   "metadata": {},
   "source": [
    "#### Third Attempt - Deepen"
   ]
  },
  {
   "cell_type": "markdown",
   "metadata": {},
   "source": [
    "We will develop the second attempt model and deepen it now by adding another 2 hidden layers."
   ]
  },
  {
   "cell_type": "markdown",
   "metadata": {},
   "source": [
    "##### Construct Model"
   ]
  },
  {
   "cell_type": "code",
   "execution_count": 50,
   "metadata": {
    "scrolled": true
   },
   "outputs": [
    {
     "name": "stdout",
     "output_type": "stream",
     "text": [
      "Model: \"sequential_3\"\n",
      "_________________________________________________________________\n",
      "Layer (type)                 Output Shape              Param #   \n",
      "=================================================================\n",
      "dense_7 (Dense)              (None, 256)               1792      \n",
      "_________________________________________________________________\n",
      "dense_8 (Dense)              (None, 128)               32896     \n",
      "_________________________________________________________________\n",
      "dense_9 (Dense)              (None, 64)                8256      \n",
      "_________________________________________________________________\n",
      "dense_10 (Dense)             (None, 32)                2080      \n",
      "_________________________________________________________________\n",
      "dense_11 (Dense)             (None, 1)                 33        \n",
      "=================================================================\n",
      "Total params: 45,057\n",
      "Trainable params: 45,057\n",
      "Non-trainable params: 0\n",
      "_________________________________________________________________\n"
     ]
    }
   ],
   "source": [
    "model3 = Sequential() \n",
    "\n",
    "model3.add(Dense(units=256, activation='relu', input_dim=6))\n",
    "model3.add(Dense(units=128, activation='relu'))\n",
    "model3.add(Dense(units=64, activation='relu'))\n",
    "model3.add(Dense(units=32, activation='relu'))\n",
    "model3.add(Dense(units=1))\n",
    "\n",
    "model3.compile(loss='mse', optimizer='adam', metrics=['mae', 'acc'])\n",
    "\n",
    "model3.summary()"
   ]
  },
  {
   "cell_type": "markdown",
   "metadata": {},
   "source": [
    "##### Training"
   ]
  },
  {
   "cell_type": "code",
   "execution_count": 51,
   "metadata": {
    "scrolled": true
   },
   "outputs": [
    {
     "name": "stdout",
     "output_type": "stream",
     "text": [
      "Train on 276 samples, validate on 93 samples\n",
      "Epoch 1/500\n",
      "276/276 [==============================] - 0s 622us/step - loss: 431.6107 - mae: 19.7958 - acc: 0.0000e+00 - val_loss: 471.1771 - val_mae: 20.6672 - val_acc: 0.0000e+00\n",
      "Epoch 2/500\n",
      "276/276 [==============================] - 0s 56us/step - loss: 389.7764 - mae: 18.7120 - acc: 0.0000e+00 - val_loss: 398.3474 - val_mae: 18.8494 - val_acc: 0.0000e+00\n",
      "Epoch 3/500\n",
      "276/276 [==============================] - 0s 57us/step - loss: 284.6864 - mae: 15.6498 - acc: 0.0000e+00 - val_loss: 220.6944 - val_mae: 13.6886 - val_acc: 0.0000e+00\n",
      "Epoch 4/500\n",
      "276/276 [==============================] - 0s 57us/step - loss: 102.6175 - mae: 8.6295 - acc: 0.0036 - val_loss: 53.0355 - val_mae: 5.8626 - val_acc: 0.0000e+00\n",
      "Epoch 5/500\n",
      "276/276 [==============================] - 0s 57us/step - loss: 66.7711 - mae: 6.6070 - acc: 0.0036 - val_loss: 49.4656 - val_mae: 5.7956 - val_acc: 0.0000e+00\n",
      "Epoch 6/500\n",
      "276/276 [==============================] - 0s 57us/step - loss: 35.1010 - mae: 4.8285 - acc: 0.0109 - val_loss: 52.4428 - val_mae: 6.1716 - val_acc: 0.0215\n",
      "Epoch 7/500\n",
      "276/276 [==============================] - 0s 57us/step - loss: 33.7929 - mae: 4.7237 - acc: 0.0036 - val_loss: 37.3678 - val_mae: 5.0836 - val_acc: 0.0000e+00\n",
      "Epoch 8/500\n",
      "276/276 [==============================] - 0s 57us/step - loss: 27.0854 - mae: 4.0800 - acc: 0.0036 - val_loss: 32.1268 - val_mae: 4.6996 - val_acc: 0.0108\n",
      "Epoch 9/500\n",
      "276/276 [==============================] - 0s 57us/step - loss: 23.1268 - mae: 3.7397 - acc: 0.0109 - val_loss: 31.6885 - val_mae: 4.6060 - val_acc: 0.0108\n",
      "Epoch 10/500\n",
      "276/276 [==============================] - 0s 57us/step - loss: 22.2823 - mae: 3.6588 - acc: 0.0072 - val_loss: 29.3565 - val_mae: 4.4427 - val_acc: 0.0108\n",
      "Epoch 11/500\n",
      "276/276 [==============================] - 0s 56us/step - loss: 20.4130 - mae: 3.4733 - acc: 0.0145 - val_loss: 26.4600 - val_mae: 4.2582 - val_acc: 0.0108\n",
      "Epoch 12/500\n",
      "276/276 [==============================] - 0s 0us/step - loss: 19.4775 - mae: 3.3639 - acc: 0.0072 - val_loss: 26.0411 - val_mae: 4.2064 - val_acc: 0.0108\n",
      "Epoch 13/500\n",
      "276/276 [==============================] - 0s 0us/step - loss: 18.4871 - mae: 3.2655 - acc: 0.0109 - val_loss: 24.3385 - val_mae: 4.0709 - val_acc: 0.0108\n",
      "Epoch 14/500\n",
      "276/276 [==============================] - 0s 56us/step - loss: 17.6858 - mae: 3.1779 - acc: 0.0145 - val_loss: 23.1237 - val_mae: 3.9721 - val_acc: 0.0108\n",
      "Epoch 15/500\n",
      "276/276 [==============================] - 0s 57us/step - loss: 17.0970 - mae: 3.1019 - acc: 0.0072 - val_loss: 21.8667 - val_mae: 3.8790 - val_acc: 0.0108\n",
      "Epoch 16/500\n",
      "276/276 [==============================] - 0s 57us/step - loss: 16.1170 - mae: 3.0161 - acc: 0.0181 - val_loss: 22.0434 - val_mae: 3.8834 - val_acc: 0.0215\n",
      "Epoch 17/500\n",
      "276/276 [==============================] - 0s 57us/step - loss: 15.8603 - mae: 3.0059 - acc: 0.0145 - val_loss: 20.8229 - val_mae: 3.7879 - val_acc: 0.0108\n",
      "Epoch 18/500\n",
      "276/276 [==============================] - 0s 57us/step - loss: 15.2431 - mae: 2.9481 - acc: 0.0109 - val_loss: 20.3155 - val_mae: 3.7328 - val_acc: 0.0108\n",
      "Epoch 19/500\n",
      "276/276 [==============================] - 0s 57us/step - loss: 14.7075 - mae: 2.9044 - acc: 0.0109 - val_loss: 19.2784 - val_mae: 3.6455 - val_acc: 0.0108\n",
      "Epoch 20/500\n",
      "276/276 [==============================] - 0s 0us/step - loss: 14.0656 - mae: 2.8374 - acc: 0.0145 - val_loss: 18.8193 - val_mae: 3.6028 - val_acc: 0.0108\n",
      "Epoch 21/500\n",
      "276/276 [==============================] - 0s 0us/step - loss: 13.6922 - mae: 2.8000 - acc: 0.0181 - val_loss: 18.4068 - val_mae: 3.5618 - val_acc: 0.0215\n",
      "Epoch 22/500\n",
      "276/276 [==============================] - 0s 57us/step - loss: 13.3284 - mae: 2.7350 - acc: 0.0145 - val_loss: 17.1150 - val_mae: 3.4450 - val_acc: 0.0108\n",
      "Epoch 23/500\n",
      "276/276 [==============================] - 0s 57us/step - loss: 12.7402 - mae: 2.6930 - acc: 0.0145 - val_loss: 16.7154 - val_mae: 3.4018 - val_acc: 0.0108\n",
      "Epoch 24/500\n",
      "276/276 [==============================] - 0s 57us/step - loss: 12.4582 - mae: 2.6825 - acc: 0.0145 - val_loss: 16.3722 - val_mae: 3.3729 - val_acc: 0.0108\n",
      "Epoch 25/500\n",
      "276/276 [==============================] - 0s 73us/step - loss: 11.9172 - mae: 2.6245 - acc: 0.0181 - val_loss: 16.0852 - val_mae: 3.3294 - val_acc: 0.0215\n",
      "Epoch 26/500\n",
      "276/276 [==============================] - 0s 0us/step - loss: 11.5233 - mae: 2.5889 - acc: 0.0181 - val_loss: 15.2076 - val_mae: 3.2452 - val_acc: 0.0108\n",
      "Epoch 27/500\n",
      "276/276 [==============================] - 0s 57us/step - loss: 11.2832 - mae: 2.5563 - acc: 0.0181 - val_loss: 14.8235 - val_mae: 3.2041 - val_acc: 0.0108\n",
      "Epoch 28/500\n",
      "276/276 [==============================] - 0s 57us/step - loss: 10.9722 - mae: 2.5474 - acc: 0.0181 - val_loss: 13.9155 - val_mae: 3.1050 - val_acc: 0.0108\n",
      "Epoch 29/500\n",
      "276/276 [==============================] - 0s 57us/step - loss: 10.4965 - mae: 2.4699 - acc: 0.0181 - val_loss: 13.6209 - val_mae: 3.0607 - val_acc: 0.0108\n",
      "Epoch 30/500\n",
      "276/276 [==============================] - 0s 57us/step - loss: 10.2213 - mae: 2.4539 - acc: 0.0181 - val_loss: 13.1164 - val_mae: 3.0165 - val_acc: 0.0108\n",
      "Epoch 31/500\n",
      "276/276 [==============================] - 0s 57us/step - loss: 10.2885 - mae: 2.4530 - acc: 0.0072 - val_loss: 13.2349 - val_mae: 3.0196 - val_acc: 0.0215\n",
      "Epoch 32/500\n",
      "276/276 [==============================] - 0s 57us/step - loss: 10.6117 - mae: 2.5599 - acc: 0.0145 - val_loss: 12.4467 - val_mae: 2.8979 - val_acc: 0.0215\n",
      "Epoch 33/500\n",
      "276/276 [==============================] - 0s 57us/step - loss: 9.3954 - mae: 2.3594 - acc: 0.0109 - val_loss: 11.9196 - val_mae: 2.8639 - val_acc: 0.0108\n",
      "Epoch 34/500\n",
      "276/276 [==============================] - 0s 0us/step - loss: 9.0900 - mae: 2.3252 - acc: 0.0109 - val_loss: 12.3551 - val_mae: 2.8821 - val_acc: 0.0215\n",
      "Epoch 35/500\n",
      "276/276 [==============================] - 0s 0us/step - loss: 8.6960 - mae: 2.2948 - acc: 0.0109 - val_loss: 11.1318 - val_mae: 2.7526 - val_acc: 0.0108\n",
      "Epoch 36/500\n",
      "276/276 [==============================] - 0s 57us/step - loss: 8.5031 - mae: 2.2670 - acc: 0.0109 - val_loss: 11.1282 - val_mae: 2.7345 - val_acc: 0.0323\n",
      "Epoch 37/500\n",
      "276/276 [==============================] - 0s 0us/step - loss: 8.3056 - mae: 2.2700 - acc: 0.0072 - val_loss: 10.6253 - val_mae: 2.6679 - val_acc: 0.0108\n",
      "Epoch 38/500\n",
      "276/276 [==============================] - 0s 57us/step - loss: 7.8943 - mae: 2.2071 - acc: 0.0145 - val_loss: 10.1877 - val_mae: 2.6067 - val_acc: 0.0215\n",
      "Epoch 39/500\n",
      "276/276 [==============================] - 0s 57us/step - loss: 7.5724 - mae: 2.1642 - acc: 0.0145 - val_loss: 9.9610 - val_mae: 2.5532 - val_acc: 0.0323\n",
      "Epoch 40/500\n",
      "276/276 [==============================] - 0s 61us/step - loss: 7.4476 - mae: 2.1429 - acc: 0.0145 - val_loss: 10.2141 - val_mae: 2.5899 - val_acc: 0.0215\n",
      "Epoch 41/500\n",
      "276/276 [==============================] - 0s 57us/step - loss: 7.1113 - mae: 2.1120 - acc: 0.0145 - val_loss: 9.3409 - val_mae: 2.4710 - val_acc: 0.0215\n",
      "Epoch 42/500\n",
      "276/276 [==============================] - 0s 57us/step - loss: 7.0855 - mae: 2.0888 - acc: 0.0036 - val_loss: 9.3421 - val_mae: 2.4516 - val_acc: 0.0215\n",
      "Epoch 43/500\n",
      "276/276 [==============================] - 0s 57us/step - loss: 6.7953 - mae: 2.0581 - acc: 0.0072 - val_loss: 8.8365 - val_mae: 2.3552 - val_acc: 0.0215\n",
      "Epoch 44/500\n",
      "276/276 [==============================] - 0s 57us/step - loss: 6.7816 - mae: 2.0618 - acc: 0.0181 - val_loss: 8.7047 - val_mae: 2.3238 - val_acc: 0.0323\n",
      "Epoch 45/500\n",
      "276/276 [==============================] - 0s 57us/step - loss: 6.3856 - mae: 1.9752 - acc: 0.0109 - val_loss: 9.2137 - val_mae: 2.4756 - val_acc: 0.0108\n",
      "Epoch 46/500\n",
      "276/276 [==============================] - 0s 57us/step - loss: 6.2452 - mae: 1.9782 - acc: 0.0145 - val_loss: 8.1645 - val_mae: 2.2486 - val_acc: 0.0323\n",
      "Epoch 47/500\n",
      "276/276 [==============================] - 0s 57us/step - loss: 6.0837 - mae: 1.9410 - acc: 0.0109 - val_loss: 8.4439 - val_mae: 2.3437 - val_acc: 0.0108\n",
      "Epoch 48/500\n",
      "276/276 [==============================] - ETA: 0s - loss: 7.2630 - mae: 2.2041 - acc: 0.0000e+0 - 0s 0us/step - loss: 5.8703 - mae: 1.9162 - acc: 0.0217 - val_loss: 8.0792 - val_mae: 2.2355 - val_acc: 0.0215\n",
      "Epoch 49/500\n",
      "276/276 [==============================] - 0s 0us/step - loss: 5.8672 - mae: 1.9137 - acc: 0.0109 - val_loss: 8.3084 - val_mae: 2.3065 - val_acc: 0.0323\n",
      "Epoch 50/500\n",
      "276/276 [==============================] - 0s 0us/step - loss: 6.0078 - mae: 1.9316 - acc: 0.0109 - val_loss: 7.6048 - val_mae: 2.1743 - val_acc: 0.0215\n",
      "Epoch 51/500\n",
      "276/276 [==============================] - 0s 57us/step - loss: 5.5171 - mae: 1.8331 - acc: 0.0145 - val_loss: 7.9253 - val_mae: 2.2616 - val_acc: 0.0323\n",
      "Epoch 52/500\n",
      "276/276 [==============================] - 0s 57us/step - loss: 5.4426 - mae: 1.8353 - acc: 0.0145 - val_loss: 7.9966 - val_mae: 2.2396 - val_acc: 0.0323\n",
      "Epoch 53/500\n",
      "276/276 [==============================] - 0s 57us/step - loss: 5.3193 - mae: 1.8074 - acc: 0.0181 - val_loss: 7.7337 - val_mae: 2.2052 - val_acc: 0.0215\n",
      "Epoch 54/500\n",
      "276/276 [==============================] - 0s 57us/step - loss: 5.3369 - mae: 1.7963 - acc: 0.0145 - val_loss: 7.7235 - val_mae: 2.2010 - val_acc: 0.0323\n",
      "Epoch 55/500\n",
      "276/276 [==============================] - 0s 57us/step - loss: 5.2772 - mae: 1.7994 - acc: 0.0145 - val_loss: 7.9396 - val_mae: 2.2531 - val_acc: 0.0000e+00\n",
      "Epoch 56/500\n",
      "276/276 [==============================] - 0s 57us/step - loss: 5.2566 - mae: 1.8007 - acc: 0.0217 - val_loss: 8.0313 - val_mae: 2.2933 - val_acc: 0.0323\n",
      "Epoch 57/500\n",
      "276/276 [==============================] - 0s 57us/step - loss: 5.0784 - mae: 1.7537 - acc: 0.0217 - val_loss: 7.9002 - val_mae: 2.2205 - val_acc: 0.0323\n",
      "Epoch 58/500\n",
      "276/276 [==============================] - 0s 57us/step - loss: 4.9281 - mae: 1.7334 - acc: 0.0145 - val_loss: 7.3508 - val_mae: 2.1526 - val_acc: 0.0323\n",
      "Epoch 59/500\n",
      "276/276 [==============================] - 0s 57us/step - loss: 5.0120 - mae: 1.7525 - acc: 0.0109 - val_loss: 7.8423 - val_mae: 2.1896 - val_acc: 0.0323\n",
      "Epoch 60/500\n",
      "276/276 [==============================] - 0s 0us/step - loss: 4.7873 - mae: 1.6959 - acc: 0.0290 - val_loss: 7.4737 - val_mae: 2.2056 - val_acc: 0.0215\n",
      "Epoch 61/500\n",
      "276/276 [==============================] - 0s 57us/step - loss: 4.7963 - mae: 1.7238 - acc: 0.0145 - val_loss: 7.9593 - val_mae: 2.3205 - val_acc: 0.0323\n",
      "Epoch 62/500\n",
      "276/276 [==============================] - 0s 0us/step - loss: 4.9734 - mae: 1.7348 - acc: 0.0217 - val_loss: 8.1067 - val_mae: 2.2128 - val_acc: 0.0538\n",
      "Epoch 63/500\n",
      "276/276 [==============================] - 0s 0us/step - loss: 4.6757 - mae: 1.7139 - acc: 0.0217 - val_loss: 7.5843 - val_mae: 2.2313 - val_acc: 0.0215\n",
      "Epoch 64/500\n",
      "276/276 [==============================] - 0s 57us/step - loss: 4.6267 - mae: 1.6834 - acc: 0.0217 - val_loss: 7.4713 - val_mae: 2.1438 - val_acc: 0.0538\n",
      "Epoch 65/500\n",
      "276/276 [==============================] - 0s 57us/step - loss: 4.6036 - mae: 1.6839 - acc: 0.0254 - val_loss: 7.5563 - val_mae: 2.1937 - val_acc: 0.0430\n",
      "Epoch 66/500\n",
      "276/276 [==============================] - 0s 57us/step - loss: 4.5446 - mae: 1.6730 - acc: 0.0181 - val_loss: 7.8214 - val_mae: 2.2369 - val_acc: 0.0323\n",
      "Epoch 67/500\n",
      "276/276 [==============================] - 0s 57us/step - loss: 4.6204 - mae: 1.6641 - acc: 0.0254 - val_loss: 7.1956 - val_mae: 2.1002 - val_acc: 0.0323\n",
      "Epoch 68/500\n",
      "276/276 [==============================] - 0s 57us/step - loss: 4.8484 - mae: 1.7405 - acc: 0.0181 - val_loss: 7.8337 - val_mae: 2.2888 - val_acc: 0.0323\n",
      "Epoch 69/500\n",
      "276/276 [==============================] - 0s 57us/step - loss: 4.4058 - mae: 1.6549 - acc: 0.0254 - val_loss: 7.6040 - val_mae: 2.2125 - val_acc: 0.0430\n",
      "Epoch 70/500\n",
      "276/276 [==============================] - 0s 57us/step - loss: 4.3991 - mae: 1.6348 - acc: 0.0145 - val_loss: 8.1835 - val_mae: 2.2673 - val_acc: 0.0323\n",
      "Epoch 71/500\n",
      "276/276 [==============================] - 0s 57us/step - loss: 4.2918 - mae: 1.6242 - acc: 0.0109 - val_loss: 7.9400 - val_mae: 2.3042 - val_acc: 0.0323\n",
      "Epoch 72/500\n",
      "276/276 [==============================] - 0s 0us/step - loss: 4.5226 - mae: 1.6690 - acc: 0.0254 - val_loss: 8.0582 - val_mae: 2.3130 - val_acc: 0.0430\n",
      "Epoch 73/500\n",
      "276/276 [==============================] - 0s 0us/step - loss: 4.4952 - mae: 1.6459 - acc: 0.0145 - val_loss: 7.6697 - val_mae: 2.2003 - val_acc: 0.0323\n",
      "Epoch 74/500\n",
      "276/276 [==============================] - 0s 0us/step - loss: 4.3093 - mae: 1.6623 - acc: 0.0217 - val_loss: 7.9219 - val_mae: 2.2634 - val_acc: 0.0430\n",
      "Epoch 75/500\n",
      "276/276 [==============================] - 0s 57us/step - loss: 4.2049 - mae: 1.6390 - acc: 0.0181 - val_loss: 7.9212 - val_mae: 2.2897 - val_acc: 0.0430\n",
      "Epoch 76/500\n",
      "276/276 [==============================] - 0s 57us/step - loss: 4.0634 - mae: 1.5641 - acc: 0.0217 - val_loss: 7.6158 - val_mae: 2.2021 - val_acc: 0.0323\n",
      "Epoch 77/500\n",
      "276/276 [==============================] - 0s 57us/step - loss: 4.0350 - mae: 1.5805 - acc: 0.0109 - val_loss: 7.7227 - val_mae: 2.1829 - val_acc: 0.0323\n",
      "Epoch 78/500\n",
      "276/276 [==============================] - 0s 57us/step - loss: 4.2503 - mae: 1.6092 - acc: 0.0290 - val_loss: 7.6920 - val_mae: 2.2310 - val_acc: 0.0430\n",
      "Epoch 79/500\n",
      "276/276 [==============================] - 0s 57us/step - loss: 4.1577 - mae: 1.6139 - acc: 0.0181 - val_loss: 8.0757 - val_mae: 2.3612 - val_acc: 0.0323\n",
      "Epoch 80/500\n",
      "276/276 [==============================] - 0s 57us/step - loss: 4.1802 - mae: 1.5893 - acc: 0.0217 - val_loss: 7.6037 - val_mae: 2.1718 - val_acc: 0.0538\n",
      "Epoch 81/500\n",
      "276/276 [==============================] - 0s 57us/step - loss: 4.1486 - mae: 1.5707 - acc: 0.0217 - val_loss: 8.3590 - val_mae: 2.3113 - val_acc: 0.0215\n",
      "Epoch 82/500\n",
      "276/276 [==============================] - 0s 57us/step - loss: 4.4591 - mae: 1.6533 - acc: 0.0145 - val_loss: 7.9800 - val_mae: 2.3305 - val_acc: 0.0430\n",
      "Epoch 83/500\n",
      "276/276 [==============================] - 0s 57us/step - loss: 4.2516 - mae: 1.6228 - acc: 0.0254 - val_loss: 7.6437 - val_mae: 2.1747 - val_acc: 0.0323\n",
      "Epoch 84/500\n",
      "276/276 [==============================] - 0s 57us/step - loss: 4.1934 - mae: 1.6161 - acc: 0.0290 - val_loss: 8.3619 - val_mae: 2.3269 - val_acc: 0.0215\n",
      "Epoch 85/500\n",
      "276/276 [==============================] - 0s 57us/step - loss: 3.9916 - mae: 1.5549 - acc: 0.0181 - val_loss: 7.7236 - val_mae: 2.2531 - val_acc: 0.0430\n",
      "Epoch 86/500\n",
      "276/276 [==============================] - 0s 57us/step - loss: 3.9339 - mae: 1.5630 - acc: 0.0217 - val_loss: 7.7549 - val_mae: 2.2193 - val_acc: 0.0538\n",
      "Epoch 87/500\n",
      "276/276 [==============================] - 0s 57us/step - loss: 3.7930 - mae: 1.5351 - acc: 0.0145 - val_loss: 8.5476 - val_mae: 2.4062 - val_acc: 0.0538\n",
      "Epoch 88/500\n",
      "276/276 [==============================] - 0s 0us/step - loss: 3.8404 - mae: 1.5306 - acc: 0.0181 - val_loss: 7.8154 - val_mae: 2.2343 - val_acc: 0.0323\n",
      "Epoch 89/500\n",
      "276/276 [==============================] - 0s 0us/step - loss: 4.0562 - mae: 1.5988 - acc: 0.0181 - val_loss: 8.8293 - val_mae: 2.3544 - val_acc: 0.0215\n",
      "Epoch 90/500\n",
      "276/276 [==============================] - 0s 57us/step - loss: 4.2983 - mae: 1.6625 - acc: 0.0217 - val_loss: 8.8736 - val_mae: 2.4798 - val_acc: 0.0430\n",
      "Epoch 91/500\n",
      "276/276 [==============================] - 0s 57us/step - loss: 4.0030 - mae: 1.5264 - acc: 0.0290 - val_loss: 7.5055 - val_mae: 2.1860 - val_acc: 0.0645\n",
      "Epoch 92/500\n",
      "276/276 [==============================] - 0s 57us/step - loss: 3.7857 - mae: 1.5544 - acc: 0.0109 - val_loss: 8.0606 - val_mae: 2.2705 - val_acc: 0.0323\n",
      "Epoch 93/500\n",
      "276/276 [==============================] - 0s 57us/step - loss: 3.5783 - mae: 1.4710 - acc: 0.0217 - val_loss: 7.7673 - val_mae: 2.2088 - val_acc: 0.0538\n",
      "Epoch 94/500\n",
      "276/276 [==============================] - 0s 57us/step - loss: 3.7230 - mae: 1.5178 - acc: 0.0217 - val_loss: 8.3342 - val_mae: 2.3717 - val_acc: 0.0323\n",
      "Epoch 95/500\n",
      "276/276 [==============================] - 0s 57us/step - loss: 3.6502 - mae: 1.5071 - acc: 0.0217 - val_loss: 7.6517 - val_mae: 2.2201 - val_acc: 0.0430\n",
      "Epoch 96/500\n",
      "276/276 [==============================] - 0s 57us/step - loss: 3.9247 - mae: 1.5362 - acc: 0.0181 - val_loss: 7.9184 - val_mae: 2.2809 - val_acc: 0.0430\n",
      "Epoch 97/500\n",
      "276/276 [==============================] - 0s 57us/step - loss: 3.5602 - mae: 1.5049 - acc: 0.0109 - val_loss: 8.9114 - val_mae: 2.3701 - val_acc: 0.0215\n",
      "Restoring model weights from the end of the best epoch\n",
      "Epoch 00097: early stopping\n"
     ]
    }
   ],
   "source": [
    "history3 = model3.fit(inputs_train_scaled, outputs_train, epochs=500, validation_split=0.25, callbacks=[earlystop])"
   ]
  },
  {
   "cell_type": "code",
   "execution_count": 52,
   "metadata": {},
   "outputs": [
    {
     "name": "stdout",
     "output_type": "stream",
     "text": [
      "This model evaluates as:\n",
      "* Loss: 14.801992375363586\n",
      "* MAE: 2.6863021850585938\n",
      "* Accuracy: 0.01075268816202879\n"
     ]
    }
   ],
   "source": [
    "evaluate3 = []\n",
    "evaluator(evaluate3, model3)"
   ]
  },
  {
   "cell_type": "code",
   "execution_count": 53,
   "metadata": {},
   "outputs": [
    {
     "name": "stdout",
     "output_type": "stream",
     "text": [
      "This model predicts as:\n",
      "* Predicted Value: 27.77779\n",
      "* Actual value: 26.7\n"
     ]
    },
    {
     "name": "stderr",
     "output_type": "stream",
     "text": [
      "C:\\Users\\Peter McGowan\\Anaconda3\\lib\\site-packages\\ipykernel_launcher.py:3: FutureWarning: Method .as_matrix will be removed in a future version. Use .values instead.\n",
      "  This is separate from the ipykernel package so we can avoid doing imports until\n"
     ]
    }
   ],
   "source": [
    "predict3 = []\n",
    "predictor(predict3, model3)"
   ]
  },
  {
   "cell_type": "markdown",
   "metadata": {},
   "source": [
    "##### Results"
   ]
  },
  {
   "cell_type": "markdown",
   "metadata": {},
   "source": [
    "Deepening the model by adding another hidden layer has helped to increase the accuracy - therefore we can be reasonably confident that deeping the model is effective. "
   ]
  },
  {
   "cell_type": "markdown",
   "metadata": {},
   "source": [
    "##### Next Section"
   ]
  },
  {
   "cell_type": "code",
   "execution_count": 54,
   "metadata": {},
   "outputs": [
    {
     "name": "stdout",
     "output_type": "stream",
     "text": [
      "dict_keys(['val_loss', 'val_mae', 'val_acc', 'loss', 'mae', 'acc'])\n"
     ]
    }
   ],
   "source": [
    "print(history1.history.keys())"
   ]
  },
  {
   "cell_type": "code",
   "execution_count": 55,
   "metadata": {},
   "outputs": [
    {
     "name": "stdout",
     "output_type": "stream",
     "text": [
      "93/93 [==============================] - 0s 0us/step\n",
      "[14.881394068400065, 2.8289809226989746, 0.01075268816202879]\n",
      "93/93 [==============================] - 0s 0us/step\n",
      "[14.844749666029408, 2.69608211517334, 0.0]\n",
      "93/93 [==============================] - 0s 0us/step\n",
      "[14.801992375363586, 2.6863021850585938, 0.01075268816202879]\n"
     ]
    }
   ],
   "source": [
    "print(model1.evaluate(inputs_test_scaled, outputs_test))\n",
    "print(model2.evaluate(inputs_test_scaled, outputs_test))\n",
    "print(model3.evaluate(inputs_test_scaled, outputs_test))"
   ]
  },
  {
   "cell_type": "code",
   "execution_count": 56,
   "metadata": {},
   "outputs": [
    {
     "data": {
      "text/plain": [
       "[<matplotlib.lines.Line2D at 0x1c8990b05c0>]"
      ]
     },
     "execution_count": 56,
     "metadata": {},
     "output_type": "execute_result"
    },
    {
     "data": {
      "image/png": "[encoded data removed]",
      "text/plain": [
       "<Figure size 1440x360 with 1 Axes>"
      ]
     },
     "metadata": {},
     "output_type": "display_data"
    }
   ],
   "source": [
    "plt.figure(figsize=(20,5))\n",
    "plt.plot(history1.history['loss'], color='r')\n",
    "plt.plot(history2.history['loss'], color='g')\n",
    "plt.plot(history3.history['loss'], color='b')"
   ]
  },
  {
   "cell_type": "markdown",
   "metadata": {},
   "source": [
    "*** adjust the below to output what i want"
   ]
  },
  {
   "cell_type": "markdown",
   "metadata": {},
   "source": [
    "*** https://keras.io/visualization/"
   ]
  },
  {
   "cell_type": "markdown",
   "metadata": {},
   "source": [
    "*** https://www.geeksforgeeks.org/python-pandas-dataframe-keys/"
   ]
  },
  {
   "cell_type": "markdown",
   "metadata": {},
   "source": [
    "*** https://www.tensorflow.org/guide/keras/train_and_evaluate\n",
    "\n",
    "*** https://stats.stackexchange.com/questions/153531/what-is-batch-size-in-neural-network\n",
    "\n",
    "***https://statistics.laerd.com/spss-tutorials/independent-t-test-using-spss-statistics.php\n",
    "\n",
    "*** https://docs.scipy.org/doc/scipy/reference/generated/scipy.stats.shapiro.html\n",
    "\n",
    "*** https://thestatsgeek.com/2013/09/28/the-t-test-and-robustness-to-non-normality/\n",
    "\n",
    "*** https://docs.scipy.org/doc/scipy-0.14.0/reference/generated/scipy.stats.levene.html\n",
    "\n",
    "*** https://www.statisticshowto.datasciencecentral.com/welchs-test-for-unequal-variances/\n",
    "\n",
    "*** https://www.statisticshowto.datasciencecentral.com/normalized/\n"
   ]
  },
  {
   "cell_type": "markdown",
   "metadata": {},
   "source": [
    "*** https://machinelearningmastery.com/how-to-stop-training-deep-neural-networks-at-the-right-time-using-early-stopping/"
   ]
  },
  {
   "cell_type": "markdown",
   "metadata": {},
   "source": [
    "*** https://towardsdatascience.com/activation-functions-and-its-types-which-is-better-a9a5310cc8f"
   ]
  },
  {
   "cell_type": "markdown",
   "metadata": {},
   "source": [
    "*** https://www.dlology.com/blog/quick-notes-on-how-to-choose-optimizer-in-keras/\n",
    "*** https://machinelearningmastery.com/how-to-choose-loss-functions-when-training-deep-learning-neural-networks/\n",
    "*** https://towardsdatascience.com/activation-functions-and-its-types-which-is-better-a9a5310cc8f"
   ]
  },
  {
   "cell_type": "markdown",
   "metadata": {},
   "source": [
    "*** http://benalexkeen.com/feature-scaling-with-scikit-learn/"
   ]
  },
  {
   "cell_type": "markdown",
   "metadata": {},
   "source": [
    "*** https://scikit-learn.org/stable/modules/preprocessing.html\n",
    "*** http://www.faqs.org/faqs/ai-faq/neural-nets/part2/section-16.html"
   ]
  },
  {
   "cell_type": "markdown",
   "metadata": {},
   "source": [
    "### References"
   ]
  },
  {
   "cell_type": "markdown",
   "metadata": {},
   "source": [
    "<a name=\"myfootnote1\">1</a>: Laerd Statistics - Histograms, https://statistics.laerd.com/statistical-guides/understanding-histograms.php  \n",
    "<a name=\"myfootnote2\">2</a>: Mathisonian - KDE, https://mathisonian.github.io/kde/  "
   ]
  }
 ],
 "metadata": {
  "kernelspec": {
   "display_name": "Python 3",
   "language": "python",
   "name": "python3"
  },
  "language_info": {
   "codemirror_mode": {
    "name": "ipython",
    "version": 3
   },
   "file_extension": ".py",
   "mimetype": "text/x-python",
   "name": "python",
   "nbconvert_exporter": "python",
   "pygments_lexer": "ipython3",
   "version": "3.7.3"
  }
 },
 "nbformat": 4,
 "nbformat_minor": 4
}
